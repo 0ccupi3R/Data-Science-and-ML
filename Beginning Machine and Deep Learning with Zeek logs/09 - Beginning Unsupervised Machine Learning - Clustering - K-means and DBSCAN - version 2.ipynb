{
 "cells": [
  {
   "attachments": {},
   "cell_type": "markdown",
   "metadata": {},
   "source": [
    "Author: Nik Alleyne <br>\n",
    "Author Blog: **https://www.securitynik.com** <br>\n",
    "Author GitHub: **github.com/securitynik** <br>\n",
    "\n",
    "Author Books: [  <br>\n",
    "\n",
    "                \"https://www.amazon.ca/Learning-Practicing-Leveraging-Practical-Detection/dp/1731254458/\", \n",
    "                \n",
    "                \"https://www.amazon.ca/Learning-Practicing-Mastering-Network-Forensics/dp/1775383024/\" \n",
    "            ] \n"
   ]
  },
  {
   "cell_type": "code",
   "execution_count": null,
   "metadata": {},
   "outputs": [],
   "source": []
  },
  {
   "attachments": {},
   "cell_type": "markdown",
   "metadata": {},
   "source": [
    "### Why this series?\n",
    "When teaching the SANS SEC595: Applied Data Science and Machine Learning for Cybersecurity Professionals \n",
    "**https://www.sans.org/cyber-security-courses/applied-data-science-machine-learning/** I am always asked,\n",
    "\"Will you be sharing your demo notebooks?\" or \"Can we get a copy of your demo notebooks?\" or ... well you get the point.\n",
    "My answer is always no. Not that I do not want to share, (sharing is caring :-D) , but the demo notebooks \n",
    "by themselves, would not make sense or add real value. Hence, this series! \n",
    "\n",
    "This is my supplemental work, similar to what I would do in the demos but with a lot more details and references.\n"
   ]
  },
  {
   "cell_type": "code",
   "execution_count": null,
   "metadata": {},
   "outputs": [],
   "source": []
  },
  {
   "attachments": {},
   "cell_type": "markdown",
   "metadata": {},
   "source": [
    "## 09 - Beginning Unsupervised Machine Learning - Clustering - K-means and DBSCAN"
   ]
  },
  {
   "cell_type": "code",
   "execution_count": null,
   "metadata": {},
   "outputs": [],
   "source": []
  },
  {
   "attachments": {},
   "cell_type": "markdown",
   "metadata": {},
   "source": [
    "### The series includes the following: <br>\n",
    "01 - Beginning Numpy <br>\n",
    "02 - Beginning Tensorflow  <br>\n",
    "03 - Beginning PyTorch <br>\n",
    "04 - Beginning Pandas <br>\n",
    "05 - Beginning Matplotlib <br>\n",
    "06 - Beginning Data Scaling <br>\n",
    "07 - Beginning Principal Component Analysis (PCA) <br>\n",
    "08 - Beginning Machine Learning Anomaly Detection - Isolation Forest and Local Outlier Factor <br>\n",
    "09 - Beginning Unsupervised Machine Learning - Clustering - K-means and DBSCAN <br>\n",
    "10 - Beginning Supervise Learning - Machine Learning - Logistic Regression, Decision Trees and Metrics <br>\n",
    "11 - Beginning Linear Regression - Machine Learning <br>\n",
    "12 - Beginning Deep Learning - Anomaly Detection with AutoEncoders, Tensorflow <br>\n",
    "13 - Beginning Deep Learning - Anomaly Detection with AutoEncoders, PyTroch <br>\n",
    "14 - Beginning Deep Learning - Linear Regression, Tensorflow <br>\n",
    "15 - Beginning Deep Learning - Linear Regression, PyTorch <br>\n",
    "16 - Beginning Deep Learning - Classification, Tensorflow <br>\n",
    "17 - Beginning Deep Learning - Classification, Pytorch <br>\n",
    "18 - Beginning Deep Learning - Classification - regression - MIMO - Functional API Tensorflow <br> \n",
    "19 - Beginning Deep Learning - Convolution Networks - Tensorflow <br>\n",
    "20 - Beginning Deep Learning - Convolution Networks - PyTorch <br>\n",
    "21 - Beginning Regularization - Early Stopping, Dropout, L2 (Ridge), L1 (Lasso) <br>\n",
    "22 - Beginning Model TFServing <br>\n",
    "\n",
    "But conn.log is not the only log file within Zeek. Let's build some models for DNS and HTTP logs. <br>\n",
    "I choose unsupervised, because there are no labels coming with these data. <br>\n",
    "\n",
    "23 - Continuing Anomaly Learning - Zeek DNS Log - Machine Learning <br>\n",
    "24 - Continuing Unsupervised Learning - Zeek HTTP Log - Machine Learning <br>\n",
    "\n",
    "This was a specific ask by someone in one of my class. <br>\n",
    "25 - Beginning - Reading Executables and Building a Neural Network to make predictions on suspicious vs suspicious  <br><br>\n",
    "\n",
    "With 25 notebooks in this series, it is quite possible there are things I could have or should have done differently.  <br>\n",
    "If you find any thing, you think fits those criteria, drop me a line. <br>\n",
    "\n",
    "If you find this series beneficial, I would greatly appreciate your feedback.\n"
   ]
  },
  {
   "cell_type": "code",
   "execution_count": 4,
   "metadata": {},
   "outputs": [],
   "source": [
    "# import some libraries\n",
    "import pandas as pd\n",
    "import numpy as np\n",
    "import matplotlib.pylab as plt"
   ]
  },
  {
   "cell_type": "code",
   "execution_count": 5,
   "metadata": {},
   "outputs": [
    {
     "data": {
      "text/html": [
       "<div>\n",
       "<style scoped>\n",
       "    .dataframe tbody tr th:only-of-type {\n",
       "        vertical-align: middle;\n",
       "    }\n",
       "\n",
       "    .dataframe tbody tr th {\n",
       "        vertical-align: top;\n",
       "    }\n",
       "\n",
       "    .dataframe thead th {\n",
       "        text-align: right;\n",
       "    }\n",
       "</style>\n",
       "<table border=\"1\" class=\"dataframe\">\n",
       "  <thead>\n",
       "    <tr style=\"text-align: right;\">\n",
       "      <th></th>\n",
       "      <th>id.orig_h</th>\n",
       "      <th>id.orig_p</th>\n",
       "      <th>id.resp_h</th>\n",
       "      <th>id.resp_p</th>\n",
       "      <th>duration</th>\n",
       "      <th>orig_bytes</th>\n",
       "      <th>resp_bytes</th>\n",
       "      <th>orig_pkts</th>\n",
       "      <th>orig_ip_bytes</th>\n",
       "      <th>resp_pkts</th>\n",
       "      <th>resp_ip_bytes</th>\n",
       "    </tr>\n",
       "  </thead>\n",
       "  <tbody>\n",
       "    <tr>\n",
       "      <th>0</th>\n",
       "      <td>127.0.0.1</td>\n",
       "      <td>27762</td>\n",
       "      <td>127.0.0.1</td>\n",
       "      <td>58552</td>\n",
       "      <td>0.000000</td>\n",
       "      <td>0</td>\n",
       "      <td>0</td>\n",
       "      <td>0</td>\n",
       "      <td>0</td>\n",
       "      <td>0</td>\n",
       "      <td>0</td>\n",
       "    </tr>\n",
       "    <tr>\n",
       "      <th>1</th>\n",
       "      <td>192.168.0.4</td>\n",
       "      <td>27761</td>\n",
       "      <td>192.168.0.4</td>\n",
       "      <td>48798</td>\n",
       "      <td>0.000000</td>\n",
       "      <td>0</td>\n",
       "      <td>0</td>\n",
       "      <td>0</td>\n",
       "      <td>0</td>\n",
       "      <td>0</td>\n",
       "      <td>0</td>\n",
       "    </tr>\n",
       "    <tr>\n",
       "      <th>2</th>\n",
       "      <td>192.168.0.4</td>\n",
       "      <td>27761</td>\n",
       "      <td>192.168.0.4</td>\n",
       "      <td>48804</td>\n",
       "      <td>0.000000</td>\n",
       "      <td>0</td>\n",
       "      <td>0</td>\n",
       "      <td>0</td>\n",
       "      <td>0</td>\n",
       "      <td>0</td>\n",
       "      <td>0</td>\n",
       "    </tr>\n",
       "    <tr>\n",
       "      <th>3</th>\n",
       "      <td>127.0.0.1</td>\n",
       "      <td>27762</td>\n",
       "      <td>127.0.0.1</td>\n",
       "      <td>58568</td>\n",
       "      <td>0.000000</td>\n",
       "      <td>0</td>\n",
       "      <td>0</td>\n",
       "      <td>0</td>\n",
       "      <td>0</td>\n",
       "      <td>0</td>\n",
       "      <td>0</td>\n",
       "    </tr>\n",
       "    <tr>\n",
       "      <th>4</th>\n",
       "      <td>192.168.0.4</td>\n",
       "      <td>48786</td>\n",
       "      <td>192.168.0.4</td>\n",
       "      <td>27761</td>\n",
       "      <td>0.000000</td>\n",
       "      <td>0</td>\n",
       "      <td>0</td>\n",
       "      <td>0</td>\n",
       "      <td>0</td>\n",
       "      <td>0</td>\n",
       "      <td>0</td>\n",
       "    </tr>\n",
       "    <tr>\n",
       "      <th>...</th>\n",
       "      <td>...</td>\n",
       "      <td>...</td>\n",
       "      <td>...</td>\n",
       "      <td>...</td>\n",
       "      <td>...</td>\n",
       "      <td>...</td>\n",
       "      <td>...</td>\n",
       "      <td>...</td>\n",
       "      <td>...</td>\n",
       "      <td>...</td>\n",
       "      <td>...</td>\n",
       "    </tr>\n",
       "    <tr>\n",
       "      <th>4430183</th>\n",
       "      <td>192.168.0.21</td>\n",
       "      <td>55757</td>\n",
       "      <td>192.168.0.4</td>\n",
       "      <td>9200</td>\n",
       "      <td>0.000051</td>\n",
       "      <td>0</td>\n",
       "      <td>0</td>\n",
       "      <td>1</td>\n",
       "      <td>52</td>\n",
       "      <td>1</td>\n",
       "      <td>40</td>\n",
       "    </tr>\n",
       "    <tr>\n",
       "      <th>4430184</th>\n",
       "      <td>192.168.0.4</td>\n",
       "      <td>37236</td>\n",
       "      <td>192.168.0.4</td>\n",
       "      <td>9200</td>\n",
       "      <td>0.000023</td>\n",
       "      <td>0</td>\n",
       "      <td>0</td>\n",
       "      <td>0</td>\n",
       "      <td>0</td>\n",
       "      <td>1</td>\n",
       "      <td>40</td>\n",
       "    </tr>\n",
       "    <tr>\n",
       "      <th>4430185</th>\n",
       "      <td>192.168.0.4</td>\n",
       "      <td>37244</td>\n",
       "      <td>192.168.0.4</td>\n",
       "      <td>9200</td>\n",
       "      <td>0.000005</td>\n",
       "      <td>0</td>\n",
       "      <td>0</td>\n",
       "      <td>0</td>\n",
       "      <td>0</td>\n",
       "      <td>1</td>\n",
       "      <td>40</td>\n",
       "    </tr>\n",
       "    <tr>\n",
       "      <th>4430186</th>\n",
       "      <td>192.168.0.4</td>\n",
       "      <td>37246</td>\n",
       "      <td>192.168.0.4</td>\n",
       "      <td>9200</td>\n",
       "      <td>0.000005</td>\n",
       "      <td>0</td>\n",
       "      <td>0</td>\n",
       "      <td>0</td>\n",
       "      <td>0</td>\n",
       "      <td>1</td>\n",
       "      <td>40</td>\n",
       "    </tr>\n",
       "    <tr>\n",
       "      <th>4430187</th>\n",
       "      <td>192.168.0.4</td>\n",
       "      <td>37254</td>\n",
       "      <td>192.168.0.4</td>\n",
       "      <td>9200</td>\n",
       "      <td>0.000005</td>\n",
       "      <td>0</td>\n",
       "      <td>0</td>\n",
       "      <td>0</td>\n",
       "      <td>0</td>\n",
       "      <td>1</td>\n",
       "      <td>40</td>\n",
       "    </tr>\n",
       "  </tbody>\n",
       "</table>\n",
       "<p>4430183 rows × 11 columns</p>\n",
       "</div>"
      ],
      "text/plain": [
       "            id.orig_h  id.orig_p    id.resp_h  id.resp_p  duration   \n",
       "0           127.0.0.1      27762    127.0.0.1      58552  0.000000  \\\n",
       "1         192.168.0.4      27761  192.168.0.4      48798  0.000000   \n",
       "2         192.168.0.4      27761  192.168.0.4      48804  0.000000   \n",
       "3           127.0.0.1      27762    127.0.0.1      58568  0.000000   \n",
       "4         192.168.0.4      48786  192.168.0.4      27761  0.000000   \n",
       "...               ...        ...          ...        ...       ...   \n",
       "4430183  192.168.0.21      55757  192.168.0.4       9200  0.000051   \n",
       "4430184   192.168.0.4      37236  192.168.0.4       9200  0.000023   \n",
       "4430185   192.168.0.4      37244  192.168.0.4       9200  0.000005   \n",
       "4430186   192.168.0.4      37246  192.168.0.4       9200  0.000005   \n",
       "4430187   192.168.0.4      37254  192.168.0.4       9200  0.000005   \n",
       "\n",
       "         orig_bytes  resp_bytes  orig_pkts  orig_ip_bytes  resp_pkts   \n",
       "0                 0           0          0              0          0  \\\n",
       "1                 0           0          0              0          0   \n",
       "2                 0           0          0              0          0   \n",
       "3                 0           0          0              0          0   \n",
       "4                 0           0          0              0          0   \n",
       "...             ...         ...        ...            ...        ...   \n",
       "4430183           0           0          1             52          1   \n",
       "4430184           0           0          0              0          1   \n",
       "4430185           0           0          0              0          1   \n",
       "4430186           0           0          0              0          1   \n",
       "4430187           0           0          0              0          1   \n",
       "\n",
       "         resp_ip_bytes  \n",
       "0                    0  \n",
       "1                    0  \n",
       "2                    0  \n",
       "3                    0  \n",
       "4                    0  \n",
       "...                ...  \n",
       "4430183             40  \n",
       "4430184             40  \n",
       "4430185             40  \n",
       "4430186             40  \n",
       "4430187             40  \n",
       "\n",
       "[4430183 rows x 11 columns]"
      ]
     },
     "execution_count": 5,
     "metadata": {},
     "output_type": "execute_result"
    }
   ],
   "source": [
    "# In the notebooks on Numpy, Pandas, Matplotlib and Scaling\n",
    "#   01 - Beginning Numpy\n",
    "#   04 - Beginning Pandas\n",
    "#   05 - Beginning Matplotlib\n",
    "#   06 - Beginning Data Scaling\n",
    "\n",
    "# we loaded our dataset such as\n",
    "df_conn = pd.read_csv(r'df_conn_cleaned.csv', index_col=0)\n",
    "df_conn"
   ]
  },
  {
   "attachments": {},
   "cell_type": "markdown",
   "metadata": {},
   "source": [
    "This file represents Zeek (formerly Bro) connection log - conn.log`. <br>\n",
    "Zeek is a framework used for Network Security Monitoring.  <br>\n",
    "This entire series is based on using Zeek's data.  <br>\n",
    "The majority of the notebooks use the conn.log <br>\n",
    "You can learn more about Zeek here:\n",
    "   \n",
    "    https://zeek.org/\n",
    "\n",
    "Alternatively, come hang out with us in the:\n",
    "SANS SEC595: Applied Data Science and Machine Learning for Cybersecurity Professionals\n",
    "\n",
    "        https://www.sans.org/cyber-security-courses/applied-data-science-machine-learning/ OR\n",
    "\n",
    "SEC503 SEC503: Network Monitoring and Threat Detection In-Depth\n",
    "\n",
    "        https://www.sans.org/cyber-security-courses/network-monitoring-threat-detection/\n",
    "\n",
    "\n",
    "Here are also some blog posts on using Zeek for security monitoring\n",
    "Installing Zeek: \n",
    "\n",
    "        https://www.securitynik.com/2020/06/installing-zeek-314-on-ubuntu-2004.html\n",
    "\n",
    "Detecting PowerShell Empire Usage: \n",
    "\n",
    "        https://www.securitynik.com/2022/02/powershell-empire-detection-with-zeek.html\n",
    "\n",
    "Detecting Log4J Vulnerability Exploitation: \n",
    "\n",
    "        https://www.securitynik.com/2021/12/continuing-log4shell-zeek-detection.html\n"
   ]
  },
  {
   "cell_type": "code",
   "execution_count": 6,
   "metadata": {},
   "outputs": [
    {
     "data": {
      "text/html": [
       "<div>\n",
       "<style scoped>\n",
       "    .dataframe tbody tr th:only-of-type {\n",
       "        vertical-align: middle;\n",
       "    }\n",
       "\n",
       "    .dataframe tbody tr th {\n",
       "        vertical-align: top;\n",
       "    }\n",
       "\n",
       "    .dataframe thead th {\n",
       "        text-align: right;\n",
       "    }\n",
       "</style>\n",
       "<table border=\"1\" class=\"dataframe\">\n",
       "  <thead>\n",
       "    <tr style=\"text-align: right;\">\n",
       "      <th></th>\n",
       "      <th>id.resp_p</th>\n",
       "      <th>duration</th>\n",
       "      <th>orig_bytes</th>\n",
       "      <th>resp_bytes</th>\n",
       "      <th>orig_pkts</th>\n",
       "      <th>orig_ip_bytes</th>\n",
       "      <th>resp_pkts</th>\n",
       "      <th>resp_ip_bytes</th>\n",
       "    </tr>\n",
       "  </thead>\n",
       "  <tbody>\n",
       "    <tr>\n",
       "      <th>0</th>\n",
       "      <td>58552</td>\n",
       "      <td>0.000000</td>\n",
       "      <td>0</td>\n",
       "      <td>0</td>\n",
       "      <td>0</td>\n",
       "      <td>0</td>\n",
       "      <td>0</td>\n",
       "      <td>0</td>\n",
       "    </tr>\n",
       "    <tr>\n",
       "      <th>1</th>\n",
       "      <td>48798</td>\n",
       "      <td>0.000000</td>\n",
       "      <td>0</td>\n",
       "      <td>0</td>\n",
       "      <td>0</td>\n",
       "      <td>0</td>\n",
       "      <td>0</td>\n",
       "      <td>0</td>\n",
       "    </tr>\n",
       "    <tr>\n",
       "      <th>2</th>\n",
       "      <td>48804</td>\n",
       "      <td>0.000000</td>\n",
       "      <td>0</td>\n",
       "      <td>0</td>\n",
       "      <td>0</td>\n",
       "      <td>0</td>\n",
       "      <td>0</td>\n",
       "      <td>0</td>\n",
       "    </tr>\n",
       "    <tr>\n",
       "      <th>3</th>\n",
       "      <td>58568</td>\n",
       "      <td>0.000000</td>\n",
       "      <td>0</td>\n",
       "      <td>0</td>\n",
       "      <td>0</td>\n",
       "      <td>0</td>\n",
       "      <td>0</td>\n",
       "      <td>0</td>\n",
       "    </tr>\n",
       "    <tr>\n",
       "      <th>4</th>\n",
       "      <td>27761</td>\n",
       "      <td>0.000000</td>\n",
       "      <td>0</td>\n",
       "      <td>0</td>\n",
       "      <td>0</td>\n",
       "      <td>0</td>\n",
       "      <td>0</td>\n",
       "      <td>0</td>\n",
       "    </tr>\n",
       "    <tr>\n",
       "      <th>5</th>\n",
       "      <td>8888</td>\n",
       "      <td>0.053276</td>\n",
       "      <td>208</td>\n",
       "      <td>976</td>\n",
       "      <td>6</td>\n",
       "      <td>528</td>\n",
       "      <td>6</td>\n",
       "      <td>1296</td>\n",
       "    </tr>\n",
       "    <tr>\n",
       "      <th>6</th>\n",
       "      <td>8888</td>\n",
       "      <td>0.383646</td>\n",
       "      <td>227</td>\n",
       "      <td>692369</td>\n",
       "      <td>202</td>\n",
       "      <td>10739</td>\n",
       "      <td>117</td>\n",
       "      <td>240893</td>\n",
       "    </tr>\n",
       "    <tr>\n",
       "      <th>7</th>\n",
       "      <td>8888</td>\n",
       "      <td>0.054294</td>\n",
       "      <td>208</td>\n",
       "      <td>977</td>\n",
       "      <td>6</td>\n",
       "      <td>528</td>\n",
       "      <td>6</td>\n",
       "      <td>1297</td>\n",
       "    </tr>\n",
       "    <tr>\n",
       "      <th>8</th>\n",
       "      <td>8888</td>\n",
       "      <td>0.424980</td>\n",
       "      <td>227</td>\n",
       "      <td>791633</td>\n",
       "      <td>176</td>\n",
       "      <td>9387</td>\n",
       "      <td>174</td>\n",
       "      <td>367737</td>\n",
       "    </tr>\n",
       "    <tr>\n",
       "      <th>9</th>\n",
       "      <td>8888</td>\n",
       "      <td>0.272567</td>\n",
       "      <td>227</td>\n",
       "      <td>406607</td>\n",
       "      <td>171</td>\n",
       "      <td>9127</td>\n",
       "      <td>71</td>\n",
       "      <td>169939</td>\n",
       "    </tr>\n",
       "  </tbody>\n",
       "</table>\n",
       "</div>"
      ],
      "text/plain": [
       "   id.resp_p  duration  orig_bytes  resp_bytes  orig_pkts  orig_ip_bytes   \n",
       "0      58552  0.000000           0           0          0              0  \\\n",
       "1      48798  0.000000           0           0          0              0   \n",
       "2      48804  0.000000           0           0          0              0   \n",
       "3      58568  0.000000           0           0          0              0   \n",
       "4      27761  0.000000           0           0          0              0   \n",
       "5       8888  0.053276         208         976          6            528   \n",
       "6       8888  0.383646         227      692369        202          10739   \n",
       "7       8888  0.054294         208         977          6            528   \n",
       "8       8888  0.424980         227      791633        176           9387   \n",
       "9       8888  0.272567         227      406607        171           9127   \n",
       "\n",
       "   resp_pkts  resp_ip_bytes  \n",
       "0          0              0  \n",
       "1          0              0  \n",
       "2          0              0  \n",
       "3          0              0  \n",
       "4          0              0  \n",
       "5          6           1296  \n",
       "6        117         240893  \n",
       "7          6           1297  \n",
       "8        174         367737  \n",
       "9         71         169939  "
      ]
     },
     "execution_count": 6,
     "metadata": {},
     "output_type": "execute_result"
    }
   ],
   "source": [
    "# Let's drop the IPs and source port columns\n",
    "df_working_copy = df_conn.drop(columns=['id.orig_h', 'id.orig_p', 'id.resp_h'])\n",
    "df_working_copy.head(10)"
   ]
  },
  {
   "cell_type": "code",
   "execution_count": 7,
   "metadata": {},
   "outputs": [],
   "source": [
    "# Before moving to  PCA, let us first standardize our data\n",
    "# We learned about standardization in the scaling notebook  \n",
    "#   06 - Beginning Data Scaling\n",
    "# We will take advantage of sklearn's StandardScaler\n",
    "from sklearn.preprocessing import StandardScaler"
   ]
  },
  {
   "cell_type": "code",
   "execution_count": 8,
   "metadata": {},
   "outputs": [
    {
     "data": {
      "text/plain": [
       "array([[ 7.92392101e+00, -1.96260502e-02, -9.63693774e-04, ...,\n",
       "        -1.40711439e-03, -5.53930943e-03, -7.07216120e-03],\n",
       "       [ 6.33880343e+00, -1.96260502e-02, -9.63693774e-04, ...,\n",
       "        -1.40711439e-03, -5.53930943e-03, -7.07216120e-03],\n",
       "       [ 6.33977849e+00, -1.96260502e-02, -9.63693774e-04, ...,\n",
       "        -1.40711439e-03, -5.53930943e-03, -7.07216120e-03],\n",
       "       ...,\n",
       "       [-9.62474247e-02, -1.96259309e-02, -9.63693774e-04, ...,\n",
       "        -1.40711439e-03, -3.24770481e-03, -6.99327032e-03],\n",
       "       [-9.62474247e-02, -1.96259309e-02, -9.63693774e-04, ...,\n",
       "        -1.40711439e-03, -3.24770481e-03, -6.99327032e-03],\n",
       "       [-9.62474247e-02, -1.96259309e-02, -9.63693774e-04, ...,\n",
       "        -1.40711439e-03, -3.24770481e-03, -6.99327032e-03]])"
      ]
     },
     "execution_count": 8,
     "metadata": {},
     "output_type": "execute_result"
    }
   ],
   "source": [
    "# Scale our dataset\n",
    "# Remember, we fit on the training data and transform on the train, test and or validation data\n",
    "df_conn_scaled = StandardScaler(with_mean=True, with_std=True).fit_transform(df_working_copy)\n",
    "df_conn_scaled"
   ]
  },
  {
   "cell_type": "code",
   "execution_count": 9,
   "metadata": {},
   "outputs": [
    {
     "data": {
      "text/plain": [
       "(4430183, 8)"
      ]
     },
     "execution_count": 9,
     "metadata": {},
     "output_type": "execute_result"
    }
   ],
   "source": [
    "# Confirm the shape of the scaled data\n",
    "df_conn_scaled.shape"
   ]
  },
  {
   "cell_type": "code",
   "execution_count": 10,
   "metadata": {},
   "outputs": [],
   "source": [
    "# Using sklearn PCA instead \n",
    "# https://scikit-learn.org/stable/modules/generated/sklearn.decomposition.PCA.html \n",
    "from sklearn.decomposition import PCA"
   ]
  },
  {
   "cell_type": "code",
   "execution_count": 11,
   "metadata": {},
   "outputs": [
    {
     "data": {
      "text/plain": [
       "array([[-471.53478918, -106.90765016,  418.95331567,  128.44102861,\n",
       "           3.00648232,  -60.3578586 ],\n",
       "       [-175.82214105,  129.89416244, -123.12210194,   65.06650829,\n",
       "         -53.89756649,   18.66583178]])"
      ]
     },
     "execution_count": 11,
     "metadata": {},
     "output_type": "execute_result"
    }
   ],
   "source": [
    "# Let's assume 6 Principal Components is good for this problem\n",
    "#   07 - Beginning Principal Component Analysis (PCA)\n",
    "pca = PCA(n_components=6, random_state=10)\n",
    "\n",
    "# Just like scaling, we fit on the training data, then transform on the training, test and validation data\n",
    "df_conn_pca = pca.fit_transform(df_conn_scaled)\n",
    "\n",
    "# Sample showing two of the transformed data\n",
    "df_conn_pca[:2]"
   ]
  },
  {
   "cell_type": "code",
   "execution_count": 12,
   "metadata": {},
   "outputs": [
    {
     "data": {
      "text/plain": [
       "(4430183, 6)"
      ]
     },
     "execution_count": 12,
     "metadata": {},
     "output_type": "execute_result"
    }
   ],
   "source": [
    "# Confirm the shape of our PCA dataset\n",
    "df_conn_pca.shape"
   ]
  },
  {
   "attachments": {},
   "cell_type": "markdown",
   "metadata": {},
   "source": [
    "With the data now prepared, time to create our first cluster via K-means <br>\n",
    "\n",
    "With K-means, our objective is to partition our samples into clusters. <br>\n",
    "Each observation will be in a cluster, closets to the cluster mean <br>\n",
    "These cluster means are the centroids of the clusters <br>\n",
    "\n",
    "The more challenging part of K-means clustering is finding the right K or right number of clusters. <br>\n",
    "Leveraging your domain knowledge and some intuition, you may be able to determine the best number for K.\n",
    "K-means assumes the data is centered \n",
    " \n",
    "The objective function to be optimized, is the inertia/the Within Cluster Sum of Squares (WCSS) <br>\n",
    "The objective is to minimize this score <br>\n",
    "K-means algorithm aims to find centroids that minimize the inertia / WCSS <br>\n",
    "The inertia represents how internally coherent the clusters are <br>\n",
    "The lower the inertia the better.  <br>\n",
    "Zero is optimal. However, we know that while we want to minimize it, getting to 0 is not the what we want <br>\n",
    "For any machine learning model, if we are able to minimize our objective function to 0,  <br>\n",
    "I'm sure we will have a serious case of overfitting. <br>\n",
    "\n",
    "Note: In high dimensional space, Euclidean distances can suffer from the curse of dimensionality. <br>\n",
    "It is recommended to run dimensionality reduction algorithms, to reduce the dimensions and speed up the processing <br>\n",
    "\n",
    "K-means has 3 steps. <br>\n",
    "&emsp; 1.  Choose the initial centroids <br>\n",
    "&emsp;    There are different approaches to choosing the centroids <br>\n",
    "&emsp;    One way, is to select K samples from the dataset. Where K reflects the number of clusters <br>\n",
    "&emsp;    Another way, is to select samples, based on the probability distribution of points contribution to the overall inertia <br>\n",
    "&emsp;    Keep in mind, how well K-means converge is highly dependent on the initialization of the centroids <br>\n",
    "2.  Assign each samples to its nearest centroid. Remember, the centroid represents the mean <br>\n",
    "3.  Create new centroids by leveraging the mean of the samples assigned to the previous centroids.  <br>\n",
    "&emsp;    The difference between the old and new centroids are computed. <br>\n",
    "\n",
    "The algorithms then repeat steps 2 & 3 until convergence.  <br>\n",
    "Convergence occurs when there is not much movement in the centroids <br>\n",
    "Given enough time, K-means will always converge. <br>\n",
    "\n",
    "There are variants of K-means such as Mini Batch K-means <br>\n",
    "\n",
    "Let's say we ad 5 points with their x and y coordinates <br>\n",
    "\n",
    "Points  <br>\n",
    "----- <br>\n",
    "(2,3) <br>\n",
    "(1,4) <br>\n",
    "(5,3) <br>\n",
    "(2,4) <br>\n",
    "(5,1) <br>\n",
    "\n",
    "We would like to plot these 5 points into 2 clusters <br>\n",
    "\n",
    "Step 1: <br>\n",
    "&emsp;    Initialize the centroids. For this purpose, let's take 2 sample points from our dataset. <br>\n",
    "&emsp;    We choose 2 sample points because we would like to have 2 clusters  <br>\n",
    "&emsp;    centroid_1 = (2,3) and centroid_2 = (1,4) <br>\n",
    "\n",
    "&emsp;    There are other strategies which can be used if you so wish as discussed above. <br>\n",
    "\n",
    "Step 2: <br>\n",
    "&emsp;    Let's figure out which clusters these 5 points should be in, now what we have the initial clusters.  <br>\n",
    "&emsp;    For this, we will use euclidean distance <br>\n",
    "\n",
    "&emsp;        distance = np.sqrt((x2-x1)**2 + ( y2-y1)**2) <br>\n",
    "\n",
    "&emsp;    Using this concept. Finding the distance from  <br>\n",
    "&emsp;    (2,3) - initial centroid AND (2,3) data point <br>\n",
    "\n",
    "&emsp;    cluster_for_(2,3)_from_centroid_1 = np.sqrt((2-2)**2 + (3-3)**2) = 0 - WINNER <br>\n",
    "&emsp;    cluster_for_(2,3)_from_centroid_2 = np.sqrt((2-1)**2 + (3-4)**2) = 1.41 <br>\n",
    "\n",
    "&emsp;    cluster_for_(1,4)_from_centroid_1 = np.sqrt((1-2)**2 + (4-3)**2) = 1.41 <br>\n",
    "&emsp;    cluster_for_(1,4)_from_centroid_2 = np.sqrt((1-1)**2 + (4-4)**2) = 0 - WINNER <br>\n",
    "\n",
    "&emsp;    cluster_for_(5,3)_from_centroid_1 = np.sqrt((5-2)**2 + (3-3)**2) = 3.0 - WINNER <br>\n",
    "&emsp;    cluster_for_(5,3)_from_centroid_2 = np.sqrt((5-1)**2 + (3-4)**2) = 4.12 <br>\n",
    "\n",
    "&emsp;    cluster_for_(2,4)_from_centroid_1 = np.sqrt((2-2)**2 + (5-3)**2) = 2.0  <br>\n",
    "&emsp;    cluster_for_(2,4)_from_centroid_2 = np.sqrt((2-1)**2 + (5-4)**2) = 1.41 - WINNER <br>\n",
    "\n",
    "&emsp;    cluster_for_(5,3)_from_centroid_1 = np.sqrt((5-2)**2 + (1-3)**2) = 3.61 - WINNER <br>\n",
    "&emsp;    cluster_for_(5,3)_from_centroid_2 = np.sqrt((5-1)**2 + (1-4)**2) = 5.0  <br>\n",
    "\n",
    "&emsp;    Points  | init_cluster <br>\n",
    "&emsp;    ------------------------ <br>\n",
    "&emsp;    (2,3)   |       1 <br>\n",
    "&emsp;    (1,4)   |       2 <br>\n",
    "&emsp;    (5,3)   |       1 <br>\n",
    "&emsp;    (2,4)   |       2 <br>\n",
    "&emsp;    (5,1)   |       1 <br>\n",
    "\n",
    "&emsp;    With the above in place, we update the cluster centroids/means <br>\n",
    "\n",
    "Step 3: <br>\n",
    "&emsp;    Calculate the new centroids based on the mean of each points in the clusters <br>\n",
    "&emsp;    For cluster 1, we have: <br>\n",
    "&emsp;        (2,3) <br>\n",
    "&emsp;        (5,3)  <br>\n",
    "&emsp;        (5,1)  <br>\n",
    "&emsp;    -------------- <br>\n",
    "&emsp;    sum=(12,7) <br>\n",
    "&emsp;    -------------- <br>\n",
    "&emsp;    mean=(12/3, 7/3) = (4,2.33) <- New Centroid/mean for cluster 1 <br>\n",
    "\n",
    "&emsp;    For cluster 2, we have: <br>\n",
    "&emsp;        (1,4)  <br>\n",
    "&emsp;        (2,4)  <br>\n",
    "&emsp;    -------------- <br>\n",
    "&emsp;    sum=(3,8) <br>\n",
    "&emsp;    -------------- <br>\n",
    "&emsp;    mean=(3/2, 8/2) = (1.5,4) <- New Centroid/mean for cluster 2 <br>\n",
    "\n",
    "With the new centroids in place, we now repeat the same process.  <br>\n",
    "This process is repeated until there is no meaningful change in the clusters assignments. <br>\n",
    "\n",
    "\n",
    "Additional References and good reads/videos: <br>\n",
    "&emsp;    https://proceedings.neurips.cc/paper/2003/file/234833147b97bb6aed53a8f4f1c7a7d8-Paper.pdf <br>\n",
    "&emsp;    http://www.inference.org.uk/mackay/itprnn/ps/284.292.pdf  <br>\n",
    "&emsp;    https://scikit-learn.org/stable/modules/clustering.html# <br>\n",
    "&emsp;    https://www.youtube.com/watch?v=4b5d3muPQmA <br>\n",
    "&emsp;    https://www.youtube.com/watch?v=_S5tvagaQRU <br>\n",
    "&emsp;    https://www.youtube.com/watch?v=AWKCCK5YHsE <br>\n",
    "&emsp;    https://www.youtube.com/watch?v=0MQEt10e4NM <br>\n",
    "&emsp;    https://www.youtube.com/watch?v=DDbuQ8y05oA <br>\n",
    "&emsp;    https://towardsdatascience.com/k-means-clustering-explained-4528df86a120 <br>\n",
    "&emsp;    https://365datascience.com/tutorials/python-tutorials/k-means-clustering/ <br>\n",
    "&emsp;    https://realpython.com/k-means-clustering-python/ <br>\n"
   ]
  },
  {
   "cell_type": "code",
   "execution_count": null,
   "metadata": {},
   "outputs": [],
   "source": []
  },
  {
   "cell_type": "code",
   "execution_count": 13,
   "metadata": {},
   "outputs": [],
   "source": [
    "# Import our library\n",
    "from sklearn.cluster import KMeans"
   ]
  },
  {
   "cell_type": "code",
   "execution_count": 14,
   "metadata": {},
   "outputs": [
    {
     "data": {
      "text/html": [
       "<style>#sk-container-id-1 {color: black;background-color: white;}#sk-container-id-1 pre{padding: 0;}#sk-container-id-1 div.sk-toggleable {background-color: white;}#sk-container-id-1 label.sk-toggleable__label {cursor: pointer;display: block;width: 100%;margin-bottom: 0;padding: 0.3em;box-sizing: border-box;text-align: center;}#sk-container-id-1 label.sk-toggleable__label-arrow:before {content: \"▸\";float: left;margin-right: 0.25em;color: #696969;}#sk-container-id-1 label.sk-toggleable__label-arrow:hover:before {color: black;}#sk-container-id-1 div.sk-estimator:hover label.sk-toggleable__label-arrow:before {color: black;}#sk-container-id-1 div.sk-toggleable__content {max-height: 0;max-width: 0;overflow: hidden;text-align: left;background-color: #f0f8ff;}#sk-container-id-1 div.sk-toggleable__content pre {margin: 0.2em;color: black;border-radius: 0.25em;background-color: #f0f8ff;}#sk-container-id-1 input.sk-toggleable__control:checked~div.sk-toggleable__content {max-height: 200px;max-width: 100%;overflow: auto;}#sk-container-id-1 input.sk-toggleable__control:checked~label.sk-toggleable__label-arrow:before {content: \"▾\";}#sk-container-id-1 div.sk-estimator input.sk-toggleable__control:checked~label.sk-toggleable__label {background-color: #d4ebff;}#sk-container-id-1 div.sk-label input.sk-toggleable__control:checked~label.sk-toggleable__label {background-color: #d4ebff;}#sk-container-id-1 input.sk-hidden--visually {border: 0;clip: rect(1px 1px 1px 1px);clip: rect(1px, 1px, 1px, 1px);height: 1px;margin: -1px;overflow: hidden;padding: 0;position: absolute;width: 1px;}#sk-container-id-1 div.sk-estimator {font-family: monospace;background-color: #f0f8ff;border: 1px dotted black;border-radius: 0.25em;box-sizing: border-box;margin-bottom: 0.5em;}#sk-container-id-1 div.sk-estimator:hover {background-color: #d4ebff;}#sk-container-id-1 div.sk-parallel-item::after {content: \"\";width: 100%;border-bottom: 1px solid gray;flex-grow: 1;}#sk-container-id-1 div.sk-label:hover label.sk-toggleable__label {background-color: #d4ebff;}#sk-container-id-1 div.sk-serial::before {content: \"\";position: absolute;border-left: 1px solid gray;box-sizing: border-box;top: 0;bottom: 0;left: 50%;z-index: 0;}#sk-container-id-1 div.sk-serial {display: flex;flex-direction: column;align-items: center;background-color: white;padding-right: 0.2em;padding-left: 0.2em;position: relative;}#sk-container-id-1 div.sk-item {position: relative;z-index: 1;}#sk-container-id-1 div.sk-parallel {display: flex;align-items: stretch;justify-content: center;background-color: white;position: relative;}#sk-container-id-1 div.sk-item::before, #sk-container-id-1 div.sk-parallel-item::before {content: \"\";position: absolute;border-left: 1px solid gray;box-sizing: border-box;top: 0;bottom: 0;left: 50%;z-index: -1;}#sk-container-id-1 div.sk-parallel-item {display: flex;flex-direction: column;z-index: 1;position: relative;background-color: white;}#sk-container-id-1 div.sk-parallel-item:first-child::after {align-self: flex-end;width: 50%;}#sk-container-id-1 div.sk-parallel-item:last-child::after {align-self: flex-start;width: 50%;}#sk-container-id-1 div.sk-parallel-item:only-child::after {width: 0;}#sk-container-id-1 div.sk-dashed-wrapped {border: 1px dashed gray;margin: 0 0.4em 0.5em 0.4em;box-sizing: border-box;padding-bottom: 0.4em;background-color: white;}#sk-container-id-1 div.sk-label label {font-family: monospace;font-weight: bold;display: inline-block;line-height: 1.2em;}#sk-container-id-1 div.sk-label-container {text-align: center;}#sk-container-id-1 div.sk-container {/* jupyter's `normalize.less` sets `[hidden] { display: none; }` but bootstrap.min.css set `[hidden] { display: none !important; }` so we also need the `!important` here to be able to override the default hidden behavior on the sphinx rendered scikit-learn.org. See: https://github.com/scikit-learn/scikit-learn/issues/21755 */display: inline-block !important;position: relative;}#sk-container-id-1 div.sk-text-repr-fallback {display: none;}</style><div id=\"sk-container-id-1\" class=\"sk-top-container\"><div class=\"sk-text-repr-fallback\"><pre>KMeans(n_clusters=3, n_init=10, random_state=10)</pre><b>In a Jupyter environment, please rerun this cell to show the HTML representation or trust the notebook. <br />On GitHub, the HTML representation is unable to render, please try loading this page with nbviewer.org.</b></div><div class=\"sk-container\" hidden><div class=\"sk-item\"><div class=\"sk-estimator sk-toggleable\"><input class=\"sk-toggleable__control sk-hidden--visually\" id=\"sk-estimator-id-1\" type=\"checkbox\" checked><label for=\"sk-estimator-id-1\" class=\"sk-toggleable__label sk-toggleable__label-arrow\">KMeans</label><div class=\"sk-toggleable__content\"><pre>KMeans(n_clusters=3, n_init=10, random_state=10)</pre></div></div></div></div></div>"
      ],
      "text/plain": [
       "KMeans(n_clusters=3, n_init=10, random_state=10)"
      ]
     },
     "execution_count": 14,
     "metadata": {},
     "output_type": "execute_result"
    }
   ],
   "source": [
    "# Building our clusters using sklearn's default value for K which is 3\n",
    "# while setting some additional hyperparameters\n",
    "clf_kmeans = KMeans(n_clusters=3, init='k-means++', n_init=10, max_iter=300, random_state=10, algorithm='lloyd')\n",
    "clf_kmeans"
   ]
  },
  {
   "cell_type": "code",
   "execution_count": 15,
   "metadata": {},
   "outputs": [
    {
     "data": {
      "text/html": [
       "<style>#sk-container-id-2 {color: black;background-color: white;}#sk-container-id-2 pre{padding: 0;}#sk-container-id-2 div.sk-toggleable {background-color: white;}#sk-container-id-2 label.sk-toggleable__label {cursor: pointer;display: block;width: 100%;margin-bottom: 0;padding: 0.3em;box-sizing: border-box;text-align: center;}#sk-container-id-2 label.sk-toggleable__label-arrow:before {content: \"▸\";float: left;margin-right: 0.25em;color: #696969;}#sk-container-id-2 label.sk-toggleable__label-arrow:hover:before {color: black;}#sk-container-id-2 div.sk-estimator:hover label.sk-toggleable__label-arrow:before {color: black;}#sk-container-id-2 div.sk-toggleable__content {max-height: 0;max-width: 0;overflow: hidden;text-align: left;background-color: #f0f8ff;}#sk-container-id-2 div.sk-toggleable__content pre {margin: 0.2em;color: black;border-radius: 0.25em;background-color: #f0f8ff;}#sk-container-id-2 input.sk-toggleable__control:checked~div.sk-toggleable__content {max-height: 200px;max-width: 100%;overflow: auto;}#sk-container-id-2 input.sk-toggleable__control:checked~label.sk-toggleable__label-arrow:before {content: \"▾\";}#sk-container-id-2 div.sk-estimator input.sk-toggleable__control:checked~label.sk-toggleable__label {background-color: #d4ebff;}#sk-container-id-2 div.sk-label input.sk-toggleable__control:checked~label.sk-toggleable__label {background-color: #d4ebff;}#sk-container-id-2 input.sk-hidden--visually {border: 0;clip: rect(1px 1px 1px 1px);clip: rect(1px, 1px, 1px, 1px);height: 1px;margin: -1px;overflow: hidden;padding: 0;position: absolute;width: 1px;}#sk-container-id-2 div.sk-estimator {font-family: monospace;background-color: #f0f8ff;border: 1px dotted black;border-radius: 0.25em;box-sizing: border-box;margin-bottom: 0.5em;}#sk-container-id-2 div.sk-estimator:hover {background-color: #d4ebff;}#sk-container-id-2 div.sk-parallel-item::after {content: \"\";width: 100%;border-bottom: 1px solid gray;flex-grow: 1;}#sk-container-id-2 div.sk-label:hover label.sk-toggleable__label {background-color: #d4ebff;}#sk-container-id-2 div.sk-serial::before {content: \"\";position: absolute;border-left: 1px solid gray;box-sizing: border-box;top: 0;bottom: 0;left: 50%;z-index: 0;}#sk-container-id-2 div.sk-serial {display: flex;flex-direction: column;align-items: center;background-color: white;padding-right: 0.2em;padding-left: 0.2em;position: relative;}#sk-container-id-2 div.sk-item {position: relative;z-index: 1;}#sk-container-id-2 div.sk-parallel {display: flex;align-items: stretch;justify-content: center;background-color: white;position: relative;}#sk-container-id-2 div.sk-item::before, #sk-container-id-2 div.sk-parallel-item::before {content: \"\";position: absolute;border-left: 1px solid gray;box-sizing: border-box;top: 0;bottom: 0;left: 50%;z-index: -1;}#sk-container-id-2 div.sk-parallel-item {display: flex;flex-direction: column;z-index: 1;position: relative;background-color: white;}#sk-container-id-2 div.sk-parallel-item:first-child::after {align-self: flex-end;width: 50%;}#sk-container-id-2 div.sk-parallel-item:last-child::after {align-self: flex-start;width: 50%;}#sk-container-id-2 div.sk-parallel-item:only-child::after {width: 0;}#sk-container-id-2 div.sk-dashed-wrapped {border: 1px dashed gray;margin: 0 0.4em 0.5em 0.4em;box-sizing: border-box;padding-bottom: 0.4em;background-color: white;}#sk-container-id-2 div.sk-label label {font-family: monospace;font-weight: bold;display: inline-block;line-height: 1.2em;}#sk-container-id-2 div.sk-label-container {text-align: center;}#sk-container-id-2 div.sk-container {/* jupyter's `normalize.less` sets `[hidden] { display: none; }` but bootstrap.min.css set `[hidden] { display: none !important; }` so we also need the `!important` here to be able to override the default hidden behavior on the sphinx rendered scikit-learn.org. See: https://github.com/scikit-learn/scikit-learn/issues/21755 */display: inline-block !important;position: relative;}#sk-container-id-2 div.sk-text-repr-fallback {display: none;}</style><div id=\"sk-container-id-2\" class=\"sk-top-container\"><div class=\"sk-text-repr-fallback\"><pre>KMeans(n_clusters=3, n_init=10, random_state=10)</pre><b>In a Jupyter environment, please rerun this cell to show the HTML representation or trust the notebook. <br />On GitHub, the HTML representation is unable to render, please try loading this page with nbviewer.org.</b></div><div class=\"sk-container\" hidden><div class=\"sk-item\"><div class=\"sk-estimator sk-toggleable\"><input class=\"sk-toggleable__control sk-hidden--visually\" id=\"sk-estimator-id-2\" type=\"checkbox\" checked><label for=\"sk-estimator-id-2\" class=\"sk-toggleable__label sk-toggleable__label-arrow\">KMeans</label><div class=\"sk-toggleable__content\"><pre>KMeans(n_clusters=3, n_init=10, random_state=10)</pre></div></div></div></div></div>"
      ],
      "text/plain": [
       "KMeans(n_clusters=3, n_init=10, random_state=10)"
      ]
     },
     "execution_count": 15,
     "metadata": {},
     "output_type": "execute_result"
    }
   ],
   "source": [
    "# Fit on our PCA data\n",
    "# Note, once again, I am using the entire dataset.\n",
    "# I'm not looking to make predictions for the future\n",
    "# Just looking to make predictions on what I have here\n",
    "clf_kmeans.fit(df_conn_pca)"
   ]
  },
  {
   "cell_type": "code",
   "execution_count": 16,
   "metadata": {},
   "outputs": [
    {
     "data": {
      "text/plain": [
       "array([0, 0, 0, ..., 0, 0, 0])"
      ]
     },
     "execution_count": 16,
     "metadata": {},
     "output_type": "execute_result"
    }
   ],
   "source": [
    "# Predict on the data and store these predictions\n",
    "kmeans_predictions = clf_kmeans.predict(df_conn_pca)\n",
    "kmeans_predictions"
   ]
  },
  {
   "cell_type": "code",
   "execution_count": 17,
   "metadata": {},
   "outputs": [
    {
     "data": {
      "text/plain": [
       "(array([0, 1, 2]), array([4430175,       2,       6], dtype=int64))"
      ]
     },
     "execution_count": 17,
     "metadata": {},
     "output_type": "execute_result"
    }
   ],
   "source": [
    "# Get the labels\n",
    "np.unique(clf_kmeans.labels_, return_counts=True)"
   ]
  },
  {
   "cell_type": "code",
   "execution_count": 18,
   "metadata": {},
   "outputs": [
    {
     "data": {
      "text/plain": [
       "{0: 4430175, 1: 2, 2: 6}"
      ]
     },
     "execution_count": 18,
     "metadata": {},
     "output_type": "execute_result"
    }
   ],
   "source": [
    "# Get a much better view on the number of the samples in the clusters\n",
    "dict(zip(np.unique(clf_kmeans.labels_, return_counts=True)[0], np.unique(clf_kmeans.labels_, return_counts=True)[1]))"
   ]
  },
  {
   "cell_type": "code",
   "execution_count": 19,
   "metadata": {},
   "outputs": [
    {
     "data": {
      "text/plain": [
       "array([[-5.97566108e-03, -3.57454279e-04,  3.75621883e-04,\n",
       "         1.49191557e-04, -1.85691187e-05, -1.20904131e-04],\n",
       "       [ 8.20719843e+03, -2.24930790e+02,  3.68317999e+02,\n",
       "         1.53292347e+02,  6.05025852e+00, -5.62800787e+01],\n",
       "       [ 1.55402206e+03,  3.31096975e+02, -2.89864470e+02,\n",
       "        -1.01406648e+02,  1.24441730e+01,  9.12568300e+01]])"
      ]
     },
     "execution_count": 19,
     "metadata": {},
     "output_type": "execute_result"
    }
   ],
   "source": [
    "# From above, the majority of items are in cluster 0\n",
    "# We also have clusters with only two items and another with six\n",
    "# Does this mean 1 cluster is good enough for this dataset?\n",
    "# Well if we are looking to find the odd samples or anomalies, one cluster can never be the right choice\n",
    "\n",
    "# Get the cluster centers / centroids\n",
    "clf_kmeans.cluster_centers_"
   ]
  },
  {
   "cell_type": "code",
   "execution_count": 20,
   "metadata": {},
   "outputs": [
    {
     "data": {
      "text/plain": [
       "(3, 6)"
      ]
     },
     "execution_count": 20,
     "metadata": {},
     "output_type": "execute_result"
    }
   ],
   "source": [
    "# Get the shape of our cluster centers\n",
    "# We see 3x6 because we have 3 cluster and 6 features\n",
    "clf_kmeans.cluster_centers_.shape"
   ]
  },
  {
   "cell_type": "code",
   "execution_count": 21,
   "metadata": {},
   "outputs": [
    {
     "data": {
      "text/plain": [
       "0          0\n",
       "1          0\n",
       "2          0\n",
       "3          0\n",
       "4          0\n",
       "          ..\n",
       "4430178    0\n",
       "4430179    0\n",
       "4430180    0\n",
       "4430181    0\n",
       "4430182    0\n",
       "Length: 4430183, dtype: int32"
      ]
     },
     "execution_count": 21,
     "metadata": {},
     "output_type": "execute_result"
    }
   ],
   "source": [
    "# Make a Pandas series out of the labels\n",
    "pd.Series(clf_kmeans.labels_)"
   ]
  },
  {
   "cell_type": "code",
   "execution_count": 22,
   "metadata": {},
   "outputs": [
    {
     "data": {
      "text/html": [
       "<div>\n",
       "<style scoped>\n",
       "    .dataframe tbody tr th:only-of-type {\n",
       "        vertical-align: middle;\n",
       "    }\n",
       "\n",
       "    .dataframe tbody tr th {\n",
       "        vertical-align: top;\n",
       "    }\n",
       "\n",
       "    .dataframe thead th {\n",
       "        text-align: right;\n",
       "    }\n",
       "</style>\n",
       "<table border=\"1\" class=\"dataframe\">\n",
       "  <thead>\n",
       "    <tr style=\"text-align: right;\">\n",
       "      <th></th>\n",
       "      <th>id.orig_h</th>\n",
       "      <th>id.orig_p</th>\n",
       "      <th>id.resp_h</th>\n",
       "      <th>id.resp_p</th>\n",
       "      <th>duration</th>\n",
       "      <th>orig_bytes</th>\n",
       "      <th>resp_bytes</th>\n",
       "      <th>orig_pkts</th>\n",
       "      <th>orig_ip_bytes</th>\n",
       "      <th>resp_pkts</th>\n",
       "      <th>resp_ip_bytes</th>\n",
       "      <th>kmeans_label</th>\n",
       "    </tr>\n",
       "  </thead>\n",
       "  <tbody>\n",
       "    <tr>\n",
       "      <th>0</th>\n",
       "      <td>127.0.0.1</td>\n",
       "      <td>27762</td>\n",
       "      <td>127.0.0.1</td>\n",
       "      <td>58552</td>\n",
       "      <td>0.000000</td>\n",
       "      <td>0</td>\n",
       "      <td>0</td>\n",
       "      <td>0</td>\n",
       "      <td>0</td>\n",
       "      <td>0</td>\n",
       "      <td>0</td>\n",
       "      <td>0</td>\n",
       "    </tr>\n",
       "    <tr>\n",
       "      <th>1</th>\n",
       "      <td>192.168.0.4</td>\n",
       "      <td>27761</td>\n",
       "      <td>192.168.0.4</td>\n",
       "      <td>48798</td>\n",
       "      <td>0.000000</td>\n",
       "      <td>0</td>\n",
       "      <td>0</td>\n",
       "      <td>0</td>\n",
       "      <td>0</td>\n",
       "      <td>0</td>\n",
       "      <td>0</td>\n",
       "      <td>0</td>\n",
       "    </tr>\n",
       "    <tr>\n",
       "      <th>2</th>\n",
       "      <td>192.168.0.4</td>\n",
       "      <td>27761</td>\n",
       "      <td>192.168.0.4</td>\n",
       "      <td>48804</td>\n",
       "      <td>0.000000</td>\n",
       "      <td>0</td>\n",
       "      <td>0</td>\n",
       "      <td>0</td>\n",
       "      <td>0</td>\n",
       "      <td>0</td>\n",
       "      <td>0</td>\n",
       "      <td>0</td>\n",
       "    </tr>\n",
       "    <tr>\n",
       "      <th>3</th>\n",
       "      <td>127.0.0.1</td>\n",
       "      <td>27762</td>\n",
       "      <td>127.0.0.1</td>\n",
       "      <td>58568</td>\n",
       "      <td>0.000000</td>\n",
       "      <td>0</td>\n",
       "      <td>0</td>\n",
       "      <td>0</td>\n",
       "      <td>0</td>\n",
       "      <td>0</td>\n",
       "      <td>0</td>\n",
       "      <td>0</td>\n",
       "    </tr>\n",
       "    <tr>\n",
       "      <th>4</th>\n",
       "      <td>192.168.0.4</td>\n",
       "      <td>48786</td>\n",
       "      <td>192.168.0.4</td>\n",
       "      <td>27761</td>\n",
       "      <td>0.000000</td>\n",
       "      <td>0</td>\n",
       "      <td>0</td>\n",
       "      <td>0</td>\n",
       "      <td>0</td>\n",
       "      <td>0</td>\n",
       "      <td>0</td>\n",
       "      <td>0</td>\n",
       "    </tr>\n",
       "    <tr>\n",
       "      <th>...</th>\n",
       "      <td>...</td>\n",
       "      <td>...</td>\n",
       "      <td>...</td>\n",
       "      <td>...</td>\n",
       "      <td>...</td>\n",
       "      <td>...</td>\n",
       "      <td>...</td>\n",
       "      <td>...</td>\n",
       "      <td>...</td>\n",
       "      <td>...</td>\n",
       "      <td>...</td>\n",
       "      <td>...</td>\n",
       "    </tr>\n",
       "    <tr>\n",
       "      <th>4430183</th>\n",
       "      <td>192.168.0.21</td>\n",
       "      <td>55757</td>\n",
       "      <td>192.168.0.4</td>\n",
       "      <td>9200</td>\n",
       "      <td>0.000051</td>\n",
       "      <td>0</td>\n",
       "      <td>0</td>\n",
       "      <td>1</td>\n",
       "      <td>52</td>\n",
       "      <td>1</td>\n",
       "      <td>40</td>\n",
       "      <td>0</td>\n",
       "    </tr>\n",
       "    <tr>\n",
       "      <th>4430184</th>\n",
       "      <td>192.168.0.4</td>\n",
       "      <td>37236</td>\n",
       "      <td>192.168.0.4</td>\n",
       "      <td>9200</td>\n",
       "      <td>0.000023</td>\n",
       "      <td>0</td>\n",
       "      <td>0</td>\n",
       "      <td>0</td>\n",
       "      <td>0</td>\n",
       "      <td>1</td>\n",
       "      <td>40</td>\n",
       "      <td>0</td>\n",
       "    </tr>\n",
       "    <tr>\n",
       "      <th>4430185</th>\n",
       "      <td>192.168.0.4</td>\n",
       "      <td>37244</td>\n",
       "      <td>192.168.0.4</td>\n",
       "      <td>9200</td>\n",
       "      <td>0.000005</td>\n",
       "      <td>0</td>\n",
       "      <td>0</td>\n",
       "      <td>0</td>\n",
       "      <td>0</td>\n",
       "      <td>1</td>\n",
       "      <td>40</td>\n",
       "      <td>0</td>\n",
       "    </tr>\n",
       "    <tr>\n",
       "      <th>4430186</th>\n",
       "      <td>192.168.0.4</td>\n",
       "      <td>37246</td>\n",
       "      <td>192.168.0.4</td>\n",
       "      <td>9200</td>\n",
       "      <td>0.000005</td>\n",
       "      <td>0</td>\n",
       "      <td>0</td>\n",
       "      <td>0</td>\n",
       "      <td>0</td>\n",
       "      <td>1</td>\n",
       "      <td>40</td>\n",
       "      <td>0</td>\n",
       "    </tr>\n",
       "    <tr>\n",
       "      <th>4430187</th>\n",
       "      <td>192.168.0.4</td>\n",
       "      <td>37254</td>\n",
       "      <td>192.168.0.4</td>\n",
       "      <td>9200</td>\n",
       "      <td>0.000005</td>\n",
       "      <td>0</td>\n",
       "      <td>0</td>\n",
       "      <td>0</td>\n",
       "      <td>0</td>\n",
       "      <td>1</td>\n",
       "      <td>40</td>\n",
       "      <td>0</td>\n",
       "    </tr>\n",
       "  </tbody>\n",
       "</table>\n",
       "<p>4430183 rows × 12 columns</p>\n",
       "</div>"
      ],
      "text/plain": [
       "            id.orig_h  id.orig_p    id.resp_h  id.resp_p  duration   \n",
       "0           127.0.0.1      27762    127.0.0.1      58552  0.000000  \\\n",
       "1         192.168.0.4      27761  192.168.0.4      48798  0.000000   \n",
       "2         192.168.0.4      27761  192.168.0.4      48804  0.000000   \n",
       "3           127.0.0.1      27762    127.0.0.1      58568  0.000000   \n",
       "4         192.168.0.4      48786  192.168.0.4      27761  0.000000   \n",
       "...               ...        ...          ...        ...       ...   \n",
       "4430183  192.168.0.21      55757  192.168.0.4       9200  0.000051   \n",
       "4430184   192.168.0.4      37236  192.168.0.4       9200  0.000023   \n",
       "4430185   192.168.0.4      37244  192.168.0.4       9200  0.000005   \n",
       "4430186   192.168.0.4      37246  192.168.0.4       9200  0.000005   \n",
       "4430187   192.168.0.4      37254  192.168.0.4       9200  0.000005   \n",
       "\n",
       "         orig_bytes  resp_bytes  orig_pkts  orig_ip_bytes  resp_pkts   \n",
       "0                 0           0          0              0          0  \\\n",
       "1                 0           0          0              0          0   \n",
       "2                 0           0          0              0          0   \n",
       "3                 0           0          0              0          0   \n",
       "4                 0           0          0              0          0   \n",
       "...             ...         ...        ...            ...        ...   \n",
       "4430183           0           0          1             52          1   \n",
       "4430184           0           0          0              0          1   \n",
       "4430185           0           0          0              0          1   \n",
       "4430186           0           0          0              0          1   \n",
       "4430187           0           0          0              0          1   \n",
       "\n",
       "         resp_ip_bytes  kmeans_label  \n",
       "0                    0             0  \n",
       "1                    0             0  \n",
       "2                    0             0  \n",
       "3                    0             0  \n",
       "4                    0             0  \n",
       "...                ...           ...  \n",
       "4430183             40             0  \n",
       "4430184             40             0  \n",
       "4430185             40             0  \n",
       "4430186             40             0  \n",
       "4430187             40             0  \n",
       "\n",
       "[4430183 rows x 12 columns]"
      ]
     },
     "execution_count": 22,
     "metadata": {},
     "output_type": "execute_result"
    }
   ],
   "source": [
    "# Let's add the cluster labels we just created above to the dataset\n",
    "df_conn['kmeans_label'] = list(pd.Series(clf_kmeans.labels_))\n",
    "df_conn"
   ]
  },
  {
   "cell_type": "code",
   "execution_count": 23,
   "metadata": {},
   "outputs": [],
   "source": [
    "# Import some libraries to visualize our data\n",
    "from matplotlib import pyplot as plt\n",
    "from sklearn.metrics import silhouette_score"
   ]
  },
  {
   "cell_type": "code",
   "execution_count": 24,
   "metadata": {},
   "outputs": [
    {
     "data": {
      "image/png": "[encoded data removed]",
      "text/plain": [
       "<Figure size 640x480 with 1 Axes>"
      ]
     },
     "metadata": {},
     "output_type": "display_data"
    }
   ],
   "source": [
    "# Plot classes, using two features orig bytes and resp bytes\n",
    "plt.title('Plot of the originator vs responder bytes')\n",
    "plt.scatter(x=df_conn['orig_bytes'], y=df_conn['resp_bytes'], \\\n",
    "            color=[ 'green' if i == 0 else 'blue' if i==1 else 'red' for i in df_conn['kmeans_label']])\n",
    "plt.xlabel('originator bytes')\n",
    "plt.ylabel('responder bytes')\n",
    "plt.show()"
   ]
  },
  {
   "cell_type": "code",
   "execution_count": 25,
   "metadata": {},
   "outputs": [
    {
     "data": {
      "text/plain": [
       "35612103.43629113"
      ]
     },
     "execution_count": 25,
     "metadata": {},
     "output_type": "execute_result"
    }
   ],
   "source": [
    "# Get the within clusters sum of squares\n",
    "clf_kmeans.inertia_"
   ]
  },
  {
   "cell_type": "code",
   "execution_count": 26,
   "metadata": {},
   "outputs": [
    {
     "name": "stdout",
     "output_type": "stream",
     "text": [
      "Run: 0, Cluster No: 1, Current Inertia: 186518767.03281334\n",
      "Run: 1, Cluster No: 2, Current Inertia: 51376579.57490617\n",
      "Run: 2, Cluster No: 3, Current Inertia: 35709710.21293622\n"
     ]
    },
    {
     "data": {
      "text/plain": [
       "[186518767.03281334, 51376579.57490617, 35709710.21293622]"
      ]
     },
     "execution_count": 26,
     "metadata": {},
     "output_type": "execute_result"
    }
   ],
   "source": [
    "# To find an optimal value for K, we can use the elbow method\n",
    "# To use the elbow method, we need to train a number of K-means models\n",
    "# We will then use the Within Cluster Sum of Squares (WCSS) / inertia\n",
    "# To find the right number of K\n",
    "# Reference:\n",
    "#   https://stackoverflow.com/questions/66544288/elbow-method-for-kmeans\n",
    "\n",
    "# First define a list\n",
    "elbow_inertia = []\n",
    "\n",
    "# Now train 3 models\n",
    "for idx, cluster_no in enumerate(range(1, 4, 1)):\n",
    "    kmeans = KMeans(n_clusters=cluster_no, n_init=10).fit(df_conn_pca)\n",
    "    print(f'Run: {idx}, Cluster No: {cluster_no}, Current Inertia: {kmeans.inertia_}')\n",
    "    elbow_inertia.append(kmeans.inertia_)\n",
    "    \n",
    "# Here is the list of inertia for the 3 runs\n",
    "elbow_inertia"
   ]
  },
  {
   "cell_type": "code",
   "execution_count": 27,
   "metadata": {},
   "outputs": [
    {
     "data": {
      "image/png": "[encoded data removed]",
      "text/plain": [
       "<Figure size 640x480 with 1 Axes>"
      ]
     },
     "metadata": {},
     "output_type": "display_data"
    }
   ],
   "source": [
    "# Let's plot the inertia values\n",
    "plt.style.use('ggplot')\n",
    "plt.title('Determing the right number of clusters via elbow method')\n",
    "plt.plot(range(1,4), elbow_inertia, label='Inertia - WCSS')\n",
    "plt.xticks([1, 2, 3], [1, 2, 3])\n",
    "plt.annotate(text='Elbow', xy=(2, 0.5e8), xytext=( 2.5, 1.25e8), arrowprops=dict(facecolor='black') )\n",
    "plt.xlabel('Number of Clusters')\n",
    "plt.ylabel('Inertia')\n",
    "plt.show()"
   ]
  },
  {
   "cell_type": "code",
   "execution_count": 28,
   "metadata": {},
   "outputs": [],
   "source": [
    "# Above, suggest 2 cluster is enough\n",
    "\n",
    "# One of the challenges with K-means is that it responds poorly to clusters which are elongated. \n",
    "# If we look at our scatter plot above, we can see the data seems to be more along a vertical line\n",
    "# Keep in mind, the scatter plot above is only for two particular features\n",
    "# Anyhow, all of that was said to basically say, K-Means may not be the best algorithm for this data as is\n",
    "\n",
    "# At the same time, if we look back at the 3 clusters,\n",
    "# we see most of the points except 8 are in 1 cluster and the other 8 in the other 2 clusters\n",
    "# Maybe 2 clusters are good enough for this problem\n",
    "# Looking at the plot of the points above, we can see the points we may consider anomaly "
   ]
  },
  {
   "cell_type": "code",
   "execution_count": null,
   "metadata": {},
   "outputs": [],
   "source": []
  },
  {
   "attachments": {},
   "cell_type": "markdown",
   "metadata": {},
   "source": [
    "In trying to get the silhouette score on the entire dataset, this took a while <br>\n",
    "Leveraging MiniBatch K-Means <br>\n",
    "Mini Batch is a variant of K-means which looks to reduce the computing needs while optimizing the same objective function <br>\n",
    "Mini batches are subset of the training data samples at each iteration <br>\n",
    "\n",
    "Mini batches converges faster and the quality of the results is only slightly reduced <br>\n",
    "https://scikit-learn.org/stable/modules/generated/sklearn.cluster.MiniBatchKMeans.html#sklearn.cluster.MiniBatchKMeans <br>\n"
   ]
  },
  {
   "cell_type": "code",
   "execution_count": 29,
   "metadata": {},
   "outputs": [],
   "source": [
    "# Import the needed library\n",
    "from sklearn.cluster import MiniBatchKMeans"
   ]
  },
  {
   "cell_type": "code",
   "execution_count": 30,
   "metadata": {},
   "outputs": [
    {
     "data": {
      "text/plain": [
       "0.6147225115854655"
      ]
     },
     "execution_count": 30,
     "metadata": {},
     "output_type": "execute_result"
    }
   ],
   "source": [
    "# Leet's look at the silhouette scores\n",
    "# The higher silhouette scores relates to a model with better defined clusters\n",
    "# Using 10,000 records\n",
    "# Reference:\n",
    "#   https://stackoverflow.com/questions/19197715/scikit-learn-k-means-elbow-criterion\n",
    "#   https://scikit-learn.org/stable/modules/clustering.html#silhouette-coefficient \n",
    "\n",
    "kmeans_model = MiniBatchKMeans(n_clusters=3, n_init=10, random_state=1).partial_fit(df_conn_pca[:10000])\n",
    "labels = kmeans_model.labels_\n",
    "silhouette_score(df_conn_pca[:10000], labels, metric='euclidean')"
   ]
  },
  {
   "cell_type": "code",
   "execution_count": 31,
   "metadata": {},
   "outputs": [
    {
     "name": "stdout",
     "output_type": "stream",
     "text": [
      "For n_clusters=2, The Silhouette Coefficient is 0.7306466925945416\n",
      "For n_clusters=3, The Silhouette Coefficient is 0.6149571079850245\n"
     ]
    }
   ],
   "source": [
    "# Looking at the score for 2 & 3 clusters, using a subset of the data\n",
    "# Below shows two silhouette scores, for 2 and 3 clusters.\n",
    "# Keep in mind the higher score is better. However, this is only for a subset of the data\n",
    "\n",
    "for n_cluster in range(2, 4):\n",
    "    kmeans = MiniBatchKMeans(n_clusters=n_cluster, n_init=10).partial_fit(df_conn_pca[:10000])\n",
    "    label = kmeans.labels_\n",
    "    sil_coeff = silhouette_score(df_conn_pca[:10000], label, metric='euclidean')\n",
    "    print(f\"For n_clusters={n_cluster}, The Silhouette Coefficient is {sil_coeff}\")\n"
   ]
  },
  {
   "cell_type": "code",
   "execution_count": null,
   "metadata": {},
   "outputs": [],
   "source": []
  },
  {
   "attachments": {},
   "cell_type": "markdown",
   "metadata": {},
   "source": [
    "# Transition to DBSCAN\n",
    "\n",
    "In the notebook on Machine Learning Anomaly Detection, we used the Local Outlier Factor (algorithm) <br>\n",
    "&emsp; &emsp;   08 - Beginning Machine Learning Anomaly Detection - Isolation Forest and Local Outlier Factor <br>\n",
    "\n",
    "We learned this algorithm focuses on the density of a point relative to its neighbours <br>\n",
    "DBSCAN or Density Based Spacial Clustering of Applications with Noise,  <br>\n",
    "view clusters as areas of high density separated by areas of low density.\n",
    "Clusters found by DBSCAN can be of any shape. K-means on the other hand, assume the clusters are convex in shape.\n",
    "\n",
    "DBSCAN is deterministic. <br>\n",
    "When given the same data, in the same order, it will create the same clusters in the same order. <br>\n",
    "If the order is changed, this can impact the results. <br>\n",
    "\n",
    "In HDBSCAN, there is no longer border points. Only core points are considered to be part of a cluster at any time. <br>\n",
    "Border points belonging to more than one clusters are assigned to only one of them <br>\n",
    "\n",
    "DBSCAN has 3 main points <br>\n",
    "1. &emsp; Core Points <br>\n",
    "&emsp; The core samples or core points, are the points which are in areas of high density <br>\n",
    "&emsp; A cluster is made up of a set of core samples, each close to each other using some type of distance measurement <br>\n",
    "&emsp; A Core sample is defined as a sample, where the min_samples in the eps (radius) exist. <br>\n",
    "&emsp; This implies the core sample is in a dense space <br>\n",
    "&emsp; A Cluster is made up of a set of core samples, that can be built by recursively by taking a core sample,  <br>\n",
    "&emsp; finding its neighbours that are core samples and repeating the process <br>\n",
    "&emsp; All core samples are part of a cluster <br>\n",
    "\n",
    "2. &emsp; Border Points <br>\n",
    "&emsp; These are close to the core samples but are non-core samples <br>\n",
    "&emsp; These are on the fringes of the cluster <br>\n",
    "\n",
    "3.&emsp; Noise Points <br>\n",
    "&emsp; Neither a core nor boundary point <br>\n",
    "&emsp; For our purpose, the noise points we will considered as our anomalies <br>\n",
    "\n",
    "To use DBSCAN we need to specify two hyperparameters.  <br>\n",
    "1. &emsp; eps - radius. <br>\n",
    "&emsp;This represents how wide the neighbourhood is <br>\n",
    "&emsp;Consider this the maximum distance between two samples for them to be considered as neighbors <br>\n",
    "&emsp;It is crucial that this value is appropriately chosen for our dataset and the distance function <br>\n",
    "&emsp;This should not be left to the default value <br>\n",
    "&emsp;When chosen too small most data will not be clustered and will be flagged as noise (-1) <br>\n",
    "&emsp;When chosen too large, it causes close clusters to merge into one cluster.  <br>\n",
    "&emsp;This may result in the entire dataset being one cluster <br>\n",
    "    \n",
    "&emsp;epsilon <br>\n",
    "&emsp;Should be set as small as possible <br>\n",
    "&emsp;This also depends on the distance function <br>\n",
    "&emsp;Having knowledge about the domain, is helpful in deciding on epsilon <br>\n",
    "\n",
    "2.&emsp;minPtss - min_samples <br>\n",
    "&emsp;This represents the minimum number of samples in the neighbourhood <br>\n",
    "&emsp;Objects with more than minPts neighbors within the radius are considered as core points <br>\n",
    "&emsp;Keep in mind, this value also include the point itself. <br>\n",
    "\n",
    "&emsp;For 2 dimensional data, the minPts 4 is a good default. <br>\n",
    "&emsp;For high dimensional data, it is recommended to set this to twice the dataset dimension (2 * minPts) <br>\n",
    "\n",
    "References: <br>\n",
    "https://scikit-learn.org/stable/modules/clustering.html#dbscan <br>\n",
    "https://www.ccs.neu.edu/home/vip/teach/DMcourse/2_cluster_EM_mixt/notes_slides/revisitofrevisitDBSCAN.pdf <br>\n"
   ]
  },
  {
   "cell_type": "code",
   "execution_count": null,
   "metadata": {},
   "outputs": [],
   "source": []
  },
  {
   "cell_type": "code",
   "execution_count": 32,
   "metadata": {},
   "outputs": [],
   "source": [
    "# import the libraries\n",
    "from sklearn.cluster import DBSCAN"
   ]
  },
  {
   "cell_type": "code",
   "execution_count": 33,
   "metadata": {},
   "outputs": [
    {
     "data": {
      "text/html": [
       "<style>#sk-container-id-3 {color: black;background-color: white;}#sk-container-id-3 pre{padding: 0;}#sk-container-id-3 div.sk-toggleable {background-color: white;}#sk-container-id-3 label.sk-toggleable__label {cursor: pointer;display: block;width: 100%;margin-bottom: 0;padding: 0.3em;box-sizing: border-box;text-align: center;}#sk-container-id-3 label.sk-toggleable__label-arrow:before {content: \"▸\";float: left;margin-right: 0.25em;color: #696969;}#sk-container-id-3 label.sk-toggleable__label-arrow:hover:before {color: black;}#sk-container-id-3 div.sk-estimator:hover label.sk-toggleable__label-arrow:before {color: black;}#sk-container-id-3 div.sk-toggleable__content {max-height: 0;max-width: 0;overflow: hidden;text-align: left;background-color: #f0f8ff;}#sk-container-id-3 div.sk-toggleable__content pre {margin: 0.2em;color: black;border-radius: 0.25em;background-color: #f0f8ff;}#sk-container-id-3 input.sk-toggleable__control:checked~div.sk-toggleable__content {max-height: 200px;max-width: 100%;overflow: auto;}#sk-container-id-3 input.sk-toggleable__control:checked~label.sk-toggleable__label-arrow:before {content: \"▾\";}#sk-container-id-3 div.sk-estimator input.sk-toggleable__control:checked~label.sk-toggleable__label {background-color: #d4ebff;}#sk-container-id-3 div.sk-label input.sk-toggleable__control:checked~label.sk-toggleable__label {background-color: #d4ebff;}#sk-container-id-3 input.sk-hidden--visually {border: 0;clip: rect(1px 1px 1px 1px);clip: rect(1px, 1px, 1px, 1px);height: 1px;margin: -1px;overflow: hidden;padding: 0;position: absolute;width: 1px;}#sk-container-id-3 div.sk-estimator {font-family: monospace;background-color: #f0f8ff;border: 1px dotted black;border-radius: 0.25em;box-sizing: border-box;margin-bottom: 0.5em;}#sk-container-id-3 div.sk-estimator:hover {background-color: #d4ebff;}#sk-container-id-3 div.sk-parallel-item::after {content: \"\";width: 100%;border-bottom: 1px solid gray;flex-grow: 1;}#sk-container-id-3 div.sk-label:hover label.sk-toggleable__label {background-color: #d4ebff;}#sk-container-id-3 div.sk-serial::before {content: \"\";position: absolute;border-left: 1px solid gray;box-sizing: border-box;top: 0;bottom: 0;left: 50%;z-index: 0;}#sk-container-id-3 div.sk-serial {display: flex;flex-direction: column;align-items: center;background-color: white;padding-right: 0.2em;padding-left: 0.2em;position: relative;}#sk-container-id-3 div.sk-item {position: relative;z-index: 1;}#sk-container-id-3 div.sk-parallel {display: flex;align-items: stretch;justify-content: center;background-color: white;position: relative;}#sk-container-id-3 div.sk-item::before, #sk-container-id-3 div.sk-parallel-item::before {content: \"\";position: absolute;border-left: 1px solid gray;box-sizing: border-box;top: 0;bottom: 0;left: 50%;z-index: -1;}#sk-container-id-3 div.sk-parallel-item {display: flex;flex-direction: column;z-index: 1;position: relative;background-color: white;}#sk-container-id-3 div.sk-parallel-item:first-child::after {align-self: flex-end;width: 50%;}#sk-container-id-3 div.sk-parallel-item:last-child::after {align-self: flex-start;width: 50%;}#sk-container-id-3 div.sk-parallel-item:only-child::after {width: 0;}#sk-container-id-3 div.sk-dashed-wrapped {border: 1px dashed gray;margin: 0 0.4em 0.5em 0.4em;box-sizing: border-box;padding-bottom: 0.4em;background-color: white;}#sk-container-id-3 div.sk-label label {font-family: monospace;font-weight: bold;display: inline-block;line-height: 1.2em;}#sk-container-id-3 div.sk-label-container {text-align: center;}#sk-container-id-3 div.sk-container {/* jupyter's `normalize.less` sets `[hidden] { display: none; }` but bootstrap.min.css set `[hidden] { display: none !important; }` so we also need the `!important` here to be able to override the default hidden behavior on the sphinx rendered scikit-learn.org. See: https://github.com/scikit-learn/scikit-learn/issues/21755 */display: inline-block !important;position: relative;}#sk-container-id-3 div.sk-text-repr-fallback {display: none;}</style><div id=\"sk-container-id-3\" class=\"sk-top-container\"><div class=\"sk-text-repr-fallback\"><pre>DBSCAN(eps=3, min_samples=8, n_jobs=-1)</pre><b>In a Jupyter environment, please rerun this cell to show the HTML representation or trust the notebook. <br />On GitHub, the HTML representation is unable to render, please try loading this page with nbviewer.org.</b></div><div class=\"sk-container\" hidden><div class=\"sk-item\"><div class=\"sk-estimator sk-toggleable\"><input class=\"sk-toggleable__control sk-hidden--visually\" id=\"sk-estimator-id-3\" type=\"checkbox\" checked><label for=\"sk-estimator-id-3\" class=\"sk-toggleable__label sk-toggleable__label-arrow\">DBSCAN</label><div class=\"sk-toggleable__content\"><pre>DBSCAN(eps=3, min_samples=8, n_jobs=-1)</pre></div></div></div></div></div>"
      ],
      "text/plain": [
       "DBSCAN(eps=3, min_samples=8, n_jobs=-1)"
      ]
     },
     "execution_count": 33,
     "metadata": {},
     "output_type": "execute_result"
    }
   ],
   "source": [
    "# Setup DBSCAN using the default eps and 8 minimum samples\n",
    "# Train the algorithm on the data\n",
    "# Trying to train on the entire dataset, was not possible on my system.\n",
    "# Hence I took the first 20,000 records\n",
    "clf_dbscan = DBSCAN(eps=3, min_samples=8, n_jobs=-1, metric='euclidean', algorithm='auto').fit(df_conn_pca[:20000])\n",
    "clf_dbscan"
   ]
  },
  {
   "cell_type": "code",
   "execution_count": 34,
   "metadata": {},
   "outputs": [
    {
     "data": {
      "text/plain": [
       "array([-1, -1, -1, ...,  0,  0,  0], dtype=int64)"
      ]
     },
     "execution_count": 34,
     "metadata": {},
     "output_type": "execute_result"
    }
   ],
   "source": [
    "# Get the labels for the first 20K records\n",
    "clf_dbscan.labels_"
   ]
  },
  {
   "cell_type": "code",
   "execution_count": 35,
   "metadata": {},
   "outputs": [
    {
     "data": {
      "text/plain": [
       "(array([-1,  0], dtype=int64), array([   17, 19983], dtype=int64))"
      ]
     },
     "execution_count": 35,
     "metadata": {},
     "output_type": "execute_result"
    }
   ],
   "source": [
    "# Get the unique clusters\n",
    "np.unique(clf_dbscan.labels_, return_counts=True)"
   ]
  },
  {
   "cell_type": "code",
   "execution_count": 36,
   "metadata": {},
   "outputs": [
    {
     "data": {
      "text/html": [
       "<div>\n",
       "<style scoped>\n",
       "    .dataframe tbody tr th:only-of-type {\n",
       "        vertical-align: middle;\n",
       "    }\n",
       "\n",
       "    .dataframe tbody tr th {\n",
       "        vertical-align: top;\n",
       "    }\n",
       "\n",
       "    .dataframe thead th {\n",
       "        text-align: right;\n",
       "    }\n",
       "</style>\n",
       "<table border=\"1\" class=\"dataframe\">\n",
       "  <thead>\n",
       "    <tr style=\"text-align: right;\">\n",
       "      <th></th>\n",
       "      <th>id.orig_h</th>\n",
       "      <th>id.orig_p</th>\n",
       "      <th>id.resp_h</th>\n",
       "      <th>id.resp_p</th>\n",
       "      <th>duration</th>\n",
       "      <th>orig_bytes</th>\n",
       "      <th>resp_bytes</th>\n",
       "      <th>orig_pkts</th>\n",
       "      <th>orig_ip_bytes</th>\n",
       "      <th>resp_pkts</th>\n",
       "      <th>resp_ip_bytes</th>\n",
       "      <th>kmeans_label</th>\n",
       "    </tr>\n",
       "  </thead>\n",
       "  <tbody>\n",
       "    <tr>\n",
       "      <th>0</th>\n",
       "      <td>127.0.0.1</td>\n",
       "      <td>27762</td>\n",
       "      <td>127.0.0.1</td>\n",
       "      <td>58552</td>\n",
       "      <td>0.000000</td>\n",
       "      <td>0</td>\n",
       "      <td>0</td>\n",
       "      <td>0</td>\n",
       "      <td>0</td>\n",
       "      <td>0</td>\n",
       "      <td>0</td>\n",
       "      <td>0</td>\n",
       "    </tr>\n",
       "    <tr>\n",
       "      <th>1</th>\n",
       "      <td>192.168.0.4</td>\n",
       "      <td>27761</td>\n",
       "      <td>192.168.0.4</td>\n",
       "      <td>48798</td>\n",
       "      <td>0.000000</td>\n",
       "      <td>0</td>\n",
       "      <td>0</td>\n",
       "      <td>0</td>\n",
       "      <td>0</td>\n",
       "      <td>0</td>\n",
       "      <td>0</td>\n",
       "      <td>0</td>\n",
       "    </tr>\n",
       "    <tr>\n",
       "      <th>2</th>\n",
       "      <td>192.168.0.4</td>\n",
       "      <td>27761</td>\n",
       "      <td>192.168.0.4</td>\n",
       "      <td>48804</td>\n",
       "      <td>0.000000</td>\n",
       "      <td>0</td>\n",
       "      <td>0</td>\n",
       "      <td>0</td>\n",
       "      <td>0</td>\n",
       "      <td>0</td>\n",
       "      <td>0</td>\n",
       "      <td>0</td>\n",
       "    </tr>\n",
       "    <tr>\n",
       "      <th>3</th>\n",
       "      <td>127.0.0.1</td>\n",
       "      <td>27762</td>\n",
       "      <td>127.0.0.1</td>\n",
       "      <td>58568</td>\n",
       "      <td>0.000000</td>\n",
       "      <td>0</td>\n",
       "      <td>0</td>\n",
       "      <td>0</td>\n",
       "      <td>0</td>\n",
       "      <td>0</td>\n",
       "      <td>0</td>\n",
       "      <td>0</td>\n",
       "    </tr>\n",
       "    <tr>\n",
       "      <th>4</th>\n",
       "      <td>192.168.0.4</td>\n",
       "      <td>48786</td>\n",
       "      <td>192.168.0.4</td>\n",
       "      <td>27761</td>\n",
       "      <td>0.000000</td>\n",
       "      <td>0</td>\n",
       "      <td>0</td>\n",
       "      <td>0</td>\n",
       "      <td>0</td>\n",
       "      <td>0</td>\n",
       "      <td>0</td>\n",
       "      <td>0</td>\n",
       "    </tr>\n",
       "    <tr>\n",
       "      <th>...</th>\n",
       "      <td>...</td>\n",
       "      <td>...</td>\n",
       "      <td>...</td>\n",
       "      <td>...</td>\n",
       "      <td>...</td>\n",
       "      <td>...</td>\n",
       "      <td>...</td>\n",
       "      <td>...</td>\n",
       "      <td>...</td>\n",
       "      <td>...</td>\n",
       "      <td>...</td>\n",
       "      <td>...</td>\n",
       "    </tr>\n",
       "    <tr>\n",
       "      <th>19995</th>\n",
       "      <td>192.168.0.31</td>\n",
       "      <td>61123</td>\n",
       "      <td>192.168.0.4</td>\n",
       "      <td>80</td>\n",
       "      <td>0.000074</td>\n",
       "      <td>0</td>\n",
       "      <td>0</td>\n",
       "      <td>1</td>\n",
       "      <td>52</td>\n",
       "      <td>1</td>\n",
       "      <td>40</td>\n",
       "      <td>0</td>\n",
       "    </tr>\n",
       "    <tr>\n",
       "      <th>19996</th>\n",
       "      <td>192.168.0.31</td>\n",
       "      <td>61127</td>\n",
       "      <td>192.168.0.4</td>\n",
       "      <td>80</td>\n",
       "      <td>0.000064</td>\n",
       "      <td>0</td>\n",
       "      <td>0</td>\n",
       "      <td>1</td>\n",
       "      <td>52</td>\n",
       "      <td>1</td>\n",
       "      <td>40</td>\n",
       "      <td>0</td>\n",
       "    </tr>\n",
       "    <tr>\n",
       "      <th>19997</th>\n",
       "      <td>192.168.0.31</td>\n",
       "      <td>61130</td>\n",
       "      <td>192.168.0.4</td>\n",
       "      <td>80</td>\n",
       "      <td>0.000097</td>\n",
       "      <td>0</td>\n",
       "      <td>0</td>\n",
       "      <td>1</td>\n",
       "      <td>52</td>\n",
       "      <td>1</td>\n",
       "      <td>40</td>\n",
       "      <td>0</td>\n",
       "    </tr>\n",
       "    <tr>\n",
       "      <th>19998</th>\n",
       "      <td>192.168.0.31</td>\n",
       "      <td>61134</td>\n",
       "      <td>192.168.0.4</td>\n",
       "      <td>80</td>\n",
       "      <td>0.000019</td>\n",
       "      <td>0</td>\n",
       "      <td>0</td>\n",
       "      <td>1</td>\n",
       "      <td>52</td>\n",
       "      <td>1</td>\n",
       "      <td>40</td>\n",
       "      <td>0</td>\n",
       "    </tr>\n",
       "    <tr>\n",
       "      <th>19999</th>\n",
       "      <td>192.168.0.31</td>\n",
       "      <td>61131</td>\n",
       "      <td>192.168.0.4</td>\n",
       "      <td>80</td>\n",
       "      <td>0.000105</td>\n",
       "      <td>0</td>\n",
       "      <td>0</td>\n",
       "      <td>1</td>\n",
       "      <td>52</td>\n",
       "      <td>1</td>\n",
       "      <td>40</td>\n",
       "      <td>0</td>\n",
       "    </tr>\n",
       "  </tbody>\n",
       "</table>\n",
       "<p>20000 rows × 12 columns</p>\n",
       "</div>"
      ],
      "text/plain": [
       "          id.orig_h  id.orig_p    id.resp_h  id.resp_p  duration  orig_bytes   \n",
       "0         127.0.0.1      27762    127.0.0.1      58552  0.000000           0  \\\n",
       "1       192.168.0.4      27761  192.168.0.4      48798  0.000000           0   \n",
       "2       192.168.0.4      27761  192.168.0.4      48804  0.000000           0   \n",
       "3         127.0.0.1      27762    127.0.0.1      58568  0.000000           0   \n",
       "4       192.168.0.4      48786  192.168.0.4      27761  0.000000           0   \n",
       "...             ...        ...          ...        ...       ...         ...   \n",
       "19995  192.168.0.31      61123  192.168.0.4         80  0.000074           0   \n",
       "19996  192.168.0.31      61127  192.168.0.4         80  0.000064           0   \n",
       "19997  192.168.0.31      61130  192.168.0.4         80  0.000097           0   \n",
       "19998  192.168.0.31      61134  192.168.0.4         80  0.000019           0   \n",
       "19999  192.168.0.31      61131  192.168.0.4         80  0.000105           0   \n",
       "\n",
       "       resp_bytes  orig_pkts  orig_ip_bytes  resp_pkts  resp_ip_bytes   \n",
       "0               0          0              0          0              0  \\\n",
       "1               0          0              0          0              0   \n",
       "2               0          0              0          0              0   \n",
       "3               0          0              0          0              0   \n",
       "4               0          0              0          0              0   \n",
       "...           ...        ...            ...        ...            ...   \n",
       "19995           0          1             52          1             40   \n",
       "19996           0          1             52          1             40   \n",
       "19997           0          1             52          1             40   \n",
       "19998           0          1             52          1             40   \n",
       "19999           0          1             52          1             40   \n",
       "\n",
       "       kmeans_label  \n",
       "0                 0  \n",
       "1                 0  \n",
       "2                 0  \n",
       "3                 0  \n",
       "4                 0  \n",
       "...             ...  \n",
       "19995             0  \n",
       "19996             0  \n",
       "19997             0  \n",
       "19998             0  \n",
       "19999             0  \n",
       "\n",
       "[20000 rows x 12 columns]"
      ]
     },
     "execution_count": 36,
     "metadata": {},
     "output_type": "execute_result"
    }
   ],
   "source": [
    "# Looks like we have 2 clusters within the first 20K records\n",
    "# Let's extract these records from the dataframe\n",
    "df_conn_20k = df_conn[:20000].copy(deep=True)\n",
    "df_conn_20k"
   ]
  },
  {
   "cell_type": "code",
   "execution_count": 37,
   "metadata": {},
   "outputs": [
    {
     "data": {
      "text/html": [
       "<div>\n",
       "<style scoped>\n",
       "    .dataframe tbody tr th:only-of-type {\n",
       "        vertical-align: middle;\n",
       "    }\n",
       "\n",
       "    .dataframe tbody tr th {\n",
       "        vertical-align: top;\n",
       "    }\n",
       "\n",
       "    .dataframe thead th {\n",
       "        text-align: right;\n",
       "    }\n",
       "</style>\n",
       "<table border=\"1\" class=\"dataframe\">\n",
       "  <thead>\n",
       "    <tr style=\"text-align: right;\">\n",
       "      <th></th>\n",
       "      <th>id.orig_h</th>\n",
       "      <th>id.orig_p</th>\n",
       "      <th>id.resp_h</th>\n",
       "      <th>id.resp_p</th>\n",
       "      <th>duration</th>\n",
       "      <th>orig_bytes</th>\n",
       "      <th>resp_bytes</th>\n",
       "      <th>orig_pkts</th>\n",
       "      <th>orig_ip_bytes</th>\n",
       "      <th>resp_pkts</th>\n",
       "      <th>resp_ip_bytes</th>\n",
       "      <th>kmeans_label</th>\n",
       "      <th>db_labels</th>\n",
       "    </tr>\n",
       "  </thead>\n",
       "  <tbody>\n",
       "    <tr>\n",
       "      <th>0</th>\n",
       "      <td>127.0.0.1</td>\n",
       "      <td>27762</td>\n",
       "      <td>127.0.0.1</td>\n",
       "      <td>58552</td>\n",
       "      <td>0.000000</td>\n",
       "      <td>0</td>\n",
       "      <td>0</td>\n",
       "      <td>0</td>\n",
       "      <td>0</td>\n",
       "      <td>0</td>\n",
       "      <td>0</td>\n",
       "      <td>0</td>\n",
       "      <td>-1</td>\n",
       "    </tr>\n",
       "    <tr>\n",
       "      <th>1</th>\n",
       "      <td>192.168.0.4</td>\n",
       "      <td>27761</td>\n",
       "      <td>192.168.0.4</td>\n",
       "      <td>48798</td>\n",
       "      <td>0.000000</td>\n",
       "      <td>0</td>\n",
       "      <td>0</td>\n",
       "      <td>0</td>\n",
       "      <td>0</td>\n",
       "      <td>0</td>\n",
       "      <td>0</td>\n",
       "      <td>0</td>\n",
       "      <td>-1</td>\n",
       "    </tr>\n",
       "    <tr>\n",
       "      <th>2</th>\n",
       "      <td>192.168.0.4</td>\n",
       "      <td>27761</td>\n",
       "      <td>192.168.0.4</td>\n",
       "      <td>48804</td>\n",
       "      <td>0.000000</td>\n",
       "      <td>0</td>\n",
       "      <td>0</td>\n",
       "      <td>0</td>\n",
       "      <td>0</td>\n",
       "      <td>0</td>\n",
       "      <td>0</td>\n",
       "      <td>0</td>\n",
       "      <td>-1</td>\n",
       "    </tr>\n",
       "    <tr>\n",
       "      <th>3</th>\n",
       "      <td>127.0.0.1</td>\n",
       "      <td>27762</td>\n",
       "      <td>127.0.0.1</td>\n",
       "      <td>58568</td>\n",
       "      <td>0.000000</td>\n",
       "      <td>0</td>\n",
       "      <td>0</td>\n",
       "      <td>0</td>\n",
       "      <td>0</td>\n",
       "      <td>0</td>\n",
       "      <td>0</td>\n",
       "      <td>0</td>\n",
       "      <td>-1</td>\n",
       "    </tr>\n",
       "    <tr>\n",
       "      <th>4</th>\n",
       "      <td>192.168.0.4</td>\n",
       "      <td>48786</td>\n",
       "      <td>192.168.0.4</td>\n",
       "      <td>27761</td>\n",
       "      <td>0.000000</td>\n",
       "      <td>0</td>\n",
       "      <td>0</td>\n",
       "      <td>0</td>\n",
       "      <td>0</td>\n",
       "      <td>0</td>\n",
       "      <td>0</td>\n",
       "      <td>0</td>\n",
       "      <td>-1</td>\n",
       "    </tr>\n",
       "    <tr>\n",
       "      <th>...</th>\n",
       "      <td>...</td>\n",
       "      <td>...</td>\n",
       "      <td>...</td>\n",
       "      <td>...</td>\n",
       "      <td>...</td>\n",
       "      <td>...</td>\n",
       "      <td>...</td>\n",
       "      <td>...</td>\n",
       "      <td>...</td>\n",
       "      <td>...</td>\n",
       "      <td>...</td>\n",
       "      <td>...</td>\n",
       "      <td>...</td>\n",
       "    </tr>\n",
       "    <tr>\n",
       "      <th>19995</th>\n",
       "      <td>192.168.0.31</td>\n",
       "      <td>61123</td>\n",
       "      <td>192.168.0.4</td>\n",
       "      <td>80</td>\n",
       "      <td>0.000074</td>\n",
       "      <td>0</td>\n",
       "      <td>0</td>\n",
       "      <td>1</td>\n",
       "      <td>52</td>\n",
       "      <td>1</td>\n",
       "      <td>40</td>\n",
       "      <td>0</td>\n",
       "      <td>0</td>\n",
       "    </tr>\n",
       "    <tr>\n",
       "      <th>19996</th>\n",
       "      <td>192.168.0.31</td>\n",
       "      <td>61127</td>\n",
       "      <td>192.168.0.4</td>\n",
       "      <td>80</td>\n",
       "      <td>0.000064</td>\n",
       "      <td>0</td>\n",
       "      <td>0</td>\n",
       "      <td>1</td>\n",
       "      <td>52</td>\n",
       "      <td>1</td>\n",
       "      <td>40</td>\n",
       "      <td>0</td>\n",
       "      <td>0</td>\n",
       "    </tr>\n",
       "    <tr>\n",
       "      <th>19997</th>\n",
       "      <td>192.168.0.31</td>\n",
       "      <td>61130</td>\n",
       "      <td>192.168.0.4</td>\n",
       "      <td>80</td>\n",
       "      <td>0.000097</td>\n",
       "      <td>0</td>\n",
       "      <td>0</td>\n",
       "      <td>1</td>\n",
       "      <td>52</td>\n",
       "      <td>1</td>\n",
       "      <td>40</td>\n",
       "      <td>0</td>\n",
       "      <td>0</td>\n",
       "    </tr>\n",
       "    <tr>\n",
       "      <th>19998</th>\n",
       "      <td>192.168.0.31</td>\n",
       "      <td>61134</td>\n",
       "      <td>192.168.0.4</td>\n",
       "      <td>80</td>\n",
       "      <td>0.000019</td>\n",
       "      <td>0</td>\n",
       "      <td>0</td>\n",
       "      <td>1</td>\n",
       "      <td>52</td>\n",
       "      <td>1</td>\n",
       "      <td>40</td>\n",
       "      <td>0</td>\n",
       "      <td>0</td>\n",
       "    </tr>\n",
       "    <tr>\n",
       "      <th>19999</th>\n",
       "      <td>192.168.0.31</td>\n",
       "      <td>61131</td>\n",
       "      <td>192.168.0.4</td>\n",
       "      <td>80</td>\n",
       "      <td>0.000105</td>\n",
       "      <td>0</td>\n",
       "      <td>0</td>\n",
       "      <td>1</td>\n",
       "      <td>52</td>\n",
       "      <td>1</td>\n",
       "      <td>40</td>\n",
       "      <td>0</td>\n",
       "      <td>0</td>\n",
       "    </tr>\n",
       "  </tbody>\n",
       "</table>\n",
       "<p>20000 rows × 13 columns</p>\n",
       "</div>"
      ],
      "text/plain": [
       "          id.orig_h  id.orig_p    id.resp_h  id.resp_p  duration  orig_bytes   \n",
       "0         127.0.0.1      27762    127.0.0.1      58552  0.000000           0  \\\n",
       "1       192.168.0.4      27761  192.168.0.4      48798  0.000000           0   \n",
       "2       192.168.0.4      27761  192.168.0.4      48804  0.000000           0   \n",
       "3         127.0.0.1      27762    127.0.0.1      58568  0.000000           0   \n",
       "4       192.168.0.4      48786  192.168.0.4      27761  0.000000           0   \n",
       "...             ...        ...          ...        ...       ...         ...   \n",
       "19995  192.168.0.31      61123  192.168.0.4         80  0.000074           0   \n",
       "19996  192.168.0.31      61127  192.168.0.4         80  0.000064           0   \n",
       "19997  192.168.0.31      61130  192.168.0.4         80  0.000097           0   \n",
       "19998  192.168.0.31      61134  192.168.0.4         80  0.000019           0   \n",
       "19999  192.168.0.31      61131  192.168.0.4         80  0.000105           0   \n",
       "\n",
       "       resp_bytes  orig_pkts  orig_ip_bytes  resp_pkts  resp_ip_bytes   \n",
       "0               0          0              0          0              0  \\\n",
       "1               0          0              0          0              0   \n",
       "2               0          0              0          0              0   \n",
       "3               0          0              0          0              0   \n",
       "4               0          0              0          0              0   \n",
       "...           ...        ...            ...        ...            ...   \n",
       "19995           0          1             52          1             40   \n",
       "19996           0          1             52          1             40   \n",
       "19997           0          1             52          1             40   \n",
       "19998           0          1             52          1             40   \n",
       "19999           0          1             52          1             40   \n",
       "\n",
       "       kmeans_label  db_labels  \n",
       "0                 0         -1  \n",
       "1                 0         -1  \n",
       "2                 0         -1  \n",
       "3                 0         -1  \n",
       "4                 0         -1  \n",
       "...             ...        ...  \n",
       "19995             0          0  \n",
       "19996             0          0  \n",
       "19997             0          0  \n",
       "19998             0          0  \n",
       "19999             0          0  \n",
       "\n",
       "[20000 rows x 13 columns]"
      ]
     },
     "execution_count": 37,
     "metadata": {},
     "output_type": "execute_result"
    }
   ],
   "source": [
    "# Assign the DBSCAN labels to this 20K\n",
    "df_conn_20k['db_labels'] = pd.Series(list(clf_dbscan.labels_))\n",
    "df_conn_20k\n"
   ]
  },
  {
   "cell_type": "code",
   "execution_count": 38,
   "metadata": {},
   "outputs": [
    {
     "data": {
      "text/plain": [
       "Text(0, 0.5, 'responder bytes')"
      ]
     },
     "execution_count": 38,
     "metadata": {},
     "output_type": "execute_result"
    },
    {
     "data": {
      "image/png": "[encoded data removed]",
      "text/plain": [
       "<Figure size 640x480 with 1 Axes>"
      ]
     },
     "metadata": {},
     "output_type": "display_data"
    }
   ],
   "source": [
    "# Let's run a similar plot, to see what was done above for K-means\n",
    "# This time we are using DBSCAN\n",
    "# This 20K records looks interesting in terms of identification of anomalies\n",
    "plt.title('DBSCAN Plot of the originator vs responder bytes')\n",
    "\n",
    "# Green represents cluster 0, red represents -1 or outliers\n",
    "plt.scatter(x=df_conn_20k['orig_bytes'], y=df_conn_20k['resp_bytes'], \\\n",
    "            color=[ 'green' if i == 0 else 'red' for i in df_conn_20k['db_labels'] ]  )\n",
    "plt.xlabel('originator bytes')\n",
    "plt.ylabel('responder bytes')"
   ]
  },
  {
   "cell_type": "code",
   "execution_count": 39,
   "metadata": {},
   "outputs": [],
   "source": [
    "# We know that DBSCAN has done its thing above. However, how do we know we choose the optimum value for eps\n",
    "# Remember, this is the most important hyperparameter when dealing with DBSCAN\n",
    "# Here is one way for us to figure out the right value for eps\n",
    "# We can use sklearn's nearest neighbors class\n",
    "# Nearest neighbor aims to find training samples closest in distance to new points. \n",
    "# For the samples, it could be a user defined value or based on the density of points   "
   ]
  },
  {
   "cell_type": "code",
   "execution_count": 40,
   "metadata": {},
   "outputs": [],
   "source": [
    "# Import NearestNeighbors\n",
    "# https://scikit-learn.org/stable/modules/generated/sklearn.neighbors.NearestNeighbors.html\n",
    "# This is used by sklearn for neighbor searches\n",
    "from sklearn.neighbors import NearestNeighbors"
   ]
  },
  {
   "cell_type": "code",
   "execution_count": 41,
   "metadata": {},
   "outputs": [
    {
     "data": {
      "text/plain": [
       "array([[-471.53478918, -106.90765016,  418.95331567,  128.44102861,\n",
       "           3.00648232,  -60.3578586 ],\n",
       "       [-175.82214105,  129.89416244, -123.12210194,   65.06650829,\n",
       "         -53.89756649,   18.66583178],\n",
       "       [ 149.90602307,  -44.05251444,   56.97650776,   47.88437365,\n",
       "          24.21290166,   -6.72462509],\n",
       "       [  20.48946059,  -59.05840121,   20.04059462,   17.12933196,\n",
       "          21.61784371,   19.70939633],\n",
       "       [-114.99593928,    5.67512384,   92.36554684,   28.70024063,\n",
       "          -0.97545678,  -18.69622547]])"
      ]
     },
     "execution_count": 41,
     "metadata": {},
     "output_type": "execute_result"
    }
   ],
   "source": [
    "# Revisit the dataset \n",
    "# Looking at the first 5 records\n",
    "df_conn_pca[:5]"
   ]
  },
  {
   "cell_type": "code",
   "execution_count": 92,
   "metadata": {},
   "outputs": [
    {
     "data": {
      "text/plain": [
       "(array([[0.00000000e+00, 3.73992280e+02, 5.08088748e+02, 6.50120153e+02,\n",
       "         6.55311970e+02, 6.71465540e+02, 7.19616234e+02, 7.28685303e+02],\n",
       "        [0.00000000e+00, 2.65371009e+02, 2.66616394e+02, 2.82679556e+02,\n",
       "         3.20528490e+02, 3.97057686e+02, 4.19324384e+02, 6.71465540e+02],\n",
       "        [0.00000000e+00, 1.41384049e+02, 1.73354719e+02, 1.74894299e+02,\n",
       "         2.73941737e+02, 3.83891015e+02, 4.19324384e+02, 7.28685303e+02],\n",
       "        [1.34869915e-06, 7.39062916e+01, 9.93937226e+01, 1.41384049e+02,\n",
       "         1.72907364e+02, 3.20528490e+02, 3.25879772e+02, 6.50120153e+02],\n",
       "        [0.00000000e+00, 1.51514687e+02, 1.72907364e+02, 1.80279256e+02,\n",
       "         2.17307019e+02, 2.66616394e+02, 2.73941737e+02, 5.08088748e+02],\n",
       "        [0.00000000e+00, 6.69308287e+01, 9.93937226e+01, 1.73354719e+02,\n",
       "         2.17307019e+02, 2.82679556e+02, 3.85488478e+02, 7.19616234e+02],\n",
       "        [0.00000000e+00, 1.80279256e+02, 3.18761431e+02, 3.25879772e+02,\n",
       "         3.73992280e+02, 3.83891015e+02, 3.85488478e+02, 3.97057686e+02],\n",
       "        [0.00000000e+00, 6.69308287e+01, 7.39062916e+01, 1.51514687e+02,\n",
       "         1.74894299e+02, 2.65371009e+02, 3.18761431e+02, 6.55311970e+02]]),\n",
       " array([[0, 6, 4, 3, 7, 1, 5, 2],\n",
       "        [1, 7, 4, 5, 3, 6, 2, 0],\n",
       "        [2, 3, 5, 7, 4, 6, 1, 0],\n",
       "        [3, 7, 5, 2, 4, 1, 6, 0],\n",
       "        [4, 7, 3, 6, 5, 1, 2, 0],\n",
       "        [5, 7, 3, 2, 4, 1, 6, 0],\n",
       "        [6, 4, 7, 3, 0, 2, 5, 1],\n",
       "        [7, 5, 3, 4, 2, 1, 6, 0]], dtype=int64))"
      ]
     },
     "execution_count": 92,
     "metadata": {},
     "output_type": "execute_result"
    }
   ],
   "source": [
    "# To find the best value for EPS, let's leverage The Nearest Neighbors\n",
    "# Will use a small sample of the data, just to get an understanding of what is returned from NearestNeighors\n",
    "# Using the first 8 samples, because we specified 8 as our min points\n",
    "# This returns the indices and neighours of each point\n",
    "neighbors = NearestNeighbors(n_neighbors=8, algorithm='auto', n_jobs=-1).fit(X=df_conn_pca[:8])\n",
    "neighbors.kneighbors(X=df_conn_pca[:8], return_distance=True)"
   ]
  },
  {
   "cell_type": "code",
   "execution_count": 93,
   "metadata": {},
   "outputs": [
    {
     "data": {
      "text/plain": [
       "(array([  0.        ,  66.93082872,  73.90629163, 151.51468665,\n",
       "        174.89429923, 265.37100893, 318.7614314 , 655.31197033]),\n",
       " array([7, 5, 3, 4, 2, 1, 6, 0], dtype=int64))"
      ]
     },
     "execution_count": 93,
     "metadata": {},
     "output_type": "execute_result"
    }
   ],
   "source": [
    "# With the above knowledge, let's setup two variables\n",
    "# to store the results\n",
    "# Just picking on sample 7\n",
    "neigh_distances, neigh_idx = neighbors.kneighbors(X=df_conn_pca[:8], return_distance=True)\n",
    "neigh_distances[7], neigh_idx[7]"
   ]
  },
  {
   "cell_type": "code",
   "execution_count": 94,
   "metadata": {},
   "outputs": [
    {
     "name": "stdout",
     "output_type": "stream",
     "text": [
      "{7: 0.0, 5: 66.93082871981858, 3: 73.90629163243122, 4: 151.51468665227355, 2: 174.89429922717653, 1: 265.37100892854255, 6: 318.76143139769613, 0: 655.3119703250592}\n"
     ]
    }
   ],
   "source": [
    "# prettifying the above view\n",
    "# This tells us that sample 7 is a distance of 0 from itself\n",
    "# Sample 7 next neighbor is 5 which is 66.93 from 7\n",
    "# Sample 7 next neighbour is 3, which is 73.9 away\n",
    "print(dict(zip(neigh_idx[7], neigh_distances[7])))"
   ]
  },
  {
   "cell_type": "code",
   "execution_count": 95,
   "metadata": {},
   "outputs": [
    {
     "data": {
      "text/plain": [
       "array([[0.00000000e+00, 6.69308287e+01, 7.39062916e+01, 1.41384049e+02,\n",
       "        1.72907364e+02, 2.65371009e+02, 2.73941737e+02, 3.97057686e+02],\n",
       "       [0.00000000e+00, 6.69308287e+01, 9.93937226e+01, 1.51514687e+02,\n",
       "        1.74894299e+02, 2.66616394e+02, 3.18761431e+02, 5.08088748e+02],\n",
       "       [0.00000000e+00, 7.39062916e+01, 9.93937226e+01, 1.73354719e+02,\n",
       "        2.17307019e+02, 2.82679556e+02, 3.25879772e+02, 6.50120153e+02],\n",
       "       [0.00000000e+00, 1.41384049e+02, 1.72907364e+02, 1.74894299e+02,\n",
       "        2.17307019e+02, 3.20528490e+02, 3.85488478e+02, 6.55311970e+02],\n",
       "       [0.00000000e+00, 1.51514687e+02, 1.73354719e+02, 1.80279256e+02,\n",
       "        2.73941737e+02, 3.83891015e+02, 3.85488478e+02, 6.71465540e+02],\n",
       "       [0.00000000e+00, 1.80279256e+02, 2.66616394e+02, 2.82679556e+02,\n",
       "        3.20528490e+02, 3.83891015e+02, 4.19324384e+02, 7.19616234e+02],\n",
       "       [0.00000000e+00, 2.65371009e+02, 3.18761431e+02, 3.25879772e+02,\n",
       "        3.73992280e+02, 3.97057686e+02, 4.19324384e+02, 7.28685303e+02],\n",
       "       [1.34869915e-06, 3.73992280e+02, 5.08088748e+02, 6.50120153e+02,\n",
       "        6.55311970e+02, 6.71465540e+02, 7.19616234e+02, 7.28685303e+02]])"
      ]
     },
     "execution_count": 95,
     "metadata": {},
     "output_type": "execute_result"
    }
   ],
   "source": [
    "# Stepping back and sorting the distances\n",
    "# Going down the columns with axis=0\n",
    "neigh_distances = np.sort(neigh_distances, axis=0)\n",
    "neigh_distances"
   ]
  },
  {
   "cell_type": "code",
   "execution_count": 96,
   "metadata": {},
   "outputs": [
    {
     "data": {
      "text/plain": [
       "<matplotlib.legend.Legend at 0x24517b39540>"
      ]
     },
     "execution_count": 96,
     "metadata": {},
     "output_type": "execute_result"
    },
    {
     "data": {
      "image/png": "[encoded data removed]",
      "text/plain": [
       "<Figure size 640x480 with 1 Axes>"
      ]
     },
     "metadata": {},
     "output_type": "display_data"
    }
   ],
   "source": [
    "# using the first neighbor as the measurement for eps\n",
    "# This paper calls it knee\n",
    "# https://rdrr.io/cran/dbscan/f/inst/doc/dbscan.pdf\n",
    "# It looks like 75 may be a good eps for the sample 8 records above.\n",
    "plt.title('Knee diagram to determine best eps')\n",
    "plt.plot(neigh_distances[:, 1], label='plot of first neighbor')\n",
    "plt.hlines(y=75, xmin=0, xmax=7, colors='k', ls='--', label='suggested eps')\n",
    "plt.ylabel('eps')\n",
    "plt.xlabel('samples')\n",
    "plt.legend()"
   ]
  },
  {
   "cell_type": "code",
   "execution_count": 99,
   "metadata": {},
   "outputs": [],
   "source": [
    "# With that information and understanding above,\n",
    "# Let's put it all together on our 20K PCA dataset\n",
    "\n",
    "def plot_dbscan_eps(data=df_conn_pca[:20000]) -> None:\n",
    "    ''' Plot to get the suggested eps '''\n",
    "\n",
    "    neighbors = NearestNeighbors(n_neighbors=8, algorithm='auto', n_jobs=-1).fit(X=data)\n",
    "    neigh_distances, neigh_idx = neighbors.kneighbors(X=data, return_distance=True)\n",
    "    neigh_distances = np.sort(neigh_distances, axis=0)\n",
    "    neigh_distances\n",
    "\n",
    "    plt.title(label='Knee Diagram')\n",
    "    plt.plot(neigh_distances[:, 1], label='plot of samples')\n",
    "    #plt.hlines(y=75, xmin=0, xmax=7, colors='k', ls='--', label='suggested eps')\n",
    "    plt.ylabel('eps')\n",
    "    plt.xlabel('samples')\n",
    "    plt.legend()\n",
    "    plt.show()"
   ]
  },
  {
   "cell_type": "code",
   "execution_count": 100,
   "metadata": {},
   "outputs": [
    {
     "data": {
      "image/png": "[encoded data removed]",
      "text/plain": [
       "<Figure size 640x480 with 1 Axes>"
      ]
     },
     "metadata": {},
     "output_type": "display_data"
    }
   ],
   "source": [
    "# Call the function to determine the best eps\n",
    "# Well what is the EPS to choose here. \n",
    "# Now isn't this problematic\n",
    "plot_dbscan_eps()"
   ]
  },
  {
   "cell_type": "code",
   "execution_count": 102,
   "metadata": {},
   "outputs": [
    {
     "data": {
      "text/html": [
       "<style>#sk-container-id-5 {color: black;background-color: white;}#sk-container-id-5 pre{padding: 0;}#sk-container-id-5 div.sk-toggleable {background-color: white;}#sk-container-id-5 label.sk-toggleable__label {cursor: pointer;display: block;width: 100%;margin-bottom: 0;padding: 0.3em;box-sizing: border-box;text-align: center;}#sk-container-id-5 label.sk-toggleable__label-arrow:before {content: \"▸\";float: left;margin-right: 0.25em;color: #696969;}#sk-container-id-5 label.sk-toggleable__label-arrow:hover:before {color: black;}#sk-container-id-5 div.sk-estimator:hover label.sk-toggleable__label-arrow:before {color: black;}#sk-container-id-5 div.sk-toggleable__content {max-height: 0;max-width: 0;overflow: hidden;text-align: left;background-color: #f0f8ff;}#sk-container-id-5 div.sk-toggleable__content pre {margin: 0.2em;color: black;border-radius: 0.25em;background-color: #f0f8ff;}#sk-container-id-5 input.sk-toggleable__control:checked~div.sk-toggleable__content {max-height: 200px;max-width: 100%;overflow: auto;}#sk-container-id-5 input.sk-toggleable__control:checked~label.sk-toggleable__label-arrow:before {content: \"▾\";}#sk-container-id-5 div.sk-estimator input.sk-toggleable__control:checked~label.sk-toggleable__label {background-color: #d4ebff;}#sk-container-id-5 div.sk-label input.sk-toggleable__control:checked~label.sk-toggleable__label {background-color: #d4ebff;}#sk-container-id-5 input.sk-hidden--visually {border: 0;clip: rect(1px 1px 1px 1px);clip: rect(1px, 1px, 1px, 1px);height: 1px;margin: -1px;overflow: hidden;padding: 0;position: absolute;width: 1px;}#sk-container-id-5 div.sk-estimator {font-family: monospace;background-color: #f0f8ff;border: 1px dotted black;border-radius: 0.25em;box-sizing: border-box;margin-bottom: 0.5em;}#sk-container-id-5 div.sk-estimator:hover {background-color: #d4ebff;}#sk-container-id-5 div.sk-parallel-item::after {content: \"\";width: 100%;border-bottom: 1px solid gray;flex-grow: 1;}#sk-container-id-5 div.sk-label:hover label.sk-toggleable__label {background-color: #d4ebff;}#sk-container-id-5 div.sk-serial::before {content: \"\";position: absolute;border-left: 1px solid gray;box-sizing: border-box;top: 0;bottom: 0;left: 50%;z-index: 0;}#sk-container-id-5 div.sk-serial {display: flex;flex-direction: column;align-items: center;background-color: white;padding-right: 0.2em;padding-left: 0.2em;position: relative;}#sk-container-id-5 div.sk-item {position: relative;z-index: 1;}#sk-container-id-5 div.sk-parallel {display: flex;align-items: stretch;justify-content: center;background-color: white;position: relative;}#sk-container-id-5 div.sk-item::before, #sk-container-id-5 div.sk-parallel-item::before {content: \"\";position: absolute;border-left: 1px solid gray;box-sizing: border-box;top: 0;bottom: 0;left: 50%;z-index: -1;}#sk-container-id-5 div.sk-parallel-item {display: flex;flex-direction: column;z-index: 1;position: relative;background-color: white;}#sk-container-id-5 div.sk-parallel-item:first-child::after {align-self: flex-end;width: 50%;}#sk-container-id-5 div.sk-parallel-item:last-child::after {align-self: flex-start;width: 50%;}#sk-container-id-5 div.sk-parallel-item:only-child::after {width: 0;}#sk-container-id-5 div.sk-dashed-wrapped {border: 1px dashed gray;margin: 0 0.4em 0.5em 0.4em;box-sizing: border-box;padding-bottom: 0.4em;background-color: white;}#sk-container-id-5 div.sk-label label {font-family: monospace;font-weight: bold;display: inline-block;line-height: 1.2em;}#sk-container-id-5 div.sk-label-container {text-align: center;}#sk-container-id-5 div.sk-container {/* jupyter's `normalize.less` sets `[hidden] { display: none; }` but bootstrap.min.css set `[hidden] { display: none !important; }` so we also need the `!important` here to be able to override the default hidden behavior on the sphinx rendered scikit-learn.org. See: https://github.com/scikit-learn/scikit-learn/issues/21755 */display: inline-block !important;position: relative;}#sk-container-id-5 div.sk-text-repr-fallback {display: none;}</style><div id=\"sk-container-id-5\" class=\"sk-top-container\"><div class=\"sk-text-repr-fallback\"><pre>DBSCAN(min_samples=8, n_jobs=-1)</pre><b>In a Jupyter environment, please rerun this cell to show the HTML representation or trust the notebook. <br />On GitHub, the HTML representation is unable to render, please try loading this page with nbviewer.org.</b></div><div class=\"sk-container\" hidden><div class=\"sk-item\"><div class=\"sk-estimator sk-toggleable\"><input class=\"sk-toggleable__control sk-hidden--visually\" id=\"sk-estimator-id-5\" type=\"checkbox\" checked><label for=\"sk-estimator-id-5\" class=\"sk-toggleable__label sk-toggleable__label-arrow\">DBSCAN</label><div class=\"sk-toggleable__content\"><pre>DBSCAN(min_samples=8, n_jobs=-1)</pre></div></div></div></div></div>"
      ],
      "text/plain": [
       "DBSCAN(min_samples=8, n_jobs=-1)"
      ]
     },
     "execution_count": 102,
     "metadata": {},
     "output_type": "execute_result"
    }
   ],
   "source": [
    "# Retrying DBSCAN with an eps at 0.5 rather than the 3 previously used above\n",
    "clf_dbscan = DBSCAN(eps=0.5, min_samples=8, n_jobs=-1, metric='euclidean', algorithm='auto').fit(df_conn_pca[:20000])\n",
    "clf_dbscan\n"
   ]
  },
  {
   "cell_type": "code",
   "execution_count": 103,
   "metadata": {},
   "outputs": [
    {
     "data": {
      "text/plain": [
       "array([-1, -1, -1, ...,  0,  0,  0], dtype=int64)"
      ]
     },
     "execution_count": 103,
     "metadata": {},
     "output_type": "execute_result"
    }
   ],
   "source": [
    "# Get the labels for the first 20K records\n",
    "clf_dbscan.labels_"
   ]
  },
  {
   "cell_type": "code",
   "execution_count": 105,
   "metadata": {},
   "outputs": [
    {
     "data": {
      "text/plain": [
       "{-1: 87, 0: 17317, 1: 1071, 2: 1123, 3: 54, 4: 318, 5: 19, 6: 11}"
      ]
     },
     "execution_count": 105,
     "metadata": {},
     "output_type": "execute_result"
    }
   ],
   "source": [
    "# Get the unique clusters\n",
    "# Below we see 6 clusters. When eps was 3, there were 2 clusters\n",
    "cluster_label, num_records = np.unique(clf_dbscan.labels_, return_counts=True)\n",
    "dict(zip(cluster_label, num_records))"
   ]
  },
  {
   "cell_type": "code",
   "execution_count": 106,
   "metadata": {},
   "outputs": [
    {
     "data": {
      "text/html": [
       "<div>\n",
       "<style scoped>\n",
       "    .dataframe tbody tr th:only-of-type {\n",
       "        vertical-align: middle;\n",
       "    }\n",
       "\n",
       "    .dataframe tbody tr th {\n",
       "        vertical-align: top;\n",
       "    }\n",
       "\n",
       "    .dataframe thead th {\n",
       "        text-align: right;\n",
       "    }\n",
       "</style>\n",
       "<table border=\"1\" class=\"dataframe\">\n",
       "  <thead>\n",
       "    <tr style=\"text-align: right;\">\n",
       "      <th></th>\n",
       "      <th>id.orig_h</th>\n",
       "      <th>id.orig_p</th>\n",
       "      <th>id.resp_h</th>\n",
       "      <th>id.resp_p</th>\n",
       "      <th>duration</th>\n",
       "      <th>orig_bytes</th>\n",
       "      <th>resp_bytes</th>\n",
       "      <th>orig_pkts</th>\n",
       "      <th>orig_ip_bytes</th>\n",
       "      <th>resp_pkts</th>\n",
       "      <th>resp_ip_bytes</th>\n",
       "      <th>kmeans_label</th>\n",
       "      <th>db_labels</th>\n",
       "      <th>db_eps_0.5</th>\n",
       "    </tr>\n",
       "  </thead>\n",
       "  <tbody>\n",
       "    <tr>\n",
       "      <th>0</th>\n",
       "      <td>127.0.0.1</td>\n",
       "      <td>27762</td>\n",
       "      <td>127.0.0.1</td>\n",
       "      <td>58552</td>\n",
       "      <td>0.000000</td>\n",
       "      <td>0</td>\n",
       "      <td>0</td>\n",
       "      <td>0</td>\n",
       "      <td>0</td>\n",
       "      <td>0</td>\n",
       "      <td>0</td>\n",
       "      <td>0</td>\n",
       "      <td>-1</td>\n",
       "      <td>-1</td>\n",
       "    </tr>\n",
       "    <tr>\n",
       "      <th>1</th>\n",
       "      <td>192.168.0.4</td>\n",
       "      <td>27761</td>\n",
       "      <td>192.168.0.4</td>\n",
       "      <td>48798</td>\n",
       "      <td>0.000000</td>\n",
       "      <td>0</td>\n",
       "      <td>0</td>\n",
       "      <td>0</td>\n",
       "      <td>0</td>\n",
       "      <td>0</td>\n",
       "      <td>0</td>\n",
       "      <td>0</td>\n",
       "      <td>-1</td>\n",
       "      <td>-1</td>\n",
       "    </tr>\n",
       "    <tr>\n",
       "      <th>2</th>\n",
       "      <td>192.168.0.4</td>\n",
       "      <td>27761</td>\n",
       "      <td>192.168.0.4</td>\n",
       "      <td>48804</td>\n",
       "      <td>0.000000</td>\n",
       "      <td>0</td>\n",
       "      <td>0</td>\n",
       "      <td>0</td>\n",
       "      <td>0</td>\n",
       "      <td>0</td>\n",
       "      <td>0</td>\n",
       "      <td>0</td>\n",
       "      <td>-1</td>\n",
       "      <td>-1</td>\n",
       "    </tr>\n",
       "    <tr>\n",
       "      <th>3</th>\n",
       "      <td>127.0.0.1</td>\n",
       "      <td>27762</td>\n",
       "      <td>127.0.0.1</td>\n",
       "      <td>58568</td>\n",
       "      <td>0.000000</td>\n",
       "      <td>0</td>\n",
       "      <td>0</td>\n",
       "      <td>0</td>\n",
       "      <td>0</td>\n",
       "      <td>0</td>\n",
       "      <td>0</td>\n",
       "      <td>0</td>\n",
       "      <td>-1</td>\n",
       "      <td>-1</td>\n",
       "    </tr>\n",
       "    <tr>\n",
       "      <th>4</th>\n",
       "      <td>192.168.0.4</td>\n",
       "      <td>48786</td>\n",
       "      <td>192.168.0.4</td>\n",
       "      <td>27761</td>\n",
       "      <td>0.000000</td>\n",
       "      <td>0</td>\n",
       "      <td>0</td>\n",
       "      <td>0</td>\n",
       "      <td>0</td>\n",
       "      <td>0</td>\n",
       "      <td>0</td>\n",
       "      <td>0</td>\n",
       "      <td>-1</td>\n",
       "      <td>-1</td>\n",
       "    </tr>\n",
       "    <tr>\n",
       "      <th>...</th>\n",
       "      <td>...</td>\n",
       "      <td>...</td>\n",
       "      <td>...</td>\n",
       "      <td>...</td>\n",
       "      <td>...</td>\n",
       "      <td>...</td>\n",
       "      <td>...</td>\n",
       "      <td>...</td>\n",
       "      <td>...</td>\n",
       "      <td>...</td>\n",
       "      <td>...</td>\n",
       "      <td>...</td>\n",
       "      <td>...</td>\n",
       "      <td>...</td>\n",
       "    </tr>\n",
       "    <tr>\n",
       "      <th>19995</th>\n",
       "      <td>192.168.0.31</td>\n",
       "      <td>61123</td>\n",
       "      <td>192.168.0.4</td>\n",
       "      <td>80</td>\n",
       "      <td>0.000074</td>\n",
       "      <td>0</td>\n",
       "      <td>0</td>\n",
       "      <td>1</td>\n",
       "      <td>52</td>\n",
       "      <td>1</td>\n",
       "      <td>40</td>\n",
       "      <td>0</td>\n",
       "      <td>0</td>\n",
       "      <td>0</td>\n",
       "    </tr>\n",
       "    <tr>\n",
       "      <th>19996</th>\n",
       "      <td>192.168.0.31</td>\n",
       "      <td>61127</td>\n",
       "      <td>192.168.0.4</td>\n",
       "      <td>80</td>\n",
       "      <td>0.000064</td>\n",
       "      <td>0</td>\n",
       "      <td>0</td>\n",
       "      <td>1</td>\n",
       "      <td>52</td>\n",
       "      <td>1</td>\n",
       "      <td>40</td>\n",
       "      <td>0</td>\n",
       "      <td>0</td>\n",
       "      <td>0</td>\n",
       "    </tr>\n",
       "    <tr>\n",
       "      <th>19997</th>\n",
       "      <td>192.168.0.31</td>\n",
       "      <td>61130</td>\n",
       "      <td>192.168.0.4</td>\n",
       "      <td>80</td>\n",
       "      <td>0.000097</td>\n",
       "      <td>0</td>\n",
       "      <td>0</td>\n",
       "      <td>1</td>\n",
       "      <td>52</td>\n",
       "      <td>1</td>\n",
       "      <td>40</td>\n",
       "      <td>0</td>\n",
       "      <td>0</td>\n",
       "      <td>0</td>\n",
       "    </tr>\n",
       "    <tr>\n",
       "      <th>19998</th>\n",
       "      <td>192.168.0.31</td>\n",
       "      <td>61134</td>\n",
       "      <td>192.168.0.4</td>\n",
       "      <td>80</td>\n",
       "      <td>0.000019</td>\n",
       "      <td>0</td>\n",
       "      <td>0</td>\n",
       "      <td>1</td>\n",
       "      <td>52</td>\n",
       "      <td>1</td>\n",
       "      <td>40</td>\n",
       "      <td>0</td>\n",
       "      <td>0</td>\n",
       "      <td>0</td>\n",
       "    </tr>\n",
       "    <tr>\n",
       "      <th>19999</th>\n",
       "      <td>192.168.0.31</td>\n",
       "      <td>61131</td>\n",
       "      <td>192.168.0.4</td>\n",
       "      <td>80</td>\n",
       "      <td>0.000105</td>\n",
       "      <td>0</td>\n",
       "      <td>0</td>\n",
       "      <td>1</td>\n",
       "      <td>52</td>\n",
       "      <td>1</td>\n",
       "      <td>40</td>\n",
       "      <td>0</td>\n",
       "      <td>0</td>\n",
       "      <td>0</td>\n",
       "    </tr>\n",
       "  </tbody>\n",
       "</table>\n",
       "<p>20000 rows × 14 columns</p>\n",
       "</div>"
      ],
      "text/plain": [
       "          id.orig_h  id.orig_p    id.resp_h  id.resp_p  duration  orig_bytes   \n",
       "0         127.0.0.1      27762    127.0.0.1      58552  0.000000           0  \\\n",
       "1       192.168.0.4      27761  192.168.0.4      48798  0.000000           0   \n",
       "2       192.168.0.4      27761  192.168.0.4      48804  0.000000           0   \n",
       "3         127.0.0.1      27762    127.0.0.1      58568  0.000000           0   \n",
       "4       192.168.0.4      48786  192.168.0.4      27761  0.000000           0   \n",
       "...             ...        ...          ...        ...       ...         ...   \n",
       "19995  192.168.0.31      61123  192.168.0.4         80  0.000074           0   \n",
       "19996  192.168.0.31      61127  192.168.0.4         80  0.000064           0   \n",
       "19997  192.168.0.31      61130  192.168.0.4         80  0.000097           0   \n",
       "19998  192.168.0.31      61134  192.168.0.4         80  0.000019           0   \n",
       "19999  192.168.0.31      61131  192.168.0.4         80  0.000105           0   \n",
       "\n",
       "       resp_bytes  orig_pkts  orig_ip_bytes  resp_pkts  resp_ip_bytes   \n",
       "0               0          0              0          0              0  \\\n",
       "1               0          0              0          0              0   \n",
       "2               0          0              0          0              0   \n",
       "3               0          0              0          0              0   \n",
       "4               0          0              0          0              0   \n",
       "...           ...        ...            ...        ...            ...   \n",
       "19995           0          1             52          1             40   \n",
       "19996           0          1             52          1             40   \n",
       "19997           0          1             52          1             40   \n",
       "19998           0          1             52          1             40   \n",
       "19999           0          1             52          1             40   \n",
       "\n",
       "       kmeans_label  db_labels  db_eps_0.5  \n",
       "0                 0         -1          -1  \n",
       "1                 0         -1          -1  \n",
       "2                 0         -1          -1  \n",
       "3                 0         -1          -1  \n",
       "4                 0         -1          -1  \n",
       "...             ...        ...         ...  \n",
       "19995             0          0           0  \n",
       "19996             0          0           0  \n",
       "19997             0          0           0  \n",
       "19998             0          0           0  \n",
       "19999             0          0           0  \n",
       "\n",
       "[20000 rows x 14 columns]"
      ]
     },
     "execution_count": 106,
     "metadata": {},
     "output_type": "execute_result"
    }
   ],
   "source": [
    "# Assign the NEW DBSCAN labels to this 20K\n",
    "df_conn_20k['db_eps_0.5'] = pd.Series(list(clf_dbscan.labels_))\n",
    "df_conn_20k\n"
   ]
  },
  {
   "cell_type": "code",
   "execution_count": 115,
   "metadata": {},
   "outputs": [
    {
     "data": {
      "image/png": "[encoded data removed]",
      "text/plain": [
       "<Figure size 640x480 with 1 Axes>"
      ]
     },
     "metadata": {},
     "output_type": "display_data"
    }
   ],
   "source": [
    "# Let's run a similar plot, to see what was done above for K-means\n",
    "# This time we are using DBSCAN\n",
    "# This 20K records looks interesting in terms of identification of anomalies\n",
    "plt.title('DBSCAN Plot of the originator vs responder bytes - eps 0.5')\n",
    "\n",
    "# put the anomalies (-1) in red, cluster 0 in green and everything else in black\n",
    "plt.scatter(x=df_conn_20k['orig_bytes'], y=df_conn_20k['resp_bytes'], \\\n",
    "            color=[ 'red' if i == -1 else 'green' if i==0 else 'black' for i in df_conn_20k['db_eps_0.5'] ]  )\n",
    "plt.xlabel('originator bytes')\n",
    "plt.ylabel('responder bytes')\n",
    "plt.show()"
   ]
  },
  {
   "cell_type": "code",
   "execution_count": 119,
   "metadata": {},
   "outputs": [
    {
     "data": {
      "text/plain": [
       "0.7750280357253765"
      ]
     },
     "execution_count": 119,
     "metadata": {},
     "output_type": "execute_result"
    }
   ],
   "source": [
    "# Getting the Mean Silhouette coefficient of all samples\n",
    "# Best value is 1 and worse value is -1\n",
    "# With 0.775, this suggest we are doing not too bad\n",
    "silhouette_score(X=df_conn_pca[:20000], labels=clf_dbscan.labels_, sample_size=None, random_state=10)"
   ]
  },
  {
   "cell_type": "code",
   "execution_count": 120,
   "metadata": {},
   "outputs": [],
   "source": [
    "# Import the silhouette samples library\n",
    "from sklearn.metrics import silhouette_samples"
   ]
  },
  {
   "cell_type": "code",
   "execution_count": 121,
   "metadata": {},
   "outputs": [
    {
     "data": {
      "text/plain": [
       "array([-0.00900873, -0.06987469, -0.05891393, ...,  0.875656  ,\n",
       "        0.8756558 ,  0.87565598])"
      ]
     },
     "execution_count": 121,
     "metadata": {},
     "output_type": "execute_result"
    }
   ],
   "source": [
    "# Let's get the Silhouette score for each sample\n",
    "silhouette_samples(X=df_conn_pca[:20000], labels=clf_dbscan.labels_)"
   ]
  },
  {
   "cell_type": "code",
   "execution_count": 122,
   "metadata": {},
   "outputs": [
    {
     "data": {
      "text/plain": [
       "0.7750280357253765"
      ]
     },
     "execution_count": 122,
     "metadata": {},
     "output_type": "execute_result"
    }
   ],
   "source": [
    "# Validating the mean value as returned by silhouette_score\n",
    "np.mean(silhouette_samples(X=df_conn_pca[:20000], labels=clf_dbscan.labels_))"
   ]
  },
  {
   "cell_type": "code",
   "execution_count": null,
   "metadata": {},
   "outputs": [],
   "source": [
    "# Additional references:\n",
    "''' \n",
    "https://towardsdatascience.com/understanding-hdbscan-and-density-based-clustering-121dbee1320e\n",
    "https://towardsdatascience.com/dbscan-clustering-explained-97556a2ad556\n",
    "https://towardsdatascience.com/explaining-dbscan-clustering-18eaf5c83b31\n",
    "https://scikit-learn.org/stable/modules/neighbors.html\n",
    "https://towardsdatascience.com/explaining-dbscan-clustering-18eaf5c83b31 \n",
    "https://hdbscan.readthedocs.io/en/latest/how_hdbscan_works.html\n",
    "https://www.youtube.com/watch?v=C3r7tGRe2eI\n",
    "https://www.youtube.com/watch?v=RDZUdRSDOok\n",
    "https://www.analyticsvidhya.com/blog/2021/06/understand-the-dbscan-clustering-algorithm/\n",
    "https://www.analyticsvidhya.com/blog/2020/09/how-dbscan-clustering-works/\n",
    "https://towardsdatascience.com/machine-learning-clustering-dbscan-determine-the-optimal-value-for-epsilon-eps-python-example-3100091cfbc\n",
    "https://towardsdatascience.com/how-to-use-dbscan-effectively-ed212c02e62\n",
    "https://towardsdatascience.com/k-means-dbscan-gmm-agglomerative-clustering-mastering-the-popular-models-in-a-segmentation-c891a3818e29\n",
    "http://sefidian.com/2022/12/18/how-to-determine-epsilon-and-minpts-parameters-of-dbscan-clustering/\n",
    "'''"
   ]
  },
  {
   "cell_type": "code",
   "execution_count": null,
   "metadata": {},
   "outputs": [],
   "source": []
  },
  {
   "cell_type": "code",
   "execution_count": null,
   "metadata": {},
   "outputs": [],
   "source": []
  },
  {
   "cell_type": "code",
   "execution_count": null,
   "metadata": {},
   "outputs": [],
   "source": []
  },
  {
   "cell_type": "code",
   "execution_count": null,
   "metadata": {},
   "outputs": [],
   "source": []
  }
 ],
 "metadata": {
  "kernelspec": {
   "display_name": "Python 3.9.13 ('main-env')",
   "language": "python",
   "name": "python3"
  },
  "language_info": {
   "codemirror_mode": {
    "name": "ipython",
    "version": 3
   },
   "file_extension": ".py",
   "mimetype": "text/x-python",
   "name": "python",
   "nbconvert_exporter": "python",
   "pygments_lexer": "ipython3",
   "version": "3.10.11"
  },
  "orig_nbformat": 4,
  "vscode": {
   "interpreter": {
    "hash": "dcb100998b7ef434a33dbfac35f576e40d01f04c34d9ff6f6aad819b8a88c169"
   }
  }
 },
 "nbformat": 4,
 "nbformat_minor": 2
}
