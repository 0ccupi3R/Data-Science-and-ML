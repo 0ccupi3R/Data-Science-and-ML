{
 "cells": [
  {
   "attachments": {},
   "cell_type": "markdown",
   "metadata": {},
   "source": [
    "Author: Nik Alleyne <br>\n",
    "Author Blog: **https://www.securitynik.com** <br>\n",
    "Author GitHub: **github.com/securitynik** <br>\n",
    "\n",
    "Author Books: [  <br>\n",
    "\n",
    "                \"https://www.amazon.ca/Learning-Practicing-Leveraging-Practical-Detection/dp/1731254458/\", \n",
    "                \n",
    "                \"https://www.amazon.ca/Learning-Practicing-Mastering-Network-Forensics/dp/1775383024/\" \n",
    "            ] \n"
   ]
  },
  {
   "cell_type": "code",
   "execution_count": null,
   "metadata": {},
   "outputs": [],
   "source": []
  },
  {
   "attachments": {},
   "cell_type": "markdown",
   "metadata": {},
   "source": [
    "### Why this series?\n",
    "When teaching the SANS SEC595: Applied Data Science and Machine Learning for Cybersecurity Professionals \n",
    "**https://www.sans.org/cyber-security-courses/applied-data-science-machine-learning/** I am always asked,\n",
    "\"Will you be sharing your demo notebooks?\" or \"Can we get a copy of your demo notebooks?\" or ... well you get the point.\n",
    "My answer is always no. Not that I do not want to share, (sharing is caring :-D) , but the demo notebooks \n",
    "by themselves, would not make sense or add real value. Hence, this series! \n",
    "\n",
    "This is my supplemental work, similar to what I would do in the demos but with a lot more details and references.\n"
   ]
  },
  {
   "attachments": {},
   "cell_type": "markdown",
   "metadata": {},
   "source": [
    "## 19. Beginning Deep Learning - Convolution Networks - Tensorflow"
   ]
  },
  {
   "attachments": {},
   "cell_type": "markdown",
   "metadata": {},
   "source": [
    "### The series includes the following: <br>\n",
    "01 - Beginning Numpy <br>\n",
    "02 - Beginning Tensorflow  <br>\n",
    "03 - Beginning PyTorch <br>\n",
    "04 - Beginning Pandas <br>\n",
    "05 - Beginning Matplotlib <br>\n",
    "06 - Beginning Data Scaling <br>\n",
    "07 - Beginning Principal Component Analysis (PCA) <br>\n",
    "08 - Beginning Machine Learning Anomaly Detection - Isolation Forest and Local Outlier Factor <br>\n",
    "09 - Beginning Unsupervised Machine Learning - Clustering - K-means and DBSCAN <br>\n",
    "10 - Beginning Supervise Learning - Machine Learning - Logistic Regression, Decision Trees and Metrics <br>\n",
    "11 - Beginning Linear Regression - Machine Learning <br>\n",
    "12 - Beginning Deep Learning - Anomaly Detection with AutoEncoders, Tensorflow <br>\n",
    "13 - Beginning Deep Learning - Anomaly Detection with AutoEncoders, PyTroch <br>\n",
    "14 - Beginning Deep Learning - Linear Regression, Tensorflow <br>\n",
    "15 - Beginning Deep Learning - Linear Regression, PyTorch <br>\n",
    "16 - Beginning Deep Learning - Classification, Tensorflow <br>\n",
    "17 - Beginning Deep Learning - Classification, Pytorch <br>\n",
    "18 - Beginning Deep Learning - Classification - regression - MIMO - Functional API Tensorflow <br> \n",
    "19 - Beginning Deep Learning - Convolution Networks - Tensorflow <br>\n",
    "20 - Beginning Deep Learning - Convolution Networks - PyTorch <br>\n",
    "21 - Beginning Regularization - Early Stopping, Dropout, L2 (Ridge), L1 (Lasso) <br>\n",
    "22 - Beginning Model TFServing <br>\n",
    "\n",
    "But conn.log is not the only log file within Zeek. Let's build some models for DNS and HTTP logs. <br>\n",
    "I choose unsupervised, because there are no labels coming with these data. <br>\n",
    "\n",
    "23 - Continuing Anomaly Learning - Zeek DNS Log - Machine Learning <br>\n",
    "24 - Continuing Unsupervised Learning - Zeek HTTP Log - Machine Learning <br>\n",
    "\n",
    "This was a specific ask by someone in one of my class. <br>\n",
    "25 - Beginning - Reading Executables and Building a Neural Network to make predictions on suspicious vs suspicious  <br><br>\n",
    "\n",
    "With 25 notebooks in this series, it is quite possible there are things I could have or should have done differently.  <br>\n",
    "If you find any thing, you think fits those criteria, drop me a line. <br>\n",
    "\n",
    "If you find this series beneficial, I would greatly appreciate your feedback.\n"
   ]
  },
  {
   "cell_type": "code",
   "execution_count": 1,
   "metadata": {},
   "outputs": [],
   "source": [
    "# import some libraries\n",
    "import pandas as pd\n",
    "import numpy as np\n",
    "import matplotlib.pyplot as plt"
   ]
  },
  {
   "cell_type": "code",
   "execution_count": 2,
   "metadata": {},
   "outputs": [
    {
     "data": {
      "text/html": [
       "<div>\n",
       "<style scoped>\n",
       "    .dataframe tbody tr th:only-of-type {\n",
       "        vertical-align: middle;\n",
       "    }\n",
       "\n",
       "    .dataframe tbody tr th {\n",
       "        vertical-align: top;\n",
       "    }\n",
       "\n",
       "    .dataframe thead th {\n",
       "        text-align: right;\n",
       "    }\n",
       "</style>\n",
       "<table border=\"1\" class=\"dataframe\">\n",
       "  <thead>\n",
       "    <tr style=\"text-align: right;\">\n",
       "      <th></th>\n",
       "      <th>id.resp_p</th>\n",
       "      <th>duration</th>\n",
       "      <th>orig_bytes</th>\n",
       "      <th>resp_bytes</th>\n",
       "      <th>orig_pkts</th>\n",
       "      <th>orig_ip_bytes</th>\n",
       "      <th>resp_pkts</th>\n",
       "      <th>resp_ip_bytes</th>\n",
       "      <th>label</th>\n",
       "    </tr>\n",
       "  </thead>\n",
       "  <tbody>\n",
       "    <tr>\n",
       "      <th>1</th>\n",
       "      <td>48798</td>\n",
       "      <td>0.000000</td>\n",
       "      <td>0</td>\n",
       "      <td>0</td>\n",
       "      <td>0</td>\n",
       "      <td>0</td>\n",
       "      <td>0</td>\n",
       "      <td>0</td>\n",
       "      <td>0</td>\n",
       "    </tr>\n",
       "    <tr>\n",
       "      <th>2</th>\n",
       "      <td>48804</td>\n",
       "      <td>0.000000</td>\n",
       "      <td>0</td>\n",
       "      <td>0</td>\n",
       "      <td>0</td>\n",
       "      <td>0</td>\n",
       "      <td>0</td>\n",
       "      <td>0</td>\n",
       "      <td>0</td>\n",
       "    </tr>\n",
       "    <tr>\n",
       "      <th>4</th>\n",
       "      <td>27761</td>\n",
       "      <td>0.000000</td>\n",
       "      <td>0</td>\n",
       "      <td>0</td>\n",
       "      <td>0</td>\n",
       "      <td>0</td>\n",
       "      <td>0</td>\n",
       "      <td>0</td>\n",
       "      <td>0</td>\n",
       "    </tr>\n",
       "    <tr>\n",
       "      <th>5</th>\n",
       "      <td>8888</td>\n",
       "      <td>0.053276</td>\n",
       "      <td>208</td>\n",
       "      <td>976</td>\n",
       "      <td>6</td>\n",
       "      <td>528</td>\n",
       "      <td>6</td>\n",
       "      <td>1296</td>\n",
       "      <td>0</td>\n",
       "    </tr>\n",
       "    <tr>\n",
       "      <th>6</th>\n",
       "      <td>8888</td>\n",
       "      <td>0.383646</td>\n",
       "      <td>227</td>\n",
       "      <td>692369</td>\n",
       "      <td>202</td>\n",
       "      <td>10739</td>\n",
       "      <td>117</td>\n",
       "      <td>240893</td>\n",
       "      <td>0</td>\n",
       "    </tr>\n",
       "    <tr>\n",
       "      <th>...</th>\n",
       "      <td>...</td>\n",
       "      <td>...</td>\n",
       "      <td>...</td>\n",
       "      <td>...</td>\n",
       "      <td>...</td>\n",
       "      <td>...</td>\n",
       "      <td>...</td>\n",
       "      <td>...</td>\n",
       "      <td>...</td>\n",
       "    </tr>\n",
       "    <tr>\n",
       "      <th>4430183</th>\n",
       "      <td>9200</td>\n",
       "      <td>0.000051</td>\n",
       "      <td>0</td>\n",
       "      <td>0</td>\n",
       "      <td>1</td>\n",
       "      <td>52</td>\n",
       "      <td>1</td>\n",
       "      <td>40</td>\n",
       "      <td>0</td>\n",
       "    </tr>\n",
       "    <tr>\n",
       "      <th>4430184</th>\n",
       "      <td>9200</td>\n",
       "      <td>0.000023</td>\n",
       "      <td>0</td>\n",
       "      <td>0</td>\n",
       "      <td>0</td>\n",
       "      <td>0</td>\n",
       "      <td>1</td>\n",
       "      <td>40</td>\n",
       "      <td>0</td>\n",
       "    </tr>\n",
       "    <tr>\n",
       "      <th>4430185</th>\n",
       "      <td>9200</td>\n",
       "      <td>0.000005</td>\n",
       "      <td>0</td>\n",
       "      <td>0</td>\n",
       "      <td>0</td>\n",
       "      <td>0</td>\n",
       "      <td>1</td>\n",
       "      <td>40</td>\n",
       "      <td>0</td>\n",
       "    </tr>\n",
       "    <tr>\n",
       "      <th>4430186</th>\n",
       "      <td>9200</td>\n",
       "      <td>0.000005</td>\n",
       "      <td>0</td>\n",
       "      <td>0</td>\n",
       "      <td>0</td>\n",
       "      <td>0</td>\n",
       "      <td>1</td>\n",
       "      <td>40</td>\n",
       "      <td>0</td>\n",
       "    </tr>\n",
       "    <tr>\n",
       "      <th>4430187</th>\n",
       "      <td>9200</td>\n",
       "      <td>0.000005</td>\n",
       "      <td>0</td>\n",
       "      <td>0</td>\n",
       "      <td>0</td>\n",
       "      <td>0</td>\n",
       "      <td>1</td>\n",
       "      <td>40</td>\n",
       "      <td>0</td>\n",
       "    </tr>\n",
       "  </tbody>\n",
       "</table>\n",
       "<p>4236125 rows × 9 columns</p>\n",
       "</div>"
      ],
      "text/plain": [
       "         id.resp_p  duration  orig_bytes  resp_bytes  orig_pkts   \n",
       "1            48798  0.000000           0           0          0  \\\n",
       "2            48804  0.000000           0           0          0   \n",
       "4            27761  0.000000           0           0          0   \n",
       "5             8888  0.053276         208         976          6   \n",
       "6             8888  0.383646         227      692369        202   \n",
       "...            ...       ...         ...         ...        ...   \n",
       "4430183       9200  0.000051           0           0          1   \n",
       "4430184       9200  0.000023           0           0          0   \n",
       "4430185       9200  0.000005           0           0          0   \n",
       "4430186       9200  0.000005           0           0          0   \n",
       "4430187       9200  0.000005           0           0          0   \n",
       "\n",
       "         orig_ip_bytes  resp_pkts  resp_ip_bytes  label  \n",
       "1                    0          0              0      0  \n",
       "2                    0          0              0      0  \n",
       "4                    0          0              0      0  \n",
       "5                  528          6           1296      0  \n",
       "6                10739        117         240893      0  \n",
       "...                ...        ...            ...    ...  \n",
       "4430183             52          1             40      0  \n",
       "4430184              0          1             40      0  \n",
       "4430185              0          1             40      0  \n",
       "4430186              0          1             40      0  \n",
       "4430187              0          1             40      0  \n",
       "\n",
       "[4236125 rows x 9 columns]"
      ]
     },
     "execution_count": 2,
     "metadata": {},
     "output_type": "execute_result"
    }
   ],
   "source": [
    "# In the notebooks on Pandas, Matplotlib and Scaling\n",
    "#   04 - Beginning Pandas <br>\n",
    "#   05 - Beginning Matplotlib <br>\n",
    "#   06 - Beginning Data Scaling <br>\n",
    "# we loaded our dataset such as\n",
    "df_conn = pd.read_csv(r'df_conn_with_labels.csv', index_col=0)\n",
    "df_conn"
   ]
  },
  {
   "attachments": {},
   "cell_type": "markdown",
   "metadata": {},
   "source": [
    "This file represents Zeek (formerly Bro) connection log - conn.log`. \n",
    "Zeek is a framework used for Network Security Monitoring. \n",
    "This entire series is based on using Zeek's data. \n",
    "The majority of the notebooks use the conn.log\n",
    "You can learn more about Zeek here:\n",
    "   \n",
    "    https://zeek.org/\n",
    "\n",
    "Alternatively, come hang out with us in the:\n",
    "SANS SEC595: Applied Data Science and Machine Learning for Cybersecurity Professionals\n",
    "\n",
    "        https://www.sans.org/cyber-security-courses/applied-data-science-machine-learning/ OR\n",
    "\n",
    "SEC503 SEC503: Network Monitoring and Threat Detection In-Depth\n",
    "\n",
    "        https://www.sans.org/cyber-security-courses/network-monitoring-threat-detection/\n",
    "\n",
    "\n",
    "Here are also some blog posts on using Zeek for security monitoring\n",
    "Installing Zeek: \n",
    "\n",
    "        https://www.securitynik.com/2020/06/installing-zeek-314-on-ubuntu-2004.html\n",
    "\n",
    "Detecting PowerShell Empire Usage: \n",
    "\n",
    "        https://www.securitynik.com/2022/02/powershell-empire-detection-with-zeek.html\n",
    "\n",
    "Detecting Log4J Vulnerability Exploitation: \n",
    "\n",
    "        https://www.securitynik.com/2021/12/continuing-log4shell-zeek-detection.html"
   ]
  },
  {
   "cell_type": "code",
   "execution_count": 3,
   "metadata": {},
   "outputs": [
    {
     "data": {
      "text/html": [
       "<div>\n",
       "<style scoped>\n",
       "    .dataframe tbody tr th:only-of-type {\n",
       "        vertical-align: middle;\n",
       "    }\n",
       "\n",
       "    .dataframe tbody tr th {\n",
       "        vertical-align: top;\n",
       "    }\n",
       "\n",
       "    .dataframe thead th {\n",
       "        text-align: right;\n",
       "    }\n",
       "</style>\n",
       "<table border=\"1\" class=\"dataframe\">\n",
       "  <thead>\n",
       "    <tr style=\"text-align: right;\">\n",
       "      <th></th>\n",
       "      <th>duration</th>\n",
       "      <th>orig_bytes</th>\n",
       "      <th>resp_bytes</th>\n",
       "      <th>orig_pkts</th>\n",
       "      <th>orig_ip_bytes</th>\n",
       "      <th>resp_pkts</th>\n",
       "      <th>resp_ip_bytes</th>\n",
       "      <th>label</th>\n",
       "    </tr>\n",
       "  </thead>\n",
       "  <tbody>\n",
       "    <tr>\n",
       "      <th>1</th>\n",
       "      <td>0.000000</td>\n",
       "      <td>0</td>\n",
       "      <td>0</td>\n",
       "      <td>0</td>\n",
       "      <td>0</td>\n",
       "      <td>0</td>\n",
       "      <td>0</td>\n",
       "      <td>0</td>\n",
       "    </tr>\n",
       "    <tr>\n",
       "      <th>2</th>\n",
       "      <td>0.000000</td>\n",
       "      <td>0</td>\n",
       "      <td>0</td>\n",
       "      <td>0</td>\n",
       "      <td>0</td>\n",
       "      <td>0</td>\n",
       "      <td>0</td>\n",
       "      <td>0</td>\n",
       "    </tr>\n",
       "    <tr>\n",
       "      <th>4</th>\n",
       "      <td>0.000000</td>\n",
       "      <td>0</td>\n",
       "      <td>0</td>\n",
       "      <td>0</td>\n",
       "      <td>0</td>\n",
       "      <td>0</td>\n",
       "      <td>0</td>\n",
       "      <td>0</td>\n",
       "    </tr>\n",
       "    <tr>\n",
       "      <th>5</th>\n",
       "      <td>0.053276</td>\n",
       "      <td>208</td>\n",
       "      <td>976</td>\n",
       "      <td>6</td>\n",
       "      <td>528</td>\n",
       "      <td>6</td>\n",
       "      <td>1296</td>\n",
       "      <td>0</td>\n",
       "    </tr>\n",
       "    <tr>\n",
       "      <th>6</th>\n",
       "      <td>0.383646</td>\n",
       "      <td>227</td>\n",
       "      <td>692369</td>\n",
       "      <td>202</td>\n",
       "      <td>10739</td>\n",
       "      <td>117</td>\n",
       "      <td>240893</td>\n",
       "      <td>0</td>\n",
       "    </tr>\n",
       "    <tr>\n",
       "      <th>...</th>\n",
       "      <td>...</td>\n",
       "      <td>...</td>\n",
       "      <td>...</td>\n",
       "      <td>...</td>\n",
       "      <td>...</td>\n",
       "      <td>...</td>\n",
       "      <td>...</td>\n",
       "      <td>...</td>\n",
       "    </tr>\n",
       "    <tr>\n",
       "      <th>4430183</th>\n",
       "      <td>0.000051</td>\n",
       "      <td>0</td>\n",
       "      <td>0</td>\n",
       "      <td>1</td>\n",
       "      <td>52</td>\n",
       "      <td>1</td>\n",
       "      <td>40</td>\n",
       "      <td>0</td>\n",
       "    </tr>\n",
       "    <tr>\n",
       "      <th>4430184</th>\n",
       "      <td>0.000023</td>\n",
       "      <td>0</td>\n",
       "      <td>0</td>\n",
       "      <td>0</td>\n",
       "      <td>0</td>\n",
       "      <td>1</td>\n",
       "      <td>40</td>\n",
       "      <td>0</td>\n",
       "    </tr>\n",
       "    <tr>\n",
       "      <th>4430185</th>\n",
       "      <td>0.000005</td>\n",
       "      <td>0</td>\n",
       "      <td>0</td>\n",
       "      <td>0</td>\n",
       "      <td>0</td>\n",
       "      <td>1</td>\n",
       "      <td>40</td>\n",
       "      <td>0</td>\n",
       "    </tr>\n",
       "    <tr>\n",
       "      <th>4430186</th>\n",
       "      <td>0.000005</td>\n",
       "      <td>0</td>\n",
       "      <td>0</td>\n",
       "      <td>0</td>\n",
       "      <td>0</td>\n",
       "      <td>1</td>\n",
       "      <td>40</td>\n",
       "      <td>0</td>\n",
       "    </tr>\n",
       "    <tr>\n",
       "      <th>4430187</th>\n",
       "      <td>0.000005</td>\n",
       "      <td>0</td>\n",
       "      <td>0</td>\n",
       "      <td>0</td>\n",
       "      <td>0</td>\n",
       "      <td>1</td>\n",
       "      <td>40</td>\n",
       "      <td>0</td>\n",
       "    </tr>\n",
       "  </tbody>\n",
       "</table>\n",
       "<p>4236125 rows × 8 columns</p>\n",
       "</div>"
      ],
      "text/plain": [
       "         duration  orig_bytes  resp_bytes  orig_pkts  orig_ip_bytes   \n",
       "1        0.000000           0           0          0              0  \\\n",
       "2        0.000000           0           0          0              0   \n",
       "4        0.000000           0           0          0              0   \n",
       "5        0.053276         208         976          6            528   \n",
       "6        0.383646         227      692369        202          10739   \n",
       "...           ...         ...         ...        ...            ...   \n",
       "4430183  0.000051           0           0          1             52   \n",
       "4430184  0.000023           0           0          0              0   \n",
       "4430185  0.000005           0           0          0              0   \n",
       "4430186  0.000005           0           0          0              0   \n",
       "4430187  0.000005           0           0          0              0   \n",
       "\n",
       "         resp_pkts  resp_ip_bytes  label  \n",
       "1                0              0      0  \n",
       "2                0              0      0  \n",
       "4                0              0      0  \n",
       "5                6           1296      0  \n",
       "6              117         240893      0  \n",
       "...            ...            ...    ...  \n",
       "4430183          1             40      0  \n",
       "4430184          1             40      0  \n",
       "4430185          1             40      0  \n",
       "4430186          1             40      0  \n",
       "4430187          1             40      0  \n",
       "\n",
       "[4236125 rows x 8 columns]"
      ]
     },
     "execution_count": 3,
     "metadata": {},
     "output_type": "execute_result"
    }
   ],
   "source": [
    "# Drop the port column\n",
    "df_conn = df_conn.drop(columns=['id.resp_p'], inplace=False)\n",
    "df_conn"
   ]
  },
  {
   "cell_type": "code",
   "execution_count": 4,
   "metadata": {},
   "outputs": [
    {
     "data": {
      "text/html": [
       "<div>\n",
       "<style scoped>\n",
       "    .dataframe tbody tr th:only-of-type {\n",
       "        vertical-align: middle;\n",
       "    }\n",
       "\n",
       "    .dataframe tbody tr th {\n",
       "        vertical-align: top;\n",
       "    }\n",
       "\n",
       "    .dataframe thead th {\n",
       "        text-align: right;\n",
       "    }\n",
       "</style>\n",
       "<table border=\"1\" class=\"dataframe\">\n",
       "  <thead>\n",
       "    <tr style=\"text-align: right;\">\n",
       "      <th></th>\n",
       "      <th>duration</th>\n",
       "      <th>orig_bytes</th>\n",
       "      <th>resp_bytes</th>\n",
       "      <th>orig_pkts</th>\n",
       "      <th>orig_ip_bytes</th>\n",
       "      <th>resp_pkts</th>\n",
       "      <th>resp_ip_bytes</th>\n",
       "      <th>label</th>\n",
       "    </tr>\n",
       "  </thead>\n",
       "  <tbody>\n",
       "    <tr>\n",
       "      <th>5</th>\n",
       "      <td>0.053276</td>\n",
       "      <td>208</td>\n",
       "      <td>976</td>\n",
       "      <td>6</td>\n",
       "      <td>528</td>\n",
       "      <td>6</td>\n",
       "      <td>1296</td>\n",
       "      <td>0</td>\n",
       "    </tr>\n",
       "    <tr>\n",
       "      <th>6</th>\n",
       "      <td>0.383646</td>\n",
       "      <td>227</td>\n",
       "      <td>692369</td>\n",
       "      <td>202</td>\n",
       "      <td>10739</td>\n",
       "      <td>117</td>\n",
       "      <td>240893</td>\n",
       "      <td>0</td>\n",
       "    </tr>\n",
       "    <tr>\n",
       "      <th>7</th>\n",
       "      <td>0.054294</td>\n",
       "      <td>208</td>\n",
       "      <td>977</td>\n",
       "      <td>6</td>\n",
       "      <td>528</td>\n",
       "      <td>6</td>\n",
       "      <td>1297</td>\n",
       "      <td>0</td>\n",
       "    </tr>\n",
       "    <tr>\n",
       "      <th>8</th>\n",
       "      <td>0.424980</td>\n",
       "      <td>227</td>\n",
       "      <td>791633</td>\n",
       "      <td>176</td>\n",
       "      <td>9387</td>\n",
       "      <td>174</td>\n",
       "      <td>367737</td>\n",
       "      <td>0</td>\n",
       "    </tr>\n",
       "    <tr>\n",
       "      <th>9</th>\n",
       "      <td>0.272567</td>\n",
       "      <td>227</td>\n",
       "      <td>406607</td>\n",
       "      <td>171</td>\n",
       "      <td>9127</td>\n",
       "      <td>71</td>\n",
       "      <td>169939</td>\n",
       "      <td>0</td>\n",
       "    </tr>\n",
       "    <tr>\n",
       "      <th>...</th>\n",
       "      <td>...</td>\n",
       "      <td>...</td>\n",
       "      <td>...</td>\n",
       "      <td>...</td>\n",
       "      <td>...</td>\n",
       "      <td>...</td>\n",
       "      <td>...</td>\n",
       "      <td>...</td>\n",
       "    </tr>\n",
       "    <tr>\n",
       "      <th>4430183</th>\n",
       "      <td>0.000051</td>\n",
       "      <td>0</td>\n",
       "      <td>0</td>\n",
       "      <td>1</td>\n",
       "      <td>52</td>\n",
       "      <td>1</td>\n",
       "      <td>40</td>\n",
       "      <td>0</td>\n",
       "    </tr>\n",
       "    <tr>\n",
       "      <th>4430184</th>\n",
       "      <td>0.000023</td>\n",
       "      <td>0</td>\n",
       "      <td>0</td>\n",
       "      <td>0</td>\n",
       "      <td>0</td>\n",
       "      <td>1</td>\n",
       "      <td>40</td>\n",
       "      <td>0</td>\n",
       "    </tr>\n",
       "    <tr>\n",
       "      <th>4430185</th>\n",
       "      <td>0.000005</td>\n",
       "      <td>0</td>\n",
       "      <td>0</td>\n",
       "      <td>0</td>\n",
       "      <td>0</td>\n",
       "      <td>1</td>\n",
       "      <td>40</td>\n",
       "      <td>0</td>\n",
       "    </tr>\n",
       "    <tr>\n",
       "      <th>4430186</th>\n",
       "      <td>0.000005</td>\n",
       "      <td>0</td>\n",
       "      <td>0</td>\n",
       "      <td>0</td>\n",
       "      <td>0</td>\n",
       "      <td>1</td>\n",
       "      <td>40</td>\n",
       "      <td>0</td>\n",
       "    </tr>\n",
       "    <tr>\n",
       "      <th>4430187</th>\n",
       "      <td>0.000005</td>\n",
       "      <td>0</td>\n",
       "      <td>0</td>\n",
       "      <td>0</td>\n",
       "      <td>0</td>\n",
       "      <td>1</td>\n",
       "      <td>40</td>\n",
       "      <td>0</td>\n",
       "    </tr>\n",
       "  </tbody>\n",
       "</table>\n",
       "<p>207608 rows × 8 columns</p>\n",
       "</div>"
      ],
      "text/plain": [
       "         duration  orig_bytes  resp_bytes  orig_pkts  orig_ip_bytes   \n",
       "5        0.053276         208         976          6            528  \\\n",
       "6        0.383646         227      692369        202          10739   \n",
       "7        0.054294         208         977          6            528   \n",
       "8        0.424980         227      791633        176           9387   \n",
       "9        0.272567         227      406607        171           9127   \n",
       "...           ...         ...         ...        ...            ...   \n",
       "4430183  0.000051           0           0          1             52   \n",
       "4430184  0.000023           0           0          0              0   \n",
       "4430185  0.000005           0           0          0              0   \n",
       "4430186  0.000005           0           0          0              0   \n",
       "4430187  0.000005           0           0          0              0   \n",
       "\n",
       "         resp_pkts  resp_ip_bytes  label  \n",
       "5                6           1296      0  \n",
       "6              117         240893      0  \n",
       "7                6           1297      0  \n",
       "8              174         367737      0  \n",
       "9               71         169939      0  \n",
       "...            ...            ...    ...  \n",
       "4430183          1             40      0  \n",
       "4430184          1             40      0  \n",
       "4430185          1             40      0  \n",
       "4430186          1             40      0  \n",
       "4430187          1             40      0  \n",
       "\n",
       "[207608 rows x 8 columns]"
      ]
     },
     "execution_count": 4,
     "metadata": {},
     "output_type": "execute_result"
    }
   ],
   "source": [
    "# Looking at above, we see a number of records with 0s. \n",
    "# These will add no value to our learning process\n",
    "# Let's find all those records and drop them\n",
    "# Reference: https://stackoverflow.com/questions/13851535/how-to-delete-rows-from-a-pandas-dataframe-based-on-a-conditional-expression\n",
    "df_conn = df_conn.drop(df_conn[(df_conn.duration == 0 ) & (df_conn.orig_bytes == 0 ) \\\n",
    "                               & (df_conn.resp_bytes == 0 ) & (df_conn.orig_pkts == 0 )  \\\n",
    "                                & (df_conn.orig_ip_bytes == 0 ) & (df_conn.resp_pkts == 0 ) \\\n",
    "                                    & (df_conn.resp_ip_bytes == 0 )].index)\n",
    "df_conn"
   ]
  },
  {
   "cell_type": "code",
   "execution_count": 5,
   "metadata": {},
   "outputs": [
    {
     "data": {
      "image/png": "[encoded data removed]",
      "text/plain": [
       "<Figure size 640x480 with 1 Axes>"
      ]
     },
     "metadata": {},
     "output_type": "display_data"
    }
   ],
   "source": [
    "# The graph below shows this dataset is highly imbalanced.\n",
    "# As a result, using measures like accuracy is more than likely not the best approach, \n",
    "# to understand how well our eventual model has \"learned\"\n",
    "# via the training data\n",
    "plt.title('Bar graph showing highly imbalanced dataset')\n",
    "plt.bar(x=['normal', 'suspicious'], height=[ df_conn[df_conn.label == 0].shape[0], df_conn[df_conn.label == 1].shape[0] ])\n",
    "plt.ylabel(ylabel='Number of Records')\n",
    "plt.xlabel(xlabel='Normal vs Suspicious')\n",
    "plt.xticks(rotation=45)\n",
    "plt.show()"
   ]
  },
  {
   "cell_type": "code",
   "execution_count": 6,
   "metadata": {},
   "outputs": [
    {
     "data": {
      "text/plain": [
       "0.032272359446649454"
      ]
     },
     "execution_count": 6,
     "metadata": {},
     "output_type": "execute_result"
    }
   ],
   "source": [
    "# Getting the percentage of samples that are considered suspicious in this dataset\n",
    "# This is going to be quite a challenge for this learning algorithm\n",
    "(df_conn[df_conn.label == 1].shape[0] / df_conn.shape[0]) * 100"
   ]
  },
  {
   "cell_type": "code",
   "execution_count": 7,
   "metadata": {},
   "outputs": [
    {
     "data": {
      "text/html": [
       "<div>\n",
       "<style scoped>\n",
       "    .dataframe tbody tr th:only-of-type {\n",
       "        vertical-align: middle;\n",
       "    }\n",
       "\n",
       "    .dataframe tbody tr th {\n",
       "        vertical-align: top;\n",
       "    }\n",
       "\n",
       "    .dataframe thead th {\n",
       "        text-align: right;\n",
       "    }\n",
       "</style>\n",
       "<table border=\"1\" class=\"dataframe\">\n",
       "  <thead>\n",
       "    <tr style=\"text-align: right;\">\n",
       "      <th></th>\n",
       "      <th>duration</th>\n",
       "      <th>orig_bytes</th>\n",
       "      <th>resp_bytes</th>\n",
       "      <th>orig_pkts</th>\n",
       "      <th>orig_ip_bytes</th>\n",
       "      <th>resp_pkts</th>\n",
       "      <th>resp_ip_bytes</th>\n",
       "    </tr>\n",
       "  </thead>\n",
       "  <tbody>\n",
       "    <tr>\n",
       "      <th>5</th>\n",
       "      <td>0.053276</td>\n",
       "      <td>208</td>\n",
       "      <td>976</td>\n",
       "      <td>6</td>\n",
       "      <td>528</td>\n",
       "      <td>6</td>\n",
       "      <td>1296</td>\n",
       "    </tr>\n",
       "    <tr>\n",
       "      <th>6</th>\n",
       "      <td>0.383646</td>\n",
       "      <td>227</td>\n",
       "      <td>692369</td>\n",
       "      <td>202</td>\n",
       "      <td>10739</td>\n",
       "      <td>117</td>\n",
       "      <td>240893</td>\n",
       "    </tr>\n",
       "    <tr>\n",
       "      <th>7</th>\n",
       "      <td>0.054294</td>\n",
       "      <td>208</td>\n",
       "      <td>977</td>\n",
       "      <td>6</td>\n",
       "      <td>528</td>\n",
       "      <td>6</td>\n",
       "      <td>1297</td>\n",
       "    </tr>\n",
       "    <tr>\n",
       "      <th>8</th>\n",
       "      <td>0.424980</td>\n",
       "      <td>227</td>\n",
       "      <td>791633</td>\n",
       "      <td>176</td>\n",
       "      <td>9387</td>\n",
       "      <td>174</td>\n",
       "      <td>367737</td>\n",
       "    </tr>\n",
       "    <tr>\n",
       "      <th>9</th>\n",
       "      <td>0.272567</td>\n",
       "      <td>227</td>\n",
       "      <td>406607</td>\n",
       "      <td>171</td>\n",
       "      <td>9127</td>\n",
       "      <td>71</td>\n",
       "      <td>169939</td>\n",
       "    </tr>\n",
       "    <tr>\n",
       "      <th>...</th>\n",
       "      <td>...</td>\n",
       "      <td>...</td>\n",
       "      <td>...</td>\n",
       "      <td>...</td>\n",
       "      <td>...</td>\n",
       "      <td>...</td>\n",
       "      <td>...</td>\n",
       "    </tr>\n",
       "    <tr>\n",
       "      <th>4430183</th>\n",
       "      <td>0.000051</td>\n",
       "      <td>0</td>\n",
       "      <td>0</td>\n",
       "      <td>1</td>\n",
       "      <td>52</td>\n",
       "      <td>1</td>\n",
       "      <td>40</td>\n",
       "    </tr>\n",
       "    <tr>\n",
       "      <th>4430184</th>\n",
       "      <td>0.000023</td>\n",
       "      <td>0</td>\n",
       "      <td>0</td>\n",
       "      <td>0</td>\n",
       "      <td>0</td>\n",
       "      <td>1</td>\n",
       "      <td>40</td>\n",
       "    </tr>\n",
       "    <tr>\n",
       "      <th>4430185</th>\n",
       "      <td>0.000005</td>\n",
       "      <td>0</td>\n",
       "      <td>0</td>\n",
       "      <td>0</td>\n",
       "      <td>0</td>\n",
       "      <td>1</td>\n",
       "      <td>40</td>\n",
       "    </tr>\n",
       "    <tr>\n",
       "      <th>4430186</th>\n",
       "      <td>0.000005</td>\n",
       "      <td>0</td>\n",
       "      <td>0</td>\n",
       "      <td>0</td>\n",
       "      <td>0</td>\n",
       "      <td>1</td>\n",
       "      <td>40</td>\n",
       "    </tr>\n",
       "    <tr>\n",
       "      <th>4430187</th>\n",
       "      <td>0.000005</td>\n",
       "      <td>0</td>\n",
       "      <td>0</td>\n",
       "      <td>0</td>\n",
       "      <td>0</td>\n",
       "      <td>1</td>\n",
       "      <td>40</td>\n",
       "    </tr>\n",
       "  </tbody>\n",
       "</table>\n",
       "<p>207608 rows × 7 columns</p>\n",
       "</div>"
      ],
      "text/plain": [
       "         duration  orig_bytes  resp_bytes  orig_pkts  orig_ip_bytes   \n",
       "5        0.053276         208         976          6            528  \\\n",
       "6        0.383646         227      692369        202          10739   \n",
       "7        0.054294         208         977          6            528   \n",
       "8        0.424980         227      791633        176           9387   \n",
       "9        0.272567         227      406607        171           9127   \n",
       "...           ...         ...         ...        ...            ...   \n",
       "4430183  0.000051           0           0          1             52   \n",
       "4430184  0.000023           0           0          0              0   \n",
       "4430185  0.000005           0           0          0              0   \n",
       "4430186  0.000005           0           0          0              0   \n",
       "4430187  0.000005           0           0          0              0   \n",
       "\n",
       "         resp_pkts  resp_ip_bytes  \n",
       "5                6           1296  \n",
       "6              117         240893  \n",
       "7                6           1297  \n",
       "8              174         367737  \n",
       "9               71         169939  \n",
       "...            ...            ...  \n",
       "4430183          1             40  \n",
       "4430184          1             40  \n",
       "4430185          1             40  \n",
       "4430186          1             40  \n",
       "4430187          1             40  \n",
       "\n",
       "[207608 rows x 7 columns]"
      ]
     },
     "execution_count": 7,
     "metadata": {},
     "output_type": "execute_result"
    }
   ],
   "source": [
    "# Drop the label column\n",
    "X_data = df_conn.drop(columns=['label'], inplace=False)\n",
    "X_data"
   ]
  },
  {
   "cell_type": "code",
   "execution_count": 8,
   "metadata": {},
   "outputs": [
    {
     "data": {
      "text/plain": [
       "5          0\n",
       "6          0\n",
       "7          0\n",
       "8          0\n",
       "9          0\n",
       "          ..\n",
       "4430183    0\n",
       "4430184    0\n",
       "4430185    0\n",
       "4430186    0\n",
       "4430187    0\n",
       "Name: label, Length: 207608, dtype: int64"
      ]
     },
     "execution_count": 8,
     "metadata": {},
     "output_type": "execute_result"
    }
   ],
   "source": [
    "# Extract the labels to be used for classification\n",
    "y_label = df_conn.label\n",
    "y_label"
   ]
  },
  {
   "cell_type": "code",
   "execution_count": 9,
   "metadata": {},
   "outputs": [],
   "source": [
    "# prepare to split the data into training and testing sets\n",
    "from sklearn.model_selection import train_test_split"
   ]
  },
  {
   "cell_type": "code",
   "execution_count": 10,
   "metadata": {},
   "outputs": [
    {
     "data": {
      "text/plain": [
       "((166086, 7), (166086,), (41522, 7), (41522,))"
      ]
     },
     "execution_count": 10,
     "metadata": {},
     "output_type": "execute_result"
    }
   ],
   "source": [
    "# Split the data into training and testing sets\n",
    "X_train, X_test, y_train, y_test = train_test_split(X_data.values, y_label, test_size=0.2, train_size=0.8, \\\n",
    "                                                    stratify=y_label, random_state=10)\n",
    "X_train.shape, y_train.shape, X_test.shape, y_test.shape"
   ]
  },
  {
   "cell_type": "code",
   "execution_count": 11,
   "metadata": {},
   "outputs": [],
   "source": [
    "# Scaling the data first\n",
    "# import the scaler library\n",
    "# https://scikit-learn.org/stable/modules/generated/sklearn.preprocessing.MinMaxScaler.html\n",
    "from sklearn.preprocessing import MinMaxScaler"
   ]
  },
  {
   "cell_type": "code",
   "execution_count": 12,
   "metadata": {},
   "outputs": [
    {
     "data": {
      "text/plain": [
       "(array([[2.63072563e-07, 9.18795041e-08, 7.10178687e-08, ...,\n",
       "         3.59579942e-07, 1.75013957e-06, 3.05765612e-07],\n",
       "        [3.61672231e-07, 5.89415687e-08, 2.38314996e-08, ...,\n",
       "         2.75234030e-07, 1.75013957e-06, 1.34744168e-07],\n",
       "        [2.79225614e-09, 0.00000000e+00, 0.00000000e+00, ...,\n",
       "         2.30841444e-07, 1.75013957e-06, 6.90995734e-08],\n",
       "        ...,\n",
       "        [1.68135854e-09, 0.00000000e+00, 0.00000000e+00, ...,\n",
       "         2.30841444e-07, 1.75013957e-06, 6.90995734e-08],\n",
       "        [1.65133428e-09, 0.00000000e+00, 0.00000000e+00, ...,\n",
       "         2.30841444e-07, 1.75013957e-06, 6.90995734e-08],\n",
       "        [3.49932746e-07, 7.80108997e-08, 8.38868784e-08, ...,\n",
       "         3.24065874e-07, 1.75013957e-06, 3.52407824e-07]]),\n",
       " (166086, 7))"
      ]
     },
     "execution_count": 12,
     "metadata": {},
     "output_type": "execute_result"
    }
   ],
   "source": [
    "# Setup the scaler for classification\n",
    "# We learned about scaling in noebook\n",
    "#   06 - Beginning Data Scaling\n",
    "min_max_scaler = MinMaxScaler(feature_range=(0,1))\n",
    "\n",
    "# Fit on the classification training data\n",
    "min_max_scaler.fit(X_train)\n",
    "\n",
    "# Transform the train data\n",
    "X_train_scaled = min_max_scaler.transform(X_train)\n",
    "X_train_scaled, X_train_scaled.shape"
   ]
  },
  {
   "cell_type": "code",
   "execution_count": 13,
   "metadata": {},
   "outputs": [
    {
     "data": {
      "text/plain": [
       "array([[1.73484676e-05, 3.90054499e-07, 8.33234064e-04, ...,\n",
       "        7.60578166e-05, 6.94805411e-04, 1.16707452e-03],\n",
       "       [5.08070521e-07, 6.41422953e-08, 5.29059290e-08, ...,\n",
       "        2.88551805e-07, 1.75013957e-06, 2.40121018e-07],\n",
       "       [4.43809598e-06, 2.05948775e-06, 1.84884774e-05, ...,\n",
       "        9.69534066e-06, 5.60044664e-05, 6.65187043e-05],\n",
       "       ...,\n",
       "       [5.47522398e-07, 6.41422953e-08, 8.96064383e-08, ...,\n",
       "        2.88551805e-07, 1.75013957e-06, 3.73137696e-07],\n",
       "       [1.83147984e-09, 0.00000000e+00, 0.00000000e+00, ...,\n",
       "        2.30841444e-07, 1.75013957e-06, 6.90995734e-08],\n",
       "       [0.00000000e+00, 0.00000000e+00, 0.00000000e+00, ...,\n",
       "        3.95094010e-07, 0.00000000e+00, 0.00000000e+00]])"
      ]
     },
     "execution_count": 13,
     "metadata": {},
     "output_type": "execute_result"
    }
   ],
   "source": [
    "# Scale the classification test data\n",
    "X_test_scaled = min_max_scaler.transform(X_test)\n",
    "X_test_scaled"
   ]
  },
  {
   "cell_type": "code",
   "execution_count": 14,
   "metadata": {},
   "outputs": [],
   "source": [
    "# import PCA to leverage dimensionality reduction\n",
    "from sklearn.decomposition import PCA"
   ]
  },
  {
   "cell_type": "code",
   "execution_count": 15,
   "metadata": {},
   "outputs": [
    {
     "data": {
      "text/html": [
       "<style>#sk-container-id-1 {color: black;background-color: white;}#sk-container-id-1 pre{padding: 0;}#sk-container-id-1 div.sk-toggleable {background-color: white;}#sk-container-id-1 label.sk-toggleable__label {cursor: pointer;display: block;width: 100%;margin-bottom: 0;padding: 0.3em;box-sizing: border-box;text-align: center;}#sk-container-id-1 label.sk-toggleable__label-arrow:before {content: \"▸\";float: left;margin-right: 0.25em;color: #696969;}#sk-container-id-1 label.sk-toggleable__label-arrow:hover:before {color: black;}#sk-container-id-1 div.sk-estimator:hover label.sk-toggleable__label-arrow:before {color: black;}#sk-container-id-1 div.sk-toggleable__content {max-height: 0;max-width: 0;overflow: hidden;text-align: left;background-color: #f0f8ff;}#sk-container-id-1 div.sk-toggleable__content pre {margin: 0.2em;color: black;border-radius: 0.25em;background-color: #f0f8ff;}#sk-container-id-1 input.sk-toggleable__control:checked~div.sk-toggleable__content {max-height: 200px;max-width: 100%;overflow: auto;}#sk-container-id-1 input.sk-toggleable__control:checked~label.sk-toggleable__label-arrow:before {content: \"▾\";}#sk-container-id-1 div.sk-estimator input.sk-toggleable__control:checked~label.sk-toggleable__label {background-color: #d4ebff;}#sk-container-id-1 div.sk-label input.sk-toggleable__control:checked~label.sk-toggleable__label {background-color: #d4ebff;}#sk-container-id-1 input.sk-hidden--visually {border: 0;clip: rect(1px 1px 1px 1px);clip: rect(1px, 1px, 1px, 1px);height: 1px;margin: -1px;overflow: hidden;padding: 0;position: absolute;width: 1px;}#sk-container-id-1 div.sk-estimator {font-family: monospace;background-color: #f0f8ff;border: 1px dotted black;border-radius: 0.25em;box-sizing: border-box;margin-bottom: 0.5em;}#sk-container-id-1 div.sk-estimator:hover {background-color: #d4ebff;}#sk-container-id-1 div.sk-parallel-item::after {content: \"\";width: 100%;border-bottom: 1px solid gray;flex-grow: 1;}#sk-container-id-1 div.sk-label:hover label.sk-toggleable__label {background-color: #d4ebff;}#sk-container-id-1 div.sk-serial::before {content: \"\";position: absolute;border-left: 1px solid gray;box-sizing: border-box;top: 0;bottom: 0;left: 50%;z-index: 0;}#sk-container-id-1 div.sk-serial {display: flex;flex-direction: column;align-items: center;background-color: white;padding-right: 0.2em;padding-left: 0.2em;position: relative;}#sk-container-id-1 div.sk-item {position: relative;z-index: 1;}#sk-container-id-1 div.sk-parallel {display: flex;align-items: stretch;justify-content: center;background-color: white;position: relative;}#sk-container-id-1 div.sk-item::before, #sk-container-id-1 div.sk-parallel-item::before {content: \"\";position: absolute;border-left: 1px solid gray;box-sizing: border-box;top: 0;bottom: 0;left: 50%;z-index: -1;}#sk-container-id-1 div.sk-parallel-item {display: flex;flex-direction: column;z-index: 1;position: relative;background-color: white;}#sk-container-id-1 div.sk-parallel-item:first-child::after {align-self: flex-end;width: 50%;}#sk-container-id-1 div.sk-parallel-item:last-child::after {align-self: flex-start;width: 50%;}#sk-container-id-1 div.sk-parallel-item:only-child::after {width: 0;}#sk-container-id-1 div.sk-dashed-wrapped {border: 1px dashed gray;margin: 0 0.4em 0.5em 0.4em;box-sizing: border-box;padding-bottom: 0.4em;background-color: white;}#sk-container-id-1 div.sk-label label {font-family: monospace;font-weight: bold;display: inline-block;line-height: 1.2em;}#sk-container-id-1 div.sk-label-container {text-align: center;}#sk-container-id-1 div.sk-container {/* jupyter's `normalize.less` sets `[hidden] { display: none; }` but bootstrap.min.css set `[hidden] { display: none !important; }` so we also need the `!important` here to be able to override the default hidden behavior on the sphinx rendered scikit-learn.org. See: https://github.com/scikit-learn/scikit-learn/issues/21755 */display: inline-block !important;position: relative;}#sk-container-id-1 div.sk-text-repr-fallback {display: none;}</style><div id=\"sk-container-id-1\" class=\"sk-top-container\"><div class=\"sk-text-repr-fallback\"><pre>PCA(n_components=3, random_state=10)</pre><b>In a Jupyter environment, please rerun this cell to show the HTML representation or trust the notebook. <br />On GitHub, the HTML representation is unable to render, please try loading this page with nbviewer.org.</b></div><div class=\"sk-container\" hidden><div class=\"sk-item\"><div class=\"sk-estimator sk-toggleable\"><input class=\"sk-toggleable__control sk-hidden--visually\" id=\"sk-estimator-id-1\" type=\"checkbox\" checked><label for=\"sk-estimator-id-1\" class=\"sk-toggleable__label sk-toggleable__label-arrow\">PCA</label><div class=\"sk-toggleable__content\"><pre>PCA(n_components=3, random_state=10)</pre></div></div></div></div></div>"
      ],
      "text/plain": [
       "PCA(n_components=3, random_state=10)"
      ]
     },
     "execution_count": 15,
     "metadata": {},
     "output_type": "execute_result"
    }
   ],
   "source": [
    "# Setup PCA to use 3 principal Components\n",
    "# We learned about PCA in notebook\n",
    "#   07 - Beginning Principal Component Analysis (PCA)\n",
    "pca = PCA(n_components=3, random_state=10)\n",
    "pca"
   ]
  },
  {
   "cell_type": "code",
   "execution_count": 16,
   "metadata": {},
   "outputs": [
    {
     "data": {
      "text/plain": [
       "array([[8.7620e-03, 5.3000e+01, 1.4900e+02, ..., 8.1000e+01, 1.0000e+00,\n",
       "        1.7700e+02],\n",
       "       [1.2046e-02, 3.4000e+01, 5.0000e+01, ..., 6.2000e+01, 1.0000e+00,\n",
       "        7.8000e+01],\n",
       "       [9.3000e-05, 0.0000e+00, 0.0000e+00, ..., 5.2000e+01, 1.0000e+00,\n",
       "        4.0000e+01],\n",
       "       ...,\n",
       "       [5.6000e-05, 0.0000e+00, 0.0000e+00, ..., 5.2000e+01, 1.0000e+00,\n",
       "        4.0000e+01],\n",
       "       [5.5000e-05, 0.0000e+00, 0.0000e+00, ..., 5.2000e+01, 1.0000e+00,\n",
       "        4.0000e+01],\n",
       "       [1.1655e-02, 4.5000e+01, 1.7600e+02, ..., 7.3000e+01, 1.0000e+00,\n",
       "        2.0400e+02]])"
      ]
     },
     "execution_count": 16,
     "metadata": {},
     "output_type": "execute_result"
    }
   ],
   "source": [
    "# Fit on the X_train\n",
    "pca.fit(X_train_scaled)\n",
    "\n",
    "# transform the training data\n",
    "X_train_pca = pca.transform(X_train)\n",
    "X_train"
   ]
  },
  {
   "cell_type": "code",
   "execution_count": 17,
   "metadata": {},
   "outputs": [
    {
     "data": {
      "text/plain": [
       "array([[ 0.00134937,  0.000691  , -0.0008094 ],\n",
       "       [-0.00025832, -0.00023494, -0.0004764 ],\n",
       "       [-0.00018612, -0.00015918, -0.0004979 ],\n",
       "       ...,\n",
       "       [-0.00025824, -0.00023488, -0.00047639],\n",
       "       [-0.00025846, -0.00023515, -0.00047686],\n",
       "       [-0.00025896, -0.0002359 , -0.00047662]])"
      ]
     },
     "execution_count": 17,
     "metadata": {},
     "output_type": "execute_result"
    }
   ],
   "source": [
    "# Use the opportunity to PCA transform the X_test classification data\n",
    "X_test_pca = pca.transform(X_test_scaled)\n",
    "X_test_pca"
   ]
  },
  {
   "cell_type": "code",
   "execution_count": 18,
   "metadata": {},
   "outputs": [
    {
     "data": {
      "text/plain": [
       "2"
      ]
     },
     "execution_count": 18,
     "metadata": {},
     "output_type": "execute_result"
    }
   ],
   "source": [
    "# To get this data ready for a Conv1D layer, needs to change the number of dimensions\n",
    "# Currently the dataset has 2 dimensions\n",
    "X_train_pca.ndim"
   ]
  },
  {
   "cell_type": "code",
   "execution_count": 19,
   "metadata": {},
   "outputs": [
    {
     "data": {
      "text/plain": [
       "((166086, 1, 3), (166086,))"
      ]
     },
     "execution_count": 19,
     "metadata": {},
     "output_type": "execute_result"
    }
   ],
   "source": [
    "# We need it to be at least 3 dimensions. \n",
    "# Let's reshape to get those 3 dimensions\n",
    "X_train_pca = [ np.array(i, ndmin=2) for i in X_train_pca ]\n",
    "X_train_pca = np.asarray(X_train_pca)\n",
    "#X_train = tf.convert_to_tensor(X_train)\n",
    "\n",
    "# Make sure the batch size is consistent with the number of labels\n",
    "# The shape of X_train is batch_size, rows, columns\n",
    "X_train_pca.shape, y_train.shape"
   ]
  },
  {
   "cell_type": "code",
   "execution_count": 20,
   "metadata": {},
   "outputs": [
    {
     "data": {
      "text/plain": [
       "array([[[203.31473264,  28.87316928, -21.4083181 ]],\n",
       "\n",
       "       [[ 81.89942381,  27.78036302, -13.04165797]],\n",
       "\n",
       "       [[ 21.37263823,  32.52786996, -10.8044498 ]],\n",
       "\n",
       "       [[158.14281612, 199.18874327, -60.60034298]],\n",
       "\n",
       "       [[  7.4882963 ,  12.36079447,  -3.41223427]]])"
      ]
     },
     "execution_count": 20,
     "metadata": {},
     "output_type": "execute_result"
    }
   ],
   "source": [
    "# Get a snapshot of the data\n",
    "X_train_pca[:5]"
   ]
  },
  {
   "cell_type": "code",
   "execution_count": null,
   "metadata": {},
   "outputs": [],
   "source": []
  },
  {
   "cell_type": "code",
   "execution_count": 21,
   "metadata": {},
   "outputs": [],
   "source": [
    "# Import tensorflow\n",
    "import tensorflow as tf"
   ]
  },
  {
   "cell_type": "code",
   "execution_count": 22,
   "metadata": {},
   "outputs": [
    {
     "data": {
      "text/plain": [
       "<tf.Tensor: shape=(1, 1, 5), dtype=float32, numpy=array([[[1., 2., 3., 4., 5.]]], dtype=float32)>"
      ]
     },
     "execution_count": 22,
     "metadata": {},
     "output_type": "execute_result"
    }
   ],
   "source": [
    "# Before building this 1D convolution model, let's get an understanding of what 1D convolution is.\n",
    "# Define an array\n",
    "#x_tmp = np.array([1,2,3,4,5,6,7,8,9], ndmin=3, dtype=float)\n",
    "x_tmp = tf.constant(value=[1,2,3,4,5], shape=(1,1,5), dtype=tf.float32, name='constant_tensor')\n",
    "x_tmp"
   ]
  },
  {
   "cell_type": "code",
   "execution_count": 23,
   "metadata": {},
   "outputs": [
    {
     "data": {
      "text/plain": [
       "<tf.Tensor: shape=(1, 1, 1), dtype=float32, numpy=array([[[1.8760896]]], dtype=float32)>"
      ]
     },
     "execution_count": 23,
     "metadata": {},
     "output_type": "execute_result"
    }
   ],
   "source": [
    "# Define a 1D convolution\n",
    "# https://www.tensorflow.org/api_docs/python/tf/keras/layers/Conv1D\n",
    "\n",
    "# Ensure at initialization, the kernel/weights/filter values are the same every time\n",
    "tf.keras.utils.set_random_seed(10)\n",
    "\n",
    "# Build a convolution layer note, I'm using same here vs 'valid' in the PyTorch notebook\n",
    "# \"\"same\" results in padding with zeros evenly to the left/right or up/down of the input \n",
    "#    such that output has the same height/width dimension as the input\"\n",
    "# 20 - Beginning Deep Learning - Convolution Networks - PyTorch <br>\n",
    "conv_layer = tf.keras.layers.Conv1D(filters=1, kernel_size=1, strides=1, padding='same',  \\\n",
    "                                    activation=None, use_bias=False)\n",
    "\n",
    "# Apply the convolution to the data\n",
    "conv_output = conv_layer(x_tmp)\n",
    "\n",
    "# View the conv1d output\n",
    "conv_output"
   ]
  },
  {
   "cell_type": "code",
   "execution_count": 24,
   "metadata": {},
   "outputs": [
    {
     "data": {
      "text/plain": [
       "([<tf.Variable 'conv1d/kernel:0' shape=(1, 5, 1) dtype=float32, numpy=\n",
       "  array([[[ 0.6689315 ],\n",
       "          [-0.9253168 ],\n",
       "          [ 0.8339906 ],\n",
       "          [ 0.01773524],\n",
       "          [ 0.0969758 ]]], dtype=float32)>],\n",
       " <tf.Variable 'conv1d/kernel:0' shape=(1, 5, 1) dtype=float32, numpy=\n",
       " array([[[ 0.6689315 ],\n",
       "         [-0.9253168 ],\n",
       "         [ 0.8339906 ],\n",
       "         [ 0.01773524],\n",
       "         [ 0.0969758 ]]], dtype=float32)>)"
      ]
     },
     "execution_count": 24,
     "metadata": {},
     "output_type": "execute_result"
    }
   ],
   "source": [
    "# The weights and the kernel are the same values\n",
    "conv_layer.weights, conv_layer.kernel"
   ]
  },
  {
   "cell_type": "code",
   "execution_count": 25,
   "metadata": {},
   "outputs": [
    {
     "data": {
      "text/plain": [
       "<tf.Tensor: shape=(1, 1, 5, 1), dtype=bool, numpy=\n",
       "array([[[[ True],\n",
       "         [ True],\n",
       "         [ True],\n",
       "         [ True],\n",
       "         [ True]]]])>"
      ]
     },
     "execution_count": 25,
     "metadata": {},
     "output_type": "execute_result"
    }
   ],
   "source": [
    "# We can further confirm this is true \n",
    "conv_layer.kernel == conv_layer.weights"
   ]
  },
  {
   "cell_type": "code",
   "execution_count": 26,
   "metadata": {},
   "outputs": [
    {
     "data": {
      "text/plain": [
       "(<tf.Tensor: shape=(1, 1, 5), dtype=float32, numpy=array([[[1., 2., 3., 4., 5.]]], dtype=float32)>,\n",
       " <tf.Variable 'conv1d/kernel:0' shape=(1, 5, 1) dtype=float32, numpy=\n",
       " array([[[ 0.6689315 ],\n",
       "         [-0.9253168 ],\n",
       "         [ 0.8339906 ],\n",
       "         [ 0.01773524],\n",
       "         [ 0.0969758 ]]], dtype=float32)>)"
      ]
     },
     "execution_count": 26,
     "metadata": {},
     "output_type": "execute_result"
    }
   ],
   "source": [
    "# Once again, review the input and the kernel\n",
    "x_tmp, conv_layer.kernel"
   ]
  },
  {
   "cell_type": "code",
   "execution_count": 27,
   "metadata": {},
   "outputs": [
    {
     "data": {
      "text/plain": [
       "(1.87608966, array([[[1.8760896]]], dtype=float32))"
      ]
     },
     "execution_count": 27,
     "metadata": {},
     "output_type": "execute_result"
    }
   ],
   "source": [
    "# Compute the convolution operation by multiplying the input by the kernel and adding the values up\n",
    "# This value is the same as seen above from conv_output\n",
    "(1 * 0.6689315 ) + (2 * -0.9253168 ) + (3 * 0.8339906 ) + (4 * 0.01773524 ) + (5 * 0.0969758 ), conv_output.numpy()"
   ]
  },
  {
   "cell_type": "code",
   "execution_count": 28,
   "metadata": {},
   "outputs": [
    {
     "data": {
      "text/plain": [
       "(array([1., 2., 3., 4., 5.], dtype=float32),\n",
       " <tf.Tensor: shape=(5,), dtype=float32, numpy=\n",
       " array([ 0.6689315 , -0.9253168 ,  0.8339906 ,  0.01773524,  0.0969758 ],\n",
       "       dtype=float32)>)"
      ]
     },
     "execution_count": 28,
     "metadata": {},
     "output_type": "execute_result"
    }
   ],
   "source": [
    "# Alternatively for a more simplistic view, reshape both input and kernel to rank 1 tensors\n",
    "x_tmp.numpy().flatten(), tf.reshape(conv_layer.kernel, -1)"
   ]
  },
  {
   "cell_type": "code",
   "execution_count": 29,
   "metadata": {},
   "outputs": [
    {
     "data": {
      "text/plain": [
       "1.8760896"
      ]
     },
     "execution_count": 29,
     "metadata": {},
     "output_type": "execute_result"
    }
   ],
   "source": [
    "# Now find the dot product of these\n",
    "np.dot(x_tmp.numpy().flatten(), tf.reshape(conv_layer.kernel, -1))"
   ]
  },
  {
   "cell_type": "code",
   "execution_count": 30,
   "metadata": {},
   "outputs": [
    {
     "data": {
      "text/plain": [
       "array([[[1.8760896]]], dtype=float32)"
      ]
     },
     "execution_count": 30,
     "metadata": {},
     "output_type": "execute_result"
    }
   ],
   "source": [
    "# The value above, is the exact value from our convolution output\n",
    "conv_output.numpy()"
   ]
  },
  {
   "cell_type": "code",
   "execution_count": null,
   "metadata": {},
   "outputs": [],
   "source": []
  },
  {
   "cell_type": "code",
   "execution_count": 31,
   "metadata": {},
   "outputs": [
    {
     "name": "stdout",
     "output_type": "stream",
     "text": [
      "Model: \"model\"\n",
      "_________________________________________________________________\n",
      " Layer (type)                Output Shape              Param #   \n",
      "=================================================================\n",
      " input_layer (InputLayer)    [(None, 1, 3)]            0         \n",
      "                                                                 \n",
      " conv_hidden (Conv1D)        (None, 1, 1)              4         \n",
      "                                                                 \n",
      " max_poold (MaxPooling1D)    (None, 1, 1)              0         \n",
      "                                                                 \n",
      " flatten_layer (Flatten)     (None, 1)                 0         \n",
      "                                                                 \n",
      " dense_output (Dense)        (None, 1)                 2         \n",
      "                                                                 \n",
      "=================================================================\n",
      "Total params: 6\n",
      "Trainable params: 6\n",
      "Non-trainable params: 0\n",
      "_________________________________________________________________\n"
     ]
    }
   ],
   "source": [
    "# Ensure the model training is repeatable\n",
    "tf.keras.utils.set_random_seed(90)\n",
    "\n",
    "# Build the model using the functional API\n",
    "input_layer = tf.keras.layers.Input(shape=X_train_pca.shape[1:], name='input_layer', dtype=tf.float32)\n",
    "\n",
    "# If the default padding of 'valid' is use we encounter an error about \n",
    "x = tf.keras.layers.Conv1D(filters=1, kernel_size=1, strides=1, padding='valid', name='conv_hidden')(input_layer)\n",
    "\n",
    "# Setup a 1D MaxPool layer\n",
    "x = tf.keras.layers.MaxPool1D(pool_size=2, padding='same', name='max_poold')(x)\n",
    "\n",
    "# Flatten the layers before transitioning to a dense layer\n",
    "x = tf.keras.layers.Flatten(name='flatten_layer')(x)\n",
    "\n",
    "# Leverage the dense layer and make a binary classification\n",
    "x = tf.keras.layers.Dense(units=1, activation='sigmoid', name='dense_output')(x)\n",
    "\n",
    "# Construct the model\n",
    "conv1d_model = tf.keras.Model(inputs=input_layer, outputs=x)\n",
    "\n",
    "# Get the model summary\n",
    "conv1d_model.summary()\n"
   ]
  },
  {
   "cell_type": "code",
   "execution_count": 32,
   "metadata": {},
   "outputs": [
    {
     "data": {
      "image/png": "[encoded data removed]",
      "text/plain": [
       "<IPython.core.display.Image object>"
      ]
     },
     "execution_count": 32,
     "metadata": {},
     "output_type": "execute_result"
    }
   ],
   "source": [
    "# Graph the model\n",
    "tf.keras.utils.plot_model(model=conv1d_model, to_file='conv1d_functional_model.png', show_dtype=True, \\\n",
    "                          show_layer_activations=True, show_layer_names=True, show_shapes=True, show_trainable=True)"
   ]
  },
  {
   "cell_type": "code",
   "execution_count": 33,
   "metadata": {},
   "outputs": [
    {
     "data": {
      "text/plain": [
       "(<keras.engine.input_layer.InputLayer at 0x1fe00181030>,\n",
       " <keras.layers.core.dense.Dense at 0x1fe01362c80>,\n",
       " <keras.layers.convolutional.conv1d.Conv1D at 0x1fdf7c23e20>,\n",
       " <keras.layers.pooling.max_pooling1d.MaxPooling1D at 0x1fe01360b20>,\n",
       " <keras.layers.reshaping.flatten.Flatten at 0x1fe01361e70>)"
      ]
     },
     "execution_count": 33,
     "metadata": {},
     "output_type": "execute_result"
    }
   ],
   "source": [
    "# Get the model submodules\n",
    "conv1d_model.submodules"
   ]
  },
  {
   "cell_type": "code",
   "execution_count": 34,
   "metadata": {},
   "outputs": [
    {
     "data": {
      "text/plain": [
       "[<keras.engine.input_layer.InputLayer at 0x1fe00181030>,\n",
       " <keras.layers.convolutional.conv1d.Conv1D at 0x1fdf7c23e20>,\n",
       " <keras.layers.pooling.max_pooling1d.MaxPooling1D at 0x1fe01360b20>,\n",
       " <keras.layers.reshaping.flatten.Flatten at 0x1fe01361e70>,\n",
       " <keras.layers.core.dense.Dense at 0x1fe01362c80>]"
      ]
     },
     "execution_count": 34,
     "metadata": {},
     "output_type": "execute_result"
    }
   ],
   "source": [
    "# Find all layers\n",
    "# https://www.tensorflow.org/guide/intro_to_modules\n",
    "[ layer for layer in conv1d_model.layers ]"
   ]
  },
  {
   "cell_type": "code",
   "execution_count": 35,
   "metadata": {},
   "outputs": [
    {
     "data": {
      "text/plain": [
       "[<KerasTensor: shape=(None, 1, 3) dtype=float32 (created by layer 'input_layer')>,\n",
       " <KerasTensor: shape=(None, 1, 1) dtype=float32 (created by layer 'conv_hidden')>,\n",
       " <KerasTensor: shape=(None, 1, 1) dtype=float32 (created by layer 'max_poold')>,\n",
       " <KerasTensor: shape=(None, 1) dtype=float32 (created by layer 'flatten_layer')>,\n",
       " <KerasTensor: shape=(None, 1) dtype=float32 (created by layer 'dense_output')>]"
      ]
     },
     "execution_count": 35,
     "metadata": {},
     "output_type": "execute_result"
    }
   ],
   "source": [
    "# Find all layers output\n",
    "[ layer.output for layer in conv1d_model.layers ]"
   ]
  },
  {
   "cell_type": "code",
   "execution_count": 36,
   "metadata": {},
   "outputs": [
    {
     "data": {
      "text/plain": [
       "[[],\n",
       " [<tf.Variable 'conv_hidden/kernel:0' shape=(1, 3, 1) dtype=float32, numpy=\n",
       "  array([[[-0.9994949 ],\n",
       "          [ 0.3309089 ],\n",
       "          [-0.25070262]]], dtype=float32)>,\n",
       "  <tf.Variable 'conv_hidden/bias:0' shape=(1,) dtype=float32, numpy=array([0.], dtype=float32)>],\n",
       " [],\n",
       " [],\n",
       " [<tf.Variable 'dense_output/kernel:0' shape=(1, 1) dtype=float32, numpy=array([[0.40184677]], dtype=float32)>,\n",
       "  <tf.Variable 'dense_output/bias:0' shape=(1,) dtype=float32, numpy=array([0.], dtype=float32)>]]"
      ]
     },
     "execution_count": 36,
     "metadata": {},
     "output_type": "execute_result"
    }
   ],
   "source": [
    "# Take a look at the layer variables\n",
    "[ layer.variables for layer in conv1d_model.layers ]"
   ]
  },
  {
   "cell_type": "code",
   "execution_count": null,
   "metadata": {},
   "outputs": [],
   "source": []
  },
  {
   "cell_type": "code",
   "execution_count": 37,
   "metadata": {},
   "outputs": [
    {
     "data": {
      "text/plain": [
       "[[],\n",
       " [<tf.Variable 'conv_hidden/kernel:0' shape=(1, 3, 1) dtype=float32, numpy=\n",
       "  array([[[-0.9994949 ],\n",
       "          [ 0.3309089 ],\n",
       "          [-0.25070262]]], dtype=float32)>,\n",
       "  <tf.Variable 'conv_hidden/bias:0' shape=(1,) dtype=float32, numpy=array([0.], dtype=float32)>],\n",
       " [],\n",
       " [],\n",
       " [<tf.Variable 'dense_output/kernel:0' shape=(1, 1) dtype=float32, numpy=array([[0.40184677]], dtype=float32)>,\n",
       "  <tf.Variable 'dense_output/bias:0' shape=(1,) dtype=float32, numpy=array([0.], dtype=float32)>]]"
      ]
     },
     "execution_count": 37,
     "metadata": {},
     "output_type": "execute_result"
    }
   ],
   "source": [
    "# Find all trainable variables in the layers.\n",
    "# FIn this case all the variables are trainable\n",
    "[ layer.trainable_variables for layer in conv1d_model.layers ]"
   ]
  },
  {
   "cell_type": "code",
   "execution_count": 38,
   "metadata": {},
   "outputs": [
    {
     "data": {
      "text/plain": [
       "[array([[[-0.9994949 ],\n",
       "         [ 0.3309089 ],\n",
       "         [-0.25070262]]], dtype=float32),\n",
       " array([0.], dtype=float32),\n",
       " array([[0.40184677]], dtype=float32),\n",
       " array([0.], dtype=float32)]"
      ]
     },
     "execution_count": 38,
     "metadata": {},
     "output_type": "execute_result"
    }
   ],
   "source": [
    "# Get the model weights\n",
    "# you should notice that this is the same as layer variables and layer trainable variables\n",
    "conv1d_model.get_weights()"
   ]
  },
  {
   "cell_type": "code",
   "execution_count": 39,
   "metadata": {},
   "outputs": [],
   "source": [
    "# Compile the model\n",
    "conv1d_model.compile(optimizer='adam', loss='binary_crossentropy', metrics=[tf.keras.metrics.Recall(), 'accuracy'])"
   ]
  },
  {
   "cell_type": "code",
   "execution_count": 40,
   "metadata": {},
   "outputs": [
    {
     "name": "stdout",
     "output_type": "stream",
     "text": [
      "Epoch 1/5\n",
      "4153/4153 [==============================] - 13s 3ms/step - loss: 245417.1094 - recall: 0.0000e+00 - accuracy: 0.7865 - val_loss: 390.3182 - val_recall: 0.0000e+00 - val_accuracy: 0.4840\n",
      "Epoch 2/5\n",
      "4153/4153 [==============================] - 12s 3ms/step - loss: 131292.2031 - recall: 0.0244 - accuracy: 0.4329 - val_loss: 206.7811 - val_recall: 0.0000e+00 - val_accuracy: 0.3856\n",
      "Epoch 3/5\n",
      "4153/4153 [==============================] - 11s 3ms/step - loss: 79260.4922 - recall: 0.4390 - accuracy: 0.3869 - val_loss: 116.0749 - val_recall: 0.2308 - val_accuracy: 0.4155\n",
      "Epoch 4/5\n",
      "4153/4153 [==============================] - 12s 3ms/step - loss: 42660.9336 - recall: 0.5122 - accuracy: 0.5260 - val_loss: 46.2213 - val_recall: 0.2308 - val_accuracy: 0.8758\n",
      "Epoch 5/5\n",
      "4153/4153 [==============================] - 11s 3ms/step - loss: 7138.0459 - recall: 0.4634 - accuracy: 0.9133 - val_loss: 0.4902 - val_recall: 0.2308 - val_accuracy: 0.9974\n"
     ]
    },
    {
     "data": {
      "text/plain": [
       "<keras.callbacks.History at 0x1fe0143a020>"
      ]
     },
     "execution_count": 40,
     "metadata": {},
     "output_type": "execute_result"
    }
   ],
   "source": [
    "# Train the model\n",
    "# Notice to address teh class imbalance of the data, I have also assigned class_weight\n",
    "conv1d_model.fit(x=X_train_pca, y=y_train, epochs=5, verbose=1, validation_split=0.2, class_weight={0:1, 1:1000})"
   ]
  },
  {
   "cell_type": "code",
   "execution_count": null,
   "metadata": {},
   "outputs": [],
   "source": []
  },
  {
   "cell_type": "code",
   "execution_count": 41,
   "metadata": {},
   "outputs": [],
   "source": [
    "# Define the callbacks\n",
    "# Also save the model as we go. This is helpful if training on a very large dataset\n",
    "# Also reduce the learning rate when metric has stopped improving\n",
    "# https://www.tensorflow.org/api_docs/python/tf/keras/callbacks/EarlyStopping\n",
    "# https://www.tensorflow.org/api_docs/python/tf/keras/callbacks/ModelCheckpoint\n",
    "# https://www.tensorflow.org/api_docs/python/tf/keras/callbacks/ReduceLROnPlateau\n",
    "callbacks = [ \n",
    "                tf.keras.callbacks.EarlyStopping(monitor='val_loss', patience=3, mode='min', \\\n",
    "                                                 restore_best_weights=True, verbose=1), \n",
    "                tf.keras.callbacks.ModelCheckpoint(filepath=r'.', monitor='val_loss', verbose=1, \\\n",
    "                                                   save_best_only=True, save_weights_only=False, \\\n",
    "                                                    save_freq='epoch', mode='min'),\n",
    "                tf.keras.callbacks.ReduceLROnPlateau(monitor='val_loss', factor=0.1, mode='min', \\\n",
    "                                                     min_lr=0., min_delta=0.001, verbose=1)\n",
    "              ]"
   ]
  },
  {
   "cell_type": "code",
   "execution_count": 42,
   "metadata": {},
   "outputs": [
    {
     "data": {
      "text/plain": [
       "{'loss': [245417.109375,\n",
       "  131292.203125,\n",
       "  79260.4921875,\n",
       "  42660.93359375,\n",
       "  7138.0458984375],\n",
       " 'recall': [0.0,\n",
       "  0.024390242993831635,\n",
       "  0.4390243887901306,\n",
       "  0.5121951103210449,\n",
       "  0.46341463923454285],\n",
       " 'accuracy': [0.7864798307418823,\n",
       "  0.43290331959724426,\n",
       "  0.386932909488678,\n",
       "  0.5259656310081482,\n",
       "  0.9132522344589233],\n",
       " 'val_loss': [390.31817626953125,\n",
       "  206.7811279296875,\n",
       "  116.07493591308594,\n",
       "  46.22126388549805,\n",
       "  0.4901879131793976],\n",
       " 'val_recall': [0.0,\n",
       "  0.0,\n",
       "  0.23076923191547394,\n",
       "  0.23076923191547394,\n",
       "  0.23076923191547394],\n",
       " 'val_accuracy': [0.48404479026794434,\n",
       "  0.38563430309295654,\n",
       "  0.41552773118019104,\n",
       "  0.8758203387260437,\n",
       "  0.9974110126495361]}"
      ]
     },
     "execution_count": 42,
     "metadata": {},
     "output_type": "execute_result"
    }
   ],
   "source": [
    "# Get the model history\n",
    "conv1d_model.history.history"
   ]
  },
  {
   "cell_type": "code",
   "execution_count": 43,
   "metadata": {},
   "outputs": [
    {
     "name": "stdout",
     "output_type": "stream",
     "text": [
      "{'loss': [245417.109375, 131292.203125, 79260.4921875, 42660.93359375, 7138.0458984375], 'recall': [0.0, 0.024390242993831635, 0.4390243887901306, 0.5121951103210449, 0.46341463923454285], 'accuracy': [0.7864798307418823, 0.43290331959724426, 0.386932909488678, 0.5259656310081482, 0.9132522344589233], 'val_loss': [390.31817626953125, 206.7811279296875, 116.07493591308594, 46.22126388549805, 0.4901879131793976], 'val_recall': [0.0, 0.0, 0.23076923191547394, 0.23076923191547394, 0.23076923191547394], 'val_accuracy': [0.48404479026794434, 0.38563430309295654, 0.41552773118019104, 0.8758203387260437, 0.9974110126495361]}\n"
     ]
    }
   ],
   "source": [
    "# How did our algorithm perform\n",
    "print(conv1d_model.history.history)"
   ]
  },
  {
   "cell_type": "code",
   "execution_count": 44,
   "metadata": {},
   "outputs": [
    {
     "data": {
      "text/html": [
       "<div>\n",
       "<style scoped>\n",
       "    .dataframe tbody tr th:only-of-type {\n",
       "        vertical-align: middle;\n",
       "    }\n",
       "\n",
       "    .dataframe tbody tr th {\n",
       "        vertical-align: top;\n",
       "    }\n",
       "\n",
       "    .dataframe thead th {\n",
       "        text-align: right;\n",
       "    }\n",
       "</style>\n",
       "<table border=\"1\" class=\"dataframe\">\n",
       "  <thead>\n",
       "    <tr style=\"text-align: right;\">\n",
       "      <th></th>\n",
       "      <th>loss</th>\n",
       "      <th>recall</th>\n",
       "      <th>accuracy</th>\n",
       "      <th>val_loss</th>\n",
       "      <th>val_recall</th>\n",
       "      <th>val_accuracy</th>\n",
       "    </tr>\n",
       "  </thead>\n",
       "  <tbody>\n",
       "    <tr>\n",
       "      <th>0</th>\n",
       "      <td>245417.109375</td>\n",
       "      <td>0.000000</td>\n",
       "      <td>0.786480</td>\n",
       "      <td>390.318176</td>\n",
       "      <td>0.000000</td>\n",
       "      <td>0.484045</td>\n",
       "    </tr>\n",
       "    <tr>\n",
       "      <th>1</th>\n",
       "      <td>131292.203125</td>\n",
       "      <td>0.024390</td>\n",
       "      <td>0.432903</td>\n",
       "      <td>206.781128</td>\n",
       "      <td>0.000000</td>\n",
       "      <td>0.385634</td>\n",
       "    </tr>\n",
       "    <tr>\n",
       "      <th>2</th>\n",
       "      <td>79260.492188</td>\n",
       "      <td>0.439024</td>\n",
       "      <td>0.386933</td>\n",
       "      <td>116.074936</td>\n",
       "      <td>0.230769</td>\n",
       "      <td>0.415528</td>\n",
       "    </tr>\n",
       "    <tr>\n",
       "      <th>3</th>\n",
       "      <td>42660.933594</td>\n",
       "      <td>0.512195</td>\n",
       "      <td>0.525966</td>\n",
       "      <td>46.221264</td>\n",
       "      <td>0.230769</td>\n",
       "      <td>0.875820</td>\n",
       "    </tr>\n",
       "    <tr>\n",
       "      <th>4</th>\n",
       "      <td>7138.045898</td>\n",
       "      <td>0.463415</td>\n",
       "      <td>0.913252</td>\n",
       "      <td>0.490188</td>\n",
       "      <td>0.230769</td>\n",
       "      <td>0.997411</td>\n",
       "    </tr>\n",
       "  </tbody>\n",
       "</table>\n",
       "</div>"
      ],
      "text/plain": [
       "            loss    recall  accuracy    val_loss  val_recall  val_accuracy\n",
       "0  245417.109375  0.000000  0.786480  390.318176    0.000000      0.484045\n",
       "1  131292.203125  0.024390  0.432903  206.781128    0.000000      0.385634\n",
       "2   79260.492188  0.439024  0.386933  116.074936    0.230769      0.415528\n",
       "3   42660.933594  0.512195  0.525966   46.221264    0.230769      0.875820\n",
       "4    7138.045898  0.463415  0.913252    0.490188    0.230769      0.997411"
      ]
     },
     "execution_count": 44,
     "metadata": {},
     "output_type": "execute_result"
    }
   ],
   "source": [
    "# A cleaner view\n",
    "pd.DataFrame(conv1d_model.history.history)"
   ]
  },
  {
   "cell_type": "code",
   "execution_count": 45,
   "metadata": {},
   "outputs": [
    {
     "data": {
      "image/png": "[encoded data removed]",
      "text/plain": [
       "<Figure size 1000x500 with 2 Axes>"
      ]
     },
     "metadata": {},
     "output_type": "display_data"
    }
   ],
   "source": [
    "# plot the loss and accuracy\n",
    "# https://matplotlib.org/stable/api/_as_gen/matplotlib.pyplot.legend.html\n",
    "# We can see from below the loss has decreased while the accuracy has increased.\n",
    "fig, ax = plt.subplots(ncols=2, nrows=1, figsize=(10,5))\n",
    "plt.suptitle('Classification Metrics')\n",
    "\n",
    "ax[0].plot(conv1d_model.history.history['loss'], 'r', conv1d_model.history.history['val_loss'], 'g' )\n",
    "ax[0].set_title('Train vs Validation Loss')\n",
    "ax[0].legend(labels=['Train loss', 'Val loss'])\n",
    "ax[0].set_xlabel('Epochs')\n",
    "ax[0].set_ylabel('Loss')\n",
    "\n",
    "ax[1].plot(conv1d_model.history.history['recall'], 'r', conv1d_model.history.history['val_recall'], 'g' )\n",
    "ax[1].set_title('Recal vs val loss')\n",
    "ax[1].legend(labels=['Recall', 'Val Recall'])\n",
    "ax[1].set_xlabel('Epochs')\n",
    "ax[1].set_ylabel('Loss')\n",
    "\n",
    "plt.tight_layout()\n",
    "\n",
    "plt.show()"
   ]
  },
  {
   "cell_type": "code",
   "execution_count": 46,
   "metadata": {},
   "outputs": [
    {
     "data": {
      "text/plain": [
       "((41522, 1, 3), (41522,))"
      ]
     },
     "execution_count": 46,
     "metadata": {},
     "output_type": "execute_result"
    }
   ],
   "source": [
    "# We need to make the test data at least 3 dimensions, just as we did with the training data. \n",
    "# Let's reshape to get those 3 dimensions\n",
    "X_test_pca = [ np.array(i, ndmin=2) for i in X_test_pca ]\n",
    "X_test_pca = np.asarray(X_test_pca)\n",
    "\n",
    "# Make sure the batch size is consistent with the number of labels\n",
    "X_test_pca.shape, y_test.shape"
   ]
  },
  {
   "cell_type": "code",
   "execution_count": 47,
   "metadata": {},
   "outputs": [
    {
     "name": "stdout",
     "output_type": "stream",
     "text": [
      "1298/1298 [==============================] - 2s 2ms/step - loss: 0.2097 - recall: 0.0000e+00 - accuracy: 0.9997\n"
     ]
    },
    {
     "data": {
      "text/plain": [
       "[0.20971904695034027, 0.0, 0.9996868968009949]"
      ]
     },
     "execution_count": 47,
     "metadata": {},
     "output_type": "execute_result"
    }
   ],
   "source": [
    "# Evaluate the model on the test data\n",
    "results = conv1d_model.evaluate(x=X_test_pca, y=y_test)\n",
    "results"
   ]
  },
  {
   "cell_type": "code",
   "execution_count": 48,
   "metadata": {},
   "outputs": [
    {
     "data": {
      "text/plain": [
       "{'loss': 0.20971904695034027, 'recall': 0.0, 'accuracy': 0.9996868968009949}"
      ]
     },
     "execution_count": 48,
     "metadata": {},
     "output_type": "execute_result"
    }
   ],
   "source": [
    "# Review the evaluation metrics fro a different perspective\n",
    "dict(zip(conv1d_model.metrics_names, results))"
   ]
  },
  {
   "cell_type": "code",
   "execution_count": 49,
   "metadata": {},
   "outputs": [
    {
     "data": {
      "text/plain": [
       "array([[[0.01396942, 0.06439457, 0.2026917 ]]])"
      ]
     },
     "execution_count": 49,
     "metadata": {},
     "output_type": "execute_result"
    }
   ],
   "source": [
    "# Create a sample x for prediction\n",
    "new_sample = np.array(pca.transform(min_max_scaler.transform(np.array([7110, 1124942, 16527, 1873, 1251154, 1695, 112731], \\\n",
    "                                                                      ndmin=2))), ndmin=3)\n",
    "new_sample"
   ]
  },
  {
   "cell_type": "code",
   "execution_count": 50,
   "metadata": {},
   "outputs": [
    {
     "name": "stdout",
     "output_type": "stream",
     "text": [
      "1/1 [==============================] - 0s 148ms/step\n"
     ]
    },
    {
     "data": {
      "text/plain": [
       "array([[0.18881309]], dtype=float32)"
      ]
     },
     "execution_count": 50,
     "metadata": {},
     "output_type": "execute_result"
    }
   ],
   "source": [
    "# Make a prediction\n",
    "# If the prediction is greater than 0.5 then this sample is suspicious\n",
    "# Else it is normal\n",
    "conv1d_model.predict(x=new_sample)"
   ]
  },
  {
   "cell_type": "code",
   "execution_count": 51,
   "metadata": {},
   "outputs": [
    {
     "name": "stdout",
     "output_type": "stream",
     "text": [
      "1298/1298 [==============================] - 2s 2ms/step\n"
     ]
    },
    {
     "data": {
      "text/plain": [
       "array([[0.18882097],\n",
       "       [0.18882097],\n",
       "       [0.18882097],\n",
       "       ...,\n",
       "       [0.18882097],\n",
       "       [0.18882097],\n",
       "       [0.18882097]], dtype=float32)"
      ]
     },
     "execution_count": 51,
     "metadata": {},
     "output_type": "execute_result"
    }
   ],
   "source": [
    "# Make predictions on the test data\n",
    "predictions = conv1d_model.predict(x=X_test_pca)\n",
    "predictions"
   ]
  },
  {
   "cell_type": "code",
   "execution_count": 52,
   "metadata": {},
   "outputs": [
    {
     "data": {
      "text/plain": [
       "((41522, 1), (41522,))"
      ]
     },
     "execution_count": 52,
     "metadata": {},
     "output_type": "execute_result"
    }
   ],
   "source": [
    "# Get the shape of the predictions\n",
    "predictions.shape, y_test.shape"
   ]
  },
  {
   "cell_type": "code",
   "execution_count": 53,
   "metadata": {},
   "outputs": [
    {
     "data": {
      "text/plain": [
       "<matplotlib.legend.Legend at 0x1fe01427310>"
      ]
     },
     "execution_count": 53,
     "metadata": {},
     "output_type": "execute_result"
    },
    {
     "data": {
      "image/png": "[encoded data removed]",
      "text/plain": [
       "<Figure size 640x480 with 1 Axes>"
      ]
     },
     "metadata": {},
     "output_type": "display_data"
    }
   ],
   "source": [
    "# Above confirms this model is terrible. \n",
    "plt.title('True vs Predictions')\n",
    "plt.plot(y_test, linestyle='', marker='o', label='True Y')\n",
    "plt.plot(predictions, ls='-', lw=2, label='predictions')\n",
    "plt.legend(loc='best')\n"
   ]
  },
  {
   "cell_type": "code",
   "execution_count": 54,
   "metadata": {},
   "outputs": [],
   "source": [
    "# Above confirms the model is terrible\n",
    "# import some metrics\n",
    "from sklearn.metrics import accuracy_score, confusion_matrix, classification_report"
   ]
  },
  {
   "cell_type": "code",
   "execution_count": 55,
   "metadata": {},
   "outputs": [
    {
     "data": {
      "text/plain": [
       "0.9996869129618033"
      ]
     },
     "execution_count": 55,
     "metadata": {},
     "output_type": "execute_result"
    }
   ],
   "source": [
    "# Grabbing the accuracy score\n",
    "# Note, we cannot just get the predictions as this would proeduce continuous values\n",
    "# Imagine the model is reporting 99% accuracy. \n",
    "# Accuracy is misleading here\n",
    "accuracy_score(y_true=y_test, y_pred=np.round(predictions))"
   ]
  },
  {
   "cell_type": "code",
   "execution_count": 56,
   "metadata": {},
   "outputs": [
    {
     "name": "stdout",
     "output_type": "stream",
     "text": [
      "              precision    recall  f1-score   support\n",
      "\n",
      "           0       1.00      1.00      1.00     41509\n",
      "           1       0.00      0.00      0.00        13\n",
      "\n",
      "    accuracy                           1.00     41522\n",
      "   macro avg       0.50      0.50      0.50     41522\n",
      "weighted avg       1.00      1.00      1.00     41522\n",
      "\n"
     ]
    },
    {
     "name": "stderr",
     "output_type": "stream",
     "text": [
      "C:\\Users\\SecurityNik\\AppData\\Roaming\\Python\\Python310\\site-packages\\sklearn\\metrics\\_classification.py:1344: UndefinedMetricWarning: Precision and F-score are ill-defined and being set to 0.0 in labels with no predicted samples. Use `zero_division` parameter to control this behavior.\n",
      "  _warn_prf(average, modifier, msg_start, len(result))\n",
      "C:\\Users\\SecurityNik\\AppData\\Roaming\\Python\\Python310\\site-packages\\sklearn\\metrics\\_classification.py:1344: UndefinedMetricWarning: Precision and F-score are ill-defined and being set to 0.0 in labels with no predicted samples. Use `zero_division` parameter to control this behavior.\n",
      "  _warn_prf(average, modifier, msg_start, len(result))\n",
      "C:\\Users\\SecurityNik\\AppData\\Roaming\\Python\\Python310\\site-packages\\sklearn\\metrics\\_classification.py:1344: UndefinedMetricWarning: Precision and F-score are ill-defined and being set to 0.0 in labels with no predicted samples. Use `zero_division` parameter to control this behavior.\n",
      "  _warn_prf(average, modifier, msg_start, len(result))\n"
     ]
    }
   ],
   "source": [
    "# Print classification report\n",
    "print(classification_report(y_true=y_test, y_pred=np.round(predictions)))"
   ]
  },
  {
   "cell_type": "code",
   "execution_count": 57,
   "metadata": {},
   "outputs": [],
   "source": [
    "# import seaborn\n",
    "# https://seaborn.pydata.org/generated/seaborn.heatmap.html\n",
    "import seaborn as sns"
   ]
  },
  {
   "cell_type": "code",
   "execution_count": 58,
   "metadata": {},
   "outputs": [
    {
     "data": {
      "image/png": "[encoded data removed]",
      "text/plain": [
       "<Figure size 640x480 with 2 Axes>"
      ]
     },
     "metadata": {},
     "output_type": "display_data"
    }
   ],
   "source": [
    "# Looking at the confusion matrix, clearly this model has way too much false positives\n",
    "# Maybe we can do a better job at setting a different threshold\n",
    "# However, as said above, we are here for learning purposes\n",
    "# Most importantly, we are not attempting to solve a classification problem\n",
    "# This is just to give us insights into what our threshold looks like at present\n",
    "# To learn more about these metrics see notebook:\n",
    "#   10. Beginning Supervise Learning - Machine Learning - Logistic Regression, Decision Trees and Metrics\n",
    "sns.heatmap(confusion_matrix(y_true=y_test, y_pred=np.round(predictions)), annot=True, fmt='d')\n",
    "plt.title('Confusion Matrix')\n",
    "plt.xlabel('Predicted')\n",
    "plt.ylabel('Actual')\n",
    "plt.show()"
   ]
  },
  {
   "cell_type": "code",
   "execution_count": 59,
   "metadata": {},
   "outputs": [
    {
     "name": "stdout",
     "output_type": "stream",
     "text": [
      "conv1d.h5\n"
     ]
    }
   ],
   "source": [
    "# This model is a model I can live with.\n",
    "# Primary reason being it flagged the majority of the samples as non-issue. \n",
    "# At the same time, I can live with the 9 false negatives\n",
    "# In this context, the hope is I can find these 9 via threat hunting\n",
    "\n",
    "# we may need to reload at a later time\n",
    "# https://www.tensorflow.org/guide/keras/save_and_serialize\n",
    "# https://www.tensorflow.org/tutorials/keras/save_and_load\n",
    "conv1d_model.save(filepath='./conv1d.h5', overwrite=True)\n",
    "\n",
    "!dir *.h5 /b"
   ]
  },
  {
   "cell_type": "code",
   "execution_count": 60,
   "metadata": {},
   "outputs": [],
   "source": [
    "# Prepare to save the model\n",
    "import os"
   ]
  },
  {
   "cell_type": "code",
   "execution_count": 61,
   "metadata": {},
   "outputs": [],
   "source": [
    "# Create the path\n",
    "PATH = './SAVED_MODELS/TF_CONV_1D/'\n",
    "MODELS_PATH = os.makedirs(name=PATH, exist_ok=True)"
   ]
  },
  {
   "cell_type": "code",
   "execution_count": 62,
   "metadata": {},
   "outputs": [
    {
     "name": "stdout",
     "output_type": "stream",
     "text": [
      "conv1d.h5\n"
     ]
    }
   ],
   "source": [
    "# Save the model weights\n",
    "conv1d_model.save_weights(filepath=f'{PATH}./conv1d-weights.h5', overwrite=True)\n",
    "!dir *.h5 /b"
   ]
  },
  {
   "cell_type": "code",
   "execution_count": 63,
   "metadata": {},
   "outputs": [
    {
     "data": {
      "text/plain": [
       "array([8.762e-03, 5.300e+01, 1.490e+02, 1.000e+00, 8.100e+01, 1.000e+00,\n",
       "       1.770e+02])"
      ]
     },
     "execution_count": 63,
     "metadata": {},
     "output_type": "execute_result"
    }
   ],
   "source": [
    "# Before attempting to take advantage of conv2d layer, we need to reshape our data.\n",
    "# Keep in mind our data currently is a 1d vector\n",
    "X_train[0]"
   ]
  },
  {
   "cell_type": "code",
   "execution_count": 64,
   "metadata": {},
   "outputs": [
    {
     "data": {
      "text/plain": [
       "(7,)"
      ]
     },
     "execution_count": 64,
     "metadata": {},
     "output_type": "execute_result"
    }
   ],
   "source": [
    "# The shape is 1*3\n",
    "X_train[0].shape"
   ]
  },
  {
   "cell_type": "code",
   "execution_count": 65,
   "metadata": {},
   "outputs": [
    {
     "data": {
      "text/html": [
       "<div>\n",
       "<style scoped>\n",
       "    .dataframe tbody tr th:only-of-type {\n",
       "        vertical-align: middle;\n",
       "    }\n",
       "\n",
       "    .dataframe tbody tr th {\n",
       "        vertical-align: top;\n",
       "    }\n",
       "\n",
       "    .dataframe thead th {\n",
       "        text-align: right;\n",
       "    }\n",
       "</style>\n",
       "<table border=\"1\" class=\"dataframe\">\n",
       "  <thead>\n",
       "    <tr style=\"text-align: right;\">\n",
       "      <th></th>\n",
       "      <th>duration</th>\n",
       "      <th>orig_bytes</th>\n",
       "      <th>resp_bytes</th>\n",
       "      <th>orig_pkts</th>\n",
       "      <th>orig_ip_bytes</th>\n",
       "      <th>resp_pkts</th>\n",
       "      <th>resp_ip_bytes</th>\n",
       "    </tr>\n",
       "  </thead>\n",
       "  <tbody>\n",
       "    <tr>\n",
       "      <th>5</th>\n",
       "      <td>0.053276</td>\n",
       "      <td>208</td>\n",
       "      <td>976</td>\n",
       "      <td>6</td>\n",
       "      <td>528</td>\n",
       "      <td>6</td>\n",
       "      <td>1296</td>\n",
       "    </tr>\n",
       "    <tr>\n",
       "      <th>6</th>\n",
       "      <td>0.383646</td>\n",
       "      <td>227</td>\n",
       "      <td>692369</td>\n",
       "      <td>202</td>\n",
       "      <td>10739</td>\n",
       "      <td>117</td>\n",
       "      <td>240893</td>\n",
       "    </tr>\n",
       "    <tr>\n",
       "      <th>7</th>\n",
       "      <td>0.054294</td>\n",
       "      <td>208</td>\n",
       "      <td>977</td>\n",
       "      <td>6</td>\n",
       "      <td>528</td>\n",
       "      <td>6</td>\n",
       "      <td>1297</td>\n",
       "    </tr>\n",
       "    <tr>\n",
       "      <th>8</th>\n",
       "      <td>0.424980</td>\n",
       "      <td>227</td>\n",
       "      <td>791633</td>\n",
       "      <td>176</td>\n",
       "      <td>9387</td>\n",
       "      <td>174</td>\n",
       "      <td>367737</td>\n",
       "    </tr>\n",
       "    <tr>\n",
       "      <th>9</th>\n",
       "      <td>0.272567</td>\n",
       "      <td>227</td>\n",
       "      <td>406607</td>\n",
       "      <td>171</td>\n",
       "      <td>9127</td>\n",
       "      <td>71</td>\n",
       "      <td>169939</td>\n",
       "    </tr>\n",
       "    <tr>\n",
       "      <th>...</th>\n",
       "      <td>...</td>\n",
       "      <td>...</td>\n",
       "      <td>...</td>\n",
       "      <td>...</td>\n",
       "      <td>...</td>\n",
       "      <td>...</td>\n",
       "      <td>...</td>\n",
       "    </tr>\n",
       "    <tr>\n",
       "      <th>4430183</th>\n",
       "      <td>0.000051</td>\n",
       "      <td>0</td>\n",
       "      <td>0</td>\n",
       "      <td>1</td>\n",
       "      <td>52</td>\n",
       "      <td>1</td>\n",
       "      <td>40</td>\n",
       "    </tr>\n",
       "    <tr>\n",
       "      <th>4430184</th>\n",
       "      <td>0.000023</td>\n",
       "      <td>0</td>\n",
       "      <td>0</td>\n",
       "      <td>0</td>\n",
       "      <td>0</td>\n",
       "      <td>1</td>\n",
       "      <td>40</td>\n",
       "    </tr>\n",
       "    <tr>\n",
       "      <th>4430185</th>\n",
       "      <td>0.000005</td>\n",
       "      <td>0</td>\n",
       "      <td>0</td>\n",
       "      <td>0</td>\n",
       "      <td>0</td>\n",
       "      <td>1</td>\n",
       "      <td>40</td>\n",
       "    </tr>\n",
       "    <tr>\n",
       "      <th>4430186</th>\n",
       "      <td>0.000005</td>\n",
       "      <td>0</td>\n",
       "      <td>0</td>\n",
       "      <td>0</td>\n",
       "      <td>0</td>\n",
       "      <td>1</td>\n",
       "      <td>40</td>\n",
       "    </tr>\n",
       "    <tr>\n",
       "      <th>4430187</th>\n",
       "      <td>0.000005</td>\n",
       "      <td>0</td>\n",
       "      <td>0</td>\n",
       "      <td>0</td>\n",
       "      <td>0</td>\n",
       "      <td>1</td>\n",
       "      <td>40</td>\n",
       "    </tr>\n",
       "  </tbody>\n",
       "</table>\n",
       "<p>207608 rows × 7 columns</p>\n",
       "</div>"
      ],
      "text/plain": [
       "         duration  orig_bytes  resp_bytes  orig_pkts  orig_ip_bytes   \n",
       "5        0.053276         208         976          6            528  \\\n",
       "6        0.383646         227      692369        202          10739   \n",
       "7        0.054294         208         977          6            528   \n",
       "8        0.424980         227      791633        176           9387   \n",
       "9        0.272567         227      406607        171           9127   \n",
       "...           ...         ...         ...        ...            ...   \n",
       "4430183  0.000051           0           0          1             52   \n",
       "4430184  0.000023           0           0          0              0   \n",
       "4430185  0.000005           0           0          0              0   \n",
       "4430186  0.000005           0           0          0              0   \n",
       "4430187  0.000005           0           0          0              0   \n",
       "\n",
       "         resp_pkts  resp_ip_bytes  \n",
       "5                6           1296  \n",
       "6              117         240893  \n",
       "7                6           1297  \n",
       "8              174         367737  \n",
       "9               71         169939  \n",
       "...            ...            ...  \n",
       "4430183          1             40  \n",
       "4430184          1             40  \n",
       "4430185          1             40  \n",
       "4430186          1             40  \n",
       "4430187          1             40  \n",
       "\n",
       "[207608 rows x 7 columns]"
      ]
     },
     "execution_count": 65,
     "metadata": {},
     "output_type": "execute_result"
    }
   ],
   "source": [
    "# For this convolution we need to reshape this data. \n",
    "# Setting up a new PCA this time with 4 dimensions\n",
    "X_data = df_conn.drop(columns=['label'], inplace=False)\n",
    "X_data"
   ]
  },
  {
   "cell_type": "code",
   "execution_count": 66,
   "metadata": {},
   "outputs": [
    {
     "data": {
      "text/plain": [
       "5          0\n",
       "6          0\n",
       "7          0\n",
       "8          0\n",
       "9          0\n",
       "          ..\n",
       "4430183    0\n",
       "4430184    0\n",
       "4430185    0\n",
       "4430186    0\n",
       "4430187    0\n",
       "Name: label, Length: 207608, dtype: int64"
      ]
     },
     "execution_count": 66,
     "metadata": {},
     "output_type": "execute_result"
    }
   ],
   "source": [
    "# Get the labels (again. Did not need to, but ...)\n",
    "y_label = df_conn.label\n",
    "y_label"
   ]
  },
  {
   "cell_type": "code",
   "execution_count": 67,
   "metadata": {},
   "outputs": [
    {
     "data": {
      "text/plain": [
       "((166086, 7), (166086,), (41522, 7), (41522,))"
      ]
     },
     "execution_count": 67,
     "metadata": {},
     "output_type": "execute_result"
    }
   ],
   "source": [
    "# Split the data into train and test\n",
    "# Split the data into training and testing sets\n",
    "X_train, X_test, y_train, y_test = train_test_split(X_data.values, y_label, test_size=0.2, \\\n",
    "                                                    train_size=0.8, stratify=y_label, random_state=10)\n",
    "X_train.shape, y_train.shape, X_test.shape, y_test.shape"
   ]
  },
  {
   "cell_type": "code",
   "execution_count": 68,
   "metadata": {},
   "outputs": [],
   "source": [
    "# Setup the scaler\n",
    "min_max_scaler = MinMaxScaler(feature_range=(0,1))\n",
    "\n",
    "# Fit on the training data\n",
    "min_max_scaler.fit(X_train)\n",
    "\n",
    "# Transform the data\n",
    "X_train_scaled = min_max_scaler.transform(X_train)\n",
    "\n",
    "# Transform the test data\n",
    "X_test_scaled = min_max_scaler.transform(X_test)"
   ]
  },
  {
   "cell_type": "code",
   "execution_count": 69,
   "metadata": {},
   "outputs": [
    {
     "data": {
      "text/plain": [
       "array([[-2.58281486e-04, -2.34968361e-04, -4.76652709e-04,\n",
       "         3.60448930e-05],\n",
       "       [-2.58390230e-04, -2.35020471e-04, -4.76526754e-04,\n",
       "         3.60380283e-05],\n",
       "       [-2.58464066e-04, -2.35151244e-04, -4.76858412e-04,\n",
       "         3.59983123e-05],\n",
       "       ...,\n",
       "       [-2.58464121e-04, -2.35151552e-04, -4.76859477e-04,\n",
       "         3.59983308e-05],\n",
       "       [-2.58464122e-04, -2.35151561e-04, -4.76859506e-04,\n",
       "         3.59983313e-05],\n",
       "       [-2.58257388e-04, -2.34936547e-04, -4.76574090e-04,\n",
       "         3.60015654e-05]])"
      ]
     },
     "execution_count": 69,
     "metadata": {},
     "output_type": "execute_result"
    }
   ],
   "source": [
    "# Setup PCA with 4 principal components\n",
    "pca = PCA(n_components=4)\n",
    "pca.fit(X_train_scaled)\n",
    "X_train_pca = pca.transform(X_train_scaled)\n",
    "X_train_pca"
   ]
  },
  {
   "cell_type": "code",
   "execution_count": 70,
   "metadata": {},
   "outputs": [
    {
     "data": {
      "text/plain": [
       "(array([-2.58281486e-04, -2.34968361e-04, -4.76652709e-04,  3.60448930e-05]),\n",
       " (4,))"
      ]
     },
     "execution_count": 70,
     "metadata": {},
     "output_type": "execute_result"
    }
   ],
   "source": [
    "# Extracting 1 sample, we see it is shaped 1,4\n",
    "X_train_pca[0], X_train_pca[0].shape"
   ]
  },
  {
   "cell_type": "code",
   "execution_count": 71,
   "metadata": {},
   "outputs": [
    {
     "data": {
      "text/plain": [
       "array([[-2.58281486e-04, -2.34968361e-04],\n",
       "       [-4.76652709e-04,  3.60448930e-05]])"
      ]
     },
     "execution_count": 71,
     "metadata": {},
     "output_type": "execute_result"
    }
   ],
   "source": [
    "# Let's reshape this to 2*2\n",
    "X_train_pca[0].reshape(2,2)"
   ]
  },
  {
   "cell_type": "code",
   "execution_count": 72,
   "metadata": {},
   "outputs": [
    {
     "data": {
      "text/plain": [
       "((166086, 2, 2), (166086,))"
      ]
     },
     "execution_count": 72,
     "metadata": {},
     "output_type": "execute_result"
    }
   ],
   "source": [
    "# With he understanding of what is needed to reshape the data, time to do the same for all samples\n",
    "# We need to make the test data at least 3 dimensions, just as we did with the training data. \n",
    "# Let's reshape to get those 3 dimensions\n",
    "X_train_pca = [ np.array(i, ndmin=3).reshape(2,2) for i in X_train_pca ]\n",
    "X_train_pca = np.asarray(X_train_pca)\n",
    "\n",
    "# Make sure the batch size is consistent with the number of labels\n",
    "X_train_pca.shape, y_train.shape"
   ]
  },
  {
   "cell_type": "code",
   "execution_count": 73,
   "metadata": {},
   "outputs": [
    {
     "data": {
      "text/plain": [
       "array([[-2.58281486e-04, -2.34968361e-04],\n",
       "       [-4.76652709e-04,  3.60448930e-05]])"
      ]
     },
     "execution_count": 73,
     "metadata": {},
     "output_type": "execute_result"
    }
   ],
   "source": [
    "# With the data reshaped, taking a look at one sample\n",
    "X_train_pca[0]"
   ]
  },
  {
   "cell_type": "code",
   "execution_count": 74,
   "metadata": {},
   "outputs": [
    {
     "data": {
      "text/plain": [
       "array([ 0.00134937,  0.000691  , -0.0008094 , -0.00031127])"
      ]
     },
     "execution_count": 74,
     "metadata": {},
     "output_type": "execute_result"
    }
   ],
   "source": [
    "# Transform the test data to 4 principal components\n",
    "X_test_pca = pca.transform(X_test_scaled)\n",
    "X_test_pca[0]"
   ]
  },
  {
   "cell_type": "code",
   "execution_count": 75,
   "metadata": {},
   "outputs": [
    {
     "data": {
      "text/plain": [
       "((41522, 2, 2), (41522,))"
      ]
     },
     "execution_count": 75,
     "metadata": {},
     "output_type": "execute_result"
    }
   ],
   "source": [
    "# With he understanding of what is needed to reshape the data, time to do the same for all samples\n",
    "# We need to make the test data at least 3 dimensions, just as we did with the training data. \n",
    "# Let's reshape to get those 3 dimensions\n",
    "X_test_pca = [ np.array(i, ndmin=3).reshape(2,2) for i in X_test_pca ]\n",
    "X_test_pca = np.asarray(X_test_pca)\n",
    "\n",
    "# Make sure the batch size is consistent with the number of labels\n",
    "X_test_pca.shape, y_test.shape"
   ]
  },
  {
   "cell_type": "code",
   "execution_count": 76,
   "metadata": {},
   "outputs": [],
   "source": [
    "# I'm not going into the basics of the calculating for conv2d as it was already done for conv1d\n",
    "# while 1d and 1d are different, the concept for the calculation remains the same\n",
    "# Hence no need to walk through this again"
   ]
  },
  {
   "cell_type": "code",
   "execution_count": 77,
   "metadata": {},
   "outputs": [
    {
     "name": "stdout",
     "output_type": "stream",
     "text": [
      "Model: \"model_1\"\n",
      "_________________________________________________________________\n",
      " Layer (type)                Output Shape              Param #   \n",
      "=================================================================\n",
      " input_layer (InputLayer)    [(None, 2, 2, 1)]         0         \n",
      "                                                                 \n",
      " conv_hidden (Conv2D)        (None, 2, 2, 1)           2         \n",
      "                                                                 \n",
      " max_poold (MaxPooling2D)    (None, 1, 1, 1)           0         \n",
      "                                                                 \n",
      " flatten_layer (Flatten)     (None, 1)                 0         \n",
      "                                                                 \n",
      " dense_output (Dense)        (None, 1)                 2         \n",
      "                                                                 \n",
      "=================================================================\n",
      "Total params: 4\n",
      "Trainable params: 4\n",
      "Non-trainable params: 0\n",
      "_________________________________________________________________\n"
     ]
    }
   ],
   "source": [
    "# Trying a 2d convolution\n",
    "# Ensure the model training is repeatable\n",
    "tf.keras.utils.set_random_seed(90)\n",
    "\n",
    "# Build the model using the functional API\n",
    "input_layer = tf.keras.layers.Input(shape=(2,2,1), name='input_layer', dtype=tf.float32)\n",
    "\n",
    "# If the default padding of 'valid' is use we encouter an error about \n",
    "x = tf.keras.layers.Conv2D(filters=1, kernel_size=1, strides=1, padding='same', name='conv_hidden')(input_layer)\n",
    "x = tf.keras.layers.MaxPool2D(padding='same', name='max_poold')(x)\n",
    "x = tf.keras.layers.Flatten(name='flatten_layer')(x)\n",
    "x = tf.keras.layers.Dense(units=1, activation='sigmoid', name='dense_output')(x)\n",
    "conv2d_model = tf.keras.Model(inputs=input_layer, outputs=x)\n",
    "conv2d_model.summary()\n"
   ]
  },
  {
   "cell_type": "code",
   "execution_count": 78,
   "metadata": {},
   "outputs": [],
   "source": [
    "# Compile the model\n",
    "conv2d_model.compile(optimizer='adam', loss='binary_crossentropy', metrics=[tf.keras.metrics.Recall(), 'accuracy'])"
   ]
  },
  {
   "cell_type": "code",
   "execution_count": 79,
   "metadata": {},
   "outputs": [
    {
     "name": "stdout",
     "output_type": "stream",
     "text": [
      "Epoch 1/5\n",
      "4153/4153 [==============================] - 13s 3ms/step - loss: 0.7791 - recall_1: 0.0000e+00 - accuracy: 0.9994 - val_loss: 0.3446 - val_recall_1: 0.0000e+00 - val_accuracy: 0.9996\n",
      "Epoch 2/5\n",
      "4153/4153 [==============================] - 11s 3ms/step - loss: 0.7210 - recall_1: 0.0000e+00 - accuracy: 0.9997 - val_loss: 0.2836 - val_recall_1: 0.0000e+00 - val_accuracy: 0.9996\n",
      "Epoch 3/5\n",
      "4153/4153 [==============================] - 10s 2ms/step - loss: 0.7189 - recall_1: 0.0000e+00 - accuracy: 0.9997 - val_loss: 0.2751 - val_recall_1: 0.0000e+00 - val_accuracy: 0.9996\n",
      "Epoch 4/5\n",
      "4153/4153 [==============================] - 15s 3ms/step - loss: 0.7182 - recall_1: 0.0000e+00 - accuracy: 0.9997 - val_loss: 0.2659 - val_recall_1: 0.0000e+00 - val_accuracy: 0.9996\n",
      "Epoch 5/5\n",
      "4153/4153 [==============================] - 14s 3ms/step - loss: 0.7179 - recall_1: 0.0000e+00 - accuracy: 0.9997 - val_loss: 0.2576 - val_recall_1: 0.0000e+00 - val_accuracy: 0.9996\n"
     ]
    },
    {
     "data": {
      "text/plain": [
       "<keras.callbacks.History at 0x1fe040cf820>"
      ]
     },
     "execution_count": 79,
     "metadata": {},
     "output_type": "execute_result"
    }
   ],
   "source": [
    "# Train the model\n",
    "conv2d_model.fit(x=X_train_pca, y=y_train, epochs=5, verbose=1, validation_split=0.2, class_weight={0:1, 1:1000})"
   ]
  },
  {
   "cell_type": "code",
   "execution_count": 80,
   "metadata": {},
   "outputs": [
    {
     "data": {
      "text/plain": [
       "{'loss': [0.7791427969932556,\n",
       "  0.72104811668396,\n",
       "  0.7189038395881653,\n",
       "  0.7181508541107178,\n",
       "  0.7178880572319031],\n",
       " 'recall_1': [0.0, 0.0, 0.0, 0.0, 0.0],\n",
       " 'accuracy': [0.9994129538536072,\n",
       "  0.9996914267539978,\n",
       "  0.9996914267539978,\n",
       "  0.9996914267539978,\n",
       "  0.9996914267539978],\n",
       " 'val_loss': [0.3445817232131958,\n",
       "  0.28363269567489624,\n",
       "  0.27513769268989563,\n",
       "  0.2658669948577881,\n",
       "  0.25763213634490967],\n",
       " 'val_recall_1': [0.0, 0.0, 0.0, 0.0, 0.0],\n",
       " 'val_accuracy': [0.9996086359024048,\n",
       "  0.9996086359024048,\n",
       "  0.9996086359024048,\n",
       "  0.9996086359024048,\n",
       "  0.9996086359024048]}"
      ]
     },
     "execution_count": 80,
     "metadata": {},
     "output_type": "execute_result"
    }
   ],
   "source": [
    "# Get the model history\n",
    "conv2d_model.history.history"
   ]
  },
  {
   "cell_type": "code",
   "execution_count": 81,
   "metadata": {},
   "outputs": [
    {
     "name": "stdout",
     "output_type": "stream",
     "text": [
      "{'loss': [0.7791427969932556, 0.72104811668396, 0.7189038395881653, 0.7181508541107178, 0.7178880572319031], 'recall_1': [0.0, 0.0, 0.0, 0.0, 0.0], 'accuracy': [0.9994129538536072, 0.9996914267539978, 0.9996914267539978, 0.9996914267539978, 0.9996914267539978], 'val_loss': [0.3445817232131958, 0.28363269567489624, 0.27513769268989563, 0.2658669948577881, 0.25763213634490967], 'val_recall_1': [0.0, 0.0, 0.0, 0.0, 0.0], 'val_accuracy': [0.9996086359024048, 0.9996086359024048, 0.9996086359024048, 0.9996086359024048, 0.9996086359024048]}\n"
     ]
    }
   ],
   "source": [
    "# How did our algorithm perform\n",
    "print(conv2d_model.history.history)"
   ]
  },
  {
   "cell_type": "code",
   "execution_count": 82,
   "metadata": {},
   "outputs": [
    {
     "data": {
      "text/html": [
       "<div>\n",
       "<style scoped>\n",
       "    .dataframe tbody tr th:only-of-type {\n",
       "        vertical-align: middle;\n",
       "    }\n",
       "\n",
       "    .dataframe tbody tr th {\n",
       "        vertical-align: top;\n",
       "    }\n",
       "\n",
       "    .dataframe thead th {\n",
       "        text-align: right;\n",
       "    }\n",
       "</style>\n",
       "<table border=\"1\" class=\"dataframe\">\n",
       "  <thead>\n",
       "    <tr style=\"text-align: right;\">\n",
       "      <th></th>\n",
       "      <th>loss</th>\n",
       "      <th>recall_1</th>\n",
       "      <th>accuracy</th>\n",
       "      <th>val_loss</th>\n",
       "      <th>val_recall_1</th>\n",
       "      <th>val_accuracy</th>\n",
       "    </tr>\n",
       "  </thead>\n",
       "  <tbody>\n",
       "    <tr>\n",
       "      <th>0</th>\n",
       "      <td>0.779143</td>\n",
       "      <td>0.0</td>\n",
       "      <td>0.999413</td>\n",
       "      <td>0.344582</td>\n",
       "      <td>0.0</td>\n",
       "      <td>0.999609</td>\n",
       "    </tr>\n",
       "    <tr>\n",
       "      <th>1</th>\n",
       "      <td>0.721048</td>\n",
       "      <td>0.0</td>\n",
       "      <td>0.999691</td>\n",
       "      <td>0.283633</td>\n",
       "      <td>0.0</td>\n",
       "      <td>0.999609</td>\n",
       "    </tr>\n",
       "    <tr>\n",
       "      <th>2</th>\n",
       "      <td>0.718904</td>\n",
       "      <td>0.0</td>\n",
       "      <td>0.999691</td>\n",
       "      <td>0.275138</td>\n",
       "      <td>0.0</td>\n",
       "      <td>0.999609</td>\n",
       "    </tr>\n",
       "    <tr>\n",
       "      <th>3</th>\n",
       "      <td>0.718151</td>\n",
       "      <td>0.0</td>\n",
       "      <td>0.999691</td>\n",
       "      <td>0.265867</td>\n",
       "      <td>0.0</td>\n",
       "      <td>0.999609</td>\n",
       "    </tr>\n",
       "    <tr>\n",
       "      <th>4</th>\n",
       "      <td>0.717888</td>\n",
       "      <td>0.0</td>\n",
       "      <td>0.999691</td>\n",
       "      <td>0.257632</td>\n",
       "      <td>0.0</td>\n",
       "      <td>0.999609</td>\n",
       "    </tr>\n",
       "  </tbody>\n",
       "</table>\n",
       "</div>"
      ],
      "text/plain": [
       "       loss  recall_1  accuracy  val_loss  val_recall_1  val_accuracy\n",
       "0  0.779143       0.0  0.999413  0.344582           0.0      0.999609\n",
       "1  0.721048       0.0  0.999691  0.283633           0.0      0.999609\n",
       "2  0.718904       0.0  0.999691  0.275138           0.0      0.999609\n",
       "3  0.718151       0.0  0.999691  0.265867           0.0      0.999609\n",
       "4  0.717888       0.0  0.999691  0.257632           0.0      0.999609"
      ]
     },
     "execution_count": 82,
     "metadata": {},
     "output_type": "execute_result"
    }
   ],
   "source": [
    "# A cleaner view\n",
    "pd.DataFrame(conv2d_model.history.history)"
   ]
  },
  {
   "cell_type": "code",
   "execution_count": 83,
   "metadata": {},
   "outputs": [
    {
     "data": {
      "image/png": "[encoded data removed]",
      "text/plain": [
       "<Figure size 1000x500 with 2 Axes>"
      ]
     },
     "metadata": {},
     "output_type": "display_data"
    }
   ],
   "source": [
    "# plot the loss and accuracy\n",
    "# https://matplotlib.org/stable/api/_as_gen/matplotlib.pyplot.legend.html\n",
    "# We can see from below the loss has decreased while the accuracy has increased.\n",
    "fig, ax = plt.subplots(ncols=2, nrows=1, figsize=(10,5))\n",
    "plt.suptitle('Classification Metrics')\n",
    "\n",
    "ax[0].plot(conv2d_model.history.history['loss'], 'r', conv2d_model.history.history['val_loss'], 'g' )\n",
    "ax[0].set_title('Train vs Validation Loss')\n",
    "ax[0].legend(labels=['Train loss', 'Val loss'])\n",
    "ax[0].set_xlabel('Epochs')\n",
    "ax[0].set_ylabel('Loss')\n",
    "\n",
    "ax[1].plot(conv2d_model.history.history['recall_1'], 'r', conv2d_model.history.history['val_recall_1'], 'g' )\n",
    "ax[1].set_title('Recal vs val loss')\n",
    "ax[1].legend(labels=['Recall', 'Val Recall'])\n",
    "ax[1].set_xlabel('Epochs')\n",
    "ax[1].set_ylabel('Loss')\n",
    "\n",
    "plt.tight_layout()\n",
    "\n",
    "plt.show()"
   ]
  },
  {
   "cell_type": "code",
   "execution_count": null,
   "metadata": {},
   "outputs": [],
   "source": []
  },
  {
   "cell_type": "code",
   "execution_count": 84,
   "metadata": {},
   "outputs": [
    {
     "name": "stdout",
     "output_type": "stream",
     "text": [
      "1298/1298 [==============================] - 3s 2ms/step - loss: 0.2575 - recall_1: 0.0000e+00 - accuracy: 0.9997\n"
     ]
    },
    {
     "data": {
      "text/plain": [
       "[0.25752806663513184, 0.0, 0.9996868968009949]"
      ]
     },
     "execution_count": 84,
     "metadata": {},
     "output_type": "execute_result"
    }
   ],
   "source": [
    "# Evaluate the model\n",
    "results = conv2d_model.evaluate(x=X_test_pca, y=y_test)\n",
    "results"
   ]
  },
  {
   "cell_type": "code",
   "execution_count": 85,
   "metadata": {},
   "outputs": [
    {
     "data": {
      "text/plain": [
       "{'loss': 0.25752806663513184, 'recall_1': 0.0, 'accuracy': 0.9996868968009949}"
      ]
     },
     "execution_count": 85,
     "metadata": {},
     "output_type": "execute_result"
    }
   ],
   "source": [
    "# Review the evaluation metrics from a different perspective\n",
    "dict(zip(conv2d_model.metrics_names, results))"
   ]
  },
  {
   "cell_type": "code",
   "execution_count": 86,
   "metadata": {},
   "outputs": [
    {
     "data": {
      "text/plain": [
       "(array([[[0.01396942, 0.06439457],\n",
       "         [0.2026917 , 0.00070022]]]),\n",
       " (1, 2, 2))"
      ]
     },
     "execution_count": 86,
     "metadata": {},
     "output_type": "execute_result"
    }
   ],
   "source": [
    "# Define an x for prediction\n",
    "new_sample = np.array(pca.transform(min_max_scaler.transform( \\\n",
    "    np.array([7110, 1124942, 16527, 1873, 1251154, 1695, 112731], \\\n",
    "                                                                      ndmin=2))), ndmin=3)\n",
    "\n",
    "# Reshape the sample\n",
    "new_sample = new_sample.reshape(1, 2,2)\n",
    "new_sample, new_sample.shape"
   ]
  },
  {
   "cell_type": "code",
   "execution_count": 87,
   "metadata": {},
   "outputs": [
    {
     "name": "stdout",
     "output_type": "stream",
     "text": [
      "1/1 [==============================] - 0s 89ms/step\n"
     ]
    },
    {
     "data": {
      "text/plain": [
       "array([[0.22662342]], dtype=float32)"
      ]
     },
     "execution_count": 87,
     "metadata": {},
     "output_type": "execute_result"
    }
   ],
   "source": [
    "# Predict the number of bytes and the class\n",
    "# Need to revisit this\n",
    "#reg_clf_model.predict(x=[ min_max_reg.transform(new_reg_sample), pca.transform( min_max_clf.transform(new_clf_sample))] )\n",
    "conv2d_model.predict(x=new_sample)\n"
   ]
  },
  {
   "cell_type": "code",
   "execution_count": 88,
   "metadata": {},
   "outputs": [
    {
     "name": "stdout",
     "output_type": "stream",
     "text": [
      "1298/1298 [==============================] - 2s 2ms/step\n"
     ]
    },
    {
     "data": {
      "text/plain": [
       "array([[0.22677594],\n",
       "       [0.22674231],\n",
       "       [0.22674447],\n",
       "       ...,\n",
       "       [0.22674228],\n",
       "       [0.22674236],\n",
       "       [0.22674233]], dtype=float32)"
      ]
     },
     "execution_count": 88,
     "metadata": {},
     "output_type": "execute_result"
    }
   ],
   "source": [
    "# Make predictions on the test data\n",
    "predictions = conv2d_model.predict(x=X_test_pca)\n",
    "predictions"
   ]
  },
  {
   "cell_type": "code",
   "execution_count": 89,
   "metadata": {},
   "outputs": [
    {
     "data": {
      "text/plain": [
       "((41522, 1), (41522,))"
      ]
     },
     "execution_count": 89,
     "metadata": {},
     "output_type": "execute_result"
    }
   ],
   "source": [
    "\n",
    "# Get the shape of the predictions\n",
    "predictions.shape, y_test.shape"
   ]
  },
  {
   "cell_type": "code",
   "execution_count": 90,
   "metadata": {},
   "outputs": [
    {
     "data": {
      "text/plain": [
       "<matplotlib.legend.Legend at 0x1fe061010c0>"
      ]
     },
     "execution_count": 90,
     "metadata": {},
     "output_type": "execute_result"
    },
    {
     "data": {
      "image/png": "[encoded data removed]",
      "text/plain": [
       "<Figure size 640x480 with 1 Axes>"
      ]
     },
     "metadata": {},
     "output_type": "display_data"
    }
   ],
   "source": [
    "# Above confirms this model is terrible. \n",
    "plt.title('True vs Predictions')\n",
    "plt.plot(y_test, linestyle='', marker='o', label='True Y')\n",
    "plt.plot(predictions, ls='-', lw=2, label='predictions')\n",
    "plt.legend(loc='best')"
   ]
  },
  {
   "cell_type": "code",
   "execution_count": 91,
   "metadata": {},
   "outputs": [
    {
     "data": {
      "text/plain": [
       "0.9996869129618033"
      ]
     },
     "execution_count": 91,
     "metadata": {},
     "output_type": "execute_result"
    }
   ],
   "source": [
    "# Grabbing the accuracy score\n",
    "# Note, we cannot just get the predictions as this would produce continuous values\n",
    "# Imagine the model is reporting 99% accuracy. \n",
    "# Accuracy is misleading here\n",
    "accuracy_score(y_true=y_test, y_pred=np.round(predictions))"
   ]
  },
  {
   "cell_type": "code",
   "execution_count": 92,
   "metadata": {},
   "outputs": [],
   "source": [
    "# Print classification report\n",
    "# print(classification_report(y_true=y_test, y_pred=np.round(predictions)))"
   ]
  },
  {
   "cell_type": "code",
   "execution_count": 93,
   "metadata": {},
   "outputs": [
    {
     "data": {
      "image/png": "[encoded data removed]",
      "text/plain": [
       "<Figure size 640x480 with 2 Axes>"
      ]
     },
     "metadata": {},
     "output_type": "display_data"
    }
   ],
   "source": [
    "# Looking at the confusion matrix, clearly this model has way too much false positives\n",
    "# Maybe we can do a better job at setting a different threshold\n",
    "# However, as said above, we are here for learning purposes\n",
    "# Most importantly, we are not attempting to solve a classification problem\n",
    "# This is just to give us insights into what our threshold looks like at present\n",
    "# To learn more about metrics, see notebook:\n",
    "#   10. Beginning Supervise Learning - Machine Learning - Logistic Regression, Decision Trees and Metrics\n",
    "sns.heatmap(confusion_matrix(y_true=y_test, y_pred=np.round(predictions)), annot=True, fmt='d')\n",
    "plt.title('Confusion Matrix')\n",
    "plt.xlabel('Predicted')\n",
    "plt.ylabel('Actual')\n",
    "plt.show()\n"
   ]
  },
  {
   "cell_type": "code",
   "execution_count": 94,
   "metadata": {},
   "outputs": [],
   "source": [
    "# Create the path\n",
    "PATH = './SAVED_MODELS/TF_CONV_2D/'\n",
    "MODELS_PATH = os.makedirs(name=PATH, exist_ok=True)"
   ]
  },
  {
   "cell_type": "code",
   "execution_count": 95,
   "metadata": {},
   "outputs": [
    {
     "name": "stdout",
     "output_type": "stream",
     "text": [
      " Volume in drive D is DATA\n",
      " Volume Serial Number is 201E-D9F9\n",
      "\n",
      " Directory of d:\\ML\\BeginningML\n",
      "\n",
      "2023-05-28  10:33 PM            28,792 conv1d.h5\n",
      "               1 File(s)         28,792 bytes\n",
      "               0 Dir(s)  63,141,429,248 bytes free\n"
     ]
    }
   ],
   "source": [
    "# Save the conv2d models\n",
    "conv2d_model.save(filepath=f'{PATH}conv2d.h5', overwrite=True)\n",
    "\n",
    "!dir *.h5 "
   ]
  },
  {
   "cell_type": "code",
   "execution_count": 96,
   "metadata": {},
   "outputs": [
    {
     "name": "stdout",
     "output_type": "stream",
     "text": [
      "conv1d.h5\n"
     ]
    }
   ],
   "source": [
    "# Save the model weights\n",
    "conv2d_model.save_weights(filepath='{PATH}/conv2d-weights', overwrite=True)\n",
    "!dir *.h5 /b"
   ]
  },
  {
   "cell_type": "code",
   "execution_count": 97,
   "metadata": {},
   "outputs": [
    {
     "name": "stderr",
     "output_type": "stream",
     "text": [
      "WARNING:absl:Found untraced functions such as _jit_compiled_convolution_op, _update_step_xla while saving (showing 2 of 2). These functions will not be directly callable after loading.\n"
     ]
    },
    {
     "name": "stdout",
     "output_type": "stream",
     "text": [
      "INFO:tensorflow:Assets written to: ./SAVED_MODELS/TF_CONV_2D/new-conv2d\\assets\n"
     ]
    },
    {
     "name": "stderr",
     "output_type": "stream",
     "text": [
      "INFO:tensorflow:Assets written to: ./SAVED_MODELS/TF_CONV_2D/new-conv2d\\assets\n"
     ]
    }
   ],
   "source": [
    "# Save the model a different way\n",
    "tf.keras.models.save_model(model=conv2d_model, filepath=f'{PATH}new-conv2d', \\\n",
    "                            overwrite=True, include_optimizer=True, save_format='tf')"
   ]
  },
  {
   "attachments": {},
   "cell_type": "markdown",
   "metadata": {},
   "source": [
    "Additional References and Good reads <br>\n",
    "https://www.youtube.com/watch?v=WZdxt9xatrY <br>\n",
    "https://stackoverflow.com/questions/55701788/should-a-1d-cnn-need-padding-to-retain-input-length <br>\n",
    "https://medium.com/@santi.pdp/how-pytorch-transposed-convs1d-work-a7adac63c4a5 <br>\n",
    "\n"
   ]
  },
  {
   "cell_type": "code",
   "execution_count": null,
   "metadata": {},
   "outputs": [],
   "source": []
  },
  {
   "cell_type": "code",
   "execution_count": null,
   "metadata": {},
   "outputs": [],
   "source": []
  }
 ],
 "metadata": {
  "kernelspec": {
   "display_name": "main-env",
   "language": "python",
   "name": "python3"
  },
  "language_info": {
   "codemirror_mode": {
    "name": "ipython",
    "version": 3
   },
   "file_extension": ".py",
   "mimetype": "text/x-python",
   "name": "python",
   "nbconvert_exporter": "python",
   "pygments_lexer": "ipython3",
   "version": "3.10.11"
  },
  "orig_nbformat": 4,
  "vscode": {
   "interpreter": {
    "hash": "dcb100998b7ef434a33dbfac35f576e40d01f04c34d9ff6f6aad819b8a88c169"
   }
  }
 },
 "nbformat": 4,
 "nbformat_minor": 2
}
