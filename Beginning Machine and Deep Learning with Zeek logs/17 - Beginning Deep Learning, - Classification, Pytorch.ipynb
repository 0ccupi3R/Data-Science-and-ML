{
 "cells": [
  {
   "attachments": {},
   "cell_type": "markdown",
   "metadata": {},
   "source": [
    "Author: Nik Alleyne <br>\n",
    "Author Blog: **https://www.securitynik.com** <br>\n",
    "Author GitHub: **github.com/securitynik** <br>\n",
    "\n",
    "Author Books: [  <br>\n",
    "\n",
    "                \"https://www.amazon.ca/Learning-Practicing-Leveraging-Practical-Detection/dp/1731254458/\", \n",
    "                \n",
    "                \"https://www.amazon.ca/Learning-Practicing-Mastering-Network-Forensics/dp/1775383024/\" \n",
    "            ] "
   ]
  },
  {
   "cell_type": "code",
   "execution_count": null,
   "metadata": {},
   "outputs": [],
   "source": []
  },
  {
   "attachments": {},
   "cell_type": "markdown",
   "metadata": {},
   "source": [
    "### Why this series?\n",
    "When teaching the SANS SEC595: Applied Data Science and Machine Learning for Cybersecurity Professionals \n",
    "**https://www.sans.org/cyber-security-courses/applied-data-science-machine-learning/** I am always asked,\n",
    "\"Will you be sharing your demo notebooks?\" or \"Can we get a copy of your demo notebooks?\" or ... well you get the point.\n",
    "My answer is always no. Not that I do not want to share, (sharing is caring :-D) , but the demo notebooks \n",
    "by themselves, would not make sense or add real value. Hence, this series! \n",
    "\n",
    "This is my supplemental work, similar to what I would do in the demos but with a lot more details and references.\n"
   ]
  },
  {
   "attachments": {},
   "cell_type": "markdown",
   "metadata": {},
   "source": []
  },
  {
   "attachments": {},
   "cell_type": "markdown",
   "metadata": {},
   "source": [
    "## 17. Beginning Deep Learning, - Classification, Pytorch"
   ]
  },
  {
   "cell_type": "code",
   "execution_count": null,
   "metadata": {},
   "outputs": [],
   "source": []
  },
  {
   "attachments": {},
   "cell_type": "markdown",
   "metadata": {},
   "source": [
    "### The series includes the following: <br>\n",
    "01 - Beginning Numpy <br>\n",
    "02 - Beginning Tensorflow  <br>\n",
    "03 - Beginning PyTorch <br>\n",
    "04 - Beginning Pandas <br>\n",
    "05 - Beginning Matplotlib <br>\n",
    "06 - Beginning Data Scaling <br>\n",
    "07 - Beginning Principal Component Analysis (PCA) <br>\n",
    "08 - Beginning Machine Learning Anomaly Detection - Isolation Forest and Local Outlier Factor <br>\n",
    "09 - Beginning Unsupervised Machine Learning - Clustering - K-means and DBSCAN <br>\n",
    "10 - Beginning Supervise Learning - Machine Learning - Logistic Regression, Decision Trees and Metrics <br>\n",
    "11 - Beginning Linear Regression - Machine Learning <br>\n",
    "12 - Beginning Deep Learning - Anomaly Detection with AutoEncoders, Tensorflow <br>\n",
    "13 - Beginning Deep Learning - Anomaly Detection with AutoEncoders, PyTroch <br>\n",
    "14 - Beginning Deep Learning - Linear Regression, Tensorflow <br>\n",
    "15 - Beginning Deep Learning - Linear Regression, PyTorch <br>\n",
    "16 - Beginning Deep Learning - Classification, Tensorflow <br>\n",
    "17 - Beginning Deep Learning - Classification, Pytorch <br>\n",
    "18 - Beginning Deep Learning - Classification - regression - MIMO - Functional API Tensorflow <br> \n",
    "19 - Beginning Deep Learning - Convolution Networks - Tensorflow <br>\n",
    "20 - Beginning Deep Learning - Convolution Networks - PyTorch <br>\n",
    "21 - Beginning Regularization - Early Stopping, Dropout, L2 (Ridge), L1 (Lasso) <br>\n",
    "22 - Beginning Model TFServing <br>\n",
    "\n",
    "But conn.log is not the only log file within Zeek. Let's build some models for DNS and HTTP logs. <br>\n",
    "I choose unsupervised, because there are no labels coming with these data. <br>\n",
    "\n",
    "23 - Continuing Anomaly Learning - Zeek DNS Log - Machine Learning <br>\n",
    "24 - Continuing Unsupervised Learning - Zeek HTTP Log - Machine Learning <br>\n",
    "\n",
    "This was a specific ask by someone in one of my class. <br>\n",
    "25 - Beginning - Reading Executables and Building a Neural Network to make predictions on suspicious vs suspicious  <br><br>\n",
    "\n",
    "With 25 notebooks in this series, it is quite possible there are things I could have or should have done differently.  <br>\n",
    "If you find any thing, you think fits those criteria, drop me a line. <br>\n",
    "\n",
    "If you find this series beneficial, I would greatly appreciate your feedback.\n"
   ]
  },
  {
   "cell_type": "code",
   "execution_count": 1,
   "metadata": {},
   "outputs": [],
   "source": [
    "# import some libraries\n",
    "import pandas as pd\n",
    "import numpy as np\n",
    "import matplotlib.pyplot as plt"
   ]
  },
  {
   "cell_type": "code",
   "execution_count": 2,
   "metadata": {},
   "outputs": [
    {
     "data": {
      "text/html": [
       "<div>\n",
       "<style scoped>\n",
       "    .dataframe tbody tr th:only-of-type {\n",
       "        vertical-align: middle;\n",
       "    }\n",
       "\n",
       "    .dataframe tbody tr th {\n",
       "        vertical-align: top;\n",
       "    }\n",
       "\n",
       "    .dataframe thead th {\n",
       "        text-align: right;\n",
       "    }\n",
       "</style>\n",
       "<table border=\"1\" class=\"dataframe\">\n",
       "  <thead>\n",
       "    <tr style=\"text-align: right;\">\n",
       "      <th></th>\n",
       "      <th>id.resp_p</th>\n",
       "      <th>duration</th>\n",
       "      <th>orig_bytes</th>\n",
       "      <th>resp_bytes</th>\n",
       "      <th>orig_pkts</th>\n",
       "      <th>orig_ip_bytes</th>\n",
       "      <th>resp_pkts</th>\n",
       "      <th>resp_ip_bytes</th>\n",
       "      <th>label</th>\n",
       "    </tr>\n",
       "  </thead>\n",
       "  <tbody>\n",
       "    <tr>\n",
       "      <th>1</th>\n",
       "      <td>48798</td>\n",
       "      <td>0.000000</td>\n",
       "      <td>0</td>\n",
       "      <td>0</td>\n",
       "      <td>0</td>\n",
       "      <td>0</td>\n",
       "      <td>0</td>\n",
       "      <td>0</td>\n",
       "      <td>0</td>\n",
       "    </tr>\n",
       "    <tr>\n",
       "      <th>2</th>\n",
       "      <td>48804</td>\n",
       "      <td>0.000000</td>\n",
       "      <td>0</td>\n",
       "      <td>0</td>\n",
       "      <td>0</td>\n",
       "      <td>0</td>\n",
       "      <td>0</td>\n",
       "      <td>0</td>\n",
       "      <td>0</td>\n",
       "    </tr>\n",
       "    <tr>\n",
       "      <th>4</th>\n",
       "      <td>27761</td>\n",
       "      <td>0.000000</td>\n",
       "      <td>0</td>\n",
       "      <td>0</td>\n",
       "      <td>0</td>\n",
       "      <td>0</td>\n",
       "      <td>0</td>\n",
       "      <td>0</td>\n",
       "      <td>0</td>\n",
       "    </tr>\n",
       "    <tr>\n",
       "      <th>5</th>\n",
       "      <td>8888</td>\n",
       "      <td>0.053276</td>\n",
       "      <td>208</td>\n",
       "      <td>976</td>\n",
       "      <td>6</td>\n",
       "      <td>528</td>\n",
       "      <td>6</td>\n",
       "      <td>1296</td>\n",
       "      <td>0</td>\n",
       "    </tr>\n",
       "    <tr>\n",
       "      <th>6</th>\n",
       "      <td>8888</td>\n",
       "      <td>0.383646</td>\n",
       "      <td>227</td>\n",
       "      <td>692369</td>\n",
       "      <td>202</td>\n",
       "      <td>10739</td>\n",
       "      <td>117</td>\n",
       "      <td>240893</td>\n",
       "      <td>0</td>\n",
       "    </tr>\n",
       "    <tr>\n",
       "      <th>...</th>\n",
       "      <td>...</td>\n",
       "      <td>...</td>\n",
       "      <td>...</td>\n",
       "      <td>...</td>\n",
       "      <td>...</td>\n",
       "      <td>...</td>\n",
       "      <td>...</td>\n",
       "      <td>...</td>\n",
       "      <td>...</td>\n",
       "    </tr>\n",
       "    <tr>\n",
       "      <th>4430183</th>\n",
       "      <td>9200</td>\n",
       "      <td>0.000051</td>\n",
       "      <td>0</td>\n",
       "      <td>0</td>\n",
       "      <td>1</td>\n",
       "      <td>52</td>\n",
       "      <td>1</td>\n",
       "      <td>40</td>\n",
       "      <td>0</td>\n",
       "    </tr>\n",
       "    <tr>\n",
       "      <th>4430184</th>\n",
       "      <td>9200</td>\n",
       "      <td>0.000023</td>\n",
       "      <td>0</td>\n",
       "      <td>0</td>\n",
       "      <td>0</td>\n",
       "      <td>0</td>\n",
       "      <td>1</td>\n",
       "      <td>40</td>\n",
       "      <td>0</td>\n",
       "    </tr>\n",
       "    <tr>\n",
       "      <th>4430185</th>\n",
       "      <td>9200</td>\n",
       "      <td>0.000005</td>\n",
       "      <td>0</td>\n",
       "      <td>0</td>\n",
       "      <td>0</td>\n",
       "      <td>0</td>\n",
       "      <td>1</td>\n",
       "      <td>40</td>\n",
       "      <td>0</td>\n",
       "    </tr>\n",
       "    <tr>\n",
       "      <th>4430186</th>\n",
       "      <td>9200</td>\n",
       "      <td>0.000005</td>\n",
       "      <td>0</td>\n",
       "      <td>0</td>\n",
       "      <td>0</td>\n",
       "      <td>0</td>\n",
       "      <td>1</td>\n",
       "      <td>40</td>\n",
       "      <td>0</td>\n",
       "    </tr>\n",
       "    <tr>\n",
       "      <th>4430187</th>\n",
       "      <td>9200</td>\n",
       "      <td>0.000005</td>\n",
       "      <td>0</td>\n",
       "      <td>0</td>\n",
       "      <td>0</td>\n",
       "      <td>0</td>\n",
       "      <td>1</td>\n",
       "      <td>40</td>\n",
       "      <td>0</td>\n",
       "    </tr>\n",
       "  </tbody>\n",
       "</table>\n",
       "<p>4236125 rows × 9 columns</p>\n",
       "</div>"
      ],
      "text/plain": [
       "         id.resp_p  duration  orig_bytes  resp_bytes  orig_pkts   \n",
       "1            48798  0.000000           0           0          0  \\\n",
       "2            48804  0.000000           0           0          0   \n",
       "4            27761  0.000000           0           0          0   \n",
       "5             8888  0.053276         208         976          6   \n",
       "6             8888  0.383646         227      692369        202   \n",
       "...            ...       ...         ...         ...        ...   \n",
       "4430183       9200  0.000051           0           0          1   \n",
       "4430184       9200  0.000023           0           0          0   \n",
       "4430185       9200  0.000005           0           0          0   \n",
       "4430186       9200  0.000005           0           0          0   \n",
       "4430187       9200  0.000005           0           0          0   \n",
       "\n",
       "         orig_ip_bytes  resp_pkts  resp_ip_bytes  label  \n",
       "1                    0          0              0      0  \n",
       "2                    0          0              0      0  \n",
       "4                    0          0              0      0  \n",
       "5                  528          6           1296      0  \n",
       "6                10739        117         240893      0  \n",
       "...                ...        ...            ...    ...  \n",
       "4430183             52          1             40      0  \n",
       "4430184              0          1             40      0  \n",
       "4430185              0          1             40      0  \n",
       "4430186              0          1             40      0  \n",
       "4430187              0          1             40      0  \n",
       "\n",
       "[4236125 rows x 9 columns]"
      ]
     },
     "execution_count": 2,
     "metadata": {},
     "output_type": "execute_result"
    }
   ],
   "source": [
    "# In the notebooks on Pandas, Matplotlib and Scaling\n",
    "#   04 - Beginning Pandas <br>\n",
    "#   05 - Beginning Matplotlib <br>\n",
    "#   06 - Beginning Data Scaling <br>\n",
    "# we loaded our dataset such as\n",
    "df_conn = pd.read_csv(r'df_conn_with_labels.csv', index_col=0)\n",
    "df_conn"
   ]
  },
  {
   "attachments": {},
   "cell_type": "markdown",
   "metadata": {},
   "source": [
    "This file represents Zeek (formerly Bro) connection log - conn.log`. \n",
    "Zeek is a framework used for Network Security Monitoring. \n",
    "This entire series is based on using Zeek's data. \n",
    "The majority of the notebooks use the conn.log\n",
    "You can learn more about Zeek here:\n",
    "   \n",
    "    https://zeek.org/\n",
    "\n",
    "Alternatively, come hang out with us in the:\n",
    "SANS SEC595: Applied Data Science and Machine Learning for Cybersecurity Professionals\n",
    "\n",
    "        https://www.sans.org/cyber-security-courses/applied-data-science-machine-learning/ OR\n",
    "\n",
    "SEC503 SEC503: Network Monitoring and Threat Detection In-Depth\n",
    "\n",
    "        https://www.sans.org/cyber-security-courses/network-monitoring-threat-detection/\n",
    "\n",
    "\n",
    "Here are also some blog posts on using Zeek for security monitoring\n",
    "Installing Zeek: \n",
    "\n",
    "        https://www.securitynik.com/2020/06/installing-zeek-314-on-ubuntu-2004.html\n",
    "\n",
    "Detecting PowerShell Empire Usage: \n",
    "\n",
    "        https://www.securitynik.com/2022/02/powershell-empire-detection-with-zeek.html\n",
    "\n",
    "Detecting Log4J Vulnerability Exploitation: \n",
    "\n",
    "        https://www.securitynik.com/2021/12/continuing-log4shell-zeek-detection.html"
   ]
  },
  {
   "cell_type": "code",
   "execution_count": 3,
   "metadata": {},
   "outputs": [
    {
     "data": {
      "text/html": [
       "<div>\n",
       "<style scoped>\n",
       "    .dataframe tbody tr th:only-of-type {\n",
       "        vertical-align: middle;\n",
       "    }\n",
       "\n",
       "    .dataframe tbody tr th {\n",
       "        vertical-align: top;\n",
       "    }\n",
       "\n",
       "    .dataframe thead th {\n",
       "        text-align: right;\n",
       "    }\n",
       "</style>\n",
       "<table border=\"1\" class=\"dataframe\">\n",
       "  <thead>\n",
       "    <tr style=\"text-align: right;\">\n",
       "      <th></th>\n",
       "      <th>duration</th>\n",
       "      <th>orig_bytes</th>\n",
       "      <th>resp_bytes</th>\n",
       "      <th>orig_pkts</th>\n",
       "      <th>orig_ip_bytes</th>\n",
       "      <th>resp_pkts</th>\n",
       "      <th>resp_ip_bytes</th>\n",
       "      <th>label</th>\n",
       "    </tr>\n",
       "  </thead>\n",
       "  <tbody>\n",
       "    <tr>\n",
       "      <th>1</th>\n",
       "      <td>0.000000</td>\n",
       "      <td>0</td>\n",
       "      <td>0</td>\n",
       "      <td>0</td>\n",
       "      <td>0</td>\n",
       "      <td>0</td>\n",
       "      <td>0</td>\n",
       "      <td>0</td>\n",
       "    </tr>\n",
       "    <tr>\n",
       "      <th>2</th>\n",
       "      <td>0.000000</td>\n",
       "      <td>0</td>\n",
       "      <td>0</td>\n",
       "      <td>0</td>\n",
       "      <td>0</td>\n",
       "      <td>0</td>\n",
       "      <td>0</td>\n",
       "      <td>0</td>\n",
       "    </tr>\n",
       "    <tr>\n",
       "      <th>4</th>\n",
       "      <td>0.000000</td>\n",
       "      <td>0</td>\n",
       "      <td>0</td>\n",
       "      <td>0</td>\n",
       "      <td>0</td>\n",
       "      <td>0</td>\n",
       "      <td>0</td>\n",
       "      <td>0</td>\n",
       "    </tr>\n",
       "    <tr>\n",
       "      <th>5</th>\n",
       "      <td>0.053276</td>\n",
       "      <td>208</td>\n",
       "      <td>976</td>\n",
       "      <td>6</td>\n",
       "      <td>528</td>\n",
       "      <td>6</td>\n",
       "      <td>1296</td>\n",
       "      <td>0</td>\n",
       "    </tr>\n",
       "    <tr>\n",
       "      <th>6</th>\n",
       "      <td>0.383646</td>\n",
       "      <td>227</td>\n",
       "      <td>692369</td>\n",
       "      <td>202</td>\n",
       "      <td>10739</td>\n",
       "      <td>117</td>\n",
       "      <td>240893</td>\n",
       "      <td>0</td>\n",
       "    </tr>\n",
       "    <tr>\n",
       "      <th>...</th>\n",
       "      <td>...</td>\n",
       "      <td>...</td>\n",
       "      <td>...</td>\n",
       "      <td>...</td>\n",
       "      <td>...</td>\n",
       "      <td>...</td>\n",
       "      <td>...</td>\n",
       "      <td>...</td>\n",
       "    </tr>\n",
       "    <tr>\n",
       "      <th>4430183</th>\n",
       "      <td>0.000051</td>\n",
       "      <td>0</td>\n",
       "      <td>0</td>\n",
       "      <td>1</td>\n",
       "      <td>52</td>\n",
       "      <td>1</td>\n",
       "      <td>40</td>\n",
       "      <td>0</td>\n",
       "    </tr>\n",
       "    <tr>\n",
       "      <th>4430184</th>\n",
       "      <td>0.000023</td>\n",
       "      <td>0</td>\n",
       "      <td>0</td>\n",
       "      <td>0</td>\n",
       "      <td>0</td>\n",
       "      <td>1</td>\n",
       "      <td>40</td>\n",
       "      <td>0</td>\n",
       "    </tr>\n",
       "    <tr>\n",
       "      <th>4430185</th>\n",
       "      <td>0.000005</td>\n",
       "      <td>0</td>\n",
       "      <td>0</td>\n",
       "      <td>0</td>\n",
       "      <td>0</td>\n",
       "      <td>1</td>\n",
       "      <td>40</td>\n",
       "      <td>0</td>\n",
       "    </tr>\n",
       "    <tr>\n",
       "      <th>4430186</th>\n",
       "      <td>0.000005</td>\n",
       "      <td>0</td>\n",
       "      <td>0</td>\n",
       "      <td>0</td>\n",
       "      <td>0</td>\n",
       "      <td>1</td>\n",
       "      <td>40</td>\n",
       "      <td>0</td>\n",
       "    </tr>\n",
       "    <tr>\n",
       "      <th>4430187</th>\n",
       "      <td>0.000005</td>\n",
       "      <td>0</td>\n",
       "      <td>0</td>\n",
       "      <td>0</td>\n",
       "      <td>0</td>\n",
       "      <td>1</td>\n",
       "      <td>40</td>\n",
       "      <td>0</td>\n",
       "    </tr>\n",
       "  </tbody>\n",
       "</table>\n",
       "<p>4236125 rows × 8 columns</p>\n",
       "</div>"
      ],
      "text/plain": [
       "         duration  orig_bytes  resp_bytes  orig_pkts  orig_ip_bytes   \n",
       "1        0.000000           0           0          0              0  \\\n",
       "2        0.000000           0           0          0              0   \n",
       "4        0.000000           0           0          0              0   \n",
       "5        0.053276         208         976          6            528   \n",
       "6        0.383646         227      692369        202          10739   \n",
       "...           ...         ...         ...        ...            ...   \n",
       "4430183  0.000051           0           0          1             52   \n",
       "4430184  0.000023           0           0          0              0   \n",
       "4430185  0.000005           0           0          0              0   \n",
       "4430186  0.000005           0           0          0              0   \n",
       "4430187  0.000005           0           0          0              0   \n",
       "\n",
       "         resp_pkts  resp_ip_bytes  label  \n",
       "1                0              0      0  \n",
       "2                0              0      0  \n",
       "4                0              0      0  \n",
       "5                6           1296      0  \n",
       "6              117         240893      0  \n",
       "...            ...            ...    ...  \n",
       "4430183          1             40      0  \n",
       "4430184          1             40      0  \n",
       "4430185          1             40      0  \n",
       "4430186          1             40      0  \n",
       "4430187          1             40      0  \n",
       "\n",
       "[4236125 rows x 8 columns]"
      ]
     },
     "execution_count": 3,
     "metadata": {},
     "output_type": "execute_result"
    }
   ],
   "source": [
    "# Drop the port column\n",
    "df_conn = df_conn.drop(columns=['id.resp_p'], inplace=False)\n",
    "df_conn"
   ]
  },
  {
   "cell_type": "code",
   "execution_count": 4,
   "metadata": {},
   "outputs": [
    {
     "data": {
      "text/html": [
       "<div>\n",
       "<style scoped>\n",
       "    .dataframe tbody tr th:only-of-type {\n",
       "        vertical-align: middle;\n",
       "    }\n",
       "\n",
       "    .dataframe tbody tr th {\n",
       "        vertical-align: top;\n",
       "    }\n",
       "\n",
       "    .dataframe thead th {\n",
       "        text-align: right;\n",
       "    }\n",
       "</style>\n",
       "<table border=\"1\" class=\"dataframe\">\n",
       "  <thead>\n",
       "    <tr style=\"text-align: right;\">\n",
       "      <th></th>\n",
       "      <th>duration</th>\n",
       "      <th>orig_bytes</th>\n",
       "      <th>resp_bytes</th>\n",
       "      <th>orig_pkts</th>\n",
       "      <th>orig_ip_bytes</th>\n",
       "      <th>resp_pkts</th>\n",
       "      <th>resp_ip_bytes</th>\n",
       "      <th>label</th>\n",
       "    </tr>\n",
       "  </thead>\n",
       "  <tbody>\n",
       "    <tr>\n",
       "      <th>5</th>\n",
       "      <td>0.053276</td>\n",
       "      <td>208</td>\n",
       "      <td>976</td>\n",
       "      <td>6</td>\n",
       "      <td>528</td>\n",
       "      <td>6</td>\n",
       "      <td>1296</td>\n",
       "      <td>0</td>\n",
       "    </tr>\n",
       "    <tr>\n",
       "      <th>6</th>\n",
       "      <td>0.383646</td>\n",
       "      <td>227</td>\n",
       "      <td>692369</td>\n",
       "      <td>202</td>\n",
       "      <td>10739</td>\n",
       "      <td>117</td>\n",
       "      <td>240893</td>\n",
       "      <td>0</td>\n",
       "    </tr>\n",
       "    <tr>\n",
       "      <th>7</th>\n",
       "      <td>0.054294</td>\n",
       "      <td>208</td>\n",
       "      <td>977</td>\n",
       "      <td>6</td>\n",
       "      <td>528</td>\n",
       "      <td>6</td>\n",
       "      <td>1297</td>\n",
       "      <td>0</td>\n",
       "    </tr>\n",
       "    <tr>\n",
       "      <th>8</th>\n",
       "      <td>0.424980</td>\n",
       "      <td>227</td>\n",
       "      <td>791633</td>\n",
       "      <td>176</td>\n",
       "      <td>9387</td>\n",
       "      <td>174</td>\n",
       "      <td>367737</td>\n",
       "      <td>0</td>\n",
       "    </tr>\n",
       "    <tr>\n",
       "      <th>9</th>\n",
       "      <td>0.272567</td>\n",
       "      <td>227</td>\n",
       "      <td>406607</td>\n",
       "      <td>171</td>\n",
       "      <td>9127</td>\n",
       "      <td>71</td>\n",
       "      <td>169939</td>\n",
       "      <td>0</td>\n",
       "    </tr>\n",
       "    <tr>\n",
       "      <th>...</th>\n",
       "      <td>...</td>\n",
       "      <td>...</td>\n",
       "      <td>...</td>\n",
       "      <td>...</td>\n",
       "      <td>...</td>\n",
       "      <td>...</td>\n",
       "      <td>...</td>\n",
       "      <td>...</td>\n",
       "    </tr>\n",
       "    <tr>\n",
       "      <th>4430183</th>\n",
       "      <td>0.000051</td>\n",
       "      <td>0</td>\n",
       "      <td>0</td>\n",
       "      <td>1</td>\n",
       "      <td>52</td>\n",
       "      <td>1</td>\n",
       "      <td>40</td>\n",
       "      <td>0</td>\n",
       "    </tr>\n",
       "    <tr>\n",
       "      <th>4430184</th>\n",
       "      <td>0.000023</td>\n",
       "      <td>0</td>\n",
       "      <td>0</td>\n",
       "      <td>0</td>\n",
       "      <td>0</td>\n",
       "      <td>1</td>\n",
       "      <td>40</td>\n",
       "      <td>0</td>\n",
       "    </tr>\n",
       "    <tr>\n",
       "      <th>4430185</th>\n",
       "      <td>0.000005</td>\n",
       "      <td>0</td>\n",
       "      <td>0</td>\n",
       "      <td>0</td>\n",
       "      <td>0</td>\n",
       "      <td>1</td>\n",
       "      <td>40</td>\n",
       "      <td>0</td>\n",
       "    </tr>\n",
       "    <tr>\n",
       "      <th>4430186</th>\n",
       "      <td>0.000005</td>\n",
       "      <td>0</td>\n",
       "      <td>0</td>\n",
       "      <td>0</td>\n",
       "      <td>0</td>\n",
       "      <td>1</td>\n",
       "      <td>40</td>\n",
       "      <td>0</td>\n",
       "    </tr>\n",
       "    <tr>\n",
       "      <th>4430187</th>\n",
       "      <td>0.000005</td>\n",
       "      <td>0</td>\n",
       "      <td>0</td>\n",
       "      <td>0</td>\n",
       "      <td>0</td>\n",
       "      <td>1</td>\n",
       "      <td>40</td>\n",
       "      <td>0</td>\n",
       "    </tr>\n",
       "  </tbody>\n",
       "</table>\n",
       "<p>207608 rows × 8 columns</p>\n",
       "</div>"
      ],
      "text/plain": [
       "         duration  orig_bytes  resp_bytes  orig_pkts  orig_ip_bytes   \n",
       "5        0.053276         208         976          6            528  \\\n",
       "6        0.383646         227      692369        202          10739   \n",
       "7        0.054294         208         977          6            528   \n",
       "8        0.424980         227      791633        176           9387   \n",
       "9        0.272567         227      406607        171           9127   \n",
       "...           ...         ...         ...        ...            ...   \n",
       "4430183  0.000051           0           0          1             52   \n",
       "4430184  0.000023           0           0          0              0   \n",
       "4430185  0.000005           0           0          0              0   \n",
       "4430186  0.000005           0           0          0              0   \n",
       "4430187  0.000005           0           0          0              0   \n",
       "\n",
       "         resp_pkts  resp_ip_bytes  label  \n",
       "5                6           1296      0  \n",
       "6              117         240893      0  \n",
       "7                6           1297      0  \n",
       "8              174         367737      0  \n",
       "9               71         169939      0  \n",
       "...            ...            ...    ...  \n",
       "4430183          1             40      0  \n",
       "4430184          1             40      0  \n",
       "4430185          1             40      0  \n",
       "4430186          1             40      0  \n",
       "4430187          1             40      0  \n",
       "\n",
       "[207608 rows x 8 columns]"
      ]
     },
     "execution_count": 4,
     "metadata": {},
     "output_type": "execute_result"
    }
   ],
   "source": [
    "# Looking at above, we see a number of records with 0s. \n",
    "# These will add no value to our learning process\n",
    "# Let's find all those records and drop them\n",
    "# Reference: https://stackoverflow.com/questions/13851535/how-to-delete-rows-from-a-pandas-dataframe-based-on-a-conditional-expression\n",
    "df_conn = df_conn.drop(df_conn[(df_conn.duration == 0 ) & (df_conn.orig_bytes == 0 ) \\\n",
    "                               & (df_conn.resp_bytes == 0 ) & (df_conn.orig_pkts == 0 )  \\\n",
    "                                & (df_conn.orig_ip_bytes == 0 ) & (df_conn.resp_pkts == 0 ) \\\n",
    "                                    & (df_conn.resp_ip_bytes == 0 )].index)\n",
    "df_conn"
   ]
  },
  {
   "cell_type": "code",
   "execution_count": 5,
   "metadata": {},
   "outputs": [
    {
     "data": {
      "image/png": "[encoded data removed]",
      "text/plain": [
       "<Figure size 640x480 with 1 Axes>"
      ]
     },
     "metadata": {},
     "output_type": "display_data"
    }
   ],
   "source": [
    "# The graph below shows this dataset is highly imbalanced.\n",
    "# As a result, using measures like accuracy is more than likely not the best approach, \n",
    "# to understand how well our eventual model has \"learned\"\n",
    "# via the training data\n",
    "plt.title('Bar graph showing highly imbalanced dataset')\n",
    "plt.bar(x=['normal', 'suspicious'], height=[ df_conn[df_conn.label == 0].shape[0], \\\n",
    "                                            df_conn[df_conn.label == 1].shape[0] ])\n",
    "plt.ylabel(ylabel='Number of Records')\n",
    "plt.xlabel(xlabel='Normal vs Suspicious')\n",
    "plt.xticks(rotation=45)\n",
    "plt.show()\n"
   ]
  },
  {
   "cell_type": "code",
   "execution_count": 7,
   "metadata": {},
   "outputs": [
    {
     "data": {
      "text/plain": [
       "0.032272359446649454"
      ]
     },
     "execution_count": 7,
     "metadata": {},
     "output_type": "execute_result"
    }
   ],
   "source": [
    "# Getting the percentage of samples that are considered suspicious in this dataset\n",
    "# This is going to be quite a challenge for this learning algorithm\n",
    "(df_conn[df_conn.label == 1].shape[0] / df_conn.shape[0]) * 100"
   ]
  },
  {
   "cell_type": "code",
   "execution_count": 8,
   "metadata": {},
   "outputs": [
    {
     "data": {
      "text/html": [
       "<div>\n",
       "<style scoped>\n",
       "    .dataframe tbody tr th:only-of-type {\n",
       "        vertical-align: middle;\n",
       "    }\n",
       "\n",
       "    .dataframe tbody tr th {\n",
       "        vertical-align: top;\n",
       "    }\n",
       "\n",
       "    .dataframe thead th {\n",
       "        text-align: right;\n",
       "    }\n",
       "</style>\n",
       "<table border=\"1\" class=\"dataframe\">\n",
       "  <thead>\n",
       "    <tr style=\"text-align: right;\">\n",
       "      <th></th>\n",
       "      <th>duration</th>\n",
       "      <th>orig_bytes</th>\n",
       "      <th>resp_bytes</th>\n",
       "      <th>orig_pkts</th>\n",
       "      <th>orig_ip_bytes</th>\n",
       "      <th>resp_pkts</th>\n",
       "      <th>resp_ip_bytes</th>\n",
       "    </tr>\n",
       "  </thead>\n",
       "  <tbody>\n",
       "    <tr>\n",
       "      <th>5</th>\n",
       "      <td>0.053276</td>\n",
       "      <td>208</td>\n",
       "      <td>976</td>\n",
       "      <td>6</td>\n",
       "      <td>528</td>\n",
       "      <td>6</td>\n",
       "      <td>1296</td>\n",
       "    </tr>\n",
       "    <tr>\n",
       "      <th>6</th>\n",
       "      <td>0.383646</td>\n",
       "      <td>227</td>\n",
       "      <td>692369</td>\n",
       "      <td>202</td>\n",
       "      <td>10739</td>\n",
       "      <td>117</td>\n",
       "      <td>240893</td>\n",
       "    </tr>\n",
       "    <tr>\n",
       "      <th>7</th>\n",
       "      <td>0.054294</td>\n",
       "      <td>208</td>\n",
       "      <td>977</td>\n",
       "      <td>6</td>\n",
       "      <td>528</td>\n",
       "      <td>6</td>\n",
       "      <td>1297</td>\n",
       "    </tr>\n",
       "    <tr>\n",
       "      <th>8</th>\n",
       "      <td>0.424980</td>\n",
       "      <td>227</td>\n",
       "      <td>791633</td>\n",
       "      <td>176</td>\n",
       "      <td>9387</td>\n",
       "      <td>174</td>\n",
       "      <td>367737</td>\n",
       "    </tr>\n",
       "    <tr>\n",
       "      <th>9</th>\n",
       "      <td>0.272567</td>\n",
       "      <td>227</td>\n",
       "      <td>406607</td>\n",
       "      <td>171</td>\n",
       "      <td>9127</td>\n",
       "      <td>71</td>\n",
       "      <td>169939</td>\n",
       "    </tr>\n",
       "    <tr>\n",
       "      <th>...</th>\n",
       "      <td>...</td>\n",
       "      <td>...</td>\n",
       "      <td>...</td>\n",
       "      <td>...</td>\n",
       "      <td>...</td>\n",
       "      <td>...</td>\n",
       "      <td>...</td>\n",
       "    </tr>\n",
       "    <tr>\n",
       "      <th>4430183</th>\n",
       "      <td>0.000051</td>\n",
       "      <td>0</td>\n",
       "      <td>0</td>\n",
       "      <td>1</td>\n",
       "      <td>52</td>\n",
       "      <td>1</td>\n",
       "      <td>40</td>\n",
       "    </tr>\n",
       "    <tr>\n",
       "      <th>4430184</th>\n",
       "      <td>0.000023</td>\n",
       "      <td>0</td>\n",
       "      <td>0</td>\n",
       "      <td>0</td>\n",
       "      <td>0</td>\n",
       "      <td>1</td>\n",
       "      <td>40</td>\n",
       "    </tr>\n",
       "    <tr>\n",
       "      <th>4430185</th>\n",
       "      <td>0.000005</td>\n",
       "      <td>0</td>\n",
       "      <td>0</td>\n",
       "      <td>0</td>\n",
       "      <td>0</td>\n",
       "      <td>1</td>\n",
       "      <td>40</td>\n",
       "    </tr>\n",
       "    <tr>\n",
       "      <th>4430186</th>\n",
       "      <td>0.000005</td>\n",
       "      <td>0</td>\n",
       "      <td>0</td>\n",
       "      <td>0</td>\n",
       "      <td>0</td>\n",
       "      <td>1</td>\n",
       "      <td>40</td>\n",
       "    </tr>\n",
       "    <tr>\n",
       "      <th>4430187</th>\n",
       "      <td>0.000005</td>\n",
       "      <td>0</td>\n",
       "      <td>0</td>\n",
       "      <td>0</td>\n",
       "      <td>0</td>\n",
       "      <td>1</td>\n",
       "      <td>40</td>\n",
       "    </tr>\n",
       "  </tbody>\n",
       "</table>\n",
       "<p>207608 rows × 7 columns</p>\n",
       "</div>"
      ],
      "text/plain": [
       "         duration  orig_bytes  resp_bytes  orig_pkts  orig_ip_bytes   \n",
       "5        0.053276         208         976          6            528  \\\n",
       "6        0.383646         227      692369        202          10739   \n",
       "7        0.054294         208         977          6            528   \n",
       "8        0.424980         227      791633        176           9387   \n",
       "9        0.272567         227      406607        171           9127   \n",
       "...           ...         ...         ...        ...            ...   \n",
       "4430183  0.000051           0           0          1             52   \n",
       "4430184  0.000023           0           0          0              0   \n",
       "4430185  0.000005           0           0          0              0   \n",
       "4430186  0.000005           0           0          0              0   \n",
       "4430187  0.000005           0           0          0              0   \n",
       "\n",
       "         resp_pkts  resp_ip_bytes  \n",
       "5                6           1296  \n",
       "6              117         240893  \n",
       "7                6           1297  \n",
       "8              174         367737  \n",
       "9               71         169939  \n",
       "...            ...            ...  \n",
       "4430183          1             40  \n",
       "4430184          1             40  \n",
       "4430185          1             40  \n",
       "4430186          1             40  \n",
       "4430187          1             40  \n",
       "\n",
       "[207608 rows x 7 columns]"
      ]
     },
     "execution_count": 8,
     "metadata": {},
     "output_type": "execute_result"
    }
   ],
   "source": [
    "# Extract the X_data\n",
    "X_data = df_conn.drop(columns=['label'], inplace=False)\n",
    "X_data"
   ]
  },
  {
   "cell_type": "code",
   "execution_count": 9,
   "metadata": {},
   "outputs": [
    {
     "data": {
      "text/plain": [
       "5          0\n",
       "6          0\n",
       "7          0\n",
       "8          0\n",
       "9          0\n",
       "          ..\n",
       "4430183    0\n",
       "4430184    0\n",
       "4430185    0\n",
       "4430186    0\n",
       "4430187    0\n",
       "Name: label, Length: 207608, dtype: int64"
      ]
     },
     "execution_count": 9,
     "metadata": {},
     "output_type": "execute_result"
    }
   ],
   "source": [
    "# Extract the labels\n",
    "y_label = df_conn.label\n",
    "y_label"
   ]
  },
  {
   "cell_type": "code",
   "execution_count": 10,
   "metadata": {},
   "outputs": [],
   "source": [
    "# prepare to split the data into training and testing sets\n",
    "from sklearn.model_selection import train_test_split"
   ]
  },
  {
   "cell_type": "code",
   "execution_count": 11,
   "metadata": {},
   "outputs": [
    {
     "data": {
      "text/plain": [
       "((166086, 7), (166086,), (41522, 7), (41522,))"
      ]
     },
     "execution_count": 11,
     "metadata": {},
     "output_type": "execute_result"
    }
   ],
   "source": [
    "# Split the data into training and testing sets\n",
    "X_train, X_test, y_train, y_test = train_test_split(X_data.values, y_label, test_size=0.2, \\\n",
    "                                                    train_size=0.8, stratify=y_label, random_state=10)\n",
    "X_train.shape, y_train.shape, X_test.shape, y_test.shape"
   ]
  },
  {
   "cell_type": "code",
   "execution_count": 12,
   "metadata": {},
   "outputs": [],
   "source": [
    "# With a statistical understanding of the normal and suspicious datasets, time to build the model\n",
    "# Scaling was covered in \n",
    "#   06 - Beginning Data Scaling\n",
    "# Scaling the data first\n",
    "# import the scaler library\n",
    "# https://scikit-learn.org/stable/modules/generated/sklearn.preprocessing.MinMaxScaler.html\n",
    "from sklearn.preprocessing import MinMaxScaler"
   ]
  },
  {
   "cell_type": "code",
   "execution_count": 13,
   "metadata": {},
   "outputs": [
    {
     "data": {
      "text/plain": [
       "array([[2.63072563e-07, 9.18795041e-08, 7.10178687e-08, ...,\n",
       "        3.59579942e-07, 1.75013957e-06, 3.05765612e-07],\n",
       "       [3.61672231e-07, 5.89415687e-08, 2.38314996e-08, ...,\n",
       "        2.75234030e-07, 1.75013957e-06, 1.34744168e-07],\n",
       "       [2.79225614e-09, 0.00000000e+00, 0.00000000e+00, ...,\n",
       "        2.30841444e-07, 1.75013957e-06, 6.90995734e-08],\n",
       "       ...,\n",
       "       [1.68135854e-09, 0.00000000e+00, 0.00000000e+00, ...,\n",
       "        2.30841444e-07, 1.75013957e-06, 6.90995734e-08],\n",
       "       [1.65133428e-09, 0.00000000e+00, 0.00000000e+00, ...,\n",
       "        2.30841444e-07, 1.75013957e-06, 6.90995734e-08],\n",
       "       [3.49932746e-07, 7.80108997e-08, 8.38868784e-08, ...,\n",
       "        3.24065874e-07, 1.75013957e-06, 3.52407824e-07]])"
      ]
     },
     "execution_count": 13,
     "metadata": {},
     "output_type": "execute_result"
    }
   ],
   "source": [
    "# Setup the scaler\n",
    "min_max_scaler = MinMaxScaler(feature_range=(0,1))\n",
    "\n",
    "# Fit on the training data\n",
    "min_max_scaler.fit(X_train)\n",
    "\n",
    "# Transform the train data\n",
    "X_train = min_max_scaler.transform(X_train)\n",
    "X_train"
   ]
  },
  {
   "cell_type": "code",
   "execution_count": 14,
   "metadata": {},
   "outputs": [
    {
     "data": {
      "text/plain": [
       "array([[1.73484676e-05, 3.90054499e-07, 8.33234064e-04, ...,\n",
       "        7.60578166e-05, 6.94805411e-04, 1.16707452e-03],\n",
       "       [5.08070521e-07, 6.41422953e-08, 5.29059290e-08, ...,\n",
       "        2.88551805e-07, 1.75013957e-06, 2.40121018e-07],\n",
       "       [4.43809598e-06, 2.05948775e-06, 1.84884774e-05, ...,\n",
       "        9.69534066e-06, 5.60044664e-05, 6.65187043e-05],\n",
       "       ...,\n",
       "       [5.47522398e-07, 6.41422953e-08, 8.96064383e-08, ...,\n",
       "        2.88551805e-07, 1.75013957e-06, 3.73137696e-07],\n",
       "       [1.83147984e-09, 0.00000000e+00, 0.00000000e+00, ...,\n",
       "        2.30841444e-07, 1.75013957e-06, 6.90995734e-08],\n",
       "       [0.00000000e+00, 0.00000000e+00, 0.00000000e+00, ...,\n",
       "        3.95094010e-07, 0.00000000e+00, 0.00000000e+00]])"
      ]
     },
     "execution_count": 14,
     "metadata": {},
     "output_type": "execute_result"
    }
   ],
   "source": [
    "# Scale the test data\n",
    "X_test = min_max_scaler.transform(X_test)\n",
    "X_test"
   ]
  },
  {
   "cell_type": "code",
   "execution_count": 15,
   "metadata": {},
   "outputs": [],
   "source": [
    "# Import PCA to leverage dimensionality reduction\n",
    "# PCA was covered in notebook\n",
    "#   07 - Beginning Principal Component Analysis (PCA)\n",
    "from sklearn.decomposition import PCA"
   ]
  },
  {
   "cell_type": "code",
   "execution_count": 16,
   "metadata": {},
   "outputs": [
    {
     "data": {
      "text/html": [
       "<style>#sk-container-id-1 {color: black;background-color: white;}#sk-container-id-1 pre{padding: 0;}#sk-container-id-1 div.sk-toggleable {background-color: white;}#sk-container-id-1 label.sk-toggleable__label {cursor: pointer;display: block;width: 100%;margin-bottom: 0;padding: 0.3em;box-sizing: border-box;text-align: center;}#sk-container-id-1 label.sk-toggleable__label-arrow:before {content: \"▸\";float: left;margin-right: 0.25em;color: #696969;}#sk-container-id-1 label.sk-toggleable__label-arrow:hover:before {color: black;}#sk-container-id-1 div.sk-estimator:hover label.sk-toggleable__label-arrow:before {color: black;}#sk-container-id-1 div.sk-toggleable__content {max-height: 0;max-width: 0;overflow: hidden;text-align: left;background-color: #f0f8ff;}#sk-container-id-1 div.sk-toggleable__content pre {margin: 0.2em;color: black;border-radius: 0.25em;background-color: #f0f8ff;}#sk-container-id-1 input.sk-toggleable__control:checked~div.sk-toggleable__content {max-height: 200px;max-width: 100%;overflow: auto;}#sk-container-id-1 input.sk-toggleable__control:checked~label.sk-toggleable__label-arrow:before {content: \"▾\";}#sk-container-id-1 div.sk-estimator input.sk-toggleable__control:checked~label.sk-toggleable__label {background-color: #d4ebff;}#sk-container-id-1 div.sk-label input.sk-toggleable__control:checked~label.sk-toggleable__label {background-color: #d4ebff;}#sk-container-id-1 input.sk-hidden--visually {border: 0;clip: rect(1px 1px 1px 1px);clip: rect(1px, 1px, 1px, 1px);height: 1px;margin: -1px;overflow: hidden;padding: 0;position: absolute;width: 1px;}#sk-container-id-1 div.sk-estimator {font-family: monospace;background-color: #f0f8ff;border: 1px dotted black;border-radius: 0.25em;box-sizing: border-box;margin-bottom: 0.5em;}#sk-container-id-1 div.sk-estimator:hover {background-color: #d4ebff;}#sk-container-id-1 div.sk-parallel-item::after {content: \"\";width: 100%;border-bottom: 1px solid gray;flex-grow: 1;}#sk-container-id-1 div.sk-label:hover label.sk-toggleable__label {background-color: #d4ebff;}#sk-container-id-1 div.sk-serial::before {content: \"\";position: absolute;border-left: 1px solid gray;box-sizing: border-box;top: 0;bottom: 0;left: 50%;z-index: 0;}#sk-container-id-1 div.sk-serial {display: flex;flex-direction: column;align-items: center;background-color: white;padding-right: 0.2em;padding-left: 0.2em;position: relative;}#sk-container-id-1 div.sk-item {position: relative;z-index: 1;}#sk-container-id-1 div.sk-parallel {display: flex;align-items: stretch;justify-content: center;background-color: white;position: relative;}#sk-container-id-1 div.sk-item::before, #sk-container-id-1 div.sk-parallel-item::before {content: \"\";position: absolute;border-left: 1px solid gray;box-sizing: border-box;top: 0;bottom: 0;left: 50%;z-index: -1;}#sk-container-id-1 div.sk-parallel-item {display: flex;flex-direction: column;z-index: 1;position: relative;background-color: white;}#sk-container-id-1 div.sk-parallel-item:first-child::after {align-self: flex-end;width: 50%;}#sk-container-id-1 div.sk-parallel-item:last-child::after {align-self: flex-start;width: 50%;}#sk-container-id-1 div.sk-parallel-item:only-child::after {width: 0;}#sk-container-id-1 div.sk-dashed-wrapped {border: 1px dashed gray;margin: 0 0.4em 0.5em 0.4em;box-sizing: border-box;padding-bottom: 0.4em;background-color: white;}#sk-container-id-1 div.sk-label label {font-family: monospace;font-weight: bold;display: inline-block;line-height: 1.2em;}#sk-container-id-1 div.sk-label-container {text-align: center;}#sk-container-id-1 div.sk-container {/* jupyter's `normalize.less` sets `[hidden] { display: none; }` but bootstrap.min.css set `[hidden] { display: none !important; }` so we also need the `!important` here to be able to override the default hidden behavior on the sphinx rendered scikit-learn.org. See: https://github.com/scikit-learn/scikit-learn/issues/21755 */display: inline-block !important;position: relative;}#sk-container-id-1 div.sk-text-repr-fallback {display: none;}</style><div id=\"sk-container-id-1\" class=\"sk-top-container\"><div class=\"sk-text-repr-fallback\"><pre>PCA(n_components=3, random_state=10)</pre><b>In a Jupyter environment, please rerun this cell to show the HTML representation or trust the notebook. <br />On GitHub, the HTML representation is unable to render, please try loading this page with nbviewer.org.</b></div><div class=\"sk-container\" hidden><div class=\"sk-item\"><div class=\"sk-estimator sk-toggleable\"><input class=\"sk-toggleable__control sk-hidden--visually\" id=\"sk-estimator-id-1\" type=\"checkbox\" checked><label for=\"sk-estimator-id-1\" class=\"sk-toggleable__label sk-toggleable__label-arrow\">PCA</label><div class=\"sk-toggleable__content\"><pre>PCA(n_components=3, random_state=10)</pre></div></div></div></div></div>"
      ],
      "text/plain": [
       "PCA(n_components=3, random_state=10)"
      ]
     },
     "execution_count": 16,
     "metadata": {},
     "output_type": "execute_result"
    }
   ],
   "source": [
    "# Setup PCA to use 3 principal Components\n",
    "pca = PCA(n_components=3, random_state=10)\n",
    "pca"
   ]
  },
  {
   "cell_type": "code",
   "execution_count": 17,
   "metadata": {},
   "outputs": [
    {
     "data": {
      "text/plain": [
       "array([[-0.00025828, -0.00023497, -0.00047665],\n",
       "       [-0.00025839, -0.00023502, -0.00047653],\n",
       "       [-0.00025846, -0.00023515, -0.00047686],\n",
       "       ...,\n",
       "       [-0.00025846, -0.00023515, -0.00047686],\n",
       "       [-0.00025846, -0.00023515, -0.00047686],\n",
       "       [-0.00025826, -0.00023494, -0.00047657]])"
      ]
     },
     "execution_count": 17,
     "metadata": {},
     "output_type": "execute_result"
    }
   ],
   "source": [
    "# Fit on the X_train\n",
    "pca.fit(X_train)\n",
    "\n",
    "# transform the training data\n",
    "X_train = pca.transform(X_train)\n",
    "X_train"
   ]
  },
  {
   "cell_type": "code",
   "execution_count": 18,
   "metadata": {},
   "outputs": [
    {
     "data": {
      "text/plain": [
       "array([[ 0.00134937,  0.000691  , -0.0008094 ],\n",
       "       [-0.00025832, -0.00023494, -0.0004764 ],\n",
       "       [-0.00018612, -0.00015918, -0.0004979 ],\n",
       "       ...,\n",
       "       [-0.00025824, -0.00023488, -0.00047639],\n",
       "       [-0.00025846, -0.00023515, -0.00047686],\n",
       "       [-0.00025896, -0.0002359 , -0.00047662]])"
      ]
     },
     "execution_count": 18,
     "metadata": {},
     "output_type": "execute_result"
    }
   ],
   "source": [
    "# Use the opportunity to PCA transform the X_test\n",
    "X_test = pca.transform(X_test)\n",
    "X_test"
   ]
  },
  {
   "cell_type": "code",
   "execution_count": 19,
   "metadata": {},
   "outputs": [],
   "source": [
    "# Import torch\n",
    "import torch\n",
    "\n",
    "# Import the torchinfo to get summary information\n",
    "import torchinfo"
   ]
  },
  {
   "cell_type": "code",
   "execution_count": 20,
   "metadata": {},
   "outputs": [
    {
     "data": {
      "text/plain": [
       "(tensor([[-0.0003, -0.0002, -0.0005],\n",
       "         [-0.0003, -0.0002, -0.0005],\n",
       "         [-0.0003, -0.0002, -0.0005],\n",
       "         [-0.0003, -0.0002, -0.0005],\n",
       "         [-0.0003, -0.0002, -0.0005]]),\n",
       " tensor([[ 0.0013,  0.0007, -0.0008],\n",
       "         [-0.0003, -0.0002, -0.0005],\n",
       "         [-0.0002, -0.0002, -0.0005],\n",
       "         [-0.0003, -0.0002, -0.0005],\n",
       "         [-0.0003, -0.0002, -0.0005]]))"
      ]
     },
     "execution_count": 20,
     "metadata": {},
     "output_type": "execute_result"
    }
   ],
   "source": [
    "# Convert the train and test data from numpy arrays to tensors\n",
    "X_train, X_test = torch.tensor(data=X_train, dtype=torch.float32), torch.tensor(data=X_test, dtype=torch.float32)\n",
    "\n",
    "# Get a snapshot of the data\n",
    "X_train[:5], X_test[:5]"
   ]
  },
  {
   "cell_type": "code",
   "execution_count": 21,
   "metadata": {},
   "outputs": [
    {
     "data": {
      "text/plain": [
       "(array([[0.],\n",
       "        [0.],\n",
       "        [0.],\n",
       "        [0.],\n",
       "        [0.]], dtype=float32),\n",
       " array([[0.],\n",
       "        [0.],\n",
       "        [0.],\n",
       "        [0.],\n",
       "        [0.]], dtype=float32))"
      ]
     },
     "execution_count": 21,
     "metadata": {},
     "output_type": "execute_result"
    }
   ],
   "source": [
    "# Convert the panda series to a numpy array\n",
    "# Make the array 2 dimensions\n",
    "# Reshape to have multiple rows and 1 column\n",
    "y_train = np.array(y_train.values, ndmin=2, dtype=np.float32).reshape(-1, 1)\n",
    "y_test = np.array(y_test.values, ndmin=2, dtype=np.float32).reshape(-1, 1)\n",
    "\n",
    "# Get 5 samples from each\n",
    "y_train[:5], y_test[:5]"
   ]
  },
  {
   "cell_type": "code",
   "execution_count": 22,
   "metadata": {},
   "outputs": [
    {
     "data": {
      "text/plain": [
       "(tensor([[0.],\n",
       "         [0.],\n",
       "         [0.],\n",
       "         [0.],\n",
       "         [0.]]),\n",
       " tensor([[0.],\n",
       "         [0.],\n",
       "         [0.],\n",
       "         [0.],\n",
       "         [0.]]))"
      ]
     },
     "execution_count": 22,
     "metadata": {},
     "output_type": "execute_result"
    }
   ],
   "source": [
    "# Convert the labels to torch tensor\n",
    "y_train = torch.tensor(data=y_train, dtype=torch.float32)\n",
    "y_test = torch.tensor(data=y_test, dtype=torch.float32)\n",
    "\n",
    "y_train[:5], y_test[:5]"
   ]
  },
  {
   "cell_type": "code",
   "execution_count": 23,
   "metadata": {},
   "outputs": [],
   "source": [
    "# Setup the model using the Sequential Class\n",
    "torch_clf_model = torch.nn.Sequential(\n",
    "    torch.nn.Linear(in_features=3, out_features=8),\n",
    "    torch.nn.ReLU(),\n",
    "    torch.nn.Linear(in_features=8, out_features=1),\n",
    "    torch.nn.Sigmoid()\n",
    ")"
   ]
  },
  {
   "cell_type": "code",
   "execution_count": 24,
   "metadata": {},
   "outputs": [
    {
     "data": {
      "text/plain": [
       "=================================================================\n",
       "Layer (type:depth-idx)                   Param #\n",
       "=================================================================\n",
       "Sequential                               --\n",
       "├─Linear: 1-1                            32\n",
       "├─ReLU: 1-2                              --\n",
       "├─Linear: 1-3                            9\n",
       "├─Sigmoid: 1-4                           --\n",
       "=================================================================\n",
       "Total params: 41\n",
       "Trainable params: 41\n",
       "Non-trainable params: 0\n",
       "================================================================="
      ]
     },
     "execution_count": 24,
     "metadata": {},
     "output_type": "execute_result"
    }
   ],
   "source": [
    "# Get the summary of the model\n",
    "torchinfo.summary(torch_clf_model)"
   ]
  },
  {
   "cell_type": "code",
   "execution_count": 26,
   "metadata": {},
   "outputs": [],
   "source": [
    "# Prepare to visualize the model\n",
    "# https://github.com/mert-kurttutan/torchview\n",
    "from torchview import draw_graph"
   ]
  },
  {
   "cell_type": "code",
   "execution_count": 27,
   "metadata": {},
   "outputs": [
    {
     "name": "stderr",
     "output_type": "stream",
     "text": [
      "\n",
      "(dot.exe:2876): Pango-WARNING **: couldn't load font \"Linux libertine Not-Rotated 10\", falling back to \"Sans Not-Rotated 10\", expect ugly output.\n"
     ]
    },
    {
     "data": {
      "image/svg+xml": [
       "<?xml version=\"1.0\" encoding=\"UTF-8\" standalone=\"no\"?>\n",
       "<!DOCTYPE svg PUBLIC \"-//W3C//DTD SVG 1.1//EN\"\n",
       " \"http://www.w3.org/Graphics/SVG/1.1/DTD/svg11.dtd\">\n",
       "<!-- Generated by graphviz version 6.0.2 (20221011.1828)\n",
       " -->\n",
       "<!-- Title: torch_clf_model Pages: 1 -->\n",
       "<svg width=\"864pt\" height=\"57pt\"\n",
       " viewBox=\"0.00 0.00 864.00 56.86\" xmlns=\"http://www.w3.org/2000/svg\" xmlns:xlink=\"http://www.w3.org/1999/xlink\">\n",
       "<g id=\"graph0\" class=\"graph\" transform=\"scale(0.552077 0.552077) rotate(0) translate(4 99)\">\n",
       "<title>torch_clf_model</title>\n",
       "<polygon fill=\"white\" stroke=\"none\" points=\"-4,4 -4,-99 1561,-99 1561,4 -4,4\"/>\n",
       "<g id=\"clust2\" class=\"cluster\">\n",
       "<title>cluster_3</title>\n",
       "<polygon fill=\"none\" stroke=\"black\" stroke-dasharray=\"5,2\" points=\"716,-8 716,-87 1051,-87 1051,-8 716,-8\"/>\n",
       "<text text-anchor=\"middle\" x=\"1029\" y=\"-73.4\" font-family=\"Times New Roman,serif\" font-size=\"12.00\">ReLU</text>\n",
       "</g>\n",
       "<g id=\"clust3\" class=\"cluster\">\n",
       "<title>cluster_4</title>\n",
       "<polygon fill=\"none\" stroke=\"black\" stroke-dasharray=\"5,2\" points=\"361,-8 361,-87 696,-87 696,-8 361,-8\"/>\n",
       "<text text-anchor=\"middle\" x=\"673.5\" y=\"-73.4\" font-family=\"Times New Roman,serif\" font-size=\"12.00\">Linear</text>\n",
       "</g>\n",
       "<g id=\"clust1\" class=\"cluster\">\n",
       "<title>cluster_2</title>\n",
       "<polygon fill=\"none\" stroke=\"black\" stroke-dasharray=\"5,2\" points=\"1071,-8 1071,-87 1406,-87 1406,-8 1071,-8\"/>\n",
       "<text text-anchor=\"middle\" x=\"1383.5\" y=\"-73.4\" font-family=\"Times New Roman,serif\" font-size=\"12.00\">Linear</text>\n",
       "</g>\n",
       "<g id=\"clust4\" class=\"cluster\">\n",
       "<title>cluster_5</title>\n",
       "<polygon fill=\"none\" stroke=\"black\" stroke-dasharray=\"5,2\" points=\"8,-8 8,-87 341,-87 341,-8 8,-8\"/>\n",
       "<text text-anchor=\"middle\" x=\"314.5\" y=\"-73.4\" font-family=\"Times New Roman,serif\" font-size=\"12.00\">Sigmoid</text>\n",
       "</g>\n",
       "<!-- 0 -->\n",
       "<g id=\"node1\" class=\"node\">\n",
       "<title>0</title>\n",
       "<polygon fill=\"lightyellow\" stroke=\"none\" points=\"1557,-53 1434,-53 1434,-21 1557,-21 1557,-53\"/>\n",
       "<polygon fill=\"none\" stroke=\"black\" points=\"1434.5,-21 1434.5,-53 1496.5,-53 1496.5,-21 1434.5,-21\"/>\n",
       "<text text-anchor=\"start\" x=\"1439.5\" y=\"-40\" font-family=\"Linux libertine\" font-size=\"10.00\">input&#45;tensor</text>\n",
       "<text text-anchor=\"start\" x=\"1448.5\" y=\"-29\" font-family=\"Linux libertine\" font-size=\"10.00\">depth:0</text>\n",
       "<polygon fill=\"none\" stroke=\"black\" points=\"1496.5,-21 1496.5,-53 1557.5,-53 1557.5,-21 1496.5,-21\"/>\n",
       "<text text-anchor=\"start\" x=\"1501.5\" y=\"-34.5\" font-family=\"Linux libertine\" font-size=\"10.00\">(166086, 3)</text>\n",
       "</g>\n",
       "<!-- 1 -->\n",
       "<g id=\"node2\" class=\"node\">\n",
       "<title>1</title>\n",
       "<polygon fill=\"aliceblue\" stroke=\"none\" points=\"1398,-58 1246,-58 1246,-16 1398,-16 1398,-58\"/>\n",
       "<polygon fill=\"none\" stroke=\"black\" points=\"1246,-16 1246,-58 1290,-58 1290,-16 1246,-16\"/>\n",
       "<text text-anchor=\"start\" x=\"1255.5\" y=\"-40\" font-family=\"Linux libertine\" font-size=\"10.00\">linear</text>\n",
       "<text text-anchor=\"start\" x=\"1251\" y=\"-29\" font-family=\"Linux libertine\" font-size=\"10.00\">depth:2</text>\n",
       "<polygon fill=\"none\" stroke=\"black\" points=\"1290,-37 1290,-58 1334,-58 1334,-37 1290,-37\"/>\n",
       "<text text-anchor=\"start\" x=\"1299.5\" y=\"-45\" font-family=\"Linux libertine\" font-size=\"10.00\">input:</text>\n",
       "<polygon fill=\"none\" stroke=\"black\" points=\"1334,-37 1334,-58 1398,-58 1398,-37 1334,-37\"/>\n",
       "<text text-anchor=\"start\" x=\"1339\" y=\"-45\" font-family=\"Linux libertine\" font-size=\"10.00\">(166086, 3) </text>\n",
       "<polygon fill=\"none\" stroke=\"black\" points=\"1290,-16 1290,-37 1334,-37 1334,-16 1290,-16\"/>\n",
       "<text text-anchor=\"start\" x=\"1295\" y=\"-24\" font-family=\"Linux libertine\" font-size=\"10.00\">output: </text>\n",
       "<polygon fill=\"none\" stroke=\"black\" points=\"1334,-16 1334,-37 1398,-37 1398,-16 1334,-16\"/>\n",
       "<text text-anchor=\"start\" x=\"1339\" y=\"-24\" font-family=\"Linux libertine\" font-size=\"10.00\">(166086, 8) </text>\n",
       "</g>\n",
       "<!-- 0&#45;&gt;1 -->\n",
       "<g id=\"edge1\" class=\"edge\">\n",
       "<title>0&#45;&gt;1</title>\n",
       "<path fill=\"none\" stroke=\"black\" d=\"M1433.55,-37C1425.32,-37 1416.75,-37 1408.19,-37\"/>\n",
       "<polygon fill=\"black\" stroke=\"black\" points=\"1408.16,-33.5 1398.16,-37 1408.16,-40.5 1408.16,-33.5\"/>\n",
       "</g>\n",
       "<!-- 2 -->\n",
       "<g id=\"node3\" class=\"node\">\n",
       "<title>2</title>\n",
       "<polygon fill=\"lightyellow\" stroke=\"none\" points=\"1210,-53 1079,-53 1079,-21 1210,-21 1210,-53\"/>\n",
       "<polygon fill=\"none\" stroke=\"black\" points=\"1079.5,-21 1079.5,-53 1149.5,-53 1149.5,-21 1079.5,-21\"/>\n",
       "<text text-anchor=\"start\" x=\"1084.5\" y=\"-40\" font-family=\"Linux libertine\" font-size=\"10.00\">hidden&#45;tensor</text>\n",
       "<text text-anchor=\"start\" x=\"1097.5\" y=\"-29\" font-family=\"Linux libertine\" font-size=\"10.00\">depth:1</text>\n",
       "<polygon fill=\"none\" stroke=\"black\" points=\"1149.5,-21 1149.5,-53 1210.5,-53 1210.5,-21 1149.5,-21\"/>\n",
       "<text text-anchor=\"start\" x=\"1154.5\" y=\"-34.5\" font-family=\"Linux libertine\" font-size=\"10.00\">(166086, 8)</text>\n",
       "</g>\n",
       "<!-- 1&#45;&gt;2 -->\n",
       "<g id=\"edge2\" class=\"edge\">\n",
       "<title>1&#45;&gt;2</title>\n",
       "<path fill=\"none\" stroke=\"black\" d=\"M1245.81,-37C1237.34,-37 1228.72,-37 1220.26,-37\"/>\n",
       "<polygon fill=\"black\" stroke=\"black\" points=\"1220.04,-33.5 1210.04,-37 1220.04,-40.5 1220.04,-33.5\"/>\n",
       "</g>\n",
       "<!-- 3 -->\n",
       "<g id=\"node4\" class=\"node\">\n",
       "<title>3</title>\n",
       "<polygon fill=\"aliceblue\" stroke=\"none\" points=\"1043,-58 891,-58 891,-16 1043,-16 1043,-58\"/>\n",
       "<polygon fill=\"none\" stroke=\"black\" points=\"891,-16 891,-58 935,-58 935,-16 891,-16\"/>\n",
       "<text text-anchor=\"start\" x=\"904.5\" y=\"-40\" font-family=\"Linux libertine\" font-size=\"10.00\">relu</text>\n",
       "<text text-anchor=\"start\" x=\"896\" y=\"-29\" font-family=\"Linux libertine\" font-size=\"10.00\">depth:2</text>\n",
       "<polygon fill=\"none\" stroke=\"black\" points=\"935,-37 935,-58 979,-58 979,-37 935,-37\"/>\n",
       "<text text-anchor=\"start\" x=\"944.5\" y=\"-45\" font-family=\"Linux libertine\" font-size=\"10.00\">input:</text>\n",
       "<polygon fill=\"none\" stroke=\"black\" points=\"979,-37 979,-58 1043,-58 1043,-37 979,-37\"/>\n",
       "<text text-anchor=\"start\" x=\"984\" y=\"-45\" font-family=\"Linux libertine\" font-size=\"10.00\">(166086, 8) </text>\n",
       "<polygon fill=\"none\" stroke=\"black\" points=\"935,-16 935,-37 979,-37 979,-16 935,-16\"/>\n",
       "<text text-anchor=\"start\" x=\"940\" y=\"-24\" font-family=\"Linux libertine\" font-size=\"10.00\">output: </text>\n",
       "<polygon fill=\"none\" stroke=\"black\" points=\"979,-16 979,-37 1043,-37 1043,-16 979,-16\"/>\n",
       "<text text-anchor=\"start\" x=\"984\" y=\"-24\" font-family=\"Linux libertine\" font-size=\"10.00\">(166086, 8) </text>\n",
       "</g>\n",
       "<!-- 2&#45;&gt;3 -->\n",
       "<g id=\"edge3\" class=\"edge\">\n",
       "<title>2&#45;&gt;3</title>\n",
       "<path fill=\"none\" stroke=\"black\" d=\"M1078.65,-37C1070.46,-37 1061.98,-37 1053.53,-37\"/>\n",
       "<polygon fill=\"black\" stroke=\"black\" points=\"1053.26,-33.5 1043.26,-37 1053.26,-40.5 1053.26,-33.5\"/>\n",
       "</g>\n",
       "<!-- 4 -->\n",
       "<g id=\"node5\" class=\"node\">\n",
       "<title>4</title>\n",
       "<polygon fill=\"lightyellow\" stroke=\"none\" points=\"855,-53 724,-53 724,-21 855,-21 855,-53\"/>\n",
       "<polygon fill=\"none\" stroke=\"black\" points=\"724.5,-21 724.5,-53 794.5,-53 794.5,-21 724.5,-21\"/>\n",
       "<text text-anchor=\"start\" x=\"729.5\" y=\"-40\" font-family=\"Linux libertine\" font-size=\"10.00\">hidden&#45;tensor</text>\n",
       "<text text-anchor=\"start\" x=\"742.5\" y=\"-29\" font-family=\"Linux libertine\" font-size=\"10.00\">depth:1</text>\n",
       "<polygon fill=\"none\" stroke=\"black\" points=\"794.5,-21 794.5,-53 855.5,-53 855.5,-21 794.5,-21\"/>\n",
       "<text text-anchor=\"start\" x=\"799.5\" y=\"-34.5\" font-family=\"Linux libertine\" font-size=\"10.00\">(166086, 8)</text>\n",
       "</g>\n",
       "<!-- 3&#45;&gt;4 -->\n",
       "<g id=\"edge4\" class=\"edge\">\n",
       "<title>3&#45;&gt;4</title>\n",
       "<path fill=\"none\" stroke=\"black\" d=\"M890.81,-37C882.34,-37 873.72,-37 865.26,-37\"/>\n",
       "<polygon fill=\"black\" stroke=\"black\" points=\"865.04,-33.5 855.04,-37 865.04,-40.5 865.04,-33.5\"/>\n",
       "</g>\n",
       "<!-- 5 -->\n",
       "<g id=\"node6\" class=\"node\">\n",
       "<title>5</title>\n",
       "<polygon fill=\"aliceblue\" stroke=\"none\" points=\"688,-58 536,-58 536,-16 688,-16 688,-58\"/>\n",
       "<polygon fill=\"none\" stroke=\"black\" points=\"536,-16 536,-58 580,-58 580,-16 536,-16\"/>\n",
       "<text text-anchor=\"start\" x=\"545.5\" y=\"-40\" font-family=\"Linux libertine\" font-size=\"10.00\">linear</text>\n",
       "<text text-anchor=\"start\" x=\"541\" y=\"-29\" font-family=\"Linux libertine\" font-size=\"10.00\">depth:2</text>\n",
       "<polygon fill=\"none\" stroke=\"black\" points=\"580,-37 580,-58 624,-58 624,-37 580,-37\"/>\n",
       "<text text-anchor=\"start\" x=\"589.5\" y=\"-45\" font-family=\"Linux libertine\" font-size=\"10.00\">input:</text>\n",
       "<polygon fill=\"none\" stroke=\"black\" points=\"624,-37 624,-58 688,-58 688,-37 624,-37\"/>\n",
       "<text text-anchor=\"start\" x=\"629\" y=\"-45\" font-family=\"Linux libertine\" font-size=\"10.00\">(166086, 8) </text>\n",
       "<polygon fill=\"none\" stroke=\"black\" points=\"580,-16 580,-37 624,-37 624,-16 580,-16\"/>\n",
       "<text text-anchor=\"start\" x=\"585\" y=\"-24\" font-family=\"Linux libertine\" font-size=\"10.00\">output: </text>\n",
       "<polygon fill=\"none\" stroke=\"black\" points=\"624,-16 624,-37 688,-37 688,-16 624,-16\"/>\n",
       "<text text-anchor=\"start\" x=\"629\" y=\"-24\" font-family=\"Linux libertine\" font-size=\"10.00\">(166086, 1) </text>\n",
       "</g>\n",
       "<!-- 4&#45;&gt;5 -->\n",
       "<g id=\"edge5\" class=\"edge\">\n",
       "<title>4&#45;&gt;5</title>\n",
       "<path fill=\"none\" stroke=\"black\" d=\"M723.65,-37C715.46,-37 706.98,-37 698.53,-37\"/>\n",
       "<polygon fill=\"black\" stroke=\"black\" points=\"698.26,-33.5 688.26,-37 698.26,-40.5 698.26,-33.5\"/>\n",
       "</g>\n",
       "<!-- 6 -->\n",
       "<g id=\"node7\" class=\"node\">\n",
       "<title>6</title>\n",
       "<polygon fill=\"lightyellow\" stroke=\"none\" points=\"500,-53 369,-53 369,-21 500,-21 500,-53\"/>\n",
       "<polygon fill=\"none\" stroke=\"black\" points=\"369.5,-21 369.5,-53 439.5,-53 439.5,-21 369.5,-21\"/>\n",
       "<text text-anchor=\"start\" x=\"374.5\" y=\"-40\" font-family=\"Linux libertine\" font-size=\"10.00\">hidden&#45;tensor</text>\n",
       "<text text-anchor=\"start\" x=\"387.5\" y=\"-29\" font-family=\"Linux libertine\" font-size=\"10.00\">depth:1</text>\n",
       "<polygon fill=\"none\" stroke=\"black\" points=\"439.5,-21 439.5,-53 500.5,-53 500.5,-21 439.5,-21\"/>\n",
       "<text text-anchor=\"start\" x=\"444.5\" y=\"-34.5\" font-family=\"Linux libertine\" font-size=\"10.00\">(166086, 1)</text>\n",
       "</g>\n",
       "<!-- 5&#45;&gt;6 -->\n",
       "<g id=\"edge6\" class=\"edge\">\n",
       "<title>5&#45;&gt;6</title>\n",
       "<path fill=\"none\" stroke=\"black\" d=\"M535.81,-37C527.34,-37 518.72,-37 510.26,-37\"/>\n",
       "<polygon fill=\"black\" stroke=\"black\" points=\"510.04,-33.5 500.04,-37 510.04,-40.5 510.04,-33.5\"/>\n",
       "</g>\n",
       "<!-- 7 -->\n",
       "<g id=\"node8\" class=\"node\">\n",
       "<title>7</title>\n",
       "<polygon fill=\"aliceblue\" stroke=\"none\" points=\"333,-58 181,-58 181,-16 333,-16 333,-58\"/>\n",
       "<polygon fill=\"none\" stroke=\"black\" points=\"181,-16 181,-58 225,-58 225,-16 181,-16\"/>\n",
       "<text text-anchor=\"start\" x=\"186\" y=\"-40\" font-family=\"Linux libertine\" font-size=\"10.00\">sigmoid</text>\n",
       "<text text-anchor=\"start\" x=\"186\" y=\"-29\" font-family=\"Linux libertine\" font-size=\"10.00\">depth:2</text>\n",
       "<polygon fill=\"none\" stroke=\"black\" points=\"225,-37 225,-58 269,-58 269,-37 225,-37\"/>\n",
       "<text text-anchor=\"start\" x=\"234.5\" y=\"-45\" font-family=\"Linux libertine\" font-size=\"10.00\">input:</text>\n",
       "<polygon fill=\"none\" stroke=\"black\" points=\"269,-37 269,-58 333,-58 333,-37 269,-37\"/>\n",
       "<text text-anchor=\"start\" x=\"274\" y=\"-45\" font-family=\"Linux libertine\" font-size=\"10.00\">(166086, 1) </text>\n",
       "<polygon fill=\"none\" stroke=\"black\" points=\"225,-16 225,-37 269,-37 269,-16 225,-16\"/>\n",
       "<text text-anchor=\"start\" x=\"230\" y=\"-24\" font-family=\"Linux libertine\" font-size=\"10.00\">output: </text>\n",
       "<polygon fill=\"none\" stroke=\"black\" points=\"269,-16 269,-37 333,-37 333,-16 269,-16\"/>\n",
       "<text text-anchor=\"start\" x=\"274\" y=\"-24\" font-family=\"Linux libertine\" font-size=\"10.00\">(166086, 1) </text>\n",
       "</g>\n",
       "<!-- 6&#45;&gt;7 -->\n",
       "<g id=\"edge7\" class=\"edge\">\n",
       "<title>6&#45;&gt;7</title>\n",
       "<path fill=\"none\" stroke=\"black\" d=\"M368.65,-37C360.46,-37 351.98,-37 343.53,-37\"/>\n",
       "<polygon fill=\"black\" stroke=\"black\" points=\"343.26,-33.5 333.26,-37 343.26,-40.5 343.26,-33.5\"/>\n",
       "</g>\n",
       "<!-- 8 -->\n",
       "<g id=\"node9\" class=\"node\">\n",
       "<title>8</title>\n",
       "<polygon fill=\"lightyellow\" stroke=\"none\" points=\"145,-53 16,-53 16,-21 145,-21 145,-53\"/>\n",
       "<polygon fill=\"none\" stroke=\"black\" points=\"16.5,-21 16.5,-53 84.5,-53 84.5,-21 16.5,-21\"/>\n",
       "<text text-anchor=\"start\" x=\"21.5\" y=\"-40\" font-family=\"Linux libertine\" font-size=\"10.00\">output&#45;tensor</text>\n",
       "<text text-anchor=\"start\" x=\"33.5\" y=\"-29\" font-family=\"Linux libertine\" font-size=\"10.00\">depth:0</text>\n",
       "<polygon fill=\"none\" stroke=\"black\" points=\"84.5,-21 84.5,-53 145.5,-53 145.5,-21 84.5,-21\"/>\n",
       "<text text-anchor=\"start\" x=\"89.5\" y=\"-34.5\" font-family=\"Linux libertine\" font-size=\"10.00\">(166086, 1)</text>\n",
       "</g>\n",
       "<!-- 7&#45;&gt;8 -->\n",
       "<g id=\"edge8\" class=\"edge\">\n",
       "<title>7&#45;&gt;8</title>\n",
       "<path fill=\"none\" stroke=\"black\" d=\"M180.98,-37C172.51,-37 163.88,-37 155.43,-37\"/>\n",
       "<polygon fill=\"black\" stroke=\"black\" points=\"155.22,-33.5 145.22,-37 155.22,-40.5 155.22,-33.5\"/>\n",
       "</g>\n",
       "</g>\n",
       "</svg>\n"
      ],
      "text/plain": [
       "<graphviz.graphs.Digraph at 0x17d5b0e7850>"
      ]
     },
     "execution_count": 27,
     "metadata": {},
     "output_type": "execute_result"
    }
   ],
   "source": [
    "# Plot the model\n",
    "# https://stackoverflow.com/questions/52468956/how-do-i-visualize-a-net-in-pytorch\n",
    "model_graph = draw_graph(model=torch_clf_model, input_data=X_train, graph_name='torch_clf_model', \\\n",
    "                         expand_nested=True, save_graph=False,show_shapes=True, graph_dir='RL', \\\n",
    "                            roll=True, hide_inner_tensors=False, hide_module_functions=False)\n",
    "model_graph.visual_graph"
   ]
  },
  {
   "cell_type": "code",
   "execution_count": 28,
   "metadata": {},
   "outputs": [
    {
     "data": {
      "text/plain": [
       "OrderedDict([('0.weight',\n",
       "              tensor([[ 0.3049,  0.3210,  0.4646],\n",
       "                      [ 0.4077,  0.0838,  0.4764],\n",
       "                      [ 0.3248, -0.2990, -0.4359],\n",
       "                      [-0.0978, -0.0197,  0.2218],\n",
       "                      [ 0.4613, -0.5320,  0.0982],\n",
       "                      [ 0.2858,  0.4103,  0.5334],\n",
       "                      [-0.1460,  0.2623, -0.1523],\n",
       "                      [ 0.4883, -0.5589, -0.0547]])),\n",
       "             ('0.bias',\n",
       "              tensor([ 0.2123, -0.0288, -0.5343,  0.3325,  0.4055, -0.2915,  0.3694, -0.1998])),\n",
       "             ('2.weight',\n",
       "              tensor([[-0.3039, -0.0580,  0.2659, -0.0606, -0.2997, -0.1331,  0.0738,  0.2015]])),\n",
       "             ('2.bias', tensor([0.1238]))])"
      ]
     },
     "execution_count": 28,
     "metadata": {},
     "output_type": "execute_result"
    }
   ],
   "source": [
    "# Get a look at the initialized parameters - weights and bias\n",
    "torch_clf_model.state_dict()"
   ]
  },
  {
   "cell_type": "code",
   "execution_count": 30,
   "metadata": {},
   "outputs": [
    {
     "data": {
      "text/plain": [
       "array([-0.5, -0.4, -0.3, -0.2, -0.1, -0. ,  0.1,  0.2,  0.3,  0.4,  0.5])"
      ]
     },
     "execution_count": 30,
     "metadata": {},
     "output_type": "execute_result"
    }
   ],
   "source": [
    "# Before training the model, let's see what ReLU does\n",
    "# Setup some samples between -10 and 10, space them by 0.1\n",
    "sample_numbers = np.arange(-10, 10, 0.1)\n",
    "np.round(sample_numbers[95:106], 2)"
   ]
  },
  {
   "cell_type": "code",
   "execution_count": 31,
   "metadata": {},
   "outputs": [
    {
     "data": {
      "text/plain": [
       "Text(0, 0.5, 'Range of Values')"
      ]
     },
     "execution_count": 31,
     "metadata": {},
     "output_type": "execute_result"
    },
    {
     "data": {
      "image/png": "[encoded data removed]",
      "text/plain": [
       "<Figure size 640x480 with 1 Axes>"
      ]
     },
     "metadata": {},
     "output_type": "display_data"
    }
   ],
   "source": [
    "# Plot the numbers that were created above\n",
    "# we see there are 200 numbers between -10 and 10\n",
    "plt.title('Range of values between -10 and +10')\n",
    "plt.plot(sample_numbers)\n",
    "plt.xlabel('Number of records')\n",
    "plt.ylabel('Range of Values')"
   ]
  },
  {
   "cell_type": "code",
   "execution_count": 33,
   "metadata": {},
   "outputs": [],
   "source": [
    "# With ReLU, anything less than 0 will be made 0 and anything above 0 will be kept the same\n",
    "# Setup a function to take care of this \n",
    "def my_relu(x: np.array) -> list:\n",
    "    ''' Computes  ReLU from the x '''\n",
    "    return [ 0 if i <=0 else i for i in x ]"
   ]
  },
  {
   "cell_type": "code",
   "execution_count": 34,
   "metadata": {},
   "outputs": [
    {
     "data": {
      "text/plain": [
       "([0], [0], [10])"
      ]
     },
     "execution_count": 34,
     "metadata": {},
     "output_type": "execute_result"
    }
   ],
   "source": [
    "# Testing our function with 2 values\n",
    "# One less than 0 and another greater than 0\n",
    "# We see below when x is less than 0, the value returned is 0\n",
    "my_relu(np.array([-10])), my_relu(np.array([0])), my_relu(np.array([10])), "
   ]
  },
  {
   "cell_type": "code",
   "execution_count": 35,
   "metadata": {},
   "outputs": [
    {
     "data": {
      "text/plain": [
       "[0,\n",
       " 0,\n",
       " 0,\n",
       " 0,\n",
       " 0,\n",
       " 0.09999999999996412,\n",
       " 0.19999999999996376,\n",
       " 0.2999999999999634,\n",
       " 0.39999999999996305,\n",
       " 0.4999999999999627]"
      ]
     },
     "execution_count": 35,
     "metadata": {},
     "output_type": "execute_result"
    }
   ],
   "source": [
    "# Running ReLU against our samples\n",
    "my_relu(sample_numbers)[96:106]"
   ]
  },
  {
   "cell_type": "code",
   "execution_count": 36,
   "metadata": {},
   "outputs": [
    {
     "data": {
      "image/png": "[encoded data removed]",
      "text/plain": [
       "<Figure size 640x480 with 1 Axes>"
      ]
     },
     "metadata": {},
     "output_type": "display_data"
    }
   ],
   "source": [
    "# Making this more visual by plotting the original numbers vs the numbers which ReLU has been applied to\n",
    "# As we can see, anything below 0 has now become 0\n",
    "plt.plot(sample_numbers, lw=10, label='original values')\n",
    "plt.plot(my_relu(sample_numbers), lw=2, linestyle='--', label='values after RELU activation')\n",
    "plt.xlabel('Number of records')\n",
    "plt.ylabel('Range of Values')\n",
    "plt.legend()\n",
    "plt.show()"
   ]
  },
  {
   "cell_type": "code",
   "execution_count": 37,
   "metadata": {},
   "outputs": [],
   "source": [
    "# In the following notebooks:\n",
    "#   13. Beginning Deep Learning - Anomaly Detection with AutoEncoders, PyTroch\n",
    "#   15. Beginning Deep Learning, - Linear Regression, PyTorch\n",
    "# the training was all done outside of a function. \n",
    "# Rather than rewriting the same code all the time, let's to create a function\n",
    "def torch_training(model=None, epochs=10, learning_rate=0.01, x_train=X_train, \\\n",
    "                   y_train=y_train, x_test=X_test, y_test=y_test):\n",
    "    ''' Performs training of the model '''\n",
    "    # Create to lists to save the training and test loss respectively \n",
    "    training_loss, validation_loss = [], []\n",
    "\n",
    "    # Setup the loss function\n",
    "    clf_loss_fn = torch.nn.BCELoss()\n",
    "\n",
    "    # Setup the optimizer\n",
    "    clf_optimizer = torch.optim.Adam(params=model.parameters(), lr=learning_rate)\n",
    "    \n",
    "    for epoch in range(epochs):\n",
    "        # Clear the gradients\n",
    "        clf_optimizer.zero_grad()\n",
    "\n",
    "        # Train the model\n",
    "        model.train()\n",
    "\n",
    "        # Make predictions on the training data\n",
    "        train_preds = model(x_train)\n",
    "    \n",
    "        # Get the loss\n",
    "        train_loss = clf_loss_fn(train_preds, y_train)\n",
    "        training_loss.append(train_loss)\n",
    "\n",
    "        # Calculate the gradients\n",
    "        train_loss.backward()\n",
    "\n",
    "        # Upgrade the gradients\n",
    "        clf_optimizer.step()\n",
    "\n",
    "        # Evaluate the model at the same time\n",
    "        model.eval()\n",
    "        with torch.inference_mode():\n",
    "            val_preds = model(X_test)\n",
    "\n",
    "            # Calculate the loss on the validation data\n",
    "            val_loss = clf_loss_fn(val_preds, y_test)\n",
    "            validation_loss.append(val_loss)\n",
    "\n",
    "        if epoch %50 == 0:\n",
    "            print(f'Epoch: {epoch} \\t training loss: {train_loss} \\t validation loss {val_loss}')\n",
    "    \n",
    "    return model, training_loss, validation_loss"
   ]
  },
  {
   "cell_type": "code",
   "execution_count": 38,
   "metadata": {},
   "outputs": [
    {
     "name": "stdout",
     "output_type": "stream",
     "text": [
      "Epoch: 0 \t training loss: 0.665999174118042 \t validation loss 0.651168704032898\n",
      "Epoch: 50 \t training loss: 0.0725250393152237 \t validation loss 0.06825146079063416\n",
      "Epoch: 100 \t training loss: 0.010986275039613247 \t validation loss 0.01067196112126112\n",
      "Epoch: 150 \t training loss: 0.0056804451160132885 \t validation loss 0.005528232082724571\n",
      "Epoch: 200 \t training loss: 0.004046980757266283 \t validation loss 0.003935811575502157\n",
      "Epoch: 250 \t training loss: 0.0033011543564498425 \t validation loss 0.003235849551856518\n"
     ]
    }
   ],
   "source": [
    "# Set a random seed to make this repatable\n",
    "torch.manual_seed(seed=10)\n",
    "\n",
    "# Call the function with the associated parameters\n",
    "#(model, train_loss, val_loss) = torch_training(model=torch_clf_model, epochs=300, learning_rate=0.01)\n",
    "torch_clf_model = torch_training(model=torch_clf_model, epochs=300, learning_rate=0.01)"
   ]
  },
  {
   "cell_type": "code",
   "execution_count": 39,
   "metadata": {},
   "outputs": [
    {
     "data": {
      "text/plain": [
       "(Sequential(\n",
       "   (0): Linear(in_features=3, out_features=8, bias=True)\n",
       "   (1): ReLU()\n",
       "   (2): Linear(in_features=8, out_features=1, bias=True)\n",
       "   (3): Sigmoid()\n",
       " ),\n",
       " [tensor(0.6660, grad_fn=<BinaryCrossEntropyBackward0>),\n",
       "  tensor(0.6512, grad_fn=<BinaryCrossEntropyBackward0>),\n",
       "  tensor(0.6364, grad_fn=<BinaryCrossEntropyBackward0>),\n",
       "  tensor(0.6216, grad_fn=<BinaryCrossEntropyBackward0>),\n",
       "  tensor(0.6067, grad_fn=<BinaryCrossEntropyBackward0>),\n",
       "  tensor(0.5919, grad_fn=<BinaryCrossEntropyBackward0>),\n",
       "  tensor(0.5770, grad_fn=<BinaryCrossEntropyBackward0>),\n",
       "  tensor(0.5621, grad_fn=<BinaryCrossEntropyBackward0>),\n",
       "  tensor(0.5473, grad_fn=<BinaryCrossEntropyBackward0>),\n",
       "  tensor(0.5324, grad_fn=<BinaryCrossEntropyBackward0>),\n",
       "  tensor(0.5176, grad_fn=<BinaryCrossEntropyBackward0>),\n",
       "  tensor(0.5028, grad_fn=<BinaryCrossEntropyBackward0>),\n",
       "  tensor(0.4880, grad_fn=<BinaryCrossEntropyBackward0>),\n",
       "  tensor(0.4732, grad_fn=<BinaryCrossEntropyBackward0>),\n",
       "  tensor(0.4585, grad_fn=<BinaryCrossEntropyBackward0>),\n",
       "  tensor(0.4438, grad_fn=<BinaryCrossEntropyBackward0>),\n",
       "  tensor(0.4291, grad_fn=<BinaryCrossEntropyBackward0>),\n",
       "  tensor(0.4144, grad_fn=<BinaryCrossEntropyBackward0>),\n",
       "  tensor(0.3999, grad_fn=<BinaryCrossEntropyBackward0>),\n",
       "  tensor(0.3854, grad_fn=<BinaryCrossEntropyBackward0>),\n",
       "  tensor(0.3711, grad_fn=<BinaryCrossEntropyBackward0>),\n",
       "  tensor(0.3569, grad_fn=<BinaryCrossEntropyBackward0>),\n",
       "  tensor(0.3429, grad_fn=<BinaryCrossEntropyBackward0>),\n",
       "  tensor(0.3291, grad_fn=<BinaryCrossEntropyBackward0>),\n",
       "  tensor(0.3155, grad_fn=<BinaryCrossEntropyBackward0>),\n",
       "  tensor(0.3022, grad_fn=<BinaryCrossEntropyBackward0>),\n",
       "  tensor(0.2891, grad_fn=<BinaryCrossEntropyBackward0>),\n",
       "  tensor(0.2763, grad_fn=<BinaryCrossEntropyBackward0>),\n",
       "  tensor(0.2637, grad_fn=<BinaryCrossEntropyBackward0>),\n",
       "  tensor(0.2510, grad_fn=<BinaryCrossEntropyBackward0>),\n",
       "  tensor(0.2385, grad_fn=<BinaryCrossEntropyBackward0>),\n",
       "  tensor(0.2262, grad_fn=<BinaryCrossEntropyBackward0>),\n",
       "  tensor(0.2144, grad_fn=<BinaryCrossEntropyBackward0>),\n",
       "  tensor(0.2028, grad_fn=<BinaryCrossEntropyBackward0>),\n",
       "  tensor(0.1917, grad_fn=<BinaryCrossEntropyBackward0>),\n",
       "  tensor(0.1810, grad_fn=<BinaryCrossEntropyBackward0>),\n",
       "  tensor(0.1708, grad_fn=<BinaryCrossEntropyBackward0>),\n",
       "  tensor(0.1610, grad_fn=<BinaryCrossEntropyBackward0>),\n",
       "  tensor(0.1516, grad_fn=<BinaryCrossEntropyBackward0>),\n",
       "  tensor(0.1427, grad_fn=<BinaryCrossEntropyBackward0>),\n",
       "  tensor(0.1343, grad_fn=<BinaryCrossEntropyBackward0>),\n",
       "  tensor(0.1263, grad_fn=<BinaryCrossEntropyBackward0>),\n",
       "  tensor(0.1187, grad_fn=<BinaryCrossEntropyBackward0>),\n",
       "  tensor(0.1116, grad_fn=<BinaryCrossEntropyBackward0>),\n",
       "  tensor(0.1049, grad_fn=<BinaryCrossEntropyBackward0>),\n",
       "  tensor(0.0986, grad_fn=<BinaryCrossEntropyBackward0>),\n",
       "  tensor(0.0926, grad_fn=<BinaryCrossEntropyBackward0>),\n",
       "  tensor(0.0871, grad_fn=<BinaryCrossEntropyBackward0>),\n",
       "  tensor(0.0819, grad_fn=<BinaryCrossEntropyBackward0>),\n",
       "  tensor(0.0771, grad_fn=<BinaryCrossEntropyBackward0>),\n",
       "  tensor(0.0725, grad_fn=<BinaryCrossEntropyBackward0>),\n",
       "  tensor(0.0683, grad_fn=<BinaryCrossEntropyBackward0>),\n",
       "  tensor(0.0644, grad_fn=<BinaryCrossEntropyBackward0>),\n",
       "  tensor(0.0607, grad_fn=<BinaryCrossEntropyBackward0>),\n",
       "  tensor(0.0573, grad_fn=<BinaryCrossEntropyBackward0>),\n",
       "  tensor(0.0541, grad_fn=<BinaryCrossEntropyBackward0>),\n",
       "  tensor(0.0512, grad_fn=<BinaryCrossEntropyBackward0>),\n",
       "  tensor(0.0484, grad_fn=<BinaryCrossEntropyBackward0>),\n",
       "  tensor(0.0459, grad_fn=<BinaryCrossEntropyBackward0>),\n",
       "  tensor(0.0435, grad_fn=<BinaryCrossEntropyBackward0>),\n",
       "  tensor(0.0413, grad_fn=<BinaryCrossEntropyBackward0>),\n",
       "  tensor(0.0392, grad_fn=<BinaryCrossEntropyBackward0>),\n",
       "  tensor(0.0373, grad_fn=<BinaryCrossEntropyBackward0>),\n",
       "  tensor(0.0355, grad_fn=<BinaryCrossEntropyBackward0>),\n",
       "  tensor(0.0339, grad_fn=<BinaryCrossEntropyBackward0>),\n",
       "  tensor(0.0323, grad_fn=<BinaryCrossEntropyBackward0>),\n",
       "  tensor(0.0309, grad_fn=<BinaryCrossEntropyBackward0>),\n",
       "  tensor(0.0295, grad_fn=<BinaryCrossEntropyBackward0>),\n",
       "  tensor(0.0283, grad_fn=<BinaryCrossEntropyBackward0>),\n",
       "  tensor(0.0271, grad_fn=<BinaryCrossEntropyBackward0>),\n",
       "  tensor(0.0260, grad_fn=<BinaryCrossEntropyBackward0>),\n",
       "  tensor(0.0250, grad_fn=<BinaryCrossEntropyBackward0>),\n",
       "  tensor(0.0240, grad_fn=<BinaryCrossEntropyBackward0>),\n",
       "  tensor(0.0231, grad_fn=<BinaryCrossEntropyBackward0>),\n",
       "  tensor(0.0222, grad_fn=<BinaryCrossEntropyBackward0>),\n",
       "  tensor(0.0214, grad_fn=<BinaryCrossEntropyBackward0>),\n",
       "  tensor(0.0207, grad_fn=<BinaryCrossEntropyBackward0>),\n",
       "  tensor(0.0200, grad_fn=<BinaryCrossEntropyBackward0>),\n",
       "  tensor(0.0193, grad_fn=<BinaryCrossEntropyBackward0>),\n",
       "  tensor(0.0187, grad_fn=<BinaryCrossEntropyBackward0>),\n",
       "  tensor(0.0181, grad_fn=<BinaryCrossEntropyBackward0>),\n",
       "  tensor(0.0176, grad_fn=<BinaryCrossEntropyBackward0>),\n",
       "  tensor(0.0170, grad_fn=<BinaryCrossEntropyBackward0>),\n",
       "  tensor(0.0165, grad_fn=<BinaryCrossEntropyBackward0>),\n",
       "  tensor(0.0161, grad_fn=<BinaryCrossEntropyBackward0>),\n",
       "  tensor(0.0156, grad_fn=<BinaryCrossEntropyBackward0>),\n",
       "  tensor(0.0152, grad_fn=<BinaryCrossEntropyBackward0>),\n",
       "  tensor(0.0148, grad_fn=<BinaryCrossEntropyBackward0>),\n",
       "  tensor(0.0144, grad_fn=<BinaryCrossEntropyBackward0>),\n",
       "  tensor(0.0140, grad_fn=<BinaryCrossEntropyBackward0>),\n",
       "  tensor(0.0137, grad_fn=<BinaryCrossEntropyBackward0>),\n",
       "  tensor(0.0134, grad_fn=<BinaryCrossEntropyBackward0>),\n",
       "  tensor(0.0131, grad_fn=<BinaryCrossEntropyBackward0>),\n",
       "  tensor(0.0128, grad_fn=<BinaryCrossEntropyBackward0>),\n",
       "  tensor(0.0125, grad_fn=<BinaryCrossEntropyBackward0>),\n",
       "  tensor(0.0122, grad_fn=<BinaryCrossEntropyBackward0>),\n",
       "  tensor(0.0119, grad_fn=<BinaryCrossEntropyBackward0>),\n",
       "  tensor(0.0117, grad_fn=<BinaryCrossEntropyBackward0>),\n",
       "  tensor(0.0114, grad_fn=<BinaryCrossEntropyBackward0>),\n",
       "  tensor(0.0112, grad_fn=<BinaryCrossEntropyBackward0>),\n",
       "  tensor(0.0110, grad_fn=<BinaryCrossEntropyBackward0>),\n",
       "  tensor(0.0108, grad_fn=<BinaryCrossEntropyBackward0>),\n",
       "  tensor(0.0106, grad_fn=<BinaryCrossEntropyBackward0>),\n",
       "  tensor(0.0104, grad_fn=<BinaryCrossEntropyBackward0>),\n",
       "  tensor(0.0102, grad_fn=<BinaryCrossEntropyBackward0>),\n",
       "  tensor(0.0100, grad_fn=<BinaryCrossEntropyBackward0>),\n",
       "  tensor(0.0098, grad_fn=<BinaryCrossEntropyBackward0>),\n",
       "  tensor(0.0097, grad_fn=<BinaryCrossEntropyBackward0>),\n",
       "  tensor(0.0095, grad_fn=<BinaryCrossEntropyBackward0>),\n",
       "  tensor(0.0093, grad_fn=<BinaryCrossEntropyBackward0>),\n",
       "  tensor(0.0092, grad_fn=<BinaryCrossEntropyBackward0>),\n",
       "  tensor(0.0090, grad_fn=<BinaryCrossEntropyBackward0>),\n",
       "  tensor(0.0089, grad_fn=<BinaryCrossEntropyBackward0>),\n",
       "  tensor(0.0088, grad_fn=<BinaryCrossEntropyBackward0>),\n",
       "  tensor(0.0086, grad_fn=<BinaryCrossEntropyBackward0>),\n",
       "  tensor(0.0085, grad_fn=<BinaryCrossEntropyBackward0>),\n",
       "  tensor(0.0084, grad_fn=<BinaryCrossEntropyBackward0>),\n",
       "  tensor(0.0083, grad_fn=<BinaryCrossEntropyBackward0>),\n",
       "  tensor(0.0081, grad_fn=<BinaryCrossEntropyBackward0>),\n",
       "  tensor(0.0080, grad_fn=<BinaryCrossEntropyBackward0>),\n",
       "  tensor(0.0079, grad_fn=<BinaryCrossEntropyBackward0>),\n",
       "  tensor(0.0078, grad_fn=<BinaryCrossEntropyBackward0>),\n",
       "  tensor(0.0077, grad_fn=<BinaryCrossEntropyBackward0>),\n",
       "  tensor(0.0076, grad_fn=<BinaryCrossEntropyBackward0>),\n",
       "  tensor(0.0075, grad_fn=<BinaryCrossEntropyBackward0>),\n",
       "  tensor(0.0074, grad_fn=<BinaryCrossEntropyBackward0>),\n",
       "  tensor(0.0073, grad_fn=<BinaryCrossEntropyBackward0>),\n",
       "  tensor(0.0072, grad_fn=<BinaryCrossEntropyBackward0>),\n",
       "  tensor(0.0071, grad_fn=<BinaryCrossEntropyBackward0>),\n",
       "  tensor(0.0071, grad_fn=<BinaryCrossEntropyBackward0>),\n",
       "  tensor(0.0070, grad_fn=<BinaryCrossEntropyBackward0>),\n",
       "  tensor(0.0069, grad_fn=<BinaryCrossEntropyBackward0>),\n",
       "  tensor(0.0068, grad_fn=<BinaryCrossEntropyBackward0>),\n",
       "  tensor(0.0067, grad_fn=<BinaryCrossEntropyBackward0>),\n",
       "  tensor(0.0067, grad_fn=<BinaryCrossEntropyBackward0>),\n",
       "  tensor(0.0066, grad_fn=<BinaryCrossEntropyBackward0>),\n",
       "  tensor(0.0065, grad_fn=<BinaryCrossEntropyBackward0>),\n",
       "  tensor(0.0064, grad_fn=<BinaryCrossEntropyBackward0>),\n",
       "  tensor(0.0064, grad_fn=<BinaryCrossEntropyBackward0>),\n",
       "  tensor(0.0063, grad_fn=<BinaryCrossEntropyBackward0>),\n",
       "  tensor(0.0063, grad_fn=<BinaryCrossEntropyBackward0>),\n",
       "  tensor(0.0062, grad_fn=<BinaryCrossEntropyBackward0>),\n",
       "  tensor(0.0061, grad_fn=<BinaryCrossEntropyBackward0>),\n",
       "  tensor(0.0061, grad_fn=<BinaryCrossEntropyBackward0>),\n",
       "  tensor(0.0060, grad_fn=<BinaryCrossEntropyBackward0>),\n",
       "  tensor(0.0059, grad_fn=<BinaryCrossEntropyBackward0>),\n",
       "  tensor(0.0059, grad_fn=<BinaryCrossEntropyBackward0>),\n",
       "  tensor(0.0058, grad_fn=<BinaryCrossEntropyBackward0>),\n",
       "  tensor(0.0058, grad_fn=<BinaryCrossEntropyBackward0>),\n",
       "  tensor(0.0057, grad_fn=<BinaryCrossEntropyBackward0>),\n",
       "  tensor(0.0057, grad_fn=<BinaryCrossEntropyBackward0>),\n",
       "  tensor(0.0056, grad_fn=<BinaryCrossEntropyBackward0>),\n",
       "  tensor(0.0056, grad_fn=<BinaryCrossEntropyBackward0>),\n",
       "  tensor(0.0055, grad_fn=<BinaryCrossEntropyBackward0>),\n",
       "  tensor(0.0055, grad_fn=<BinaryCrossEntropyBackward0>),\n",
       "  tensor(0.0054, grad_fn=<BinaryCrossEntropyBackward0>),\n",
       "  tensor(0.0054, grad_fn=<BinaryCrossEntropyBackward0>),\n",
       "  tensor(0.0053, grad_fn=<BinaryCrossEntropyBackward0>),\n",
       "  tensor(0.0053, grad_fn=<BinaryCrossEntropyBackward0>),\n",
       "  tensor(0.0053, grad_fn=<BinaryCrossEntropyBackward0>),\n",
       "  tensor(0.0052, grad_fn=<BinaryCrossEntropyBackward0>),\n",
       "  tensor(0.0052, grad_fn=<BinaryCrossEntropyBackward0>),\n",
       "  tensor(0.0051, grad_fn=<BinaryCrossEntropyBackward0>),\n",
       "  tensor(0.0051, grad_fn=<BinaryCrossEntropyBackward0>),\n",
       "  tensor(0.0051, grad_fn=<BinaryCrossEntropyBackward0>),\n",
       "  tensor(0.0050, grad_fn=<BinaryCrossEntropyBackward0>),\n",
       "  tensor(0.0050, grad_fn=<BinaryCrossEntropyBackward0>),\n",
       "  tensor(0.0050, grad_fn=<BinaryCrossEntropyBackward0>),\n",
       "  tensor(0.0049, grad_fn=<BinaryCrossEntropyBackward0>),\n",
       "  tensor(0.0049, grad_fn=<BinaryCrossEntropyBackward0>),\n",
       "  tensor(0.0048, grad_fn=<BinaryCrossEntropyBackward0>),\n",
       "  tensor(0.0048, grad_fn=<BinaryCrossEntropyBackward0>),\n",
       "  tensor(0.0048, grad_fn=<BinaryCrossEntropyBackward0>),\n",
       "  tensor(0.0047, grad_fn=<BinaryCrossEntropyBackward0>),\n",
       "  tensor(0.0047, grad_fn=<BinaryCrossEntropyBackward0>),\n",
       "  tensor(0.0047, grad_fn=<BinaryCrossEntropyBackward0>),\n",
       "  tensor(0.0047, grad_fn=<BinaryCrossEntropyBackward0>),\n",
       "  tensor(0.0046, grad_fn=<BinaryCrossEntropyBackward0>),\n",
       "  tensor(0.0046, grad_fn=<BinaryCrossEntropyBackward0>),\n",
       "  tensor(0.0046, grad_fn=<BinaryCrossEntropyBackward0>),\n",
       "  tensor(0.0045, grad_fn=<BinaryCrossEntropyBackward0>),\n",
       "  tensor(0.0045, grad_fn=<BinaryCrossEntropyBackward0>),\n",
       "  tensor(0.0045, grad_fn=<BinaryCrossEntropyBackward0>),\n",
       "  tensor(0.0045, grad_fn=<BinaryCrossEntropyBackward0>),\n",
       "  tensor(0.0044, grad_fn=<BinaryCrossEntropyBackward0>),\n",
       "  tensor(0.0044, grad_fn=<BinaryCrossEntropyBackward0>),\n",
       "  tensor(0.0044, grad_fn=<BinaryCrossEntropyBackward0>),\n",
       "  tensor(0.0043, grad_fn=<BinaryCrossEntropyBackward0>),\n",
       "  tensor(0.0043, grad_fn=<BinaryCrossEntropyBackward0>),\n",
       "  tensor(0.0043, grad_fn=<BinaryCrossEntropyBackward0>),\n",
       "  tensor(0.0043, grad_fn=<BinaryCrossEntropyBackward0>),\n",
       "  tensor(0.0042, grad_fn=<BinaryCrossEntropyBackward0>),\n",
       "  tensor(0.0042, grad_fn=<BinaryCrossEntropyBackward0>),\n",
       "  tensor(0.0042, grad_fn=<BinaryCrossEntropyBackward0>),\n",
       "  tensor(0.0042, grad_fn=<BinaryCrossEntropyBackward0>),\n",
       "  tensor(0.0042, grad_fn=<BinaryCrossEntropyBackward0>),\n",
       "  tensor(0.0041, grad_fn=<BinaryCrossEntropyBackward0>),\n",
       "  tensor(0.0041, grad_fn=<BinaryCrossEntropyBackward0>),\n",
       "  tensor(0.0041, grad_fn=<BinaryCrossEntropyBackward0>),\n",
       "  tensor(0.0041, grad_fn=<BinaryCrossEntropyBackward0>),\n",
       "  tensor(0.0040, grad_fn=<BinaryCrossEntropyBackward0>),\n",
       "  tensor(0.0040, grad_fn=<BinaryCrossEntropyBackward0>),\n",
       "  tensor(0.0040, grad_fn=<BinaryCrossEntropyBackward0>),\n",
       "  tensor(0.0040, grad_fn=<BinaryCrossEntropyBackward0>),\n",
       "  tensor(0.0040, grad_fn=<BinaryCrossEntropyBackward0>),\n",
       "  tensor(0.0039, grad_fn=<BinaryCrossEntropyBackward0>),\n",
       "  tensor(0.0039, grad_fn=<BinaryCrossEntropyBackward0>),\n",
       "  tensor(0.0039, grad_fn=<BinaryCrossEntropyBackward0>),\n",
       "  tensor(0.0039, grad_fn=<BinaryCrossEntropyBackward0>),\n",
       "  tensor(0.0039, grad_fn=<BinaryCrossEntropyBackward0>),\n",
       "  tensor(0.0039, grad_fn=<BinaryCrossEntropyBackward0>),\n",
       "  tensor(0.0038, grad_fn=<BinaryCrossEntropyBackward0>),\n",
       "  tensor(0.0038, grad_fn=<BinaryCrossEntropyBackward0>),\n",
       "  tensor(0.0038, grad_fn=<BinaryCrossEntropyBackward0>),\n",
       "  tensor(0.0038, grad_fn=<BinaryCrossEntropyBackward0>),\n",
       "  tensor(0.0038, grad_fn=<BinaryCrossEntropyBackward0>),\n",
       "  tensor(0.0038, grad_fn=<BinaryCrossEntropyBackward0>),\n",
       "  tensor(0.0037, grad_fn=<BinaryCrossEntropyBackward0>),\n",
       "  tensor(0.0037, grad_fn=<BinaryCrossEntropyBackward0>),\n",
       "  tensor(0.0037, grad_fn=<BinaryCrossEntropyBackward0>),\n",
       "  tensor(0.0037, grad_fn=<BinaryCrossEntropyBackward0>),\n",
       "  tensor(0.0037, grad_fn=<BinaryCrossEntropyBackward0>),\n",
       "  tensor(0.0037, grad_fn=<BinaryCrossEntropyBackward0>),\n",
       "  tensor(0.0036, grad_fn=<BinaryCrossEntropyBackward0>),\n",
       "  tensor(0.0036, grad_fn=<BinaryCrossEntropyBackward0>),\n",
       "  tensor(0.0036, grad_fn=<BinaryCrossEntropyBackward0>),\n",
       "  tensor(0.0036, grad_fn=<BinaryCrossEntropyBackward0>),\n",
       "  tensor(0.0036, grad_fn=<BinaryCrossEntropyBackward0>),\n",
       "  tensor(0.0036, grad_fn=<BinaryCrossEntropyBackward0>),\n",
       "  tensor(0.0036, grad_fn=<BinaryCrossEntropyBackward0>),\n",
       "  tensor(0.0035, grad_fn=<BinaryCrossEntropyBackward0>),\n",
       "  tensor(0.0035, grad_fn=<BinaryCrossEntropyBackward0>),\n",
       "  tensor(0.0035, grad_fn=<BinaryCrossEntropyBackward0>),\n",
       "  tensor(0.0035, grad_fn=<BinaryCrossEntropyBackward0>),\n",
       "  tensor(0.0035, grad_fn=<BinaryCrossEntropyBackward0>),\n",
       "  tensor(0.0035, grad_fn=<BinaryCrossEntropyBackward0>),\n",
       "  tensor(0.0035, grad_fn=<BinaryCrossEntropyBackward0>),\n",
       "  tensor(0.0035, grad_fn=<BinaryCrossEntropyBackward0>),\n",
       "  tensor(0.0034, grad_fn=<BinaryCrossEntropyBackward0>),\n",
       "  tensor(0.0034, grad_fn=<BinaryCrossEntropyBackward0>),\n",
       "  tensor(0.0034, grad_fn=<BinaryCrossEntropyBackward0>),\n",
       "  tensor(0.0034, grad_fn=<BinaryCrossEntropyBackward0>),\n",
       "  tensor(0.0034, grad_fn=<BinaryCrossEntropyBackward0>),\n",
       "  tensor(0.0034, grad_fn=<BinaryCrossEntropyBackward0>),\n",
       "  tensor(0.0034, grad_fn=<BinaryCrossEntropyBackward0>),\n",
       "  tensor(0.0034, grad_fn=<BinaryCrossEntropyBackward0>),\n",
       "  tensor(0.0033, grad_fn=<BinaryCrossEntropyBackward0>),\n",
       "  tensor(0.0033, grad_fn=<BinaryCrossEntropyBackward0>),\n",
       "  tensor(0.0033, grad_fn=<BinaryCrossEntropyBackward0>),\n",
       "  tensor(0.0033, grad_fn=<BinaryCrossEntropyBackward0>),\n",
       "  tensor(0.0033, grad_fn=<BinaryCrossEntropyBackward0>),\n",
       "  tensor(0.0033, grad_fn=<BinaryCrossEntropyBackward0>),\n",
       "  tensor(0.0033, grad_fn=<BinaryCrossEntropyBackward0>),\n",
       "  tensor(0.0033, grad_fn=<BinaryCrossEntropyBackward0>),\n",
       "  tensor(0.0033, grad_fn=<BinaryCrossEntropyBackward0>),\n",
       "  tensor(0.0032, grad_fn=<BinaryCrossEntropyBackward0>),\n",
       "  tensor(0.0032, grad_fn=<BinaryCrossEntropyBackward0>),\n",
       "  tensor(0.0032, grad_fn=<BinaryCrossEntropyBackward0>),\n",
       "  tensor(0.0032, grad_fn=<BinaryCrossEntropyBackward0>),\n",
       "  tensor(0.0032, grad_fn=<BinaryCrossEntropyBackward0>),\n",
       "  tensor(0.0032, grad_fn=<BinaryCrossEntropyBackward0>),\n",
       "  tensor(0.0032, grad_fn=<BinaryCrossEntropyBackward0>),\n",
       "  tensor(0.0032, grad_fn=<BinaryCrossEntropyBackward0>),\n",
       "  tensor(0.0032, grad_fn=<BinaryCrossEntropyBackward0>),\n",
       "  tensor(0.0032, grad_fn=<BinaryCrossEntropyBackward0>),\n",
       "  tensor(0.0032, grad_fn=<BinaryCrossEntropyBackward0>),\n",
       "  tensor(0.0031, grad_fn=<BinaryCrossEntropyBackward0>),\n",
       "  tensor(0.0031, grad_fn=<BinaryCrossEntropyBackward0>),\n",
       "  tensor(0.0031, grad_fn=<BinaryCrossEntropyBackward0>),\n",
       "  tensor(0.0031, grad_fn=<BinaryCrossEntropyBackward0>),\n",
       "  tensor(0.0031, grad_fn=<BinaryCrossEntropyBackward0>),\n",
       "  tensor(0.0031, grad_fn=<BinaryCrossEntropyBackward0>),\n",
       "  tensor(0.0031, grad_fn=<BinaryCrossEntropyBackward0>),\n",
       "  tensor(0.0031, grad_fn=<BinaryCrossEntropyBackward0>),\n",
       "  tensor(0.0031, grad_fn=<BinaryCrossEntropyBackward0>),\n",
       "  tensor(0.0031, grad_fn=<BinaryCrossEntropyBackward0>),\n",
       "  tensor(0.0031, grad_fn=<BinaryCrossEntropyBackward0>),\n",
       "  tensor(0.0031, grad_fn=<BinaryCrossEntropyBackward0>),\n",
       "  tensor(0.0030, grad_fn=<BinaryCrossEntropyBackward0>),\n",
       "  tensor(0.0030, grad_fn=<BinaryCrossEntropyBackward0>),\n",
       "  tensor(0.0030, grad_fn=<BinaryCrossEntropyBackward0>),\n",
       "  tensor(0.0030, grad_fn=<BinaryCrossEntropyBackward0>),\n",
       "  tensor(0.0030, grad_fn=<BinaryCrossEntropyBackward0>),\n",
       "  tensor(0.0030, grad_fn=<BinaryCrossEntropyBackward0>),\n",
       "  tensor(0.0030, grad_fn=<BinaryCrossEntropyBackward0>),\n",
       "  tensor(0.0030, grad_fn=<BinaryCrossEntropyBackward0>),\n",
       "  tensor(0.0030, grad_fn=<BinaryCrossEntropyBackward0>),\n",
       "  tensor(0.0030, grad_fn=<BinaryCrossEntropyBackward0>),\n",
       "  tensor(0.0030, grad_fn=<BinaryCrossEntropyBackward0>),\n",
       "  tensor(0.0030, grad_fn=<BinaryCrossEntropyBackward0>),\n",
       "  tensor(0.0030, grad_fn=<BinaryCrossEntropyBackward0>),\n",
       "  tensor(0.0030, grad_fn=<BinaryCrossEntropyBackward0>),\n",
       "  tensor(0.0029, grad_fn=<BinaryCrossEntropyBackward0>),\n",
       "  tensor(0.0029, grad_fn=<BinaryCrossEntropyBackward0>),\n",
       "  tensor(0.0029, grad_fn=<BinaryCrossEntropyBackward0>),\n",
       "  tensor(0.0029, grad_fn=<BinaryCrossEntropyBackward0>),\n",
       "  tensor(0.0029, grad_fn=<BinaryCrossEntropyBackward0>),\n",
       "  tensor(0.0029, grad_fn=<BinaryCrossEntropyBackward0>),\n",
       "  tensor(0.0029, grad_fn=<BinaryCrossEntropyBackward0>),\n",
       "  tensor(0.0029, grad_fn=<BinaryCrossEntropyBackward0>)],\n",
       " [tensor(0.6512),\n",
       "  tensor(0.6364),\n",
       "  tensor(0.6216),\n",
       "  tensor(0.6068),\n",
       "  tensor(0.5919),\n",
       "  tensor(0.5770),\n",
       "  tensor(0.5621),\n",
       "  tensor(0.5473),\n",
       "  tensor(0.5324),\n",
       "  tensor(0.5176),\n",
       "  tensor(0.5028),\n",
       "  tensor(0.4880),\n",
       "  tensor(0.4732),\n",
       "  tensor(0.4585),\n",
       "  tensor(0.4438),\n",
       "  tensor(0.4291),\n",
       "  tensor(0.4144),\n",
       "  tensor(0.3999),\n",
       "  tensor(0.3854),\n",
       "  tensor(0.3711),\n",
       "  tensor(0.3569),\n",
       "  tensor(0.3429),\n",
       "  tensor(0.3291),\n",
       "  tensor(0.3155),\n",
       "  tensor(0.3022),\n",
       "  tensor(0.2891),\n",
       "  tensor(0.2763),\n",
       "  tensor(0.2637),\n",
       "  tensor(0.2510),\n",
       "  tensor(0.2384),\n",
       "  tensor(0.2262),\n",
       "  tensor(0.2143),\n",
       "  tensor(0.2028),\n",
       "  tensor(0.1917),\n",
       "  tensor(0.1810),\n",
       "  tensor(0.1708),\n",
       "  tensor(0.1610),\n",
       "  tensor(0.1516),\n",
       "  tensor(0.1427),\n",
       "  tensor(0.1342),\n",
       "  tensor(0.1262),\n",
       "  tensor(0.1187),\n",
       "  tensor(0.1115),\n",
       "  tensor(0.1048),\n",
       "  tensor(0.0985),\n",
       "  tensor(0.0926),\n",
       "  tensor(0.0870),\n",
       "  tensor(0.0819),\n",
       "  tensor(0.0770),\n",
       "  tensor(0.0725),\n",
       "  tensor(0.0683),\n",
       "  tensor(0.0643),\n",
       "  tensor(0.0606),\n",
       "  tensor(0.0572),\n",
       "  tensor(0.0541),\n",
       "  tensor(0.0511),\n",
       "  tensor(0.0484),\n",
       "  tensor(0.0458),\n",
       "  tensor(0.0434),\n",
       "  tensor(0.0412),\n",
       "  tensor(0.0391),\n",
       "  tensor(0.0372),\n",
       "  tensor(0.0354),\n",
       "  tensor(0.0338),\n",
       "  tensor(0.0322),\n",
       "  tensor(0.0308),\n",
       "  tensor(0.0294),\n",
       "  tensor(0.0282),\n",
       "  tensor(0.0270),\n",
       "  tensor(0.0259),\n",
       "  tensor(0.0249),\n",
       "  tensor(0.0239),\n",
       "  tensor(0.0230),\n",
       "  tensor(0.0222),\n",
       "  tensor(0.0214),\n",
       "  tensor(0.0206),\n",
       "  tensor(0.0199),\n",
       "  tensor(0.0192),\n",
       "  tensor(0.0186),\n",
       "  tensor(0.0180),\n",
       "  tensor(0.0175),\n",
       "  tensor(0.0169),\n",
       "  tensor(0.0164),\n",
       "  tensor(0.0160),\n",
       "  tensor(0.0155),\n",
       "  tensor(0.0151),\n",
       "  tensor(0.0147),\n",
       "  tensor(0.0143),\n",
       "  tensor(0.0139),\n",
       "  tensor(0.0136),\n",
       "  tensor(0.0133),\n",
       "  tensor(0.0130),\n",
       "  tensor(0.0127),\n",
       "  tensor(0.0124),\n",
       "  tensor(0.0121),\n",
       "  tensor(0.0118),\n",
       "  tensor(0.0116),\n",
       "  tensor(0.0113),\n",
       "  tensor(0.0111),\n",
       "  tensor(0.0109),\n",
       "  tensor(0.0107),\n",
       "  tensor(0.0105),\n",
       "  tensor(0.0103),\n",
       "  tensor(0.0101),\n",
       "  tensor(0.0099),\n",
       "  tensor(0.0097),\n",
       "  tensor(0.0096),\n",
       "  tensor(0.0094),\n",
       "  tensor(0.0092),\n",
       "  tensor(0.0091),\n",
       "  tensor(0.0089),\n",
       "  tensor(0.0088),\n",
       "  tensor(0.0087),\n",
       "  tensor(0.0085),\n",
       "  tensor(0.0084),\n",
       "  tensor(0.0083),\n",
       "  tensor(0.0082),\n",
       "  tensor(0.0080),\n",
       "  tensor(0.0079),\n",
       "  tensor(0.0078),\n",
       "  tensor(0.0077),\n",
       "  tensor(0.0076),\n",
       "  tensor(0.0075),\n",
       "  tensor(0.0074),\n",
       "  tensor(0.0073),\n",
       "  tensor(0.0072),\n",
       "  tensor(0.0071),\n",
       "  tensor(0.0070),\n",
       "  tensor(0.0070),\n",
       "  tensor(0.0069),\n",
       "  tensor(0.0068),\n",
       "  tensor(0.0067),\n",
       "  tensor(0.0066),\n",
       "  tensor(0.0066),\n",
       "  tensor(0.0065),\n",
       "  tensor(0.0064),\n",
       "  tensor(0.0063),\n",
       "  tensor(0.0063),\n",
       "  tensor(0.0062),\n",
       "  tensor(0.0061),\n",
       "  tensor(0.0061),\n",
       "  tensor(0.0060),\n",
       "  tensor(0.0060),\n",
       "  tensor(0.0059),\n",
       "  tensor(0.0058),\n",
       "  tensor(0.0058),\n",
       "  tensor(0.0057),\n",
       "  tensor(0.0057),\n",
       "  tensor(0.0056),\n",
       "  tensor(0.0056),\n",
       "  tensor(0.0055),\n",
       "  tensor(0.0055),\n",
       "  tensor(0.0054),\n",
       "  tensor(0.0054),\n",
       "  tensor(0.0053),\n",
       "  tensor(0.0053),\n",
       "  tensor(0.0052),\n",
       "  tensor(0.0052),\n",
       "  tensor(0.0052),\n",
       "  tensor(0.0051),\n",
       "  tensor(0.0051),\n",
       "  tensor(0.0050),\n",
       "  tensor(0.0050),\n",
       "  tensor(0.0050),\n",
       "  tensor(0.0049),\n",
       "  tensor(0.0049),\n",
       "  tensor(0.0049),\n",
       "  tensor(0.0048),\n",
       "  tensor(0.0048),\n",
       "  tensor(0.0047),\n",
       "  tensor(0.0047),\n",
       "  tensor(0.0047),\n",
       "  tensor(0.0046),\n",
       "  tensor(0.0046),\n",
       "  tensor(0.0046),\n",
       "  tensor(0.0046),\n",
       "  tensor(0.0045),\n",
       "  tensor(0.0045),\n",
       "  tensor(0.0045),\n",
       "  tensor(0.0044),\n",
       "  tensor(0.0044),\n",
       "  tensor(0.0044),\n",
       "  tensor(0.0044),\n",
       "  tensor(0.0043),\n",
       "  tensor(0.0043),\n",
       "  tensor(0.0043),\n",
       "  tensor(0.0043),\n",
       "  tensor(0.0042),\n",
       "  tensor(0.0042),\n",
       "  tensor(0.0042),\n",
       "  tensor(0.0042),\n",
       "  tensor(0.0041),\n",
       "  tensor(0.0041),\n",
       "  tensor(0.0041),\n",
       "  tensor(0.0041),\n",
       "  tensor(0.0040),\n",
       "  tensor(0.0040),\n",
       "  tensor(0.0040),\n",
       "  tensor(0.0040),\n",
       "  tensor(0.0040),\n",
       "  tensor(0.0039),\n",
       "  tensor(0.0039),\n",
       "  tensor(0.0039),\n",
       "  tensor(0.0039),\n",
       "  tensor(0.0039),\n",
       "  tensor(0.0038),\n",
       "  tensor(0.0038),\n",
       "  tensor(0.0038),\n",
       "  tensor(0.0038),\n",
       "  tensor(0.0038),\n",
       "  tensor(0.0038),\n",
       "  tensor(0.0037),\n",
       "  tensor(0.0037),\n",
       "  tensor(0.0037),\n",
       "  tensor(0.0037),\n",
       "  tensor(0.0037),\n",
       "  tensor(0.0037),\n",
       "  tensor(0.0036),\n",
       "  tensor(0.0036),\n",
       "  tensor(0.0036),\n",
       "  tensor(0.0036),\n",
       "  tensor(0.0036),\n",
       "  tensor(0.0036),\n",
       "  tensor(0.0036),\n",
       "  tensor(0.0035),\n",
       "  tensor(0.0035),\n",
       "  tensor(0.0035),\n",
       "  tensor(0.0035),\n",
       "  tensor(0.0035),\n",
       "  tensor(0.0035),\n",
       "  tensor(0.0035),\n",
       "  tensor(0.0034),\n",
       "  tensor(0.0034),\n",
       "  tensor(0.0034),\n",
       "  tensor(0.0034),\n",
       "  tensor(0.0034),\n",
       "  tensor(0.0034),\n",
       "  tensor(0.0034),\n",
       "  tensor(0.0034),\n",
       "  tensor(0.0034),\n",
       "  tensor(0.0033),\n",
       "  tensor(0.0033),\n",
       "  tensor(0.0033),\n",
       "  tensor(0.0033),\n",
       "  tensor(0.0033),\n",
       "  tensor(0.0033),\n",
       "  tensor(0.0033),\n",
       "  tensor(0.0033),\n",
       "  tensor(0.0033),\n",
       "  tensor(0.0032),\n",
       "  tensor(0.0032),\n",
       "  tensor(0.0032),\n",
       "  tensor(0.0032),\n",
       "  tensor(0.0032),\n",
       "  tensor(0.0032),\n",
       "  tensor(0.0032),\n",
       "  tensor(0.0032),\n",
       "  tensor(0.0032),\n",
       "  tensor(0.0032),\n",
       "  tensor(0.0032),\n",
       "  tensor(0.0031),\n",
       "  tensor(0.0031),\n",
       "  tensor(0.0031),\n",
       "  tensor(0.0031),\n",
       "  tensor(0.0031),\n",
       "  tensor(0.0031),\n",
       "  tensor(0.0031),\n",
       "  tensor(0.0031),\n",
       "  tensor(0.0031),\n",
       "  tensor(0.0031),\n",
       "  tensor(0.0031),\n",
       "  tensor(0.0031),\n",
       "  tensor(0.0030),\n",
       "  tensor(0.0030),\n",
       "  tensor(0.0030),\n",
       "  tensor(0.0030),\n",
       "  tensor(0.0030),\n",
       "  tensor(0.0030),\n",
       "  tensor(0.0030),\n",
       "  tensor(0.0030),\n",
       "  tensor(0.0030),\n",
       "  tensor(0.0030),\n",
       "  tensor(0.0030),\n",
       "  tensor(0.0030),\n",
       "  tensor(0.0030),\n",
       "  tensor(0.0030),\n",
       "  tensor(0.0030),\n",
       "  tensor(0.0029),\n",
       "  tensor(0.0029),\n",
       "  tensor(0.0029),\n",
       "  tensor(0.0029),\n",
       "  tensor(0.0029),\n",
       "  tensor(0.0029),\n",
       "  tensor(0.0029),\n",
       "  tensor(0.0029),\n",
       "  tensor(0.0029),\n",
       "  tensor(0.0029),\n",
       "  tensor(0.0029),\n",
       "  tensor(0.0029),\n",
       "  tensor(0.0029)])"
      ]
     },
     "execution_count": 39,
     "metadata": {},
     "output_type": "execute_result"
    }
   ],
   "source": [
    "# What has the model returned?\n",
    "torch_clf_model"
   ]
  },
  {
   "cell_type": "code",
   "execution_count": 40,
   "metadata": {},
   "outputs": [
    {
     "data": {
      "text/plain": [
       "OrderedDict([('0.weight',\n",
       "              tensor([[-2.8392, -3.1261, -2.5994],\n",
       "                      [-2.7980, -3.4377, -2.6227],\n",
       "                      [ 0.3248, -0.2990, -0.4359],\n",
       "                      [-3.3248, -3.5046, -3.0368],\n",
       "                      [-2.5215, -3.8486, -2.9221],\n",
       "                      [ 1.0529, -2.1574, -2.3077],\n",
       "                      [-3.6139, -3.2792, -3.3220],\n",
       "                      [ 0.2648, -0.3362, -0.2731]])),\n",
       "             ('0.bias',\n",
       "              tensor([ 0.9188,  0.9021, -0.5343,  1.1878,  1.1038,  0.9125,  1.1067, -0.4104])),\n",
       "             ('2.weight',\n",
       "              tensor([[-1.0450, -1.0983,  0.2659, -0.7746, -0.9735, -1.8501, -0.6376, -0.0184]])),\n",
       "             ('2.bias', tensor([-0.4148]))])"
      ]
     },
     "execution_count": 40,
     "metadata": {},
     "output_type": "execute_result"
    }
   ],
   "source": [
    "# Get the model Learned parameters - Weights and Bias\n",
    "torch_clf_model[0].state_dict()"
   ]
  },
  {
   "cell_type": "code",
   "execution_count": 41,
   "metadata": {},
   "outputs": [
    {
     "data": {
      "image/png": "[encoded data removed]",
      "text/plain": [
       "<Figure size 640x480 with 1 Axes>"
      ]
     },
     "metadata": {},
     "output_type": "display_data"
    }
   ],
   "source": [
    "# Plotting the training loss values\n",
    "plt.title(f'Training vs Validation Loss after epochs ')\n",
    "\n",
    "# Trying to plot on the \"training_loss\" by itself will not work\n",
    "# Matplotlib will more than likely throw an error\n",
    "# Hence we needed to do \"torch.tensor(training_loss).detach().numpy()\"\n",
    "plt.plot(torch.tensor(torch_clf_model[1]).detach().numpy(), lw=3, label='train_loss')\n",
    "plt.plot(torch.tensor(torch_clf_model[2]).detach().numpy(), lw=3, label='val_loss')\n",
    "plt.xlabel('Epochs')\n",
    "plt.ylabel('Loss')\n",
    "plt.legend()\n",
    "plt.show()"
   ]
  },
  {
   "cell_type": "code",
   "execution_count": null,
   "metadata": {},
   "outputs": [],
   "source": [
    "# That's a nice looking graph above there"
   ]
  },
  {
   "cell_type": "code",
   "execution_count": 42,
   "metadata": {},
   "outputs": [],
   "source": [
    "# With the training loss trending downwards, this suggest a few more epochs may make the mode perform even better\n",
    "# How did our model do for training\n",
    "# import some metrics\n",
    "from sklearn.metrics import accuracy_score, confusion_matrix, classification_report"
   ]
  },
  {
   "cell_type": "code",
   "execution_count": 43,
   "metadata": {},
   "outputs": [
    {
     "data": {
      "text/plain": [
       "tensor([[0.],\n",
       "        [0.],\n",
       "        [0.],\n",
       "        ...,\n",
       "        [0.],\n",
       "        [0.],\n",
       "        [0.]])"
      ]
     },
     "execution_count": 43,
     "metadata": {},
     "output_type": "execute_result"
    }
   ],
   "source": [
    "# Looking at y_true\n",
    "y_test"
   ]
  },
  {
   "cell_type": "code",
   "execution_count": 44,
   "metadata": {},
   "outputs": [
    {
     "data": {
      "text/plain": [
       "tensor([[0.0012],\n",
       "        [0.0011],\n",
       "        [0.0011],\n",
       "        ...,\n",
       "        [0.0011],\n",
       "        [0.0011],\n",
       "        [0.0011]])"
      ]
     },
     "execution_count": 44,
     "metadata": {},
     "output_type": "execute_result"
    }
   ],
   "source": [
    "# Make predictions on the test set\n",
    "# We see the values are continuous\n",
    "with torch.inference_mode():\n",
    "    test_preds = torch_clf_model[0](X_test)\n",
    "\n",
    "test_preds"
   ]
  },
  {
   "cell_type": "code",
   "execution_count": 45,
   "metadata": {},
   "outputs": [
    {
     "data": {
      "text/plain": [
       "tensor([[0.],\n",
       "        [0.],\n",
       "        [0.],\n",
       "        ...,\n",
       "        [0.],\n",
       "        [0.],\n",
       "        [0.]])"
      ]
     },
     "execution_count": 45,
     "metadata": {},
     "output_type": "execute_result"
    }
   ],
   "source": [
    "# If we try to feed this to some of our metrics algorithm, it will get a value error such as\n",
    "# \" Classification metrics can't handle a mix of binary and continuous targets\"\n",
    "# As a result, I round it out instead\n",
    "np.round(test_preds)"
   ]
  },
  {
   "cell_type": "code",
   "execution_count": 46,
   "metadata": {},
   "outputs": [
    {
     "data": {
      "text/plain": [
       "tensor([[0.],\n",
       "        [0.],\n",
       "        [0.],\n",
       "        ...,\n",
       "        [0.],\n",
       "        [0.],\n",
       "        [0.]])"
      ]
     },
     "execution_count": 46,
     "metadata": {},
     "output_type": "execute_result"
    }
   ],
   "source": [
    "# Let's save these predictions out to a variable\n",
    "x_test_preds = np.round(test_preds)\n",
    "x_test_preds"
   ]
  },
  {
   "cell_type": "code",
   "execution_count": 47,
   "metadata": {},
   "outputs": [
    {
     "data": {
      "text/plain": [
       "0.9996869129618033"
      ]
     },
     "execution_count": 47,
     "metadata": {},
     "output_type": "execute_result"
    }
   ],
   "source": [
    "# Grabbing the accuracy score\n",
    "# With that understanding above, let grab the accuracy score\n",
    "accuracy_score(y_true=y_test, y_pred=x_test_preds)"
   ]
  },
  {
   "cell_type": "code",
   "execution_count": 48,
   "metadata": {},
   "outputs": [],
   "source": [
    "# Not a bad accuracy score\n",
    "# import seaborn\n",
    "# https://seaborn.pydata.org/generated/seaborn.heatmap.html\n",
    "import seaborn as sns"
   ]
  },
  {
   "cell_type": "code",
   "execution_count": 49,
   "metadata": {},
   "outputs": [
    {
     "data": {
      "image/png": "[encoded data removed]",
      "text/plain": [
       "<Figure size 640x480 with 2 Axes>"
      ]
     },
     "metadata": {},
     "output_type": "display_data"
    }
   ],
   "source": [
    "# Looking at the confusion matrix, This does not seem so bad\n",
    "# We learned about metrics in notebook:\n",
    "#   10. Beginning Supervise Learning - Machine Learning - Logistic Regression, Decision Trees and Metrics\n",
    "sns.heatmap(confusion_matrix(y_true=y_test, y_pred=x_test_preds), annot=True, fmt='d')\n",
    "plt.title('Confusion Matrix')\n",
    "plt.xlabel('Predicted')\n",
    "plt.ylabel('Actual')\n",
    "plt.show()"
   ]
  },
  {
   "cell_type": "code",
   "execution_count": 50,
   "metadata": {},
   "outputs": [
    {
     "name": "stdout",
     "output_type": "stream",
     "text": [
      "              precision    recall  f1-score   support\n",
      "\n",
      "         0.0       1.00      1.00      1.00     41509\n",
      "         1.0       0.00      0.00      0.00        13\n",
      "\n",
      "    accuracy                           1.00     41522\n",
      "   macro avg       0.50      0.50      0.50     41522\n",
      "weighted avg       1.00      1.00      1.00     41522\n",
      "\n"
     ]
    },
    {
     "name": "stderr",
     "output_type": "stream",
     "text": [
      "C:\\Users\\SecurityNik\\AppData\\Roaming\\Python\\Python310\\site-packages\\sklearn\\metrics\\_classification.py:1344: UndefinedMetricWarning: Precision and F-score are ill-defined and being set to 0.0 in labels with no predicted samples. Use `zero_division` parameter to control this behavior.\n",
      "  _warn_prf(average, modifier, msg_start, len(result))\n",
      "C:\\Users\\SecurityNik\\AppData\\Roaming\\Python\\Python310\\site-packages\\sklearn\\metrics\\_classification.py:1344: UndefinedMetricWarning: Precision and F-score are ill-defined and being set to 0.0 in labels with no predicted samples. Use `zero_division` parameter to control this behavior.\n",
      "  _warn_prf(average, modifier, msg_start, len(result))\n",
      "C:\\Users\\SecurityNik\\AppData\\Roaming\\Python\\Python310\\site-packages\\sklearn\\metrics\\_classification.py:1344: UndefinedMetricWarning: Precision and F-score are ill-defined and being set to 0.0 in labels with no predicted samples. Use `zero_division` parameter to control this behavior.\n",
      "  _warn_prf(average, modifier, msg_start, len(result))\n"
     ]
    }
   ],
   "source": [
    "# Above should help us to understand that accuracy is not the best measurement for imbalanced classification problems\n",
    "# Overall, this model is terrible. Context is important!!\n",
    "# This is actually a model, I would not put in production for my security monitoring\n",
    "# If I am able to ignore 41,509 records that's a good thing. \n",
    "# However, I have 13 false negatives. \n",
    "# This model also did not pick-up any true positives\n",
    "# Obviously, no one wants these false negatives. Hopefully, we can catch those \"threats\" via threat hunting\n",
    "# Looking at the classification report\n",
    "print(classification_report(y_true=y_test, y_pred=x_test_preds))"
   ]
  },
  {
   "cell_type": "code",
   "execution_count": 51,
   "metadata": {},
   "outputs": [
    {
     "data": {
      "text/plain": [
       "13"
      ]
     },
     "execution_count": 51,
     "metadata": {},
     "output_type": "execute_result"
    }
   ],
   "source": [
    "# Confirming there are only 13 records flagged as suspicious\n",
    "len(list(np.where(y_test == 1))[0])"
   ]
  },
  {
   "cell_type": "code",
   "execution_count": 52,
   "metadata": {},
   "outputs": [
    {
     "data": {
      "text/plain": [
       "tensor([[ 0.0885,  0.0155, -0.0015]])"
      ]
     },
     "execution_count": 52,
     "metadata": {},
     "output_type": "execute_result"
    }
   ],
   "source": [
    "# Let's define a sample with the features values: \n",
    "# duration\torig_bytes\tresp_bytes\torig_pkts\torig_ip_bytes\tresp_pkts\tresp_ip_bytes\n",
    "new_sample = np.array([141., 356138566,\t11037090, 60, 3026679, 33, 982584], dtype=float, ndmin=2)\n",
    "\n",
    "# Preprocess the new samples as was done with the training data\n",
    "new_sample = pca.transform(min_max_scaler.transform(new_sample))\n",
    "\n",
    "# Convert the sample to a torch tensor\n",
    "new_sample = torch.tensor(data= new_sample, dtype=torch.float32)\n",
    "new_sample"
   ]
  },
  {
   "cell_type": "code",
   "execution_count": 53,
   "metadata": {},
   "outputs": [
    {
     "data": {
      "text/plain": [
       "tensor([[0.0042]], grad_fn=<SigmoidBackward0>)"
      ]
     },
     "execution_count": 53,
     "metadata": {},
     "output_type": "execute_result"
    }
   ],
   "source": [
    "# Make a prediction on the sample\n",
    "# Remember, the previously unseen data has to go through the same transformation as the training data\n",
    "# See:\n",
    "#   06 - Beginning Data Scaling\n",
    "#   07 - Beginning Principal Component Analysis (PCA)\n",
    "torch_clf_model[0].eval()\n",
    "new_pred = torch_clf_model[0](new_sample)\n",
    "new_pred"
   ]
  },
  {
   "cell_type": "code",
   "execution_count": 54,
   "metadata": {},
   "outputs": [],
   "source": [
    "# Import the data time library\n",
    "from datetime import datetime"
   ]
  },
  {
   "cell_type": "code",
   "execution_count": 55,
   "metadata": {},
   "outputs": [
    {
     "data": {
      "text/plain": [
       "'[**] {datetime.now()} - Normal Traffic'"
      ]
     },
     "execution_count": 55,
     "metadata": {},
     "output_type": "execute_result"
    }
   ],
   "source": [
    "# Report a sample as suspicious, if it's threshold is greater than 0.5\n",
    "f'{datetime.now()} - [!] ALERT ** SUSPICIOUS ACTIVITY ** Zeek conn.log' if new_pred > 0.5  \\\n",
    "    else \"[**] {datetime.now()} - Normal Traffic\""
   ]
  },
  {
   "cell_type": "code",
   "execution_count": 56,
   "metadata": {},
   "outputs": [
    {
     "data": {
      "text/plain": [
       "tensor([[ 5.0943,  7.5641, -2.2904]])"
      ]
     },
     "execution_count": 56,
     "metadata": {},
     "output_type": "execute_result"
    }
   ],
   "source": [
    "# Setup a suspicious sample\n",
    "new_sample = np.array([5000., 356138566,\t11037090, 6000, 3026679, 9999999, 982584], dtype=float, ndmin=2)\n",
    "\n",
    "# Preprocess the new samples as was done with the training data\n",
    "new_sample = pca.transform(min_max_scaler.transform(new_sample))\n",
    "\n",
    "# Convert the sample to a torch tensor\n",
    "new_sample = torch.tensor(data= new_sample, dtype=torch.float32)\n",
    "new_sample"
   ]
  },
  {
   "cell_type": "code",
   "execution_count": 57,
   "metadata": {},
   "outputs": [
    {
     "data": {
      "text/plain": [
       "tensor([[0.3978]], grad_fn=<SigmoidBackward0>)"
      ]
     },
     "execution_count": 57,
     "metadata": {},
     "output_type": "execute_result"
    }
   ],
   "source": [
    "# Transform the sample\n",
    "new_pred = torch_clf_model[0](new_sample)\n",
    "new_pred"
   ]
  },
  {
   "cell_type": "code",
   "execution_count": 58,
   "metadata": {},
   "outputs": [
    {
     "data": {
      "text/plain": [
       "'[**] {datetime.now()} - Normal Traffic'"
      ]
     },
     "execution_count": 58,
     "metadata": {},
     "output_type": "execute_result"
    }
   ],
   "source": [
    "# Report a sample as suspicious, if it's threshold is greater than 0.5\n",
    "f'{datetime.now()} - [!] ALERT ** SUSPICIOUS ACTIVITY ** Zeek conn.log' if new_pred > 0.5  \\\n",
    "    else \"[**] {datetime.now()} - Normal Traffic\""
   ]
  },
  {
   "cell_type": "code",
   "execution_count": 59,
   "metadata": {},
   "outputs": [],
   "source": [
    "# Interesting, both instances we have negative classification. \n",
    "# Remember, this model failed to find any true or false positives. \n",
    "# Hence we should not trust what was done here\n",
    "# Remember, the model also had false negatives. I would consider this a false negative.\n",
    "# If you want to know why I think so, hit me up for my opinion."
   ]
  },
  {
   "cell_type": "code",
   "execution_count": 60,
   "metadata": {},
   "outputs": [],
   "source": [
    "# Import the os library\n",
    "import os"
   ]
  },
  {
   "cell_type": "code",
   "execution_count": 61,
   "metadata": {},
   "outputs": [],
   "source": [
    "# Create the location to save the model\n",
    "PATH = './SAVED_MODELS/TORCH_classification/'\n",
    "MODELS_PATH = os.makedirs(name=PATH, exist_ok=True)"
   ]
  },
  {
   "cell_type": "code",
   "execution_count": 62,
   "metadata": {},
   "outputs": [],
   "source": [
    "# Save the model\n",
    "torch.save(obj=torch_clf_model[0], f=F'{PATH}/torch_clf_model_saved_dict.pth')"
   ]
  },
  {
   "cell_type": "code",
   "execution_count": 63,
   "metadata": {},
   "outputs": [
    {
     "data": {
      "text/plain": [
       "Sequential(\n",
       "  (0): Linear(in_features=3, out_features=8, bias=True)\n",
       "  (1): ReLU()\n",
       "  (2): Linear(in_features=8, out_features=1, bias=True)\n",
       "  (3): Sigmoid()\n",
       ")"
      ]
     },
     "execution_count": 63,
     "metadata": {},
     "output_type": "execute_result"
    }
   ],
   "source": [
    "loaded_clf_torch_model = torch.load(f=f'{PATH}torch_clf_model_saved_dict.pth')\n",
    "loaded_clf_torch_model\n"
   ]
  },
  {
   "cell_type": "code",
   "execution_count": 64,
   "metadata": {},
   "outputs": [
    {
     "data": {
      "text/plain": [
       "tensor([[0.3978]], grad_fn=<SigmoidBackward0>)"
      ]
     },
     "execution_count": 64,
     "metadata": {},
     "output_type": "execute_result"
    }
   ],
   "source": [
    "# Make a prediction on the loaded model\n",
    "loaded_clf_torch_model(new_sample)"
   ]
  },
  {
   "cell_type": "code",
   "execution_count": 65,
   "metadata": {},
   "outputs": [],
   "source": [
    "# That's it! Moving on!!"
   ]
  },
  {
   "cell_type": "code",
   "execution_count": null,
   "metadata": {},
   "outputs": [],
   "source": []
  }
 ],
 "metadata": {
  "kernelspec": {
   "display_name": "main-env",
   "language": "python",
   "name": "python3"
  },
  "language_info": {
   "codemirror_mode": {
    "name": "ipython",
    "version": 3
   },
   "file_extension": ".py",
   "mimetype": "text/x-python",
   "name": "python",
   "nbconvert_exporter": "python",
   "pygments_lexer": "ipython3",
   "version": "3.10.11"
  },
  "orig_nbformat": 4,
  "vscode": {
   "interpreter": {
    "hash": "dcb100998b7ef434a33dbfac35f576e40d01f04c34d9ff6f6aad819b8a88c169"
   }
  }
 },
 "nbformat": 4,
 "nbformat_minor": 2
}
