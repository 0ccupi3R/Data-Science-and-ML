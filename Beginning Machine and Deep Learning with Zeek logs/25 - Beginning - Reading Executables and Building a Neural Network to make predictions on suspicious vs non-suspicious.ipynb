{
 "cells": [
  {
   "attachments": {},
   "cell_type": "markdown",
   "metadata": {},
   "source": [
    "Author: Nik Alleyne<br>\n",
    "Author Blog:    https://www.securitynik.com <br>\n",
    "Author GitHub:  github.com/securitynik <br>\n",
    "Author Books: \n",
    "        [ \n",
    "                \n",
    "                \"https://www.amazon.ca/Learning-Practicing-Leveraging-Practical-Detection/dp/1731254458/\", \n",
    "                \"https://www.amazon.ca/Learning-Practicing-Mastering-Network-Forensics/dp/1775383024/\"\n",
    "        ]\n"
   ]
  },
  {
   "cell_type": "code",
   "execution_count": null,
   "metadata": {},
   "outputs": [],
   "source": []
  },
  {
   "attachments": {},
   "cell_type": "markdown",
   "metadata": {},
   "source": [
    "### Why this series?\n",
    "When teaching the SANS SEC595: Applied Data Science and Machine Learning for Cybersecurity Professionals \n",
    "**https://www.sans.org/cyber-security-courses/applied-data-science-machine-learning/** I am always asked,\n",
    "\"Will you be sharing your demo notebooks?\" or \"Can we get a copy of your demo notebooks?\" or ... well you get the point.\n",
    "My answer is always no. Not that I do not want to share, (sharing is caring :-D) , but the demo notebooks \n",
    "by themselves, would not make sense or add real value. Hence, this series! \n",
    "\n",
    "This is my supplemental work, similar to what I would do in the demos but with a lot more details and references."
   ]
  },
  {
   "cell_type": "code",
   "execution_count": null,
   "metadata": {},
   "outputs": [],
   "source": []
  },
  {
   "attachments": {},
   "cell_type": "markdown",
   "metadata": {},
   "source": [
    "## 25 - Beginning - Reading Executables and Building a Neural Network to make predictions on suspicious vs suspicious"
   ]
  },
  {
   "attachments": {},
   "cell_type": "markdown",
   "metadata": {},
   "source": [
    "### The series includes the following: <br>\n",
    "01 - Beginning Numpy <br>\n",
    "02 - Beginning Tensorflow  <br>\n",
    "03 - Beginning PyTorch <br>\n",
    "04 - Beginning Pandas <br>\n",
    "05 - Beginning Matplotlib <br>\n",
    "06 - Beginning Data Scaling <br>\n",
    "07 - Beginning Principal Component Analysis (PCA) <br>\n",
    "08 - Beginning Machine Learning Anomaly Detection - Isolation Forest and Local Outlier Factor <br>\n",
    "09 - Beginning Unsupervised Machine Learning - Clustering - K-means and DBSCAN <br>\n",
    "10 - Beginning Supervise Learning - Machine Learning - Logistic Regression, Decision Trees and Metrics <br>\n",
    "11 - Beginning Linear Regression - Machine Learning <br>\n",
    "12 - Beginning Deep Learning - Anomaly Detection with AutoEncoders, Tensorflow <br>\n",
    "13 - Beginning Deep Learning - Anomaly Detection with AutoEncoders, PyTroch <br>\n",
    "14 - Beginning Deep Learning - Linear Regression, Tensorflow <br>\n",
    "15 - Beginning Deep Learning - Linear Regression, PyTorch <br>\n",
    "16 - Beginning Deep Learning - Classification, Tensorflow <br>\n",
    "17 - Beginning Deep Learning - Classification, Pytorch <br>\n",
    "18 - Beginning Deep Learning - Classification - regression - MIMO - Functional API Tensorflow <br> \n",
    "19 - Beginning Deep Learning - Convolution Networks - Tensorflow <br>\n",
    "20 - Beginning Deep Learning - Convolution Networks - PyTorch <br>\n",
    "21 - Beginning Regularization - Early Stopping, Dropout, L2 (Ridge), L1 (Lasso) <br>\n",
    "22 - Beginning Model TFServing <br>\n",
    "\n",
    "But conn.log is not the only log file within Zeek. Let's build some models for DNS and HTTP logs. <br>\n",
    "I choose unsupervised, because there are no labels coming with these data. <br>\n",
    "\n",
    "23 - Continuing Anomaly Learning - Zeek DNS Log - Machine Learning <br>\n",
    "24 - Continuing Unsupervised Learning - Zeek HTTP Log - Machine Learning <br>\n",
    "\n",
    "This was a specific ask by someone in one of my class. <br>\n",
    "25 - Beginning - Reading Executables and Building a Neural Network to make predictions on suspicious vs suspicious  <br><br>\n",
    "\n",
    "With 25 notebooks in this series, it is quite possible there are things I could have or should have done differently.  <br>\n",
    "If you find any thing, you think fits those criteria, drop me a line. <br>\n",
    "\n",
    "If you find this series beneficial, I would greatly appreciate your feedback.\n",
    "\n"
   ]
  },
  {
   "cell_type": "code",
   "execution_count": 87,
   "metadata": {},
   "outputs": [],
   "source": [
    "# Read some necessary libraries\n",
    "import numpy as np\n",
    "import os\n",
    "import glob"
   ]
  },
  {
   "cell_type": "code",
   "execution_count": 88,
   "metadata": {},
   "outputs": [
    {
     "name": "stdout",
     "output_type": "stream",
     "text": [
      "[*] Appending d:/TOOLS\\7z1604-x64.exe to exe_files_list\n",
      "[*] Appending d:/TOOLS\\7z1604.exe to exe_files_list\n",
      "[*] Appending d:/TOOLS\\7z1801-x64.exe to exe_files_list\n",
      "[*] Appending d:/TOOLS\\7z1805.exe to exe_files_list\n",
      "[*] Appending d:/TOOLS\\7z1900-x64.exe to exe_files_list\n",
      "[*] Appending d:/TOOLS\\7z1900.exe to exe_files_list\n",
      "[*] Appending d:/TOOLS\\AccessData_FTK_Imager-_4.3.0.exe to exe_files_list\n",
      "[*] Appending d:/TOOLS\\AnalyzePESig.exe to exe_files_list\n",
      "[*] Appending d:/TOOLS\\bintext.exe to exe_files_list\n",
      "[*] Appending d:/TOOLS\\burpsuite_community_windows-x64_v2_1_07.exe to exe_files_list\n",
      "[*] Appending d:/TOOLS\\ca_setup.exe to exe_files_list\n",
      "[*] Appending d:/TOOLS\\CFF_ExplorerSuite.exe to exe_files_list\n",
      "[*] Appending d:/TOOLS\\chml.exe to exe_files_list\n",
      "[*] Appending d:/TOOLS\\ChromeSetup.exe to exe_files_list\n",
      "[*] Appending d:/TOOLS\\ChromeStandaloneSetup64.exe to exe_files_list\n",
      "[*] Appending d:/TOOLS\\ciHexViewer.exe to exe_files_list\n",
      "[*] Appending d:/TOOLS\\codeblocks-20.03-setup.exe to exe_files_list\n",
      "[*] Appending d:/TOOLS\\cola_soft_pktbuilder_2.0.0.212.exe to exe_files_list\n",
      "[*] Appending d:/TOOLS\\Comodo-ForensicAnalysisTool_MzUxNDQx.exe to exe_files_list\n",
      "[*] Appending d:/TOOLS\\DeleteRecordofFileEx.exe to exe_files_list\n",
      "[*] Appending d:/TOOLS\\devcpp-4.9.9.2_setup.exe to exe_files_list\n",
      "[*] Appending d:/TOOLS\\DiskImageFreeSetup.exe to exe_files_list\n",
      "[*] Appending d:/TOOLS\\DokanSetup.exe to exe_files_list\n",
      "[*] Appending d:/TOOLS\\dotNetFx45_Full_setup.exe to exe_files_list\n",
      "[*] Appending d:/TOOLS\\EventExplorer_setup.exe to exe_files_list\n",
      "[*] Appending d:/TOOLS\\ExplorerSuite.exe to exe_files_list\n",
      "[*] Appending d:/TOOLS\\filealyz-2.0.5.57.exe to exe_files_list\n",
      "[*] Appending d:/TOOLS\\findjump2.exe to exe_files_list\n",
      "[*] Appending d:/TOOLS\\Firefox Setup 98.0.1.exe to exe_files_list\n",
      "[*] Appending d:/TOOLS\\flamingo-windows-amd64.exe to exe_files_list\n",
      "[*] Appending d:/TOOLS\\gpg4win-3.1.11.exe to exe_files_list\n",
      "[*] Appending d:/TOOLS\\HxDSetup.exe to exe_files_list\n",
      "[*] Appending d:/TOOLS\\idafree50.exe to exe_files_list\n",
      "[*] Appending d:/TOOLS\\idafree70_windows.exe to exe_files_list\n",
      "[*] Appending d:/TOOLS\\idafree77_windows.exe to exe_files_list\n",
      "[*] Appending d:/TOOLS\\ImmunityDebugger_1_85_setup.exe to exe_files_list\n",
      "[*] Appending d:/TOOLS\\jmp2it.exe to exe_files_list\n",
      "[*] Appending d:/TOOLS\\jre-8u162-windows-i586.exe to exe_files_list\n",
      "[*] Appending d:/TOOLS\\jre-8u162-windows-x64.exe to exe_files_list\n",
      "[*] Appending d:/TOOLS\\KillerSoftwareUninstaller.1.0.2020.0212.exe to exe_files_list\n",
      "[*] Appending d:/TOOLS\\memdump.exe to exe_files_list\n",
      "[*] Appending d:/TOOLS\\mingw-w64-install.exe to exe_files_list\n",
      "[*] Appending d:/TOOLS\\OpenLiveview- VInstallerv0.9.1.exe to exe_files_list\n",
      "[*] Appending d:/TOOLS\\Opera_84.0.4316.42_Setup_x64.exe to exe_files_list\n",
      "[*] Appending d:/TOOLS\\OWASP-ZAP_2_7_0_windows.exe to exe_files_list\n",
      "[*] Appending d:/TOOLS\\PEInfo.exe to exe_files_list\n",
      "[*] Appending d:/TOOLS\\PEview.exe to exe_files_list\n",
      "[*] Appending d:/TOOLS\\putty.exe to exe_files_list\n",
      "[*] Appending d:/TOOLS\\python-3.8.5-amd64.exe to exe_files_list\n",
      "[*] Appending d:/TOOLS\\rcsetup153.exe to exe_files_list\n",
      "[*] Appending d:/TOOLS\\realvnc-4-1-1-vnc-4_1_1-x86_win32.exe to exe_files_list\n",
      "[*] Appending d:/TOOLS\\regil.exe to exe_files_list\n",
      "[*] Appending d:/TOOLS\\Rekall_1.7.2.p1_Hurricane.Ridge_x64.exe to exe_files_list\n",
      "[*] Appending d:/TOOLS\\SEH-Demo.exe to exe_files_list\n",
      "[*] Appending d:/TOOLS\\UltraVNC_1_2_40_X64_Setup.exe to exe_files_list\n",
      "[*] Appending d:/TOOLS\\velociraptor-v0.6.3-windows-amd64.exe to exe_files_list\n",
      "[*] Appending d:/TOOLS\\winpmem-2.1.post4.exe to exe_files_list\n",
      "[*] Appending d:/TOOLS\\WinPrefetchView.exe to exe_files_list\n",
      "[*] Appending d:/TOOLS\\winrar-x64-550.exe to exe_files_list\n",
      "[*] Appending d:/TOOLS\\xampp-windows-x64-7.3.22-0-VC15-installer.exe to exe_files_list\n",
      "[*] Appending d:/TOOLS\\xampp-windows-x64-7.4.10-0-VC15-installer.exe to exe_files_list\n",
      "Added 61 files\n"
     ]
    }
   ],
   "source": [
    "# Create a list to store the executable file paths\n",
    "exe_files_list = []\n",
    "\n",
    "# Append the file and paths in a particular directory to the list\n",
    "for file_name in glob.glob(pathname='d:/TOOLS/*.exe'):\n",
    "    print(f'[*] Appending {file_name} to exe_files_list')\n",
    "\n",
    "    # Adding the files to the list\n",
    "    exe_files_list.append(file_name)\n",
    "\n",
    "print(f'Added {len(exe_files_list)} files')"
   ]
  },
  {
   "cell_type": "code",
   "execution_count": 89,
   "metadata": {},
   "outputs": [
    {
     "data": {
      "text/plain": [
       "['d:/TOOLS\\\\7z1604-x64.exe',\n",
       " 'd:/TOOLS\\\\7z1604.exe',\n",
       " 'd:/TOOLS\\\\7z1801-x64.exe',\n",
       " 'd:/TOOLS\\\\7z1805.exe',\n",
       " 'd:/TOOLS\\\\7z1900-x64.exe',\n",
       " 'd:/TOOLS\\\\7z1900.exe',\n",
       " 'd:/TOOLS\\\\AccessData_FTK_Imager-_4.3.0.exe',\n",
       " 'd:/TOOLS\\\\AnalyzePESig.exe',\n",
       " 'd:/TOOLS\\\\bintext.exe',\n",
       " 'd:/TOOLS\\\\burpsuite_community_windows-x64_v2_1_07.exe',\n",
       " 'd:/TOOLS\\\\ca_setup.exe',\n",
       " 'd:/TOOLS\\\\CFF_ExplorerSuite.exe',\n",
       " 'd:/TOOLS\\\\chml.exe',\n",
       " 'd:/TOOLS\\\\ChromeSetup.exe',\n",
       " 'd:/TOOLS\\\\ChromeStandaloneSetup64.exe',\n",
       " 'd:/TOOLS\\\\ciHexViewer.exe',\n",
       " 'd:/TOOLS\\\\codeblocks-20.03-setup.exe',\n",
       " 'd:/TOOLS\\\\cola_soft_pktbuilder_2.0.0.212.exe',\n",
       " 'd:/TOOLS\\\\Comodo-ForensicAnalysisTool_MzUxNDQx.exe',\n",
       " 'd:/TOOLS\\\\DeleteRecordofFileEx.exe',\n",
       " 'd:/TOOLS\\\\devcpp-4.9.9.2_setup.exe',\n",
       " 'd:/TOOLS\\\\DiskImageFreeSetup.exe',\n",
       " 'd:/TOOLS\\\\DokanSetup.exe',\n",
       " 'd:/TOOLS\\\\dotNetFx45_Full_setup.exe',\n",
       " 'd:/TOOLS\\\\EventExplorer_setup.exe',\n",
       " 'd:/TOOLS\\\\ExplorerSuite.exe',\n",
       " 'd:/TOOLS\\\\filealyz-2.0.5.57.exe',\n",
       " 'd:/TOOLS\\\\findjump2.exe',\n",
       " 'd:/TOOLS\\\\Firefox Setup 98.0.1.exe',\n",
       " 'd:/TOOLS\\\\flamingo-windows-amd64.exe',\n",
       " 'd:/TOOLS\\\\gpg4win-3.1.11.exe',\n",
       " 'd:/TOOLS\\\\HxDSetup.exe',\n",
       " 'd:/TOOLS\\\\idafree50.exe',\n",
       " 'd:/TOOLS\\\\idafree70_windows.exe',\n",
       " 'd:/TOOLS\\\\idafree77_windows.exe',\n",
       " 'd:/TOOLS\\\\ImmunityDebugger_1_85_setup.exe',\n",
       " 'd:/TOOLS\\\\jmp2it.exe',\n",
       " 'd:/TOOLS\\\\jre-8u162-windows-i586.exe',\n",
       " 'd:/TOOLS\\\\jre-8u162-windows-x64.exe',\n",
       " 'd:/TOOLS\\\\KillerSoftwareUninstaller.1.0.2020.0212.exe',\n",
       " 'd:/TOOLS\\\\memdump.exe',\n",
       " 'd:/TOOLS\\\\mingw-w64-install.exe',\n",
       " 'd:/TOOLS\\\\OpenLiveview- VInstallerv0.9.1.exe',\n",
       " 'd:/TOOLS\\\\Opera_84.0.4316.42_Setup_x64.exe',\n",
       " 'd:/TOOLS\\\\OWASP-ZAP_2_7_0_windows.exe',\n",
       " 'd:/TOOLS\\\\PEInfo.exe',\n",
       " 'd:/TOOLS\\\\PEview.exe',\n",
       " 'd:/TOOLS\\\\putty.exe',\n",
       " 'd:/TOOLS\\\\python-3.8.5-amd64.exe',\n",
       " 'd:/TOOLS\\\\rcsetup153.exe',\n",
       " 'd:/TOOLS\\\\realvnc-4-1-1-vnc-4_1_1-x86_win32.exe',\n",
       " 'd:/TOOLS\\\\regil.exe',\n",
       " 'd:/TOOLS\\\\Rekall_1.7.2.p1_Hurricane.Ridge_x64.exe',\n",
       " 'd:/TOOLS\\\\SEH-Demo.exe',\n",
       " 'd:/TOOLS\\\\UltraVNC_1_2_40_X64_Setup.exe',\n",
       " 'd:/TOOLS\\\\velociraptor-v0.6.3-windows-amd64.exe',\n",
       " 'd:/TOOLS\\\\winpmem-2.1.post4.exe',\n",
       " 'd:/TOOLS\\\\WinPrefetchView.exe',\n",
       " 'd:/TOOLS\\\\winrar-x64-550.exe',\n",
       " 'd:/TOOLS\\\\xampp-windows-x64-7.3.22-0-VC15-installer.exe',\n",
       " 'd:/TOOLS\\\\xampp-windows-x64-7.4.10-0-VC15-installer.exe']"
      ]
     },
     "execution_count": 89,
     "metadata": {},
     "output_type": "execute_result"
    }
   ],
   "source": [
    "# Review the list \n",
    "exe_files_list"
   ]
  },
  {
   "cell_type": "code",
   "execution_count": 90,
   "metadata": {},
   "outputs": [
    {
     "data": {
      "text/plain": [
       "b'MZ\\x90\\x00\\x03\\x00\\x00\\x00'"
      ]
     },
     "execution_count": 90,
     "metadata": {},
     "output_type": "execute_result"
    }
   ],
   "source": [
    "# Take a sample file\n",
    "# This produces the following output for the first 8 bytes\n",
    "# Note, change the values below if you wish to see more bytes\n",
    "# I'm using 8 for easier clarity of the output\n",
    "\n",
    "# We need to get out of this binary format\n",
    "f = open(file=exe_files_list[0], mode='rb')\n",
    "f.read(8)"
   ]
  },
  {
   "cell_type": "code",
   "execution_count": 91,
   "metadata": {},
   "outputs": [
    {
     "data": {
      "text/plain": [
       "'4d 5a 90 00 03 00 00 00'"
      ]
     },
     "execution_count": 91,
     "metadata": {},
     "output_type": "execute_result"
    }
   ],
   "source": [
    "# Let's get these values into hex\n",
    "# https://stackoverflow.com/questions/6624453/whats-the-correct-way-to-convert-bytes-to-a-hex-string-in-python-3\n",
    "# https://docs.python.org/3/library/stdtypes.html#bytes.hex\n",
    "# This output looks much better.\n",
    "# Now that they are in hex, we need to get this as int\n",
    "f = open(file=exe_files_list[0], mode='rb')\n",
    "\n",
    "# Store these bytes in a variable\n",
    "f.read(8).hex(sep=' ', bytes_per_sep=1)"
   ]
  },
  {
   "cell_type": "code",
   "execution_count": 92,
   "metadata": {},
   "outputs": [
    {
     "name": "stdout",
     "output_type": "stream",
     "text": [
      "['4d', '5a', '90', '00', '03', '00', '00', '00']\n"
     ]
    }
   ],
   "source": [
    "# Read the data from a sample file\n",
    "f = open(file=exe_files_list[0], mode='rb')\n",
    "\n",
    "# Read 8 bytes of the data, convert the binary data to hex with 2 characters representing a byte\n",
    "# Remember, you can change the 8 to 256 or some other value if you wish\n",
    "# split the data on the space to setup a list of hex chars\n",
    "bytes_to_hex = f.read(8).hex(sep=' ', bytes_per_sep=1).split(' ')\n",
    "print(bytes_to_hex)"
   ]
  },
  {
   "cell_type": "code",
   "execution_count": 93,
   "metadata": {},
   "outputs": [
    {
     "data": {
      "text/plain": [
       "[77, 90, 144, 0, 3, 0, 0, 0]"
      ]
     },
     "execution_count": 93,
     "metadata": {},
     "output_type": "execute_result"
    }
   ],
   "source": [
    "# While the above is in a list, it is all hex string.\n",
    "# Still need to get this to int\n",
    "# https://www.rapidtables.com/convert/number/hex-to-decimal.html\n",
    "\n",
    "# Convert each item in the list to a 16 bit integer\n",
    "[ int(i, 16) for i in bytes_to_hex ]"
   ]
  },
  {
   "cell_type": "code",
   "execution_count": 94,
   "metadata": {},
   "outputs": [
    {
     "data": {
      "text/plain": [
       "array([ 77,  90, 144,   0,   3,   0,   0,   0])"
      ]
     },
     "execution_count": 94,
     "metadata": {},
     "output_type": "execute_result"
    }
   ],
   "source": [
    "# Knowing that above works, let's now get this into a numpy array\n",
    "# Put above in an numpy array\n",
    "# This gives us what we need. We have the foundation in place to now put everything together\n",
    "np.array([ int(i, 16) for i in bytes_to_hex ])"
   ]
  },
  {
   "cell_type": "code",
   "execution_count": 95,
   "metadata": {},
   "outputs": [],
   "source": [
    "# Putting together, all that was done above\n",
    "\n",
    "# Define an empty list\n",
    "exe_array = []\n",
    "\n",
    "# First create a for loop consisting of all that we just defined\n",
    "for file in exe_files_list:\n",
    "    # print the file if needed\n",
    "    # print(file)\n",
    "\n",
    "    # Read the data from a sample file as binary data\n",
    "    f = open(file=file, mode='rb')\n",
    "\n",
    "    # Read 8 bytes of the data, convert the binary data to hex with 2 characters representing a byte\n",
    "    # You can change the 8 below in the read statement to read a larger number of bytes\n",
    "    # I'm trying to make it easily readable\n",
    "    # split the data on the space to setup a list of hex chars\n",
    "    bytes_to_hex = f.read(8).hex(sep=' ', bytes_per_sep=1).split(' ')\n",
    "\n",
    "    # Convert the hex characters to 16 bits integer\n",
    "    xi = ([ int(i, 16) for i in bytes_to_hex ])\n",
    "\n",
    "    # Append the integers to the exe_array\n",
    "    exe_array.append(xi)"
   ]
  },
  {
   "cell_type": "code",
   "execution_count": 96,
   "metadata": {},
   "outputs": [
    {
     "name": "stdout",
     "output_type": "stream",
     "text": [
      "[[77, 90, 144, 0, 3, 0, 0, 0], [77, 90, 144, 0, 3, 0, 0, 0], [77, 90, 144, 0, 3, 0, 0, 0], [77, 90, 144, 0, 3, 0, 0, 0], [77, 90, 144, 0, 3, 0, 0, 0], [77, 90, 144, 0, 3, 0, 0, 0], [77, 90, 144, 0, 3, 0, 0, 0], [77, 90, 144, 0, 3, 0, 0, 0], [77, 90, 144, 0, 3, 0, 0, 0], [77, 90, 144, 0, 3, 0, 0, 0], [77, 90, 144, 0, 3, 0, 0, 0], [77, 90, 80, 0, 2, 0, 0, 0], [77, 90, 144, 0, 3, 0, 0, 0], [77, 90, 144, 0, 3, 0, 0, 0], [77, 90, 144, 0, 3, 0, 0, 0], [77, 90, 144, 0, 3, 0, 0, 0], [77, 90, 144, 0, 3, 0, 0, 0], [77, 90, 80, 0, 2, 0, 0, 0], [77, 90, 96, 0, 1, 0, 0, 0], [77, 90, 144, 0, 3, 0, 0, 0], [77, 90, 144, 0, 3, 0, 0, 0], [77, 90, 80, 0, 2, 0, 0, 0], [77, 90, 144, 0, 3, 0, 0, 0], [77, 90, 144, 0, 3, 0, 0, 0], [77, 90, 80, 0, 2, 0, 0, 0], [77, 90, 80, 0, 2, 0, 0, 0], [77, 90, 80, 0, 2, 0, 0, 0], [77, 90, 144, 0, 3, 0, 0, 0], [77, 90, 144, 0, 3, 0, 0, 0], [77, 90, 144, 0, 3, 0, 4, 0], [77, 90, 144, 0, 3, 0, 0, 0], [77, 90, 80, 0, 2, 0, 0, 0], [77, 90, 80, 0, 2, 0, 0, 0], [77, 90, 80, 0, 2, 0, 0, 0], [77, 90, 144, 0, 3, 0, 0, 0], [77, 90, 144, 0, 3, 0, 0, 0], [77, 90, 144, 0, 3, 0, 0, 0], [77, 90, 144, 0, 3, 0, 0, 0], [77, 90, 144, 0, 3, 0, 0, 0], [77, 90, 144, 0, 3, 0, 0, 0], [77, 90, 144, 0, 3, 0, 0, 0], [77, 90, 144, 0, 3, 0, 0, 0], [77, 90, 144, 0, 3, 0, 0, 0], [77, 90, 120, 0, 1, 0, 0, 0], [77, 90, 144, 0, 3, 0, 0, 0], [77, 90, 80, 0, 2, 0, 0, 0], [77, 90, 108, 0, 1, 0, 0, 0], [77, 90, 120, 0, 1, 0, 0, 0], [77, 90, 144, 0, 3, 0, 0, 0], [77, 90, 144, 0, 3, 0, 0, 0], [77, 90, 80, 0, 2, 0, 0, 0], [77, 90, 144, 0, 3, 0, 0, 0], [77, 90, 80, 0, 2, 0, 0, 0], [77, 90, 144, 0, 3, 0, 0, 0], [77, 90, 80, 0, 2, 0, 0, 0], [77, 90, 144, 0, 3, 0, 0, 0], [77, 90, 144, 0, 3, 0, 0, 0], [77, 90, 144, 0, 3, 0, 0, 0], [77, 90, 144, 0, 3, 0, 0, 0], [77, 90, 144, 0, 3, 0, 0, 0], [77, 90, 144, 0, 3, 0, 0, 0]]\n"
     ]
    }
   ],
   "source": [
    "# Review the array with the items\n",
    "print(exe_array)"
   ]
  },
  {
   "cell_type": "code",
   "execution_count": 97,
   "metadata": {},
   "outputs": [
    {
     "data": {
      "text/plain": [
       "array([[ 77.,  90., 144.,   0.,   3.,   0.,   0.,   0.],\n",
       "       [ 77.,  90., 144.,   0.,   3.,   0.,   0.,   0.],\n",
       "       [ 77.,  90., 144.,   0.,   3.,   0.,   0.,   0.],\n",
       "       [ 77.,  90., 144.,   0.,   3.,   0.,   0.,   0.],\n",
       "       [ 77.,  90., 144.,   0.,   3.,   0.,   0.,   0.],\n",
       "       [ 77.,  90., 144.,   0.,   3.,   0.,   0.,   0.],\n",
       "       [ 77.,  90., 144.,   0.,   3.,   0.,   0.,   0.],\n",
       "       [ 77.,  90., 144.,   0.,   3.,   0.,   0.,   0.],\n",
       "       [ 77.,  90., 144.,   0.,   3.,   0.,   0.,   0.],\n",
       "       [ 77.,  90., 144.,   0.,   3.,   0.,   0.,   0.],\n",
       "       [ 77.,  90., 144.,   0.,   3.,   0.,   0.,   0.],\n",
       "       [ 77.,  90.,  80.,   0.,   2.,   0.,   0.,   0.],\n",
       "       [ 77.,  90., 144.,   0.,   3.,   0.,   0.,   0.],\n",
       "       [ 77.,  90., 144.,   0.,   3.,   0.,   0.,   0.],\n",
       "       [ 77.,  90., 144.,   0.,   3.,   0.,   0.,   0.],\n",
       "       [ 77.,  90., 144.,   0.,   3.,   0.,   0.,   0.],\n",
       "       [ 77.,  90., 144.,   0.,   3.,   0.,   0.,   0.],\n",
       "       [ 77.,  90.,  80.,   0.,   2.,   0.,   0.,   0.],\n",
       "       [ 77.,  90.,  96.,   0.,   1.,   0.,   0.,   0.],\n",
       "       [ 77.,  90., 144.,   0.,   3.,   0.,   0.,   0.],\n",
       "       [ 77.,  90., 144.,   0.,   3.,   0.,   0.,   0.],\n",
       "       [ 77.,  90.,  80.,   0.,   2.,   0.,   0.,   0.],\n",
       "       [ 77.,  90., 144.,   0.,   3.,   0.,   0.,   0.],\n",
       "       [ 77.,  90., 144.,   0.,   3.,   0.,   0.,   0.],\n",
       "       [ 77.,  90.,  80.,   0.,   2.,   0.,   0.,   0.],\n",
       "       [ 77.,  90.,  80.,   0.,   2.,   0.,   0.,   0.],\n",
       "       [ 77.,  90.,  80.,   0.,   2.,   0.,   0.,   0.],\n",
       "       [ 77.,  90., 144.,   0.,   3.,   0.,   0.,   0.],\n",
       "       [ 77.,  90., 144.,   0.,   3.,   0.,   0.,   0.],\n",
       "       [ 77.,  90., 144.,   0.,   3.,   0.,   4.,   0.],\n",
       "       [ 77.,  90., 144.,   0.,   3.,   0.,   0.,   0.],\n",
       "       [ 77.,  90.,  80.,   0.,   2.,   0.,   0.,   0.],\n",
       "       [ 77.,  90.,  80.,   0.,   2.,   0.,   0.,   0.],\n",
       "       [ 77.,  90.,  80.,   0.,   2.,   0.,   0.,   0.],\n",
       "       [ 77.,  90., 144.,   0.,   3.,   0.,   0.,   0.],\n",
       "       [ 77.,  90., 144.,   0.,   3.,   0.,   0.,   0.],\n",
       "       [ 77.,  90., 144.,   0.,   3.,   0.,   0.,   0.],\n",
       "       [ 77.,  90., 144.,   0.,   3.,   0.,   0.,   0.],\n",
       "       [ 77.,  90., 144.,   0.,   3.,   0.,   0.,   0.],\n",
       "       [ 77.,  90., 144.,   0.,   3.,   0.,   0.,   0.],\n",
       "       [ 77.,  90., 144.,   0.,   3.,   0.,   0.,   0.],\n",
       "       [ 77.,  90., 144.,   0.,   3.,   0.,   0.,   0.],\n",
       "       [ 77.,  90., 144.,   0.,   3.,   0.,   0.,   0.],\n",
       "       [ 77.,  90., 120.,   0.,   1.,   0.,   0.,   0.],\n",
       "       [ 77.,  90., 144.,   0.,   3.,   0.,   0.,   0.],\n",
       "       [ 77.,  90.,  80.,   0.,   2.,   0.,   0.,   0.],\n",
       "       [ 77.,  90., 108.,   0.,   1.,   0.,   0.,   0.],\n",
       "       [ 77.,  90., 120.,   0.,   1.,   0.,   0.,   0.],\n",
       "       [ 77.,  90., 144.,   0.,   3.,   0.,   0.,   0.],\n",
       "       [ 77.,  90., 144.,   0.,   3.,   0.,   0.,   0.],\n",
       "       [ 77.,  90.,  80.,   0.,   2.,   0.,   0.,   0.],\n",
       "       [ 77.,  90., 144.,   0.,   3.,   0.,   0.,   0.],\n",
       "       [ 77.,  90.,  80.,   0.,   2.,   0.,   0.,   0.],\n",
       "       [ 77.,  90., 144.,   0.,   3.,   0.,   0.,   0.],\n",
       "       [ 77.,  90.,  80.,   0.,   2.,   0.,   0.,   0.],\n",
       "       [ 77.,  90., 144.,   0.,   3.,   0.,   0.,   0.],\n",
       "       [ 77.,  90., 144.,   0.,   3.,   0.,   0.,   0.],\n",
       "       [ 77.,  90., 144.,   0.,   3.,   0.,   0.,   0.],\n",
       "       [ 77.,  90., 144.,   0.,   3.,   0.,   0.,   0.],\n",
       "       [ 77.,  90., 144.,   0.,   3.,   0.,   0.,   0.],\n",
       "       [ 77.,  90., 144.,   0.,   3.,   0.,   0.,   0.]])"
      ]
     },
     "execution_count": 97,
     "metadata": {},
     "output_type": "execute_result"
    }
   ],
   "source": [
    "# make the list into a numpy array\n",
    "X = np.array(object=exe_array, dtype=float)\n",
    "X"
   ]
  },
  {
   "cell_type": "code",
   "execution_count": 98,
   "metadata": {},
   "outputs": [
    {
     "data": {
      "text/plain": [
       "(61, 8)"
      ]
     },
     "execution_count": 98,
     "metadata": {},
     "output_type": "execute_result"
    }
   ],
   "source": [
    "# Get the shape of X_train\n",
    "# This tells us the number of samples executables and the number of bytes \n",
    "X.shape"
   ]
  },
  {
   "cell_type": "code",
   "execution_count": 99,
   "metadata": {},
   "outputs": [],
   "source": [
    "# Let's prepare to plot these 8 bytes as an image\n",
    "from matplotlib import pyplot as plt"
   ]
  },
  {
   "cell_type": "code",
   "execution_count": 100,
   "metadata": {},
   "outputs": [
    {
     "data": {
      "image/png": "[encoded data removed]",
      "text/plain": [
       "<Figure size 640x480 with 1 Axes>"
      ]
     },
     "metadata": {},
     "output_type": "display_data"
    }
   ],
   "source": [
    "# Before passing through the convolution operation, let's look at the first 8 bytes of one executable as an image\n",
    "plt.imshow(np.array(X[0], ndmin=2).reshape(2,4), cmap='Greys')\n",
    "plt.axis('off')\n",
    "plt.show()"
   ]
  },
  {
   "attachments": {},
   "cell_type": "markdown",
   "metadata": {},
   "source": [
    "With the executables now available in a format we can use for machine and deep learning <br> \n",
    "and since there are no labels, we can use anomaly, outlier or novelty detection via sklearn. <br>\n",
    "See this link: https://scikit-learn.org/stable/modules/outlier_detection.html <br><br>\n",
    "\n",
    "If you wish to do anomaly detection via autoencoder,<br>\n",
    "see this link: https://www.tensorflow.org/tutorials/generative/autoencoder#third_example_anomaly_detection"
   ]
  },
  {
   "cell_type": "code",
   "execution_count": null,
   "metadata": {},
   "outputs": [],
   "source": []
  },
  {
   "cell_type": "code",
   "execution_count": 101,
   "metadata": {},
   "outputs": [],
   "source": [
    "# Prepare to save the numpy array above\n",
    "import joblib"
   ]
  },
  {
   "cell_type": "code",
   "execution_count": 102,
   "metadata": {},
   "outputs": [
    {
     "data": {
      "text/plain": [
       "['exe_file_array.npy']"
      ]
     },
     "execution_count": 102,
     "metadata": {},
     "output_type": "execute_result"
    }
   ],
   "source": [
    "# Save the executables numpy array to a  file\n",
    "joblib.dump(value=X, filename='exe_file_array.npy')"
   ]
  },
  {
   "cell_type": "code",
   "execution_count": 103,
   "metadata": {},
   "outputs": [
    {
     "data": {
      "text/plain": [
       "array([[ 77.,  90., 144.,   0.,   3.,   0.,   0.,   0.],\n",
       "       [ 77.,  90., 144.,   0.,   3.,   0.,   0.,   0.],\n",
       "       [ 77.,  90., 144.,   0.,   3.,   0.,   0.,   0.],\n",
       "       [ 77.,  90., 144.,   0.,   3.,   0.,   0.,   0.],\n",
       "       [ 77.,  90., 144.,   0.,   3.,   0.,   0.,   0.],\n",
       "       [ 77.,  90., 144.,   0.,   3.,   0.,   0.,   0.],\n",
       "       [ 77.,  90., 144.,   0.,   3.,   0.,   0.,   0.],\n",
       "       [ 77.,  90., 144.,   0.,   3.,   0.,   0.,   0.],\n",
       "       [ 77.,  90., 144.,   0.,   3.,   0.,   0.,   0.],\n",
       "       [ 77.,  90., 144.,   0.,   3.,   0.,   0.,   0.],\n",
       "       [ 77.,  90., 144.,   0.,   3.,   0.,   0.,   0.],\n",
       "       [ 77.,  90.,  80.,   0.,   2.,   0.,   0.,   0.],\n",
       "       [ 77.,  90., 144.,   0.,   3.,   0.,   0.,   0.],\n",
       "       [ 77.,  90., 144.,   0.,   3.,   0.,   0.,   0.],\n",
       "       [ 77.,  90., 144.,   0.,   3.,   0.,   0.,   0.],\n",
       "       [ 77.,  90., 144.,   0.,   3.,   0.,   0.,   0.],\n",
       "       [ 77.,  90., 144.,   0.,   3.,   0.,   0.,   0.],\n",
       "       [ 77.,  90.,  80.,   0.,   2.,   0.,   0.,   0.],\n",
       "       [ 77.,  90.,  96.,   0.,   1.,   0.,   0.,   0.],\n",
       "       [ 77.,  90., 144.,   0.,   3.,   0.,   0.,   0.],\n",
       "       [ 77.,  90., 144.,   0.,   3.,   0.,   0.,   0.],\n",
       "       [ 77.,  90.,  80.,   0.,   2.,   0.,   0.,   0.],\n",
       "       [ 77.,  90., 144.,   0.,   3.,   0.,   0.,   0.],\n",
       "       [ 77.,  90., 144.,   0.,   3.,   0.,   0.,   0.],\n",
       "       [ 77.,  90.,  80.,   0.,   2.,   0.,   0.,   0.],\n",
       "       [ 77.,  90.,  80.,   0.,   2.,   0.,   0.,   0.],\n",
       "       [ 77.,  90.,  80.,   0.,   2.,   0.,   0.,   0.],\n",
       "       [ 77.,  90., 144.,   0.,   3.,   0.,   0.,   0.],\n",
       "       [ 77.,  90., 144.,   0.,   3.,   0.,   0.,   0.],\n",
       "       [ 77.,  90., 144.,   0.,   3.,   0.,   4.,   0.],\n",
       "       [ 77.,  90., 144.,   0.,   3.,   0.,   0.,   0.],\n",
       "       [ 77.,  90.,  80.,   0.,   2.,   0.,   0.,   0.],\n",
       "       [ 77.,  90.,  80.,   0.,   2.,   0.,   0.,   0.],\n",
       "       [ 77.,  90.,  80.,   0.,   2.,   0.,   0.,   0.],\n",
       "       [ 77.,  90., 144.,   0.,   3.,   0.,   0.,   0.],\n",
       "       [ 77.,  90., 144.,   0.,   3.,   0.,   0.,   0.],\n",
       "       [ 77.,  90., 144.,   0.,   3.,   0.,   0.,   0.],\n",
       "       [ 77.,  90., 144.,   0.,   3.,   0.,   0.,   0.],\n",
       "       [ 77.,  90., 144.,   0.,   3.,   0.,   0.,   0.],\n",
       "       [ 77.,  90., 144.,   0.,   3.,   0.,   0.,   0.],\n",
       "       [ 77.,  90., 144.,   0.,   3.,   0.,   0.,   0.],\n",
       "       [ 77.,  90., 144.,   0.,   3.,   0.,   0.,   0.],\n",
       "       [ 77.,  90., 144.,   0.,   3.,   0.,   0.,   0.],\n",
       "       [ 77.,  90., 120.,   0.,   1.,   0.,   0.,   0.],\n",
       "       [ 77.,  90., 144.,   0.,   3.,   0.,   0.,   0.],\n",
       "       [ 77.,  90.,  80.,   0.,   2.,   0.,   0.,   0.],\n",
       "       [ 77.,  90., 108.,   0.,   1.,   0.,   0.,   0.],\n",
       "       [ 77.,  90., 120.,   0.,   1.,   0.,   0.,   0.],\n",
       "       [ 77.,  90., 144.,   0.,   3.,   0.,   0.,   0.],\n",
       "       [ 77.,  90., 144.,   0.,   3.,   0.,   0.,   0.],\n",
       "       [ 77.,  90.,  80.,   0.,   2.,   0.,   0.,   0.],\n",
       "       [ 77.,  90., 144.,   0.,   3.,   0.,   0.,   0.],\n",
       "       [ 77.,  90.,  80.,   0.,   2.,   0.,   0.,   0.],\n",
       "       [ 77.,  90., 144.,   0.,   3.,   0.,   0.,   0.],\n",
       "       [ 77.,  90.,  80.,   0.,   2.,   0.,   0.,   0.],\n",
       "       [ 77.,  90., 144.,   0.,   3.,   0.,   0.,   0.],\n",
       "       [ 77.,  90., 144.,   0.,   3.,   0.,   0.,   0.],\n",
       "       [ 77.,  90., 144.,   0.,   3.,   0.,   0.,   0.],\n",
       "       [ 77.,  90., 144.,   0.,   3.,   0.,   0.,   0.],\n",
       "       [ 77.,  90., 144.,   0.,   3.,   0.,   0.,   0.],\n",
       "       [ 77.,  90., 144.,   0.,   3.,   0.,   0.,   0.]])"
      ]
     },
     "execution_count": 103,
     "metadata": {},
     "output_type": "execute_result"
    }
   ],
   "source": [
    "# load the file containing the numpy array of the executables\n",
    "loaded_np_array = joblib.load(filename='exe_file_array.npy')\n",
    "loaded_np_array"
   ]
  },
  {
   "attachments": {},
   "cell_type": "markdown",
   "metadata": {},
   "source": [
    "Generate some random labels for the purpose of this notebook <br>\n",
    "Note, I'm not aware of any of the files uses her being malicious. <br>\n",
    "But because I wish to demonstrate supervise learning, I will add some random labels <br>"
   ]
  },
  {
   "cell_type": "code",
   "execution_count": 104,
   "metadata": {},
   "outputs": [
    {
     "data": {
      "text/plain": [
       "array([0, 1, 0, 1, 0, 1, 0, 1, 0, 0, 0, 1, 1, 1, 1, 0, 1, 1, 0, 0, 1, 1,\n",
       "       0, 0, 0, 1, 0, 1, 0, 0, 1, 0, 0, 1, 0, 1, 1, 1, 0, 0, 0, 0, 1, 0,\n",
       "       0, 1, 1, 0, 1, 0, 0, 1, 0, 0, 0, 0, 0, 1, 1, 1, 1])"
      ]
     },
     "execution_count": 104,
     "metadata": {},
     "output_type": "execute_result"
    }
   ],
   "source": [
    "# Generate some random labels/targets for a binary classification problem\n",
    "y = np.random.randint(low=0, high=2, size=X.shape[0])\n",
    "y"
   ]
  },
  {
   "cell_type": "code",
   "execution_count": 105,
   "metadata": {},
   "outputs": [
    {
     "data": {
      "text/plain": [
       "array([[0],\n",
       "       [1],\n",
       "       [0],\n",
       "       [1],\n",
       "       [0],\n",
       "       [1],\n",
       "       [0],\n",
       "       [1],\n",
       "       [0],\n",
       "       [0],\n",
       "       [0],\n",
       "       [1],\n",
       "       [1],\n",
       "       [1],\n",
       "       [1],\n",
       "       [0],\n",
       "       [1],\n",
       "       [1],\n",
       "       [0],\n",
       "       [0],\n",
       "       [1],\n",
       "       [1],\n",
       "       [0],\n",
       "       [0],\n",
       "       [0],\n",
       "       [1],\n",
       "       [0],\n",
       "       [1],\n",
       "       [0],\n",
       "       [0],\n",
       "       [1],\n",
       "       [0],\n",
       "       [0],\n",
       "       [1],\n",
       "       [0],\n",
       "       [1],\n",
       "       [1],\n",
       "       [1],\n",
       "       [0],\n",
       "       [0],\n",
       "       [0],\n",
       "       [0],\n",
       "       [1],\n",
       "       [0],\n",
       "       [0],\n",
       "       [1],\n",
       "       [1],\n",
       "       [0],\n",
       "       [1],\n",
       "       [0],\n",
       "       [0],\n",
       "       [1],\n",
       "       [0],\n",
       "       [0],\n",
       "       [0],\n",
       "       [0],\n",
       "       [0],\n",
       "       [1],\n",
       "       [1],\n",
       "       [1],\n",
       "       [1]])"
      ]
     },
     "execution_count": 105,
     "metadata": {},
     "output_type": "execute_result"
    }
   ],
   "source": [
    "# Remember, y needs to be reshaped as a new column to be able to stack horizontally\n",
    "# via a \n",
    "y.reshape(-1,1)"
   ]
  },
  {
   "cell_type": "code",
   "execution_count": 106,
   "metadata": {},
   "outputs": [
    {
     "data": {
      "text/plain": [
       "array([[ 77.,  90., 144.,   0.,   3.,   0.,   0.,   0.,   0.],\n",
       "       [ 77.,  90., 144.,   0.,   3.,   0.,   0.,   0.,   1.],\n",
       "       [ 77.,  90., 144.,   0.,   3.,   0.,   0.,   0.,   0.],\n",
       "       [ 77.,  90., 144.,   0.,   3.,   0.,   0.,   0.,   1.],\n",
       "       [ 77.,  90., 144.,   0.,   3.,   0.,   0.,   0.,   0.],\n",
       "       [ 77.,  90., 144.,   0.,   3.,   0.,   0.,   0.,   1.],\n",
       "       [ 77.,  90., 144.,   0.,   3.,   0.,   0.,   0.,   0.],\n",
       "       [ 77.,  90., 144.,   0.,   3.,   0.,   0.,   0.,   1.],\n",
       "       [ 77.,  90., 144.,   0.,   3.,   0.,   0.,   0.,   0.],\n",
       "       [ 77.,  90., 144.,   0.,   3.,   0.,   0.,   0.,   0.],\n",
       "       [ 77.,  90., 144.,   0.,   3.,   0.,   0.,   0.,   0.],\n",
       "       [ 77.,  90.,  80.,   0.,   2.,   0.,   0.,   0.,   1.],\n",
       "       [ 77.,  90., 144.,   0.,   3.,   0.,   0.,   0.,   1.],\n",
       "       [ 77.,  90., 144.,   0.,   3.,   0.,   0.,   0.,   1.],\n",
       "       [ 77.,  90., 144.,   0.,   3.,   0.,   0.,   0.,   1.],\n",
       "       [ 77.,  90., 144.,   0.,   3.,   0.,   0.,   0.,   0.],\n",
       "       [ 77.,  90., 144.,   0.,   3.,   0.,   0.,   0.,   1.],\n",
       "       [ 77.,  90.,  80.,   0.,   2.,   0.,   0.,   0.,   1.],\n",
       "       [ 77.,  90.,  96.,   0.,   1.,   0.,   0.,   0.,   0.],\n",
       "       [ 77.,  90., 144.,   0.,   3.,   0.,   0.,   0.,   0.],\n",
       "       [ 77.,  90., 144.,   0.,   3.,   0.,   0.,   0.,   1.],\n",
       "       [ 77.,  90.,  80.,   0.,   2.,   0.,   0.,   0.,   1.],\n",
       "       [ 77.,  90., 144.,   0.,   3.,   0.,   0.,   0.,   0.],\n",
       "       [ 77.,  90., 144.,   0.,   3.,   0.,   0.,   0.,   0.],\n",
       "       [ 77.,  90.,  80.,   0.,   2.,   0.,   0.,   0.,   0.],\n",
       "       [ 77.,  90.,  80.,   0.,   2.,   0.,   0.,   0.,   1.],\n",
       "       [ 77.,  90.,  80.,   0.,   2.,   0.,   0.,   0.,   0.],\n",
       "       [ 77.,  90., 144.,   0.,   3.,   0.,   0.,   0.,   1.],\n",
       "       [ 77.,  90., 144.,   0.,   3.,   0.,   0.,   0.,   0.],\n",
       "       [ 77.,  90., 144.,   0.,   3.,   0.,   4.,   0.,   0.],\n",
       "       [ 77.,  90., 144.,   0.,   3.,   0.,   0.,   0.,   1.],\n",
       "       [ 77.,  90.,  80.,   0.,   2.,   0.,   0.,   0.,   0.],\n",
       "       [ 77.,  90.,  80.,   0.,   2.,   0.,   0.,   0.,   0.],\n",
       "       [ 77.,  90.,  80.,   0.,   2.,   0.,   0.,   0.,   1.],\n",
       "       [ 77.,  90., 144.,   0.,   3.,   0.,   0.,   0.,   0.],\n",
       "       [ 77.,  90., 144.,   0.,   3.,   0.,   0.,   0.,   1.],\n",
       "       [ 77.,  90., 144.,   0.,   3.,   0.,   0.,   0.,   1.],\n",
       "       [ 77.,  90., 144.,   0.,   3.,   0.,   0.,   0.,   1.],\n",
       "       [ 77.,  90., 144.,   0.,   3.,   0.,   0.,   0.,   0.],\n",
       "       [ 77.,  90., 144.,   0.,   3.,   0.,   0.,   0.,   0.],\n",
       "       [ 77.,  90., 144.,   0.,   3.,   0.,   0.,   0.,   0.],\n",
       "       [ 77.,  90., 144.,   0.,   3.,   0.,   0.,   0.,   0.],\n",
       "       [ 77.,  90., 144.,   0.,   3.,   0.,   0.,   0.,   1.],\n",
       "       [ 77.,  90., 120.,   0.,   1.,   0.,   0.,   0.,   0.],\n",
       "       [ 77.,  90., 144.,   0.,   3.,   0.,   0.,   0.,   0.],\n",
       "       [ 77.,  90.,  80.,   0.,   2.,   0.,   0.,   0.,   1.],\n",
       "       [ 77.,  90., 108.,   0.,   1.,   0.,   0.,   0.,   1.],\n",
       "       [ 77.,  90., 120.,   0.,   1.,   0.,   0.,   0.,   0.],\n",
       "       [ 77.,  90., 144.,   0.,   3.,   0.,   0.,   0.,   1.],\n",
       "       [ 77.,  90., 144.,   0.,   3.,   0.,   0.,   0.,   0.],\n",
       "       [ 77.,  90.,  80.,   0.,   2.,   0.,   0.,   0.,   0.],\n",
       "       [ 77.,  90., 144.,   0.,   3.,   0.,   0.,   0.,   1.],\n",
       "       [ 77.,  90.,  80.,   0.,   2.,   0.,   0.,   0.,   0.],\n",
       "       [ 77.,  90., 144.,   0.,   3.,   0.,   0.,   0.,   0.],\n",
       "       [ 77.,  90.,  80.,   0.,   2.,   0.,   0.,   0.,   0.],\n",
       "       [ 77.,  90., 144.,   0.,   3.,   0.,   0.,   0.,   0.],\n",
       "       [ 77.,  90., 144.,   0.,   3.,   0.,   0.,   0.,   0.],\n",
       "       [ 77.,  90., 144.,   0.,   3.,   0.,   0.,   0.,   1.],\n",
       "       [ 77.,  90., 144.,   0.,   3.,   0.,   0.,   0.,   1.],\n",
       "       [ 77.,  90., 144.,   0.,   3.,   0.,   0.,   0.,   1.],\n",
       "       [ 77.,  90., 144.,   0.,   3.,   0.,   0.,   0.,   1.]])"
      ]
     },
     "execution_count": 106,
     "metadata": {},
     "output_type": "execute_result"
    }
   ],
   "source": [
    "# Stack the two to create a dataframe if needed\n",
    "np.hstack(tup=(X, y.reshape(-1, 1)))"
   ]
  },
  {
   "cell_type": "code",
   "execution_count": 107,
   "metadata": {},
   "outputs": [],
   "source": [
    "# With that in place, let's build a quick machine learning model to do supervised learning\n",
    "from sklearn.linear_model import LogisticRegression"
   ]
  },
  {
   "cell_type": "code",
   "execution_count": 108,
   "metadata": {},
   "outputs": [
    {
     "data": {
      "text/html": [
       "<style>#sk-container-id-2 {color: black;background-color: white;}#sk-container-id-2 pre{padding: 0;}#sk-container-id-2 div.sk-toggleable {background-color: white;}#sk-container-id-2 label.sk-toggleable__label {cursor: pointer;display: block;width: 100%;margin-bottom: 0;padding: 0.3em;box-sizing: border-box;text-align: center;}#sk-container-id-2 label.sk-toggleable__label-arrow:before {content: \"▸\";float: left;margin-right: 0.25em;color: #696969;}#sk-container-id-2 label.sk-toggleable__label-arrow:hover:before {color: black;}#sk-container-id-2 div.sk-estimator:hover label.sk-toggleable__label-arrow:before {color: black;}#sk-container-id-2 div.sk-toggleable__content {max-height: 0;max-width: 0;overflow: hidden;text-align: left;background-color: #f0f8ff;}#sk-container-id-2 div.sk-toggleable__content pre {margin: 0.2em;color: black;border-radius: 0.25em;background-color: #f0f8ff;}#sk-container-id-2 input.sk-toggleable__control:checked~div.sk-toggleable__content {max-height: 200px;max-width: 100%;overflow: auto;}#sk-container-id-2 input.sk-toggleable__control:checked~label.sk-toggleable__label-arrow:before {content: \"▾\";}#sk-container-id-2 div.sk-estimator input.sk-toggleable__control:checked~label.sk-toggleable__label {background-color: #d4ebff;}#sk-container-id-2 div.sk-label input.sk-toggleable__control:checked~label.sk-toggleable__label {background-color: #d4ebff;}#sk-container-id-2 input.sk-hidden--visually {border: 0;clip: rect(1px 1px 1px 1px);clip: rect(1px, 1px, 1px, 1px);height: 1px;margin: -1px;overflow: hidden;padding: 0;position: absolute;width: 1px;}#sk-container-id-2 div.sk-estimator {font-family: monospace;background-color: #f0f8ff;border: 1px dotted black;border-radius: 0.25em;box-sizing: border-box;margin-bottom: 0.5em;}#sk-container-id-2 div.sk-estimator:hover {background-color: #d4ebff;}#sk-container-id-2 div.sk-parallel-item::after {content: \"\";width: 100%;border-bottom: 1px solid gray;flex-grow: 1;}#sk-container-id-2 div.sk-label:hover label.sk-toggleable__label {background-color: #d4ebff;}#sk-container-id-2 div.sk-serial::before {content: \"\";position: absolute;border-left: 1px solid gray;box-sizing: border-box;top: 0;bottom: 0;left: 50%;z-index: 0;}#sk-container-id-2 div.sk-serial {display: flex;flex-direction: column;align-items: center;background-color: white;padding-right: 0.2em;padding-left: 0.2em;position: relative;}#sk-container-id-2 div.sk-item {position: relative;z-index: 1;}#sk-container-id-2 div.sk-parallel {display: flex;align-items: stretch;justify-content: center;background-color: white;position: relative;}#sk-container-id-2 div.sk-item::before, #sk-container-id-2 div.sk-parallel-item::before {content: \"\";position: absolute;border-left: 1px solid gray;box-sizing: border-box;top: 0;bottom: 0;left: 50%;z-index: -1;}#sk-container-id-2 div.sk-parallel-item {display: flex;flex-direction: column;z-index: 1;position: relative;background-color: white;}#sk-container-id-2 div.sk-parallel-item:first-child::after {align-self: flex-end;width: 50%;}#sk-container-id-2 div.sk-parallel-item:last-child::after {align-self: flex-start;width: 50%;}#sk-container-id-2 div.sk-parallel-item:only-child::after {width: 0;}#sk-container-id-2 div.sk-dashed-wrapped {border: 1px dashed gray;margin: 0 0.4em 0.5em 0.4em;box-sizing: border-box;padding-bottom: 0.4em;background-color: white;}#sk-container-id-2 div.sk-label label {font-family: monospace;font-weight: bold;display: inline-block;line-height: 1.2em;}#sk-container-id-2 div.sk-label-container {text-align: center;}#sk-container-id-2 div.sk-container {/* jupyter's `normalize.less` sets `[hidden] { display: none; }` but bootstrap.min.css set `[hidden] { display: none !important; }` so we also need the `!important` here to be able to override the default hidden behavior on the sphinx rendered scikit-learn.org. See: https://github.com/scikit-learn/scikit-learn/issues/21755 */display: inline-block !important;position: relative;}#sk-container-id-2 div.sk-text-repr-fallback {display: none;}</style><div id=\"sk-container-id-2\" class=\"sk-top-container\"><div class=\"sk-text-repr-fallback\"><pre>LogisticRegression()</pre><b>In a Jupyter environment, please rerun this cell to show the HTML representation or trust the notebook. <br />On GitHub, the HTML representation is unable to render, please try loading this page with nbviewer.org.</b></div><div class=\"sk-container\" hidden><div class=\"sk-item\"><div class=\"sk-estimator sk-toggleable\"><input class=\"sk-toggleable__control sk-hidden--visually\" id=\"sk-estimator-id-2\" type=\"checkbox\" checked><label for=\"sk-estimator-id-2\" class=\"sk-toggleable__label sk-toggleable__label-arrow\">LogisticRegression</label><div class=\"sk-toggleable__content\"><pre>LogisticRegression()</pre></div></div></div></div></div>"
      ],
      "text/plain": [
       "LogisticRegression()"
      ]
     },
     "execution_count": 108,
     "metadata": {},
     "output_type": "execute_result"
    }
   ],
   "source": [
    "# Setup a machine learning model using Logistic Regression\n",
    "lr = LogisticRegression().fit(X=X, y=y)\n",
    "lr"
   ]
  },
  {
   "cell_type": "code",
   "execution_count": 109,
   "metadata": {},
   "outputs": [],
   "source": [
    "# How did the model do on the training set?\n",
    "# Get some metrics\n",
    "from sklearn.metrics import confusion_matrix, classification_report, accuracy_score\n",
    "import matplotlib.pyplot as plt"
   ]
  },
  {
   "cell_type": "code",
   "execution_count": 110,
   "metadata": {},
   "outputs": [
    {
     "data": {
      "text/plain": [
       "0.5409836065573771"
      ]
     },
     "execution_count": 110,
     "metadata": {},
     "output_type": "execute_result"
    }
   ],
   "source": [
    "# Get the accuracy score on the training data\n",
    "accuracy_score(y_true=y, y_pred=lr.predict(X=X))"
   ]
  },
  {
   "cell_type": "code",
   "execution_count": 111,
   "metadata": {},
   "outputs": [],
   "source": [
    "# Prettify the confusion matrix\n",
    "import seaborn as sns"
   ]
  },
  {
   "cell_type": "code",
   "execution_count": 112,
   "metadata": {},
   "outputs": [
    {
     "data": {
      "image/png": "[encoded data removed]",
      "text/plain": [
       "<Figure size 640x480 with 2 Axes>"
      ]
     },
     "metadata": {},
     "output_type": "display_data"
    }
   ],
   "source": [
    "# Get the confusion matrix\n",
    "# Looking at the confusion matrix, This does not seem so bad\n",
    "# We learned about metrics in notebook:\n",
    "#   10. Beginning Supervise Learning - Machine Learning - Logistic Regression, Decision Trees and Metrics\n",
    "sns.heatmap(confusion_matrix(y_true=y, y_pred=lr.predict(X=X)), annot=True, fmt='d')\n",
    "plt.title('Confusion Matrix')\n",
    "plt.xlabel('Predicted')\n",
    "plt.ylabel('Actual')\n",
    "plt.show()\n"
   ]
  },
  {
   "cell_type": "code",
   "execution_count": 113,
   "metadata": {},
   "outputs": [
    {
     "name": "stdout",
     "output_type": "stream",
     "text": [
      "              precision    recall  f1-score   support\n",
      "\n",
      "           0       0.54      1.00      0.70        33\n",
      "           1       0.00      0.00      0.00        28\n",
      "\n",
      "    accuracy                           0.54        61\n",
      "   macro avg       0.27      0.50      0.35        61\n",
      "weighted avg       0.29      0.54      0.38        61\n",
      "\n"
     ]
    },
    {
     "name": "stderr",
     "output_type": "stream",
     "text": [
      "C:\\Users\\SecurityNik\\AppData\\Roaming\\Python\\Python310\\site-packages\\sklearn\\metrics\\_classification.py:1344: UndefinedMetricWarning: Precision and F-score are ill-defined and being set to 0.0 in labels with no predicted samples. Use `zero_division` parameter to control this behavior.\n",
      "  _warn_prf(average, modifier, msg_start, len(result))\n",
      "C:\\Users\\SecurityNik\\AppData\\Roaming\\Python\\Python310\\site-packages\\sklearn\\metrics\\_classification.py:1344: UndefinedMetricWarning: Precision and F-score are ill-defined and being set to 0.0 in labels with no predicted samples. Use `zero_division` parameter to control this behavior.\n",
      "  _warn_prf(average, modifier, msg_start, len(result))\n",
      "C:\\Users\\SecurityNik\\AppData\\Roaming\\Python\\Python310\\site-packages\\sklearn\\metrics\\_classification.py:1344: UndefinedMetricWarning: Precision and F-score are ill-defined and being set to 0.0 in labels with no predicted samples. Use `zero_division` parameter to control this behavior.\n",
      "  _warn_prf(average, modifier, msg_start, len(result))\n"
     ]
    }
   ],
   "source": [
    "# Print the classification report\n",
    "print(classification_report(y_true=y, y_pred=lr.predict(X=X)))"
   ]
  },
  {
   "cell_type": "code",
   "execution_count": null,
   "metadata": {},
   "outputs": [],
   "source": []
  },
  {
   "cell_type": "code",
   "execution_count": 114,
   "metadata": {},
   "outputs": [],
   "source": [
    "# Let's wrap this up by build a quick neural network\n",
    "import tensorflow as tf"
   ]
  },
  {
   "cell_type": "code",
   "execution_count": 115,
   "metadata": {},
   "outputs": [
    {
     "data": {
      "text/plain": [
       "<tf.Tensor: shape=(1, 1, 2, 1), dtype=float32, numpy=\n",
       "array([[[[73.04614   ],\n",
       "         [ 0.41949373]]]], dtype=float32)>"
      ]
     },
     "execution_count": 115,
     "metadata": {},
     "output_type": "execute_result"
    }
   ],
   "source": [
    "# Before getting to Conv2D, it is important that we understand, \n",
    "# the conv2d process is not responsible for converting the executable to an image.\n",
    "# The executable bytes goes through the convolution process.\n",
    "# We then visualize the operation just as we did above with the raw bytes\n",
    "\n",
    "sample = np.array(X[0], ndmin=2).reshape(1,1,2,4)\n",
    "sample\n",
    "\n",
    "\n",
    "# Create a conv2D layer in Tensorflow\n",
    "conv = tf.keras.layers.Conv2D(filters=1, kernel_size=(2,2), strides=(1,1), padding='same' )(sample)\n",
    "conv"
   ]
  },
  {
   "cell_type": "code",
   "execution_count": 116,
   "metadata": {},
   "outputs": [
    {
     "data": {
      "text/plain": [
       "<matplotlib.image.AxesImage at 0x19c3b38eec0>"
      ]
     },
     "execution_count": 116,
     "metadata": {},
     "output_type": "execute_result"
    },
    {
     "data": {
      "image/png": "[encoded data removed]",
      "text/plain": [
       "<Figure size 640x480 with 1 Axes>"
      ]
     },
     "metadata": {},
     "output_type": "display_data"
    }
   ],
   "source": [
    "# Plot an image of the first 8 bytes after the convolution operation\n",
    "plt.imshow(np.squeeze(conv, axis=0), cmap='Greys')"
   ]
  },
  {
   "cell_type": "code",
   "execution_count": 117,
   "metadata": {},
   "outputs": [],
   "source": [
    "# Once again, just to be clear above, the convolution process did not convert the executable to an image.\n",
    "# It is just that we produced an image from the result of the conv2D process"
   ]
  },
  {
   "cell_type": "code",
   "execution_count": 118,
   "metadata": {},
   "outputs": [
    {
     "name": "stdout",
     "output_type": "stream",
     "text": [
      "Model: \"exe_sequential\"\n",
      "_________________________________________________________________\n",
      " Layer (type)                Output Shape              Param #   \n",
      "=================================================================\n",
      " hidden_layer (Dense)        (None, 8)                 72        \n",
      "                                                                 \n",
      " dropout (Dropout)           (None, 8)                 0         \n",
      "                                                                 \n",
      " output_layer (Dense)        (None, 1)                 9         \n",
      "                                                                 \n",
      "=================================================================\n",
      "Total params: 81\n",
      "Trainable params: 81\n",
      "Non-trainable params: 0\n",
      "_________________________________________________________________\n"
     ]
    }
   ],
   "source": [
    "# Setup a neural network\n",
    "# Note because we already discussed convolution networks in notebooks:\n",
    "#   19 - Beginning Deep Learning - Convolution Networks - Tensorflow\n",
    "#   20 - Beginning Deep Learning - Convolution Networks - PyTorch\n",
    "# I'm not going to go further with it here.\n",
    "\n",
    "# However, I will built a simple neural network to make predictions on those executables\n",
    "model = tf.keras.Sequential(name='exe_sequential')\n",
    "\n",
    "# Setup the input layer\n",
    "model.add(tf.keras.layers.Input(shape=(X.shape[1],), name='exe_input_layer' ))\n",
    "\n",
    "# Add one dense layer\n",
    "model.add(tf.keras.layers.Dense(units=8, activation='relu', use_bias=True, name='hidden_layer'))\n",
    "\n",
    "# Add a dropout layer for regularization. Drop 20 percent of the neurons\n",
    "model.add(tf.keras.layers.Dropout(rate=0.2))\n",
    "\n",
    "# Add the final output layer\n",
    "model.add(tf.keras.layers.Dense(units=1, activation='sigmoid', name='output_layer'))\n",
    "\n",
    "model.summary()"
   ]
  },
  {
   "cell_type": "code",
   "execution_count": 119,
   "metadata": {},
   "outputs": [
    {
     "data": {
      "image/png": "[encoded data removed]",
      "text/plain": [
       "<IPython.core.display.Image object>"
      ]
     },
     "execution_count": 119,
     "metadata": {},
     "output_type": "execute_result"
    }
   ],
   "source": [
    "# Get a diagram of the model\n",
    "tf.keras.utils.plot_model(model=model, show_dtype=True, show_layer_activations=True, \\\n",
    "                          show_layer_names=True, show_shapes=True, show_trainable=True, dpi=125)"
   ]
  },
  {
   "cell_type": "code",
   "execution_count": 120,
   "metadata": {},
   "outputs": [],
   "source": [
    "# Compile the model\n",
    "model.compile(optimizer='adam', loss='binary_crossentropy', metrics=['accuracy'])"
   ]
  },
  {
   "cell_type": "code",
   "execution_count": 121,
   "metadata": {},
   "outputs": [
    {
     "name": "stdout",
     "output_type": "stream",
     "text": [
      "Epoch 1/10\n",
      "2/2 [==============================] - 2s 404ms/step - loss: 26.3065 - accuracy: 0.4583 - val_loss: 17.1918 - val_accuracy: 0.5385\n",
      "Epoch 2/10\n",
      "2/2 [==============================] - 0s 64ms/step - loss: 26.7671 - accuracy: 0.5000 - val_loss: 16.6396 - val_accuracy: 0.5385\n",
      "Epoch 3/10\n",
      "2/2 [==============================] - 0s 48ms/step - loss: 21.3196 - accuracy: 0.5000 - val_loss: 16.0590 - val_accuracy: 0.5385\n",
      "Epoch 4/10\n",
      "2/2 [==============================] - 0s 49ms/step - loss: 23.6498 - accuracy: 0.5000 - val_loss: 15.5313 - val_accuracy: 0.5385\n",
      "Epoch 5/10\n",
      "2/2 [==============================] - 0s 56ms/step - loss: 15.5089 - accuracy: 0.6042 - val_loss: 14.9991 - val_accuracy: 0.5385\n",
      "Epoch 6/10\n",
      "2/2 [==============================] - 0s 61ms/step - loss: 20.7655 - accuracy: 0.5000 - val_loss: 14.3247 - val_accuracy: 0.5385\n",
      "Epoch 7/10\n",
      "2/2 [==============================] - 0s 72ms/step - loss: 16.2207 - accuracy: 0.5833 - val_loss: 13.6184 - val_accuracy: 0.5385\n",
      "Epoch 8/10\n",
      "2/2 [==============================] - 0s 81ms/step - loss: 24.7111 - accuracy: 0.4375 - val_loss: 12.9076 - val_accuracy: 0.5385\n",
      "Epoch 9/10\n",
      "2/2 [==============================] - 0s 48ms/step - loss: 16.9891 - accuracy: 0.5625 - val_loss: 12.1694 - val_accuracy: 0.5385\n",
      "Epoch 10/10\n",
      "2/2 [==============================] - 0s 40ms/step - loss: 18.1651 - accuracy: 0.5208 - val_loss: 11.4054 - val_accuracy: 0.5385\n"
     ]
    }
   ],
   "source": [
    "# Fit the model\n",
    "history = model.fit(x=X, y=y, epochs=10, verbose=1, callbacks=None, validation_split=0.2, shuffle=True)"
   ]
  },
  {
   "cell_type": "code",
   "execution_count": 122,
   "metadata": {},
   "outputs": [
    {
     "data": {
      "text/plain": [
       "{'loss': [26.30647850036621,\n",
       "  26.767053604125977,\n",
       "  21.319639205932617,\n",
       "  23.649810791015625,\n",
       "  15.508915901184082,\n",
       "  20.765501022338867,\n",
       "  16.220685958862305,\n",
       "  24.711105346679688,\n",
       "  16.9891414642334,\n",
       "  18.165075302124023],\n",
       " 'accuracy': [0.4583333432674408,\n",
       "  0.5,\n",
       "  0.5,\n",
       "  0.5,\n",
       "  0.6041666865348816,\n",
       "  0.5,\n",
       "  0.5833333134651184,\n",
       "  0.4375,\n",
       "  0.5625,\n",
       "  0.5208333134651184],\n",
       " 'val_loss': [17.19179916381836,\n",
       "  16.63956642150879,\n",
       "  16.05898094177246,\n",
       "  15.531304359436035,\n",
       "  14.999149322509766,\n",
       "  14.32465934753418,\n",
       "  13.618375778198242,\n",
       "  12.907623291015625,\n",
       "  12.169377326965332,\n",
       "  11.40538501739502],\n",
       " 'val_accuracy': [0.5384615659713745,\n",
       "  0.5384615659713745,\n",
       "  0.5384615659713745,\n",
       "  0.5384615659713745,\n",
       "  0.5384615659713745,\n",
       "  0.5384615659713745,\n",
       "  0.5384615659713745,\n",
       "  0.5384615659713745,\n",
       "  0.5384615659713745,\n",
       "  0.5384615659713745]}"
      ]
     },
     "execution_count": 122,
     "metadata": {},
     "output_type": "execute_result"
    }
   ],
   "source": [
    "# What does the history callback look like?\n",
    "history.history"
   ]
  },
  {
   "cell_type": "code",
   "execution_count": null,
   "metadata": {},
   "outputs": [],
   "source": []
  },
  {
   "cell_type": "code",
   "execution_count": 123,
   "metadata": {},
   "outputs": [
    {
     "data": {
      "text/plain": [
       "<matplotlib.legend.Legend at 0x19c3b601e10>"
      ]
     },
     "execution_count": 123,
     "metadata": {},
     "output_type": "execute_result"
    },
    {
     "data": {
      "image/png": "[encoded data removed]",
      "text/plain": [
       "<Figure size 1200x600 with 2 Axes>"
      ]
     },
     "metadata": {},
     "output_type": "display_data"
    }
   ],
   "source": [
    "# Plot the loss and accuracy\n",
    "fig, (ax1, ax2) = plt.subplots(nrows=1, ncols=2, figsize=(12,6))\n",
    "ax1.plot(history.history['loss'], label='training loss')\n",
    "ax1.plot(history.history['val_loss'], label='val loss')\n",
    "ax1.legend()\n",
    "\n",
    "ax2.plot(history.history['accuracy'], label='training accuracy')\n",
    "ax2.plot(history.history['val_accuracy'], label='val accuracy')\n",
    "ax2.legend()"
   ]
  },
  {
   "cell_type": "code",
   "execution_count": null,
   "metadata": {},
   "outputs": [],
   "source": []
  },
  {
   "cell_type": "code",
   "execution_count": 124,
   "metadata": {},
   "outputs": [],
   "source": [
    "# Create deep learning model with PyTorch\n",
    "import torch\n",
    "import torchinfo"
   ]
  },
  {
   "cell_type": "code",
   "execution_count": 125,
   "metadata": {},
   "outputs": [],
   "source": [
    "# Setup a torch model using the Sequential Class\n",
    "torch_clf_model = torch.nn.Sequential(\n",
    "    torch.nn.Linear(in_features=X.shape[1], out_features=8),\n",
    "    torch.nn.ReLU(),\n",
    "    torch.nn.Dropout(p=0.2),\n",
    "    torch.nn.Linear(in_features=8, out_features=1),\n",
    "    torch.nn.Sigmoid()\n",
    ")"
   ]
  },
  {
   "cell_type": "code",
   "execution_count": 126,
   "metadata": {},
   "outputs": [
    {
     "data": {
      "text/plain": [
       "=================================================================\n",
       "Layer (type:depth-idx)                   Param #\n",
       "=================================================================\n",
       "Sequential                               --\n",
       "├─Linear: 1-1                            72\n",
       "├─ReLU: 1-2                              --\n",
       "├─Dropout: 1-3                           --\n",
       "├─Linear: 1-4                            9\n",
       "├─Sigmoid: 1-5                           --\n",
       "=================================================================\n",
       "Total params: 81\n",
       "Trainable params: 81\n",
       "Non-trainable params: 0\n",
       "================================================================="
      ]
     },
     "execution_count": 126,
     "metadata": {},
     "output_type": "execute_result"
    }
   ],
   "source": [
    "# Get the summary of the model\n",
    "torchinfo.summary(torch_clf_model)"
   ]
  },
  {
   "cell_type": "code",
   "execution_count": 127,
   "metadata": {},
   "outputs": [
    {
     "data": {
      "text/plain": [
       "(numpy.ndarray, numpy.ndarray)"
      ]
     },
     "execution_count": 127,
     "metadata": {},
     "output_type": "execute_result"
    }
   ],
   "source": [
    "# We need to change our data into a Torch Tensor\n",
    "# Currently it is in \n",
    "type(X), type(y)"
   ]
  },
  {
   "cell_type": "code",
   "execution_count": 128,
   "metadata": {},
   "outputs": [
    {
     "data": {
      "text/plain": [
       "(torch.Tensor, torch.Tensor)"
      ]
     },
     "execution_count": 128,
     "metadata": {},
     "output_type": "execute_result"
    }
   ],
   "source": [
    "# To use the data in pytorch we need to change it to a torch tensor. \n",
    "# Ensure the data types are all the same\n",
    "X = torch.tensor(data=X, dtype=torch.float32)\n",
    "\n",
    "# Notice the reshaping of y also\n",
    "y = torch.tensor(data=y.reshape(-1,1), dtype=torch.float32)\n",
    "\n",
    "# Validate the change\n",
    "type(X), type(y)"
   ]
  },
  {
   "cell_type": "code",
   "execution_count": 129,
   "metadata": {},
   "outputs": [],
   "source": [
    "# In the following notebooks:\n",
    "#   13. Beginning Deep Learning - Anomaly Detection with AutoEncoders, PyTroch\n",
    "#   15. Beginning Deep Learning, - Linear Regression, PyTorch\n",
    "# the training was all done outside of a function. Rather than rewriting the same code all the time\n",
    "# time to create a function\n",
    "def torch_training(model=None, epochs=10, learning_rate=0.01, x_train=X, y_train=y, x_test=X, y_test=y):\n",
    "    ''' Performs training of the model '''\n",
    "    # Create to lists to save the training and test loss respectively \n",
    "    training_loss, validation_loss = [], []\n",
    "\n",
    "    # Setup the loss function\n",
    "    clf_loss_fn = torch.nn.BCELoss()\n",
    "\n",
    "    # Setup the optimizer\n",
    "    clf_optimizer = torch.optim.Adam(params=model.parameters(), lr=learning_rate)\n",
    "    \n",
    "    for epoch in range(epochs):\n",
    "        # Clear the gradients\n",
    "        clf_optimizer.zero_grad()\n",
    "\n",
    "        # Train the model\n",
    "        model.train()\n",
    "\n",
    "        # Make predictions on the training data\n",
    "        train_preds = model(x_train)\n",
    "    \n",
    "        # Get the loss\n",
    "        train_loss = clf_loss_fn(train_preds, y_train)\n",
    "        training_loss.append(train_loss)\n",
    "\n",
    "        # Calculate the gradients\n",
    "        train_loss.backward()\n",
    "\n",
    "        # Upgrade the gradients\n",
    "        clf_optimizer.step()\n",
    "\n",
    "        # Evaluate the model at the same time\n",
    "        model.eval()\n",
    "        with torch.inference_mode():\n",
    "            val_preds = model(X)\n",
    "\n",
    "            # Calculate the loss on the validation data\n",
    "            val_loss = clf_loss_fn(val_preds, y_test)\n",
    "            validation_loss.append(val_loss)\n",
    "\n",
    "        if epoch %10 == 0:\n",
    "            print(f'Epoch: {epoch} \\t training loss: {train_loss} \\t validation loss {val_loss}')\n",
    "    \n",
    "    return model, training_loss, validation_loss"
   ]
  },
  {
   "cell_type": "code",
   "execution_count": 130,
   "metadata": {},
   "outputs": [
    {
     "name": "stdout",
     "output_type": "stream",
     "text": [
      "Epoch: 0 \t training loss: 10.293257713317871 \t validation loss 8.576501846313477\n",
      "Epoch: 10 \t training loss: 12.118088722229004 \t validation loss 2.499680757522583\n",
      "Epoch: 20 \t training loss: 1.7484749555587769 \t validation loss 0.8840962648391724\n",
      "Epoch: 30 \t training loss: 0.9213913083076477 \t validation loss 0.6988810300827026\n",
      "Epoch: 40 \t training loss: 0.6909291744232178 \t validation loss 0.704102635383606\n",
      "Epoch: 50 \t training loss: 0.7156347632408142 \t validation loss 0.6958518624305725\n",
      "Epoch: 60 \t training loss: 0.71307373046875 \t validation loss 0.6930334568023682\n",
      "Epoch: 70 \t training loss: 0.6858772039413452 \t validation loss 0.6903567314147949\n",
      "Epoch: 80 \t training loss: 0.6857439279556274 \t validation loss 0.6893384456634521\n",
      "Epoch: 90 \t training loss: 0.686129093170166 \t validation loss 0.6888721585273743\n",
      "Epoch: 100 \t training loss: 0.6893190741539001 \t validation loss 0.6876587867736816\n",
      "Epoch: 110 \t training loss: 0.683178186416626 \t validation loss 0.6875321865081787\n",
      "Epoch: 120 \t training loss: 0.6862847208976746 \t validation loss 0.6866200566291809\n",
      "Epoch: 130 \t training loss: 0.6893696188926697 \t validation loss 0.6859958171844482\n",
      "Epoch: 140 \t training loss: 0.6844573020935059 \t validation loss 0.6857898831367493\n",
      "Epoch: 150 \t training loss: 0.6969282031059265 \t validation loss 0.6858851909637451\n",
      "Epoch: 160 \t training loss: 0.6846086978912354 \t validation loss 0.6854997873306274\n",
      "Epoch: 170 \t training loss: 0.6821087598800659 \t validation loss 0.6852083802223206\n",
      "Epoch: 180 \t training loss: 0.6845069527626038 \t validation loss 0.6850102543830872\n",
      "Epoch: 190 \t training loss: 0.6891422867774963 \t validation loss 0.6846763491630554\n",
      "Epoch: 200 \t training loss: 0.6894214153289795 \t validation loss 0.684844970703125\n",
      "Epoch: 210 \t training loss: 0.6800282001495361 \t validation loss 0.6843183040618896\n",
      "Epoch: 220 \t training loss: 0.6889277100563049 \t validation loss 0.6837623715400696\n",
      "Epoch: 230 \t training loss: 0.6801214218139648 \t validation loss 0.6835953593254089\n",
      "Epoch: 240 \t training loss: 0.6820688247680664 \t validation loss 0.6835474967956543\n",
      "Epoch: 250 \t training loss: 0.6864203810691833 \t validation loss 0.6830422878265381\n",
      "Epoch: 260 \t training loss: 0.6799276471138 \t validation loss 0.6829612851142883\n",
      "Epoch: 270 \t training loss: 0.6766575574874878 \t validation loss 0.6826484799385071\n",
      "Epoch: 280 \t training loss: 0.6800879836082458 \t validation loss 0.6827309131622314\n",
      "Epoch: 290 \t training loss: 0.6799377799034119 \t validation loss 0.6823678612709045\n"
     ]
    }
   ],
   "source": [
    "# Call the function with the associated parameters\n",
    "#(model, train_loss, val_loss) = torch_training(model=torch_clf_model, epochs=300, learning_rate=0.01)\n",
    "torch_clf_model = torch_training(model=torch_clf_model, epochs=300, learning_rate=0.01)"
   ]
  },
  {
   "cell_type": "code",
   "execution_count": 131,
   "metadata": {},
   "outputs": [
    {
     "data": {
      "image/png": "[encoded data removed]",
      "text/plain": [
       "<Figure size 640x480 with 1 Axes>"
      ]
     },
     "metadata": {},
     "output_type": "display_data"
    }
   ],
   "source": [
    "# Plotting the training loss values\n",
    "plt.title(f'Training vs Validation Loss after epochs ')\n",
    "\n",
    "# Trying to plot on the \"training_loss\" by itself will not work\n",
    "# Matplotlib will more than likely throw an error\n",
    "# Hence we needed to do \"torch.tensor(training_loss).detach().numpy()\"\n",
    "plt.plot(torch.tensor(torch_clf_model[1]).detach().numpy(), lw=3, label='train_loss')\n",
    "plt.plot(torch.tensor(torch_clf_model[2]).detach().numpy(), lw=3, label='val_loss')\n",
    "plt.xlabel('Epochs')\n",
    "plt.ylabel('Loss')\n",
    "plt.legend()\n",
    "plt.show()"
   ]
  },
  {
   "cell_type": "code",
   "execution_count": 132,
   "metadata": {},
   "outputs": [
    {
     "data": {
      "text/plain": [
       "tensor([[0.4790],\n",
       "        [0.4790],\n",
       "        [0.4790],\n",
       "        [0.4790],\n",
       "        [0.4790],\n",
       "        [0.4790],\n",
       "        [0.4790],\n",
       "        [0.4790],\n",
       "        [0.4790],\n",
       "        [0.4790],\n",
       "        [0.4790],\n",
       "        [0.4406],\n",
       "        [0.4790],\n",
       "        [0.4790],\n",
       "        [0.4790],\n",
       "        [0.4790],\n",
       "        [0.4790],\n",
       "        [0.4406],\n",
       "        [0.4416],\n",
       "        [0.4790],\n",
       "        [0.4790],\n",
       "        [0.4406],\n",
       "        [0.4790],\n",
       "        [0.4790],\n",
       "        [0.4406],\n",
       "        [0.4406],\n",
       "        [0.4406],\n",
       "        [0.4790],\n",
       "        [0.4790],\n",
       "        [0.2469],\n",
       "        [0.4790],\n",
       "        [0.4406],\n",
       "        [0.4406],\n",
       "        [0.4406],\n",
       "        [0.4790],\n",
       "        [0.4790],\n",
       "        [0.4790],\n",
       "        [0.4790],\n",
       "        [0.4790],\n",
       "        [0.4790],\n",
       "        [0.4790],\n",
       "        [0.4790],\n",
       "        [0.4790],\n",
       "        [0.4427],\n",
       "        [0.4790],\n",
       "        [0.4406],\n",
       "        [0.4422],\n",
       "        [0.4427],\n",
       "        [0.4790],\n",
       "        [0.4790],\n",
       "        [0.4406],\n",
       "        [0.4790],\n",
       "        [0.4406],\n",
       "        [0.4790],\n",
       "        [0.4406],\n",
       "        [0.4790],\n",
       "        [0.4790],\n",
       "        [0.4790],\n",
       "        [0.4790],\n",
       "        [0.4790],\n",
       "        [0.4790]])"
      ]
     },
     "execution_count": 132,
     "metadata": {},
     "output_type": "execute_result"
    }
   ],
   "source": [
    "# Make predictions on the test set\n",
    "# We see the values are continuous\n",
    "with torch.inference_mode():\n",
    "    test_preds = torch_clf_model[0](X)\n",
    "\n",
    "test_preds"
   ]
  },
  {
   "cell_type": "code",
   "execution_count": 133,
   "metadata": {},
   "outputs": [
    {
     "data": {
      "text/plain": [
       "0.5409836065573771"
      ]
     },
     "execution_count": 133,
     "metadata": {},
     "output_type": "execute_result"
    }
   ],
   "source": [
    "# Notice the rounding of the predictions\n",
    "# Above we got the probabilities. Can't use the probabilities here\n",
    "accuracy_score(y_true=y, y_pred=np.round(test_preds))"
   ]
  },
  {
   "cell_type": "code",
   "execution_count": 134,
   "metadata": {},
   "outputs": [
    {
     "data": {
      "image/png": "[encoded data removed]",
      "text/plain": [
       "<Figure size 640x480 with 2 Axes>"
      ]
     },
     "metadata": {},
     "output_type": "display_data"
    }
   ],
   "source": [
    "# Looking at the confusion matrix, This does not seem so bad\n",
    "# We learned about metrics in notebook:\n",
    "#   10. Beginning Supervise Learning - Machine Learning - Logistic Regression, Decision Trees and Metrics\n",
    "sns.heatmap(confusion_matrix(y_true=y, y_pred=np.round(test_preds)), annot=True, fmt='d')\n",
    "plt.title('Confusion Matrix')\n",
    "plt.xlabel('Predicted')\n",
    "plt.ylabel('Actual')\n",
    "plt.show()"
   ]
  },
  {
   "cell_type": "code",
   "execution_count": 135,
   "metadata": {},
   "outputs": [
    {
     "name": "stdout",
     "output_type": "stream",
     "text": [
      "              precision    recall  f1-score   support\n",
      "\n",
      "         0.0       0.54      1.00      0.70        33\n",
      "         1.0       0.00      0.00      0.00        28\n",
      "\n",
      "    accuracy                           0.54        61\n",
      "   macro avg       0.27      0.50      0.35        61\n",
      "weighted avg       0.29      0.54      0.38        61\n",
      "\n"
     ]
    },
    {
     "name": "stderr",
     "output_type": "stream",
     "text": [
      "C:\\Users\\SecurityNik\\AppData\\Roaming\\Python\\Python310\\site-packages\\sklearn\\metrics\\_classification.py:1344: UndefinedMetricWarning: Precision and F-score are ill-defined and being set to 0.0 in labels with no predicted samples. Use `zero_division` parameter to control this behavior.\n",
      "  _warn_prf(average, modifier, msg_start, len(result))\n",
      "C:\\Users\\SecurityNik\\AppData\\Roaming\\Python\\Python310\\site-packages\\sklearn\\metrics\\_classification.py:1344: UndefinedMetricWarning: Precision and F-score are ill-defined and being set to 0.0 in labels with no predicted samples. Use `zero_division` parameter to control this behavior.\n",
      "  _warn_prf(average, modifier, msg_start, len(result))\n",
      "C:\\Users\\SecurityNik\\AppData\\Roaming\\Python\\Python310\\site-packages\\sklearn\\metrics\\_classification.py:1344: UndefinedMetricWarning: Precision and F-score are ill-defined and being set to 0.0 in labels with no predicted samples. Use `zero_division` parameter to control this behavior.\n",
      "  _warn_prf(average, modifier, msg_start, len(result))\n"
     ]
    }
   ],
   "source": [
    "# Review the classification report\n",
    "print(classification_report(y_true=y, y_pred=np.round(test_preds)))"
   ]
  },
  {
   "cell_type": "code",
   "execution_count": 136,
   "metadata": {},
   "outputs": [],
   "source": [
    "# Well that's it!"
   ]
  }
 ],
 "metadata": {
  "kernelspec": {
   "display_name": "main",
   "language": "python",
   "name": "python3"
  },
  "language_info": {
   "codemirror_mode": {
    "name": "ipython",
    "version": 3
   },
   "file_extension": ".py",
   "mimetype": "text/x-python",
   "name": "python",
   "nbconvert_exporter": "python",
   "pygments_lexer": "ipython3",
   "version": "3.10.11"
  },
  "orig_nbformat": 4
 },
 "nbformat": 4,
 "nbformat_minor": 2
}
