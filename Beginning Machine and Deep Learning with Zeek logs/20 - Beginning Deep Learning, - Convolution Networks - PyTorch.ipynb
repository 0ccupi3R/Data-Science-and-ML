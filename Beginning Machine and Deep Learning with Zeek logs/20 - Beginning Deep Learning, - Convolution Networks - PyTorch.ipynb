{
 "cells": [
  {
   "attachments": {},
   "cell_type": "markdown",
   "metadata": {},
   "source": [
    "Author: Nik Alleyne <br>\n",
    "Author Blog: **https://www.securitynik.com** <br>\n",
    "Author GitHub: **github.com/securitynik** <br>\n",
    "\n",
    "Author Books: [  <br>\n",
    "\n",
    "                \"https://www.amazon.ca/Learning-Practicing-Leveraging-Practical-Detection/dp/1731254458/\", \n",
    "                \n",
    "                \"https://www.amazon.ca/Learning-Practicing-Mastering-Network-Forensics/dp/1775383024/\" \n",
    "            ] "
   ]
  },
  {
   "cell_type": "code",
   "execution_count": null,
   "metadata": {},
   "outputs": [],
   "source": []
  },
  {
   "attachments": {},
   "cell_type": "markdown",
   "metadata": {},
   "source": [
    "### Why this series?\n",
    "When teaching the SANS SEC595: Applied Data Science and Machine Learning for Cybersecurity Professionals \n",
    "**https://www.sans.org/cyber-security-courses/applied-data-science-machine-learning/** I am always asked,\n",
    "\"Will you be sharing your demo notebooks?\" or \"Can we get a copy of your demo notebooks?\" or ... well you get the point.\n",
    "My answer is always no. Not that I do not want to share, (sharing is caring :-D) , but the demo notebooks \n",
    "by themselves, would not make sense or add real value. Hence, this series! \n",
    "\n",
    "This is my supplemental work, similar to what I would do in the demos but with a lot more details and references.\n"
   ]
  },
  {
   "attachments": {},
   "cell_type": "markdown",
   "metadata": {},
   "source": [
    "## 21. Beginning Deep Learning - Convolution Networks, PyTorch.ipynb"
   ]
  },
  {
   "attachments": {},
   "cell_type": "markdown",
   "metadata": {},
   "source": [
    "### The series includes the following: <br>\n",
    "01 - Beginning Numpy <br>\n",
    "02 - Beginning Tensorflow  <br>\n",
    "03 - Beginning PyTorch <br>\n",
    "04 - Beginning Pandas <br>\n",
    "05 - Beginning Matplotlib <br>\n",
    "06 - Beginning Data Scaling <br>\n",
    "07 - Beginning Principal Component Analysis (PCA) <br>\n",
    "08 - Beginning Machine Learning Anomaly Detection - Isolation Forest and Local Outlier Factor <br>\n",
    "09 - Beginning Unsupervised Machine Learning - Clustering - K-means and DBSCAN <br>\n",
    "10 - Beginning Supervise Learning - Machine Learning - Logistic Regression, Decision Trees and Metrics <br>\n",
    "11 - Beginning Linear Regression - Machine Learning <br>\n",
    "12 - Beginning Deep Learning - Anomaly Detection with AutoEncoders, Tensorflow <br>\n",
    "13 - Beginning Deep Learning - Anomaly Detection with AutoEncoders, PyTroch <br>\n",
    "14 - Beginning Deep Learning - Linear Regression, Tensorflow <br>\n",
    "15 - Beginning Deep Learning - Linear Regression, PyTorch <br>\n",
    "16 - Beginning Deep Learning - Classification, Tensorflow <br>\n",
    "17 - Beginning Deep Learning - Classification, Pytorch <br>\n",
    "18 - Beginning Deep Learning - Classification - regression - MIMO - Functional API Tensorflow <br> \n",
    "19 - Beginning Deep Learning - Convolution Networks - Tensorflow <br>\n",
    "20 - Beginning Deep Learning - Convolution Networks - PyTorch <br>\n",
    "21 - Beginning Regularization - Early Stopping, Dropout, L2 (Ridge), L1 (Lasso) <br>\n",
    "22 - Beginning Model TFServing <br>\n",
    "\n",
    "But conn.log is not the only log file within Zeek. Let's build some models for DNS and HTTP logs. <br>\n",
    "I choose unsupervised, because there are no labels coming with these data. <br>\n",
    "\n",
    "23 - Continuing Anomaly Learning - Zeek DNS Log - Machine Learning <br>\n",
    "24 - Continuing Unsupervised Learning - Zeek HTTP Log - Machine Learning <br>\n",
    "\n",
    "This was a specific ask by someone in one of my class. <br>\n",
    "25 - Beginning - Reading Executables and Building a Neural Network to make predictions on suspicious vs suspicious  <br><br>\n",
    "\n",
    "With 25 notebooks in this series, it is quite possible there are things I could have or should have done differently.  <br>\n",
    "If you find any thing, you think fits those criteria, drop me a line. <br>\n",
    "\n",
    "If you find this series beneficial, I would greatly appreciate your feedback.\n"
   ]
  },
  {
   "cell_type": "code",
   "execution_count": 1,
   "metadata": {},
   "outputs": [],
   "source": [
    "# import some libraries\n",
    "import pandas as pd\n",
    "import numpy as np\n",
    "import matplotlib.pyplot as plt"
   ]
  },
  {
   "cell_type": "code",
   "execution_count": 2,
   "metadata": {},
   "outputs": [
    {
     "data": {
      "text/html": [
       "<div>\n",
       "<style scoped>\n",
       "    .dataframe tbody tr th:only-of-type {\n",
       "        vertical-align: middle;\n",
       "    }\n",
       "\n",
       "    .dataframe tbody tr th {\n",
       "        vertical-align: top;\n",
       "    }\n",
       "\n",
       "    .dataframe thead th {\n",
       "        text-align: right;\n",
       "    }\n",
       "</style>\n",
       "<table border=\"1\" class=\"dataframe\">\n",
       "  <thead>\n",
       "    <tr style=\"text-align: right;\">\n",
       "      <th></th>\n",
       "      <th>id.resp_p</th>\n",
       "      <th>duration</th>\n",
       "      <th>orig_bytes</th>\n",
       "      <th>resp_bytes</th>\n",
       "      <th>orig_pkts</th>\n",
       "      <th>orig_ip_bytes</th>\n",
       "      <th>resp_pkts</th>\n",
       "      <th>resp_ip_bytes</th>\n",
       "      <th>label</th>\n",
       "    </tr>\n",
       "  </thead>\n",
       "  <tbody>\n",
       "    <tr>\n",
       "      <th>1</th>\n",
       "      <td>48798</td>\n",
       "      <td>0.000000</td>\n",
       "      <td>0</td>\n",
       "      <td>0</td>\n",
       "      <td>0</td>\n",
       "      <td>0</td>\n",
       "      <td>0</td>\n",
       "      <td>0</td>\n",
       "      <td>0</td>\n",
       "    </tr>\n",
       "    <tr>\n",
       "      <th>2</th>\n",
       "      <td>48804</td>\n",
       "      <td>0.000000</td>\n",
       "      <td>0</td>\n",
       "      <td>0</td>\n",
       "      <td>0</td>\n",
       "      <td>0</td>\n",
       "      <td>0</td>\n",
       "      <td>0</td>\n",
       "      <td>0</td>\n",
       "    </tr>\n",
       "    <tr>\n",
       "      <th>4</th>\n",
       "      <td>27761</td>\n",
       "      <td>0.000000</td>\n",
       "      <td>0</td>\n",
       "      <td>0</td>\n",
       "      <td>0</td>\n",
       "      <td>0</td>\n",
       "      <td>0</td>\n",
       "      <td>0</td>\n",
       "      <td>0</td>\n",
       "    </tr>\n",
       "    <tr>\n",
       "      <th>5</th>\n",
       "      <td>8888</td>\n",
       "      <td>0.053276</td>\n",
       "      <td>208</td>\n",
       "      <td>976</td>\n",
       "      <td>6</td>\n",
       "      <td>528</td>\n",
       "      <td>6</td>\n",
       "      <td>1296</td>\n",
       "      <td>0</td>\n",
       "    </tr>\n",
       "    <tr>\n",
       "      <th>6</th>\n",
       "      <td>8888</td>\n",
       "      <td>0.383646</td>\n",
       "      <td>227</td>\n",
       "      <td>692369</td>\n",
       "      <td>202</td>\n",
       "      <td>10739</td>\n",
       "      <td>117</td>\n",
       "      <td>240893</td>\n",
       "      <td>0</td>\n",
       "    </tr>\n",
       "    <tr>\n",
       "      <th>...</th>\n",
       "      <td>...</td>\n",
       "      <td>...</td>\n",
       "      <td>...</td>\n",
       "      <td>...</td>\n",
       "      <td>...</td>\n",
       "      <td>...</td>\n",
       "      <td>...</td>\n",
       "      <td>...</td>\n",
       "      <td>...</td>\n",
       "    </tr>\n",
       "    <tr>\n",
       "      <th>4430183</th>\n",
       "      <td>9200</td>\n",
       "      <td>0.000051</td>\n",
       "      <td>0</td>\n",
       "      <td>0</td>\n",
       "      <td>1</td>\n",
       "      <td>52</td>\n",
       "      <td>1</td>\n",
       "      <td>40</td>\n",
       "      <td>0</td>\n",
       "    </tr>\n",
       "    <tr>\n",
       "      <th>4430184</th>\n",
       "      <td>9200</td>\n",
       "      <td>0.000023</td>\n",
       "      <td>0</td>\n",
       "      <td>0</td>\n",
       "      <td>0</td>\n",
       "      <td>0</td>\n",
       "      <td>1</td>\n",
       "      <td>40</td>\n",
       "      <td>0</td>\n",
       "    </tr>\n",
       "    <tr>\n",
       "      <th>4430185</th>\n",
       "      <td>9200</td>\n",
       "      <td>0.000005</td>\n",
       "      <td>0</td>\n",
       "      <td>0</td>\n",
       "      <td>0</td>\n",
       "      <td>0</td>\n",
       "      <td>1</td>\n",
       "      <td>40</td>\n",
       "      <td>0</td>\n",
       "    </tr>\n",
       "    <tr>\n",
       "      <th>4430186</th>\n",
       "      <td>9200</td>\n",
       "      <td>0.000005</td>\n",
       "      <td>0</td>\n",
       "      <td>0</td>\n",
       "      <td>0</td>\n",
       "      <td>0</td>\n",
       "      <td>1</td>\n",
       "      <td>40</td>\n",
       "      <td>0</td>\n",
       "    </tr>\n",
       "    <tr>\n",
       "      <th>4430187</th>\n",
       "      <td>9200</td>\n",
       "      <td>0.000005</td>\n",
       "      <td>0</td>\n",
       "      <td>0</td>\n",
       "      <td>0</td>\n",
       "      <td>0</td>\n",
       "      <td>1</td>\n",
       "      <td>40</td>\n",
       "      <td>0</td>\n",
       "    </tr>\n",
       "  </tbody>\n",
       "</table>\n",
       "<p>4236125 rows × 9 columns</p>\n",
       "</div>"
      ],
      "text/plain": [
       "         id.resp_p  duration  orig_bytes  resp_bytes  orig_pkts   \n",
       "1            48798  0.000000           0           0          0  \\\n",
       "2            48804  0.000000           0           0          0   \n",
       "4            27761  0.000000           0           0          0   \n",
       "5             8888  0.053276         208         976          6   \n",
       "6             8888  0.383646         227      692369        202   \n",
       "...            ...       ...         ...         ...        ...   \n",
       "4430183       9200  0.000051           0           0          1   \n",
       "4430184       9200  0.000023           0           0          0   \n",
       "4430185       9200  0.000005           0           0          0   \n",
       "4430186       9200  0.000005           0           0          0   \n",
       "4430187       9200  0.000005           0           0          0   \n",
       "\n",
       "         orig_ip_bytes  resp_pkts  resp_ip_bytes  label  \n",
       "1                    0          0              0      0  \n",
       "2                    0          0              0      0  \n",
       "4                    0          0              0      0  \n",
       "5                  528          6           1296      0  \n",
       "6                10739        117         240893      0  \n",
       "...                ...        ...            ...    ...  \n",
       "4430183             52          1             40      0  \n",
       "4430184              0          1             40      0  \n",
       "4430185              0          1             40      0  \n",
       "4430186              0          1             40      0  \n",
       "4430187              0          1             40      0  \n",
       "\n",
       "[4236125 rows x 9 columns]"
      ]
     },
     "execution_count": 2,
     "metadata": {},
     "output_type": "execute_result"
    }
   ],
   "source": [
    "# In the notebooks on Pandas, Matplotlib and Scaling\n",
    "#   04 - Beginning Pandas <br>\n",
    "#   05 - Beginning Matplotlib <br>\n",
    "#   06 - Beginning Data Scaling <br>\n",
    "# we loaded our dataset such as\n",
    "df_conn = pd.read_csv(r'df_conn_with_labels.csv', index_col=0)\n",
    "df_conn"
   ]
  },
  {
   "attachments": {},
   "cell_type": "markdown",
   "metadata": {},
   "source": [
    "This file represents Zeek (formerly Bro) connection log - conn.log`. \n",
    "Zeek is a framework used for Network Security Monitoring. \n",
    "This entire series is based on using Zeek's data. \n",
    "The majority of the notebooks use the conn.log\n",
    "You can learn more about Zeek here:\n",
    "   \n",
    "    https://zeek.org/\n",
    "\n",
    "Alternatively, come hang out with us in the:\n",
    "SANS SEC595: Applied Data Science and Machine Learning for Cybersecurity Professionals\n",
    "\n",
    "        https://www.sans.org/cyber-security-courses/applied-data-science-machine-learning/ OR\n",
    "\n",
    "SEC503 SEC503: Network Monitoring and Threat Detection In-Depth\n",
    "\n",
    "        https://www.sans.org/cyber-security-courses/network-monitoring-threat-detection/\n",
    "\n",
    "\n",
    "Here are also some blog posts on using Zeek for security monitoring\n",
    "Installing Zeek: \n",
    "\n",
    "        https://www.securitynik.com/2020/06/installing-zeek-314-on-ubuntu-2004.html\n",
    "\n",
    "Detecting PowerShell Empire Usage: \n",
    "\n",
    "        https://www.securitynik.com/2022/02/powershell-empire-detection-with-zeek.html\n",
    "\n",
    "Detecting Log4J Vulnerability Exploitation: \n",
    "\n",
    "        https://www.securitynik.com/2021/12/continuing-log4shell-zeek-detection.html"
   ]
  },
  {
   "cell_type": "code",
   "execution_count": 3,
   "metadata": {},
   "outputs": [
    {
     "data": {
      "text/html": [
       "<div>\n",
       "<style scoped>\n",
       "    .dataframe tbody tr th:only-of-type {\n",
       "        vertical-align: middle;\n",
       "    }\n",
       "\n",
       "    .dataframe tbody tr th {\n",
       "        vertical-align: top;\n",
       "    }\n",
       "\n",
       "    .dataframe thead th {\n",
       "        text-align: right;\n",
       "    }\n",
       "</style>\n",
       "<table border=\"1\" class=\"dataframe\">\n",
       "  <thead>\n",
       "    <tr style=\"text-align: right;\">\n",
       "      <th></th>\n",
       "      <th>duration</th>\n",
       "      <th>orig_bytes</th>\n",
       "      <th>resp_bytes</th>\n",
       "      <th>orig_pkts</th>\n",
       "      <th>orig_ip_bytes</th>\n",
       "      <th>resp_pkts</th>\n",
       "      <th>resp_ip_bytes</th>\n",
       "      <th>label</th>\n",
       "    </tr>\n",
       "  </thead>\n",
       "  <tbody>\n",
       "    <tr>\n",
       "      <th>1</th>\n",
       "      <td>0.000000</td>\n",
       "      <td>0</td>\n",
       "      <td>0</td>\n",
       "      <td>0</td>\n",
       "      <td>0</td>\n",
       "      <td>0</td>\n",
       "      <td>0</td>\n",
       "      <td>0</td>\n",
       "    </tr>\n",
       "    <tr>\n",
       "      <th>2</th>\n",
       "      <td>0.000000</td>\n",
       "      <td>0</td>\n",
       "      <td>0</td>\n",
       "      <td>0</td>\n",
       "      <td>0</td>\n",
       "      <td>0</td>\n",
       "      <td>0</td>\n",
       "      <td>0</td>\n",
       "    </tr>\n",
       "    <tr>\n",
       "      <th>4</th>\n",
       "      <td>0.000000</td>\n",
       "      <td>0</td>\n",
       "      <td>0</td>\n",
       "      <td>0</td>\n",
       "      <td>0</td>\n",
       "      <td>0</td>\n",
       "      <td>0</td>\n",
       "      <td>0</td>\n",
       "    </tr>\n",
       "    <tr>\n",
       "      <th>5</th>\n",
       "      <td>0.053276</td>\n",
       "      <td>208</td>\n",
       "      <td>976</td>\n",
       "      <td>6</td>\n",
       "      <td>528</td>\n",
       "      <td>6</td>\n",
       "      <td>1296</td>\n",
       "      <td>0</td>\n",
       "    </tr>\n",
       "    <tr>\n",
       "      <th>6</th>\n",
       "      <td>0.383646</td>\n",
       "      <td>227</td>\n",
       "      <td>692369</td>\n",
       "      <td>202</td>\n",
       "      <td>10739</td>\n",
       "      <td>117</td>\n",
       "      <td>240893</td>\n",
       "      <td>0</td>\n",
       "    </tr>\n",
       "    <tr>\n",
       "      <th>...</th>\n",
       "      <td>...</td>\n",
       "      <td>...</td>\n",
       "      <td>...</td>\n",
       "      <td>...</td>\n",
       "      <td>...</td>\n",
       "      <td>...</td>\n",
       "      <td>...</td>\n",
       "      <td>...</td>\n",
       "    </tr>\n",
       "    <tr>\n",
       "      <th>4430183</th>\n",
       "      <td>0.000051</td>\n",
       "      <td>0</td>\n",
       "      <td>0</td>\n",
       "      <td>1</td>\n",
       "      <td>52</td>\n",
       "      <td>1</td>\n",
       "      <td>40</td>\n",
       "      <td>0</td>\n",
       "    </tr>\n",
       "    <tr>\n",
       "      <th>4430184</th>\n",
       "      <td>0.000023</td>\n",
       "      <td>0</td>\n",
       "      <td>0</td>\n",
       "      <td>0</td>\n",
       "      <td>0</td>\n",
       "      <td>1</td>\n",
       "      <td>40</td>\n",
       "      <td>0</td>\n",
       "    </tr>\n",
       "    <tr>\n",
       "      <th>4430185</th>\n",
       "      <td>0.000005</td>\n",
       "      <td>0</td>\n",
       "      <td>0</td>\n",
       "      <td>0</td>\n",
       "      <td>0</td>\n",
       "      <td>1</td>\n",
       "      <td>40</td>\n",
       "      <td>0</td>\n",
       "    </tr>\n",
       "    <tr>\n",
       "      <th>4430186</th>\n",
       "      <td>0.000005</td>\n",
       "      <td>0</td>\n",
       "      <td>0</td>\n",
       "      <td>0</td>\n",
       "      <td>0</td>\n",
       "      <td>1</td>\n",
       "      <td>40</td>\n",
       "      <td>0</td>\n",
       "    </tr>\n",
       "    <tr>\n",
       "      <th>4430187</th>\n",
       "      <td>0.000005</td>\n",
       "      <td>0</td>\n",
       "      <td>0</td>\n",
       "      <td>0</td>\n",
       "      <td>0</td>\n",
       "      <td>1</td>\n",
       "      <td>40</td>\n",
       "      <td>0</td>\n",
       "    </tr>\n",
       "  </tbody>\n",
       "</table>\n",
       "<p>4236125 rows × 8 columns</p>\n",
       "</div>"
      ],
      "text/plain": [
       "         duration  orig_bytes  resp_bytes  orig_pkts  orig_ip_bytes   \n",
       "1        0.000000           0           0          0              0  \\\n",
       "2        0.000000           0           0          0              0   \n",
       "4        0.000000           0           0          0              0   \n",
       "5        0.053276         208         976          6            528   \n",
       "6        0.383646         227      692369        202          10739   \n",
       "...           ...         ...         ...        ...            ...   \n",
       "4430183  0.000051           0           0          1             52   \n",
       "4430184  0.000023           0           0          0              0   \n",
       "4430185  0.000005           0           0          0              0   \n",
       "4430186  0.000005           0           0          0              0   \n",
       "4430187  0.000005           0           0          0              0   \n",
       "\n",
       "         resp_pkts  resp_ip_bytes  label  \n",
       "1                0              0      0  \n",
       "2                0              0      0  \n",
       "4                0              0      0  \n",
       "5                6           1296      0  \n",
       "6              117         240893      0  \n",
       "...            ...            ...    ...  \n",
       "4430183          1             40      0  \n",
       "4430184          1             40      0  \n",
       "4430185          1             40      0  \n",
       "4430186          1             40      0  \n",
       "4430187          1             40      0  \n",
       "\n",
       "[4236125 rows x 8 columns]"
      ]
     },
     "execution_count": 3,
     "metadata": {},
     "output_type": "execute_result"
    }
   ],
   "source": [
    "# Drop the port column\n",
    "df_conn = df_conn.drop(columns=['id.resp_p'], inplace=False)\n",
    "df_conn"
   ]
  },
  {
   "cell_type": "code",
   "execution_count": 4,
   "metadata": {},
   "outputs": [
    {
     "data": {
      "text/html": [
       "<div>\n",
       "<style scoped>\n",
       "    .dataframe tbody tr th:only-of-type {\n",
       "        vertical-align: middle;\n",
       "    }\n",
       "\n",
       "    .dataframe tbody tr th {\n",
       "        vertical-align: top;\n",
       "    }\n",
       "\n",
       "    .dataframe thead th {\n",
       "        text-align: right;\n",
       "    }\n",
       "</style>\n",
       "<table border=\"1\" class=\"dataframe\">\n",
       "  <thead>\n",
       "    <tr style=\"text-align: right;\">\n",
       "      <th></th>\n",
       "      <th>duration</th>\n",
       "      <th>orig_bytes</th>\n",
       "      <th>resp_bytes</th>\n",
       "      <th>orig_pkts</th>\n",
       "      <th>orig_ip_bytes</th>\n",
       "      <th>resp_pkts</th>\n",
       "      <th>resp_ip_bytes</th>\n",
       "      <th>label</th>\n",
       "    </tr>\n",
       "  </thead>\n",
       "  <tbody>\n",
       "    <tr>\n",
       "      <th>5</th>\n",
       "      <td>0.053276</td>\n",
       "      <td>208</td>\n",
       "      <td>976</td>\n",
       "      <td>6</td>\n",
       "      <td>528</td>\n",
       "      <td>6</td>\n",
       "      <td>1296</td>\n",
       "      <td>0</td>\n",
       "    </tr>\n",
       "    <tr>\n",
       "      <th>6</th>\n",
       "      <td>0.383646</td>\n",
       "      <td>227</td>\n",
       "      <td>692369</td>\n",
       "      <td>202</td>\n",
       "      <td>10739</td>\n",
       "      <td>117</td>\n",
       "      <td>240893</td>\n",
       "      <td>0</td>\n",
       "    </tr>\n",
       "    <tr>\n",
       "      <th>7</th>\n",
       "      <td>0.054294</td>\n",
       "      <td>208</td>\n",
       "      <td>977</td>\n",
       "      <td>6</td>\n",
       "      <td>528</td>\n",
       "      <td>6</td>\n",
       "      <td>1297</td>\n",
       "      <td>0</td>\n",
       "    </tr>\n",
       "    <tr>\n",
       "      <th>8</th>\n",
       "      <td>0.424980</td>\n",
       "      <td>227</td>\n",
       "      <td>791633</td>\n",
       "      <td>176</td>\n",
       "      <td>9387</td>\n",
       "      <td>174</td>\n",
       "      <td>367737</td>\n",
       "      <td>0</td>\n",
       "    </tr>\n",
       "    <tr>\n",
       "      <th>9</th>\n",
       "      <td>0.272567</td>\n",
       "      <td>227</td>\n",
       "      <td>406607</td>\n",
       "      <td>171</td>\n",
       "      <td>9127</td>\n",
       "      <td>71</td>\n",
       "      <td>169939</td>\n",
       "      <td>0</td>\n",
       "    </tr>\n",
       "    <tr>\n",
       "      <th>...</th>\n",
       "      <td>...</td>\n",
       "      <td>...</td>\n",
       "      <td>...</td>\n",
       "      <td>...</td>\n",
       "      <td>...</td>\n",
       "      <td>...</td>\n",
       "      <td>...</td>\n",
       "      <td>...</td>\n",
       "    </tr>\n",
       "    <tr>\n",
       "      <th>4430183</th>\n",
       "      <td>0.000051</td>\n",
       "      <td>0</td>\n",
       "      <td>0</td>\n",
       "      <td>1</td>\n",
       "      <td>52</td>\n",
       "      <td>1</td>\n",
       "      <td>40</td>\n",
       "      <td>0</td>\n",
       "    </tr>\n",
       "    <tr>\n",
       "      <th>4430184</th>\n",
       "      <td>0.000023</td>\n",
       "      <td>0</td>\n",
       "      <td>0</td>\n",
       "      <td>0</td>\n",
       "      <td>0</td>\n",
       "      <td>1</td>\n",
       "      <td>40</td>\n",
       "      <td>0</td>\n",
       "    </tr>\n",
       "    <tr>\n",
       "      <th>4430185</th>\n",
       "      <td>0.000005</td>\n",
       "      <td>0</td>\n",
       "      <td>0</td>\n",
       "      <td>0</td>\n",
       "      <td>0</td>\n",
       "      <td>1</td>\n",
       "      <td>40</td>\n",
       "      <td>0</td>\n",
       "    </tr>\n",
       "    <tr>\n",
       "      <th>4430186</th>\n",
       "      <td>0.000005</td>\n",
       "      <td>0</td>\n",
       "      <td>0</td>\n",
       "      <td>0</td>\n",
       "      <td>0</td>\n",
       "      <td>1</td>\n",
       "      <td>40</td>\n",
       "      <td>0</td>\n",
       "    </tr>\n",
       "    <tr>\n",
       "      <th>4430187</th>\n",
       "      <td>0.000005</td>\n",
       "      <td>0</td>\n",
       "      <td>0</td>\n",
       "      <td>0</td>\n",
       "      <td>0</td>\n",
       "      <td>1</td>\n",
       "      <td>40</td>\n",
       "      <td>0</td>\n",
       "    </tr>\n",
       "  </tbody>\n",
       "</table>\n",
       "<p>207608 rows × 8 columns</p>\n",
       "</div>"
      ],
      "text/plain": [
       "         duration  orig_bytes  resp_bytes  orig_pkts  orig_ip_bytes   \n",
       "5        0.053276         208         976          6            528  \\\n",
       "6        0.383646         227      692369        202          10739   \n",
       "7        0.054294         208         977          6            528   \n",
       "8        0.424980         227      791633        176           9387   \n",
       "9        0.272567         227      406607        171           9127   \n",
       "...           ...         ...         ...        ...            ...   \n",
       "4430183  0.000051           0           0          1             52   \n",
       "4430184  0.000023           0           0          0              0   \n",
       "4430185  0.000005           0           0          0              0   \n",
       "4430186  0.000005           0           0          0              0   \n",
       "4430187  0.000005           0           0          0              0   \n",
       "\n",
       "         resp_pkts  resp_ip_bytes  label  \n",
       "5                6           1296      0  \n",
       "6              117         240893      0  \n",
       "7                6           1297      0  \n",
       "8              174         367737      0  \n",
       "9               71         169939      0  \n",
       "...            ...            ...    ...  \n",
       "4430183          1             40      0  \n",
       "4430184          1             40      0  \n",
       "4430185          1             40      0  \n",
       "4430186          1             40      0  \n",
       "4430187          1             40      0  \n",
       "\n",
       "[207608 rows x 8 columns]"
      ]
     },
     "execution_count": 4,
     "metadata": {},
     "output_type": "execute_result"
    }
   ],
   "source": [
    "# Looking at above, we see a number of records with 0s. \n",
    "# These will add no value to our learning process\n",
    "# Let's find all those records and drop them\n",
    "# Reference: https://stackoverflow.com/questions/13851535/how-to-delete-rows-from-a-pandas-dataframe-based-on-a-conditional-expression\n",
    "df_conn = df_conn.drop(df_conn[(df_conn.duration == 0 ) & (df_conn.orig_bytes == 0 ) \\\n",
    "                               & (df_conn.resp_bytes == 0 ) & (df_conn.orig_pkts == 0 )  \\\n",
    "                                & (df_conn.orig_ip_bytes == 0 ) & (df_conn.resp_pkts == 0 ) \\\n",
    "                                    & (df_conn.resp_ip_bytes == 0 )].index)\n",
    "df_conn"
   ]
  },
  {
   "cell_type": "code",
   "execution_count": 5,
   "metadata": {},
   "outputs": [
    {
     "data": {
      "image/png": "[encoded data removed]",
      "text/plain": [
       "<Figure size 640x480 with 1 Axes>"
      ]
     },
     "metadata": {},
     "output_type": "display_data"
    }
   ],
   "source": [
    "# The graph below shows this dataset is highly imbalanced.\n",
    "# As a result, using measures like accuracy is more than likely not the best approach, \n",
    "# to understand how well our eventual model has \"learned\"\n",
    "# via the training data\n",
    "plt.title('Bar graph showing highly imbalanced dataset')\n",
    "plt.bar(x=['normal', 'suspicious'], height=[ df_conn[df_conn.label == 0].shape[0], \\\n",
    "                                            df_conn[df_conn.label == 1].shape[0] ])\n",
    "plt.ylabel(ylabel='Number of Records')\n",
    "plt.xlabel(xlabel='Normal vs Suspicious')\n",
    "plt.xticks(rotation=45)\n",
    "plt.show()\n"
   ]
  },
  {
   "cell_type": "code",
   "execution_count": 6,
   "metadata": {},
   "outputs": [
    {
     "data": {
      "text/plain": [
       "0.032272359446649454"
      ]
     },
     "execution_count": 6,
     "metadata": {},
     "output_type": "execute_result"
    }
   ],
   "source": [
    "# Getting the percentage of samples that are considered suspicious in this dataset\n",
    "# This is going to be quite a challenge for this learning algorithm\n",
    "(df_conn[df_conn.label == 1].shape[0] / df_conn.shape[0]) * 100"
   ]
  },
  {
   "cell_type": "code",
   "execution_count": 7,
   "metadata": {},
   "outputs": [
    {
     "data": {
      "text/html": [
       "<div>\n",
       "<style scoped>\n",
       "    .dataframe tbody tr th:only-of-type {\n",
       "        vertical-align: middle;\n",
       "    }\n",
       "\n",
       "    .dataframe tbody tr th {\n",
       "        vertical-align: top;\n",
       "    }\n",
       "\n",
       "    .dataframe thead th {\n",
       "        text-align: right;\n",
       "    }\n",
       "</style>\n",
       "<table border=\"1\" class=\"dataframe\">\n",
       "  <thead>\n",
       "    <tr style=\"text-align: right;\">\n",
       "      <th></th>\n",
       "      <th>duration</th>\n",
       "      <th>orig_bytes</th>\n",
       "      <th>resp_bytes</th>\n",
       "      <th>orig_pkts</th>\n",
       "      <th>orig_ip_bytes</th>\n",
       "      <th>resp_pkts</th>\n",
       "      <th>resp_ip_bytes</th>\n",
       "    </tr>\n",
       "  </thead>\n",
       "  <tbody>\n",
       "    <tr>\n",
       "      <th>5</th>\n",
       "      <td>0.053276</td>\n",
       "      <td>208</td>\n",
       "      <td>976</td>\n",
       "      <td>6</td>\n",
       "      <td>528</td>\n",
       "      <td>6</td>\n",
       "      <td>1296</td>\n",
       "    </tr>\n",
       "    <tr>\n",
       "      <th>6</th>\n",
       "      <td>0.383646</td>\n",
       "      <td>227</td>\n",
       "      <td>692369</td>\n",
       "      <td>202</td>\n",
       "      <td>10739</td>\n",
       "      <td>117</td>\n",
       "      <td>240893</td>\n",
       "    </tr>\n",
       "    <tr>\n",
       "      <th>7</th>\n",
       "      <td>0.054294</td>\n",
       "      <td>208</td>\n",
       "      <td>977</td>\n",
       "      <td>6</td>\n",
       "      <td>528</td>\n",
       "      <td>6</td>\n",
       "      <td>1297</td>\n",
       "    </tr>\n",
       "    <tr>\n",
       "      <th>8</th>\n",
       "      <td>0.424980</td>\n",
       "      <td>227</td>\n",
       "      <td>791633</td>\n",
       "      <td>176</td>\n",
       "      <td>9387</td>\n",
       "      <td>174</td>\n",
       "      <td>367737</td>\n",
       "    </tr>\n",
       "    <tr>\n",
       "      <th>9</th>\n",
       "      <td>0.272567</td>\n",
       "      <td>227</td>\n",
       "      <td>406607</td>\n",
       "      <td>171</td>\n",
       "      <td>9127</td>\n",
       "      <td>71</td>\n",
       "      <td>169939</td>\n",
       "    </tr>\n",
       "    <tr>\n",
       "      <th>...</th>\n",
       "      <td>...</td>\n",
       "      <td>...</td>\n",
       "      <td>...</td>\n",
       "      <td>...</td>\n",
       "      <td>...</td>\n",
       "      <td>...</td>\n",
       "      <td>...</td>\n",
       "    </tr>\n",
       "    <tr>\n",
       "      <th>4430183</th>\n",
       "      <td>0.000051</td>\n",
       "      <td>0</td>\n",
       "      <td>0</td>\n",
       "      <td>1</td>\n",
       "      <td>52</td>\n",
       "      <td>1</td>\n",
       "      <td>40</td>\n",
       "    </tr>\n",
       "    <tr>\n",
       "      <th>4430184</th>\n",
       "      <td>0.000023</td>\n",
       "      <td>0</td>\n",
       "      <td>0</td>\n",
       "      <td>0</td>\n",
       "      <td>0</td>\n",
       "      <td>1</td>\n",
       "      <td>40</td>\n",
       "    </tr>\n",
       "    <tr>\n",
       "      <th>4430185</th>\n",
       "      <td>0.000005</td>\n",
       "      <td>0</td>\n",
       "      <td>0</td>\n",
       "      <td>0</td>\n",
       "      <td>0</td>\n",
       "      <td>1</td>\n",
       "      <td>40</td>\n",
       "    </tr>\n",
       "    <tr>\n",
       "      <th>4430186</th>\n",
       "      <td>0.000005</td>\n",
       "      <td>0</td>\n",
       "      <td>0</td>\n",
       "      <td>0</td>\n",
       "      <td>0</td>\n",
       "      <td>1</td>\n",
       "      <td>40</td>\n",
       "    </tr>\n",
       "    <tr>\n",
       "      <th>4430187</th>\n",
       "      <td>0.000005</td>\n",
       "      <td>0</td>\n",
       "      <td>0</td>\n",
       "      <td>0</td>\n",
       "      <td>0</td>\n",
       "      <td>1</td>\n",
       "      <td>40</td>\n",
       "    </tr>\n",
       "  </tbody>\n",
       "</table>\n",
       "<p>207608 rows × 7 columns</p>\n",
       "</div>"
      ],
      "text/plain": [
       "         duration  orig_bytes  resp_bytes  orig_pkts  orig_ip_bytes   \n",
       "5        0.053276         208         976          6            528  \\\n",
       "6        0.383646         227      692369        202          10739   \n",
       "7        0.054294         208         977          6            528   \n",
       "8        0.424980         227      791633        176           9387   \n",
       "9        0.272567         227      406607        171           9127   \n",
       "...           ...         ...         ...        ...            ...   \n",
       "4430183  0.000051           0           0          1             52   \n",
       "4430184  0.000023           0           0          0              0   \n",
       "4430185  0.000005           0           0          0              0   \n",
       "4430186  0.000005           0           0          0              0   \n",
       "4430187  0.000005           0           0          0              0   \n",
       "\n",
       "         resp_pkts  resp_ip_bytes  \n",
       "5                6           1296  \n",
       "6              117         240893  \n",
       "7                6           1297  \n",
       "8              174         367737  \n",
       "9               71         169939  \n",
       "...            ...            ...  \n",
       "4430183          1             40  \n",
       "4430184          1             40  \n",
       "4430185          1             40  \n",
       "4430186          1             40  \n",
       "4430187          1             40  \n",
       "\n",
       "[207608 rows x 7 columns]"
      ]
     },
     "execution_count": 7,
     "metadata": {},
     "output_type": "execute_result"
    }
   ],
   "source": [
    "# Drop the label column\n",
    "X_data = df_conn.drop(columns=['label'], inplace=False)\n",
    "X_data"
   ]
  },
  {
   "cell_type": "code",
   "execution_count": 8,
   "metadata": {},
   "outputs": [
    {
     "data": {
      "text/plain": [
       "5          0\n",
       "6          0\n",
       "7          0\n",
       "8          0\n",
       "9          0\n",
       "          ..\n",
       "4430183    0\n",
       "4430184    0\n",
       "4430185    0\n",
       "4430186    0\n",
       "4430187    0\n",
       "Name: label, Length: 207608, dtype: int64"
      ]
     },
     "execution_count": 8,
     "metadata": {},
     "output_type": "execute_result"
    }
   ],
   "source": [
    "# Extract the labels to be used for classification\n",
    "y_label = df_conn.label\n",
    "y_label"
   ]
  },
  {
   "cell_type": "code",
   "execution_count": 9,
   "metadata": {},
   "outputs": [],
   "source": [
    "# prepare to split the data into training and testing sets\n",
    "from sklearn.model_selection import train_test_split"
   ]
  },
  {
   "cell_type": "code",
   "execution_count": 10,
   "metadata": {},
   "outputs": [
    {
     "data": {
      "text/plain": [
       "((166086, 7), (166086,), (41522, 7), (41522,))"
      ]
     },
     "execution_count": 10,
     "metadata": {},
     "output_type": "execute_result"
    }
   ],
   "source": [
    "# Split the data into training and testing sets\n",
    "X_train, X_test, y_train, y_test = train_test_split(X_data.values, y_label, test_size=0.2, train_size=0.8, \\\n",
    "                                                    stratify=y_label, random_state=10)\n",
    "X_train.shape, y_train.shape, X_test.shape, y_test.shape"
   ]
  },
  {
   "cell_type": "code",
   "execution_count": 11,
   "metadata": {},
   "outputs": [],
   "source": [
    "# Scaling the data first\n",
    "# import the scaler library\n",
    "# https://scikit-learn.org/stable/modules/generated/sklearn.preprocessing.MinMaxScaler.html\n",
    "from sklearn.preprocessing import MinMaxScaler"
   ]
  },
  {
   "cell_type": "code",
   "execution_count": 12,
   "metadata": {},
   "outputs": [
    {
     "data": {
      "text/plain": [
       "(array([[2.63072563e-07, 9.18795041e-08, 7.10178687e-08, ...,\n",
       "         3.59579942e-07, 1.75013957e-06, 3.05765612e-07],\n",
       "        [3.61672231e-07, 5.89415687e-08, 2.38314996e-08, ...,\n",
       "         2.75234030e-07, 1.75013957e-06, 1.34744168e-07],\n",
       "        [2.79225614e-09, 0.00000000e+00, 0.00000000e+00, ...,\n",
       "         2.30841444e-07, 1.75013957e-06, 6.90995734e-08],\n",
       "        ...,\n",
       "        [1.68135854e-09, 0.00000000e+00, 0.00000000e+00, ...,\n",
       "         2.30841444e-07, 1.75013957e-06, 6.90995734e-08],\n",
       "        [1.65133428e-09, 0.00000000e+00, 0.00000000e+00, ...,\n",
       "         2.30841444e-07, 1.75013957e-06, 6.90995734e-08],\n",
       "        [3.49932746e-07, 7.80108997e-08, 8.38868784e-08, ...,\n",
       "         3.24065874e-07, 1.75013957e-06, 3.52407824e-07]]),\n",
       " (166086, 7))"
      ]
     },
     "execution_count": 12,
     "metadata": {},
     "output_type": "execute_result"
    }
   ],
   "source": [
    "# Setup the scaler for classification\n",
    "# We learned abous scaling in noebook\n",
    "#   06 - Beginning Data Scaling\n",
    "min_max_scaler = MinMaxScaler(feature_range=(0,1))\n",
    "\n",
    "# Fit on the classification training data\n",
    "min_max_scaler.fit(X_train)\n",
    "\n",
    "# Transform the train data\n",
    "X_train_scaled = min_max_scaler.transform(X_train)\n",
    "X_train_scaled, X_train.shape"
   ]
  },
  {
   "cell_type": "code",
   "execution_count": 13,
   "metadata": {},
   "outputs": [
    {
     "data": {
      "text/plain": [
       "array([[1.73484676e-05, 3.90054499e-07, 8.33234064e-04, ...,\n",
       "        7.60578166e-05, 6.94805411e-04, 1.16707452e-03],\n",
       "       [5.08070521e-07, 6.41422953e-08, 5.29059290e-08, ...,\n",
       "        2.88551805e-07, 1.75013957e-06, 2.40121018e-07],\n",
       "       [4.43809598e-06, 2.05948775e-06, 1.84884774e-05, ...,\n",
       "        9.69534066e-06, 5.60044664e-05, 6.65187043e-05],\n",
       "       ...,\n",
       "       [5.47522398e-07, 6.41422953e-08, 8.96064383e-08, ...,\n",
       "        2.88551805e-07, 1.75013957e-06, 3.73137696e-07],\n",
       "       [1.83147984e-09, 0.00000000e+00, 0.00000000e+00, ...,\n",
       "        2.30841444e-07, 1.75013957e-06, 6.90995734e-08],\n",
       "       [0.00000000e+00, 0.00000000e+00, 0.00000000e+00, ...,\n",
       "        3.95094010e-07, 0.00000000e+00, 0.00000000e+00]])"
      ]
     },
     "execution_count": 13,
     "metadata": {},
     "output_type": "execute_result"
    }
   ],
   "source": [
    "# Scale the classification test data\n",
    "X_test_scaled = min_max_scaler.transform(X_test)\n",
    "X_test_scaled"
   ]
  },
  {
   "cell_type": "code",
   "execution_count": 14,
   "metadata": {},
   "outputs": [],
   "source": [
    "# import PCA to leverage dimensionality reduction\n",
    "from sklearn.decomposition import PCA"
   ]
  },
  {
   "cell_type": "code",
   "execution_count": 15,
   "metadata": {},
   "outputs": [
    {
     "data": {
      "text/html": [
       "<style>#sk-container-id-1 {color: black;background-color: white;}#sk-container-id-1 pre{padding: 0;}#sk-container-id-1 div.sk-toggleable {background-color: white;}#sk-container-id-1 label.sk-toggleable__label {cursor: pointer;display: block;width: 100%;margin-bottom: 0;padding: 0.3em;box-sizing: border-box;text-align: center;}#sk-container-id-1 label.sk-toggleable__label-arrow:before {content: \"▸\";float: left;margin-right: 0.25em;color: #696969;}#sk-container-id-1 label.sk-toggleable__label-arrow:hover:before {color: black;}#sk-container-id-1 div.sk-estimator:hover label.sk-toggleable__label-arrow:before {color: black;}#sk-container-id-1 div.sk-toggleable__content {max-height: 0;max-width: 0;overflow: hidden;text-align: left;background-color: #f0f8ff;}#sk-container-id-1 div.sk-toggleable__content pre {margin: 0.2em;color: black;border-radius: 0.25em;background-color: #f0f8ff;}#sk-container-id-1 input.sk-toggleable__control:checked~div.sk-toggleable__content {max-height: 200px;max-width: 100%;overflow: auto;}#sk-container-id-1 input.sk-toggleable__control:checked~label.sk-toggleable__label-arrow:before {content: \"▾\";}#sk-container-id-1 div.sk-estimator input.sk-toggleable__control:checked~label.sk-toggleable__label {background-color: #d4ebff;}#sk-container-id-1 div.sk-label input.sk-toggleable__control:checked~label.sk-toggleable__label {background-color: #d4ebff;}#sk-container-id-1 input.sk-hidden--visually {border: 0;clip: rect(1px 1px 1px 1px);clip: rect(1px, 1px, 1px, 1px);height: 1px;margin: -1px;overflow: hidden;padding: 0;position: absolute;width: 1px;}#sk-container-id-1 div.sk-estimator {font-family: monospace;background-color: #f0f8ff;border: 1px dotted black;border-radius: 0.25em;box-sizing: border-box;margin-bottom: 0.5em;}#sk-container-id-1 div.sk-estimator:hover {background-color: #d4ebff;}#sk-container-id-1 div.sk-parallel-item::after {content: \"\";width: 100%;border-bottom: 1px solid gray;flex-grow: 1;}#sk-container-id-1 div.sk-label:hover label.sk-toggleable__label {background-color: #d4ebff;}#sk-container-id-1 div.sk-serial::before {content: \"\";position: absolute;border-left: 1px solid gray;box-sizing: border-box;top: 0;bottom: 0;left: 50%;z-index: 0;}#sk-container-id-1 div.sk-serial {display: flex;flex-direction: column;align-items: center;background-color: white;padding-right: 0.2em;padding-left: 0.2em;position: relative;}#sk-container-id-1 div.sk-item {position: relative;z-index: 1;}#sk-container-id-1 div.sk-parallel {display: flex;align-items: stretch;justify-content: center;background-color: white;position: relative;}#sk-container-id-1 div.sk-item::before, #sk-container-id-1 div.sk-parallel-item::before {content: \"\";position: absolute;border-left: 1px solid gray;box-sizing: border-box;top: 0;bottom: 0;left: 50%;z-index: -1;}#sk-container-id-1 div.sk-parallel-item {display: flex;flex-direction: column;z-index: 1;position: relative;background-color: white;}#sk-container-id-1 div.sk-parallel-item:first-child::after {align-self: flex-end;width: 50%;}#sk-container-id-1 div.sk-parallel-item:last-child::after {align-self: flex-start;width: 50%;}#sk-container-id-1 div.sk-parallel-item:only-child::after {width: 0;}#sk-container-id-1 div.sk-dashed-wrapped {border: 1px dashed gray;margin: 0 0.4em 0.5em 0.4em;box-sizing: border-box;padding-bottom: 0.4em;background-color: white;}#sk-container-id-1 div.sk-label label {font-family: monospace;font-weight: bold;display: inline-block;line-height: 1.2em;}#sk-container-id-1 div.sk-label-container {text-align: center;}#sk-container-id-1 div.sk-container {/* jupyter's `normalize.less` sets `[hidden] { display: none; }` but bootstrap.min.css set `[hidden] { display: none !important; }` so we also need the `!important` here to be able to override the default hidden behavior on the sphinx rendered scikit-learn.org. See: https://github.com/scikit-learn/scikit-learn/issues/21755 */display: inline-block !important;position: relative;}#sk-container-id-1 div.sk-text-repr-fallback {display: none;}</style><div id=\"sk-container-id-1\" class=\"sk-top-container\"><div class=\"sk-text-repr-fallback\"><pre>PCA(n_components=3, random_state=10)</pre><b>In a Jupyter environment, please rerun this cell to show the HTML representation or trust the notebook. <br />On GitHub, the HTML representation is unable to render, please try loading this page with nbviewer.org.</b></div><div class=\"sk-container\" hidden><div class=\"sk-item\"><div class=\"sk-estimator sk-toggleable\"><input class=\"sk-toggleable__control sk-hidden--visually\" id=\"sk-estimator-id-1\" type=\"checkbox\" checked><label for=\"sk-estimator-id-1\" class=\"sk-toggleable__label sk-toggleable__label-arrow\">PCA</label><div class=\"sk-toggleable__content\"><pre>PCA(n_components=3, random_state=10)</pre></div></div></div></div></div>"
      ],
      "text/plain": [
       "PCA(n_components=3, random_state=10)"
      ]
     },
     "execution_count": 15,
     "metadata": {},
     "output_type": "execute_result"
    }
   ],
   "source": [
    "# Setup PCA to use 3 principal Components\n",
    "# We learned about PCA in notebook\n",
    "#   07 - Beginning Principal Component Analysis (PCA)\n",
    "pca = PCA(n_components=3, random_state=10)\n",
    "pca"
   ]
  },
  {
   "cell_type": "code",
   "execution_count": 16,
   "metadata": {},
   "outputs": [
    {
     "data": {
      "text/plain": [
       "array([[-0.00025828, -0.00023497, -0.00047665],\n",
       "       [-0.00025839, -0.00023502, -0.00047653],\n",
       "       [-0.00025846, -0.00023515, -0.00047686],\n",
       "       ...,\n",
       "       [-0.00025846, -0.00023515, -0.00047686],\n",
       "       [-0.00025846, -0.00023515, -0.00047686],\n",
       "       [-0.00025826, -0.00023494, -0.00047657]])"
      ]
     },
     "execution_count": 16,
     "metadata": {},
     "output_type": "execute_result"
    }
   ],
   "source": [
    "# Fit on the X_train\n",
    "pca.fit(X_train_scaled)\n",
    "\n",
    "# transform the training data\n",
    "X_train_pca = pca.transform(X_train_scaled)\n",
    "X_train_pca"
   ]
  },
  {
   "cell_type": "code",
   "execution_count": 17,
   "metadata": {},
   "outputs": [
    {
     "data": {
      "text/plain": [
       "array([[ 0.00134937,  0.000691  , -0.0008094 ],\n",
       "       [-0.00025832, -0.00023494, -0.0004764 ],\n",
       "       [-0.00018612, -0.00015918, -0.0004979 ],\n",
       "       ...,\n",
       "       [-0.00025824, -0.00023488, -0.00047639],\n",
       "       [-0.00025846, -0.00023515, -0.00047686],\n",
       "       [-0.00025896, -0.0002359 , -0.00047662]])"
      ]
     },
     "execution_count": 17,
     "metadata": {},
     "output_type": "execute_result"
    }
   ],
   "source": [
    "# Use the opportunity to PCA transform the X_test classification data\n",
    "X_test_pca = pca.transform(X_test_scaled)\n",
    "X_test_pca"
   ]
  },
  {
   "cell_type": "code",
   "execution_count": 18,
   "metadata": {},
   "outputs": [
    {
     "data": {
      "text/plain": [
       "2"
      ]
     },
     "execution_count": 18,
     "metadata": {},
     "output_type": "execute_result"
    }
   ],
   "source": [
    "# To get this data ready for a Conv1D layer, needs to change the number of dimensions\n",
    "# Currently the dataset has 2 dimensions\n",
    "X_train_pca.ndim"
   ]
  },
  {
   "cell_type": "code",
   "execution_count": 19,
   "metadata": {},
   "outputs": [
    {
     "data": {
      "text/plain": [
       "((166086, 1, 3), (166086,))"
      ]
     },
     "execution_count": 19,
     "metadata": {},
     "output_type": "execute_result"
    }
   ],
   "source": [
    "# We need it to be at least 3 dimensions. \n",
    "# Let's reshape to get those 3 dimensions\n",
    "X_train_pca = [ np.array(i, ndmin=2) for i in X_train_pca ]\n",
    "X_train_pca = np.asarray(X_train_pca)\n",
    "#X_train = tf.convert_to_tensor(X_train)\n",
    "\n",
    "# Make sure the batch size is consistent with the number of labels\n",
    "# The shape of X_train is batch_size, rows, columns\n",
    "X_train_pca.shape, y_train.shape"
   ]
  },
  {
   "cell_type": "code",
   "execution_count": 20,
   "metadata": {},
   "outputs": [
    {
     "data": {
      "text/plain": [
       "array([[[-0.00025828, -0.00023497, -0.00047665]],\n",
       "\n",
       "       [[-0.00025839, -0.00023502, -0.00047653]],\n",
       "\n",
       "       [[-0.00025846, -0.00023515, -0.00047686]],\n",
       "\n",
       "       [[-0.00025108, -0.00022268, -0.00047436]],\n",
       "\n",
       "       [[-0.00025899, -0.00023594, -0.00047661]]])"
      ]
     },
     "execution_count": 20,
     "metadata": {},
     "output_type": "execute_result"
    }
   ],
   "source": [
    "# Get a snapshot of the data\n",
    "X_train_pca[:5]"
   ]
  },
  {
   "cell_type": "code",
   "execution_count": 21,
   "metadata": {},
   "outputs": [
    {
     "data": {
      "text/plain": [
       "((41522, 1, 3), (41522,))"
      ]
     },
     "execution_count": 21,
     "metadata": {},
     "output_type": "execute_result"
    }
   ],
   "source": [
    "# We need to make the test data at least 3 dimensions, just as we did with the training data. \n",
    "# Let's reshape to get those 3 dimensions\n",
    "X_test_pca = [ np.array(i, ndmin=2) for i in X_test_pca ]\n",
    "X_test_pca = np.asarray(X_test_pca)\n",
    "\n",
    "# Make sure the batch size is consistent with the number of labels\n",
    "X_test_pca.shape, y_test.shape"
   ]
  },
  {
   "cell_type": "code",
   "execution_count": 22,
   "metadata": {},
   "outputs": [],
   "source": [
    "# Import PyTorch\n",
    "import torch"
   ]
  },
  {
   "cell_type": "code",
   "execution_count": 23,
   "metadata": {},
   "outputs": [
    {
     "data": {
      "text/plain": [
       "(tensor([[[1., 2., 3., 4., 5.]]]), torch.Size([1, 1, 5]))"
      ]
     },
     "execution_count": 23,
     "metadata": {},
     "output_type": "execute_result"
    }
   ],
   "source": [
    "# Before building this 1D convolution model, let's get an understanding of what 1D convolution is\n",
    "# Define an array\n",
    "#x_tmp = np.array([1,2,3,4,5,6,7,8,9], ndmin=3, dtype=float)\n",
    "x_tmp = torch.tensor(data=[[[1,2,3,4,5]]], dtype=torch.float32)\n",
    "x_tmp, x_tmp.shape"
   ]
  },
  {
   "cell_type": "code",
   "execution_count": 24,
   "metadata": {},
   "outputs": [
    {
     "data": {
      "text/plain": [
       "Conv1d(1, 1, kernel_size=(5,), stride=(1,), padding=valid, bias=False)"
      ]
     },
     "execution_count": 24,
     "metadata": {},
     "output_type": "execute_result"
    }
   ],
   "source": [
    "# Define a 1D convolution\n",
    "#   https://pytorch.org/docs/stable/generated/torch.nn.Conv1d.html\n",
    "# Ensure at initialization, the values are the same every time\n",
    "#   https://pytorch.org/docs/stable/notes/randomness.html\n",
    "torch.manual_seed(10)\n",
    "\n",
    "# Build a convolution layer with no padding, hence \"valid\"\n",
    "conv_layer = torch.nn.Conv1d(in_channels=1, out_channels=1, kernel_size=(5,), stride=1, padding='valid', bias=False) \n",
    "conv_layer"
   ]
  },
  {
   "cell_type": "code",
   "execution_count": 25,
   "metadata": {},
   "outputs": [
    {
     "data": {
      "text/plain": [
       "OrderedDict([('weight',\n",
       "              tensor([[[-0.0375, -0.0153, -0.1677,  0.1029, -0.2559]]]))])"
      ]
     },
     "execution_count": 25,
     "metadata": {},
     "output_type": "execute_result"
    }
   ],
   "source": [
    "# Get the initial value for the filter\n",
    "# We see 1x5 for the kernel size\n",
    "conv_layer.state_dict()"
   ]
  },
  {
   "cell_type": "code",
   "execution_count": 26,
   "metadata": {},
   "outputs": [
    {
     "data": {
      "text/plain": [
       "tensor([[[-1.4390]]], grad_fn=<ConvolutionBackward0>)"
      ]
     },
     "execution_count": 26,
     "metadata": {},
     "output_type": "execute_result"
    }
   ],
   "source": [
    "# Apply the convolution to the data\n",
    "conv_layer(x_tmp)"
   ]
  },
  {
   "cell_type": "code",
   "execution_count": 27,
   "metadata": {},
   "outputs": [
    {
     "data": {
      "text/plain": [
       "-1.4391"
      ]
     },
     "execution_count": 27,
     "metadata": {},
     "output_type": "execute_result"
    }
   ],
   "source": [
    "# Compute the convolution operation manually by multiplying the input by the kernel and adding the values up\n",
    "# This value is the same as seen above from conv_output\n",
    "(1 * -0.0375) + (2 * -0.0153) + (3 * -0.1677) + (4 * 0.1029) + (5 * -0.2559)"
   ]
  },
  {
   "cell_type": "code",
   "execution_count": 28,
   "metadata": {},
   "outputs": [
    {
     "data": {
      "text/plain": [
       "(1, 1)"
      ]
     },
     "execution_count": 28,
     "metadata": {},
     "output_type": "execute_result"
    }
   ],
   "source": [
    "# Confirm the number of in-channels and out-channels\n",
    "conv_layer.in_channels, conv_layer.out_channels "
   ]
  },
  {
   "cell_type": "code",
   "execution_count": 29,
   "metadata": {},
   "outputs": [
    {
     "data": {
      "text/plain": [
       "(tensor([[[-0.0375, -0.0153, -0.1677,  0.1029, -0.2559]]]),\n",
       " tensor([[[1., 2., 3., 4., 5.]]]))"
      ]
     },
     "execution_count": 29,
     "metadata": {},
     "output_type": "execute_result"
    }
   ],
   "source": [
    "# Alternatively for a more simplistic vie\n",
    "conv_layer.state_dict()['weight'], x_tmp"
   ]
  },
  {
   "cell_type": "code",
   "execution_count": 30,
   "metadata": {},
   "outputs": [
    {
     "data": {
      "text/plain": [
       "(tensor([-0.0375, -0.0153, -0.1677,  0.1029, -0.2559]),\n",
       " tensor([1., 2., 3., 4., 5.]))"
      ]
     },
     "execution_count": 30,
     "metadata": {},
     "output_type": "execute_result"
    }
   ],
   "source": [
    "# Squeeze both tensors by moving them down to 1 dimension prior to finding the dot product\n",
    "# Basically reshape them\n",
    "torch.squeeze(conv_layer.state_dict()['weight']), torch.squeeze(x_tmp)"
   ]
  },
  {
   "cell_type": "code",
   "execution_count": 31,
   "metadata": {},
   "outputs": [
    {
     "data": {
      "text/plain": [
       "tensor(-1.4390)"
      ]
     },
     "execution_count": 31,
     "metadata": {},
     "output_type": "execute_result"
    }
   ],
   "source": [
    "# Now find the dot product of these\n",
    "# This returns the value that Torch returned\n",
    "#   https://pytorch.org/docs/stable/generated/torch.dot.html\n",
    "torch.dot(torch.squeeze(conv_layer.state_dict()['weight']), torch.squeeze(x_tmp))"
   ]
  },
  {
   "cell_type": "code",
   "execution_count": 32,
   "metadata": {},
   "outputs": [
    {
     "data": {
      "text/plain": [
       "tensor([[[ 0.7376,  1.9459, -0.6995, -1.3023, -0.5133]]])"
      ]
     },
     "execution_count": 32,
     "metadata": {},
     "output_type": "execute_result"
    }
   ],
   "source": [
    "# Along with Conv1d, I also introduce down-sampling via MaxPool1D\n",
    "# Setup a random tensor of size 1x1x5 tensor \n",
    "torch.manual_seed(11)\n",
    "max_pool1d = torch.randn(size=[1,1,5])\n",
    "max_pool1d"
   ]
  },
  {
   "cell_type": "code",
   "execution_count": 33,
   "metadata": {},
   "outputs": [
    {
     "data": {
      "text/plain": [
       "tensor([[[ 1.9459,  1.9459, -0.6995, -0.5133]]])"
      ]
     },
     "execution_count": 33,
     "metadata": {},
     "output_type": "execute_result"
    }
   ],
   "source": [
    "# Perform the MaxPool1d down-sampling operation\n",
    "# As we defined kernel_size=2, MaxPool1d looks at the first two items and select the larger number\n",
    "# With a slide of 1, we then move to the next 2 and select the larger number\n",
    "# This pattern is repeated until the end\n",
    "# Hence the result show below\n",
    "torch.nn.MaxPool1d(kernel_size=2, stride=1)(max_pool1d)"
   ]
  },
  {
   "cell_type": "code",
   "execution_count": null,
   "metadata": {},
   "outputs": [],
   "source": []
  },
  {
   "cell_type": "code",
   "execution_count": 34,
   "metadata": {},
   "outputs": [
    {
     "data": {
      "text/plain": [
       "(tensor([[[-0.0003, -0.0002, -0.0005]],\n",
       " \n",
       "         [[-0.0003, -0.0002, -0.0005]],\n",
       " \n",
       "         [[-0.0003, -0.0002, -0.0005]],\n",
       " \n",
       "         [[-0.0003, -0.0002, -0.0005]],\n",
       " \n",
       "         [[-0.0003, -0.0002, -0.0005]]]),\n",
       " tensor([[[ 0.0013,  0.0007, -0.0008]],\n",
       " \n",
       "         [[-0.0003, -0.0002, -0.0005]],\n",
       " \n",
       "         [[-0.0002, -0.0002, -0.0005]],\n",
       " \n",
       "         [[-0.0003, -0.0002, -0.0005]],\n",
       " \n",
       "         [[-0.0003, -0.0002, -0.0005]]]))"
      ]
     },
     "execution_count": 34,
     "metadata": {},
     "output_type": "execute_result"
    }
   ],
   "source": [
    "# With that understanding in place,\n",
    "# convert the training and test data to torch tensors\n",
    "X_train_pca, X_test_pca = torch.tensor(data=X_train_pca, dtype=torch.float32), \\\n",
    "    torch.tensor(data=X_test_pca, dtype=torch.float32)\n",
    "X_train_pca[:5], X_test_pca[:5]"
   ]
  },
  {
   "cell_type": "code",
   "execution_count": 35,
   "metadata": {},
   "outputs": [
    {
     "data": {
      "text/plain": [
       "(array([[0.],\n",
       "        [0.],\n",
       "        [0.],\n",
       "        [0.],\n",
       "        [0.]], dtype=float32),\n",
       " array([[0.],\n",
       "        [0.],\n",
       "        [0.],\n",
       "        [0.],\n",
       "        [0.]], dtype=float32))"
      ]
     },
     "execution_count": 35,
     "metadata": {},
     "output_type": "execute_result"
    }
   ],
   "source": [
    "# Convert the panda series to a numpy array\n",
    "# Make the array 2 dimensions\n",
    "# Reshape to have multiple rows and 1 column\n",
    "y_train = np.array(y_train, ndmin=2, dtype=np.float32).reshape(-1, 1)\n",
    "y_test = np.array(y_test, ndmin=2, dtype=np.float32).reshape(-1, 1)\n",
    "\n",
    "# Get 5 samples from each\n",
    "y_train[:5], y_test[:5]"
   ]
  },
  {
   "cell_type": "code",
   "execution_count": 36,
   "metadata": {},
   "outputs": [
    {
     "data": {
      "text/plain": [
       "(tensor([[0.],\n",
       "         [0.],\n",
       "         [0.],\n",
       "         [0.],\n",
       "         [0.]]),\n",
       " tensor([[0.],\n",
       "         [0.],\n",
       "         [0.],\n",
       "         [0.],\n",
       "         [0.]]))"
      ]
     },
     "execution_count": 36,
     "metadata": {},
     "output_type": "execute_result"
    }
   ],
   "source": [
    "# Have to convert the above train and test labels to torch tensor\n",
    "y_train, y_test = torch.tensor(data=y_train, dtype=torch.float32), \\\n",
    "    torch.tensor(data=y_test, dtype=torch.float32)\n",
    "y_train[:5], y_test[:5]"
   ]
  },
  {
   "cell_type": "code",
   "execution_count": 37,
   "metadata": {},
   "outputs": [],
   "source": [
    "# Set the manual seed to add predictability\n",
    "torch.manual_seed(10)\n",
    "\n",
    "# With the understanding of 1D Convolution and Maxpooling, time to build the network\n",
    "torch_conv1d_model = torch.nn.Sequential(\n",
    "        # Setup the convolution layer\n",
    "        torch.nn.Conv1d(in_channels=1, out_channels=1, kernel_size=[5,], padding='same'),\n",
    "\n",
    "        # Add a MaxPool \n",
    "        #       https://pytorch.org/docs/stable/generated/torch.nn.MaxPool1d.html\n",
    "        torch.nn.MaxPool1d(kernel_size=2, stride=1),\n",
    "        \n",
    "        # Flatten the dimensions\n",
    "        # https://pytorch.org/docs/stable/generated/torch.nn.Flatten.html#torch.nn.Flatten\n",
    "        torch.nn.Flatten(start_dim=1, end_dim=-1),\n",
    "\n",
    "        # Setup the final layer with 1 output feature and 2 input features\n",
    "        torch.nn.Linear(in_features=2, out_features=1),\n",
    "\n",
    "        # Setup the sigmoid Activation Function on the output layer\n",
    "        # We looked at Sigmoid in notebook:\n",
    "        #       10. Beginning Supervise Learning - Machine Learning - Logistic Regression, Decision Trees and Metrics\n",
    "        torch.nn.Sigmoid()        \n",
    ")"
   ]
  },
  {
   "cell_type": "code",
   "execution_count": 38,
   "metadata": {},
   "outputs": [
    {
     "data": {
      "text/plain": [
       "OrderedDict([('0.weight',\n",
       "              tensor([[[-0.0375, -0.0153, -0.1677,  0.1029, -0.2559]]])),\n",
       "             ('0.bias', tensor([-0.0789])),\n",
       "             ('3.weight', tensor([[0.2741, 0.6637]])),\n",
       "             ('3.bias', tensor([0.1666]))])"
      ]
     },
     "execution_count": 38,
     "metadata": {},
     "output_type": "execute_result"
    }
   ],
   "source": [
    "# Get the state dictionary\n",
    "torch_conv1d_model.state_dict()"
   ]
  },
  {
   "cell_type": "code",
   "execution_count": 39,
   "metadata": {},
   "outputs": [],
   "source": [
    "# Prepare to visualize the model\n",
    "# https://github.com/mert-kurttutan/torchview\n",
    "from torchview import draw_graph"
   ]
  },
  {
   "cell_type": "code",
   "execution_count": 40,
   "metadata": {},
   "outputs": [
    {
     "name": "stderr",
     "output_type": "stream",
     "text": [
      "\n",
      "(dot.exe:28592): Pango-WARNING **: couldn't load font \"Linux libertine Not-Rotated 10\", falling back to \"Sans Not-Rotated 10\", expect ugly output.\n"
     ]
    },
    {
     "data": {
      "image/svg+xml": [
       "<?xml version=\"1.0\" encoding=\"UTF-8\" standalone=\"no\"?>\n",
       "<!DOCTYPE svg PUBLIC \"-//W3C//DTD SVG 1.1//EN\"\n",
       " \"http://www.w3.org/Graphics/SVG/1.1/DTD/svg11.dtd\">\n",
       "<!-- Generated by graphviz version 6.0.2 (20221011.1828)\n",
       " -->\n",
       "<!-- Title: torch_conv1d_model Pages: 1 -->\n",
       "<svg width=\"222pt\" height=\"823pt\"\n",
       " viewBox=\"0.00 0.00 222.00 823.00\" xmlns=\"http://www.w3.org/2000/svg\" xmlns:xlink=\"http://www.w3.org/1999/xlink\">\n",
       "<g id=\"graph0\" class=\"graph\" transform=\"scale(1 1) rotate(0) translate(4 819)\">\n",
       "<title>torch_conv1d_model</title>\n",
       "<polygon fill=\"white\" stroke=\"none\" points=\"-4,4 -4,-819 218,-819 218,4 -4,4\"/>\n",
       "<g id=\"clust2\" class=\"cluster\">\n",
       "<title>cluster_3</title>\n",
       "<polygon fill=\"none\" stroke=\"black\" stroke-dasharray=\"5,2\" points=\"8,-473 8,-620 206,-620 206,-473 8,-473\"/>\n",
       "<text text-anchor=\"middle\" x=\"43.5\" y=\"-606.4\" font-family=\"Times New Roman,serif\" font-size=\"12.00\">MaxPool1d</text>\n",
       "</g>\n",
       "<g id=\"clust3\" class=\"cluster\">\n",
       "<title>cluster_4</title>\n",
       "<polygon fill=\"none\" stroke=\"black\" stroke-dasharray=\"5,2\" points=\"17,-318 17,-465 197,-465 197,-318 17,-318\"/>\n",
       "<text text-anchor=\"middle\" x=\"40.5\" y=\"-451.4\" font-family=\"Times New Roman,serif\" font-size=\"12.00\">Flatten</text>\n",
       "</g>\n",
       "<g id=\"clust1\" class=\"cluster\">\n",
       "<title>cluster_2</title>\n",
       "<polygon fill=\"none\" stroke=\"black\" stroke-dasharray=\"5,2\" points=\"17,-628 17,-775 197,-775 197,-628 17,-628\"/>\n",
       "<text text-anchor=\"middle\" x=\"43.5\" y=\"-761.4\" font-family=\"Times New Roman,serif\" font-size=\"12.00\">Conv1d</text>\n",
       "</g>\n",
       "<g id=\"clust5\" class=\"cluster\">\n",
       "<title>cluster_6</title>\n",
       "<polygon fill=\"none\" stroke=\"black\" stroke-dasharray=\"5,2\" points=\"23,-8 23,-155 191,-155 191,-8 23,-8\"/>\n",
       "<text text-anchor=\"middle\" x=\"49.5\" y=\"-141.4\" font-family=\"Times New Roman,serif\" font-size=\"12.00\">Sigmoid</text>\n",
       "</g>\n",
       "<g id=\"clust4\" class=\"cluster\">\n",
       "<title>cluster_5</title>\n",
       "<polygon fill=\"none\" stroke=\"black\" stroke-dasharray=\"5,2\" points=\"23,-163 23,-310 191,-310 191,-163 23,-163\"/>\n",
       "<text text-anchor=\"middle\" x=\"45.5\" y=\"-296.4\" font-family=\"Times New Roman,serif\" font-size=\"12.00\">Linear</text>\n",
       "</g>\n",
       "<!-- 0 -->\n",
       "<g id=\"node1\" class=\"node\">\n",
       "<title>0</title>\n",
       "<polygon fill=\"lightyellow\" stroke=\"none\" points=\"174,-815 40,-815 40,-783 174,-783 174,-815\"/>\n",
       "<polygon fill=\"none\" stroke=\"black\" points=\"40,-783 40,-815 102,-815 102,-783 40,-783\"/>\n",
       "<text text-anchor=\"start\" x=\"45\" y=\"-802\" font-family=\"Linux libertine\" font-size=\"10.00\">input&#45;tensor</text>\n",
       "<text text-anchor=\"start\" x=\"54\" y=\"-791\" font-family=\"Linux libertine\" font-size=\"10.00\">depth:0</text>\n",
       "<polygon fill=\"none\" stroke=\"black\" points=\"102,-783 102,-815 174,-815 174,-783 102,-783\"/>\n",
       "<text text-anchor=\"start\" x=\"107\" y=\"-796.5\" font-family=\"Linux libertine\" font-size=\"10.00\">(166086, 1, 3)</text>\n",
       "</g>\n",
       "<!-- 1 -->\n",
       "<g id=\"node2\" class=\"node\">\n",
       "<title>1</title>\n",
       "<polygon fill=\"aliceblue\" stroke=\"none\" points=\"188.5,-746 25.5,-746 25.5,-704 188.5,-704 188.5,-746\"/>\n",
       "<polygon fill=\"none\" stroke=\"black\" points=\"26,-704 26,-746 70,-746 70,-704 26,-704\"/>\n",
       "<text text-anchor=\"start\" x=\"32.5\" y=\"-728\" font-family=\"Linux libertine\" font-size=\"10.00\">conv1d</text>\n",
       "<text text-anchor=\"start\" x=\"31\" y=\"-717\" font-family=\"Linux libertine\" font-size=\"10.00\">depth:2</text>\n",
       "<polygon fill=\"none\" stroke=\"black\" points=\"70,-725 70,-746 114,-746 114,-725 70,-725\"/>\n",
       "<text text-anchor=\"start\" x=\"79.5\" y=\"-733\" font-family=\"Linux libertine\" font-size=\"10.00\">input:</text>\n",
       "<polygon fill=\"none\" stroke=\"black\" points=\"114,-725 114,-746 189,-746 189,-725 114,-725\"/>\n",
       "<text text-anchor=\"start\" x=\"119\" y=\"-733\" font-family=\"Linux libertine\" font-size=\"10.00\">(166086, 1, 3) </text>\n",
       "<polygon fill=\"none\" stroke=\"black\" points=\"70,-704 70,-725 114,-725 114,-704 70,-704\"/>\n",
       "<text text-anchor=\"start\" x=\"75\" y=\"-712\" font-family=\"Linux libertine\" font-size=\"10.00\">output: </text>\n",
       "<polygon fill=\"none\" stroke=\"black\" points=\"114,-704 114,-725 189,-725 189,-704 114,-704\"/>\n",
       "<text text-anchor=\"start\" x=\"119\" y=\"-712\" font-family=\"Linux libertine\" font-size=\"10.00\">(166086, 1, 3) </text>\n",
       "</g>\n",
       "<!-- 0&#45;&gt;1 -->\n",
       "<g id=\"edge1\" class=\"edge\">\n",
       "<title>0&#45;&gt;1</title>\n",
       "<path fill=\"none\" stroke=\"black\" d=\"M107,-782.73C107,-775.08 107,-765.52 107,-756.45\"/>\n",
       "<polygon fill=\"black\" stroke=\"black\" points=\"110.5,-756.17 107,-746.17 103.5,-756.17 110.5,-756.17\"/>\n",
       "</g>\n",
       "<!-- 2 -->\n",
       "<g id=\"node3\" class=\"node\">\n",
       "<title>2</title>\n",
       "<polygon fill=\"lightyellow\" stroke=\"none\" points=\"178,-668 36,-668 36,-636 178,-636 178,-668\"/>\n",
       "<polygon fill=\"none\" stroke=\"black\" points=\"36,-636 36,-668 106,-668 106,-636 36,-636\"/>\n",
       "<text text-anchor=\"start\" x=\"41\" y=\"-655\" font-family=\"Linux libertine\" font-size=\"10.00\">hidden&#45;tensor</text>\n",
       "<text text-anchor=\"start\" x=\"54\" y=\"-644\" font-family=\"Linux libertine\" font-size=\"10.00\">depth:1</text>\n",
       "<polygon fill=\"none\" stroke=\"black\" points=\"106,-636 106,-668 178,-668 178,-636 106,-636\"/>\n",
       "<text text-anchor=\"start\" x=\"111\" y=\"-649.5\" font-family=\"Linux libertine\" font-size=\"10.00\">(166086, 1, 3)</text>\n",
       "</g>\n",
       "<!-- 1&#45;&gt;2 -->\n",
       "<g id=\"edge2\" class=\"edge\">\n",
       "<title>1&#45;&gt;2</title>\n",
       "<path fill=\"none\" stroke=\"black\" d=\"M107,-703.84C107,-695.89 107,-686.66 107,-678.26\"/>\n",
       "<polygon fill=\"black\" stroke=\"black\" points=\"110.5,-678.24 107,-668.24 103.5,-678.24 110.5,-678.24\"/>\n",
       "</g>\n",
       "<!-- 3 -->\n",
       "<g id=\"node4\" class=\"node\">\n",
       "<title>3</title>\n",
       "<polygon fill=\"aliceblue\" stroke=\"none\" points=\"197.5,-591 16.5,-591 16.5,-549 197.5,-549 197.5,-591\"/>\n",
       "<polygon fill=\"none\" stroke=\"black\" points=\"17,-549 17,-591 79,-591 79,-549 17,-549\"/>\n",
       "<text text-anchor=\"start\" x=\"22\" y=\"-573\" font-family=\"Linux libertine\" font-size=\"10.00\">max_pool1d</text>\n",
       "<text text-anchor=\"start\" x=\"31\" y=\"-562\" font-family=\"Linux libertine\" font-size=\"10.00\">depth:2</text>\n",
       "<polygon fill=\"none\" stroke=\"black\" points=\"79,-570 79,-591 123,-591 123,-570 79,-570\"/>\n",
       "<text text-anchor=\"start\" x=\"88.5\" y=\"-578\" font-family=\"Linux libertine\" font-size=\"10.00\">input:</text>\n",
       "<polygon fill=\"none\" stroke=\"black\" points=\"123,-570 123,-591 198,-591 198,-570 123,-570\"/>\n",
       "<text text-anchor=\"start\" x=\"128\" y=\"-578\" font-family=\"Linux libertine\" font-size=\"10.00\">(166086, 1, 3) </text>\n",
       "<polygon fill=\"none\" stroke=\"black\" points=\"79,-549 79,-570 123,-570 123,-549 79,-549\"/>\n",
       "<text text-anchor=\"start\" x=\"84\" y=\"-557\" font-family=\"Linux libertine\" font-size=\"10.00\">output: </text>\n",
       "<polygon fill=\"none\" stroke=\"black\" points=\"123,-549 123,-570 198,-570 198,-549 123,-549\"/>\n",
       "<text text-anchor=\"start\" x=\"128\" y=\"-557\" font-family=\"Linux libertine\" font-size=\"10.00\">(166086, 1, 2) </text>\n",
       "</g>\n",
       "<!-- 2&#45;&gt;3 -->\n",
       "<g id=\"edge3\" class=\"edge\">\n",
       "<title>2&#45;&gt;3</title>\n",
       "<path fill=\"none\" stroke=\"black\" d=\"M107,-635.95C107,-626.15 107,-613.02 107,-601.13\"/>\n",
       "<polygon fill=\"black\" stroke=\"black\" points=\"110.5,-601.12 107,-591.12 103.5,-601.12 110.5,-601.12\"/>\n",
       "</g>\n",
       "<!-- 4 -->\n",
       "<g id=\"node5\" class=\"node\">\n",
       "<title>4</title>\n",
       "<polygon fill=\"lightyellow\" stroke=\"none\" points=\"178,-513 36,-513 36,-481 178,-481 178,-513\"/>\n",
       "<polygon fill=\"none\" stroke=\"black\" points=\"36,-481 36,-513 106,-513 106,-481 36,-481\"/>\n",
       "<text text-anchor=\"start\" x=\"41\" y=\"-500\" font-family=\"Linux libertine\" font-size=\"10.00\">hidden&#45;tensor</text>\n",
       "<text text-anchor=\"start\" x=\"54\" y=\"-489\" font-family=\"Linux libertine\" font-size=\"10.00\">depth:1</text>\n",
       "<polygon fill=\"none\" stroke=\"black\" points=\"106,-481 106,-513 178,-513 178,-481 106,-481\"/>\n",
       "<text text-anchor=\"start\" x=\"111\" y=\"-494.5\" font-family=\"Linux libertine\" font-size=\"10.00\">(166086, 1, 2)</text>\n",
       "</g>\n",
       "<!-- 3&#45;&gt;4 -->\n",
       "<g id=\"edge4\" class=\"edge\">\n",
       "<title>3&#45;&gt;4</title>\n",
       "<path fill=\"none\" stroke=\"black\" d=\"M107,-548.84C107,-540.89 107,-531.66 107,-523.26\"/>\n",
       "<polygon fill=\"black\" stroke=\"black\" points=\"110.5,-523.24 107,-513.24 103.5,-523.24 110.5,-523.24\"/>\n",
       "</g>\n",
       "<!-- 5 -->\n",
       "<g id=\"node6\" class=\"node\">\n",
       "<title>5</title>\n",
       "<polygon fill=\"aliceblue\" stroke=\"none\" points=\"188.5,-436 25.5,-436 25.5,-394 188.5,-394 188.5,-436\"/>\n",
       "<polygon fill=\"none\" stroke=\"black\" points=\"26,-394 26,-436 70,-436 70,-394 26,-394\"/>\n",
       "<text text-anchor=\"start\" x=\"34\" y=\"-418\" font-family=\"Linux libertine\" font-size=\"10.00\">flatten</text>\n",
       "<text text-anchor=\"start\" x=\"31\" y=\"-407\" font-family=\"Linux libertine\" font-size=\"10.00\">depth:2</text>\n",
       "<polygon fill=\"none\" stroke=\"black\" points=\"70,-415 70,-436 114,-436 114,-415 70,-415\"/>\n",
       "<text text-anchor=\"start\" x=\"79.5\" y=\"-423\" font-family=\"Linux libertine\" font-size=\"10.00\">input:</text>\n",
       "<polygon fill=\"none\" stroke=\"black\" points=\"114,-415 114,-436 189,-436 189,-415 114,-415\"/>\n",
       "<text text-anchor=\"start\" x=\"119\" y=\"-423\" font-family=\"Linux libertine\" font-size=\"10.00\">(166086, 1, 2) </text>\n",
       "<polygon fill=\"none\" stroke=\"black\" points=\"70,-394 70,-415 114,-415 114,-394 70,-394\"/>\n",
       "<text text-anchor=\"start\" x=\"75\" y=\"-402\" font-family=\"Linux libertine\" font-size=\"10.00\">output: </text>\n",
       "<polygon fill=\"none\" stroke=\"black\" points=\"114,-394 114,-415 189,-415 189,-394 114,-394\"/>\n",
       "<text text-anchor=\"start\" x=\"124.5\" y=\"-402\" font-family=\"Linux libertine\" font-size=\"10.00\">(166086, 2) </text>\n",
       "</g>\n",
       "<!-- 4&#45;&gt;5 -->\n",
       "<g id=\"edge5\" class=\"edge\">\n",
       "<title>4&#45;&gt;5</title>\n",
       "<path fill=\"none\" stroke=\"black\" d=\"M107,-480.95C107,-471.15 107,-458.02 107,-446.13\"/>\n",
       "<polygon fill=\"black\" stroke=\"black\" points=\"110.5,-446.12 107,-436.12 103.5,-446.12 110.5,-446.12\"/>\n",
       "</g>\n",
       "<!-- 6 -->\n",
       "<g id=\"node7\" class=\"node\">\n",
       "<title>6</title>\n",
       "<polygon fill=\"lightyellow\" stroke=\"none\" points=\"172.5,-358 41.5,-358 41.5,-326 172.5,-326 172.5,-358\"/>\n",
       "<polygon fill=\"none\" stroke=\"black\" points=\"42,-326 42,-358 112,-358 112,-326 42,-326\"/>\n",
       "<text text-anchor=\"start\" x=\"47\" y=\"-345\" font-family=\"Linux libertine\" font-size=\"10.00\">hidden&#45;tensor</text>\n",
       "<text text-anchor=\"start\" x=\"60\" y=\"-334\" font-family=\"Linux libertine\" font-size=\"10.00\">depth:1</text>\n",
       "<polygon fill=\"none\" stroke=\"black\" points=\"112,-326 112,-358 173,-358 173,-326 112,-326\"/>\n",
       "<text text-anchor=\"start\" x=\"117\" y=\"-339.5\" font-family=\"Linux libertine\" font-size=\"10.00\">(166086, 2)</text>\n",
       "</g>\n",
       "<!-- 5&#45;&gt;6 -->\n",
       "<g id=\"edge6\" class=\"edge\">\n",
       "<title>5&#45;&gt;6</title>\n",
       "<path fill=\"none\" stroke=\"black\" d=\"M107,-393.84C107,-385.89 107,-376.66 107,-368.26\"/>\n",
       "<polygon fill=\"black\" stroke=\"black\" points=\"110.5,-368.24 107,-358.24 103.5,-368.24 110.5,-368.24\"/>\n",
       "</g>\n",
       "<!-- 7 -->\n",
       "<g id=\"node8\" class=\"node\">\n",
       "<title>7</title>\n",
       "<polygon fill=\"aliceblue\" stroke=\"none\" points=\"183,-281 31,-281 31,-239 183,-239 183,-281\"/>\n",
       "<polygon fill=\"none\" stroke=\"black\" points=\"31,-239 31,-281 75,-281 75,-239 31,-239\"/>\n",
       "<text text-anchor=\"start\" x=\"40.5\" y=\"-263\" font-family=\"Linux libertine\" font-size=\"10.00\">linear</text>\n",
       "<text text-anchor=\"start\" x=\"36\" y=\"-252\" font-family=\"Linux libertine\" font-size=\"10.00\">depth:2</text>\n",
       "<polygon fill=\"none\" stroke=\"black\" points=\"75,-260 75,-281 119,-281 119,-260 75,-260\"/>\n",
       "<text text-anchor=\"start\" x=\"84.5\" y=\"-268\" font-family=\"Linux libertine\" font-size=\"10.00\">input:</text>\n",
       "<polygon fill=\"none\" stroke=\"black\" points=\"119,-260 119,-281 183,-281 183,-260 119,-260\"/>\n",
       "<text text-anchor=\"start\" x=\"124\" y=\"-268\" font-family=\"Linux libertine\" font-size=\"10.00\">(166086, 2) </text>\n",
       "<polygon fill=\"none\" stroke=\"black\" points=\"75,-239 75,-260 119,-260 119,-239 75,-239\"/>\n",
       "<text text-anchor=\"start\" x=\"80\" y=\"-247\" font-family=\"Linux libertine\" font-size=\"10.00\">output: </text>\n",
       "<polygon fill=\"none\" stroke=\"black\" points=\"119,-239 119,-260 183,-260 183,-239 119,-239\"/>\n",
       "<text text-anchor=\"start\" x=\"124\" y=\"-247\" font-family=\"Linux libertine\" font-size=\"10.00\">(166086, 1) </text>\n",
       "</g>\n",
       "<!-- 6&#45;&gt;7 -->\n",
       "<g id=\"edge7\" class=\"edge\">\n",
       "<title>6&#45;&gt;7</title>\n",
       "<path fill=\"none\" stroke=\"black\" d=\"M107,-325.95C107,-316.15 107,-303.02 107,-291.13\"/>\n",
       "<polygon fill=\"black\" stroke=\"black\" points=\"110.5,-291.12 107,-281.12 103.5,-291.12 110.5,-291.12\"/>\n",
       "</g>\n",
       "<!-- 8 -->\n",
       "<g id=\"node9\" class=\"node\">\n",
       "<title>8</title>\n",
       "<polygon fill=\"lightyellow\" stroke=\"none\" points=\"172.5,-203 41.5,-203 41.5,-171 172.5,-171 172.5,-203\"/>\n",
       "<polygon fill=\"none\" stroke=\"black\" points=\"42,-171 42,-203 112,-203 112,-171 42,-171\"/>\n",
       "<text text-anchor=\"start\" x=\"47\" y=\"-190\" font-family=\"Linux libertine\" font-size=\"10.00\">hidden&#45;tensor</text>\n",
       "<text text-anchor=\"start\" x=\"60\" y=\"-179\" font-family=\"Linux libertine\" font-size=\"10.00\">depth:1</text>\n",
       "<polygon fill=\"none\" stroke=\"black\" points=\"112,-171 112,-203 173,-203 173,-171 112,-171\"/>\n",
       "<text text-anchor=\"start\" x=\"117\" y=\"-184.5\" font-family=\"Linux libertine\" font-size=\"10.00\">(166086, 1)</text>\n",
       "</g>\n",
       "<!-- 7&#45;&gt;8 -->\n",
       "<g id=\"edge8\" class=\"edge\">\n",
       "<title>7&#45;&gt;8</title>\n",
       "<path fill=\"none\" stroke=\"black\" d=\"M107,-238.84C107,-230.89 107,-221.66 107,-213.26\"/>\n",
       "<polygon fill=\"black\" stroke=\"black\" points=\"110.5,-213.24 107,-203.24 103.5,-213.24 110.5,-213.24\"/>\n",
       "</g>\n",
       "<!-- 9 -->\n",
       "<g id=\"node10\" class=\"node\">\n",
       "<title>9</title>\n",
       "<polygon fill=\"aliceblue\" stroke=\"none\" points=\"183,-126 31,-126 31,-84 183,-84 183,-126\"/>\n",
       "<polygon fill=\"none\" stroke=\"black\" points=\"31,-84 31,-126 75,-126 75,-84 31,-84\"/>\n",
       "<text text-anchor=\"start\" x=\"36\" y=\"-108\" font-family=\"Linux libertine\" font-size=\"10.00\">sigmoid</text>\n",
       "<text text-anchor=\"start\" x=\"36\" y=\"-97\" font-family=\"Linux libertine\" font-size=\"10.00\">depth:2</text>\n",
       "<polygon fill=\"none\" stroke=\"black\" points=\"75,-105 75,-126 119,-126 119,-105 75,-105\"/>\n",
       "<text text-anchor=\"start\" x=\"84.5\" y=\"-113\" font-family=\"Linux libertine\" font-size=\"10.00\">input:</text>\n",
       "<polygon fill=\"none\" stroke=\"black\" points=\"119,-105 119,-126 183,-126 183,-105 119,-105\"/>\n",
       "<text text-anchor=\"start\" x=\"124\" y=\"-113\" font-family=\"Linux libertine\" font-size=\"10.00\">(166086, 1) </text>\n",
       "<polygon fill=\"none\" stroke=\"black\" points=\"75,-84 75,-105 119,-105 119,-84 75,-84\"/>\n",
       "<text text-anchor=\"start\" x=\"80\" y=\"-92\" font-family=\"Linux libertine\" font-size=\"10.00\">output: </text>\n",
       "<polygon fill=\"none\" stroke=\"black\" points=\"119,-84 119,-105 183,-105 183,-84 119,-84\"/>\n",
       "<text text-anchor=\"start\" x=\"124\" y=\"-92\" font-family=\"Linux libertine\" font-size=\"10.00\">(166086, 1) </text>\n",
       "</g>\n",
       "<!-- 8&#45;&gt;9 -->\n",
       "<g id=\"edge9\" class=\"edge\">\n",
       "<title>8&#45;&gt;9</title>\n",
       "<path fill=\"none\" stroke=\"black\" d=\"M107,-170.95C107,-161.15 107,-148.02 107,-136.13\"/>\n",
       "<polygon fill=\"black\" stroke=\"black\" points=\"110.5,-136.12 107,-126.12 103.5,-136.12 110.5,-136.12\"/>\n",
       "</g>\n",
       "<!-- 10 -->\n",
       "<g id=\"node11\" class=\"node\">\n",
       "<title>10</title>\n",
       "<polygon fill=\"lightyellow\" stroke=\"none\" points=\"171.5,-48 42.5,-48 42.5,-16 171.5,-16 171.5,-48\"/>\n",
       "<polygon fill=\"none\" stroke=\"black\" points=\"43,-16 43,-48 111,-48 111,-16 43,-16\"/>\n",
       "<text text-anchor=\"start\" x=\"48\" y=\"-35\" font-family=\"Linux libertine\" font-size=\"10.00\">output&#45;tensor</text>\n",
       "<text text-anchor=\"start\" x=\"60\" y=\"-24\" font-family=\"Linux libertine\" font-size=\"10.00\">depth:0</text>\n",
       "<polygon fill=\"none\" stroke=\"black\" points=\"111,-16 111,-48 172,-48 172,-16 111,-16\"/>\n",
       "<text text-anchor=\"start\" x=\"116\" y=\"-29.5\" font-family=\"Linux libertine\" font-size=\"10.00\">(166086, 1)</text>\n",
       "</g>\n",
       "<!-- 9&#45;&gt;10 -->\n",
       "<g id=\"edge10\" class=\"edge\">\n",
       "<title>9&#45;&gt;10</title>\n",
       "<path fill=\"none\" stroke=\"black\" d=\"M107,-83.84C107,-75.89 107,-66.66 107,-58.26\"/>\n",
       "<polygon fill=\"black\" stroke=\"black\" points=\"110.5,-58.24 107,-48.24 103.5,-58.24 110.5,-58.24\"/>\n",
       "</g>\n",
       "</g>\n",
       "</svg>\n"
      ],
      "text/plain": [
       "<graphviz.graphs.Digraph at 0x1c1f128cd90>"
      ]
     },
     "execution_count": 40,
     "metadata": {},
     "output_type": "execute_result"
    }
   ],
   "source": [
    "# Plot the model\n",
    "# https://stackoverflow.com/questions/52468956/how-do-i-visualize-a-net-in-pytorch\n",
    "model_graph = draw_graph(model=torch_conv1d_model, input_data=X_train_pca, graph_name='torch_conv1d_model', \\\n",
    "                         expand_nested=True, save_graph=False,show_shapes=True, graph_dir='TB', \\\n",
    "                            roll=True, hide_inner_tensors=False, hide_module_functions=False)\n",
    "model_graph.visual_graph"
   ]
  },
  {
   "cell_type": "code",
   "execution_count": 41,
   "metadata": {},
   "outputs": [
    {
     "data": {
      "text/plain": [
       "[Parameter containing:\n",
       " tensor([[[-0.0375, -0.0153, -0.1677,  0.1029, -0.2559]]], requires_grad=True),\n",
       " Parameter containing:\n",
       " tensor([-0.0789], requires_grad=True),\n",
       " Parameter containing:\n",
       " tensor([[0.2741, 0.6637]], requires_grad=True),\n",
       " Parameter containing:\n",
       " tensor([0.1666], requires_grad=True)]"
      ]
     },
     "execution_count": 41,
     "metadata": {},
     "output_type": "execute_result"
    }
   ],
   "source": [
    "# What does the untrained parameters look like\n",
    "# Well they look just like the information in the state dict above ;-) \n",
    "list(torch_conv1d_model.eval().parameters())"
   ]
  },
  {
   "cell_type": "code",
   "execution_count": 42,
   "metadata": {},
   "outputs": [
    {
     "data": {
      "text/plain": [
       "tensor([[0.5232],\n",
       "        [0.5232],\n",
       "        [0.5232],\n",
       "        ...,\n",
       "        [0.5232],\n",
       "        [0.5232],\n",
       "        [0.5232]], grad_fn=<SigmoidBackward0>)"
      ]
     },
     "execution_count": 42,
     "metadata": {},
     "output_type": "execute_result"
    }
   ],
   "source": [
    "# Make a prediction on the model with untrained parameters\n",
    "# Basically taking a sneak peek\n",
    "torch_conv1d_model(X_train_pca)"
   ]
  },
  {
   "cell_type": "code",
   "execution_count": 43,
   "metadata": {},
   "outputs": [],
   "source": [
    "# Get a look at the model \n",
    "import torchinfo"
   ]
  },
  {
   "cell_type": "code",
   "execution_count": 44,
   "metadata": {},
   "outputs": [
    {
     "data": {
      "text/plain": [
       "=================================================================\n",
       "Layer (type:depth-idx)                   Param #\n",
       "=================================================================\n",
       "Sequential                               --\n",
       "├─Conv1d: 1-1                            6\n",
       "├─MaxPool1d: 1-2                         --\n",
       "├─Flatten: 1-3                           --\n",
       "├─Linear: 1-4                            3\n",
       "├─Sigmoid: 1-5                           --\n",
       "=================================================================\n",
       "Total params: 9\n",
       "Trainable params: 9\n",
       "Non-trainable params: 0\n",
       "================================================================="
      ]
     },
     "execution_count": 44,
     "metadata": {},
     "output_type": "execute_result"
    }
   ],
   "source": [
    "# Get a summary of the model\n",
    "torchinfo.summary(model=torch_conv1d_model, depth=5)"
   ]
  },
  {
   "cell_type": "code",
   "execution_count": null,
   "metadata": {},
   "outputs": [],
   "source": []
  },
  {
   "cell_type": "code",
   "execution_count": 45,
   "metadata": {},
   "outputs": [],
   "source": [
    "# Build a training loop now that our model is defined.\n",
    "# Reusing the function created in the PyTorch classification\n",
    "#   17. Beginning Deep Learning, - Classification, Pytorch\n",
    "\n",
    "# In the following notebooks ...\n",
    "#   13. Beginning Deep Learning - Anomaly Detection with AutoEncoders, PyTroch\n",
    "#   15. Beginning Deep Learning, - Linear Regression, PyTorch\n",
    "# the training was all done outside of a function. Rather than rewriting the same code all the time\n",
    "# time to create a function\n",
    "\n",
    "def torch_training(model=None, epochs=10, learning_rate=0.01, x_train=X_train_pca, \\\n",
    "                   y_train=y_train, x_test=X_test_pca, y_test=y_test):\n",
    "    ''' Performs training of the model '''\n",
    "    # Create to lists to save the training and test loss respectively \n",
    "    training_loss, validation_loss = [], []\n",
    "\n",
    "    # Setup the loss function\n",
    "    clf_loss_fn = torch.nn.BCELoss()\n",
    "\n",
    "    # Setup the optimizer\n",
    "    clf_optimizer = torch.optim.Adam(params=model.parameters(), lr=learning_rate)\n",
    "    \n",
    "    for epoch in range(epochs):\n",
    "        # Clear the gradients\n",
    "        clf_optimizer.zero_grad()\n",
    "\n",
    "        # Train the model\n",
    "        model.train()\n",
    "\n",
    "        # Make predictions on the training data\n",
    "        train_preds = model(x_train)\n",
    "    \n",
    "        # Get the loss\n",
    "        train_loss = clf_loss_fn(train_preds, y_train)\n",
    "        training_loss.append(train_loss)\n",
    "\n",
    "        # Calculate the gradients\n",
    "        train_loss.backward()\n",
    "\n",
    "        # Upgrade the gradients\n",
    "        clf_optimizer.step()\n",
    "\n",
    "        # Evaluate the model at the same time\n",
    "        model.eval()\n",
    "        with torch.inference_mode():\n",
    "            val_preds = model(x_test)\n",
    "\n",
    "            # Calculate the loss on the validation data\n",
    "            val_loss = clf_loss_fn(val_preds, y_test)\n",
    "            validation_loss.append(val_loss)\n",
    "\n",
    "        if epoch %50 == 0:\n",
    "            print(f'Epoch: {epoch} \\t training loss: {train_loss} \\t validation loss {val_loss}')\n",
    "    \n",
    "    return model, training_loss, validation_loss"
   ]
  },
  {
   "cell_type": "code",
   "execution_count": 46,
   "metadata": {},
   "outputs": [
    {
     "name": "stdout",
     "output_type": "stream",
     "text": [
      "Epoch: 0 \t training loss: 0.740565299987793 \t validation loss 0.7295573949813843\n",
      "Epoch: 50 \t training loss: 0.21152958273887634 \t validation loss 0.20451107621192932\n",
      "Epoch: 100 \t training loss: 0.04799933359026909 \t validation loss 0.04687802866101265\n",
      "Epoch: 150 \t training loss: 0.020377807319164276 \t validation loss 0.020021824166178703\n",
      "Epoch: 200 \t training loss: 0.012035112828016281 \t validation loss 0.011794541962444782\n",
      "Epoch: 250 \t training loss: 0.008398829959332943 \t validation loss 0.008182840421795845\n"
     ]
    }
   ],
   "source": [
    "# Train the model and get the train and validation loss\n",
    "(model, train_loss, val_loss) = torch_training(model=torch_conv1d_model, epochs=300, learning_rate=0.01)"
   ]
  },
  {
   "cell_type": "code",
   "execution_count": 47,
   "metadata": {},
   "outputs": [
    {
     "data": {
      "text/plain": [
       "OrderedDict([('0.weight',\n",
       "              tensor([[[0.4878, 0.7301, 0.9895, 0.7300, 0.6173]]])),\n",
       "             ('0.bias', tensor([-1.2370])),\n",
       "             ('3.weight', tensor([[1.7006, 2.0902]])),\n",
       "             ('3.bias', tensor([-0.6399]))])"
      ]
     },
     "execution_count": 47,
     "metadata": {},
     "output_type": "execute_result"
    }
   ],
   "source": [
    "# Get the model Learned parameters - Weights and Bias\n",
    "model.state_dict()"
   ]
  },
  {
   "cell_type": "code",
   "execution_count": 48,
   "metadata": {},
   "outputs": [
    {
     "data": {
      "image/png": "[encoded data removed]",
      "text/plain": [
       "<Figure size 640x480 with 1 Axes>"
      ]
     },
     "metadata": {},
     "output_type": "display_data"
    }
   ],
   "source": [
    "# Plotting the training loss values\n",
    "plt.title(f'Training vs Validation Loss after epochs ')\n",
    "\n",
    "# Trying to plot on the \"training_loss\" by itself will not work\n",
    "# Matplotlib will more than likely throw an error\n",
    "# Hence we needed to do \"torch.tensor(training_loss).detach()\"\n",
    "plt.plot(torch.tensor(train_loss).detach(), lw=3, label='train_loss')\n",
    "plt.plot(torch.tensor(val_loss).detach(), lw=3, label='val_loss')\n",
    "plt.xlabel('Epochs')\n",
    "plt.ylabel('Loss')\n",
    "plt.legend()\n",
    "plt.show()"
   ]
  },
  {
   "cell_type": "code",
   "execution_count": 49,
   "metadata": {},
   "outputs": [
    {
     "data": {
      "text/plain": [
       "tensor([[[0.0140, 0.0644, 0.2027]]])"
      ]
     },
     "execution_count": 49,
     "metadata": {},
     "output_type": "execute_result"
    }
   ],
   "source": [
    "# That's a nice looking graph above there\n",
    "# Create a sample x for prediction\n",
    "new_sample = torch.tensor(data=np.array(pca.transform( \\\n",
    "    min_max_scaler.transform(np.array([7110, 1124942, 16527, 1873, 1251154, 1695, 112731], \\\n",
    "                                                                      ndmin=2))), ndmin=3), dtype=torch.float32)\n",
    "new_sample"
   ]
  },
  {
   "cell_type": "code",
   "execution_count": 50,
   "metadata": {},
   "outputs": [
    {
     "data": {
      "text/plain": [
       "tensor([[0.0119]])"
      ]
     },
     "execution_count": 50,
     "metadata": {},
     "output_type": "execute_result"
    }
   ],
   "source": [
    "# Make a prediction\n",
    "# If the prediction is greater than 0.5 then this sample is suspicious\n",
    "# Else it is normal\n",
    "with torch.inference_mode():\n",
    "    sample_pred = torch_conv1d_model(new_sample)\n",
    "sample_pred"
   ]
  },
  {
   "cell_type": "code",
   "execution_count": 51,
   "metadata": {},
   "outputs": [
    {
     "data": {
      "text/plain": [
       "tensor([[0.0048],\n",
       "        [0.0048],\n",
       "        [0.0048],\n",
       "        ...,\n",
       "        [0.0048],\n",
       "        [0.0048],\n",
       "        [0.0048]])"
      ]
     },
     "execution_count": 51,
     "metadata": {},
     "output_type": "execute_result"
    }
   ],
   "source": [
    "# Make predictions on the test data\n",
    "with torch.inference_mode():\n",
    "    predictions = torch_conv1d_model(X_test_pca)\n",
    "predictions"
   ]
  },
  {
   "cell_type": "code",
   "execution_count": 52,
   "metadata": {},
   "outputs": [
    {
     "data": {
      "text/plain": [
       "(torch.Size([41522, 1]), torch.Size([41522, 1]))"
      ]
     },
     "execution_count": 52,
     "metadata": {},
     "output_type": "execute_result"
    }
   ],
   "source": [
    "# Get the shape of the predictions\n",
    "predictions.shape, y_test.shape"
   ]
  },
  {
   "cell_type": "code",
   "execution_count": 53,
   "metadata": {},
   "outputs": [
    {
     "data": {
      "text/plain": [
       "<matplotlib.legend.Legend at 0x1c1f1103e50>"
      ]
     },
     "execution_count": 53,
     "metadata": {},
     "output_type": "execute_result"
    },
    {
     "data": {
      "image/png": "[encoded data removed]",
      "text/plain": [
       "<Figure size 640x480 with 1 Axes>"
      ]
     },
     "metadata": {},
     "output_type": "display_data"
    }
   ],
   "source": [
    "# Model looks terrible. \n",
    "plt.title('True vs Predictions')\n",
    "plt.plot(y_test, linestyle='', marker='o', label='True Y')\n",
    "plt.plot(predictions, ls='-', lw=2, label='predictions')\n",
    "plt.legend(loc='best')\n"
   ]
  },
  {
   "cell_type": "code",
   "execution_count": 54,
   "metadata": {},
   "outputs": [],
   "source": [
    "# Above confirms the model is terrible\n",
    "# import some metrics\n",
    "from sklearn.metrics import accuracy_score, confusion_matrix, classification_report"
   ]
  },
  {
   "cell_type": "code",
   "execution_count": 55,
   "metadata": {},
   "outputs": [
    {
     "data": {
      "text/plain": [
       "0.9997109965801262"
      ]
     },
     "execution_count": 55,
     "metadata": {},
     "output_type": "execute_result"
    }
   ],
   "source": [
    "# Grabbing the accuracy score\n",
    "# Note, we cannot just get the predictions as this would produce continuous values\n",
    "# Imagine the model is reporting 99% accuracy. \n",
    "# Accuracy is misleading here\n",
    "accuracy_score(y_true=y_test, y_pred=np.round(predictions))"
   ]
  },
  {
   "cell_type": "code",
   "execution_count": 56,
   "metadata": {},
   "outputs": [
    {
     "name": "stdout",
     "output_type": "stream",
     "text": [
      "              precision    recall  f1-score   support\n",
      "\n",
      "         0.0       1.00      1.00      1.00     41509\n",
      "         1.0       1.00      0.08      0.14        13\n",
      "\n",
      "    accuracy                           1.00     41522\n",
      "   macro avg       1.00      0.54      0.57     41522\n",
      "weighted avg       1.00      1.00      1.00     41522\n",
      "\n"
     ]
    }
   ],
   "source": [
    "# Print classification report\n",
    "print(classification_report(y_true=y_test, y_pred=np.round(predictions)))"
   ]
  },
  {
   "cell_type": "code",
   "execution_count": 57,
   "metadata": {},
   "outputs": [],
   "source": [
    "# import seaborn\n",
    "# https://seaborn.pydata.org/generated/seaborn.heatmap.html\n",
    "import seaborn as sns"
   ]
  },
  {
   "cell_type": "code",
   "execution_count": 58,
   "metadata": {},
   "outputs": [
    {
     "data": {
      "image/png": "[encoded data removed]",
      "text/plain": [
       "<Figure size 640x480 with 2 Axes>"
      ]
     },
     "metadata": {},
     "output_type": "display_data"
    }
   ],
   "source": [
    "# Looking at the confusion matrix\n",
    "# To learn more about these metrics see notebook:\n",
    "#   10. Beginning Supervise Learning - Machine Learning - Logistic Regression, Decision Trees and Metrics\n",
    "sns.heatmap(confusion_matrix(y_true=y_test, y_pred=np.round(predictions)), annot=True, fmt='d')\n",
    "plt.title('Confusion Matrix')\n",
    "plt.xlabel('Predicted')\n",
    "plt.ylabel('Actual')\n",
    "plt.show()"
   ]
  },
  {
   "cell_type": "code",
   "execution_count": 59,
   "metadata": {},
   "outputs": [],
   "source": [
    "# Model needs work"
   ]
  },
  {
   "cell_type": "code",
   "execution_count": 60,
   "metadata": {},
   "outputs": [],
   "source": [
    "# Prepare to save the model\n",
    "import os"
   ]
  },
  {
   "cell_type": "code",
   "execution_count": 61,
   "metadata": {},
   "outputs": [],
   "source": [
    "# Create the path\n",
    "PATH = './SAVED_MODELS/TORCH_CONV_1D/'\n",
    "MODELS_PATH = os.makedirs(name=PATH, exist_ok=True)"
   ]
  },
  {
   "cell_type": "code",
   "execution_count": 62,
   "metadata": {},
   "outputs": [],
   "source": [
    "# Save the model weights\n",
    "torch.save(obj=model, f=F'{PATH}/torch_conv1d_model.pth')"
   ]
  },
  {
   "cell_type": "code",
   "execution_count": 63,
   "metadata": {},
   "outputs": [
    {
     "data": {
      "text/plain": [
       "Sequential(\n",
       "  (0): Conv1d(1, 1, kernel_size=(5,), stride=(1,), padding=same)\n",
       "  (1): MaxPool1d(kernel_size=2, stride=1, padding=0, dilation=1, ceil_mode=False)\n",
       "  (2): Flatten(start_dim=1, end_dim=-1)\n",
       "  (3): Linear(in_features=2, out_features=1, bias=True)\n",
       "  (4): Sigmoid()\n",
       ")"
      ]
     },
     "execution_count": 63,
     "metadata": {},
     "output_type": "execute_result"
    }
   ],
   "source": [
    "loaded_conv1d_torch_model = torch.load(f=f'{PATH}/torch_conv1d_model.pth')\n",
    "loaded_conv1d_torch_model"
   ]
  },
  {
   "cell_type": "code",
   "execution_count": 64,
   "metadata": {},
   "outputs": [
    {
     "data": {
      "text/plain": [
       "tensor([[0.0119]], grad_fn=<SigmoidBackward0>)"
      ]
     },
     "execution_count": 64,
     "metadata": {},
     "output_type": "execute_result"
    }
   ],
   "source": [
    "# Make a prediction on the loaded model\n",
    "loaded_conv1d_torch_model(new_sample)"
   ]
  },
  {
   "cell_type": "code",
   "execution_count": null,
   "metadata": {},
   "outputs": [],
   "source": []
  },
  {
   "cell_type": "code",
   "execution_count": 65,
   "metadata": {},
   "outputs": [
    {
     "data": {
      "text/plain": [
       "array([8.762e-03, 5.300e+01, 1.490e+02, 1.000e+00, 8.100e+01, 1.000e+00,\n",
       "       1.770e+02])"
      ]
     },
     "execution_count": 65,
     "metadata": {},
     "output_type": "execute_result"
    }
   ],
   "source": [
    "# Before attempting to take advantage of conv2d layer, we need to reshape our data.\n",
    "# Keep in mind our data currently is a 1d vector\n",
    "X_train[0]"
   ]
  },
  {
   "cell_type": "code",
   "execution_count": 66,
   "metadata": {},
   "outputs": [
    {
     "data": {
      "text/plain": [
       "(7,)"
      ]
     },
     "execution_count": 66,
     "metadata": {},
     "output_type": "execute_result"
    }
   ],
   "source": [
    "# The shape is 1x3\n",
    "# 1 row and 3 columns\n",
    "X_train[0].shape"
   ]
  },
  {
   "cell_type": "code",
   "execution_count": 67,
   "metadata": {},
   "outputs": [
    {
     "data": {
      "text/html": [
       "<div>\n",
       "<style scoped>\n",
       "    .dataframe tbody tr th:only-of-type {\n",
       "        vertical-align: middle;\n",
       "    }\n",
       "\n",
       "    .dataframe tbody tr th {\n",
       "        vertical-align: top;\n",
       "    }\n",
       "\n",
       "    .dataframe thead th {\n",
       "        text-align: right;\n",
       "    }\n",
       "</style>\n",
       "<table border=\"1\" class=\"dataframe\">\n",
       "  <thead>\n",
       "    <tr style=\"text-align: right;\">\n",
       "      <th></th>\n",
       "      <th>duration</th>\n",
       "      <th>orig_bytes</th>\n",
       "      <th>resp_bytes</th>\n",
       "      <th>orig_pkts</th>\n",
       "      <th>orig_ip_bytes</th>\n",
       "      <th>resp_pkts</th>\n",
       "      <th>resp_ip_bytes</th>\n",
       "    </tr>\n",
       "  </thead>\n",
       "  <tbody>\n",
       "    <tr>\n",
       "      <th>5</th>\n",
       "      <td>0.053276</td>\n",
       "      <td>208</td>\n",
       "      <td>976</td>\n",
       "      <td>6</td>\n",
       "      <td>528</td>\n",
       "      <td>6</td>\n",
       "      <td>1296</td>\n",
       "    </tr>\n",
       "    <tr>\n",
       "      <th>6</th>\n",
       "      <td>0.383646</td>\n",
       "      <td>227</td>\n",
       "      <td>692369</td>\n",
       "      <td>202</td>\n",
       "      <td>10739</td>\n",
       "      <td>117</td>\n",
       "      <td>240893</td>\n",
       "    </tr>\n",
       "    <tr>\n",
       "      <th>7</th>\n",
       "      <td>0.054294</td>\n",
       "      <td>208</td>\n",
       "      <td>977</td>\n",
       "      <td>6</td>\n",
       "      <td>528</td>\n",
       "      <td>6</td>\n",
       "      <td>1297</td>\n",
       "    </tr>\n",
       "    <tr>\n",
       "      <th>8</th>\n",
       "      <td>0.424980</td>\n",
       "      <td>227</td>\n",
       "      <td>791633</td>\n",
       "      <td>176</td>\n",
       "      <td>9387</td>\n",
       "      <td>174</td>\n",
       "      <td>367737</td>\n",
       "    </tr>\n",
       "    <tr>\n",
       "      <th>9</th>\n",
       "      <td>0.272567</td>\n",
       "      <td>227</td>\n",
       "      <td>406607</td>\n",
       "      <td>171</td>\n",
       "      <td>9127</td>\n",
       "      <td>71</td>\n",
       "      <td>169939</td>\n",
       "    </tr>\n",
       "    <tr>\n",
       "      <th>...</th>\n",
       "      <td>...</td>\n",
       "      <td>...</td>\n",
       "      <td>...</td>\n",
       "      <td>...</td>\n",
       "      <td>...</td>\n",
       "      <td>...</td>\n",
       "      <td>...</td>\n",
       "    </tr>\n",
       "    <tr>\n",
       "      <th>4430183</th>\n",
       "      <td>0.000051</td>\n",
       "      <td>0</td>\n",
       "      <td>0</td>\n",
       "      <td>1</td>\n",
       "      <td>52</td>\n",
       "      <td>1</td>\n",
       "      <td>40</td>\n",
       "    </tr>\n",
       "    <tr>\n",
       "      <th>4430184</th>\n",
       "      <td>0.000023</td>\n",
       "      <td>0</td>\n",
       "      <td>0</td>\n",
       "      <td>0</td>\n",
       "      <td>0</td>\n",
       "      <td>1</td>\n",
       "      <td>40</td>\n",
       "    </tr>\n",
       "    <tr>\n",
       "      <th>4430185</th>\n",
       "      <td>0.000005</td>\n",
       "      <td>0</td>\n",
       "      <td>0</td>\n",
       "      <td>0</td>\n",
       "      <td>0</td>\n",
       "      <td>1</td>\n",
       "      <td>40</td>\n",
       "    </tr>\n",
       "    <tr>\n",
       "      <th>4430186</th>\n",
       "      <td>0.000005</td>\n",
       "      <td>0</td>\n",
       "      <td>0</td>\n",
       "      <td>0</td>\n",
       "      <td>0</td>\n",
       "      <td>1</td>\n",
       "      <td>40</td>\n",
       "    </tr>\n",
       "    <tr>\n",
       "      <th>4430187</th>\n",
       "      <td>0.000005</td>\n",
       "      <td>0</td>\n",
       "      <td>0</td>\n",
       "      <td>0</td>\n",
       "      <td>0</td>\n",
       "      <td>1</td>\n",
       "      <td>40</td>\n",
       "    </tr>\n",
       "  </tbody>\n",
       "</table>\n",
       "<p>207608 rows × 7 columns</p>\n",
       "</div>"
      ],
      "text/plain": [
       "         duration  orig_bytes  resp_bytes  orig_pkts  orig_ip_bytes   \n",
       "5        0.053276         208         976          6            528  \\\n",
       "6        0.383646         227      692369        202          10739   \n",
       "7        0.054294         208         977          6            528   \n",
       "8        0.424980         227      791633        176           9387   \n",
       "9        0.272567         227      406607        171           9127   \n",
       "...           ...         ...         ...        ...            ...   \n",
       "4430183  0.000051           0           0          1             52   \n",
       "4430184  0.000023           0           0          0              0   \n",
       "4430185  0.000005           0           0          0              0   \n",
       "4430186  0.000005           0           0          0              0   \n",
       "4430187  0.000005           0           0          0              0   \n",
       "\n",
       "         resp_pkts  resp_ip_bytes  \n",
       "5                6           1296  \n",
       "6              117         240893  \n",
       "7                6           1297  \n",
       "8              174         367737  \n",
       "9               71         169939  \n",
       "...            ...            ...  \n",
       "4430183          1             40  \n",
       "4430184          1             40  \n",
       "4430185          1             40  \n",
       "4430186          1             40  \n",
       "4430187          1             40  \n",
       "\n",
       "[207608 rows x 7 columns]"
      ]
     },
     "execution_count": 67,
     "metadata": {},
     "output_type": "execute_result"
    }
   ],
   "source": [
    "# For this convolution we need to reshape this data again\n",
    "# In the 1d convolution, I used 3 features\n",
    "# Setting up a new PCA this time with 4 dimensions\n",
    "# So that I can make each sample a square 2x2 matrix\n",
    "X_data = df_conn.drop(columns=['label'], inplace=False)\n",
    "X_data"
   ]
  },
  {
   "cell_type": "code",
   "execution_count": 68,
   "metadata": {},
   "outputs": [
    {
     "data": {
      "text/plain": [
       "5          0\n",
       "6          0\n",
       "7          0\n",
       "8          0\n",
       "9          0\n",
       "          ..\n",
       "4430183    0\n",
       "4430184    0\n",
       "4430185    0\n",
       "4430186    0\n",
       "4430187    0\n",
       "Name: label, Length: 207608, dtype: int64"
      ]
     },
     "execution_count": 68,
     "metadata": {},
     "output_type": "execute_result"
    }
   ],
   "source": [
    "# Get the labels (again. Did not need to, but ...)\n",
    "y_label = df_conn.label\n",
    "y_label"
   ]
  },
  {
   "cell_type": "code",
   "execution_count": 69,
   "metadata": {},
   "outputs": [
    {
     "data": {
      "text/plain": [
       "((166086, 7), (166086,), (41522, 7), (41522,))"
      ]
     },
     "execution_count": 69,
     "metadata": {},
     "output_type": "execute_result"
    }
   ],
   "source": [
    "# Split the data into train and test\n",
    "# Split the data into training and testing sets\n",
    "X_train, X_test, y_train, y_test = train_test_split(X_data.values, y_label, test_size=0.2, \\\n",
    "                                                    train_size=0.8, stratify=y_label, random_state=10)\n",
    "X_train.shape, y_train.shape, X_test.shape, y_test.shape"
   ]
  },
  {
   "cell_type": "code",
   "execution_count": 70,
   "metadata": {},
   "outputs": [],
   "source": [
    "# Setup the scaler\n",
    "min_max_scaler = MinMaxScaler(feature_range=(0,1))\n",
    "\n",
    "# Fit on the training data\n",
    "min_max_scaler.fit(X_train)\n",
    "\n",
    "# Transform the data\n",
    "X_train_scaled = min_max_scaler.transform(X_train)\n",
    "\n",
    "# Transform the test data\n",
    "X_test_scaled = min_max_scaler.transform(X_test)"
   ]
  },
  {
   "cell_type": "code",
   "execution_count": 71,
   "metadata": {},
   "outputs": [
    {
     "data": {
      "text/plain": [
       "array([[-2.58281486e-04, -2.34968361e-04, -4.76652709e-04,\n",
       "         3.60448930e-05],\n",
       "       [-2.58390230e-04, -2.35020471e-04, -4.76526754e-04,\n",
       "         3.60380283e-05],\n",
       "       [-2.58464066e-04, -2.35151244e-04, -4.76858412e-04,\n",
       "         3.59983123e-05],\n",
       "       ...,\n",
       "       [-2.58464121e-04, -2.35151552e-04, -4.76859477e-04,\n",
       "         3.59983308e-05],\n",
       "       [-2.58464122e-04, -2.35151561e-04, -4.76859506e-04,\n",
       "         3.59983313e-05],\n",
       "       [-2.58257388e-04, -2.34936547e-04, -4.76574090e-04,\n",
       "         3.60015654e-05]])"
      ]
     },
     "execution_count": 71,
     "metadata": {},
     "output_type": "execute_result"
    }
   ],
   "source": [
    "# Setup PCA with 4 principal components\n",
    "pca = PCA(n_components=4)\n",
    "\n",
    "# Fit on the scaled data\n",
    "pca.fit(X_train_scaled)\n",
    "\n",
    "# Transform the scaled data\n",
    "X_train_pca = pca.transform(X_train_scaled)\n",
    "X_train_pca"
   ]
  },
  {
   "cell_type": "code",
   "execution_count": 72,
   "metadata": {},
   "outputs": [
    {
     "data": {
      "text/plain": [
       "(array([-2.58281486e-04, -2.34968361e-04, -4.76652709e-04,  3.60448930e-05]),\n",
       " (4,))"
      ]
     },
     "execution_count": 72,
     "metadata": {},
     "output_type": "execute_result"
    }
   ],
   "source": [
    "# Extracting 1 sample, we see it is shaped 1,4\n",
    "X_train_pca[0], X_train_pca[0].shape"
   ]
  },
  {
   "cell_type": "code",
   "execution_count": 73,
   "metadata": {},
   "outputs": [
    {
     "data": {
      "text/plain": [
       "(array([[[[-2.58281486e-04, -2.34968361e-04],\n",
       "          [-4.76652709e-04,  3.60448930e-05]]]]),\n",
       " (1, 1, 2, 2))"
      ]
     },
     "execution_count": 73,
     "metadata": {},
     "output_type": "execute_result"
    }
   ],
   "source": [
    "# Let's reshape this to 2x2\n",
    "X_train_pca[0].reshape(1, 1, 2, 2), X_train_pca[0].reshape(1, 1, 2, 2).shape"
   ]
  },
  {
   "cell_type": "code",
   "execution_count": 74,
   "metadata": {},
   "outputs": [
    {
     "data": {
      "text/plain": [
       "(array([[[[-2.58281486e-04, -2.34968361e-04],\n",
       "          [-4.76652709e-04,  3.60448930e-05]]],\n",
       " \n",
       " \n",
       "        [[[-2.58390230e-04, -2.35020471e-04],\n",
       "          [-4.76526754e-04,  3.60380283e-05]]]]),\n",
       " (166086, 1, 2, 2),\n",
       " 2388632    0\n",
       " 4233049    0\n",
       " Name: label, dtype: int64,\n",
       " (166086,))"
      ]
     },
     "execution_count": 74,
     "metadata": {},
     "output_type": "execute_result"
    }
   ],
   "source": [
    "# With he understanding of what is needed to reshape the data, time to do the same for all samples\n",
    "# We need to make the test data at least 3 dimensions, just as we did with the training data. \n",
    "# Let's reshape to get those 3 dimensions\n",
    "X_train_pca = [ np.array(i, ndmin=3).reshape(1,2,2) for i in X_train_pca ]\n",
    "X_train_pca = np.asarray(X_train_pca)\n",
    "\n",
    "# Make sure the batch size is consistent with the number of labels\n",
    "X_train_pca[:2], X_train_pca.shape, y_train[:2], y_train.shape"
   ]
  },
  {
   "cell_type": "code",
   "execution_count": 75,
   "metadata": {},
   "outputs": [
    {
     "data": {
      "text/plain": [
       "array([[[-2.58281486e-04, -2.34968361e-04],\n",
       "        [-4.76652709e-04,  3.60448930e-05]]])"
      ]
     },
     "execution_count": 75,
     "metadata": {},
     "output_type": "execute_result"
    }
   ],
   "source": [
    "# With the data reshaped, taking a look at one sample\n",
    "X_train_pca[0]"
   ]
  },
  {
   "cell_type": "code",
   "execution_count": 76,
   "metadata": {},
   "outputs": [
    {
     "data": {
      "text/plain": [
       "array([ 0.00134937,  0.000691  , -0.0008094 , -0.00031127])"
      ]
     },
     "execution_count": 76,
     "metadata": {},
     "output_type": "execute_result"
    }
   ],
   "source": [
    "# Transform the test data to 4 principal components\n",
    "X_test_pca = pca.transform(X_test_scaled)\n",
    "X_test_pca[0]"
   ]
  },
  {
   "cell_type": "code",
   "execution_count": 77,
   "metadata": {},
   "outputs": [
    {
     "data": {
      "text/plain": [
       "((41522, 1, 2, 2), (41522,))"
      ]
     },
     "execution_count": 77,
     "metadata": {},
     "output_type": "execute_result"
    }
   ],
   "source": [
    "# With he understanding of what is needed to reshape the data, time to do the same for all samples\n",
    "# We need to make the test data at least 3 dimensions, just as we did with the training data. \n",
    "# Let's reshape to get those 3 dimensions\n",
    "X_test_pca = [ np.array(i, ndmin=3).reshape(1,2,2) for i in X_test_pca ]\n",
    "X_test_pca = np.asarray(X_test_pca)\n",
    "\n",
    "# Make sure the batch size is consistent with the number of labels\n",
    "X_test_pca.shape, y_test.shape"
   ]
  },
  {
   "cell_type": "code",
   "execution_count": null,
   "metadata": {},
   "outputs": [],
   "source": []
  },
  {
   "cell_type": "code",
   "execution_count": 78,
   "metadata": {},
   "outputs": [
    {
     "data": {
      "text/plain": [
       "tensor([[[[-0.2138, -1.3780, -0.0546],\n",
       "          [ 0.4515,  0.7858, -1.0884],\n",
       "          [-0.5599, -0.9336,  0.0479]]]])"
      ]
     },
     "execution_count": 78,
     "metadata": {},
     "output_type": "execute_result"
    }
   ],
   "source": [
    "# Before building our model, let's see how conv2d works\n",
    "# Set the manual seed\n",
    "torch.manual_seed(12)\n",
    "# Setup a torch tensor\n",
    "conv2d_sample = torch.randn(size=(1,1,3,3))\n",
    "conv2d_sample"
   ]
  },
  {
   "cell_type": "code",
   "execution_count": 79,
   "metadata": {},
   "outputs": [
    {
     "data": {
      "text/plain": [
       "Conv2d(1, 1, kernel_size=(2, 2), stride=(1, 1), padding=valid, bias=False)"
      ]
     },
     "execution_count": 79,
     "metadata": {},
     "output_type": "execute_result"
    }
   ],
   "source": [
    "# Run the conv2d against our sample\n",
    "#   https://pytorch.org/docs/stable/generated/torch.nn.Conv2d.html\n",
    "# Set the manual seed\n",
    "torch.manual_seed(12)\n",
    "conv2d_layer = torch.nn.Conv2d(in_channels=1, out_channels=1, kernel_size=2, padding='valid', bias=False)\n",
    "conv2d_layer"
   ]
  },
  {
   "cell_type": "code",
   "execution_count": 80,
   "metadata": {},
   "outputs": [
    {
     "data": {
      "text/plain": [
       "OrderedDict([('weight',\n",
       "              tensor([[[[-0.0343, -0.2672],\n",
       "                        [-0.0473,  0.0871]]]]))])"
      ]
     },
     "execution_count": 80,
     "metadata": {},
     "output_type": "execute_result"
    }
   ],
   "source": [
    "# Get our model parameters\n",
    "# We see a 2x2 filter\n",
    "conv2d_layer.state_dict()"
   ]
  },
  {
   "cell_type": "code",
   "execution_count": 81,
   "metadata": {},
   "outputs": [
    {
     "data": {
      "text/plain": [
       "tensor([[[[ 0.4227, -0.0701],\n",
       "          [-0.2804,  0.3122]]]], grad_fn=<ConvolutionBackward0>)"
      ]
     },
     "execution_count": 81,
     "metadata": {},
     "output_type": "execute_result"
    }
   ],
   "source": [
    "# Call Conv2d against our data\n",
    "conv2d_layer(conv2d_sample)"
   ]
  },
  {
   "cell_type": "code",
   "execution_count": 82,
   "metadata": {},
   "outputs": [
    {
     "data": {
      "text/plain": [
       "0.42262216999999996"
      ]
     },
     "execution_count": 82,
     "metadata": {},
     "output_type": "execute_result"
    }
   ],
   "source": [
    "# How did we get those values? \n",
    "# Let's calculate 0.4227 at (conv2d_sample)[0][0][0][0]\n",
    "# This process is repeated for each item within the 2x2 square\n",
    "# We then stride to the left by 1 and repeat the process to get all the values\n",
    "(-0.0343 * -0.2138) + (-0.2672 * -1.3780 ) + (-0.0473 *  0.4515) + (0.0871 * 0.7858)"
   ]
  },
  {
   "cell_type": "code",
   "execution_count": 83,
   "metadata": {},
   "outputs": [
    {
     "data": {
      "text/plain": [
       "MaxPool2d(kernel_size=(2, 2), stride=1, padding=0, dilation=1, ceil_mode=False)"
      ]
     },
     "execution_count": 83,
     "metadata": {},
     "output_type": "execute_result"
    }
   ],
   "source": [
    "# Like the Maxpool1d layer above, let's now use MaxPool2D\n",
    "# Setup the Maxpool1d layer\n",
    "#   https://pytorch.org/docs/stable/generated/torch.nn.MaxPool2d.html\n",
    "max_pool_2d_layer = torch.nn.MaxPool2d(kernel_size=(2,2), stride=1)\n",
    "max_pool_2d_layer"
   ]
  },
  {
   "cell_type": "code",
   "execution_count": 84,
   "metadata": {},
   "outputs": [
    {
     "data": {
      "text/plain": [
       "tensor([[[[0.4227]]]], grad_fn=<MaxPool2DWithIndicesBackward0>)"
      ]
     },
     "execution_count": 84,
     "metadata": {},
     "output_type": "execute_result"
    }
   ],
   "source": [
    "# Apply the down-sampling to our Conv2d output\n",
    "# What happened here is from the 2x2 results which was returned from the conv2d operation, \n",
    "# The largest value within that 2x2 square is shown below as the result of the MaxPool2D operation\n",
    "max_pool_2d_layer(conv2d_layer(conv2d_sample))"
   ]
  },
  {
   "cell_type": "code",
   "execution_count": null,
   "metadata": {},
   "outputs": [],
   "source": []
  },
  {
   "cell_type": "code",
   "execution_count": 85,
   "metadata": {},
   "outputs": [
    {
     "data": {
      "text/plain": [
       "(tensor([[[[-2.5828e-04, -2.3497e-04],\n",
       "           [-4.7665e-04,  3.6045e-05]]],\n",
       " \n",
       " \n",
       "         [[[-2.5839e-04, -2.3502e-04],\n",
       "           [-4.7653e-04,  3.6038e-05]]],\n",
       " \n",
       " \n",
       "         [[[-2.5846e-04, -2.3515e-04],\n",
       "           [-4.7686e-04,  3.5998e-05]]],\n",
       " \n",
       " \n",
       "         [[[-2.5108e-04, -2.2268e-04],\n",
       "           [-4.7436e-04,  3.8733e-05]]],\n",
       " \n",
       " \n",
       "         [[[-2.5899e-04, -2.3594e-04],\n",
       "           [-4.7661e-04,  3.6130e-05]]]]),\n",
       " tensor([[[[ 1.3494e-03,  6.9100e-04],\n",
       "           [-8.0940e-04, -3.1127e-04]]],\n",
       " \n",
       " \n",
       "         [[[-2.5832e-04, -2.3494e-04],\n",
       "           [-4.7640e-04,  3.6010e-05]]],\n",
       " \n",
       " \n",
       "         [[[-1.8612e-04, -1.5918e-04],\n",
       "           [-4.9790e-04,  2.1192e-05]]],\n",
       " \n",
       " \n",
       "         [[[-2.5846e-04, -2.3515e-04],\n",
       "           [-4.7686e-04,  3.5998e-05]]],\n",
       " \n",
       " \n",
       "         [[[-2.5846e-04, -2.3515e-04],\n",
       "           [-4.7686e-04,  3.5998e-05]]]]))"
      ]
     },
     "execution_count": 85,
     "metadata": {},
     "output_type": "execute_result"
    }
   ],
   "source": [
    "# With that understanding in place,\n",
    "# convert the training and test data to torch tensors\n",
    "X_train_pca, X_test_pca = torch.tensor(data=X_train_pca, dtype=torch.float32), \\\n",
    "    torch.tensor(data=X_test_pca, dtype=torch.float32)\n",
    "X_train_pca[:5], X_test_pca[:5]"
   ]
  },
  {
   "cell_type": "code",
   "execution_count": 86,
   "metadata": {},
   "outputs": [
    {
     "data": {
      "text/plain": [
       "(array([[0.],\n",
       "        [0.],\n",
       "        [0.],\n",
       "        [0.],\n",
       "        [0.]], dtype=float32),\n",
       " array([[0.],\n",
       "        [0.],\n",
       "        [0.],\n",
       "        [0.],\n",
       "        [0.]], dtype=float32))"
      ]
     },
     "execution_count": 86,
     "metadata": {},
     "output_type": "execute_result"
    }
   ],
   "source": [
    "# Convert the panda series to a numpy array\n",
    "# Make the array 2 dimensions\n",
    "# Reshape to have multiple rows and 1 column\n",
    "y_train = np.array(y_train.values, ndmin=2, dtype=np.float32).reshape(-1, 1)\n",
    "y_test = np.array(y_test.values, ndmin=2, dtype=np.float32).reshape(-1, 1)\n",
    "\n",
    "# Get 5 samples from each\n",
    "y_train[:5], y_test[:5]"
   ]
  },
  {
   "cell_type": "code",
   "execution_count": 87,
   "metadata": {},
   "outputs": [
    {
     "data": {
      "text/plain": [
       "(tensor([[0.],\n",
       "         [0.],\n",
       "         [0.],\n",
       "         [0.],\n",
       "         [0.]]),\n",
       " tensor([[0.],\n",
       "         [0.],\n",
       "         [0.],\n",
       "         [0.],\n",
       "         [0.]]))"
      ]
     },
     "execution_count": 87,
     "metadata": {},
     "output_type": "execute_result"
    }
   ],
   "source": [
    "# Have to convert the above train and test labels to torch tensor\n",
    "y_train, y_test = torch.tensor(data=y_train, dtype=torch.float32), \\\n",
    "    torch.tensor(data=y_test, dtype=torch.float32)\n",
    "y_train[:5], y_test[:5]"
   ]
  },
  {
   "cell_type": "code",
   "execution_count": 88,
   "metadata": {},
   "outputs": [],
   "source": [
    "# Convert the panda series to a numpy array\n",
    "# Make the array 2 dimensions\n",
    "# Reshape to have multiple rows and 1 column\n",
    "#y_train = np.array(y_train.values, ndmin=2, dtype=np.float32).reshape(-1, 1)\n",
    "#y_test = np.array(y_test.values, ndmin=2, dtype=np.float32).reshape(-1, 1)\n",
    "\n",
    "# Get 5 samples from each\n",
    "#y_train[:5], y_test[:5]"
   ]
  },
  {
   "cell_type": "code",
   "execution_count": 89,
   "metadata": {},
   "outputs": [],
   "source": [
    "# Set the manual seed to add predictability\n",
    "torch.manual_seed(10)\n",
    "\n",
    "# With the understanding of 1D Convolution and Maxpooling, time to build the network\n",
    "torch_conv2d_model = torch.nn.Sequential(\n",
    "        # Setup the convolution layer\n",
    "        torch.nn.Conv2d(in_channels=1, out_channels=1, kernel_size=2, padding='same'),\n",
    "\n",
    "        # Add a MaxPool \n",
    "        #       https://pytorch.org/docs/stable/generated/torch.nn.MaxPool1d.html\n",
    "        torch.nn.MaxPool2d(kernel_size=(2,2), stride=1, padding=0),\n",
    "        \n",
    "        # Flatten the dimensions\n",
    "        # https://pytorch.org/docs/stable/generated/torch.nn.Flatten.html#torch.nn.Flatten\n",
    "        torch.nn.Flatten(start_dim=1, end_dim=-1),\n",
    "\n",
    "        # Setup the final layer with 1 output feature and 2 input features\n",
    "        torch.nn.Linear(in_features=1, out_features=1),\n",
    "\n",
    "        # Setup the sigmoid Activation Function on the output layer\n",
    "        # We looked at Sigmoid in notebook:\n",
    "        #       10. Beginning Supervise Learning - Machine Learning - Logistic Regression, Decision Trees and Metrics\n",
    "        torch.nn.Sigmoid()        \n",
    ")\n"
   ]
  },
  {
   "cell_type": "code",
   "execution_count": 90,
   "metadata": {},
   "outputs": [
    {
     "data": {
      "text/plain": [
       "OrderedDict([('0.weight',\n",
       "              tensor([[[[-0.0419, -0.0171],\n",
       "                        [-0.1875,  0.1150]]]])),\n",
       "             ('0.bias', tensor([-0.2861])),\n",
       "             ('3.weight', tensor([[-0.1763]])),\n",
       "             ('3.bias', tensor([0.3876]))])"
      ]
     },
     "execution_count": 90,
     "metadata": {},
     "output_type": "execute_result"
    }
   ],
   "source": [
    "# Get the state dictionary for the untrained model parameters\n",
    "torch_conv2d_model.state_dict()"
   ]
  },
  {
   "cell_type": "code",
   "execution_count": 91,
   "metadata": {},
   "outputs": [
    {
     "data": {
      "text/plain": [
       "[Parameter containing:\n",
       " tensor([[[0.4878, 0.7301, 0.9895, 0.7300, 0.6173]]], requires_grad=True),\n",
       " Parameter containing:\n",
       " tensor([-1.2370], requires_grad=True),\n",
       " Parameter containing:\n",
       " tensor([[1.7006, 2.0902]], requires_grad=True),\n",
       " Parameter containing:\n",
       " tensor([-0.6399], requires_grad=True)]"
      ]
     },
     "execution_count": 91,
     "metadata": {},
     "output_type": "execute_result"
    }
   ],
   "source": [
    "# What does the untrained parameters look like\n",
    "# Well they look just like the information in the state dict above ;-) \n",
    "list(torch_conv1d_model.eval().parameters())"
   ]
  },
  {
   "cell_type": "code",
   "execution_count": 92,
   "metadata": {},
   "outputs": [
    {
     "data": {
      "text/plain": [
       "=================================================================\n",
       "Layer (type:depth-idx)                   Param #\n",
       "=================================================================\n",
       "Sequential                               --\n",
       "├─Conv1d: 1-1                            6\n",
       "├─MaxPool1d: 1-2                         --\n",
       "├─Flatten: 1-3                           --\n",
       "├─Linear: 1-4                            3\n",
       "├─Sigmoid: 1-5                           --\n",
       "=================================================================\n",
       "Total params: 9\n",
       "Trainable params: 9\n",
       "Non-trainable params: 0\n",
       "================================================================="
      ]
     },
     "execution_count": 92,
     "metadata": {},
     "output_type": "execute_result"
    }
   ],
   "source": [
    "# Get a summary of the model\n",
    "torchinfo.summary(model=torch_conv1d_model, depth=5)"
   ]
  },
  {
   "cell_type": "code",
   "execution_count": 93,
   "metadata": {},
   "outputs": [
    {
     "name": "stderr",
     "output_type": "stream",
     "text": [
      "C:\\Users\\SecurityNik\\AppData\\Roaming\\Python\\Python310\\site-packages\\torch\\_tensor.py:1295: UserWarning: Using padding='same' with even kernel lengths and odd dilation may require a zero-padded copy of the input be created (Triggered internally at ..\\aten\\src\\ATen\\native\\Convolution.cpp:1004.)\n",
      "  ret = func(*args, **kwargs)\n",
      "\n",
      "(dot.exe:14128): Pango-WARNING **: couldn't load font \"Linux libertine Not-Rotated 10\", falling back to \"Sans Not-Rotated 10\", expect ugly output.\n"
     ]
    },
    {
     "data": {
      "image/svg+xml": [
       "<?xml version=\"1.0\" encoding=\"UTF-8\" standalone=\"no\"?>\n",
       "<!DOCTYPE svg PUBLIC \"-//W3C//DTD SVG 1.1//EN\"\n",
       " \"http://www.w3.org/Graphics/SVG/1.1/DTD/svg11.dtd\">\n",
       "<!-- Generated by graphviz version 6.0.2 (20221011.1828)\n",
       " -->\n",
       "<!-- Title: torch_conv2d_model Pages: 1 -->\n",
       "<svg width=\"232pt\" height=\"823pt\"\n",
       " viewBox=\"0.00 0.00 232.00 823.00\" xmlns=\"http://www.w3.org/2000/svg\" xmlns:xlink=\"http://www.w3.org/1999/xlink\">\n",
       "<g id=\"graph0\" class=\"graph\" transform=\"scale(1 1) rotate(0) translate(4 819)\">\n",
       "<title>torch_conv2d_model</title>\n",
       "<polygon fill=\"white\" stroke=\"none\" points=\"-4,4 -4,-819 228,-819 228,4 -4,4\"/>\n",
       "<g id=\"clust3\" class=\"cluster\">\n",
       "<title>cluster_4</title>\n",
       "<polygon fill=\"none\" stroke=\"black\" stroke-dasharray=\"5,2\" points=\"17,-318 17,-465 207,-465 207,-318 17,-318\"/>\n",
       "<text text-anchor=\"middle\" x=\"40.5\" y=\"-451.4\" font-family=\"Times New Roman,serif\" font-size=\"12.00\">Flatten</text>\n",
       "</g>\n",
       "<g id=\"clust2\" class=\"cluster\">\n",
       "<title>cluster_3</title>\n",
       "<polygon fill=\"none\" stroke=\"black\" stroke-dasharray=\"5,2\" points=\"8,-473 8,-620 216,-620 216,-473 8,-473\"/>\n",
       "<text text-anchor=\"middle\" x=\"43.5\" y=\"-606.4\" font-family=\"Times New Roman,serif\" font-size=\"12.00\">MaxPool2d</text>\n",
       "</g>\n",
       "<g id=\"clust1\" class=\"cluster\">\n",
       "<title>cluster_2</title>\n",
       "<polygon fill=\"none\" stroke=\"black\" stroke-dasharray=\"5,2\" points=\"17,-628 17,-775 207,-775 207,-628 17,-628\"/>\n",
       "<text text-anchor=\"middle\" x=\"43.5\" y=\"-761.4\" font-family=\"Times New Roman,serif\" font-size=\"12.00\">Conv2d</text>\n",
       "</g>\n",
       "<g id=\"clust5\" class=\"cluster\">\n",
       "<title>cluster_6</title>\n",
       "<polygon fill=\"none\" stroke=\"black\" stroke-dasharray=\"5,2\" points=\"28,-8 28,-155 196,-155 196,-8 28,-8\"/>\n",
       "<text text-anchor=\"middle\" x=\"54.5\" y=\"-141.4\" font-family=\"Times New Roman,serif\" font-size=\"12.00\">Sigmoid</text>\n",
       "</g>\n",
       "<g id=\"clust4\" class=\"cluster\">\n",
       "<title>cluster_5</title>\n",
       "<polygon fill=\"none\" stroke=\"black\" stroke-dasharray=\"5,2\" points=\"28,-163 28,-310 196,-310 196,-163 28,-163\"/>\n",
       "<text text-anchor=\"middle\" x=\"50.5\" y=\"-296.4\" font-family=\"Times New Roman,serif\" font-size=\"12.00\">Linear</text>\n",
       "</g>\n",
       "<!-- 0 -->\n",
       "<g id=\"node1\" class=\"node\">\n",
       "<title>0</title>\n",
       "<polygon fill=\"lightyellow\" stroke=\"none\" points=\"184.5,-815 39.5,-815 39.5,-783 184.5,-783 184.5,-815\"/>\n",
       "<polygon fill=\"none\" stroke=\"black\" points=\"40,-783 40,-815 102,-815 102,-783 40,-783\"/>\n",
       "<text text-anchor=\"start\" x=\"45\" y=\"-802\" font-family=\"Linux libertine\" font-size=\"10.00\">input&#45;tensor</text>\n",
       "<text text-anchor=\"start\" x=\"54\" y=\"-791\" font-family=\"Linux libertine\" font-size=\"10.00\">depth:0</text>\n",
       "<polygon fill=\"none\" stroke=\"black\" points=\"102,-783 102,-815 185,-815 185,-783 102,-783\"/>\n",
       "<text text-anchor=\"start\" x=\"107\" y=\"-796.5\" font-family=\"Linux libertine\" font-size=\"10.00\">(166086, 1, 2, 2)</text>\n",
       "</g>\n",
       "<!-- 1 -->\n",
       "<g id=\"node2\" class=\"node\">\n",
       "<title>1</title>\n",
       "<polygon fill=\"aliceblue\" stroke=\"none\" points=\"199,-746 25,-746 25,-704 199,-704 199,-746\"/>\n",
       "<polygon fill=\"none\" stroke=\"black\" points=\"25,-704 25,-746 69,-746 69,-704 25,-704\"/>\n",
       "<text text-anchor=\"start\" x=\"31.5\" y=\"-728\" font-family=\"Linux libertine\" font-size=\"10.00\">conv2d</text>\n",
       "<text text-anchor=\"start\" x=\"30\" y=\"-717\" font-family=\"Linux libertine\" font-size=\"10.00\">depth:2</text>\n",
       "<polygon fill=\"none\" stroke=\"black\" points=\"69,-725 69,-746 113,-746 113,-725 69,-725\"/>\n",
       "<text text-anchor=\"start\" x=\"78.5\" y=\"-733\" font-family=\"Linux libertine\" font-size=\"10.00\">input:</text>\n",
       "<polygon fill=\"none\" stroke=\"black\" points=\"113,-725 113,-746 199,-746 199,-725 113,-725\"/>\n",
       "<text text-anchor=\"start\" x=\"118\" y=\"-733\" font-family=\"Linux libertine\" font-size=\"10.00\">(166086, 1, 2, 2) </text>\n",
       "<polygon fill=\"none\" stroke=\"black\" points=\"69,-704 69,-725 113,-725 113,-704 69,-704\"/>\n",
       "<text text-anchor=\"start\" x=\"74\" y=\"-712\" font-family=\"Linux libertine\" font-size=\"10.00\">output: </text>\n",
       "<polygon fill=\"none\" stroke=\"black\" points=\"113,-704 113,-725 199,-725 199,-704 113,-704\"/>\n",
       "<text text-anchor=\"start\" x=\"118\" y=\"-712\" font-family=\"Linux libertine\" font-size=\"10.00\">(166086, 1, 2, 2) </text>\n",
       "</g>\n",
       "<!-- 0&#45;&gt;1 -->\n",
       "<g id=\"edge1\" class=\"edge\">\n",
       "<title>0&#45;&gt;1</title>\n",
       "<path fill=\"none\" stroke=\"black\" d=\"M112,-782.73C112,-775.08 112,-765.52 112,-756.45\"/>\n",
       "<polygon fill=\"black\" stroke=\"black\" points=\"115.5,-756.17 112,-746.17 108.5,-756.17 115.5,-756.17\"/>\n",
       "</g>\n",
       "<!-- 2 -->\n",
       "<g id=\"node3\" class=\"node\">\n",
       "<title>2</title>\n",
       "<polygon fill=\"lightyellow\" stroke=\"none\" points=\"188.5,-668 35.5,-668 35.5,-636 188.5,-636 188.5,-668\"/>\n",
       "<polygon fill=\"none\" stroke=\"black\" points=\"36,-636 36,-668 106,-668 106,-636 36,-636\"/>\n",
       "<text text-anchor=\"start\" x=\"41\" y=\"-655\" font-family=\"Linux libertine\" font-size=\"10.00\">hidden&#45;tensor</text>\n",
       "<text text-anchor=\"start\" x=\"54\" y=\"-644\" font-family=\"Linux libertine\" font-size=\"10.00\">depth:1</text>\n",
       "<polygon fill=\"none\" stroke=\"black\" points=\"106,-636 106,-668 189,-668 189,-636 106,-636\"/>\n",
       "<text text-anchor=\"start\" x=\"111\" y=\"-649.5\" font-family=\"Linux libertine\" font-size=\"10.00\">(166086, 1, 2, 2)</text>\n",
       "</g>\n",
       "<!-- 1&#45;&gt;2 -->\n",
       "<g id=\"edge2\" class=\"edge\">\n",
       "<title>1&#45;&gt;2</title>\n",
       "<path fill=\"none\" stroke=\"black\" d=\"M112,-703.84C112,-695.89 112,-686.66 112,-678.26\"/>\n",
       "<polygon fill=\"black\" stroke=\"black\" points=\"115.5,-678.24 112,-668.24 108.5,-678.24 115.5,-678.24\"/>\n",
       "</g>\n",
       "<!-- 3 -->\n",
       "<g id=\"node4\" class=\"node\">\n",
       "<title>3</title>\n",
       "<polygon fill=\"aliceblue\" stroke=\"none\" points=\"208,-591 16,-591 16,-549 208,-549 208,-591\"/>\n",
       "<polygon fill=\"none\" stroke=\"black\" points=\"16,-549 16,-591 78,-591 78,-549 16,-549\"/>\n",
       "<text text-anchor=\"start\" x=\"21\" y=\"-573\" font-family=\"Linux libertine\" font-size=\"10.00\">max_pool2d</text>\n",
       "<text text-anchor=\"start\" x=\"30\" y=\"-562\" font-family=\"Linux libertine\" font-size=\"10.00\">depth:2</text>\n",
       "<polygon fill=\"none\" stroke=\"black\" points=\"78,-570 78,-591 122,-591 122,-570 78,-570\"/>\n",
       "<text text-anchor=\"start\" x=\"87.5\" y=\"-578\" font-family=\"Linux libertine\" font-size=\"10.00\">input:</text>\n",
       "<polygon fill=\"none\" stroke=\"black\" points=\"122,-570 122,-591 208,-591 208,-570 122,-570\"/>\n",
       "<text text-anchor=\"start\" x=\"127\" y=\"-578\" font-family=\"Linux libertine\" font-size=\"10.00\">(166086, 1, 2, 2) </text>\n",
       "<polygon fill=\"none\" stroke=\"black\" points=\"78,-549 78,-570 122,-570 122,-549 78,-549\"/>\n",
       "<text text-anchor=\"start\" x=\"83\" y=\"-557\" font-family=\"Linux libertine\" font-size=\"10.00\">output: </text>\n",
       "<polygon fill=\"none\" stroke=\"black\" points=\"122,-549 122,-570 208,-570 208,-549 122,-549\"/>\n",
       "<text text-anchor=\"start\" x=\"127\" y=\"-557\" font-family=\"Linux libertine\" font-size=\"10.00\">(166086, 1, 1, 1) </text>\n",
       "</g>\n",
       "<!-- 2&#45;&gt;3 -->\n",
       "<g id=\"edge3\" class=\"edge\">\n",
       "<title>2&#45;&gt;3</title>\n",
       "<path fill=\"none\" stroke=\"black\" d=\"M112,-635.95C112,-626.15 112,-613.02 112,-601.13\"/>\n",
       "<polygon fill=\"black\" stroke=\"black\" points=\"115.5,-601.12 112,-591.12 108.5,-601.12 115.5,-601.12\"/>\n",
       "</g>\n",
       "<!-- 4 -->\n",
       "<g id=\"node5\" class=\"node\">\n",
       "<title>4</title>\n",
       "<polygon fill=\"lightyellow\" stroke=\"none\" points=\"188.5,-513 35.5,-513 35.5,-481 188.5,-481 188.5,-513\"/>\n",
       "<polygon fill=\"none\" stroke=\"black\" points=\"36,-481 36,-513 106,-513 106,-481 36,-481\"/>\n",
       "<text text-anchor=\"start\" x=\"41\" y=\"-500\" font-family=\"Linux libertine\" font-size=\"10.00\">hidden&#45;tensor</text>\n",
       "<text text-anchor=\"start\" x=\"54\" y=\"-489\" font-family=\"Linux libertine\" font-size=\"10.00\">depth:1</text>\n",
       "<polygon fill=\"none\" stroke=\"black\" points=\"106,-481 106,-513 189,-513 189,-481 106,-481\"/>\n",
       "<text text-anchor=\"start\" x=\"111\" y=\"-494.5\" font-family=\"Linux libertine\" font-size=\"10.00\">(166086, 1, 1, 1)</text>\n",
       "</g>\n",
       "<!-- 3&#45;&gt;4 -->\n",
       "<g id=\"edge4\" class=\"edge\">\n",
       "<title>3&#45;&gt;4</title>\n",
       "<path fill=\"none\" stroke=\"black\" d=\"M112,-548.84C112,-540.89 112,-531.66 112,-523.26\"/>\n",
       "<polygon fill=\"black\" stroke=\"black\" points=\"115.5,-523.24 112,-513.24 108.5,-523.24 115.5,-523.24\"/>\n",
       "</g>\n",
       "<!-- 5 -->\n",
       "<g id=\"node6\" class=\"node\">\n",
       "<title>5</title>\n",
       "<polygon fill=\"aliceblue\" stroke=\"none\" points=\"199,-436 25,-436 25,-394 199,-394 199,-436\"/>\n",
       "<polygon fill=\"none\" stroke=\"black\" points=\"25,-394 25,-436 69,-436 69,-394 25,-394\"/>\n",
       "<text text-anchor=\"start\" x=\"33\" y=\"-418\" font-family=\"Linux libertine\" font-size=\"10.00\">flatten</text>\n",
       "<text text-anchor=\"start\" x=\"30\" y=\"-407\" font-family=\"Linux libertine\" font-size=\"10.00\">depth:2</text>\n",
       "<polygon fill=\"none\" stroke=\"black\" points=\"69,-415 69,-436 113,-436 113,-415 69,-415\"/>\n",
       "<text text-anchor=\"start\" x=\"78.5\" y=\"-423\" font-family=\"Linux libertine\" font-size=\"10.00\">input:</text>\n",
       "<polygon fill=\"none\" stroke=\"black\" points=\"113,-415 113,-436 199,-436 199,-415 113,-415\"/>\n",
       "<text text-anchor=\"start\" x=\"118\" y=\"-423\" font-family=\"Linux libertine\" font-size=\"10.00\">(166086, 1, 1, 1) </text>\n",
       "<polygon fill=\"none\" stroke=\"black\" points=\"69,-394 69,-415 113,-415 113,-394 69,-394\"/>\n",
       "<text text-anchor=\"start\" x=\"74\" y=\"-402\" font-family=\"Linux libertine\" font-size=\"10.00\">output: </text>\n",
       "<polygon fill=\"none\" stroke=\"black\" points=\"113,-394 113,-415 199,-415 199,-394 113,-394\"/>\n",
       "<text text-anchor=\"start\" x=\"129\" y=\"-402\" font-family=\"Linux libertine\" font-size=\"10.00\">(166086, 1) </text>\n",
       "</g>\n",
       "<!-- 4&#45;&gt;5 -->\n",
       "<g id=\"edge5\" class=\"edge\">\n",
       "<title>4&#45;&gt;5</title>\n",
       "<path fill=\"none\" stroke=\"black\" d=\"M112,-480.95C112,-471.15 112,-458.02 112,-446.13\"/>\n",
       "<polygon fill=\"black\" stroke=\"black\" points=\"115.5,-446.12 112,-436.12 108.5,-446.12 115.5,-446.12\"/>\n",
       "</g>\n",
       "<!-- 6 -->\n",
       "<g id=\"node7\" class=\"node\">\n",
       "<title>6</title>\n",
       "<polygon fill=\"lightyellow\" stroke=\"none\" points=\"177.5,-358 46.5,-358 46.5,-326 177.5,-326 177.5,-358\"/>\n",
       "<polygon fill=\"none\" stroke=\"black\" points=\"47,-326 47,-358 117,-358 117,-326 47,-326\"/>\n",
       "<text text-anchor=\"start\" x=\"52\" y=\"-345\" font-family=\"Linux libertine\" font-size=\"10.00\">hidden&#45;tensor</text>\n",
       "<text text-anchor=\"start\" x=\"65\" y=\"-334\" font-family=\"Linux libertine\" font-size=\"10.00\">depth:1</text>\n",
       "<polygon fill=\"none\" stroke=\"black\" points=\"117,-326 117,-358 178,-358 178,-326 117,-326\"/>\n",
       "<text text-anchor=\"start\" x=\"122\" y=\"-339.5\" font-family=\"Linux libertine\" font-size=\"10.00\">(166086, 1)</text>\n",
       "</g>\n",
       "<!-- 5&#45;&gt;6 -->\n",
       "<g id=\"edge6\" class=\"edge\">\n",
       "<title>5&#45;&gt;6</title>\n",
       "<path fill=\"none\" stroke=\"black\" d=\"M112,-393.84C112,-385.89 112,-376.66 112,-368.26\"/>\n",
       "<polygon fill=\"black\" stroke=\"black\" points=\"115.5,-368.24 112,-358.24 108.5,-368.24 115.5,-368.24\"/>\n",
       "</g>\n",
       "<!-- 7 -->\n",
       "<g id=\"node8\" class=\"node\">\n",
       "<title>7</title>\n",
       "<polygon fill=\"aliceblue\" stroke=\"none\" points=\"188,-281 36,-281 36,-239 188,-239 188,-281\"/>\n",
       "<polygon fill=\"none\" stroke=\"black\" points=\"36,-239 36,-281 80,-281 80,-239 36,-239\"/>\n",
       "<text text-anchor=\"start\" x=\"45.5\" y=\"-263\" font-family=\"Linux libertine\" font-size=\"10.00\">linear</text>\n",
       "<text text-anchor=\"start\" x=\"41\" y=\"-252\" font-family=\"Linux libertine\" font-size=\"10.00\">depth:2</text>\n",
       "<polygon fill=\"none\" stroke=\"black\" points=\"80,-260 80,-281 124,-281 124,-260 80,-260\"/>\n",
       "<text text-anchor=\"start\" x=\"89.5\" y=\"-268\" font-family=\"Linux libertine\" font-size=\"10.00\">input:</text>\n",
       "<polygon fill=\"none\" stroke=\"black\" points=\"124,-260 124,-281 188,-281 188,-260 124,-260\"/>\n",
       "<text text-anchor=\"start\" x=\"129\" y=\"-268\" font-family=\"Linux libertine\" font-size=\"10.00\">(166086, 1) </text>\n",
       "<polygon fill=\"none\" stroke=\"black\" points=\"80,-239 80,-260 124,-260 124,-239 80,-239\"/>\n",
       "<text text-anchor=\"start\" x=\"85\" y=\"-247\" font-family=\"Linux libertine\" font-size=\"10.00\">output: </text>\n",
       "<polygon fill=\"none\" stroke=\"black\" points=\"124,-239 124,-260 188,-260 188,-239 124,-239\"/>\n",
       "<text text-anchor=\"start\" x=\"129\" y=\"-247\" font-family=\"Linux libertine\" font-size=\"10.00\">(166086, 1) </text>\n",
       "</g>\n",
       "<!-- 6&#45;&gt;7 -->\n",
       "<g id=\"edge7\" class=\"edge\">\n",
       "<title>6&#45;&gt;7</title>\n",
       "<path fill=\"none\" stroke=\"black\" d=\"M112,-325.95C112,-316.15 112,-303.02 112,-291.13\"/>\n",
       "<polygon fill=\"black\" stroke=\"black\" points=\"115.5,-291.12 112,-281.12 108.5,-291.12 115.5,-291.12\"/>\n",
       "</g>\n",
       "<!-- 8 -->\n",
       "<g id=\"node9\" class=\"node\">\n",
       "<title>8</title>\n",
       "<polygon fill=\"lightyellow\" stroke=\"none\" points=\"177.5,-203 46.5,-203 46.5,-171 177.5,-171 177.5,-203\"/>\n",
       "<polygon fill=\"none\" stroke=\"black\" points=\"47,-171 47,-203 117,-203 117,-171 47,-171\"/>\n",
       "<text text-anchor=\"start\" x=\"52\" y=\"-190\" font-family=\"Linux libertine\" font-size=\"10.00\">hidden&#45;tensor</text>\n",
       "<text text-anchor=\"start\" x=\"65\" y=\"-179\" font-family=\"Linux libertine\" font-size=\"10.00\">depth:1</text>\n",
       "<polygon fill=\"none\" stroke=\"black\" points=\"117,-171 117,-203 178,-203 178,-171 117,-171\"/>\n",
       "<text text-anchor=\"start\" x=\"122\" y=\"-184.5\" font-family=\"Linux libertine\" font-size=\"10.00\">(166086, 1)</text>\n",
       "</g>\n",
       "<!-- 7&#45;&gt;8 -->\n",
       "<g id=\"edge8\" class=\"edge\">\n",
       "<title>7&#45;&gt;8</title>\n",
       "<path fill=\"none\" stroke=\"black\" d=\"M112,-238.84C112,-230.89 112,-221.66 112,-213.26\"/>\n",
       "<polygon fill=\"black\" stroke=\"black\" points=\"115.5,-213.24 112,-203.24 108.5,-213.24 115.5,-213.24\"/>\n",
       "</g>\n",
       "<!-- 9 -->\n",
       "<g id=\"node10\" class=\"node\">\n",
       "<title>9</title>\n",
       "<polygon fill=\"aliceblue\" stroke=\"none\" points=\"188,-126 36,-126 36,-84 188,-84 188,-126\"/>\n",
       "<polygon fill=\"none\" stroke=\"black\" points=\"36,-84 36,-126 80,-126 80,-84 36,-84\"/>\n",
       "<text text-anchor=\"start\" x=\"41\" y=\"-108\" font-family=\"Linux libertine\" font-size=\"10.00\">sigmoid</text>\n",
       "<text text-anchor=\"start\" x=\"41\" y=\"-97\" font-family=\"Linux libertine\" font-size=\"10.00\">depth:2</text>\n",
       "<polygon fill=\"none\" stroke=\"black\" points=\"80,-105 80,-126 124,-126 124,-105 80,-105\"/>\n",
       "<text text-anchor=\"start\" x=\"89.5\" y=\"-113\" font-family=\"Linux libertine\" font-size=\"10.00\">input:</text>\n",
       "<polygon fill=\"none\" stroke=\"black\" points=\"124,-105 124,-126 188,-126 188,-105 124,-105\"/>\n",
       "<text text-anchor=\"start\" x=\"129\" y=\"-113\" font-family=\"Linux libertine\" font-size=\"10.00\">(166086, 1) </text>\n",
       "<polygon fill=\"none\" stroke=\"black\" points=\"80,-84 80,-105 124,-105 124,-84 80,-84\"/>\n",
       "<text text-anchor=\"start\" x=\"85\" y=\"-92\" font-family=\"Linux libertine\" font-size=\"10.00\">output: </text>\n",
       "<polygon fill=\"none\" stroke=\"black\" points=\"124,-84 124,-105 188,-105 188,-84 124,-84\"/>\n",
       "<text text-anchor=\"start\" x=\"129\" y=\"-92\" font-family=\"Linux libertine\" font-size=\"10.00\">(166086, 1) </text>\n",
       "</g>\n",
       "<!-- 8&#45;&gt;9 -->\n",
       "<g id=\"edge9\" class=\"edge\">\n",
       "<title>8&#45;&gt;9</title>\n",
       "<path fill=\"none\" stroke=\"black\" d=\"M112,-170.95C112,-161.15 112,-148.02 112,-136.13\"/>\n",
       "<polygon fill=\"black\" stroke=\"black\" points=\"115.5,-136.12 112,-126.12 108.5,-136.12 115.5,-136.12\"/>\n",
       "</g>\n",
       "<!-- 10 -->\n",
       "<g id=\"node11\" class=\"node\">\n",
       "<title>10</title>\n",
       "<polygon fill=\"lightyellow\" stroke=\"none\" points=\"176.5,-48 47.5,-48 47.5,-16 176.5,-16 176.5,-48\"/>\n",
       "<polygon fill=\"none\" stroke=\"black\" points=\"48,-16 48,-48 116,-48 116,-16 48,-16\"/>\n",
       "<text text-anchor=\"start\" x=\"53\" y=\"-35\" font-family=\"Linux libertine\" font-size=\"10.00\">output&#45;tensor</text>\n",
       "<text text-anchor=\"start\" x=\"65\" y=\"-24\" font-family=\"Linux libertine\" font-size=\"10.00\">depth:0</text>\n",
       "<polygon fill=\"none\" stroke=\"black\" points=\"116,-16 116,-48 177,-48 177,-16 116,-16\"/>\n",
       "<text text-anchor=\"start\" x=\"121\" y=\"-29.5\" font-family=\"Linux libertine\" font-size=\"10.00\">(166086, 1)</text>\n",
       "</g>\n",
       "<!-- 9&#45;&gt;10 -->\n",
       "<g id=\"edge10\" class=\"edge\">\n",
       "<title>9&#45;&gt;10</title>\n",
       "<path fill=\"none\" stroke=\"black\" d=\"M112,-83.84C112,-75.89 112,-66.66 112,-58.26\"/>\n",
       "<polygon fill=\"black\" stroke=\"black\" points=\"115.5,-58.24 112,-48.24 108.5,-58.24 115.5,-58.24\"/>\n",
       "</g>\n",
       "</g>\n",
       "</svg>\n"
      ],
      "text/plain": [
       "<graphviz.graphs.Digraph at 0x1c1dc5c95d0>"
      ]
     },
     "execution_count": 93,
     "metadata": {},
     "output_type": "execute_result"
    }
   ],
   "source": [
    "# Plot the model\n",
    "# https://stackoverflow.com/questions/52468956/how-do-i-visualize-a-net-in-pytorch\n",
    "model_graph = draw_graph(model=torch_conv2d_model, input_data=X_train_pca, graph_name='torch_conv2d_model', \\\n",
    "                         expand_nested=True, save_graph=False,show_shapes=True, graph_dir='TB', \\\n",
    "                            roll=True, hide_inner_tensors=False, hide_module_functions=False)\n",
    "model_graph.visual_graph"
   ]
  },
  {
   "cell_type": "code",
   "execution_count": 94,
   "metadata": {},
   "outputs": [
    {
     "data": {
      "text/plain": [
       "tensor([[0.6078],\n",
       "        [0.6078],\n",
       "        [0.6078],\n",
       "        ...,\n",
       "        [0.6078],\n",
       "        [0.6078],\n",
       "        [0.6078]], grad_fn=<SigmoidBackward0>)"
      ]
     },
     "execution_count": 94,
     "metadata": {},
     "output_type": "execute_result"
    }
   ],
   "source": [
    "# Make a prediction on the model with untrained parameters\n",
    "# Basically taking a sneak peek\n",
    "torch_conv2d_model(X_train_pca)"
   ]
  },
  {
   "cell_type": "code",
   "execution_count": 95,
   "metadata": {},
   "outputs": [],
   "source": [
    "# Build a training loop now that our model is defined.\n",
    "# Reusing the function created in the PyTorch classification\n",
    "#   17. Beginning Deep Learning, - Classification, Pytorch\n",
    "\n",
    "# In the following notebooks ...\n",
    "#   13. Beginning Deep Learning - Anomaly Detection with AutoEncoders, PyTroch\n",
    "#   15. Beginning Deep Learning, - Linear Regression, PyTorch\n",
    "# the training was all done outside of a function. Rather than rewriting the same code all the time\n",
    "# time to create a function\n",
    "\n",
    "def torch_training(model=None, epochs=10, learning_rate=0.01, x_train=X_train_pca, \\\n",
    "                   y_train=y_train, x_test=X_test_pca, y_test=y_test):\n",
    "    ''' Performs training of the model '''\n",
    "    # Create to lists to save the training and test loss respectively \n",
    "    training_loss, validation_loss = [], []\n",
    "\n",
    "    # Setup the loss function\n",
    "    clf_loss_fn = torch.nn.BCELoss()\n",
    "\n",
    "    # Setup the optimizer\n",
    "    clf_optimizer = torch.optim.Adam(params=model.parameters(), lr=learning_rate)\n",
    "    \n",
    "    for epoch in range(epochs):\n",
    "        # Clear the gradients\n",
    "        clf_optimizer.zero_grad()\n",
    "\n",
    "        # Train the model\n",
    "        model.train()\n",
    "\n",
    "        # Make predictions on the training data\n",
    "        train_preds = model(x_train)\n",
    "    \n",
    "        # Get the loss\n",
    "        train_loss = clf_loss_fn(train_preds, y_train)\n",
    "        training_loss.append(train_loss)\n",
    "\n",
    "        # Calculate the gradients\n",
    "        train_loss.backward()\n",
    "\n",
    "        # Upgrade the gradients\n",
    "        clf_optimizer.step()\n",
    "\n",
    "        # Evaluate the model at the same time\n",
    "        model.eval()\n",
    "        with torch.inference_mode():\n",
    "            val_preds = model(x_test)\n",
    "\n",
    "            # Calculate the loss on the validation data\n",
    "            val_loss = clf_loss_fn(val_preds, y_test)\n",
    "            validation_loss.append(val_loss)\n",
    "\n",
    "        if epoch %10 == 0:\n",
    "            print(f'Epoch: {epoch} \\t training loss: {train_loss} \\t validation loss {val_loss}')\n",
    "    \n",
    "    return model, training_loss, validation_loss"
   ]
  },
  {
   "cell_type": "code",
   "execution_count": 96,
   "metadata": {},
   "outputs": [
    {
     "name": "stdout",
     "output_type": "stream",
     "text": [
      "Epoch: 0 \t training loss: 0.9358050227165222 \t validation loss 0.927013099193573\n",
      "Epoch: 10 \t training loss: 0.8557178378105164 \t validation loss 0.848651647567749\n",
      "Epoch: 20 \t training loss: 0.7913566827774048 \t validation loss 0.7855542898178101\n",
      "Epoch: 30 \t training loss: 0.7356809973716736 \t validation loss 0.7302364110946655\n",
      "Epoch: 40 \t training loss: 0.680101752281189 \t validation loss 0.6743056774139404\n",
      "Epoch: 50 \t training loss: 0.6187565326690674 \t validation loss 0.6121209263801575\n",
      "Epoch: 60 \t training loss: 0.5475026369094849 \t validation loss 0.5397645831108093\n",
      "Epoch: 70 \t training loss: 0.4661031663417816 \t validation loss 0.45756053924560547\n",
      "Epoch: 80 \t training loss: 0.37990766763687134 \t validation loss 0.3713270425796509\n",
      "Epoch: 90 \t training loss: 0.2973051369190216 \t validation loss 0.28953197598457336\n",
      "Epoch: 100 \t training loss: 0.22570103406906128 \t validation loss 0.2192974090576172\n",
      "Epoch: 110 \t training loss: 0.1688099056482315 \t validation loss 0.16391445696353912\n",
      "Epoch: 120 \t training loss: 0.12643934786319733 \t validation loss 0.12286855280399323\n",
      "Epoch: 130 \t training loss: 0.0960681214928627 \t validation loss 0.09351145476102829\n",
      "Epoch: 140 \t training loss: 0.07459748536348343 \t validation loss 0.07275597751140594\n",
      "Epoch: 150 \t training loss: 0.059349022805690765 \t validation loss 0.05798998847603798\n",
      "Epoch: 160 \t training loss: 0.048343949019908905 \t validation loss 0.04730446636676788\n",
      "Epoch: 170 \t training loss: 0.040227290242910385 \t validation loss 0.039399340748786926\n",
      "Epoch: 180 \t training loss: 0.03410021960735321 \t validation loss 0.033413998782634735\n",
      "Epoch: 190 \t training loss: 0.029370322823524475 \t validation loss 0.028781164437532425\n",
      "Epoch: 200 \t training loss: 0.02564338780939579 \t validation loss 0.025122512131929398\n",
      "Epoch: 210 \t training loss: 0.02265271544456482 \t validation loss 0.022181382402777672\n",
      "Epoch: 220 \t training loss: 0.02021421492099762 \t validation loss 0.019779883325099945\n",
      "Epoch: 230 \t training loss: 0.01819796673953533 \t validation loss 0.017792096361517906\n",
      "Epoch: 240 \t training loss: 0.016510335728526115 \t validation loss 0.016126848757267\n",
      "Epoch: 250 \t training loss: 0.015082435682415962 \t validation loss 0.014716853387653828\n",
      "Epoch: 260 \t training loss: 0.01386278122663498 \t validation loss 0.013511697761714458\n",
      "Epoch: 270 \t training loss: 0.012812124565243721 \t validation loss 0.012472865171730518\n",
      "Epoch: 280 \t training loss: 0.011900204233825207 \t validation loss 0.011570646427571774\n",
      "Epoch: 290 \t training loss: 0.01110327709466219 \t validation loss 0.010781713761389256\n"
     ]
    }
   ],
   "source": [
    "# Train the model and get the train and validation loss\n",
    "(model, train_loss, val_loss) = torch_training(model=torch_conv2d_model, epochs=300, learning_rate=0.01)"
   ]
  },
  {
   "cell_type": "code",
   "execution_count": 97,
   "metadata": {},
   "outputs": [
    {
     "data": {
      "text/plain": [
       "OrderedDict([('0.weight',\n",
       "              tensor([[[[0.1096, 1.0909],\n",
       "                        [0.5448, 2.4241]]]])),\n",
       "             ('0.bias', tensor([-2.0656])),\n",
       "             ('3.weight', tensor([[1.9048]])),\n",
       "             ('3.bias', tensor([-0.7806]))])"
      ]
     },
     "execution_count": 97,
     "metadata": {},
     "output_type": "execute_result"
    }
   ],
   "source": [
    "# Get the model Learned parameters - Weights and Bias\n",
    "model.state_dict()"
   ]
  },
  {
   "cell_type": "code",
   "execution_count": 98,
   "metadata": {},
   "outputs": [
    {
     "data": {
      "image/png": "[encoded data removed]",
      "text/plain": [
       "<Figure size 640x480 with 1 Axes>"
      ]
     },
     "metadata": {},
     "output_type": "display_data"
    }
   ],
   "source": [
    "# Plotting the training loss values\n",
    "plt.title(f'Training vs Validation Loss after epochs ')\n",
    "\n",
    "# Trying to plot on the \"training_loss\" by itself will not work\n",
    "# Matplotlib will more than likely throw an error\n",
    "# Hence we needed to do \"torch.tensor(training_loss).detach()\"\n",
    "plt.plot(torch.tensor(train_loss).detach(), lw=3, label='train_loss')\n",
    "plt.plot(torch.tensor(val_loss).detach(), lw=3, label='val_loss')\n",
    "plt.xlabel('Epochs')\n",
    "plt.ylabel('Loss')\n",
    "plt.legend()\n",
    "plt.show()\n"
   ]
  },
  {
   "cell_type": "code",
   "execution_count": 99,
   "metadata": {},
   "outputs": [],
   "source": [
    "# What a crazy graph. The validation loss is crazy.\n",
    "# Well once again, we are here for learning not to model this model in production\n",
    "# With everything we've learned so far, you can figure out how to make this better"
   ]
  },
  {
   "cell_type": "code",
   "execution_count": 100,
   "metadata": {},
   "outputs": [
    {
     "data": {
      "text/plain": [
       "tensor([[[0.0140, 0.0644, 0.2027, 0.0007]]])"
      ]
     },
     "execution_count": 100,
     "metadata": {},
     "output_type": "execute_result"
    }
   ],
   "source": [
    "# Create a sample x for prediction\n",
    "new_sample = torch.tensor(data=np.array(pca.transform(min_max_scaler.transform(\\\n",
    "    np.array([7110, 1124942, 16527, 1873, 1251154, 1695, 112731], ndmin=2))), ndmin=3), dtype=torch.float32)\n",
    "new_sample"
   ]
  },
  {
   "cell_type": "code",
   "execution_count": 101,
   "metadata": {},
   "outputs": [
    {
     "data": {
      "text/plain": [
       "tensor([[[[0.0140, 0.0644],\n",
       "          [0.2027, 0.0007]]]])"
      ]
     },
     "execution_count": 101,
     "metadata": {},
     "output_type": "execute_result"
    }
   ],
   "source": [
    "# Remember, the test data has to go through the same preprocessing as the train data\n",
    "new_sample = new_sample.reshape(1,1,2,2)\n",
    "new_sample"
   ]
  },
  {
   "cell_type": "code",
   "execution_count": 102,
   "metadata": {},
   "outputs": [
    {
     "data": {
      "text/plain": [
       "tensor([[0.0126]])"
      ]
     },
     "execution_count": 102,
     "metadata": {},
     "output_type": "execute_result"
    }
   ],
   "source": [
    "# Make a prediction\n",
    "# If the prediction is greater than 0.5 then this sample is suspicious\n",
    "# Else it is normal\n",
    "with torch.inference_mode():\n",
    "    sample_pred = torch_conv2d_model(new_sample)\n",
    "sample_pred"
   ]
  },
  {
   "cell_type": "code",
   "execution_count": 103,
   "metadata": {},
   "outputs": [
    {
     "data": {
      "text/plain": [
       "tensor([[0.0089],\n",
       "        [0.0089],\n",
       "        [0.0089],\n",
       "        ...,\n",
       "        [0.0089],\n",
       "        [0.0089],\n",
       "        [0.0089]])"
      ]
     },
     "execution_count": 103,
     "metadata": {},
     "output_type": "execute_result"
    }
   ],
   "source": [
    "# Make predictions on the test data\n",
    "with torch.inference_mode():\n",
    "    predictions = torch_conv2d_model(X_test_pca)\n",
    "predictions"
   ]
  },
  {
   "cell_type": "code",
   "execution_count": 104,
   "metadata": {},
   "outputs": [
    {
     "data": {
      "text/plain": [
       "<matplotlib.legend.Legend at 0x1c1dc568040>"
      ]
     },
     "execution_count": 104,
     "metadata": {},
     "output_type": "execute_result"
    },
    {
     "data": {
      "image/png": "[encoded data removed]",
      "text/plain": [
       "<Figure size 640x480 with 1 Axes>"
      ]
     },
     "metadata": {},
     "output_type": "display_data"
    }
   ],
   "source": [
    "# Above confirms this model is terrible. \n",
    "plt.title('True vs Predictions')\n",
    "plt.plot(y_test, linestyle='', marker='o', label='True Y')\n",
    "plt.plot(predictions, ls='-', lw=2, label='predictions')\n",
    "plt.legend(loc='best')"
   ]
  },
  {
   "cell_type": "code",
   "execution_count": 105,
   "metadata": {},
   "outputs": [
    {
     "data": {
      "text/plain": [
       "0.999735080198449"
      ]
     },
     "execution_count": 105,
     "metadata": {},
     "output_type": "execute_result"
    }
   ],
   "source": [
    "# Grabbing the accuracy score\n",
    "accuracy_score(y_true=y_test, y_pred=np.round(predictions))"
   ]
  },
  {
   "cell_type": "code",
   "execution_count": 106,
   "metadata": {},
   "outputs": [
    {
     "name": "stdout",
     "output_type": "stream",
     "text": [
      "              precision    recall  f1-score   support\n",
      "\n",
      "         0.0       1.00      1.00      1.00     41509\n",
      "         1.0       1.00      0.15      0.27        13\n",
      "\n",
      "    accuracy                           1.00     41522\n",
      "   macro avg       1.00      0.58      0.63     41522\n",
      "weighted avg       1.00      1.00      1.00     41522\n",
      "\n"
     ]
    }
   ],
   "source": [
    "# Print classification report\n",
    "print(classification_report(y_true=y_test, y_pred=np.round(predictions)))"
   ]
  },
  {
   "cell_type": "code",
   "execution_count": 107,
   "metadata": {},
   "outputs": [
    {
     "data": {
      "image/png": "[encoded data removed]",
      "text/plain": [
       "<Figure size 640x480 with 2 Axes>"
      ]
     },
     "metadata": {},
     "output_type": "display_data"
    }
   ],
   "source": [
    "# Looking at the confusion matrix, clearly this model has way too much false positives\n",
    "# To learn more about metrics, see notebook:\n",
    "#   10. Beginning Supervise Learning - Machine Learning - Logistic Regression, Decision Trees and Metrics\n",
    "sns.heatmap(confusion_matrix(y_true=y_test, y_pred=np.round(predictions)), annot=True, fmt='d')\n",
    "plt.title('Confusion Matrix')\n",
    "plt.xlabel('Predicted')\n",
    "plt.ylabel('Actual')\n",
    "plt.show()\n"
   ]
  },
  {
   "cell_type": "code",
   "execution_count": 108,
   "metadata": {},
   "outputs": [],
   "source": [
    "# Create the path\n",
    "PATH = './SAVED_MODELS/TORCH_CONV_2D/'\n",
    "MODELS_PATH = os.makedirs(name=PATH, exist_ok=True)"
   ]
  },
  {
   "cell_type": "code",
   "execution_count": 109,
   "metadata": {},
   "outputs": [],
   "source": [
    "# Save the model weights\n",
    "torch.save(obj=model, f=F'{PATH}/torch_conv2d_model.pth')"
   ]
  },
  {
   "cell_type": "code",
   "execution_count": 110,
   "metadata": {},
   "outputs": [
    {
     "data": {
      "text/plain": [
       "Sequential(\n",
       "  (0): Conv2d(1, 1, kernel_size=(2, 2), stride=(1, 1), padding=same)\n",
       "  (1): MaxPool2d(kernel_size=(2, 2), stride=1, padding=0, dilation=1, ceil_mode=False)\n",
       "  (2): Flatten(start_dim=1, end_dim=-1)\n",
       "  (3): Linear(in_features=1, out_features=1, bias=True)\n",
       "  (4): Sigmoid()\n",
       ")"
      ]
     },
     "execution_count": 110,
     "metadata": {},
     "output_type": "execute_result"
    }
   ],
   "source": [
    "loaded_conv2d_torch_model = torch.load(f=f'{PATH}/torch_conv2d_model.pth')\n",
    "loaded_conv2d_torch_model"
   ]
  },
  {
   "cell_type": "code",
   "execution_count": 111,
   "metadata": {},
   "outputs": [
    {
     "data": {
      "text/plain": [
       "tensor([[0.0126]], grad_fn=<SigmoidBackward0>)"
      ]
     },
     "execution_count": 111,
     "metadata": {},
     "output_type": "execute_result"
    }
   ],
   "source": [
    "# Make a prediction on the loaded model\n",
    "loaded_conv2d_torch_model(new_sample)"
   ]
  },
  {
   "attachments": {},
   "cell_type": "markdown",
   "metadata": {},
   "source": [
    "Additional References and Good reads <br>\n",
    "https://www.youtube.com/watch?v=WZdxt9xatrY <br>\n",
    "https://stackoverflow.com/questions/55701788/should-a-1d-cnn-need-padding-to-retain-input-length <br>\n",
    "https://medium.com/@santi.pdp/how-pytorch-transposed-convs1d-work-a7adac63c4a5 <br>\n",
    "\n"
   ]
  },
  {
   "cell_type": "code",
   "execution_count": null,
   "metadata": {},
   "outputs": [],
   "source": []
  }
 ],
 "metadata": {
  "kernelspec": {
   "display_name": "main-env",
   "language": "python",
   "name": "python3"
  },
  "language_info": {
   "codemirror_mode": {
    "name": "ipython",
    "version": 3
   },
   "file_extension": ".py",
   "mimetype": "text/x-python",
   "name": "python",
   "nbconvert_exporter": "python",
   "pygments_lexer": "ipython3",
   "version": "3.10.11"
  },
  "orig_nbformat": 4,
  "vscode": {
   "interpreter": {
    "hash": "dcb100998b7ef434a33dbfac35f576e40d01f04c34d9ff6f6aad819b8a88c169"
   }
  }
 },
 "nbformat": 4,
 "nbformat_minor": 2
}
