{
 "cells": [
  {
   "attachments": {},
   "cell_type": "markdown",
   "metadata": {},
   "source": [
    "Author: Nik Alleyne <br>\n",
    "Author Blog: **https://www.securitynik.com** <br>\n",
    "Author GitHub: **github.com/securitynik** <br>\n",
    "\n",
    "Author Books: [  <br>\n",
    "\n",
    "                \"https://www.amazon.ca/Learning-Practicing-Leveraging-Practical-Detection/dp/1731254458/\", \n",
    "                \n",
    "                \"https://www.amazon.ca/Learning-Practicing-Mastering-Network-Forensics/dp/1775383024/\" \n",
    "            ] \n"
   ]
  },
  {
   "cell_type": "code",
   "execution_count": null,
   "metadata": {},
   "outputs": [],
   "source": []
  },
  {
   "attachments": {},
   "cell_type": "markdown",
   "metadata": {},
   "source": [
    "### Why this series?\n",
    "When teaching the SANS SEC595: Applied Data Science and Machine Learning for Cybersecurity Professionals \n",
    "**https://www.sans.org/cyber-security-courses/applied-data-science-machine-learning/** I am always asked,\n",
    "\"Will you be sharing your demo notebooks?\" or \"Can we get a copy of your demo notebooks?\" or ... well you get the point.\n",
    "My answer is always no. Not that I do not want to share, (sharing is caring :-D) , but the demo notebooks \n",
    "by themselves, would not make sense or add real value. Hence, this series! \n",
    "\n",
    "This is my supplemental work, similar to what I would do in the demos but with a lot more details and references."
   ]
  },
  {
   "cell_type": "code",
   "execution_count": null,
   "metadata": {},
   "outputs": [],
   "source": []
  },
  {
   "attachments": {},
   "cell_type": "markdown",
   "metadata": {},
   "source": [
    "## 12. Beginning Deep Learning - Anomaly Detection with AutoEncoders, Tensorflow"
   ]
  },
  {
   "attachments": {},
   "cell_type": "markdown",
   "metadata": {},
   "source": [
    "### The series includes the following: <br>\n",
    "01 - Beginning Numpy <br>\n",
    "02 - Beginning Tensorflow  <br>\n",
    "03 - Beginning PyTorch <br>\n",
    "04 - Beginning Pandas <br>\n",
    "05 - Beginning Matplotlib <br>\n",
    "06 - Beginning Data Scaling <br>\n",
    "07 - Beginning Principal Component Analysis (PCA) <br>\n",
    "08 - Beginning Machine Learning Anomaly Detection - Isolation Forest and Local Outlier Factor <br>\n",
    "09 - Beginning Unsupervised Machine Learning - Clustering - K-means and DBSCAN <br>\n",
    "10 - Beginning Supervise Learning - Machine Learning - Logistic Regression, Decision Trees and Metrics <br>\n",
    "11 - Beginning Linear Regression - Machine Learning <br>\n",
    "12 - Beginning Deep Learning - Anomaly Detection with AutoEncoders, Tensorflow <br>\n",
    "13 - Beginning Deep Learning - Anomaly Detection with AutoEncoders, PyTroch <br>\n",
    "14 - Beginning Deep Learning - Linear Regression, Tensorflow <br>\n",
    "15 - Beginning Deep Learning - Linear Regression, PyTorch <br>\n",
    "16 - Beginning Deep Learning - Classification, Tensorflow <br>\n",
    "17 - Beginning Deep Learning - Classification, Pytorch <br>\n",
    "18 - Beginning Deep Learning - Classification - regression - MIMO - Functional API Tensorflow <br> \n",
    "19 - Beginning Deep Learning - Convolution Networks - Tensorflow <br>\n",
    "20 - Beginning Deep Learning - Convolution Networks - PyTorch <br>\n",
    "21 - Beginning Regularization - Early Stopping, Dropout, L2 (Ridge), L1 (Lasso) <br>\n",
    "22 - Beginning Model TFServing <br>\n",
    "\n",
    "But conn.log is not the only log file within Zeek. Let's build some models for DNS and HTTP logs. <br>\n",
    "I choose unsupervised, because there are no labels coming with these data. <br>\n",
    "\n",
    "23 - Continuing Anomaly Learning - Zeek DNS Log - Machine Learning <br>\n",
    "24 - Continuing Unsupervised Learning - Zeek HTTP Log - Machine Learning <br>\n",
    "\n",
    "This was a specific ask by someone in one of my class. <br>\n",
    "25 - Beginning - Reading Executables and Building a Neural Network to make predictions on suspicious vs suspicious  <br><br>\n",
    "\n",
    "With 25 notebooks in this series, it is quite possible there are things I could have or should have done differently.  <br>\n",
    "If you find any thing, you think fits those criteria, drop me a line. <br>\n",
    "\n",
    "If you find this series beneficial, I would greatly appreciate your feedback."
   ]
  },
  {
   "cell_type": "code",
   "execution_count": null,
   "metadata": {},
   "outputs": [],
   "source": []
  },
  {
   "cell_type": "code",
   "execution_count": 1,
   "metadata": {},
   "outputs": [],
   "source": [
    "# import some libraries\n",
    "import pandas as pd\n",
    "import numpy as np\n",
    "import matplotlib.pyplot as plt"
   ]
  },
  {
   "cell_type": "code",
   "execution_count": 2,
   "metadata": {},
   "outputs": [
    {
     "data": {
      "text/html": [
       "<div>\n",
       "<style scoped>\n",
       "    .dataframe tbody tr th:only-of-type {\n",
       "        vertical-align: middle;\n",
       "    }\n",
       "\n",
       "    .dataframe tbody tr th {\n",
       "        vertical-align: top;\n",
       "    }\n",
       "\n",
       "    .dataframe thead th {\n",
       "        text-align: right;\n",
       "    }\n",
       "</style>\n",
       "<table border=\"1\" class=\"dataframe\">\n",
       "  <thead>\n",
       "    <tr style=\"text-align: right;\">\n",
       "      <th></th>\n",
       "      <th>id.resp_p</th>\n",
       "      <th>duration</th>\n",
       "      <th>orig_bytes</th>\n",
       "      <th>resp_bytes</th>\n",
       "      <th>orig_pkts</th>\n",
       "      <th>orig_ip_bytes</th>\n",
       "      <th>resp_pkts</th>\n",
       "      <th>resp_ip_bytes</th>\n",
       "      <th>label</th>\n",
       "    </tr>\n",
       "  </thead>\n",
       "  <tbody>\n",
       "    <tr>\n",
       "      <th>1</th>\n",
       "      <td>48798</td>\n",
       "      <td>0.000000</td>\n",
       "      <td>0</td>\n",
       "      <td>0</td>\n",
       "      <td>0</td>\n",
       "      <td>0</td>\n",
       "      <td>0</td>\n",
       "      <td>0</td>\n",
       "      <td>0</td>\n",
       "    </tr>\n",
       "    <tr>\n",
       "      <th>2</th>\n",
       "      <td>48804</td>\n",
       "      <td>0.000000</td>\n",
       "      <td>0</td>\n",
       "      <td>0</td>\n",
       "      <td>0</td>\n",
       "      <td>0</td>\n",
       "      <td>0</td>\n",
       "      <td>0</td>\n",
       "      <td>0</td>\n",
       "    </tr>\n",
       "    <tr>\n",
       "      <th>4</th>\n",
       "      <td>27761</td>\n",
       "      <td>0.000000</td>\n",
       "      <td>0</td>\n",
       "      <td>0</td>\n",
       "      <td>0</td>\n",
       "      <td>0</td>\n",
       "      <td>0</td>\n",
       "      <td>0</td>\n",
       "      <td>0</td>\n",
       "    </tr>\n",
       "    <tr>\n",
       "      <th>5</th>\n",
       "      <td>8888</td>\n",
       "      <td>0.053276</td>\n",
       "      <td>208</td>\n",
       "      <td>976</td>\n",
       "      <td>6</td>\n",
       "      <td>528</td>\n",
       "      <td>6</td>\n",
       "      <td>1296</td>\n",
       "      <td>0</td>\n",
       "    </tr>\n",
       "    <tr>\n",
       "      <th>6</th>\n",
       "      <td>8888</td>\n",
       "      <td>0.383646</td>\n",
       "      <td>227</td>\n",
       "      <td>692369</td>\n",
       "      <td>202</td>\n",
       "      <td>10739</td>\n",
       "      <td>117</td>\n",
       "      <td>240893</td>\n",
       "      <td>0</td>\n",
       "    </tr>\n",
       "    <tr>\n",
       "      <th>...</th>\n",
       "      <td>...</td>\n",
       "      <td>...</td>\n",
       "      <td>...</td>\n",
       "      <td>...</td>\n",
       "      <td>...</td>\n",
       "      <td>...</td>\n",
       "      <td>...</td>\n",
       "      <td>...</td>\n",
       "      <td>...</td>\n",
       "    </tr>\n",
       "    <tr>\n",
       "      <th>4430183</th>\n",
       "      <td>9200</td>\n",
       "      <td>0.000051</td>\n",
       "      <td>0</td>\n",
       "      <td>0</td>\n",
       "      <td>1</td>\n",
       "      <td>52</td>\n",
       "      <td>1</td>\n",
       "      <td>40</td>\n",
       "      <td>0</td>\n",
       "    </tr>\n",
       "    <tr>\n",
       "      <th>4430184</th>\n",
       "      <td>9200</td>\n",
       "      <td>0.000023</td>\n",
       "      <td>0</td>\n",
       "      <td>0</td>\n",
       "      <td>0</td>\n",
       "      <td>0</td>\n",
       "      <td>1</td>\n",
       "      <td>40</td>\n",
       "      <td>0</td>\n",
       "    </tr>\n",
       "    <tr>\n",
       "      <th>4430185</th>\n",
       "      <td>9200</td>\n",
       "      <td>0.000005</td>\n",
       "      <td>0</td>\n",
       "      <td>0</td>\n",
       "      <td>0</td>\n",
       "      <td>0</td>\n",
       "      <td>1</td>\n",
       "      <td>40</td>\n",
       "      <td>0</td>\n",
       "    </tr>\n",
       "    <tr>\n",
       "      <th>4430186</th>\n",
       "      <td>9200</td>\n",
       "      <td>0.000005</td>\n",
       "      <td>0</td>\n",
       "      <td>0</td>\n",
       "      <td>0</td>\n",
       "      <td>0</td>\n",
       "      <td>1</td>\n",
       "      <td>40</td>\n",
       "      <td>0</td>\n",
       "    </tr>\n",
       "    <tr>\n",
       "      <th>4430187</th>\n",
       "      <td>9200</td>\n",
       "      <td>0.000005</td>\n",
       "      <td>0</td>\n",
       "      <td>0</td>\n",
       "      <td>0</td>\n",
       "      <td>0</td>\n",
       "      <td>1</td>\n",
       "      <td>40</td>\n",
       "      <td>0</td>\n",
       "    </tr>\n",
       "  </tbody>\n",
       "</table>\n",
       "<p>4236125 rows × 9 columns</p>\n",
       "</div>"
      ],
      "text/plain": [
       "         id.resp_p  duration  orig_bytes  resp_bytes  orig_pkts   \n",
       "1            48798  0.000000           0           0          0  \\\n",
       "2            48804  0.000000           0           0          0   \n",
       "4            27761  0.000000           0           0          0   \n",
       "5             8888  0.053276         208         976          6   \n",
       "6             8888  0.383646         227      692369        202   \n",
       "...            ...       ...         ...         ...        ...   \n",
       "4430183       9200  0.000051           0           0          1   \n",
       "4430184       9200  0.000023           0           0          0   \n",
       "4430185       9200  0.000005           0           0          0   \n",
       "4430186       9200  0.000005           0           0          0   \n",
       "4430187       9200  0.000005           0           0          0   \n",
       "\n",
       "         orig_ip_bytes  resp_pkts  resp_ip_bytes  label  \n",
       "1                    0          0              0      0  \n",
       "2                    0          0              0      0  \n",
       "4                    0          0              0      0  \n",
       "5                  528          6           1296      0  \n",
       "6                10739        117         240893      0  \n",
       "...                ...        ...            ...    ...  \n",
       "4430183             52          1             40      0  \n",
       "4430184              0          1             40      0  \n",
       "4430185              0          1             40      0  \n",
       "4430186              0          1             40      0  \n",
       "4430187              0          1             40      0  \n",
       "\n",
       "[4236125 rows x 9 columns]"
      ]
     },
     "execution_count": 2,
     "metadata": {},
     "output_type": "execute_result"
    }
   ],
   "source": [
    "# In the notebooks on Pandas, Matplotlib and Scaling\n",
    "#   04 - Beginning Pandas <br>\n",
    "#   05 - Beginning Matplotlib <br>\n",
    "#   06 - Beginning Data Scaling <br>\n",
    "# we loaded our dataset such as\n",
    "df_conn = pd.read_csv(r'df_conn_with_labels.csv', index_col=0)\n",
    "df_conn"
   ]
  },
  {
   "attachments": {},
   "cell_type": "markdown",
   "metadata": {},
   "source": [
    "This file represents Zeek (formerly Bro) connection log - conn.log`. <br>\n",
    "Zeek is a framework used for Network Security Monitoring.  <br>\n",
    "This entire series is based on using Zeek's data.  <br>\n",
    "The majority of the notebooks use the conn.log <br>\n",
    "You can learn more about Zeek here:\n",
    "   \n",
    "    https://zeek.org/\n",
    "\n",
    "Alternatively, come hang out with us in the:\n",
    "SANS SEC595: Applied Data Science and Machine Learning for Cybersecurity Professionals\n",
    "\n",
    "        https://www.sans.org/cyber-security-courses/applied-data-science-machine-learning/ OR\n",
    "\n",
    "SEC503 SEC503: Network Monitoring and Threat Detection In-Depth\n",
    "\n",
    "        https://www.sans.org/cyber-security-courses/network-monitoring-threat-detection/\n",
    "\n",
    "\n",
    "Here are also some blog posts on using Zeek for security monitoring\n",
    "Installing Zeek: \n",
    "\n",
    "        https://www.securitynik.com/2020/06/installing-zeek-314-on-ubuntu-2004.html\n",
    "\n",
    "Detecting PowerShell Empire Usage: \n",
    "\n",
    "        https://www.securitynik.com/2022/02/powershell-empire-detection-with-zeek.html\n",
    "\n",
    "Detecting Log4J Vulnerability Exploitation: \n",
    "\n",
    "        https://www.securitynik.com/2021/12/continuing-log4shell-zeek-detection.html\n"
   ]
  },
  {
   "cell_type": "code",
   "execution_count": 3,
   "metadata": {},
   "outputs": [
    {
     "data": {
      "text/html": [
       "<div>\n",
       "<style scoped>\n",
       "    .dataframe tbody tr th:only-of-type {\n",
       "        vertical-align: middle;\n",
       "    }\n",
       "\n",
       "    .dataframe tbody tr th {\n",
       "        vertical-align: top;\n",
       "    }\n",
       "\n",
       "    .dataframe thead th {\n",
       "        text-align: right;\n",
       "    }\n",
       "</style>\n",
       "<table border=\"1\" class=\"dataframe\">\n",
       "  <thead>\n",
       "    <tr style=\"text-align: right;\">\n",
       "      <th></th>\n",
       "      <th>duration</th>\n",
       "      <th>orig_bytes</th>\n",
       "      <th>resp_bytes</th>\n",
       "      <th>orig_pkts</th>\n",
       "      <th>orig_ip_bytes</th>\n",
       "      <th>resp_pkts</th>\n",
       "      <th>resp_ip_bytes</th>\n",
       "      <th>label</th>\n",
       "    </tr>\n",
       "  </thead>\n",
       "  <tbody>\n",
       "    <tr>\n",
       "      <th>1</th>\n",
       "      <td>0.000000</td>\n",
       "      <td>0</td>\n",
       "      <td>0</td>\n",
       "      <td>0</td>\n",
       "      <td>0</td>\n",
       "      <td>0</td>\n",
       "      <td>0</td>\n",
       "      <td>0</td>\n",
       "    </tr>\n",
       "    <tr>\n",
       "      <th>2</th>\n",
       "      <td>0.000000</td>\n",
       "      <td>0</td>\n",
       "      <td>0</td>\n",
       "      <td>0</td>\n",
       "      <td>0</td>\n",
       "      <td>0</td>\n",
       "      <td>0</td>\n",
       "      <td>0</td>\n",
       "    </tr>\n",
       "    <tr>\n",
       "      <th>4</th>\n",
       "      <td>0.000000</td>\n",
       "      <td>0</td>\n",
       "      <td>0</td>\n",
       "      <td>0</td>\n",
       "      <td>0</td>\n",
       "      <td>0</td>\n",
       "      <td>0</td>\n",
       "      <td>0</td>\n",
       "    </tr>\n",
       "    <tr>\n",
       "      <th>5</th>\n",
       "      <td>0.053276</td>\n",
       "      <td>208</td>\n",
       "      <td>976</td>\n",
       "      <td>6</td>\n",
       "      <td>528</td>\n",
       "      <td>6</td>\n",
       "      <td>1296</td>\n",
       "      <td>0</td>\n",
       "    </tr>\n",
       "    <tr>\n",
       "      <th>6</th>\n",
       "      <td>0.383646</td>\n",
       "      <td>227</td>\n",
       "      <td>692369</td>\n",
       "      <td>202</td>\n",
       "      <td>10739</td>\n",
       "      <td>117</td>\n",
       "      <td>240893</td>\n",
       "      <td>0</td>\n",
       "    </tr>\n",
       "    <tr>\n",
       "      <th>...</th>\n",
       "      <td>...</td>\n",
       "      <td>...</td>\n",
       "      <td>...</td>\n",
       "      <td>...</td>\n",
       "      <td>...</td>\n",
       "      <td>...</td>\n",
       "      <td>...</td>\n",
       "      <td>...</td>\n",
       "    </tr>\n",
       "    <tr>\n",
       "      <th>4430183</th>\n",
       "      <td>0.000051</td>\n",
       "      <td>0</td>\n",
       "      <td>0</td>\n",
       "      <td>1</td>\n",
       "      <td>52</td>\n",
       "      <td>1</td>\n",
       "      <td>40</td>\n",
       "      <td>0</td>\n",
       "    </tr>\n",
       "    <tr>\n",
       "      <th>4430184</th>\n",
       "      <td>0.000023</td>\n",
       "      <td>0</td>\n",
       "      <td>0</td>\n",
       "      <td>0</td>\n",
       "      <td>0</td>\n",
       "      <td>1</td>\n",
       "      <td>40</td>\n",
       "      <td>0</td>\n",
       "    </tr>\n",
       "    <tr>\n",
       "      <th>4430185</th>\n",
       "      <td>0.000005</td>\n",
       "      <td>0</td>\n",
       "      <td>0</td>\n",
       "      <td>0</td>\n",
       "      <td>0</td>\n",
       "      <td>1</td>\n",
       "      <td>40</td>\n",
       "      <td>0</td>\n",
       "    </tr>\n",
       "    <tr>\n",
       "      <th>4430186</th>\n",
       "      <td>0.000005</td>\n",
       "      <td>0</td>\n",
       "      <td>0</td>\n",
       "      <td>0</td>\n",
       "      <td>0</td>\n",
       "      <td>1</td>\n",
       "      <td>40</td>\n",
       "      <td>0</td>\n",
       "    </tr>\n",
       "    <tr>\n",
       "      <th>4430187</th>\n",
       "      <td>0.000005</td>\n",
       "      <td>0</td>\n",
       "      <td>0</td>\n",
       "      <td>0</td>\n",
       "      <td>0</td>\n",
       "      <td>1</td>\n",
       "      <td>40</td>\n",
       "      <td>0</td>\n",
       "    </tr>\n",
       "  </tbody>\n",
       "</table>\n",
       "<p>4236125 rows × 8 columns</p>\n",
       "</div>"
      ],
      "text/plain": [
       "         duration  orig_bytes  resp_bytes  orig_pkts  orig_ip_bytes   \n",
       "1        0.000000           0           0          0              0  \\\n",
       "2        0.000000           0           0          0              0   \n",
       "4        0.000000           0           0          0              0   \n",
       "5        0.053276         208         976          6            528   \n",
       "6        0.383646         227      692369        202          10739   \n",
       "...           ...         ...         ...        ...            ...   \n",
       "4430183  0.000051           0           0          1             52   \n",
       "4430184  0.000023           0           0          0              0   \n",
       "4430185  0.000005           0           0          0              0   \n",
       "4430186  0.000005           0           0          0              0   \n",
       "4430187  0.000005           0           0          0              0   \n",
       "\n",
       "         resp_pkts  resp_ip_bytes  label  \n",
       "1                0              0      0  \n",
       "2                0              0      0  \n",
       "4                0              0      0  \n",
       "5                6           1296      0  \n",
       "6              117         240893      0  \n",
       "...            ...            ...    ...  \n",
       "4430183          1             40      0  \n",
       "4430184          1             40      0  \n",
       "4430185          1             40      0  \n",
       "4430186          1             40      0  \n",
       "4430187          1             40      0  \n",
       "\n",
       "[4236125 rows x 8 columns]"
      ]
     },
     "execution_count": 3,
     "metadata": {},
     "output_type": "execute_result"
    }
   ],
   "source": [
    "# Drop the port column\n",
    "df_conn = df_conn.drop(columns=['id.resp_p'], inplace=False)\n",
    "df_conn"
   ]
  },
  {
   "cell_type": "code",
   "execution_count": 4,
   "metadata": {},
   "outputs": [
    {
     "data": {
      "text/html": [
       "<div>\n",
       "<style scoped>\n",
       "    .dataframe tbody tr th:only-of-type {\n",
       "        vertical-align: middle;\n",
       "    }\n",
       "\n",
       "    .dataframe tbody tr th {\n",
       "        vertical-align: top;\n",
       "    }\n",
       "\n",
       "    .dataframe thead th {\n",
       "        text-align: right;\n",
       "    }\n",
       "</style>\n",
       "<table border=\"1\" class=\"dataframe\">\n",
       "  <thead>\n",
       "    <tr style=\"text-align: right;\">\n",
       "      <th></th>\n",
       "      <th>duration</th>\n",
       "      <th>orig_bytes</th>\n",
       "      <th>resp_bytes</th>\n",
       "      <th>orig_pkts</th>\n",
       "      <th>orig_ip_bytes</th>\n",
       "      <th>resp_pkts</th>\n",
       "      <th>resp_ip_bytes</th>\n",
       "      <th>label</th>\n",
       "    </tr>\n",
       "  </thead>\n",
       "  <tbody>\n",
       "    <tr>\n",
       "      <th>5</th>\n",
       "      <td>0.053276</td>\n",
       "      <td>208</td>\n",
       "      <td>976</td>\n",
       "      <td>6</td>\n",
       "      <td>528</td>\n",
       "      <td>6</td>\n",
       "      <td>1296</td>\n",
       "      <td>0</td>\n",
       "    </tr>\n",
       "    <tr>\n",
       "      <th>6</th>\n",
       "      <td>0.383646</td>\n",
       "      <td>227</td>\n",
       "      <td>692369</td>\n",
       "      <td>202</td>\n",
       "      <td>10739</td>\n",
       "      <td>117</td>\n",
       "      <td>240893</td>\n",
       "      <td>0</td>\n",
       "    </tr>\n",
       "    <tr>\n",
       "      <th>7</th>\n",
       "      <td>0.054294</td>\n",
       "      <td>208</td>\n",
       "      <td>977</td>\n",
       "      <td>6</td>\n",
       "      <td>528</td>\n",
       "      <td>6</td>\n",
       "      <td>1297</td>\n",
       "      <td>0</td>\n",
       "    </tr>\n",
       "    <tr>\n",
       "      <th>8</th>\n",
       "      <td>0.424980</td>\n",
       "      <td>227</td>\n",
       "      <td>791633</td>\n",
       "      <td>176</td>\n",
       "      <td>9387</td>\n",
       "      <td>174</td>\n",
       "      <td>367737</td>\n",
       "      <td>0</td>\n",
       "    </tr>\n",
       "    <tr>\n",
       "      <th>9</th>\n",
       "      <td>0.272567</td>\n",
       "      <td>227</td>\n",
       "      <td>406607</td>\n",
       "      <td>171</td>\n",
       "      <td>9127</td>\n",
       "      <td>71</td>\n",
       "      <td>169939</td>\n",
       "      <td>0</td>\n",
       "    </tr>\n",
       "    <tr>\n",
       "      <th>...</th>\n",
       "      <td>...</td>\n",
       "      <td>...</td>\n",
       "      <td>...</td>\n",
       "      <td>...</td>\n",
       "      <td>...</td>\n",
       "      <td>...</td>\n",
       "      <td>...</td>\n",
       "      <td>...</td>\n",
       "    </tr>\n",
       "    <tr>\n",
       "      <th>4430183</th>\n",
       "      <td>0.000051</td>\n",
       "      <td>0</td>\n",
       "      <td>0</td>\n",
       "      <td>1</td>\n",
       "      <td>52</td>\n",
       "      <td>1</td>\n",
       "      <td>40</td>\n",
       "      <td>0</td>\n",
       "    </tr>\n",
       "    <tr>\n",
       "      <th>4430184</th>\n",
       "      <td>0.000023</td>\n",
       "      <td>0</td>\n",
       "      <td>0</td>\n",
       "      <td>0</td>\n",
       "      <td>0</td>\n",
       "      <td>1</td>\n",
       "      <td>40</td>\n",
       "      <td>0</td>\n",
       "    </tr>\n",
       "    <tr>\n",
       "      <th>4430185</th>\n",
       "      <td>0.000005</td>\n",
       "      <td>0</td>\n",
       "      <td>0</td>\n",
       "      <td>0</td>\n",
       "      <td>0</td>\n",
       "      <td>1</td>\n",
       "      <td>40</td>\n",
       "      <td>0</td>\n",
       "    </tr>\n",
       "    <tr>\n",
       "      <th>4430186</th>\n",
       "      <td>0.000005</td>\n",
       "      <td>0</td>\n",
       "      <td>0</td>\n",
       "      <td>0</td>\n",
       "      <td>0</td>\n",
       "      <td>1</td>\n",
       "      <td>40</td>\n",
       "      <td>0</td>\n",
       "    </tr>\n",
       "    <tr>\n",
       "      <th>4430187</th>\n",
       "      <td>0.000005</td>\n",
       "      <td>0</td>\n",
       "      <td>0</td>\n",
       "      <td>0</td>\n",
       "      <td>0</td>\n",
       "      <td>1</td>\n",
       "      <td>40</td>\n",
       "      <td>0</td>\n",
       "    </tr>\n",
       "  </tbody>\n",
       "</table>\n",
       "<p>207608 rows × 8 columns</p>\n",
       "</div>"
      ],
      "text/plain": [
       "         duration  orig_bytes  resp_bytes  orig_pkts  orig_ip_bytes   \n",
       "5        0.053276         208         976          6            528  \\\n",
       "6        0.383646         227      692369        202          10739   \n",
       "7        0.054294         208         977          6            528   \n",
       "8        0.424980         227      791633        176           9387   \n",
       "9        0.272567         227      406607        171           9127   \n",
       "...           ...         ...         ...        ...            ...   \n",
       "4430183  0.000051           0           0          1             52   \n",
       "4430184  0.000023           0           0          0              0   \n",
       "4430185  0.000005           0           0          0              0   \n",
       "4430186  0.000005           0           0          0              0   \n",
       "4430187  0.000005           0           0          0              0   \n",
       "\n",
       "         resp_pkts  resp_ip_bytes  label  \n",
       "5                6           1296      0  \n",
       "6              117         240893      0  \n",
       "7                6           1297      0  \n",
       "8              174         367737      0  \n",
       "9               71         169939      0  \n",
       "...            ...            ...    ...  \n",
       "4430183          1             40      0  \n",
       "4430184          1             40      0  \n",
       "4430185          1             40      0  \n",
       "4430186          1             40      0  \n",
       "4430187          1             40      0  \n",
       "\n",
       "[207608 rows x 8 columns]"
      ]
     },
     "execution_count": 4,
     "metadata": {},
     "output_type": "execute_result"
    }
   ],
   "source": [
    "# Looking at above, we see a number of records with 0s. \n",
    "# These will add no value to our learning process\n",
    "# I know you might be saying, why didn't we fix these earlier. \n",
    "# Good question, we are learning (pun intended) as we go along\n",
    "# Besides you learn more about your data as you work with your data.\n",
    "# Or as it is said, if you interrogate the data long enough, it will confess\n",
    "#   https://quoteinvestigator.com/2021/01/18/confess/\n",
    "# Let's find all those records and drop them\n",
    "# Reference: https://stackoverflow.com/questions/13851535/how-to-delete-rows-from-a-pandas-dataframe-based-on-a-conditional-expression\n",
    "df_conn = df_conn.drop(df_conn[(df_conn.duration == 0 ) & (df_conn.orig_bytes == 0 ) \n",
    "                               & (df_conn.resp_bytes == 0 ) & (df_conn.orig_pkts == 0 )  \n",
    "                               & (df_conn.orig_ip_bytes == 0 ) & (df_conn.resp_pkts == 0 ) \n",
    "                               & (df_conn.resp_ip_bytes == 0 )].index)\n",
    "df_conn"
   ]
  },
  {
   "cell_type": "code",
   "execution_count": 5,
   "metadata": {},
   "outputs": [
    {
     "name": "stdout",
     "output_type": "stream",
     "text": [
      "conn-reduced.csv\n"
     ]
    }
   ],
   "source": [
    "# Interesting, after removing those records where the rows had all 0s, our dataset is now 207,457 records\n",
    "# Keep in mind the original normal dataset was over 4.4 million records.\n",
    "# This is a good reduction of useless records\n",
    "# Saving the dataframe\n",
    "df_conn.to_csv(path_or_buf='./conn-reduced.csv',  sep=',')\n",
    "\n",
    "# Validate the file was there\n",
    "!dir conn-reduced.* /b"
   ]
  },
  {
   "cell_type": "code",
   "execution_count": 6,
   "metadata": {},
   "outputs": [
    {
     "data": {
      "text/html": [
       "<div>\n",
       "<style scoped>\n",
       "    .dataframe tbody tr th:only-of-type {\n",
       "        vertical-align: middle;\n",
       "    }\n",
       "\n",
       "    .dataframe tbody tr th {\n",
       "        vertical-align: top;\n",
       "    }\n",
       "\n",
       "    .dataframe thead th {\n",
       "        text-align: right;\n",
       "    }\n",
       "</style>\n",
       "<table border=\"1\" class=\"dataframe\">\n",
       "  <thead>\n",
       "    <tr style=\"text-align: right;\">\n",
       "      <th></th>\n",
       "      <th>duration</th>\n",
       "      <th>orig_bytes</th>\n",
       "      <th>resp_bytes</th>\n",
       "      <th>orig_pkts</th>\n",
       "      <th>orig_ip_bytes</th>\n",
       "      <th>resp_pkts</th>\n",
       "      <th>resp_ip_bytes</th>\n",
       "    </tr>\n",
       "  </thead>\n",
       "  <tbody>\n",
       "    <tr>\n",
       "      <th>5</th>\n",
       "      <td>0.053276</td>\n",
       "      <td>208</td>\n",
       "      <td>976</td>\n",
       "      <td>6</td>\n",
       "      <td>528</td>\n",
       "      <td>6</td>\n",
       "      <td>1296</td>\n",
       "    </tr>\n",
       "    <tr>\n",
       "      <th>6</th>\n",
       "      <td>0.383646</td>\n",
       "      <td>227</td>\n",
       "      <td>692369</td>\n",
       "      <td>202</td>\n",
       "      <td>10739</td>\n",
       "      <td>117</td>\n",
       "      <td>240893</td>\n",
       "    </tr>\n",
       "    <tr>\n",
       "      <th>7</th>\n",
       "      <td>0.054294</td>\n",
       "      <td>208</td>\n",
       "      <td>977</td>\n",
       "      <td>6</td>\n",
       "      <td>528</td>\n",
       "      <td>6</td>\n",
       "      <td>1297</td>\n",
       "    </tr>\n",
       "    <tr>\n",
       "      <th>8</th>\n",
       "      <td>0.424980</td>\n",
       "      <td>227</td>\n",
       "      <td>791633</td>\n",
       "      <td>176</td>\n",
       "      <td>9387</td>\n",
       "      <td>174</td>\n",
       "      <td>367737</td>\n",
       "    </tr>\n",
       "    <tr>\n",
       "      <th>9</th>\n",
       "      <td>0.272567</td>\n",
       "      <td>227</td>\n",
       "      <td>406607</td>\n",
       "      <td>171</td>\n",
       "      <td>9127</td>\n",
       "      <td>71</td>\n",
       "      <td>169939</td>\n",
       "    </tr>\n",
       "    <tr>\n",
       "      <th>...</th>\n",
       "      <td>...</td>\n",
       "      <td>...</td>\n",
       "      <td>...</td>\n",
       "      <td>...</td>\n",
       "      <td>...</td>\n",
       "      <td>...</td>\n",
       "      <td>...</td>\n",
       "    </tr>\n",
       "    <tr>\n",
       "      <th>4430183</th>\n",
       "      <td>0.000051</td>\n",
       "      <td>0</td>\n",
       "      <td>0</td>\n",
       "      <td>1</td>\n",
       "      <td>52</td>\n",
       "      <td>1</td>\n",
       "      <td>40</td>\n",
       "    </tr>\n",
       "    <tr>\n",
       "      <th>4430184</th>\n",
       "      <td>0.000023</td>\n",
       "      <td>0</td>\n",
       "      <td>0</td>\n",
       "      <td>0</td>\n",
       "      <td>0</td>\n",
       "      <td>1</td>\n",
       "      <td>40</td>\n",
       "    </tr>\n",
       "    <tr>\n",
       "      <th>4430185</th>\n",
       "      <td>0.000005</td>\n",
       "      <td>0</td>\n",
       "      <td>0</td>\n",
       "      <td>0</td>\n",
       "      <td>0</td>\n",
       "      <td>1</td>\n",
       "      <td>40</td>\n",
       "    </tr>\n",
       "    <tr>\n",
       "      <th>4430186</th>\n",
       "      <td>0.000005</td>\n",
       "      <td>0</td>\n",
       "      <td>0</td>\n",
       "      <td>0</td>\n",
       "      <td>0</td>\n",
       "      <td>1</td>\n",
       "      <td>40</td>\n",
       "    </tr>\n",
       "    <tr>\n",
       "      <th>4430187</th>\n",
       "      <td>0.000005</td>\n",
       "      <td>0</td>\n",
       "      <td>0</td>\n",
       "      <td>0</td>\n",
       "      <td>0</td>\n",
       "      <td>1</td>\n",
       "      <td>40</td>\n",
       "    </tr>\n",
       "  </tbody>\n",
       "</table>\n",
       "<p>207541 rows × 7 columns</p>\n",
       "</div>"
      ],
      "text/plain": [
       "         duration  orig_bytes  resp_bytes  orig_pkts  orig_ip_bytes   \n",
       "5        0.053276         208         976          6            528  \\\n",
       "6        0.383646         227      692369        202          10739   \n",
       "7        0.054294         208         977          6            528   \n",
       "8        0.424980         227      791633        176           9387   \n",
       "9        0.272567         227      406607        171           9127   \n",
       "...           ...         ...         ...        ...            ...   \n",
       "4430183  0.000051           0           0          1             52   \n",
       "4430184  0.000023           0           0          0              0   \n",
       "4430185  0.000005           0           0          0              0   \n",
       "4430186  0.000005           0           0          0              0   \n",
       "4430187  0.000005           0           0          0              0   \n",
       "\n",
       "         resp_pkts  resp_ip_bytes  \n",
       "5                6           1296  \n",
       "6              117         240893  \n",
       "7                6           1297  \n",
       "8              174         367737  \n",
       "9               71         169939  \n",
       "...            ...            ...  \n",
       "4430183          1             40  \n",
       "4430184          1             40  \n",
       "4430185          1             40  \n",
       "4430186          1             40  \n",
       "4430187          1             40  \n",
       "\n",
       "[207541 rows x 7 columns]"
      ]
     },
     "execution_count": 6,
     "metadata": {},
     "output_type": "execute_result"
    }
   ],
   "source": [
    "# As always analyze our data before looking into any Machine or in this case Deep Learning algorithms\n",
    "# Extract all the records where the labels are 0 and mark those as normal\n",
    "# These will be used to train our autoencoder\n",
    "df_normal = df_conn[df_conn.label == 0]\n",
    "df_normal_labels = df_conn[df_conn.label == 0].values[:, -1]\n",
    "df_normal = df_normal.drop(columns=['label'], inplace=False)\n",
    "df_normal"
   ]
  },
  {
   "cell_type": "code",
   "execution_count": null,
   "metadata": {},
   "outputs": [],
   "source": []
  },
  {
   "cell_type": "code",
   "execution_count": 7,
   "metadata": {},
   "outputs": [
    {
     "data": {
      "image/png": "[encoded data removed]",
      "text/plain": [
       "<Figure size 640x480 with 1 Axes>"
      ]
     },
     "metadata": {},
     "output_type": "display_data"
    }
   ],
   "source": [
    "# Plotting two of the normal sample data points, to see what the data looks like\n",
    "plt.title('Comparrison of two normal samples')\n",
    "plt.plot(df_normal.values[0, : ], label='normal-0', c='black', lw=3)\n",
    "plt.plot(df_normal.values[1, : ], label='normal-1', c='b', lw=3)\n",
    "plt.fill_between(x=np.arange(start=0,stop=7, step=1), y1=df_normal.values[0, : ], y2=df_normal.values[1, : ] )\n",
    "plt.xlabel(xlabel='Features')\n",
    "plt.xticks(np.arange(start=0, stop=7, step=1), ['duration', 'orig_bytes', 'resp_bytes', \n",
    "                                                'orig_pkts', 'orig_ip_bytes', 'resp_pkts', 'resp_ip_bytes'], rotation=45)\n",
    "plt.ylabel(ylabel='Feature Values')\n",
    "plt.legend(loc='best')\n",
    "plt.show()"
   ]
  },
  {
   "cell_type": "code",
   "execution_count": 8,
   "metadata": {},
   "outputs": [
    {
     "data": {
      "text/html": [
       "<div>\n",
       "<style scoped>\n",
       "    .dataframe tbody tr th:only-of-type {\n",
       "        vertical-align: middle;\n",
       "    }\n",
       "\n",
       "    .dataframe tbody tr th {\n",
       "        vertical-align: top;\n",
       "    }\n",
       "\n",
       "    .dataframe thead th {\n",
       "        text-align: right;\n",
       "    }\n",
       "</style>\n",
       "<table border=\"1\" class=\"dataframe\">\n",
       "  <thead>\n",
       "    <tr style=\"text-align: right;\">\n",
       "      <th></th>\n",
       "      <th>duration</th>\n",
       "      <th>orig_bytes</th>\n",
       "      <th>resp_bytes</th>\n",
       "      <th>orig_pkts</th>\n",
       "      <th>orig_ip_bytes</th>\n",
       "      <th>resp_pkts</th>\n",
       "      <th>resp_ip_bytes</th>\n",
       "    </tr>\n",
       "  </thead>\n",
       "  <tbody>\n",
       "    <tr>\n",
       "      <th>5982</th>\n",
       "      <td>5.932275</td>\n",
       "      <td>15759454</td>\n",
       "      <td>645</td>\n",
       "      <td>7798</td>\n",
       "      <td>11593818</td>\n",
       "      <td>10588</td>\n",
       "      <td>428317</td>\n",
       "    </tr>\n",
       "    <tr>\n",
       "      <th>51574</th>\n",
       "      <td>107.685110</td>\n",
       "      <td>1567276</td>\n",
       "      <td>0</td>\n",
       "      <td>14</td>\n",
       "      <td>133416</td>\n",
       "      <td>0</td>\n",
       "      <td>0</td>\n",
       "    </tr>\n",
       "    <tr>\n",
       "      <th>55611</th>\n",
       "      <td>217.387880</td>\n",
       "      <td>3213967</td>\n",
       "      <td>0</td>\n",
       "      <td>6</td>\n",
       "      <td>58430</td>\n",
       "      <td>0</td>\n",
       "      <td>0</td>\n",
       "    </tr>\n",
       "    <tr>\n",
       "      <th>115226</th>\n",
       "      <td>130.989500</td>\n",
       "      <td>2480118</td>\n",
       "      <td>362609</td>\n",
       "      <td>50</td>\n",
       "      <td>1595225</td>\n",
       "      <td>10</td>\n",
       "      <td>197593</td>\n",
       "    </tr>\n",
       "    <tr>\n",
       "      <th>115972</th>\n",
       "      <td>141.094380</td>\n",
       "      <td>3561386</td>\n",
       "      <td>1107090</td>\n",
       "      <td>60</td>\n",
       "      <td>3026679</td>\n",
       "      <td>33</td>\n",
       "      <td>982584</td>\n",
       "    </tr>\n",
       "    <tr>\n",
       "      <th>...</th>\n",
       "      <td>...</td>\n",
       "      <td>...</td>\n",
       "      <td>...</td>\n",
       "      <td>...</td>\n",
       "      <td>...</td>\n",
       "      <td>...</td>\n",
       "      <td>...</td>\n",
       "    </tr>\n",
       "    <tr>\n",
       "      <th>4032886</th>\n",
       "      <td>264.840360</td>\n",
       "      <td>1207114</td>\n",
       "      <td>451720</td>\n",
       "      <td>1</td>\n",
       "      <td>52</td>\n",
       "      <td>11</td>\n",
       "      <td>373114</td>\n",
       "    </tr>\n",
       "    <tr>\n",
       "      <th>4052768</th>\n",
       "      <td>7110.420400</td>\n",
       "      <td>1124942</td>\n",
       "      <td>16527</td>\n",
       "      <td>1873</td>\n",
       "      <td>1251154</td>\n",
       "      <td>1695</td>\n",
       "      <td>112731</td>\n",
       "    </tr>\n",
       "    <tr>\n",
       "      <th>4070183</th>\n",
       "      <td>1079.268100</td>\n",
       "      <td>1767062</td>\n",
       "      <td>0</td>\n",
       "      <td>52</td>\n",
       "      <td>1586878</td>\n",
       "      <td>0</td>\n",
       "      <td>0</td>\n",
       "    </tr>\n",
       "    <tr>\n",
       "      <th>4192109</th>\n",
       "      <td>213.562450</td>\n",
       "      <td>1107362</td>\n",
       "      <td>186663</td>\n",
       "      <td>1</td>\n",
       "      <td>52</td>\n",
       "      <td>5</td>\n",
       "      <td>159831</td>\n",
       "    </tr>\n",
       "    <tr>\n",
       "      <th>4216218</th>\n",
       "      <td>362.553440</td>\n",
       "      <td>2386130</td>\n",
       "      <td>341008</td>\n",
       "      <td>1061</td>\n",
       "      <td>1124021</td>\n",
       "      <td>1097</td>\n",
       "      <td>291878</td>\n",
       "    </tr>\n",
       "  </tbody>\n",
       "</table>\n",
       "<p>67 rows × 7 columns</p>\n",
       "</div>"
      ],
      "text/plain": [
       "            duration  orig_bytes  resp_bytes  orig_pkts  orig_ip_bytes   \n",
       "5982        5.932275    15759454         645       7798       11593818  \\\n",
       "51574     107.685110     1567276           0         14         133416   \n",
       "55611     217.387880     3213967           0          6          58430   \n",
       "115226    130.989500     2480118      362609         50        1595225   \n",
       "115972    141.094380     3561386     1107090         60        3026679   \n",
       "...              ...         ...         ...        ...            ...   \n",
       "4032886   264.840360     1207114      451720          1             52   \n",
       "4052768  7110.420400     1124942       16527       1873        1251154   \n",
       "4070183  1079.268100     1767062           0         52        1586878   \n",
       "4192109   213.562450     1107362      186663          1             52   \n",
       "4216218   362.553440     2386130      341008       1061        1124021   \n",
       "\n",
       "         resp_pkts  resp_ip_bytes  \n",
       "5982         10588         428317  \n",
       "51574            0              0  \n",
       "55611            0              0  \n",
       "115226          10         197593  \n",
       "115972          33         982584  \n",
       "...            ...            ...  \n",
       "4032886         11         373114  \n",
       "4052768       1695         112731  \n",
       "4070183          0              0  \n",
       "4192109          5         159831  \n",
       "4216218       1097         291878  \n",
       "\n",
       "[67 rows x 7 columns]"
      ]
     },
     "execution_count": 8,
     "metadata": {},
     "output_type": "execute_result"
    }
   ],
   "source": [
    "# With an understanding of what the first two normal data points looks like\n",
    "# Extract all the records where the labels are 1 and mark those as suspicious\n",
    "# These will be used to understand our autoencoder performance against suspicious traffic\n",
    "# The expectation is the autonencoder will have a higher reconstruction error for those suspicious records\n",
    "df_suspicious = df_conn[df_conn.label == 1 ]\n",
    "df_suspicious = df_suspicious.drop(columns=['label'], inplace=False)\n",
    "df_suspicious"
   ]
  },
  {
   "cell_type": "code",
   "execution_count": 9,
   "metadata": {},
   "outputs": [
    {
     "data": {
      "image/png": "[encoded data removed]",
      "text/plain": [
       "<Figure size 640x480 with 1 Axes>"
      ]
     },
     "metadata": {},
     "output_type": "display_data"
    }
   ],
   "source": [
    "# The graph below shows this dataset is highly imbalanced.\n",
    "# There is a significant disparity in the number of records labeled 0 vs 1\n",
    "# As a result, using measures like accuracy is more than likely not the best approach, \n",
    "# to understand how well our eventual model has \"learned\" via the training data\n",
    "plt.title('Bar graph showing highly imbalanced dataset')\n",
    "plt.bar(x=['normal', 'suspicious'], height=[df_normal.shape[0], df_suspicious.shape[0]])\n",
    "plt.ylabel(ylabel='Number of Records')\n",
    "plt.xlabel(xlabel='Normal vs Suspicious')\n",
    "plt.xticks(rotation=45)\n",
    "plt.show()\n"
   ]
  },
  {
   "cell_type": "code",
   "execution_count": 10,
   "metadata": {},
   "outputs": [
    {
     "data": {
      "text/plain": [
       "<matplotlib.legend.Legend at 0x161427fc280>"
      ]
     },
     "execution_count": 10,
     "metadata": {},
     "output_type": "execute_result"
    },
    {
     "data": {
      "image/png": "[encoded data removed]",
      "text/plain": [
       "<Figure size 640x480 with 1 Axes>"
      ]
     },
     "metadata": {},
     "output_type": "display_data"
    }
   ],
   "source": [
    "# Plotting a normal vs a suspicious sample\n",
    "plt.title('Comparrison of a normal vs suspicious sample')\n",
    "plt.plot(df_normal.values[0, : ], label='normal-0', c='black', lw=3)\n",
    "plt.plot(df_suspicious.values[0, : ], label='suspicious-1', c='r', lw=3)\n",
    "plt.fill_between(x=np.arange(start=0,stop=7, step=1), y1=df_normal.values[0, : ], \n",
    "                 y2=df_suspicious.values[0, : ], color='lightcoral')\n",
    "plt.xlabel(xlabel='Features')\n",
    "plt.xticks(np.arange(start=0, stop=7, step=1), ['duration', 'orig_bytes', 'resp_bytes', \n",
    "                                                'orig_pkts', 'orig_ip_bytes', 'resp_pkts', 'resp_ip_bytes'], \\\n",
    "                                                    rotation=45)\n",
    "plt.ylabel(ylabel='Feature Values')\n",
    "plt.legend(loc='best')"
   ]
  },
  {
   "cell_type": "code",
   "execution_count": 11,
   "metadata": {},
   "outputs": [
    {
     "data": {
      "image/png": "[encoded data removed]",
      "text/plain": [
       "<Figure size 1000x500 with 2 Axes>"
      ]
     },
     "metadata": {},
     "output_type": "display_data"
    }
   ],
   "source": [
    "# What do we conclude from the normal vs suspicious activity?\n",
    "# Duration, orig_bytes, orig_pkts, orig_ip_bytes all seems to be higher for the suspicious sample\n",
    "# Comparing a histogram of the data\n",
    "fig, ax = plt.subplots(nrows=1, ncols=2, figsize=(10,5), sharex=True, sharey=False)\n",
    "\n",
    "plt.suptitle('Histograms of Normal vs Suspicious Traffic')\n",
    "ax[0].set_title('Normal Traffic Before Reconstruction')\n",
    "ax[0].hist(df_normal, bins=[0, 1e2, 1e4, 1e6, 1e8])\n",
    "ax[0].set_ylabel(ylabel='number of records')\n",
    "ax[0].set_xlabel(xlabel='range of values in custom bins')\n",
    "\n",
    "ax[1].set_title('Suspicious Traffic Before Reconstruction')\n",
    "ax[1].hist(df_suspicious, bins=[0, 1e2, 1e4, 1e6, 1e8])\n",
    "ax[1].set_ylabel(ylabel='number of records')\n",
    "ax[1].set_xlabel(xlabel='range of values in custom bins')\n",
    "plt.show()\n"
   ]
  },
  {
   "cell_type": "code",
   "execution_count": 12,
   "metadata": {},
   "outputs": [
    {
     "data": {
      "text/html": [
       "<div>\n",
       "<style scoped>\n",
       "    .dataframe tbody tr th:only-of-type {\n",
       "        vertical-align: middle;\n",
       "    }\n",
       "\n",
       "    .dataframe tbody tr th {\n",
       "        vertical-align: top;\n",
       "    }\n",
       "\n",
       "    .dataframe thead th {\n",
       "        text-align: right;\n",
       "    }\n",
       "</style>\n",
       "<table border=\"1\" class=\"dataframe\">\n",
       "  <thead>\n",
       "    <tr style=\"text-align: right;\">\n",
       "      <th></th>\n",
       "      <th>duration</th>\n",
       "      <th>orig_bytes</th>\n",
       "      <th>resp_bytes</th>\n",
       "      <th>orig_pkts</th>\n",
       "      <th>orig_ip_bytes</th>\n",
       "      <th>resp_pkts</th>\n",
       "      <th>resp_ip_bytes</th>\n",
       "    </tr>\n",
       "  </thead>\n",
       "  <tbody>\n",
       "    <tr>\n",
       "      <th>count</th>\n",
       "      <td>207541.00</td>\n",
       "      <td>207541.00</td>\n",
       "      <td>207541.00</td>\n",
       "      <td>207541.00</td>\n",
       "      <td>207541.00</td>\n",
       "      <td>207541.00</td>\n",
       "      <td>207541.00</td>\n",
       "    </tr>\n",
       "    <tr>\n",
       "      <th>mean</th>\n",
       "      <td>16.95</td>\n",
       "      <td>7808.70</td>\n",
       "      <td>297803.78</td>\n",
       "      <td>34.43</td>\n",
       "      <td>3785.39</td>\n",
       "      <td>48.06</td>\n",
       "      <td>75245.35</td>\n",
       "    </tr>\n",
       "    <tr>\n",
       "      <th>std</th>\n",
       "      <td>185.87</td>\n",
       "      <td>1736337.54</td>\n",
       "      <td>15063355.55</td>\n",
       "      <td>827.46</td>\n",
       "      <td>496005.80</td>\n",
       "      <td>1862.29</td>\n",
       "      <td>2314347.77</td>\n",
       "    </tr>\n",
       "    <tr>\n",
       "      <th>min</th>\n",
       "      <td>0.00</td>\n",
       "      <td>0.00</td>\n",
       "      <td>0.00</td>\n",
       "      <td>0.00</td>\n",
       "      <td>0.00</td>\n",
       "      <td>0.00</td>\n",
       "      <td>0.00</td>\n",
       "    </tr>\n",
       "    <tr>\n",
       "      <th>25%</th>\n",
       "      <td>0.00</td>\n",
       "      <td>0.00</td>\n",
       "      <td>0.00</td>\n",
       "      <td>1.00</td>\n",
       "      <td>52.00</td>\n",
       "      <td>1.00</td>\n",
       "      <td>40.00</td>\n",
       "    </tr>\n",
       "    <tr>\n",
       "      <th>50%</th>\n",
       "      <td>0.00</td>\n",
       "      <td>0.00</td>\n",
       "      <td>0.00</td>\n",
       "      <td>1.00</td>\n",
       "      <td>63.00</td>\n",
       "      <td>1.00</td>\n",
       "      <td>40.00</td>\n",
       "    </tr>\n",
       "    <tr>\n",
       "      <th>75%</th>\n",
       "      <td>0.09</td>\n",
       "      <td>217.00</td>\n",
       "      <td>154.00</td>\n",
       "      <td>6.00</td>\n",
       "      <td>617.00</td>\n",
       "      <td>3.00</td>\n",
       "      <td>201.00</td>\n",
       "    </tr>\n",
       "    <tr>\n",
       "      <th>max</th>\n",
       "      <td>33306.40</td>\n",
       "      <td>576842469.00</td>\n",
       "      <td>2098063527.00</td>\n",
       "      <td>274670.00</td>\n",
       "      <td>225262843.00</td>\n",
       "      <td>571383.00</td>\n",
       "      <td>578874775.00</td>\n",
       "    </tr>\n",
       "  </tbody>\n",
       "</table>\n",
       "</div>"
      ],
      "text/plain": [
       "       duration   orig_bytes    resp_bytes  orig_pkts  orig_ip_bytes   \n",
       "count 207541.00    207541.00     207541.00  207541.00      207541.00  \\\n",
       "mean      16.95      7808.70     297803.78      34.43        3785.39   \n",
       "std      185.87   1736337.54   15063355.55     827.46      496005.80   \n",
       "min        0.00         0.00          0.00       0.00           0.00   \n",
       "25%        0.00         0.00          0.00       1.00          52.00   \n",
       "50%        0.00         0.00          0.00       1.00          63.00   \n",
       "75%        0.09       217.00        154.00       6.00         617.00   \n",
       "max    33306.40 576842469.00 2098063527.00  274670.00   225262843.00   \n",
       "\n",
       "       resp_pkts  resp_ip_bytes  \n",
       "count  207541.00      207541.00  \n",
       "mean       48.06       75245.35  \n",
       "std      1862.29     2314347.77  \n",
       "min         0.00           0.00  \n",
       "25%         1.00          40.00  \n",
       "50%         1.00          40.00  \n",
       "75%         3.00         201.00  \n",
       "max    571383.00   578874775.00  "
      ]
     },
     "execution_count": 12,
     "metadata": {},
     "output_type": "execute_result"
    }
   ],
   "source": [
    "# Definitely, there is a visible difference between the normal and suspicious traffic histogram\n",
    "# Let's get some descriptive statistics on the two datasets\n",
    "# Starting with the normal traffic\n",
    "pd.options.display.float_format = '{:.2f}'.format\n",
    "df_normal.describe()"
   ]
  },
  {
   "cell_type": "code",
   "execution_count": 13,
   "metadata": {},
   "outputs": [
    {
     "data": {
      "text/html": [
       "<div>\n",
       "<style scoped>\n",
       "    .dataframe tbody tr th:only-of-type {\n",
       "        vertical-align: middle;\n",
       "    }\n",
       "\n",
       "    .dataframe tbody tr th {\n",
       "        vertical-align: top;\n",
       "    }\n",
       "\n",
       "    .dataframe thead th {\n",
       "        text-align: right;\n",
       "    }\n",
       "</style>\n",
       "<table border=\"1\" class=\"dataframe\">\n",
       "  <thead>\n",
       "    <tr style=\"text-align: right;\">\n",
       "      <th></th>\n",
       "      <th>duration</th>\n",
       "      <th>orig_bytes</th>\n",
       "      <th>resp_bytes</th>\n",
       "      <th>orig_pkts</th>\n",
       "      <th>orig_ip_bytes</th>\n",
       "      <th>resp_pkts</th>\n",
       "      <th>resp_ip_bytes</th>\n",
       "    </tr>\n",
       "  </thead>\n",
       "  <tbody>\n",
       "    <tr>\n",
       "      <th>count</th>\n",
       "      <td>67.00</td>\n",
       "      <td>67.00</td>\n",
       "      <td>67.00</td>\n",
       "      <td>67.00</td>\n",
       "      <td>67.00</td>\n",
       "      <td>67.00</td>\n",
       "      <td>67.00</td>\n",
       "    </tr>\n",
       "    <tr>\n",
       "      <th>mean</th>\n",
       "      <td>1712.73</td>\n",
       "      <td>38853235.15</td>\n",
       "      <td>3773473.87</td>\n",
       "      <td>12227.63</td>\n",
       "      <td>9673253.01</td>\n",
       "      <td>10958.85</td>\n",
       "      <td>4018232.07</td>\n",
       "    </tr>\n",
       "    <tr>\n",
       "      <th>std</th>\n",
       "      <td>2294.16</td>\n",
       "      <td>233948577.17</td>\n",
       "      <td>18684552.16</td>\n",
       "      <td>58719.48</td>\n",
       "      <td>51883222.08</td>\n",
       "      <td>41803.18</td>\n",
       "      <td>19493395.37</td>\n",
       "    </tr>\n",
       "    <tr>\n",
       "      <th>min</th>\n",
       "      <td>0.31</td>\n",
       "      <td>1015672.00</td>\n",
       "      <td>0.00</td>\n",
       "      <td>1.00</td>\n",
       "      <td>52.00</td>\n",
       "      <td>0.00</td>\n",
       "      <td>0.00</td>\n",
       "    </tr>\n",
       "    <tr>\n",
       "      <th>25%</th>\n",
       "      <td>213.66</td>\n",
       "      <td>1525013.50</td>\n",
       "      <td>0.00</td>\n",
       "      <td>58.00</td>\n",
       "      <td>653074.00</td>\n",
       "      <td>0.00</td>\n",
       "      <td>0.00</td>\n",
       "    </tr>\n",
       "    <tr>\n",
       "      <th>50%</th>\n",
       "      <td>1032.38</td>\n",
       "      <td>2412002.00</td>\n",
       "      <td>31183.00</td>\n",
       "      <td>381.00</td>\n",
       "      <td>1705839.00</td>\n",
       "      <td>816.00</td>\n",
       "      <td>140614.00</td>\n",
       "    </tr>\n",
       "    <tr>\n",
       "      <th>75%</th>\n",
       "      <td>3214.22</td>\n",
       "      <td>4190262.50</td>\n",
       "      <td>407164.50</td>\n",
       "      <td>4370.50</td>\n",
       "      <td>3203131.50</td>\n",
       "      <td>5137.00</td>\n",
       "      <td>593585.00</td>\n",
       "    </tr>\n",
       "    <tr>\n",
       "      <th>max</th>\n",
       "      <td>15758.69</td>\n",
       "      <td>1882412858.00</td>\n",
       "      <td>146981213.00</td>\n",
       "      <td>476032.00</td>\n",
       "      <td>423975367.00</td>\n",
       "      <td>332692.00</td>\n",
       "      <td>153474622.00</td>\n",
       "    </tr>\n",
       "  </tbody>\n",
       "</table>\n",
       "</div>"
      ],
      "text/plain": [
       "       duration    orig_bytes   resp_bytes  orig_pkts  orig_ip_bytes   \n",
       "count     67.00         67.00        67.00      67.00          67.00  \\\n",
       "mean    1712.73   38853235.15   3773473.87   12227.63     9673253.01   \n",
       "std     2294.16  233948577.17  18684552.16   58719.48    51883222.08   \n",
       "min        0.31    1015672.00         0.00       1.00          52.00   \n",
       "25%      213.66    1525013.50         0.00      58.00      653074.00   \n",
       "50%     1032.38    2412002.00     31183.00     381.00     1705839.00   \n",
       "75%     3214.22    4190262.50    407164.50    4370.50     3203131.50   \n",
       "max    15758.69 1882412858.00 146981213.00  476032.00   423975367.00   \n",
       "\n",
       "       resp_pkts  resp_ip_bytes  \n",
       "count      67.00          67.00  \n",
       "mean    10958.85     4018232.07  \n",
       "std     41803.18    19493395.37  \n",
       "min         0.00           0.00  \n",
       "25%         0.00           0.00  \n",
       "50%       816.00      140614.00  \n",
       "75%      5137.00      593585.00  \n",
       "max    332692.00   153474622.00  "
      ]
     },
     "execution_count": 13,
     "metadata": {},
     "output_type": "execute_result"
    }
   ],
   "source": [
    "# Getting the statistics from the perspective of the suspicious data\n",
    "df_suspicious.describe()"
   ]
  },
  {
   "cell_type": "code",
   "execution_count": 14,
   "metadata": {},
   "outputs": [],
   "source": [
    "# We can see above, generally, the values in the suspicious records have larger values\n",
    "# With a statistical understanding of the normal and suspicious datasets, time to build the model\n",
    "# Scaling the data first using MinMax Scaler\n",
    "# import the scaler library\n",
    "# https://scikit-learn.org/stable/modules/generated/sklearn.preprocessing.MinMaxScaler.html\n",
    "from sklearn.preprocessing import MinMaxScaler"
   ]
  },
  {
   "cell_type": "code",
   "execution_count": 15,
   "metadata": {},
   "outputs": [
    {
     "data": {
      "text/plain": [
       "array([[1.59957245e-06, 3.60583714e-07, 4.65190871e-07, ...,\n",
       "        2.34392851e-06, 1.05008374e-05, 2.23882618e-06],\n",
       "       [1.15186871e-05, 3.93521650e-07, 3.30003830e-04, ...,\n",
       "        4.76731975e-05, 2.04766330e-04, 4.16140088e-04],\n",
       "       [1.63013715e-06, 3.60583714e-07, 4.65667501e-07, ...,\n",
       "        2.34392851e-06, 1.05008374e-05, 2.24055367e-06],\n",
       "       ...,\n",
       "       [1.50121298e-10, 0.00000000e+00, 0.00000000e+00, ...,\n",
       "        0.00000000e+00, 1.75013957e-06, 6.90995734e-08],\n",
       "       [1.50121298e-10, 0.00000000e+00, 0.00000000e+00, ...,\n",
       "        0.00000000e+00, 1.75013957e-06, 6.90995734e-08],\n",
       "       [1.50121298e-10, 0.00000000e+00, 0.00000000e+00, ...,\n",
       "        0.00000000e+00, 1.75013957e-06, 6.90995734e-08]])"
      ]
     },
     "execution_count": 15,
     "metadata": {},
     "output_type": "execute_result"
    }
   ],
   "source": [
    "# Setup the scaler\n",
    "min_max_scaler = MinMaxScaler(feature_range=(0,1))\n",
    "\n",
    "# Fit on the normal data\n",
    "min_max_scaler.fit(df_normal.values)\n",
    "\n",
    "# Transform the normal data\n",
    "df_normal = min_max_scaler.transform(df_normal.values)\n",
    "df_normal"
   ]
  },
  {
   "cell_type": "code",
   "execution_count": 16,
   "metadata": {},
   "outputs": [
    {
     "data": {
      "text/plain": [
       "array([[1.78112165e-04, 2.73202041e-02, 3.07426344e-07, 2.83904322e-02,\n",
       "        5.14679556e-02, 1.85304778e-02, 7.39913049e-04],\n",
       "       [3.23316570e-03, 2.71699135e-03, 0.00000000e+00, 5.09702552e-05,\n",
       "        5.92268118e-04, 0.00000000e+00, 0.00000000e+00],\n",
       "       [6.52691014e-03, 5.57165461e-03, 0.00000000e+00, 2.18443951e-05,\n",
       "        2.59385877e-04, 0.00000000e+00, 0.00000000e+00],\n",
       "       [3.93286275e-03, 4.29947192e-03, 1.72830324e-04, 1.82036626e-04,\n",
       "        7.08161621e-03, 1.75013957e-05, 3.41339800e-04],\n",
       "       [4.23625429e-03, 6.17393169e-03, 5.27672297e-04, 2.18443951e-04,\n",
       "        1.34362106e-02, 5.77546059e-05, 1.69740338e-03],\n",
       "       [4.48919457e-04, 7.21331598e-03, 9.72992464e-05, 3.71354717e-04,\n",
       "        1.78264242e-02, 1.05008374e-05, 3.05091891e-04],\n",
       "       [2.88119130e-04, 2.07399431e-03, 4.51082623e-06, 9.32027524e-04,\n",
       "        1.41751740e-03, 7.68311273e-04, 5.58393653e-05],\n",
       "       [8.94245460e-02, 7.89351035e-03, 0.00000000e+00, 5.06061820e-04,\n",
       "        1.84666630e-02, 0.00000000e+00, 0.00000000e+00],\n",
       "       [4.73155580e-02, 4.20256852e-03, 0.00000000e+00, 2.69414206e-04,\n",
       "        9.83117309e-03, 0.00000000e+00, 0.00000000e+00],\n",
       "       [4.08225146e-02, 3.58512958e-03, 0.00000000e+00, 2.29366148e-04,\n",
       "        8.36978249e-03, 0.00000000e+00, 0.00000000e+00],\n",
       "       [2.85138442e-02, 2.55491071e-03, 0.00000000e+00, 1.63832963e-04,\n",
       "        5.97841607e-03, 0.00000000e+00, 0.00000000e+00],\n",
       "       [5.22763883e-03, 1.40686798e-02, 3.41743704e-07, 5.80696836e-03,\n",
       "        1.11020396e-02, 4.96864625e-03, 3.00349933e-04],\n",
       "       [3.13000084e-03, 7.10648439e-03, 3.41743704e-07, 5.12615138e-03,\n",
       "        1.06097214e-02, 3.46177608e-03, 2.42909185e-04],\n",
       "       [6.68815573e-03, 1.29194562e-02, 3.41743704e-07, 2.64681254e-03,\n",
       "        5.41271691e-03, 4.41210187e-03, 2.43176946e-04],\n",
       "       [2.06993731e-03, 2.99811316e-03, 3.41743704e-07, 7.17224306e-04,\n",
       "        1.33003737e-03, 1.13234030e-03, 5.94135407e-05],\n",
       "       [3.63028487e-02, 3.24018619e-03, 0.00000000e+00, 2.07521753e-04,\n",
       "        7.57266035e-03, 0.00000000e+00, 0.00000000e+00],\n",
       "       [3.09965472e-02, 1.82040861e-03, 3.13288893e-06, 1.24513052e-03,\n",
       "        1.67986426e-03, 1.15159184e-03, 7.34511190e-05],\n",
       "       [6.27419445e-03, 2.46208571e-02, 3.41743704e-07, 5.68682419e-03,\n",
       "        1.01176429e-02, 9.72027519e-03, 5.28941687e-04],\n",
       "       [6.41790857e-03, 3.16426771e-03, 0.00000000e+00, 7.28146503e-06,\n",
       "        2.76743378e-05, 0.00000000e+00, 0.00000000e+00],\n",
       "       [3.63036473e-02, 3.18758777e-03, 0.00000000e+00, 2.03881021e-04,\n",
       "        7.44681181e-03, 0.00000000e+00, 0.00000000e+00],\n",
       "       [2.98267855e-02, 2.66625653e-03, 0.00000000e+00, 1.71114428e-04,\n",
       "        6.24412345e-03, 0.00000000e+00, 0.00000000e+00],\n",
       "       [2.20431980e-02, 1.98606043e-03, 0.00000000e+00, 1.27425638e-04,\n",
       "        4.64987916e-03, 0.00000000e+00, 0.00000000e+00],\n",
       "       [2.39895185e-02, 2.04413694e-03, 0.00000000e+00, 1.31066371e-04,\n",
       "        4.78273285e-03, 0.00000000e+00, 0.00000000e+00],\n",
       "       [6.09220090e-02, 5.40951502e-03, 0.00000000e+00, 3.45869589e-04,\n",
       "        1.26211006e-02, 0.00000000e+00, 0.00000000e+00],\n",
       "       [6.48070941e-02, 5.75155294e-03, 0.00000000e+00, 3.67713984e-04,\n",
       "        1.34182227e-02, 0.00000000e+00, 0.00000000e+00],\n",
       "       [1.08252066e-01, 3.18062920e-03, 5.83789282e-04, 1.49852550e-02,\n",
       "        9.35817009e-03, 8.26065879e-03, 2.12887321e-03],\n",
       "       [1.08212043e-01, 7.07491771e-03, 1.04228970e-04, 3.53151054e-02,\n",
       "        2.05249696e-02, 2.03261210e-02, 1.23408901e-03],\n",
       "       [4.45266766e-02, 6.70322611e-02, 3.23105517e-03, 1.98165071e-02,\n",
       "        2.97076957e-02, 2.58005576e-02, 8.03721496e-03],\n",
       "       [2.12299528e-03, 2.62119570e-03, 3.53678519e-05, 1.73298868e-03,\n",
       "        1.42930807e-03, 1.50862031e-03, 2.06471253e-04],\n",
       "       [9.71136628e-03, 8.95420601e-02, 2.00687241e-02, 1.98824043e-01,\n",
       "        2.36083192e-01, 9.26173862e-02, 7.52964542e-02],\n",
       "       [2.39822458e-02, 2.16273605e-03, 0.00000000e+00, 1.38347836e-04,\n",
       "        5.04844023e-03, 0.00000000e+00, 0.00000000e+00],\n",
       "       [1.08076526e-01, 5.07680893e-03, 7.46011729e-05, 2.42363564e-02,\n",
       "        1.44894203e-02, 1.42566370e-02, 8.54010265e-04],\n",
       "       [2.94652860e-03, 2.34717461e-03, 3.05062259e-05, 1.86041432e-03,\n",
       "        1.63099691e-03, 1.47886794e-03, 1.81277548e-04],\n",
       "       [4.77810961e-03, 2.12686490e-03, 3.92166390e-05, 1.38711909e-03,\n",
       "        8.78813378e-04, 1.42811389e-03, 2.18836621e-04],\n",
       "       [7.91359799e-03, 3.34192627e-03, 6.65632848e-05, 2.37375760e-03,\n",
       "        1.50539696e-03, 2.25943019e-03, 3.57063408e-04],\n",
       "       [4.86153052e-02, 4.33024289e-03, 0.00000000e+00, 2.76695671e-04,\n",
       "        1.00968805e-02, 0.00000000e+00, 0.00000000e+00],\n",
       "       [7.01183646e-03, 3.55991993e-03, 5.62680770e-05, 1.84221065e-03,\n",
       "        1.07246271e-03, 2.26818089e-03, 3.26823707e-04],\n",
       "       [8.04935988e-03, 4.01347010e-03, 6.09271351e-05, 1.79852186e-03,\n",
       "        1.01592432e-03, 2.40819205e-03, 3.49211969e-04],\n",
       "       [4.42696389e-03, 2.79252497e-03, 4.06703605e-05, 1.50362253e-03,\n",
       "        9.78261648e-04, 1.67663371e-03, 2.36403460e-04],\n",
       "       [3.76035056e-02, 3.35015035e-03, 0.00000000e+00, 2.14803218e-04,\n",
       "        7.83836773e-03, 0.00000000e+00, 0.00000000e+00],\n",
       "       [1.11318690e-01, 2.01918212e-03, 4.55458563e-04, 3.25117414e-03,\n",
       "        1.29175765e-03, 2.71796676e-03, 1.08948606e-03],\n",
       "       [1.11528235e-01, 2.25019112e-02, 2.34526121e-03, 2.23249718e-02,\n",
       "        8.35887524e-03, 2.51512558e-02, 7.04550997e-03],\n",
       "       [4.57148896e-03, 4.43482014e-02, 9.83565356e-03, 1.03076419e-01,\n",
       "        1.17083944e-01, 4.30884363e-02, 3.68390314e-02],\n",
       "       [5.05669421e-02, 4.48691305e-03, 0.00000000e+00, 2.87617869e-04,\n",
       "        1.04954415e-02, 0.00000000e+00, 0.00000000e+00],\n",
       "       [4.73143090e-01, 5.72324885e-03, 1.89055286e-05, 1.83165253e-02,\n",
       "        1.64475017e-02, 7.17382211e-03, 4.69528146e-04],\n",
       "       [6.73993016e-02, 5.96727908e-03, 0.00000000e+00, 3.82276914e-04,\n",
       "        1.39496375e-02, 0.00000000e+00, 0.00000000e+00],\n",
       "       [1.94554290e-02, 1.76074415e-03, 0.00000000e+00, 1.12862708e-04,\n",
       "        4.11846440e-03, 0.00000000e+00, 0.00000000e+00],\n",
       "       [9.18784378e-06, 3.26330490e+00, 1.48627530e-05, 3.64073252e-05,\n",
       "        4.68341776e-06, 5.42543268e-05, 4.84578033e-05],\n",
       "       [2.78926050e-02, 2.50876119e-03, 0.00000000e+00, 1.60192231e-04,\n",
       "        5.84556238e-03, 0.00000000e+00, 0.00000000e+00],\n",
       "       [9.65199781e-02, 7.01965789e-01, 7.00556542e-02, 1.73310518e+00,\n",
       "        1.88213627e+00, 5.82257435e-01, 2.65125773e-01],\n",
       "       [9.76676915e-02, 4.03563213e-03, 2.64247480e-04, 4.91498890e-03,\n",
       "        4.67708294e-03, 4.52236066e-03, 9.67753345e-04],\n",
       "       [9.65044136e-02, 9.83510803e-03, 2.55050809e-03, 1.47242145e-01,\n",
       "        3.23722231e-02, 7.71986566e-02, 1.22875643e-02],\n",
       "       [9.65044556e-02, 9.86340172e-03, 2.55751932e-03, 1.47030983e-01,\n",
       "        3.24400416e-02, 7.72441602e-02, 1.23143231e-02],\n",
       "       [9.65786155e-02, 1.94518098e-03, 4.41759741e-04, 4.83125205e-02,\n",
       "        7.32069248e-03, 3.43132365e-02, 2.94959303e-03],\n",
       "       [9.65044496e-02, 9.85493147e-03, 2.55735154e-03, 1.47420541e-01,\n",
       "        3.24366900e-02, 7.73596694e-02, 1.23182548e-02],\n",
       "       [9.65044946e-02, 9.86195765e-03, 2.55837010e-03, 1.46488513e-01,\n",
       "        3.24037551e-02, 7.73264168e-02, 1.23185813e-02],\n",
       "       [1.08067519e-01, 7.78147976e-03, 8.58081739e-05, 3.05202607e-02,\n",
       "        2.10062385e-02, 1.81822000e-02, 1.04189892e-03],\n",
       "       [4.66705738e-02, 4.18138769e-03, 0.00000000e+00, 2.65773474e-04,\n",
       "        9.69831940e-03, 0.00000000e+00, 0.00000000e+00],\n",
       "       [1.08330771e-01, 4.29546910e-03, 6.88221773e-04, 1.68383879e-02,\n",
       "        1.17954429e-02, 1.01735613e-02, 2.26565409e-03],\n",
       "       [7.32297276e-02, 6.49481306e-03, 0.00000000e+00, 4.15043507e-04,\n",
       "        1.51453207e-02, 0.00000000e+00, 0.00000000e+00],\n",
       "       [1.08952643e-01, 2.43049199e-03, 3.15176348e-04, 1.14355408e-02,\n",
       "        7.28701182e-03, 7.33308481e-03, 1.35284700e-03],\n",
       "       [1.00157853e-01, 7.31495725e-03, 8.40818201e-05, 2.94244002e-02,\n",
       "        1.98138270e-02, 1.74961453e-02, 1.00892460e-03],\n",
       "       [7.95163572e-03, 2.09262332e-03, 2.15303300e-04, 3.64073252e-06,\n",
       "        2.30841444e-07, 1.92515353e-05, 6.44550456e-04],\n",
       "       [2.13485108e-01, 1.95017195e-03, 7.87726386e-06, 6.81909200e-03,\n",
       "        5.55419608e-03, 2.96648658e-03, 1.94741600e-04],\n",
       "       [3.24042256e-02, 3.06333548e-03, 0.00000000e+00, 1.89318091e-04,\n",
       "        7.04456172e-03, 0.00000000e+00, 0.00000000e+00],\n",
       "       [6.41205444e-03, 1.91969569e-03, 8.89691840e-05, 3.64073252e-06,\n",
       "        2.30841444e-07, 8.75069787e-06, 2.76106348e-04],\n",
       "       [1.08853986e-02, 4.13653663e-03, 1.62534640e-04, 3.86281720e-03,\n",
       "        4.98981983e-03, 1.91990311e-03, 5.04216132e-04]])"
      ]
     },
     "execution_count": 16,
     "metadata": {},
     "output_type": "execute_result"
    }
   ],
   "source": [
    "# Transform the suspicious data\n",
    "# Remember, we fitted on the train normal values\n",
    "# but we transform both the normal and suspicious values\n",
    "#   06 - Beginning Data Scaling\n",
    "df_suspicious = min_max_scaler.transform(df_suspicious.values)\n",
    "df_suspicious"
   ]
  },
  {
   "attachments": {},
   "cell_type": "markdown",
   "metadata": {},
   "source": [
    "In this notebook, I'm using model subclassing as in other notebook, I use the Sequential model <br>\n",
    "&emsp;&emsp;    14 - Beginning Deep Learning, - Linear Regression, Tensorflow <br>\n",
    "&emsp;&emsp;    16 - Beginning Deep Learning, - Classification, Tensorflow <br>\n",
    "&emsp;&emsp;    19 - Beginning Deep Learning, - Convolution Networks - Tensorflow <br>\n",
    "\n",
    "While in another the Functional model <br>\n",
    "&emsp;&emsp;    18 - Beginning Deep Learning, - Classification - regression - MIMO - Functional API Tensorflow <br> \n"
   ]
  },
  {
   "cell_type": "code",
   "execution_count": 17,
   "metadata": {},
   "outputs": [],
   "source": [
    "# Import tensorflow\n",
    "import tensorflow as tf"
   ]
  },
  {
   "cell_type": "code",
   "execution_count": 18,
   "metadata": {},
   "outputs": [],
   "source": [
    "# Setup the class\n",
    "class AnomalyDetection(tf.keras.Model):\n",
    "    ''' Using model subclassing to build the autoencoder'''\n",
    "    def __init__(self):\n",
    "        ''' Setups the constructor '''\n",
    "        super(AnomalyDetection, self).__init__()\n",
    "        \n",
    "        # Setup the encoder\n",
    "        # This compresses the input into it's latent representation\n",
    "        self.encoder =  tf.keras.Sequential([ \n",
    "                        # Initialize the bias and weights to 0\n",
    "                        # This is just to aid with predictability of this notebook output\n",
    "                        tf.keras.layers.Dense(units=4, activation='relu', name='encoder_hidden_1', \n",
    "                                              use_bias=True, bias_initializer='zeros',\n",
    "                                              kernel_initializer='zeros'),\n",
    "                        tf.keras.layers.Dense(units=2, activation='relu', name='latent_space_bottleneck' )], name='encoder' )\n",
    "        \n",
    "        # Setup the decoder\n",
    "        # This takes the two units in the latent space and reconstructs the data into the output layer\n",
    "        # Keep in mind the output is a lossy reconstruction of the original input\n",
    "        # https://www.adobe.com/uk/creativecloud/photography/discover/lossy-vs-lossless.html\n",
    "        # Lossy meaning we should not expect the input to be an exact match of the output\n",
    "        # Notice the output layer is sigmoid. Considering I scaled the input data above between 0 and 1\n",
    "        # having sigmoid produce values between 0 and1 for the output makes sense\n",
    "        self.decoder =  tf.keras.Sequential([  \n",
    "                        tf.keras.layers.Dense(units=4, activation='relu', name='decoder_hidden_1' ), \n",
    "                        tf.keras.layers.Dense(units=df_normal.shape[1], activation='sigmoid',\n",
    "                                               name='reconstructed_output')], name='decoder')\n",
    "        \n",
    "    def call(self, x):\n",
    "        ''' Encode and decode the data '''\n",
    "        encoded_data = self.encoder(x)\n",
    "        decoded_data = self.decoder(encoded_data)\n",
    "        return decoded_data\n",
    "    \n",
    "    def build_graph(self, input_shape):\n",
    "        ''' This is so I can plot the graph model \n",
    "            https://stackoverflow.com/questions/76265221/retrieving-keras-layer-properties-from-a-tf-keras-model/76265933#76265933\n",
    "        '''\n",
    "        x = tf.keras.Input(shape=input_shape)\n",
    "        return tf.keras.Model(inputs=[x], outputs=self.call(x))"
   ]
  },
  {
   "cell_type": "code",
   "execution_count": 19,
   "metadata": {},
   "outputs": [
    {
     "data": {
      "text/plain": [
       "<__main__.AnomalyDetection at 0x16144a72d40>"
      ]
     },
     "execution_count": 19,
     "metadata": {},
     "output_type": "execute_result"
    }
   ],
   "source": [
    "# Instantiate the class\n",
    "autoencoder = AnomalyDetection()\n",
    "autoencoder"
   ]
  },
  {
   "cell_type": "code",
   "execution_count": 20,
   "metadata": {},
   "outputs": [],
   "source": [
    "# Compile the model using the Adam optimizer and Mean Absolute Error (MAE) loss function and a learning_rate of 0.01\n",
    "autoencoder.compile(optimizer=tf.keras.optimizers.Adam(learning_rate=0.01), \n",
    "                    loss=tf.keras.losses.mae, metrics=['accuracy'])"
   ]
  },
  {
   "cell_type": "code",
   "execution_count": 21,
   "metadata": {},
   "outputs": [
    {
     "name": "stdout",
     "output_type": "stream",
     "text": [
      "Epoch 1/10\n",
      "5189/5189 [==============================] - 15s 3ms/step - loss: 0.0207 - accuracy: 0.1615 - val_loss: 5.5682e-04 - val_accuracy: 0.1416\n",
      "Epoch 2/10\n",
      "5189/5189 [==============================] - 13s 2ms/step - loss: 2.9797e-04 - accuracy: 0.1615 - val_loss: 1.3714e-04 - val_accuracy: 0.1416\n",
      "Epoch 3/10\n",
      "5189/5189 [==============================] - 14s 3ms/step - loss: 1.6275e-04 - accuracy: 0.4766 - val_loss: 1.1148e-04 - val_accuracy: 0.8340\n",
      "Epoch 4/10\n",
      "5189/5189 [==============================] - 14s 3ms/step - loss: 1.5444e-04 - accuracy: 0.7815 - val_loss: 1.0982e-04 - val_accuracy: 0.8340\n",
      "Epoch 5/10\n",
      "5189/5189 [==============================] - 13s 3ms/step - loss: 1.5396e-04 - accuracy: 0.7815 - val_loss: 1.0973e-04 - val_accuracy: 0.8340\n",
      "Epoch 6/10\n",
      "5189/5189 [==============================] - 18s 3ms/step - loss: 1.5393e-04 - accuracy: 0.7815 - val_loss: 1.0973e-04 - val_accuracy: 0.8340\n",
      "Epoch 7/10\n",
      "5189/5189 [==============================] - 16s 3ms/step - loss: 1.5393e-04 - accuracy: 0.7815 - val_loss: 1.0973e-04 - val_accuracy: 0.8340\n",
      "Epoch 8/10\n",
      "5189/5189 [==============================] - 13s 3ms/step - loss: 1.5393e-04 - accuracy: 0.7815 - val_loss: 1.0973e-04 - val_accuracy: 0.8340\n",
      "Epoch 9/10\n",
      "5189/5189 [==============================] - 13s 3ms/step - loss: 1.5393e-04 - accuracy: 0.7815 - val_loss: 1.0973e-04 - val_accuracy: 0.8340\n",
      "Epoch 10/10\n",
      "5189/5189 [==============================] - 13s 3ms/step - loss: 1.5393e-04 - accuracy: 0.7815 - val_loss: 1.0973e-04 - val_accuracy: 0.8340\n"
     ]
    }
   ],
   "source": [
    "# Time to train the autoencoder, using the normal data\n",
    "# Notice both the input and output are the same\n",
    "# Meaning, we are attempting to predict the same thing as our input\n",
    "# Train for 10 epochs. How do I know 10 is the right number? I don't\n",
    "# looking at the loss and accuracy below, it seems, 4 epochs is all that is needed for this model\n",
    "# There is no significant improvement in the loss or accuracy after 4 epochs\n",
    "# Early stopping callback might have also helped here\n",
    "history = autoencoder.fit(x=df_normal, y=df_normal, epochs=10, validation_split=0.2, shuffle=False, batch_size=32)"
   ]
  },
  {
   "cell_type": "code",
   "execution_count": 22,
   "metadata": {},
   "outputs": [
    {
     "name": "stdout",
     "output_type": "stream",
     "text": [
      "Model: \"anomaly_detection\"\n",
      "_________________________________________________________________\n",
      " Layer (type)                Output Shape              Param #   \n",
      "=================================================================\n",
      " encoder (Sequential)        (None, 2)                 42        \n",
      "|¯¯¯¯¯¯¯¯¯¯¯¯¯¯¯¯¯¯¯¯¯¯¯¯¯¯¯¯¯¯¯¯¯¯¯¯¯¯¯¯¯¯¯¯¯¯¯¯¯¯¯¯¯¯¯¯¯¯¯¯¯¯¯|\n",
      "| encoder_hidden_1 (Dense)  (None, 4)                 32        |\n",
      "|                                                               |\n",
      "| latent_space_bottleneck (De  (None, 2)              10        |\n",
      "| nse)                                                          |\n",
      "¯¯¯¯¯¯¯¯¯¯¯¯¯¯¯¯¯¯¯¯¯¯¯¯¯¯¯¯¯¯¯¯¯¯¯¯¯¯¯¯¯¯¯¯¯¯¯¯¯¯¯¯¯¯¯¯¯¯¯¯¯¯¯¯¯\n",
      " decoder (Sequential)        (None, 7)                 47        \n",
      "|¯¯¯¯¯¯¯¯¯¯¯¯¯¯¯¯¯¯¯¯¯¯¯¯¯¯¯¯¯¯¯¯¯¯¯¯¯¯¯¯¯¯¯¯¯¯¯¯¯¯¯¯¯¯¯¯¯¯¯¯¯¯¯|\n",
      "| decoder_hidden_1 (Dense)  (None, 4)                 12        |\n",
      "|                                                               |\n",
      "| reconstructed_output (Dense  (None, 7)              35        |\n",
      "| )                                                             |\n",
      "¯¯¯¯¯¯¯¯¯¯¯¯¯¯¯¯¯¯¯¯¯¯¯¯¯¯¯¯¯¯¯¯¯¯¯¯¯¯¯¯¯¯¯¯¯¯¯¯¯¯¯¯¯¯¯¯¯¯¯¯¯¯¯¯¯\n",
      "=================================================================\n",
      "Total params: 89\n",
      "Trainable params: 89\n",
      "Non-trainable params: 0\n",
      "_________________________________________________________________\n"
     ]
    }
   ],
   "source": [
    "# Get the model summary\n",
    "autoencoder.summary(expand_nested=True, )"
   ]
  },
  {
   "cell_type": "code",
   "execution_count": 23,
   "metadata": {},
   "outputs": [
    {
     "data": {
      "image/png": "[encoded data removed]",
      "text/plain": [
       "<IPython.core.display.Image object>"
      ]
     },
     "execution_count": 23,
     "metadata": {},
     "output_type": "execute_result"
    }
   ],
   "source": [
    "# Build a graph of the autoencoder model\n",
    "tf.keras.utils.plot_model(model=autoencoder.build_graph(input_shape=df_normal.shape[1]), \\\n",
    "                          expand_nested=True, show_dtype=True, show_layer_activations=True, \\\n",
    "                            show_layer_names=True, show_shapes=True, show_trainable=True, dpi=125)"
   ]
  },
  {
   "cell_type": "code",
   "execution_count": 28,
   "metadata": {},
   "outputs": [
    {
     "data": {
      "text/plain": [
       "[<tf.Variable 'encoder_hidden_1/kernel:0' shape=(7, 4) dtype=float32, numpy=\n",
       " array([[0., 0., 0., 0.],\n",
       "        [0., 0., 0., 0.],\n",
       "        [0., 0., 0., 0.],\n",
       "        [0., 0., 0., 0.],\n",
       "        [0., 0., 0., 0.],\n",
       "        [0., 0., 0., 0.],\n",
       "        [0., 0., 0., 0.]], dtype=float32)>,\n",
       " <tf.Variable 'encoder_hidden_1/bias:0' shape=(4,) dtype=float32, numpy=array([0., 0., 0., 0.], dtype=float32)>,\n",
       " <tf.Variable 'latent_space_bottleneck/kernel:0' shape=(4, 2) dtype=float32, numpy=\n",
       " array([[-0.098423  , -0.73258996],\n",
       "        [ 0.8762195 ,  0.71772814],\n",
       "        [ 0.71949697, -0.42552352],\n",
       "        [ 0.26922965,  0.28370547]], dtype=float32)>,\n",
       " <tf.Variable 'latent_space_bottleneck/bias:0' shape=(2,) dtype=float32, numpy=array([0., 0.], dtype=float32)>,\n",
       " <tf.Variable 'decoder_hidden_1/kernel:0' shape=(2, 4) dtype=float32, numpy=\n",
       " array([[ 0.1003201 , -0.96821547,  0.09043646, -0.55945015],\n",
       "        [ 0.74960566, -0.20537567, -0.80979466,  0.03299522]],\n",
       "       dtype=float32)>,\n",
       " <tf.Variable 'decoder_hidden_1/bias:0' shape=(4,) dtype=float32, numpy=array([0., 0., 0., 0.], dtype=float32)>,\n",
       " <tf.Variable 'reconstructed_output/kernel:0' shape=(4, 7) dtype=float32, numpy=\n",
       " array([[ 0.54847056,  0.6960384 ,  0.07027805, -0.01130003, -0.01452112,\n",
       "         -0.64133763,  0.6757397 ],\n",
       "        [ 0.0410555 , -0.32768983, -0.6958801 , -0.45205268, -0.26290384,\n",
       "          0.23026568,  0.02415198],\n",
       "        [ 0.2874251 ,  0.24212825,  0.52446526, -0.30990112,  0.42493945,\n",
       "         -0.33000004,  0.575486  ],\n",
       "        [-0.6880786 , -0.03242987,  0.48877412,  0.3189351 ,  0.34463257,\n",
       "         -0.01941502,  0.08234346]], dtype=float32)>,\n",
       " <tf.Variable 'reconstructed_output/bias:0' shape=(7,) dtype=float32, numpy=\n",
       " array([-14.840082, -16.785406, -18.36965 , -12.507714, -14.921795,\n",
       "        -13.251464, -15.859195], dtype=float32)>]"
      ]
     },
     "execution_count": 28,
     "metadata": {},
     "output_type": "execute_result"
    }
   ],
   "source": [
    "# Get the model weights\n",
    "autoencoder.weights"
   ]
  },
  {
   "cell_type": "code",
   "execution_count": 25,
   "metadata": {},
   "outputs": [
    {
     "data": {
      "text/plain": [
       "{'optimizer': {'module': 'keras.optimizers',\n",
       "  'class_name': 'Adam',\n",
       "  'config': {'name': 'Adam',\n",
       "   'weight_decay': None,\n",
       "   'clipnorm': None,\n",
       "   'global_clipnorm': None,\n",
       "   'clipvalue': None,\n",
       "   'use_ema': False,\n",
       "   'ema_momentum': 0.99,\n",
       "   'ema_overwrite_frequency': None,\n",
       "   'jit_compile': False,\n",
       "   'is_legacy_optimizer': False,\n",
       "   'learning_rate': 0.009999999776482582,\n",
       "   'beta_1': 0.9,\n",
       "   'beta_2': 0.999,\n",
       "   'epsilon': 1e-07,\n",
       "   'amsgrad': False},\n",
       "  'registered_name': None},\n",
       " 'loss': {'module': 'keras.losses',\n",
       "  'class_name': 'function',\n",
       "  'config': 'mean_absolute_error',\n",
       "  'registered_name': 'mean_absolute_error'},\n",
       " 'metrics': ['accuracy'],\n",
       " 'loss_weights': None,\n",
       " 'weighted_metrics': None,\n",
       " 'run_eagerly': None,\n",
       " 'steps_per_execution': None,\n",
       " 'jit_compile': None}"
      ]
     },
     "execution_count": 25,
     "metadata": {},
     "output_type": "execute_result"
    }
   ],
   "source": [
    "# Get the compilation configuration\n",
    "autoencoder.get_compile_config()"
   ]
  },
  {
   "cell_type": "code",
   "execution_count": 26,
   "metadata": {},
   "outputs": [
    {
     "data": {
      "text/plain": [
       "{'loss': <tf.Tensor: shape=(), dtype=float32, numpy=0.00010972827>,\n",
       " 'accuracy': <tf.Tensor: shape=(), dtype=float32, numpy=0.834036>}"
      ]
     },
     "execution_count": 26,
     "metadata": {},
     "output_type": "execute_result"
    }
   ],
   "source": [
    "# Get the metrics result\n",
    "autoencoder.get_metrics_result()"
   ]
  },
  {
   "cell_type": "code",
   "execution_count": 29,
   "metadata": {},
   "outputs": [
    {
     "name": "stdout",
     "output_type": "stream",
     "text": [
      "{'loss': [0.020693428814411163, 0.00029797045863233507, 0.00016275203961413354, 0.00015444053860846907, 0.00015395683294627815, 0.00015393410285469145, 0.00015393338981084526, 0.00015393283683806658, 0.00015393301146104932, 0.0001539330987725407], 'accuracy': [0.16151103377342224, 0.16151103377342224, 0.47655874490737915, 0.7814517617225647, 0.7814517617225647, 0.7814517617225647, 0.7814517617225647, 0.7814517617225647, 0.7814517617225647, 0.7814517617225647], 'val_loss': [0.0005568150663748384, 0.00013713634689338505, 0.00011147782788611948, 0.00010981740342685953, 0.00010973498137900606, 0.00010973122698487714, 0.00010972948803100735, 0.00010972839663736522, 0.00010972880409099162, 0.00010972827294608578], 'val_accuracy': [0.1415596604347229, 0.1415596604347229, 0.8340359926223755, 0.8340359926223755, 0.8340359926223755, 0.8340359926223755, 0.8340359926223755, 0.8340359926223755, 0.8340359926223755, 0.8340359926223755]}\n"
     ]
    }
   ],
   "source": [
    "# How did our algorithm perform\n",
    "print(history.history)"
   ]
  },
  {
   "cell_type": "code",
   "execution_count": 30,
   "metadata": {},
   "outputs": [
    {
     "data": {
      "text/html": [
       "<div>\n",
       "<style scoped>\n",
       "    .dataframe tbody tr th:only-of-type {\n",
       "        vertical-align: middle;\n",
       "    }\n",
       "\n",
       "    .dataframe tbody tr th {\n",
       "        vertical-align: top;\n",
       "    }\n",
       "\n",
       "    .dataframe thead th {\n",
       "        text-align: right;\n",
       "    }\n",
       "</style>\n",
       "<table border=\"1\" class=\"dataframe\">\n",
       "  <thead>\n",
       "    <tr style=\"text-align: right;\">\n",
       "      <th></th>\n",
       "      <th>loss</th>\n",
       "      <th>accuracy</th>\n",
       "      <th>val_loss</th>\n",
       "      <th>val_accuracy</th>\n",
       "    </tr>\n",
       "  </thead>\n",
       "  <tbody>\n",
       "    <tr>\n",
       "      <th>0</th>\n",
       "      <td>0.02</td>\n",
       "      <td>0.16</td>\n",
       "      <td>0.00</td>\n",
       "      <td>0.14</td>\n",
       "    </tr>\n",
       "    <tr>\n",
       "      <th>1</th>\n",
       "      <td>0.00</td>\n",
       "      <td>0.16</td>\n",
       "      <td>0.00</td>\n",
       "      <td>0.14</td>\n",
       "    </tr>\n",
       "    <tr>\n",
       "      <th>2</th>\n",
       "      <td>0.00</td>\n",
       "      <td>0.48</td>\n",
       "      <td>0.00</td>\n",
       "      <td>0.83</td>\n",
       "    </tr>\n",
       "    <tr>\n",
       "      <th>3</th>\n",
       "      <td>0.00</td>\n",
       "      <td>0.78</td>\n",
       "      <td>0.00</td>\n",
       "      <td>0.83</td>\n",
       "    </tr>\n",
       "    <tr>\n",
       "      <th>4</th>\n",
       "      <td>0.00</td>\n",
       "      <td>0.78</td>\n",
       "      <td>0.00</td>\n",
       "      <td>0.83</td>\n",
       "    </tr>\n",
       "    <tr>\n",
       "      <th>5</th>\n",
       "      <td>0.00</td>\n",
       "      <td>0.78</td>\n",
       "      <td>0.00</td>\n",
       "      <td>0.83</td>\n",
       "    </tr>\n",
       "    <tr>\n",
       "      <th>6</th>\n",
       "      <td>0.00</td>\n",
       "      <td>0.78</td>\n",
       "      <td>0.00</td>\n",
       "      <td>0.83</td>\n",
       "    </tr>\n",
       "    <tr>\n",
       "      <th>7</th>\n",
       "      <td>0.00</td>\n",
       "      <td>0.78</td>\n",
       "      <td>0.00</td>\n",
       "      <td>0.83</td>\n",
       "    </tr>\n",
       "    <tr>\n",
       "      <th>8</th>\n",
       "      <td>0.00</td>\n",
       "      <td>0.78</td>\n",
       "      <td>0.00</td>\n",
       "      <td>0.83</td>\n",
       "    </tr>\n",
       "    <tr>\n",
       "      <th>9</th>\n",
       "      <td>0.00</td>\n",
       "      <td>0.78</td>\n",
       "      <td>0.00</td>\n",
       "      <td>0.83</td>\n",
       "    </tr>\n",
       "  </tbody>\n",
       "</table>\n",
       "</div>"
      ],
      "text/plain": [
       "   loss  accuracy  val_loss  val_accuracy\n",
       "0  0.02      0.16      0.00          0.14\n",
       "1  0.00      0.16      0.00          0.14\n",
       "2  0.00      0.48      0.00          0.83\n",
       "3  0.00      0.78      0.00          0.83\n",
       "4  0.00      0.78      0.00          0.83\n",
       "5  0.00      0.78      0.00          0.83\n",
       "6  0.00      0.78      0.00          0.83\n",
       "7  0.00      0.78      0.00          0.83\n",
       "8  0.00      0.78      0.00          0.83\n",
       "9  0.00      0.78      0.00          0.83"
      ]
     },
     "execution_count": 30,
     "metadata": {},
     "output_type": "execute_result"
    }
   ],
   "source": [
    "# A cleaner view of the metrics\n",
    "pd.DataFrame(history.history)"
   ]
  },
  {
   "cell_type": "code",
   "execution_count": 31,
   "metadata": {},
   "outputs": [
    {
     "data": {
      "image/png": "[encoded data removed]",
      "text/plain": [
       "<Figure size 1000x500 with 2 Axes>"
      ]
     },
     "metadata": {},
     "output_type": "display_data"
    }
   ],
   "source": [
    "# Plot the training & validation loss and accuracy\n",
    "#   05 - Beginning Matplotlib\n",
    "# https://matplotlib.org/stable/api/_as_gen/matplotlib.pyplot.legend.html\n",
    "# We can see from below the loss has decreased while the accuracy has increased.\n",
    "# More importantly, the graphs confirm that 4 epochs is probably enough \n",
    "# for this algorithm, based on the learning rate we choose\n",
    "fig, ax = plt.subplots(ncols=2, nrows=1, figsize=(10,5))\n",
    "plt.suptitle('Loss and Accuracy')\n",
    "\n",
    "ax[0].plot(history.history['loss'], 'r', history.history['val_loss'], 'g' )\n",
    "ax[0].set_title('Loss')\n",
    "ax[0].legend(labels=['Train loss', 'Validation loss'])\n",
    "ax[0].set_xlabel('Epochs')\n",
    "ax[0].set_ylabel('Loss')\n",
    "\n",
    "ax[1].plot(history.history['accuracy'], 'r', history.history['val_accuracy'], 'g' )\n",
    "ax[1].set_title('Accuracy')\n",
    "ax[1].legend(labels=['Train Accuracy', 'Validation Accuracy'])\n",
    "ax[1].set_xlabel('Epochs')\n",
    "ax[1].set_ylabel('Loss')\n",
    "\n",
    "plt.show()"
   ]
  },
  {
   "cell_type": "code",
   "execution_count": 32,
   "metadata": {},
   "outputs": [
    {
     "data": {
      "text/plain": [
       "array([[0., 0.],\n",
       "       [0., 0.],\n",
       "       [0., 0.],\n",
       "       ...,\n",
       "       [0., 0.],\n",
       "       [0., 0.],\n",
       "       [0., 0.]], dtype=float32)"
      ]
     },
     "execution_count": 32,
     "metadata": {},
     "output_type": "execute_result"
    }
   ],
   "source": [
    "# The encoded data is now down from its original 7 features to now 2. \n",
    "# This represents the bottleneck/latent space. Also represented by \"z\"\n",
    "# Also called the latent space\n",
    "normal_encoded_data = autoencoder.encoder(df_normal).numpy()\n",
    "normal_encoded_data"
   ]
  },
  {
   "cell_type": "code",
   "execution_count": 33,
   "metadata": {},
   "outputs": [
    {
     "data": {
      "text/plain": [
       "((207541, 2), (207541, 7))"
      ]
     },
     "execution_count": 33,
     "metadata": {},
     "output_type": "execute_result"
    }
   ],
   "source": [
    "# Get the shape of this latent space\n",
    "# We see we have the same number of samples as the training data but now 2 dimensions rather than the original 7\n",
    "normal_encoded_data.shape, df_normal.shape"
   ]
  },
  {
   "attachments": {},
   "cell_type": "markdown",
   "metadata": {},
   "source": [
    "In the notebook on PCA - <br>\n",
    "&emsp; &emsp;   07 - Beginning Principal Component Analysis (PCA) <br>\n",
    "We did dimensionality reduction. Think of above as the same, as we moved from 7 dimensions to 2, <br>\n",
    "the main difference is in this autoencoder approach, we are using non-linear transformation.  <br>\n",
    "Normal linear equation is f(x) = wx+b <br>\n",
    "\n",
    "Our non-linear transformation is f(x) = relu(wx+b) <br>\n",
    "By applying the activation function to wx+b, the result is made non-linear <br>"
   ]
  },
  {
   "cell_type": "code",
   "execution_count": 34,
   "metadata": {},
   "outputs": [
    {
     "data": {
      "text/plain": [
       "array([[0.00000036, 0.00000005, 0.00000001, ..., 0.00000033, 0.00000176,\n",
       "        0.00000013],\n",
       "       [0.00000036, 0.00000005, 0.00000001, ..., 0.00000033, 0.00000176,\n",
       "        0.00000013],\n",
       "       [0.00000036, 0.00000005, 0.00000001, ..., 0.00000033, 0.00000176,\n",
       "        0.00000013],\n",
       "       ...,\n",
       "       [0.00000036, 0.00000005, 0.00000001, ..., 0.00000033, 0.00000176,\n",
       "        0.00000013],\n",
       "       [0.00000036, 0.00000005, 0.00000001, ..., 0.00000033, 0.00000176,\n",
       "        0.00000013],\n",
       "       [0.00000036, 0.00000005, 0.00000001, ..., 0.00000033, 0.00000176,\n",
       "        0.00000013]], dtype=float32)"
      ]
     },
     "execution_count": 34,
     "metadata": {},
     "output_type": "execute_result"
    }
   ],
   "source": [
    "# Reconstructing the data from the encoded data\n",
    "np.set_printoptions(suppress=True)\n",
    "normal_decoded_data = autoencoder.decoder(normal_encoded_data).numpy()\n",
    "normal_decoded_data"
   ]
  },
  {
   "cell_type": "code",
   "execution_count": 35,
   "metadata": {},
   "outputs": [
    {
     "data": {
      "text/plain": [
       "((207541, 7), (207541, 7))"
      ]
     },
     "execution_count": 35,
     "metadata": {},
     "output_type": "execute_result"
    }
   ],
   "source": [
    "# Get the shape of the decoded data\n",
    "# We can see, we now have the same number of records and dimensions from the decoded data\n",
    "normal_decoded_data.shape, df_normal.shape"
   ]
  },
  {
   "cell_type": "code",
   "execution_count": 36,
   "metadata": {},
   "outputs": [
    {
     "data": {
      "image/png": "[encoded data removed]",
      "text/plain": [
       "<Figure size 640x480 with 1 Axes>"
      ]
     },
     "metadata": {},
     "output_type": "display_data"
    }
   ],
   "source": [
    "# Getting the reconstructing error by comparing the normal data with reconstructed normal data\n",
    "plt.title('Normal vs Reconstructed Normal Data')\n",
    "plt.plot(df_normal[0, : ], 'r', normal_decoded_data[0, : ], 'k')\n",
    "plt.fill_between(np.arange(start=0, stop=7, step=1), df_normal[0, : ],normal_decoded_data[0, : ])\n",
    "plt.xlabel('Features')\n",
    "plt.xticks(np.arange(start=0, stop=7, step=1), ['duration', 'orig_bytes', 'resp_bytes', \n",
    "                                                'orig_pkts', 'orig_ip_bytes', 'resp_pkts', 'resp_ip_bytes'], rotation=45)\n",
    "plt.ylabel(ylabel='Feature Values')\n",
    "plt.legend(labels=['original', 'reconstructed', 'Reconstruction Error'])\n",
    "plt.show()"
   ]
  },
  {
   "cell_type": "code",
   "execution_count": 37,
   "metadata": {},
   "outputs": [
    {
     "data": {
      "text/plain": [
       "<tf.Tensor: shape=(67, 2), dtype=float32, numpy=\n",
       "array([[0., 0.],\n",
       "       [0., 0.],\n",
       "       [0., 0.],\n",
       "       [0., 0.],\n",
       "       [0., 0.],\n",
       "       [0., 0.],\n",
       "       [0., 0.],\n",
       "       [0., 0.],\n",
       "       [0., 0.],\n",
       "       [0., 0.],\n",
       "       [0., 0.],\n",
       "       [0., 0.],\n",
       "       [0., 0.],\n",
       "       [0., 0.],\n",
       "       [0., 0.],\n",
       "       [0., 0.],\n",
       "       [0., 0.],\n",
       "       [0., 0.],\n",
       "       [0., 0.],\n",
       "       [0., 0.],\n",
       "       [0., 0.],\n",
       "       [0., 0.],\n",
       "       [0., 0.],\n",
       "       [0., 0.],\n",
       "       [0., 0.],\n",
       "       [0., 0.],\n",
       "       [0., 0.],\n",
       "       [0., 0.],\n",
       "       [0., 0.],\n",
       "       [0., 0.],\n",
       "       [0., 0.],\n",
       "       [0., 0.],\n",
       "       [0., 0.],\n",
       "       [0., 0.],\n",
       "       [0., 0.],\n",
       "       [0., 0.],\n",
       "       [0., 0.],\n",
       "       [0., 0.],\n",
       "       [0., 0.],\n",
       "       [0., 0.],\n",
       "       [0., 0.],\n",
       "       [0., 0.],\n",
       "       [0., 0.],\n",
       "       [0., 0.],\n",
       "       [0., 0.],\n",
       "       [0., 0.],\n",
       "       [0., 0.],\n",
       "       [0., 0.],\n",
       "       [0., 0.],\n",
       "       [0., 0.],\n",
       "       [0., 0.],\n",
       "       [0., 0.],\n",
       "       [0., 0.],\n",
       "       [0., 0.],\n",
       "       [0., 0.],\n",
       "       [0., 0.],\n",
       "       [0., 0.],\n",
       "       [0., 0.],\n",
       "       [0., 0.],\n",
       "       [0., 0.],\n",
       "       [0., 0.],\n",
       "       [0., 0.],\n",
       "       [0., 0.],\n",
       "       [0., 0.],\n",
       "       [0., 0.],\n",
       "       [0., 0.],\n",
       "       [0., 0.]], dtype=float32)>"
      ]
     },
     "execution_count": 37,
     "metadata": {},
     "output_type": "execute_result"
    }
   ],
   "source": [
    "# Encode the suspicious data\n",
    "suspicious_encoded_data = autoencoder.encoder(df_suspicious)\n",
    "\n",
    "# Get a view of the latent space\n",
    "suspicious_encoded_data"
   ]
  },
  {
   "cell_type": "code",
   "execution_count": 38,
   "metadata": {},
   "outputs": [
    {
     "data": {
      "text/plain": [
       "<tf.Tensor: shape=(67, 7), dtype=float32, numpy=\n",
       "array([[0.00000036, 0.00000005, 0.00000001, 0.0000037 , 0.00000033,\n",
       "        0.00000176, 0.00000013],\n",
       "       [0.00000036, 0.00000005, 0.00000001, 0.0000037 , 0.00000033,\n",
       "        0.00000176, 0.00000013],\n",
       "       [0.00000036, 0.00000005, 0.00000001, 0.0000037 , 0.00000033,\n",
       "        0.00000176, 0.00000013],\n",
       "       [0.00000036, 0.00000005, 0.00000001, 0.0000037 , 0.00000033,\n",
       "        0.00000176, 0.00000013],\n",
       "       [0.00000036, 0.00000005, 0.00000001, 0.0000037 , 0.00000033,\n",
       "        0.00000176, 0.00000013],\n",
       "       [0.00000036, 0.00000005, 0.00000001, 0.0000037 , 0.00000033,\n",
       "        0.00000176, 0.00000013],\n",
       "       [0.00000036, 0.00000005, 0.00000001, 0.0000037 , 0.00000033,\n",
       "        0.00000176, 0.00000013],\n",
       "       [0.00000036, 0.00000005, 0.00000001, 0.0000037 , 0.00000033,\n",
       "        0.00000176, 0.00000013],\n",
       "       [0.00000036, 0.00000005, 0.00000001, 0.0000037 , 0.00000033,\n",
       "        0.00000176, 0.00000013],\n",
       "       [0.00000036, 0.00000005, 0.00000001, 0.0000037 , 0.00000033,\n",
       "        0.00000176, 0.00000013],\n",
       "       [0.00000036, 0.00000005, 0.00000001, 0.0000037 , 0.00000033,\n",
       "        0.00000176, 0.00000013],\n",
       "       [0.00000036, 0.00000005, 0.00000001, 0.0000037 , 0.00000033,\n",
       "        0.00000176, 0.00000013],\n",
       "       [0.00000036, 0.00000005, 0.00000001, 0.0000037 , 0.00000033,\n",
       "        0.00000176, 0.00000013],\n",
       "       [0.00000036, 0.00000005, 0.00000001, 0.0000037 , 0.00000033,\n",
       "        0.00000176, 0.00000013],\n",
       "       [0.00000036, 0.00000005, 0.00000001, 0.0000037 , 0.00000033,\n",
       "        0.00000176, 0.00000013],\n",
       "       [0.00000036, 0.00000005, 0.00000001, 0.0000037 , 0.00000033,\n",
       "        0.00000176, 0.00000013],\n",
       "       [0.00000036, 0.00000005, 0.00000001, 0.0000037 , 0.00000033,\n",
       "        0.00000176, 0.00000013],\n",
       "       [0.00000036, 0.00000005, 0.00000001, 0.0000037 , 0.00000033,\n",
       "        0.00000176, 0.00000013],\n",
       "       [0.00000036, 0.00000005, 0.00000001, 0.0000037 , 0.00000033,\n",
       "        0.00000176, 0.00000013],\n",
       "       [0.00000036, 0.00000005, 0.00000001, 0.0000037 , 0.00000033,\n",
       "        0.00000176, 0.00000013],\n",
       "       [0.00000036, 0.00000005, 0.00000001, 0.0000037 , 0.00000033,\n",
       "        0.00000176, 0.00000013],\n",
       "       [0.00000036, 0.00000005, 0.00000001, 0.0000037 , 0.00000033,\n",
       "        0.00000176, 0.00000013],\n",
       "       [0.00000036, 0.00000005, 0.00000001, 0.0000037 , 0.00000033,\n",
       "        0.00000176, 0.00000013],\n",
       "       [0.00000036, 0.00000005, 0.00000001, 0.0000037 , 0.00000033,\n",
       "        0.00000176, 0.00000013],\n",
       "       [0.00000036, 0.00000005, 0.00000001, 0.0000037 , 0.00000033,\n",
       "        0.00000176, 0.00000013],\n",
       "       [0.00000036, 0.00000005, 0.00000001, 0.0000037 , 0.00000033,\n",
       "        0.00000176, 0.00000013],\n",
       "       [0.00000036, 0.00000005, 0.00000001, 0.0000037 , 0.00000033,\n",
       "        0.00000176, 0.00000013],\n",
       "       [0.00000036, 0.00000005, 0.00000001, 0.0000037 , 0.00000033,\n",
       "        0.00000176, 0.00000013],\n",
       "       [0.00000036, 0.00000005, 0.00000001, 0.0000037 , 0.00000033,\n",
       "        0.00000176, 0.00000013],\n",
       "       [0.00000036, 0.00000005, 0.00000001, 0.0000037 , 0.00000033,\n",
       "        0.00000176, 0.00000013],\n",
       "       [0.00000036, 0.00000005, 0.00000001, 0.0000037 , 0.00000033,\n",
       "        0.00000176, 0.00000013],\n",
       "       [0.00000036, 0.00000005, 0.00000001, 0.0000037 , 0.00000033,\n",
       "        0.00000176, 0.00000013],\n",
       "       [0.00000036, 0.00000005, 0.00000001, 0.0000037 , 0.00000033,\n",
       "        0.00000176, 0.00000013],\n",
       "       [0.00000036, 0.00000005, 0.00000001, 0.0000037 , 0.00000033,\n",
       "        0.00000176, 0.00000013],\n",
       "       [0.00000036, 0.00000005, 0.00000001, 0.0000037 , 0.00000033,\n",
       "        0.00000176, 0.00000013],\n",
       "       [0.00000036, 0.00000005, 0.00000001, 0.0000037 , 0.00000033,\n",
       "        0.00000176, 0.00000013],\n",
       "       [0.00000036, 0.00000005, 0.00000001, 0.0000037 , 0.00000033,\n",
       "        0.00000176, 0.00000013],\n",
       "       [0.00000036, 0.00000005, 0.00000001, 0.0000037 , 0.00000033,\n",
       "        0.00000176, 0.00000013],\n",
       "       [0.00000036, 0.00000005, 0.00000001, 0.0000037 , 0.00000033,\n",
       "        0.00000176, 0.00000013],\n",
       "       [0.00000036, 0.00000005, 0.00000001, 0.0000037 , 0.00000033,\n",
       "        0.00000176, 0.00000013],\n",
       "       [0.00000036, 0.00000005, 0.00000001, 0.0000037 , 0.00000033,\n",
       "        0.00000176, 0.00000013],\n",
       "       [0.00000036, 0.00000005, 0.00000001, 0.0000037 , 0.00000033,\n",
       "        0.00000176, 0.00000013],\n",
       "       [0.00000036, 0.00000005, 0.00000001, 0.0000037 , 0.00000033,\n",
       "        0.00000176, 0.00000013],\n",
       "       [0.00000036, 0.00000005, 0.00000001, 0.0000037 , 0.00000033,\n",
       "        0.00000176, 0.00000013],\n",
       "       [0.00000036, 0.00000005, 0.00000001, 0.0000037 , 0.00000033,\n",
       "        0.00000176, 0.00000013],\n",
       "       [0.00000036, 0.00000005, 0.00000001, 0.0000037 , 0.00000033,\n",
       "        0.00000176, 0.00000013],\n",
       "       [0.00000036, 0.00000005, 0.00000001, 0.0000037 , 0.00000033,\n",
       "        0.00000176, 0.00000013],\n",
       "       [0.00000036, 0.00000005, 0.00000001, 0.0000037 , 0.00000033,\n",
       "        0.00000176, 0.00000013],\n",
       "       [0.00000036, 0.00000005, 0.00000001, 0.0000037 , 0.00000033,\n",
       "        0.00000176, 0.00000013],\n",
       "       [0.00000036, 0.00000005, 0.00000001, 0.0000037 , 0.00000033,\n",
       "        0.00000176, 0.00000013],\n",
       "       [0.00000036, 0.00000005, 0.00000001, 0.0000037 , 0.00000033,\n",
       "        0.00000176, 0.00000013],\n",
       "       [0.00000036, 0.00000005, 0.00000001, 0.0000037 , 0.00000033,\n",
       "        0.00000176, 0.00000013],\n",
       "       [0.00000036, 0.00000005, 0.00000001, 0.0000037 , 0.00000033,\n",
       "        0.00000176, 0.00000013],\n",
       "       [0.00000036, 0.00000005, 0.00000001, 0.0000037 , 0.00000033,\n",
       "        0.00000176, 0.00000013],\n",
       "       [0.00000036, 0.00000005, 0.00000001, 0.0000037 , 0.00000033,\n",
       "        0.00000176, 0.00000013],\n",
       "       [0.00000036, 0.00000005, 0.00000001, 0.0000037 , 0.00000033,\n",
       "        0.00000176, 0.00000013],\n",
       "       [0.00000036, 0.00000005, 0.00000001, 0.0000037 , 0.00000033,\n",
       "        0.00000176, 0.00000013],\n",
       "       [0.00000036, 0.00000005, 0.00000001, 0.0000037 , 0.00000033,\n",
       "        0.00000176, 0.00000013],\n",
       "       [0.00000036, 0.00000005, 0.00000001, 0.0000037 , 0.00000033,\n",
       "        0.00000176, 0.00000013],\n",
       "       [0.00000036, 0.00000005, 0.00000001, 0.0000037 , 0.00000033,\n",
       "        0.00000176, 0.00000013],\n",
       "       [0.00000036, 0.00000005, 0.00000001, 0.0000037 , 0.00000033,\n",
       "        0.00000176, 0.00000013],\n",
       "       [0.00000036, 0.00000005, 0.00000001, 0.0000037 , 0.00000033,\n",
       "        0.00000176, 0.00000013],\n",
       "       [0.00000036, 0.00000005, 0.00000001, 0.0000037 , 0.00000033,\n",
       "        0.00000176, 0.00000013],\n",
       "       [0.00000036, 0.00000005, 0.00000001, 0.0000037 , 0.00000033,\n",
       "        0.00000176, 0.00000013],\n",
       "       [0.00000036, 0.00000005, 0.00000001, 0.0000037 , 0.00000033,\n",
       "        0.00000176, 0.00000013],\n",
       "       [0.00000036, 0.00000005, 0.00000001, 0.0000037 , 0.00000033,\n",
       "        0.00000176, 0.00000013],\n",
       "       [0.00000036, 0.00000005, 0.00000001, 0.0000037 , 0.00000033,\n",
       "        0.00000176, 0.00000013]], dtype=float32)>"
      ]
     },
     "execution_count": 38,
     "metadata": {},
     "output_type": "execute_result"
    }
   ],
   "source": [
    "# Decode the encoded suspicious data \n",
    "np.set_printoptions(suppress=True)\n",
    "suspicious_decoded_data = autoencoder.decoder(suspicious_encoded_data)\n",
    "suspicious_decoded_data"
   ]
  },
  {
   "cell_type": "code",
   "execution_count": 39,
   "metadata": {},
   "outputs": [
    {
     "data": {
      "image/png": "[encoded data removed]",
      "text/plain": [
       "<Figure size 640x480 with 1 Axes>"
      ]
     },
     "metadata": {},
     "output_type": "display_data"
    }
   ],
   "source": [
    "# Plot the reconstructing error of the normal decoded data with reconstructed suspicious data.\n",
    "# It does not look like there is any real difference between the two from this view\n",
    "# Maybe there is a better sample for us to use. \n",
    "# Or maybe we need to keep in mind, this is the scaled data and \n",
    "# we should expect all values to be between 0 and 1\n",
    "plt.title('Normal vs Suspicious Data')\n",
    "plt.plot(normal_decoded_data[5, : ], 'r', lw=5)\n",
    "plt.plot(suspicious_decoded_data[5, : ], 'k', lw=1)\n",
    "plt.fill_between(np.arange(start=0, stop=7, step=1), normal_decoded_data[0, : ], suspicious_decoded_data[0, : ])\n",
    "plt.ylabel('Values')\n",
    "plt.xlabel('Features')\n",
    "plt.xticks(np.arange(start=0, stop=7, step=1), ['duration', 'orig_bytes', \n",
    "                                                'resp_bytes', 'orig_pkts', 'orig_ip_bytes', \n",
    "                                                'resp_pkts', 'resp_ip_bytes'], rotation=45)\n",
    "plt.legend(labels=['normal', 'suspicious', 'Reconstruction Error'])\n",
    "plt.show()"
   ]
  },
  {
   "cell_type": "code",
   "execution_count": 40,
   "metadata": {},
   "outputs": [
    {
     "name": "stdout",
     "output_type": "stream",
     "text": [
      "6488/6488 [==============================] - 9s 1ms/step\n"
     ]
    },
    {
     "data": {
      "text/plain": [
       "array([[0.00000036, 0.00000005, 0.00000001, ..., 0.00000033, 0.00000176,\n",
       "        0.00000013],\n",
       "       [0.00000036, 0.00000005, 0.00000001, ..., 0.00000033, 0.00000176,\n",
       "        0.00000013],\n",
       "       [0.00000036, 0.00000005, 0.00000001, ..., 0.00000033, 0.00000176,\n",
       "        0.00000013],\n",
       "       ...,\n",
       "       [0.00000036, 0.00000005, 0.00000001, ..., 0.00000033, 0.00000176,\n",
       "        0.00000013],\n",
       "       [0.00000036, 0.00000005, 0.00000001, ..., 0.00000033, 0.00000176,\n",
       "        0.00000013],\n",
       "       [0.00000036, 0.00000005, 0.00000001, ..., 0.00000033, 0.00000176,\n",
       "        0.00000013]], dtype=float32)"
      ]
     },
     "execution_count": 40,
     "metadata": {},
     "output_type": "execute_result"
    }
   ],
   "source": [
    "# Looking at the entire dataset to see what the errors look like\n",
    "# Note I'm excluding the labels\n",
    "# First store the predictions\n",
    "predictions = autoencoder.predict(df_conn.drop(columns=['label'], inplace=False))\n",
    "predictions"
   ]
  },
  {
   "cell_type": "code",
   "execution_count": 41,
   "metadata": {},
   "outputs": [
    {
     "data": {
      "text/plain": [
       "<tf.Tensor: shape=(207608,), dtype=float32, numpy=\n",
       "array([   431.4362  , 134935.34    ,    431.72202 , ...,      5.857144,\n",
       "            5.857144,      5.857144], dtype=float32)>"
      ]
     },
     "execution_count": 41,
     "metadata": {},
     "output_type": "execute_result"
    }
   ],
   "source": [
    "# Getting the MAE Error of the entire dataset\n",
    "errors_mae = tf.keras.losses.mae(y_pred=predictions, y_true=df_conn.drop(columns=['label'], inplace=False))\n",
    "errors_mae"
   ]
  },
  {
   "cell_type": "code",
   "execution_count": 43,
   "metadata": {},
   "outputs": [
    {
     "data": {
      "text/html": [
       "<div>\n",
       "<style scoped>\n",
       "    .dataframe tbody tr th:only-of-type {\n",
       "        vertical-align: middle;\n",
       "    }\n",
       "\n",
       "    .dataframe tbody tr th {\n",
       "        vertical-align: top;\n",
       "    }\n",
       "\n",
       "    .dataframe thead th {\n",
       "        text-align: right;\n",
       "    }\n",
       "</style>\n",
       "<table border=\"1\" class=\"dataframe\">\n",
       "  <thead>\n",
       "    <tr style=\"text-align: right;\">\n",
       "      <th></th>\n",
       "      <th>errors_mae</th>\n",
       "      <th>label</th>\n",
       "    </tr>\n",
       "  </thead>\n",
       "  <tbody>\n",
       "    <tr>\n",
       "      <th>5</th>\n",
       "      <td>431.44</td>\n",
       "      <td>0</td>\n",
       "    </tr>\n",
       "    <tr>\n",
       "      <th>6</th>\n",
       "      <td>134935.34</td>\n",
       "      <td>0</td>\n",
       "    </tr>\n",
       "    <tr>\n",
       "      <th>7</th>\n",
       "      <td>431.72</td>\n",
       "      <td>0</td>\n",
       "    </tr>\n",
       "    <tr>\n",
       "      <th>8</th>\n",
       "      <td>167047.78</td>\n",
       "      <td>0</td>\n",
       "    </tr>\n",
       "    <tr>\n",
       "      <th>9</th>\n",
       "      <td>83734.61</td>\n",
       "      <td>0</td>\n",
       "    </tr>\n",
       "    <tr>\n",
       "      <th>...</th>\n",
       "      <td>...</td>\n",
       "      <td>...</td>\n",
       "    </tr>\n",
       "    <tr>\n",
       "      <th>4430183</th>\n",
       "      <td>13.43</td>\n",
       "      <td>0</td>\n",
       "    </tr>\n",
       "    <tr>\n",
       "      <th>4430184</th>\n",
       "      <td>5.86</td>\n",
       "      <td>0</td>\n",
       "    </tr>\n",
       "    <tr>\n",
       "      <th>4430185</th>\n",
       "      <td>5.86</td>\n",
       "      <td>0</td>\n",
       "    </tr>\n",
       "    <tr>\n",
       "      <th>4430186</th>\n",
       "      <td>5.86</td>\n",
       "      <td>0</td>\n",
       "    </tr>\n",
       "    <tr>\n",
       "      <th>4430187</th>\n",
       "      <td>5.86</td>\n",
       "      <td>0</td>\n",
       "    </tr>\n",
       "  </tbody>\n",
       "</table>\n",
       "<p>207608 rows × 2 columns</p>\n",
       "</div>"
      ],
      "text/plain": [
       "         errors_mae  label\n",
       "5            431.44      0\n",
       "6         134935.34      0\n",
       "7            431.72      0\n",
       "8         167047.78      0\n",
       "9          83734.61      0\n",
       "...             ...    ...\n",
       "4430183       13.43      0\n",
       "4430184        5.86      0\n",
       "4430185        5.86      0\n",
       "4430186        5.86      0\n",
       "4430187        5.86      0\n",
       "\n",
       "[207608 rows x 2 columns]"
      ]
     },
     "execution_count": 43,
     "metadata": {},
     "output_type": "execute_result"
    }
   ],
   "source": [
    "# Turn off scientific notation for the dataframe\n",
    "pd.set_option.float_format = '{:.2f}'.format\n",
    "\n",
    "# Let's now create a dataframe consisting of the reconstruction error and the labels\n",
    "# The idea is to see how the errors look for anomalies vs normal data from the perspective of th labels\n",
    "df_errors = pd.DataFrame({'errors_mae':errors_mae, 'label': df_conn.label})\n",
    "df_errors"
   ]
  },
  {
   "cell_type": "code",
   "execution_count": 44,
   "metadata": {},
   "outputs": [
    {
     "data": {
      "text/html": [
       "<div>\n",
       "<style scoped>\n",
       "    .dataframe tbody tr th:only-of-type {\n",
       "        vertical-align: middle;\n",
       "    }\n",
       "\n",
       "    .dataframe tbody tr th {\n",
       "        vertical-align: top;\n",
       "    }\n",
       "\n",
       "    .dataframe thead th {\n",
       "        text-align: right;\n",
       "    }\n",
       "</style>\n",
       "<table border=\"1\" class=\"dataframe\">\n",
       "  <thead>\n",
       "    <tr style=\"text-align: right;\">\n",
       "      <th></th>\n",
       "      <th>errors_mae</th>\n",
       "      <th>label</th>\n",
       "    </tr>\n",
       "  </thead>\n",
       "  <tbody>\n",
       "    <tr>\n",
       "      <th>5</th>\n",
       "      <td>431.44</td>\n",
       "      <td>0</td>\n",
       "    </tr>\n",
       "    <tr>\n",
       "      <th>6</th>\n",
       "      <td>134935.34</td>\n",
       "      <td>0</td>\n",
       "    </tr>\n",
       "    <tr>\n",
       "      <th>7</th>\n",
       "      <td>431.72</td>\n",
       "      <td>0</td>\n",
       "    </tr>\n",
       "    <tr>\n",
       "      <th>8</th>\n",
       "      <td>167047.78</td>\n",
       "      <td>0</td>\n",
       "    </tr>\n",
       "    <tr>\n",
       "      <th>9</th>\n",
       "      <td>83734.61</td>\n",
       "      <td>0</td>\n",
       "    </tr>\n",
       "    <tr>\n",
       "      <th>...</th>\n",
       "      <td>...</td>\n",
       "      <td>...</td>\n",
       "    </tr>\n",
       "    <tr>\n",
       "      <th>4430183</th>\n",
       "      <td>13.43</td>\n",
       "      <td>0</td>\n",
       "    </tr>\n",
       "    <tr>\n",
       "      <th>4430184</th>\n",
       "      <td>5.86</td>\n",
       "      <td>0</td>\n",
       "    </tr>\n",
       "    <tr>\n",
       "      <th>4430185</th>\n",
       "      <td>5.86</td>\n",
       "      <td>0</td>\n",
       "    </tr>\n",
       "    <tr>\n",
       "      <th>4430186</th>\n",
       "      <td>5.86</td>\n",
       "      <td>0</td>\n",
       "    </tr>\n",
       "    <tr>\n",
       "      <th>4430187</th>\n",
       "      <td>5.86</td>\n",
       "      <td>0</td>\n",
       "    </tr>\n",
       "  </tbody>\n",
       "</table>\n",
       "<p>207541 rows × 2 columns</p>\n",
       "</div>"
      ],
      "text/plain": [
       "         errors_mae  label\n",
       "5            431.44      0\n",
       "6         134935.34      0\n",
       "7            431.72      0\n",
       "8         167047.78      0\n",
       "9          83734.61      0\n",
       "...             ...    ...\n",
       "4430183       13.43      0\n",
       "4430184        5.86      0\n",
       "4430185        5.86      0\n",
       "4430186        5.86      0\n",
       "4430187        5.86      0\n",
       "\n",
       "[207541 rows x 2 columns]"
      ]
     },
     "execution_count": 44,
     "metadata": {},
     "output_type": "execute_result"
    }
   ],
   "source": [
    "# Create a new dataframe of the reconstruction error of the normal samples\n",
    "df_normal_reconstructed = df_errors[df_errors.label == 0]\n",
    "df_normal_reconstructed"
   ]
  },
  {
   "cell_type": "code",
   "execution_count": 45,
   "metadata": {},
   "outputs": [
    {
     "data": {
      "text/html": [
       "<div>\n",
       "<style scoped>\n",
       "    .dataframe tbody tr th:only-of-type {\n",
       "        vertical-align: middle;\n",
       "    }\n",
       "\n",
       "    .dataframe tbody tr th {\n",
       "        vertical-align: top;\n",
       "    }\n",
       "\n",
       "    .dataframe thead th {\n",
       "        text-align: right;\n",
       "    }\n",
       "</style>\n",
       "<table border=\"1\" class=\"dataframe\">\n",
       "  <thead>\n",
       "    <tr style=\"text-align: right;\">\n",
       "      <th></th>\n",
       "      <th>errors_mae</th>\n",
       "      <th>label</th>\n",
       "    </tr>\n",
       "  </thead>\n",
       "  <tbody>\n",
       "    <tr>\n",
       "      <th>5982</th>\n",
       "      <td>3971518.00</td>\n",
       "      <td>1</td>\n",
       "    </tr>\n",
       "    <tr>\n",
       "      <th>51574</th>\n",
       "      <td>242973.38</td>\n",
       "      <td>1</td>\n",
       "    </tr>\n",
       "    <tr>\n",
       "      <th>55611</th>\n",
       "      <td>467517.22</td>\n",
       "      <td>1</td>\n",
       "    </tr>\n",
       "    <tr>\n",
       "      <th>115226</th>\n",
       "      <td>662248.00</td>\n",
       "      <td>1</td>\n",
       "    </tr>\n",
       "    <tr>\n",
       "      <th>115972</th>\n",
       "      <td>1239710.38</td>\n",
       "      <td>1</td>\n",
       "    </tr>\n",
       "    <tr>\n",
       "      <th>...</th>\n",
       "      <td>...</td>\n",
       "      <td>...</td>\n",
       "    </tr>\n",
       "    <tr>\n",
       "      <th>4032886</th>\n",
       "      <td>290325.28</td>\n",
       "      <td>1</td>\n",
       "    </tr>\n",
       "    <tr>\n",
       "      <th>4052768</th>\n",
       "      <td>359433.22</td>\n",
       "      <td>1</td>\n",
       "    </tr>\n",
       "    <tr>\n",
       "      <th>4070183</th>\n",
       "      <td>479295.91</td>\n",
       "      <td>1</td>\n",
       "    </tr>\n",
       "    <tr>\n",
       "      <th>4192109</th>\n",
       "      <td>207732.50</td>\n",
       "      <td>1</td>\n",
       "    </tr>\n",
       "    <tr>\n",
       "      <th>4216218</th>\n",
       "      <td>592222.50</td>\n",
       "      <td>1</td>\n",
       "    </tr>\n",
       "  </tbody>\n",
       "</table>\n",
       "<p>67 rows × 2 columns</p>\n",
       "</div>"
      ],
      "text/plain": [
       "         errors_mae  label\n",
       "5982     3971518.00      1\n",
       "51574     242973.38      1\n",
       "55611     467517.22      1\n",
       "115226    662248.00      1\n",
       "115972   1239710.38      1\n",
       "...             ...    ...\n",
       "4032886   290325.28      1\n",
       "4052768   359433.22      1\n",
       "4070183   479295.91      1\n",
       "4192109   207732.50      1\n",
       "4216218   592222.50      1\n",
       "\n",
       "[67 rows x 2 columns]"
      ]
     },
     "execution_count": 45,
     "metadata": {},
     "output_type": "execute_result"
    }
   ],
   "source": [
    "# Create a new dataframe of the reconstruction error of the suspicious samples\n",
    "df_suspicious_reconstructed = df_errors[df_errors.label == 1]\n",
    "df_suspicious_reconstructed"
   ]
  },
  {
   "cell_type": "code",
   "execution_count": 46,
   "metadata": {},
   "outputs": [
    {
     "data": {
      "text/html": [
       "<div>\n",
       "<style scoped>\n",
       "    .dataframe tbody tr th:only-of-type {\n",
       "        vertical-align: middle;\n",
       "    }\n",
       "\n",
       "    .dataframe tbody tr th {\n",
       "        vertical-align: top;\n",
       "    }\n",
       "\n",
       "    .dataframe thead th {\n",
       "        text-align: right;\n",
       "    }\n",
       "</style>\n",
       "<table border=\"1\" class=\"dataframe\">\n",
       "  <thead>\n",
       "    <tr style=\"text-align: right;\">\n",
       "      <th></th>\n",
       "      <th>errors_mae</th>\n",
       "      <th>label</th>\n",
       "    </tr>\n",
       "  </thead>\n",
       "  <tbody>\n",
       "    <tr>\n",
       "      <th>count</th>\n",
       "      <td>67.00</td>\n",
       "      <td>67.00</td>\n",
       "    </tr>\n",
       "    <tr>\n",
       "      <th>mean</th>\n",
       "      <td>8049012.50</td>\n",
       "      <td>1.00</td>\n",
       "    </tr>\n",
       "    <tr>\n",
       "      <th>std</th>\n",
       "      <td>37969652.00</td>\n",
       "      <td>0.00</td>\n",
       "    </tr>\n",
       "    <tr>\n",
       "      <th>min</th>\n",
       "      <td>207732.50</td>\n",
       "      <td>1.00</td>\n",
       "    </tr>\n",
       "    <tr>\n",
       "      <th>25%</th>\n",
       "      <td>372843.50</td>\n",
       "      <td>1.00</td>\n",
       "    </tr>\n",
       "    <tr>\n",
       "      <th>50%</th>\n",
       "      <td>662248.00</td>\n",
       "      <td>1.00</td>\n",
       "    </tr>\n",
       "    <tr>\n",
       "      <th>75%</th>\n",
       "      <td>1252358.12</td>\n",
       "      <td>1.00</td>\n",
       "    </tr>\n",
       "    <tr>\n",
       "      <th>max</th>\n",
       "      <td>268924736.00</td>\n",
       "      <td>1.00</td>\n",
       "    </tr>\n",
       "  </tbody>\n",
       "</table>\n",
       "</div>"
      ],
      "text/plain": [
       "        errors_mae  label\n",
       "count        67.00  67.00\n",
       "mean    8049012.50   1.00\n",
       "std    37969652.00   0.00\n",
       "min      207732.50   1.00\n",
       "25%      372843.50   1.00\n",
       "50%      662248.00   1.00\n",
       "75%     1252358.12   1.00\n",
       "max   268924736.00   1.00"
      ]
     },
     "execution_count": 46,
     "metadata": {},
     "output_type": "execute_result"
    }
   ],
   "source": [
    "# Describe the suspicious data\n",
    "df_suspicious_reconstructed.describe()"
   ]
  },
  {
   "cell_type": "code",
   "execution_count": 47,
   "metadata": {},
   "outputs": [
    {
     "data": {
      "text/html": [
       "<div>\n",
       "<style scoped>\n",
       "    .dataframe tbody tr th:only-of-type {\n",
       "        vertical-align: middle;\n",
       "    }\n",
       "\n",
       "    .dataframe tbody tr th {\n",
       "        vertical-align: top;\n",
       "    }\n",
       "\n",
       "    .dataframe thead th {\n",
       "        text-align: right;\n",
       "    }\n",
       "</style>\n",
       "<table border=\"1\" class=\"dataframe\">\n",
       "  <thead>\n",
       "    <tr style=\"text-align: right;\">\n",
       "      <th></th>\n",
       "      <th>errors_mae</th>\n",
       "      <th>label</th>\n",
       "    </tr>\n",
       "  </thead>\n",
       "  <tbody>\n",
       "    <tr>\n",
       "      <th>count</th>\n",
       "      <td>207541.00</td>\n",
       "      <td>207541.00</td>\n",
       "    </tr>\n",
       "    <tr>\n",
       "      <th>mean</th>\n",
       "      <td>54963.24</td>\n",
       "      <td>0.00</td>\n",
       "    </tr>\n",
       "    <tr>\n",
       "      <th>std</th>\n",
       "      <td>2345637.25</td>\n",
       "      <td>0.00</td>\n",
       "    </tr>\n",
       "    <tr>\n",
       "      <th>min</th>\n",
       "      <td>4.14</td>\n",
       "      <td>0.00</td>\n",
       "    </tr>\n",
       "    <tr>\n",
       "      <th>25%</th>\n",
       "      <td>13.43</td>\n",
       "      <td>0.00</td>\n",
       "    </tr>\n",
       "    <tr>\n",
       "      <th>50%</th>\n",
       "      <td>23.15</td>\n",
       "      <td>0.00</td>\n",
       "    </tr>\n",
       "    <tr>\n",
       "      <th>75%</th>\n",
       "      <td>217.58</td>\n",
       "      <td>0.00</td>\n",
       "    </tr>\n",
       "    <tr>\n",
       "      <th>max</th>\n",
       "      <td>334820192.00</td>\n",
       "      <td>0.00</td>\n",
       "    </tr>\n",
       "  </tbody>\n",
       "</table>\n",
       "</div>"
      ],
      "text/plain": [
       "        errors_mae     label\n",
       "count    207541.00 207541.00\n",
       "mean      54963.24      0.00\n",
       "std     2345637.25      0.00\n",
       "min           4.14      0.00\n",
       "25%          13.43      0.00\n",
       "50%          23.15      0.00\n",
       "75%         217.58      0.00\n",
       "max   334820192.00      0.00"
      ]
     },
     "execution_count": 47,
     "metadata": {},
     "output_type": "execute_result"
    }
   ],
   "source": [
    "# Get the statistics on the normal reconstructed data\n",
    "df_normal_reconstructed.describe()"
   ]
  },
  {
   "cell_type": "code",
   "execution_count": 48,
   "metadata": {},
   "outputs": [],
   "source": [
    "# We can see clearly from above, the reconstruction errors for the suspicious traffic is \n",
    "# significantly higher when compared to the normal traffic"
   ]
  },
  {
   "cell_type": "code",
   "execution_count": 49,
   "metadata": {},
   "outputs": [
    {
     "data": {
      "text/plain": [
       "(array([47], dtype=int64), array([0], dtype=int64))"
      ]
     },
     "execution_count": 49,
     "metadata": {},
     "output_type": "execute_result"
    }
   ],
   "source": [
    "# Find the index location of that record where the highest value exists in the suspicious dataframe\n",
    "np.where(df_suspicious_reconstructed.values == df_suspicious_reconstructed.values.max())"
   ]
  },
  {
   "cell_type": "code",
   "execution_count": 50,
   "metadata": {},
   "outputs": [
    {
     "data": {
      "text/plain": [
       "array([0.00000919, 3.2633049 , 0.00001486, 0.00003641, 0.00000468,\n",
       "       0.00005425, 0.00004846])"
      ]
     },
     "execution_count": 50,
     "metadata": {},
     "output_type": "execute_result"
    }
   ],
   "source": [
    "# Get the value of the record at that index position\n",
    "df_suspicious[47]"
   ]
  },
  {
   "cell_type": "code",
   "execution_count": 51,
   "metadata": {},
   "outputs": [
    {
     "data": {
      "text/plain": [
       "array([[3.06014000e-01, 1.88241286e+09, 3.11830000e+04, 1.00000000e+01,\n",
       "        1.05500000e+03, 3.10000000e+01, 2.80510000e+04]])"
      ]
     },
     "execution_count": 51,
     "metadata": {},
     "output_type": "execute_result"
    }
   ],
   "source": [
    "# Keep in mind though, above represents the previous scaled data\n",
    "# Inverting the scaling process\n",
    "min_max_scaler.inverse_transform(df_suspicious[47].reshape(1, -1))"
   ]
  },
  {
   "cell_type": "code",
   "execution_count": 52,
   "metadata": {},
   "outputs": [
    {
     "data": {
      "image/png": "[encoded data removed]",
      "text/plain": [
       "<Figure size 1000x500 with 2 Axes>"
      ]
     },
     "metadata": {},
     "output_type": "display_data"
    }
   ],
   "source": [
    "# Plot histograms of the normal and suspicious reconstruction error\n",
    "fig, ax = plt.subplots(ncols=2, nrows=1, figsize=(10,5))\n",
    "\n",
    "plt.suptitle('Reconstruction error of \\n normal vs suspicious samples on the full dataset')\n",
    "ax[0].hist(df_normal_reconstructed, bins=10)\n",
    "ax[0].set_title('Normal Reconstruction Error')\n",
    "ax[0].set_xlabel('Range of Values')\n",
    "ax[0].set_ylabel('Number of items in the bin')\n",
    "\n",
    "ax[1].hist(df_suspicious_reconstructed, bins=10)\n",
    "ax[1].set_title('Suspicious Reconstruction Error')\n",
    "ax[1].set_xlabel('Range of Values')\n",
    "ax[1].set_ylabel('Number of items in the bin')\n",
    "plt.tight_layout()\n",
    "\n",
    "plt.show()"
   ]
  },
  {
   "cell_type": "code",
   "execution_count": 53,
   "metadata": {},
   "outputs": [
    {
     "data": {
      "text/plain": [
       "2400600.5"
      ]
     },
     "execution_count": 53,
     "metadata": {},
     "output_type": "execute_result"
    }
   ],
   "source": [
    "# Defining a reconstruction error threshold that can help us discriminate between normal and suspicious activity\n",
    "# Keep in mind, your domain knowledge comes heavily into play here.\n",
    "# Set the threshold too low and you get a number of false positives\n",
    "# Set the threshold too high and you get false negatives\n",
    "# This is a game of give and take. \n",
    "# What are you willing to give and what are you willing to take?\n",
    "# My recommendation,be ready to accept false positives rather than false negatives\n",
    "# Mine is set to one standard deviation above the mean\n",
    "threshold = df_normal_reconstructed.errors_mae.mean() + df_normal_reconstructed.errors_mae.std()\n",
    "threshold"
   ]
  },
  {
   "cell_type": "code",
   "execution_count": 54,
   "metadata": {},
   "outputs": [
    {
     "name": "stdout",
     "output_type": "stream",
     "text": [
      "6488/6488 [==============================] - 11s 2ms/step\n"
     ]
    },
    {
     "data": {
      "text/plain": [
       "<tf.Tensor: shape=(207608,), dtype=bool, numpy=array([ True,  True,  True, ...,  True,  True,  True])>"
      ]
     },
     "execution_count": 54,
     "metadata": {},
     "output_type": "execute_result"
    }
   ],
   "source": [
    "# We've done a lot so far. But how is the model performing\n",
    "\n",
    "# Get the reconstruction error of the entire dataset\n",
    "reconstruction_error = autoencoder.predict(df_conn.drop(columns=['label'], inplace=False))\n",
    "\n",
    "# Get the loss\n",
    "reconstruction_loss = tf.keras.losses.mae(y_true=df_conn.drop(columns=['label'], inplace=False), \\\n",
    "                                          y_pred=reconstruction_error )\n",
    "\n",
    "# Calculate if the values in our reconstruction loss is less than our threshold\n",
    "# https://www.tensorflow.org/api_docs/python/tf/math/less\n",
    "loss_less_threshold = tf.math.less(x=reconstruction_loss, y=threshold, name='loss_less_threshold')\n",
    "loss_less_threshold"
   ]
  },
  {
   "cell_type": "code",
   "execution_count": 55,
   "metadata": {},
   "outputs": [
    {
     "data": {
      "text/plain": [
       "((207608, 7),\n",
       " (207541,),\n",
       " array([ True,  True,  True, ...,  True,  True,  True]))"
      ]
     },
     "execution_count": 55,
     "metadata": {},
     "output_type": "execute_result"
    }
   ],
   "source": [
    "# Get the shape of the two arrays\n",
    "df_conn.drop(columns=['label'], inplace=False).shape, df_normal_labels.shape, loss_less_threshold.numpy()"
   ]
  },
  {
   "cell_type": "code",
   "execution_count": 56,
   "metadata": {},
   "outputs": [],
   "source": [
    "# How did our model do for training\n",
    "# import some metrics\n",
    "from sklearn.metrics import accuracy_score, precision_score, confusion_matrix, \\\n",
    "    precision_recall_curve, auc, classification_report, roc_curve"
   ]
  },
  {
   "cell_type": "code",
   "execution_count": 57,
   "metadata": {},
   "outputs": [
    {
     "data": {
      "text/plain": [
       "0.0007706832106662557"
      ]
     },
     "execution_count": 57,
     "metadata": {},
     "output_type": "execute_result"
    }
   ],
   "source": [
    "# Get the accuracy score. \n",
    "# Keep in mind, the problem we are solving here is not a classification problem\n",
    "# Note these values are terrible. However, this is of little to no concern to me at this time\n",
    "# Why? Because this is for learning purpose, not prediction\n",
    "# Besides, \"All models are wrong, some are useful\"\n",
    "# https://en.wikipedia.org/wiki/All_models_are_wrong\n",
    "# Maybe along the way we will find an algorithm that allows us to build a useful model\n",
    "accuracy_score(y_true=df_errors.label, y_pred=loss_less_threshold)"
   ]
  },
  {
   "cell_type": "code",
   "execution_count": 58,
   "metadata": {},
   "outputs": [
    {
     "data": {
      "text/plain": [
       "0.9827176748460491"
      ]
     },
     "execution_count": 58,
     "metadata": {},
     "output_type": "execute_result"
    }
   ],
   "source": [
    "# Get the True and false positive rate along with the threshold\n",
    "# https://venelinvalkov.medium.com/credit-card-fraud-detection-using-autoencoders-in-keras-tensorflow-for-hackers-part-vii-20e0c85301bd\n",
    "false_positive_rate, true_positive_rate, thresholds =  roc_curve(y_true=df_errors.label, \n",
    "                                                                 y_score=df_errors.errors_mae)\n",
    "\n",
    "# Get the Area Under the Curve (AUC) Score\n",
    "auc(false_positive_rate, true_positive_rate)"
   ]
  },
  {
   "cell_type": "code",
   "execution_count": 59,
   "metadata": {},
   "outputs": [
    {
     "data": {
      "image/png": "[encoded data removed]",
      "text/plain": [
       "<Figure size 640x480 with 1 Axes>"
      ]
     },
     "metadata": {},
     "output_type": "display_data"
    }
   ],
   "source": [
    "# Plot the Receiver Operating Characteristics (ROC) Curve\n",
    "# Ths shows the true vs false positive rate across different thresholds values\n",
    "# This curve does look good as it is further to the top left. \n",
    "# This is actually the type of ROC curve you want to see\n",
    "# Keep in mind this is \"mostly\" used with binary classification. \n",
    "# This is not a binary classification problem but the ROC is being used to understand our model, not to \"classify\" the data\n",
    "# https://www.displayr.com/what-is-a-roc-curve-how-to-interpret-it/\n",
    "plt.title('Receiver Operating Characteristics (ROC) Curve')\n",
    "plt.plot(false_positive_rate, true_positive_rate, lw=3, label=f'AUC {round(auc(false_positive_rate, true_positive_rate), 2)}', c='g')\n",
    "plt.plot([0,1], ls='--', c='r')\n",
    "plt.ylabel('True Positive Rate (sensitivity)')\n",
    "plt.xlabel('False Positive Rate (specificity)')\n",
    "plt.legend(loc='best')\n",
    "plt.show()"
   ]
  },
  {
   "cell_type": "code",
   "execution_count": 60,
   "metadata": {},
   "outputs": [
    {
     "data": {
      "text/plain": [
       "<matplotlib.legend.Legend at 0x161a6d8ffa0>"
      ]
     },
     "execution_count": 60,
     "metadata": {},
     "output_type": "execute_result"
    },
    {
     "data": {
      "image/png": "[encoded data removed]",
      "text/plain": [
       "<Figure size 640x480 with 1 Axes>"
      ]
     },
     "metadata": {},
     "output_type": "display_data"
    }
   ],
   "source": [
    "# Plot a precision recall curve\n",
    "precison, recall, thresh = precision_recall_curve(df_errors.label, df_errors.errors_mae)\n",
    "plt.title('Plot of Precision vs Recall')\n",
    "plt.plot(recall, precison, 'b', lw=3, label='precision recall')\n",
    "plt.xlabel('recall')\n",
    "plt.ylabel('precision')\n",
    "plt.legend()"
   ]
  },
  {
   "cell_type": "code",
   "execution_count": 61,
   "metadata": {},
   "outputs": [
    {
     "data": {
      "text/plain": [
       "Text(0, 0.5, 'Precision')"
      ]
     },
     "execution_count": 61,
     "metadata": {},
     "output_type": "execute_result"
    },
    {
     "data": {
      "image/png": "[encoded data removed]",
      "text/plain": [
       "<Figure size 640x480 with 1 Axes>"
      ]
     },
     "metadata": {},
     "output_type": "display_data"
    }
   ],
   "source": [
    "# Plot the precision vs thresholds\n",
    "# Looks like once the reconstruction error goes to over \n",
    "plt.title('Precision vs Threshold')\n",
    "plt.plot(thresh, precison[1:], lw=3, label='precision vs threshold')\n",
    "plt.xlabel('Threshold - Reconstruction Error')\n",
    "plt.ylabel('Precision')"
   ]
  },
  {
   "cell_type": "code",
   "execution_count": 62,
   "metadata": {},
   "outputs": [
    {
     "data": {
      "text/html": [
       "<div>\n",
       "<style scoped>\n",
       "    .dataframe tbody tr th:only-of-type {\n",
       "        vertical-align: middle;\n",
       "    }\n",
       "\n",
       "    .dataframe tbody tr th {\n",
       "        vertical-align: top;\n",
       "    }\n",
       "\n",
       "    .dataframe thead th {\n",
       "        text-align: right;\n",
       "    }\n",
       "</style>\n",
       "<table border=\"1\" class=\"dataframe\">\n",
       "  <thead>\n",
       "    <tr style=\"text-align: right;\">\n",
       "      <th></th>\n",
       "      <th>errors_mae</th>\n",
       "      <th>label</th>\n",
       "    </tr>\n",
       "  </thead>\n",
       "  <tbody>\n",
       "    <tr>\n",
       "      <th>3593245</th>\n",
       "      <td>300095040.00</td>\n",
       "      <td>0</td>\n",
       "    </tr>\n",
       "    <tr>\n",
       "      <th>3593400</th>\n",
       "      <td>334820192.00</td>\n",
       "      <td>0</td>\n",
       "    </tr>\n",
       "  </tbody>\n",
       "</table>\n",
       "</div>"
      ],
      "text/plain": [
       "          errors_mae  label\n",
       "3593245 300095040.00      0\n",
       "3593400 334820192.00      0"
      ]
     },
     "execution_count": 62,
     "metadata": {},
     "output_type": "execute_result"
    }
   ],
   "source": [
    "# As the reconstruction error goes over 3e8, then is when the precision is the highest\n",
    "# Finding those records where the reconstruction error is greater than 3e8 or 300000000.0\n",
    "df_errors[df_errors.errors_mae > 3e8]"
   ]
  },
  {
   "cell_type": "code",
   "execution_count": 63,
   "metadata": {},
   "outputs": [
    {
     "data": {
      "text/plain": [
       "Text(0, 0.5, 'Recall')"
      ]
     },
     "execution_count": 63,
     "metadata": {},
     "output_type": "execute_result"
    },
    {
     "data": {
      "image/png": "[encoded data removed]",
      "text/plain": [
       "<Figure size 640x480 with 1 Axes>"
      ]
     },
     "metadata": {},
     "output_type": "display_data"
    }
   ],
   "source": [
    "# only two records :-(\n",
    "\n",
    "# Plot the recall vs thresholds\n",
    "# Looks like once the reconstruction error goes to over \n",
    "plt.title('Recall vs Threshold')\n",
    "plt.plot(thresh, recall[1:], lw=3, label='Recall vs threshold')\n",
    "plt.xlabel('Threshold - Reconstruction Error')\n",
    "plt.ylabel('Recall')"
   ]
  },
  {
   "cell_type": "code",
   "execution_count": 64,
   "metadata": {},
   "outputs": [],
   "source": [
    "# As the threshold increases, the recall becomes lower. \n",
    "# This is obviously the opposite of what was seen above with the precision vs threshold"
   ]
  },
  {
   "cell_type": "code",
   "execution_count": 65,
   "metadata": {},
   "outputs": [
    {
     "data": {
      "text/plain": [
       "0.0002698886227487192"
      ]
     },
     "execution_count": 65,
     "metadata": {},
     "output_type": "execute_result"
    }
   ],
   "source": [
    "# Get the precision\n",
    "precision_score(y_true=df_errors.label, y_pred=loss_less_threshold)"
   ]
  },
  {
   "cell_type": "code",
   "execution_count": 66,
   "metadata": {},
   "outputs": [],
   "source": [
    "# import seaborn\n",
    "# https://seaborn.pydata.org/generated/seaborn.heatmap.html\n",
    "import seaborn as sns"
   ]
  },
  {
   "cell_type": "code",
   "execution_count": 67,
   "metadata": {},
   "outputs": [
    {
     "data": {
      "image/png": "[encoded data removed]",
      "text/plain": [
       "<Figure size 640x480 with 2 Axes>"
      ]
     },
     "metadata": {},
     "output_type": "display_data"
    }
   ],
   "source": [
    "# Looking at the confusion matrix, clearly this model has way too much false positives\n",
    "# Maybe we can do a better job at setting a different threshold\n",
    "# However, as said above, we are here for learning purposes\n",
    "# Most importantly, we are not attempting to solve a classification problem\n",
    "# Neither are we looking to put this model in production\n",
    "# This is being used for anomaly detection\n",
    "# Thus the confusion matrix is just to give us insights into what our threshold looks like at present\n",
    "sns.heatmap(confusion_matrix(y_true=df_errors.label, y_pred=loss_less_threshold), annot=True, fmt='d')\n",
    "plt.title('Confusion Matrix')\n",
    "plt.xlabel('Predicted')\n",
    "plt.ylabel('Actual')\n",
    "plt.show()"
   ]
  },
  {
   "cell_type": "code",
   "execution_count": 68,
   "metadata": {},
   "outputs": [
    {
     "name": "stdout",
     "output_type": "stream",
     "text": [
      "              precision    recall  f1-score   support\n",
      "\n",
      "           0       0.90      0.00      0.00    207541\n",
      "           1       0.00      0.84      0.00        67\n",
      "\n",
      "    accuracy                           0.00    207608\n",
      "   macro avg       0.45      0.42      0.00    207608\n",
      "weighted avg       0.90      0.00      0.00    207608\n",
      "\n"
     ]
    }
   ],
   "source": [
    "# Imagine working in a SOC and you have to deal with all these false positives. \n",
    "# My gosh, this would make our job so much harder.\n",
    "\n",
    "# If you wish to understand these metrics more, see\n",
    "#   10. Beginning Supervise Learning - Machine Learning - Logistic Regression, Decision Trees and Metrics\n",
    "\n",
    "# Thankfully this is not a classification problem we are trying to solve. \n",
    "# If it was, these outputs are really ... well want for a better word ... terrible\n",
    "print(classification_report(y_true=df_errors.label, y_pred=loss_less_threshold))"
   ]
  },
  {
   "cell_type": "code",
   "execution_count": 69,
   "metadata": {},
   "outputs": [
    {
     "data": {
      "text/plain": [
       "array([[1.41000000e+02, 3.56138566e+08, 1.10370900e+07, 6.00000000e+01,\n",
       "        3.02667900e+06, 3.30000000e+01, 9.82584000e+05]])"
      ]
     },
     "execution_count": 69,
     "metadata": {},
     "output_type": "execute_result"
    }
   ],
   "source": [
    "# With the threshold define, let's say a record comes in with the following values\n",
    "# Let's define a sample with the features values: \n",
    "# duration\torig_bytes\tresp_bytes\torig_pkts\torig_ip_bytes\tresp_pkts\tresp_ip_bytes\n",
    "new_sample = np.array([141., 356138566,\t11037090, 60, 3026679, 33, 982584], dtype=float, ndmin=2)\n",
    "new_sample"
   ]
  },
  {
   "cell_type": "code",
   "execution_count": 70,
   "metadata": {},
   "outputs": [
    {
     "name": "stdout",
     "output_type": "stream",
     "text": [
      "1/1 [==============================] - 0s 96ms/step\n"
     ]
    },
    {
     "data": {
      "text/plain": [
       "array([53026452.], dtype=float32)"
      ]
     },
     "execution_count": 70,
     "metadata": {},
     "output_type": "execute_result"
    }
   ],
   "source": [
    "# Make a prediction on the sample\n",
    "# Remember, we need to pass the data through the similar process we did for training\n",
    "# Hence, this data is being transformed\n",
    "new_prediction = tf.keras.losses.mae(y_true=new_sample, \n",
    "                                     y_pred=autoencoder.predict(min_max_scaler.transform(new_sample))).numpy()\n",
    "new_prediction"
   ]
  },
  {
   "cell_type": "code",
   "execution_count": 71,
   "metadata": {},
   "outputs": [],
   "source": [
    "# Import datetime library\n",
    "from datetime import datetime"
   ]
  },
  {
   "cell_type": "code",
   "execution_count": 72,
   "metadata": {},
   "outputs": [
    {
     "data": {
      "text/plain": [
       "'2023-05-28 16:57:03.270097 - [!] ALERT ** SUSPICIOUS ACTIVITY ** Zeek conn.log entry Threshold Exceeded'"
      ]
     },
     "execution_count": 72,
     "metadata": {},
     "output_type": "execute_result"
    }
   ],
   "source": [
    "# Write some code to trigger an alert when a sample's reconstruction error passes our threshold\n",
    "f'{datetime.now()} - [!] ALERT ** SUSPICIOUS ACTIVITY ** Zeek conn.log entry Threshold Exceeded' if \\\n",
    "    new_prediction > threshold  else \"[**] Normal Traffic\""
   ]
  },
  {
   "cell_type": "code",
   "execution_count": 73,
   "metadata": {},
   "outputs": [
    {
     "name": "stderr",
     "output_type": "stream",
     "text": [
      "WARNING:absl:Found untraced functions such as _update_step_xla while saving (showing 1 of 1). These functions will not be directly callable after loading.\n"
     ]
    },
    {
     "name": "stdout",
     "output_type": "stream",
     "text": [
      "INFO:tensorflow:Assets written to: ./SAVED_MODELS/TF_AUTOENCODER/tf_autoencoder.tf\\assets\n"
     ]
    },
    {
     "name": "stderr",
     "output_type": "stream",
     "text": [
      "INFO:tensorflow:Assets written to: ./SAVED_MODELS/TF_AUTOENCODER/tf_autoencoder.tf\\assets\n"
     ]
    }
   ],
   "source": [
    "# As always, before, we go, let's save the model\n",
    "# With the machine learning models, joblib was used\n",
    "# In this case, I leverage Keras built in utilities for saving models\n",
    "#   https://www.tensorflow.org/guide/keras/save_and_serialize\n",
    "tf.keras.models.save_model(model=autoencoder, filepath='./SAVED_MODELS/TF_AUTOENCODER/tf_autoencoder.tf', \\\n",
    "                           overwrite=True, save_format='tf')"
   ]
  },
  {
   "cell_type": "code",
   "execution_count": 74,
   "metadata": {},
   "outputs": [
    {
     "data": {
      "text/plain": [
       "<keras.saving.legacy.saved_model.load.AnomalyDetection at 0x161a6d64cd0>"
      ]
     },
     "execution_count": 74,
     "metadata": {},
     "output_type": "execute_result"
    }
   ],
   "source": [
    "# With the model saved, time to load it\n",
    "loaded_autoencoder = tf.keras.models.load_model(filepath='./SAVED_MODELS/TF_AUTOENCODER/tf_autoencoder.tf')\n",
    "loaded_autoencoder"
   ]
  },
  {
   "cell_type": "code",
   "execution_count": 75,
   "metadata": {},
   "outputs": [
    {
     "name": "stdout",
     "output_type": "stream",
     "text": [
      "1/1 [==============================] - 0s 162ms/step\n"
     ]
    },
    {
     "data": {
      "text/plain": [
       "'2023-05-28 16:57:17.993772 - [!] ALERT ** SUSPICIOUS ACTIVITY ** Zeek conn.log entry Threshold Exceeded'"
      ]
     },
     "execution_count": 75,
     "metadata": {},
     "output_type": "execute_result"
    }
   ],
   "source": [
    "# Make a prediction with the loaded model\n",
    "loaded_prediction_mae = tf.keras.losses.mae(y_true=new_sample, \n",
    "                                     y_pred=loaded_autoencoder.predict(min_max_scaler.transform(new_sample))).numpy()\n",
    "\n",
    "f'{datetime.now()} - [!] ALERT ** SUSPICIOUS ACTIVITY ** Zeek conn.log entry Threshold Exceeded' if loaded_prediction_mae > threshold  else \"[**] Normal Traffic\""
   ]
  },
  {
   "cell_type": "code",
   "execution_count": null,
   "metadata": {},
   "outputs": [],
   "source": []
  },
  {
   "cell_type": "code",
   "execution_count": 76,
   "metadata": {},
   "outputs": [],
   "source": [
    "# With everything done so far, let's go ahead and store our scaler.\n",
    "# Remember, all preprocessing done on training data, MUST be done on testing, validation or any future data\n",
    "# Import the library save the scaler\n",
    "import pickle"
   ]
  },
  {
   "cell_type": "code",
   "execution_count": 77,
   "metadata": {},
   "outputs": [],
   "source": [
    "# Dump the scaler to disk\n",
    "#   https://machinelearningmastery.com/how-to-save-and-load-models-and-data-preparation-in-scikit-learn-for-later-use/\n",
    "#   https://stackabuse.com/bytes/how-to-save-and-load-fit-scikit-learn-scalers/\n",
    "pickle.dump(obj=min_max_scaler, file=open('tf_min_max_scaler.pkl', mode='wb'))"
   ]
  },
  {
   "cell_type": "code",
   "execution_count": null,
   "metadata": {},
   "outputs": [],
   "source": []
  },
  {
   "attachments": {},
   "cell_type": "markdown",
   "metadata": {},
   "source": [
    "Additional References and good reads: <br>\n",
    "https://www.tensorflow.org/tutorials/generative/autoencoder <br>\n",
    "https://www.youtube.com/watch?v=2K3ScZp1dXQ <br>\n",
    "https://ieeexplore.ieee.org/stamp/stamp.jsp?tp=&arnumber=9684419 <br>\n",
    "https://www.mdpi.com/1424-8220/21/13/4294 <br>\n",
    "https://ieeexplore.ieee.org/document/9647639 <br>\n",
    "https://www.deeplearningbook.org/contents/autoencoders.html <br>\n",
    "https://web.stanford.edu/class/cs294a/sparseAutoencoder.pdf <br>\n",
    "https://www.youtube.com/watch?v=vfnxKO2rMq4 <br>\n",
    "https://www.youtube.com/watch?v=wqhZaWR-J94 <br>\n",
    "https://www.youtube.com/watch?v=q222maQaPYo <br>\n",
    "\n",
    "\n",
    "https://learnopencv.com/autoencoder-in-tensorflow-2-beginners-guide/ <br>\n",
    "https://anomagram.fastforwardlabs.com/#/ <br>\n",
    "https://www.mdpi.com/1424-8220/21/19/6679 <br>\n",
    "https://learnopencv.com/autoencoder-in-tensorflow-2-beginners-guide/ <br>\n",
    "https://citeseerx.ist.psu.edu/viewdoc/download?doi=10.1.1.459.3788&rep=rep1&type=pdf  <br>\n",
    "https://www.youtube.com/watch?v=FzS3tMl4Nsc <br>\n",
    "https://www.youtube.com/watch?v=xTU79Zs4XKY <br>\n",
    "\n",
    "\n"
   ]
  }
 ],
 "metadata": {
  "kernelspec": {
   "display_name": "main-env",
   "language": "python",
   "name": "python3"
  },
  "language_info": {
   "codemirror_mode": {
    "name": "ipython",
    "version": 3
   },
   "file_extension": ".py",
   "mimetype": "text/x-python",
   "name": "python",
   "nbconvert_exporter": "python",
   "pygments_lexer": "ipython3",
   "version": "3.10.11"
  },
  "orig_nbformat": 4,
  "vscode": {
   "interpreter": {
    "hash": "dcb100998b7ef434a33dbfac35f576e40d01f04c34d9ff6f6aad819b8a88c169"
   }
  }
 },
 "nbformat": 4,
 "nbformat_minor": 2
}
