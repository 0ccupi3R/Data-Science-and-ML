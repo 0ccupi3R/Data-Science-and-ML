{
 "cells": [
  {
   "attachments": {},
   "cell_type": "markdown",
   "metadata": {},
   "source": [
    "Author: Nik Alleyne\n",
    "Author Blog: www.securitynik.com\n",
    "\n",
    "\n",
    "References:\n",
    "https://rubikscode.net/2021/06/28/ml-optimization-pt-1-gradient-descent-with-python/\n",
    "https://rubikscode.net/2020/07/20/back-to-machine-learning-basics-linear-regression-with-python-scikit-learn-tensorflow-and-pytorch/\n",
    "https://rubikscode.net/2020/10/12/back-to-machine-learning-basics-regularization/\n",
    "https://github.com/SecurityNik/Data-Science-and-ML/blob/main/Continuing%20Back%20Propagation%20-%20Gradient%20Descent%20-%20Tf%20GradientTape%20and%20PyTorch.ipynb\n",
    "https://www.cl.cam.ac.uk/teaching/1819/DataSciII/lecture2.pdf\n",
    "https://www.statology.org/scatterplot-with-regression-line-python/\n",
    "\n",
    "\n",
    "Why the model may diverge\n",
    "https://stackoverflow.com/questions/40050397/deep-learning-nan-loss-reasons\n",
    "https://stackoverflow.com/questions/17628613/what-is-inf-and-nan"
   ]
  },
  {
   "cell_type": "code",
   "execution_count": 31,
   "metadata": {},
   "outputs": [],
   "source": [
    "# Import libraries\n",
    "import pandas as pd\n",
    "import numpy as np\n",
    "import matplotlib.pyplot as plt\n",
    "from sklearn.preprocessing import StandardScaler"
   ]
  },
  {
   "cell_type": "code",
   "execution_count": 32,
   "metadata": {},
   "outputs": [
    {
     "data": {
      "text/plain": [
       "(array([[2],\n",
       "        [3],\n",
       "        [4],\n",
       "        [5]]),\n",
       " array([5, 2, 1, 2]))"
      ]
     },
     "execution_count": 32,
     "metadata": {},
     "output_type": "execute_result"
    }
   ],
   "source": [
    "# Setup some fake data for simple linear regresion\n",
    "p = np.array([[2], [3], [4], [5]])\n",
    "q = np.array([5, 2, 1, 2])\n",
    "p, q"
   ]
  },
  {
   "cell_type": "code",
   "execution_count": 33,
   "metadata": {},
   "outputs": [],
   "source": [
    "# Stochastic Gradient Descent\n",
    "# This class works with either single variables or multiple variables\n",
    "class SimpleSGD:\n",
    "    def __init__(self):\n",
    "        ''' Setup the constructor '''\n",
    "        self.bias = 0.\n",
    "        self.weight = 0.\n",
    "        self.history = []\n",
    "\n",
    "    def fit(self, X, y, epochs=5, learning_rate=.001):\n",
    "        ''' Perform the training '''\n",
    "        n_samples = X.shape[0]\n",
    "\n",
    "        # If it is only one feature, then reshape it so each sample falls \n",
    "        # in a separate vector, rather than the entire sample space being \n",
    "        # one big vector\n",
    "        if len(X.shape) == 1:\n",
    "            X = X.reshape(-1,1 )\n",
    "\n",
    "        for epoch in range(epochs):\n",
    "            # Tracking the overall cost \n",
    "            cost = 0\n",
    "            for i in range(n_samples):\n",
    "                #Use the next 3 lines if you wish to randomly choose a sample\n",
    "                #index = np.random.randint(low=0, high=n_samples)\n",
    "                #xi =X[index, :]\n",
    "                #yi = y[index]\n",
    "\n",
    "                # I choose this code beacause I wanted to validate with Tensorflow\n",
    "                xi =X[i, :]\n",
    "                yi = y[i]\n",
    "\n",
    "                # Make a prediction\n",
    "                y_pred = np.dot(self.weight, xi) + self.bias\n",
    "\n",
    "                # Compute the loss using the squared error on each sample's prediction\n",
    "                loss = (yi - y_pred)**2\n",
    "                cost += loss\n",
    "                \n",
    "                # Find the partial derivatives of loss with respect to the weight and bias\n",
    "                dl_dw = 2*(y_pred -yi) * xi\n",
    "                dl_db = 2*(y_pred -yi)\n",
    "\n",
    "                # Update the weigt and bias\n",
    "                self.weight = self.weight - (learning_rate * dl_dw)\n",
    "                self.bias = self.bias - (learning_rate * dl_db)\n",
    "            \n",
    "            # Print epoch at every 100 epochs\n",
    "            if epoch %20 == 0:\n",
    "                print(f'Epoch: {epoch}, cost: {cost}')\n",
    "\n",
    "            #print(f'This is your bias: {self.bias}')\n",
    "                \n",
    "            cost /= n_samples\n",
    "            self.history.append(cost)\n",
    "\n",
    "        # When I tested with multiple variables, I noticed I was returning a \n",
    "        # vector of biases, one for each feature. This is wrong, there should be only 1 bias.\n",
    "        # As a result, I'm going to cheat and just return the first entry in the weight vector\n",
    "        # If you spot my error, please let me know\n",
    "        return self.weight, self.bias[0]\n",
    "\n",
    "    def predict(self, X):\n",
    "        ''' Make a prediction '''\n",
    "        return np.dot(X, self.weight) + self.bias\n"
   ]
  },
  {
   "cell_type": "code",
   "execution_count": 34,
   "metadata": {},
   "outputs": [
    {
     "name": "stdout",
     "output_type": "stream",
     "text": [
      "Epoch: 0, cost: [32.67591162]\n"
     ]
    },
    {
     "data": {
      "text/plain": [
       "(array([0.22489613]), 0.0808132785931794)"
      ]
     },
     "execution_count": 34,
     "metadata": {},
     "output_type": "execute_result"
    }
   ],
   "source": [
    "# Instantiate the model and train it on my simple one feature toy data\n",
    "sgd = SimpleSGD()\n",
    "sgd.fit(p, q, epochs=5, learning_rate=0.001)"
   ]
  },
  {
   "cell_type": "code",
   "execution_count": 35,
   "metadata": {},
   "outputs": [
    {
     "data": {
      "text/plain": [
       "array([2.32977462])"
      ]
     },
     "execution_count": 35,
     "metadata": {},
     "output_type": "execute_result"
    }
   ],
   "source": [
    "# Make a prediction using my algorithm\n",
    "# This will be compared to Tensorflow\n",
    "sgd.predict([10.])"
   ]
  },
  {
   "cell_type": "code",
   "execution_count": 36,
   "metadata": {},
   "outputs": [],
   "source": [
    "# Import Tensorflow library to validate this activity\n",
    "import tensorflow as tf"
   ]
  },
  {
   "cell_type": "code",
   "execution_count": 37,
   "metadata": {},
   "outputs": [
    {
     "data": {
      "text/plain": [
       "[array([[0.22489616]], dtype=float32), array([0.08081328], dtype=float32)]"
      ]
     },
     "execution_count": 37,
     "metadata": {},
     "output_type": "execute_result"
    }
   ],
   "source": [
    "# Verify above with Tensorflow\n",
    "# Build the linear model using Tensorflow\n",
    "# Initialize the weights and bias to 0\n",
    "model = tf.keras.Sequential(name='SimpleSGD_Validation')\n",
    "model.add(tf.keras.layers.Dense(units=1, activation='linear', input_shape=(1,), use_bias=True, bias_initializer=tf.zeros_initializer, kernel_initializer=tf.zeros_initializer, name='SimpleSGD_Input'))\n",
    "model.compile(optimizer=tf.keras.optimizers.SGD(learning_rate=0.001), loss='mse')\n",
    "\n",
    "# Remove the comment from the next line if you wish to see the model summary\n",
    "#model.summary()\n",
    "\n",
    "# Fit the model on 5 epochs, set the batch size to 1 and turn off shuffling.\n",
    "# By tunring off shufffling, this ensures that Tensorflow is sampling sequentially\n",
    "# This matches what I have in my own code and thus works to ensure I did the manual code correctly\n",
    "history = model.fit(x=p, y=q, epochs=5, batch_size=1, shuffle=False, verbose=0)\n",
    "\n",
    "# Get the weights and bias to confirm that the code above and calculations are correct\n",
    "# As can be seen below, the weight and bias matches almost perfectly with the one produced from the manual code\n",
    "# The 5 epochs with learning rate 0.001 matches\n",
    "model.get_weights()\n"
   ]
  },
  {
   "cell_type": "code",
   "execution_count": 38,
   "metadata": {},
   "outputs": [
    {
     "data": {
      "text/plain": [
       "array([[2.3297749]], dtype=float32)"
      ]
     },
     "execution_count": 38,
     "metadata": {},
     "output_type": "execute_result"
    }
   ],
   "source": [
    "# Make a prediction using Tensorflow, to confirm even further my solution works.\n",
    "model.predict([10.])"
   ]
  },
  {
   "cell_type": "code",
   "execution_count": 39,
   "metadata": {},
   "outputs": [
    {
     "data": {
      "text/plain": [
       "Text(0, 0.5, 'Loss')"
      ]
     },
     "execution_count": 39,
     "metadata": {},
     "output_type": "execute_result"
    },
    {
     "data": {
      "image/png": "[encoded data removed]",
      "text/plain": [
       "<Figure size 432x288 with 1 Axes>"
      ]
     },
     "metadata": {
      "needs_background": "light"
     },
     "output_type": "display_data"
    }
   ],
   "source": [
    "# With confirmation from Tensorflow that the calculations are correct\n",
    "# Time to plot the loss\n",
    "# Keep in mind, if we use random samples, this curve will more than likely go up and down\n",
    "plt.title('Stochastic Gradient Descent')\n",
    "plt.plot(sgd.history, '--')\n",
    "plt.xlabel('Epochs')\n",
    "plt.ylabel('Loss')"
   ]
  },
  {
   "cell_type": "code",
   "execution_count": 40,
   "metadata": {},
   "outputs": [
    {
     "data": {
      "text/plain": [
       "array([[2.09867954e-02, 3.10000000e+01, 1.75000000e+02, 1.00000000e+00,\n",
       "        5.90000000e+01, 1.00000000e+00],\n",
       "       [5.90992050e+01, 2.74840000e+04, 0.00000000e+00, 2.00000000e+01,\n",
       "        2.80440000e+04, 0.00000000e+00],\n",
       "       [5.88893890e-05, 5.45600000e+03, 0.00000000e+00, 4.00000000e+00,\n",
       "        5.56800000e+03, 0.00000000e+00],\n",
       "       ...,\n",
       "       [1.71661377e-05, 0.00000000e+00, 0.00000000e+00, 1.00000000e+00,\n",
       "        5.20000000e+01, 1.00000000e+00],\n",
       "       [1.13511086e-02, 3.00000000e+01, 1.23000000e+02, 1.00000000e+00,\n",
       "        5.80000000e+01, 1.00000000e+00],\n",
       "       [1.87020302e-02, 3.00000000e+01, 1.23000000e+02, 1.00000000e+00,\n",
       "        5.80000000e+01, 1.00000000e+00]])"
      ]
     },
     "execution_count": 40,
     "metadata": {},
     "output_type": "execute_result"
    }
   ],
   "source": [
    "# Test this against a realworld dataset\n",
    "df = pd.read_csv(filepath_or_buffer=r'C:\\ML\\conn.log', header=None)\n",
    "df = df.dropna()\n",
    "\n",
    "# Split the data into X and labels\n",
    "X_data = df.values[:, :-1]\n",
    "y_labels = df.values[:, -1]\n",
    "\n",
    "# Scale the data. Gradient descent works best with scaled values\n",
    "scaler = StandardScaler()\n",
    "x_scaled = scaler.fit_transform(X_data)\n",
    "X_data"
   ]
  },
  {
   "cell_type": "code",
   "execution_count": 41,
   "metadata": {},
   "outputs": [
    {
     "name": "stdout",
     "output_type": "stream",
     "text": [
      "Epoch: 0, cost: [1.33702442e+20 1.33702442e+20 1.33702442e+20 1.33702442e+20\n",
      " 1.33702442e+20 1.33702442e+20]\n"
     ]
    },
    {
     "data": {
      "text/plain": [
       "(array([-3.58573715e+14,  6.28690323e+13,  4.15609820e+14, -5.96739239e+14,\n",
       "        -3.62878508e+13, -5.86717219e+14]),\n",
       " -35250135846698.93)"
      ]
     },
     "execution_count": 41,
     "metadata": {},
     "output_type": "execute_result"
    }
   ],
   "source": [
    "# Instantitate the class\n",
    "sgd = SimpleSGD()\n",
    "sgd.fit(x_scaled, y_labels, epochs=5, learning_rate=0.001)\n"
   ]
  },
  {
   "cell_type": "code",
   "execution_count": 42,
   "metadata": {},
   "outputs": [
    {
     "data": {
      "text/plain": [
       "[array([[-3.5857773e+14],\n",
       "        [ 6.2869618e+13],\n",
       "        [ 4.1561274e+14],\n",
       "        [-5.9674631e+14],\n",
       "        [-3.6288330e+13],\n",
       "        [-5.8672240e+14]], dtype=float32),\n",
       " array([-3.5250537e+13], dtype=float32)]"
      ]
     },
     "execution_count": 42,
     "metadata": {},
     "output_type": "execute_result"
    }
   ],
   "source": [
    "# FINAL VALIDATION - Build the linear model using Tensorflow \n",
    "# Initialize the weights and bias to 0\n",
    "# This time the test uses real world data\n",
    "model = tf.keras.Sequential(name='SimpleSGD_vValidation')\n",
    "model.add(tf.keras.layers.Dense(units=1, activation='linear', input_shape=(6,), use_bias=True, bias_initializer=tf.zeros_initializer, kernel_initializer=tf.zeros_initializer, name='SimpleSGD_Input'))\n",
    "model.compile(optimizer=tf.keras.optimizers.SGD(learning_rate=0.001), loss='mse')\n",
    "\n",
    "# Enable the next line if you wish to see the model's summary\n",
    "#model.summary()\n",
    "\n",
    "# Fit the model on 5 epochs, set the batch size to 1 and turn off shuffling.\n",
    "# By tunring off shufffling, this ensure that Tensorflow is sampling sequentially\n",
    "# This matches what I have in my own code and thus works to ensure I did the manual code correctly\n",
    "history = model.fit(x_scaled, y_labels, epochs=5, batch_size=1, shuffle=False, verbose=0)\n",
    "\n",
    "# Get the weights and bias to confirm that the code above and calculations are correct for real world datasets\n",
    "# As can be seen below, the weight and bias matches almost perfectly with the one produced from the manual code\n",
    "# The 5 epochs with learning rate 0.001 matches\n",
    "model.get_weights()\n"
   ]
  },
  {
   "cell_type": "code",
   "execution_count": 43,
   "metadata": {},
   "outputs": [
    {
     "name": "stdout",
     "output_type": "stream",
     "text": [
      "Epoch: 0, cost: [2.1278509e+17]\n"
     ]
    },
    {
     "data": {
      "text/plain": [
       "(array([-11678.11030523]), 20125.131099025602)"
      ]
     },
     "execution_count": 43,
     "metadata": {},
     "output_type": "execute_result"
    }
   ],
   "source": [
    "# Training on two features so I can ultimately plot them\n",
    "# Instantitate the class\n",
    "sgd = SimpleSGD()\n",
    "w, b = sgd.fit(x_scaled[:, 0], y_labels, epochs=5, learning_rate=0.001)\n",
    "w, b\n"
   ]
  },
  {
   "cell_type": "code",
   "execution_count": 44,
   "metadata": {},
   "outputs": [
    {
     "data": {
      "text/plain": [
       "<matplotlib.legend.Legend at 0x28955bdbdc0>"
      ]
     },
     "execution_count": 44,
     "metadata": {},
     "output_type": "execute_result"
    },
    {
     "data": {
      "image/png": "[encoded data removed]",
      "text/plain": [
       "<Figure size 432x288 with 1 Axes>"
      ]
     },
     "metadata": {
      "needs_background": "light"
     },
     "output_type": "display_data"
    }
   ],
   "source": [
    "# Plot of Duration vs resp bytes\n",
    "plt.plot(x_scaled[:, 0], y_labels, 'o', label='Duration vs Bytes')\n",
    "plt.plot(x_scaled[:, 0], x_scaled[:, 0] * w+b, label='Regression Line' )\n",
    "plt.legend(loc='best')"
   ]
  },
  {
   "cell_type": "code",
   "execution_count": 45,
   "metadata": {},
   "outputs": [],
   "source": [
    "# Awesome, my code is validated against Tensorflow. This suggests that this was well done!\n",
    "# There is always opportunities for improvements but being able to validate your work with a tool such as Tensorflow is an important takeaway\n",
    "# Moving on ..."
   ]
  },
  {
   "cell_type": "code",
   "execution_count": null,
   "metadata": {},
   "outputs": [],
   "source": []
  }
 ],
 "metadata": {
  "kernelspec": {
   "display_name": "base",
   "language": "python",
   "name": "python3"
  },
  "language_info": {
   "codemirror_mode": {
    "name": "ipython",
    "version": 3
   },
   "file_extension": ".py",
   "mimetype": "text/x-python",
   "name": "python",
   "nbconvert_exporter": "python",
   "pygments_lexer": "ipython3",
   "version": "3.9.7"
  },
  "orig_nbformat": 4,
  "vscode": {
   "interpreter": {
    "hash": "145734096ae1081724030cf25431718f2a6f59d32c1cbcdd3e9f0255fad3b9b6"
   }
  }
 },
 "nbformat": 4,
 "nbformat_minor": 2
}
