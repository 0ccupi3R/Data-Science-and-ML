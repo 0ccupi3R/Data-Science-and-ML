{
 "cells": [
  {
   "cell_type": "code",
   "execution_count": 1,
   "metadata": {},
   "outputs": [
    {
     "data": {
      "text/plain": [
       "'\\nBuilding your first feed forward network\\nA simple one neuron example\\n'"
      ]
     },
     "execution_count": 1,
     "metadata": {},
     "output_type": "execute_result"
    }
   ],
   "source": [
    "'''\n",
    "Building your first feed forward network\n",
    "A simple one neuron example\n",
    "\n",
    "Let's say we have 2 inputs at the input layer\n",
    "x1 = 1\n",
    "x2 = -3\n",
    "\n",
    "Let's say we have one node at the output layer\n",
    "\n",
    "For the 2 in inputs we will need 2 weights\n",
    "\n",
    "We will also say, our network should be predicting a value betwee 0 and 1.\n",
    "\n",
    "For the 2 features (x1, x2), our sample (or record) has values 1, -3. \n",
    "\n",
    "Our label (ground truth) for this row is 1\n",
    "\n",
    "Let's construct a feed forward network to make a prediction\n",
    "\n",
    "\n",
    "References:\n",
    "https://www.youtube.com/watch?v=qxIaW-WvLDU&list=PL-wATfeyAMNrtbkCNsLcpoAyBBRJZVlnf&index=3\n",
    "'''"
   ]
  },
  {
   "cell_type": "code",
   "execution_count": 5,
   "metadata": {},
   "outputs": [],
   "source": [
    "# import any needed libraries\n",
    "import numpy as np"
   ]
  },
  {
   "cell_type": "code",
   "execution_count": 10,
   "metadata": {},
   "outputs": [],
   "source": [
    "# Set the seed to ensure consistency\n",
    "np.random.seed(seed=10)"
   ]
  },
  {
   "cell_type": "code",
   "execution_count": 104,
   "metadata": {},
   "outputs": [],
   "source": [
    "# Define a sigmoid activation function\n",
    "# https://en.wikipedia.org/wiki/Sigmoid_function\n",
    "def my_sigmoid(weighted_sum):\n",
    "    ''' Simply computed the Sigmoid of the input and return its value'''\n",
    "    return 1/(1+np.exp(-weighted_sum))"
   ]
  },
  {
   "cell_type": "code",
   "execution_count": 109,
   "metadata": {},
   "outputs": [],
   "source": [
    "# Setup a function that handles the data input\n",
    "def simple_feed_forward():\n",
    "    ''' Calculates the dot product of inputs and weights '''\n",
    "    input_vector = np.array([1, -3], dtype=np.float16)\n",
    "\n",
    "    # generate random weights equal to the len of X_data\n",
    "    weights_vector = np.random.rand(len(input_vector))\n",
    "\n",
    "    # Round the weight down to 1 decimal place to keep it simple\n",
    "    weights_vector_rounded = np.round(weights_vector, 1)\n",
    "\n",
    "    # Calculate the dot product of the weights and inputs\n",
    "    weighted_sum = np.dot(input_vector, weights_vector_rounded) \n",
    "    y_predicted = my_sigmoid(weighted_sum)\n",
    "\n",
    "    print(f'Current inputs: {input_vector}')\n",
    "    print(f'Current weights: {weights_vector}')\n",
    "    print(f'Current weights rounded to 1 decimal place: {weights_vector_rounded}')\n",
    "\n",
    "    print(f'\\nCalculated dot product of inputs * weights: {weighted_sum}')\n",
    "    \n",
    "    print(f'The predicted output, sigmoid of {weighted_sum} is: {y_predicted}')\n",
    "\n",
    "    return y_predicted\n"
   ]
  },
  {
   "cell_type": "code",
   "execution_count": 110,
   "metadata": {},
   "outputs": [
    {
     "name": "stdout",
     "output_type": "stream",
     "text": [
      "Current inputs: [ 1. -3.]\n",
      "Current weights: [0.03068484 0.453105  ]\n",
      "Current weights rounded to 1 decimal place: [0.  0.5]\n",
      "\n",
      "Calculated dot product of inputs * weights: -1.5\n",
      "The predicted output, sigmoid of -1.5 is: 0.18242552380635635\n"
     ]
    }
   ],
   "source": [
    "if __name__ == '__main__':\n",
    "    simple_feed_forward()"
   ]
  },
  {
   "cell_type": "code",
   "execution_count": null,
   "metadata": {},
   "outputs": [],
   "source": []
  },
  {
   "cell_type": "code",
   "execution_count": null,
   "metadata": {},
   "outputs": [],
   "source": []
  }
 ],
 "metadata": {
  "kernelspec": {
   "display_name": "Python 3.9.12 ('tf')",
   "language": "python",
   "name": "python3"
  },
  "language_info": {
   "codemirror_mode": {
    "name": "ipython",
    "version": 3
   },
   "file_extension": ".py",
   "mimetype": "text/x-python",
   "name": "python",
   "nbconvert_exporter": "python",
   "pygments_lexer": "ipython3",
   "version": "3.9.12"
  },
  "orig_nbformat": 4,
  "vscode": {
   "interpreter": {
    "hash": "d33f85780c2c83edc5278292945a20a0a252a43de143ff59f2c10c2359881c2d"
   }
  }
 },
 "nbformat": 4,
 "nbformat_minor": 2
}
