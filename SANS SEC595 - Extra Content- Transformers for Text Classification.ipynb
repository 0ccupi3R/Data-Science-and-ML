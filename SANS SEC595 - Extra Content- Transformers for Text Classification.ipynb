{
 "cells": [
  {
   "cell_type": "markdown",
   "metadata": {},
   "source": [
    "**Extra Content for SANS SEC595: Applied Data Science and AI/Machine Learning for Cybersecurity Professionals**\n",
    "- https://www.sans.org/cyber-security-courses/applied-data-science-machine-learning/\n",
    "\n",
    "### Transformers for Text Classification\n",
    "Notebook: SANS SEC595 - Extra Content- Transformers for Text Classification.ipynb\n",
    "\n",
    "Author: Nik Alleyne  \n",
    "Author Blog: https://www.securitynik.com  \n",
    "Author GitHub: github.com/securitynik  \n",
    "\n",
    "Author Books: [\n",
    "\n",
    "            \"https://www.amazon.ca/Learning-Practicing-Leveraging-Practical-Detection/dp/1731254458/\",   \n",
    "            \"https://www.amazon.ca/Learning-Practicing-Mastering-Network-Forensics/dp/1775383024/\" \n",
    "        ] \n",
    " "
   ]
  },
  {
   "cell_type": "code",
   "execution_count": null,
   "metadata": {},
   "outputs": [],
   "source": []
  },
  {
   "cell_type": "markdown",
   "metadata": {},
   "source": [
    "In lab **5.03 Applying CNNs to Text Classifications.ipynb**, you learned about using Convolution Neural Networks (CNNs) to classify text. Today, one of the architectures use tremendously for Natural Language Processing (NLP) related tasks such as text classification, is the Transformer.\n",
    "\n",
    "Originally introduced in 2017 via the paper **Attention is All you Need** by Vaswani, et al, and other members of the Google Brain team, this architecture is now the rage. Some may even say it is now the defacto architecture for NLP Natural Language Processing (NLP) tasks. Link to original paper: https://arxiv.org/pdf/1706.03762v5.pdf \n",
    "\n",
    "While originally designed for Neural Machine Translation, it has now evolved to an architecture not only for translation but for text classification, computer vision, etc. \n",
    "\n",
    "While the original Transformer has an Encoder and Decoder, we will focus on using the Encoder (left side) component to do text classification. \n",
    "\n",
    "There are many applications today that use either the Encoder. Think Bidirectional Encoder Representation From Transformers (BERT). Link: https://arxiv.org/pdf/1810.04805.pdf.\n",
    "\n",
    "There is also ChatGPT which is a Decoder only Transformer and obviously machine translation models that uses both and encoder and decoder.\n",
    "\n",
    "![Transformer Architecture](./Transformer-Architecture_no_decoder.png)   \n",
    "*Credit: Original Document*  \n",
    "\n",
    "We are not attempting to build the entire encoder, but instead lay the foundational understanding of what the Transformer encoder is doing, from the attention, multi-head attention and overall encoder perspective. This is being done so when we transition to using Tensorflow's implementation of the multi-head attention, we have a solid understanding of what is going on in the background.\n",
    "\n",
    "Each encoder layer has two sub-layers. \n",
    "    - A multi-head self attention mechanism\n",
    "    - A position wise feed-forward neural network\n",
    "\n",
    "The encoder also leverages a residual connection and layer normalization. \n",
    "    - Basically, the input to one layer and the same layer's output are added together and normalized before being passed to the next sub-layer.\n",
    "\n",
    "In the paper, the sub-layers as well as the embedding dimension, produces outputs of dimension d_model=512. In this notebook, we will keep it with a dimension of 9 for the initial understanding. Keeping it simple!  \n",
    "\n",
    "Before going any further, let's ty to build out some of these items above in the encoder.\n",
    "\n",
    "The first item we see from the bottom of the architecture is the inputs. The first input states **Input Embedding**"
   ]
  },
  {
   "cell_type": "code",
   "execution_count": 1,
   "metadata": {},
   "outputs": [
    {
     "data": {
      "text/plain": [
       "'SANS SEC 595 is Awesome'"
      ]
     },
     "execution_count": 1,
     "metadata": {},
     "output_type": "execute_result"
    }
   ],
   "source": [
    "# Let's create our input text\n",
    "input_text = 'SANS SEC 595 is Awesome'\n",
    "input_text"
   ]
  },
  {
   "cell_type": "code",
   "execution_count": 2,
   "metadata": {},
   "outputs": [
    {
     "data": {
      "text/plain": [
       "['sans', 'sec', '595', 'is', 'awesome']"
      ]
     },
     "execution_count": 2,
     "metadata": {},
     "output_type": "execute_result"
    }
   ],
   "source": [
    "# We know once we have our text, we need to get it into tokens\n",
    "# Let's lowercase the text and split \n",
    "input_text = input_text.lower().split()\n",
    "input_text"
   ]
  },
  {
   "cell_type": "code",
   "execution_count": 3,
   "metadata": {},
   "outputs": [
    {
     "data": {
      "text/plain": [
       "{1: 'sans', 2: 'sec', 3: '595', 4: 'is', 5: 'awesome'}"
      ]
     },
     "execution_count": 3,
     "metadata": {},
     "output_type": "execute_result"
    }
   ],
   "source": [
    "# We also know that we cannot feed the text directly to the model\n",
    "# Let's get these to numbers, using list comprehension that you learned about on Day 1\n",
    "# Note, I start the indexing from 1, because 0 is typically used for padding sequences to ensure they are all the same length\n",
    "strtoi = { index:word for index,word in enumerate(input_text, start=1)}\n",
    "strtoi"
   ]
  },
  {
   "cell_type": "code",
   "execution_count": 4,
   "metadata": {},
   "outputs": [],
   "source": [
    "# Import the numpy library\n",
    "import numpy as np"
   ]
  },
  {
   "cell_type": "code",
   "execution_count": 5,
   "metadata": {},
   "outputs": [
    {
     "data": {
      "text/plain": [
       "array([1, 2, 3, 4, 5])"
      ]
     },
     "execution_count": 5,
     "metadata": {},
     "output_type": "execute_result"
    }
   ],
   "source": [
    "# With this, let's now use the dictionary keys as our number representation of the words\n",
    "word_vec = np.array(list(strtoi.keys()), dtype=int)\n",
    "word_vec"
   ]
  },
  {
   "cell_type": "code",
   "execution_count": 6,
   "metadata": {},
   "outputs": [
    {
     "data": {
      "text/plain": [
       "(5, 9)"
      ]
     },
     "execution_count": 6,
     "metadata": {},
     "output_type": "execute_result"
    }
   ],
   "source": [
    "# Also capture the sequence length\n",
    "seq_len = len(word_vec)\n",
    "\n",
    "# Set the embedding dimension of our model\n",
    "d_model = 9\n",
    "\n",
    "seq_len, d_model"
   ]
  },
  {
   "cell_type": "code",
   "execution_count": 7,
   "metadata": {},
   "outputs": [
    {
     "data": {
      "text/plain": [
       "(array([[0.54, 0.73, 0.94, 0.52, 0.3 , 0.08, 0.98, 0.69, 0.07],\n",
       "        [0.25, 0.43, 0.93, 0.29, 0.86, 0.99, 0.84, 0.5 , 0.25],\n",
       "        [0.84, 0.43, 0.61, 0.32, 0.05, 0.76, 0.38, 0.85, 0.38],\n",
       "        [0.56, 0.25, 0.52, 0.66, 0.41, 0.4 , 0.67, 0.65, 0.54],\n",
       "        [0.02, 0.07, 0.82, 0.04, 0.74, 0.44, 0.69, 0.65, 0.53]]),\n",
       " (5, 9))"
      ]
     },
     "execution_count": 7,
     "metadata": {},
     "output_type": "execute_result"
    }
   ],
   "source": [
    "# With our words now represented by numbers, let's create some embeddings for them\n",
    "# The embeddings are generated randomly by default and are learned during the training process\n",
    "# Our embedding dimension will be 9 for this demo. This is just to help us understand what is going on\n",
    "# We will say these embeddings represent our word vector\n",
    "input_embedding = np.random.rand(seq_len, d_model).round(2)\n",
    "input_embedding, input_embedding.shape"
   ]
  },
  {
   "cell_type": "markdown",
   "metadata": {},
   "source": [
    "Now that we have our input embeddings, the next step is for us to get our positional embedding or positional encoding.  \n",
    "Transformers by default have no concept of word order. In NLP problems word meaning and order matters in many cases. As a result positional encoding or positional embedding is used to maintain the word order.\n",
    "\n",
    "While the authors use positional encoding in the original paper, we can and will instead use learned positional embeddings. This is also an option in the paper. \n",
    "\n",
    "Our positional embeddings have to be the same shape as our input token embeddings"
   ]
  },
  {
   "cell_type": "code",
   "execution_count": 8,
   "metadata": {},
   "outputs": [
    {
     "data": {
      "text/plain": [
       "(array([[-2.3 , -0.1 ,  0.91,  0.88,  0.75,  0.57, -0.25, -1.9 ,  0.75],\n",
       "        [ 1.08, -0.6 ,  0.84,  0.79,  0.93,  0.17, -0.94, -0.49, -0.1 ],\n",
       "        [-0.12,  0.06, -2.32, -1.54, -1.17, -1.66,  0.8 ,  0.83, -0.47],\n",
       "        [ 1.7 , -0.43, -0.49, -0.91,  2.17,  0.34,  0.77,  0.68, -1.82],\n",
       "        [-1.99,  0.09,  0.66, -1.79,  0.36,  0.67, -0.1 ,  0.36,  0.47]]),\n",
       " (5, 9))"
      ]
     },
     "execution_count": 8,
     "metadata": {},
     "output_type": "execute_result"
    }
   ],
   "source": [
    "# This is how we would generate the numbers for out positional embeddings\n",
    "position_embedding = np.random.randn(seq_len, d_model).round(2)\n",
    "position_embedding, position_embedding.shape"
   ]
  },
  {
   "cell_type": "code",
   "execution_count": 9,
   "metadata": {},
   "outputs": [
    {
     "data": {
      "text/plain": [
       "(array([[-1.76,  0.63,  1.85,  1.4 ,  1.05,  0.65,  0.73, -1.21,  0.82],\n",
       "        [ 1.33, -0.17,  1.77,  1.08,  1.79,  1.16, -0.1 ,  0.01,  0.15],\n",
       "        [ 0.72,  0.49, -1.71, -1.22, -1.12, -0.9 ,  1.18,  1.68, -0.09],\n",
       "        [ 2.26, -0.18,  0.03, -0.25,  2.58,  0.74,  1.44,  1.33, -1.28],\n",
       "        [-1.97,  0.16,  1.48, -1.75,  1.1 ,  1.11,  0.59,  1.01,  1.  ]]),\n",
       " (5, 9))"
      ]
     },
     "execution_count": 9,
     "metadata": {},
     "output_type": "execute_result"
    }
   ],
   "source": [
    "# Now that we have the input embeddings and the position embeddings, we add them together\n",
    "encoder_input = input_embedding + position_embedding\n",
    "encoder_input, encoder_input.shape"
   ]
  },
  {
   "cell_type": "markdown",
   "metadata": {},
   "source": [
    "**Attention** mechanism **single head** \n",
    "With the understanding of how we get our initial input, let's now focus on the attention mechanism from a single head perspective.  \n",
    "\n",
    "The attention mechanism leverages a set of query, key and value vectors. The outputs from these three are computed as a weighted sum of the values. The attention mechanism uses the **scaled dot-product attention**\n",
    "    - We compute the dot product of the query and keys transposed. \n",
    "    - This value is then scaled by the square of d_k\n",
    "    - A softmax activation function is then applied to this output\n",
    "    - Finally the output from the softmax is multiplied by the value vector\n",
    "\n",
    "![Attention Formula](./attention-formula.png)\n",
    "\n",
    "With the formula understood, here is another view of the scaled dot-product attention  \n",
    "![](./scaled_dot_product_attention.png)  \n",
    "\n",
    "Notice the *Mask* is optional. We will not implement the mask. The mask is used in the decoder component as part of the *Masked Multi-Head Attention*. As we are not focused on the decoder, we will ignore this during our implementation.\n",
    "\n",
    "The scaled dot-product attention requires input of queries, keys and values. Where are these inputs coming from? \n",
    "    - First we generate the W_q (query), W_k (key) and W_v (value) matrices\n",
    "        - These are called our projection matrices\n",
    "    - For this learning, we will use the same shape (d_model, d_model). \n",
    "        - The input embeddings currently have shape (seq_len, d_model) -> (5, 9)"
   ]
  },
  {
   "cell_type": "code",
   "execution_count": 10,
   "metadata": {},
   "outputs": [
    {
     "name": "stdout",
     "output_type": "stream",
     "text": [
      " Shape of query projection matrices: (9, 9)\n",
      " Shape of key projection matrices: (9, 9)\n",
      " Shape of value projection matrices: (9, 9)\n"
     ]
    }
   ],
   "source": [
    "# Create the projection matrices with shape (d_model, d_model)\n",
    "W_q = np.random.randn(d_model, d_model).round(2)\n",
    "W_k = np.random.randn(d_model, d_model).round(2)\n",
    "W_v = np.random.randn(d_model, d_model).round(2)\n",
    "\n",
    "print(f' Shape of query projection matrices: {W_q.shape}')\n",
    "print(f' Shape of key projection matrices: {W_k.shape}')\n",
    "print(f' Shape of value projection matrices: {W_v.shape}')"
   ]
  },
  {
   "cell_type": "code",
   "execution_count": 11,
   "metadata": {},
   "outputs": [
    {
     "name": "stdout",
     "output_type": "stream",
     "text": [
      " Shape of Q matrix: (5, 9)\n",
      " Shape of K matrix: (5, 9)\n",
      " Shape of V matrix: (5, 9)\n",
      " Dimension of d_k: 9\n",
      " Sneak peak at one of the Q matrix: [[-2.9822  1.745   0.8189 -0.5951 -5.7872 -4.4018  1.3885 -4.7432  0.4624]\n",
      " [ 4.7129  1.9458  0.9297 -2.7064 -8.6209 -2.5747 -0.5317 -6.7066  2.6584]\n",
      " [ 0.2364 -2.0355 -0.4508  0.6404  7.7962  5.2163  3.1743  6.3102 -0.0625]\n",
      " [ 7.2598  2.0137  0.8772 -4.1268 -4.2767  4.3017  2.0874 -6.1461  5.6124]\n",
      " [-1.301  -3.5686 -5.3088  0.7181  1.534  -1.8352  2.0485 -4.6188  4.0588]]\n"
     ]
    }
   ],
   "source": [
    "# With the projection matrices in places, let's multiply each of these by our encoder_input\n",
    "Q = encoder_input.dot(b=W_q)\n",
    "K = encoder_input.dot(b=W_k)\n",
    "V = encoder_input.dot(b=W_v)\n",
    "\n",
    "# d_k becomes the number of dimensions\n",
    "d_k = K.shape[-1]\n",
    "\n",
    "print(f' Shape of Q matrix: {Q.shape}')\n",
    "print(f' Shape of K matrix: {K.shape}')\n",
    "print(f' Shape of V matrix: {V.shape}')\n",
    "print(f' Dimension of d_k: {d_k}')\n",
    "\n",
    "print(f' Sneak peak at one of the Q matrix: {Q}')"
   ]
  },
  {
   "cell_type": "code",
   "execution_count": 12,
   "metadata": {},
   "outputs": [],
   "source": [
    "# Because we will need the softmax activation function to compute the weighted scores, let's create our own softmax.\n",
    "# We could easily use Tensorflow's softmax but let's do this for our learning.\n",
    "# Besides, you learned about activation functions (including softmax) on day 4\n",
    "\n",
    "def softmax(x):\n",
    "    ''' compute the softmax of the input vector '''\n",
    "    return np.exp(x) / np.sum(np.exp(x), axis=-1, keepdims=True)"
   ]
  },
  {
   "cell_type": "code",
   "execution_count": 13,
   "metadata": {},
   "outputs": [],
   "source": [
    "# Let's create this function for the scaled dot product attention\n",
    "# Remember, we are focused only on the encoder, hence the reason I am not specifying the mask\n",
    "def scaled_dot_product_attention(query=Q, key=K, value=V):\n",
    "    # Setup d_k\n",
    "    d_k = key.shape[-1]\n",
    "    \n",
    "    # Computing the dot product of the query and key transpose\n",
    "    dot_prod_scores = np.dot(query, key.T)\n",
    "\n",
    "    # Get the scaled scores\n",
    "    scaled_dot_product_scores = dot_prod_scores/np.sqrt(d_k)\n",
    "\n",
    "    # Compute the attention weights\n",
    "    weighted_scores = softmax(scaled_dot_product_scores)\n",
    "\n",
    "    # Finally, perform the dot product of these scores against the values\n",
    "    weighted_sum = np.dot(a=weighted_scores, b=value)\n",
    "\n",
    "    print(f'Attention output shape: {weighted_sum.shape}')\n",
    "\n",
    "    return weighted_sum"
   ]
  },
  {
   "cell_type": "code",
   "execution_count": 14,
   "metadata": {},
   "outputs": [
    {
     "name": "stdout",
     "output_type": "stream",
     "text": [
      "Attention output shape: (5, 9)\n"
     ]
    },
    {
     "data": {
      "text/plain": [
       "(array([[-2.29537869, -2.1052916 ,  2.5829472 , -5.81641078,  0.14515746,\n",
       "         -6.27636132, -2.24629101, -3.89586988, -3.41831815],\n",
       "        [-2.30387876, -2.11424865,  2.5848723 , -5.83349374,  0.14503061,\n",
       "         -6.27671896, -2.24152521, -3.90500929, -3.42871121],\n",
       "        [-2.39615697,  2.35138862, -1.90375672, -0.59752882, -2.52735362,\n",
       "          4.02004166,  3.7198141 , -0.32981099,  0.02126654],\n",
       "        [-2.1124319 , -1.36694853,  2.20955505, -4.67946942, -0.03756386,\n",
       "         -5.62813332, -1.62072687, -3.82188411, -3.30120808],\n",
       "        [-1.45541456, -0.0124403 ,  1.92521443, -2.20514016, -0.05643559,\n",
       "         -5.56876672, -0.91743314, -4.18638382, -3.53243809]]),\n",
       " (5, 9))"
      ]
     },
     "execution_count": 14,
     "metadata": {},
     "output_type": "execute_result"
    }
   ],
   "source": [
    "# Run the function ag\n",
    "attention_output = scaled_dot_product_attention()\n",
    "attention_output, attention_output.shape"
   ]
  },
  {
   "cell_type": "markdown",
   "metadata": {},
   "source": [
    "We have made good progress so far. We have computed the attention scores.   \n",
    "As we saw in the Transformer architecture, the output from the attention mechanism, is added to the input to the attention mechanism.   \n",
    "The added content is then passed though layer normalization before being fed to the feed-forward network.\n",
    "Let's add the two."
   ]
  },
  {
   "cell_type": "code",
   "execution_count": 15,
   "metadata": {},
   "outputs": [
    {
     "data": {
      "text/plain": [
       "array([[-4.05537869, -1.4752916 ,  4.4329472 , -4.41641078,  1.19515746,\n",
       "        -5.62636132, -1.51629101, -5.10586988, -2.59831815],\n",
       "       [-0.97387876, -2.28424865,  4.3548723 , -4.75349374,  1.93503061,\n",
       "        -5.11671896, -2.34152521, -3.89500929, -3.27871121],\n",
       "       [-1.67615697,  2.84138862, -3.61375672, -1.81752882, -3.64735362,\n",
       "         3.12004166,  4.8998141 ,  1.35018901, -0.06873346],\n",
       "       [ 0.1475681 , -1.54694853,  2.23955505, -4.92946942,  2.54243614,\n",
       "        -4.88813332, -0.18072687, -2.49188411, -4.58120808],\n",
       "       [-3.42541456,  0.1475597 ,  3.40521443, -3.95514016,  1.04356441,\n",
       "        -4.45876672, -0.32743314, -3.17638382, -2.53243809]])"
      ]
     },
     "execution_count": 15,
     "metadata": {},
     "output_type": "execute_result"
    }
   ],
   "source": [
    "# Adding the input to the self attention with the output of the self attention\n",
    "enc_in_enc_out_added = encoder_input + attention_output\n",
    "enc_in_enc_out_added"
   ]
  },
  {
   "cell_type": "code",
   "execution_count": 16,
   "metadata": {},
   "outputs": [],
   "source": [
    "import tensorflow as tf"
   ]
  },
  {
   "cell_type": "code",
   "execution_count": 17,
   "metadata": {},
   "outputs": [
    {
     "data": {
      "text/plain": [
       "(array([[-0.6260074 ,  0.21266592,  2.1331754 , -0.7433631 ,  1.0807118 ,\n",
       "         -1.1366649 ,  0.1993388 , -0.9674759 , -0.15238078],\n",
       "        [ 0.2839749 , -0.15733601,  2.0786102 , -0.98893696,  1.2636476 ,\n",
       "         -1.1112652 , -0.17662588, -0.6998136 , -0.4922546 ],\n",
       "        [-0.6302281 ,  0.9252424 , -1.2973778 , -0.678905  , -1.3089459 ,\n",
       "          1.0211875 ,  1.6339946 ,  0.4117961 , -0.07676391],\n",
       "        [ 0.6047765 , -0.00941283,  1.3630317 , -1.2354311 ,  1.472813  ,\n",
       "         -1.2204486 ,  0.4857837 , -0.35191125, -1.1092013 ],\n",
       "        [-0.7749023 ,  0.64498794,  1.939571  , -0.98541373,  1.0010577 ,\n",
       "         -1.1855537 ,  0.4562271 , -0.6759381 , -0.42003587]],\n",
       "       dtype=float32),\n",
       " (5, 9))"
      ]
     },
     "execution_count": 17,
     "metadata": {},
     "output_type": "execute_result"
    }
   ],
   "source": [
    "# Let's cheat for this by leveraging Tensorflow's LayerNormalization\n",
    "layer_norm_1_out = tf.keras.layers.LayerNormalization()(enc_in_enc_out_added).numpy()\n",
    "\n",
    "# Take a peak into the output as well as its shape\n",
    "layer_norm_1_out, layer_norm_1_out.shape"
   ]
  },
  {
   "cell_type": "markdown",
   "metadata": {},
   "source": [
    "Let us now prepare to move this data into the feed-forward network.  \n",
    "The feed-forward network consists of two linear layers, separated by a Rectified Linear Unit (ReLU) activation function.\n",
    "In the paper, the output of the first linear layer is 2048 or 4 times the size of the d_model \n",
    "\n",
    "Let's create our own ReLU activation function as we will need it."
   ]
  },
  {
   "cell_type": "code",
   "execution_count": 18,
   "metadata": {},
   "outputs": [],
   "source": [
    "# Out ReLU function\n",
    "def ReLU(x):\n",
    "    ''' Rectified Linear Unit Activation Function '''\n",
    "    return np.maximum(0, x)"
   ]
  },
  {
   "cell_type": "markdown",
   "metadata": {},
   "source": [
    "Because the first layer output will be d_model * 4, we will have an output from our first linear layer as (d_model * 4) -> (9 * 4) = 36  \n",
    "This will then have to come back down to our d_model shape in the final layer.  \n",
    "While we can use a Dense layer in Tensorflow, let's instead build our own linear layer.  \n",
    "\n",
    "We know from above the output shape of layer_norm_1_out is (5,9).   \n",
    "This means our first linear layer should have a shape of 9 * 36. \n",
    "    - Remember 36 is  d_model(9) * 4 = 36"
   ]
  },
  {
   "cell_type": "code",
   "execution_count": 19,
   "metadata": {},
   "outputs": [
    {
     "data": {
      "text/plain": [
       "((9, 36), (36, 9), 1.0)"
      ]
     },
     "execution_count": 19,
     "metadata": {},
     "output_type": "execute_result"
    }
   ],
   "source": [
    "# Creating out first linear layer with random weights\n",
    "W_ff_1 = np.random.randn(d_model, d_model * 4)\n",
    "\n",
    "# Similarly, we need to get back down to the dimension of the model\n",
    "# Creating the layer with random weights\n",
    "W_ff_2 = np.random.randn(d_model * 4, d_model)\n",
    "\n",
    "# Let us also also set a bias\n",
    "bias = 1.\n",
    "\n",
    "W_ff_1.shape, W_ff_2.shape, bias"
   ]
  },
  {
   "cell_type": "code",
   "execution_count": 20,
   "metadata": {},
   "outputs": [
    {
     "data": {
      "text/plain": [
       "(array([[ -5.59817239,  13.40353644,  12.11232998,  -5.52666659,\n",
       "          20.06776042,   1.12222705,  -3.15175176, -36.09188456,\n",
       "         -11.36419507],\n",
       "        [-13.01045807,  15.2184638 ,  15.89086221,  -4.39556262,\n",
       "          20.88655363,   0.85192078,  -3.74102385, -34.16731205,\n",
       "          -5.54309981],\n",
       "        [ -9.31880538,  15.95546713,  -2.57025451,  -0.69132938,\n",
       "          19.76062006, -12.60312027,   4.61445251,  -8.51298259,\n",
       "         -10.15996836],\n",
       "        [-14.6858949 ,  14.61266175,   8.49446998,   0.45655724,\n",
       "          27.02870345, -10.90333399,   4.94547246, -23.94197405,\n",
       "           0.09929276],\n",
       "        [ -4.46828807,  15.11643183,  10.48231661,  -1.99640449,\n",
       "          20.81671489,   0.19892872,  -1.11283326, -33.33511594,\n",
       "          -6.46419653]]),\n",
       " (5, 9))"
      ]
     },
     "execution_count": 20,
     "metadata": {},
     "output_type": "execute_result"
    }
   ],
   "source": [
    "# Let's now build out the feed-forward network\n",
    "ff_1_out = layer_norm_1_out.dot(W_ff_1) + bias\n",
    "\n",
    "# Apply ReLU to ff_1_out\n",
    "relu_out = ReLU(x=ff_1_out)\n",
    "\n",
    "# Complete the final linear layer\n",
    "ff_2_out = relu_out.dot(W_ff_2) + bias\n",
    "\n",
    "ff_2_out, ff_2_out.shape"
   ]
  },
  {
   "cell_type": "markdown",
   "metadata": {},
   "source": [
    "We are looking good so far as the output shape of the feed-forward network matches our input.  \n",
    "All that is needed now for us to complete this single head, is to do like we did before.  \n",
    "We add the output of the feed-forward network with its input and then pass that through layer normalization.  \n",
    "Previously we did this as a multi-step process. Let's just do it all in one go now."
   ]
  },
  {
   "cell_type": "code",
   "execution_count": 21,
   "metadata": {},
   "outputs": [
    {
     "data": {
      "text/plain": [
       "<tf.Tensor: shape=(5, 9), dtype=float32, numpy=\n",
       "array([[-0.27871487,  0.9354182 ,  0.97392845, -0.28152063,  1.3963559 ,\n",
       "         0.10129058, -0.07849896, -2.1656752 , -0.6025833 ],\n",
       "       [-0.71136385,  0.95864546,  1.1334343 , -0.2701175 ,  1.3846922 ,\n",
       "         0.03789951, -0.18196121, -2.0419958 , -0.30923328],\n",
       "       [-0.87105507,  1.5742245 , -0.31679234, -0.08917791,  1.7174032 ,\n",
       "        -1.0198785 ,  0.6051935 , -0.7026411 , -0.8972761 ],\n",
       "       [-0.9696604 ,  0.91481984,  0.60303795, -0.09574127,  1.827896  ,\n",
       "        -0.84106904,  0.31224638, -1.6406099 , -0.11091959],\n",
       "       [-0.3360558 ,  1.0323181 ,  0.8147597 , -0.18873562,  1.4268674 ,\n",
       "        -0.05875605, -0.03725653, -2.2101774 , -0.44296372]],\n",
       "      dtype=float32)>"
      ]
     },
     "execution_count": 21,
     "metadata": {},
     "output_type": "execute_result"
    }
   ],
   "source": [
    "# Performing the addition and layer norm\n",
    "layer_norm_2_out = tf.keras.layers.LayerNormalization()(ff_2_out + layer_norm_1_out)\n",
    "layer_norm_2_out"
   ]
  },
  {
   "cell_type": "markdown",
   "metadata": {},
   "source": [
    "That's it, we have completed a single head attention for an encoder block.  \n",
    "Two things to be aware of:  \n",
    "    1: On most days you will use a multi-head attention heads.  \n",
    "        - In the paper, they used 8 heads  \n",
    "    2. On most days you will have multiple encoder blocks  \n",
    "        - In the paper, they used 6 identical encoder blocks\n",
    "\n",
    "Looking back at the paper, we see that their is also reference to a multi-head attention.  \n",
    "\n",
    "![Multi-Head Attention](./multi-head-attention-resized.png)  \n",
    "\n",
    "One of the first steps in creating a multi-head attention, is we need to ensure the model dimension is divisible by the number of heads.  \n",
    "For example our d_model is 9, so we can only have 3 heads if we are looking for multi-head attention "
   ]
  },
  {
   "cell_type": "code",
   "execution_count": 22,
   "metadata": {},
   "outputs": [
    {
     "data": {
      "text/plain": [
       "3"
      ]
     },
     "execution_count": 22,
     "metadata": {},
     "output_type": "execute_result"
    }
   ],
   "source": [
    "# How many heads would we like to have?\n",
    "n_heads = 3\n",
    "\n",
    "# Confirm the model dimension is divisible by the number of heads\n",
    "assert d_model % n_heads == 0, f'Oops! Looks like your model dimension is not divisible by the number of heads'\n",
    "\n",
    "# If it is divisible, set the value for d_k\n",
    "d_k = d_model // n_heads\n",
    "\n",
    "d_k"
   ]
  },
  {
   "cell_type": "code",
   "execution_count": 23,
   "metadata": {},
   "outputs": [
    {
     "data": {
      "text/plain": [
       "(array([[0.54, 0.73, 0.94, 0.52, 0.3 , 0.08, 0.98, 0.69, 0.07],\n",
       "        [0.25, 0.43, 0.93, 0.29, 0.86, 0.99, 0.84, 0.5 , 0.25],\n",
       "        [0.84, 0.43, 0.61, 0.32, 0.05, 0.76, 0.38, 0.85, 0.38],\n",
       "        [0.56, 0.25, 0.52, 0.66, 0.41, 0.4 , 0.67, 0.65, 0.54],\n",
       "        [0.02, 0.07, 0.82, 0.04, 0.74, 0.44, 0.69, 0.65, 0.53]]),\n",
       " (5, 9))"
      ]
     },
     "execution_count": 23,
     "metadata": {},
     "output_type": "execute_result"
    }
   ],
   "source": [
    "# Our input data looks like below and has a shape of\n",
    "input_embedding, input_embedding.shape"
   ]
  },
  {
   "cell_type": "code",
   "execution_count": 24,
   "metadata": {},
   "outputs": [
    {
     "data": {
      "text/plain": [
       "(array([[[0.54, 0.73, 0.94, 0.52, 0.3 , 0.08, 0.98, 0.69, 0.07],\n",
       "         [0.25, 0.43, 0.93, 0.29, 0.86, 0.99, 0.84, 0.5 , 0.25],\n",
       "         [0.84, 0.43, 0.61, 0.32, 0.05, 0.76, 0.38, 0.85, 0.38],\n",
       "         [0.56, 0.25, 0.52, 0.66, 0.41, 0.4 , 0.67, 0.65, 0.54],\n",
       "         [0.02, 0.07, 0.82, 0.04, 0.74, 0.44, 0.69, 0.65, 0.53]]]),\n",
       " (1, 5, 9))"
      ]
     },
     "execution_count": 24,
     "metadata": {},
     "output_type": "execute_result"
    }
   ],
   "source": [
    "# To make this a bit more interesting, let's add a batch size via reshaping the input embedding\n",
    "input_embedding = input_embedding.reshape(-1, seq_len, d_model)\n",
    "\n",
    "# Notice the new dimension added\n",
    "input_embedding, input_embedding.shape"
   ]
  },
  {
   "cell_type": "code",
   "execution_count": 24,
   "metadata": {},
   "outputs": [
    {
     "data": {
      "text/plain": [
       "(array([[0.24, 0.32, 0.72],\n",
       "        [0.11, 0.76, 0.4 ],\n",
       "        [0.52, 0.31, 0.56],\n",
       "        [0.25, 0.2 , 0.72],\n",
       "        [0.29, 0.63, 0.64],\n",
       "        [0.47, 0.81, 0.23],\n",
       "        [0.83, 0.49, 0.71],\n",
       "        [0.54, 0.41, 0.37],\n",
       "        [0.65, 0.61, 0.71]]),\n",
       " (9, 3))"
      ]
     },
     "execution_count": 24,
     "metadata": {},
     "output_type": "execute_result"
    }
   ],
   "source": [
    "# Setup the projection matrices for each of the heads\n",
    "# Obviously, this is a simplified view. \n",
    "# There are more interesting ways, such as building one matrix and split it into n_heads\n",
    "# Then doing some reshaping and transposing\n",
    "\n",
    "# Head 0\n",
    "W_q0 = np.random.rand(d_model, d_k).round(2)\n",
    "W_k0 = np.random.rand(d_model, d_k).round(2)\n",
    "W_v0 = np.random.rand(d_model, d_k).round(2)\n",
    "\n",
    "# Head 1\n",
    "W_q1 = np.random.rand(d_model, d_k).round(2)\n",
    "W_k1 = np.random.rand(d_model, d_k).round(2)\n",
    "W_v1 = np.random.rand(d_model, d_k).round(2)\n",
    "\n",
    "# Head 2\n",
    "W_q2 = np.random.rand(d_model, d_k).round(2)\n",
    "W_k2 = np.random.rand(d_model, d_k).round(2)\n",
    "W_v2 = np.random.rand(d_model, d_k).round(2)\n",
    "\n",
    "# Peak into one of the matrices\n",
    "W_q0, W_q0.shape"
   ]
  },
  {
   "cell_type": "code",
   "execution_count": 25,
   "metadata": {},
   "outputs": [
    {
     "data": {
      "text/plain": [
       "(array([[2.2186, 2.2533, 3.4379],\n",
       "        [1.6695, 1.7363, 2.9354],\n",
       "        [1.7962, 1.8967, 2.4002],\n",
       "        [2.227 , 2.4521, 3.3524],\n",
       "        [2.078 , 1.8032, 3.6577]]),\n",
       " (5, 3))"
      ]
     },
     "execution_count": 25,
     "metadata": {},
     "output_type": "execute_result"
    }
   ],
   "source": [
    "# Like we did earlier, the input needs to be multiplied by each of these Q, K and V for each head\n",
    "# I am squeezing these dimensions so as not to have to go back to modify my scaled_dot_product_attention function\n",
    "\n",
    "# Starting with head 0\n",
    "Q_0 = input_embedding.dot(b=W_q0).squeeze()\n",
    "K_0 = input_embedding.dot(b=W_k0).squeeze()\n",
    "V_0 = input_embedding.dot(b=W_v0).squeeze()\n",
    "\n",
    "# Next head 1\n",
    "Q_1 = input_embedding.dot(b=W_q1).squeeze()\n",
    "K_1 = input_embedding.dot(b=W_k1).squeeze()\n",
    "V_1 = input_embedding.dot(b=W_v1).squeeze()\n",
    "\n",
    "# Finally head 2\n",
    "Q_2 = input_embedding.dot(b=W_q2).squeeze()\n",
    "K_2 = input_embedding.dot(b=W_k2).squeeze()\n",
    "V_2 = input_embedding.dot(b=W_v2).squeeze()\n",
    "\n",
    "# Peaking into one Q_2\n",
    "Q_2, Q_2.shape\n"
   ]
  },
  {
   "cell_type": "code",
   "execution_count": 26,
   "metadata": {},
   "outputs": [
    {
     "name": "stdout",
     "output_type": "stream",
     "text": [
      "Attention output shape: (5, 3)\n",
      "Attention output shape: (5, 3)\n",
      "Attention output shape: (5, 3)\n"
     ]
    },
    {
     "data": {
      "text/plain": [
       "(array([[1.83134513, 2.114575  , 1.91262889],\n",
       "        [1.83201242, 2.09422159, 1.89113538],\n",
       "        [1.82995942, 2.0907753 , 1.88862579],\n",
       "        [1.83517201, 2.11220654, 1.90971492],\n",
       "        [1.82609139, 2.1159395 , 1.91447835]]),\n",
       " (5, 3))"
      ]
     },
     "execution_count": 26,
     "metadata": {},
     "output_type": "execute_result"
    }
   ],
   "source": [
    "# As we did before, let's pass these Q, K and V for each head into our scaled_dot_product_attention function\n",
    "head_0_out = scaled_dot_product_attention(query=Q_0, key=K_0, value=V_0)\n",
    "head_1_out = scaled_dot_product_attention(query=Q_1, key=K_1, value=V_1)\n",
    "head_2_out = scaled_dot_product_attention(query=Q_2, key=K_2, value=V_2)\n",
    "\n",
    "# Get a sneak peak at head_2_out\n",
    "head_2_out, head_2_out.shape"
   ]
  },
  {
   "cell_type": "markdown",
   "metadata": {},
   "source": [
    "At this point, we notice we have 3 sets of 5x3 matrices.  \n",
    "Our original input_embeddings has a shape of 5*9. However, here we have 3 sets of 5x3.  \n",
    "How do we get this back to the original dimension size of 5x9? Concatenation!"
   ]
  },
  {
   "cell_type": "code",
   "execution_count": 27,
   "metadata": {},
   "outputs": [
    {
     "data": {
      "text/plain": [
       "(array([[3.04740807, 1.78545351, 3.2824175 , 2.21270187, 2.30285556,\n",
       "         2.44269649, 1.83134513, 2.114575  , 1.91262889],\n",
       "        [3.01572231, 1.77575387, 3.264228  , 2.21542824, 2.29635698,\n",
       "         2.43329439, 1.83201242, 2.09422159, 1.89113538],\n",
       "        [3.01675419, 1.77572809, 3.26450254, 2.21916519, 2.28504049,\n",
       "         2.42036278, 1.82995942, 2.0907753 , 1.88862579],\n",
       "        [3.03632911, 1.78196257, 3.27598099, 2.21438901, 2.30331932,\n",
       "         2.4416257 , 1.83517201, 2.11220654, 1.90971492],\n",
       "        [3.04179889, 1.78274983, 3.27863639, 2.21540338, 2.2968403 ,\n",
       "         2.4345755 , 1.82609139, 2.1159395 , 1.91447835]]),\n",
       " (5, 9))"
      ]
     },
     "execution_count": 27,
     "metadata": {},
     "output_type": "execute_result"
    }
   ],
   "source": [
    "# Get all the outputs from the various heads and put them to gether to get back our input dimension\n",
    "multi_head_output = np.concatenate((head_0_out, head_1_out, head_2_out), axis=-1)\n",
    "multi_head_output, multi_head_output.shape"
   ]
  },
  {
   "cell_type": "code",
   "execution_count": 28,
   "metadata": {},
   "outputs": [
    {
     "data": {
      "text/plain": [
       "(array([[[ 1.4759471 , -1.2672417 ,  1.5403178 , -0.64715856,\n",
       "           0.732115  , -0.0404124 , -0.11644318, -1.3056297 ,\n",
       "          -0.37149438],\n",
       "         [ 1.7306117 , -0.767067  ,  1.4362975 , -0.8113624 ,\n",
       "          -0.25495583,  0.836064  , -0.34894133, -0.65245265,\n",
       "          -1.1681908 ],\n",
       "         [ 1.4639122 , -0.40140373,  2.005514  , -0.376112  ,\n",
       "          -0.816783  , -0.11034926,  0.13357851, -0.9753876 ,\n",
       "          -0.9229674 ],\n",
       "         [ 1.987251  , -0.8319242 ,  1.3226466 , -1.2086434 ,\n",
       "           0.06500284, -0.06695835, -0.31318077,  0.03663429,\n",
       "          -0.9908274 ],\n",
       "         [ 1.2799908 , -1.6930561 ,  1.800691  , -0.8505454 ,\n",
       "           0.41725773,  0.01911202, -0.38925403, -0.35663506,\n",
       "          -0.22756222]]], dtype=float32),\n",
       " (1, 5, 9))"
      ]
     },
     "execution_count": 28,
     "metadata": {},
     "output_type": "execute_result"
    }
   ],
   "source": [
    "# With this in place, we go through the same steps as before\n",
    "# Let's get the outputs\n",
    "multi_head_layer_norm_out = tf.keras.layers.LayerNormalization()(multi_head_output + input_embedding).numpy()\n",
    "multi_head_layer_norm_out, multi_head_layer_norm_out.shape"
   ]
  },
  {
   "cell_type": "code",
   "execution_count": 29,
   "metadata": {},
   "outputs": [
    {
     "data": {
      "text/plain": [
       "(array([[[ 1.29311764e+01, -1.09924470e+01, -1.90726610e+01,\n",
       "           1.89646673e+00,  1.43288608e+01,  2.26665703e+01,\n",
       "          -1.88985953e+01,  1.54776601e+01, -3.96142134e+00],\n",
       "         [ 3.86250487e+00, -9.84489248e+00, -2.10765411e+01,\n",
       "           6.00000860e-01,  1.99664811e+01,  2.91309136e+01,\n",
       "          -2.27175717e+01,  2.89784222e+01, -8.63155542e+00],\n",
       "         [ 1.40362449e-02, -2.23493037e+01, -1.64722052e+01,\n",
       "           7.66181874e+00,  1.10929255e+01,  2.55366653e+01,\n",
       "          -1.05821943e+01,  3.11001412e+01, -1.31931701e+01],\n",
       "         [ 1.22285001e+01, -9.94086117e+00, -3.25052922e+01,\n",
       "           6.99657302e+00,  2.28478722e+01,  3.00058788e+01,\n",
       "          -1.70198386e+01,  1.87363284e+01, -3.55717089e+00],\n",
       "         [ 1.94002871e+01, -1.26273045e-01, -1.93610222e+01,\n",
       "           4.38654323e+00,  1.46314555e+01,  1.45504603e+01,\n",
       "          -1.28268894e+01,  7.24546869e-01,  1.75193100e+00]]]),\n",
       " (1, 5, 9))"
      ]
     },
     "execution_count": 29,
     "metadata": {},
     "output_type": "execute_result"
    }
   ],
   "source": [
    "# Like we did before, pass this through the feed-forward network\n",
    "# I will reuse the same weights from the single head attention\n",
    "multi_ff_1_out = multi_head_layer_norm_out.dot(W_ff_1)\n",
    "multi_relu = ReLU(multi_ff_1_out)\n",
    "multi_ff_2_out = multi_relu.dot(b=W_ff_2)\n",
    "multi_ff_2_out, multi_ff_2_out.shape"
   ]
  },
  {
   "cell_type": "code",
   "execution_count": 30,
   "metadata": {},
   "outputs": [
    {
     "data": {
      "text/plain": [
       "(<tf.Tensor: shape=(1, 5, 9), dtype=float32, numpy=\n",
       " array([[[ 0.8671883 , -0.938077  , -1.2950202 , -0.02355736,\n",
       "           0.9114522 ,  1.4235929 , -1.3953943 ,  0.8512732 ,\n",
       "          -0.4014576 ],\n",
       "         [ 0.17716123, -0.682099  , -1.160816  , -0.13061625,\n",
       "           0.9257777 ,  1.4695642 , -1.342491  ,  1.3825512 ,\n",
       "          -0.6390321 ],\n",
       "         [ 0.0031429 , -1.3874924 , -0.91202044,  0.33648676,\n",
       "           0.5081267 ,  1.3776906 , -0.68139786,  1.6473637 ,\n",
       "          -0.89189994],\n",
       "         [ 0.5782381 , -0.7202563 , -1.7808262 ,  0.14029813,\n",
       "           1.030172  ,  1.3952707 , -1.0611497 ,  0.8150472 ,\n",
       "          -0.39679396],\n",
       "         [ 1.5020843 , -0.36406714, -1.6696497 ,  0.08011176,\n",
       "           1.0349938 ,  0.9952531 , -1.3093362 , -0.18265408,\n",
       "          -0.0867358 ]]], dtype=float32)>,\n",
       " TensorShape([1, 5, 9]))"
      ]
     },
     "execution_count": 30,
     "metadata": {},
     "output_type": "execute_result"
    }
   ],
   "source": [
    "# Wrap this up with layer normalization\n",
    "multi_ff_out = tf.keras.layers.LayerNormalization()(multi_ff_2_out + multi_head_layer_norm_out)\n",
    "multi_ff_out, multi_ff_out.shape"
   ]
  },
  {
   "cell_type": "markdown",
   "metadata": {},
   "source": [
    "Ok. That gives us a great start on understanding the transformer encoder.  \n",
    "Let's now take our learnings and apply it to our text problem from lab **5.03 Applying CNNs to Text Classifications.ipynb**  "
   ]
  },
  {
   "cell_type": "code",
   "execution_count": 31,
   "metadata": {},
   "outputs": [],
   "source": [
    "import psycopg2"
   ]
  },
  {
   "cell_type": "code",
   "execution_count": 32,
   "metadata": {},
   "outputs": [],
   "source": [
    "SERVER_ADDRESS=\"595data.enclaveforensics.com\"\n",
    "db = psycopg2.connect(\n",
    "    host = SERVER_ADDRESS,\n",
    "    database = \"news\",\n",
    "    user = \"sans\",\n",
    "    password = \"training\"\n",
    ")\n",
    "\n",
    "cursor = db.cursor()\n",
    "cursor.execute(f\"\"\"\n",
    "    SELECT category_name, headline, summary \n",
    "        FROM categories, headlines, summaries \n",
    "        WHERE categories.category_id=headlines.category_id AND\n",
    "            headlines.summary_id=summaries.summary_id\n",
    "\"\"\")\n",
    "results = cursor.fetchall()\n",
    "cursor.close()"
   ]
  },
  {
   "cell_type": "markdown",
   "metadata": {},
   "source": [
    "If you were successful, you should now have a result from a SQL cursor object that contains 200,853+ entries.  Just thinking ahead and knowing that we will eventually need to convert the labels into numbers, we could just use the database ID values as the category numbers.  While we could choose to dismiss this idea as something to \"do later,\" let's not do that.  If this were a real-world problem, it is realistic to imagine that we would want to connect our classification network to the real database.  Rather than having to convert every time, it makes much more sense to just load the categories from the database and use them from the beginning.\n",
    "\n",
    "Load the category data in the database into two data structures.  One of these should map from the database ID number to the category name, the other maps from the category name to the database ID number."
   ]
  },
  {
   "cell_type": "code",
   "execution_count": 33,
   "metadata": {},
   "outputs": [],
   "source": [
    "cursor = db.cursor()\n",
    "cursor.execute(f\"\"\"\n",
    "    SELECT category_id, category_name\n",
    "        FROM categories\n",
    "\"\"\")\n",
    "categories = cursor.fetchall()\n",
    "cursor.close()\n",
    "\n",
    "category_labels = [category for cat_id, category in categories]\n",
    "category_id_from_label = {category:cat_id for cat_id, category in categories }"
   ]
  },
  {
   "cell_type": "markdown",
   "metadata": {},
   "source": [
    "Now that we have the categories loaded, it's time to load our news articles.  While we're loading this data, we may as well load the `category_id` rather than the `category_name` since we are going to end up converting them to the matching IDs anyway when we want to train our network.\n",
    "\n",
    "Use the following cell to retrieve all of the headlines, storing the `category_id`, `headline`, and related `summary` text.  As you store these, join the `headline` and `summary` text into a single string."
   ]
  },
  {
   "cell_type": "code",
   "execution_count": 34,
   "metadata": {},
   "outputs": [
    {
     "data": {
      "text/plain": [
       "[(5, 'Lynn Westmoreland Re-Elected In Midterm Election '),\n",
       " (5, 'Jason Carter Defeated In Georgia Gubernatorial Race '),\n",
       " (5, 'Ken Dious Loses To Jody Hice In Georgia House Race '),\n",
       " (5,\n",
       "  'Jody Hice, Anti-Islam Republican, Defeats Ken Dious In Georgia House Race '),\n",
       " (5, 'Austin Scott Re-Elected To U.S. Congress In Georgia '),\n",
       " (5,\n",
       "  'Doug Collins Re-Elected To Congress After Defeating Challenger David Vogel '),\n",
       " (5, 'Barry Loudermilk Wins Election To Represent Georgia In Congress '),\n",
       " (5, 'Brian Reese Defeated In Georgia House Race '),\n",
       " (5, 'Hank Johnson Re-Elected In Midterm Election '),\n",
       " (5, 'David Scott Re-Elected To Congress In Georgia Midterm Election ')]"
      ]
     },
     "execution_count": 34,
     "metadata": {},
     "output_type": "execute_result"
    }
   ],
   "source": [
    "cursor = db.cursor()\n",
    "cursor.execute(f\"\"\"\n",
    "    SELECT category_id, headline, summary\n",
    "        FROM headlines\n",
    "        JOIN summaries ON (headlines.summary_id=summaries.summary_id)\n",
    "\"\"\")\n",
    "headlines = cursor.fetchall()\n",
    "cursor.close()\n",
    "\n",
    "merged_headlines = [(category, (f\"{headline} {summary}\")) for category, headline, summary in headlines]\n",
    "merged_headlines[:10]"
   ]
  },
  {
   "cell_type": "markdown",
   "metadata": {},
   "source": [
    "Our next task will be to compile all of the text into a single body or *corpus*.  With that done, we need to create a mapping between the words and some set of unique numbers.  This should feel like familiar territory since we have worked through this previously.\n",
    "\n",
    "When building a word list from a corpus like this, it's a good idea to remove commas, double-quotes, and periods.  We could also remove quotation marks, but this risks breaking a word like \"can't\" into \"can\" and \"t\".  Let's try leaving single quotes alone for now.\n",
    "\n",
    "Using the text in your merged data, generate a dictionary of unique words and how frequently each occurs.  Be sure to strip out non-word characters, such as periods, commas, exclamations, and the like.\n"
   ]
  },
  {
   "cell_type": "code",
   "execution_count": 35,
   "metadata": {},
   "outputs": [
    {
     "name": "stdout",
     "output_type": "stream",
     "text": [
      "Dictionary contains 130310 words.\n"
     ]
    }
   ],
   "source": [
    "import re\n",
    "\n",
    "all_words = {}\n",
    "regex = re.compile(\"[^\\w\\s']\")\n",
    "for _,text in merged_headlines:\n",
    "    words = []\n",
    "    for word in re.sub(regex, '', text.lower()).split():\n",
    "        words.append(word)\n",
    "    for word in words:\n",
    "        if all_words.__contains__(word)==True:\n",
    "            all_words[word] = all_words[word]+1\n",
    "        else:\n",
    "            all_words[word] = 1\n",
    "            \n",
    "word_dictionary = sorted(all_words.items(), key=lambda key_value: key_value[1], reverse=True)\n",
    "word_dictionary[:5]\n",
    "word_index = {k[0]:i+1 for i, k in enumerate(sorted(word_dictionary, key=lambda k_v: k_v[1], reverse=True))}\n",
    "word_index[\"___\"] = 0\n",
    "print(f'Dictionary contains {len(all_words.keys())} words.')"
   ]
  },
  {
   "cell_type": "markdown",
   "metadata": {},
   "source": [
    "With a word dictionary in hand that maps from a word to a word number, we are ready to start building our training data.  When we do so, we are looking to prepare two numpy arrays.  One will have the labels in it, which is simple enough.  The second will have an array of word numbers.\n",
    "\n",
    "Previously, we used the *Bag of Words* approach, generating a multi-hot encoded vector indicating which words were present in a given text.  One of the major limitations of this approach was that we only know that a word was present, not the order that the words appeared in.  If you consider the two following sentences, you will appreciate why this is such a big problem:\n",
    "\n",
    "> You did understand\n",
    "\n",
    "> Did you understand\n",
    "\n",
    "Both of these sentences contain the same words and they would be encoded identically under Bag of Words.  Bag of Words also doesn't preserve the number of times any given word appears in a piece of text.\n",
    "\n",
    "Since we are looking to preserve word order and context, we need a way to encode our data that does this.  TensorFlow has just such a useful tool built into the Keras library.  The `tensorflow.keras.preprocessing.sequence.pad_sequences()` utility function is just what we're looking for:\n",
    "\n",
    "```\n",
    "pad_sequences(sequences, maxlen=None, dtype='int32', padding='pre', \n",
    "    truncating='pre', value=0.0)\n",
    "    Pads sequences to the same length.\n",
    "    \n",
    "    This function transforms a list of\n",
    "    `num_samples` sequences (lists of integers)\n",
    "    into a 2D Numpy array of shape `(num_samples, num_timesteps)`.\n",
    "    `num_timesteps` is either the `maxlen` argument if provided,\n",
    "    or the length of the longest sequence otherwise.\n",
    "    \n",
    "    Sequences that are shorter than `num_timesteps`\n",
    "    are padded with `value` at the end.\n",
    "    \n",
    "    Sequences longer than `num_timesteps` are truncated\n",
    "    so that they fit the desired length.\n",
    "    The position where padding or truncation happens is determined by\n",
    "    the arguments `padding` and `truncating`, respectively.\n",
    "    \n",
    "    Pre-padding is the default.\n",
    "    \n",
    "    # Arguments\n",
    "        sequences: List of lists, where each element is a sequence.\n",
    "        maxlen: Int, maximum length of all sequences.\n",
    "        dtype: Type of the output sequences.\n",
    "            To pad sequences with variable length strings, you can use `object`.\n",
    "        padding: String, 'pre' or 'post':\n",
    "            pad either before or after each sequence.\n",
    "        truncating: String, 'pre' or 'post':\n",
    "            remove values from sequences larger than\n",
    "            `maxlen`, either at the beginning or at the end of the sequences.\n",
    "        value: Float or String, padding value.\n",
    "    \n",
    "    # Returns\n",
    "        x: Numpy array with shape `(len(sequences), maxlen)`\n",
    "    \n",
    "    # Raises\n",
    "        ValueError: In case of invalid values for `truncating` or `padding`,\n",
    "            or in case of invalid shape for a `sequences` entry.\n",
    "```\n",
    "\n",
    "In the following cell:\n",
    "\n",
    " * Import all of the required libraries, classes, and functions from TensorFlow and numpy\n",
    " * Create a numpy array `y_labels` containing all of the labels\n",
    " * Create a numpy array from the merged headlines data as follows:\n",
    "     * Process in the same way that the text was processed to generate the dictionary, removing most punctuation and converting to lower case\n",
    "     * Preserve only the 80,000 most common words in the headlines; replace anything beyond this with zeros\n",
    "     * Using this processed text, convert the text to the correct word ID values\n",
    "     * The final value added to `x_data` should be the result of the `pad_sequences()` function; use a maximum length of 25 words, padding the ends of the sequences with the zero marker"
   ]
  },
  {
   "cell_type": "code",
   "execution_count": 36,
   "metadata": {},
   "outputs": [],
   "source": [
    "import tensorflow as tf\n",
    "from tensorflow.keras.preprocessing import sequence\n",
    "from tensorflow.keras import layers, models\n",
    "import numpy as np\n",
    "import os\n",
    "import datetime\n",
    "\n",
    "def tokenize(text, words=100):\n",
    "    \"\"\"\n",
    "    Accepts a list of words and optional number of words.  Returns a\n",
    "    list of word indexes for each word.\n",
    "    \"\"\"\n",
    "    word_array = [word_index[w] if word_index[w] < words else 0 for w in text]\n",
    "    return word_array\n",
    "\n",
    "def text_to_clean_list(text):\n",
    "    regex = re.compile(\"[^\\w\\s']\")\n",
    "    return re.sub(regex, '', text.lower()).split()\n",
    "\n",
    "y_labels = np.array([label for label,_ in merged_headlines])\n",
    "x_data = [tokenize(text_to_clean_list(headline), 80000) for _,headline in merged_headlines]\n",
    "x_data = sequence.pad_sequences(x_data, maxlen=25, padding=\"post\", value=0)"
   ]
  },
  {
   "cell_type": "markdown",
   "metadata": {},
   "source": [
    "Let's take stock.  We have:\n",
    "  * Successfully imported the headlines\n",
    "  * Converted the categories to numbers\n",
    "  * Vectorized the headlines\n",
    "  * Built a forward and reverse dictionary of the words\n",
    "\n",
    "Our text is ready to go, but our labels still need some work.\n",
    "\n",
    "Please use the next cell to one-hot encode the training labels, storing them in an array named `y_train`."
   ]
  },
  {
   "cell_type": "code",
   "execution_count": 37,
   "metadata": {},
   "outputs": [
    {
     "data": {
      "text/plain": [
       "(200853, 42)"
      ]
     },
     "execution_count": 37,
     "metadata": {},
     "output_type": "execute_result"
    }
   ],
   "source": [
    "y_train =  tf.keras.utils.to_categorical(y_labels)\n",
    "y_train.shape"
   ]
  },
  {
   "cell_type": "code",
   "execution_count": 49,
   "metadata": {},
   "outputs": [
    {
     "data": {
      "text/plain": [
       "array([[ 7414, 51017, 13041,     6,  5523,   341,     0,     0,     0,\n",
       "            0,     0,     0,     0,     0,     0,     0,     0,     0,\n",
       "            0,     0,     0,     0,     0,     0,     0]])"
      ]
     },
     "execution_count": 49,
     "metadata": {},
     "output_type": "execute_result"
    }
   ],
   "source": [
    "# Get a sample of the data\n",
    "x_data[:1]"
   ]
  },
  {
   "cell_type": "code",
   "execution_count": 52,
   "metadata": {},
   "outputs": [
    {
     "data": {
      "text/plain": [
       "(array([[0., 0., 0., 0., 0., 1., 0., 0., 0., 0., 0., 0., 0., 0., 0., 0.,\n",
       "         0., 0., 0., 0., 0., 0., 0., 0., 0., 0., 0., 0., 0., 0., 0., 0.,\n",
       "         0., 0., 0., 0., 0., 0., 0., 0., 0., 0.]], dtype=float32),\n",
       " (200853, 42))"
      ]
     },
     "execution_count": 52,
     "metadata": {},
     "output_type": "execute_result"
    }
   ],
   "source": [
    "# Get a view of y\n",
    "y_train[:1], y_train.shape"
   ]
  },
  {
   "cell_type": "code",
   "execution_count": 53,
   "metadata": {},
   "outputs": [
    {
     "data": {
      "text/plain": [
       "(array([[ 7414, 51017, 13041, ...,     0,     0,     0],\n",
       "        [ 2369,  3728,  7635, ...,     0,     0,     0],\n",
       "        [ 5347, 51018,  2954, ...,     0,     0,     0],\n",
       "        ...,\n",
       "        [  168,   108,  1592, ...,    67,     2,  1358],\n",
       "        [   76,     0,   481, ...,     1,   188,   790],\n",
       "        [  830,     4,  1009, ...,     1, 32920, 63083]]),\n",
       " dtype('int32'))"
      ]
     },
     "execution_count": 53,
     "metadata": {},
     "output_type": "execute_result"
    }
   ],
   "source": [
    "# Change the datatype for x_data to int32\n",
    "x_data = x_data.astype(int)\n",
    "x_data, x_data.dtype"
   ]
  },
  {
   "cell_type": "code",
   "execution_count": 54,
   "metadata": {},
   "outputs": [],
   "source": [
    "# Setup some variables\n",
    "max_len = 25\n",
    "vocab_size = 80000\n",
    "embedding_dim = 32\n",
    "input_length=25\n",
    "num_heads = 2\n",
    "ff_dim = 32"
   ]
  },
  {
   "cell_type": "code",
   "execution_count": 55,
   "metadata": {},
   "outputs": [],
   "source": [
    "# We're now ready to build our network using the transformer architecture.  \n",
    "# Like we did before, let's start this process off with our token embeddings and position embeddings\n",
    "\n",
    "class TokenAndPositionEmbedding(tf.keras.layers.Layer):\n",
    "    def __init__(self, max_len=max_len, vocab_size=vocab_size, embedding_dim=embedding_dim):\n",
    "        super(TokenAndPositionEmbedding, self).__init__()\n",
    "        self.token_embedding = tf.keras.layers.Embedding(input_dim=vocab_size, output_dim=embedding_dim)\n",
    "        self.pos_embedding = tf.keras.layers.Embedding(input_dim=max_len, output_dim=embedding_dim)\n",
    "    \n",
    "    def call(self, x):\n",
    "        max_len = x.shape[-1]\n",
    "        \n",
    "        # Get the position embedding\n",
    "        word_positions = self.pos_embedding(np.arange(max_len))\n",
    "\n",
    "        # Get the embeddings for the input tokens\n",
    "        x = self.token_embedding(x)\n",
    "        \n",
    "        # Add the position and word embeddings together\n",
    "        x = x + word_positions\n",
    "\n",
    "        return x"
   ]
  },
  {
   "cell_type": "code",
   "execution_count": 56,
   "metadata": {},
   "outputs": [],
   "source": [
    "# Time for the encoder block with the multi-head attention\n",
    "# Basically what we covered before\n",
    "\n",
    "class TransformerBlock(tf.keras.layers.Layer):\n",
    "    def __init__(self, embedding_dim=embedding_dim, num_heads=num_heads, ff_dim=ff_dim, rate=0.1):\n",
    "        super(TransformerBlock, self).__init__()\n",
    "        \n",
    "        # Setup the multi-head attention\n",
    "        self.attention = tf.keras.layers.MultiHeadAttention(num_heads=num_heads, key_dim=embedding_dim)\n",
    "\n",
    "        # Setup the feed forward layers\n",
    "        self.ff = tf.keras.Sequential(layers=[\n",
    "                tf.keras.layers.Dense(units=ff_dim, activation='relu', name='ff1'),\n",
    "                tf.keras.layers.Dense(units=embedding_dim)\n",
    "        ], name='Transformer_Sequential')\n",
    "\n",
    "        # Setup layer normalization\n",
    "        self.layer_norm_1 = tf.keras.layers.LayerNormalization(epsilon=1e-6)\n",
    "        self.layer_norm_2 = tf.keras.layers.LayerNormalization(epsilon=1e-6)\n",
    "\n",
    "        # Introduce dropout\n",
    "        self.dropout_1 = tf.keras.layers.Dropout(rate=rate)\n",
    "        self.dropout_2 = tf.keras.layers.Dropout(rate=rate)\n",
    "\n",
    "\n",
    "    def call(self, inputs, training=None):\n",
    "        attention_output = self.attention(inputs, inputs)\n",
    "        attention_output = self.dropout_1(attention_output, training=training)\n",
    "        layer_norm_1_out = self.layer_norm_1(inputs + attention_output)\n",
    "        ff_out = self.ff(layer_norm_1_out)\n",
    "        ff_out = self.dropout_2(ff_out, training=training)\n",
    "        layer_norm_2_out = self.layer_norm_2(ff_out + layer_norm_1_out)\n",
    "\n",
    "        return  layer_norm_2_out"
   ]
  },
  {
   "cell_type": "code",
   "execution_count": 57,
   "metadata": {},
   "outputs": [
    {
     "data": {
      "text/plain": [
       "<keras.engine.functional.Functional at 0x223fc5002e0>"
      ]
     },
     "execution_count": 57,
     "metadata": {},
     "output_type": "execute_result"
    }
   ],
   "source": [
    "# Build our model using the functional API\n",
    "input_layer = tf.keras.layers.Input(shape=(max_len,))\n",
    "embedding_layer = TokenAndPositionEmbedding(max_len, vocab_size, embedding_dim)\n",
    "x = embedding_layer(input_layer)\n",
    "transformer_block = TransformerBlock(embedding_dim, num_heads, ff_dim)\n",
    "x = transformer_block(x)\n",
    "x = tf.keras.layers.GlobalAveragePooling1D()(x)\n",
    "x = tf.keras.layers.Dropout(rate=0.1)(x)\n",
    "x = tf.keras.layers.Dense(units=20, activation='relu')(x)\n",
    "x = tf.keras.layers.Dropout(rate=0.1)(x)\n",
    "\n",
    "output_layer = tf.keras.layers.Dense(units=42, activation='softmax')(x)\n",
    "\n",
    "model = tf.keras.Model(inputs=[input_layer], outputs=[output_layer])\n",
    "model"
   ]
  },
  {
   "cell_type": "code",
   "execution_count": 58,
   "metadata": {},
   "outputs": [
    {
     "name": "stdout",
     "output_type": "stream",
     "text": [
      "Model: \"model_1\"\n",
      "____________________________________________________________________________\n",
      " Layer (type)                Output Shape              Param #   Trainable  \n",
      "============================================================================\n",
      " input_2 (InputLayer)        [(None, 25)]              0         Y          \n",
      "                                                                            \n",
      " token_and_position_embeddin  (None, 25, 32)           2560800   Y          \n",
      " g_1 (TokenAndPositionEmbedd                                                \n",
      " ing)                                                                       \n",
      "                                                                            \n",
      " transformer_block_1 (Transf  (None, 25, 32)           10656     Y          \n",
      " ormerBlock)                                                                \n",
      "                                                                            \n",
      " global_average_pooling1d_1   (None, 32)               0         Y          \n",
      " (GlobalAveragePooling1D)                                                   \n",
      "                                                                            \n",
      " dropout_6 (Dropout)         (None, 32)                0         Y          \n",
      "                                                                            \n",
      " dense_4 (Dense)             (None, 20)                660       Y          \n",
      "                                                                            \n",
      " dropout_7 (Dropout)         (None, 20)                0         Y          \n",
      "                                                                            \n",
      " dense_5 (Dense)             (None, 42)                882       Y          \n",
      "                                                                            \n",
      "============================================================================\n",
      "Total params: 2,572,998\n",
      "Trainable params: 2,572,998\n",
      "Non-trainable params: 0\n",
      "____________________________________________________________________________\n"
     ]
    }
   ],
   "source": [
    "# Get the model summary\n",
    "model.summary(expand_nested=True, show_trainable=True)"
   ]
  },
  {
   "cell_type": "code",
   "execution_count": 59,
   "metadata": {},
   "outputs": [
    {
     "data": {
      "image/png": "[encoded data removed]",
      "text/plain": [
       "<IPython.core.display.Image object>"
      ]
     },
     "execution_count": 59,
     "metadata": {},
     "output_type": "execute_result"
    }
   ],
   "source": [
    "# Plot the model\n",
    "tf.keras.utils.plot_model(model=model, show_dtype=True, show_shapes=True, show_layer_activations=True, show_layer_names=True)"
   ]
  },
  {
   "cell_type": "code",
   "execution_count": 60,
   "metadata": {},
   "outputs": [
    {
     "name": "stdout",
     "output_type": "stream",
     "text": [
      "Epoch 1/7\n",
      "1883/1883 [==============================] - 69s 36ms/step - loss: 2.3051 - accuracy: 0.4214 - val_loss: 1.9090 - val_accuracy: 0.5055\n",
      "Epoch 2/7\n",
      "1883/1883 [==============================] - 64s 34ms/step - loss: 1.6482 - accuracy: 0.5662 - val_loss: 1.7916 - val_accuracy: 0.5345\n",
      "Epoch 3/7\n",
      "1883/1883 [==============================] - 75s 40ms/step - loss: 1.3344 - accuracy: 0.6376 - val_loss: 1.8605 - val_accuracy: 0.5256\n",
      "Epoch 4/7\n",
      "1883/1883 [==============================] - 97s 52ms/step - loss: 1.1131 - accuracy: 0.6913 - val_loss: 2.0642 - val_accuracy: 0.5169\n",
      "Epoch 5/7\n",
      "1883/1883 [==============================] - 86s 46ms/step - loss: 0.9506 - accuracy: 0.7327 - val_loss: 2.2707 - val_accuracy: 0.5039\n",
      "Epoch 6/7\n",
      "1883/1883 [==============================] - 67s 36ms/step - loss: 0.8325 - accuracy: 0.7631 - val_loss: 2.5716 - val_accuracy: 0.4924\n",
      "Epoch 7/7\n",
      "1883/1883 [==============================] - 66s 35ms/step - loss: 0.7465 - accuracy: 0.7835 - val_loss: 2.7184 - val_accuracy: 0.4831\n"
     ]
    }
   ],
   "source": [
    "# Compile the model\n",
    "model.compile(loss='categorical_crossentropy',\n",
    "              optimizer='adam',\n",
    "              metrics=['accuracy'])\n",
    "\n",
    "# Train the model\n",
    "history=model.fit(x_data, y_train,\n",
    "          batch_size=80,\n",
    "          epochs=7,\n",
    "          validation_split=0.25)"
   ]
  },
  {
   "cell_type": "markdown",
   "metadata": {},
   "source": [
    "After 7 epochs, this model's Transformer architecture produced an accuracy of about 50 and a validation accuracy of around 51  \n",
    "Maybe if we modify the architecture we will get better accuracy. However, the take away is that the Transformer architecture has a validation accuracy of 51% while the CNN after 7 epoch has around 48%. While not significantly better, the transformer does seem to produce a slight improvement.\n",
    "\n",
    "Maybe it is the data that does not work well for CNN or Transformer in this case."
   ]
  },
  {
   "cell_type": "code",
   "execution_count": 61,
   "metadata": {},
   "outputs": [],
   "source": [
    "import matplotlib.pyplot as plt"
   ]
  },
  {
   "cell_type": "code",
   "execution_count": 62,
   "metadata": {},
   "outputs": [
    {
     "data": {
      "text/plain": [
       "<matplotlib.legend.Legend at 0x223874c55d0>"
      ]
     },
     "execution_count": 62,
     "metadata": {},
     "output_type": "execute_result"
    },
    {
     "data": {
      "image/png": "[encoded data removed]",
      "text/plain": [
       "<Figure size 640x480 with 1 Axes>"
      ]
     },
     "metadata": {},
     "output_type": "display_data"
    }
   ],
   "source": [
    "# Plot the losses\n",
    "plt.title('Training vs Validation Loss')\n",
    "plt.plot(history.history['loss'], label='training loss')\n",
    "plt.plot(history.history['val_loss'], label='validation loss')\n",
    "plt.xlabel('Epochs')\n",
    "plt.ylabel('loss')\n",
    "plt.legend()"
   ]
  },
  {
   "cell_type": "code",
   "execution_count": 63,
   "metadata": {},
   "outputs": [
    {
     "data": {
      "text/plain": [
       "<matplotlib.legend.Legend at 0x223874c58d0>"
      ]
     },
     "execution_count": 63,
     "metadata": {},
     "output_type": "execute_result"
    },
    {
     "data": {
      "image/png": "[encoded data removed]",
      "text/plain": [
       "<Figure size 640x480 with 1 Axes>"
      ]
     },
     "metadata": {},
     "output_type": "display_data"
    }
   ],
   "source": [
    "# Plot the accuracy\n",
    "plt.title('Training vs Validation Accuracy')\n",
    "plt.plot(history.history['accuracy'], label='training accuracy')\n",
    "plt.plot(history.history['val_accuracy'], label='validation accuracy')\n",
    "plt.xlabel('Epochs')\n",
    "plt.ylabel('Accuracy')\n",
    "plt.legend()"
   ]
  },
  {
   "cell_type": "markdown",
   "metadata": {},
   "source": [
    "Well that's it! We looked at how we can use the Transformer architecture to try to solve the this text classification problem. \n",
    "\n",
    "You can try to modify the architecture to see if you can get better accuracy.  \n",
    "\n",
    "Hope you enjoyed this notebook as we got an introduction of the Transformer architecture."
   ]
  },
  {
   "cell_type": "code",
   "execution_count": null,
   "metadata": {},
   "outputs": [],
   "source": []
  },
  {
   "cell_type": "code",
   "execution_count": null,
   "metadata": {},
   "outputs": [],
   "source": []
  }
 ],
 "metadata": {
  "kernelspec": {
   "display_name": "dev",
   "language": "python",
   "name": "python3"
  },
  "language_info": {
   "codemirror_mode": {
    "name": "ipython",
    "version": 3
   },
   "file_extension": ".py",
   "mimetype": "text/x-python",
   "name": "python",
   "nbconvert_exporter": "python",
   "pygments_lexer": "ipython3",
   "version": "3.10.13"
  }
 },
 "nbformat": 4,
 "nbformat_minor": 2
}
