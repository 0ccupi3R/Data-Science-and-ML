{
 "cells": [
  {
   "cell_type": "code",
   "execution_count": 1,
   "metadata": {},
   "outputs": [
    {
     "data": {
      "text/plain": [
       "'\\nSANS Presentation\\nAddressing the alert fatigue with Supervised ML\\n\\nWith the large number of alerts being generated daily by security tools, \\nwe need a way to reduce that noise. This noteboo/livestream is showing\\none method to address these alerts. Particularly from the IBM QRadar SIEM\\n \\nAssociated Video: https://www.youtube.com/watch?v=XdKbyhUst_s\\n\\n'"
      ]
     },
     "execution_count": 1,
     "metadata": {},
     "output_type": "execute_result"
    }
   ],
   "source": [
    "'''\n",
    "SANS Presentation\n",
    "Addressing the alert fatigue with Supervised ML\n",
    "\n",
    "With the large number of alerts being generated daily by security tools, \n",
    "we need a way to reduce that noise. This noteboo/livestream is showing\n",
    "one method to address these alerts. Particularly from the IBM QRadar SIEM\n",
    "Associated Video: https://www.youtube.com/watch?v=XdKbyhUst_s\n",
    "'''"
   ]
  },
  {
   "cell_type": "code",
   "execution_count": 2,
   "metadata": {},
   "outputs": [],
   "source": [
    "# Import the initial libraries\n",
    "import pandas as pd\n",
    "import numpy as np"
   ]
  },
  {
   "cell_type": "code",
   "execution_count": 3,
   "metadata": {},
   "outputs": [
    {
     "data": {
      "text/html": [
       "<div>\n",
       "<style scoped>\n",
       "    .dataframe tbody tr th:only-of-type {\n",
       "        vertical-align: middle;\n",
       "    }\n",
       "\n",
       "    .dataframe tbody tr th {\n",
       "        vertical-align: top;\n",
       "    }\n",
       "\n",
       "    .dataframe thead th {\n",
       "        text-align: right;\n",
       "    }\n",
       "</style>\n",
       "<table border=\"1\" class=\"dataframe\">\n",
       "  <thead>\n",
       "    <tr style=\"text-align: right;\">\n",
       "      <th></th>\n",
       "      <th>Description</th>\n",
       "      <th>Details</th>\n",
       "      <th>Status</th>\n",
       "    </tr>\n",
       "  </thead>\n",
       "  <tbody>\n",
       "    <tr>\n",
       "      <th>0</th>\n",
       "      <td>SEVERITY-3: DE000: AWS Cloud: Password Policy ...</td>\n",
       "      <td>AlertID: 44459\\nAlert start time: 2021-04-15 0...</td>\n",
       "      <td>True Positive - Benign</td>\n",
       "    </tr>\n",
       "    <tr>\n",
       "      <th>1</th>\n",
       "      <td>SEVERITY-3: E0000: Detected Excessive Executio...</td>\n",
       "      <td>AlertID: 41400\\nAlert start time: 2021-03-28 1...</td>\n",
       "      <td>True Positive - Benign</td>\n",
       "    </tr>\n",
       "    <tr>\n",
       "      <th>2</th>\n",
       "      <td>SEVERITY-3: CC000: Excessive Outbound Connecti...</td>\n",
       "      <td>Alert ID: 43646\\nAlert Description: SEVERITY-3...</td>\n",
       "      <td>True Positive - Benign</td>\n",
       "    </tr>\n",
       "    <tr>\n",
       "      <th>3</th>\n",
       "      <td>SEVERITY-3: High Number of Blocked Events from...</td>\n",
       "      <td>AlertID: 34089\\nAlert start time: 2020-11-02 1...</td>\n",
       "      <td>False Positive</td>\n",
       "    </tr>\n",
       "    <tr>\n",
       "      <th>4</th>\n",
       "      <td>SEVERITY-3: IA006: Multiple Login Failures for...</td>\n",
       "      <td>AlertID: 37923\\nAlert start time: 2021-03-05 0...</td>\n",
       "      <td>True Positive - Benign</td>\n",
       "    </tr>\n",
       "  </tbody>\n",
       "</table>\n",
       "</div>"
      ],
      "text/plain": [
       "                                         Description  \\\n",
       "0  SEVERITY-3: DE000: AWS Cloud: Password Policy ...   \n",
       "1  SEVERITY-3: E0000: Detected Excessive Executio...   \n",
       "2  SEVERITY-3: CC000: Excessive Outbound Connecti...   \n",
       "3  SEVERITY-3: High Number of Blocked Events from...   \n",
       "4  SEVERITY-3: IA006: Multiple Login Failures for...   \n",
       "\n",
       "                                             Details                  Status  \n",
       "0  AlertID: 44459\\nAlert start time: 2021-04-15 0...  True Positive - Benign  \n",
       "1  AlertID: 41400\\nAlert start time: 2021-03-28 1...  True Positive - Benign  \n",
       "2  Alert ID: 43646\\nAlert Description: SEVERITY-3...  True Positive - Benign  \n",
       "3  AlertID: 34089\\nAlert start time: 2020-11-02 1...          False Positive  \n",
       "4  AlertID: 37923\\nAlert start time: 2021-03-05 0...  True Positive - Benign  "
      ]
     },
     "execution_count": 3,
     "metadata": {},
     "output_type": "execute_result"
    }
   ],
   "source": [
    "# Gain access to the data and perform an initial read\n",
    "pd.read_csv(r'D:\\ML\\SecurityIncidents.csv', header=0, sep=',', encoding_errors='ignore').head(5)"
   ]
  },
  {
   "cell_type": "code",
   "execution_count": 4,
   "metadata": {},
   "outputs": [
    {
     "data": {
      "text/html": [
       "<div>\n",
       "<style scoped>\n",
       "    .dataframe tbody tr th:only-of-type {\n",
       "        vertical-align: middle;\n",
       "    }\n",
       "\n",
       "    .dataframe tbody tr th {\n",
       "        vertical-align: top;\n",
       "    }\n",
       "\n",
       "    .dataframe thead th {\n",
       "        text-align: right;\n",
       "    }\n",
       "</style>\n",
       "<table border=\"1\" class=\"dataframe\">\n",
       "  <thead>\n",
       "    <tr style=\"text-align: right;\">\n",
       "      <th></th>\n",
       "      <th>Description</th>\n",
       "      <th>Details</th>\n",
       "      <th>Status</th>\n",
       "    </tr>\n",
       "  </thead>\n",
       "  <tbody>\n",
       "    <tr>\n",
       "      <th>0</th>\n",
       "      <td>SEVERITY-3: DE000: AWS Cloud: Password Policy ...</td>\n",
       "      <td>AlertID: 44459\\nAlert start time: 2021-04-15 0...</td>\n",
       "      <td>True Positive - Benign</td>\n",
       "    </tr>\n",
       "    <tr>\n",
       "      <th>1</th>\n",
       "      <td>SEVERITY-3: E0000: Detected Excessive Executio...</td>\n",
       "      <td>AlertID: 41400\\nAlert start time: 2021-03-28 1...</td>\n",
       "      <td>True Positive - Benign</td>\n",
       "    </tr>\n",
       "    <tr>\n",
       "      <th>2</th>\n",
       "      <td>SEVERITY-3: CC000: Excessive Outbound Connecti...</td>\n",
       "      <td>Alert ID: 43646\\nAlert Description: SEVERITY-3...</td>\n",
       "      <td>True Positive - Benign</td>\n",
       "    </tr>\n",
       "    <tr>\n",
       "      <th>3</th>\n",
       "      <td>SEVERITY-3: High Number of Blocked Events from...</td>\n",
       "      <td>AlertID: 34089\\nAlert start time: 2020-11-02 1...</td>\n",
       "      <td>False Positive</td>\n",
       "    </tr>\n",
       "    <tr>\n",
       "      <th>4</th>\n",
       "      <td>SEVERITY-3: IA006: Multiple Login Failures for...</td>\n",
       "      <td>AlertID: 37923\\nAlert start time: 2021-03-05 0...</td>\n",
       "      <td>True Positive - Benign</td>\n",
       "    </tr>\n",
       "  </tbody>\n",
       "</table>\n",
       "</div>"
      ],
      "text/plain": [
       "                                         Description  \\\n",
       "0  SEVERITY-3: DE000: AWS Cloud: Password Policy ...   \n",
       "1  SEVERITY-3: E0000: Detected Excessive Executio...   \n",
       "2  SEVERITY-3: CC000: Excessive Outbound Connecti...   \n",
       "3  SEVERITY-3: High Number of Blocked Events from...   \n",
       "4  SEVERITY-3: IA006: Multiple Login Failures for...   \n",
       "\n",
       "                                             Details                  Status  \n",
       "0  AlertID: 44459\\nAlert start time: 2021-04-15 0...  True Positive - Benign  \n",
       "1  AlertID: 41400\\nAlert start time: 2021-03-28 1...  True Positive - Benign  \n",
       "2  Alert ID: 43646\\nAlert Description: SEVERITY-3...  True Positive - Benign  \n",
       "3  AlertID: 34089\\nAlert start time: 2020-11-02 1...          False Positive  \n",
       "4  AlertID: 37923\\nAlert start time: 2021-03-05 0...  True Positive - Benign  "
      ]
     },
     "execution_count": 4,
     "metadata": {},
     "output_type": "execute_result"
    }
   ],
   "source": [
    "# Acquire the data\n",
    "df_security_incidents = pd.read_csv(r'D:\\ML\\SecurityIncidents.csv', header=0, sep=',', encoding_errors='ignore')\n",
    "\n",
    "# Begin Exploratory data analysis (EDA)\n",
    "df_security_incidents.head(5)"
   ]
  },
  {
   "cell_type": "code",
   "execution_count": 5,
   "metadata": {},
   "outputs": [
    {
     "name": "stdout",
     "output_type": "stream",
     "text": [
      "<class 'pandas.core.frame.DataFrame'>\n",
      "RangeIndex: 27001 entries, 0 to 27000\n",
      "Data columns (total 3 columns):\n",
      " #   Column       Non-Null Count  Dtype \n",
      "---  ------       --------------  ----- \n",
      " 0   Description  27001 non-null  object\n",
      " 1   Details      27001 non-null  object\n",
      " 2   Status       27001 non-null  object\n",
      "dtypes: object(3)\n",
      "memory usage: 633.0+ KB\n"
     ]
    }
   ],
   "source": [
    "# Grab some info on the table\n",
    "df_security_incidents.info()"
   ]
  },
  {
   "cell_type": "code",
   "execution_count": 6,
   "metadata": {},
   "outputs": [
    {
     "data": {
      "text/plain": [
       "'SEVERITY-3: DE000: AWS Cloud: Password Policy Updated - securitynik - Alert Index: Username:  Dome9CloudBots'"
      ]
     },
     "execution_count": 6,
     "metadata": {},
     "output_type": "execute_result"
    }
   ],
   "source": [
    "# look at the first record short description\n",
    "df_security_incidents['Description'][0]"
   ]
  },
  {
   "cell_type": "code",
   "execution_count": 7,
   "metadata": {},
   "outputs": [
    {
     "data": {
      "text/plain": [
       "\"AlertID: 44459\\nAlert start time: 2021-04-15 07:01:26\\nAlert Description:SEVERITY-3: DE000: AWS Cloud: Password Policy Updated - securitynik\\nAlert Criticality: Medium\\nMultiple Category: ['Suspicious Activity', 'Policy Change']\\nFirst Event Timestamp: 2021-04-15 07:01:26\\nLast Event Timestamp:2021-04-15 07:02:59\\nAlert Type: Alert\\nAlert Index: Username\\nSource IP: IP  is not valid\\nDestination IP: IP  is not valid\\nMagnitude: 2\""
      ]
     },
     "execution_count": 7,
     "metadata": {},
     "output_type": "execute_result"
    }
   ],
   "source": [
    "# look at the first record description\n",
    "df_security_incidents.Details[0]"
   ]
  },
  {
   "cell_type": "code",
   "execution_count": 8,
   "metadata": {},
   "outputs": [
    {
     "data": {
      "text/plain": [
       "False Positive               22848\n",
       "True Positive - Benign        3802\n",
       "True Positive - Malicious      351\n",
       "Name: Status, dtype: int64"
      ]
     },
     "execution_count": 8,
     "metadata": {},
     "output_type": "execute_result"
    }
   ],
   "source": [
    "# Get the unique values for the labels\n",
    "# These are the targets and what we would like to predict\n",
    "df_security_incidents['Status'].value_counts()"
   ]
  },
  {
   "cell_type": "code",
   "execution_count": 9,
   "metadata": {},
   "outputs": [],
   "source": [
    "# Plot a bar graph of the various status for a better view\n",
    "# Some folks are more visual and thus prefer pretty graphs\n",
    "from matplotlib import pyplot as plt"
   ]
  },
  {
   "cell_type": "code",
   "execution_count": 10,
   "metadata": {},
   "outputs": [
    {
     "data": {
      "text/plain": [
       "([0, 1, 2], [Text(0, 0, ''), Text(0, 0, ''), Text(0, 0, '')])"
      ]
     },
     "execution_count": 10,
     "metadata": {},
     "output_type": "execute_result"
    },
    {
     "data": {
      "image/png": "[encoded data removed]",
      "text/plain": [
       "<Figure size 432x288 with 1 Axes>"
      ]
     },
     "metadata": {
      "needs_background": "light"
     },
     "output_type": "display_data"
    }
   ],
   "source": [
    "# Get statistics on the number of records\n",
    "plt.title('Status distributions')\n",
    "plt.bar(x=sorted(df_security_incidents.Status.unique()), height=df_security_incidents['Status'].value_counts(), color='red', align='center')\n",
    "plt.xlabel('Labels')\n",
    "plt.ylabel('count')\n",
    "plt.xticks(rotation=45)"
   ]
  },
  {
   "cell_type": "code",
   "execution_count": 11,
   "metadata": {},
   "outputs": [
    {
     "data": {
      "text/html": [
       "<div>\n",
       "<style scoped>\n",
       "    .dataframe tbody tr th:only-of-type {\n",
       "        vertical-align: middle;\n",
       "    }\n",
       "\n",
       "    .dataframe tbody tr th {\n",
       "        vertical-align: top;\n",
       "    }\n",
       "\n",
       "    .dataframe thead th {\n",
       "        text-align: right;\n",
       "    }\n",
       "</style>\n",
       "<table border=\"1\" class=\"dataframe\">\n",
       "  <thead>\n",
       "    <tr style=\"text-align: right;\">\n",
       "      <th></th>\n",
       "      <th>Description</th>\n",
       "      <th>Details</th>\n",
       "      <th>Status</th>\n",
       "      <th>Data</th>\n",
       "    </tr>\n",
       "  </thead>\n",
       "  <tbody>\n",
       "    <tr>\n",
       "      <th>0</th>\n",
       "      <td>SEVERITY-3: DE000: AWS Cloud: Password Policy ...</td>\n",
       "      <td>AlertID: 44459\\nAlert start time: 2021-04-15 0...</td>\n",
       "      <td>True Positive - Benign</td>\n",
       "      <td>SEVERITY-3: DE000: AWS Cloud: Password Policy ...</td>\n",
       "    </tr>\n",
       "    <tr>\n",
       "      <th>1</th>\n",
       "      <td>SEVERITY-3: E0000: Detected Excessive Executio...</td>\n",
       "      <td>AlertID: 41400\\nAlert start time: 2021-03-28 1...</td>\n",
       "      <td>True Positive - Benign</td>\n",
       "      <td>SEVERITY-3: E0000: Detected Excessive Executio...</td>\n",
       "    </tr>\n",
       "    <tr>\n",
       "      <th>2</th>\n",
       "      <td>SEVERITY-3: CC000: Excessive Outbound Connecti...</td>\n",
       "      <td>Alert ID: 43646\\nAlert Description: SEVERITY-3...</td>\n",
       "      <td>True Positive - Benign</td>\n",
       "      <td>SEVERITY-3: CC000: Excessive Outbound Connecti...</td>\n",
       "    </tr>\n",
       "    <tr>\n",
       "      <th>3</th>\n",
       "      <td>SEVERITY-3: High Number of Blocked Events from...</td>\n",
       "      <td>AlertID: 34089\\nAlert start time: 2020-11-02 1...</td>\n",
       "      <td>False Positive</td>\n",
       "      <td>SEVERITY-3: High Number of Blocked Events from...</td>\n",
       "    </tr>\n",
       "    <tr>\n",
       "      <th>4</th>\n",
       "      <td>SEVERITY-3: IA006: Multiple Login Failures for...</td>\n",
       "      <td>AlertID: 37923\\nAlert start time: 2021-03-05 0...</td>\n",
       "      <td>True Positive - Benign</td>\n",
       "      <td>SEVERITY-3: IA006: Multiple Login Failures for...</td>\n",
       "    </tr>\n",
       "  </tbody>\n",
       "</table>\n",
       "</div>"
      ],
      "text/plain": [
       "                                         Description  \\\n",
       "0  SEVERITY-3: DE000: AWS Cloud: Password Policy ...   \n",
       "1  SEVERITY-3: E0000: Detected Excessive Executio...   \n",
       "2  SEVERITY-3: CC000: Excessive Outbound Connecti...   \n",
       "3  SEVERITY-3: High Number of Blocked Events from...   \n",
       "4  SEVERITY-3: IA006: Multiple Login Failures for...   \n",
       "\n",
       "                                             Details                  Status  \\\n",
       "0  AlertID: 44459\\nAlert start time: 2021-04-15 0...  True Positive - Benign   \n",
       "1  AlertID: 41400\\nAlert start time: 2021-03-28 1...  True Positive - Benign   \n",
       "2  Alert ID: 43646\\nAlert Description: SEVERITY-3...  True Positive - Benign   \n",
       "3  AlertID: 34089\\nAlert start time: 2020-11-02 1...          False Positive   \n",
       "4  AlertID: 37923\\nAlert start time: 2021-03-05 0...  True Positive - Benign   \n",
       "\n",
       "                                                Data  \n",
       "0  SEVERITY-3: DE000: AWS Cloud: Password Policy ...  \n",
       "1  SEVERITY-3: E0000: Detected Excessive Executio...  \n",
       "2  SEVERITY-3: CC000: Excessive Outbound Connecti...  \n",
       "3  SEVERITY-3: High Number of Blocked Events from...  \n",
       "4  SEVERITY-3: IA006: Multiple Login Failures for...  "
      ]
     },
     "execution_count": 11,
     "metadata": {},
     "output_type": "execute_result"
    }
   ],
   "source": [
    "# First up, let's combine the description and \n",
    "# Grab some info on the table\n",
    "df_security_incidents['Data'] = df_security_incidents.Description + ' ' + df_security_incidents.Details\n",
    "df_security_incidents.head(5)"
   ]
  },
  {
   "cell_type": "code",
   "execution_count": 12,
   "metadata": {},
   "outputs": [
    {
     "data": {
      "text/html": [
       "<div>\n",
       "<style scoped>\n",
       "    .dataframe tbody tr th:only-of-type {\n",
       "        vertical-align: middle;\n",
       "    }\n",
       "\n",
       "    .dataframe tbody tr th {\n",
       "        vertical-align: top;\n",
       "    }\n",
       "\n",
       "    .dataframe thead th {\n",
       "        text-align: right;\n",
       "    }\n",
       "</style>\n",
       "<table border=\"1\" class=\"dataframe\">\n",
       "  <thead>\n",
       "    <tr style=\"text-align: right;\">\n",
       "      <th></th>\n",
       "      <th>Description</th>\n",
       "      <th>Details</th>\n",
       "      <th>Status</th>\n",
       "      <th>Data</th>\n",
       "      <th>y_labels</th>\n",
       "    </tr>\n",
       "  </thead>\n",
       "  <tbody>\n",
       "    <tr>\n",
       "      <th>0</th>\n",
       "      <td>SEVERITY-3: DE000: AWS Cloud: Password Policy ...</td>\n",
       "      <td>AlertID: 44459\\nAlert start time: 2021-04-15 0...</td>\n",
       "      <td>True Positive - Benign</td>\n",
       "      <td>SEVERITY-3: DE000: AWS Cloud: Password Policy ...</td>\n",
       "      <td>1</td>\n",
       "    </tr>\n",
       "    <tr>\n",
       "      <th>1</th>\n",
       "      <td>SEVERITY-3: E0000: Detected Excessive Executio...</td>\n",
       "      <td>AlertID: 41400\\nAlert start time: 2021-03-28 1...</td>\n",
       "      <td>True Positive - Benign</td>\n",
       "      <td>SEVERITY-3: E0000: Detected Excessive Executio...</td>\n",
       "      <td>1</td>\n",
       "    </tr>\n",
       "    <tr>\n",
       "      <th>2</th>\n",
       "      <td>SEVERITY-3: CC000: Excessive Outbound Connecti...</td>\n",
       "      <td>Alert ID: 43646\\nAlert Description: SEVERITY-3...</td>\n",
       "      <td>True Positive - Benign</td>\n",
       "      <td>SEVERITY-3: CC000: Excessive Outbound Connecti...</td>\n",
       "      <td>1</td>\n",
       "    </tr>\n",
       "    <tr>\n",
       "      <th>3</th>\n",
       "      <td>SEVERITY-3: High Number of Blocked Events from...</td>\n",
       "      <td>AlertID: 34089\\nAlert start time: 2020-11-02 1...</td>\n",
       "      <td>False Positive</td>\n",
       "      <td>SEVERITY-3: High Number of Blocked Events from...</td>\n",
       "      <td>0</td>\n",
       "    </tr>\n",
       "    <tr>\n",
       "      <th>4</th>\n",
       "      <td>SEVERITY-3: IA006: Multiple Login Failures for...</td>\n",
       "      <td>AlertID: 37923\\nAlert start time: 2021-03-05 0...</td>\n",
       "      <td>True Positive - Benign</td>\n",
       "      <td>SEVERITY-3: IA006: Multiple Login Failures for...</td>\n",
       "      <td>1</td>\n",
       "    </tr>\n",
       "  </tbody>\n",
       "</table>\n",
       "</div>"
      ],
      "text/plain": [
       "                                         Description  \\\n",
       "0  SEVERITY-3: DE000: AWS Cloud: Password Policy ...   \n",
       "1  SEVERITY-3: E0000: Detected Excessive Executio...   \n",
       "2  SEVERITY-3: CC000: Excessive Outbound Connecti...   \n",
       "3  SEVERITY-3: High Number of Blocked Events from...   \n",
       "4  SEVERITY-3: IA006: Multiple Login Failures for...   \n",
       "\n",
       "                                             Details                  Status  \\\n",
       "0  AlertID: 44459\\nAlert start time: 2021-04-15 0...  True Positive - Benign   \n",
       "1  AlertID: 41400\\nAlert start time: 2021-03-28 1...  True Positive - Benign   \n",
       "2  Alert ID: 43646\\nAlert Description: SEVERITY-3...  True Positive - Benign   \n",
       "3  AlertID: 34089\\nAlert start time: 2020-11-02 1...          False Positive   \n",
       "4  AlertID: 37923\\nAlert start time: 2021-03-05 0...  True Positive - Benign   \n",
       "\n",
       "                                                Data  y_labels  \n",
       "0  SEVERITY-3: DE000: AWS Cloud: Password Policy ...         1  \n",
       "1  SEVERITY-3: E0000: Detected Excessive Executio...         1  \n",
       "2  SEVERITY-3: CC000: Excessive Outbound Connecti...         1  \n",
       "3  SEVERITY-3: High Number of Blocked Events from...         0  \n",
       "4  SEVERITY-3: IA006: Multiple Login Failures for...         1  "
      ]
     },
     "execution_count": 12,
     "metadata": {},
     "output_type": "execute_result"
    }
   ],
   "source": [
    "df_security_incidents['y_labels'] = df_security_incidents['Status'].map(dict({'False Positive':0, 'True Positive - Benign':1, 'True Positive - Malicious':1}))\n",
    "df_security_incidents.head(5)"
   ]
  },
  {
   "cell_type": "code",
   "execution_count": 13,
   "metadata": {},
   "outputs": [
    {
     "data": {
      "text/plain": [
       "<AxesSubplot:>"
      ]
     },
     "execution_count": 13,
     "metadata": {},
     "output_type": "execute_result"
    },
    {
     "data": {
      "image/png": "[encoded data removed]",
      "text/plain": [
       "<Figure size 432x288 with 1 Axes>"
      ]
     },
     "metadata": {
      "needs_background": "light"
     },
     "output_type": "display_data"
    }
   ],
   "source": [
    "# Plot a bar graph of the two classes\n",
    "# This time, take advantage of pandas bar plot\n",
    "df_security_incidents.y_labels.value_counts().plot.bar()"
   ]
  },
  {
   "cell_type": "code",
   "execution_count": 14,
   "metadata": {},
   "outputs": [
    {
     "data": {
      "text/plain": [
       "(27001, 5)"
      ]
     },
     "execution_count": 14,
     "metadata": {},
     "output_type": "execute_result"
    }
   ],
   "source": [
    "# Identifying how skewed the data set is\n",
    "df_security_incidents.shape\n"
   ]
  },
  {
   "cell_type": "code",
   "execution_count": 15,
   "metadata": {},
   "outputs": [
    {
     "data": {
      "text/plain": [
       "0    22848\n",
       "1     4153\n",
       "Name: y_labels, dtype: int64"
      ]
     },
     "execution_count": 15,
     "metadata": {},
     "output_type": "execute_result"
    }
   ],
   "source": [
    "# Revisit the distribution of the new labels\n",
    "df_security_incidents['y_labels'].value_counts()"
   ]
  },
  {
   "cell_type": "code",
   "execution_count": 16,
   "metadata": {},
   "outputs": [
    {
     "data": {
      "text/plain": [
       "15.0"
      ]
     },
     "execution_count": 16,
     "metadata": {},
     "output_type": "execute_result"
    }
   ],
   "source": [
    "# Confirm the percentage of records in the y labels \n",
    "# That are 1\n",
    "round( df_security_incidents['y_labels'].value_counts()[1] / df_security_incidents.shape[0], 2 ) * 100\n"
   ]
  },
  {
   "cell_type": "code",
   "execution_count": 17,
   "metadata": {},
   "outputs": [
    {
     "data": {
      "text/html": [
       "<div>\n",
       "<style scoped>\n",
       "    .dataframe tbody tr th:only-of-type {\n",
       "        vertical-align: middle;\n",
       "    }\n",
       "\n",
       "    .dataframe tbody tr th {\n",
       "        vertical-align: top;\n",
       "    }\n",
       "\n",
       "    .dataframe thead th {\n",
       "        text-align: right;\n",
       "    }\n",
       "</style>\n",
       "<table border=\"1\" class=\"dataframe\">\n",
       "  <thead>\n",
       "    <tr style=\"text-align: right;\">\n",
       "      <th></th>\n",
       "      <th>Data</th>\n",
       "      <th>y_labels</th>\n",
       "    </tr>\n",
       "  </thead>\n",
       "  <tbody>\n",
       "    <tr>\n",
       "      <th>0</th>\n",
       "      <td>SEVERITY-3: DE000: AWS Cloud: Password Policy ...</td>\n",
       "      <td>1</td>\n",
       "    </tr>\n",
       "    <tr>\n",
       "      <th>1</th>\n",
       "      <td>SEVERITY-3: E0000: Detected Excessive Executio...</td>\n",
       "      <td>1</td>\n",
       "    </tr>\n",
       "    <tr>\n",
       "      <th>2</th>\n",
       "      <td>SEVERITY-3: CC000: Excessive Outbound Connecti...</td>\n",
       "      <td>1</td>\n",
       "    </tr>\n",
       "    <tr>\n",
       "      <th>3</th>\n",
       "      <td>SEVERITY-3: High Number of Blocked Events from...</td>\n",
       "      <td>0</td>\n",
       "    </tr>\n",
       "    <tr>\n",
       "      <th>4</th>\n",
       "      <td>SEVERITY-3: IA006: Multiple Login Failures for...</td>\n",
       "      <td>1</td>\n",
       "    </tr>\n",
       "  </tbody>\n",
       "</table>\n",
       "</div>"
      ],
      "text/plain": [
       "                                                Data  y_labels\n",
       "0  SEVERITY-3: DE000: AWS Cloud: Password Policy ...         1\n",
       "1  SEVERITY-3: E0000: Detected Excessive Executio...         1\n",
       "2  SEVERITY-3: CC000: Excessive Outbound Connecti...         1\n",
       "3  SEVERITY-3: High Number of Blocked Events from...         0\n",
       "4  SEVERITY-3: IA006: Multiple Login Failures for...         1"
      ]
     },
     "execution_count": 17,
     "metadata": {},
     "output_type": "execute_result"
    }
   ],
   "source": [
    "# Let the dataset only focus on Data and status y_labels fields\n",
    "df_security_incidents.drop(columns=['Description', 'Details', 'Status'], inplace=True)\n",
    "df_security_incidents.head(5)"
   ]
  },
  {
   "cell_type": "code",
   "execution_count": 18,
   "metadata": {},
   "outputs": [],
   "source": [
    "# Go ahead and split the data into training and testing sets\n",
    "from sklearn.model_selection import train_test_split"
   ]
  },
  {
   "cell_type": "code",
   "execution_count": 19,
   "metadata": {},
   "outputs": [
    {
     "data": {
      "text/plain": [
       "((18900,), (18900,), (8101,), (8101,))"
      ]
     },
     "execution_count": 19,
     "metadata": {},
     "output_type": "execute_result"
    }
   ],
   "source": [
    "# Split the data into 70% training and 30% test while stratifying\n",
    "X_train, X_test, y_train, y_test = train_test_split(df_security_incidents['Data'], df_security_incidents['y_labels'], random_state=10, test_size=.30, train_size=.70, stratify=df_security_incidents['y_labels'])\n",
    "\n",
    "# Get the shape of the splitted data\n",
    "X_train.shape, y_train.shape, X_test.shape, y_test.shape"
   ]
  },
  {
   "cell_type": "code",
   "execution_count": 20,
   "metadata": {},
   "outputs": [
    {
     "data": {
      "text/plain": [
       "\"SEVERITY-3: DE000: AWS Cloud: Password Policy Updated - securitynik - Alert Index: Username:  Dome9CloudBots AlertID: 44459\\nAlert start time: 2021-04-15 07:01:26\\nAlert Description:SEVERITY-3: DE000: AWS Cloud: Password Policy Updated - securitynik\\nAlert Criticality: Medium\\nMultiple Category: ['Suspicious Activity', 'Policy Change']\\nFirst Event Timestamp: 2021-04-15 07:01:26\\nLast Event Timestamp:2021-04-15 07:02:59\\nAlert Type: Alert\\nAlert Index: Username\\nSource IP: IP  is not valid\\nDestination IP: IP  is not valid\\nMagnitude: 2\""
      ]
     },
     "execution_count": 20,
     "metadata": {},
     "output_type": "execute_result"
    }
   ],
   "source": [
    "# Show that we cannot build the model as the input is all text\n",
    "# Machine learning algorithm need numbers\n",
    "X_train[0]"
   ]
  },
  {
   "cell_type": "code",
   "execution_count": 21,
   "metadata": {},
   "outputs": [
    {
     "name": "stderr",
     "output_type": "stream",
     "text": [
      "[nltk_data] Downloading package punkt to\n",
      "[nltk_data]     C:\\Users\\SecurityNik\\AppData\\Roaming\\nltk_data...\n",
      "[nltk_data]   Package punkt is already up-to-date!\n"
     ]
    },
    {
     "data": {
      "text/plain": [
       "True"
      ]
     },
     "execution_count": 21,
     "metadata": {},
     "output_type": "execute_result"
    }
   ],
   "source": [
    "# Import NLTK tookkit\n",
    "import nltk\n",
    "nltk.download('punkt')"
   ]
  },
  {
   "cell_type": "code",
   "execution_count": 22,
   "metadata": {},
   "outputs": [],
   "source": [
    "# Setup a word cloud for X_Train\n",
    "from wordcloud import WordCloud"
   ]
  },
  {
   "cell_type": "code",
   "execution_count": 23,
   "metadata": {},
   "outputs": [
    {
     "data": {
      "text/plain": [
       "<matplotlib.image.AxesImage at 0x25dab5235e0>"
      ]
     },
     "execution_count": 23,
     "metadata": {},
     "output_type": "execute_result"
    },
    {
     "data": {
      "image/png": "[encoded data removed]",
      "text/plain": [
       "<Figure size 720x720 with 1 Axes>"
      ]
     },
     "metadata": {
      "needs_background": "light"
     },
     "output_type": "display_data"
    }
   ],
   "source": [
    "my_wordcloud = WordCloud(max_font_size=50, max_words=100, background_color='white').generate(X_train[0])\n",
    "plt.figure(figsize=(10,10))\n",
    "plt.imshow(my_wordcloud)"
   ]
  },
  {
   "cell_type": "code",
   "execution_count": 24,
   "metadata": {},
   "outputs": [
    {
     "data": {
      "text/plain": [
       "[['SEVERITY-3client1106:',\n",
       "  'Detected',\n",
       "  'Excessive',\n",
       "  'Execution',\n",
       "  'of',\n",
       "  'SC',\n",
       "  'Command',\n",
       "  '-',\n",
       "  'Alert',\n",
       "  'Index:',\n",
       "  'Source',\n",
       "  'IP:',\n",
       "  '10.10.99.220',\n",
       "  'Alert',\n",
       "  'ID:',\n",
       "  '25337',\n",
       "  'Alert',\n",
       "  'Description:',\n",
       "  'SEVERITY-3client1106:',\n",
       "  'Detected',\n",
       "  'Excessive',\n",
       "  'Execution',\n",
       "  'of',\n",
       "  'SC',\n",
       "  'Command',\n",
       "  'containing',\n",
       "  'Process',\n",
       "  'Create',\n",
       "  'Alert',\n",
       "  'Type:',\n",
       "  'Source',\n",
       "  'IP',\n",
       "  '#',\n",
       "  'of',\n",
       "  'Alerts:',\n",
       "  '1',\n",
       "  'Source',\n",
       "  'IP:',\n",
       "  '10.10.99.220',\n",
       "  'Destination',\n",
       "  'IP:',\n",
       "  '10.10.99.220',\n",
       "  'User:',\n",
       "  'A0M812',\n",
       "  'Hostname:',\n",
       "  'client122875.ad.client1.local',\n",
       "  'Location:',\n",
       "  'Wireless_Networks.Prod_MB_Wireless',\n",
       "  'Log',\n",
       "  'Source(s)',\n",
       "  'reporting',\n",
       "  'on',\n",
       "  'this',\n",
       "  'Alert:',\n",
       "  'WindowsAuthServer',\n",
       "  '@',\n",
       "  'client122875.ad.client1.local,',\n",
       "  'Custom',\n",
       "  'Rule',\n",
       "  'Engine-103',\n",
       "  '::',\n",
       "  'client1-siem20',\n",
       "  'Low',\n",
       "  'level',\n",
       "  'category:',\n",
       "  'Misc',\n",
       "  'Malware,',\n",
       "  'Process',\n",
       "  'Creation',\n",
       "  'Success',\n",
       "  'IP',\n",
       "  'Threat',\n",
       "  'Intelligence:',\n",
       "  'X-Force,',\n",
       "  'IPVoid,',\n",
       "  'Virus',\n",
       "  'Total',\n",
       "  'Alert',\n",
       "  'Criticality:',\n",
       "  'Medium',\n",
       "  'Threat',\n",
       "  'details',\n",
       "  'Alert',\n",
       "  'Creation',\n",
       "  'time:',\n",
       "  'Sep',\n",
       "  '16,',\n",
       "  '2020,',\n",
       "  '12:17:55',\n",
       "  'PM',\n",
       "  'First',\n",
       "  'event',\n",
       "  'timestamp:',\n",
       "  'Sep',\n",
       "  '16,',\n",
       "  '2020,',\n",
       "  '12:17:22',\n",
       "  'PM',\n",
       "  'Last',\n",
       "  'event',\n",
       "  'timestamp:',\n",
       "  'Sep',\n",
       "  '16,',\n",
       "  '2020,',\n",
       "  '12:18:37',\n",
       "  'PM',\n",
       "  'Duration',\n",
       "  'of',\n",
       "  'activity:',\n",
       "  '1',\n",
       "  'minute',\n",
       "  '14',\n",
       "  'seconds',\n",
       "  'Detailed',\n",
       "  'description:',\n",
       "  'SEVERITY-3client1106:',\n",
       "  'Detected',\n",
       "  'Excessive',\n",
       "  'Execution',\n",
       "  'of',\n",
       "  'SC',\n",
       "  'Command',\n",
       "  'containing',\n",
       "  'Process',\n",
       "  'Create',\n",
       "  'QRadar',\n",
       "  'Alert',\n",
       "  'Link:',\n",
       "  'https://10.0.0.1/console/qradar/jsp/QRadar.jsp?appName=Sem&pageId=AlertSummary&summaryId=25337']]"
      ]
     },
     "execution_count": 24,
     "metadata": {},
     "output_type": "execute_result"
    }
   ],
   "source": [
    "# Extract all individual words as a list\n",
    "all_words = X_train.str.split().values.tolist()\n",
    "all_words[0:1]"
   ]
  },
  {
   "cell_type": "code",
   "execution_count": 25,
   "metadata": {},
   "outputs": [
    {
     "data": {
      "text/plain": [
       "['SEVERITY-3client1106:',\n",
       " 'Detected',\n",
       " 'Excessive',\n",
       " 'Execution',\n",
       " 'of',\n",
       " 'SC',\n",
       " 'Command',\n",
       " '-',\n",
       " 'Alert',\n",
       " 'Index:']"
      ]
     },
     "execution_count": 25,
     "metadata": {},
     "output_type": "execute_result"
    }
   ],
   "source": [
    "# Flatten the list of list\n",
    "flatten_words = [ new_word for word in all_words for new_word in word ]\n",
    "flatten_words[:10]"
   ]
  },
  {
   "cell_type": "code",
   "execution_count": 26,
   "metadata": {},
   "outputs": [],
   "source": [
    "# Import collections\n",
    "from collections import Counter"
   ]
  },
  {
   "cell_type": "code",
   "execution_count": 27,
   "metadata": {},
   "outputs": [
    {
     "data": {
      "text/plain": [
       "[('Alert', 117632),\n",
       " ('IP:', 49076),\n",
       " ('Source', 41126),\n",
       " ('Event', 36846),\n",
       " ('-', 31724),\n",
       " ('Timestamp:', 28434),\n",
       " ('Index:', 28382),\n",
       " ('IP', 24310),\n",
       " ('Destination', 22790),\n",
       " ('Multiple', 20383)]"
      ]
     },
     "execution_count": 27,
     "metadata": {},
     "output_type": "execute_result"
    }
   ],
   "source": [
    "# Setup the word counter\n",
    "word_counter = Counter(flatten_words)\n",
    "\n",
    "# Get the most common words\n",
    "most_common_words = word_counter.most_common()\n",
    "\n",
    "# print the top 10 common words\n",
    "most_common_words[:10]"
   ]
  },
  {
   "cell_type": "code",
   "execution_count": 28,
   "metadata": {},
   "outputs": [],
   "source": [
    "# Setup two dictionaries to get the top words and their counts\n",
    "x_words, y_counts = [], []\n",
    "\n",
    "# Now add the values above to the two list\n",
    "# In the interest of time, use the first 50\n",
    "for word, count in most_common_words[:25]:\n",
    "    x_words.append(word)\n",
    "    y_counts.append(count)"
   ]
  },
  {
   "cell_type": "code",
   "execution_count": 29,
   "metadata": {},
   "outputs": [],
   "source": [
    "# Import seaborn for easier graphs\n",
    "import seaborn as sns"
   ]
  },
  {
   "cell_type": "code",
   "execution_count": 30,
   "metadata": {},
   "outputs": [
    {
     "data": {
      "image/png": "[encoded data removed]",
      "text/plain": [
       "<Figure size 360x720 with 1 Axes>"
      ]
     },
     "metadata": {
      "needs_background": "light"
     },
     "output_type": "display_data"
    }
   ],
   "source": [
    "# Plot a bar graph of the unigrams\n",
    "plt.figure(figsize=(5, 10))\n",
    "plt.xlabel('counts')\n",
    "plt.ylabel('unigrams')\n",
    "sns.barplot(x=y_counts, y=x_words)\n",
    "sns.despine()"
   ]
  },
  {
   "cell_type": "code",
   "execution_count": 31,
   "metadata": {},
   "outputs": [],
   "source": [
    "# Create a function to clean the data\n",
    "my_stop_words = ['alert', 'event', 'criticality', 'description', 'timestamp', 'start', 'time', 'first', 'last']\n",
    "\n",
    "regex_tokenizer = nltk.tokenize.RegexpTokenizer('\\s+', gaps=True)\n",
    "pstemmer = nltk.PorterStemmer()\n",
    "\n",
    "def clean_data(data):\n",
    "    print(f'[+] Cleaning ...')\n",
    "    cleaned_data = data.str.lower()\n",
    "    cleaned_data = cleaned_data.str.replace('\\n', ' ').str.replace('\\t', ' ').str.replace(']',' ').str.replace('[',' ').str.replace(':', ' ')\n",
    "    cleaned_data = cleaned_data.str.replace(r'\\s\\d+\\-\\d+\\-\\d+.*?\\s+alert', ' ', regex=True)\n",
    "    \n",
    "    # Tokenize the sentences\n",
    "    cleaned_data = cleaned_data.apply(nltk.tokenize.word_tokenize)\n",
    "\n",
    "    # apply stop words\n",
    "    cleaned_data = cleaned_data.apply(lambda x: ' '.join([ word for word in x if word not in my_stop_words]))\n",
    "\n",
    "    # lametize the data\n",
    "    cleaned_data = cleaned_data.apply(lambda x: [ pstemmer.stem(word, to_lowercase=True) for word in regex_tokenizer.tokenize(x)])\n",
    "\n",
    "    print(f'[+] Done Cleaning ...')\n",
    "    return cleaned_data\n",
    "\n"
   ]
  },
  {
   "cell_type": "code",
   "execution_count": 32,
   "metadata": {},
   "outputs": [
    {
     "name": "stdout",
     "output_type": "stream",
     "text": [
      "[+] Cleaning ...\n"
     ]
    },
    {
     "name": "stderr",
     "output_type": "stream",
     "text": [
      "C:\\Users\\SECURI~1\\AppData\\Local\\Temp/ipykernel_6424/2257533938.py:10: FutureWarning: The default value of regex will change from True to False in a future version. In addition, single character regular expressions will *not* be treated as literal strings when regex=True.\n",
      "  cleaned_data = cleaned_data.str.replace('\\n', ' ').str.replace('\\t', ' ').str.replace(']',' ').str.replace('[',' ').str.replace(':', ' ')\n"
     ]
    },
    {
     "name": "stdout",
     "output_type": "stream",
     "text": [
      "[+] Done Cleaning ...\n"
     ]
    }
   ],
   "source": [
    "# call the function to clean the train data\n",
    "X_train = clean_data(X_train)"
   ]
  },
  {
   "cell_type": "code",
   "execution_count": 33,
   "metadata": {},
   "outputs": [
    {
     "data": {
      "text/plain": [
       "pandas.core.series.Series"
      ]
     },
     "execution_count": 33,
     "metadata": {},
     "output_type": "execute_result"
    }
   ],
   "source": [
    "type(X_train)"
   ]
  },
  {
   "cell_type": "code",
   "execution_count": 34,
   "metadata": {},
   "outputs": [
    {
     "data": {
      "text/plain": [
       "['severity-3',\n",
       " 'de000',\n",
       " 'aw',\n",
       " 'cloud',\n",
       " 'password',\n",
       " 'polici',\n",
       " 'updat',\n",
       " '-',\n",
       " 'securitynik',\n",
       " '-',\n",
       " 'index',\n",
       " 'usernam',\n",
       " 'dome9cloudbot',\n",
       " 'alertid',\n",
       " '44459',\n",
       " 'severity-3',\n",
       " 'de000',\n",
       " 'aw',\n",
       " 'cloud',\n",
       " 'password',\n",
       " 'polici',\n",
       " 'updat',\n",
       " '-',\n",
       " 'securitynik',\n",
       " 'medium',\n",
       " 'multipl',\n",
       " 'categori',\n",
       " \"'suspici\",\n",
       " 'activ',\n",
       " \"'\",\n",
       " ',',\n",
       " \"'polici\",\n",
       " 'chang',\n",
       " \"'\",\n",
       " 'type',\n",
       " 'index',\n",
       " 'usernam',\n",
       " 'sourc',\n",
       " 'ip',\n",
       " 'ip',\n",
       " 'is',\n",
       " 'not',\n",
       " 'valid',\n",
       " 'destin',\n",
       " 'ip',\n",
       " 'ip',\n",
       " 'is',\n",
       " 'not',\n",
       " 'valid',\n",
       " 'magnitud',\n",
       " '2']"
      ]
     },
     "execution_count": 34,
     "metadata": {},
     "output_type": "execute_result"
    }
   ],
   "source": [
    "X_train[0]"
   ]
  },
  {
   "cell_type": "code",
   "execution_count": 35,
   "metadata": {},
   "outputs": [],
   "source": [
    "# import TFIDF Vectorizer\n",
    "from sklearn.feature_extraction.text import TfidfVectorizer, CountVectorizer\n",
    "\n",
    "from sklearn.pipeline import Pipeline\n",
    "from sklearn.naive_bayes import ComplementNB\n",
    "from sklearn.linear_model import LogisticRegression\n",
    "from sklearn.ensemble import AdaBoostClassifier\n",
    "from sklearn.model_selection import learning_curve\n",
    "from sklearn.metrics import plot_confusion_matrix, classification_report\n"
   ]
  },
  {
   "cell_type": "code",
   "execution_count": 36,
   "metadata": {},
   "outputs": [
    {
     "data": {
      "text/html": [
       "<div>\n",
       "<style scoped>\n",
       "    .dataframe tbody tr th:only-of-type {\n",
       "        vertical-align: middle;\n",
       "    }\n",
       "\n",
       "    .dataframe tbody tr th {\n",
       "        vertical-align: top;\n",
       "    }\n",
       "\n",
       "    .dataframe thead th {\n",
       "        text-align: right;\n",
       "    }\n",
       "</style>\n",
       "<table border=\"1\" class=\"dataframe\">\n",
       "  <thead>\n",
       "    <tr style=\"text-align: right;\">\n",
       "      <th></th>\n",
       "      <th>paper</th>\n",
       "      <th>rock</th>\n",
       "      <th>sans</th>\n",
       "      <th>scissor</th>\n",
       "    </tr>\n",
       "  </thead>\n",
       "  <tbody>\n",
       "    <tr>\n",
       "      <th>0</th>\n",
       "      <td>0.000000</td>\n",
       "      <td>0.707107</td>\n",
       "      <td>0.707107</td>\n",
       "      <td>0.00000</td>\n",
       "    </tr>\n",
       "    <tr>\n",
       "      <th>1</th>\n",
       "      <td>0.673255</td>\n",
       "      <td>0.522842</td>\n",
       "      <td>0.522842</td>\n",
       "      <td>0.00000</td>\n",
       "    </tr>\n",
       "    <tr>\n",
       "      <th>2</th>\n",
       "      <td>0.504107</td>\n",
       "      <td>0.391484</td>\n",
       "      <td>0.391484</td>\n",
       "      <td>0.66284</td>\n",
       "    </tr>\n",
       "  </tbody>\n",
       "</table>\n",
       "</div>"
      ],
      "text/plain": [
       "      paper      rock      sans  scissor\n",
       "0  0.000000  0.707107  0.707107  0.00000\n",
       "1  0.673255  0.522842  0.522842  0.00000\n",
       "2  0.504107  0.391484  0.391484  0.66284"
      ]
     },
     "execution_count": 36,
     "metadata": {},
     "output_type": "execute_result"
    }
   ],
   "source": [
    "# What is this TFIDF?\n",
    "corpus = ['SANS Rock', 'SANS Rock Paper', 'SANS Rock Paper Scissor']\n",
    "tfidf_vect = TfidfVectorizer()\n",
    "vectorized_corpus = tfidf_vect.fit_transform(corpus)\n",
    "pd.DataFrame(vectorized_corpus.toarray(), columns=tfidf_vect.get_feature_names())\n"
   ]
  },
  {
   "cell_type": "code",
   "execution_count": 37,
   "metadata": {},
   "outputs": [],
   "source": [
    "# Setup a list to store the models\n",
    "models = []"
   ]
  },
  {
   "cell_type": "code",
   "execution_count": 38,
   "metadata": {},
   "outputs": [],
   "source": [
    "# Prepare the pipelines\n",
    "nb_pipeline = Pipeline([\n",
    "                ('tfidf', TfidfVectorizer()),\n",
    "                ('nb_clf', ComplementNB()),\n",
    "            ])\n",
    "\n",
    "lr_pipeline = Pipeline([\n",
    "                ('tfidf', TfidfVectorizer()),\n",
    "                ('lr_clf', LogisticRegression()),\n",
    "            ])\n",
    "\n",
    "ada_pipeline = Pipeline([\n",
    "                ('tfidf', TfidfVectorizer()),\n",
    "                ('ada_clf', ComplementNB()),\n",
    "            ])"
   ]
  },
  {
   "cell_type": "code",
   "execution_count": 39,
   "metadata": {},
   "outputs": [
    {
     "data": {
      "text/plain": [
       "[Pipeline(steps=[('tfidf', TfidfVectorizer()), ('nb_clf', ComplementNB())]),\n",
       " Pipeline(steps=[('tfidf', TfidfVectorizer()), ('lr_clf', LogisticRegression())]),\n",
       " Pipeline(steps=[('tfidf', TfidfVectorizer()), ('ada_clf', ComplementNB())])]"
      ]
     },
     "execution_count": 39,
     "metadata": {},
     "output_type": "execute_result"
    }
   ],
   "source": [
    "# Append the pipelines to the model list\n",
    "models.append(nb_pipeline)\n",
    "models.append(lr_pipeline)\n",
    "models.append(ada_pipeline)\n",
    "\n",
    "# Print out the model list\n",
    "models"
   ]
  },
  {
   "cell_type": "code",
   "execution_count": 40,
   "metadata": {},
   "outputs": [
    {
     "data": {
      "text/plain": [
       "(18900, 18900)"
      ]
     },
     "execution_count": 40,
     "metadata": {},
     "output_type": "execute_result"
    }
   ],
   "source": [
    "# Don't really need this. However, this is to confirm both the data has the same shape\n",
    "len(pd.DataFrame(X_train.values.tolist())), len(y_train)"
   ]
  },
  {
   "cell_type": "code",
   "execution_count": 41,
   "metadata": {},
   "outputs": [
    {
     "name": "stdout",
     "output_type": "stream",
     "text": [
      "Pipeline(steps=[('tfidf', TfidfVectorizer()), ('nb_clf', ComplementNB())]) accuracy is: 0.8591531909640785\n",
      "Confusion matrix for Pipeline(steps=[('tfidf', TfidfVectorizer()), ('nb_clf', ComplementNB())]): \n",
      " <sklearn.metrics._plot.confusion_matrix.ConfusionMatrixDisplay object at 0x0000025DB270BEB0>\n",
      "Pipeline(steps=[('tfidf', TfidfVectorizer()), ('nb_clf', ComplementNB())]) accuracy is: \n",
      "              precision    recall  f1-score   support\n",
      "\n",
      "           0       0.86      1.00      0.92      6855\n",
      "           1       0.82      0.11      0.19      1246\n",
      "\n",
      "    accuracy                           0.86      8101\n",
      "   macro avg       0.84      0.55      0.56      8101\n",
      "weighted avg       0.85      0.86      0.81      8101\n",
      "\n",
      "Pipeline(steps=[('tfidf', TfidfVectorizer()), ('lr_clf', LogisticRegression())]) accuracy is: 0.8885322799654364\n",
      "Confusion matrix for Pipeline(steps=[('tfidf', TfidfVectorizer()), ('lr_clf', LogisticRegression())]): \n",
      " <sklearn.metrics._plot.confusion_matrix.ConfusionMatrixDisplay object at 0x0000025DB26C8820>\n",
      "Pipeline(steps=[('tfidf', TfidfVectorizer()), ('lr_clf', LogisticRegression())]) accuracy is: \n",
      "              precision    recall  f1-score   support\n",
      "\n",
      "           0       0.92      0.95      0.93      6855\n",
      "           1       0.66      0.57      0.61      1246\n",
      "\n",
      "    accuracy                           0.89      8101\n",
      "   macro avg       0.79      0.76      0.77      8101\n",
      "weighted avg       0.88      0.89      0.89      8101\n",
      "\n",
      "Pipeline(steps=[('tfidf', TfidfVectorizer()), ('ada_clf', ComplementNB())]) accuracy is: 0.8591531909640785\n",
      "Confusion matrix for Pipeline(steps=[('tfidf', TfidfVectorizer()), ('ada_clf', ComplementNB())]): \n",
      " <sklearn.metrics._plot.confusion_matrix.ConfusionMatrixDisplay object at 0x0000025DB2878340>\n",
      "Pipeline(steps=[('tfidf', TfidfVectorizer()), ('ada_clf', ComplementNB())]) accuracy is: \n",
      "              precision    recall  f1-score   support\n",
      "\n",
      "           0       0.86      1.00      0.92      6855\n",
      "           1       0.82      0.11      0.19      1246\n",
      "\n",
      "    accuracy                           0.86      8101\n",
      "   macro avg       0.84      0.55      0.56      8101\n",
      "weighted avg       0.85      0.86      0.81      8101\n",
      "\n"
     ]
    },
    {
     "data": {
      "image/png": "[encoded data removed]",
      "text/plain": [
       "<Figure size 432x288 with 2 Axes>"
      ]
     },
     "metadata": {
      "needs_background": "light"
     },
     "output_type": "display_data"
    },
    {
     "data": {
      "image/png": "[encoded data removed]",
      "text/plain": [
       "<Figure size 432x288 with 2 Axes>"
      ]
     },
     "metadata": {
      "needs_background": "light"
     },
     "output_type": "display_data"
    },
    {
     "data": {
      "image/png": "[encoded data removed]",
      "text/plain": [
       "<Figure size 432x288 with 2 Axes>"
      ]
     },
     "metadata": {
      "needs_background": "light"
     },
     "output_type": "display_data"
    }
   ],
   "source": [
    "for model in models:\n",
    "    model.fit(X_train.astype('str'), y_train)\n",
    "\n",
    "    # print model accuracy first\n",
    "    print(f'{model} accuracy is: {model.score(X_test, y_test)}')\n",
    "\n",
    "    # print confusion matrix\n",
    "    print(f'Confusion matrix for {model}: \\n {plot_confusion_matrix(model, X_test, y_test)}')\n",
    "\n",
    "    # print classification report\n",
    "    print(f'{model} accuracy is: \\n{classification_report(y_test, model.predict(X_test))}')"
   ]
  },
  {
   "cell_type": "code",
   "execution_count": 42,
   "metadata": {},
   "outputs": [
    {
     "data": {
      "text/plain": [
       "array([0, 0, 0, 1, 0, 0, 0, 0, 0, 0], dtype=int64)"
      ]
     },
     "execution_count": 42,
     "metadata": {},
     "output_type": "execute_result"
    }
   ],
   "source": [
    "# Now that we know the Logistic Regression Model is the best, let's make a prediction\n",
    "lr_pipeline.predict(X_test.astype('str'))[:10]"
   ]
  },
  {
   "cell_type": "code",
   "execution_count": 43,
   "metadata": {},
   "outputs": [
    {
     "data": {
      "text/plain": [
       "10904    0\n",
       "19763    0\n",
       "8526     0\n",
       "365      0\n",
       "8773     0\n",
       "23717    0\n",
       "21271    1\n",
       "20453    0\n",
       "2444     1\n",
       "876      0\n",
       "Name: y_labels, dtype: int64"
      ]
     },
     "execution_count": 43,
     "metadata": {},
     "output_type": "execute_result"
    }
   ],
   "source": [
    "# compare this to what we know as the truth\n",
    "y_test[:10]"
   ]
  },
  {
   "cell_type": "code",
   "execution_count": null,
   "metadata": {},
   "outputs": [],
   "source": []
  },
  {
   "cell_type": "code",
   "execution_count": 44,
   "metadata": {},
   "outputs": [],
   "source": [
    "lr_parameters = {\n",
    "    'tfidf__ngram_range' : [(1,1), (1,2)],\n",
    "    'tfidf__max_df' : (0.25, 0.5, 0.75),\n",
    "    'tfidf__max_features' : [300, 500, 1000, None],\n",
    "    \n",
    "    'lr_clf__penalty' : ['l1', 'l2', None], \n",
    "    'lr_clf__solver' : ['sag', 'liblinear', 'lbfgs'],\n",
    "    'lr_clf__class_weight' : [{0:1, 1:1}, {0:1, 1:2}, {0:1, 1:3}]\n",
    "}"
   ]
  },
  {
   "cell_type": "code",
   "execution_count": 45,
   "metadata": {},
   "outputs": [],
   "source": [
    "from sklearn.model_selection import RandomizedSearchCV"
   ]
  },
  {
   "cell_type": "code",
   "execution_count": 46,
   "metadata": {},
   "outputs": [
    {
     "name": "stdout",
     "output_type": "stream",
     "text": [
      "Fitting 5 folds for each of 10 candidates, totalling 50 fits\n"
     ]
    },
    {
     "name": "stderr",
     "output_type": "stream",
     "text": [
      "C:\\Users\\SecurityNik\\anaconda3\\lib\\site-packages\\sklearn\\model_selection\\_search.py:922: UserWarning: One or more of the test scores are non-finite: [0.80426862        nan 0.81390185 0.57862436        nan        nan\n",
      "        nan 0.83523431 0.63434119        nan]\n",
      "  warnings.warn(\n"
     ]
    },
    {
     "data": {
      "text/plain": [
       "RandomizedSearchCV(cv=5,\n",
       "                   estimator=Pipeline(steps=[('tfidf', TfidfVectorizer()),\n",
       "                                             ('lr_clf', LogisticRegression())]),\n",
       "                   n_jobs=-1,\n",
       "                   param_distributions={'lr_clf__class_weight': [{0: 1, 1: 1},\n",
       "                                                                 {0: 1, 1: 2},\n",
       "                                                                 {0: 1, 1: 3}],\n",
       "                                        'lr_clf__penalty': ['l1', 'l2', None],\n",
       "                                        'lr_clf__solver': ['sag', 'liblinear',\n",
       "                                                           'lbfgs'],\n",
       "                                        'tfidf__max_df': (0.25, 0.5, 0.75),\n",
       "                                        'tfidf__max_features': [300, 500, 1000,\n",
       "                                                                None],\n",
       "                                        'tfidf__ngram_range': [(1, 1), (1, 2)]},\n",
       "                   random_state=10, scoring='recall', verbose=1)"
      ]
     },
     "execution_count": 46,
     "metadata": {},
     "output_type": "execute_result"
    }
   ],
   "source": [
    "# Setup the RandomizedSearchCV\n",
    "lr_random_cv = RandomizedSearchCV(estimator=lr_pipeline, param_distributions=lr_parameters, scoring='recall', n_iter=10, cv=5, random_state=10, n_jobs=-1, verbose=1)\n",
    "lr_random_cv.fit(X_train.astype('str'), y_train)"
   ]
  },
  {
   "cell_type": "code",
   "execution_count": 47,
   "metadata": {},
   "outputs": [
    {
     "data": {
      "text/plain": [
       "{'tfidf__ngram_range': (1, 2),\n",
       " 'tfidf__max_features': 300,\n",
       " 'tfidf__max_df': 0.25,\n",
       " 'lr_clf__solver': 'liblinear',\n",
       " 'lr_clf__penalty': 'l2',\n",
       " 'lr_clf__class_weight': {0: 1, 1: 3}}"
      ]
     },
     "execution_count": 47,
     "metadata": {},
     "output_type": "execute_result"
    }
   ],
   "source": [
    "# Getting the best parameters\n",
    "lr_random_cv.best_params_"
   ]
  },
  {
   "cell_type": "code",
   "execution_count": 48,
   "metadata": {},
   "outputs": [
    {
     "data": {
      "text/plain": [
       "0.8352343098461594"
      ]
     },
     "execution_count": 48,
     "metadata": {},
     "output_type": "execute_result"
    }
   ],
   "source": [
    "# Get the best recall score \n",
    "lr_random_cv.best_score_"
   ]
  },
  {
   "cell_type": "code",
   "execution_count": 49,
   "metadata": {},
   "outputs": [
    {
     "data": {
      "text/plain": [
       "('tfidf', TfidfVectorizer())"
      ]
     },
     "execution_count": 49,
     "metadata": {},
     "output_type": "execute_result"
    }
   ],
   "source": [
    "# Access a particular step\n",
    "lr_pipeline.steps[0]"
   ]
  },
  {
   "cell_type": "code",
   "execution_count": 50,
   "metadata": {},
   "outputs": [
    {
     "data": {
      "text/plain": [
       "(TfidfVectorizer(), TfidfVectorizer())"
      ]
     },
     "execution_count": 50,
     "metadata": {},
     "output_type": "execute_result"
    }
   ],
   "source": [
    "# Alternatively, if you wanted to access that step in a different way\n",
    "lr_pipeline.named_steps.tfidf, lr_pipeline.named_steps['tfidf'] "
   ]
  },
  {
   "cell_type": "code",
   "execution_count": 51,
   "metadata": {},
   "outputs": [],
   "source": [
    "# Build the final model with the new hyperparameters\n",
    "lr_pipeline = Pipeline([\n",
    "                ('tfidf', TfidfVectorizer(ngram_range=(1,2), max_features=300, max_df=0.25)),\n",
    "                ('lr_clf', LogisticRegression(solver='liblinear', penalty='l2', class_weight={0:1, 1:3}, random_state=10, n_jobs=-1)),\n",
    "            ])"
   ]
  },
  {
   "cell_type": "code",
   "execution_count": 52,
   "metadata": {},
   "outputs": [
    {
     "name": "stderr",
     "output_type": "stream",
     "text": [
      "C:\\Users\\SecurityNik\\anaconda3\\lib\\site-packages\\sklearn\\linear_model\\_logistic.py:1355: UserWarning: 'n_jobs' > 1 does not have any effect when 'solver' is set to 'liblinear'. Got 'n_jobs' = 8.\n",
      "  warnings.warn(\"'n_jobs' > 1 does not have any effect when\"\n"
     ]
    },
    {
     "data": {
      "text/plain": [
       "Pipeline(steps=[('tfidf',\n",
       "                 TfidfVectorizer(max_df=0.25, max_features=300,\n",
       "                                 ngram_range=(1, 2))),\n",
       "                ('lr_clf',\n",
       "                 LogisticRegression(class_weight={0: 1, 1: 3}, n_jobs=-1,\n",
       "                                    random_state=10, solver='liblinear'))])"
      ]
     },
     "execution_count": 52,
     "metadata": {},
     "output_type": "execute_result"
    }
   ],
   "source": [
    "# Train the model which is now using the new hyperparameters\n",
    "lr_pipeline.fit(X_train.astype('str'), y_train)"
   ]
  },
  {
   "cell_type": "code",
   "execution_count": 53,
   "metadata": {},
   "outputs": [
    {
     "name": "stdout",
     "output_type": "stream",
     "text": [
      "              precision    recall  f1-score   support\n",
      "\n",
      "           0       0.98      0.58      0.73      6855\n",
      "           1       0.29      0.94      0.44      1246\n",
      "\n",
      "    accuracy                           0.63      8101\n",
      "   macro avg       0.63      0.76      0.58      8101\n",
      "weighted avg       0.87      0.63      0.68      8101\n",
      "\n"
     ]
    },
    {
     "data": {
      "image/png": "[encoded data removed]",
      "text/plain": [
       "<Figure size 432x288 with 2 Axes>"
      ]
     },
     "metadata": {
      "needs_background": "light"
     },
     "output_type": "display_data"
    }
   ],
   "source": [
    "# Get the new score\n",
    "lr_pipeline.score(X_test, y_test)\n",
    "\n",
    "# print confusion matrix\n",
    "plot_confusion_matrix(lr_pipeline, X_test, y_test)\n",
    "\n",
    "# print classification report\n",
    "print(f'{classification_report(y_test, lr_pipeline.predict(X_test))}')"
   ]
  },
  {
   "cell_type": "code",
   "execution_count": 54,
   "metadata": {},
   "outputs": [],
   "source": [
    "# Save the model\n",
    "import pickle"
   ]
  },
  {
   "cell_type": "code",
   "execution_count": 55,
   "metadata": {},
   "outputs": [],
   "source": [
    "# Saving the model\n",
    "pickle.dump(lr_pipeline, (open('sans-model.pkl', 'wb')))"
   ]
  },
  {
   "cell_type": "code",
   "execution_count": 56,
   "metadata": {},
   "outputs": [],
   "source": [
    "# Import the new models\n",
    "imported_model = pickle.load(open('sans-model.pkl', 'rb'))"
   ]
  },
  {
   "cell_type": "code",
   "execution_count": 57,
   "metadata": {},
   "outputs": [
    {
     "data": {
      "text/plain": [
       "array([1, 0, 0, ..., 0, 0, 1], dtype=int64)"
      ]
     },
     "execution_count": 57,
     "metadata": {},
     "output_type": "execute_result"
    }
   ],
   "source": [
    "# Make prediction on the new data\n",
    "imported_model.predict(X_test)"
   ]
  },
  {
   "cell_type": "code",
   "execution_count": null,
   "metadata": {},
   "outputs": [],
   "source": []
  },
  {
   "cell_type": "code",
   "execution_count": null,
   "metadata": {},
   "outputs": [],
   "source": []
  },
  {
   "cell_type": "code",
   "execution_count": null,
   "metadata": {},
   "outputs": [],
   "source": []
  }
 ],
 "metadata": {
  "interpreter": {
   "hash": "59ea869f7cc095b5969136f55b07eeb0228f32c0df33fad9fed97c798cbdb7da"
  },
  "kernelspec": {
   "display_name": "Python 3.9.7 ('base')",
   "language": "python",
   "name": "python3"
  },
  "language_info": {
   "codemirror_mode": {
    "name": "ipython",
    "version": 3
   },
   "file_extension": ".py",
   "mimetype": "text/x-python",
   "name": "python",
   "nbconvert_exporter": "python",
   "pygments_lexer": "ipython3",
   "version": "3.9.7"
  },
  "orig_nbformat": 4
 },
 "nbformat": 4,
 "nbformat_minor": 2
}
