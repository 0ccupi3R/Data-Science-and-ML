{
 "cells": [
  {
   "cell_type": "code",
   "execution_count": 1,
   "metadata": {},
   "outputs": [],
   "source": [
    "'''\n",
    "In this post, I am learning more about sqlalachemy\n",
    "'''\n",
    "\n",
    "# First up, import the sqlalchemy modules I will need need to use\n",
    "from sqlalchemy import create_engine, MetaData, Table, Column, Integer, String, Text, text, select, or_, and_, desc, func, case, cast, Float, DECIMAL, Boolean, insert, update, delete, Date, DateTime, ARRAY, ForeignKey\n",
    "\n",
    "# Import datetime\n",
    "from datetime import datetime\n",
    "\n",
    "# import pandas as I will use this to importand view data\n",
    "import pandas as pd"
   ]
  },
  {
   "cell_type": "code",
   "execution_count": 2,
   "metadata": {},
   "outputs": [],
   "source": [
    "# Delete the database file if it previous existed\n",
    "!del /f securitynik-db.sqlite"
   ]
  },
  {
   "cell_type": "code",
   "execution_count": 3,
   "metadata": {},
   "outputs": [
    {
     "name": "stdout",
     "output_type": "stream",
     "text": [
      "Engine(sqlite:///securitynik-db.sqlite)\n",
      "MetaData()\n"
     ]
    }
   ],
   "source": [
    "'''\n",
    "Create a SQLite database and interface to it via create_engine.\n",
    "As this database does not exist as yet, it will be created on the disk\n",
    "using the relative path. Hence the  ///\n",
    "This engine does not actually connect to the database at this time.\n",
    "A connection will be made once a request has been made to perform a task\n",
    "'''\n",
    "securitynik_db_engine = create_engine('sqlite:///securitynik-db.sqlite', echo=True)\n",
    "print(securitynik_db_engine)\n",
    "\n",
    "''' \n",
    "Setup the metadata\n",
    "Quoting from the sqlalchemy manual: \"The MetaData is a registry which includes the ability to emit a limited set of schema generation commands to\n",
    "the database\"\n",
    "'''\n",
    "metadata = MetaData()\n",
    "print(metadata)"
   ]
  },
  {
   "cell_type": "code",
   "execution_count": 4,
   "metadata": {},
   "outputs": [
    {
     "data": {
      "text/plain": [
       "<sqlalchemy.engine.base.Connection at 0x16f79457910>"
      ]
     },
     "execution_count": 4,
     "metadata": {},
     "output_type": "execute_result"
    }
   ],
   "source": [
    "'''\n",
    "With the engine created. Time to make a connection to the database\n",
    "Since the database securitynik-db.sqlite does not exist,\n",
    "the file will be created on the file system\n",
    "'''\n",
    "securitynik_db_connection = securitynik_db_engine.connect()\n",
    "securitynik_db_connection"
   ]
  },
  {
   "cell_type": "code",
   "execution_count": 5,
   "metadata": {},
   "outputs": [
    {
     "name": "stdout",
     "output_type": "stream",
     "text": [
      " Volume in drive D is Tools\n",
      " Volume Serial Number is F617-3FDD\n",
      "\n",
      " Directory of d:\\ML\n",
      "\n",
      "2022-04-13  10:50 PM                 0 securitynik-db.sqlite\n",
      "               1 File(s)              0 bytes\n",
      "               0 Dir(s)  65,612,201,984 bytes free\n"
     ]
    }
   ],
   "source": [
    "'''\n",
    "Verifying the securitynik-db.sqlite file has been created on the file system\n",
    "and that it is currently empty, as no data has been written to it\n",
    "'''\n",
    "!dir securitynik-db.sqlite"
   ]
  },
  {
   "cell_type": "code",
   "execution_count": 6,
   "metadata": {},
   "outputs": [],
   "source": [
    "# With the file now created. Time to create some tables\n",
    "\n",
    "# Create an employee Table\n",
    "employee_table = Table('employees', metadata,\n",
    "            Column('EmployeeID', Integer(), primary_key=True, nullable=False, unique=True, autoincrement=True),\n",
    "            Column('FName', String(255), nullable=True),\n",
    "            Column('LName', String(255), nullable=True),\n",
    "            Column('Active', Boolean(), default=True, nullable=False),\n",
    "            Column('Comments', String(255), default='securitynik.com employee')\n",
    "            )"
   ]
  },
  {
   "cell_type": "code",
   "execution_count": 7,
   "metadata": {},
   "outputs": [],
   "source": [
    "'''\n",
    "Create a blogs table\n",
    "Setup the blogger_id field to link back to the EmployeeID field in the employees table\n",
    "Note, could have also used foreign_key(employee_table.columns.EmployeeID to setup the foreign key\n",
    "'''\n",
    "\n",
    "blogs_table = Table('blogs', metadata,\n",
    "            Column('BlogID', Integer(), primary_key=True, nullable=False, unique=True, autoincrement=True),\n",
    "            Column('blogger_id', Integer(), ForeignKey('employees.EmployeeID'), nullable=False),\n",
    "            Column('BlogTitle', String(255), nullable=True),\n",
    "            Column('Blogger', String(255), default='Nik Alleyne', nullable=False),\n",
    "            Column('Date', DateTime(), nullable=datetime.now),\n",
    "            Column('URL', String(255), nullable=True),\n",
    "            Column('Comments', Text(), default='Blog post created by Nik Alleyne')\n",
    "            )"
   ]
  },
  {
   "cell_type": "code",
   "execution_count": 8,
   "metadata": {},
   "outputs": [],
   "source": [
    "# Create a table other\n",
    "other_table = Table('other', metadata,\n",
    "            Column('ID', Integer(), primary_key=True, nullable=False, unique=True, autoincrement=True),\n",
    "            Column('Comments', String(255),  nullable=True)\n",
    "            )"
   ]
  },
  {
   "cell_type": "code",
   "execution_count": 9,
   "metadata": {},
   "outputs": [
    {
     "name": "stdout",
     "output_type": "stream",
     "text": [
      "2022-04-13 22:50:07,622 INFO sqlalchemy.engine.Engine PRAGMA main.table_info(\"employees\")\n",
      "2022-04-13 22:50:07,629 INFO sqlalchemy.engine.Engine [raw sql] ()\n",
      "2022-04-13 22:50:07,630 INFO sqlalchemy.engine.Engine PRAGMA temp.table_info(\"employees\")\n",
      "2022-04-13 22:50:07,630 INFO sqlalchemy.engine.Engine [raw sql] ()\n",
      "2022-04-13 22:50:07,630 INFO sqlalchemy.engine.Engine PRAGMA main.table_info(\"blogs\")\n",
      "2022-04-13 22:50:07,630 INFO sqlalchemy.engine.Engine [raw sql] ()\n",
      "2022-04-13 22:50:07,630 INFO sqlalchemy.engine.Engine PRAGMA temp.table_info(\"blogs\")\n",
      "2022-04-13 22:50:07,639 INFO sqlalchemy.engine.Engine [raw sql] ()\n",
      "2022-04-13 22:50:07,641 INFO sqlalchemy.engine.Engine PRAGMA main.table_info(\"other\")\n",
      "2022-04-13 22:50:07,643 INFO sqlalchemy.engine.Engine [raw sql] ()\n",
      "2022-04-13 22:50:07,647 INFO sqlalchemy.engine.Engine PRAGMA temp.table_info(\"other\")\n",
      "2022-04-13 22:50:07,647 INFO sqlalchemy.engine.Engine [raw sql] ()\n",
      "2022-04-13 22:50:07,656 INFO sqlalchemy.engine.Engine \n",
      "CREATE TABLE employees (\n",
      "\t\"EmployeeID\" INTEGER NOT NULL, \n",
      "\t\"FName\" VARCHAR(255), \n",
      "\t\"LName\" VARCHAR(255), \n",
      "\t\"Active\" BOOLEAN NOT NULL, \n",
      "\t\"Comments\" VARCHAR(255), \n",
      "\tPRIMARY KEY (\"EmployeeID\"), \n",
      "\tUNIQUE (\"EmployeeID\")\n",
      ")\n",
      "\n",
      "\n",
      "2022-04-13 22:50:07,657 INFO sqlalchemy.engine.Engine [no key 0.00249s] ()\n",
      "2022-04-13 22:50:07,687 INFO sqlalchemy.engine.Engine COMMIT\n",
      "2022-04-13 22:50:07,689 INFO sqlalchemy.engine.Engine \n",
      "CREATE TABLE other (\n",
      "\t\"ID\" INTEGER NOT NULL, \n",
      "\t\"Comments\" VARCHAR(255), \n",
      "\tPRIMARY KEY (\"ID\"), \n",
      "\tUNIQUE (\"ID\")\n",
      ")\n",
      "\n",
      "\n",
      "2022-04-13 22:50:07,689 INFO sqlalchemy.engine.Engine [no key 0.00136s] ()\n",
      "2022-04-13 22:50:07,711 INFO sqlalchemy.engine.Engine COMMIT\n",
      "2022-04-13 22:50:07,713 INFO sqlalchemy.engine.Engine \n",
      "CREATE TABLE blogs (\n",
      "\t\"BlogID\" INTEGER NOT NULL, \n",
      "\tblogger_id INTEGER NOT NULL, \n",
      "\t\"BlogTitle\" VARCHAR(255), \n",
      "\t\"Blogger\" VARCHAR(255) NOT NULL, \n",
      "\t\"Date\" DATETIME, \n",
      "\t\"URL\" VARCHAR(255), \n",
      "\t\"Comments\" TEXT, \n",
      "\tPRIMARY KEY (\"BlogID\"), \n",
      "\tUNIQUE (\"BlogID\"), \n",
      "\tFOREIGN KEY(blogger_id) REFERENCES employees (\"EmployeeID\")\n",
      ")\n",
      "\n",
      "\n",
      "2022-04-13 22:50:07,713 INFO sqlalchemy.engine.Engine [no key 0.00097s] ()\n",
      "2022-04-13 22:50:07,734 INFO sqlalchemy.engine.Engine COMMIT\n"
     ]
    }
   ],
   "source": [
    "# Create all the above defined tables\n",
    "metadata.create_all(securitynik_db_connection)"
   ]
  },
  {
   "cell_type": "code",
   "execution_count": 10,
   "metadata": {},
   "outputs": [
    {
     "data": {
      "text/plain": [
       "FacadeDict({'employees': Table('employees', MetaData(), Column('EmployeeID', Integer(), table=<employees>, primary_key=True, nullable=False), Column('FName', String(length=255), table=<employees>), Column('LName', String(length=255), table=<employees>), Column('Active', Boolean(), table=<employees>, nullable=False, default=ColumnDefault(True)), Column('Comments', String(length=255), table=<employees>, default=ColumnDefault('securitynik.com employee')), schema=None), 'blogs': Table('blogs', MetaData(), Column('BlogID', Integer(), table=<blogs>, primary_key=True, nullable=False), Column('blogger_id', Integer(), ForeignKey('employees.EmployeeID'), table=<blogs>, nullable=False), Column('BlogTitle', String(length=255), table=<blogs>), Column('Blogger', String(length=255), table=<blogs>, nullable=False, default=ColumnDefault('Nik Alleyne')), Column('Date', DateTime(), table=<blogs>), Column('URL', String(length=255), table=<blogs>), Column('Comments', Text(), table=<blogs>, default=ColumnDefault('Blog post created by Nik Alleyne')), schema=None), 'other': Table('other', MetaData(), Column('ID', Integer(), table=<other>, primary_key=True, nullable=False), Column('Comments', String(length=255), table=<other>), schema=None)})"
      ]
     },
     "execution_count": 10,
     "metadata": {},
     "output_type": "execute_result"
    }
   ],
   "source": [
    "# Verifying the tables were successfully created by viewing the metadata object\n",
    "metadata.tables"
   ]
  },
  {
   "cell_type": "code",
   "execution_count": 11,
   "metadata": {},
   "outputs": [
    {
     "data": {
      "text/plain": [
       "[Table('employees', MetaData(), Column('EmployeeID', Integer(), table=<employees>, primary_key=True, nullable=False), Column('FName', String(length=255), table=<employees>), Column('LName', String(length=255), table=<employees>), Column('Active', Boolean(), table=<employees>, nullable=False, default=ColumnDefault(True)), Column('Comments', String(length=255), table=<employees>, default=ColumnDefault('securitynik.com employee')), schema=None),\n",
       " Table('other', MetaData(), Column('ID', Integer(), table=<other>, primary_key=True, nullable=False), Column('Comments', String(length=255), table=<other>), schema=None),\n",
       " Table('blogs', MetaData(), Column('BlogID', Integer(), table=<blogs>, primary_key=True, nullable=False), Column('blogger_id', Integer(), ForeignKey('employees.EmployeeID'), table=<blogs>, nullable=False), Column('BlogTitle', String(length=255), table=<blogs>), Column('Blogger', String(length=255), table=<blogs>, nullable=False, default=ColumnDefault('Nik Alleyne')), Column('Date', DateTime(), table=<blogs>), Column('URL', String(length=255), table=<blogs>), Column('Comments', Text(), table=<blogs>, default=ColumnDefault('Blog post created by Nik Alleyne')), schema=None)]"
      ]
     },
     "execution_count": 11,
     "metadata": {},
     "output_type": "execute_result"
    }
   ],
   "source": [
    "# Taking a different view of the tables via metadata\n",
    "metadata.sorted_tables"
   ]
  },
  {
   "cell_type": "code",
   "execution_count": 12,
   "metadata": {},
   "outputs": [
    {
     "name": "stdout",
     "output_type": "stream",
     "text": [
      "2022-04-13 22:50:08,231 INFO sqlalchemy.engine.Engine INSERT INTO employees (\"FName\", \"LName\", \"Active\", \"Comments\") VALUES (?, ?, ?, ?)\n",
      "2022-04-13 22:50:08,235 INFO sqlalchemy.engine.Engine [generated in 0.00366s] ('Nik', 'Alleyne', 1, 'Blog Author')\n",
      "2022-04-13 22:50:08,239 INFO sqlalchemy.engine.Engine COMMIT\n"
     ]
    },
    {
     "data": {
      "text/plain": [
       "1"
      ]
     },
     "execution_count": 12,
     "metadata": {},
     "output_type": "execute_result"
    }
   ],
   "source": [
    "'''\n",
    "With the tables created time to insert data\n",
    "first into the employees table.\n",
    "I will first insert 1 record\n",
    "At the same time, return the number of rows impacted via the rowcount\n",
    "'''\n",
    "securitynik_db_connection.execute(insert(employee_table).values(FName='Nik', LName='Alleyne', Active=True, Comments='Blog Author')).rowcount"
   ]
  },
  {
   "cell_type": "code",
   "execution_count": 13,
   "metadata": {},
   "outputs": [
    {
     "name": "stdout",
     "output_type": "stream",
     "text": [
      "2022-04-13 22:50:08,483 INFO sqlalchemy.engine.Engine INSERT INTO blogs (blogger_id, \"BlogTitle\", \"Blogger\", \"URL\", \"Comments\") VALUES (?, ?, ?, ?, ?)\n",
      "2022-04-13 22:50:08,486 INFO sqlalchemy.engine.Engine [generated in 0.00336s] (1, 'Beginning SQLAlchemy', 'Nik Alleyne', 'http://www.securitynik.com/beginning-sql-alchemy.html', 'Blog post created by Nik Alleyne')\n",
      "2022-04-13 22:50:08,490 INFO sqlalchemy.engine.Engine COMMIT\n"
     ]
    },
    {
     "data": {
      "text/plain": [
       "1"
      ]
     },
     "execution_count": 13,
     "metadata": {},
     "output_type": "execute_result"
    }
   ],
   "source": [
    "'''\n",
    "Add an entry to the blog table\n",
    "'''\n",
    "securitynik_db_connection.execute(insert(blogs_table).values(blogger_id=1, BlogTitle='Beginning SQLAlchemy', URL='http://www.securitynik.com/beginning-sql-alchemy.html')).rowcount"
   ]
  },
  {
   "cell_type": "code",
   "execution_count": 14,
   "metadata": {},
   "outputs": [
    {
     "name": "stdout",
     "output_type": "stream",
     "text": [
      "2022-04-13 22:50:08,638 INFO sqlalchemy.engine.Engine INSERT INTO other (\"Comments\") VALUES (?)\n",
      "2022-04-13 22:50:08,642 INFO sqlalchemy.engine.Engine [generated in 0.00422s] ('Nothing Exciting',)\n",
      "2022-04-13 22:50:08,646 INFO sqlalchemy.engine.Engine COMMIT\n"
     ]
    },
    {
     "data": {
      "text/plain": [
       "1"
      ]
     },
     "execution_count": 14,
     "metadata": {},
     "output_type": "execute_result"
    }
   ],
   "source": [
    "# Insert some data into the other table\n",
    "securitynik_db_connection.execute(insert(other_table).values(Comments='Nothing Exciting')).rowcount"
   ]
  },
  {
   "cell_type": "code",
   "execution_count": 15,
   "metadata": {},
   "outputs": [
    {
     "name": "stdout",
     "output_type": "stream",
     "text": [
      "2022-04-13 22:50:08,883 INFO sqlalchemy.engine.Engine INSERT INTO employees (\"FName\", \"LName\", \"Active\", \"Comments\") VALUES (?, ?, ?, ?), (?, ?, ?, ?), (?, ?, ?, ?), (?, ?, ?, ?), (?, ?, ?, ?), (?, ?, ?, ?), (?, ?, ?, ?), (?, ?, ?, ?)\n",
      "2022-04-13 22:50:08,884 INFO sqlalchemy.engine.Engine [no key 0.00410s] ('S', 'Alleyne', 1, 'Blog Author', 'P', 'Khan', 0, 'Blog Admin', 'TQ', 'G', 1, 'Blog Manager', 'T', 'A', 0, 'Blog Author', 'D', 'P', 1, 'Blog Maintainer', 'J', 'S', 0, 'Blog Contributor', 'C', 'P', 1, 'Blog Comments Admin', 'A', 'W', 0, 'Blog Author')\n",
      "2022-04-13 22:50:08,893 INFO sqlalchemy.engine.Engine COMMIT\n"
     ]
    },
    {
     "data": {
      "text/plain": [
       "8"
      ]
     },
     "execution_count": 15,
     "metadata": {},
     "output_type": "execute_result"
    }
   ],
   "source": [
    "'''\n",
    "Now that I can assign 1 value at a time\n",
    "time to insert multiple values via a list of \n",
    "dictionaries\n",
    "'''\n",
    "add_multiple_employees = [\n",
    "        { 'FName':'S', 'LName':'Alleyne',  'Active':True, 'Comments':'Blog Author' }, \n",
    "        { 'FName':'P', 'LName':'Khan',  'Active':False, 'Comments':'Blog Admin'},\n",
    "        { 'FName':'TQ', 'LName':'G', 'Active':True, 'Comments':'Blog Manager'},\n",
    "        { 'FName':'T', 'LName':'A', 'Active':False, 'Comments':'Blog Author' },\n",
    "        { 'FName':'D', 'LName':'P', 'Active':True, 'Comments':'Blog Maintainer' },\n",
    "        { 'FName':'J', 'LName':'S', 'Active':False, 'Comments':'Blog Contributor' },\n",
    "        { 'FName':'C', 'LName':'P',  'Active':True, 'Comments':'Blog Comments Admin' },\n",
    "        { 'FName':'A', 'LName':'W', 'Active':False, 'Comments':'Blog Author' },\n",
    "]\n",
    "\n",
    "# With the list of dictionaries built, time to submit to the database\n",
    "# At the same time, get the number of rows impacted\n",
    "securitynik_db_connection.execute(insert(employee_table, add_multiple_employees)).rowcount"
   ]
  },
  {
   "cell_type": "code",
   "execution_count": 16,
   "metadata": {},
   "outputs": [
    {
     "data": {
      "text/html": [
       "<div>\n",
       "<style scoped>\n",
       "    .dataframe tbody tr th:only-of-type {\n",
       "        vertical-align: middle;\n",
       "    }\n",
       "\n",
       "    .dataframe tbody tr th {\n",
       "        vertical-align: top;\n",
       "    }\n",
       "\n",
       "    .dataframe thead th {\n",
       "        text-align: right;\n",
       "    }\n",
       "</style>\n",
       "<table border=\"1\" class=\"dataframe\">\n",
       "  <thead>\n",
       "    <tr style=\"text-align: right;\">\n",
       "      <th></th>\n",
       "      <th>FName</th>\n",
       "      <th>LName</th>\n",
       "      <th>Active</th>\n",
       "      <th>Comments</th>\n",
       "    </tr>\n",
       "  </thead>\n",
       "  <tbody>\n",
       "    <tr>\n",
       "      <th>0</th>\n",
       "      <td>User1</td>\n",
       "      <td>User1-last</td>\n",
       "      <td>True</td>\n",
       "      <td>user 1</td>\n",
       "    </tr>\n",
       "    <tr>\n",
       "      <th>1</th>\n",
       "      <td>User2</td>\n",
       "      <td>User2-last</td>\n",
       "      <td>False</td>\n",
       "      <td>user 2</td>\n",
       "    </tr>\n",
       "    <tr>\n",
       "      <th>2</th>\n",
       "      <td>User3</td>\n",
       "      <td>User3-last</td>\n",
       "      <td>True</td>\n",
       "      <td>user 3</td>\n",
       "    </tr>\n",
       "    <tr>\n",
       "      <th>3</th>\n",
       "      <td>User4</td>\n",
       "      <td>User4-last</td>\n",
       "      <td>True</td>\n",
       "      <td>user 4</td>\n",
       "    </tr>\n",
       "    <tr>\n",
       "      <th>4</th>\n",
       "      <td>User5</td>\n",
       "      <td>User5-last</td>\n",
       "      <td>False</td>\n",
       "      <td>user 5</td>\n",
       "    </tr>\n",
       "  </tbody>\n",
       "</table>\n",
       "</div>"
      ],
      "text/plain": [
       "   FName       LName  Active Comments\n",
       "0  User1  User1-last    True   user 1\n",
       "1  User2  User2-last   False   user 2\n",
       "2  User3  User3-last    True   user 3\n",
       "3  User4  User4-last    True   user 4\n",
       "4  User5  User5-last   False   user 5"
      ]
     },
     "execution_count": 16,
     "metadata": {},
     "output_type": "execute_result"
    }
   ],
   "source": [
    "'''\n",
    "Trying another strategy to get users into the database\n",
    "In this case, read data from a CSV file and push int into the datbase\n",
    "First read the csv file with pandas and print the first 5 records\n",
    "'''\n",
    "df_employees = pd.read_csv('employees.csv', header=0, sep=',')\n",
    "df_employees.head(5)"
   ]
  },
  {
   "cell_type": "code",
   "execution_count": 17,
   "metadata": {},
   "outputs": [
    {
     "name": "stdout",
     "output_type": "stream",
     "text": [
      "2022-04-13 22:50:09,176 INFO sqlalchemy.engine.Engine PRAGMA main.table_info(\"employees\")\n",
      "2022-04-13 22:50:09,176 INFO sqlalchemy.engine.Engine [raw sql] ()\n",
      "2022-04-13 22:50:09,187 INFO sqlalchemy.engine.Engine BEGIN (implicit)\n",
      "2022-04-13 22:50:09,192 INFO sqlalchemy.engine.Engine INSERT INTO employees (\"FName\", \"LName\", \"Active\", \"Comments\") VALUES (?, ?, ?, ?)\n",
      "2022-04-13 22:50:09,192 INFO sqlalchemy.engine.Engine [generated in 0.00267s] (('User1', 'User1-last', 1, 'user 1'), ('User2', 'User2-last', 0, 'user 2'), ('User3', 'User3-last', 1, 'user 3'), ('User4', 'User4-last', 1, 'user 4'), ('User5', 'User5-last', 0, 'user 5'), ('User6', 'User6-last', 1, 'user 6'))\n",
      "2022-04-13 22:50:09,200 INFO sqlalchemy.engine.Engine COMMIT\n"
     ]
    }
   ],
   "source": [
    "'''\n",
    "With the dataframe now containing the CSV data\n",
    "time to take the dataframe data and push it into the SQLite database\n",
    "'''\n",
    "df_employees.to_sql(name='employees', con=securitynik_db_connection, if_exists='append', index=False)"
   ]
  },
  {
   "cell_type": "code",
   "execution_count": 18,
   "metadata": {},
   "outputs": [
    {
     "data": {
      "text/html": [
       "<div>\n",
       "<style scoped>\n",
       "    .dataframe tbody tr th:only-of-type {\n",
       "        vertical-align: middle;\n",
       "    }\n",
       "\n",
       "    .dataframe tbody tr th {\n",
       "        vertical-align: top;\n",
       "    }\n",
       "\n",
       "    .dataframe thead th {\n",
       "        text-align: right;\n",
       "    }\n",
       "</style>\n",
       "<table border=\"1\" class=\"dataframe\">\n",
       "  <thead>\n",
       "    <tr style=\"text-align: right;\">\n",
       "      <th></th>\n",
       "      <th>blogger_id</th>\n",
       "      <th>BlogTitle</th>\n",
       "      <th>Blogger</th>\n",
       "      <th>Date</th>\n",
       "      <th>URL</th>\n",
       "      <th>Comments</th>\n",
       "    </tr>\n",
       "  </thead>\n",
       "  <tbody>\n",
       "    <tr>\n",
       "      <th>0</th>\n",
       "      <td>2</td>\n",
       "      <td>Installing &amp; configuring Elasticsearch 8 and K...</td>\n",
       "      <td>Nik Alleyne</td>\n",
       "      <td>NaN</td>\n",
       "      <td>https://www.securitynik.com/2022/04/installing...</td>\n",
       "      <td>NaN</td>\n",
       "    </tr>\n",
       "    <tr>\n",
       "      <th>1</th>\n",
       "      <td>3</td>\n",
       "      <td>Beginning Volatility3 Memory Forensics</td>\n",
       "      <td>Nik Alleyne</td>\n",
       "      <td>NaN</td>\n",
       "      <td>https://www.securitynik.com/2022/03/beginning-...</td>\n",
       "      <td>NaN</td>\n",
       "    </tr>\n",
       "    <tr>\n",
       "      <th>2</th>\n",
       "      <td>4</td>\n",
       "      <td>Beginning DC Sync - Attack</td>\n",
       "      <td>Nik Alleyne</td>\n",
       "      <td>NaN</td>\n",
       "      <td>https://www.securitynik.com/2022/01/beginning-...</td>\n",
       "      <td>NaN</td>\n",
       "    </tr>\n",
       "    <tr>\n",
       "      <th>3</th>\n",
       "      <td>2</td>\n",
       "      <td>Beginning Kerberoasting</td>\n",
       "      <td>Nik Alleyne</td>\n",
       "      <td>NaN</td>\n",
       "      <td>https://www.securitynik.com/2022/01/beginning-...</td>\n",
       "      <td>NaN</td>\n",
       "    </tr>\n",
       "    <tr>\n",
       "      <th>4</th>\n",
       "      <td>5</td>\n",
       "      <td>Beginning AS-REP Roasting with Impacket and Ru...</td>\n",
       "      <td>Nik Alleyne</td>\n",
       "      <td>NaN</td>\n",
       "      <td>https://www.securitynik.com/2022/01/beginning-...</td>\n",
       "      <td>NaN</td>\n",
       "    </tr>\n",
       "  </tbody>\n",
       "</table>\n",
       "</div>"
      ],
      "text/plain": [
       "   blogger_id                                          BlogTitle      Blogger  \\\n",
       "0           2  Installing & configuring Elasticsearch 8 and K...  Nik Alleyne   \n",
       "1           3             Beginning Volatility3 Memory Forensics  Nik Alleyne   \n",
       "2           4                         Beginning DC Sync - Attack  Nik Alleyne   \n",
       "3           2                            Beginning Kerberoasting  Nik Alleyne   \n",
       "4           5  Beginning AS-REP Roasting with Impacket and Ru...  Nik Alleyne   \n",
       "\n",
       "   Date                                                URL  Comments  \n",
       "0   NaN  https://www.securitynik.com/2022/04/installing...       NaN  \n",
       "1   NaN  https://www.securitynik.com/2022/03/beginning-...       NaN  \n",
       "2   NaN  https://www.securitynik.com/2022/01/beginning-...       NaN  \n",
       "3   NaN  https://www.securitynik.com/2022/01/beginning-...       NaN  \n",
       "4   NaN  https://www.securitynik.com/2022/01/beginning-...       NaN  "
      ]
     },
     "execution_count": 18,
     "metadata": {},
     "output_type": "execute_result"
    }
   ],
   "source": [
    "'''\n",
    "With no errors above, it looks like all is well\n",
    "Using the same strategy to add new blog entries\n",
    "'''\n",
    "df_blogs = pd.read_csv('blogs.csv', header=0, sep=',')\n",
    "df_blogs.head(5)\n"
   ]
  },
  {
   "cell_type": "code",
   "execution_count": 19,
   "metadata": {},
   "outputs": [
    {
     "name": "stdout",
     "output_type": "stream",
     "text": [
      "2022-04-13 22:50:09,448 INFO sqlalchemy.engine.Engine PRAGMA main.table_info(\"blogs\")\n",
      "2022-04-13 22:50:09,455 INFO sqlalchemy.engine.Engine [raw sql] ()\n",
      "2022-04-13 22:50:09,460 INFO sqlalchemy.engine.Engine BEGIN (implicit)\n",
      "2022-04-13 22:50:09,463 INFO sqlalchemy.engine.Engine INSERT INTO blogs (blogger_id, \"BlogTitle\", \"Blogger\", \"Date\", \"URL\", \"Comments\") VALUES (?, ?, ?, ?, ?, ?)\n",
      "2022-04-13 22:50:09,463 INFO sqlalchemy.engine.Engine [generated in 0.00174s] ((2, 'Installing & configuring Elasticsearch 8 and Kibana 8 on Ubuntu', 'Nik Alleyne', None, 'https://www.securitynik.com/2022/04/installing-configuring-elasticsearch-8.html', None), (3, 'Beginning Volatility3 Memory Forensics', 'Nik Alleyne', None, 'https://www.securitynik.com/2022/03/beginning-volatility3-memory-forensics.html', None), (4, 'Beginning DC Sync - Attack', 'Nik Alleyne', None, 'https://www.securitynik.com/2022/01/beginning-dc-sync-attack.html', None), (2, 'Beginning Kerberoasting', 'Nik Alleyne', None, 'https://www.securitynik.com/2022/01/beginning-kerberoasting.html', None), (5, 'Beginning AS-REP Roasting with Impacket and Rubeus', 'Nik Alleyne', None, 'https://www.securitynik.com/2022/01/beginning-as-rep-roasting-with-impacket.html', None), (6, 'Beginning AS-REP Roasting with Impacket and Rubeus', 'Nik Alleyne', None, 'https://www.securitynik.com/2022/01/beginning-as-rep-roasting-with-impacket.html', None))\n",
      "2022-04-13 22:50:09,469 INFO sqlalchemy.engine.Engine COMMIT\n"
     ]
    }
   ],
   "source": [
    "'''\n",
    "With the dataframe now containing the CSV data\n",
    "time to take the dataframe data and push it into the SQLite database\n",
    "'''\n",
    "df_blogs.to_sql(name='blogs', con=securitynik_db_connection, if_exists='append', index=False)"
   ]
  },
  {
   "cell_type": "code",
   "execution_count": 20,
   "metadata": {},
   "outputs": [
    {
     "name": "stdout",
     "output_type": "stream",
     "text": [
      "2022-04-13 22:50:09,563 INFO sqlalchemy.engine.Engine SELECT employees.\"EmployeeID\", employees.\"FName\", employees.\"LName\", employees.\"Active\", employees.\"Comments\" \n",
      "FROM employees\n",
      "2022-04-13 22:50:09,566 INFO sqlalchemy.engine.Engine [generated in 0.00228s] ()\n"
     ]
    },
    {
     "data": {
      "text/plain": [
       "[(1, 'Nik', 'Alleyne', True, 'Blog Author'),\n",
       " (2, 'S', 'Alleyne', True, 'Blog Author'),\n",
       " (3, 'P', 'Khan', False, 'Blog Admin'),\n",
       " (4, 'TQ', 'G', True, 'Blog Manager'),\n",
       " (5, 'T', 'A', False, 'Blog Author'),\n",
       " (6, 'D', 'P', True, 'Blog Maintainer'),\n",
       " (7, 'J', 'S', False, 'Blog Contributor'),\n",
       " (8, 'C', 'P', True, 'Blog Comments Admin'),\n",
       " (9, 'A', 'W', False, 'Blog Author'),\n",
       " (10, 'User1', 'User1-last', True, 'user 1'),\n",
       " (11, 'User2', 'User2-last', False, 'user 2'),\n",
       " (12, 'User3', 'User3-last', True, 'user 3'),\n",
       " (13, 'User4', 'User4-last', True, 'user 4'),\n",
       " (14, 'User5', 'User5-last', False, 'user 5'),\n",
       " (15, 'User6', 'User6-last', True, 'user 6')]"
      ]
     },
     "execution_count": 20,
     "metadata": {},
     "output_type": "execute_result"
    }
   ],
   "source": [
    "'''\n",
    " With the data added to the various coluimns\n",
    " Time to now query the various tables\n",
    " Select the first 5 records from the employees table\n",
    "'''\n",
    "result_proxy = securitynik_db_connection.execute(select(employee_table)).fetchall()\n",
    "result_proxy"
   ]
  },
  {
   "cell_type": "code",
   "execution_count": 21,
   "metadata": {},
   "outputs": [
    {
     "data": {
      "text/plain": [
       "15"
      ]
     },
     "execution_count": 21,
     "metadata": {},
     "output_type": "execute_result"
    }
   ],
   "source": [
    "# How many records are there in the Employees table\n",
    "len(result_proxy)"
   ]
  },
  {
   "cell_type": "code",
   "execution_count": 22,
   "metadata": {},
   "outputs": [
    {
     "data": {
      "text/plain": [
       "RMKeyView(['EmployeeID', 'FName', 'LName', 'Active', 'Comments'])"
      ]
     },
     "execution_count": 22,
     "metadata": {},
     "output_type": "execute_result"
    }
   ],
   "source": [
    "# Get a sample result Key\n",
    "result_proxy[0].keys()\n"
   ]
  },
  {
   "cell_type": "code",
   "execution_count": 23,
   "metadata": {},
   "outputs": [
    {
     "name": "stdout",
     "output_type": "stream",
     "text": [
      "EmployeeID | FName     |    LName  |     Active     |  Comments      \n",
      "1 |    Nik   | Alleyne  | True  | Blog Author\n",
      "2 |    S   | Alleyne  | True  | Blog Author\n",
      "3 |    P   | Khan  | False  | Blog Admin\n",
      "4 |    TQ   | G  | True  | Blog Manager\n",
      "5 |    T   | A  | False  | Blog Author\n",
      "6 |    D   | P  | True  | Blog Maintainer\n",
      "7 |    J   | S  | False  | Blog Contributor\n",
      "8 |    C   | P  | True  | Blog Comments Admin\n",
      "9 |    A   | W  | False  | Blog Author\n",
      "10 |    User1   | User1-last  | True  | user 1\n",
      "11 |    User2   | User2-last  | False  | user 2\n",
      "12 |    User3   | User3-last  | True  | user 3\n",
      "13 |    User4   | User4-last  | True  | user 4\n",
      "14 |    User5   | User5-last  | False  | user 5\n",
      "15 |    User6   | User6-last  | True  | user 6\n"
     ]
    }
   ],
   "source": [
    "# With the result key, iterate through the results\n",
    "print('EmployeeID | FName     |    LName  |     Active     |  Comments      ')\n",
    "for result in result_proxy:\n",
    "    print(f'{result.EmployeeID} |    {result.FName}   | {result.LName}  | { result.Active }  | {result.Comments}')"
   ]
  },
  {
   "cell_type": "code",
   "execution_count": 24,
   "metadata": {},
   "outputs": [
    {
     "name": "stdout",
     "output_type": "stream",
     "text": [
      "2022-04-13 22:50:09,930 INFO sqlalchemy.engine.Engine SELECT employees.\"EmployeeID\", employees.\"FName\", employees.\"LName\", employees.\"Active\", employees.\"Comments\" \n",
      "FROM employees \n",
      "WHERE employees.\"LName\" = ?\n",
      "2022-04-13 22:50:09,930 INFO sqlalchemy.engine.Engine [generated in 0.00245s] ('Alleyne',)\n"
     ]
    },
    {
     "data": {
      "text/plain": [
       "[(1, 'Nik', 'Alleyne', True, 'Blog Author'),\n",
       " (2, 'S', 'Alleyne', True, 'Blog Author')]"
      ]
     },
     "execution_count": 24,
     "metadata": {},
     "output_type": "execute_result"
    }
   ],
   "source": [
    "'''\n",
    "Building on the query, adding a where clause\n",
    "'''\n",
    "securitynik_db_connection.execute(select(employee_table).where(employee_table.columns.LName=='Alleyne')).fetchmany(size=5)"
   ]
  },
  {
   "cell_type": "code",
   "execution_count": 25,
   "metadata": {},
   "outputs": [
    {
     "name": "stdout",
     "output_type": "stream",
     "text": [
      "2022-04-13 22:50:10,015 INFO sqlalchemy.engine.Engine SELECT employees.\"EmployeeID\", employees.\"FName\", employees.\"LName\", employees.\"Active\", employees.\"Comments\" \n",
      "FROM employees \n",
      "WHERE employees.\"LName\" = ? AND employees.\"FName\" = ? AND employees.\"Active\" = 1\n",
      "2022-04-13 22:50:10,016 INFO sqlalchemy.engine.Engine [generated in 0.00204s] ('Alleyne', 'Nik')\n"
     ]
    },
    {
     "data": {
      "text/plain": [
       "(1, 'Nik', 'Alleyne', True, 'Blog Author')"
      ]
     },
     "execution_count": 25,
     "metadata": {},
     "output_type": "execute_result"
    }
   ],
   "source": [
    "'''\n",
    "Building on the above query, taking advantage of 'and_'\n",
    "to compound the query.\n",
    "Leveraging both .columns and .c \n",
    "'''\n",
    "securitynik_db_connection.execute(select(employee_table).where(and_(\n",
    "                                                    employee_table.columns.LName=='Alleyne',\n",
    "                                                    employee_table.c.FName=='Nik',\n",
    "                                                    employee_table.c.Active==True))).fetchone()"
   ]
  },
  {
   "cell_type": "code",
   "execution_count": 26,
   "metadata": {},
   "outputs": [
    {
     "name": "stdout",
     "output_type": "stream",
     "text": [
      "2022-04-13 22:50:10,114 INFO sqlalchemy.engine.Engine SELECT employees.\"EmployeeID\", employees.\"FName\", employees.\"LName\", employees.\"Active\", employees.\"Comments\" \n",
      "FROM employees \n",
      "WHERE employees.\"LName\" = ? OR employees.\"FName\" = ? OR employees.\"Active\" = 0\n",
      "2022-04-13 22:50:10,120 INFO sqlalchemy.engine.Engine [generated in 0.00237s] ('Alleyne', 'Nik')\n"
     ]
    },
    {
     "data": {
      "text/plain": [
       "[(1, 'Nik', 'Alleyne', True, 'Blog Author'),\n",
       " (2, 'S', 'Alleyne', True, 'Blog Author'),\n",
       " (3, 'P', 'Khan', False, 'Blog Admin'),\n",
       " (5, 'T', 'A', False, 'Blog Author'),\n",
       " (7, 'J', 'S', False, 'Blog Contributor')]"
      ]
     },
     "execution_count": 26,
     "metadata": {},
     "output_type": "execute_result"
    }
   ],
   "source": [
    "'''\n",
    "Taking advantage of 'or_'\n",
    "to compound the query.\n",
    "Leveraging both .columns and .c \n",
    "'''\n",
    "securitynik_db_connection.execute(select(employee_table).where(or_(\n",
    "                                                    employee_table.columns.LName=='Alleyne',\n",
    "                                                    employee_table.c.FName=='Nik',\n",
    "                                                    employee_table.c.Active==False))).fetchmany(size=5)"
   ]
  },
  {
   "cell_type": "code",
   "execution_count": 27,
   "metadata": {},
   "outputs": [
    {
     "name": "stdout",
     "output_type": "stream",
     "text": [
      "2022-04-13 22:50:10,218 INFO sqlalchemy.engine.Engine SELECT blogs.\"BlogID\", blogs.blogger_id, blogs.\"BlogTitle\", blogs.\"Blogger\", blogs.\"Date\", blogs.\"URL\", blogs.\"Comments\" \n",
      "FROM blogs \n",
      "WHERE blogs.\"URL\" IS NULL\n",
      "2022-04-13 22:50:10,224 INFO sqlalchemy.engine.Engine [generated in 0.00276s] ()\n"
     ]
    },
    {
     "data": {
      "text/plain": [
       "[]"
      ]
     },
     "execution_count": 27,
     "metadata": {},
     "output_type": "execute_result"
    }
   ],
   "source": [
    "'''\n",
    "Looking at columns in the blog table \n",
    "identif all records where the URL field is null\n",
    "'''\n",
    "securitynik_db_connection.execute(select(blogs_table).where(blogs_table.columns.URL==None)).fetchmany(size=5)"
   ]
  },
  {
   "cell_type": "code",
   "execution_count": 29,
   "metadata": {},
   "outputs": [
    {
     "name": "stdout",
     "output_type": "stream",
     "text": [
      "2022-04-13 22:52:07,991 INFO sqlalchemy.engine.Engine SELECT blogs.\"BlogID\", blogs.blogger_id, blogs.\"BlogTitle\", blogs.\"Blogger\", blogs.\"Date\", blogs.\"URL\", blogs.\"Comments\" \n",
      "FROM blogs \n",
      "WHERE blogs.\"URL\" IS NOT NULL\n",
      "2022-04-13 22:52:07,999 INFO sqlalchemy.engine.Engine [generated in 0.00263s] ()\n"
     ]
    },
    {
     "data": {
      "text/plain": [
       "[(1, 1, 'Beginning SQLAlchemy', 'Nik Alleyne', None, 'http://www.securitynik.com/beginning-sql-alchemy.html', 'Blog post created by Nik Alleyne'),\n",
       " (2, 2, 'Installing & configuring Elasticsearch 8 and Kibana 8 on Ubuntu', 'Nik Alleyne', None, 'https://www.securitynik.com/2022/04/installing-configuring-elasticsearch-8.html', None),\n",
       " (3, 3, 'Beginning Volatility3 Memory Forensics', 'Nik Alleyne', None, 'https://www.securitynik.com/2022/03/beginning-volatility3-memory-forensics.html', None),\n",
       " (4, 4, 'Beginning DC Sync - Attack', 'Nik Alleyne', None, 'https://www.securitynik.com/2022/01/beginning-dc-sync-attack.html', None),\n",
       " (5, 2, 'Beginning Kerberoasting', 'Nik Alleyne', None, 'https://www.securitynik.com/2022/01/beginning-kerberoasting.html', None)]"
      ]
     },
     "execution_count": 29,
     "metadata": {},
     "output_type": "execute_result"
    }
   ],
   "source": [
    "'''\n",
    "Looking for all records where the URL is not NULL in the blogs table \n",
    "'''\n",
    "securitynik_db_connection.execute(select(blogs_table).where(blogs_table.columns.URL!=None)).fetchmany(size=5)"
   ]
  },
  {
   "cell_type": "code",
   "execution_count": 32,
   "metadata": {},
   "outputs": [
    {
     "name": "stdout",
     "output_type": "stream",
     "text": [
      "2022-04-13 22:55:20,398 INFO sqlalchemy.engine.Engine SELECT blogs.\"BlogID\", blogs.blogger_id, blogs.\"BlogTitle\", blogs.\"Blogger\", blogs.\"Date\", blogs.\"URL\", blogs.\"Comments\" \n",
      "FROM blogs \n",
      "WHERE lower(blogs.\"BlogTitle\") LIKE lower(?)\n",
      "2022-04-13 22:55:20,407 INFO sqlalchemy.engine.Engine [generated in 0.00286s] ('%Kibana%',)\n"
     ]
    },
    {
     "data": {
      "text/plain": [
       "[(2, 2, 'Installing & configuring Elasticsearch 8 and Kibana 8 on Ubuntu', 'Nik Alleyne', None, 'https://www.securitynik.com/2022/04/installing-configuring-elasticsearch-8.html', None)]"
      ]
     },
     "execution_count": 32,
     "metadata": {},
     "output_type": "execute_result"
    }
   ],
   "source": [
    "'''\n",
    "Finding records using Like\n",
    "Looking specifically for records where the name is like kibana\n",
    "Note I am ignorning the case by using iLike\n",
    "'''\n",
    "securitynik_db_connection.execute(select(blogs_table).where(blogs_table.columns.BlogTitle.ilike('%Kibana%'))).fetchmany(size=5)"
   ]
  },
  {
   "cell_type": "code",
   "execution_count": 46,
   "metadata": {},
   "outputs": [
    {
     "name": "stdout",
     "output_type": "stream",
     "text": [
      "2022-04-13 23:05:59,563 INFO sqlalchemy.engine.Engine SELECT employees.\"FName\", employees.\"LName\" \n",
      "FROM employees ORDER BY employees.\"FName\" DESC\n",
      " LIMIT ? OFFSET ?\n",
      "2022-04-13 23:05:59,566 INFO sqlalchemy.engine.Engine [cached since 221.1s ago] (5, 0)\n"
     ]
    },
    {
     "data": {
      "text/plain": [
       "[('User6', 'User6-last'),\n",
       " ('User5', 'User5-last'),\n",
       " ('User4', 'User4-last'),\n",
       " ('User3', 'User3-last'),\n",
       " ('User2', 'User2-last')]"
      ]
     },
     "execution_count": 46,
     "metadata": {},
     "output_type": "execute_result"
    }
   ],
   "source": [
    "'''\n",
    "Revisiting the employee table \n",
    "ordering by Employee FName\n",
    "Do it descending, as in going from Z to A rather than A to Z\n",
    "Limit the results to 5 records\n",
    "Only return the employee first and last name\n",
    "'''\n",
    "securitynik_db_connection.execute(select(employee_table.columns.FName, employee_table.c.LName).order_by(desc(employee_table.columns.FName)).limit(5)).fetchall()\n"
   ]
  },
  {
   "cell_type": "code",
   "execution_count": 55,
   "metadata": {},
   "outputs": [
    {
     "name": "stdout",
     "output_type": "stream",
     "text": [
      "2022-04-13 23:12:41,303 INFO sqlalchemy.engine.Engine UPDATE blogs SET \"Comments\"=? WHERE blogs.\"Comments\" IS NULL\n",
      "2022-04-13 23:12:41,303 INFO sqlalchemy.engine.Engine [generated in 0.00325s] ('SecurityNik is the blogger',)\n",
      "2022-04-13 23:12:41,312 INFO sqlalchemy.engine.Engine COMMIT\n"
     ]
    },
    {
     "data": {
      "text/plain": [
       "6"
      ]
     },
     "execution_count": 55,
     "metadata": {},
     "output_type": "execute_result"
    }
   ],
   "source": [
    "'''\n",
    "Updating records where comments is empty in the blog table\n",
    "'''\n",
    "\n",
    "securitynik_db_connection.execute(update(blogs_table).where(blogs_table.c.Comments == None).values(Comments='SecurityNik is the blogger')).rowcount"
   ]
  },
  {
   "cell_type": "code",
   "execution_count": 57,
   "metadata": {},
   "outputs": [
    {
     "name": "stdout",
     "output_type": "stream",
     "text": [
      "2022-04-13 23:14:21,038 INFO sqlalchemy.engine.Engine SELECT blogs.\"Comments\" \n",
      "FROM blogs\n",
      "2022-04-13 23:14:21,038 INFO sqlalchemy.engine.Engine [cached since 11.3s ago] ()\n"
     ]
    },
    {
     "data": {
      "text/plain": [
       "[('Blog post created by Nik Alleyne',),\n",
       " ('SecurityNik is the blogger',),\n",
       " ('SecurityNik is the blogger',),\n",
       " ('SecurityNik is the blogger',),\n",
       " ('SecurityNik is the blogger',),\n",
       " ('SecurityNik is the blogger',),\n",
       " ('SecurityNik is the blogger',)]"
      ]
     },
     "execution_count": 57,
     "metadata": {},
     "output_type": "execute_result"
    }
   ],
   "source": [
    "# Verifying the change was made on the blog table\n",
    "securitynik_db_connection.execute(select(blogs_table.columns.Comments)).fetchall()"
   ]
  },
  {
   "cell_type": "code",
   "execution_count": 60,
   "metadata": {},
   "outputs": [
    {
     "name": "stdout",
     "output_type": "stream",
     "text": [
      "2022-04-13 23:15:51,942 INFO sqlalchemy.engine.Engine DELETE FROM blogs WHERE blogs.\"Comments\" = ?\n",
      "2022-04-13 23:15:51,952 INFO sqlalchemy.engine.Engine [generated in 0.00454s] ('SecurityNik is the blogger',)\n",
      "2022-04-13 23:15:51,957 INFO sqlalchemy.engine.Engine COMMIT\n"
     ]
    },
    {
     "data": {
      "text/plain": [
       "6"
      ]
     },
     "execution_count": 60,
     "metadata": {},
     "output_type": "execute_result"
    }
   ],
   "source": [
    "# Delete the records we just created above\n",
    "securitynik_db_connection.execute(delete(blogs_table).where(blogs_table.c.Comments =='SecurityNik is the blogger')).rowcount"
   ]
  },
  {
   "cell_type": "code",
   "execution_count": 64,
   "metadata": {},
   "outputs": [
    {
     "data": {
      "text/plain": [
       "'\\nDrop the other table\\n'"
      ]
     },
     "execution_count": 64,
     "metadata": {},
     "output_type": "execute_result"
    }
   ],
   "source": [
    "'''\n",
    "Drop the other table\n",
    "'''\n",
    "#other_table.drop(securitynik_db_engine)"
   ]
  },
  {
   "cell_type": "code",
   "execution_count": null,
   "metadata": {},
   "outputs": [],
   "source": [
    "# Drop all tables\n",
    "metadata.drop_all(securitynik_db_engine)"
   ]
  },
  {
   "cell_type": "code",
   "execution_count": 28,
   "metadata": {},
   "outputs": [
    {
     "data": {
      "text/plain": [
       "'\\nReferences:\\nhttps://campus.datacamp.com/courses/introduction-to-relational-databases-in-python\\nhttps://www.sqlalchemy.org/library.html\\nhttps://buildmedia.readthedocs.org/media/pdf/sqlalchemy/rel_1_0/sqlalchemy.pdf\\nhttps://www.tutorialspoint.com/sqlalchemy/sqlalchemy_quick_guide.htm\\nhttps://www.topcoder.com/thrive/articles/sqlalchemy-1-4-and-2-0-transitional-introduction\\nhttps://overiq.com/sqlalchemy-101/installing-sqlalchemy-and-connecting-to-database/\\n\\n\\n'"
      ]
     },
     "execution_count": 28,
     "metadata": {},
     "output_type": "execute_result"
    }
   ],
   "source": [
    "'''\n",
    "References:\n",
    "https://campus.datacamp.com/courses/introduction-to-relational-databases-in-python\n",
    "https://www.sqlalchemy.org/library.html\n",
    "https://buildmedia.readthedocs.org/media/pdf/sqlalchemy/rel_1_0/sqlalchemy.pdf\n",
    "https://www.tutorialspoint.com/sqlalchemy/sqlalchemy_quick_guide.htm\n",
    "https://www.topcoder.com/thrive/articles/sqlalchemy-1-4-and-2-0-transitional-introduction\n",
    "https://overiq.com/sqlalchemy-101/installing-sqlalchemy-and-connecting-to-database/\n",
    "\n",
    "\n",
    "'''"
   ]
  }
 ],
 "metadata": {
  "interpreter": {
   "hash": "59ea869f7cc095b5969136f55b07eeb0228f32c0df33fad9fed97c798cbdb7da"
  },
  "kernelspec": {
   "display_name": "Python 3.9.7 ('base')",
   "language": "python",
   "name": "python3"
  },
  "language_info": {
   "codemirror_mode": {
    "name": "ipython",
    "version": 3
   },
   "file_extension": ".py",
   "mimetype": "text/x-python",
   "name": "python",
   "nbconvert_exporter": "python",
   "pygments_lexer": "ipython3",
   "version": "3.9.7"
  },
  "orig_nbformat": 4
 },
 "nbformat": 4,
 "nbformat_minor": 2
}
