{
 "cells": [
  {
   "cell_type": "code",
   "execution_count": 1,
   "metadata": {},
   "outputs": [],
   "source": [
    "# Import the needed libraries\n",
    "import requests\n",
    "from pymongo import MongoClient"
   ]
  },
  {
   "cell_type": "code",
   "execution_count": 5,
   "metadata": {},
   "outputs": [
    {
     "data": {
      "text/plain": [
       "MongoClient(host=['10.0.0.120:27017'], document_class=dict, tz_aware=False, connect=True)"
      ]
     },
     "execution_count": 5,
     "metadata": {},
     "output_type": "execute_result"
    }
   ],
   "source": [
    "# Setup the connection to the mongodb server\n",
    "mongodb_client = MongoClient('10.0.0.120', 27017)\n",
    "mongodb_client"
   ]
  },
  {
   "cell_type": "code",
   "execution_count": 6,
   "metadata": {},
   "outputs": [
    {
     "data": {
      "text/plain": [
       "{'ok': 1.0}"
      ]
     },
     "execution_count": 6,
     "metadata": {},
     "output_type": "execute_result"
    }
   ],
   "source": [
    "# Ping \n",
    "mongodb_client.admin.command('ping')"
   ]
  },
  {
   "cell_type": "code",
   "execution_count": 8,
   "metadata": {},
   "outputs": [
    {
     "data": {
      "text/plain": [
       "['admin',\n",
       " 'config',\n",
       " 'employees_db',\n",
       " 'local',\n",
       " 'pyClient-db',\n",
       " 'securityni_db',\n",
       " 'securitynik-db',\n",
       " 'securitynik-mongo-db']"
      ]
     },
     "execution_count": 8,
     "metadata": {},
     "output_type": "execute_result"
    }
   ],
   "source": [
    "# List the databases on the server\n",
    "mongodb_client.list_database_names()"
   ]
  },
  {
   "cell_type": "code",
   "execution_count": 9,
   "metadata": {},
   "outputs": [
    {
     "data": {
      "text/plain": [
       "['employees', 'user']"
      ]
     },
     "execution_count": 9,
     "metadata": {},
     "output_type": "execute_result"
    }
   ],
   "source": [
    "# List all collections in the securitynik database\n",
    "securitynik_db = mongodb_client['securitynik-mongo-db']\n",
    "securitynik_db.list_collection_names()"
   ]
  },
  {
   "cell_type": "code",
   "execution_count": 10,
   "metadata": {},
   "outputs": [
    {
     "data": {
      "text/plain": [
       "Collection(Database(MongoClient(host=['10.0.0.120:27017'], document_class=dict, tz_aware=False, connect=True), 'securitynik-mongo-db'), 'HOST')"
      ]
     },
     "execution_count": 10,
     "metadata": {},
     "output_type": "execute_result"
    }
   ],
   "source": [
    "# Get the db host information\n",
    "securitynik_db.HOST"
   ]
  },
  {
   "cell_type": "code",
   "execution_count": 11,
   "metadata": {},
   "outputs": [
    {
     "data": {
      "text/plain": [
       "dict_keys(['_id', 'fname', 'lname', 'Active', 'profession'])"
      ]
     },
     "execution_count": 11,
     "metadata": {},
     "output_type": "execute_result"
    }
   ],
   "source": [
    "# Get the column names for the employees collections\n",
    "securitynik_db.employees.find_one().keys()"
   ]
  },
  {
   "cell_type": "code",
   "execution_count": 12,
   "metadata": {},
   "outputs": [
    {
     "data": {
      "text/plain": [
       "(Database(MongoClient(host=['10.0.0.120:27017'], document_class=dict, tz_aware=False, connect=True), 'securitynik-mongo-db'),\n",
       " Collection(Database(MongoClient(host=['10.0.0.120:27017'], document_class=dict, tz_aware=False, connect=True), 'securitynik-mongo-db'), 'employees'),\n",
       " Collection(Database(MongoClient(host=['10.0.0.120:27017'], document_class=dict, tz_aware=False, connect=True), 'securitynik-mongo-db'), 'users'))"
      ]
     },
     "execution_count": 12,
     "metadata": {},
     "output_type": "execute_result"
    }
   ],
   "source": [
    "# Create a collection wnamed employees within the employee_db\n",
    "employees = securitynik_db.employees\n",
    "\n",
    "# Create a collection named user\n",
    "users = securitynik_db.users\n",
    "securitynik_db, employees, users\n"
   ]
  },
  {
   "cell_type": "code",
   "execution_count": 13,
   "metadata": {},
   "outputs": [],
   "source": [
    "employee = {\n",
    "    'fname' : 'Nik',\n",
    "    'lname' : 'Alleyne',\n",
    "    'Active' : 'True',\n",
    "    'profession' : 'Blogger'\n",
    "}"
   ]
  },
  {
   "cell_type": "code",
   "execution_count": 14,
   "metadata": {},
   "outputs": [
    {
     "data": {
      "text/plain": [
       "<pymongo.results.InsertOneResult at 0x1bc99288880>"
      ]
     },
     "execution_count": 14,
     "metadata": {},
     "output_type": "execute_result"
    }
   ],
   "source": [
    "# Add a record to the employees_db\n",
    "employees.insert_one(employee)"
   ]
  },
  {
   "cell_type": "code",
   "execution_count": 15,
   "metadata": {},
   "outputs": [
    {
     "data": {
      "text/plain": [
       "{'_id': ObjectId('625e0fb566aaf5f6eed789be'),\n",
       " 'fname': 'Nik',\n",
       " 'lname': 'Alleyne',\n",
       " 'Active': 'True',\n",
       " 'profession': 'Blogger'}"
      ]
     },
     "execution_count": 15,
     "metadata": {},
     "output_type": "execute_result"
    }
   ],
   "source": [
    "# Read the employee collection and print the first record\n",
    "employees.find_one()"
   ]
  },
  {
   "cell_type": "code",
   "execution_count": 16,
   "metadata": {},
   "outputs": [],
   "source": [
    "insert_many = [\n",
    "        {'user':'NA', 'blog':'www.blogspot.com', 'age':10, 'sex':'Female'}, \n",
    "        {'user':'NA', 'blog':'www.blogspot.com', 'age':20, 'sex':'Male'}, \n",
    "        {'user':'SA', 'blog':'www.blogspot.com', 'age':30, 'sex':'Female'}, \n",
    "        {'user':'TQ', 'blog':'www.blogspot.com', 'age':40, 'sex':'Male'}, \n",
    "        {'user':'DP', 'blog':'www.blogspot.com', 'age':50, 'sex':'Female'}, \n",
    "        {'user':'TA', 'blog':'www.blogspot.com', 'age':60, 'sex':'Male'}, \n",
    "        {'user':'PK', 'blog':'www.blogspot.com', 'age':70, 'sex':'Female'}, \n",
    "        {'user':'User-1', 'blog':'www.blogspot.com', 'age':80, 'sex':'Male'}, \n",
    "        {'user':'User-2', 'blog':'www.blogspot.com', 'age':90, 'sex':'Female'}, \n",
    "        {'user':'User-3', 'blog':'www.blogspot.com', 'age':1000, 'sex':'Male'}, \n",
    "        ]"
   ]
  },
  {
   "cell_type": "code",
   "execution_count": 17,
   "metadata": {},
   "outputs": [
    {
     "data": {
      "text/plain": [
       "<pymongo.results.InsertManyResult at 0x1bc9b5edfd0>"
      ]
     },
     "execution_count": 17,
     "metadata": {},
     "output_type": "execute_result"
    }
   ],
   "source": [
    "# Insert the above records\n",
    "employees.insert_many(insert_many)"
   ]
  },
  {
   "cell_type": "code",
   "execution_count": 18,
   "metadata": {},
   "outputs": [
    {
     "name": "stdout",
     "output_type": "stream",
     "text": [
      "{'_id': ObjectId('625e0fb566aaf5f6eed789be'), 'fname': 'Nik', 'lname': 'Alleyne', 'Active': 'True', 'profession': 'Blogger'}\n",
      "{'_id': ObjectId('625e0fbd66aaf5f6eed789bf'), 'user': 'NA', 'blog': 'www.blogspot.com', 'age': 10, 'sex': 'Female'}\n",
      "{'_id': ObjectId('625e0fbd66aaf5f6eed789c0'), 'user': 'NA', 'blog': 'www.blogspot.com', 'age': 20, 'sex': 'Male'}\n",
      "{'_id': ObjectId('625e0fbd66aaf5f6eed789c1'), 'user': 'SA', 'blog': 'www.blogspot.com', 'age': 30, 'sex': 'Female'}\n",
      "{'_id': ObjectId('625e0fbd66aaf5f6eed789c2'), 'user': 'TQ', 'blog': 'www.blogspot.com', 'age': 40, 'sex': 'Male'}\n",
      "{'_id': ObjectId('625e0fbd66aaf5f6eed789c3'), 'user': 'DP', 'blog': 'www.blogspot.com', 'age': 50, 'sex': 'Female'}\n",
      "{'_id': ObjectId('625e0fbd66aaf5f6eed789c4'), 'user': 'TA', 'blog': 'www.blogspot.com', 'age': 60, 'sex': 'Male'}\n",
      "{'_id': ObjectId('625e0fbd66aaf5f6eed789c5'), 'user': 'PK', 'blog': 'www.blogspot.com', 'age': 70, 'sex': 'Female'}\n",
      "{'_id': ObjectId('625e0fbd66aaf5f6eed789c6'), 'user': 'User-1', 'blog': 'www.blogspot.com', 'age': 80, 'sex': 'Male'}\n",
      "{'_id': ObjectId('625e0fbd66aaf5f6eed789c7'), 'user': 'User-2', 'blog': 'www.blogspot.com', 'age': 90, 'sex': 'Female'}\n",
      "{'_id': ObjectId('625e0fbd66aaf5f6eed789c8'), 'user': 'User-3', 'blog': 'www.blogspot.com', 'age': 1000, 'sex': 'Male'}\n",
      "{'_id': ObjectId('625e1f2a66aaf5f6eed789ca'), 'fname': 'Nik', 'lname': 'Alleyne', 'Active': 'True', 'profession': 'Blogger'}\n",
      "{'_id': ObjectId('625e1f2d66aaf5f6eed789cb'), 'user': 'NA', 'blog': 'www.blogspot.com', 'age': 10, 'sex': 'Female'}\n",
      "{'_id': ObjectId('625e1f2d66aaf5f6eed789cc'), 'user': 'NA', 'blog': 'www.blogspot.com', 'age': 20, 'sex': 'Male'}\n",
      "{'_id': ObjectId('625e1f2d66aaf5f6eed789cd'), 'user': 'SA', 'blog': 'www.blogspot.com', 'age': 30, 'sex': 'Female'}\n",
      "{'_id': ObjectId('625e1f2d66aaf5f6eed789ce'), 'user': 'TQ', 'blog': 'www.blogspot.com', 'age': 40, 'sex': 'Male'}\n",
      "{'_id': ObjectId('625e1f2d66aaf5f6eed789cf'), 'user': 'DP', 'blog': 'www.blogspot.com', 'age': 50, 'sex': 'Female'}\n",
      "{'_id': ObjectId('625e1f2d66aaf5f6eed789d0'), 'user': 'TA', 'blog': 'www.blogspot.com', 'age': 60, 'sex': 'Male'}\n",
      "{'_id': ObjectId('625e1f2d66aaf5f6eed789d1'), 'user': 'PK', 'blog': 'www.blogspot.com', 'age': 70, 'sex': 'Female'}\n",
      "{'_id': ObjectId('625e1f2d66aaf5f6eed789d2'), 'user': 'User-1', 'blog': 'www.blogspot.com', 'age': 80, 'sex': 'Male'}\n",
      "{'_id': ObjectId('625e1f2d66aaf5f6eed789d3'), 'user': 'User-2', 'blog': 'www.blogspot.com', 'age': 90, 'sex': 'Female'}\n",
      "{'_id': ObjectId('625e1f2d66aaf5f6eed789d4'), 'user': 'User-3', 'blog': 'www.blogspot.com', 'age': 1000, 'sex': 'Male'}\n",
      "{'_id': ObjectId('625e23e3c4587a0c276889dd'), 'user': 'Desiree', 'blog': 'www.blogspot.com', 'age': 65, 'sex': 'Female', 'phone': {'areaCode': 592, 'number': 1112222}, 'address': {'unit': 10, 'streetName': 'Hazelridge Road', 'city': 'Mississauga', 'province': 'Ontario', 'country': 'Canada'}}\n",
      "{'_id': ObjectId('625e24a7c4587a0c276889de'), 'user': 'Nakia Alleyne', 'blog': 'www.blogspot.com', 'age': 12, 'sex': 'Female'}\n",
      "{'_id': ObjectId('625e24a7c4587a0c276889df'), 'user': 'Neysa Alleyne', 'blog': 'www.blogspot.com', 'age': 6, 'sex': 'Female'}\n",
      "{'_id': ObjectId('625e24a7c4587a0c276889e0'), 'user': 'Saadia Alleyne', 'blog': 'www.blogspot.com', 'age': 41, 'sex': 'Female'}\n",
      "{'_id': ObjectId('625e2616c4587a0c276889e1'), 'Autor': 'Nik Alleyne', 'blog': 'www.securitynik.com', 'active': 'yes', 'blogsOn': ['www.securitynik.com', 'securitynik.blogspot.com']}\n",
      "{'_id': ObjectId('6263707c4a44f8aedf13f394'), 'fname': 'Nik', 'lname': 'Alleyne', 'Active': 'True', 'profession': 'Blogger'}\n",
      "{'_id': ObjectId('6263707d4a44f8aedf13f395'), 'user': 'NA', 'blog': 'www.blogspot.com', 'age': 10, 'sex': 'Female'}\n",
      "{'_id': ObjectId('6263707d4a44f8aedf13f396'), 'user': 'NA', 'blog': 'www.blogspot.com', 'age': 20, 'sex': 'Male'}\n",
      "{'_id': ObjectId('6263707d4a44f8aedf13f397'), 'user': 'SA', 'blog': 'www.blogspot.com', 'age': 30, 'sex': 'Female'}\n",
      "{'_id': ObjectId('6263707d4a44f8aedf13f398'), 'user': 'TQ', 'blog': 'www.blogspot.com', 'age': 40, 'sex': 'Male'}\n",
      "{'_id': ObjectId('6263707d4a44f8aedf13f399'), 'user': 'DP', 'blog': 'www.blogspot.com', 'age': 50, 'sex': 'Female'}\n",
      "{'_id': ObjectId('6263707d4a44f8aedf13f39a'), 'user': 'TA', 'blog': 'www.blogspot.com', 'age': 60, 'sex': 'Male'}\n",
      "{'_id': ObjectId('6263707d4a44f8aedf13f39b'), 'user': 'PK', 'blog': 'www.blogspot.com', 'age': 70, 'sex': 'Female'}\n",
      "{'_id': ObjectId('6263707d4a44f8aedf13f39c'), 'user': 'User-1', 'blog': 'www.blogspot.com', 'age': 80, 'sex': 'Male'}\n",
      "{'_id': ObjectId('6263707d4a44f8aedf13f39d'), 'user': 'User-2', 'blog': 'www.blogspot.com', 'age': 90, 'sex': 'Female'}\n",
      "{'_id': ObjectId('6263707d4a44f8aedf13f39e'), 'user': 'User-3', 'blog': 'www.blogspot.com', 'age': 1000, 'sex': 'Male'}\n",
      "{'_id': ObjectId('6263735f43142a78a4071445'), 'fname': 'Nik', 'lname': 'Alleyne', 'Active': 'True', 'profession': 'Blogger'}\n",
      "{'_id': ObjectId('6263736043142a78a4071446'), 'user': 'NA', 'blog': 'www.blogspot.com', 'age': 10, 'sex': 'Female'}\n",
      "{'_id': ObjectId('6263736043142a78a4071447'), 'user': 'NA', 'blog': 'www.blogspot.com', 'age': 20, 'sex': 'Male'}\n",
      "{'_id': ObjectId('6263736043142a78a4071448'), 'user': 'SA', 'blog': 'www.blogspot.com', 'age': 30, 'sex': 'Female'}\n",
      "{'_id': ObjectId('6263736043142a78a4071449'), 'user': 'TQ', 'blog': 'www.blogspot.com', 'age': 40, 'sex': 'Male'}\n",
      "{'_id': ObjectId('6263736043142a78a407144a'), 'user': 'DP', 'blog': 'www.blogspot.com', 'age': 50, 'sex': 'Female'}\n",
      "{'_id': ObjectId('6263736043142a78a407144b'), 'user': 'TA', 'blog': 'www.blogspot.com', 'age': 60, 'sex': 'Male'}\n",
      "{'_id': ObjectId('6263736043142a78a407144c'), 'user': 'PK', 'blog': 'www.blogspot.com', 'age': 70, 'sex': 'Female'}\n",
      "{'_id': ObjectId('6263736043142a78a407144d'), 'user': 'User-1', 'blog': 'www.blogspot.com', 'age': 80, 'sex': 'Male'}\n",
      "{'_id': ObjectId('6263736043142a78a407144e'), 'user': 'User-2', 'blog': 'www.blogspot.com', 'age': 90, 'sex': 'Female'}\n",
      "{'_id': ObjectId('6263736043142a78a407144f'), 'user': 'User-3', 'blog': 'www.blogspot.com', 'age': 1000, 'sex': 'Male'}\n",
      "{'_id': ObjectId('6264a8a393e24d606e400831'), 'fname': 'Nik', 'lname': 'Alleyne', 'Active': 'True', 'profession': 'Blogger'}\n",
      "{'_id': ObjectId('6264a8a693e24d606e400832'), 'user': 'NA', 'blog': 'www.blogspot.com', 'age': 10, 'sex': 'Female'}\n",
      "{'_id': ObjectId('6264a8a693e24d606e400833'), 'user': 'NA', 'blog': 'www.blogspot.com', 'age': 20, 'sex': 'Male'}\n",
      "{'_id': ObjectId('6264a8a693e24d606e400834'), 'user': 'SA', 'blog': 'www.blogspot.com', 'age': 30, 'sex': 'Female'}\n",
      "{'_id': ObjectId('6264a8a693e24d606e400835'), 'user': 'TQ', 'blog': 'www.blogspot.com', 'age': 40, 'sex': 'Male'}\n",
      "{'_id': ObjectId('6264a8a693e24d606e400836'), 'user': 'DP', 'blog': 'www.blogspot.com', 'age': 50, 'sex': 'Female'}\n",
      "{'_id': ObjectId('6264a8a693e24d606e400837'), 'user': 'TA', 'blog': 'www.blogspot.com', 'age': 60, 'sex': 'Male'}\n",
      "{'_id': ObjectId('6264a8a693e24d606e400838'), 'user': 'PK', 'blog': 'www.blogspot.com', 'age': 70, 'sex': 'Female'}\n",
      "{'_id': ObjectId('6264a8a693e24d606e400839'), 'user': 'User-1', 'blog': 'www.blogspot.com', 'age': 80, 'sex': 'Male'}\n",
      "{'_id': ObjectId('6264a8a693e24d606e40083a'), 'user': 'User-2', 'blog': 'www.blogspot.com', 'age': 90, 'sex': 'Female'}\n",
      "{'_id': ObjectId('6264a8a693e24d606e40083b'), 'user': 'User-3', 'blog': 'www.blogspot.com', 'age': 1000, 'sex': 'Male'}\n"
     ]
    }
   ],
   "source": [
    "# Leveraging the query operators\n",
    "for document in securitynik_db.employees.find({}):\n",
    "    print(document)"
   ]
  },
  {
   "cell_type": "code",
   "execution_count": 19,
   "metadata": {},
   "outputs": [
    {
     "data": {
      "text/plain": [
       "(6, 60)"
      ]
     },
     "execution_count": 19,
     "metadata": {},
     "output_type": "execute_result"
    }
   ],
   "source": [
    "# Count the number of documents in the users and employees table\n",
    "securitynik_db.user.count_documents({}), securitynik_db.employees.count_documents(filter={})"
   ]
  },
  {
   "cell_type": "code",
   "execution_count": 20,
   "metadata": {},
   "outputs": [
    {
     "data": {
      "text/plain": [
       "{'_id': ObjectId('625e0fb566aaf5f6eed789be'),\n",
       " 'fname': 'Nik',\n",
       " 'lname': 'Alleyne',\n",
       " 'Active': 'True',\n",
       " 'profession': 'Blogger'}"
      ]
     },
     "execution_count": 20,
     "metadata": {},
     "output_type": "execute_result"
    }
   ],
   "source": [
    "# Find one record\n",
    "securitynik_db.employees.find_one(filter={})"
   ]
  },
  {
   "cell_type": "code",
   "execution_count": 21,
   "metadata": {},
   "outputs": [
    {
     "data": {
      "text/plain": [
       "25"
      ]
     },
     "execution_count": 21,
     "metadata": {},
     "output_type": "execute_result"
    }
   ],
   "source": [
    "# Count all records where the sex is male\n",
    "securitynik_db.employees.count_documents({'sex':'Male'})"
   ]
  },
  {
   "cell_type": "code",
   "execution_count": 22,
   "metadata": {},
   "outputs": [
    {
     "data": {
      "text/plain": [
       "29"
      ]
     },
     "execution_count": 22,
     "metadata": {},
     "output_type": "execute_result"
    }
   ],
   "source": [
    "# Count all records where the sex is Female\n",
    "securitynik_db.employees.count_documents({'sex':'Female'})"
   ]
  },
  {
   "cell_type": "code",
   "execution_count": 23,
   "metadata": {},
   "outputs": [
    {
     "data": {
      "text/plain": [
       "5"
      ]
     },
     "execution_count": 23,
     "metadata": {},
     "output_type": "execute_result"
    }
   ],
   "source": [
    "# Combining the filter to look for a more targeted record\n",
    "securitynik_db.employees.count_documents({'sex':'Female', 'age':90, 'user':'User-2'})"
   ]
  },
  {
   "cell_type": "code",
   "execution_count": 24,
   "metadata": {},
   "outputs": [
    {
     "data": {
      "text/plain": [
       "{'_id': ObjectId('625e0fbd66aaf5f6eed789c7'),\n",
       " 'user': 'User-2',\n",
       " 'blog': 'www.blogspot.com',\n",
       " 'age': 90,\n",
       " 'sex': 'Female'}"
      ]
     },
     "execution_count": 24,
     "metadata": {},
     "output_type": "execute_result"
    }
   ],
   "source": [
    "# Find the record that matches the above criterion\n",
    "securitynik_db.employees.find_one({'sex':'Female', 'age':90, 'user':'User-2'})"
   ]
  },
  {
   "cell_type": "code",
   "execution_count": 25,
   "metadata": {},
   "outputs": [
    {
     "name": "stdout",
     "output_type": "stream",
     "text": [
      "{'_id': ObjectId('625e0fbd66aaf5f6eed789c0'), 'user': 'NA', 'blog': 'www.blogspot.com', 'age': 20, 'sex': 'Male'}\n",
      "{'_id': ObjectId('625e1f2d66aaf5f6eed789cc'), 'user': 'NA', 'blog': 'www.blogspot.com', 'age': 20, 'sex': 'Male'}\n",
      "{'_id': ObjectId('6263707d4a44f8aedf13f396'), 'user': 'NA', 'blog': 'www.blogspot.com', 'age': 20, 'sex': 'Male'}\n",
      "{'_id': ObjectId('6263736043142a78a4071447'), 'user': 'NA', 'blog': 'www.blogspot.com', 'age': 20, 'sex': 'Male'}\n",
      "{'_id': ObjectId('6264a8a693e24d606e400833'), 'user': 'NA', 'blog': 'www.blogspot.com', 'age': 20, 'sex': 'Male'}\n"
     ]
    }
   ],
   "source": [
    "# Leveraging the query to find all records where the age is equal to 20\n",
    "for document in securitynik_db.employees.find({ 'age' : { '$eq':20 } }):\n",
    "    print(document)"
   ]
  },
  {
   "cell_type": "code",
   "execution_count": 26,
   "metadata": {},
   "outputs": [
    {
     "name": "stdout",
     "output_type": "stream",
     "text": [
      "{'_id': ObjectId('625e24a7c4587a0c276889de'), 'user': 'Nakia Alleyne', 'blog': 'www.blogspot.com', 'age': 12, 'sex': 'Female'}\n",
      "{'_id': ObjectId('625e0fbd66aaf5f6eed789bf'), 'user': 'NA', 'blog': 'www.blogspot.com', 'age': 10, 'sex': 'Female'}\n",
      "{'_id': ObjectId('625e1f2d66aaf5f6eed789cb'), 'user': 'NA', 'blog': 'www.blogspot.com', 'age': 10, 'sex': 'Female'}\n",
      "{'_id': ObjectId('6263707d4a44f8aedf13f395'), 'user': 'NA', 'blog': 'www.blogspot.com', 'age': 10, 'sex': 'Female'}\n",
      "{'_id': ObjectId('6263736043142a78a4071446'), 'user': 'NA', 'blog': 'www.blogspot.com', 'age': 10, 'sex': 'Female'}\n",
      "{'_id': ObjectId('6264a8a693e24d606e400832'), 'user': 'NA', 'blog': 'www.blogspot.com', 'age': 10, 'sex': 'Female'}\n",
      "{'_id': ObjectId('625e24a7c4587a0c276889df'), 'user': 'Neysa Alleyne', 'blog': 'www.blogspot.com', 'age': 6, 'sex': 'Female'}\n"
     ]
    }
   ],
   "source": [
    "# Leveraging the query to find all records where the age is less than 20\n",
    "for document in securitynik_db.employees.find({ 'age' : { '$lt':20 } }):\n",
    "    print(document)"
   ]
  },
  {
   "cell_type": "code",
   "execution_count": 27,
   "metadata": {},
   "outputs": [
    {
     "name": "stdout",
     "output_type": "stream",
     "text": [
      "{'_id': ObjectId('625e0fbd66aaf5f6eed789c8'), 'user': 'User-3', 'blog': 'www.blogspot.com', 'age': 1000, 'sex': 'Male'}\n",
      "{'_id': ObjectId('625e1f2d66aaf5f6eed789d4'), 'user': 'User-3', 'blog': 'www.blogspot.com', 'age': 1000, 'sex': 'Male'}\n",
      "{'_id': ObjectId('6263707d4a44f8aedf13f39e'), 'user': 'User-3', 'blog': 'www.blogspot.com', 'age': 1000, 'sex': 'Male'}\n",
      "{'_id': ObjectId('6263736043142a78a407144f'), 'user': 'User-3', 'blog': 'www.blogspot.com', 'age': 1000, 'sex': 'Male'}\n",
      "{'_id': ObjectId('6264a8a693e24d606e40083b'), 'user': 'User-3', 'blog': 'www.blogspot.com', 'age': 1000, 'sex': 'Male'}\n",
      "{'_id': ObjectId('625e0fbd66aaf5f6eed789c7'), 'user': 'User-2', 'blog': 'www.blogspot.com', 'age': 90, 'sex': 'Female'}\n",
      "{'_id': ObjectId('625e1f2d66aaf5f6eed789d3'), 'user': 'User-2', 'blog': 'www.blogspot.com', 'age': 90, 'sex': 'Female'}\n",
      "{'_id': ObjectId('6263707d4a44f8aedf13f39d'), 'user': 'User-2', 'blog': 'www.blogspot.com', 'age': 90, 'sex': 'Female'}\n",
      "{'_id': ObjectId('6263736043142a78a407144e'), 'user': 'User-2', 'blog': 'www.blogspot.com', 'age': 90, 'sex': 'Female'}\n",
      "{'_id': ObjectId('6264a8a693e24d606e40083a'), 'user': 'User-2', 'blog': 'www.blogspot.com', 'age': 90, 'sex': 'Female'}\n"
     ]
    }
   ],
   "source": [
    "# Leveraging the query to find all records where the age is greater than 20\n",
    "for document in securitynik_db.employees.find({ 'age' : { '$gt':80 } }):\n",
    "    print(document)"
   ]
  },
  {
   "cell_type": "code",
   "execution_count": 28,
   "metadata": {},
   "outputs": [
    {
     "name": "stdout",
     "output_type": "stream",
     "text": [
      "{'_id': ObjectId('625e0fbd66aaf5f6eed789c8'), 'user': 'User-3', 'blog': 'www.blogspot.com', 'age': 1000, 'sex': 'Male'}\n",
      "{'_id': ObjectId('625e1f2d66aaf5f6eed789d4'), 'user': 'User-3', 'blog': 'www.blogspot.com', 'age': 1000, 'sex': 'Male'}\n",
      "{'_id': ObjectId('6263707d4a44f8aedf13f39e'), 'user': 'User-3', 'blog': 'www.blogspot.com', 'age': 1000, 'sex': 'Male'}\n",
      "{'_id': ObjectId('6263736043142a78a407144f'), 'user': 'User-3', 'blog': 'www.blogspot.com', 'age': 1000, 'sex': 'Male'}\n",
      "{'_id': ObjectId('6264a8a693e24d606e40083b'), 'user': 'User-3', 'blog': 'www.blogspot.com', 'age': 1000, 'sex': 'Male'}\n",
      "{'_id': ObjectId('625e0fbd66aaf5f6eed789c7'), 'user': 'User-2', 'blog': 'www.blogspot.com', 'age': 90, 'sex': 'Female'}\n",
      "{'_id': ObjectId('625e1f2d66aaf5f6eed789d3'), 'user': 'User-2', 'blog': 'www.blogspot.com', 'age': 90, 'sex': 'Female'}\n",
      "{'_id': ObjectId('6263707d4a44f8aedf13f39d'), 'user': 'User-2', 'blog': 'www.blogspot.com', 'age': 90, 'sex': 'Female'}\n",
      "{'_id': ObjectId('6263736043142a78a407144e'), 'user': 'User-2', 'blog': 'www.blogspot.com', 'age': 90, 'sex': 'Female'}\n",
      "{'_id': ObjectId('6264a8a693e24d606e40083a'), 'user': 'User-2', 'blog': 'www.blogspot.com', 'age': 90, 'sex': 'Female'}\n"
     ]
    }
   ],
   "source": [
    "# Leveraging the query to find all records within an array\n",
    "for document in securitynik_db.employees.find({ 'age' : { '$in':[90, 1000] } }):\n",
    "    print(document)"
   ]
  },
  {
   "cell_type": "code",
   "execution_count": 29,
   "metadata": {},
   "outputs": [
    {
     "name": "stdout",
     "output_type": "stream",
     "text": [
      "{'_id': ObjectId('625e0fbd66aaf5f6eed789c6'), 'user': 'User-1', 'blog': 'www.blogspot.com', 'age': 80, 'sex': 'Male'}\n",
      "{'_id': ObjectId('625e1f2d66aaf5f6eed789d2'), 'user': 'User-1', 'blog': 'www.blogspot.com', 'age': 80, 'sex': 'Male'}\n",
      "{'_id': ObjectId('6263707d4a44f8aedf13f39c'), 'user': 'User-1', 'blog': 'www.blogspot.com', 'age': 80, 'sex': 'Male'}\n",
      "{'_id': ObjectId('6263736043142a78a407144d'), 'user': 'User-1', 'blog': 'www.blogspot.com', 'age': 80, 'sex': 'Male'}\n",
      "{'_id': ObjectId('6264a8a693e24d606e400839'), 'user': 'User-1', 'blog': 'www.blogspot.com', 'age': 80, 'sex': 'Male'}\n",
      "{'_id': ObjectId('625e0fbd66aaf5f6eed789c5'), 'user': 'PK', 'blog': 'www.blogspot.com', 'age': 70, 'sex': 'Female'}\n",
      "{'_id': ObjectId('625e1f2d66aaf5f6eed789d1'), 'user': 'PK', 'blog': 'www.blogspot.com', 'age': 70, 'sex': 'Female'}\n",
      "{'_id': ObjectId('6263707d4a44f8aedf13f39b'), 'user': 'PK', 'blog': 'www.blogspot.com', 'age': 70, 'sex': 'Female'}\n",
      "{'_id': ObjectId('6263736043142a78a407144c'), 'user': 'PK', 'blog': 'www.blogspot.com', 'age': 70, 'sex': 'Female'}\n",
      "{'_id': ObjectId('6264a8a693e24d606e400838'), 'user': 'PK', 'blog': 'www.blogspot.com', 'age': 70, 'sex': 'Female'}\n",
      "{'_id': ObjectId('625e23e3c4587a0c276889dd'), 'user': 'Desiree', 'blog': 'www.blogspot.com', 'age': 65, 'sex': 'Female', 'phone': {'areaCode': 592, 'number': 1112222}, 'address': {'unit': 10, 'streetName': 'Hazelridge Road', 'city': 'Mississauga', 'province': 'Ontario', 'country': 'Canada'}}\n",
      "{'_id': ObjectId('625e0fbd66aaf5f6eed789c4'), 'user': 'TA', 'blog': 'www.blogspot.com', 'age': 60, 'sex': 'Male'}\n",
      "{'_id': ObjectId('625e1f2d66aaf5f6eed789d0'), 'user': 'TA', 'blog': 'www.blogspot.com', 'age': 60, 'sex': 'Male'}\n",
      "{'_id': ObjectId('6263707d4a44f8aedf13f39a'), 'user': 'TA', 'blog': 'www.blogspot.com', 'age': 60, 'sex': 'Male'}\n",
      "{'_id': ObjectId('6263736043142a78a407144b'), 'user': 'TA', 'blog': 'www.blogspot.com', 'age': 60, 'sex': 'Male'}\n",
      "{'_id': ObjectId('6264a8a693e24d606e400837'), 'user': 'TA', 'blog': 'www.blogspot.com', 'age': 60, 'sex': 'Male'}\n",
      "{'_id': ObjectId('625e0fbd66aaf5f6eed789c3'), 'user': 'DP', 'blog': 'www.blogspot.com', 'age': 50, 'sex': 'Female'}\n",
      "{'_id': ObjectId('625e1f2d66aaf5f6eed789cf'), 'user': 'DP', 'blog': 'www.blogspot.com', 'age': 50, 'sex': 'Female'}\n",
      "{'_id': ObjectId('6263707d4a44f8aedf13f399'), 'user': 'DP', 'blog': 'www.blogspot.com', 'age': 50, 'sex': 'Female'}\n",
      "{'_id': ObjectId('6263736043142a78a407144a'), 'user': 'DP', 'blog': 'www.blogspot.com', 'age': 50, 'sex': 'Female'}\n",
      "{'_id': ObjectId('6264a8a693e24d606e400836'), 'user': 'DP', 'blog': 'www.blogspot.com', 'age': 50, 'sex': 'Female'}\n",
      "{'_id': ObjectId('625e24a7c4587a0c276889e0'), 'user': 'Saadia Alleyne', 'blog': 'www.blogspot.com', 'age': 41, 'sex': 'Female'}\n",
      "{'_id': ObjectId('625e0fbd66aaf5f6eed789c2'), 'user': 'TQ', 'blog': 'www.blogspot.com', 'age': 40, 'sex': 'Male'}\n",
      "{'_id': ObjectId('625e1f2d66aaf5f6eed789ce'), 'user': 'TQ', 'blog': 'www.blogspot.com', 'age': 40, 'sex': 'Male'}\n",
      "{'_id': ObjectId('6263707d4a44f8aedf13f398'), 'user': 'TQ', 'blog': 'www.blogspot.com', 'age': 40, 'sex': 'Male'}\n",
      "{'_id': ObjectId('6263736043142a78a4071449'), 'user': 'TQ', 'blog': 'www.blogspot.com', 'age': 40, 'sex': 'Male'}\n",
      "{'_id': ObjectId('6264a8a693e24d606e400835'), 'user': 'TQ', 'blog': 'www.blogspot.com', 'age': 40, 'sex': 'Male'}\n",
      "{'_id': ObjectId('625e0fbd66aaf5f6eed789c1'), 'user': 'SA', 'blog': 'www.blogspot.com', 'age': 30, 'sex': 'Female'}\n",
      "{'_id': ObjectId('625e1f2d66aaf5f6eed789cd'), 'user': 'SA', 'blog': 'www.blogspot.com', 'age': 30, 'sex': 'Female'}\n",
      "{'_id': ObjectId('6263707d4a44f8aedf13f397'), 'user': 'SA', 'blog': 'www.blogspot.com', 'age': 30, 'sex': 'Female'}\n",
      "{'_id': ObjectId('6263736043142a78a4071448'), 'user': 'SA', 'blog': 'www.blogspot.com', 'age': 30, 'sex': 'Female'}\n",
      "{'_id': ObjectId('6264a8a693e24d606e400834'), 'user': 'SA', 'blog': 'www.blogspot.com', 'age': 30, 'sex': 'Female'}\n",
      "{'_id': ObjectId('625e0fbd66aaf5f6eed789c0'), 'user': 'NA', 'blog': 'www.blogspot.com', 'age': 20, 'sex': 'Male'}\n",
      "{'_id': ObjectId('625e1f2d66aaf5f6eed789cc'), 'user': 'NA', 'blog': 'www.blogspot.com', 'age': 20, 'sex': 'Male'}\n",
      "{'_id': ObjectId('6263707d4a44f8aedf13f396'), 'user': 'NA', 'blog': 'www.blogspot.com', 'age': 20, 'sex': 'Male'}\n",
      "{'_id': ObjectId('6263736043142a78a4071447'), 'user': 'NA', 'blog': 'www.blogspot.com', 'age': 20, 'sex': 'Male'}\n",
      "{'_id': ObjectId('6264a8a693e24d606e400833'), 'user': 'NA', 'blog': 'www.blogspot.com', 'age': 20, 'sex': 'Male'}\n",
      "{'_id': ObjectId('625e24a7c4587a0c276889de'), 'user': 'Nakia Alleyne', 'blog': 'www.blogspot.com', 'age': 12, 'sex': 'Female'}\n",
      "{'_id': ObjectId('625e0fbd66aaf5f6eed789bf'), 'user': 'NA', 'blog': 'www.blogspot.com', 'age': 10, 'sex': 'Female'}\n",
      "{'_id': ObjectId('625e1f2d66aaf5f6eed789cb'), 'user': 'NA', 'blog': 'www.blogspot.com', 'age': 10, 'sex': 'Female'}\n",
      "{'_id': ObjectId('6263707d4a44f8aedf13f395'), 'user': 'NA', 'blog': 'www.blogspot.com', 'age': 10, 'sex': 'Female'}\n",
      "{'_id': ObjectId('6263736043142a78a4071446'), 'user': 'NA', 'blog': 'www.blogspot.com', 'age': 10, 'sex': 'Female'}\n",
      "{'_id': ObjectId('6264a8a693e24d606e400832'), 'user': 'NA', 'blog': 'www.blogspot.com', 'age': 10, 'sex': 'Female'}\n",
      "{'_id': ObjectId('625e24a7c4587a0c276889df'), 'user': 'Neysa Alleyne', 'blog': 'www.blogspot.com', 'age': 6, 'sex': 'Female'}\n",
      "{'_id': ObjectId('625e0fb566aaf5f6eed789be'), 'fname': 'Nik', 'lname': 'Alleyne', 'Active': 'True', 'profession': 'Blogger'}\n",
      "{'_id': ObjectId('625e1f2a66aaf5f6eed789ca'), 'fname': 'Nik', 'lname': 'Alleyne', 'Active': 'True', 'profession': 'Blogger'}\n",
      "{'_id': ObjectId('625e2616c4587a0c276889e1'), 'Autor': 'Nik Alleyne', 'blog': 'www.securitynik.com', 'active': 'yes', 'blogsOn': ['www.securitynik.com', 'securitynik.blogspot.com']}\n",
      "{'_id': ObjectId('6263707c4a44f8aedf13f394'), 'fname': 'Nik', 'lname': 'Alleyne', 'Active': 'True', 'profession': 'Blogger'}\n",
      "{'_id': ObjectId('6263735f43142a78a4071445'), 'fname': 'Nik', 'lname': 'Alleyne', 'Active': 'True', 'profession': 'Blogger'}\n",
      "{'_id': ObjectId('6264a8a393e24d606e400831'), 'fname': 'Nik', 'lname': 'Alleyne', 'Active': 'True', 'profession': 'Blogger'}\n"
     ]
    }
   ],
   "source": [
    "# Leveraging the query to find all records not within an array\n",
    "for document in securitynik_db.employees.find({ 'age' : { '$nin':[90, 1000] } }):\n",
    "    print(document)"
   ]
  },
  {
   "cell_type": "code",
   "execution_count": 30,
   "metadata": {},
   "outputs": [
    {
     "name": "stdout",
     "output_type": "stream",
     "text": [
      "{'_id': ObjectId('625e2616c4587a0c276889e1'), 'Autor': 'Nik Alleyne', 'blog': 'www.securitynik.com', 'active': 'yes', 'blogsOn': ['www.securitynik.com', 'securitynik.blogspot.com']}\n"
     ]
    }
   ],
   "source": [
    "# Leveraging the query to find all records where the blogsOn field exists\n",
    "for document in securitynik_db.employees.find({ 'blogsOn' : { '$exists': 'true' } }):\n",
    "    print(document)"
   ]
  },
  {
   "cell_type": "code",
   "execution_count": 31,
   "metadata": {},
   "outputs": [
    {
     "name": "stdout",
     "output_type": "stream",
     "text": [
      "{'_id': ObjectId('625e2616c4587a0c276889e1'), 'Autor': 'Nik Alleyne', 'blog': 'www.securitynik.com', 'active': 'yes', 'blogsOn': ['www.securitynik.com', 'securitynik.blogspot.com']}\n"
     ]
    }
   ],
   "source": [
    "# Leveraging the query to find all records where the blogsOn field exists and has 2 or more entries\n",
    "# in the blogsOn Field\n",
    "for document in securitynik_db.employees.find({ 'blogsOn.1' : { '$exists': 'true' } }):\n",
    "    print(document)"
   ]
  },
  {
   "cell_type": "code",
   "execution_count": 32,
   "metadata": {},
   "outputs": [
    {
     "data": {
      "text/plain": [
       "['securitynik.blogspot.com', 'www.securitynik.com']"
      ]
     },
     "execution_count": 32,
     "metadata": {},
     "output_type": "execute_result"
    }
   ],
   "source": [
    "# finding all the unique values for the blogsOn field\n",
    "securitynik_db.employees.distinct('blogsOn')"
   ]
  },
  {
   "cell_type": "code",
   "execution_count": 33,
   "metadata": {},
   "outputs": [
    {
     "data": {
      "text/plain": [
       "['Female', 'Male']"
      ]
     },
     "execution_count": 33,
     "metadata": {},
     "output_type": "execute_result"
    }
   ],
   "source": [
    "# finding all the unique values for the sex field\n",
    "securitynik_db.employees.distinct('sex')"
   ]
  },
  {
   "cell_type": "code",
   "execution_count": 34,
   "metadata": {},
   "outputs": [
    {
     "data": {
      "text/plain": [
       "['Desiree',\n",
       " 'Nakia Alleyne',\n",
       " 'Neysa Alleyne',\n",
       " 'Nik Alleyne',\n",
       " 'Pam',\n",
       " 'Saadia Alleyne']"
      ]
     },
     "execution_count": 34,
     "metadata": {},
     "output_type": "execute_result"
    }
   ],
   "source": [
    "# finding all the unique values for the user field in the users collection\n",
    "securitynik_db.user.distinct('user')"
   ]
  },
  {
   "cell_type": "code",
   "execution_count": 35,
   "metadata": {},
   "outputs": [
    {
     "data": {
      "text/plain": [
       "['Nakia Alleyne', 'Neysa Alleyne', 'Saadia Alleyne']"
      ]
     },
     "execution_count": 35,
     "metadata": {},
     "output_type": "execute_result"
    }
   ],
   "source": [
    "# Using distinct with regular expressions\n",
    "# Looking for all records where the user starts with \n",
    "# Nak, Ney, Pam or contains the characters sadi and ends with Alleyne\n",
    "# While ignorning case sensitivity\n",
    "securitynik_db.user.distinct('user', { 'user' : {'$regex' : '^(Nak\\w+|Ney|Pam|[sadi]).*alleyne$', '$options': 'i'} })"
   ]
  },
  {
   "cell_type": "code",
   "execution_count": 36,
   "metadata": {},
   "outputs": [
    {
     "data": {
      "text/plain": [
       "[{'fname': 'Nik', 'lname': 'Alleyne'},\n",
       " {},\n",
       " {},\n",
       " {},\n",
       " {},\n",
       " {},\n",
       " {},\n",
       " {},\n",
       " {},\n",
       " {},\n",
       " {},\n",
       " {'fname': 'Nik', 'lname': 'Alleyne'},\n",
       " {},\n",
       " {},\n",
       " {},\n",
       " {},\n",
       " {},\n",
       " {},\n",
       " {},\n",
       " {},\n",
       " {},\n",
       " {},\n",
       " {},\n",
       " {},\n",
       " {},\n",
       " {},\n",
       " {},\n",
       " {'fname': 'Nik', 'lname': 'Alleyne'},\n",
       " {},\n",
       " {},\n",
       " {},\n",
       " {},\n",
       " {},\n",
       " {},\n",
       " {},\n",
       " {},\n",
       " {},\n",
       " {},\n",
       " {'fname': 'Nik', 'lname': 'Alleyne'},\n",
       " {},\n",
       " {},\n",
       " {},\n",
       " {},\n",
       " {},\n",
       " {},\n",
       " {},\n",
       " {},\n",
       " {},\n",
       " {},\n",
       " {'fname': 'Nik', 'lname': 'Alleyne'},\n",
       " {},\n",
       " {},\n",
       " {},\n",
       " {},\n",
       " {},\n",
       " {},\n",
       " {},\n",
       " {},\n",
       " {},\n",
       " {}]"
      ]
     },
     "execution_count": 36,
     "metadata": {},
     "output_type": "execute_result"
    }
   ],
   "source": [
    "# Leveraging projections to find the fields of interest\n",
    "# Then return only the columns of interest\n",
    "# 1 means return the field, id is returned by default, \n",
    "# so using 0 to suppress it.\n",
    "list(securitynik_db.employees.find(filter={}, projection={'_id':0, 'fname':1, 'lname':1}))"
   ]
  },
  {
   "cell_type": "code",
   "execution_count": 37,
   "metadata": {},
   "outputs": [
    {
     "data": {
      "text/plain": [
       "[{'_id': ObjectId('625e0fbd66aaf5f6eed789c8'),\n",
       "  'user': 'User-3',\n",
       "  'blog': 'www.blogspot.com',\n",
       "  'age': 1000,\n",
       "  'sex': 'Male'},\n",
       " {'_id': ObjectId('625e1f2d66aaf5f6eed789d4'),\n",
       "  'user': 'User-3',\n",
       "  'blog': 'www.blogspot.com',\n",
       "  'age': 1000,\n",
       "  'sex': 'Male'},\n",
       " {'_id': ObjectId('6263707d4a44f8aedf13f39e'),\n",
       "  'user': 'User-3',\n",
       "  'blog': 'www.blogspot.com',\n",
       "  'age': 1000,\n",
       "  'sex': 'Male'},\n",
       " {'_id': ObjectId('6263736043142a78a407144f'),\n",
       "  'user': 'User-3',\n",
       "  'blog': 'www.blogspot.com',\n",
       "  'age': 1000,\n",
       "  'sex': 'Male'},\n",
       " {'_id': ObjectId('6264a8a693e24d606e40083b'),\n",
       "  'user': 'User-3',\n",
       "  'blog': 'www.blogspot.com',\n",
       "  'age': 1000,\n",
       "  'sex': 'Male'},\n",
       " {'_id': ObjectId('625e0fbd66aaf5f6eed789c7'),\n",
       "  'user': 'User-2',\n",
       "  'blog': 'www.blogspot.com',\n",
       "  'age': 90,\n",
       "  'sex': 'Female'},\n",
       " {'_id': ObjectId('625e1f2d66aaf5f6eed789d3'),\n",
       "  'user': 'User-2',\n",
       "  'blog': 'www.blogspot.com',\n",
       "  'age': 90,\n",
       "  'sex': 'Female'},\n",
       " {'_id': ObjectId('6263707d4a44f8aedf13f39d'),\n",
       "  'user': 'User-2',\n",
       "  'blog': 'www.blogspot.com',\n",
       "  'age': 90,\n",
       "  'sex': 'Female'},\n",
       " {'_id': ObjectId('6263736043142a78a407144e'),\n",
       "  'user': 'User-2',\n",
       "  'blog': 'www.blogspot.com',\n",
       "  'age': 90,\n",
       "  'sex': 'Female'},\n",
       " {'_id': ObjectId('6264a8a693e24d606e40083a'),\n",
       "  'user': 'User-2',\n",
       "  'blog': 'www.blogspot.com',\n",
       "  'age': 90,\n",
       "  'sex': 'Female'},\n",
       " {'_id': ObjectId('625e0fbd66aaf5f6eed789c6'),\n",
       "  'user': 'User-1',\n",
       "  'blog': 'www.blogspot.com',\n",
       "  'age': 80,\n",
       "  'sex': 'Male'},\n",
       " {'_id': ObjectId('625e1f2d66aaf5f6eed789d2'),\n",
       "  'user': 'User-1',\n",
       "  'blog': 'www.blogspot.com',\n",
       "  'age': 80,\n",
       "  'sex': 'Male'},\n",
       " {'_id': ObjectId('6263707d4a44f8aedf13f39c'),\n",
       "  'user': 'User-1',\n",
       "  'blog': 'www.blogspot.com',\n",
       "  'age': 80,\n",
       "  'sex': 'Male'},\n",
       " {'_id': ObjectId('6263736043142a78a407144d'),\n",
       "  'user': 'User-1',\n",
       "  'blog': 'www.blogspot.com',\n",
       "  'age': 80,\n",
       "  'sex': 'Male'},\n",
       " {'_id': ObjectId('6264a8a693e24d606e400839'),\n",
       "  'user': 'User-1',\n",
       "  'blog': 'www.blogspot.com',\n",
       "  'age': 80,\n",
       "  'sex': 'Male'},\n",
       " {'_id': ObjectId('625e0fbd66aaf5f6eed789c5'),\n",
       "  'user': 'PK',\n",
       "  'blog': 'www.blogspot.com',\n",
       "  'age': 70,\n",
       "  'sex': 'Female'},\n",
       " {'_id': ObjectId('625e1f2d66aaf5f6eed789d1'),\n",
       "  'user': 'PK',\n",
       "  'blog': 'www.blogspot.com',\n",
       "  'age': 70,\n",
       "  'sex': 'Female'},\n",
       " {'_id': ObjectId('6263707d4a44f8aedf13f39b'),\n",
       "  'user': 'PK',\n",
       "  'blog': 'www.blogspot.com',\n",
       "  'age': 70,\n",
       "  'sex': 'Female'},\n",
       " {'_id': ObjectId('6263736043142a78a407144c'),\n",
       "  'user': 'PK',\n",
       "  'blog': 'www.blogspot.com',\n",
       "  'age': 70,\n",
       "  'sex': 'Female'},\n",
       " {'_id': ObjectId('6264a8a693e24d606e400838'),\n",
       "  'user': 'PK',\n",
       "  'blog': 'www.blogspot.com',\n",
       "  'age': 70,\n",
       "  'sex': 'Female'},\n",
       " {'_id': ObjectId('625e23e3c4587a0c276889dd'),\n",
       "  'user': 'Desiree',\n",
       "  'blog': 'www.blogspot.com',\n",
       "  'age': 65,\n",
       "  'sex': 'Female',\n",
       "  'phone': {'areaCode': 592, 'number': 1112222},\n",
       "  'address': {'unit': 10,\n",
       "   'streetName': 'Hazelridge Road',\n",
       "   'city': 'Mississauga',\n",
       "   'province': 'Ontario',\n",
       "   'country': 'Canada'}},\n",
       " {'_id': ObjectId('625e0fbd66aaf5f6eed789c4'),\n",
       "  'user': 'TA',\n",
       "  'blog': 'www.blogspot.com',\n",
       "  'age': 60,\n",
       "  'sex': 'Male'},\n",
       " {'_id': ObjectId('625e1f2d66aaf5f6eed789d0'),\n",
       "  'user': 'TA',\n",
       "  'blog': 'www.blogspot.com',\n",
       "  'age': 60,\n",
       "  'sex': 'Male'},\n",
       " {'_id': ObjectId('6263707d4a44f8aedf13f39a'),\n",
       "  'user': 'TA',\n",
       "  'blog': 'www.blogspot.com',\n",
       "  'age': 60,\n",
       "  'sex': 'Male'},\n",
       " {'_id': ObjectId('6263736043142a78a407144b'),\n",
       "  'user': 'TA',\n",
       "  'blog': 'www.blogspot.com',\n",
       "  'age': 60,\n",
       "  'sex': 'Male'},\n",
       " {'_id': ObjectId('6264a8a693e24d606e400837'),\n",
       "  'user': 'TA',\n",
       "  'blog': 'www.blogspot.com',\n",
       "  'age': 60,\n",
       "  'sex': 'Male'},\n",
       " {'_id': ObjectId('625e0fbd66aaf5f6eed789c3'),\n",
       "  'user': 'DP',\n",
       "  'blog': 'www.blogspot.com',\n",
       "  'age': 50,\n",
       "  'sex': 'Female'},\n",
       " {'_id': ObjectId('625e1f2d66aaf5f6eed789cf'),\n",
       "  'user': 'DP',\n",
       "  'blog': 'www.blogspot.com',\n",
       "  'age': 50,\n",
       "  'sex': 'Female'},\n",
       " {'_id': ObjectId('6263707d4a44f8aedf13f399'),\n",
       "  'user': 'DP',\n",
       "  'blog': 'www.blogspot.com',\n",
       "  'age': 50,\n",
       "  'sex': 'Female'},\n",
       " {'_id': ObjectId('6263736043142a78a407144a'),\n",
       "  'user': 'DP',\n",
       "  'blog': 'www.blogspot.com',\n",
       "  'age': 50,\n",
       "  'sex': 'Female'},\n",
       " {'_id': ObjectId('6264a8a693e24d606e400836'),\n",
       "  'user': 'DP',\n",
       "  'blog': 'www.blogspot.com',\n",
       "  'age': 50,\n",
       "  'sex': 'Female'},\n",
       " {'_id': ObjectId('625e24a7c4587a0c276889e0'),\n",
       "  'user': 'Saadia Alleyne',\n",
       "  'blog': 'www.blogspot.com',\n",
       "  'age': 41,\n",
       "  'sex': 'Female'},\n",
       " {'_id': ObjectId('625e0fbd66aaf5f6eed789c2'),\n",
       "  'user': 'TQ',\n",
       "  'blog': 'www.blogspot.com',\n",
       "  'age': 40,\n",
       "  'sex': 'Male'},\n",
       " {'_id': ObjectId('625e1f2d66aaf5f6eed789ce'),\n",
       "  'user': 'TQ',\n",
       "  'blog': 'www.blogspot.com',\n",
       "  'age': 40,\n",
       "  'sex': 'Male'},\n",
       " {'_id': ObjectId('6263707d4a44f8aedf13f398'),\n",
       "  'user': 'TQ',\n",
       "  'blog': 'www.blogspot.com',\n",
       "  'age': 40,\n",
       "  'sex': 'Male'},\n",
       " {'_id': ObjectId('6263736043142a78a4071449'),\n",
       "  'user': 'TQ',\n",
       "  'blog': 'www.blogspot.com',\n",
       "  'age': 40,\n",
       "  'sex': 'Male'},\n",
       " {'_id': ObjectId('6264a8a693e24d606e400835'),\n",
       "  'user': 'TQ',\n",
       "  'blog': 'www.blogspot.com',\n",
       "  'age': 40,\n",
       "  'sex': 'Male'},\n",
       " {'_id': ObjectId('625e0fbd66aaf5f6eed789c1'),\n",
       "  'user': 'SA',\n",
       "  'blog': 'www.blogspot.com',\n",
       "  'age': 30,\n",
       "  'sex': 'Female'},\n",
       " {'_id': ObjectId('625e1f2d66aaf5f6eed789cd'),\n",
       "  'user': 'SA',\n",
       "  'blog': 'www.blogspot.com',\n",
       "  'age': 30,\n",
       "  'sex': 'Female'},\n",
       " {'_id': ObjectId('6263707d4a44f8aedf13f397'),\n",
       "  'user': 'SA',\n",
       "  'blog': 'www.blogspot.com',\n",
       "  'age': 30,\n",
       "  'sex': 'Female'},\n",
       " {'_id': ObjectId('6263736043142a78a4071448'),\n",
       "  'user': 'SA',\n",
       "  'blog': 'www.blogspot.com',\n",
       "  'age': 30,\n",
       "  'sex': 'Female'},\n",
       " {'_id': ObjectId('6264a8a693e24d606e400834'),\n",
       "  'user': 'SA',\n",
       "  'blog': 'www.blogspot.com',\n",
       "  'age': 30,\n",
       "  'sex': 'Female'},\n",
       " {'_id': ObjectId('625e0fbd66aaf5f6eed789c0'),\n",
       "  'user': 'NA',\n",
       "  'blog': 'www.blogspot.com',\n",
       "  'age': 20,\n",
       "  'sex': 'Male'},\n",
       " {'_id': ObjectId('625e1f2d66aaf5f6eed789cc'),\n",
       "  'user': 'NA',\n",
       "  'blog': 'www.blogspot.com',\n",
       "  'age': 20,\n",
       "  'sex': 'Male'},\n",
       " {'_id': ObjectId('6263707d4a44f8aedf13f396'),\n",
       "  'user': 'NA',\n",
       "  'blog': 'www.blogspot.com',\n",
       "  'age': 20,\n",
       "  'sex': 'Male'},\n",
       " {'_id': ObjectId('6263736043142a78a4071447'),\n",
       "  'user': 'NA',\n",
       "  'blog': 'www.blogspot.com',\n",
       "  'age': 20,\n",
       "  'sex': 'Male'},\n",
       " {'_id': ObjectId('6264a8a693e24d606e400833'),\n",
       "  'user': 'NA',\n",
       "  'blog': 'www.blogspot.com',\n",
       "  'age': 20,\n",
       "  'sex': 'Male'},\n",
       " {'_id': ObjectId('625e24a7c4587a0c276889de'),\n",
       "  'user': 'Nakia Alleyne',\n",
       "  'blog': 'www.blogspot.com',\n",
       "  'age': 12,\n",
       "  'sex': 'Female'},\n",
       " {'_id': ObjectId('625e0fbd66aaf5f6eed789bf'),\n",
       "  'user': 'NA',\n",
       "  'blog': 'www.blogspot.com',\n",
       "  'age': 10,\n",
       "  'sex': 'Female'},\n",
       " {'_id': ObjectId('625e1f2d66aaf5f6eed789cb'),\n",
       "  'user': 'NA',\n",
       "  'blog': 'www.blogspot.com',\n",
       "  'age': 10,\n",
       "  'sex': 'Female'},\n",
       " {'_id': ObjectId('6263707d4a44f8aedf13f395'),\n",
       "  'user': 'NA',\n",
       "  'blog': 'www.blogspot.com',\n",
       "  'age': 10,\n",
       "  'sex': 'Female'},\n",
       " {'_id': ObjectId('6263736043142a78a4071446'),\n",
       "  'user': 'NA',\n",
       "  'blog': 'www.blogspot.com',\n",
       "  'age': 10,\n",
       "  'sex': 'Female'},\n",
       " {'_id': ObjectId('6264a8a693e24d606e400832'),\n",
       "  'user': 'NA',\n",
       "  'blog': 'www.blogspot.com',\n",
       "  'age': 10,\n",
       "  'sex': 'Female'},\n",
       " {'_id': ObjectId('625e24a7c4587a0c276889df'),\n",
       "  'user': 'Neysa Alleyne',\n",
       "  'blog': 'www.blogspot.com',\n",
       "  'age': 6,\n",
       "  'sex': 'Female'},\n",
       " {'_id': ObjectId('625e0fb566aaf5f6eed789be'),\n",
       "  'fname': 'Nik',\n",
       "  'lname': 'Alleyne',\n",
       "  'Active': 'True',\n",
       "  'profession': 'Blogger'},\n",
       " {'_id': ObjectId('625e1f2a66aaf5f6eed789ca'),\n",
       "  'fname': 'Nik',\n",
       "  'lname': 'Alleyne',\n",
       "  'Active': 'True',\n",
       "  'profession': 'Blogger'},\n",
       " {'_id': ObjectId('625e2616c4587a0c276889e1'),\n",
       "  'Autor': 'Nik Alleyne',\n",
       "  'blog': 'www.securitynik.com',\n",
       "  'active': 'yes',\n",
       "  'blogsOn': ['www.securitynik.com', 'securitynik.blogspot.com']},\n",
       " {'_id': ObjectId('6263707c4a44f8aedf13f394'),\n",
       "  'fname': 'Nik',\n",
       "  'lname': 'Alleyne',\n",
       "  'Active': 'True',\n",
       "  'profession': 'Blogger'},\n",
       " {'_id': ObjectId('6263735f43142a78a4071445'),\n",
       "  'fname': 'Nik',\n",
       "  'lname': 'Alleyne',\n",
       "  'Active': 'True',\n",
       "  'profession': 'Blogger'},\n",
       " {'_id': ObjectId('6264a8a393e24d606e400831'),\n",
       "  'fname': 'Nik',\n",
       "  'lname': 'Alleyne',\n",
       "  'Active': 'True',\n",
       "  'profession': 'Blogger'}]"
      ]
     },
     "execution_count": 37,
     "metadata": {},
     "output_type": "execute_result"
    }
   ],
   "source": [
    "# Expanding on above to sort the results\n",
    "sorted_docs = securitynik_db.employees.find({}, sort=[('age', -1)])\n",
    "list(sorted_docs)"
   ]
  },
  {
   "cell_type": "code",
   "execution_count": 38,
   "metadata": {},
   "outputs": [
    {
     "data": {
      "text/plain": [
       "[{'_id': ObjectId('6264a8a393e24d606e400831'),\n",
       "  'fname': 'Nik',\n",
       "  'lname': 'Alleyne',\n",
       "  'Active': 'True',\n",
       "  'profession': 'Blogger'},\n",
       " {'_id': ObjectId('6263735f43142a78a4071445'),\n",
       "  'fname': 'Nik',\n",
       "  'lname': 'Alleyne',\n",
       "  'Active': 'True',\n",
       "  'profession': 'Blogger'},\n",
       " {'_id': ObjectId('6263707c4a44f8aedf13f394'),\n",
       "  'fname': 'Nik',\n",
       "  'lname': 'Alleyne',\n",
       "  'Active': 'True',\n",
       "  'profession': 'Blogger'},\n",
       " {'_id': ObjectId('625e1f2a66aaf5f6eed789ca'),\n",
       "  'fname': 'Nik',\n",
       "  'lname': 'Alleyne',\n",
       "  'Active': 'True',\n",
       "  'profession': 'Blogger'},\n",
       " {'_id': ObjectId('625e0fb566aaf5f6eed789be'),\n",
       "  'fname': 'Nik',\n",
       "  'lname': 'Alleyne',\n",
       "  'Active': 'True',\n",
       "  'profession': 'Blogger'}]"
      ]
     },
     "execution_count": 38,
     "metadata": {},
     "output_type": "execute_result"
    }
   ],
   "source": [
    "# Expanding on above to sort the results\n",
    "sorted_docs = securitynik_db.employees.find({'fname':'Nik'}, sort=[('_id', -1)])\n",
    "list(sorted_docs)"
   ]
  },
  {
   "cell_type": "code",
   "execution_count": 39,
   "metadata": {},
   "outputs": [
    {
     "data": {
      "text/plain": [
       "[{'_id': ObjectId('6264a8a393e24d606e400831'),\n",
       "  'fname': 'Nik',\n",
       "  'lname': 'Alleyne',\n",
       "  'Active': 'True',\n",
       "  'profession': 'Blogger'}]"
      ]
     },
     "execution_count": 39,
     "metadata": {},
     "output_type": "execute_result"
    }
   ],
   "source": [
    "# Limiting the number of returned record\n",
    "sorted_docs = securitynik_db.employees.find({'fname':'Nik'}, sort=[('_id', -1)], limit=1)\n",
    "list(sorted_docs)"
   ]
  },
  {
   "cell_type": "code",
   "execution_count": 40,
   "metadata": {},
   "outputs": [
    {
     "data": {
      "text/plain": [
       "[{'_id': ObjectId('6263735f43142a78a4071445'),\n",
       "  'fname': 'Nik',\n",
       "  'lname': 'Alleyne',\n",
       "  'Active': 'True',\n",
       "  'profession': 'Blogger'}]"
      ]
     },
     "execution_count": 40,
     "metadata": {},
     "output_type": "execute_result"
    }
   ],
   "source": [
    "# Limiting the number of returned record while taking advantage of skip\n",
    "sorted_docs = securitynik_db.employees.find({'fname':'Nik'}, sort=[('_id', -1)], skip=1, limit=1)\n",
    "list(sorted_docs)"
   ]
  },
  {
   "cell_type": "code",
   "execution_count": 41,
   "metadata": {},
   "outputs": [
    {
     "data": {
      "text/plain": [
       "'age_-1'"
      ]
     },
     "execution_count": 41,
     "metadata": {},
     "output_type": "execute_result"
    }
   ],
   "source": [
    "# Creating an index and leveraging same\n",
    "securitynik_db.employees.create_index([('age', -1)])"
   ]
  },
  {
   "cell_type": "code",
   "execution_count": 42,
   "metadata": {},
   "outputs": [
    {
     "data": {
      "text/plain": [
       "[]"
      ]
     },
     "execution_count": 42,
     "metadata": {},
     "output_type": "execute_result"
    }
   ],
   "source": [
    "# Leverage the index\n",
    "# Creating an index and leveraging same\n",
    "list(securitynik_db.employees.find({'age': -1}))"
   ]
  },
  {
   "cell_type": "code",
   "execution_count": 43,
   "metadata": {},
   "outputs": [
    {
     "data": {
      "text/plain": [
       "'age_-1_fname_-1'"
      ]
     },
     "execution_count": 43,
     "metadata": {},
     "output_type": "execute_result"
    }
   ],
   "source": [
    "# Create a compound index\n",
    "securitynik_db.employees.create_index([('age', -1), ('fname', -1)])"
   ]
  },
  {
   "cell_type": "code",
   "execution_count": 44,
   "metadata": {},
   "outputs": [
    {
     "data": {
      "text/plain": [
       "{'_id_': {'v': 2, 'key': [('_id', 1)]},\n",
       " 'age_-1': {'v': 2, 'key': [('age', -1)]},\n",
       " 'age_-1_fname_-1': {'v': 2, 'key': [('age', -1), ('fname', -1)]}}"
      ]
     },
     "execution_count": 44,
     "metadata": {},
     "output_type": "execute_result"
    }
   ],
   "source": [
    "# Grabbing initial information on the index\n",
    "securitynik_db.employees.index_information()"
   ]
  },
  {
   "cell_type": "code",
   "execution_count": 45,
   "metadata": {},
   "outputs": [
    {
     "data": {
      "text/plain": [
       "{'explainVersion': '1',\n",
       " 'queryPlanner': {'namespace': 'securitynik-mongo-db.employees',\n",
       "  'indexFilterSet': False,\n",
       "  'parsedQuery': {'$and': [{'_id': {'$eq': '6263735f43142a78a4071445'}},\n",
       "    {'fname': {'$eq': 'Nik'}}]},\n",
       "  'maxIndexedOrSolutionsReached': False,\n",
       "  'maxIndexedAndSolutionsReached': False,\n",
       "  'maxScansToExplodeReached': False,\n",
       "  'winningPlan': {'stage': 'FETCH',\n",
       "   'filter': {'fname': {'$eq': 'Nik'}},\n",
       "   'inputStage': {'stage': 'IXSCAN',\n",
       "    'keyPattern': {'_id': 1},\n",
       "    'indexName': '_id_',\n",
       "    'isMultiKey': False,\n",
       "    'multiKeyPaths': {'_id': []},\n",
       "    'isUnique': True,\n",
       "    'isSparse': False,\n",
       "    'isPartial': False,\n",
       "    'indexVersion': 2,\n",
       "    'direction': 'forward',\n",
       "    'indexBounds': {'_id': ['[\"6263735f43142a78a4071445\", \"6263735f43142a78a4071445\"]']}}},\n",
       "  'rejectedPlans': []},\n",
       " 'executionStats': {'executionSuccess': True,\n",
       "  'nReturned': 0,\n",
       "  'executionTimeMillis': 0,\n",
       "  'totalKeysExamined': 0,\n",
       "  'totalDocsExamined': 0,\n",
       "  'executionStages': {'stage': 'FETCH',\n",
       "   'filter': {'fname': {'$eq': 'Nik'}},\n",
       "   'nReturned': 0,\n",
       "   'executionTimeMillisEstimate': 0,\n",
       "   'works': 1,\n",
       "   'advanced': 0,\n",
       "   'needTime': 0,\n",
       "   'needYield': 0,\n",
       "   'saveState': 0,\n",
       "   'restoreState': 0,\n",
       "   'isEOF': 1,\n",
       "   'docsExamined': 0,\n",
       "   'alreadyHasObj': 0,\n",
       "   'inputStage': {'stage': 'IXSCAN',\n",
       "    'nReturned': 0,\n",
       "    'executionTimeMillisEstimate': 0,\n",
       "    'works': 1,\n",
       "    'advanced': 0,\n",
       "    'needTime': 0,\n",
       "    'needYield': 0,\n",
       "    'saveState': 0,\n",
       "    'restoreState': 0,\n",
       "    'isEOF': 1,\n",
       "    'keyPattern': {'_id': 1},\n",
       "    'indexName': '_id_',\n",
       "    'isMultiKey': False,\n",
       "    'multiKeyPaths': {'_id': []},\n",
       "    'isUnique': True,\n",
       "    'isSparse': False,\n",
       "    'isPartial': False,\n",
       "    'indexVersion': 2,\n",
       "    'direction': 'forward',\n",
       "    'indexBounds': {'_id': ['[\"6263735f43142a78a4071445\", \"6263735f43142a78a4071445\"]']},\n",
       "    'keysExamined': 0,\n",
       "    'seeks': 1,\n",
       "    'dupsTested': 0,\n",
       "    'dupsDropped': 0}},\n",
       "  'allPlansExecution': []},\n",
       " 'command': {'find': 'employees',\n",
       "  'filter': {'fname': 'Nik', '_id': '6263735f43142a78a4071445'},\n",
       "  '$db': 'securitynik-mongo-db'},\n",
       " 'serverInfo': {'host': 'securitynik',\n",
       "  'port': 27017,\n",
       "  'version': '5.0.7',\n",
       "  'gitVersion': 'b977129dc70eed766cbee7e412d901ee213acbda'},\n",
       " 'serverParameters': {'internalQueryFacetBufferSizeBytes': 104857600,\n",
       "  'internalQueryFacetMaxOutputDocSizeBytes': 104857600,\n",
       "  'internalLookupStageIntermediateDocumentMaxSizeBytes': 104857600,\n",
       "  'internalDocumentSourceGroupMaxMemoryBytes': 104857600,\n",
       "  'internalQueryMaxBlockingSortMemoryUsageBytes': 104857600,\n",
       "  'internalQueryProhibitBlockingMergeOnMongoS': 0,\n",
       "  'internalQueryMaxAddToSetBytes': 104857600,\n",
       "  'internalDocumentSourceSetWindowFieldsMaxMemoryBytes': 104857600},\n",
       " 'ok': 1.0}"
      ]
     },
     "execution_count": 45,
     "metadata": {},
     "output_type": "execute_result"
    }
   ],
   "source": [
    "# Getting an explanation about my query\n",
    "securitynik_db.employees.find({'fname':'Nik', '_id': '6263735f43142a78a4071445'}).explain()"
   ]
  },
  {
   "cell_type": "code",
   "execution_count": 64,
   "metadata": {},
   "outputs": [
    {
     "data": {
      "text/plain": [
       "[{'fname': 'Nik', 'lname': 'Alleyne'},\n",
       " {'fname': 'Nik', 'lname': 'Alleyne'},\n",
       " {'fname': 'Nik', 'lname': 'Alleyne'}]"
      ]
     },
     "execution_count": 64,
     "metadata": {},
     "output_type": "execute_result"
    }
   ],
   "source": [
    "# Using aggregate feature\n",
    "# doing most of the work at the server\n",
    "list(securitynik_db.employees.aggregate([{'$match' : { 'fname' : 'Nik'}}, {'$project' : {'lname' : 3, 'fname':1, '_id':0 }}, { '$limit' : 3}]))"
   ]
  },
  {
   "cell_type": "code",
   "execution_count": 65,
   "metadata": {},
   "outputs": [
    {
     "data": {
      "text/plain": [
       "[{'fname': 3}]"
      ]
     },
     "execution_count": 65,
     "metadata": {},
     "output_type": "execute_result"
    }
   ],
   "source": [
    "# Using aggregate feature\n",
    "# doing most of the work at the server\n",
    "# count the number of returned records\n",
    "\n",
    "list(securitynik_db.employees.aggregate([{'$match' : { 'fname' : 'Nik'}}, {'$project' : {'lname' : 3, 'fname':1, '_id':0 }}, { '$limit' : 3}, {'$count' : 'fname'}]))"
   ]
  },
  {
   "cell_type": "code",
   "execution_count": null,
   "metadata": {},
   "outputs": [],
   "source": []
  },
  {
   "cell_type": "code",
   "execution_count": null,
   "metadata": {},
   "outputs": [],
   "source": []
  },
  {
   "cell_type": "code",
   "execution_count": null,
   "metadata": {},
   "outputs": [],
   "source": [
    "''' \n",
    "References:\n",
    "https://hevodata.com/learn/python-pymongo-mongoclient/\n",
    "https://campus.datacamp.com/courses/introduction-to-using-mongodb-for-data-science-with-python/\n",
    "https://www.linkedin.com/pulse/mongodb-101-beginners-part1-amany-mounes/\n",
    "https://www.mongodb.com/docs/manual/tutorial/query-documents/#std-label-read-operations-query-argument\n",
    "https://www.tutorialspoint.com/python_mongodb/python_mongodb_tutorial.pdf\n",
    "https://www.bogotobogo.com/python/MongoDB_PyMongo/python_MongoDB_pyMongo_tutorial_connecting_accessing.php\n",
    "https://pymongo.readthedocs.io/en/stable/api/pymongo/mongo_client.html\n",
    "https://www.mongodb.com/docs/manual/reference/operator/query/\n",
    "https://www.educba.com/mongodb-query-operators/\n",
    "https://www.w3schools.in/mongodb/projection-queries\n",
    "\n",
    "'''"
   ]
  }
 ],
 "metadata": {
  "interpreter": {
   "hash": "59ea869f7cc095b5969136f55b07eeb0228f32c0df33fad9fed97c798cbdb7da"
  },
  "kernelspec": {
   "display_name": "Python 3.9.7 ('base')",
   "language": "python",
   "name": "python3"
  },
  "language_info": {
   "codemirror_mode": {
    "name": "ipython",
    "version": 3
   },
   "file_extension": ".py",
   "mimetype": "text/x-python",
   "name": "python",
   "nbconvert_exporter": "python",
   "pygments_lexer": "ipython3",
   "version": "3.9.7"
  },
  "orig_nbformat": 4
 },
 "nbformat": 4,
 "nbformat_minor": 2
}
