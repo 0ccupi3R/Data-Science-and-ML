{
 "cells": [
  {
   "attachments": {},
   "cell_type": "markdown",
   "metadata": {},
   "source": [
    "Author: Nik Alleyne <br>\n",
    "Author Blog: https://www.securitynik.com <br>\n",
    "Author GitHub:github.com/securitynik <br>\n",
    "Author Books: [  <br>\n",
    "                \"https://www.amazon.ca/Learning-Practicing-Leveraging-Practical-Detection/dp/1731254458/\",  <br>\n",
    "                \"https://www.amazon.ca/Learning-Practicing-Mastering-Network-Forensics/dp/1775383024/\" <br>\n",
    "            ] <br>\n"
   ]
  },
  {
   "attachments": {},
   "cell_type": "markdown",
   "metadata": {},
   "source": [
    "## 01 - Beginning Numpy"
   ]
  },
  {
   "attachments": {},
   "cell_type": "markdown",
   "metadata": {},
   "source": [
    "This post is part of my beginning machine learning series.  <br>\n",
    "The series includes the following: <br>\n",
    "\n",
    "01 - Beginning Numpy <br>\n",
    "02 - Beginning Tensorflow  <br>\n",
    "03 - Beginning PyTorch <br>\n",
    "04 - Beginning Pandas <br>\n",
    "05 - Beginning Matplotlib <br>\n",
    "06 - Beginning Data Scaling <br>\n",
    "07 - Beginning Principal Component Analysis (PCA) <br>\n",
    "08 - Beginning Machine Learning Anomaly Detection - Isolation Forest and Local Outlier Factor <br>\n",
    "09 - Beginning Unsupervised Machine Learning - Clustering - KMeans and DBSCAN <br>\n",
    "10 - Beginning Supervise Learning - Machine Learning - Logistic Regression, Decision Trees and Metrics <br>\n",
    "11 - Beginning Linear Regression - Machine Learning <br>\n",
    "12 - Beginning Deep Learning - Anomaly Detection with AutoEncoders, Tensorflow <br>\n",
    "13 - Beginning Deep Learning - Anomaly Detection with AutoEncoders, PyTroch <br>\n",
    "14 - Beginning Deep Learning, - Linear Regression, Tensorflow <br>\n",
    "15 - Beginning Deep Learning, - Linear Regression, PyTorch <br>\n",
    "16 - Beginning Deep Learning, - Classification, Tensorflow <br>\n",
    "17 - Beginning Deep Learning, - Classification, Pytorch <br>\n",
    "18 - Beginning Deep Learning, - Classification - regression - MIMO - Functional API Tensorflow <br> \n",
    "19 - Beginning Deep Learning, - Convolution Networks - Tensorflow <br>\n",
    "20 - Beginning Deep Learning, - Convolution Networks, PyTorch <br>\n",
    "21 - Beginning Regularization - Early Stopping, Dropout, L2 (Ridge), L1 (Lasso) <br>\n",
    "23 - Beginning Model TFServing <br>\n",
    "\n",
    "But conn.log is not the only file within Zeek. Let's build some models for DNS and HTTP logs. <br>\n",
    "I choose unsupervised, because there are no labels coming with these data. <br>\n",
    "\n",
    "24 - Continuing Anomaly Learning - Zeek DNS Log - Machine Learning <br>\n",
    "25 - Continuing Unsupervised Learning - Zeek HTTP Log - Machine Learning <br> <br>\n",
    "\n",
    "This was a specific ask by someone in one of my class. <br>\n",
    "26 - Beginning - Reading Executables and Building a Neural Network to make predictions on suspicious vs suspicious  <br><br>\n",
    "\n",
    "With 26 notebooks in this series, it is quite possible there are things I could have or should have done differently.  <br>\n",
    "If you find any thing, you think fits those criteria, drop me a line. <br>"
   ]
  },
  {
   "cell_type": "code",
   "execution_count": 3,
   "metadata": {},
   "outputs": [],
   "source": [
    "# First up, import the numpy library\n",
    "import numpy as np"
   ]
  },
  {
   "cell_type": "code",
   "execution_count": 4,
   "metadata": {},
   "outputs": [
    {
     "data": {
      "text/plain": [
       "'1.23.5'"
      ]
     },
     "execution_count": 4,
     "metadata": {},
     "output_type": "execute_result"
    }
   ],
   "source": [
    "# Get the current numpy version\n",
    "np.__version__"
   ]
  },
  {
   "cell_type": "code",
   "execution_count": 10,
   "metadata": {},
   "outputs": [
    {
     "data": {
      "text/plain": [
       "array([10])"
      ]
     },
     "execution_count": 10,
     "metadata": {},
     "output_type": "execute_result"
    }
   ],
   "source": [
    "# Setup an integer numpy array with 1 item\n",
    "# A numpy array is a collection of one or items of the same type\n",
    "x = np.array([10])\n",
    "x"
   ]
  },
  {
   "cell_type": "code",
   "execution_count": 11,
   "metadata": {},
   "outputs": [
    {
     "data": {
      "text/plain": [
       "dtype('int32')"
      ]
     },
     "execution_count": 11,
     "metadata": {},
     "output_type": "execute_result"
    }
   ],
   "source": [
    "# Confirm the data type of x\n",
    "x.dtype"
   ]
  },
  {
   "cell_type": "code",
   "execution_count": 12,
   "metadata": {},
   "outputs": [
    {
     "data": {
      "text/plain": [
       "numpy.ndarray"
      ]
     },
     "execution_count": 12,
     "metadata": {},
     "output_type": "execute_result"
    }
   ],
   "source": [
    "# Above shows x if of data type int32\n",
    "# If we want to find the type of object x is, we use type\n",
    "# This returns a Numpy N-dimensional array\n",
    "# https://numpy.org/doc/stable/reference/arrays.ndarray.html\n",
    "type(x)"
   ]
  },
  {
   "cell_type": "code",
   "execution_count": 14,
   "metadata": {},
   "outputs": [
    {
     "data": {
      "text/plain": [
       "(array([10, 20, 30]), dtype('int32'))"
      ]
     },
     "execution_count": 14,
     "metadata": {},
     "output_type": "execute_result"
    }
   ],
   "source": [
    "# Setup the array with multiple integer items and confirm the data type of the \n",
    "x = np.array([10, 20, 30])\n",
    "x, x.dtype"
   ]
  },
  {
   "cell_type": "code",
   "execution_count": 15,
   "metadata": {},
   "outputs": [
    {
     "data": {
      "text/plain": [
       "array([10., 20., 30.])"
      ]
     },
     "execution_count": 15,
     "metadata": {},
     "output_type": "execute_result"
    }
   ],
   "source": [
    "# Setup the array with multiple float items without explicitly specifying the data type\n",
    "x = np.array([10., 20., 30.])\n",
    "x"
   ]
  },
  {
   "cell_type": "code",
   "execution_count": 16,
   "metadata": {},
   "outputs": [
    {
     "data": {
      "text/plain": [
       "dtype('float64')"
      ]
     },
     "execution_count": 16,
     "metadata": {},
     "output_type": "execute_result"
    }
   ],
   "source": [
    "# Confirming the data type is float.\n",
    "x.dtype"
   ]
  },
  {
   "cell_type": "code",
   "execution_count": 17,
   "metadata": {},
   "outputs": [
    {
     "data": {
      "text/plain": [
       "(array([10., 20., 30.], dtype=float16), dtype('float16'))"
      ]
     },
     "execution_count": 17,
     "metadata": {},
     "output_type": "execute_result"
    }
   ],
   "source": [
    "# Alternatively, we can cast (convert) the integers to float16 values\n",
    "# Setup the array with multiple integer items\n",
    "x = np.array([10, 20, 30], dtype=np.float16)\n",
    "x, x.dtype"
   ]
  },
  {
   "cell_type": "code",
   "execution_count": 18,
   "metadata": {},
   "outputs": [
    {
     "data": {
      "text/plain": [
       "array([[10., 20., 30.]])"
      ]
     },
     "execution_count": 18,
     "metadata": {},
     "output_type": "execute_result"
    }
   ],
   "source": [
    "# Add a new dimension to the vector of integers\n",
    "# Make it 2 dimensional\n",
    "# Note the two brackets to open and close the data\n",
    "x = np.array([10, 20, 30], dtype=float, ndmin=2)\n",
    "x"
   ]
  },
  {
   "cell_type": "code",
   "execution_count": 20,
   "metadata": {},
   "outputs": [
    {
     "data": {
      "text/plain": [
       "array([[[10., 20., 30.]]])"
      ]
     },
     "execution_count": 20,
     "metadata": {},
     "output_type": "execute_result"
    }
   ],
   "source": [
    "# Make it a 3 dimension vector a different way\n",
    "x = np.array([10, 20, 30], dtype=float, ndmin=3)\n",
    "x"
   ]
  },
  {
   "cell_type": "code",
   "execution_count": 21,
   "metadata": {},
   "outputs": [
    {
     "data": {
      "text/plain": [
       "array([[[10, 20, 30]]])"
      ]
     },
     "execution_count": 21,
     "metadata": {},
     "output_type": "execute_result"
    }
   ],
   "source": [
    "# Alternatively, we could have added those dimensions manually\n",
    "x = np.array([[[10, 20, 30]]])\n",
    "x"
   ]
  },
  {
   "cell_type": "code",
   "execution_count": 22,
   "metadata": {},
   "outputs": [
    {
     "data": {
      "text/plain": [
       "array([[10.],\n",
       "       [20.],\n",
       "       [30.]])"
      ]
     },
     "execution_count": 22,
     "metadata": {},
     "output_type": "execute_result"
    }
   ],
   "source": [
    "# Reshape the x array\n",
    "# In this case, (-1, 1) means any amount of rows but only one column\n",
    "# For this scenario, since x is 1 row and 3 columns, this transitions it to 3 rows and 1 column\n",
    "x = np.array([10, 20, 30], dtype=float, ndmin=2)\n",
    "x = x.reshape(-1, 1)\n",
    "x"
   ]
  },
  {
   "cell_type": "code",
   "execution_count": 23,
   "metadata": {},
   "outputs": [
    {
     "data": {
      "text/plain": [
       "array([[10., 20., 30.]])"
      ]
     },
     "execution_count": 23,
     "metadata": {},
     "output_type": "execute_result"
    }
   ],
   "source": [
    "# Alternatively Reshape the x array to have 1 row and any amount of columns\n",
    "# In this case, (1, -1) means 1 row and any amount of columns\n",
    "# For this scenario, since x is 1 row and 3 columns, this transitions it to 3 columns and 1 row\n",
    "# Notice the 2 dimensions\n",
    "x = np.array([10, 20, 30], dtype=float, ndmin=2)\n",
    "x = x.reshape(1, -1)\n",
    "x"
   ]
  },
  {
   "cell_type": "code",
   "execution_count": 24,
   "metadata": {},
   "outputs": [
    {
     "data": {
      "text/plain": [
       "array([[10., 20., 30.]])"
      ]
     },
     "execution_count": 24,
     "metadata": {},
     "output_type": "execute_result"
    }
   ],
   "source": [
    "# Alternatively, reshaping using the newaxis command to reshape from a 1 dimension vector to 2D\n",
    "# This results in 1 row and multiple columns\n",
    "# # Notice the transition from 1 to 2 dimensions\n",
    "x = np.array([10, 20, 30], dtype=float, ndmin=1)\n",
    "x[np.newaxis, :]"
   ]
  },
  {
   "cell_type": "code",
   "execution_count": 25,
   "metadata": {},
   "outputs": [
    {
     "data": {
      "text/plain": [
       "array([[10.],\n",
       "       [20.],\n",
       "       [30.]])"
      ]
     },
     "execution_count": 25,
     "metadata": {},
     "output_type": "execute_result"
    }
   ],
   "source": [
    "# Reshape with np.newaxis to any amount of rows and 1 column\n",
    "x = np.array([10, 20, 30], dtype=float, ndmin=1)\n",
    "x[:, np.newaxis ]"
   ]
  },
  {
   "cell_type": "code",
   "execution_count": 26,
   "metadata": {},
   "outputs": [
    {
     "data": {
      "text/plain": [
       "array([[10.],\n",
       "       [20.],\n",
       "       [30.]])"
      ]
     },
     "execution_count": 26,
     "metadata": {},
     "output_type": "execute_result"
    }
   ],
   "source": [
    "# If you are not too excited about using np.reshape or np.newaxis\n",
    "# you can still reshape using np.expand_dims\n",
    "# This results in multiple rows with 1 column\n",
    "x = np.array([10, 20, 30], dtype=float, ndmin=1)\n",
    "\n",
    "# Notice this is done across axis 1 as in across the rows\n",
    "np.expand_dims(x, axis=1)"
   ]
  },
  {
   "cell_type": "code",
   "execution_count": 27,
   "metadata": {},
   "outputs": [
    {
     "data": {
      "text/plain": [
       "array([[10., 20., 30.]])"
      ]
     },
     "execution_count": 27,
     "metadata": {},
     "output_type": "execute_result"
    }
   ],
   "source": [
    "# If not too excited about using np.reshape or np.newaxis\n",
    "# you can still reshape using np.expand_dims\n",
    "# In this case, target axis 0. This results in 1 row multiple columns\n",
    "x = np.array([10, 20, 30], dtype=float, ndmin=1)\n",
    "\n",
    "# Notice the axis=0. Ths means we are going down the columns\n",
    "np.expand_dims(x, axis=0)"
   ]
  },
  {
   "cell_type": "code",
   "execution_count": 28,
   "metadata": {},
   "outputs": [
    {
     "data": {
      "text/plain": [
       "(array([[1., 2., 3., 4., 5.]]), array([[6., 7., 8., 9., 0.]]))"
      ]
     },
     "execution_count": 28,
     "metadata": {},
     "output_type": "execute_result"
    }
   ],
   "source": [
    "# Create two vectors to stack\n",
    "x = np.array([[1, 2, 3, 4, 5]], dtype=float)\n",
    "y = np.array([[6, 7, 8, 9, 0]], dtype=float)\n",
    "\n",
    "x, y"
   ]
  },
  {
   "cell_type": "code",
   "execution_count": 29,
   "metadata": {},
   "outputs": [
    {
     "data": {
      "text/plain": [
       "array([[1., 2., 3., 4., 5.],\n",
       "       [6., 7., 8., 9., 0.]])"
      ]
     },
     "execution_count": 29,
     "metadata": {},
     "output_type": "execute_result"
    }
   ],
   "source": [
    "# Stack x and y vertically\n",
    "# Note this needs to be a tuple\n",
    "# This is very helpful, if you would like to stack two datasets to create 1 larger one\n",
    "z = np.vstack((x, y))\n",
    "z"
   ]
  },
  {
   "cell_type": "code",
   "execution_count": 30,
   "metadata": {},
   "outputs": [
    {
     "data": {
      "text/plain": [
       "array([[1., 2., 3., 4., 5., 6., 7., 8., 9., 0.]])"
      ]
     },
     "execution_count": 30,
     "metadata": {},
     "output_type": "execute_result"
    }
   ],
   "source": [
    "# Stack horizontally\n",
    "# This is helpful when you want to add new features to your dataset\n",
    "# Remember this needs to be a tuple\n",
    "z = np.hstack((x, y))\n",
    "z"
   ]
  },
  {
   "cell_type": "code",
   "execution_count": 31,
   "metadata": {},
   "outputs": [
    {
     "data": {
      "text/plain": [
       "array([[1., 2., 3., 4., 5.],\n",
       "       [6., 7., 8., 9., 0.]])"
      ]
     },
     "execution_count": 31,
     "metadata": {},
     "output_type": "execute_result"
    }
   ],
   "source": [
    "# If not interested in using np.vstack\n",
    "# You can instead concatenate the items along axis 0\n",
    "z = np.concatenate((x, y), axis=0)\n",
    "z"
   ]
  },
  {
   "cell_type": "code",
   "execution_count": 32,
   "metadata": {},
   "outputs": [
    {
     "data": {
      "text/plain": [
       "array([[1., 2., 3., 4., 5., 6., 7., 8., 9., 0.]])"
      ]
     },
     "execution_count": 32,
     "metadata": {},
     "output_type": "execute_result"
    }
   ],
   "source": [
    "# If not interested in using np.hstack\n",
    "# You can instead concatenate the items along axis 1\n",
    "z = np.concatenate((x, y), axis=1)\n",
    "z"
   ]
  },
  {
   "cell_type": "code",
   "execution_count": 33,
   "metadata": {},
   "outputs": [
    {
     "data": {
      "text/plain": [
       "4.0"
      ]
     },
     "execution_count": 33,
     "metadata": {},
     "output_type": "execute_result"
    }
   ],
   "source": [
    "# Finding the difference between the smallest number and the largest\n",
    "x = np.array([[1, 2, 3, 4, 5]], dtype=float)\n",
    "np.ptp(x)"
   ]
  },
  {
   "cell_type": "code",
   "execution_count": 34,
   "metadata": {},
   "outputs": [
    {
     "data": {
      "text/plain": [
       "(array([5], dtype=int64),)"
      ]
     },
     "execution_count": 34,
     "metadata": {},
     "output_type": "execute_result"
    }
   ],
   "source": [
    "# Find the index within x where the value equals 4\n",
    "x = np.array([10, 9, 8, 7, 6, 5, 4], dtype=float)\n",
    "z = np.where((x == 5))\n",
    "z"
   ]
  },
  {
   "cell_type": "code",
   "execution_count": 35,
   "metadata": {},
   "outputs": [
    {
     "data": {
      "text/plain": [
       "5.0"
      ]
     },
     "execution_count": 35,
     "metadata": {},
     "output_type": "execute_result"
    }
   ],
   "source": [
    "# Confirming the return positioned \n",
    "x[5]"
   ]
  },
  {
   "cell_type": "code",
   "execution_count": 36,
   "metadata": {},
   "outputs": [
    {
     "data": {
      "text/plain": [
       "array([[1., 1., 1., 1.],\n",
       "       [1., 1., 1., 1.],\n",
       "       [1., 1., 1., 1.],\n",
       "       [1., 1., 1., 1.]])"
      ]
     },
     "execution_count": 36,
     "metadata": {},
     "output_type": "execute_result"
    }
   ],
   "source": [
    "# Generate a 4*4 matrix of ones\n",
    "np.ones((4,4))"
   ]
  },
  {
   "cell_type": "code",
   "execution_count": 37,
   "metadata": {},
   "outputs": [
    {
     "data": {
      "text/plain": [
       "array([[0., 0., 0., 0., 0., 0.],\n",
       "       [0., 0., 0., 0., 0., 0.],\n",
       "       [0., 0., 0., 0., 0., 0.],\n",
       "       [0., 0., 0., 0., 0., 0.],\n",
       "       [0., 0., 0., 0., 0., 0.],\n",
       "       [0., 0., 0., 0., 0., 0.]])"
      ]
     },
     "execution_count": 37,
     "metadata": {},
     "output_type": "execute_result"
    }
   ],
   "source": [
    "# Create a 6x6 matrix with all zeros\n",
    "x = np.zeros((6,6))\n",
    "x"
   ]
  },
  {
   "cell_type": "code",
   "execution_count": 38,
   "metadata": {},
   "outputs": [
    {
     "data": {
      "text/plain": [
       "array([[2., 0., 0., 0., 0., 0.],\n",
       "       [0., 0., 0., 0., 0., 0.],\n",
       "       [0., 0., 0., 0., 0., 0.],\n",
       "       [0., 0., 0., 0., 0., 0.],\n",
       "       [0., 0., 0., 0., 0., 0.],\n",
       "       [0., 0., 0., 0., 0., 0.]])"
      ]
     },
     "execution_count": 38,
     "metadata": {},
     "output_type": "execute_result"
    }
   ],
   "source": [
    "# Update the items at position row 0, column 0 with 2\n",
    "# Counting for both the rows and columns start 0\n",
    "# As a result, even though this matrix is 6x6, you \n",
    "# will be going from 0 to 5 for the indexes\n",
    "x[0,0] = 2\n",
    "x"
   ]
  },
  {
   "cell_type": "code",
   "execution_count": 39,
   "metadata": {},
   "outputs": [
    {
     "data": {
      "text/plain": [
       "array([[  2.,   0.,   0.,   0.,   0.,   0.],\n",
       "       [  0.,   0.,   0.,   0.,   0.,   0.],\n",
       "       [  0.,   0.,   0.,   0.,   0.,   0.],\n",
       "       [  0.,   0.,   0.,   0.,   0., 100.],\n",
       "       [  0.,   0.,   0.,   0.,   0.,   0.],\n",
       "       [  0.,   0.,   0.,   0.,   0.,   0.]])"
      ]
     },
     "execution_count": 39,
     "metadata": {},
     "output_type": "execute_result"
    }
   ],
   "source": [
    "# Update the items at position row 3, column 5 with 100\n",
    "# Remember, index starts from 0\n",
    "x[3,5] = 100\n",
    "x\n"
   ]
  },
  {
   "cell_type": "code",
   "execution_count": 40,
   "metadata": {},
   "outputs": [
    {
     "data": {
      "text/plain": [
       "array([[  2.,   0.,   0.,   0.,   0.,   0.],\n",
       "       [  0.,   0.,   0.,   0.,   0.,   0.],\n",
       "       [  0.,   0.,   0.,   0.,   0.,   0.],\n",
       "       [  0.,   0.,   0.,   0.,   0., 100.],\n",
       "       [  0.,   0.,   0.,   0.,   0.,   0.],\n",
       "       [  0.,  23.,  23.,  23.,   0.,   0.]])"
      ]
     },
     "execution_count": 40,
     "metadata": {},
     "output_type": "execute_result"
    }
   ],
   "source": [
    "# Maybe instead, manipulate columns 1, 2 and 3 of the last row. \n",
    "# Remember, the last row is row 5\n",
    "# Could do x[5, 1:4] = 23\n",
    "x[-1, 1:4] = 23\n",
    "x"
   ]
  },
  {
   "cell_type": "code",
   "execution_count": 41,
   "metadata": {},
   "outputs": [
    {
     "data": {
      "text/plain": [
       "array([[  2.,   0.,   0.,   0.,   0.,   0.],\n",
       "       [  0., -10., -10., -10., -10., -10.],\n",
       "       [  0.,   0.,   0.,   0.,   0.,   0.],\n",
       "       [  0.,   0.,   0.,   0.,   0., 100.],\n",
       "       [  0.,   0.,   0.,   0.,   0.,   0.],\n",
       "       [  0.,  23.,  23.,  23.,   0.,   0.]])"
      ]
     },
     "execution_count": 41,
     "metadata": {},
     "output_type": "execute_result"
    }
   ],
   "source": [
    "# One more. Change the values from the last to the second column in row 2\n",
    "# Giving them a value of -10\n",
    "x[1, -5:] = -10\n",
    "x"
   ]
  },
  {
   "cell_type": "code",
   "execution_count": 42,
   "metadata": {},
   "outputs": [
    {
     "data": {
      "text/plain": [
       "100.0"
      ]
     },
     "execution_count": 42,
     "metadata": {},
     "output_type": "execute_result"
    }
   ],
   "source": [
    "# Get the max value of all the items in the matrix\n",
    "np.max(x)"
   ]
  },
  {
   "cell_type": "code",
   "execution_count": 43,
   "metadata": {},
   "outputs": [
    {
     "data": {
      "text/plain": [
       "array([  2.,  23.,  23.,  23.,   0., 100.])"
      ]
     },
     "execution_count": 43,
     "metadata": {},
     "output_type": "execute_result"
    }
   ],
   "source": [
    "# Get the max value in the matrix going down the columns \n",
    "# Going across axis=0\n",
    "np.max(x, axis=0)"
   ]
  },
  {
   "cell_type": "code",
   "execution_count": 44,
   "metadata": {},
   "outputs": [
    {
     "data": {
      "text/plain": [
       "array([  2.,   0.,   0., 100.,   0.,  23.])"
      ]
     },
     "execution_count": 44,
     "metadata": {},
     "output_type": "execute_result"
    }
   ],
   "source": [
    "# Get the max value in the matrix across each row\n",
    "np.max(x, axis=1)"
   ]
  },
  {
   "cell_type": "code",
   "execution_count": 45,
   "metadata": {},
   "outputs": [
    {
     "data": {
      "text/plain": [
       "array([[10,  9,  8,  7,  5]])"
      ]
     },
     "execution_count": 45,
     "metadata": {},
     "output_type": "execute_result"
    }
   ],
   "source": [
    "# Create a 2D array of integers to be transposed\n",
    "x = np.array([10, 9, 8, 7, 5], ndmin=2, dtype=int)\n",
    "x"
   ]
  },
  {
   "cell_type": "code",
   "execution_count": 46,
   "metadata": {},
   "outputs": [
    {
     "data": {
      "text/plain": [
       "array([[10],\n",
       "       [ 9],\n",
       "       [ 8],\n",
       "       [ 7],\n",
       "       [ 5]])"
      ]
     },
     "execution_count": 46,
     "metadata": {},
     "output_type": "execute_result"
    }
   ],
   "source": [
    "# Use the full transpose function to change from a row vector to a column vector\n",
    "x.transpose()"
   ]
  },
  {
   "cell_type": "code",
   "execution_count": 47,
   "metadata": {},
   "outputs": [
    {
     "data": {
      "text/plain": [
       "array([[10],\n",
       "       [ 9],\n",
       "       [ 8],\n",
       "       [ 7],\n",
       "       [ 5]])"
      ]
     },
     "execution_count": 47,
     "metadata": {},
     "output_type": "execute_result"
    }
   ],
   "source": [
    "# Maybe you like the shorter way to transpose\n",
    "# simply use .T on the array\n",
    "x.T"
   ]
  },
  {
   "cell_type": "code",
   "execution_count": 48,
   "metadata": {},
   "outputs": [
    {
     "data": {
      "text/plain": [
       "array([[1., 0., 0., 0.],\n",
       "       [0., 1., 0., 0.],\n",
       "       [0., 0., 1., 0.],\n",
       "       [0., 0., 0., 1.]])"
      ]
     },
     "execution_count": 48,
     "metadata": {},
     "output_type": "execute_result"
    }
   ],
   "source": [
    "# Create a 4 * 4 eye matrix\n",
    "# Notice all the ones on the diagonal\n",
    "# This is helpful also when you think about one-hot encoding\n",
    "# In one hot encoding, only one item is \"hot\", i.e. turned on\n",
    "x = np.eye(N=4, M=4)\n",
    "x"
   ]
  },
  {
   "cell_type": "code",
   "execution_count": 49,
   "metadata": {},
   "outputs": [
    {
     "data": {
      "text/plain": [
       "array([[6, 4, 3],\n",
       "       [9, 8, 0]])"
      ]
     },
     "execution_count": 49,
     "metadata": {},
     "output_type": "execute_result"
    }
   ],
   "source": [
    "# Preparing to do some math\n",
    "# Define a matrix with axes 0 and 1\n",
    "x = np.array([[6,4,3], [9, 8, 0]])\n",
    "x"
   ]
  },
  {
   "cell_type": "code",
   "execution_count": 51,
   "metadata": {},
   "outputs": [
    {
     "data": {
      "text/plain": [
       "30"
      ]
     },
     "execution_count": 51,
     "metadata": {},
     "output_type": "execute_result"
    }
   ],
   "source": [
    "# Get the sum of x\n",
    "x_sum = np.sum(x)\n",
    "x_sum"
   ]
  },
  {
   "cell_type": "code",
   "execution_count": 52,
   "metadata": {},
   "outputs": [
    {
     "data": {
      "text/plain": [
       "array([13, 17])"
      ]
     },
     "execution_count": 52,
     "metadata": {},
     "output_type": "execute_result"
    }
   ],
   "source": [
    "# Rather than get the sum of the entire matrix, \n",
    "# Get the sum of the rows, i.e axis=1\n",
    "x_sum = np.sum(x, axis=1)\n",
    "x_sum"
   ]
  },
  {
   "cell_type": "code",
   "execution_count": 53,
   "metadata": {},
   "outputs": [
    {
     "data": {
      "text/plain": [
       "array([15, 12,  3])"
      ]
     },
     "execution_count": 53,
     "metadata": {},
     "output_type": "execute_result"
    }
   ],
   "source": [
    "# Similarly get the sum of the columns, i.e axis=0\n",
    "x_sum = np.sum(x, axis=0)\n",
    "x_sum"
   ]
  },
  {
   "cell_type": "code",
   "execution_count": 54,
   "metadata": {},
   "outputs": [
    {
     "data": {
      "text/plain": [
       "array([4.33333333, 5.66666667])"
      ]
     },
     "execution_count": 54,
     "metadata": {},
     "output_type": "execute_result"
    }
   ],
   "source": [
    "# Get the average, going across the rows, axis=1\n",
    "x_avg = np.average(x, axis=1)\n",
    "x_avg"
   ]
  },
  {
   "cell_type": "code",
   "execution_count": 55,
   "metadata": {},
   "outputs": [
    {
     "data": {
      "text/plain": [
       "array([7.5, 6. , 1.5])"
      ]
     },
     "execution_count": 55,
     "metadata": {},
     "output_type": "execute_result"
    }
   ],
   "source": [
    "# Get the average going down the columns, axis=0\n",
    "x_avg = np.average(x, axis=0)\n",
    "x_avg"
   ]
  },
  {
   "cell_type": "code",
   "execution_count": 57,
   "metadata": {},
   "outputs": [
    {
     "data": {
      "text/plain": [
       "array([9, 8, 3])"
      ]
     },
     "execution_count": 57,
     "metadata": {},
     "output_type": "execute_result"
    }
   ],
   "source": [
    "# Get the max of each column in x\n",
    "np.max(a=x, axis=0)"
   ]
  },
  {
   "cell_type": "code",
   "execution_count": 58,
   "metadata": {},
   "outputs": [
    {
     "data": {
      "text/plain": [
       "array([6, 9])"
      ]
     },
     "execution_count": 58,
     "metadata": {},
     "output_type": "execute_result"
    }
   ],
   "source": [
    "# Get the max of each row in x\n",
    "np.max(a=x, axis=1)"
   ]
  },
  {
   "cell_type": "code",
   "execution_count": 59,
   "metadata": {},
   "outputs": [
    {
     "data": {
      "text/plain": [
       "16"
      ]
     },
     "execution_count": 59,
     "metadata": {},
     "output_type": "execute_result"
    }
   ],
   "source": [
    "# Generate a random number between 10 and 20\n",
    "np.random.randint(low=10, high=20)"
   ]
  },
  {
   "cell_type": "code",
   "execution_count": 60,
   "metadata": {},
   "outputs": [
    {
     "name": "stdout",
     "output_type": "stream",
     "text": [
      "Run: 0 number: 19\n",
      "Run: 1 number: 19\n",
      "Run: 2 number: 19\n",
      "Run: 3 number: 19\n",
      "Run: 4 number: 19\n"
     ]
    }
   ],
   "source": [
    "# You may have instances you wish to generate the same random number\n",
    "# Maybe for demonstration purposes. Like in this notebook :-) \n",
    "# In this case, first set the random seed\n",
    "# Generate the number. Because the random seed is set, we get the same number every time\n",
    "\n",
    "for idx, num in enumerate(range(5)): \n",
    "    np.random.seed(11)\n",
    "    print(f'Run: {idx} number: {np.random.randint(low=10, high=20)}')"
   ]
  },
  {
   "cell_type": "code",
   "execution_count": 61,
   "metadata": {},
   "outputs": [
    {
     "data": {
      "text/plain": [
       "(1, array([ 2, 10,  5,  2,  3]))"
      ]
     },
     "execution_count": 61,
     "metadata": {},
     "output_type": "execute_result"
    }
   ],
   "source": [
    "# In looking for max values, you might instead want the index of that value\n",
    "# This is helpful when using activation functions such as softmax, \n",
    "# when building a neural output layers networks\n",
    "# Softmax activation function is used when predicting in multiclass problems\n",
    "# This output shows 1. Looking at x, we see that index position 1 has 10.\n",
    "# 10 is the largest value in the list\n",
    "x = np.array([2, 10,5,2,3])\n",
    "np.argmax(x), x"
   ]
  },
  {
   "cell_type": "code",
   "execution_count": 62,
   "metadata": {},
   "outputs": [
    {
     "data": {
      "text/plain": [
       "(array([[2, 3, 4]]),\n",
       " array([[5],\n",
       "        [4],\n",
       "        [3]]))"
      ]
     },
     "execution_count": 62,
     "metadata": {},
     "output_type": "execute_result"
    }
   ],
   "source": [
    "# Multiply two matrix\n",
    "# First create the matrices \n",
    "x = np.array([[2,3,4]])\n",
    "y = np.array([[5],[4],[3]])\n",
    "x, y"
   ]
  },
  {
   "cell_type": "code",
   "execution_count": 63,
   "metadata": {},
   "outputs": [
    {
     "data": {
      "text/plain": [
       "((1, 3), (3, 1))"
      ]
     },
     "execution_count": 63,
     "metadata": {},
     "output_type": "execute_result"
    }
   ],
   "source": [
    "# In the next cell, we get the dot product of two matrix\n",
    "# To get the dot product of two matrices, we need to ensure the inner dimensions match\n",
    "# Below shows the inner dimension has 3,3\n",
    "# Looking at the outer dimension, we can see we will get a 1x1 output\n",
    "x.shape, y.shape"
   ]
  },
  {
   "cell_type": "code",
   "execution_count": 64,
   "metadata": {},
   "outputs": [
    {
     "data": {
      "text/plain": [
       "array([[34]])"
      ]
     },
     "execution_count": 64,
     "metadata": {},
     "output_type": "execute_result"
    }
   ],
   "source": [
    "# Get the dot product of the two vectors\n",
    "# As mentioned above, the output here is a single value\n",
    "np.dot(x, y)"
   ]
  },
  {
   "cell_type": "code",
   "execution_count": 65,
   "metadata": {},
   "outputs": [
    {
     "data": {
      "text/plain": [
       "array([[10, 15, 20],\n",
       "       [ 8, 12, 16],\n",
       "       [ 6,  9, 12]])"
      ]
     },
     "execution_count": 65,
     "metadata": {},
     "output_type": "execute_result"
    }
   ],
   "source": [
    "# Alternatively, perform a pairwise or Hadamar product\n",
    "np.multiply(x, y)"
   ]
  },
  {
   "cell_type": "code",
   "execution_count": 66,
   "metadata": {},
   "outputs": [
    {
     "data": {
      "text/plain": [
       "array([[2, 3, 4]])"
      ]
     },
     "execution_count": 66,
     "metadata": {},
     "output_type": "execute_result"
    }
   ],
   "source": [
    "# Before getting the cumulative sum of x, revisit x\n",
    "x"
   ]
  },
  {
   "cell_type": "code",
   "execution_count": 67,
   "metadata": {},
   "outputs": [
    {
     "data": {
      "text/plain": [
       "array([2, 5, 9])"
      ]
     },
     "execution_count": 67,
     "metadata": {},
     "output_type": "execute_result"
    }
   ],
   "source": [
    "# Get the cumulative sum\n",
    "# Notice how the first value in x remains the same, then the first and second are added\n",
    "# Then the second and third are added\n",
    "np.cumsum(x)"
   ]
  },
  {
   "cell_type": "code",
   "execution_count": 68,
   "metadata": {},
   "outputs": [
    {
     "data": {
      "text/plain": [
       "array([[[[2, 3, 4, 5, 6]]]])"
      ]
     },
     "execution_count": 68,
     "metadata": {},
     "output_type": "execute_result"
    }
   ],
   "source": [
    "# Create x with 4 dimensions\n",
    "# When working with convolution networks, we will need to get this data in 4 dimensions\n",
    "#   19 - Beginning Deep Learning, - Convolution Networks - Tensorflow\n",
    "#   20 - Beginning Deep Learning, - Convolution Networks, PyTorch\n",
    "\n",
    "x = np.array([2,3,4,5,6], ndmin=4)\n",
    "x"
   ]
  },
  {
   "cell_type": "code",
   "execution_count": 69,
   "metadata": {},
   "outputs": [
    {
     "data": {
      "text/plain": [
       "array([2, 3, 4, 5, 6])"
      ]
     },
     "execution_count": 69,
     "metadata": {},
     "output_type": "execute_result"
    }
   ],
   "source": [
    "# Flatten x to a vector\n",
    "# This is needed especially when building architectures that have, for example\n",
    "# convolution layer that then needs to transition to a dense layer\n",
    "# You will have to flatten the convolution layer before passing it to the dense layer\n",
    "#   19 - Beginning Deep Learning, - Convolution Networks - Tensorflow\n",
    "#   20 - Beginning Deep Learning, - Convolution Networks, PyTorch\n",
    "\n",
    "x.flatten()"
   ]
  },
  {
   "cell_type": "code",
   "execution_count": 70,
   "metadata": {},
   "outputs": [
    {
     "data": {
      "text/plain": [
       "(array([[[[2, 3, 4, 5, 6]]]]), array([2, 3, 4, 5, 6]))"
      ]
     },
     "execution_count": 70,
     "metadata": {},
     "output_type": "execute_result"
    }
   ],
   "source": [
    "# Alternatively, we could have used np.ravel() to get a 1D array\n",
    "x, np.ravel(x)"
   ]
  },
  {
   "cell_type": "code",
   "execution_count": 78,
   "metadata": {},
   "outputs": [
    {
     "data": {
      "text/plain": [
       "array([[3, 4, 5],\n",
       "       [6, 7, 8]])"
      ]
     },
     "execution_count": 78,
     "metadata": {},
     "output_type": "execute_result"
    }
   ],
   "source": [
    "# Create matrix of shape 3x2\n",
    "x = np.array([[3,4,5], [6,7,8]])\n",
    "x"
   ]
  },
  {
   "cell_type": "code",
   "execution_count": 80,
   "metadata": {},
   "outputs": [
    {
     "data": {
      "text/plain": [
       "array([[3, 4, 5]])"
      ]
     },
     "execution_count": 80,
     "metadata": {},
     "output_type": "execute_result"
    }
   ],
   "source": [
    "# Delete the the second row from the matrix above\n",
    "# Remember, indexing starts at 0\n",
    "# Note the 0 at the end, I left out axis=0 and only used 0\n",
    "np.delete(x, 1, 0)"
   ]
  },
  {
   "cell_type": "code",
   "execution_count": 81,
   "metadata": {},
   "outputs": [
    {
     "data": {
      "text/plain": [
       "array([[3, 4, 5],\n",
       "       [6, 7, 8]])"
      ]
     },
     "execution_count": 81,
     "metadata": {},
     "output_type": "execute_result"
    }
   ],
   "source": [
    "# Note with that operation above, the original x was not modified\n",
    "x"
   ]
  },
  {
   "cell_type": "code",
   "execution_count": 82,
   "metadata": {},
   "outputs": [
    {
     "data": {
      "text/plain": [
       "array([[3, 5],\n",
       "       [6, 8]])"
      ]
     },
     "execution_count": 82,
     "metadata": {},
     "output_type": "execute_result"
    }
   ],
   "source": [
    "# Delete the middle column\n",
    "# Notice this time I use axis, specifying axis=1\n",
    "np.delete(arr=x, obj=1, axis=1)"
   ]
  },
  {
   "cell_type": "code",
   "execution_count": 83,
   "metadata": {},
   "outputs": [
    {
     "data": {
      "text/plain": [
       "array([[40, 10, 18],\n",
       "       [ 8,  5, 18]])"
      ]
     },
     "execution_count": 83,
     "metadata": {},
     "output_type": "execute_result"
    }
   ],
   "source": [
    "# One more before moving on, broadcasting\n",
    "# Taking a 2x3 matrix and multiple by a 1*3 vector\n",
    "# https://numpy.org/doc/stable/user/basics.broadcasting.html\n",
    "np.multiply(np.array([[10,2,3], [2,1,3]]), np.array([4,5,6]))"
   ]
  },
  {
   "cell_type": "code",
   "execution_count": 84,
   "metadata": {},
   "outputs": [
    {
     "data": {
      "text/plain": [
       "array([[40, 10, 18],\n",
       "       [ 8,  5, 18]])"
      ]
     },
     "execution_count": 84,
     "metadata": {},
     "output_type": "execute_result"
    }
   ],
   "source": [
    "# The above is the same as multiplying \n",
    "# [[10,2,3],   * [[4,5,6]\n",
    "# [2,1,3]]        [4,5,6]]\n",
    "np.multiply(np.array([[10,2,3], [2,1,3]]), np.array([[4,5,6], [4,5,6]]))"
   ]
  },
  {
   "cell_type": "code",
   "execution_count": 85,
   "metadata": {},
   "outputs": [
    {
     "data": {
      "text/plain": [
       "array([['id.orig_h', 'id.orig_p', 'id.resp_h', ..., 'orig_ip_bytes',\n",
       "        'resp_pkts', 'resp_ip_bytes'],\n",
       "       ['127.0.0.1', '27762', '127.0.0.1', ..., '0', '0', '0'],\n",
       "       ['192.168.0.4', '27761', '192.168.0.4', ..., '0', '0', '0'],\n",
       "       ...,\n",
       "       ['192.168.0.4', '37244', '192.168.0.4', ..., '0', '1', '40'],\n",
       "       ['192.168.0.4', '37246', '192.168.0.4', ..., '0', '1', '40'],\n",
       "       ['192.168.0.4', '37254', '192.168.0.4', ..., '0', '1', '40']],\n",
       "      dtype='<U38')"
      ]
     },
     "execution_count": 85,
     "metadata": {},
     "output_type": "execute_result"
    }
   ],
   "source": [
    "# While I typically will use Pandas to read in data,\n",
    "# You also have the opportunity to do so with numpy\n",
    "# Maybe you want to read in content from a .csv file. \n",
    "# Here is a simple way of doing that.\n",
    "# Note, because the data in the Zeek conn log is mixed of integers and strings, I specified U here for unicode.\n",
    "# We will fix this shortly.\n",
    "\n",
    "conn_data = np.loadtxt(fname=r'conn.log', dtype='U', encoding=None, delimiter=None, skiprows=0)\n",
    "conn_data"
   ]
  },
  {
   "attachments": {},
   "cell_type": "markdown",
   "metadata": {},
   "source": [
    "Read in tabular data from the Zeek conn.log file\n",
    "Zeek is a framework used for Network Security Monitoring. \n",
    "This entire series is based on using Zeek's data. \n",
    "The majority of the notebooks use the conn.log\n",
    "You can learn more about Zeek here:\n",
    "    https://zeek.org/\n",
    "\n",
    "Alternatively, come hang out with us in the:\n",
    "SANS SEC595: Applied Data Science and Machine Learning for Cybersecurity Professionals\n",
    "https://www.sans.org/cyber-security-courses/applied-data-science-machine-learning/\n",
    "OR\n",
    "SEC503 SEC503: Network Monitoring and Threat Detection In-Depth\n",
    "https://www.sans.org/cyber-security-courses/network-monitoring-threat-detection/\n",
    "\n",
    "if you wish to learn more about using Zeek for your security needs"
   ]
  },
  {
   "cell_type": "code",
   "execution_count": 86,
   "metadata": {},
   "outputs": [
    {
     "data": {
      "text/plain": [
       "array([['127.0.0.1', '27762', '127.0.0.1', ..., '0', '0', '0'],\n",
       "       ['192.168.0.4', '27761', '192.168.0.4', ..., '0', '0', '0'],\n",
       "       ['192.168.0.4', '27761', '192.168.0.4', ..., '0', '0', '0'],\n",
       "       ...,\n",
       "       ['192.168.0.4', '37244', '192.168.0.4', ..., '0', '1', '40'],\n",
       "       ['192.168.0.4', '37246', '192.168.0.4', ..., '0', '1', '40'],\n",
       "       ['192.168.0.4', '37254', '192.168.0.4', ..., '0', '1', '40']],\n",
       "      dtype='<U38')"
      ]
     },
     "execution_count": 86,
     "metadata": {},
     "output_type": "execute_result"
    }
   ],
   "source": [
    "# Notice above, the first row has what looks like column headers.\n",
    "# Let's remove those headers by skipping the first row. \n",
    "# Counting starts at 1\n",
    "# Notice also everything is in quotes, hence we know it is all strings.\n",
    "conn_data = np.loadtxt(fname=r'conn.log', dtype='U', encoding=None, delimiter=None, skiprows=1)\n",
    "conn_data"
   ]
  },
  {
   "cell_type": "code",
   "execution_count": 87,
   "metadata": {},
   "outputs": [
    {
     "data": {
      "text/plain": [
       "(4430188, 12)"
      ]
     },
     "execution_count": 87,
     "metadata": {},
     "output_type": "execute_result"
    }
   ],
   "source": [
    "# Get the shape of the dataset\n",
    "# We always want to know the shape of our dataset\n",
    "# As we prepare to feed it into our machine or deep learning models\n",
    "# Below states we have 4430188 samples and 12 columns/features\n",
    "conn_data.shape"
   ]
  },
  {
   "cell_type": "code",
   "execution_count": 88,
   "metadata": {},
   "outputs": [
    {
     "data": {
      "text/plain": [
       "array([[       nan,        nan,        nan, ...,        nan,        nan,\n",
       "               nan],\n",
       "       [       nan, 2.7762e+04,        nan, ..., 0.0000e+00, 0.0000e+00,\n",
       "        0.0000e+00],\n",
       "       [       nan, 2.7761e+04,        nan, ..., 0.0000e+00, 0.0000e+00,\n",
       "        0.0000e+00],\n",
       "       ...,\n",
       "       [       nan, 3.7244e+04,        nan, ..., 0.0000e+00, 1.0000e+00,\n",
       "        4.0000e+01],\n",
       "       [       nan, 3.7246e+04,        nan, ..., 0.0000e+00, 1.0000e+00,\n",
       "        4.0000e+01],\n",
       "       [       nan, 3.7254e+04,        nan, ..., 0.0000e+00, 1.0000e+00,\n",
       "        4.0000e+01]])"
      ]
     },
     "execution_count": 88,
     "metadata": {},
     "output_type": "execute_result"
    }
   ],
   "source": [
    "# The reason everything above is string, is because the data contains \"-\" where an integer value should be\n",
    "# maybe there is an easier way to read in these \"-\" as ints or floats\n",
    "# At this point, you might be thinking I am better off using Pandas\n",
    "# Which would not be a bad idea. However, this notebook is about using Numpy\n",
    "#   04 - Beginning Pandas\n",
    "# Let's stick with Numpy\n",
    "\n",
    "# Giving it another try\n",
    "np.genfromtxt(fname=r'conn.log', encoding=None, delimiter=None, skip_header=0)"
   ]
  },
  {
   "cell_type": "code",
   "execution_count": 89,
   "metadata": {},
   "outputs": [
    {
     "data": {
      "text/plain": [
       "array([(0., 27762., 0., 58552., 0., 0.e+00, 0., 0., 0., 0., 0.,  0.),\n",
       "       (0., 27761., 0., 48798., 0., 0.e+00, 0., 0., 0., 0., 0.,  0.),\n",
       "       (0., 27761., 0., 48804., 0., 0.e+00, 0., 0., 0., 0., 0.,  0.), ...,\n",
       "       (0., 37244., 0.,  9200., 0., 5.e-06, 0., 0., 0., 0., 1., 40.),\n",
       "       (0., 37246., 0.,  9200., 0., 5.e-06, 0., 0., 0., 0., 1., 40.),\n",
       "       (0., 37254., 0.,  9200., 0., 5.e-06, 0., 0., 0., 0., 1., 40.)],\n",
       "      dtype=[('idorig_h', '<f8'), ('idorig_p', '<f8'), ('idresp_h', '<f8'), ('idresp_p', '<f8'), ('service', '<f8'), ('duration', '<f8'), ('orig_bytes', '<f8'), ('resp_bytes', '<f8'), ('orig_pkts', '<f8'), ('orig_ip_bytes', '<f8'), ('resp_pkts', '<f8'), ('resp_ip_bytes', '<f8')])"
      ]
     },
     "execution_count": 89,
     "metadata": {},
     "output_type": "execute_result"
    }
   ],
   "source": [
    "# Above we see \"nan\", not a number\n",
    "# Let's replace those with 0s, by specifying the missing_values '-' and filling them in with 0\n",
    "# Let's also add the column names. \n",
    "# The column names will be added from first row\n",
    "# Note the skip_header=0\n",
    "conn_data = np.genfromtxt(fname=r'conn.log', encoding=None, delimiter=None, \\\n",
    "                          skip_header=0, missing_values='-', filling_values=0., names=True)\n",
    "conn_data"
   ]
  },
  {
   "cell_type": "code",
   "execution_count": 90,
   "metadata": {},
   "outputs": [
    {
     "data": {
      "text/plain": [
       "array([(0.,     0., 0.,     0., 0., 0.e+00, 0., 0., 0., 0., 0.,  0.),\n",
       "       (0., 27762., 0., 58552., 0., 0.e+00, 0., 0., 0., 0., 0.,  0.),\n",
       "       (0., 27761., 0., 48798., 0., 0.e+00, 0., 0., 0., 0., 0.,  0.), ...,\n",
       "       (0., 37244., 0.,  9200., 0., 5.e-06, 0., 0., 0., 0., 1., 40.),\n",
       "       (0., 37246., 0.,  9200., 0., 5.e-06, 0., 0., 0., 0., 1., 40.),\n",
       "       (0., 37254., 0.,  9200., 0., 5.e-06, 0., 0., 0., 0., 1., 40.)],\n",
       "      dtype=[('idorig_h', '<f8'), ('idorig_p', '<f8'), ('idresp_h', '<f8'), ('idresp_p', '<f8'), ('service', '<f8'), ('duration', '<f8'), ('orig_bytes', '<f8'), ('resp_bytes', '<f8'), ('orig_pkts', '<f8'), ('orig_ip_bytes', '<f8'), ('resp_pkts', '<f8'), ('resp_ip_bytes', '<f8')])"
      ]
     },
     "execution_count": 90,
     "metadata": {},
     "output_type": "execute_result"
    }
   ],
   "source": [
    "# Alternatively, add the names of the columns dirctly\n",
    "conn_data = np.genfromtxt(fname=r'conn.log', encoding=None, delimiter=None, \\\n",
    "                          skip_header=0, missing_values='-', filling_values=0., \\\n",
    "                            names=['id.orig_h',  'id.orig_p',  'id.resp_h',  'id.resp_p'\\\n",
    "                                   ,  'service', 'duration', 'orig_bytes', 'resp_bytes'\\\n",
    "                                    , 'orig_pkts', 'orig_ip_bytes', 'resp_pkts', 'resp_ip_bytes'])\n",
    "conn_data"
   ]
  },
  {
   "cell_type": "code",
   "execution_count": 91,
   "metadata": {},
   "outputs": [],
   "source": [
    "# Above is much better\n",
    "# Also notice that Numpy inferred the data types\n",
    "# Good stuff! If we pay close attention above, we see values such as \"0.e+00\".\n",
    "# Let's remove this scientific notation and instead have more human readable values\n",
    "np.set_printoptions(suppress=True, precision=5)"
   ]
  },
  {
   "cell_type": "code",
   "execution_count": 92,
   "metadata": {},
   "outputs": [
    {
     "data": {
      "text/plain": [
       "array([(0.,     0., 0.,     0., 0., 0., 0., 0., 0., 0., 0., 0.),\n",
       "       (0., 27762., 0., 58552., 0., 0., 0., 0., 0., 0., 0., 0.),\n",
       "       (0., 27761., 0., 48798., 0., 0., 0., 0., 0., 0., 0., 0.),\n",
       "       (0., 27761., 0., 48804., 0., 0., 0., 0., 0., 0., 0., 0.),\n",
       "       (0., 27762., 0., 58568., 0., 0., 0., 0., 0., 0., 0., 0.)],\n",
       "      dtype=[('idorig_h', '<f8'), ('idorig_p', '<f8'), ('idresp_h', '<f8'), ('idresp_p', '<f8'), ('service', '<f8'), ('duration', '<f8'), ('orig_bytes', '<f8'), ('resp_bytes', '<f8'), ('orig_pkts', '<f8'), ('orig_ip_bytes', '<f8'), ('resp_pkts', '<f8'), ('resp_ip_bytes', '<f8')])"
      ]
     },
     "execution_count": 92,
     "metadata": {},
     "output_type": "execute_result"
    }
   ],
   "source": [
    "# Show the connection data again\n",
    "# This time, take a snapshot of 5 records\n",
    "conn_data[:5]"
   ]
  },
  {
   "cell_type": "code",
   "execution_count": 94,
   "metadata": {},
   "outputs": [
    {
     "name": "stdout",
     "output_type": "stream",
     "text": [
      "connection_data.npy\n"
     ]
    }
   ],
   "source": [
    "# Next up, you may wish to save your matrix\n",
    "np.save(file='connection_data', arr=conn_data, allow_pickle=True)\n",
    "\n",
    "# View the saved file\n",
    "!dir connection_* /b"
   ]
  },
  {
   "cell_type": "code",
   "execution_count": 97,
   "metadata": {},
   "outputs": [
    {
     "data": {
      "text/plain": [
       "memmap([(0.,     0., 0.,     0., 0., 0.     , 0., 0., 0., 0., 0.,  0.),\n",
       "        (0., 27762., 0., 58552., 0., 0.     , 0., 0., 0., 0., 0.,  0.),\n",
       "        (0., 27761., 0., 48798., 0., 0.     , 0., 0., 0., 0., 0.,  0.),\n",
       "        ...,\n",
       "        (0., 37244., 0.,  9200., 0., 0.00001, 0., 0., 0., 0., 1., 40.),\n",
       "        (0., 37246., 0.,  9200., 0., 0.00001, 0., 0., 0., 0., 1., 40.),\n",
       "        (0., 37254., 0.,  9200., 0., 0.00001, 0., 0., 0., 0., 1., 40.)],\n",
       "       dtype=[('idorig_h', '<f8'), ('idorig_p', '<f8'), ('idresp_h', '<f8'), ('idresp_p', '<f8'), ('service', '<f8'), ('duration', '<f8'), ('orig_bytes', '<f8'), ('resp_bytes', '<f8'), ('orig_pkts', '<f8'), ('orig_ip_bytes', '<f8'), ('resp_pkts', '<f8'), ('resp_ip_bytes', '<f8')])"
      ]
     },
     "execution_count": 97,
     "metadata": {},
     "output_type": "execute_result"
    }
   ],
   "source": [
    "# Since you savedit, you may need to reload it\n",
    "loaded_arr = np.load(file=r'connection_data.npy',mmap_mode='r+')\n",
    "loaded_arr"
   ]
  },
  {
   "cell_type": "code",
   "execution_count": null,
   "metadata": {},
   "outputs": [],
   "source": [
    "# Thats it for beginning numpy!"
   ]
  },
  {
   "attachments": {},
   "cell_type": "markdown",
   "metadata": {},
   "source": [
    "References: <br>\n",
    "https://numpy.org/doc/stable/reference/"
   ]
  }
 ],
 "metadata": {
  "kernelspec": {
   "display_name": "Python 3.9.13 ('main-env')",
   "language": "python",
   "name": "python3"
  },
  "language_info": {
   "codemirror_mode": {
    "name": "ipython",
    "version": 3
   },
   "file_extension": ".py",
   "mimetype": "text/x-python",
   "name": "python",
   "nbconvert_exporter": "python",
   "pygments_lexer": "ipython3",
   "version": "3.10.11"
  },
  "orig_nbformat": 4,
  "vscode": {
   "interpreter": {
    "hash": "dcb100998b7ef434a33dbfac35f576e40d01f04c34d9ff6f6aad819b8a88c169"
   }
  }
 },
 "nbformat": 4,
 "nbformat_minor": 2
}
