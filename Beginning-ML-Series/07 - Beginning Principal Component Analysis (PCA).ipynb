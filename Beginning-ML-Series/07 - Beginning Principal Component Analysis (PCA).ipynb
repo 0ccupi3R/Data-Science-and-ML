{
 "cells": [
  {
   "attachments": {},
   "cell_type": "markdown",
   "metadata": {},
   "source": [
    "Author: Nik Alleyne <br>\n",
    "Author Blog: https://www.securitynik.com <br>\n",
    "Author GitHub:github.com/securitynik <br>\n",
    "Author Books: [  <br>\n",
    "                \"https://www.amazon.ca/Learning-Practicing-Leveraging-Practical-Detection/dp/1731254458/\",  <br>\n",
    "                \"https://www.amazon.ca/Learning-Practicing-Mastering-Network-Forensics/dp/1775383024/\" <br>\n",
    "            ] <br>"
   ]
  },
  {
   "attachments": {},
   "cell_type": "markdown",
   "metadata": {},
   "source": [
    "## 07 - Beginning Principal Component Analysis (PCA)"
   ]
  },
  {
   "attachments": {},
   "cell_type": "markdown",
   "metadata": {},
   "source": [
    "This post is part of my beginning machine learning series.  <br>\n",
    "The series includes the following: <br>\n",
    "\n",
    "01 - Beginning Numpy <br>\n",
    "02 - Beginning Tensorflow  <br>\n",
    "03 - Beginning PyTorch <br>\n",
    "04 - Beginning Pandas <br>\n",
    "05 - Beginning Matplotlib <br>\n",
    "06 - Beginning Data Scaling <br>\n",
    "07 - Beginning Principal Component Analysis (PCA) <br>\n",
    "08 - Beginning Machine Learning Anomaly Detection - Isolation Forest and Local Outlier Factor <br>\n",
    "09 - Beginning Unsupervised Machine Learning - Clustering - KMeans and DBSCAN <br>\n",
    "10 - Beginning Supervise Learning - Machine Learning - Logistic Regression, Decision Trees and Metrics <br>\n",
    "11 - Beginning Linear Regression - Machine Learning <br>\n",
    "12 - Beginning Deep Learning - Anomaly Detection with AutoEncoders, Tensorflow <br>\n",
    "13 - Beginning Deep Learning - Anomaly Detection with AutoEncoders, PyTroch <br>\n",
    "14 - Beginning Deep Learning, - Linear Regression, Tensorflow <br>\n",
    "15 - Beginning Deep Learning, - Linear Regression, PyTorch <br>\n",
    "16 - Beginning Deep Learning, - Classification, Tensorflow <br>\n",
    "17 - Beginning Deep Learning, - Classification, Pytorch <br>\n",
    "18 - Beginning Deep Learning, - Classification - regression - MIMO - Functional API Tensorflow <br> \n",
    "19 - Beginning Deep Learning, - Convolution Networks - Tensorflow <br>\n",
    "20 - Beginning Deep Learning, - Convolution Networks, PyTorch <br>\n",
    "21 - Beginning Regularization - Early Stopping, Dropout, L2 (Ridge), L1 (Lasso) <br>\n",
    "23 - Beginning Model TFServing <br>\n",
    "\n",
    "But conn.log is not the only file within Zeek. Let's build some models for DNS and HTTP logs. <br>\n",
    "I choose unsupervised, because there are no labels coming with these data. <br>\n",
    "\n",
    "24 - Continuing Anomaly Learning - Zeek DNS Log - Machine Learning <br>\n",
    "25 - Continuing Unsupervised Learning - Zeek HTTP Log - Machine Learning <br>\n",
    "\n",
    "This was a specific ask by someone in one of my class. <br>\n",
    "26 - Beginning - Reading Executables and Building a Neural Network to make predictions on suspicious vs suspicious  <br><br>\n",
    "\n",
    "With 26 notebooks in this series, it is quite possible there are things I could have or should have done differently.  <br>\n",
    "If you find any thing, you think fits those criteria, drop me a line. <br>\n"
   ]
  },
  {
   "cell_type": "code",
   "execution_count": null,
   "metadata": {},
   "outputs": [],
   "source": []
  },
  {
   "cell_type": "code",
   "execution_count": 1,
   "metadata": {},
   "outputs": [],
   "source": [
    "# import some libraries\n",
    "import pandas as pd\n",
    "import numpy as np\n",
    "import matplotlib.pylab as plt"
   ]
  },
  {
   "cell_type": "code",
   "execution_count": 3,
   "metadata": {},
   "outputs": [
    {
     "data": {
      "text/html": [
       "<div>\n",
       "<style scoped>\n",
       "    .dataframe tbody tr th:only-of-type {\n",
       "        vertical-align: middle;\n",
       "    }\n",
       "\n",
       "    .dataframe tbody tr th {\n",
       "        vertical-align: top;\n",
       "    }\n",
       "\n",
       "    .dataframe thead th {\n",
       "        text-align: right;\n",
       "    }\n",
       "</style>\n",
       "<table border=\"1\" class=\"dataframe\">\n",
       "  <thead>\n",
       "    <tr style=\"text-align: right;\">\n",
       "      <th></th>\n",
       "      <th>id.orig_h</th>\n",
       "      <th>id.orig_p</th>\n",
       "      <th>id.resp_h</th>\n",
       "      <th>id.resp_p</th>\n",
       "      <th>duration</th>\n",
       "      <th>orig_bytes</th>\n",
       "      <th>resp_bytes</th>\n",
       "      <th>orig_pkts</th>\n",
       "      <th>orig_ip_bytes</th>\n",
       "      <th>resp_pkts</th>\n",
       "      <th>resp_ip_bytes</th>\n",
       "    </tr>\n",
       "  </thead>\n",
       "  <tbody>\n",
       "    <tr>\n",
       "      <th>0</th>\n",
       "      <td>127.0.0.1</td>\n",
       "      <td>27762</td>\n",
       "      <td>127.0.0.1</td>\n",
       "      <td>58552</td>\n",
       "      <td>0.000000</td>\n",
       "      <td>0</td>\n",
       "      <td>0</td>\n",
       "      <td>0</td>\n",
       "      <td>0</td>\n",
       "      <td>0</td>\n",
       "      <td>0</td>\n",
       "    </tr>\n",
       "    <tr>\n",
       "      <th>1</th>\n",
       "      <td>192.168.0.4</td>\n",
       "      <td>27761</td>\n",
       "      <td>192.168.0.4</td>\n",
       "      <td>48798</td>\n",
       "      <td>0.000000</td>\n",
       "      <td>0</td>\n",
       "      <td>0</td>\n",
       "      <td>0</td>\n",
       "      <td>0</td>\n",
       "      <td>0</td>\n",
       "      <td>0</td>\n",
       "    </tr>\n",
       "    <tr>\n",
       "      <th>2</th>\n",
       "      <td>192.168.0.4</td>\n",
       "      <td>27761</td>\n",
       "      <td>192.168.0.4</td>\n",
       "      <td>48804</td>\n",
       "      <td>0.000000</td>\n",
       "      <td>0</td>\n",
       "      <td>0</td>\n",
       "      <td>0</td>\n",
       "      <td>0</td>\n",
       "      <td>0</td>\n",
       "      <td>0</td>\n",
       "    </tr>\n",
       "    <tr>\n",
       "      <th>3</th>\n",
       "      <td>127.0.0.1</td>\n",
       "      <td>27762</td>\n",
       "      <td>127.0.0.1</td>\n",
       "      <td>58568</td>\n",
       "      <td>0.000000</td>\n",
       "      <td>0</td>\n",
       "      <td>0</td>\n",
       "      <td>0</td>\n",
       "      <td>0</td>\n",
       "      <td>0</td>\n",
       "      <td>0</td>\n",
       "    </tr>\n",
       "    <tr>\n",
       "      <th>4</th>\n",
       "      <td>192.168.0.4</td>\n",
       "      <td>48786</td>\n",
       "      <td>192.168.0.4</td>\n",
       "      <td>27761</td>\n",
       "      <td>0.000000</td>\n",
       "      <td>0</td>\n",
       "      <td>0</td>\n",
       "      <td>0</td>\n",
       "      <td>0</td>\n",
       "      <td>0</td>\n",
       "      <td>0</td>\n",
       "    </tr>\n",
       "    <tr>\n",
       "      <th>...</th>\n",
       "      <td>...</td>\n",
       "      <td>...</td>\n",
       "      <td>...</td>\n",
       "      <td>...</td>\n",
       "      <td>...</td>\n",
       "      <td>...</td>\n",
       "      <td>...</td>\n",
       "      <td>...</td>\n",
       "      <td>...</td>\n",
       "      <td>...</td>\n",
       "      <td>...</td>\n",
       "    </tr>\n",
       "    <tr>\n",
       "      <th>4430183</th>\n",
       "      <td>192.168.0.21</td>\n",
       "      <td>55757</td>\n",
       "      <td>192.168.0.4</td>\n",
       "      <td>9200</td>\n",
       "      <td>0.000051</td>\n",
       "      <td>0</td>\n",
       "      <td>0</td>\n",
       "      <td>1</td>\n",
       "      <td>52</td>\n",
       "      <td>1</td>\n",
       "      <td>40</td>\n",
       "    </tr>\n",
       "    <tr>\n",
       "      <th>4430184</th>\n",
       "      <td>192.168.0.4</td>\n",
       "      <td>37236</td>\n",
       "      <td>192.168.0.4</td>\n",
       "      <td>9200</td>\n",
       "      <td>0.000023</td>\n",
       "      <td>0</td>\n",
       "      <td>0</td>\n",
       "      <td>0</td>\n",
       "      <td>0</td>\n",
       "      <td>1</td>\n",
       "      <td>40</td>\n",
       "    </tr>\n",
       "    <tr>\n",
       "      <th>4430185</th>\n",
       "      <td>192.168.0.4</td>\n",
       "      <td>37244</td>\n",
       "      <td>192.168.0.4</td>\n",
       "      <td>9200</td>\n",
       "      <td>0.000005</td>\n",
       "      <td>0</td>\n",
       "      <td>0</td>\n",
       "      <td>0</td>\n",
       "      <td>0</td>\n",
       "      <td>1</td>\n",
       "      <td>40</td>\n",
       "    </tr>\n",
       "    <tr>\n",
       "      <th>4430186</th>\n",
       "      <td>192.168.0.4</td>\n",
       "      <td>37246</td>\n",
       "      <td>192.168.0.4</td>\n",
       "      <td>9200</td>\n",
       "      <td>0.000005</td>\n",
       "      <td>0</td>\n",
       "      <td>0</td>\n",
       "      <td>0</td>\n",
       "      <td>0</td>\n",
       "      <td>1</td>\n",
       "      <td>40</td>\n",
       "    </tr>\n",
       "    <tr>\n",
       "      <th>4430187</th>\n",
       "      <td>192.168.0.4</td>\n",
       "      <td>37254</td>\n",
       "      <td>192.168.0.4</td>\n",
       "      <td>9200</td>\n",
       "      <td>0.000005</td>\n",
       "      <td>0</td>\n",
       "      <td>0</td>\n",
       "      <td>0</td>\n",
       "      <td>0</td>\n",
       "      <td>1</td>\n",
       "      <td>40</td>\n",
       "    </tr>\n",
       "  </tbody>\n",
       "</table>\n",
       "<p>4430183 rows × 11 columns</p>\n",
       "</div>"
      ],
      "text/plain": [
       "            id.orig_h  id.orig_p    id.resp_h  id.resp_p  duration   \n",
       "0           127.0.0.1      27762    127.0.0.1      58552  0.000000  \\\n",
       "1         192.168.0.4      27761  192.168.0.4      48798  0.000000   \n",
       "2         192.168.0.4      27761  192.168.0.4      48804  0.000000   \n",
       "3           127.0.0.1      27762    127.0.0.1      58568  0.000000   \n",
       "4         192.168.0.4      48786  192.168.0.4      27761  0.000000   \n",
       "...               ...        ...          ...        ...       ...   \n",
       "4430183  192.168.0.21      55757  192.168.0.4       9200  0.000051   \n",
       "4430184   192.168.0.4      37236  192.168.0.4       9200  0.000023   \n",
       "4430185   192.168.0.4      37244  192.168.0.4       9200  0.000005   \n",
       "4430186   192.168.0.4      37246  192.168.0.4       9200  0.000005   \n",
       "4430187   192.168.0.4      37254  192.168.0.4       9200  0.000005   \n",
       "\n",
       "         orig_bytes  resp_bytes  orig_pkts  orig_ip_bytes  resp_pkts   \n",
       "0                 0           0          0              0          0  \\\n",
       "1                 0           0          0              0          0   \n",
       "2                 0           0          0              0          0   \n",
       "3                 0           0          0              0          0   \n",
       "4                 0           0          0              0          0   \n",
       "...             ...         ...        ...            ...        ...   \n",
       "4430183           0           0          1             52          1   \n",
       "4430184           0           0          0              0          1   \n",
       "4430185           0           0          0              0          1   \n",
       "4430186           0           0          0              0          1   \n",
       "4430187           0           0          0              0          1   \n",
       "\n",
       "         resp_ip_bytes  \n",
       "0                    0  \n",
       "1                    0  \n",
       "2                    0  \n",
       "3                    0  \n",
       "4                    0  \n",
       "...                ...  \n",
       "4430183             40  \n",
       "4430184             40  \n",
       "4430185             40  \n",
       "4430186             40  \n",
       "4430187             40  \n",
       "\n",
       "[4430183 rows x 11 columns]"
      ]
     },
     "execution_count": 3,
     "metadata": {},
     "output_type": "execute_result"
    }
   ],
   "source": [
    "# In the notebooks on Pandas, Matplotlib and Scaling\n",
    "#   04 - Beginning Pandas\n",
    "#   05 - Beginning Matplotlib \n",
    "#   06 - Beginning Data Scaling\n",
    "# we loaded our dataset such as ...\n",
    "df_conn = pd.read_csv(r'df_conn_cleaned.csv', index_col=0)\n",
    "df_conn"
   ]
  },
  {
   "attachments": {},
   "cell_type": "markdown",
   "metadata": {},
   "source": [
    "This file represents Zeek (formerly Bro) connection log - conn.log`. <br>\n",
    "Zeek is a framework used for Network Security Monitoring.  <br>\n",
    "This entire series is based on using Zeek's data.  <br>\n",
    "The majority of the notebooks use the conn.log <br>\n",
    "You can learn more about Zeek here:\n",
    "   \n",
    "    https://zeek.org/\n",
    "\n",
    "Alternatively, come hang out with us in the:\n",
    "SANS SEC595: Applied Data Science and Machine Learning for Cybersecurity Professionals\n",
    "\n",
    "        https://www.sans.org/cyber-security-courses/applied-data-science-machine-learning/ OR\n",
    "\n",
    "SEC503 SEC503: Network Monitoring and Threat Detection In-Depth\n",
    "\n",
    "        https://www.sans.org/cyber-security-courses/network-monitoring-threat-detection/\n",
    "\n",
    "\n",
    "Here are also some blog posts on using Zeek for security monitoring\n",
    "Installing Zeek: \n",
    "\n",
    "        https://www.securitynik.com/2020/06/installing-zeek-314-on-ubuntu-2004.html\n",
    "\n",
    "Detecting PowerShell Empire Usage: \n",
    "\n",
    "        https://www.securitynik.com/2022/02/powershell-empire-detection-with-zeek.html\n",
    "\n",
    "Detecting Log4J Vulnerability Exploitation: \n",
    "\n",
    "        https://www.securitynik.com/2021/12/continuing-log4shell-zeek-detection.html\n"
   ]
  },
  {
   "cell_type": "code",
   "execution_count": null,
   "metadata": {},
   "outputs": [],
   "source": []
  },
  {
   "cell_type": "code",
   "execution_count": 4,
   "metadata": {},
   "outputs": [
    {
     "data": {
      "text/html": [
       "<div>\n",
       "<style scoped>\n",
       "    .dataframe tbody tr th:only-of-type {\n",
       "        vertical-align: middle;\n",
       "    }\n",
       "\n",
       "    .dataframe tbody tr th {\n",
       "        vertical-align: top;\n",
       "    }\n",
       "\n",
       "    .dataframe thead th {\n",
       "        text-align: right;\n",
       "    }\n",
       "</style>\n",
       "<table border=\"1\" class=\"dataframe\">\n",
       "  <thead>\n",
       "    <tr style=\"text-align: right;\">\n",
       "      <th></th>\n",
       "      <th>id.resp_p</th>\n",
       "      <th>duration</th>\n",
       "      <th>orig_bytes</th>\n",
       "      <th>resp_bytes</th>\n",
       "      <th>orig_pkts</th>\n",
       "      <th>orig_ip_bytes</th>\n",
       "      <th>resp_pkts</th>\n",
       "      <th>resp_ip_bytes</th>\n",
       "    </tr>\n",
       "  </thead>\n",
       "  <tbody>\n",
       "    <tr>\n",
       "      <th>0</th>\n",
       "      <td>58552</td>\n",
       "      <td>0.000000</td>\n",
       "      <td>0</td>\n",
       "      <td>0</td>\n",
       "      <td>0</td>\n",
       "      <td>0</td>\n",
       "      <td>0</td>\n",
       "      <td>0</td>\n",
       "    </tr>\n",
       "    <tr>\n",
       "      <th>1</th>\n",
       "      <td>48798</td>\n",
       "      <td>0.000000</td>\n",
       "      <td>0</td>\n",
       "      <td>0</td>\n",
       "      <td>0</td>\n",
       "      <td>0</td>\n",
       "      <td>0</td>\n",
       "      <td>0</td>\n",
       "    </tr>\n",
       "    <tr>\n",
       "      <th>2</th>\n",
       "      <td>48804</td>\n",
       "      <td>0.000000</td>\n",
       "      <td>0</td>\n",
       "      <td>0</td>\n",
       "      <td>0</td>\n",
       "      <td>0</td>\n",
       "      <td>0</td>\n",
       "      <td>0</td>\n",
       "    </tr>\n",
       "    <tr>\n",
       "      <th>3</th>\n",
       "      <td>58568</td>\n",
       "      <td>0.000000</td>\n",
       "      <td>0</td>\n",
       "      <td>0</td>\n",
       "      <td>0</td>\n",
       "      <td>0</td>\n",
       "      <td>0</td>\n",
       "      <td>0</td>\n",
       "    </tr>\n",
       "    <tr>\n",
       "      <th>4</th>\n",
       "      <td>27761</td>\n",
       "      <td>0.000000</td>\n",
       "      <td>0</td>\n",
       "      <td>0</td>\n",
       "      <td>0</td>\n",
       "      <td>0</td>\n",
       "      <td>0</td>\n",
       "      <td>0</td>\n",
       "    </tr>\n",
       "    <tr>\n",
       "      <th>5</th>\n",
       "      <td>8888</td>\n",
       "      <td>0.053276</td>\n",
       "      <td>208</td>\n",
       "      <td>976</td>\n",
       "      <td>6</td>\n",
       "      <td>528</td>\n",
       "      <td>6</td>\n",
       "      <td>1296</td>\n",
       "    </tr>\n",
       "    <tr>\n",
       "      <th>6</th>\n",
       "      <td>8888</td>\n",
       "      <td>0.383646</td>\n",
       "      <td>227</td>\n",
       "      <td>692369</td>\n",
       "      <td>202</td>\n",
       "      <td>10739</td>\n",
       "      <td>117</td>\n",
       "      <td>240893</td>\n",
       "    </tr>\n",
       "    <tr>\n",
       "      <th>7</th>\n",
       "      <td>8888</td>\n",
       "      <td>0.054294</td>\n",
       "      <td>208</td>\n",
       "      <td>977</td>\n",
       "      <td>6</td>\n",
       "      <td>528</td>\n",
       "      <td>6</td>\n",
       "      <td>1297</td>\n",
       "    </tr>\n",
       "    <tr>\n",
       "      <th>8</th>\n",
       "      <td>8888</td>\n",
       "      <td>0.424980</td>\n",
       "      <td>227</td>\n",
       "      <td>791633</td>\n",
       "      <td>176</td>\n",
       "      <td>9387</td>\n",
       "      <td>174</td>\n",
       "      <td>367737</td>\n",
       "    </tr>\n",
       "    <tr>\n",
       "      <th>9</th>\n",
       "      <td>8888</td>\n",
       "      <td>0.272567</td>\n",
       "      <td>227</td>\n",
       "      <td>406607</td>\n",
       "      <td>171</td>\n",
       "      <td>9127</td>\n",
       "      <td>71</td>\n",
       "      <td>169939</td>\n",
       "    </tr>\n",
       "  </tbody>\n",
       "</table>\n",
       "</div>"
      ],
      "text/plain": [
       "   id.resp_p  duration  orig_bytes  resp_bytes  orig_pkts  orig_ip_bytes   \n",
       "0      58552  0.000000           0           0          0              0  \\\n",
       "1      48798  0.000000           0           0          0              0   \n",
       "2      48804  0.000000           0           0          0              0   \n",
       "3      58568  0.000000           0           0          0              0   \n",
       "4      27761  0.000000           0           0          0              0   \n",
       "5       8888  0.053276         208         976          6            528   \n",
       "6       8888  0.383646         227      692369        202          10739   \n",
       "7       8888  0.054294         208         977          6            528   \n",
       "8       8888  0.424980         227      791633        176           9387   \n",
       "9       8888  0.272567         227      406607        171           9127   \n",
       "\n",
       "   resp_pkts  resp_ip_bytes  \n",
       "0          0              0  \n",
       "1          0              0  \n",
       "2          0              0  \n",
       "3          0              0  \n",
       "4          0              0  \n",
       "5          6           1296  \n",
       "6        117         240893  \n",
       "7          6           1297  \n",
       "8        174         367737  \n",
       "9         71         169939  "
      ]
     },
     "execution_count": 4,
     "metadata": {},
     "output_type": "execute_result"
    }
   ],
   "source": [
    "# Let's drop the IPs and source port columns\n",
    "# For the problem we are looking to solve, these fields are not that important\n",
    "df_working_copy = df_conn.drop(columns=['id.orig_h', 'id.orig_p', 'id.resp_h'])\n",
    "df_working_copy.head(10)"
   ]
  },
  {
   "cell_type": "code",
   "execution_count": null,
   "metadata": {},
   "outputs": [],
   "source": []
  },
  {
   "cell_type": "code",
   "execution_count": 7,
   "metadata": {},
   "outputs": [
    {
     "data": {
      "text/html": [
       "<div>\n",
       "<style scoped>\n",
       "    .dataframe tbody tr th:only-of-type {\n",
       "        vertical-align: middle;\n",
       "    }\n",
       "\n",
       "    .dataframe tbody tr th {\n",
       "        vertical-align: top;\n",
       "    }\n",
       "\n",
       "    .dataframe thead th {\n",
       "        text-align: right;\n",
       "    }\n",
       "</style>\n",
       "<table border=\"1\" class=\"dataframe\">\n",
       "  <thead>\n",
       "    <tr style=\"text-align: right;\">\n",
       "      <th></th>\n",
       "      <th>id.resp_p</th>\n",
       "      <th>duration</th>\n",
       "      <th>orig_bytes</th>\n",
       "      <th>resp_bytes</th>\n",
       "      <th>orig_pkts</th>\n",
       "      <th>orig_ip_bytes</th>\n",
       "      <th>resp_pkts</th>\n",
       "      <th>resp_ip_bytes</th>\n",
       "    </tr>\n",
       "  </thead>\n",
       "  <tbody>\n",
       "    <tr>\n",
       "      <th>id.resp_p</th>\n",
       "      <td>1.000000</td>\n",
       "      <td>-0.023331</td>\n",
       "      <td>-0.001296</td>\n",
       "      <td>-0.004295</td>\n",
       "      <td>-0.004254</td>\n",
       "      <td>-0.001200</td>\n",
       "      <td>-0.004245</td>\n",
       "      <td>-0.004217</td>\n",
       "    </tr>\n",
       "    <tr>\n",
       "      <th>duration</th>\n",
       "      <td>-0.023331</td>\n",
       "      <td>1.000000</td>\n",
       "      <td>0.013364</td>\n",
       "      <td>0.005255</td>\n",
       "      <td>0.080948</td>\n",
       "      <td>0.057768</td>\n",
       "      <td>0.061032</td>\n",
       "      <td>0.030080</td>\n",
       "    </tr>\n",
       "    <tr>\n",
       "      <th>orig_bytes</th>\n",
       "      <td>-0.001296</td>\n",
       "      <td>0.013364</td>\n",
       "      <td>1.000000</td>\n",
       "      <td>0.139161</td>\n",
       "      <td>0.201162</td>\n",
       "      <td>0.223028</td>\n",
       "      <td>0.138787</td>\n",
       "      <td>0.081752</td>\n",
       "    </tr>\n",
       "    <tr>\n",
       "      <th>resp_bytes</th>\n",
       "      <td>-0.004295</td>\n",
       "      <td>0.005255</td>\n",
       "      <td>0.139161</td>\n",
       "      <td>1.000000</td>\n",
       "      <td>0.108039</td>\n",
       "      <td>0.058442</td>\n",
       "      <td>0.153469</td>\n",
       "      <td>0.165182</td>\n",
       "    </tr>\n",
       "    <tr>\n",
       "      <th>orig_pkts</th>\n",
       "      <td>-0.004254</td>\n",
       "      <td>0.080948</td>\n",
       "      <td>0.201162</td>\n",
       "      <td>0.108039</td>\n",
       "      <td>1.000000</td>\n",
       "      <td>0.913031</td>\n",
       "      <td>0.840132</td>\n",
       "      <td>0.662968</td>\n",
       "    </tr>\n",
       "    <tr>\n",
       "      <th>orig_ip_bytes</th>\n",
       "      <td>-0.001200</td>\n",
       "      <td>0.057768</td>\n",
       "      <td>0.223028</td>\n",
       "      <td>0.058442</td>\n",
       "      <td>0.913031</td>\n",
       "      <td>1.000000</td>\n",
       "      <td>0.636315</td>\n",
       "      <td>0.385603</td>\n",
       "    </tr>\n",
       "    <tr>\n",
       "      <th>resp_pkts</th>\n",
       "      <td>-0.004245</td>\n",
       "      <td>0.061032</td>\n",
       "      <td>0.138787</td>\n",
       "      <td>0.153469</td>\n",
       "      <td>0.840132</td>\n",
       "      <td>0.636315</td>\n",
       "      <td>1.000000</td>\n",
       "      <td>0.946548</td>\n",
       "    </tr>\n",
       "    <tr>\n",
       "      <th>resp_ip_bytes</th>\n",
       "      <td>-0.004217</td>\n",
       "      <td>0.030080</td>\n",
       "      <td>0.081752</td>\n",
       "      <td>0.165182</td>\n",
       "      <td>0.662968</td>\n",
       "      <td>0.385603</td>\n",
       "      <td>0.946548</td>\n",
       "      <td>1.000000</td>\n",
       "    </tr>\n",
       "  </tbody>\n",
       "</table>\n",
       "</div>"
      ],
      "text/plain": [
       "               id.resp_p  duration  orig_bytes  resp_bytes  orig_pkts   \n",
       "id.resp_p       1.000000 -0.023331   -0.001296   -0.004295  -0.004254  \\\n",
       "duration       -0.023331  1.000000    0.013364    0.005255   0.080948   \n",
       "orig_bytes     -0.001296  0.013364    1.000000    0.139161   0.201162   \n",
       "resp_bytes     -0.004295  0.005255    0.139161    1.000000   0.108039   \n",
       "orig_pkts      -0.004254  0.080948    0.201162    0.108039   1.000000   \n",
       "orig_ip_bytes  -0.001200  0.057768    0.223028    0.058442   0.913031   \n",
       "resp_pkts      -0.004245  0.061032    0.138787    0.153469   0.840132   \n",
       "resp_ip_bytes  -0.004217  0.030080    0.081752    0.165182   0.662968   \n",
       "\n",
       "               orig_ip_bytes  resp_pkts  resp_ip_bytes  \n",
       "id.resp_p          -0.001200  -0.004245      -0.004217  \n",
       "duration            0.057768   0.061032       0.030080  \n",
       "orig_bytes          0.223028   0.138787       0.081752  \n",
       "resp_bytes          0.058442   0.153469       0.165182  \n",
       "orig_pkts           0.913031   0.840132       0.662968  \n",
       "orig_ip_bytes       1.000000   0.636315       0.385603  \n",
       "resp_pkts           0.636315   1.000000       0.946548  \n",
       "resp_ip_bytes       0.385603   0.946548       1.000000  "
      ]
     },
     "execution_count": 7,
     "metadata": {},
     "output_type": "execute_result"
    }
   ],
   "source": [
    "# In the Pandas notebook, we leveraged the correlation matrix\n",
    "#   04 - Beginning Pandas\n",
    "# This helps us to understand the direction and strength of the relationship between two variables\n",
    "# We can see below, \"orig_ip_bytes\"and \"orig_pkts\" has a strong positive correlation \"0.913031\"\n",
    "df_working_copy.corr(method='pearson')"
   ]
  },
  {
   "cell_type": "code",
   "execution_count": 8,
   "metadata": {},
   "outputs": [
    {
     "data": {
      "text/html": [
       "<div>\n",
       "<style scoped>\n",
       "    .dataframe tbody tr th:only-of-type {\n",
       "        vertical-align: middle;\n",
       "    }\n",
       "\n",
       "    .dataframe tbody tr th {\n",
       "        vertical-align: top;\n",
       "    }\n",
       "\n",
       "    .dataframe thead th {\n",
       "        text-align: right;\n",
       "    }\n",
       "</style>\n",
       "<table border=\"1\" class=\"dataframe\">\n",
       "  <thead>\n",
       "    <tr style=\"text-align: right;\">\n",
       "      <th></th>\n",
       "      <th>orig_ip_bytes</th>\n",
       "      <th>orig_pkts</th>\n",
       "    </tr>\n",
       "  </thead>\n",
       "  <tbody>\n",
       "    <tr>\n",
       "      <th>orig_ip_bytes</th>\n",
       "      <td>1.000000</td>\n",
       "      <td>0.913031</td>\n",
       "    </tr>\n",
       "    <tr>\n",
       "      <th>orig_pkts</th>\n",
       "      <td>0.913031</td>\n",
       "      <td>1.000000</td>\n",
       "    </tr>\n",
       "  </tbody>\n",
       "</table>\n",
       "</div>"
      ],
      "text/plain": [
       "               orig_ip_bytes  orig_pkts\n",
       "orig_ip_bytes       1.000000   0.913031\n",
       "orig_pkts           0.913031   1.000000"
      ]
     },
     "execution_count": 8,
     "metadata": {},
     "output_type": "execute_result"
    }
   ],
   "source": [
    "# Maybe a simplier view\n",
    "df_working_copy[['orig_ip_bytes', 'orig_pkts' ]].corr(method='pearson')"
   ]
  },
  {
   "cell_type": "code",
   "execution_count": 9,
   "metadata": {},
   "outputs": [
    {
     "data": {
      "text/plain": [
       "<function matplotlib.pyplot.show(close=None, block=None)>"
      ]
     },
     "execution_count": 9,
     "metadata": {},
     "output_type": "execute_result"
    },
    {
     "data": {
      "image/png": "[encoded data removed]",
      "text/plain": [
       "<Figure size 640x480 with 1 Axes>"
      ]
     },
     "metadata": {},
     "output_type": "display_data"
    }
   ],
   "source": [
    "# Let's setup a line to draw in 2 dimensions.\n",
    "# First the x\n",
    "x = np.linspace(0, 500000)\n",
    "\n",
    "# To compute y we take the linear equation y=mx+b\n",
    "# In this case our m is 800 and b is 2 \n",
    "# I manually selected these values, there were not \"learened\"\n",
    "# We learn more about linear regression in notebook\n",
    "#   11. Beginning Linear Regression - Machine Learning\n",
    "#   14. Beginning Basic Deep Learning, - Linear Regression, Tensorflow\n",
    "#   15. Beginning Basic Deep Learning, - Linear Regression, PyTorch\n",
    "# Compute y\n",
    "y = 800*x + 2\n",
    "\n",
    "# Confirming the positive correlation by plotting the two features\n",
    "plt.title(f'Scatter Plot showing strong linear relationship \\n between orig_pkts and orig_ip_bytes')\n",
    "plt.scatter(df_working_copy['orig_pkts'], df_working_copy['orig_ip_bytes'])\n",
    "plt.xlabel('orig_pkts')\n",
    "plt.ylabel('orig_ip_bytes')\n",
    "\n",
    "plt.plot(x, y, c='r', lw=2, ls='--', label='Linear Regression Line - y=mx+b / y=800*x + 2')\n",
    "plt.legend()\n",
    "plt.show"
   ]
  },
  {
   "attachments": {},
   "cell_type": "markdown",
   "metadata": {},
   "source": [
    "Similarly to the correlation matrix, there is the covariance matrix. <br>\n",
    "This covariance matrix can then be used for dimensionality reduction. <br>\n",
    "Dimensionality reduction is about reducing the number of features. <br>\n",
    "More features does not necessarily mean a better performing model. <br>\n",
    "At the same time, we saw above in the correlation matrix and  <br>\n",
    "at least two features have a positive linear correlation. <br>\n",
    "What do we do with these correlated features? <br>\n",
    "Do we drop both? Do we keep both? Do we drop one? If one, which one? <br>"
   ]
  },
  {
   "cell_type": "code",
   "execution_count": 10,
   "metadata": {},
   "outputs": [
    {
     "data": {
      "text/html": [
       "<div>\n",
       "<style scoped>\n",
       "    .dataframe tbody tr th:only-of-type {\n",
       "        vertical-align: middle;\n",
       "    }\n",
       "\n",
       "    .dataframe tbody tr th {\n",
       "        vertical-align: top;\n",
       "    }\n",
       "\n",
       "    .dataframe thead th {\n",
       "        text-align: right;\n",
       "    }\n",
       "</style>\n",
       "<table border=\"1\" class=\"dataframe\">\n",
       "  <thead>\n",
       "    <tr style=\"text-align: right;\">\n",
       "      <th></th>\n",
       "      <th>id.resp_p</th>\n",
       "      <th>duration</th>\n",
       "      <th>orig_bytes</th>\n",
       "      <th>resp_bytes</th>\n",
       "      <th>orig_pkts</th>\n",
       "      <th>orig_ip_bytes</th>\n",
       "      <th>resp_pkts</th>\n",
       "      <th>resp_ip_bytes</th>\n",
       "    </tr>\n",
       "  </thead>\n",
       "  <tbody>\n",
       "    <tr>\n",
       "      <th>id.resp_p</th>\n",
       "      <td>3.786541e+07</td>\n",
       "      <td>-6012.951063</td>\n",
       "      <td>-7.890107e+06</td>\n",
       "      <td>-8.621203e+07</td>\n",
       "      <td>-7.665920e+03</td>\n",
       "      <td>-1.700459e+06</td>\n",
       "      <td>-1.139986e+04</td>\n",
       "      <td>-1.315667e+07</td>\n",
       "    </tr>\n",
       "    <tr>\n",
       "      <th>duration</th>\n",
       "      <td>-6.012951e+03</td>\n",
       "      <td>1754.159887</td>\n",
       "      <td>5.539323e+05</td>\n",
       "      <td>7.179083e+05</td>\n",
       "      <td>9.928298e+02</td>\n",
       "      <td>5.572362e+05</td>\n",
       "      <td>1.115448e+03</td>\n",
       "      <td>6.387629e+05</td>\n",
       "    </tr>\n",
       "    <tr>\n",
       "      <th>orig_bytes</th>\n",
       "      <td>-7.890107e+06</td>\n",
       "      <td>553932.311554</td>\n",
       "      <td>9.794549e+11</td>\n",
       "      <td>4.492245e+11</td>\n",
       "      <td>5.830054e+07</td>\n",
       "      <td>5.083589e+10</td>\n",
       "      <td>5.993794e+07</td>\n",
       "      <td>4.102255e+10</td>\n",
       "    </tr>\n",
       "    <tr>\n",
       "      <th>resp_bytes</th>\n",
       "      <td>-8.621203e+07</td>\n",
       "      <td>717908.303724</td>\n",
       "      <td>4.492245e+11</td>\n",
       "      <td>1.063914e+13</td>\n",
       "      <td>1.031972e+08</td>\n",
       "      <td>4.390321e+10</td>\n",
       "      <td>2.184411e+08</td>\n",
       "      <td>2.731797e+11</td>\n",
       "    </tr>\n",
       "    <tr>\n",
       "      <th>orig_pkts</th>\n",
       "      <td>-7.665920e+03</td>\n",
       "      <td>992.829755</td>\n",
       "      <td>5.830054e+07</td>\n",
       "      <td>1.031972e+08</td>\n",
       "      <td>8.575658e+04</td>\n",
       "      <td>6.157965e+07</td>\n",
       "      <td>1.073597e+05</td>\n",
       "      <td>9.843724e+07</td>\n",
       "    </tr>\n",
       "    <tr>\n",
       "      <th>orig_ip_bytes</th>\n",
       "      <td>-1.700459e+06</td>\n",
       "      <td>557236.193452</td>\n",
       "      <td>5.083589e+10</td>\n",
       "      <td>4.390321e+10</td>\n",
       "      <td>6.157965e+07</td>\n",
       "      <td>5.304399e+10</td>\n",
       "      <td>6.395152e+07</td>\n",
       "      <td>4.502897e+10</td>\n",
       "    </tr>\n",
       "    <tr>\n",
       "      <th>resp_pkts</th>\n",
       "      <td>-1.139986e+04</td>\n",
       "      <td>1115.447544</td>\n",
       "      <td>5.993794e+07</td>\n",
       "      <td>2.184411e+08</td>\n",
       "      <td>1.073597e+05</td>\n",
       "      <td>6.395152e+07</td>\n",
       "      <td>1.904236e+05</td>\n",
       "      <td>2.094287e+08</td>\n",
       "    </tr>\n",
       "    <tr>\n",
       "      <th>resp_ip_bytes</th>\n",
       "      <td>-1.315667e+07</td>\n",
       "      <td>638762.920152</td>\n",
       "      <td>4.102255e+10</td>\n",
       "      <td>2.731797e+11</td>\n",
       "      <td>9.843724e+07</td>\n",
       "      <td>4.502897e+10</td>\n",
       "      <td>2.094287e+08</td>\n",
       "      <td>2.570789e+11</td>\n",
       "    </tr>\n",
       "  </tbody>\n",
       "</table>\n",
       "</div>"
      ],
      "text/plain": [
       "                  id.resp_p       duration    orig_bytes    resp_bytes   \n",
       "id.resp_p      3.786541e+07   -6012.951063 -7.890107e+06 -8.621203e+07  \\\n",
       "duration      -6.012951e+03    1754.159887  5.539323e+05  7.179083e+05   \n",
       "orig_bytes    -7.890107e+06  553932.311554  9.794549e+11  4.492245e+11   \n",
       "resp_bytes    -8.621203e+07  717908.303724  4.492245e+11  1.063914e+13   \n",
       "orig_pkts     -7.665920e+03     992.829755  5.830054e+07  1.031972e+08   \n",
       "orig_ip_bytes -1.700459e+06  557236.193452  5.083589e+10  4.390321e+10   \n",
       "resp_pkts     -1.139986e+04    1115.447544  5.993794e+07  2.184411e+08   \n",
       "resp_ip_bytes -1.315667e+07  638762.920152  4.102255e+10  2.731797e+11   \n",
       "\n",
       "                  orig_pkts  orig_ip_bytes     resp_pkts  resp_ip_bytes  \n",
       "id.resp_p     -7.665920e+03  -1.700459e+06 -1.139986e+04  -1.315667e+07  \n",
       "duration       9.928298e+02   5.572362e+05  1.115448e+03   6.387629e+05  \n",
       "orig_bytes     5.830054e+07   5.083589e+10  5.993794e+07   4.102255e+10  \n",
       "resp_bytes     1.031972e+08   4.390321e+10  2.184411e+08   2.731797e+11  \n",
       "orig_pkts      8.575658e+04   6.157965e+07  1.073597e+05   9.843724e+07  \n",
       "orig_ip_bytes  6.157965e+07   5.304399e+10  6.395152e+07   4.502897e+10  \n",
       "resp_pkts      1.073597e+05   6.395152e+07  1.904236e+05   2.094287e+08  \n",
       "resp_ip_bytes  9.843724e+07   4.502897e+10  2.094287e+08   2.570789e+11  "
      ]
     },
     "execution_count": 10,
     "metadata": {},
     "output_type": "execute_result"
    }
   ],
   "source": [
    "# Getting the covariance matrix\n",
    "df_working_copy.cov()"
   ]
  },
  {
   "cell_type": "code",
   "execution_count": 11,
   "metadata": {},
   "outputs": [
    {
     "data": {
      "text/plain": [
       "array([[    0],\n",
       "       [   80],\n",
       "       [  443],\n",
       "       [  445],\n",
       "       [  995],\n",
       "       [65535]])"
      ]
     },
     "execution_count": 11,
     "metadata": {},
     "output_type": "execute_result"
    }
   ],
   "source": [
    "# This covariance matrix is important for Principal Component Analysis.\n",
    "# How do we calculate this?\n",
    "# Let's reuse the two features, we created in the scaling notebook\n",
    "#   06 - Beginning Data Scaling\n",
    "common_ports = np.array([0, 80, 443, 445, 995, 65535], dtype=int, ndmin=2).T\n",
    "common_ports"
   ]
  },
  {
   "cell_type": "code",
   "execution_count": 12,
   "metadata": {},
   "outputs": [
    {
     "data": {
      "text/plain": [
       "array([[1.],\n",
       "       [1.],\n",
       "       [2.],\n",
       "       [1.],\n",
       "       [2.],\n",
       "       [1.]], dtype=float32)"
      ]
     },
     "execution_count": 12,
     "metadata": {},
     "output_type": "execute_result"
    }
   ],
   "source": [
    "# Setup the duration column\n",
    "duration = np.array([[1], [1], [2], [1], [2], [1]], dtype=np.float32)\n",
    "duration"
   ]
  },
  {
   "cell_type": "code",
   "execution_count": 13,
   "metadata": {},
   "outputs": [
    {
     "data": {
      "text/plain": [
       "array([[    0.,     1.],\n",
       "       [   80.,     1.],\n",
       "       [  443.,     2.],\n",
       "       [  445.,     1.],\n",
       "       [  995.,     2.],\n",
       "       [65535.,     1.]])"
      ]
     },
     "execution_count": 13,
     "metadata": {},
     "output_type": "execute_result"
    }
   ],
   "source": [
    "# Stacking the to columns / features to create a dataset\n",
    "np.set_printoptions(suppress=True)\n",
    "my_2_features = np.hstack((common_ports, duration))\n",
    "my_2_features "
   ]
  },
  {
   "cell_type": "code",
   "execution_count": 14,
   "metadata": {},
   "outputs": [
    {
     "data": {
      "text/plain": [
       "array([11249.66666667,     1.33333333])"
      ]
     },
     "execution_count": 14,
     "metadata": {},
     "output_type": "execute_result"
    }
   ],
   "source": [
    "# Let's now manually calculate the covariance of these two features\n",
    "# References:\n",
    "#   https://www.indeed.com/career-advice/career-development/how-to-calculate-covariance\n",
    "#  First step in finding covariance, is finding the mean of each feature\n",
    "# Getting the mean\n",
    "x1_x2_mean = np.mean(my_2_features, axis=0)\n",
    "x1_x2_mean"
   ]
  },
  {
   "cell_type": "code",
   "execution_count": 15,
   "metadata": {},
   "outputs": [
    {
     "data": {
      "text/plain": [
       "array([-11249.66666667, -11169.66666667, -10806.66666667, -10804.66666667,\n",
       "       -10254.66666667,  54285.33333333])"
      ]
     },
     "execution_count": 15,
     "metadata": {},
     "output_type": "execute_result"
    }
   ],
   "source": [
    "# Second step, find the difference between each value of column 1 and its mean\n",
    "x_1 = np.array([ ( i - x1_x2_mean[0] ) for i in my_2_features[:, 0]])\n",
    "x_1"
   ]
  },
  {
   "cell_type": "code",
   "execution_count": 16,
   "metadata": {},
   "outputs": [
    {
     "data": {
      "text/plain": [
       "array([-0.33333333, -0.33333333,  0.66666667, -0.33333333,  0.66666667,\n",
       "       -0.33333333])"
      ]
     },
     "execution_count": 16,
     "metadata": {},
     "output_type": "execute_result"
    }
   ],
   "source": [
    "# Second step, find the difference between each value of column 2 and its mean\n",
    "x_2 = np.array([ ( i - x1_x2_mean[1] ) for i in my_2_features[:, 1]])\n",
    "x_2"
   ]
  },
  {
   "cell_type": "code",
   "execution_count": 17,
   "metadata": {},
   "outputs": [
    {
     "data": {
      "text/plain": [
       "-3510.2222222222226"
      ]
     },
     "execution_count": 17,
     "metadata": {},
     "output_type": "execute_result"
    }
   ],
   "source": [
    "# Now multiply the two matrices, then find the sum \n",
    "# Then divide the sum by the number of elements\n",
    "# The answer would be the covariance\n",
    "# while I could do\n",
    "# sum(x_1 * x_2)/len(my_2_features)\n",
    "# I'm choosing the different route\n",
    "np.dot(x_1, x_2) / len(my_2_features) \n"
   ]
  },
  {
   "cell_type": "code",
   "execution_count": 20,
   "metadata": {},
   "outputs": [
    {
     "data": {
      "text/plain": [
       "array([[ 5.89482821e+08, -3.51022222e+03],\n",
       "       [-3.51022222e+03,  2.22222222e-01]])"
      ]
     },
     "execution_count": 20,
     "metadata": {},
     "output_type": "execute_result"
    }
   ],
   "source": [
    "np.set_printoptions(suppress=True)\n",
    "# Confirming Numpy's calculation of the covariance of these two features\n",
    "# As can be seen below, we got the same 130.56\n",
    "# References\n",
    "#   https://numpy.org/doc/stable/reference/generated/numpy.cov.html \n",
    "np.cov(my_2_features, rowvar=False, ddof=0) "
   ]
  },
  {
   "cell_type": "code",
   "execution_count": null,
   "metadata": {},
   "outputs": [],
   "source": []
  },
  {
   "attachments": {},
   "cell_type": "markdown",
   "metadata": {},
   "source": [
    "With that understanding in place, <br>\n",
    "Let's start our process of conducting Principal Component Analysis (PCA) <br>\n",
    "With PCA, we want to find the directions of maximum variance in our dataset. <br>\n",
    "We will then use these directions to project our data into a lower dimensional subspace,  <br>\n",
    "while maintaining most of the \"meaning\" of the data <br>\n",
    "These directions are call the Principal Components. <br>\n",
    "\n",
    "Along with the eigenvectors, we will also obtain the associated eigenvalues <br>\n",
    "The eigenvalues tell us the magnitude, explaining the variance of the data along the new feature axes <br>\n",
    "For example, at present we have 8 features as seen from the shape of the dataframe below <br>\n",
    "Can we get this down to 2 or 3 dimensions and still retain the \"meaning\" of the data?\n",
    "Let's see ... <br>\n",
    "\n",
    "https://sebastianraschka.com/Articles/2014_pca_step_by_step.html"
   ]
  },
  {
   "cell_type": "code",
   "execution_count": 21,
   "metadata": {},
   "outputs": [
    {
     "data": {
      "text/plain": [
       "(4430183, 8)"
      ]
     },
     "execution_count": 21,
     "metadata": {},
     "output_type": "execute_result"
    }
   ],
   "source": [
    "# Confirming the shape of our dataset, to get the number of columns.\n",
    "# Below shows 8\n",
    "df_working_copy.shape"
   ]
  },
  {
   "cell_type": "code",
   "execution_count": 22,
   "metadata": {},
   "outputs": [],
   "source": [
    "# First step in using PCA, is for us to standardize our data\n",
    "# We learned about standardization in this notebook  \n",
    "#   06 - Beginning Data Scaling\n",
    "# We will take advantage of sklearn's StandardScaler\n",
    "from sklearn.preprocessing import StandardScaler"
   ]
  },
  {
   "cell_type": "code",
   "execution_count": 23,
   "metadata": {},
   "outputs": [
    {
     "data": {
      "text/plain": [
       "array([[ 7.92392101, -0.01962605, -0.00096369, ..., -0.00140711,\n",
       "        -0.00553931, -0.00707216],\n",
       "       [ 6.33880343, -0.01962605, -0.00096369, ..., -0.00140711,\n",
       "        -0.00553931, -0.00707216],\n",
       "       [ 6.33977849, -0.01962605, -0.00096369, ..., -0.00140711,\n",
       "        -0.00553931, -0.00707216],\n",
       "       ...,\n",
       "       [-0.09624742, -0.01962593, -0.00096369, ..., -0.00140711,\n",
       "        -0.0032477 , -0.00699327],\n",
       "       [-0.09624742, -0.01962593, -0.00096369, ..., -0.00140711,\n",
       "        -0.0032477 , -0.00699327],\n",
       "       [-0.09624742, -0.01962593, -0.00096369, ..., -0.00140711,\n",
       "        -0.0032477 , -0.00699327]])"
      ]
     },
     "execution_count": 23,
     "metadata": {},
     "output_type": "execute_result"
    }
   ],
   "source": [
    "# Scaled our dataset using StandardScaler\n",
    "df_conn_scaled = StandardScaler(with_mean=True, with_std=True).fit_transform(df_working_copy)\n",
    "df_conn_scaled"
   ]
  },
  {
   "attachments": {},
   "cell_type": "markdown",
   "metadata": {},
   "source": [
    "While we will use the covariance matrix to perform eigen decomposition,  <br>\n",
    "to get the eigenvector and egienvalues, you can also use the correlation matrix <br> \n",
    "or Singular Value Decomposition (SVD). <br>\n",
    "The correlation matrix is considered to be a normalize version of the covariance matrix <br>\n",
    "\n",
    "Getting the covariance matrix of the scaled data <br>\n",
    "Notice my use of rowvar=False. <br>\n",
    "If rowvar was True as in rowvar=True, this would instead produce of covariance matrix of the rows. <br>\n",
    "We want the covariance of the features, i.e. the columns <br>\n",
    "\n",
    "Alternatively, we could have transposed the scaled data if we did not wish to use the rowvar=False <br>\n",
    "df_conn_cov = np.cov(df_conn_scaled.T)"
   ]
  },
  {
   "cell_type": "code",
   "execution_count": 24,
   "metadata": {},
   "outputs": [
    {
     "data": {
      "text/plain": [
       "(array([[ 7.8613533 ,  6.29003481,  6.29100138,  7.86393081,  2.90108393,\n",
       "         -0.14504351, -0.3800841 , -0.14504732, -0.42506085, -0.31660605],\n",
       "        [ 6.29003481,  5.03279105,  5.03356442,  6.29209714,  2.32122276,\n",
       "         -0.11604516, -0.30408611, -0.11604822, -0.3400742 , -0.25330242],\n",
       "        [ 6.29100138,  5.03356442,  5.03433791,  6.29306402,  2.32157945,\n",
       "         -0.116063  , -0.30413285, -0.11606606, -0.34012648, -0.25334136],\n",
       "        [ 7.86393081,  6.29209714,  6.29306402,  7.86650918,  2.9020351 ,\n",
       "         -0.14509108, -0.38020877, -0.14509489, -0.42520025, -0.31670989],\n",
       "        [ 2.90108393,  2.32122276,  2.32157945,  2.9020351 ,  1.07060359,\n",
       "         -0.0535028 , -0.14017696, -0.05350423, -0.15677872, -0.11677192],\n",
       "        [-0.14504351, -0.11604516, -0.116063  , -0.14509108, -0.0535028 ,\n",
       "          0.00276957,  0.00847943,  0.00276958,  0.00912564,  0.00707492],\n",
       "        [-0.3800841 , -0.30408611, -0.30413285, -0.38020877, -0.14017696,\n",
       "          0.00847943,  0.07680386,  0.00847882,  0.08206556,  0.0625974 ],\n",
       "        [-0.14504732, -0.11604822, -0.11606606, -0.14509489, -0.05350423,\n",
       "          0.00276958,  0.00847882,  0.00276958,  0.00912496,  0.00707447],\n",
       "        [-0.42506085, -0.3400742 , -0.34012648, -0.42520025, -0.15677872,\n",
       "          0.00912564,  0.08206556,  0.00912496,  0.0981682 ,  0.06440119],\n",
       "        [-0.31660605, -0.25330242, -0.25334136, -0.31670989, -0.11677192,\n",
       "          0.00707492,  0.0625974 ,  0.00707447,  0.06440119,  0.05188978]]),\n",
       " (10, 10))"
      ]
     },
     "execution_count": 24,
     "metadata": {},
     "output_type": "execute_result"
    }
   ],
   "source": [
    "# Setting the row_var=True, which is the default, so we can see what the issue is\n",
    "# Sampling the first 10 records in the numpy array\n",
    "df_conn_cov = np.cov(df_conn_scaled[:10, :], rowvar=True)\n",
    "df_conn_cov, df_conn_cov.shape"
   ]
  },
  {
   "cell_type": "code",
   "execution_count": 25,
   "metadata": {},
   "outputs": [],
   "source": [
    "# Above, we see 10 samples with 10 features. \n",
    "# This is not what we want"
   ]
  },
  {
   "cell_type": "code",
   "execution_count": 26,
   "metadata": {},
   "outputs": [
    {
     "data": {
      "text/plain": [
       "(array([[ 1.00000023, -0.02333092, -0.0012956 , -0.0042953 , -0.00425412,\n",
       "         -0.00119985, -0.00424539, -0.00421688],\n",
       "        [-0.02333092,  1.00000023,  0.0133638 ,  0.0052551 ,  0.08094808,\n",
       "          0.05776792,  0.06103154,  0.0300796 ],\n",
       "        [-0.0012956 ,  0.0133638 ,  1.00000023,  0.13916117,  0.20116235,\n",
       "          0.22302844,  0.13878717,  0.0817518 ],\n",
       "        [-0.0042953 ,  0.0052551 ,  0.13916117,  1.00000023,  0.10803915,\n",
       "          0.05844199,  0.15346909,  0.16518175],\n",
       "        [-0.00425412,  0.08094808,  0.20116235,  0.10803915,  1.00000023,\n",
       "          0.91303091,  0.84013177,  0.66296803],\n",
       "        [-0.00119985,  0.05776792,  0.22302844,  0.05844199,  0.91303091,\n",
       "          1.00000023,  0.63631549,  0.38560336],\n",
       "        [-0.00424539,  0.06103154,  0.13878717,  0.15346909,  0.84013177,\n",
       "          0.63631549,  1.00000023,  0.94654827],\n",
       "        [-0.00421688,  0.0300796 ,  0.0817518 ,  0.16518175,  0.66296803,\n",
       "          0.38560336,  0.94654827,  1.00000023]]),\n",
       " (8, 8))"
      ]
     },
     "execution_count": 26,
     "metadata": {},
     "output_type": "execute_result"
    }
   ],
   "source": [
    "# Getting the covariance matrix the right way - well at least one of the right ways\n",
    "df_conn_cov = np.cov(df_conn_scaled, rowvar=False)\n",
    "df_conn_cov, df_conn_cov.shape"
   ]
  },
  {
   "cell_type": "code",
   "execution_count": 27,
   "metadata": {},
   "outputs": [
    {
     "data": {
      "text/plain": [
       "((4430183, 8), (8, 8))"
      ]
     },
     "execution_count": 27,
     "metadata": {},
     "output_type": "execute_result"
    }
   ],
   "source": [
    "# We can see from the shape above (and below), it is 8x8\n",
    "# If we have 4 features, we will have a 4x4 covariance matrix\n",
    "# In our case, we have 8 features and 4430183 samples\n",
    "# hence the 8x8 matrix for our features\n",
    "df_conn_scaled.shape, df_conn_cov.shape"
   ]
  },
  {
   "cell_type": "code",
   "execution_count": 28,
   "metadata": {},
   "outputs": [],
   "source": [
    "# Next we perform the eigen decomposition\n",
    "# The objective here is to get eigen pairs\n",
    "# The eigenpairs is the eigenvector and its associated eigenvalue\n",
    "eig_value, eig_vectors = np.linalg.eig(df_conn_cov)"
   ]
  },
  {
   "cell_type": "code",
   "execution_count": 29,
   "metadata": {},
   "outputs": [
    {
     "data": {
      "text/plain": [
       "array([3.29066414, 0.65476779, 0.94313613, 0.98037087, 1.02158614,\n",
       "       1.06675137, 0.0331755 , 0.00954988])"
      ]
     },
     "execution_count": 29,
     "metadata": {},
     "output_type": "execute_result"
    }
   ],
   "source": [
    "# Here is the eigenvalues, which represent the magnitude of the direction\n",
    "# Note 8 values for our 8 features\n",
    "eig_value"
   ]
  },
  {
   "cell_type": "code",
   "execution_count": 30,
   "metadata": {},
   "outputs": [
    {
     "data": {
      "text/plain": [
       "8"
      ]
     },
     "execution_count": 30,
     "metadata": {},
     "output_type": "execute_result"
    }
   ],
   "source": [
    "# Confirming the length of the vector containing the eigenvalues\n",
    "len(eig_value)"
   ]
  },
  {
   "cell_type": "code",
   "execution_count": 31,
   "metadata": {},
   "outputs": [
    {
     "data": {
      "text/plain": [
       "(array([[-0.00384108, -0.00505299,  0.19814749,  0.6705112 , -0.7149068 ,\n",
       "          0.00439339,  0.00099558, -0.0000279 ],\n",
       "        [ 0.05103953, -0.0553955 ,  0.36717972,  0.61910615,  0.6831142 ,\n",
       "          0.095694  , -0.0143103 ,  0.01434557],\n",
       "        [ 0.14525053, -0.42996113, -0.5056809 ,  0.25157004,  0.09386086,\n",
       "         -0.68278284,  0.00572403, -0.00012409],\n",
       "        [ 0.11339098,  0.34960956,  0.58192763, -0.18912935, -0.02348038,\n",
       "         -0.69995803, -0.00319353, -0.00178683],\n",
       "        [ 0.52453684,  0.26242546, -0.14048178,  0.0575289 ,  0.01193903,\n",
       "          0.07984289,  0.78967563, -0.05333156],\n",
       "        [ 0.45032698,  0.55267006, -0.32528483,  0.14113182,  0.0353772 ,\n",
       "          0.04099439, -0.53718089,  0.27301577],\n",
       "        [ 0.52468856, -0.24711271,  0.14472324, -0.0993192 , -0.05379278,\n",
       "          0.11373027, -0.29331631, -0.72867373],\n",
       "        [ 0.45846877, -0.50441686,  0.29167367, -0.18701027, -0.09281336,\n",
       "          0.11704572, -0.03957148,  0.62565464]]),\n",
       " (8, 8))"
      ]
     },
     "execution_count": 31,
     "metadata": {},
     "output_type": "execute_result"
    }
   ],
   "source": [
    "# Similarly, here is the eigenvectors, which represents the Principal Components\n",
    "eig_vectors, eig_vectors.shape"
   ]
  },
  {
   "attachments": {},
   "cell_type": "markdown",
   "metadata": {},
   "source": [
    "Getting the shape of the eigenvectors <br>\n",
    "We see 8x8 which is the same size of our covariance matrix <br>\n",
    "Keep in mind we would like to use PCA to reduce the number of dimensions we have <br>\n",
    "At this point, we have not reduce our dimensions but instead maintained it <br>\n",
    "What we have created is a new feature k from our original feature space d <br>\n",
    "Typically k (new dimension subspace) < d (original higher dimension space)  <br>\n",
    "but as you can see here so far k=d <br>\n",
    "We will see shortly how to get k to be less than d"
   ]
  },
  {
   "cell_type": "code",
   "execution_count": 32,
   "metadata": {},
   "outputs": [
    {
     "data": {
      "text/plain": [
       "(8, 8)"
      ]
     },
     "execution_count": 32,
     "metadata": {},
     "output_type": "execute_result"
    }
   ],
   "source": [
    "# Confirming the shape of the eigenvector\n",
    "eig_vectors.shape"
   ]
  },
  {
   "cell_type": "code",
   "execution_count": 33,
   "metadata": {},
   "outputs": [
    {
     "data": {
      "text/plain": [
       "array([3.29066414, 0.65476779, 0.94313613, 0.98037087, 1.02158614,\n",
       "       1.06675137, 0.0331755 , 0.00954988])"
      ]
     },
     "execution_count": 33,
     "metadata": {},
     "output_type": "execute_result"
    }
   ],
   "source": [
    "# To get an understanding of which eigenvectors to use\n",
    "# We need to look at the eigenvalues. \n",
    "# The eigenvalues helps us to understand which eigenvectors contains most meaning\n",
    "eig_value"
   ]
  },
  {
   "attachments": {},
   "cell_type": "markdown",
   "metadata": {},
   "source": [
    "The fact that we have these eigenvalues means we can compute the explained variance <br>\n",
    "The explained variance will give us a peek into how many principal components (eigenvectors) we may need to use. <br>\n",
    "\n",
    "To get the explained variance, we need the sum of all the eigenvalues.  <br>\n",
    "Once we have this sum, we can then divide each item by the sum to give a percentage view. <br> \n",
    "We can then multiple each item by 100 <br>"
   ]
  },
  {
   "cell_type": "code",
   "execution_count": 34,
   "metadata": {},
   "outputs": [
    {
     "data": {
      "text/plain": [
       "[41.13329245583629,\n",
       " 8.18459548035298,\n",
       " 11.789198927555862,\n",
       " 12.254633093712542,\n",
       " 12.769823848681572,\n",
       " 13.334389065753157,\n",
       " 0.4146936399936494,\n",
       " 0.11937348811394496]"
      ]
     },
     "execution_count": 34,
     "metadata": {},
     "output_type": "execute_result"
    }
   ],
   "source": [
    "# Getting the explained variance\n",
    "[ (i / np.sum(eig_value) ) * 100 for i in eig_value]"
   ]
  },
  {
   "cell_type": "code",
   "execution_count": 35,
   "metadata": {},
   "outputs": [
    {
     "data": {
      "text/plain": [
       "[41.13329245583629,\n",
       " 13.334389065753157,\n",
       " 12.769823848681572,\n",
       " 12.254633093712542,\n",
       " 11.789198927555862,\n",
       " 8.18459548035298,\n",
       " 0.4146936399936494,\n",
       " 0.11937348811394496]"
      ]
     },
     "execution_count": 35,
     "metadata": {},
     "output_type": "execute_result"
    }
   ],
   "source": [
    "# Let us sort this to get a better view\n",
    "# Keep in mind, (in this example) when this is sorted, it is not reflective of the associated eigenvector\n",
    "# Basically at this stage, we are getting ahead of ourselves\n",
    "# This is meant to give us a peek. That is all!\n",
    "sorted([ (i / np.sum(eig_value) ) * 100 for i in eig_value], reverse=True)"
   ]
  },
  {
   "attachments": {},
   "cell_type": "markdown",
   "metadata": {},
   "source": [
    "Still peeking, we can get a cumulative sum of the results <br>\n",
    "It seems like with 3 principal components, we should get about 67% of the meaning of our data <br>\n",
    "2 Principal Components only give us 54% <br>\n",
    "4 vectors give us 79% and 5 give us 91% <br>\n",
    "At this point, even if we took 5 Principal Components with 91%, it is still less features than the original 8 <br>\n",
    "5/8 of our original features means 63% of our original features <br>\n",
    "\n",
    "Imagine ... once again, at first glance ...  <br>\n",
    "We are able to take 63% of our original features of our dataset and maintains 91% of the meaning of the data <br>\n",
    "If we take 6 Principal Components, we are able to get 99.5% of the meaning of our data. <br>\n",
    "All of this without using all of our original features <br>\n",
    "\n",
    "Once again, this is a sneak peek from the eigenvalue perspective  <br>\n",
    "The data as seen below, will need to be mapped to the eigenvector <br>\n",
    "We will fix and confirm this below. <br>"
   ]
  },
  {
   "cell_type": "code",
   "execution_count": 36,
   "metadata": {},
   "outputs": [
    {
     "data": {
      "text/plain": [
       "array([ 41.13329246,  54.46768152,  67.23750537,  79.49213846,\n",
       "        91.28133739,  99.46593287,  99.88062651, 100.        ])"
      ]
     },
     "execution_count": 36,
     "metadata": {},
     "output_type": "execute_result"
    }
   ],
   "source": [
    "# Peeking at the cumulative sum\n",
    "np.cumsum(sorted([ (i / np.sum(eig_value) ) * 100 for i in eig_value], reverse=True))"
   ]
  },
  {
   "cell_type": "code",
   "execution_count": null,
   "metadata": {},
   "outputs": [],
   "source": []
  },
  {
   "cell_type": "code",
   "execution_count": 37,
   "metadata": {},
   "outputs": [
    {
     "data": {
      "text/plain": [
       "[(3.2906641392495866,\n",
       "  array([-0.00384108,  0.05103953,  0.14525053,  0.11339098,  0.52453684,\n",
       "          0.45032698,  0.52468856,  0.45846877])),\n",
       " (0.6547677862252037,\n",
       "  array([-0.00505299, -0.0553955 , -0.42996113,  0.34960956,  0.26242546,\n",
       "          0.55267006, -0.24711271, -0.50441686])),\n",
       " (0.9431361270931606,\n",
       "  array([ 0.19814749,  0.36717972, -0.5056809 ,  0.58192763, -0.14048178,\n",
       "         -0.32528483,  0.14472324,  0.29167367])),\n",
       " (0.980370868790479,\n",
       "  array([ 0.6705112 ,  0.61910615,  0.25157004, -0.18912935,  0.0575289 ,\n",
       "          0.14113182, -0.0993192 , -0.18701027])),\n",
       " (1.0215861384912872,\n",
       "  array([-0.7149068 ,  0.6831142 ,  0.09386086, -0.02348038,  0.01193903,\n",
       "          0.0353772 , -0.05379278, -0.09281336])),\n",
       " (1.066751366051901,\n",
       "  array([ 0.00439339,  0.095694  , -0.68278284, -0.69995803,  0.07984289,\n",
       "          0.04099439,  0.11373027,  0.11704572])),\n",
       " (0.0331754986880064,\n",
       "  array([ 0.00099558, -0.0143103 ,  0.00572403, -0.00319353,  0.78967563,\n",
       "         -0.53718089, -0.29331631, -0.03957148])),\n",
       " (0.009549881204755337,\n",
       "  array([-0.0000279 ,  0.01434557, -0.00012409, -0.00178683, -0.05333156,\n",
       "          0.27301577, -0.72867373,  0.62565464]))]"
      ]
     },
     "execution_count": 37,
     "metadata": {},
     "output_type": "execute_result"
    }
   ],
   "source": [
    "# Create a tuple contains the eigen pairs\n",
    "eigen_pairs = [(np.abs(eig_value[i]), eig_vectors[:, i])  for i in range(len(eig_value))] \n",
    "eigen_pairs"
   ]
  },
  {
   "cell_type": "code",
   "execution_count": 38,
   "metadata": {},
   "outputs": [
    {
     "data": {
      "text/plain": [
       "(3.2906641392495866,\n",
       " array([-0.00384108,  0.05103953,  0.14525053,  0.11339098,  0.52453684,\n",
       "         0.45032698,  0.52468856,  0.45846877]))"
      ]
     },
     "execution_count": 38,
     "metadata": {},
     "output_type": "execute_result"
    }
   ],
   "source": [
    "# First value in the tuple is the eigenvalue\n",
    "# The second value is the associated eigenvector\n",
    "# We can confirm these by looking closer at the first record\n",
    "eigen_pairs[0]"
   ]
  },
  {
   "cell_type": "code",
   "execution_count": 39,
   "metadata": {},
   "outputs": [],
   "source": [
    "# With the associated eigenvector and eigenvalue\n",
    "# Time to sort by the eigenvalue \n",
    "# The values will be reversed with the highest value being at the top\n",
    "eigen_pairs.sort(key=lambda x: x[0], reverse=True)"
   ]
  },
  {
   "cell_type": "code",
   "execution_count": 40,
   "metadata": {},
   "outputs": [],
   "source": [
    "# Get the sorted eigenvalues eigen_pairs"
   ]
  },
  {
   "cell_type": "code",
   "execution_count": 41,
   "metadata": {},
   "outputs": [
    {
     "data": {
      "text/plain": [
       "[3.2906641392495866,\n",
       " 1.066751366051901,\n",
       " 1.0215861384912872,\n",
       " 0.980370868790479,\n",
       " 0.9431361270931606,\n",
       " 0.6547677862252037,\n",
       " 0.0331754986880064,\n",
       " 0.009549881204755337]"
      ]
     },
     "execution_count": 41,
     "metadata": {},
     "output_type": "execute_result"
    }
   ],
   "source": [
    "# Alternatively, we can extract the eigenvalues from this sorted eigen pair\n",
    "[i[0] for i in eigen_pairs ]"
   ]
  },
  {
   "cell_type": "code",
   "execution_count": 42,
   "metadata": {},
   "outputs": [
    {
     "data": {
      "text/plain": [
       "[3.2906641392495866,\n",
       " 1.066751366051901,\n",
       " 1.0215861384912872,\n",
       " 0.980370868790479,\n",
       " 0.9431361270931606,\n",
       " 0.6547677862252037,\n",
       " 0.0331754986880064,\n",
       " 0.009549881204755337]"
      ]
     },
     "execution_count": 42,
     "metadata": {},
     "output_type": "execute_result"
    }
   ],
   "source": [
    "# Let's use this as our new eigenvalues\n",
    "# Difference being I assigned it to a variable\n",
    "new_eigenvalues = [i[0] for i in eigen_pairs ]\n",
    "new_eigenvalues"
   ]
  },
  {
   "cell_type": "code",
   "execution_count": 43,
   "metadata": {},
   "outputs": [
    {
     "data": {
      "text/plain": [
       "[41.13329245583629,\n",
       " 13.334389065753157,\n",
       " 12.769823848681572,\n",
       " 12.254633093712542,\n",
       " 11.789198927555862,\n",
       " 8.18459548035298,\n",
       " 0.4146936399936494,\n",
       " 0.11937348811394496]"
      ]
     },
     "execution_count": 43,
     "metadata": {},
     "output_type": "execute_result"
    }
   ],
   "source": [
    "# Now let's stop peeking and actually find the corresponding eigenvectors and value\n",
    "# These numbers are the same as above, when we were peeking\n",
    "# However, these can be tied back to their eigenvectors\n",
    "[ (i / np.sum(new_eigenvalues) ) * 100 for i in new_eigenvalues]"
   ]
  },
  {
   "cell_type": "code",
   "execution_count": 44,
   "metadata": {},
   "outputs": [
    {
     "data": {
      "text/plain": [
       "array([ 41.13329246,  54.46768152,  67.23750537,  79.49213846,\n",
       "        91.28133739,  99.46593287,  99.88062651, 100.        ])"
      ]
     },
     "execution_count": 44,
     "metadata": {},
     "output_type": "execute_result"
    }
   ],
   "source": [
    "# Leveraging the cumulative sum as we did above\n",
    "# This once again confirms or peeking above\n",
    "# Remember, we can map this to the associated vector\n",
    "# As a result, we can say,\n",
    "# the first vector represents 41% of the meaning of our data\n",
    "# The first 2 vectors represent 54.5%\n",
    "# The first 3 67.2%\n",
    "# etc ....\n",
    "eigenvalue_cum_sum = np.cumsum([ (i / np.sum(new_eigenvalues) ) * 100 for i in new_eigenvalues])\n",
    "eigenvalue_cum_sum "
   ]
  },
  {
   "cell_type": "code",
   "execution_count": 45,
   "metadata": {},
   "outputs": [
    {
     "data": {
      "text/plain": [
       "<matplotlib.legend.Legend at 0x1546dfa52d0>"
      ]
     },
     "execution_count": 45,
     "metadata": {},
     "output_type": "execute_result"
    },
    {
     "data": {
      "image/png": "[encoded data removed]",
      "text/plain": [
       "<Figure size 640x480 with 1 Axes>"
      ]
     },
     "metadata": {},
     "output_type": "display_data"
    }
   ],
   "source": [
    "# Making this more visual\n",
    "# Leveraging some of the stuff we learned about in the matplotlib notebook\n",
    "#   05 - Beginning Matplotlib\n",
    "plt.style.use('ggplot')\n",
    "plt.title('Explained Variance vs Principal Components')\n",
    "plt.bar(x=range(len(eigenvalue_cum_sum)), height=[ (i / np.sum(new_eigenvalues) ) * 100 \\\n",
    "                                                  for i in new_eigenvalues], label='Principal Components' )\n",
    "plt.step(x=range(len(eigenvalue_cum_sum)), y=eigenvalue_cum_sum, c='b', \\\n",
    "         linestyle='-', linewidth=3, label='cumulative sum')\n",
    "plt.xlabel('Principal Components / Eigen Vectors')\n",
    "plt.ylabel('Explained Variance')\n",
    "plt.legend(loc='best')"
   ]
  },
  {
   "cell_type": "code",
   "execution_count": 46,
   "metadata": {},
   "outputs": [
    {
     "data": {
      "text/plain": [
       "(array([-0.00384108,  0.05103953,  0.14525053,  0.11339098,  0.52453684,\n",
       "         0.45032698,  0.52468856,  0.45846877]),\n",
       " array([ 0.00439339,  0.095694  , -0.68278284, -0.69995803,  0.07984289,\n",
       "         0.04099439,  0.11373027,  0.11704572]),\n",
       " array([-0.7149068 ,  0.6831142 ,  0.09386086, -0.02348038,  0.01193903,\n",
       "         0.0353772 , -0.05379278, -0.09281336]),\n",
       " array([ 0.6705112 ,  0.61910615,  0.25157004, -0.18912935,  0.0575289 ,\n",
       "         0.14113182, -0.0993192 , -0.18701027]),\n",
       " array([ 0.19814749,  0.36717972, -0.5056809 ,  0.58192763, -0.14048178,\n",
       "        -0.32528483,  0.14472324,  0.29167367]),\n",
       " array([-0.00505299, -0.0553955 , -0.42996113,  0.34960956,  0.26242546,\n",
       "         0.55267006, -0.24711271, -0.50441686]))"
      ]
     },
     "execution_count": 46,
     "metadata": {},
     "output_type": "execute_result"
    }
   ],
   "source": [
    "# Let's now create our projection matrix\n",
    "# using the top 6 of 8 vectors\n",
    "# here is what those top  vectors look like\n",
    "eigen_pairs[0][1], eigen_pairs[1][1], eigen_pairs[2][1], eigen_pairs[3][1], eigen_pairs[4][1], eigen_pairs[5][1]"
   ]
  },
  {
   "cell_type": "code",
   "execution_count": 47,
   "metadata": {},
   "outputs": [
    {
     "data": {
      "text/plain": [
       "(3.2906641392495866,\n",
       " 1.066751366051901,\n",
       " 1.0215861384912872,\n",
       " 0.980370868790479,\n",
       " 0.9431361270931606,\n",
       " 0.6547677862252037)"
      ]
     },
     "execution_count": 47,
     "metadata": {},
     "output_type": "execute_result"
    }
   ],
   "source": [
    "# Get the eigen values this way if we wish also\n",
    "eigen_pairs[0][0], eigen_pairs[1][0], eigen_pairs[2][0], eigen_pairs[3][0], eigen_pairs[4][0], eigen_pairs[5][0]"
   ]
  },
  {
   "cell_type": "code",
   "execution_count": 48,
   "metadata": {},
   "outputs": [
    {
     "data": {
      "text/plain": [
       "(array([[-0.00384108],\n",
       "        [ 0.05103953],\n",
       "        [ 0.14525053],\n",
       "        [ 0.11339098],\n",
       "        [ 0.52453684],\n",
       "        [ 0.45032698],\n",
       "        [ 0.52468856],\n",
       "        [ 0.45846877]]),\n",
       " array([[ 0.00439339],\n",
       "        [ 0.095694  ],\n",
       "        [-0.68278284],\n",
       "        [-0.69995803],\n",
       "        [ 0.07984289],\n",
       "        [ 0.04099439],\n",
       "        [ 0.11373027],\n",
       "        [ 0.11704572]]),\n",
       " array([[-0.7149068 ],\n",
       "        [ 0.6831142 ],\n",
       "        [ 0.09386086],\n",
       "        [-0.02348038],\n",
       "        [ 0.01193903],\n",
       "        [ 0.0353772 ],\n",
       "        [-0.05379278],\n",
       "        [-0.09281336]]),\n",
       " array([[ 0.6705112 ],\n",
       "        [ 0.61910615],\n",
       "        [ 0.25157004],\n",
       "        [-0.18912935],\n",
       "        [ 0.0575289 ],\n",
       "        [ 0.14113182],\n",
       "        [-0.0993192 ],\n",
       "        [-0.18701027]]),\n",
       " array([[ 0.19814749],\n",
       "        [ 0.36717972],\n",
       "        [-0.5056809 ],\n",
       "        [ 0.58192763],\n",
       "        [-0.14048178],\n",
       "        [-0.32528483],\n",
       "        [ 0.14472324],\n",
       "        [ 0.29167367]]),\n",
       " array([[-0.00505299],\n",
       "        [-0.0553955 ],\n",
       "        [-0.42996113],\n",
       "        [ 0.34960956],\n",
       "        [ 0.26242546],\n",
       "        [ 0.55267006],\n",
       "        [-0.24711271],\n",
       "        [-0.50441686]]))"
      ]
     },
     "execution_count": 48,
     "metadata": {},
     "output_type": "execute_result"
    }
   ],
   "source": [
    "# Next up, reshape this data\n",
    "# -1, 1 means, any number of rows but only 1 column\n",
    "# See the following notesbooks to understand resharping\n",
    "#   01 - Beginning Numpy\n",
    "#   02 - Beginning Tensorflow\n",
    "#   03 - Beginning PyTorch\n",
    "eigen_pairs[0][1].reshape(-1, 1), eigen_pairs[1][1].reshape(-1, 1), \\\n",
    "eigen_pairs[2][1].reshape(-1, 1), eigen_pairs[3][1].reshape(-1, 1), \\\n",
    "eigen_pairs[4][1].reshape(-1, 1), eigen_pairs[5][1].reshape(-1, 1)\n"
   ]
  },
  {
   "cell_type": "code",
   "execution_count": 49,
   "metadata": {},
   "outputs": [
    {
     "data": {
      "text/plain": [
       "(array([[-0.00384108,  0.00439339, -0.7149068 ,  0.6705112 ,  0.19814749,\n",
       "         -0.00505299],\n",
       "        [ 0.05103953,  0.095694  ,  0.6831142 ,  0.61910615,  0.36717972,\n",
       "         -0.0553955 ],\n",
       "        [ 0.14525053, -0.68278284,  0.09386086,  0.25157004, -0.5056809 ,\n",
       "         -0.42996113],\n",
       "        [ 0.11339098, -0.69995803, -0.02348038, -0.18912935,  0.58192763,\n",
       "          0.34960956],\n",
       "        [ 0.52453684,  0.07984289,  0.01193903,  0.0575289 , -0.14048178,\n",
       "          0.26242546],\n",
       "        [ 0.45032698,  0.04099439,  0.0353772 ,  0.14113182, -0.32528483,\n",
       "          0.55267006],\n",
       "        [ 0.52468856,  0.11373027, -0.05379278, -0.0993192 ,  0.14472324,\n",
       "         -0.24711271],\n",
       "        [ 0.45846877,  0.11704572, -0.09281336, -0.18701027,  0.29167367,\n",
       "         -0.50441686]]),\n",
       " (8, 6))"
      ]
     },
     "execution_count": 49,
     "metadata": {},
     "output_type": "execute_result"
    }
   ],
   "source": [
    "# With the data restored, time to stack them all together horizontally\n",
    "projection_matrix = np.hstack((eigen_pairs[0][1].reshape(-1, 1), \n",
    "                               eigen_pairs[1][1].reshape(-1, 1), eigen_pairs[2][1].reshape(-1, 1), \n",
    "                               eigen_pairs[3][1].reshape(-1, 1), eigen_pairs[4][1].reshape(-1, 1), \n",
    "                               eigen_pairs[5][1].reshape(-1, 1)))\n",
    "projection_matrix, projection_matrix.shape"
   ]
  },
  {
   "cell_type": "code",
   "execution_count": 50,
   "metadata": {},
   "outputs": [
    {
     "data": {
      "text/plain": [
       "array([[2., 3., 4., 5., 6., 7., 8., 9.]])"
      ]
     },
     "execution_count": 50,
     "metadata": {},
     "output_type": "execute_result"
    }
   ],
   "source": [
    "# Now to test the projection, let's create a sample with 8 features\n",
    "our_test_sample = np.array([2,3,4,5,6,7,8,9], dtype=float, ndmin=2)\n",
    "our_test_sample"
   ]
  },
  {
   "cell_type": "code",
   "execution_count": 51,
   "metadata": {},
   "outputs": [
    {
     "data": {
      "text/plain": [
       "((1, 8), (8, 6))"
      ]
     },
     "execution_count": 51,
     "metadata": {},
     "output_type": "execute_result"
    }
   ],
   "source": [
    "# By looking at the shape of the matrix and the vector\n",
    "# We see the inner dimension has 8 and the outer has 1 and 6\n",
    "# Hence, we can conclude we can compute the dot product here\n",
    "# and at the same time, we know our output will be 1x6\n",
    "our_test_sample.shape, projection_matrix.shape"
   ]
  },
  {
   "cell_type": "code",
   "execution_count": 52,
   "metadata": {},
   "outputs": [
    {
     "data": {
      "text/plain": [
       "(array([[15.91663073, -3.20578105, -0.06881737,  2.11442441,  3.0477132 ,\n",
       "         -1.2214995 ]]),\n",
       " (1, 6))"
      ]
     },
     "execution_count": 52,
     "metadata": {},
     "output_type": "execute_result"
    }
   ],
   "source": [
    "# Now find the dot product of our test sample and our projection matrix\n",
    "# Our sample consists of 8 items or 8 dimensions or 8 features\n",
    "# However, after projection, we now have 6 dimensions or 6 items or 6 features\n",
    "np.dot(our_test_sample, projection_matrix), np.dot(our_test_sample, projection_matrix).shape"
   ]
  },
  {
   "cell_type": "code",
   "execution_count": 54,
   "metadata": {},
   "outputs": [
    {
     "data": {
      "text/plain": [
       "(array([[-0.04207179,  0.03459269, -5.67743022,  5.30281748,  1.55934372,\n",
       "         -0.03749403],\n",
       "        [-0.03598323,  0.02762864, -4.54421889,  4.23997839,  1.24525665,\n",
       "         -0.02948445],\n",
       "        [-0.03598698,  0.02763292, -4.54491597,  4.24063218,  1.24544985,\n",
       "         -0.02948938],\n",
       "        ...,\n",
       "        [-0.01002715, -0.00037321,  0.05611218, -0.07503754, -0.02947783,\n",
       "          0.0024257 ],\n",
       "        [-0.01002715, -0.00037321,  0.05611218, -0.07503754, -0.02947783,\n",
       "          0.0024257 ],\n",
       "        [-0.01002715, -0.00037321,  0.05611218, -0.07503754, -0.02947783,\n",
       "          0.0024257 ]]),\n",
       " (4430183, 6))"
      ]
     },
     "execution_count": 54,
     "metadata": {},
     "output_type": "execute_result"
    }
   ],
   "source": [
    "# With that understanding in place, we can now project our entire scaled dataset\n",
    "# from 8 to 6 dimensions and get teh shapes\n",
    "df_conn_pca = df_conn_scaled.dot(projection_matrix)\n",
    "df_conn_pca, df_conn_pca.shape"
   ]
  },
  {
   "cell_type": "code",
   "execution_count": 55,
   "metadata": {},
   "outputs": [
    {
     "data": {
      "text/plain": [
       "Text(0, 0.5, 'PC2')"
      ]
     },
     "execution_count": 55,
     "metadata": {},
     "output_type": "execute_result"
    },
    {
     "data": {
      "image/png": "[encoded data removed]",
      "text/plain": [
       "<Figure size 640x480 with 1 Axes>"
      ]
     },
     "metadata": {},
     "output_type": "display_data"
    }
   ],
   "source": [
    "# Let's plot a 2d scatter plot of the first 2 Principal Components\n",
    "plt.title('PC1 vs Pc2')\n",
    "plt.scatter(x=df_conn_pca[:,0], y=df_conn_pca[:, 1], s=50)\n",
    "plt.xlabel('PC1')\n",
    "plt.ylabel('PC2')"
   ]
  },
  {
   "cell_type": "code",
   "execution_count": 56,
   "metadata": {},
   "outputs": [
    {
     "data": {
      "image/png": "[encoded data removed]",
      "text/plain": [
       "<Figure size 600x600 with 1 Axes>"
      ]
     },
     "metadata": {},
     "output_type": "display_data"
    }
   ],
   "source": [
    "# Looking at the first 3 components via a 3d Plot\n",
    "fig = plt.figure(figsize=(6,6))\n",
    "ax = fig.add_subplot(projection='3d')\n",
    "ax.scatter(xs=df_conn_pca[:,0], ys=df_conn_pca[:, 1], zs=df_conn_pca[:, 2], s=50)\n",
    "ax.set_xlabel('PC1')\n",
    "ax.set_ylabel('PC2')\n",
    "ax.set_zlabel('PC3')\n",
    "plt.tight_layout()"
   ]
  },
  {
   "cell_type": "code",
   "execution_count": null,
   "metadata": {},
   "outputs": [],
   "source": []
  },
  {
   "cell_type": "code",
   "execution_count": 57,
   "metadata": {},
   "outputs": [],
   "source": [
    "# Using sklearn PCA instead \n",
    "# https://scikit-learn.org/stable/modules/generated/sklearn.decomposition.PCA.html \n",
    "from sklearn.decomposition import PCA"
   ]
  },
  {
   "cell_type": "code",
   "execution_count": 58,
   "metadata": {},
   "outputs": [
    {
     "data": {
      "text/plain": [
       "array([[  8.79496985,   7.07980876,   1.61583524,   8.73873236,\n",
       "          0.80069904, -11.79601373,  -0.99532868,  -0.51068582],\n",
       "       [-45.45254759, -20.70311415,  -1.99135324,  -9.62607653,\n",
       "         -3.15936651, -33.23121154, -21.23265589, -15.65526595]])"
      ]
     },
     "execution_count": 58,
     "metadata": {},
     "output_type": "execute_result"
    }
   ],
   "source": [
    "# Rather than start off assuming how many Principal Components we need\n",
    "# I am instead transforming the entire dataset\n",
    "# This way, the number of PCs returned will be equaled to the number of dimensions\n",
    "# Once the PCs are returned, I can then visualize the results to decide how \n",
    "#   many PCs I need based for this specific dataset\n",
    "pca = PCA(n_components=None, random_state=10)\n",
    "\n",
    "# Like we did when scaling data, we train on the test data\n",
    "#   06 - Beginning Data Scaling\n",
    "pca.fit(df_conn_scaled)\n",
    "\n",
    "# Now we can transform on the scaled data as well as the test data when needed\n",
    "df_conn_pca = pca.fit_transform(df_conn_scaled)\n",
    "\n",
    "# Sample showing two of the transformed data\n",
    "df_conn_pca[:2]"
   ]
  },
  {
   "cell_type": "code",
   "execution_count": 61,
   "metadata": {},
   "outputs": [
    {
     "data": {
      "text/plain": [
       "array([[-0.03726172,  0.19587434,  0.00890328,  0.33043772,  0.61432761,\n",
       "         0.0822471 ,  0.54437299,  0.41288195],\n",
       "       [-0.3324217 ,  0.68805917,  0.19695357, -0.29283329, -0.00834845,\n",
       "         0.52349946, -0.10200451, -0.08367825],\n",
       "       [ 0.18648645, -0.0599546 ,  0.96953005,  0.04448135, -0.00206188,\n",
       "        -0.1396985 ,  0.00936173,  0.00731991],\n",
       "       [ 0.90048288,  0.12319981, -0.107383  , -0.2069485 ,  0.07450526,\n",
       "         0.33759619,  0.00826404,  0.001758  ],\n",
       "       [ 0.02820782, -0.08077564,  0.0289124 ,  0.76755357, -0.36004626,\n",
       "         0.51545452, -0.07443414, -0.04287297],\n",
       "       [-0.20407138, -0.67755016,  0.09365335, -0.35441764,  0.16381318,\n",
       "         0.56480322,  0.11192626,  0.08082639],\n",
       "       [-0.0043066 , -0.06088578,  0.00187006,  0.20917341,  0.67236724,\n",
       "         0.03133192, -0.63745034, -0.30514756],\n",
       "       [-0.0011891 , -0.01136084, -0.00016156,  0.04182623,  0.09181958,\n",
       "         0.00437497,  0.51834963, -0.84910762]])"
      ]
     },
     "execution_count": 61,
     "metadata": {},
     "output_type": "execute_result"
    }
   ],
   "source": [
    "# Get the principal components\n",
    "pca.components_"
   ]
  },
  {
   "cell_type": "code",
   "execution_count": 63,
   "metadata": {},
   "outputs": [
    {
     "data": {
      "text/plain": [
       "(8, 8)"
      ]
     },
     "execution_count": 63,
     "metadata": {},
     "output_type": "execute_result"
    }
   ],
   "source": [
    "# Get the shape of the principal components matrix\n",
    "# Because we had 8 features, we now have an 8x8 pca matrix\n",
    "# This is just like we were able to do with our manual process\n",
    "pca.components_.shape"
   ]
  },
  {
   "cell_type": "code",
   "execution_count": 64,
   "metadata": {},
   "outputs": [
    {
     "data": {
      "text/plain": [
       "array([[ 1.00000023, -0.01595392, -0.00108186, -0.00376551, -0.00323993,\n",
       "        -0.00105846, -0.00303252, -0.00321629],\n",
       "       [-0.01595392,  0.99976559,  0.00789002,  0.00261135,  0.04440196,\n",
       "         0.03559697,  0.02496402,  0.01046547],\n",
       "       [-0.00108186,  0.00789002,  0.99991369,  0.00001772,  0.00056858,\n",
       "         0.00045328,  0.00044125,  0.00008907],\n",
       "       [-0.00376551,  0.00261135,  0.00001772,  0.99998213,  0.0290549 ,\n",
       "         0.00193403,  0.06109936,  0.07691121],\n",
       "       [-0.00323993,  0.04440196,  0.00056858,  0.0290549 ,  0.99210828,\n",
       "         0.00757787,  0.13594472,  0.16312377],\n",
       "       [-0.00105846,  0.03559697,  0.00045328,  0.00193403,  0.00757787,\n",
       "         0.98730934,  0.00982986,  0.01019212],\n",
       "       [-0.00303252,  0.02496402,  0.00044125,  0.06109936,  0.13594472,\n",
       "         0.00982986,  0.79207951,  0.34273273],\n",
       "       [-0.00321629,  0.01046547,  0.00008907,  0.07691121,  0.16312377,\n",
       "         0.01019212,  0.34273273,  0.48977465]])"
      ]
     },
     "execution_count": 64,
     "metadata": {},
     "output_type": "execute_result"
    }
   ],
   "source": [
    "# Get the PCA covariance\n",
    "pca.get_covariance()"
   ]
  },
  {
   "cell_type": "code",
   "execution_count": 65,
   "metadata": {},
   "outputs": [
    {
     "data": {
      "text/plain": [
       "(8, 8)"
      ]
     },
     "execution_count": 65,
     "metadata": {},
     "output_type": "execute_result"
    }
   ],
   "source": [
    "# Get the shape of the PCA covariance\n",
    "pca.get_covariance().shape"
   ]
  },
  {
   "cell_type": "code",
   "execution_count": 66,
   "metadata": {},
   "outputs": [
    {
     "data": {
      "text/plain": [
       "array([1.25321095, 1.03019151, 0.99915691, 0.99811288, 0.97701809,\n",
       "       0.9494548 , 0.79458481, 0.25920346])"
      ]
     },
     "execution_count": 66,
     "metadata": {},
     "output_type": "execute_result"
    }
   ],
   "source": [
    "# Get the eigen values\n",
    "pca.explained_variance_"
   ]
  },
  {
   "cell_type": "code",
   "execution_count": 67,
   "metadata": {},
   "outputs": [
    {
     "data": {
      "text/plain": [
       "array([0.1725964 , 0.14188142, 0.13760723, 0.13746344, 0.13455819,\n",
       "       0.13076209, 0.10943287, 0.03569837])"
      ]
     },
     "execution_count": 67,
     "metadata": {},
     "output_type": "execute_result"
    }
   ],
   "source": [
    "# Get the explained variance ratio\n",
    "# This is how much each principal component represents this data\n",
    "pca.explained_variance_ratio_ "
   ]
  },
  {
   "cell_type": "code",
   "execution_count": 68,
   "metadata": {},
   "outputs": [
    {
     "data": {
      "text/plain": [
       "Text(0, 0.5, 'Explained variance ratio')"
      ]
     },
     "execution_count": 68,
     "metadata": {},
     "output_type": "execute_result"
    },
    {
     "data": {
      "image/png": "[encoded data removed]",
      "text/plain": [
       "<Figure size 640x480 with 1 Axes>"
      ]
     },
     "metadata": {},
     "output_type": "display_data"
    }
   ],
   "source": [
    "# Plotting the explained variance ratio\n",
    "plt.title('Explained variance ratio')\n",
    "plt.plot(pca.explained_variance_ratio_)\n",
    "plt.xlabel(xlabel='Number of Principal Components')\n",
    "plt.ylabel(ylabel='Explained variance ratio')"
   ]
  },
  {
   "cell_type": "code",
   "execution_count": 69,
   "metadata": {},
   "outputs": [
    {
     "data": {
      "text/plain": [
       "Text(0, 0.5, 'Explained variance ratio')"
      ]
     },
     "execution_count": 69,
     "metadata": {},
     "output_type": "execute_result"
    },
    {
     "data": {
      "image/png": "[encoded data removed]",
      "text/plain": [
       "<Figure size 640x480 with 1 Axes>"
      ]
     },
     "metadata": {},
     "output_type": "display_data"
    }
   ],
   "source": [
    "# A bar char may be more meaningful\n",
    "plt.bar(range(0, len(pca.explained_variance_ratio_)), pca.explained_variance_ratio_)\n",
    "plt.xlabel(xlabel='Number of Principal Components')\n",
    "plt.ylabel(ylabel='Explained variance ratio')"
   ]
  },
  {
   "cell_type": "code",
   "execution_count": 70,
   "metadata": {},
   "outputs": [
    {
     "data": {
      "text/plain": [
       "Text(0, 0.5, 'Explained variance ratio')"
      ]
     },
     "execution_count": 70,
     "metadata": {},
     "output_type": "execute_result"
    },
    {
     "data": {
      "image/png": "[encoded data removed]",
      "text/plain": [
       "<Figure size 640x480 with 1 Axes>"
      ]
     },
     "metadata": {},
     "output_type": "display_data"
    }
   ],
   "source": [
    "# Or maybe we wish to leverage some of the tricks learned in the Matplotlib notebook\n",
    "#   05 - Beginning Matplotlib\n",
    "# and have both graphs in one\n",
    "plt.title('Explained variance ratio')\n",
    "plt.plot(pca.explained_variance_ratio_, ls='-', c='b', lw=5)\n",
    "plt.bar(range(0, len(pca.explained_variance_ratio_)), pca.explained_variance_ratio_)\n",
    "plt.xlabel(xlabel='Number of Principal Components')\n",
    "plt.ylabel(ylabel='Explained variance ratio')"
   ]
  },
  {
   "cell_type": "code",
   "execution_count": 72,
   "metadata": {},
   "outputs": [
    {
     "data": {
      "text/plain": [
       "array([0.1725964 , 0.31447781, 0.45208504, 0.58954848, 0.72410667,\n",
       "       0.85486876, 0.96430163, 1.        ])"
      ]
     },
     "execution_count": 72,
     "metadata": {},
     "output_type": "execute_result"
    }
   ],
   "source": [
    "# Get the cumulative sum of the explained_variance_rato\n",
    "# When we look at the output of this command, we see 5 PCs get us to 72%\n",
    "# It take 6 PCs to get 85%\n",
    "# and 7 PCs to get to 96%\n",
    "np.cumsum(pca.explained_variance_ratio_ )"
   ]
  },
  {
   "cell_type": "code",
   "execution_count": 73,
   "metadata": {},
   "outputs": [
    {
     "data": {
      "text/plain": [
       "array([[-471.53478918, -106.90765016,  418.95331567,  128.44102861,\n",
       "           3.00648232,  -60.3578586 ],\n",
       "       [-175.82214105,  129.89416244, -123.12210194,   65.06650829,\n",
       "         -53.89756649,   18.66583178]])"
      ]
     },
     "execution_count": 73,
     "metadata": {},
     "output_type": "execute_result"
    }
   ],
   "source": [
    "# Considering above, we are more knowledgeable about the specific\n",
    "# number of principal components, we can use for this particular dataset\n",
    "# Let's tell the algorithm, to use 6 principal components as we would like to get about 85% of the meaning of the data\n",
    "pca = PCA(n_components=6, random_state=10)\n",
    "\n",
    "# In this case, I'm fitting and transforming at the same time\n",
    "df_conn_pca = pca.fit_transform(df_conn_scaled)\n",
    "\n",
    "# Sample showing two of the transformed data\n",
    "df_conn_pca[:2]"
   ]
  },
  {
   "cell_type": "code",
   "execution_count": 74,
   "metadata": {},
   "outputs": [
    {
     "data": {
      "text/plain": [
       "(4430183, 6)"
      ]
     },
     "execution_count": 74,
     "metadata": {},
     "output_type": "execute_result"
    }
   ],
   "source": [
    "# Get the shape fo the new PCA'd dataset\n",
    "df_conn_pca.shape"
   ]
  },
  {
   "cell_type": "code",
   "execution_count": 76,
   "metadata": {},
   "outputs": [],
   "source": [
    "# Now just as we were able to tell the model the number of principal components we need,\n",
    "# We can also tell it the amount of meaning of the data we would like to retain\n",
    "pca = PCA(n_components=.85, random_state=10)\n",
    "df_conn_pca = pca.fit_transform(df_conn_scaled)\n"
   ]
  },
  {
   "cell_type": "code",
   "execution_count": 77,
   "metadata": {},
   "outputs": [
    {
     "data": {
      "text/plain": [
       "6"
      ]
     },
     "execution_count": 77,
     "metadata": {},
     "output_type": "execute_result"
    }
   ],
   "source": [
    "# When we validate the above command, we see it reports 6 Principal Components\n",
    "pca.n_components_"
   ]
  },
  {
   "cell_type": "code",
   "execution_count": 78,
   "metadata": {},
   "outputs": [
    {
     "data": {
      "text/plain": [
       "5"
      ]
     },
     "execution_count": 78,
     "metadata": {},
     "output_type": "execute_result"
    }
   ],
   "source": [
    "# Changing the number of .70 to get 70% of the meaning of the data\n",
    "# gives us 5 PCs.\n",
    "pca = PCA(n_components=.70, random_state=10)\n",
    "df_conn_pca = pca.fit_transform(df_conn_scaled)\n",
    "pca.n_components_"
   ]
  },
  {
   "cell_type": "code",
   "execution_count": null,
   "metadata": {},
   "outputs": [],
   "source": []
  },
  {
   "attachments": {},
   "cell_type": "markdown",
   "metadata": {},
   "source": [
    "Reference and other good reads: <br>\n",
    "    https://datascienceplus.com/understanding-the-covariance-matrix/ <br>\n",
    "    https://sebastianraschka.com/Articles/2015_pca_in_3_steps.html <br>\n",
    "    https://programmathically.com/singular-value-decomposition/ <br>\n",
    "    https://medium.com/analytics-vidhya/principal-component-analysis-pca-112157c2d691 <br>\n",
    "    https://towardsdatascience.com/pca-and-svd-explained-with-numpy-5d13b0d2a4d8 <br>\n",
    "    https://sebastianraschka.com/Articles/2014_python_lda.html <br>\n",
    "    https://builtin.com/data-science/step-step-explanation-principal-component-analysis <br>"
   ]
  },
  {
   "cell_type": "code",
   "execution_count": null,
   "metadata": {},
   "outputs": [],
   "source": []
  },
  {
   "attachments": {},
   "cell_type": "markdown",
   "metadata": {},
   "source": [
    "### So what have we done so far. <br>\n",
    "We learned about Numpy <br>\n",
    "    01.  Beginning Numpy <br>\n",
    "\n",
    "We learned about Tensorflow <br>\n",
    "    02.  Beginning Tensorflow <br>\n",
    "\n",
    "We learned about PyTorch <br>\n",
    "    03.  Beginning PyTorch <br>\n",
    "\n",
    "We learned about our data via Pandas <br>\n",
    "    04.  Beginning Pandas <br>\n",
    "\n",
    "We visualized our data while learning about Matplotlib <br>\n",
    "    05.  Beginning Matplotlib <br>\n",
    "\n",
    "We learned about scaling while tranforming our data <br>\n",
    "    06.  Beginning Data Scaling <br>\n",
    "\n",
    "We then reduced the dimensionality of the data, using unsupervised linear dimensionality reduction  <br>\n",
    "via PCA in this notebook. <br>\n",
    "    07 - Beginning Principal Component Analysis (PCA) <br>\n",
    "\n",
    "\n",
    "Time to build a few models"
   ]
  },
  {
   "cell_type": "code",
   "execution_count": null,
   "metadata": {},
   "outputs": [],
   "source": []
  },
  {
   "attachments": {},
   "cell_type": "markdown",
   "metadata": {},
   "source": []
  },
  {
   "attachments": {},
   "cell_type": "markdown",
   "metadata": {},
   "source": []
  }
 ],
 "metadata": {
  "kernelspec": {
   "display_name": "Python 3.9.13 ('main-env')",
   "language": "python",
   "name": "python3"
  },
  "language_info": {
   "codemirror_mode": {
    "name": "ipython",
    "version": 3
   },
   "file_extension": ".py",
   "mimetype": "text/x-python",
   "name": "python",
   "nbconvert_exporter": "python",
   "pygments_lexer": "ipython3",
   "version": "3.10.11"
  },
  "orig_nbformat": 4,
  "vscode": {
   "interpreter": {
    "hash": "dcb100998b7ef434a33dbfac35f576e40d01f04c34d9ff6f6aad819b8a88c169"
   }
  }
 },
 "nbformat": 4,
 "nbformat_minor": 2
}
