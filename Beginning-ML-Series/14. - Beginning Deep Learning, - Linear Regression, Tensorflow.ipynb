{
 "cells": [
  {
   "attachments": {},
   "cell_type": "markdown",
   "metadata": {},
   "source": [
    "Author: Nik Alleyne <br>\n",
    "Author Blog: https://www.securitynik.com <br>\n",
    "Author GitHub:github.com/securitynik <br>\n",
    "Author Books: [  <br>\n",
    "                \"https://www.amazon.ca/Learning-Practicing-Leveraging-Practical-Detection/dp/1731254458/\",  <br>\n",
    "                \"https://www.amazon.ca/Learning-Practicing-Mastering-Network-Forensics/dp/1775383024/\" <br>\n",
    "            ] <br>"
   ]
  },
  {
   "attachments": {},
   "cell_type": "markdown",
   "metadata": {},
   "source": [
    "## 14. Beginning Deep Learning, - Linear Regression, Tensorflow"
   ]
  },
  {
   "attachments": {},
   "cell_type": "markdown",
   "metadata": {},
   "source": [
    "This post is part of my beginning machine learning series.  <br>\n",
    "The series includes the following: <br>\n",
    "\n",
    "01 - Beginning Numpy <br>\n",
    "02 - Beginning Tensorflow  <br>\n",
    "03 - Beginning PyTorch <br>\n",
    "04 - Beginning Pandas <br>\n",
    "05 - Beginning Matplotlib <br>\n",
    "06 - Beginning Data Scaling <br>\n",
    "07 - Beginning Principal Component Analysis (PCA) <br>\n",
    "08 - Beginning Machine Learning Anomaly Detection - Isolation Forest and Local Outlier Factor <br>\n",
    "09 - Beginning Unsupervised Machine Learning - Clustering - K-means and DBSCAN <br>\n",
    "10 - Beginning Supervise Learning - Machine Learning - Logistic Regression, Decision Trees and Metrics <br>\n",
    "11 - Beginning Linear Regression - Machine Learning <br>\n",
    "12 - Beginning Deep Learning - Anomaly Detection with AutoEncoders, Tensorflow <br>\n",
    "13 - Beginning Deep Learning - Anomaly Detection with AutoEncoders, PyTroch <br>\n",
    "14 - Beginning Deep Learning, - Linear Regression, Tensorflow <br>\n",
    "15 - Beginning Deep Learning, - Linear Regression, PyTorch <br>\n",
    "16 - Beginning Deep Learning, - Classification, Tensorflow <br>\n",
    "17 - Beginning Deep Learning, - Classification, Pytorch <br>\n",
    "18 - Beginning Deep Learning, - Classification - regression - MIMO - Functional API Tensorflow <br> \n",
    "19 - Beginning Deep Learning, - Convolution Networks - Tensorflow <br>\n",
    "20 - Beginning Deep Learning, - Convolution Networks - PyTorch <br>\n",
    "21 - Beginning Regularization - Early Stopping, Dropout, L2 (Ridge), L1 (Lasso) <br>\n",
    "23 - Beginning Model TFServing <br>\n",
    "\n",
    "But conn.log is not the only file within Zeek. Let's build some models for DNS and HTTP logs. <br>\n",
    "I choose unsupervised, because there are no labels coming with these data. <br>\n",
    "\n",
    "24 - Continuing Anomaly Learning - Zeek DNS Log - Machine Learning <br>\n",
    "25 - Continuing Unsupervised Learning - Zeek HTTP Log - Machine Learning <br>\n",
    "\n",
    "This was a specific ask by someone in one of my class. <br>\n",
    "26 - Beginning - Reading Executables and Building a Neural Network to make predictions on suspicious vs suspicious  <br><br>\n",
    "\n",
    "With 26 notebooks in this series, it is quite possible there are things I could have or should have done differently.  <br>\n",
    "If you find any thing, you think fits those criteria, drop me a line. <br>"
   ]
  },
  {
   "cell_type": "code",
   "execution_count": 1,
   "metadata": {},
   "outputs": [],
   "source": [
    "# Let's import some libraries\n",
    "import pandas as pd\n",
    "import numpy as np\n",
    "import matplotlib.pyplot as plt"
   ]
  },
  {
   "cell_type": "code",
   "execution_count": 2,
   "metadata": {},
   "outputs": [
    {
     "data": {
      "text/html": [
       "<div>\n",
       "<style scoped>\n",
       "    .dataframe tbody tr th:only-of-type {\n",
       "        vertical-align: middle;\n",
       "    }\n",
       "\n",
       "    .dataframe tbody tr th {\n",
       "        vertical-align: top;\n",
       "    }\n",
       "\n",
       "    .dataframe thead th {\n",
       "        text-align: right;\n",
       "    }\n",
       "</style>\n",
       "<table border=\"1\" class=\"dataframe\">\n",
       "  <thead>\n",
       "    <tr style=\"text-align: right;\">\n",
       "      <th></th>\n",
       "      <th>id.orig_h</th>\n",
       "      <th>id.orig_p</th>\n",
       "      <th>id.resp_h</th>\n",
       "      <th>id.resp_p</th>\n",
       "      <th>duration</th>\n",
       "      <th>orig_bytes</th>\n",
       "      <th>resp_bytes</th>\n",
       "      <th>orig_pkts</th>\n",
       "      <th>orig_ip_bytes</th>\n",
       "      <th>resp_pkts</th>\n",
       "      <th>resp_ip_bytes</th>\n",
       "    </tr>\n",
       "  </thead>\n",
       "  <tbody>\n",
       "    <tr>\n",
       "      <th>0</th>\n",
       "      <td>127.0.0.1</td>\n",
       "      <td>27762</td>\n",
       "      <td>127.0.0.1</td>\n",
       "      <td>58552</td>\n",
       "      <td>0.000000</td>\n",
       "      <td>0</td>\n",
       "      <td>0</td>\n",
       "      <td>0</td>\n",
       "      <td>0</td>\n",
       "      <td>0</td>\n",
       "      <td>0</td>\n",
       "    </tr>\n",
       "    <tr>\n",
       "      <th>1</th>\n",
       "      <td>10.0.0.4</td>\n",
       "      <td>27761</td>\n",
       "      <td>10.0.0.4</td>\n",
       "      <td>48798</td>\n",
       "      <td>0.000000</td>\n",
       "      <td>0</td>\n",
       "      <td>0</td>\n",
       "      <td>0</td>\n",
       "      <td>0</td>\n",
       "      <td>0</td>\n",
       "      <td>0</td>\n",
       "    </tr>\n",
       "    <tr>\n",
       "      <th>2</th>\n",
       "      <td>10.0.0.4</td>\n",
       "      <td>27761</td>\n",
       "      <td>10.0.0.4</td>\n",
       "      <td>48804</td>\n",
       "      <td>0.000000</td>\n",
       "      <td>0</td>\n",
       "      <td>0</td>\n",
       "      <td>0</td>\n",
       "      <td>0</td>\n",
       "      <td>0</td>\n",
       "      <td>0</td>\n",
       "    </tr>\n",
       "    <tr>\n",
       "      <th>3</th>\n",
       "      <td>127.0.0.1</td>\n",
       "      <td>27762</td>\n",
       "      <td>127.0.0.1</td>\n",
       "      <td>58568</td>\n",
       "      <td>0.000000</td>\n",
       "      <td>0</td>\n",
       "      <td>0</td>\n",
       "      <td>0</td>\n",
       "      <td>0</td>\n",
       "      <td>0</td>\n",
       "      <td>0</td>\n",
       "    </tr>\n",
       "    <tr>\n",
       "      <th>4</th>\n",
       "      <td>10.0.0.4</td>\n",
       "      <td>48786</td>\n",
       "      <td>10.0.0.4</td>\n",
       "      <td>27761</td>\n",
       "      <td>0.000000</td>\n",
       "      <td>0</td>\n",
       "      <td>0</td>\n",
       "      <td>0</td>\n",
       "      <td>0</td>\n",
       "      <td>0</td>\n",
       "      <td>0</td>\n",
       "    </tr>\n",
       "    <tr>\n",
       "      <th>...</th>\n",
       "      <td>...</td>\n",
       "      <td>...</td>\n",
       "      <td>...</td>\n",
       "      <td>...</td>\n",
       "      <td>...</td>\n",
       "      <td>...</td>\n",
       "      <td>...</td>\n",
       "      <td>...</td>\n",
       "      <td>...</td>\n",
       "      <td>...</td>\n",
       "      <td>...</td>\n",
       "    </tr>\n",
       "    <tr>\n",
       "      <th>4430183</th>\n",
       "      <td>10.0.0.21</td>\n",
       "      <td>55757</td>\n",
       "      <td>10.0.0.4</td>\n",
       "      <td>9200</td>\n",
       "      <td>0.000051</td>\n",
       "      <td>0</td>\n",
       "      <td>0</td>\n",
       "      <td>1</td>\n",
       "      <td>52</td>\n",
       "      <td>1</td>\n",
       "      <td>40</td>\n",
       "    </tr>\n",
       "    <tr>\n",
       "      <th>4430184</th>\n",
       "      <td>10.0.0.4</td>\n",
       "      <td>37236</td>\n",
       "      <td>10.0.0.4</td>\n",
       "      <td>9200</td>\n",
       "      <td>0.000023</td>\n",
       "      <td>0</td>\n",
       "      <td>0</td>\n",
       "      <td>0</td>\n",
       "      <td>0</td>\n",
       "      <td>1</td>\n",
       "      <td>40</td>\n",
       "    </tr>\n",
       "    <tr>\n",
       "      <th>4430185</th>\n",
       "      <td>10.0.0.4</td>\n",
       "      <td>37244</td>\n",
       "      <td>10.0.0.4</td>\n",
       "      <td>9200</td>\n",
       "      <td>0.000005</td>\n",
       "      <td>0</td>\n",
       "      <td>0</td>\n",
       "      <td>0</td>\n",
       "      <td>0</td>\n",
       "      <td>1</td>\n",
       "      <td>40</td>\n",
       "    </tr>\n",
       "    <tr>\n",
       "      <th>4430186</th>\n",
       "      <td>10.0.0.4</td>\n",
       "      <td>37246</td>\n",
       "      <td>10.0.0.4</td>\n",
       "      <td>9200</td>\n",
       "      <td>0.000005</td>\n",
       "      <td>0</td>\n",
       "      <td>0</td>\n",
       "      <td>0</td>\n",
       "      <td>0</td>\n",
       "      <td>1</td>\n",
       "      <td>40</td>\n",
       "    </tr>\n",
       "    <tr>\n",
       "      <th>4430187</th>\n",
       "      <td>10.0.0.4</td>\n",
       "      <td>37254</td>\n",
       "      <td>10.0.0.4</td>\n",
       "      <td>9200</td>\n",
       "      <td>0.000005</td>\n",
       "      <td>0</td>\n",
       "      <td>0</td>\n",
       "      <td>0</td>\n",
       "      <td>0</td>\n",
       "      <td>1</td>\n",
       "      <td>40</td>\n",
       "    </tr>\n",
       "  </tbody>\n",
       "</table>\n",
       "<p>4430183 rows × 11 columns</p>\n",
       "</div>"
      ],
      "text/plain": [
       "         id.orig_h  id.orig_p  id.resp_h  id.resp_p  duration  orig_bytes   \n",
       "0        127.0.0.1      27762  127.0.0.1      58552  0.000000           0  \\\n",
       "1         10.0.0.4      27761   10.0.0.4      48798  0.000000           0   \n",
       "2         10.0.0.4      27761   10.0.0.4      48804  0.000000           0   \n",
       "3        127.0.0.1      27762  127.0.0.1      58568  0.000000           0   \n",
       "4         10.0.0.4      48786   10.0.0.4      27761  0.000000           0   \n",
       "...            ...        ...        ...        ...       ...         ...   \n",
       "4430183  10.0.0.21      55757   10.0.0.4       9200  0.000051           0   \n",
       "4430184   10.0.0.4      37236   10.0.0.4       9200  0.000023           0   \n",
       "4430185   10.0.0.4      37244   10.0.0.4       9200  0.000005           0   \n",
       "4430186   10.0.0.4      37246   10.0.0.4       9200  0.000005           0   \n",
       "4430187   10.0.0.4      37254   10.0.0.4       9200  0.000005           0   \n",
       "\n",
       "         resp_bytes  orig_pkts  orig_ip_bytes  resp_pkts  resp_ip_bytes  \n",
       "0                 0          0              0          0              0  \n",
       "1                 0          0              0          0              0  \n",
       "2                 0          0              0          0              0  \n",
       "3                 0          0              0          0              0  \n",
       "4                 0          0              0          0              0  \n",
       "...             ...        ...            ...        ...            ...  \n",
       "4430183           0          1             52          1             40  \n",
       "4430184           0          0              0          1             40  \n",
       "4430185           0          0              0          1             40  \n",
       "4430186           0          0              0          1             40  \n",
       "4430187           0          0              0          1             40  \n",
       "\n",
       "[4430183 rows x 11 columns]"
      ]
     },
     "execution_count": 2,
     "metadata": {},
     "output_type": "execute_result"
    }
   ],
   "source": [
    "# Load the data\n",
    "# This is the data we previously saved from the Pandas notebook\n",
    "df_conn = pd.read_csv(r'df_conn_cleaned.csv', index_col=0)\n",
    "df_conn"
   ]
  },
  {
   "attachments": {},
   "cell_type": "markdown",
   "metadata": {},
   "source": [
    "This file represents Zeek (formerly Bro) connection log - conn.log`. <br>\n",
    "Zeek is a framework used for Network Security Monitoring.  <br>\n",
    "This entire series is based on using Zeek's data.  <br>\n",
    "The majority of the notebooks use the conn.log <br>\n",
    "You can learn more about Zeek here:\n",
    "   \n",
    "    https://zeek.org/\n",
    "\n",
    "Alternatively, come hang out with us in the:\n",
    "SANS SEC595: Applied Data Science and Machine Learning for Cybersecurity Professionals\n",
    "\n",
    "        https://www.sans.org/cyber-security-courses/applied-data-science-machine-learning/ OR\n",
    "\n",
    "SEC503 SEC503: Network Monitoring and Threat Detection In-Depth\n",
    "\n",
    "        https://www.sans.org/cyber-security-courses/network-monitoring-threat-detection/\n",
    "\n",
    "\n",
    "Here are also some blog posts on using Zeek for security monitoring\n",
    "Installing Zeek: \n",
    "\n",
    "        https://www.securitynik.com/2020/06/installing-zeek-314-on-ubuntu-2004.html\n",
    "\n",
    "Detecting PowerShell Empire Usage: \n",
    "\n",
    "        https://www.securitynik.com/2022/02/powershell-empire-detection-with-zeek.html\n",
    "\n",
    "Detecting Log4J Vulnerability Exploitation: \n",
    "\n",
    "        https://www.securitynik.com/2021/12/continuing-log4shell-zeek-detection.html\n"
   ]
  },
  {
   "cell_type": "code",
   "execution_count": 3,
   "metadata": {},
   "outputs": [
    {
     "data": {
      "text/html": [
       "<div>\n",
       "<style scoped>\n",
       "    .dataframe tbody tr th:only-of-type {\n",
       "        vertical-align: middle;\n",
       "    }\n",
       "\n",
       "    .dataframe tbody tr th {\n",
       "        vertical-align: top;\n",
       "    }\n",
       "\n",
       "    .dataframe thead th {\n",
       "        text-align: right;\n",
       "    }\n",
       "</style>\n",
       "<table border=\"1\" class=\"dataframe\">\n",
       "  <thead>\n",
       "    <tr style=\"text-align: right;\">\n",
       "      <th></th>\n",
       "      <th>id.orig_h</th>\n",
       "      <th>id.orig_p</th>\n",
       "      <th>id.resp_h</th>\n",
       "      <th>id.resp_p</th>\n",
       "      <th>duration</th>\n",
       "      <th>orig_bytes</th>\n",
       "      <th>resp_bytes</th>\n",
       "      <th>orig_pkts</th>\n",
       "      <th>orig_ip_bytes</th>\n",
       "      <th>resp_pkts</th>\n",
       "      <th>resp_ip_bytes</th>\n",
       "    </tr>\n",
       "  </thead>\n",
       "  <tbody>\n",
       "    <tr>\n",
       "      <th>1929743</th>\n",
       "      <td>10.0.0.4</td>\n",
       "      <td>44300</td>\n",
       "      <td>10.0.0.4</td>\n",
       "      <td>9200</td>\n",
       "      <td>0.0</td>\n",
       "      <td>0</td>\n",
       "      <td>0</td>\n",
       "      <td>0</td>\n",
       "      <td>0</td>\n",
       "      <td>0</td>\n",
       "      <td>0</td>\n",
       "    </tr>\n",
       "    <tr>\n",
       "      <th>3589445</th>\n",
       "      <td>10.0.0.4</td>\n",
       "      <td>41126</td>\n",
       "      <td>10.0.0.4</td>\n",
       "      <td>9200</td>\n",
       "      <td>0.0</td>\n",
       "      <td>0</td>\n",
       "      <td>0</td>\n",
       "      <td>0</td>\n",
       "      <td>0</td>\n",
       "      <td>0</td>\n",
       "      <td>0</td>\n",
       "    </tr>\n",
       "    <tr>\n",
       "      <th>3251328</th>\n",
       "      <td>10.0.0.4</td>\n",
       "      <td>40710</td>\n",
       "      <td>10.0.0.4</td>\n",
       "      <td>9200</td>\n",
       "      <td>0.0</td>\n",
       "      <td>0</td>\n",
       "      <td>0</td>\n",
       "      <td>0</td>\n",
       "      <td>0</td>\n",
       "      <td>0</td>\n",
       "      <td>0</td>\n",
       "    </tr>\n",
       "    <tr>\n",
       "      <th>1976281</th>\n",
       "      <td>10.0.0.4</td>\n",
       "      <td>44266</td>\n",
       "      <td>10.0.0.4</td>\n",
       "      <td>9200</td>\n",
       "      <td>0.0</td>\n",
       "      <td>0</td>\n",
       "      <td>0</td>\n",
       "      <td>0</td>\n",
       "      <td>0</td>\n",
       "      <td>0</td>\n",
       "      <td>0</td>\n",
       "    </tr>\n",
       "    <tr>\n",
       "      <th>804336</th>\n",
       "      <td>10.0.0.4</td>\n",
       "      <td>41638</td>\n",
       "      <td>10.0.0.4</td>\n",
       "      <td>9200</td>\n",
       "      <td>0.0</td>\n",
       "      <td>0</td>\n",
       "      <td>0</td>\n",
       "      <td>0</td>\n",
       "      <td>0</td>\n",
       "      <td>0</td>\n",
       "      <td>0</td>\n",
       "    </tr>\n",
       "    <tr>\n",
       "      <th>...</th>\n",
       "      <td>...</td>\n",
       "      <td>...</td>\n",
       "      <td>...</td>\n",
       "      <td>...</td>\n",
       "      <td>...</td>\n",
       "      <td>...</td>\n",
       "      <td>...</td>\n",
       "      <td>...</td>\n",
       "      <td>...</td>\n",
       "      <td>...</td>\n",
       "      <td>...</td>\n",
       "    </tr>\n",
       "    <tr>\n",
       "      <th>2990768</th>\n",
       "      <td>10.0.0.4</td>\n",
       "      <td>41282</td>\n",
       "      <td>10.0.0.4</td>\n",
       "      <td>9200</td>\n",
       "      <td>0.0</td>\n",
       "      <td>0</td>\n",
       "      <td>0</td>\n",
       "      <td>0</td>\n",
       "      <td>0</td>\n",
       "      <td>0</td>\n",
       "      <td>0</td>\n",
       "    </tr>\n",
       "    <tr>\n",
       "      <th>4164400</th>\n",
       "      <td>10.0.0.4</td>\n",
       "      <td>40150</td>\n",
       "      <td>10.0.0.4</td>\n",
       "      <td>9200</td>\n",
       "      <td>0.0</td>\n",
       "      <td>0</td>\n",
       "      <td>0</td>\n",
       "      <td>0</td>\n",
       "      <td>0</td>\n",
       "      <td>0</td>\n",
       "      <td>0</td>\n",
       "    </tr>\n",
       "    <tr>\n",
       "      <th>3517900</th>\n",
       "      <td>10.0.0.4</td>\n",
       "      <td>41296</td>\n",
       "      <td>10.0.0.4</td>\n",
       "      <td>9200</td>\n",
       "      <td>0.0</td>\n",
       "      <td>0</td>\n",
       "      <td>0</td>\n",
       "      <td>0</td>\n",
       "      <td>0</td>\n",
       "      <td>0</td>\n",
       "      <td>0</td>\n",
       "    </tr>\n",
       "    <tr>\n",
       "      <th>1207513</th>\n",
       "      <td>10.0.0.4</td>\n",
       "      <td>41842</td>\n",
       "      <td>10.0.0.4</td>\n",
       "      <td>9200</td>\n",
       "      <td>0.0</td>\n",
       "      <td>0</td>\n",
       "      <td>0</td>\n",
       "      <td>0</td>\n",
       "      <td>0</td>\n",
       "      <td>0</td>\n",
       "      <td>0</td>\n",
       "    </tr>\n",
       "    <tr>\n",
       "      <th>1374525</th>\n",
       "      <td>10.0.0.4</td>\n",
       "      <td>44114</td>\n",
       "      <td>10.0.0.4</td>\n",
       "      <td>9200</td>\n",
       "      <td>0.0</td>\n",
       "      <td>0</td>\n",
       "      <td>0</td>\n",
       "      <td>0</td>\n",
       "      <td>0</td>\n",
       "      <td>0</td>\n",
       "      <td>0</td>\n",
       "    </tr>\n",
       "  </tbody>\n",
       "</table>\n",
       "<p>100000 rows × 11 columns</p>\n",
       "</div>"
      ],
      "text/plain": [
       "        id.orig_h  id.orig_p id.resp_h  id.resp_p  duration  orig_bytes   \n",
       "1929743  10.0.0.4      44300  10.0.0.4       9200       0.0           0  \\\n",
       "3589445  10.0.0.4      41126  10.0.0.4       9200       0.0           0   \n",
       "3251328  10.0.0.4      40710  10.0.0.4       9200       0.0           0   \n",
       "1976281  10.0.0.4      44266  10.0.0.4       9200       0.0           0   \n",
       "804336   10.0.0.4      41638  10.0.0.4       9200       0.0           0   \n",
       "...           ...        ...       ...        ...       ...         ...   \n",
       "2990768  10.0.0.4      41282  10.0.0.4       9200       0.0           0   \n",
       "4164400  10.0.0.4      40150  10.0.0.4       9200       0.0           0   \n",
       "3517900  10.0.0.4      41296  10.0.0.4       9200       0.0           0   \n",
       "1207513  10.0.0.4      41842  10.0.0.4       9200       0.0           0   \n",
       "1374525  10.0.0.4      44114  10.0.0.4       9200       0.0           0   \n",
       "\n",
       "         resp_bytes  orig_pkts  orig_ip_bytes  resp_pkts  resp_ip_bytes  \n",
       "1929743           0          0              0          0              0  \n",
       "3589445           0          0              0          0              0  \n",
       "3251328           0          0              0          0              0  \n",
       "1976281           0          0              0          0              0  \n",
       "804336            0          0              0          0              0  \n",
       "...             ...        ...            ...        ...            ...  \n",
       "2990768           0          0              0          0              0  \n",
       "4164400           0          0              0          0              0  \n",
       "3517900           0          0              0          0              0  \n",
       "1207513           0          0              0          0              0  \n",
       "1374525           0          0              0          0              0  \n",
       "\n",
       "[100000 rows x 11 columns]"
      ]
     },
     "execution_count": 3,
     "metadata": {},
     "output_type": "execute_result"
    }
   ],
   "source": [
    "# Rather than using the entire dataset, let's take a random sample of 100K records\n",
    "# Training on this entire dataset will take a while on this system\n",
    "# Besides, we learned in the autoencoder notebooks, that this dataset consists of a number of samples/observations\n",
    "# that has 0 for each feature value\n",
    "#   12. Beginning Deep Learning - Anomaly Detection with AutoEncoders, Tensorflow\n",
    "#   13. Beginning Deep Learning - Anomaly Detection with AutoEncoders, PyTroch\n",
    "\n",
    "df_conn = df_conn.sample(n=100000, random_state=10, replace=True)\n",
    "df_conn"
   ]
  },
  {
   "cell_type": "code",
   "execution_count": 4,
   "metadata": {},
   "outputs": [
    {
     "data": {
      "image/png": "[encoded data removed]",
      "text/plain": [
       "<Figure size 640x480 with 1 Axes>"
      ]
     },
     "metadata": {},
     "output_type": "display_data"
    }
   ],
   "source": [
    "# Confirming the positive correlation\n",
    "# We can see from below, generally, as x increases, y increases\n",
    "# and as y increases, x increases. \n",
    "# Hence our strong positive correlation.\n",
    "# What we need is a line that best fits this data\n",
    "# Meaning, we need a m and b for y = mx + b\n",
    "# The question is which line works best?\n",
    "plt.title('Scatter Plot showing strong linear relationship \\n between orig_pkts and resp_pkts')\n",
    "plt.scatter(df_conn['orig_pkts'], df_conn['resp_pkts'])\n",
    "plt.xlabel('orig_pkts')\n",
    "plt.ylabel('resp_pkts')\n",
    "plt.show()"
   ]
  },
  {
   "cell_type": "code",
   "execution_count": 5,
   "metadata": {},
   "outputs": [
    {
     "data": {
      "text/plain": [
       "<matplotlib.legend.Legend at 0x154cc6cd840>"
      ]
     },
     "execution_count": 5,
     "metadata": {},
     "output_type": "execute_result"
    },
    {
     "data": {
      "image/png": "[encoded data removed]",
      "text/plain": [
       "<Figure size 640x480 with 1 Axes>"
      ]
     },
     "metadata": {},
     "output_type": "display_data"
    }
   ],
   "source": [
    "# Trying to figure out which line best fits our data\n",
    "# As in which one will produce the smallest areas\n",
    "plt.title('Which line is the best fit? This is what we need to figure out')\n",
    "plt.scatter(df_conn['orig_pkts'], df_conn['resp_pkts'])\n",
    "plt.plot(df_conn.orig_pkts, (1 * df_conn.orig_pkts) + 1, label='m=1, b=1?', c='r', linestyle='--' )\n",
    "plt.plot(df_conn.orig_pkts, (2 * df_conn.orig_pkts) + 1, label='m=2, b=1?', c='g', linestyle='dashdot' )\n",
    "plt.plot(df_conn.orig_pkts, (3 * df_conn.orig_pkts) + 1, label='m=3, b=1?', c='b', linestyle='dotted' )\n",
    "plt.legend(loc='best')\n"
   ]
  },
  {
   "cell_type": "code",
   "execution_count": 6,
   "metadata": {},
   "outputs": [
    {
     "data": {
      "text/plain": [
       "(array([[0.],\n",
       "        [0.],\n",
       "        [0.],\n",
       "        [0.],\n",
       "        [0.]], dtype=float32),\n",
       " array([[0.],\n",
       "        [0.],\n",
       "        [0.],\n",
       "        [0.],\n",
       "        [0.]], dtype=float32))"
      ]
     },
     "execution_count": 6,
     "metadata": {},
     "output_type": "execute_result"
    }
   ],
   "source": [
    "# Let's build our own Linear Regression model, before moving on to sklearn\n",
    "# Setup our x and y\n",
    "X = df_conn['orig_pkts'].values.astype(np.float32).reshape(-1,1)\n",
    "y = df_conn['resp_pkts'].values.astype(np.float32).reshape(-1,1)\n",
    "\n",
    "# Get a view of teh data\n",
    "X[:5], y[:5]"
   ]
  },
  {
   "cell_type": "code",
   "execution_count": 7,
   "metadata": {},
   "outputs": [],
   "source": [
    "# Import the scaler to scale the data\n",
    "from sklearn.preprocessing import MinMaxScaler"
   ]
  },
  {
   "cell_type": "code",
   "execution_count": 8,
   "metadata": {},
   "outputs": [
    {
     "data": {
      "text/plain": [
       "array([[0.],\n",
       "       [0.],\n",
       "       [0.],\n",
       "       ...,\n",
       "       [0.],\n",
       "       [0.],\n",
       "       [0.]], dtype=float32)"
      ]
     },
     "execution_count": 8,
     "metadata": {},
     "output_type": "execute_result"
    }
   ],
   "source": [
    "# Setup the scaler\n",
    "min_max_scaler = MinMaxScaler(feature_range=(0,1))\n",
    "\n",
    "# Fit on the normal data\n",
    "min_max_scaler.fit(X)\n",
    "\n",
    "# Transform the normal data\n",
    "X_scaled = min_max_scaler.transform(X)\n",
    "X_scaled"
   ]
  },
  {
   "cell_type": "code",
   "execution_count": 9,
   "metadata": {},
   "outputs": [],
   "source": [
    "# Because we learned about Linear Regression in \n",
    "#   11. Beginning Linear Regression - Machine Learning\n",
    "# I will jump straight into the deep learning part of Linear Regression"
   ]
  },
  {
   "cell_type": "code",
   "execution_count": 10,
   "metadata": {},
   "outputs": [],
   "source": [
    "# Import the tensorflow library\n",
    "import tensorflow as tf"
   ]
  },
  {
   "cell_type": "code",
   "execution_count": 11,
   "metadata": {},
   "outputs": [
    {
     "name": "stdout",
     "output_type": "stream",
     "text": [
      "Model: \"Linear_Model\"\n",
      "_________________________________________________________________\n",
      " Layer (type)                Output Shape              Param #   \n",
      "=================================================================\n",
      " first_hidden (Dense)        (32, 8)                   16        \n",
      "                                                                 \n",
      " second_hidden (Dense)       (32, 8)                   72        \n",
      "                                                                 \n",
      " output (Dense)              (32, 1)                   9         \n",
      "                                                                 \n",
      "=================================================================\n",
      "Total params: 97\n",
      "Trainable params: 97\n",
      "Non-trainable params: 0\n",
      "_________________________________________________________________\n"
     ]
    }
   ],
   "source": [
    "# Setup the model\n",
    "linear_model = tf.keras.Sequential(name='Linear_Model')\n",
    "\n",
    "# Add the input layer\n",
    "linear_model.add(tf.keras.layers.Input(shape=(1,), batch_size=32, name='linear_input'))\n",
    "\n",
    "# Add a hidden layer with 4 neurons\n",
    "linear_model.add(tf.keras.layers.Dense(units=8, activation='relu', use_bias=True, name='first_hidden'))\n",
    "\n",
    "# Add a second layer with 4 neurons\n",
    "linear_model.add(tf.keras.layers.Dense(units=8, activation='relu', use_bias=True, name='second_hidden'))\n",
    "\n",
    "# Add an output layer with a linear activation\n",
    "# For the activation, we can use \"linear\" or \"None\"\n",
    "linear_model.add(tf.keras.layers.Dense(units=1, activation=None, use_bias=True, name='output'))\n",
    "\n",
    "# Get the model summary\n",
    "linear_model.summary()"
   ]
  },
  {
   "cell_type": "code",
   "execution_count": 12,
   "metadata": {},
   "outputs": [
    {
     "data": {
      "image/png": "[encoded data removed]",
      "text/plain": [
       "<IPython.core.display.Image object>"
      ]
     },
     "execution_count": 12,
     "metadata": {},
     "output_type": "execute_result"
    }
   ],
   "source": [
    "# Plot the model\n",
    "tf.keras.utils.plot_model(model=linear_model, show_dtype=True, \\\n",
    "                          show_layer_activations=True, show_layer_names=True, \\\n",
    "                            show_shapes=True, show_trainable=True, dpi=125)"
   ]
  },
  {
   "cell_type": "code",
   "execution_count": 13,
   "metadata": {},
   "outputs": [],
   "source": [
    "# Compile the model\n",
    "linear_model.compile(optimizer=tf.keras.optimizers.Adam(learning_rate=0.01), loss='mse', metrics=['mse'])"
   ]
  },
  {
   "cell_type": "code",
   "execution_count": 14,
   "metadata": {},
   "outputs": [
    {
     "data": {
      "text/plain": [
       "[<tf.Variable 'first_hidden/kernel:0' shape=(1, 8) dtype=float32, numpy=\n",
       " array([[ 0.5028511 , -0.37330464, -0.1257968 , -0.5442027 ,  0.18743157,\n",
       "         -0.4385221 ,  0.51522803,  0.43640757]], dtype=float32)>,\n",
       " <tf.Variable 'first_hidden/bias:0' shape=(8,) dtype=float32, numpy=array([0., 0., 0., 0., 0., 0., 0., 0.], dtype=float32)>,\n",
       " <tf.Variable 'second_hidden/kernel:0' shape=(8, 8) dtype=float32, numpy=\n",
       " array([[ 0.58276635,  0.19902271, -0.23494259, -0.11799434, -0.07599324,\n",
       "         -0.27028283,  0.0577879 , -0.40789884],\n",
       "        [ 0.0048039 ,  0.19420993, -0.10230857, -0.06365627, -0.533482  ,\n",
       "         -0.00932831,  0.16831768, -0.516431  ],\n",
       "        [ 0.5831737 ,  0.2915076 , -0.3265224 , -0.32113644, -0.5684793 ,\n",
       "         -0.5623481 ,  0.354221  ,  0.44397956],\n",
       "        [ 0.25043637,  0.1650871 ,  0.44328552,  0.55194765, -0.24454403,\n",
       "         -0.2689662 ,  0.4614758 , -0.55662537],\n",
       "        [-0.38348892, -0.34081036,  0.16009855, -0.5001529 ,  0.21925521,\n",
       "         -0.14260629,  0.4453352 ,  0.54136795],\n",
       "        [-0.50676996, -0.55502343, -0.38334045, -0.4463761 , -0.5980959 ,\n",
       "          0.4128849 , -0.2964452 ,  0.59856206],\n",
       "        [ 0.5537972 , -0.4386532 ,  0.4275127 ,  0.5476939 , -0.308504  ,\n",
       "          0.4797929 ,  0.04057425, -0.13346037],\n",
       "        [-0.43434078,  0.5099215 , -0.60626745,  0.3163517 , -0.5944291 ,\n",
       "         -0.05293059,  0.4069124 ,  0.5400434 ]], dtype=float32)>,\n",
       " <tf.Variable 'second_hidden/bias:0' shape=(8,) dtype=float32, numpy=array([0., 0., 0., 0., 0., 0., 0., 0.], dtype=float32)>,\n",
       " <tf.Variable 'output/kernel:0' shape=(8, 1) dtype=float32, numpy=\n",
       " array([[ 0.5277879 ],\n",
       "        [ 0.43305576],\n",
       "        [ 0.7100831 ],\n",
       "        [-0.6357665 ],\n",
       "        [-0.02037454],\n",
       "        [ 0.40273702],\n",
       "        [ 0.7219057 ],\n",
       "        [ 0.2859857 ]], dtype=float32)>,\n",
       " <tf.Variable 'output/bias:0' shape=(1,) dtype=float32, numpy=array([0.], dtype=float32)>]"
      ]
     },
     "execution_count": 14,
     "metadata": {},
     "output_type": "execute_result"
    }
   ],
   "source": [
    "# Get a look at the initial model parameters - weights and biases\n",
    "linear_model.weights"
   ]
  },
  {
   "cell_type": "code",
   "execution_count": 15,
   "metadata": {},
   "outputs": [],
   "source": [
    "# Before training the model, split the data into train and test set\n",
    "# import the train test split library\n",
    "from sklearn.model_selection import train_test_split"
   ]
  },
  {
   "cell_type": "code",
   "execution_count": 16,
   "metadata": {},
   "outputs": [
    {
     "data": {
      "text/plain": [
       "((80000, 1), (20000, 1), (80000, 1), (20000, 1))"
      ]
     },
     "execution_count": 16,
     "metadata": {},
     "output_type": "execute_result"
    }
   ],
   "source": [
    "# Split the data into training and testing\n",
    "X_train, X_test, y_train, y_test = train_test_split(X_scaled, y, test_size=0.2, \\\n",
    "                                                    train_size=0.8, random_state=10, shuffle=True)\n",
    "X_train.shape, X_test.shape, y_train.shape, y_test.shape"
   ]
  },
  {
   "cell_type": "code",
   "execution_count": 17,
   "metadata": {},
   "outputs": [
    {
     "name": "stdout",
     "output_type": "stream",
     "text": [
      "Epoch 1/20\n",
      "2000/2000 [==============================] - 5s 2ms/step - loss: 29312.1562 - mse: 29312.1562 - val_loss: 710.4578 - val_mse: 710.4578\n",
      "Epoch 2/20\n",
      "2000/2000 [==============================] - 4s 2ms/step - loss: 29095.0938 - mse: 29095.0938 - val_loss: 652.5005 - val_mse: 652.5005\n",
      "Epoch 3/20\n",
      "2000/2000 [==============================] - 3s 2ms/step - loss: 28699.6328 - mse: 28699.6328 - val_loss: 557.3998 - val_mse: 557.3998\n",
      "Epoch 4/20\n",
      "2000/2000 [==============================] - 3s 2ms/step - loss: 28154.6465 - mse: 28154.6465 - val_loss: 425.4500 - val_mse: 425.4500\n",
      "Epoch 5/20\n",
      "2000/2000 [==============================] - 4s 2ms/step - loss: 27268.2637 - mse: 27268.2637 - val_loss: 269.9909 - val_mse: 269.9909\n",
      "Epoch 6/20\n",
      "2000/2000 [==============================] - 4s 2ms/step - loss: 26441.9531 - mse: 26441.9531 - val_loss: 172.4218 - val_mse: 172.4218\n",
      "Epoch 7/20\n",
      "2000/2000 [==============================] - 3s 2ms/step - loss: 25382.9277 - mse: 25382.9277 - val_loss: 119.2505 - val_mse: 119.2505\n",
      "Epoch 8/20\n",
      "2000/2000 [==============================] - 3s 2ms/step - loss: 24456.2695 - mse: 24456.2695 - val_loss: 75.1296 - val_mse: 75.1296\n",
      "Epoch 9/20\n",
      "2000/2000 [==============================] - 3s 2ms/step - loss: 23492.4355 - mse: 23492.4355 - val_loss: 133.3854 - val_mse: 133.3854\n",
      "Epoch 10/20\n",
      "2000/2000 [==============================] - 3s 2ms/step - loss: 22507.0977 - mse: 22507.0977 - val_loss: 75.7119 - val_mse: 75.7119\n",
      "Epoch 11/20\n",
      "2000/2000 [==============================] - 4s 2ms/step - loss: 21433.1230 - mse: 21433.1230 - val_loss: 77.9837 - val_mse: 77.9837\n",
      "Epoch 12/20\n",
      "2000/2000 [==============================] - 3s 2ms/step - loss: 20385.1934 - mse: 20385.1934 - val_loss: 84.1052 - val_mse: 84.1052\n",
      "Epoch 13/20\n",
      "2000/2000 [==============================] - 3s 2ms/step - loss: 19312.0039 - mse: 19312.0039 - val_loss: 112.7494 - val_mse: 112.7494\n",
      "Epoch 14/20\n",
      "2000/2000 [==============================] - 3s 2ms/step - loss: 18479.6191 - mse: 18479.6191 - val_loss: 108.6436 - val_mse: 108.6436\n",
      "Epoch 15/20\n",
      "2000/2000 [==============================] - 3s 2ms/step - loss: 17498.2246 - mse: 17498.2246 - val_loss: 112.6460 - val_mse: 112.6460\n",
      "Epoch 16/20\n",
      "2000/2000 [==============================] - 4s 2ms/step - loss: 16640.9375 - mse: 16640.9375 - val_loss: 114.2121 - val_mse: 114.2121\n",
      "Epoch 17/20\n",
      "2000/2000 [==============================] - 3s 2ms/step - loss: 16054.3760 - mse: 16054.3760 - val_loss: 133.7526 - val_mse: 133.7526\n",
      "Epoch 18/20\n",
      "2000/2000 [==============================] - 3s 2ms/step - loss: 14806.1504 - mse: 14806.1504 - val_loss: 88.2596 - val_mse: 88.2596\n",
      "Epoch 19/20\n",
      "2000/2000 [==============================] - 3s 2ms/step - loss: 15675.2441 - mse: 15675.2441 - val_loss: 139.8451 - val_mse: 139.8451\n",
      "Epoch 20/20\n",
      "2000/2000 [==============================] - 3s 2ms/step - loss: 14754.3555 - mse: 14754.3555 - val_loss: 55286.4805 - val_mse: 55286.4805\n"
     ]
    }
   ],
   "source": [
    "# Train the model and specify a validation set of .20 of the training data\n",
    "history = linear_model.fit(x=X_train, y=y_train, epochs=20, validation_split=0.2, shuffle=True)"
   ]
  },
  {
   "cell_type": "code",
   "execution_count": 18,
   "metadata": {},
   "outputs": [
    {
     "data": {
      "text/plain": [
       "dict_keys(['loss', 'mse', 'val_loss', 'val_mse'])"
      ]
     },
     "execution_count": 18,
     "metadata": {},
     "output_type": "execute_result"
    }
   ],
   "source": [
    "# How did the model do\n",
    "# Visualizing the model's performance\n",
    "# Grabbing the keys from the history callback\n",
    "history.history.keys()"
   ]
  },
  {
   "cell_type": "code",
   "execution_count": 19,
   "metadata": {},
   "outputs": [
    {
     "data": {
      "text/plain": [
       "<matplotlib.legend.Legend at 0x1551dc7feb0>"
      ]
     },
     "execution_count": 19,
     "metadata": {},
     "output_type": "execute_result"
    },
    {
     "data": {
      "image/png": "[encoded data removed]",
      "text/plain": [
       "<Figure size 640x480 with 1 Axes>"
      ]
     },
     "metadata": {},
     "output_type": "display_data"
    }
   ],
   "source": [
    "# Plotting the training loss values\n",
    "plt.title('Training vs Validation Loss')\n",
    "plt.plot(history.history['loss'], lw=3, label='train_loss')\n",
    "plt.plot(history.history['val_loss'], lw=3, label='val_loss')\n",
    "plt.xlabel('Epochs')\n",
    "plt.ylabel('MSE Loss')\n",
    "plt.legend()"
   ]
  },
  {
   "cell_type": "code",
   "execution_count": 20,
   "metadata": {},
   "outputs": [
    {
     "data": {
      "text/plain": [
       "<matplotlib.legend.Legend at 0x1551d8d3d60>"
      ]
     },
     "execution_count": 20,
     "metadata": {},
     "output_type": "execute_result"
    },
    {
     "data": {
      "image/png": "[encoded data removed]",
      "text/plain": [
       "<Figure size 640x480 with 1 Axes>"
      ]
     },
     "metadata": {},
     "output_type": "display_data"
    }
   ],
   "source": [
    "# Plotting the validation MSE values\n",
    "plt.title('Training vs Validation mse')\n",
    "plt.plot(history.history['mse'], lw=3, label='train_mse')\n",
    "plt.plot(history.history['val_mse'], lw=3, label='val_mse')\n",
    "plt.xlabel('Epochs')\n",
    "plt.ylabel('MSE Loss')\n",
    "plt.legend()"
   ]
  },
  {
   "cell_type": "code",
   "execution_count": 21,
   "metadata": {},
   "outputs": [
    {
     "name": "stdout",
     "output_type": "stream",
     "text": [
      "2500/2500 [==============================] - 3s 1ms/step\n"
     ]
    },
    {
     "data": {
      "text/plain": [
       "array([[234.2871],\n",
       "       [234.2871],\n",
       "       [234.2871],\n",
       "       ...,\n",
       "       [234.2871],\n",
       "       [234.2871],\n",
       "       [234.2871]], dtype=float32)"
      ]
     },
     "execution_count": 21,
     "metadata": {},
     "output_type": "execute_result"
    }
   ],
   "source": [
    "# Make and store some predictions on the training data\n",
    "train_pred = linear_model.predict(X_train)\n",
    "train_pred"
   ]
  },
  {
   "cell_type": "code",
   "execution_count": 22,
   "metadata": {},
   "outputs": [
    {
     "data": {
      "image/png": "[encoded data removed]",
      "text/plain": [
       "<Figure size 640x480 with 1 Axes>"
      ]
     },
     "metadata": {},
     "output_type": "display_data"
    }
   ],
   "source": [
    "# With the trained model. Plot the training data\n",
    "# Plotting the train predictions vs actual values, shows that the model does not seem to be doing too bad\n",
    "plt.plot(y_train, linestyle='', marker='o', c='b', markersize=5, label='Training')\n",
    "\n",
    "# Plot the predicted data\n",
    "plt.plot(train_pred, linestyle='', marker='*', c='r', label='Predictions')\n",
    "plt.legend()\n",
    "plt.show()"
   ]
  },
  {
   "cell_type": "code",
   "execution_count": 23,
   "metadata": {},
   "outputs": [
    {
     "data": {
      "text/plain": [
       "[<tf.Variable 'first_hidden/kernel:0' shape=(1, 8) dtype=float32, numpy=\n",
       " array([[10.133374  , -0.37330464, -0.1257968 , -0.5442027 ,  8.722149  ,\n",
       "         -0.4385221 ,  9.937021  , 10.45717   ]], dtype=float32)>,\n",
       " <tf.Variable 'first_hidden/bias:0' shape=(8,) dtype=float32, numpy=\n",
       " array([0.91700625, 0.        , 0.        , 0.        , 7.194012  ,\n",
       "        0.        , 1.8593959 , 0.27059925], dtype=float32)>,\n",
       " <tf.Variable 'second_hidden/kernel:0' shape=(8, 8) dtype=float32, numpy=\n",
       " array([[ 7.7590766e+00,  7.4040074e+00, -4.9070692e-01, -3.8978544e-01,\n",
       "         -5.1671213e-01,  6.9418502e+00,  7.2040725e+00,  6.8319721e+00],\n",
       "        [ 4.8038960e-03,  1.9420993e-01, -1.0230857e-01, -6.3656271e-02,\n",
       "         -5.3348202e-01, -9.3283057e-03,  1.6831768e-01, -5.1643097e-01],\n",
       "        [ 5.8317369e-01,  2.9150760e-01, -3.2652241e-01, -3.2113644e-01,\n",
       "         -5.6847930e-01, -5.6234813e-01,  3.5422099e-01,  4.4397956e-01],\n",
       "        [ 2.5043637e-01,  1.6508710e-01,  4.4328552e-01,  5.5194765e-01,\n",
       "         -2.4454403e-01, -2.6896620e-01,  4.6147579e-01, -5.5662537e-01],\n",
       "        [ 6.3295741e+00,  6.4023633e+00, -9.5690906e-02, -7.5806510e-01,\n",
       "          7.9328942e+00,  6.6132956e+00,  7.1242962e+00,  7.3209248e+00],\n",
       "        [-5.0676996e-01, -5.5502343e-01, -3.8334045e-01, -4.4637609e-01,\n",
       "         -5.9809589e-01,  4.1288489e-01, -2.9644519e-01,  5.9856206e-01],\n",
       "        [ 7.7450099e+00,  6.7720890e+00,  1.7179078e-01,  2.7560878e-01,\n",
       "          1.1495643e+00,  7.7058072e+00,  7.2036753e+00,  7.1066313e+00],\n",
       "        [ 6.7962193e+00,  7.7678261e+00, -8.6200869e-01,  4.6336003e-02,\n",
       "         -1.2223508e+01,  7.2123499e+00,  7.6088519e+00,  7.8305755e+00]],\n",
       "       dtype=float32)>,\n",
       " <tf.Variable 'second_hidden/bias:0' shape=(8,) dtype=float32, numpy=\n",
       " array([ 5.3252354 ,  5.35374   , -0.25580487, -0.28873426, 13.638064  ,\n",
       "         5.3856072 ,  5.284369  ,  5.3767977 ], dtype=float32)>,\n",
       " <tf.Variable 'output/kernel:0' shape=(8, 1) dtype=float32, numpy=\n",
       " array([[  7.42264   ],\n",
       "        [  7.3595643 ],\n",
       "        [  0.49014834],\n",
       "        [ -0.36624137],\n",
       "        [-37.284943  ],\n",
       "        [  7.2379704 ],\n",
       "        [  7.613483  ],\n",
       "        [  7.173507  ]], dtype=float32)>,\n",
       " <tf.Variable 'output/bias:0' shape=(1,) dtype=float32, numpy=array([5.01121], dtype=float32)>]"
      ]
     },
     "execution_count": 23,
     "metadata": {},
     "output_type": "execute_result"
    }
   ],
   "source": [
    "# Quite a few of the predictions seems to fall inline with the original values\n",
    "# However, see some predicted values that are definitely different from the original values\n",
    "# Looking at the learned parameters - weights and biases\n",
    "linear_model.weights"
   ]
  },
  {
   "cell_type": "code",
   "execution_count": 24,
   "metadata": {},
   "outputs": [
    {
     "data": {
      "text/plain": [
       "array([[1500.]], dtype=float32)"
      ]
     },
     "execution_count": 24,
     "metadata": {},
     "output_type": "execute_result"
    }
   ],
   "source": [
    "# Make a prediction on a single item\n",
    "# Setup the sample\n",
    "new_sample = np.array([1500], dtype=np.float32, ndmin=2)\n",
    "new_sample"
   ]
  },
  {
   "cell_type": "code",
   "execution_count": 25,
   "metadata": {},
   "outputs": [
    {
     "data": {
      "text/plain": [
       "array([[0.20215634]], dtype=float32)"
      ]
     },
     "execution_count": 25,
     "metadata": {},
     "output_type": "execute_result"
    }
   ],
   "source": [
    "# Remember, all data on which prediction needs to be made,\n",
    "# Has to go through the same preprocessing steps before making prediction\n",
    "# Scaling the data\n",
    "new_sample_scaled = min_max_scaler.transform(X=new_sample)\n",
    "new_sample_scaled\n"
   ]
  },
  {
   "cell_type": "code",
   "execution_count": 26,
   "metadata": {},
   "outputs": [
    {
     "name": "stdout",
     "output_type": "stream",
     "text": [
      "1/1 [==============================] - 0s 64ms/step\n"
     ]
    },
    {
     "data": {
      "text/plain": [
       "array([[2732.7178]], dtype=float32)"
      ]
     },
     "execution_count": 26,
     "metadata": {},
     "output_type": "execute_result"
    }
   ],
   "source": [
    "# Make the prediction on the scaled data\n",
    "linear_model.predict(new_sample_scaled)"
   ]
  },
  {
   "cell_type": "code",
   "execution_count": 27,
   "metadata": {},
   "outputs": [
    {
     "name": "stdout",
     "output_type": "stream",
     "text": [
      "625/625 [==============================] - 1s 1ms/step\n"
     ]
    },
    {
     "data": {
      "text/plain": [
       "array([[234.2871],\n",
       "       [234.2871],\n",
       "       [234.2871],\n",
       "       ...,\n",
       "       [234.2871],\n",
       "       [234.2871],\n",
       "       [234.2871]], dtype=float32)"
      ]
     },
     "execution_count": 27,
     "metadata": {},
     "output_type": "execute_result"
    }
   ],
   "source": [
    "# We did a prediction on a sample data point\n",
    "# How are we doing with the test data\n",
    "# Making predictions on the test data\n",
    "test_preds = linear_model.predict(X_test)\n",
    "test_preds"
   ]
  },
  {
   "cell_type": "code",
   "execution_count": 28,
   "metadata": {},
   "outputs": [
    {
     "data": {
      "image/png": "[encoded data removed]",
      "text/plain": [
       "<Figure size 640x480 with 1 Axes>"
      ]
     },
     "metadata": {},
     "output_type": "display_data"
    }
   ],
   "source": [
    "# With the trained model. Plot the test data\n",
    "# Below seems to suggest the model is not doing too bad, when comparing the true y with the predicted y\n",
    "plt.plot(y_test, linestyle='', marker='o', c='b', markersize=10, label='True Test Values')\n",
    "\n",
    "# Plot the predicted data\n",
    "plt.plot(test_preds, linestyle='', marker='*', c='r', label='Test Predictions')\n",
    "plt.legend()\n",
    "plt.show()"
   ]
  },
  {
   "cell_type": "code",
   "execution_count": 29,
   "metadata": {},
   "outputs": [],
   "source": [
    "# Get the model's r2 score\n",
    "from sklearn.metrics import r2_score"
   ]
  },
  {
   "cell_type": "code",
   "execution_count": 30,
   "metadata": {},
   "outputs": [
    {
     "data": {
      "text/plain": [
       "-47.64881306211179"
      ]
     },
     "execution_count": 30,
     "metadata": {},
     "output_type": "execute_result"
    }
   ],
   "source": [
    "# The r2 with a value of 1, means the model is perfect\n",
    "# r2 of 0 means the model is not doing better than average\n",
    "# r2 of less than 0 means the model is terrible\n",
    "# This score suggest we have a model that is performing well\n",
    "r2_score(y_true=y_test, y_pred=test_preds)"
   ]
  },
  {
   "cell_type": "code",
   "execution_count": 31,
   "metadata": {},
   "outputs": [],
   "source": [
    "# Looks like we can save this model at this time\n",
    "# importing the the os library\n",
    "import os"
   ]
  },
  {
   "cell_type": "code",
   "execution_count": 32,
   "metadata": {},
   "outputs": [],
   "source": [
    "# Create the location to save the model\n",
    "PATH = './SAVED_MODELS/LR_TF/'\n",
    "MODELS_PATH = os.makedirs(name=PATH, exist_ok=True)"
   ]
  },
  {
   "cell_type": "code",
   "execution_count": 33,
   "metadata": {},
   "outputs": [
    {
     "name": "stderr",
     "output_type": "stream",
     "text": [
      "WARNING:absl:Found untraced functions such as _update_step_xla while saving (showing 1 of 1). These functions will not be directly callable after loading.\n"
     ]
    },
    {
     "name": "stdout",
     "output_type": "stream",
     "text": [
      "INFO:tensorflow:Assets written to: ./SAVED_MODELS/LR_TF/linear_reg.tf\\assets\n"
     ]
    },
    {
     "name": "stderr",
     "output_type": "stream",
     "text": [
      "INFO:tensorflow:Assets written to: ./SAVED_MODELS/LR_TF/linear_reg.tf\\assets\n"
     ]
    }
   ],
   "source": [
    "# Save the model\n",
    "tf.keras.models.save_model(model=linear_model, filepath=f'{PATH}linear_reg.tf')"
   ]
  },
  {
   "cell_type": "code",
   "execution_count": 34,
   "metadata": {},
   "outputs": [
    {
     "data": {
      "text/plain": [
       "<keras.engine.sequential.Sequential at 0x1551dd16a10>"
      ]
     },
     "execution_count": 34,
     "metadata": {},
     "output_type": "execute_result"
    }
   ],
   "source": [
    "# With the model saved, time to reload and make predictions\n",
    "loaded_tf_lr_model = tf.keras.models.load_model(filepath=f'{PATH}linear_reg.tf')\n",
    "loaded_tf_lr_model"
   ]
  },
  {
   "cell_type": "code",
   "execution_count": 35,
   "metadata": {},
   "outputs": [
    {
     "name": "stdout",
     "output_type": "stream",
     "text": [
      "1/1 [==============================] - 0s 82ms/step\n"
     ]
    },
    {
     "data": {
      "text/plain": [
       "array([[2732.7178]], dtype=float32)"
      ]
     },
     "execution_count": 35,
     "metadata": {},
     "output_type": "execute_result"
    }
   ],
   "source": [
    "# Make predictions on the loaded model\n",
    "loaded_tf_lr_model.predict(new_sample_scaled)"
   ]
  },
  {
   "cell_type": "code",
   "execution_count": null,
   "metadata": {},
   "outputs": [],
   "source": [
    "# Time to move on"
   ]
  }
 ],
 "metadata": {
  "kernelspec": {
   "display_name": "main-env",
   "language": "python",
   "name": "python3"
  },
  "language_info": {
   "codemirror_mode": {
    "name": "ipython",
    "version": 3
   },
   "file_extension": ".py",
   "mimetype": "text/x-python",
   "name": "python",
   "nbconvert_exporter": "python",
   "pygments_lexer": "ipython3",
   "version": "3.10.11"
  },
  "orig_nbformat": 4,
  "vscode": {
   "interpreter": {
    "hash": "dcb100998b7ef434a33dbfac35f576e40d01f04c34d9ff6f6aad819b8a88c169"
   }
  }
 },
 "nbformat": 4,
 "nbformat_minor": 2
}
