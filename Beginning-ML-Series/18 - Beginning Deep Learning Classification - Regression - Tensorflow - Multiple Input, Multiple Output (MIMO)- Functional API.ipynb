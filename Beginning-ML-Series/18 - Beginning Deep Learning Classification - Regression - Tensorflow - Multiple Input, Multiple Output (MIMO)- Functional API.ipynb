{
 "cells": [
  {
   "attachments": {},
   "cell_type": "markdown",
   "metadata": {},
   "source": [
    "Author: Nik Alleyne <br>\n",
    "Author Blog: https://www.securitynik.com <br>\n",
    "Author GitHub:github.com/securitynik <br>\n",
    "Author Books: [  <br>\n",
    "                \"https://www.amazon.ca/Learning-Practicing-Leveraging-Practical-Detection/dp/1731254458/\",  <br>\n",
    "                \"https://www.amazon.ca/Learning-Practicing-Mastering-Network-Forensics/dp/1775383024/\" <br>\n",
    "            ] <br>\n"
   ]
  },
  {
   "cell_type": "code",
   "execution_count": null,
   "metadata": {},
   "outputs": [],
   "source": [
    "## 18. Beginning Deep Learning, - Classification - regression - MIMO - Functional API Tensorflow"
   ]
  },
  {
   "attachments": {},
   "cell_type": "markdown",
   "metadata": {},
   "source": [
    "Author: Nik Alleyne <br>\n",
    "Author Blog: https://www.securitynik.com <br>\n",
    "Author GitHub:github.com/securitynik <br>\n",
    "Author Books: [  <br>\n",
    "                \"https://www.amazon.ca/Learning-Practicing-Leveraging-Practical-Detection/dp/1731254458/\",  <br>\n",
    "                \"https://www.amazon.ca/Learning-Practicing-Mastering-Network-Forensics/dp/1775383024/\" <br>\n",
    "            ] <br>\n"
   ]
  },
  {
   "cell_type": "code",
   "execution_count": 1,
   "metadata": {},
   "outputs": [],
   "source": [
    "# import some libraries\n",
    "import pandas as pd\n",
    "import numpy as np\n",
    "import matplotlib.pyplot as plt"
   ]
  },
  {
   "cell_type": "code",
   "execution_count": 4,
   "metadata": {},
   "outputs": [
    {
     "data": {
      "text/html": [
       "<div>\n",
       "<style scoped>\n",
       "    .dataframe tbody tr th:only-of-type {\n",
       "        vertical-align: middle;\n",
       "    }\n",
       "\n",
       "    .dataframe tbody tr th {\n",
       "        vertical-align: top;\n",
       "    }\n",
       "\n",
       "    .dataframe thead th {\n",
       "        text-align: right;\n",
       "    }\n",
       "</style>\n",
       "<table border=\"1\" class=\"dataframe\">\n",
       "  <thead>\n",
       "    <tr style=\"text-align: right;\">\n",
       "      <th></th>\n",
       "      <th>id.resp_p</th>\n",
       "      <th>duration</th>\n",
       "      <th>orig_bytes</th>\n",
       "      <th>resp_bytes</th>\n",
       "      <th>orig_pkts</th>\n",
       "      <th>orig_ip_bytes</th>\n",
       "      <th>resp_pkts</th>\n",
       "      <th>resp_ip_bytes</th>\n",
       "      <th>label</th>\n",
       "    </tr>\n",
       "  </thead>\n",
       "  <tbody>\n",
       "    <tr>\n",
       "      <th>1</th>\n",
       "      <td>48798</td>\n",
       "      <td>0.000000</td>\n",
       "      <td>0</td>\n",
       "      <td>0</td>\n",
       "      <td>0</td>\n",
       "      <td>0</td>\n",
       "      <td>0</td>\n",
       "      <td>0</td>\n",
       "      <td>0</td>\n",
       "    </tr>\n",
       "    <tr>\n",
       "      <th>2</th>\n",
       "      <td>48804</td>\n",
       "      <td>0.000000</td>\n",
       "      <td>0</td>\n",
       "      <td>0</td>\n",
       "      <td>0</td>\n",
       "      <td>0</td>\n",
       "      <td>0</td>\n",
       "      <td>0</td>\n",
       "      <td>0</td>\n",
       "    </tr>\n",
       "    <tr>\n",
       "      <th>4</th>\n",
       "      <td>27761</td>\n",
       "      <td>0.000000</td>\n",
       "      <td>0</td>\n",
       "      <td>0</td>\n",
       "      <td>0</td>\n",
       "      <td>0</td>\n",
       "      <td>0</td>\n",
       "      <td>0</td>\n",
       "      <td>0</td>\n",
       "    </tr>\n",
       "    <tr>\n",
       "      <th>5</th>\n",
       "      <td>8888</td>\n",
       "      <td>0.053276</td>\n",
       "      <td>208</td>\n",
       "      <td>976</td>\n",
       "      <td>6</td>\n",
       "      <td>528</td>\n",
       "      <td>6</td>\n",
       "      <td>1296</td>\n",
       "      <td>0</td>\n",
       "    </tr>\n",
       "    <tr>\n",
       "      <th>6</th>\n",
       "      <td>8888</td>\n",
       "      <td>0.383646</td>\n",
       "      <td>227</td>\n",
       "      <td>692369</td>\n",
       "      <td>202</td>\n",
       "      <td>10739</td>\n",
       "      <td>117</td>\n",
       "      <td>240893</td>\n",
       "      <td>0</td>\n",
       "    </tr>\n",
       "    <tr>\n",
       "      <th>...</th>\n",
       "      <td>...</td>\n",
       "      <td>...</td>\n",
       "      <td>...</td>\n",
       "      <td>...</td>\n",
       "      <td>...</td>\n",
       "      <td>...</td>\n",
       "      <td>...</td>\n",
       "      <td>...</td>\n",
       "      <td>...</td>\n",
       "    </tr>\n",
       "    <tr>\n",
       "      <th>4430183</th>\n",
       "      <td>9200</td>\n",
       "      <td>0.000051</td>\n",
       "      <td>0</td>\n",
       "      <td>0</td>\n",
       "      <td>1</td>\n",
       "      <td>52</td>\n",
       "      <td>1</td>\n",
       "      <td>40</td>\n",
       "      <td>0</td>\n",
       "    </tr>\n",
       "    <tr>\n",
       "      <th>4430184</th>\n",
       "      <td>9200</td>\n",
       "      <td>0.000023</td>\n",
       "      <td>0</td>\n",
       "      <td>0</td>\n",
       "      <td>0</td>\n",
       "      <td>0</td>\n",
       "      <td>1</td>\n",
       "      <td>40</td>\n",
       "      <td>0</td>\n",
       "    </tr>\n",
       "    <tr>\n",
       "      <th>4430185</th>\n",
       "      <td>9200</td>\n",
       "      <td>0.000005</td>\n",
       "      <td>0</td>\n",
       "      <td>0</td>\n",
       "      <td>0</td>\n",
       "      <td>0</td>\n",
       "      <td>1</td>\n",
       "      <td>40</td>\n",
       "      <td>0</td>\n",
       "    </tr>\n",
       "    <tr>\n",
       "      <th>4430186</th>\n",
       "      <td>9200</td>\n",
       "      <td>0.000005</td>\n",
       "      <td>0</td>\n",
       "      <td>0</td>\n",
       "      <td>0</td>\n",
       "      <td>0</td>\n",
       "      <td>1</td>\n",
       "      <td>40</td>\n",
       "      <td>0</td>\n",
       "    </tr>\n",
       "    <tr>\n",
       "      <th>4430187</th>\n",
       "      <td>9200</td>\n",
       "      <td>0.000005</td>\n",
       "      <td>0</td>\n",
       "      <td>0</td>\n",
       "      <td>0</td>\n",
       "      <td>0</td>\n",
       "      <td>1</td>\n",
       "      <td>40</td>\n",
       "      <td>0</td>\n",
       "    </tr>\n",
       "  </tbody>\n",
       "</table>\n",
       "<p>4236125 rows × 9 columns</p>\n",
       "</div>"
      ],
      "text/plain": [
       "         id.resp_p  duration  orig_bytes  resp_bytes  orig_pkts   \n",
       "1            48798  0.000000           0           0          0  \\\n",
       "2            48804  0.000000           0           0          0   \n",
       "4            27761  0.000000           0           0          0   \n",
       "5             8888  0.053276         208         976          6   \n",
       "6             8888  0.383646         227      692369        202   \n",
       "...            ...       ...         ...         ...        ...   \n",
       "4430183       9200  0.000051           0           0          1   \n",
       "4430184       9200  0.000023           0           0          0   \n",
       "4430185       9200  0.000005           0           0          0   \n",
       "4430186       9200  0.000005           0           0          0   \n",
       "4430187       9200  0.000005           0           0          0   \n",
       "\n",
       "         orig_ip_bytes  resp_pkts  resp_ip_bytes  label  \n",
       "1                    0          0              0      0  \n",
       "2                    0          0              0      0  \n",
       "4                    0          0              0      0  \n",
       "5                  528          6           1296      0  \n",
       "6                10739        117         240893      0  \n",
       "...                ...        ...            ...    ...  \n",
       "4430183             52          1             40      0  \n",
       "4430184              0          1             40      0  \n",
       "4430185              0          1             40      0  \n",
       "4430186              0          1             40      0  \n",
       "4430187              0          1             40      0  \n",
       "\n",
       "[4236125 rows x 9 columns]"
      ]
     },
     "execution_count": 4,
     "metadata": {},
     "output_type": "execute_result"
    }
   ],
   "source": [
    "# In the notebooks on Pandas, Matplotlib and Scaling\n",
    "# we loaded our dataset such as\n",
    "#   04 - Beginning Pandas <br>\n",
    "df_conn = pd.read_csv(r'df_conn_with_labels.csv', index_col=0)\n",
    "df_conn"
   ]
  },
  {
   "attachments": {},
   "cell_type": "markdown",
   "metadata": {},
   "source": [
    "This file represents Zeek (formerly Bro) connection log - conn.log`. \n",
    "Zeek is a framework used for Network Security Monitoring. \n",
    "This entire series is based on using Zeek's data. \n",
    "The majority of the notebooks use the conn.log\n",
    "You can learn more about Zeek here:\n",
    "   \n",
    "    https://zeek.org/\n",
    "\n",
    "Alternatively, come hang out with us in the:\n",
    "SANS SEC595: Applied Data Science and Machine Learning for Cybersecurity Professionals\n",
    "\n",
    "        https://www.sans.org/cyber-security-courses/applied-data-science-machine-learning/ OR\n",
    "\n",
    "SEC503 SEC503: Network Monitoring and Threat Detection In-Depth\n",
    "\n",
    "        https://www.sans.org/cyber-security-courses/network-monitoring-threat-detection/\n",
    "\n",
    "\n",
    "Here are also some blog posts on using Zeek for security monitoring\n",
    "Installing Zeek: \n",
    "\n",
    "        https://www.securitynik.com/2020/06/installing-zeek-314-on-ubuntu-2004.html\n",
    "\n",
    "Detecting PowerShell Empire Usage: \n",
    "\n",
    "        https://www.securitynik.com/2022/02/powershell-empire-detection-with-zeek.html\n",
    "\n",
    "Detecting Log4J Vulnerability Exploitation: \n",
    "\n",
    "        https://www.securitynik.com/2021/12/continuing-log4shell-zeek-detection.html\n"
   ]
  },
  {
   "cell_type": "code",
   "execution_count": 5,
   "metadata": {},
   "outputs": [
    {
     "data": {
      "text/html": [
       "<div>\n",
       "<style scoped>\n",
       "    .dataframe tbody tr th:only-of-type {\n",
       "        vertical-align: middle;\n",
       "    }\n",
       "\n",
       "    .dataframe tbody tr th {\n",
       "        vertical-align: top;\n",
       "    }\n",
       "\n",
       "    .dataframe thead th {\n",
       "        text-align: right;\n",
       "    }\n",
       "</style>\n",
       "<table border=\"1\" class=\"dataframe\">\n",
       "  <thead>\n",
       "    <tr style=\"text-align: right;\">\n",
       "      <th></th>\n",
       "      <th>duration</th>\n",
       "      <th>orig_bytes</th>\n",
       "      <th>resp_bytes</th>\n",
       "      <th>orig_pkts</th>\n",
       "      <th>orig_ip_bytes</th>\n",
       "      <th>resp_pkts</th>\n",
       "      <th>resp_ip_bytes</th>\n",
       "      <th>label</th>\n",
       "    </tr>\n",
       "  </thead>\n",
       "  <tbody>\n",
       "    <tr>\n",
       "      <th>1</th>\n",
       "      <td>0.000000</td>\n",
       "      <td>0</td>\n",
       "      <td>0</td>\n",
       "      <td>0</td>\n",
       "      <td>0</td>\n",
       "      <td>0</td>\n",
       "      <td>0</td>\n",
       "      <td>0</td>\n",
       "    </tr>\n",
       "    <tr>\n",
       "      <th>2</th>\n",
       "      <td>0.000000</td>\n",
       "      <td>0</td>\n",
       "      <td>0</td>\n",
       "      <td>0</td>\n",
       "      <td>0</td>\n",
       "      <td>0</td>\n",
       "      <td>0</td>\n",
       "      <td>0</td>\n",
       "    </tr>\n",
       "    <tr>\n",
       "      <th>4</th>\n",
       "      <td>0.000000</td>\n",
       "      <td>0</td>\n",
       "      <td>0</td>\n",
       "      <td>0</td>\n",
       "      <td>0</td>\n",
       "      <td>0</td>\n",
       "      <td>0</td>\n",
       "      <td>0</td>\n",
       "    </tr>\n",
       "    <tr>\n",
       "      <th>5</th>\n",
       "      <td>0.053276</td>\n",
       "      <td>208</td>\n",
       "      <td>976</td>\n",
       "      <td>6</td>\n",
       "      <td>528</td>\n",
       "      <td>6</td>\n",
       "      <td>1296</td>\n",
       "      <td>0</td>\n",
       "    </tr>\n",
       "    <tr>\n",
       "      <th>6</th>\n",
       "      <td>0.383646</td>\n",
       "      <td>227</td>\n",
       "      <td>692369</td>\n",
       "      <td>202</td>\n",
       "      <td>10739</td>\n",
       "      <td>117</td>\n",
       "      <td>240893</td>\n",
       "      <td>0</td>\n",
       "    </tr>\n",
       "    <tr>\n",
       "      <th>...</th>\n",
       "      <td>...</td>\n",
       "      <td>...</td>\n",
       "      <td>...</td>\n",
       "      <td>...</td>\n",
       "      <td>...</td>\n",
       "      <td>...</td>\n",
       "      <td>...</td>\n",
       "      <td>...</td>\n",
       "    </tr>\n",
       "    <tr>\n",
       "      <th>4430183</th>\n",
       "      <td>0.000051</td>\n",
       "      <td>0</td>\n",
       "      <td>0</td>\n",
       "      <td>1</td>\n",
       "      <td>52</td>\n",
       "      <td>1</td>\n",
       "      <td>40</td>\n",
       "      <td>0</td>\n",
       "    </tr>\n",
       "    <tr>\n",
       "      <th>4430184</th>\n",
       "      <td>0.000023</td>\n",
       "      <td>0</td>\n",
       "      <td>0</td>\n",
       "      <td>0</td>\n",
       "      <td>0</td>\n",
       "      <td>1</td>\n",
       "      <td>40</td>\n",
       "      <td>0</td>\n",
       "    </tr>\n",
       "    <tr>\n",
       "      <th>4430185</th>\n",
       "      <td>0.000005</td>\n",
       "      <td>0</td>\n",
       "      <td>0</td>\n",
       "      <td>0</td>\n",
       "      <td>0</td>\n",
       "      <td>1</td>\n",
       "      <td>40</td>\n",
       "      <td>0</td>\n",
       "    </tr>\n",
       "    <tr>\n",
       "      <th>4430186</th>\n",
       "      <td>0.000005</td>\n",
       "      <td>0</td>\n",
       "      <td>0</td>\n",
       "      <td>0</td>\n",
       "      <td>0</td>\n",
       "      <td>1</td>\n",
       "      <td>40</td>\n",
       "      <td>0</td>\n",
       "    </tr>\n",
       "    <tr>\n",
       "      <th>4430187</th>\n",
       "      <td>0.000005</td>\n",
       "      <td>0</td>\n",
       "      <td>0</td>\n",
       "      <td>0</td>\n",
       "      <td>0</td>\n",
       "      <td>1</td>\n",
       "      <td>40</td>\n",
       "      <td>0</td>\n",
       "    </tr>\n",
       "  </tbody>\n",
       "</table>\n",
       "<p>4236125 rows × 8 columns</p>\n",
       "</div>"
      ],
      "text/plain": [
       "         duration  orig_bytes  resp_bytes  orig_pkts  orig_ip_bytes   \n",
       "1        0.000000           0           0          0              0  \\\n",
       "2        0.000000           0           0          0              0   \n",
       "4        0.000000           0           0          0              0   \n",
       "5        0.053276         208         976          6            528   \n",
       "6        0.383646         227      692369        202          10739   \n",
       "...           ...         ...         ...        ...            ...   \n",
       "4430183  0.000051           0           0          1             52   \n",
       "4430184  0.000023           0           0          0              0   \n",
       "4430185  0.000005           0           0          0              0   \n",
       "4430186  0.000005           0           0          0              0   \n",
       "4430187  0.000005           0           0          0              0   \n",
       "\n",
       "         resp_pkts  resp_ip_bytes  label  \n",
       "1                0              0      0  \n",
       "2                0              0      0  \n",
       "4                0              0      0  \n",
       "5                6           1296      0  \n",
       "6              117         240893      0  \n",
       "...            ...            ...    ...  \n",
       "4430183          1             40      0  \n",
       "4430184          1             40      0  \n",
       "4430185          1             40      0  \n",
       "4430186          1             40      0  \n",
       "4430187          1             40      0  \n",
       "\n",
       "[4236125 rows x 8 columns]"
      ]
     },
     "execution_count": 5,
     "metadata": {},
     "output_type": "execute_result"
    }
   ],
   "source": [
    "# Drop the port column\n",
    "df_conn = df_conn.drop(columns=['id.resp_p'], inplace=False)\n",
    "df_conn"
   ]
  },
  {
   "cell_type": "code",
   "execution_count": 6,
   "metadata": {},
   "outputs": [
    {
     "data": {
      "text/html": [
       "<div>\n",
       "<style scoped>\n",
       "    .dataframe tbody tr th:only-of-type {\n",
       "        vertical-align: middle;\n",
       "    }\n",
       "\n",
       "    .dataframe tbody tr th {\n",
       "        vertical-align: top;\n",
       "    }\n",
       "\n",
       "    .dataframe thead th {\n",
       "        text-align: right;\n",
       "    }\n",
       "</style>\n",
       "<table border=\"1\" class=\"dataframe\">\n",
       "  <thead>\n",
       "    <tr style=\"text-align: right;\">\n",
       "      <th></th>\n",
       "      <th>duration</th>\n",
       "      <th>orig_bytes</th>\n",
       "      <th>resp_bytes</th>\n",
       "      <th>orig_pkts</th>\n",
       "      <th>orig_ip_bytes</th>\n",
       "      <th>resp_pkts</th>\n",
       "      <th>resp_ip_bytes</th>\n",
       "      <th>label</th>\n",
       "    </tr>\n",
       "  </thead>\n",
       "  <tbody>\n",
       "    <tr>\n",
       "      <th>5</th>\n",
       "      <td>0.053276</td>\n",
       "      <td>208</td>\n",
       "      <td>976</td>\n",
       "      <td>6</td>\n",
       "      <td>528</td>\n",
       "      <td>6</td>\n",
       "      <td>1296</td>\n",
       "      <td>0</td>\n",
       "    </tr>\n",
       "    <tr>\n",
       "      <th>6</th>\n",
       "      <td>0.383646</td>\n",
       "      <td>227</td>\n",
       "      <td>692369</td>\n",
       "      <td>202</td>\n",
       "      <td>10739</td>\n",
       "      <td>117</td>\n",
       "      <td>240893</td>\n",
       "      <td>0</td>\n",
       "    </tr>\n",
       "    <tr>\n",
       "      <th>7</th>\n",
       "      <td>0.054294</td>\n",
       "      <td>208</td>\n",
       "      <td>977</td>\n",
       "      <td>6</td>\n",
       "      <td>528</td>\n",
       "      <td>6</td>\n",
       "      <td>1297</td>\n",
       "      <td>0</td>\n",
       "    </tr>\n",
       "    <tr>\n",
       "      <th>8</th>\n",
       "      <td>0.424980</td>\n",
       "      <td>227</td>\n",
       "      <td>791633</td>\n",
       "      <td>176</td>\n",
       "      <td>9387</td>\n",
       "      <td>174</td>\n",
       "      <td>367737</td>\n",
       "      <td>0</td>\n",
       "    </tr>\n",
       "    <tr>\n",
       "      <th>9</th>\n",
       "      <td>0.272567</td>\n",
       "      <td>227</td>\n",
       "      <td>406607</td>\n",
       "      <td>171</td>\n",
       "      <td>9127</td>\n",
       "      <td>71</td>\n",
       "      <td>169939</td>\n",
       "      <td>0</td>\n",
       "    </tr>\n",
       "    <tr>\n",
       "      <th>...</th>\n",
       "      <td>...</td>\n",
       "      <td>...</td>\n",
       "      <td>...</td>\n",
       "      <td>...</td>\n",
       "      <td>...</td>\n",
       "      <td>...</td>\n",
       "      <td>...</td>\n",
       "      <td>...</td>\n",
       "    </tr>\n",
       "    <tr>\n",
       "      <th>4430183</th>\n",
       "      <td>0.000051</td>\n",
       "      <td>0</td>\n",
       "      <td>0</td>\n",
       "      <td>1</td>\n",
       "      <td>52</td>\n",
       "      <td>1</td>\n",
       "      <td>40</td>\n",
       "      <td>0</td>\n",
       "    </tr>\n",
       "    <tr>\n",
       "      <th>4430184</th>\n",
       "      <td>0.000023</td>\n",
       "      <td>0</td>\n",
       "      <td>0</td>\n",
       "      <td>0</td>\n",
       "      <td>0</td>\n",
       "      <td>1</td>\n",
       "      <td>40</td>\n",
       "      <td>0</td>\n",
       "    </tr>\n",
       "    <tr>\n",
       "      <th>4430185</th>\n",
       "      <td>0.000005</td>\n",
       "      <td>0</td>\n",
       "      <td>0</td>\n",
       "      <td>0</td>\n",
       "      <td>0</td>\n",
       "      <td>1</td>\n",
       "      <td>40</td>\n",
       "      <td>0</td>\n",
       "    </tr>\n",
       "    <tr>\n",
       "      <th>4430186</th>\n",
       "      <td>0.000005</td>\n",
       "      <td>0</td>\n",
       "      <td>0</td>\n",
       "      <td>0</td>\n",
       "      <td>0</td>\n",
       "      <td>1</td>\n",
       "      <td>40</td>\n",
       "      <td>0</td>\n",
       "    </tr>\n",
       "    <tr>\n",
       "      <th>4430187</th>\n",
       "      <td>0.000005</td>\n",
       "      <td>0</td>\n",
       "      <td>0</td>\n",
       "      <td>0</td>\n",
       "      <td>0</td>\n",
       "      <td>1</td>\n",
       "      <td>40</td>\n",
       "      <td>0</td>\n",
       "    </tr>\n",
       "  </tbody>\n",
       "</table>\n",
       "<p>207608 rows × 8 columns</p>\n",
       "</div>"
      ],
      "text/plain": [
       "         duration  orig_bytes  resp_bytes  orig_pkts  orig_ip_bytes   \n",
       "5        0.053276         208         976          6            528  \\\n",
       "6        0.383646         227      692369        202          10739   \n",
       "7        0.054294         208         977          6            528   \n",
       "8        0.424980         227      791633        176           9387   \n",
       "9        0.272567         227      406607        171           9127   \n",
       "...           ...         ...         ...        ...            ...   \n",
       "4430183  0.000051           0           0          1             52   \n",
       "4430184  0.000023           0           0          0              0   \n",
       "4430185  0.000005           0           0          0              0   \n",
       "4430186  0.000005           0           0          0              0   \n",
       "4430187  0.000005           0           0          0              0   \n",
       "\n",
       "         resp_pkts  resp_ip_bytes  label  \n",
       "5                6           1296      0  \n",
       "6              117         240893      0  \n",
       "7                6           1297      0  \n",
       "8              174         367737      0  \n",
       "9               71         169939      0  \n",
       "...            ...            ...    ...  \n",
       "4430183          1             40      0  \n",
       "4430184          1             40      0  \n",
       "4430185          1             40      0  \n",
       "4430186          1             40      0  \n",
       "4430187          1             40      0  \n",
       "\n",
       "[207608 rows x 8 columns]"
      ]
     },
     "execution_count": 6,
     "metadata": {},
     "output_type": "execute_result"
    }
   ],
   "source": [
    "# Looking at above, we see a number of records with 0s. \n",
    "# These will add no value to our learning process\n",
    "# Let's find all those records and drop them\n",
    "# Reference: https://stackoverflow.com/questions/13851535/how-to-delete-rows-from-a-pandas-dataframe-based-on-a-conditional-expression\n",
    "df_conn = df_conn.drop(df_conn[(df_conn.duration == 0 ) & (df_conn.orig_bytes == 0 ) \\\n",
    "                               & (df_conn.resp_bytes == 0 ) & (df_conn.orig_pkts == 0 )  \\\n",
    "                                & (df_conn.orig_ip_bytes == 0 ) & (df_conn.resp_pkts == 0 ) \\\n",
    "                                    & (df_conn.resp_ip_bytes == 0 )].index)\n",
    "df_conn"
   ]
  },
  {
   "cell_type": "code",
   "execution_count": 7,
   "metadata": {},
   "outputs": [
    {
     "data": {
      "image/png": "[encoded data removed]",
      "text/plain": [
       "<Figure size 640x480 with 1 Axes>"
      ]
     },
     "metadata": {},
     "output_type": "display_data"
    }
   ],
   "source": [
    "# The graph below shows this dataset is highly imbalanced.\n",
    "# As a result, using measures like accuracy is more than likely not the best \n",
    "# approach, to understand how well our eventual model has \"learned\"\n",
    "# via the training data\n",
    "plt.title('Bar graph showing highly imbalanced dataset')\n",
    "plt.bar(x=['normal', 'suspicious'], height=[ df_conn[df_conn.label == 0].shape[0], \\\n",
    "                                            df_conn[df_conn.label == 1].shape[0] ])\n",
    "plt.ylabel(ylabel='Number of Records')\n",
    "plt.xlabel(xlabel='Normal vs Suspicious')\n",
    "plt.xticks(rotation=45)\n",
    "plt.show()\n"
   ]
  },
  {
   "cell_type": "code",
   "execution_count": 8,
   "metadata": {},
   "outputs": [
    {
     "data": {
      "text/plain": [
       "0.032272359446649454"
      ]
     },
     "execution_count": 8,
     "metadata": {},
     "output_type": "execute_result"
    }
   ],
   "source": [
    "# Getting the percentage of samples that are considered suspicious in this dataset\n",
    "# This is going to be quite a challenge for this learning algorithm\n",
    "(df_conn[df_conn.label == 1].shape[0] / df_conn.shape[0]) * 100"
   ]
  },
  {
   "cell_type": "code",
   "execution_count": 9,
   "metadata": {},
   "outputs": [
    {
     "data": {
      "text/html": [
       "<div>\n",
       "<style scoped>\n",
       "    .dataframe tbody tr th:only-of-type {\n",
       "        vertical-align: middle;\n",
       "    }\n",
       "\n",
       "    .dataframe tbody tr th {\n",
       "        vertical-align: top;\n",
       "    }\n",
       "\n",
       "    .dataframe thead th {\n",
       "        text-align: right;\n",
       "    }\n",
       "</style>\n",
       "<table border=\"1\" class=\"dataframe\">\n",
       "  <thead>\n",
       "    <tr style=\"text-align: right;\">\n",
       "      <th></th>\n",
       "      <th>duration</th>\n",
       "      <th>orig_bytes</th>\n",
       "      <th>resp_bytes</th>\n",
       "      <th>orig_pkts</th>\n",
       "      <th>orig_ip_bytes</th>\n",
       "      <th>resp_pkts</th>\n",
       "      <th>resp_ip_bytes</th>\n",
       "    </tr>\n",
       "  </thead>\n",
       "  <tbody>\n",
       "    <tr>\n",
       "      <th>5</th>\n",
       "      <td>0.053276</td>\n",
       "      <td>208</td>\n",
       "      <td>976</td>\n",
       "      <td>6</td>\n",
       "      <td>528</td>\n",
       "      <td>6</td>\n",
       "      <td>1296</td>\n",
       "    </tr>\n",
       "    <tr>\n",
       "      <th>6</th>\n",
       "      <td>0.383646</td>\n",
       "      <td>227</td>\n",
       "      <td>692369</td>\n",
       "      <td>202</td>\n",
       "      <td>10739</td>\n",
       "      <td>117</td>\n",
       "      <td>240893</td>\n",
       "    </tr>\n",
       "    <tr>\n",
       "      <th>7</th>\n",
       "      <td>0.054294</td>\n",
       "      <td>208</td>\n",
       "      <td>977</td>\n",
       "      <td>6</td>\n",
       "      <td>528</td>\n",
       "      <td>6</td>\n",
       "      <td>1297</td>\n",
       "    </tr>\n",
       "    <tr>\n",
       "      <th>8</th>\n",
       "      <td>0.424980</td>\n",
       "      <td>227</td>\n",
       "      <td>791633</td>\n",
       "      <td>176</td>\n",
       "      <td>9387</td>\n",
       "      <td>174</td>\n",
       "      <td>367737</td>\n",
       "    </tr>\n",
       "    <tr>\n",
       "      <th>9</th>\n",
       "      <td>0.272567</td>\n",
       "      <td>227</td>\n",
       "      <td>406607</td>\n",
       "      <td>171</td>\n",
       "      <td>9127</td>\n",
       "      <td>71</td>\n",
       "      <td>169939</td>\n",
       "    </tr>\n",
       "    <tr>\n",
       "      <th>...</th>\n",
       "      <td>...</td>\n",
       "      <td>...</td>\n",
       "      <td>...</td>\n",
       "      <td>...</td>\n",
       "      <td>...</td>\n",
       "      <td>...</td>\n",
       "      <td>...</td>\n",
       "    </tr>\n",
       "    <tr>\n",
       "      <th>4430183</th>\n",
       "      <td>0.000051</td>\n",
       "      <td>0</td>\n",
       "      <td>0</td>\n",
       "      <td>1</td>\n",
       "      <td>52</td>\n",
       "      <td>1</td>\n",
       "      <td>40</td>\n",
       "    </tr>\n",
       "    <tr>\n",
       "      <th>4430184</th>\n",
       "      <td>0.000023</td>\n",
       "      <td>0</td>\n",
       "      <td>0</td>\n",
       "      <td>0</td>\n",
       "      <td>0</td>\n",
       "      <td>1</td>\n",
       "      <td>40</td>\n",
       "    </tr>\n",
       "    <tr>\n",
       "      <th>4430185</th>\n",
       "      <td>0.000005</td>\n",
       "      <td>0</td>\n",
       "      <td>0</td>\n",
       "      <td>0</td>\n",
       "      <td>0</td>\n",
       "      <td>1</td>\n",
       "      <td>40</td>\n",
       "    </tr>\n",
       "    <tr>\n",
       "      <th>4430186</th>\n",
       "      <td>0.000005</td>\n",
       "      <td>0</td>\n",
       "      <td>0</td>\n",
       "      <td>0</td>\n",
       "      <td>0</td>\n",
       "      <td>1</td>\n",
       "      <td>40</td>\n",
       "    </tr>\n",
       "    <tr>\n",
       "      <th>4430187</th>\n",
       "      <td>0.000005</td>\n",
       "      <td>0</td>\n",
       "      <td>0</td>\n",
       "      <td>0</td>\n",
       "      <td>0</td>\n",
       "      <td>1</td>\n",
       "      <td>40</td>\n",
       "    </tr>\n",
       "  </tbody>\n",
       "</table>\n",
       "<p>207608 rows × 7 columns</p>\n",
       "</div>"
      ],
      "text/plain": [
       "         duration  orig_bytes  resp_bytes  orig_pkts  orig_ip_bytes   \n",
       "5        0.053276         208         976          6            528  \\\n",
       "6        0.383646         227      692369        202          10739   \n",
       "7        0.054294         208         977          6            528   \n",
       "8        0.424980         227      791633        176           9387   \n",
       "9        0.272567         227      406607        171           9127   \n",
       "...           ...         ...         ...        ...            ...   \n",
       "4430183  0.000051           0           0          1             52   \n",
       "4430184  0.000023           0           0          0              0   \n",
       "4430185  0.000005           0           0          0              0   \n",
       "4430186  0.000005           0           0          0              0   \n",
       "4430187  0.000005           0           0          0              0   \n",
       "\n",
       "         resp_pkts  resp_ip_bytes  \n",
       "5                6           1296  \n",
       "6              117         240893  \n",
       "7                6           1297  \n",
       "8              174         367737  \n",
       "9               71         169939  \n",
       "...            ...            ...  \n",
       "4430183          1             40  \n",
       "4430184          1             40  \n",
       "4430185          1             40  \n",
       "4430186          1             40  \n",
       "4430187          1             40  \n",
       "\n",
       "[207608 rows x 7 columns]"
      ]
     },
     "execution_count": 9,
     "metadata": {},
     "output_type": "execute_result"
    }
   ],
   "source": [
    "# Extract the X_data to be used for the classification part of the model\n",
    "X_clf = df_conn.drop(columns=['label'], inplace=False)\n",
    "X_clf"
   ]
  },
  {
   "cell_type": "code",
   "execution_count": 10,
   "metadata": {},
   "outputs": [
    {
     "data": {
      "text/plain": [
       "5          0\n",
       "6          0\n",
       "7          0\n",
       "8          0\n",
       "9          0\n",
       "          ..\n",
       "4430183    0\n",
       "4430184    0\n",
       "4430185    0\n",
       "4430186    0\n",
       "4430187    0\n",
       "Name: label, Length: 207608, dtype: int64"
      ]
     },
     "execution_count": 10,
     "metadata": {},
     "output_type": "execute_result"
    }
   ],
   "source": [
    "# Extract the labels to be used for classification\n",
    "y_label = df_conn.label\n",
    "y_label"
   ]
  },
  {
   "cell_type": "code",
   "execution_count": 11,
   "metadata": {},
   "outputs": [
    {
     "data": {
      "text/html": [
       "<div>\n",
       "<style scoped>\n",
       "    .dataframe tbody tr th:only-of-type {\n",
       "        vertical-align: middle;\n",
       "    }\n",
       "\n",
       "    .dataframe tbody tr th {\n",
       "        vertical-align: top;\n",
       "    }\n",
       "\n",
       "    .dataframe thead th {\n",
       "        text-align: right;\n",
       "    }\n",
       "</style>\n",
       "<table border=\"1\" class=\"dataframe\">\n",
       "  <thead>\n",
       "    <tr style=\"text-align: right;\">\n",
       "      <th></th>\n",
       "      <th>orig_bytes</th>\n",
       "      <th>resp_bytes</th>\n",
       "    </tr>\n",
       "  </thead>\n",
       "  <tbody>\n",
       "    <tr>\n",
       "      <th>5</th>\n",
       "      <td>208</td>\n",
       "      <td>976</td>\n",
       "    </tr>\n",
       "    <tr>\n",
       "      <th>6</th>\n",
       "      <td>227</td>\n",
       "      <td>692369</td>\n",
       "    </tr>\n",
       "    <tr>\n",
       "      <th>7</th>\n",
       "      <td>208</td>\n",
       "      <td>977</td>\n",
       "    </tr>\n",
       "    <tr>\n",
       "      <th>8</th>\n",
       "      <td>227</td>\n",
       "      <td>791633</td>\n",
       "    </tr>\n",
       "    <tr>\n",
       "      <th>9</th>\n",
       "      <td>227</td>\n",
       "      <td>406607</td>\n",
       "    </tr>\n",
       "    <tr>\n",
       "      <th>...</th>\n",
       "      <td>...</td>\n",
       "      <td>...</td>\n",
       "    </tr>\n",
       "    <tr>\n",
       "      <th>4430183</th>\n",
       "      <td>0</td>\n",
       "      <td>0</td>\n",
       "    </tr>\n",
       "    <tr>\n",
       "      <th>4430184</th>\n",
       "      <td>0</td>\n",
       "      <td>0</td>\n",
       "    </tr>\n",
       "    <tr>\n",
       "      <th>4430185</th>\n",
       "      <td>0</td>\n",
       "      <td>0</td>\n",
       "    </tr>\n",
       "    <tr>\n",
       "      <th>4430186</th>\n",
       "      <td>0</td>\n",
       "      <td>0</td>\n",
       "    </tr>\n",
       "    <tr>\n",
       "      <th>4430187</th>\n",
       "      <td>0</td>\n",
       "      <td>0</td>\n",
       "    </tr>\n",
       "  </tbody>\n",
       "</table>\n",
       "<p>207608 rows × 2 columns</p>\n",
       "</div>"
      ],
      "text/plain": [
       "         orig_bytes  resp_bytes\n",
       "5               208         976\n",
       "6               227      692369\n",
       "7               208         977\n",
       "8               227      791633\n",
       "9               227      406607\n",
       "...             ...         ...\n",
       "4430183           0           0\n",
       "4430184           0           0\n",
       "4430185           0           0\n",
       "4430186           0           0\n",
       "4430187           0           0\n",
       "\n",
       "[207608 rows x 2 columns]"
      ]
     },
     "execution_count": 11,
     "metadata": {},
     "output_type": "execute_result"
    }
   ],
   "source": [
    "# In the linear regression notebook, we attempted to predict the resp_ip_bytes\n",
    "#   11. Beginning Linear Regression - Machine Learning\n",
    "#   14. Beginning Deep Learning, - Linear Regression, Tensorflow\n",
    "#   15. Beginning Deep Learning, - Linear Regression, PyTorch  \n",
    "\n",
    "# Doing something different this time.\n",
    "# Let's use the orig_bytes to predict the resp_bytes \n",
    "# We will then use the combination of regression results and the classification results \n",
    "# to conclude if something is suspicious\n",
    "# Also I choose these two because there is somewhat of a linear relationship between the two\n",
    "X_reg = df_conn[['orig_bytes', 'resp_bytes']]\n",
    "X_reg\n"
   ]
  },
  {
   "cell_type": "code",
   "execution_count": 12,
   "metadata": {},
   "outputs": [
    {
     "data": {
      "text/html": [
       "<div>\n",
       "<style scoped>\n",
       "    .dataframe tbody tr th:only-of-type {\n",
       "        vertical-align: middle;\n",
       "    }\n",
       "\n",
       "    .dataframe tbody tr th {\n",
       "        vertical-align: top;\n",
       "    }\n",
       "\n",
       "    .dataframe thead th {\n",
       "        text-align: right;\n",
       "    }\n",
       "</style>\n",
       "<table border=\"1\" class=\"dataframe\">\n",
       "  <thead>\n",
       "    <tr style=\"text-align: right;\">\n",
       "      <th></th>\n",
       "      <th>orig_bytes</th>\n",
       "      <th>resp_bytes</th>\n",
       "    </tr>\n",
       "  </thead>\n",
       "  <tbody>\n",
       "    <tr>\n",
       "      <th>orig_bytes</th>\n",
       "      <td>1.000000</td>\n",
       "      <td>0.139104</td>\n",
       "    </tr>\n",
       "    <tr>\n",
       "      <th>resp_bytes</th>\n",
       "      <td>0.139104</td>\n",
       "      <td>1.000000</td>\n",
       "    </tr>\n",
       "  </tbody>\n",
       "</table>\n",
       "</div>"
      ],
      "text/plain": [
       "            orig_bytes  resp_bytes\n",
       "orig_bytes    1.000000    0.139104\n",
       "resp_bytes    0.139104    1.000000"
      ]
     },
     "execution_count": 12,
     "metadata": {},
     "output_type": "execute_result"
    }
   ],
   "source": [
    "# Is there a relationship between these two variables?\n",
    "# Below suggest no\n",
    "X_reg.corr(method='pearson')"
   ]
  },
  {
   "cell_type": "code",
   "execution_count": 13,
   "metadata": {},
   "outputs": [
    {
     "data": {
      "text/plain": [
       "Text(0, 0.5, 'Responder Bytes')"
      ]
     },
     "execution_count": 13,
     "metadata": {},
     "output_type": "execute_result"
    },
    {
     "data": {
      "image/png": "[encoded data removed]",
      "text/plain": [
       "<Figure size 640x480 with 1 Axes>"
      ]
     },
     "metadata": {},
     "output_type": "display_data"
    }
   ],
   "source": [
    "# Do we have a linear relationship here? A better view\n",
    "plt.title('Scatter Plot of Originator vs Responder Bytes')\n",
    "plt.scatter(x=X_reg.orig_bytes, y=X_reg.resp_bytes)\n",
    "plt.xlabel('Originator Bytes')\n",
    "plt.ylabel('Responder Bytes')"
   ]
  },
  {
   "cell_type": "code",
   "execution_count": 14,
   "metadata": {},
   "outputs": [],
   "source": [
    "# prepare to split the datasets into training and testing sets\n",
    "from sklearn.model_selection import train_test_split"
   ]
  },
  {
   "cell_type": "code",
   "execution_count": 15,
   "metadata": {},
   "outputs": [
    {
     "data": {
      "text/plain": [
       "((166086, 7), (166086,), (41522, 7), (41522,))"
      ]
     },
     "execution_count": 15,
     "metadata": {},
     "output_type": "execute_result"
    }
   ],
   "source": [
    "# Split the classification data into training and testing sets\n",
    "X_train_clf, X_test_clf, y_train_clf, y_test_clf = train_test_split(X_clf.values, y_label, test_size=0.2, \\\n",
    "                                                                    train_size=0.8, stratify=y_label, random_state=10)\n",
    "X_train_clf.shape, y_train_clf.shape, X_test_clf.shape, y_test_clf.shape"
   ]
  },
  {
   "cell_type": "code",
   "execution_count": 16,
   "metadata": {},
   "outputs": [
    {
     "data": {
      "text/plain": [
       "((166086, 1), (166086,), (41522, 1), (41522,))"
      ]
     },
     "execution_count": 16,
     "metadata": {},
     "output_type": "execute_result"
    }
   ],
   "source": [
    "# Split the regression data also into training and testing sets\n",
    "X_train_reg, X_test_reg, y_train_reg, y_test_reg = train_test_split(X_reg.orig_bytes.values.reshape(-1,1),  \\\n",
    "                                                                    X_reg.resp_bytes.values, train_size=0.8, random_state=10)\n",
    "X_train_reg.shape, y_train_reg.shape, X_test_reg.shape, y_test_reg.shape"
   ]
  },
  {
   "cell_type": "code",
   "execution_count": 17,
   "metadata": {},
   "outputs": [],
   "source": [
    "# Scaling the data first\n",
    "# We learned more about scaling in\n",
    "#   06 - Beginning Data Scaling\n",
    "# import the scaler library\n",
    "# https://scikit-learn.org/stable/modules/generated/sklearn.preprocessing.MinMaxScaler.html\n",
    "from sklearn.preprocessing import MinMaxScaler"
   ]
  },
  {
   "cell_type": "code",
   "execution_count": 18,
   "metadata": {},
   "outputs": [
    {
     "data": {
      "text/plain": [
       "(array([[2.63072563e-07, 9.18795041e-08, 7.10178687e-08, ...,\n",
       "         3.59579942e-07, 1.75013957e-06, 3.05765612e-07],\n",
       "        [3.61672231e-07, 5.89415687e-08, 2.38314996e-08, ...,\n",
       "         2.75234030e-07, 1.75013957e-06, 1.34744168e-07],\n",
       "        [2.79225614e-09, 0.00000000e+00, 0.00000000e+00, ...,\n",
       "         2.30841444e-07, 1.75013957e-06, 6.90995734e-08],\n",
       "        ...,\n",
       "        [1.68135854e-09, 0.00000000e+00, 0.00000000e+00, ...,\n",
       "         2.30841444e-07, 1.75013957e-06, 6.90995734e-08],\n",
       "        [1.65133428e-09, 0.00000000e+00, 0.00000000e+00, ...,\n",
       "         2.30841444e-07, 1.75013957e-06, 6.90995734e-08],\n",
       "        [3.49932746e-07, 7.80108997e-08, 8.38868784e-08, ...,\n",
       "         3.24065874e-07, 1.75013957e-06, 3.52407824e-07]]),\n",
       " (166086, 7))"
      ]
     },
     "execution_count": 18,
     "metadata": {},
     "output_type": "execute_result"
    }
   ],
   "source": [
    "# Setup the scaler for classification\n",
    "min_max_clf = MinMaxScaler(feature_range=(0,1))\n",
    "\n",
    "# Fit on the classification training data\n",
    "min_max_clf.fit(X_train_clf)\n",
    "\n",
    "# Transform the train data\n",
    "X_train_clf = min_max_clf.transform(X_train_clf)\n",
    "X_train_clf, X_train_clf.shape"
   ]
  },
  {
   "cell_type": "code",
   "execution_count": 19,
   "metadata": {},
   "outputs": [
    {
     "data": {
      "text/plain": [
       "array([[1.73484676e-05, 3.90054499e-07, 8.33234064e-04, ...,\n",
       "        7.60578166e-05, 6.94805411e-04, 1.16707452e-03],\n",
       "       [5.08070521e-07, 6.41422953e-08, 5.29059290e-08, ...,\n",
       "        2.88551805e-07, 1.75013957e-06, 2.40121018e-07],\n",
       "       [4.43809598e-06, 2.05948775e-06, 1.84884774e-05, ...,\n",
       "        9.69534066e-06, 5.60044664e-05, 6.65187043e-05],\n",
       "       ...,\n",
       "       [5.47522398e-07, 6.41422953e-08, 8.96064383e-08, ...,\n",
       "        2.88551805e-07, 1.75013957e-06, 3.73137696e-07],\n",
       "       [1.83147984e-09, 0.00000000e+00, 0.00000000e+00, ...,\n",
       "        2.30841444e-07, 1.75013957e-06, 6.90995734e-08],\n",
       "       [0.00000000e+00, 0.00000000e+00, 0.00000000e+00, ...,\n",
       "        3.95094010e-07, 0.00000000e+00, 0.00000000e+00]])"
      ]
     },
     "execution_count": 19,
     "metadata": {},
     "output_type": "execute_result"
    }
   ],
   "source": [
    "# Scale/transform the classification test data \n",
    "X_test_clf = min_max_clf.transform(X_test_clf)\n",
    "X_test_clf"
   ]
  },
  {
   "cell_type": "code",
   "execution_count": 20,
   "metadata": {},
   "outputs": [],
   "source": [
    "# import PCA to leverage dimensionality reduction\n",
    "from sklearn.decomposition import PCA"
   ]
  },
  {
   "cell_type": "code",
   "execution_count": 21,
   "metadata": {},
   "outputs": [
    {
     "data": {
      "text/html": [
       "<style>#sk-container-id-1 {color: black;background-color: white;}#sk-container-id-1 pre{padding: 0;}#sk-container-id-1 div.sk-toggleable {background-color: white;}#sk-container-id-1 label.sk-toggleable__label {cursor: pointer;display: block;width: 100%;margin-bottom: 0;padding: 0.3em;box-sizing: border-box;text-align: center;}#sk-container-id-1 label.sk-toggleable__label-arrow:before {content: \"▸\";float: left;margin-right: 0.25em;color: #696969;}#sk-container-id-1 label.sk-toggleable__label-arrow:hover:before {color: black;}#sk-container-id-1 div.sk-estimator:hover label.sk-toggleable__label-arrow:before {color: black;}#sk-container-id-1 div.sk-toggleable__content {max-height: 0;max-width: 0;overflow: hidden;text-align: left;background-color: #f0f8ff;}#sk-container-id-1 div.sk-toggleable__content pre {margin: 0.2em;color: black;border-radius: 0.25em;background-color: #f0f8ff;}#sk-container-id-1 input.sk-toggleable__control:checked~div.sk-toggleable__content {max-height: 200px;max-width: 100%;overflow: auto;}#sk-container-id-1 input.sk-toggleable__control:checked~label.sk-toggleable__label-arrow:before {content: \"▾\";}#sk-container-id-1 div.sk-estimator input.sk-toggleable__control:checked~label.sk-toggleable__label {background-color: #d4ebff;}#sk-container-id-1 div.sk-label input.sk-toggleable__control:checked~label.sk-toggleable__label {background-color: #d4ebff;}#sk-container-id-1 input.sk-hidden--visually {border: 0;clip: rect(1px 1px 1px 1px);clip: rect(1px, 1px, 1px, 1px);height: 1px;margin: -1px;overflow: hidden;padding: 0;position: absolute;width: 1px;}#sk-container-id-1 div.sk-estimator {font-family: monospace;background-color: #f0f8ff;border: 1px dotted black;border-radius: 0.25em;box-sizing: border-box;margin-bottom: 0.5em;}#sk-container-id-1 div.sk-estimator:hover {background-color: #d4ebff;}#sk-container-id-1 div.sk-parallel-item::after {content: \"\";width: 100%;border-bottom: 1px solid gray;flex-grow: 1;}#sk-container-id-1 div.sk-label:hover label.sk-toggleable__label {background-color: #d4ebff;}#sk-container-id-1 div.sk-serial::before {content: \"\";position: absolute;border-left: 1px solid gray;box-sizing: border-box;top: 0;bottom: 0;left: 50%;z-index: 0;}#sk-container-id-1 div.sk-serial {display: flex;flex-direction: column;align-items: center;background-color: white;padding-right: 0.2em;padding-left: 0.2em;position: relative;}#sk-container-id-1 div.sk-item {position: relative;z-index: 1;}#sk-container-id-1 div.sk-parallel {display: flex;align-items: stretch;justify-content: center;background-color: white;position: relative;}#sk-container-id-1 div.sk-item::before, #sk-container-id-1 div.sk-parallel-item::before {content: \"\";position: absolute;border-left: 1px solid gray;box-sizing: border-box;top: 0;bottom: 0;left: 50%;z-index: -1;}#sk-container-id-1 div.sk-parallel-item {display: flex;flex-direction: column;z-index: 1;position: relative;background-color: white;}#sk-container-id-1 div.sk-parallel-item:first-child::after {align-self: flex-end;width: 50%;}#sk-container-id-1 div.sk-parallel-item:last-child::after {align-self: flex-start;width: 50%;}#sk-container-id-1 div.sk-parallel-item:only-child::after {width: 0;}#sk-container-id-1 div.sk-dashed-wrapped {border: 1px dashed gray;margin: 0 0.4em 0.5em 0.4em;box-sizing: border-box;padding-bottom: 0.4em;background-color: white;}#sk-container-id-1 div.sk-label label {font-family: monospace;font-weight: bold;display: inline-block;line-height: 1.2em;}#sk-container-id-1 div.sk-label-container {text-align: center;}#sk-container-id-1 div.sk-container {/* jupyter's `normalize.less` sets `[hidden] { display: none; }` but bootstrap.min.css set `[hidden] { display: none !important; }` so we also need the `!important` here to be able to override the default hidden behavior on the sphinx rendered scikit-learn.org. See: https://github.com/scikit-learn/scikit-learn/issues/21755 */display: inline-block !important;position: relative;}#sk-container-id-1 div.sk-text-repr-fallback {display: none;}</style><div id=\"sk-container-id-1\" class=\"sk-top-container\"><div class=\"sk-text-repr-fallback\"><pre>PCA(n_components=3, random_state=10)</pre><b>In a Jupyter environment, please rerun this cell to show the HTML representation or trust the notebook. <br />On GitHub, the HTML representation is unable to render, please try loading this page with nbviewer.org.</b></div><div class=\"sk-container\" hidden><div class=\"sk-item\"><div class=\"sk-estimator sk-toggleable\"><input class=\"sk-toggleable__control sk-hidden--visually\" id=\"sk-estimator-id-1\" type=\"checkbox\" checked><label for=\"sk-estimator-id-1\" class=\"sk-toggleable__label sk-toggleable__label-arrow\">PCA</label><div class=\"sk-toggleable__content\"><pre>PCA(n_components=3, random_state=10)</pre></div></div></div></div></div>"
      ],
      "text/plain": [
       "PCA(n_components=3, random_state=10)"
      ]
     },
     "execution_count": 21,
     "metadata": {},
     "output_type": "execute_result"
    }
   ],
   "source": [
    "# Setup PCA to use 3 principal Components\n",
    "# We learned about PCA in\n",
    "#   07 - Beginning Principal Component Analysis (PCA)\n",
    "pca = PCA(n_components=3, random_state=10)\n",
    "pca"
   ]
  },
  {
   "cell_type": "code",
   "execution_count": 22,
   "metadata": {},
   "outputs": [
    {
     "data": {
      "text/plain": [
       "array([[-0.00025828, -0.00023497, -0.00047665],\n",
       "       [-0.00025839, -0.00023502, -0.00047653],\n",
       "       [-0.00025846, -0.00023515, -0.00047686],\n",
       "       ...,\n",
       "       [-0.00025846, -0.00023515, -0.00047686],\n",
       "       [-0.00025846, -0.00023515, -0.00047686],\n",
       "       [-0.00025826, -0.00023494, -0.00047657]])"
      ]
     },
     "execution_count": 22,
     "metadata": {},
     "output_type": "execute_result"
    }
   ],
   "source": [
    "# Fit the PCA on the X_train classification data\n",
    "pca.fit(X_train_clf)\n",
    "\n",
    "# transform the training classification data \n",
    "X_train_clf = pca.transform(X_train_clf)\n",
    "X_train_clf"
   ]
  },
  {
   "cell_type": "code",
   "execution_count": 23,
   "metadata": {},
   "outputs": [
    {
     "data": {
      "text/plain": [
       "array([[ 0.00134937,  0.000691  , -0.0008094 ],\n",
       "       [-0.00025832, -0.00023494, -0.0004764 ],\n",
       "       [-0.00018612, -0.00015918, -0.0004979 ],\n",
       "       ...,\n",
       "       [-0.00025824, -0.00023488, -0.00047639],\n",
       "       [-0.00025846, -0.00023515, -0.00047686],\n",
       "       [-0.00025896, -0.0002359 , -0.00047662]])"
      ]
     },
     "execution_count": 23,
     "metadata": {},
     "output_type": "execute_result"
    }
   ],
   "source": [
    "# Use the opportunity to PCA transform the X_test classification data\n",
    "X_test_clf = pca.transform(X_test_clf)\n",
    "X_test_clf"
   ]
  },
  {
   "cell_type": "code",
   "execution_count": null,
   "metadata": {},
   "outputs": [],
   "source": []
  },
  {
   "cell_type": "code",
   "execution_count": 24,
   "metadata": {},
   "outputs": [
    {
     "data": {
      "text/plain": [
       "array([[1.05184152e-07],\n",
       "       [0.00000000e+00],\n",
       "       [0.00000000e+00],\n",
       "       ...,\n",
       "       [8.80253231e-07],\n",
       "       [0.00000000e+00],\n",
       "       [1.05184152e-07]])"
      ]
     },
     "execution_count": 24,
     "metadata": {},
     "output_type": "execute_result"
    }
   ],
   "source": [
    "# Scale the regression data\n",
    "# Need to setup a new scaler\n",
    "# While the regression data is a subset of the original data, \n",
    "# we need to keep in mind that scaler was trained on  7 features. \n",
    "# Hence we cannot transform this data but instead need to setup a new scaler for this one feature\n",
    "# The new X data has 1 feature\n",
    "\n",
    "min_max_reg = MinMaxScaler(feature_range=(0,1))\n",
    "min_max_reg.fit(X_train_reg)\n",
    "\n",
    "X_train_reg = min_max_reg.transform(X_train_reg)\n",
    "X_train_reg"
   ]
  },
  {
   "cell_type": "code",
   "execution_count": 25,
   "metadata": {},
   "outputs": [
    {
     "data": {
      "text/plain": [
       "array([[1.54057596e-08],\n",
       "       [0.00000000e+00],\n",
       "       [0.00000000e+00],\n",
       "       ...,\n",
       "       [0.00000000e+00],\n",
       "       [0.00000000e+00],\n",
       "       [1.05184152e-07]])"
      ]
     },
     "execution_count": 25,
     "metadata": {},
     "output_type": "execute_result"
    }
   ],
   "source": [
    "#  Transform the training data\n",
    "X_test_reg = min_max_reg.transform(X_test_reg)\n",
    "X_test_reg"
   ]
  },
  {
   "cell_type": "code",
   "execution_count": 26,
   "metadata": {},
   "outputs": [
    {
     "data": {
      "text/plain": [
       "(array([[5.18483496e-07],\n",
       "        [0.00000000e+00],\n",
       "        [0.00000000e+00],\n",
       "        [0.00000000e+00],\n",
       "        [0.00000000e+00]]),\n",
       " array([164,   0,   0, 545,   0], dtype=int64))"
      ]
     },
     "execution_count": 26,
     "metadata": {},
     "output_type": "execute_result"
    }
   ],
   "source": [
    "# Let's use the opportunity to scale the target variable also\n",
    "# We don't need to but doing something different\n",
    "y_train_reg = min_max_reg.transform(y_train_reg.reshape(-1,1))\n",
    "y_test__reg = min_max_reg.transform(y_test_reg.reshape(-1,1))\n",
    "y_train_reg[:5], y_test_reg[:5]"
   ]
  },
  {
   "cell_type": "code",
   "execution_count": null,
   "metadata": {},
   "outputs": [],
   "source": []
  },
  {
   "cell_type": "code",
   "execution_count": 27,
   "metadata": {},
   "outputs": [],
   "source": [
    "# In this notebook, I'm using  the  Functional API as in the other notebooks, I used subclassing and sequential class.\n",
    "#   12. Beginning Deep Learning - Anomaly Detection with AutoEncoders, Tensorflow\n",
    "#   13. Beginning Deep Learning - Anomaly Detection with AutoEncoders, PyTroch\n",
    "#   14. Beginning Deep Learning, - Linear Regression, Tensorflow\n",
    "#   15. Beginning Deep Learning, - Linear Regression, PyTorch\n",
    "#   16. Beginning Deep Learning, - Classification, Tensorflow\n",
    "#   17. Beginning Deep Learning, - Classification, Pytorch\n",
    "# https://www.tensorflow.org/guide/keras/functional"
   ]
  },
  {
   "cell_type": "code",
   "execution_count": 28,
   "metadata": {},
   "outputs": [],
   "source": [
    "# Import tensorflow\n",
    "import tensorflow as tf"
   ]
  },
  {
   "cell_type": "code",
   "execution_count": 29,
   "metadata": {},
   "outputs": [
    {
     "data": {
      "text/plain": [
       "<KerasTensor: shape=(None, 3) dtype=float32 (created by layer 'classification_input')>"
      ]
     },
     "execution_count": 29,
     "metadata": {},
     "output_type": "execute_result"
    }
   ],
   "source": [
    "# Setup the classification input layer\n",
    "clf_input = tf.keras.layers.Input(shape=(X_train_clf.shape[1],), name='classification_input', dtype=tf.float32)\n",
    "clf_input\n"
   ]
  },
  {
   "cell_type": "code",
   "execution_count": 30,
   "metadata": {},
   "outputs": [
    {
     "data": {
      "text/plain": [
       "<KerasTensor: shape=(None, 1) dtype=float32 (created by layer 'regression_input')>"
      ]
     },
     "execution_count": 30,
     "metadata": {},
     "output_type": "execute_result"
    }
   ],
   "source": [
    "# Setup the regression input\n",
    "reg_input = tf.keras.layers.Input(shape=(1,), name='regression_input', dtype=tf.float32)\n",
    "reg_input"
   ]
  },
  {
   "cell_type": "code",
   "execution_count": 38,
   "metadata": {},
   "outputs": [
    {
     "data": {
      "text/plain": [
       "(TensorShape([None, 1]), tf.float32, TensorShape([None, 3]), tf.float32)"
      ]
     },
     "execution_count": 38,
     "metadata": {},
     "output_type": "execute_result"
    }
   ],
   "source": [
    "# Get insights into the inputs shape and datatypes\n",
    "reg_input.shape, reg_input.dtype, clf_input.shape, clf_input.dtype"
   ]
  },
  {
   "cell_type": "code",
   "execution_count": 39,
   "metadata": {},
   "outputs": [
    {
     "data": {
      "text/plain": [
       "<KerasTensor: shape=(None, 8) dtype=float32 (created by layer 'reg_hidden_2')>"
      ]
     },
     "execution_count": 39,
     "metadata": {},
     "output_type": "execute_result"
    }
   ],
   "source": [
    "# Setup the Dense layers and dropout (Regularization) layer for regression\n",
    "# Dropout is covered in notebook\n",
    "#   21 - Beginning Regularization - Early Stopping, Dropout, L2 (Ridge), L1 (Lasso) <br>\n",
    "reg_x = tf.keras.layers.Dense(units=8, activation='relu', name='reg_hidden_1')(reg_input)\n",
    "reg_x = tf.keras.layers.Dropout(rate=0.25, name='reg_dropout_1')(reg_x)\n",
    "reg_x = tf.keras.layers.Dense(units=8, activation='relu', name='reg_hidden_2')(reg_x)\n",
    "reg_x\n"
   ]
  },
  {
   "cell_type": "code",
   "execution_count": 40,
   "metadata": {},
   "outputs": [
    {
     "data": {
      "text/plain": [
       "<KerasTensor: shape=(None, 4) dtype=float32 (created by layer 'clf_hidden_3')>"
      ]
     },
     "execution_count": 40,
     "metadata": {},
     "output_type": "execute_result"
    }
   ],
   "source": [
    "# Setup the classification Dense and Dropout (regularization) layers \n",
    "clf_x = tf.keras.layers.Dense(units=4, activation='relu', name='clf_hidden_1')(clf_input)\n",
    "clf_x = tf.keras.layers.Dropout(rate=0.25, name='clf_dropout_1')(clf_x)\n",
    "clf_x = tf.keras.layers.Dense(units=4, activation='relu', name='clf_hidden_2')(clf_x)\n",
    "clf_x = tf.keras.layers.Dropout(rate=0.25, name='clf_dropout_2')(clf_x)\n",
    "clf_x = tf.keras.layers.Dense(units=4, activation='relu', name='clf_hidden_3')(clf_x)\n",
    "clf_x"
   ]
  },
  {
   "cell_type": "code",
   "execution_count": 41,
   "metadata": {},
   "outputs": [],
   "source": [
    "# Setup a shared layer\n",
    "# This layer is used for both classification and regression\n",
    "reg_clf_x = tf.keras.layers.concatenate([reg_x, clf_x], name='concatenated_shared_layer')\n",
    "reg_clf_dropout = tf.keras.layers.Dropout(rate=0.25, name='reg_clf_dropout_3')(reg_clf_x)"
   ]
  },
  {
   "cell_type": "code",
   "execution_count": 42,
   "metadata": {},
   "outputs": [
    {
     "data": {
      "text/plain": [
       "(<KerasTensor: shape=(None, 1) dtype=float32 (created by layer 'reg_output')>,\n",
       " <KerasTensor: shape=(None, 1) dtype=float32 (created by layer 'clf_output')>)"
      ]
     },
     "execution_count": 42,
     "metadata": {},
     "output_type": "execute_result"
    }
   ],
   "source": [
    "# Setup the output layers\n",
    "# Each output will have its input as the shared layer\n",
    "reg_output = tf.keras.layers.Dense(units=1, activation='linear', name='reg_output')(reg_clf_dropout)\n",
    "clf_output = tf.keras.layers.Dense(units=1, activation='sigmoid', name='clf_output')(reg_clf_dropout)\n",
    "reg_output, clf_output"
   ]
  },
  {
   "cell_type": "code",
   "execution_count": 43,
   "metadata": {},
   "outputs": [
    {
     "name": "stdout",
     "output_type": "stream",
     "text": [
      "Model: \"regression_classification_model\"\n",
      "__________________________________________________________________________________________________\n",
      " Layer (type)                   Output Shape         Param #     Connected to                     \n",
      "==================================================================================================\n",
      " classification_input (InputLay  [(None, 3)]         0           []                               \n",
      " er)                                                                                              \n",
      "                                                                                                  \n",
      " clf_hidden_1 (Dense)           (None, 4)            16          ['classification_input[0][0]']   \n",
      "                                                                                                  \n",
      " regression_input (InputLayer)  [(None, 1)]          0           []                               \n",
      "                                                                                                  \n",
      " clf_dropout_1 (Dropout)        (None, 4)            0           ['clf_hidden_1[0][0]']           \n",
      "                                                                                                  \n",
      " reg_hidden_1 (Dense)           (None, 8)            16          ['regression_input[0][0]']       \n",
      "                                                                                                  \n",
      " clf_hidden_2 (Dense)           (None, 4)            20          ['clf_dropout_1[0][0]']          \n",
      "                                                                                                  \n",
      " reg_dropout_1 (Dropout)        (None, 8)            0           ['reg_hidden_1[0][0]']           \n",
      "                                                                                                  \n",
      " clf_dropout_2 (Dropout)        (None, 4)            0           ['clf_hidden_2[0][0]']           \n",
      "                                                                                                  \n",
      " reg_hidden_2 (Dense)           (None, 8)            72          ['reg_dropout_1[0][0]']          \n",
      "                                                                                                  \n",
      " clf_hidden_3 (Dense)           (None, 4)            20          ['clf_dropout_2[0][0]']          \n",
      "                                                                                                  \n",
      " concatenated_shared_layer (Con  (None, 12)          0           ['reg_hidden_2[0][0]',           \n",
      " catenate)                                                        'clf_hidden_3[0][0]']           \n",
      "                                                                                                  \n",
      " reg_clf_dropout_3 (Dropout)    (None, 12)           0           ['concatenated_shared_layer[0][0]\n",
      "                                                                 ']                               \n",
      "                                                                                                  \n",
      " reg_output (Dense)             (None, 1)            13          ['reg_clf_dropout_3[0][0]']      \n",
      "                                                                                                  \n",
      " clf_output (Dense)             (None, 1)            13          ['reg_clf_dropout_3[0][0]']      \n",
      "                                                                                                  \n",
      "==================================================================================================\n",
      "Total params: 170\n",
      "Trainable params: 170\n",
      "Non-trainable params: 0\n",
      "__________________________________________________________________________________________________\n"
     ]
    }
   ],
   "source": [
    "# compile the model\n",
    "reg_clf_model = tf.keras.Model(inputs=[reg_input, clf_input], outputs=[reg_output, clf_output], \\\n",
    "                               name='regression_classification_model')\n",
    "\n",
    "# Get the model summary\n",
    "reg_clf_model.summary()"
   ]
  },
  {
   "cell_type": "code",
   "execution_count": 44,
   "metadata": {},
   "outputs": [
    {
     "data": {
      "image/png": "[encoded data removed]",
      "text/plain": [
       "<IPython.core.display.Image object>"
      ]
     },
     "execution_count": 44,
     "metadata": {},
     "output_type": "execute_result"
    }
   ],
   "source": [
    "# Plot the model to see the model architecture\n",
    "# Save the model to disk also\n",
    "tf.keras.utils.plot_model(model=reg_clf_model, to_file='./reg_clf_model.png', dpi=100, show_dtype=True, \\\n",
    "                          show_layer_activations=True, show_layer_names=True, show_shapes=True, show_trainable=True)"
   ]
  },
  {
   "cell_type": "code",
   "execution_count": 45,
   "metadata": {},
   "outputs": [],
   "source": [
    "# compile the model\n",
    "# Give the classification loss greater priority than the regression loss\n",
    "reg_clf_model.compile(optimizer=tf.keras.optimizers.Adam(learning_rate=0.001), \\\n",
    "                      loss={'reg_output' : tf.keras.losses.MeanAbsoluteError(), \\\n",
    "                            'clf_output': tf.keras.losses.BinaryCrossentropy()}, \\\n",
    "                                metrics={'reg_output': tf.keras.metrics.mae, 'clf_output' : tf.keras.metrics.Recall() }, \\\n",
    "                                    loss_weights={'reg_output' : 1, 'clf_output': 3} )"
   ]
  },
  {
   "cell_type": "code",
   "execution_count": 46,
   "metadata": {},
   "outputs": [],
   "source": [
    "# Define the callbacks\n",
    "# Also save the model as we go. This is helpful if training on a very large dataset\n",
    "# Also reduce the learning rate when metric has stopped improving\n",
    "# https://www.tensorflow.org/api_docs/python/tf/keras/callbacks/EarlyStopping\n",
    "# https://www.tensorflow.org/api_docs/python/tf/keras/callbacks/ModelCheckpoint\n",
    "# https://www.tensorflow.org/api_docs/python/tf/keras/callbacks/ReduceLROnPlateau\n",
    "# Early stopping callback is covered in:\n",
    "#   21 - Beginning Regularization - Early Stopping, Dropout, L2 (Ridge), L1 (Lasso) <br>\n",
    "callbacks = [ \n",
    "                tf.keras.callbacks.EarlyStopping(monitor='val_loss', patience=3, mode='min', \\\n",
    "                                                 restore_best_weights=True, verbose=1), \n",
    "                tf.keras.callbacks.ModelCheckpoint(filepath=r'.', monitor='val_loss', verbose=1, \\\n",
    "                                                   save_best_only=True, save_weights_only=False, \\\n",
    "                                                    save_freq='epoch', mode='min'),\n",
    "                tf.keras.callbacks.ReduceLROnPlateau(monitor='val_loss', factor=0.1, mode='min', min_lr=0., \\\n",
    "                                                     min_delta=0.001, verbose=1)\n",
    "              ]"
   ]
  },
  {
   "cell_type": "code",
   "execution_count": 48,
   "metadata": {},
   "outputs": [
    {
     "name": "stdout",
     "output_type": "stream",
     "text": [
      "Epoch 1/10\n",
      "4153/4153 [==============================] - ETA: 0s - loss: 0.0098 - reg_output_loss: 6.4178e-04 - clf_output_loss: 0.0030 - reg_output_mean_absolute_error: 6.4178e-04 - clf_output_recall: 0.0000e+00\n",
      "Epoch 1: val_loss did not improve from 0.01002\n",
      "4153/4153 [==============================] - 15s 4ms/step - loss: 0.0098 - reg_output_loss: 6.4178e-04 - clf_output_loss: 0.0030 - reg_output_mean_absolute_error: 6.4178e-04 - clf_output_recall: 0.0000e+00 - val_loss: 0.0101 - val_reg_output_loss: 9.5998e-04 - val_clf_output_loss: 0.0031 - val_reg_output_mean_absolute_error: 9.5998e-04 - val_clf_output_recall: 0.0000e+00 - lr: 0.0010\n",
      "Epoch 2/10\n",
      "4145/4153 [============================>.] - ETA: 0s - loss: 0.0094 - reg_output_loss: 6.0129e-04 - clf_output_loss: 0.0029 - reg_output_mean_absolute_error: 6.0129e-04 - clf_output_recall: 0.0000e+00\n",
      "Epoch 2: val_loss improved from 0.01002 to 0.00941, saving model to .\n"
     ]
    },
    {
     "name": "stderr",
     "output_type": "stream",
     "text": [
      "WARNING:absl:Found untraced functions such as _update_step_xla while saving (showing 1 of 1). These functions will not be directly callable after loading.\n"
     ]
    },
    {
     "name": "stdout",
     "output_type": "stream",
     "text": [
      "INFO:tensorflow:Assets written to: .\\assets\n"
     ]
    },
    {
     "name": "stderr",
     "output_type": "stream",
     "text": [
      "INFO:tensorflow:Assets written to: .\\assets\n"
     ]
    },
    {
     "name": "stdout",
     "output_type": "stream",
     "text": [
      "4153/4153 [==============================] - 18s 4ms/step - loss: 0.0094 - reg_output_loss: 6.0101e-04 - clf_output_loss: 0.0029 - reg_output_mean_absolute_error: 6.0101e-04 - clf_output_recall: 0.0000e+00 - val_loss: 0.0094 - val_reg_output_loss: 4.7632e-04 - val_clf_output_loss: 0.0030 - val_reg_output_mean_absolute_error: 4.7632e-04 - val_clf_output_recall: 0.0000e+00 - lr: 0.0010\n",
      "Epoch 3/10\n",
      "4132/4153 [============================>.] - ETA: 0s - loss: 0.0088 - reg_output_loss: 6.1158e-04 - clf_output_loss: 0.0027 - reg_output_mean_absolute_error: 6.1158e-04 - clf_output_recall: 0.0000e+00\n",
      "Epoch 3: val_loss improved from 0.00941 to 0.00794, saving model to .\n"
     ]
    },
    {
     "name": "stderr",
     "output_type": "stream",
     "text": [
      "WARNING:absl:Found untraced functions such as _update_step_xla while saving (showing 1 of 1). These functions will not be directly callable after loading.\n"
     ]
    },
    {
     "name": "stdout",
     "output_type": "stream",
     "text": [
      "INFO:tensorflow:Assets written to: .\\assets\n"
     ]
    },
    {
     "name": "stderr",
     "output_type": "stream",
     "text": [
      "INFO:tensorflow:Assets written to: .\\assets\n"
     ]
    },
    {
     "name": "stdout",
     "output_type": "stream",
     "text": [
      "4153/4153 [==============================] - 18s 4ms/step - loss: 0.0089 - reg_output_loss: 6.1042e-04 - clf_output_loss: 0.0028 - reg_output_mean_absolute_error: 6.1042e-04 - clf_output_recall: 0.0000e+00 - val_loss: 0.0079 - val_reg_output_loss: 2.0217e-04 - val_clf_output_loss: 0.0026 - val_reg_output_mean_absolute_error: 2.0217e-04 - val_clf_output_recall: 0.0000e+00 - lr: 0.0010\n",
      "Epoch 4/10\n",
      "4139/4153 [============================>.] - ETA: 0s - loss: 0.0092 - reg_output_loss: 6.0404e-04 - clf_output_loss: 0.0029 - reg_output_mean_absolute_error: 6.0404e-04 - clf_output_recall: 0.0000e+00\n",
      "Epoch 4: val_loss did not improve from 0.00794\n",
      "4153/4153 [==============================] - 15s 4ms/step - loss: 0.0092 - reg_output_loss: 6.0387e-04 - clf_output_loss: 0.0029 - reg_output_mean_absolute_error: 6.0387e-04 - clf_output_recall: 0.0000e+00 - val_loss: 0.0085 - val_reg_output_loss: 5.7561e-04 - val_clf_output_loss: 0.0027 - val_reg_output_mean_absolute_error: 5.7561e-04 - val_clf_output_recall: 0.0000e+00 - lr: 0.0010\n",
      "Epoch 5/10\n",
      "4138/4153 [============================>.] - ETA: 0s - loss: 0.0086 - reg_output_loss: 5.7923e-04 - clf_output_loss: 0.0027 - reg_output_mean_absolute_error: 5.7923e-04 - clf_output_recall: 0.0000e+00\n",
      "Epoch 5: val_loss did not improve from 0.00794\n",
      "4153/4153 [==============================] - 15s 4ms/step - loss: 0.0086 - reg_output_loss: 5.7867e-04 - clf_output_loss: 0.0027 - reg_output_mean_absolute_error: 5.7867e-04 - clf_output_recall: 0.0000e+00 - val_loss: 0.0079 - val_reg_output_loss: 6.5788e-04 - val_clf_output_loss: 0.0024 - val_reg_output_mean_absolute_error: 6.5788e-04 - val_clf_output_recall: 0.0000e+00 - lr: 0.0010\n",
      "Epoch 6/10\n",
      "4149/4153 [============================>.] - ETA: 0s - loss: 0.0081 - reg_output_loss: 5.4927e-04 - clf_output_loss: 0.0025 - reg_output_mean_absolute_error: 5.4927e-04 - clf_output_recall: 0.0000e+00\n",
      "Epoch 6: val_loss improved from 0.00794 to 0.00741, saving model to .\n"
     ]
    },
    {
     "name": "stderr",
     "output_type": "stream",
     "text": [
      "WARNING:absl:Found untraced functions such as _update_step_xla while saving (showing 1 of 1). These functions will not be directly callable after loading.\n"
     ]
    },
    {
     "name": "stdout",
     "output_type": "stream",
     "text": [
      "INFO:tensorflow:Assets written to: .\\assets\n"
     ]
    },
    {
     "name": "stderr",
     "output_type": "stream",
     "text": [
      "INFO:tensorflow:Assets written to: .\\assets\n"
     ]
    },
    {
     "name": "stdout",
     "output_type": "stream",
     "text": [
      "4153/4153 [==============================] - 18s 4ms/step - loss: 0.0081 - reg_output_loss: 5.4939e-04 - clf_output_loss: 0.0025 - reg_output_mean_absolute_error: 5.4939e-04 - clf_output_recall: 0.0000e+00 - val_loss: 0.0074 - val_reg_output_loss: 2.2404e-04 - val_clf_output_loss: 0.0024 - val_reg_output_mean_absolute_error: 2.2404e-04 - val_clf_output_recall: 0.0000e+00 - lr: 0.0010\n",
      "Epoch 7/10\n",
      "4126/4153 [============================>.] - ETA: 0s - loss: 0.0084 - reg_output_loss: 5.4372e-04 - clf_output_loss: 0.0026 - reg_output_mean_absolute_error: 5.4372e-04 - clf_output_recall: 0.0000e+00\n",
      "Epoch 7: val_loss improved from 0.00741 to 0.00733, saving model to .\n"
     ]
    },
    {
     "name": "stderr",
     "output_type": "stream",
     "text": [
      "WARNING:absl:Found untraced functions such as _update_step_xla while saving (showing 1 of 1). These functions will not be directly callable after loading.\n"
     ]
    },
    {
     "name": "stdout",
     "output_type": "stream",
     "text": [
      "INFO:tensorflow:Assets written to: .\\assets\n"
     ]
    },
    {
     "name": "stderr",
     "output_type": "stream",
     "text": [
      "INFO:tensorflow:Assets written to: .\\assets\n"
     ]
    },
    {
     "name": "stdout",
     "output_type": "stream",
     "text": [
      "4153/4153 [==============================] - 11s 3ms/step - loss: 0.0084 - reg_output_loss: 5.4212e-04 - clf_output_loss: 0.0026 - reg_output_mean_absolute_error: 5.4212e-04 - clf_output_recall: 0.0000e+00 - val_loss: 0.0073 - val_reg_output_loss: 3.0168e-04 - val_clf_output_loss: 0.0023 - val_reg_output_mean_absolute_error: 3.0168e-04 - val_clf_output_recall: 0.0000e+00 - lr: 0.0010\n",
      "Epoch 8/10\n",
      "4150/4153 [============================>.] - ETA: 0s - loss: 0.0079 - reg_output_loss: 5.2784e-04 - clf_output_loss: 0.0025 - reg_output_mean_absolute_error: 5.2784e-04 - clf_output_recall: 0.0000e+00\n",
      "Epoch 8: val_loss did not improve from 0.00733\n",
      "4153/4153 [==============================] - 9s 2ms/step - loss: 0.0079 - reg_output_loss: 5.2774e-04 - clf_output_loss: 0.0025 - reg_output_mean_absolute_error: 5.2774e-04 - clf_output_recall: 0.0000e+00 - val_loss: 0.0074 - val_reg_output_loss: 3.7550e-04 - val_clf_output_loss: 0.0024 - val_reg_output_mean_absolute_error: 3.7550e-04 - val_clf_output_recall: 0.0000e+00 - lr: 0.0010\n",
      "Epoch 9/10\n",
      "4125/4153 [============================>.] - ETA: 0s - loss: 0.0079 - reg_output_loss: 5.3517e-04 - clf_output_loss: 0.0025 - reg_output_mean_absolute_error: 5.3517e-04 - clf_output_recall: 0.0000e+00\n",
      "Epoch 9: val_loss did not improve from 0.00733\n",
      "4153/4153 [==============================] - 8s 2ms/step - loss: 0.0079 - reg_output_loss: 5.3573e-04 - clf_output_loss: 0.0025 - reg_output_mean_absolute_error: 5.3573e-04 - clf_output_recall: 0.0000e+00 - val_loss: 0.0081 - val_reg_output_loss: 7.5477e-04 - val_clf_output_loss: 0.0024 - val_reg_output_mean_absolute_error: 7.5477e-04 - val_clf_output_recall: 0.0000e+00 - lr: 0.0010\n",
      "Epoch 10/10\n",
      "4148/4153 [============================>.] - ETA: 0s - loss: 0.0081 - reg_output_loss: 5.2322e-04 - clf_output_loss: 0.0025 - reg_output_mean_absolute_error: 5.2322e-04 - clf_output_recall: 0.0000e+00Restoring model weights from the end of the best epoch: 7.\n",
      "\n",
      "Epoch 10: val_loss did not improve from 0.00733\n",
      "4153/4153 [==============================] - 9s 2ms/step - loss: 0.0081 - reg_output_loss: 5.2313e-04 - clf_output_loss: 0.0025 - reg_output_mean_absolute_error: 5.2313e-04 - clf_output_recall: 0.0000e+00 - val_loss: 0.0084 - val_reg_output_loss: 0.0010 - val_clf_output_loss: 0.0025 - val_reg_output_mean_absolute_error: 0.0010 - val_clf_output_recall: 0.0000e+00 - lr: 0.0010\n",
      "Epoch 10: early stopping\n"
     ]
    },
    {
     "data": {
      "text/plain": [
       "<keras.callbacks.History at 0x2b51a369c60>"
      ]
     },
     "execution_count": 48,
     "metadata": {},
     "output_type": "execute_result"
    }
   ],
   "source": [
    "# Train the model for 10 epochs\n",
    "# Not that 10 epochs is correct, just in the interest of time, I choose 10\n",
    "reg_clf_model.fit({'regression_input':X_train_reg, 'classification_input':X_train_clf}, \\\n",
    "                  {'reg_output':y_train_reg, 'clf_output': y_train_clf}, epochs=10, validation_split=0.2, \\\n",
    "                    batch_size=32, callbacks=callbacks)"
   ]
  },
  {
   "cell_type": "code",
   "execution_count": 49,
   "metadata": {},
   "outputs": [
    {
     "data": {
      "text/plain": [
       "{'loss': [0.009788491763174534,\n",
       "  0.009355089627206326,\n",
       "  0.00889610219746828,\n",
       "  0.009194616228342056,\n",
       "  0.008601615205407143,\n",
       "  0.008078427985310555,\n",
       "  0.00837894156575203,\n",
       "  0.007879696786403656,\n",
       "  0.007899328134953976,\n",
       "  0.008073699660599232],\n",
       " 'reg_output_loss': [0.0006417759577743709,\n",
       "  0.0006010113283991814,\n",
       "  0.0006104244966991246,\n",
       "  0.0006038746796548367,\n",
       "  0.0005786663386970758,\n",
       "  0.0005493853823281825,\n",
       "  0.0005421151290647686,\n",
       "  0.000527740572579205,\n",
       "  0.0005357328918762505,\n",
       "  0.0005231272662058473],\n",
       " 'clf_output_loss': [0.0030489040073007345,\n",
       "  0.0029180205892771482,\n",
       "  0.002761896001175046,\n",
       "  0.0028635882772505283,\n",
       "  0.0026743137277662754,\n",
       "  0.0025096910540014505,\n",
       "  0.002612268552184105,\n",
       "  0.0024506463669240475,\n",
       "  0.002454532543197274,\n",
       "  0.0025168622378259897],\n",
       " 'reg_output_mean_absolute_error': [0.0006417759577743709,\n",
       "  0.0006010113283991814,\n",
       "  0.0006104244966991246,\n",
       "  0.0006038746796548367,\n",
       "  0.0005786663386970758,\n",
       "  0.0005493853823281825,\n",
       "  0.0005421151290647686,\n",
       "  0.000527740572579205,\n",
       "  0.0005357328918762505,\n",
       "  0.0005231272662058473],\n",
       " 'clf_output_recall': [0.0, 0.0, 0.0, 0.0, 0.0, 0.0, 0.0, 0.0, 0.0, 0.0],\n",
       " 'val_loss': [0.010119272395968437,\n",
       "  0.009410631842911243,\n",
       "  0.007935619913041592,\n",
       "  0.008534688502550125,\n",
       "  0.007949155755341053,\n",
       "  0.007414101157337427,\n",
       "  0.007326063700020313,\n",
       "  0.007436770014464855,\n",
       "  0.00806205440312624,\n",
       "  0.008373528718948364],\n",
       " 'val_reg_output_loss': [0.000959981232881546,\n",
       "  0.00047632408677600324,\n",
       "  0.0002021745458478108,\n",
       "  0.0005756072932854295,\n",
       "  0.0006578786997124553,\n",
       "  0.00022403502953238785,\n",
       "  0.0003016818955074996,\n",
       "  0.0003754983190447092,\n",
       "  0.0007547662244178355,\n",
       "  0.0010093116434291005],\n",
       " 'val_clf_output_loss': [0.003053095890209079,\n",
       "  0.002978098578751087,\n",
       "  0.0025778147391974926,\n",
       "  0.0026530243922024965,\n",
       "  0.0024304247926920652,\n",
       "  0.0023966869339346886,\n",
       "  0.002341459970921278,\n",
       "  0.0023537541273981333,\n",
       "  0.002435763133689761,\n",
       "  0.0024547413922846317],\n",
       " 'val_reg_output_mean_absolute_error': [0.000959981232881546,\n",
       "  0.00047632408677600324,\n",
       "  0.0002021745458478108,\n",
       "  0.0005756072932854295,\n",
       "  0.0006578786997124553,\n",
       "  0.00022403502953238785,\n",
       "  0.0003016818955074996,\n",
       "  0.0003754983190447092,\n",
       "  0.0007547662244178355,\n",
       "  0.0010093116434291005],\n",
       " 'val_clf_output_recall': [0.0, 0.0, 0.0, 0.0, 0.0, 0.0, 0.0, 0.0, 0.0, 0.0],\n",
       " 'lr': [0.001, 0.001, 0.001, 0.001, 0.001, 0.001, 0.001, 0.001, 0.001, 0.001]}"
      ]
     },
     "execution_count": 49,
     "metadata": {},
     "output_type": "execute_result"
    }
   ],
   "source": [
    "# Get the model history\n",
    "reg_clf_model.history.history"
   ]
  },
  {
   "cell_type": "code",
   "execution_count": 50,
   "metadata": {},
   "outputs": [
    {
     "data": {
      "text/plain": [
       "dict_keys(['loss', 'reg_output_loss', 'clf_output_loss', 'reg_output_mean_absolute_error', 'clf_output_recall', 'val_loss', 'val_reg_output_loss', 'val_clf_output_loss', 'val_reg_output_mean_absolute_error', 'val_clf_output_recall', 'lr'])"
      ]
     },
     "execution_count": 50,
     "metadata": {},
     "output_type": "execute_result"
    }
   ],
   "source": [
    "# Get the various keys in the history\n",
    "reg_clf_model.history.history.keys()"
   ]
  },
  {
   "cell_type": "code",
   "execution_count": 51,
   "metadata": {},
   "outputs": [
    {
     "name": "stdout",
     "output_type": "stream",
     "text": [
      "{'loss': [0.009788491763174534, 0.009355089627206326, 0.00889610219746828, 0.009194616228342056, 0.008601615205407143, 0.008078427985310555, 0.00837894156575203, 0.007879696786403656, 0.007899328134953976, 0.008073699660599232], 'reg_output_loss': [0.0006417759577743709, 0.0006010113283991814, 0.0006104244966991246, 0.0006038746796548367, 0.0005786663386970758, 0.0005493853823281825, 0.0005421151290647686, 0.000527740572579205, 0.0005357328918762505, 0.0005231272662058473], 'clf_output_loss': [0.0030489040073007345, 0.0029180205892771482, 0.002761896001175046, 0.0028635882772505283, 0.0026743137277662754, 0.0025096910540014505, 0.002612268552184105, 0.0024506463669240475, 0.002454532543197274, 0.0025168622378259897], 'reg_output_mean_absolute_error': [0.0006417759577743709, 0.0006010113283991814, 0.0006104244966991246, 0.0006038746796548367, 0.0005786663386970758, 0.0005493853823281825, 0.0005421151290647686, 0.000527740572579205, 0.0005357328918762505, 0.0005231272662058473], 'clf_output_recall': [0.0, 0.0, 0.0, 0.0, 0.0, 0.0, 0.0, 0.0, 0.0, 0.0], 'val_loss': [0.010119272395968437, 0.009410631842911243, 0.007935619913041592, 0.008534688502550125, 0.007949155755341053, 0.007414101157337427, 0.007326063700020313, 0.007436770014464855, 0.00806205440312624, 0.008373528718948364], 'val_reg_output_loss': [0.000959981232881546, 0.00047632408677600324, 0.0002021745458478108, 0.0005756072932854295, 0.0006578786997124553, 0.00022403502953238785, 0.0003016818955074996, 0.0003754983190447092, 0.0007547662244178355, 0.0010093116434291005], 'val_clf_output_loss': [0.003053095890209079, 0.002978098578751087, 0.0025778147391974926, 0.0026530243922024965, 0.0024304247926920652, 0.0023966869339346886, 0.002341459970921278, 0.0023537541273981333, 0.002435763133689761, 0.0024547413922846317], 'val_reg_output_mean_absolute_error': [0.000959981232881546, 0.00047632408677600324, 0.0002021745458478108, 0.0005756072932854295, 0.0006578786997124553, 0.00022403502953238785, 0.0003016818955074996, 0.0003754983190447092, 0.0007547662244178355, 0.0010093116434291005], 'val_clf_output_recall': [0.0, 0.0, 0.0, 0.0, 0.0, 0.0, 0.0, 0.0, 0.0, 0.0], 'lr': [0.001, 0.001, 0.001, 0.001, 0.001, 0.001, 0.001, 0.001, 0.001, 0.001]}\n"
     ]
    }
   ],
   "source": [
    "# How did our algorithm perform\n",
    "print(reg_clf_model.history.history)"
   ]
  },
  {
   "cell_type": "code",
   "execution_count": 52,
   "metadata": {},
   "outputs": [
    {
     "data": {
      "text/html": [
       "<div>\n",
       "<style scoped>\n",
       "    .dataframe tbody tr th:only-of-type {\n",
       "        vertical-align: middle;\n",
       "    }\n",
       "\n",
       "    .dataframe tbody tr th {\n",
       "        vertical-align: top;\n",
       "    }\n",
       "\n",
       "    .dataframe thead th {\n",
       "        text-align: right;\n",
       "    }\n",
       "</style>\n",
       "<table border=\"1\" class=\"dataframe\">\n",
       "  <thead>\n",
       "    <tr style=\"text-align: right;\">\n",
       "      <th></th>\n",
       "      <th>loss</th>\n",
       "      <th>reg_output_loss</th>\n",
       "      <th>clf_output_loss</th>\n",
       "      <th>reg_output_mean_absolute_error</th>\n",
       "      <th>clf_output_recall</th>\n",
       "      <th>val_loss</th>\n",
       "      <th>val_reg_output_loss</th>\n",
       "      <th>val_clf_output_loss</th>\n",
       "      <th>val_reg_output_mean_absolute_error</th>\n",
       "      <th>val_clf_output_recall</th>\n",
       "      <th>lr</th>\n",
       "    </tr>\n",
       "  </thead>\n",
       "  <tbody>\n",
       "    <tr>\n",
       "      <th>0</th>\n",
       "      <td>0.009788</td>\n",
       "      <td>0.000642</td>\n",
       "      <td>0.003049</td>\n",
       "      <td>0.000642</td>\n",
       "      <td>0.0</td>\n",
       "      <td>0.010119</td>\n",
       "      <td>0.000960</td>\n",
       "      <td>0.003053</td>\n",
       "      <td>0.000960</td>\n",
       "      <td>0.0</td>\n",
       "      <td>0.001</td>\n",
       "    </tr>\n",
       "    <tr>\n",
       "      <th>1</th>\n",
       "      <td>0.009355</td>\n",
       "      <td>0.000601</td>\n",
       "      <td>0.002918</td>\n",
       "      <td>0.000601</td>\n",
       "      <td>0.0</td>\n",
       "      <td>0.009411</td>\n",
       "      <td>0.000476</td>\n",
       "      <td>0.002978</td>\n",
       "      <td>0.000476</td>\n",
       "      <td>0.0</td>\n",
       "      <td>0.001</td>\n",
       "    </tr>\n",
       "    <tr>\n",
       "      <th>2</th>\n",
       "      <td>0.008896</td>\n",
       "      <td>0.000610</td>\n",
       "      <td>0.002762</td>\n",
       "      <td>0.000610</td>\n",
       "      <td>0.0</td>\n",
       "      <td>0.007936</td>\n",
       "      <td>0.000202</td>\n",
       "      <td>0.002578</td>\n",
       "      <td>0.000202</td>\n",
       "      <td>0.0</td>\n",
       "      <td>0.001</td>\n",
       "    </tr>\n",
       "    <tr>\n",
       "      <th>3</th>\n",
       "      <td>0.009195</td>\n",
       "      <td>0.000604</td>\n",
       "      <td>0.002864</td>\n",
       "      <td>0.000604</td>\n",
       "      <td>0.0</td>\n",
       "      <td>0.008535</td>\n",
       "      <td>0.000576</td>\n",
       "      <td>0.002653</td>\n",
       "      <td>0.000576</td>\n",
       "      <td>0.0</td>\n",
       "      <td>0.001</td>\n",
       "    </tr>\n",
       "    <tr>\n",
       "      <th>4</th>\n",
       "      <td>0.008602</td>\n",
       "      <td>0.000579</td>\n",
       "      <td>0.002674</td>\n",
       "      <td>0.000579</td>\n",
       "      <td>0.0</td>\n",
       "      <td>0.007949</td>\n",
       "      <td>0.000658</td>\n",
       "      <td>0.002430</td>\n",
       "      <td>0.000658</td>\n",
       "      <td>0.0</td>\n",
       "      <td>0.001</td>\n",
       "    </tr>\n",
       "    <tr>\n",
       "      <th>5</th>\n",
       "      <td>0.008078</td>\n",
       "      <td>0.000549</td>\n",
       "      <td>0.002510</td>\n",
       "      <td>0.000549</td>\n",
       "      <td>0.0</td>\n",
       "      <td>0.007414</td>\n",
       "      <td>0.000224</td>\n",
       "      <td>0.002397</td>\n",
       "      <td>0.000224</td>\n",
       "      <td>0.0</td>\n",
       "      <td>0.001</td>\n",
       "    </tr>\n",
       "    <tr>\n",
       "      <th>6</th>\n",
       "      <td>0.008379</td>\n",
       "      <td>0.000542</td>\n",
       "      <td>0.002612</td>\n",
       "      <td>0.000542</td>\n",
       "      <td>0.0</td>\n",
       "      <td>0.007326</td>\n",
       "      <td>0.000302</td>\n",
       "      <td>0.002341</td>\n",
       "      <td>0.000302</td>\n",
       "      <td>0.0</td>\n",
       "      <td>0.001</td>\n",
       "    </tr>\n",
       "    <tr>\n",
       "      <th>7</th>\n",
       "      <td>0.007880</td>\n",
       "      <td>0.000528</td>\n",
       "      <td>0.002451</td>\n",
       "      <td>0.000528</td>\n",
       "      <td>0.0</td>\n",
       "      <td>0.007437</td>\n",
       "      <td>0.000375</td>\n",
       "      <td>0.002354</td>\n",
       "      <td>0.000375</td>\n",
       "      <td>0.0</td>\n",
       "      <td>0.001</td>\n",
       "    </tr>\n",
       "    <tr>\n",
       "      <th>8</th>\n",
       "      <td>0.007899</td>\n",
       "      <td>0.000536</td>\n",
       "      <td>0.002455</td>\n",
       "      <td>0.000536</td>\n",
       "      <td>0.0</td>\n",
       "      <td>0.008062</td>\n",
       "      <td>0.000755</td>\n",
       "      <td>0.002436</td>\n",
       "      <td>0.000755</td>\n",
       "      <td>0.0</td>\n",
       "      <td>0.001</td>\n",
       "    </tr>\n",
       "    <tr>\n",
       "      <th>9</th>\n",
       "      <td>0.008074</td>\n",
       "      <td>0.000523</td>\n",
       "      <td>0.002517</td>\n",
       "      <td>0.000523</td>\n",
       "      <td>0.0</td>\n",
       "      <td>0.008374</td>\n",
       "      <td>0.001009</td>\n",
       "      <td>0.002455</td>\n",
       "      <td>0.001009</td>\n",
       "      <td>0.0</td>\n",
       "      <td>0.001</td>\n",
       "    </tr>\n",
       "  </tbody>\n",
       "</table>\n",
       "</div>"
      ],
      "text/plain": [
       "       loss  reg_output_loss  clf_output_loss  reg_output_mean_absolute_error   \n",
       "0  0.009788         0.000642         0.003049                        0.000642  \\\n",
       "1  0.009355         0.000601         0.002918                        0.000601   \n",
       "2  0.008896         0.000610         0.002762                        0.000610   \n",
       "3  0.009195         0.000604         0.002864                        0.000604   \n",
       "4  0.008602         0.000579         0.002674                        0.000579   \n",
       "5  0.008078         0.000549         0.002510                        0.000549   \n",
       "6  0.008379         0.000542         0.002612                        0.000542   \n",
       "7  0.007880         0.000528         0.002451                        0.000528   \n",
       "8  0.007899         0.000536         0.002455                        0.000536   \n",
       "9  0.008074         0.000523         0.002517                        0.000523   \n",
       "\n",
       "   clf_output_recall  val_loss  val_reg_output_loss  val_clf_output_loss   \n",
       "0                0.0  0.010119             0.000960             0.003053  \\\n",
       "1                0.0  0.009411             0.000476             0.002978   \n",
       "2                0.0  0.007936             0.000202             0.002578   \n",
       "3                0.0  0.008535             0.000576             0.002653   \n",
       "4                0.0  0.007949             0.000658             0.002430   \n",
       "5                0.0  0.007414             0.000224             0.002397   \n",
       "6                0.0  0.007326             0.000302             0.002341   \n",
       "7                0.0  0.007437             0.000375             0.002354   \n",
       "8                0.0  0.008062             0.000755             0.002436   \n",
       "9                0.0  0.008374             0.001009             0.002455   \n",
       "\n",
       "   val_reg_output_mean_absolute_error  val_clf_output_recall     lr  \n",
       "0                            0.000960                    0.0  0.001  \n",
       "1                            0.000476                    0.0  0.001  \n",
       "2                            0.000202                    0.0  0.001  \n",
       "3                            0.000576                    0.0  0.001  \n",
       "4                            0.000658                    0.0  0.001  \n",
       "5                            0.000224                    0.0  0.001  \n",
       "6                            0.000302                    0.0  0.001  \n",
       "7                            0.000375                    0.0  0.001  \n",
       "8                            0.000755                    0.0  0.001  \n",
       "9                            0.001009                    0.0  0.001  "
      ]
     },
     "execution_count": 52,
     "metadata": {},
     "output_type": "execute_result"
    }
   ],
   "source": [
    "# Get the loss as a dataframe\n",
    "pd.DataFrame(reg_clf_model.history.history)"
   ]
  },
  {
   "cell_type": "code",
   "execution_count": 53,
   "metadata": {},
   "outputs": [
    {
     "data": {
      "text/html": [
       "<div>\n",
       "<style scoped>\n",
       "    .dataframe tbody tr th:only-of-type {\n",
       "        vertical-align: middle;\n",
       "    }\n",
       "\n",
       "    .dataframe tbody tr th {\n",
       "        vertical-align: top;\n",
       "    }\n",
       "\n",
       "    .dataframe thead th {\n",
       "        text-align: right;\n",
       "    }\n",
       "</style>\n",
       "<table border=\"1\" class=\"dataframe\">\n",
       "  <thead>\n",
       "    <tr style=\"text-align: right;\">\n",
       "      <th></th>\n",
       "      <th>0</th>\n",
       "      <th>1</th>\n",
       "      <th>2</th>\n",
       "      <th>3</th>\n",
       "      <th>4</th>\n",
       "      <th>5</th>\n",
       "      <th>6</th>\n",
       "      <th>7</th>\n",
       "      <th>8</th>\n",
       "      <th>9</th>\n",
       "    </tr>\n",
       "  </thead>\n",
       "  <tbody>\n",
       "    <tr>\n",
       "      <th>loss</th>\n",
       "      <td>0.009788</td>\n",
       "      <td>0.009355</td>\n",
       "      <td>0.008896</td>\n",
       "      <td>0.009195</td>\n",
       "      <td>0.008602</td>\n",
       "      <td>0.008078</td>\n",
       "      <td>0.008379</td>\n",
       "      <td>0.007880</td>\n",
       "      <td>0.007899</td>\n",
       "      <td>0.008074</td>\n",
       "    </tr>\n",
       "    <tr>\n",
       "      <th>reg_output_loss</th>\n",
       "      <td>0.000642</td>\n",
       "      <td>0.000601</td>\n",
       "      <td>0.000610</td>\n",
       "      <td>0.000604</td>\n",
       "      <td>0.000579</td>\n",
       "      <td>0.000549</td>\n",
       "      <td>0.000542</td>\n",
       "      <td>0.000528</td>\n",
       "      <td>0.000536</td>\n",
       "      <td>0.000523</td>\n",
       "    </tr>\n",
       "    <tr>\n",
       "      <th>clf_output_loss</th>\n",
       "      <td>0.003049</td>\n",
       "      <td>0.002918</td>\n",
       "      <td>0.002762</td>\n",
       "      <td>0.002864</td>\n",
       "      <td>0.002674</td>\n",
       "      <td>0.002510</td>\n",
       "      <td>0.002612</td>\n",
       "      <td>0.002451</td>\n",
       "      <td>0.002455</td>\n",
       "      <td>0.002517</td>\n",
       "    </tr>\n",
       "    <tr>\n",
       "      <th>reg_output_mean_absolute_error</th>\n",
       "      <td>0.000642</td>\n",
       "      <td>0.000601</td>\n",
       "      <td>0.000610</td>\n",
       "      <td>0.000604</td>\n",
       "      <td>0.000579</td>\n",
       "      <td>0.000549</td>\n",
       "      <td>0.000542</td>\n",
       "      <td>0.000528</td>\n",
       "      <td>0.000536</td>\n",
       "      <td>0.000523</td>\n",
       "    </tr>\n",
       "    <tr>\n",
       "      <th>clf_output_recall</th>\n",
       "      <td>0.000000</td>\n",
       "      <td>0.000000</td>\n",
       "      <td>0.000000</td>\n",
       "      <td>0.000000</td>\n",
       "      <td>0.000000</td>\n",
       "      <td>0.000000</td>\n",
       "      <td>0.000000</td>\n",
       "      <td>0.000000</td>\n",
       "      <td>0.000000</td>\n",
       "      <td>0.000000</td>\n",
       "    </tr>\n",
       "    <tr>\n",
       "      <th>val_loss</th>\n",
       "      <td>0.010119</td>\n",
       "      <td>0.009411</td>\n",
       "      <td>0.007936</td>\n",
       "      <td>0.008535</td>\n",
       "      <td>0.007949</td>\n",
       "      <td>0.007414</td>\n",
       "      <td>0.007326</td>\n",
       "      <td>0.007437</td>\n",
       "      <td>0.008062</td>\n",
       "      <td>0.008374</td>\n",
       "    </tr>\n",
       "    <tr>\n",
       "      <th>val_reg_output_loss</th>\n",
       "      <td>0.000960</td>\n",
       "      <td>0.000476</td>\n",
       "      <td>0.000202</td>\n",
       "      <td>0.000576</td>\n",
       "      <td>0.000658</td>\n",
       "      <td>0.000224</td>\n",
       "      <td>0.000302</td>\n",
       "      <td>0.000375</td>\n",
       "      <td>0.000755</td>\n",
       "      <td>0.001009</td>\n",
       "    </tr>\n",
       "    <tr>\n",
       "      <th>val_clf_output_loss</th>\n",
       "      <td>0.003053</td>\n",
       "      <td>0.002978</td>\n",
       "      <td>0.002578</td>\n",
       "      <td>0.002653</td>\n",
       "      <td>0.002430</td>\n",
       "      <td>0.002397</td>\n",
       "      <td>0.002341</td>\n",
       "      <td>0.002354</td>\n",
       "      <td>0.002436</td>\n",
       "      <td>0.002455</td>\n",
       "    </tr>\n",
       "    <tr>\n",
       "      <th>val_reg_output_mean_absolute_error</th>\n",
       "      <td>0.000960</td>\n",
       "      <td>0.000476</td>\n",
       "      <td>0.000202</td>\n",
       "      <td>0.000576</td>\n",
       "      <td>0.000658</td>\n",
       "      <td>0.000224</td>\n",
       "      <td>0.000302</td>\n",
       "      <td>0.000375</td>\n",
       "      <td>0.000755</td>\n",
       "      <td>0.001009</td>\n",
       "    </tr>\n",
       "    <tr>\n",
       "      <th>val_clf_output_recall</th>\n",
       "      <td>0.000000</td>\n",
       "      <td>0.000000</td>\n",
       "      <td>0.000000</td>\n",
       "      <td>0.000000</td>\n",
       "      <td>0.000000</td>\n",
       "      <td>0.000000</td>\n",
       "      <td>0.000000</td>\n",
       "      <td>0.000000</td>\n",
       "      <td>0.000000</td>\n",
       "      <td>0.000000</td>\n",
       "    </tr>\n",
       "    <tr>\n",
       "      <th>lr</th>\n",
       "      <td>0.001000</td>\n",
       "      <td>0.001000</td>\n",
       "      <td>0.001000</td>\n",
       "      <td>0.001000</td>\n",
       "      <td>0.001000</td>\n",
       "      <td>0.001000</td>\n",
       "      <td>0.001000</td>\n",
       "      <td>0.001000</td>\n",
       "      <td>0.001000</td>\n",
       "      <td>0.001000</td>\n",
       "    </tr>\n",
       "  </tbody>\n",
       "</table>\n",
       "</div>"
      ],
      "text/plain": [
       "                                           0         1         2         3   \n",
       "loss                                0.009788  0.009355  0.008896  0.009195  \\\n",
       "reg_output_loss                     0.000642  0.000601  0.000610  0.000604   \n",
       "clf_output_loss                     0.003049  0.002918  0.002762  0.002864   \n",
       "reg_output_mean_absolute_error      0.000642  0.000601  0.000610  0.000604   \n",
       "clf_output_recall                   0.000000  0.000000  0.000000  0.000000   \n",
       "val_loss                            0.010119  0.009411  0.007936  0.008535   \n",
       "val_reg_output_loss                 0.000960  0.000476  0.000202  0.000576   \n",
       "val_clf_output_loss                 0.003053  0.002978  0.002578  0.002653   \n",
       "val_reg_output_mean_absolute_error  0.000960  0.000476  0.000202  0.000576   \n",
       "val_clf_output_recall               0.000000  0.000000  0.000000  0.000000   \n",
       "lr                                  0.001000  0.001000  0.001000  0.001000   \n",
       "\n",
       "                                           4         5         6         7   \n",
       "loss                                0.008602  0.008078  0.008379  0.007880  \\\n",
       "reg_output_loss                     0.000579  0.000549  0.000542  0.000528   \n",
       "clf_output_loss                     0.002674  0.002510  0.002612  0.002451   \n",
       "reg_output_mean_absolute_error      0.000579  0.000549  0.000542  0.000528   \n",
       "clf_output_recall                   0.000000  0.000000  0.000000  0.000000   \n",
       "val_loss                            0.007949  0.007414  0.007326  0.007437   \n",
       "val_reg_output_loss                 0.000658  0.000224  0.000302  0.000375   \n",
       "val_clf_output_loss                 0.002430  0.002397  0.002341  0.002354   \n",
       "val_reg_output_mean_absolute_error  0.000658  0.000224  0.000302  0.000375   \n",
       "val_clf_output_recall               0.000000  0.000000  0.000000  0.000000   \n",
       "lr                                  0.001000  0.001000  0.001000  0.001000   \n",
       "\n",
       "                                           8         9  \n",
       "loss                                0.007899  0.008074  \n",
       "reg_output_loss                     0.000536  0.000523  \n",
       "clf_output_loss                     0.002455  0.002517  \n",
       "reg_output_mean_absolute_error      0.000536  0.000523  \n",
       "clf_output_recall                   0.000000  0.000000  \n",
       "val_loss                            0.008062  0.008374  \n",
       "val_reg_output_loss                 0.000755  0.001009  \n",
       "val_clf_output_loss                 0.002436  0.002455  \n",
       "val_reg_output_mean_absolute_error  0.000755  0.001009  \n",
       "val_clf_output_recall               0.000000  0.000000  \n",
       "lr                                  0.001000  0.001000  "
      ]
     },
     "execution_count": 53,
     "metadata": {},
     "output_type": "execute_result"
    }
   ],
   "source": [
    "# A clearer view\n",
    "# Transpose the dataset looking across the epochs\n",
    "pd.DataFrame(reg_clf_model.history.history).transpose()"
   ]
  },
  {
   "cell_type": "code",
   "execution_count": 54,
   "metadata": {},
   "outputs": [
    {
     "data": {
      "image/png": "[encoded data removed]",
      "text/plain": [
       "<Figure size 1000x1000 with 6 Axes>"
      ]
     },
     "metadata": {},
     "output_type": "display_data"
    }
   ],
   "source": [
    "# plot the loss and accuracy\n",
    "# https://matplotlib.org/stable/api/_as_gen/matplotlib.pyplot.legend.html\n",
    "# We can see from below the loss has decreased while the accuracy has increased.\n",
    "fig, ax = plt.subplots(ncols=2, nrows=3, figsize=(10,10))\n",
    "plt.suptitle('Regression and Classification')\n",
    "\n",
    "ax[0][0].plot(reg_clf_model.history.history['loss'], 'r', reg_clf_model.history.history['val_loss'], 'g' )\n",
    "ax[0][0].set_title('Train vs Validation Loss')\n",
    "ax[0][0].legend(labels=['Train loss', 'Val loss'])\n",
    "ax[0][0].set_xlabel('Epochs')\n",
    "ax[0][0].set_ylabel('Loss')\n",
    "\n",
    "ax[0][1].plot(reg_clf_model.history.history['reg_output_loss'], 'r', \\\n",
    "              reg_clf_model.history.history['val_reg_output_loss'], 'g' )\n",
    "ax[0][1].set_title('Reg output vs val loss')\n",
    "ax[0][1].legend(labels=['Reg Loss', 'Val Reg Loss'])\n",
    "ax[0][1].set_xlabel('Epochs')\n",
    "ax[0][1].set_ylabel('Loss')\n",
    "\n",
    "ax[1][0].plot(reg_clf_model.history.history['clf_output_loss'], 'r', \\\n",
    "              reg_clf_model.history.history['val_clf_output_loss'], 'g' )\n",
    "ax[1][0].set_title('Classification Loss vs Validation Loss')\n",
    "ax[1][0].legend(labels=['Clf Output loss', 'Clf Validation loss'])\n",
    "ax[1][0].set_xlabel('Epochs')\n",
    "ax[1][0].set_ylabel('Loss')\n",
    "\n",
    "ax[1][1].plot(reg_clf_model.history.history['reg_output_mean_absolute_error'], 'r', \\\n",
    "              reg_clf_model.history.history['val_reg_output_mean_absolute_error'], 'g' )\n",
    "ax[1][1].set_title('Mean Absolute Error')\n",
    "ax[1][1].legend(labels=['Train MAE', 'Val MAE'])\n",
    "ax[1][1].set_xlabel('Epochs')\n",
    "ax[1][1].set_ylabel('Loss')\n",
    "\n",
    "ax[2][0].plot(reg_clf_model.history.history['clf_output_recall'], 'r', reg_clf_model.history.history['val_clf_output_recall'] )\n",
    "ax[2][0].set_title('Classification Recall')\n",
    "ax[2][0].legend(labels=['Train Recall', 'Val Recall'])\n",
    "ax[2][0].set_xlabel('Epochs')\n",
    "ax[2][0].set_ylabel('Recall')\n",
    "\n",
    "plt.tight_layout()\n",
    "\n",
    "plt.show()"
   ]
  },
  {
   "cell_type": "code",
   "execution_count": 55,
   "metadata": {},
   "outputs": [
    {
     "name": "stdout",
     "output_type": "stream",
     "text": [
      "1298/1298 [==============================] - 2s 1ms/step - loss: 294384.2812 - reg_output_loss: 294384.2812 - clf_output_loss: 0.0021 - reg_output_mean_absolute_error: 294384.2812 - clf_output_recall: 0.0769\n"
     ]
    },
    {
     "data": {
      "text/plain": [
       "[294384.28125,\n",
       " 294384.28125,\n",
       " 0.002069746609777212,\n",
       " 294384.28125,\n",
       " 0.07692307978868484]"
      ]
     },
     "execution_count": 55,
     "metadata": {},
     "output_type": "execute_result"
    }
   ],
   "source": [
    "# Evaluate the model\n",
    "# Notice the input consists of values for both regression and classification\n",
    "# Notice the x and y are in the same order as when the model was trained\n",
    "results = reg_clf_model.evaluate(x=[X_test_reg, X_test_clf], y=[y_test_reg, y_test_clf])\n",
    "results"
   ]
  },
  {
   "cell_type": "code",
   "execution_count": 56,
   "metadata": {},
   "outputs": [
    {
     "data": {
      "text/plain": [
       "{'loss': 294384.28125,\n",
       " 'reg_output_loss': 294384.28125,\n",
       " 'clf_output_loss': 0.002069746609777212,\n",
       " 'reg_output_mean_absolute_error': 294384.28125,\n",
       " 'clf_output_recall': 0.07692307978868484}"
      ]
     },
     "execution_count": 56,
     "metadata": {},
     "output_type": "execute_result"
    }
   ],
   "source": [
    "# Review the evaluation metrics from a different perspective\n",
    "dict(zip(reg_clf_model.metrics_names, results))"
   ]
  },
  {
   "cell_type": "code",
   "execution_count": 57,
   "metadata": {},
   "outputs": [
    {
     "data": {
      "text/plain": [
       "array([[     60,  219876,   77765,  239747, 1251154,  169995,  209977]])"
      ]
     },
     "execution_count": 57,
     "metadata": {},
     "output_type": "execute_result"
    }
   ],
   "source": [
    "# Define an x for prediction\n",
    "#new_clf_sample = np.array([0.053276, 208, 976, 6, 528, 6, 1296], ndmin=2)\n",
    "new_clf_sample = np.array([60, 219876, 77765, 239747, 1251154, 169995, 209977], ndmin=2)\n",
    "new_clf_sample"
   ]
  },
  {
   "cell_type": "code",
   "execution_count": 58,
   "metadata": {},
   "outputs": [
    {
     "data": {
      "text/plain": [
       "array([[998654]])"
      ]
     },
     "execution_count": 58,
     "metadata": {},
     "output_type": "execute_result"
    }
   ],
   "source": [
    "# New regression sample\n",
    "new_reg_sample = np.array([998654], ndmin=2)\n",
    "new_reg_sample"
   ]
  },
  {
   "cell_type": "code",
   "execution_count": 59,
   "metadata": {},
   "outputs": [
    {
     "name": "stdout",
     "output_type": "stream",
     "text": [
      "1/1 [==============================] - 0s 95ms/step\n"
     ]
    },
    {
     "data": {
      "text/plain": [
       "(array([[0.00133959]], dtype=float32), array([[0.02511245]], dtype=float32))"
      ]
     },
     "execution_count": 59,
     "metadata": {},
     "output_type": "execute_result"
    }
   ],
   "source": [
    "# Predict the number of bytes and the class\n",
    "reg_pred, clf_pred = reg_clf_model.predict(x=[min_max_reg.transform(new_reg_sample), \\\n",
    "                                              pca.transform(min_max_clf.transform(new_clf_sample))] )\n",
    "\n",
    "# What does the predictions looks like\n",
    "reg_pred, clf_pred"
   ]
  },
  {
   "cell_type": "code",
   "execution_count": 60,
   "metadata": {},
   "outputs": [
    {
     "data": {
      "text/plain": [
       "2521656"
      ]
     },
     "execution_count": 60,
     "metadata": {},
     "output_type": "execute_result"
    }
   ],
   "source": [
    "# Invert the transformation\n",
    "# Convert the values to integers\n",
    "# Well we know that we cannot have negative bytes, so this regression aspect of the model needs work\n",
    "int(min_max_reg.inverse_transform(reg_pred))"
   ]
  },
  {
   "cell_type": "code",
   "execution_count": 61,
   "metadata": {},
   "outputs": [],
   "source": [
    "# Did scaling the target contribute to this terrible output\n",
    "# Maybe, maybe not. I'm not interested in finding out for this problem\n",
    "# If I was putting this in production, I would have to solve this issue though"
   ]
  },
  {
   "cell_type": "code",
   "execution_count": 62,
   "metadata": {},
   "outputs": [
    {
     "name": "stdout",
     "output_type": "stream",
     "text": [
      "1298/1298 [==============================] - 1s 970us/step\n"
     ]
    },
    {
     "data": {
      "text/plain": [
       "(array([[0.00010485],\n",
       "        [0.000121  ],\n",
       "        [0.00012004],\n",
       "        ...,\n",
       "        [0.000121  ],\n",
       "        [0.00012101],\n",
       "        [0.00012102]], dtype=float32),\n",
       " array([[0.00017951],\n",
       "        [0.00013557],\n",
       "        [0.00013787],\n",
       "        ...,\n",
       "        [0.00013558],\n",
       "        [0.00013556],\n",
       "        [0.00013554]], dtype=float32))"
      ]
     },
     "execution_count": 62,
     "metadata": {},
     "output_type": "execute_result"
    }
   ],
   "source": [
    "# Predict on the test sets for both regression and classification\n",
    "test_preds = reg_clf_model.predict(x=[X_test_reg,  X_test_clf] )\n",
    "\n",
    "# These all need to go through the same process of inverting the scaling and \n",
    "test_preds[0], test_preds[1] "
   ]
  },
  {
   "cell_type": "code",
   "execution_count": 63,
   "metadata": {},
   "outputs": [
    {
     "data": {
      "text/plain": [
       "<matplotlib.legend.Legend at 0x2b51acb10f0>"
      ]
     },
     "execution_count": 63,
     "metadata": {},
     "output_type": "execute_result"
    },
    {
     "data": {
      "image/png": "[encoded data removed]",
      "text/plain": [
       "<Figure size 640x480 with 1 Axes>"
      ]
     },
     "metadata": {},
     "output_type": "display_data"
    }
   ],
   "source": [
    "# Above confirms this model is terrible. \n",
    "# Take a look at the graph below, gives us a better view of the model\n",
    "plt.title('True vs Predictions')\n",
    "plt.plot(y_test__reg, linestyle='', marker='o', label='True Y')\n",
    "plt.plot(test_preds[0], ls='-', lw=2, label='predictions')\n",
    "plt.legend(loc='best')\n"
   ]
  },
  {
   "cell_type": "code",
   "execution_count": 64,
   "metadata": {},
   "outputs": [],
   "source": [
    "# How did our model do for training\n",
    "# import some metrics\n",
    "from sklearn.metrics import accuracy_score, confusion_matrix"
   ]
  },
  {
   "cell_type": "code",
   "execution_count": 65,
   "metadata": {},
   "outputs": [
    {
     "data": {
      "text/plain": [
       "0.9997109965801262"
      ]
     },
     "execution_count": 65,
     "metadata": {},
     "output_type": "execute_result"
    }
   ],
   "source": [
    "# Grabbing the accuracy score\n",
    "# Note, we cannot just get the predictions as this would produce continuous values\n",
    "# Imagine the model is reporting 99% accuracy. \n",
    "# Accuracy is misleading here\n",
    "accuracy_score(y_true=y_test_clf, y_pred=np.round(test_preds[1]))"
   ]
  },
  {
   "cell_type": "code",
   "execution_count": 66,
   "metadata": {},
   "outputs": [],
   "source": [
    "# import seaborn\n",
    "# https://seaborn.pydata.org/generated/seaborn.heatmap.html\n",
    "import seaborn as sns"
   ]
  },
  {
   "cell_type": "code",
   "execution_count": 67,
   "metadata": {},
   "outputs": [
    {
     "data": {
      "image/png": "[encoded data removed]",
      "text/plain": [
       "<Figure size 640x480 with 2 Axes>"
      ]
     },
     "metadata": {},
     "output_type": "display_data"
    }
   ],
   "source": [
    "# Looking at the confusion matrix\n",
    "# To get a better understanding of reading the confusion matrix, see\n",
    "#   10. Beginning Supervise Learning - Machine Learning - Logistic Regression, Decision Trees and Metrics\n",
    "sns.heatmap(confusion_matrix(y_true=y_test_clf, y_pred=np.round(test_preds[1])), annot=True, fmt='d')\n",
    "plt.title('Confusion Matrix')\n",
    "plt.xlabel('Predicted')\n",
    "plt.ylabel('Actual')\n",
    "plt.show()"
   ]
  },
  {
   "cell_type": "code",
   "execution_count": null,
   "metadata": {},
   "outputs": [],
   "source": [
    "# Imagine this model has no true positives. Yet above, it reported 99% accuracy.\n",
    "# Don't be fooled by accuracy"
   ]
  },
  {
   "cell_type": "code",
   "execution_count": 68,
   "metadata": {},
   "outputs": [],
   "source": [
    "# Let's save the model\n",
    "import os"
   ]
  },
  {
   "cell_type": "code",
   "execution_count": 69,
   "metadata": {},
   "outputs": [],
   "source": [
    "# Create the location to save the model\n",
    "PATH = './SAVED_MODELS/TF_FUNCTIONAL_MIMO/'\n",
    "MODELS_PATH = os.makedirs(name=PATH, exist_ok=True)"
   ]
  },
  {
   "cell_type": "code",
   "execution_count": 70,
   "metadata": {},
   "outputs": [
    {
     "name": "stderr",
     "output_type": "stream",
     "text": [
      "WARNING:absl:Found untraced functions such as _update_step_xla while saving (showing 1 of 1). These functions will not be directly callable after loading.\n"
     ]
    },
    {
     "name": "stdout",
     "output_type": "stream",
     "text": [
      "INFO:tensorflow:Assets written to: ./SAVED_MODELS/TF_FUNCTIONAL_MIMO//tf_mimo_functional_model.tf\\assets\n"
     ]
    },
    {
     "name": "stderr",
     "output_type": "stream",
     "text": [
      "INFO:tensorflow:Assets written to: ./SAVED_MODELS/TF_FUNCTIONAL_MIMO//tf_mimo_functional_model.tf\\assets\n"
     ]
    }
   ],
   "source": [
    "# Save the model\n",
    "tf.keras.models.save_model(model=reg_clf_model, filepath=f'{PATH}/tf_mimo_functional_model.tf', \\\n",
    "                           overwrite=True, save_format='tf')"
   ]
  },
  {
   "cell_type": "code",
   "execution_count": 71,
   "metadata": {},
   "outputs": [
    {
     "data": {
      "text/plain": [
       "<keras.engine.functional.Functional at 0x2b51ace43d0>"
      ]
     },
     "execution_count": 71,
     "metadata": {},
     "output_type": "execute_result"
    }
   ],
   "source": [
    "# With the model saved, time to load it\n",
    "loaded_tf_reg_clf_model = tf.keras.models.load_model(filepath=f'{PATH}tf_mimo_functional_model.tf')\n",
    "loaded_tf_reg_clf_model"
   ]
  },
  {
   "cell_type": "code",
   "execution_count": 72,
   "metadata": {},
   "outputs": [
    {
     "name": "stdout",
     "output_type": "stream",
     "text": [
      "1/1 [==============================] - 0s 69ms/step\n"
     ]
    },
    {
     "data": {
      "text/plain": [
       "[array([[0.00133959]], dtype=float32), array([[0.02511245]], dtype=float32)]"
      ]
     },
     "execution_count": 72,
     "metadata": {},
     "output_type": "execute_result"
    }
   ],
   "source": [
    "# Make a prediction\n",
    "loaded_tf_reg_clf_model.predict(x=[min_max_reg.transform(new_reg_sample), \\\n",
    "                                              pca.transform(min_max_clf.transform(new_clf_sample))])"
   ]
  },
  {
   "cell_type": "code",
   "execution_count": null,
   "metadata": {},
   "outputs": [],
   "source": [
    "# Moving on!"
   ]
  },
  {
   "attachments": {},
   "cell_type": "markdown",
   "metadata": {},
   "source": [
    "Additional References and good reads: <br>\n",
    "https://www.tensorflow.org/guide/keras/train_and_evaluate/#class_weights <br>\n",
    "https://stackoverflow.com/questions/66845924/multi-input-multi-output-model-with-keras-functional-api <br>\n",
    "https://pyimagesearch.com/2019/02/04/keras-multiple-inputs-and-mixed-data/ <br>\n",
    "https://towardsdatascience.com/how-to-build-tensorflow-models-with-the-keras-functional-api-bb6f084def83 <br>\n",
    "https://goodboychan.github.io/python/coursera/tensorflow/deeplearning.ai/2022/02/05/01-Tensorflow2-Functional-API.html <br>\n"
   ]
  },
  {
   "cell_type": "code",
   "execution_count": null,
   "metadata": {},
   "outputs": [],
   "source": []
  }
 ],
 "metadata": {
  "kernelspec": {
   "display_name": "main-env",
   "language": "python",
   "name": "python3"
  },
  "language_info": {
   "codemirror_mode": {
    "name": "ipython",
    "version": 3
   },
   "file_extension": ".py",
   "mimetype": "text/x-python",
   "name": "python",
   "nbconvert_exporter": "python",
   "pygments_lexer": "ipython3",
   "version": "3.10.11"
  },
  "orig_nbformat": 4,
  "vscode": {
   "interpreter": {
    "hash": "dcb100998b7ef434a33dbfac35f576e40d01f04c34d9ff6f6aad819b8a88c169"
   }
  }
 },
 "nbformat": 4,
 "nbformat_minor": 2
}
