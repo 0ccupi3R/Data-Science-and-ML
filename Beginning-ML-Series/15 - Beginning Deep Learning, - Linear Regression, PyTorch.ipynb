{
 "cells": [
  {
   "attachments": {},
   "cell_type": "markdown",
   "metadata": {},
   "source": [
    "Author: Nik Alleyne <br>\n",
    "Author Blog: https://www.securitynik.com <br>\n",
    "Author GitHub:github.com/securitynik <br>\n",
    "Author Books: [  <br>\n",
    "                \"https://www.amazon.ca/Learning-Practicing-Leveraging-Practical-Detection/dp/1731254458/\",  <br>\n",
    "                \"https://www.amazon.ca/Learning-Practicing-Mastering-Network-Forensics/dp/1775383024/\" <br>\n",
    "            ] <br>\n"
   ]
  },
  {
   "attachments": {},
   "cell_type": "markdown",
   "metadata": {},
   "source": [
    "## 15. Beginning Deep Learning, - Linear Regression, PyTorch"
   ]
  },
  {
   "attachments": {},
   "cell_type": "markdown",
   "metadata": {},
   "source": [
    "This post is part of my beginning machine learning series.  <br>\n",
    "The series includes the following: <br>\n",
    "\n",
    "01 - Beginning Numpy <br>\n",
    "02 - Beginning Tensorflow  <br>\n",
    "03 - Beginning PyTorch <br>\n",
    "04 - Beginning Pandas <br>\n",
    "05 - Beginning Matplotlib <br>\n",
    "06 - Beginning Data Scaling <br>\n",
    "07 - Beginning Principal Component Analysis (PCA) <br>\n",
    "08 - Beginning Machine Learning Anomaly Detection - Isolation Forest and Local Outlier Factor <br>\n",
    "09 - Beginning Unsupervised Machine Learning - Clustering - K-means and DBSCAN <br>\n",
    "10 - Beginning Supervise Learning - Machine Learning - Logistic Regression, Decision Trees and Metrics <br>\n",
    "11 - Beginning Linear Regression - Machine Learning <br>\n",
    "12 - Beginning Deep Learning - Anomaly Detection with AutoEncoders, Tensorflow <br>\n",
    "13 - Beginning Deep Learning - Anomaly Detection with AutoEncoders, PyTroch <br>\n",
    "14 - Beginning Deep Learning, - Linear Regression, Tensorflow <br>\n",
    "15 - Beginning Deep Learning, - Linear Regression, PyTorch <br>\n",
    "16 - Beginning Deep Learning, - Classification, Tensorflow <br>\n",
    "17 - Beginning Deep Learning, - Classification, Pytorch <br>\n",
    "18 - Beginning Deep Learning, - Classification - regression - MIMO - Functional API Tensorflow <br> \n",
    "19 - Beginning Deep Learning, - Convolution Networks - Tensorflow <br>\n",
    "20 - Beginning Deep Learning, - Convolution Networks - PyTorch <br>\n",
    "21 - Beginning Regularization - Early Stopping, Dropout, L2 (Ridge), L1 (Lasso) <br>\n",
    "23 - Beginning Model TFServing <br>\n",
    "\n",
    "But conn.log is not the only file within Zeek. Let's build some models for DNS and HTTP logs. <br>\n",
    "I choose unsupervised, because there are no labels coming with these data. <br>\n",
    "\n",
    "24 - Continuing Anomaly Learning - Zeek DNS Log - Machine Learning <br>\n",
    "25 - Continuing Unsupervised Learning - Zeek HTTP Log - Machine Learning <br>\n",
    "\n",
    "This was a specific ask by someone in one of my class. <br>\n",
    "26 - Beginning - Reading Executables and Building a Neural Network to make predictions on suspicious vs suspicious  <br><br>\n",
    "\n",
    "With 26 notebooks in this series, it is quite possible there are things I could have or should have done differently.  <br>\n",
    "If you find any thing, you think fits those criteria, drop me a line. <br>\n"
   ]
  },
  {
   "cell_type": "code",
   "execution_count": 1,
   "metadata": {},
   "outputs": [],
   "source": [
    "# Let's import some libraries\n",
    "import pandas as pd\n",
    "import numpy as np\n",
    "import matplotlib.pyplot as plt"
   ]
  },
  {
   "cell_type": "code",
   "execution_count": 2,
   "metadata": {},
   "outputs": [
    {
     "data": {
      "text/html": [
       "<div>\n",
       "<style scoped>\n",
       "    .dataframe tbody tr th:only-of-type {\n",
       "        vertical-align: middle;\n",
       "    }\n",
       "\n",
       "    .dataframe tbody tr th {\n",
       "        vertical-align: top;\n",
       "    }\n",
       "\n",
       "    .dataframe thead th {\n",
       "        text-align: right;\n",
       "    }\n",
       "</style>\n",
       "<table border=\"1\" class=\"dataframe\">\n",
       "  <thead>\n",
       "    <tr style=\"text-align: right;\">\n",
       "      <th></th>\n",
       "      <th>id.orig_h</th>\n",
       "      <th>id.orig_p</th>\n",
       "      <th>id.resp_h</th>\n",
       "      <th>id.resp_p</th>\n",
       "      <th>duration</th>\n",
       "      <th>orig_bytes</th>\n",
       "      <th>resp_bytes</th>\n",
       "      <th>orig_pkts</th>\n",
       "      <th>orig_ip_bytes</th>\n",
       "      <th>resp_pkts</th>\n",
       "      <th>resp_ip_bytes</th>\n",
       "    </tr>\n",
       "  </thead>\n",
       "  <tbody>\n",
       "    <tr>\n",
       "      <th>0</th>\n",
       "      <td>127.0.0.1</td>\n",
       "      <td>27762</td>\n",
       "      <td>127.0.0.1</td>\n",
       "      <td>58552</td>\n",
       "      <td>0.000000</td>\n",
       "      <td>0</td>\n",
       "      <td>0</td>\n",
       "      <td>0</td>\n",
       "      <td>0</td>\n",
       "      <td>0</td>\n",
       "      <td>0</td>\n",
       "    </tr>\n",
       "    <tr>\n",
       "      <th>1</th>\n",
       "      <td>10.0.0.4</td>\n",
       "      <td>27761</td>\n",
       "      <td>10.0.0.4</td>\n",
       "      <td>48798</td>\n",
       "      <td>0.000000</td>\n",
       "      <td>0</td>\n",
       "      <td>0</td>\n",
       "      <td>0</td>\n",
       "      <td>0</td>\n",
       "      <td>0</td>\n",
       "      <td>0</td>\n",
       "    </tr>\n",
       "    <tr>\n",
       "      <th>2</th>\n",
       "      <td>10.0.0.4</td>\n",
       "      <td>27761</td>\n",
       "      <td>10.0.0.4</td>\n",
       "      <td>48804</td>\n",
       "      <td>0.000000</td>\n",
       "      <td>0</td>\n",
       "      <td>0</td>\n",
       "      <td>0</td>\n",
       "      <td>0</td>\n",
       "      <td>0</td>\n",
       "      <td>0</td>\n",
       "    </tr>\n",
       "    <tr>\n",
       "      <th>3</th>\n",
       "      <td>127.0.0.1</td>\n",
       "      <td>27762</td>\n",
       "      <td>127.0.0.1</td>\n",
       "      <td>58568</td>\n",
       "      <td>0.000000</td>\n",
       "      <td>0</td>\n",
       "      <td>0</td>\n",
       "      <td>0</td>\n",
       "      <td>0</td>\n",
       "      <td>0</td>\n",
       "      <td>0</td>\n",
       "    </tr>\n",
       "    <tr>\n",
       "      <th>4</th>\n",
       "      <td>10.0.0.4</td>\n",
       "      <td>48786</td>\n",
       "      <td>10.0.0.4</td>\n",
       "      <td>27761</td>\n",
       "      <td>0.000000</td>\n",
       "      <td>0</td>\n",
       "      <td>0</td>\n",
       "      <td>0</td>\n",
       "      <td>0</td>\n",
       "      <td>0</td>\n",
       "      <td>0</td>\n",
       "    </tr>\n",
       "    <tr>\n",
       "      <th>...</th>\n",
       "      <td>...</td>\n",
       "      <td>...</td>\n",
       "      <td>...</td>\n",
       "      <td>...</td>\n",
       "      <td>...</td>\n",
       "      <td>...</td>\n",
       "      <td>...</td>\n",
       "      <td>...</td>\n",
       "      <td>...</td>\n",
       "      <td>...</td>\n",
       "      <td>...</td>\n",
       "    </tr>\n",
       "    <tr>\n",
       "      <th>4430183</th>\n",
       "      <td>10.0.0.21</td>\n",
       "      <td>55757</td>\n",
       "      <td>10.0.0.4</td>\n",
       "      <td>9200</td>\n",
       "      <td>0.000051</td>\n",
       "      <td>0</td>\n",
       "      <td>0</td>\n",
       "      <td>1</td>\n",
       "      <td>52</td>\n",
       "      <td>1</td>\n",
       "      <td>40</td>\n",
       "    </tr>\n",
       "    <tr>\n",
       "      <th>4430184</th>\n",
       "      <td>10.0.0.4</td>\n",
       "      <td>37236</td>\n",
       "      <td>10.0.0.4</td>\n",
       "      <td>9200</td>\n",
       "      <td>0.000023</td>\n",
       "      <td>0</td>\n",
       "      <td>0</td>\n",
       "      <td>0</td>\n",
       "      <td>0</td>\n",
       "      <td>1</td>\n",
       "      <td>40</td>\n",
       "    </tr>\n",
       "    <tr>\n",
       "      <th>4430185</th>\n",
       "      <td>10.0.0.4</td>\n",
       "      <td>37244</td>\n",
       "      <td>10.0.0.4</td>\n",
       "      <td>9200</td>\n",
       "      <td>0.000005</td>\n",
       "      <td>0</td>\n",
       "      <td>0</td>\n",
       "      <td>0</td>\n",
       "      <td>0</td>\n",
       "      <td>1</td>\n",
       "      <td>40</td>\n",
       "    </tr>\n",
       "    <tr>\n",
       "      <th>4430186</th>\n",
       "      <td>10.0.0.4</td>\n",
       "      <td>37246</td>\n",
       "      <td>10.0.0.4</td>\n",
       "      <td>9200</td>\n",
       "      <td>0.000005</td>\n",
       "      <td>0</td>\n",
       "      <td>0</td>\n",
       "      <td>0</td>\n",
       "      <td>0</td>\n",
       "      <td>1</td>\n",
       "      <td>40</td>\n",
       "    </tr>\n",
       "    <tr>\n",
       "      <th>4430187</th>\n",
       "      <td>10.0.0.4</td>\n",
       "      <td>37254</td>\n",
       "      <td>10.0.0.4</td>\n",
       "      <td>9200</td>\n",
       "      <td>0.000005</td>\n",
       "      <td>0</td>\n",
       "      <td>0</td>\n",
       "      <td>0</td>\n",
       "      <td>0</td>\n",
       "      <td>1</td>\n",
       "      <td>40</td>\n",
       "    </tr>\n",
       "  </tbody>\n",
       "</table>\n",
       "<p>4430183 rows × 11 columns</p>\n",
       "</div>"
      ],
      "text/plain": [
       "         id.orig_h  id.orig_p  id.resp_h  id.resp_p  duration  orig_bytes   \n",
       "0        127.0.0.1      27762  127.0.0.1      58552  0.000000           0  \\\n",
       "1         10.0.0.4      27761   10.0.0.4      48798  0.000000           0   \n",
       "2         10.0.0.4      27761   10.0.0.4      48804  0.000000           0   \n",
       "3        127.0.0.1      27762  127.0.0.1      58568  0.000000           0   \n",
       "4         10.0.0.4      48786   10.0.0.4      27761  0.000000           0   \n",
       "...            ...        ...        ...        ...       ...         ...   \n",
       "4430183  10.0.0.21      55757   10.0.0.4       9200  0.000051           0   \n",
       "4430184   10.0.0.4      37236   10.0.0.4       9200  0.000023           0   \n",
       "4430185   10.0.0.4      37244   10.0.0.4       9200  0.000005           0   \n",
       "4430186   10.0.0.4      37246   10.0.0.4       9200  0.000005           0   \n",
       "4430187   10.0.0.4      37254   10.0.0.4       9200  0.000005           0   \n",
       "\n",
       "         resp_bytes  orig_pkts  orig_ip_bytes  resp_pkts  resp_ip_bytes  \n",
       "0                 0          0              0          0              0  \n",
       "1                 0          0              0          0              0  \n",
       "2                 0          0              0          0              0  \n",
       "3                 0          0              0          0              0  \n",
       "4                 0          0              0          0              0  \n",
       "...             ...        ...            ...        ...            ...  \n",
       "4430183           0          1             52          1             40  \n",
       "4430184           0          0              0          1             40  \n",
       "4430185           0          0              0          1             40  \n",
       "4430186           0          0              0          1             40  \n",
       "4430187           0          0              0          1             40  \n",
       "\n",
       "[4430183 rows x 11 columns]"
      ]
     },
     "execution_count": 2,
     "metadata": {},
     "output_type": "execute_result"
    }
   ],
   "source": [
    "# Load the data\n",
    "# This is the data we previously saved from the Pandas notebook\n",
    "#   04 - Beginning Pandas <br>\n",
    "df_conn = pd.read_csv(r'df_conn_cleaned.csv', index_col=0)\n",
    "df_conn"
   ]
  },
  {
   "attachments": {},
   "cell_type": "markdown",
   "metadata": {},
   "source": [
    "This file represents Zeek (formerly Bro) connection log - conn.log`. <br>\n",
    "Zeek is a framework used for Network Security Monitoring.  <br>\n",
    "This entire series is based on using Zeek's data.  <br>\n",
    "The majority of the notebooks use the conn.log <br>\n",
    "You can learn more about Zeek here:\n",
    "   \n",
    "    https://zeek.org/\n",
    "\n",
    "Alternatively, come hang out with us in the:\n",
    "SANS SEC595: Applied Data Science and Machine Learning for Cybersecurity Professionals\n",
    "\n",
    "        https://www.sans.org/cyber-security-courses/applied-data-science-machine-learning/ OR\n",
    "\n",
    "SEC503 SEC503: Network Monitoring and Threat Detection In-Depth\n",
    "\n",
    "        https://www.sans.org/cyber-security-courses/network-monitoring-threat-detection/\n",
    "\n",
    "\n",
    "Here are also some blog posts on using Zeek for security monitoring\n",
    "Installing Zeek: \n",
    "\n",
    "        https://www.securitynik.com/2020/06/installing-zeek-314-on-ubuntu-2004.html\n",
    "\n",
    "Detecting PowerShell Empire Usage: \n",
    "\n",
    "        https://www.securitynik.com/2022/02/powershell-empire-detection-with-zeek.html\n",
    "\n",
    "Detecting Log4J Vulnerability Exploitation: \n",
    "\n",
    "        https://www.securitynik.com/2021/12/continuing-log4shell-zeek-detection.html\n"
   ]
  },
  {
   "cell_type": "code",
   "execution_count": 3,
   "metadata": {},
   "outputs": [
    {
     "data": {
      "text/html": [
       "<div>\n",
       "<style scoped>\n",
       "    .dataframe tbody tr th:only-of-type {\n",
       "        vertical-align: middle;\n",
       "    }\n",
       "\n",
       "    .dataframe tbody tr th {\n",
       "        vertical-align: top;\n",
       "    }\n",
       "\n",
       "    .dataframe thead th {\n",
       "        text-align: right;\n",
       "    }\n",
       "</style>\n",
       "<table border=\"1\" class=\"dataframe\">\n",
       "  <thead>\n",
       "    <tr style=\"text-align: right;\">\n",
       "      <th></th>\n",
       "      <th>id.orig_h</th>\n",
       "      <th>id.orig_p</th>\n",
       "      <th>id.resp_h</th>\n",
       "      <th>id.resp_p</th>\n",
       "      <th>duration</th>\n",
       "      <th>orig_bytes</th>\n",
       "      <th>resp_bytes</th>\n",
       "      <th>orig_pkts</th>\n",
       "      <th>orig_ip_bytes</th>\n",
       "      <th>resp_pkts</th>\n",
       "      <th>resp_ip_bytes</th>\n",
       "    </tr>\n",
       "  </thead>\n",
       "  <tbody>\n",
       "    <tr>\n",
       "      <th>5</th>\n",
       "      <td>10.0.0.10</td>\n",
       "      <td>52824</td>\n",
       "      <td>89.187.183.77</td>\n",
       "      <td>8888</td>\n",
       "      <td>0.053276</td>\n",
       "      <td>208</td>\n",
       "      <td>976</td>\n",
       "      <td>6</td>\n",
       "      <td>528</td>\n",
       "      <td>6</td>\n",
       "      <td>1296</td>\n",
       "    </tr>\n",
       "    <tr>\n",
       "      <th>6</th>\n",
       "      <td>10.0.0.10</td>\n",
       "      <td>52826</td>\n",
       "      <td>89.187.183.77</td>\n",
       "      <td>8888</td>\n",
       "      <td>0.383646</td>\n",
       "      <td>227</td>\n",
       "      <td>692369</td>\n",
       "      <td>202</td>\n",
       "      <td>10739</td>\n",
       "      <td>117</td>\n",
       "      <td>240893</td>\n",
       "    </tr>\n",
       "    <tr>\n",
       "      <th>7</th>\n",
       "      <td>10.0.0.10</td>\n",
       "      <td>52828</td>\n",
       "      <td>89.187.183.77</td>\n",
       "      <td>8888</td>\n",
       "      <td>0.054294</td>\n",
       "      <td>208</td>\n",
       "      <td>977</td>\n",
       "      <td>6</td>\n",
       "      <td>528</td>\n",
       "      <td>6</td>\n",
       "      <td>1297</td>\n",
       "    </tr>\n",
       "    <tr>\n",
       "      <th>8</th>\n",
       "      <td>10.0.0.10</td>\n",
       "      <td>52830</td>\n",
       "      <td>89.187.183.77</td>\n",
       "      <td>8888</td>\n",
       "      <td>0.424980</td>\n",
       "      <td>227</td>\n",
       "      <td>791633</td>\n",
       "      <td>176</td>\n",
       "      <td>9387</td>\n",
       "      <td>174</td>\n",
       "      <td>367737</td>\n",
       "    </tr>\n",
       "    <tr>\n",
       "      <th>9</th>\n",
       "      <td>10.0.0.10</td>\n",
       "      <td>52832</td>\n",
       "      <td>89.187.183.77</td>\n",
       "      <td>8888</td>\n",
       "      <td>0.272567</td>\n",
       "      <td>227</td>\n",
       "      <td>406607</td>\n",
       "      <td>171</td>\n",
       "      <td>9127</td>\n",
       "      <td>71</td>\n",
       "      <td>169939</td>\n",
       "    </tr>\n",
       "    <tr>\n",
       "      <th>...</th>\n",
       "      <td>...</td>\n",
       "      <td>...</td>\n",
       "      <td>...</td>\n",
       "      <td>...</td>\n",
       "      <td>...</td>\n",
       "      <td>...</td>\n",
       "      <td>...</td>\n",
       "      <td>...</td>\n",
       "      <td>...</td>\n",
       "      <td>...</td>\n",
       "      <td>...</td>\n",
       "    </tr>\n",
       "    <tr>\n",
       "      <th>4430183</th>\n",
       "      <td>10.0.0.21</td>\n",
       "      <td>55757</td>\n",
       "      <td>10.0.0.4</td>\n",
       "      <td>9200</td>\n",
       "      <td>0.000051</td>\n",
       "      <td>0</td>\n",
       "      <td>0</td>\n",
       "      <td>1</td>\n",
       "      <td>52</td>\n",
       "      <td>1</td>\n",
       "      <td>40</td>\n",
       "    </tr>\n",
       "    <tr>\n",
       "      <th>4430184</th>\n",
       "      <td>10.0.0.4</td>\n",
       "      <td>37236</td>\n",
       "      <td>10.0.0.4</td>\n",
       "      <td>9200</td>\n",
       "      <td>0.000023</td>\n",
       "      <td>0</td>\n",
       "      <td>0</td>\n",
       "      <td>0</td>\n",
       "      <td>0</td>\n",
       "      <td>1</td>\n",
       "      <td>40</td>\n",
       "    </tr>\n",
       "    <tr>\n",
       "      <th>4430185</th>\n",
       "      <td>10.0.0.4</td>\n",
       "      <td>37244</td>\n",
       "      <td>10.0.0.4</td>\n",
       "      <td>9200</td>\n",
       "      <td>0.000005</td>\n",
       "      <td>0</td>\n",
       "      <td>0</td>\n",
       "      <td>0</td>\n",
       "      <td>0</td>\n",
       "      <td>1</td>\n",
       "      <td>40</td>\n",
       "    </tr>\n",
       "    <tr>\n",
       "      <th>4430186</th>\n",
       "      <td>10.0.0.4</td>\n",
       "      <td>37246</td>\n",
       "      <td>10.0.0.4</td>\n",
       "      <td>9200</td>\n",
       "      <td>0.000005</td>\n",
       "      <td>0</td>\n",
       "      <td>0</td>\n",
       "      <td>0</td>\n",
       "      <td>0</td>\n",
       "      <td>1</td>\n",
       "      <td>40</td>\n",
       "    </tr>\n",
       "    <tr>\n",
       "      <th>4430187</th>\n",
       "      <td>10.0.0.4</td>\n",
       "      <td>37254</td>\n",
       "      <td>10.0.0.4</td>\n",
       "      <td>9200</td>\n",
       "      <td>0.000005</td>\n",
       "      <td>0</td>\n",
       "      <td>0</td>\n",
       "      <td>0</td>\n",
       "      <td>0</td>\n",
       "      <td>1</td>\n",
       "      <td>40</td>\n",
       "    </tr>\n",
       "  </tbody>\n",
       "</table>\n",
       "<p>209986 rows × 11 columns</p>\n",
       "</div>"
      ],
      "text/plain": [
       "         id.orig_h  id.orig_p      id.resp_h  id.resp_p  duration  orig_bytes   \n",
       "5        10.0.0.10      52824  89.187.183.77       8888  0.053276         208  \\\n",
       "6        10.0.0.10      52826  89.187.183.77       8888  0.383646         227   \n",
       "7        10.0.0.10      52828  89.187.183.77       8888  0.054294         208   \n",
       "8        10.0.0.10      52830  89.187.183.77       8888  0.424980         227   \n",
       "9        10.0.0.10      52832  89.187.183.77       8888  0.272567         227   \n",
       "...            ...        ...            ...        ...       ...         ...   \n",
       "4430183  10.0.0.21      55757       10.0.0.4       9200  0.000051           0   \n",
       "4430184   10.0.0.4      37236       10.0.0.4       9200  0.000023           0   \n",
       "4430185   10.0.0.4      37244       10.0.0.4       9200  0.000005           0   \n",
       "4430186   10.0.0.4      37246       10.0.0.4       9200  0.000005           0   \n",
       "4430187   10.0.0.4      37254       10.0.0.4       9200  0.000005           0   \n",
       "\n",
       "         resp_bytes  orig_pkts  orig_ip_bytes  resp_pkts  resp_ip_bytes  \n",
       "5               976          6            528          6           1296  \n",
       "6            692369        202          10739        117         240893  \n",
       "7               977          6            528          6           1297  \n",
       "8            791633        176           9387        174         367737  \n",
       "9            406607        171           9127         71         169939  \n",
       "...             ...        ...            ...        ...            ...  \n",
       "4430183           0          1             52          1             40  \n",
       "4430184           0          0              0          1             40  \n",
       "4430185           0          0              0          1             40  \n",
       "4430186           0          0              0          1             40  \n",
       "4430187           0          0              0          1             40  \n",
       "\n",
       "[209986 rows x 11 columns]"
      ]
     },
     "execution_count": 3,
     "metadata": {},
     "output_type": "execute_result"
    }
   ],
   "source": [
    "# Looking at above, we see a number of records with 0s. \n",
    "# These will add no value to our learning process\n",
    "# I know you might be saying, why didn't we fix these earlier. \n",
    "# Good question, we are learning (pun intended) as we go along.\n",
    "# Besides you learn more about your data as you work with your data\n",
    "# Or as it is said, if you interrogate the data long enough, it will confess\n",
    "#   https://quoteinvestigator.com/2021/01/18/confess/\n",
    "# Let's find all those records and drop them\n",
    "# Reference: https://stackoverflow.com/questions/13851535/how-to-delete-rows-from-a-pandas-dataframe-based-on-a-conditional-expression\n",
    "df_conn = df_conn.drop(df_conn[(df_conn.duration == 0 ) & (df_conn.orig_bytes == 0 ) \n",
    "                               & (df_conn.resp_bytes == 0 ) & (df_conn.orig_pkts == 0 )  \n",
    "                               & (df_conn.orig_ip_bytes == 0 ) & (df_conn.resp_pkts == 0 ) \n",
    "                               & (df_conn.resp_ip_bytes == 0 )].index)\n",
    "df_conn"
   ]
  },
  {
   "cell_type": "code",
   "execution_count": 4,
   "metadata": {},
   "outputs": [
    {
     "data": {
      "image/png": "[encoded data removed]",
      "text/plain": [
       "<Figure size 640x480 with 1 Axes>"
      ]
     },
     "metadata": {},
     "output_type": "display_data"
    }
   ],
   "source": [
    "# Confirming the positive correlation between the resp_bytes and resp_pkts\n",
    "# We can see from below, generally, as x increases, y increases\n",
    "# and as y increases, x increases. \n",
    "# Hence our strong positive correlation.\n",
    "# What we need is a line that best fits this data\n",
    "# Meaning, we need a m and b for y = mx + b\n",
    "# The question is which line works best?\n",
    "plt.title('Scatter Plot showing strong linear relationship \\n between orig_pkts and resp_pkts')\n",
    "plt.scatter(df_conn['orig_pkts'], df_conn['resp_pkts'])\n",
    "plt.xlabel('orig_pkts')\n",
    "plt.ylabel('resp_pkts')\n",
    "plt.show()"
   ]
  },
  {
   "cell_type": "code",
   "execution_count": 5,
   "metadata": {},
   "outputs": [
    {
     "data": {
      "text/plain": [
       "0.8400252261323242"
      ]
     },
     "execution_count": 5,
     "metadata": {},
     "output_type": "execute_result"
    }
   ],
   "source": [
    "# Further confirming the positive linear correlation\n",
    "df_conn.orig_pkts.corr(other=df_conn.resp_pkts, method='pearson')"
   ]
  },
  {
   "cell_type": "code",
   "execution_count": 6,
   "metadata": {},
   "outputs": [
    {
     "data": {
      "text/plain": [
       "<matplotlib.legend.Legend at 0x1cbb995faf0>"
      ]
     },
     "execution_count": 6,
     "metadata": {},
     "output_type": "execute_result"
    },
    {
     "data": {
      "image/png": "[encoded data removed]",
      "text/plain": [
       "<Figure size 640x480 with 1 Axes>"
      ]
     },
     "metadata": {},
     "output_type": "display_data"
    }
   ],
   "source": [
    "# Trying to figure out which line best fits our data\n",
    "# As in which one will produce the smallest error\n",
    "plt.title('Which line is the best fit? This is what we need to figure out')\n",
    "plt.scatter(df_conn['orig_pkts'], df_conn['resp_pkts'])\n",
    "plt.plot(df_conn.orig_pkts, (1 * df_conn.orig_pkts) + 1, label='m=1, b=1?', c='r', linestyle='--' )\n",
    "plt.plot(df_conn.orig_pkts, (2 * df_conn.orig_pkts) + 1, label='m=2, b=1?', c='g', linestyle='dashdot' )\n",
    "plt.plot(df_conn.orig_pkts, (3 * df_conn.orig_pkts) + 1, label='m=3, b=1?', c='b', linestyle='dotted' )\n",
    "plt.legend(loc='best')\n"
   ]
  },
  {
   "cell_type": "code",
   "execution_count": 7,
   "metadata": {},
   "outputs": [
    {
     "data": {
      "text/plain": [
       "(array([[  6.],\n",
       "        [202.],\n",
       "        [  6.],\n",
       "        [176.],\n",
       "        [171.]], dtype=float32),\n",
       " array([[  6.],\n",
       "        [117.],\n",
       "        [  6.],\n",
       "        [174.],\n",
       "        [ 71.]], dtype=float32))"
      ]
     },
     "execution_count": 7,
     "metadata": {},
     "output_type": "execute_result"
    }
   ],
   "source": [
    "# Setup our x and y\n",
    "X = df_conn['orig_pkts'].values.astype(np.float32).reshape(-1,1)\n",
    "y = df_conn['resp_pkts'].values.astype(np.float32).reshape(-1,1)\n",
    "\n",
    "# Get a view of the data\n",
    "X[:5], y[:5]"
   ]
  },
  {
   "cell_type": "code",
   "execution_count": 8,
   "metadata": {},
   "outputs": [],
   "source": [
    "# Import the scaler to scale the data\n",
    "from sklearn.preprocessing import MinMaxScaler"
   ]
  },
  {
   "cell_type": "code",
   "execution_count": 9,
   "metadata": {},
   "outputs": [
    {
     "data": {
      "text/plain": [
       "array([[1.2604194e-05],\n",
       "       [4.2434121e-04],\n",
       "       [1.2604194e-05],\n",
       "       ...,\n",
       "       [0.0000000e+00],\n",
       "       [0.0000000e+00],\n",
       "       [0.0000000e+00]], dtype=float32)"
      ]
     },
     "execution_count": 9,
     "metadata": {},
     "output_type": "execute_result"
    }
   ],
   "source": [
    "# Setup the scaler\n",
    "min_max_scaler = MinMaxScaler(feature_range=(0,1))\n",
    "\n",
    "# Fit on the normal data\n",
    "min_max_scaler.fit(X)\n",
    "\n",
    "# Transform the normal data\n",
    "X_scaled = min_max_scaler.transform(X)\n",
    "X_scaled"
   ]
  },
  {
   "cell_type": "code",
   "execution_count": 10,
   "metadata": {},
   "outputs": [],
   "source": [
    "# Because we learned about Linear Regression in \n",
    "#   11. Beginning Linear Regression - Machine Learning\n",
    "# I will jump straight into the deep learning part of Linear Regression"
   ]
  },
  {
   "cell_type": "code",
   "execution_count": 11,
   "metadata": {},
   "outputs": [],
   "source": [
    "# Import the PyTorch library\n",
    "import torch"
   ]
  },
  {
   "cell_type": "code",
   "execution_count": 12,
   "metadata": {},
   "outputs": [],
   "source": [
    "# Set the manual seed\n",
    "torch.manual_seed(seed=10)\n",
    "\n",
    "# Setup the torch model\n",
    "#   https://pytorch.org/docs/stable/generated/torch.nn.Sequential.html\n",
    "torch_lr_model = torch.nn.Sequential(\n",
    "    torch.nn.Linear(in_features=1, out_features=4),\n",
    "    torch.nn.ReLU(),\n",
    "    torch.nn.Linear(in_features=4, out_features=4),\n",
    "    torch.nn.ReLU(),\n",
    "    torch.nn.Linear(in_features=4, out_features=1),\n",
    ")"
   ]
  },
  {
   "cell_type": "code",
   "execution_count": 13,
   "metadata": {},
   "outputs": [
    {
     "data": {
      "text/plain": [
       "Sequential(\n",
       "  (0): Linear(in_features=1, out_features=4, bias=True)\n",
       "  (1): ReLU()\n",
       "  (2): Linear(in_features=4, out_features=4, bias=True)\n",
       "  (3): ReLU()\n",
       "  (4): Linear(in_features=4, out_features=1, bias=True)\n",
       ")"
      ]
     },
     "execution_count": 13,
     "metadata": {},
     "output_type": "execute_result"
    }
   ],
   "source": [
    "# Get a look at the model\n",
    "torch_lr_model"
   ]
  },
  {
   "cell_type": "code",
   "execution_count": 14,
   "metadata": {},
   "outputs": [
    {
     "data": {
      "text/plain": [
       "OrderedDict([('0.weight',\n",
       "              tensor([[-0.0838],\n",
       "                      [-0.0343],\n",
       "                      [-0.3750],\n",
       "                      [ 0.2300]])),\n",
       "             ('0.bias', tensor([-0.5721, -0.1763,  0.3876,  0.9386])),\n",
       "             ('2.weight',\n",
       "              tensor([[ 0.1178, -0.1696,  0.0479, -0.0560],\n",
       "                      [ 0.2041,  0.0573,  0.1959,  0.4849],\n",
       "                      [-0.2076, -0.0177,  0.1150, -0.0033],\n",
       "                      [-0.0479, -0.4425, -0.4313, -0.4499]])),\n",
       "             ('2.bias', tensor([-0.4892, -0.4657, -0.3788, -0.4510])),\n",
       "             ('4.weight', tensor([[-0.4690,  0.2192,  0.3067,  0.3379]])),\n",
       "             ('4.bias', tensor([0.2694]))])"
      ]
     },
     "execution_count": 14,
     "metadata": {},
     "output_type": "execute_result"
    }
   ],
   "source": [
    "# Looking at the state dictionary\n",
    "# This gives insights into the intial weights and biases\n",
    "torch_lr_model.state_dict()"
   ]
  },
  {
   "cell_type": "code",
   "execution_count": 15,
   "metadata": {},
   "outputs": [],
   "source": [
    "# Look at the summary\n",
    "from torchinfo import summary"
   ]
  },
  {
   "cell_type": "code",
   "execution_count": 16,
   "metadata": {},
   "outputs": [
    {
     "data": {
      "text/plain": [
       "=================================================================\n",
       "Layer (type:depth-idx)                   Param #\n",
       "=================================================================\n",
       "Sequential                               --\n",
       "├─Linear: 1-1                            8\n",
       "├─ReLU: 1-2                              --\n",
       "├─Linear: 1-3                            20\n",
       "├─ReLU: 1-4                              --\n",
       "├─Linear: 1-5                            5\n",
       "=================================================================\n",
       "Total params: 33\n",
       "Trainable params: 33\n",
       "Non-trainable params: 0\n",
       "================================================================="
      ]
     },
     "execution_count": 16,
     "metadata": {},
     "output_type": "execute_result"
    }
   ],
   "source": [
    "# Get the summary of the model\n",
    "summary(torch_lr_model, depth=5)"
   ]
  },
  {
   "cell_type": "code",
   "execution_count": 17,
   "metadata": {},
   "outputs": [],
   "source": [
    "# Before training the model, split the data into train and test set\n",
    "# import the train test split library\n",
    "from sklearn.model_selection import train_test_split"
   ]
  },
  {
   "cell_type": "code",
   "execution_count": 18,
   "metadata": {},
   "outputs": [
    {
     "data": {
      "text/plain": [
       "((167988, 1), (41998, 1), (167988, 1), (41998, 1))"
      ]
     },
     "execution_count": 18,
     "metadata": {},
     "output_type": "execute_result"
    }
   ],
   "source": [
    "# Split the data into training and testing\n",
    "X_train, X_test, y_train, y_test = train_test_split(X_scaled, y, test_size=0.2, \\\n",
    "                                                    train_size=0.8, random_state=10, shuffle=True)\n",
    "X_train.shape, X_test.shape, y_train.shape, y_test.shape"
   ]
  },
  {
   "cell_type": "code",
   "execution_count": 19,
   "metadata": {},
   "outputs": [
    {
     "data": {
      "text/plain": [
       "(tensor([[2.1007e-06],\n",
       "         [1.4705e-05],\n",
       "         [2.1007e-06],\n",
       "         [2.1007e-06],\n",
       "         [3.7813e-05]]),\n",
       " tensor([[9.1170e-04],\n",
       "         [2.1007e-06],\n",
       "         [1.0503e-05],\n",
       "         [2.1007e-06],\n",
       "         [1.2604e-05]]))"
      ]
     },
     "execution_count": 19,
     "metadata": {},
     "output_type": "execute_result"
    }
   ],
   "source": [
    "# Convert the numpy arrays to torch tensors as numpy arrays raise an error\n",
    "X_train, X_test = torch.tensor(X_train, dtype=torch.float), torch.tensor(X_test, dtype=torch.float)\n",
    "\n",
    "# View the first 5 records of both and we now see have tensors\n",
    "X_train[:5], X_test[:5]"
   ]
  },
  {
   "cell_type": "code",
   "execution_count": 20,
   "metadata": {},
   "outputs": [
    {
     "data": {
      "text/plain": [
       "(tensor([[ 1.],\n",
       "         [ 5.],\n",
       "         [ 1.],\n",
       "         [ 1.],\n",
       "         [18.]]),\n",
       " tensor([[649.],\n",
       "         [  1.],\n",
       "         [  6.],\n",
       "         [  1.],\n",
       "         [  5.]]))"
      ]
     },
     "execution_count": 20,
     "metadata": {},
     "output_type": "execute_result"
    }
   ],
   "source": [
    "# Do the same for the training data\n",
    "y_train, y_test = torch.tensor(y_train, dtype=torch.float), torch.tensor(y_test, dtype=torch.float)\n",
    "\n",
    "# View the first 5 records of both and we now see have tensors\n",
    "y_train[:5], y_test[:5]"
   ]
  },
  {
   "cell_type": "code",
   "execution_count": 21,
   "metadata": {},
   "outputs": [],
   "source": [
    "# Prepare to visualize the model\n",
    "# https://github.com/mert-kurttutan/torchview\n",
    "from torchview import draw_graph"
   ]
  },
  {
   "cell_type": "code",
   "execution_count": 22,
   "metadata": {},
   "outputs": [
    {
     "name": "stderr",
     "output_type": "stream",
     "text": [
      "\n",
      "(dot.exe:6660): Pango-WARNING **: couldn't load font \"Linux libertine Not-Rotated 10\", falling back to \"Sans Not-Rotated 10\", expect ugly output.\n"
     ]
    },
    {
     "data": {
      "image/svg+xml": [
       "<?xml version=\"1.0\" encoding=\"UTF-8\" standalone=\"no\"?>\n",
       "<!DOCTYPE svg PUBLIC \"-//W3C//DTD SVG 1.1//EN\"\n",
       " \"http://www.w3.org/Graphics/SVG/1.1/DTD/svg11.dtd\">\n",
       "<!-- Generated by graphviz version 6.0.2 (20221011.1828)\n",
       " -->\n",
       "<!-- Title: torch_linear_model Pages: 1 -->\n",
       "<svg width=\"192pt\" height=\"823pt\"\n",
       " viewBox=\"0.00 0.00 192.00 823.00\" xmlns=\"http://www.w3.org/2000/svg\" xmlns:xlink=\"http://www.w3.org/1999/xlink\">\n",
       "<g id=\"graph0\" class=\"graph\" transform=\"scale(1 1) rotate(0) translate(4 819)\">\n",
       "<title>torch_linear_model</title>\n",
       "<polygon fill=\"white\" stroke=\"none\" points=\"-4,4 -4,-819 188,-819 188,4 -4,4\"/>\n",
       "<g id=\"clust2\" class=\"cluster\">\n",
       "<title>cluster_3</title>\n",
       "<polygon fill=\"none\" stroke=\"black\" stroke-dasharray=\"5,2\" points=\"8,-473 8,-620 176,-620 176,-473 8,-473\"/>\n",
       "<text text-anchor=\"middle\" x=\"30\" y=\"-606.4\" font-family=\"Times New Roman,serif\" font-size=\"12.00\">ReLU</text>\n",
       "</g>\n",
       "<g id=\"clust1\" class=\"cluster\">\n",
       "<title>cluster_2</title>\n",
       "<polygon fill=\"none\" stroke=\"black\" stroke-dasharray=\"5,2\" points=\"8,-628 8,-775 176,-775 176,-628 8,-628\"/>\n",
       "<text text-anchor=\"middle\" x=\"30.5\" y=\"-761.4\" font-family=\"Times New Roman,serif\" font-size=\"12.00\">Linear</text>\n",
       "</g>\n",
       "<g id=\"clust3\" class=\"cluster\">\n",
       "<title>cluster_4</title>\n",
       "<polygon fill=\"none\" stroke=\"black\" stroke-dasharray=\"5,2\" points=\"8,-318 8,-465 176,-465 176,-318 8,-318\"/>\n",
       "<text text-anchor=\"middle\" x=\"30.5\" y=\"-451.4\" font-family=\"Times New Roman,serif\" font-size=\"12.00\">Linear</text>\n",
       "</g>\n",
       "<g id=\"clust5\" class=\"cluster\">\n",
       "<title>cluster_6</title>\n",
       "<polygon fill=\"none\" stroke=\"black\" stroke-dasharray=\"5,2\" points=\"8,-8 8,-155 176,-155 176,-8 8,-8\"/>\n",
       "<text text-anchor=\"middle\" x=\"30.5\" y=\"-141.4\" font-family=\"Times New Roman,serif\" font-size=\"12.00\">Linear</text>\n",
       "</g>\n",
       "<g id=\"clust4\" class=\"cluster\">\n",
       "<title>cluster_5</title>\n",
       "<polygon fill=\"none\" stroke=\"black\" stroke-dasharray=\"5,2\" points=\"8,-163 8,-310 176,-310 176,-163 8,-163\"/>\n",
       "<text text-anchor=\"middle\" x=\"30\" y=\"-296.4\" font-family=\"Times New Roman,serif\" font-size=\"12.00\">ReLU</text>\n",
       "</g>\n",
       "<!-- 0 -->\n",
       "<g id=\"node1\" class=\"node\">\n",
       "<title>0</title>\n",
       "<polygon fill=\"lightyellow\" stroke=\"none\" points=\"153.5,-815 30.5,-815 30.5,-783 153.5,-783 153.5,-815\"/>\n",
       "<polygon fill=\"none\" stroke=\"black\" points=\"31,-783 31,-815 93,-815 93,-783 31,-783\"/>\n",
       "<text text-anchor=\"start\" x=\"36\" y=\"-802\" font-family=\"Linux libertine\" font-size=\"10.00\">input&#45;tensor</text>\n",
       "<text text-anchor=\"start\" x=\"45\" y=\"-791\" font-family=\"Linux libertine\" font-size=\"10.00\">depth:0</text>\n",
       "<polygon fill=\"none\" stroke=\"black\" points=\"93,-783 93,-815 154,-815 154,-783 93,-783\"/>\n",
       "<text text-anchor=\"start\" x=\"98\" y=\"-796.5\" font-family=\"Linux libertine\" font-size=\"10.00\">(167988, 1)</text>\n",
       "</g>\n",
       "<!-- 1 -->\n",
       "<g id=\"node2\" class=\"node\">\n",
       "<title>1</title>\n",
       "<polygon fill=\"aliceblue\" stroke=\"none\" points=\"168,-746 16,-746 16,-704 168,-704 168,-746\"/>\n",
       "<polygon fill=\"none\" stroke=\"black\" points=\"16,-704 16,-746 60,-746 60,-704 16,-704\"/>\n",
       "<text text-anchor=\"start\" x=\"25.5\" y=\"-728\" font-family=\"Linux libertine\" font-size=\"10.00\">linear</text>\n",
       "<text text-anchor=\"start\" x=\"21\" y=\"-717\" font-family=\"Linux libertine\" font-size=\"10.00\">depth:2</text>\n",
       "<polygon fill=\"none\" stroke=\"black\" points=\"60,-725 60,-746 104,-746 104,-725 60,-725\"/>\n",
       "<text text-anchor=\"start\" x=\"69.5\" y=\"-733\" font-family=\"Linux libertine\" font-size=\"10.00\">input:</text>\n",
       "<polygon fill=\"none\" stroke=\"black\" points=\"104,-725 104,-746 168,-746 168,-725 104,-725\"/>\n",
       "<text text-anchor=\"start\" x=\"109\" y=\"-733\" font-family=\"Linux libertine\" font-size=\"10.00\">(167988, 1) </text>\n",
       "<polygon fill=\"none\" stroke=\"black\" points=\"60,-704 60,-725 104,-725 104,-704 60,-704\"/>\n",
       "<text text-anchor=\"start\" x=\"65\" y=\"-712\" font-family=\"Linux libertine\" font-size=\"10.00\">output: </text>\n",
       "<polygon fill=\"none\" stroke=\"black\" points=\"104,-704 104,-725 168,-725 168,-704 104,-704\"/>\n",
       "<text text-anchor=\"start\" x=\"109\" y=\"-712\" font-family=\"Linux libertine\" font-size=\"10.00\">(167988, 4) </text>\n",
       "</g>\n",
       "<!-- 0&#45;&gt;1 -->\n",
       "<g id=\"edge1\" class=\"edge\">\n",
       "<title>0&#45;&gt;1</title>\n",
       "<path fill=\"none\" stroke=\"black\" d=\"M92,-782.73C92,-775.08 92,-765.52 92,-756.45\"/>\n",
       "<polygon fill=\"black\" stroke=\"black\" points=\"95.5,-756.17 92,-746.17 88.5,-756.17 95.5,-756.17\"/>\n",
       "</g>\n",
       "<!-- 2 -->\n",
       "<g id=\"node3\" class=\"node\">\n",
       "<title>2</title>\n",
       "<polygon fill=\"lightyellow\" stroke=\"none\" points=\"157.5,-668 26.5,-668 26.5,-636 157.5,-636 157.5,-668\"/>\n",
       "<polygon fill=\"none\" stroke=\"black\" points=\"27,-636 27,-668 97,-668 97,-636 27,-636\"/>\n",
       "<text text-anchor=\"start\" x=\"32\" y=\"-655\" font-family=\"Linux libertine\" font-size=\"10.00\">hidden&#45;tensor</text>\n",
       "<text text-anchor=\"start\" x=\"45\" y=\"-644\" font-family=\"Linux libertine\" font-size=\"10.00\">depth:1</text>\n",
       "<polygon fill=\"none\" stroke=\"black\" points=\"97,-636 97,-668 158,-668 158,-636 97,-636\"/>\n",
       "<text text-anchor=\"start\" x=\"102\" y=\"-649.5\" font-family=\"Linux libertine\" font-size=\"10.00\">(167988, 4)</text>\n",
       "</g>\n",
       "<!-- 1&#45;&gt;2 -->\n",
       "<g id=\"edge2\" class=\"edge\">\n",
       "<title>1&#45;&gt;2</title>\n",
       "<path fill=\"none\" stroke=\"black\" d=\"M92,-703.84C92,-695.89 92,-686.66 92,-678.26\"/>\n",
       "<polygon fill=\"black\" stroke=\"black\" points=\"95.5,-678.24 92,-668.24 88.5,-678.24 95.5,-678.24\"/>\n",
       "</g>\n",
       "<!-- 3 -->\n",
       "<g id=\"node4\" class=\"node\">\n",
       "<title>3</title>\n",
       "<polygon fill=\"aliceblue\" stroke=\"none\" points=\"168,-591 16,-591 16,-549 168,-549 168,-591\"/>\n",
       "<polygon fill=\"none\" stroke=\"black\" points=\"16,-549 16,-591 60,-591 60,-549 16,-549\"/>\n",
       "<text text-anchor=\"start\" x=\"29.5\" y=\"-573\" font-family=\"Linux libertine\" font-size=\"10.00\">relu</text>\n",
       "<text text-anchor=\"start\" x=\"21\" y=\"-562\" font-family=\"Linux libertine\" font-size=\"10.00\">depth:2</text>\n",
       "<polygon fill=\"none\" stroke=\"black\" points=\"60,-570 60,-591 104,-591 104,-570 60,-570\"/>\n",
       "<text text-anchor=\"start\" x=\"69.5\" y=\"-578\" font-family=\"Linux libertine\" font-size=\"10.00\">input:</text>\n",
       "<polygon fill=\"none\" stroke=\"black\" points=\"104,-570 104,-591 168,-591 168,-570 104,-570\"/>\n",
       "<text text-anchor=\"start\" x=\"109\" y=\"-578\" font-family=\"Linux libertine\" font-size=\"10.00\">(167988, 4) </text>\n",
       "<polygon fill=\"none\" stroke=\"black\" points=\"60,-549 60,-570 104,-570 104,-549 60,-549\"/>\n",
       "<text text-anchor=\"start\" x=\"65\" y=\"-557\" font-family=\"Linux libertine\" font-size=\"10.00\">output: </text>\n",
       "<polygon fill=\"none\" stroke=\"black\" points=\"104,-549 104,-570 168,-570 168,-549 104,-549\"/>\n",
       "<text text-anchor=\"start\" x=\"109\" y=\"-557\" font-family=\"Linux libertine\" font-size=\"10.00\">(167988, 4) </text>\n",
       "</g>\n",
       "<!-- 2&#45;&gt;3 -->\n",
       "<g id=\"edge3\" class=\"edge\">\n",
       "<title>2&#45;&gt;3</title>\n",
       "<path fill=\"none\" stroke=\"black\" d=\"M92,-635.95C92,-626.15 92,-613.02 92,-601.13\"/>\n",
       "<polygon fill=\"black\" stroke=\"black\" points=\"95.5,-601.12 92,-591.12 88.5,-601.12 95.5,-601.12\"/>\n",
       "</g>\n",
       "<!-- 4 -->\n",
       "<g id=\"node5\" class=\"node\">\n",
       "<title>4</title>\n",
       "<polygon fill=\"lightyellow\" stroke=\"none\" points=\"157.5,-513 26.5,-513 26.5,-481 157.5,-481 157.5,-513\"/>\n",
       "<polygon fill=\"none\" stroke=\"black\" points=\"27,-481 27,-513 97,-513 97,-481 27,-481\"/>\n",
       "<text text-anchor=\"start\" x=\"32\" y=\"-500\" font-family=\"Linux libertine\" font-size=\"10.00\">hidden&#45;tensor</text>\n",
       "<text text-anchor=\"start\" x=\"45\" y=\"-489\" font-family=\"Linux libertine\" font-size=\"10.00\">depth:1</text>\n",
       "<polygon fill=\"none\" stroke=\"black\" points=\"97,-481 97,-513 158,-513 158,-481 97,-481\"/>\n",
       "<text text-anchor=\"start\" x=\"102\" y=\"-494.5\" font-family=\"Linux libertine\" font-size=\"10.00\">(167988, 4)</text>\n",
       "</g>\n",
       "<!-- 3&#45;&gt;4 -->\n",
       "<g id=\"edge4\" class=\"edge\">\n",
       "<title>3&#45;&gt;4</title>\n",
       "<path fill=\"none\" stroke=\"black\" d=\"M92,-548.84C92,-540.89 92,-531.66 92,-523.26\"/>\n",
       "<polygon fill=\"black\" stroke=\"black\" points=\"95.5,-523.24 92,-513.24 88.5,-523.24 95.5,-523.24\"/>\n",
       "</g>\n",
       "<!-- 5 -->\n",
       "<g id=\"node6\" class=\"node\">\n",
       "<title>5</title>\n",
       "<polygon fill=\"aliceblue\" stroke=\"none\" points=\"168,-436 16,-436 16,-394 168,-394 168,-436\"/>\n",
       "<polygon fill=\"none\" stroke=\"black\" points=\"16,-394 16,-436 60,-436 60,-394 16,-394\"/>\n",
       "<text text-anchor=\"start\" x=\"25.5\" y=\"-418\" font-family=\"Linux libertine\" font-size=\"10.00\">linear</text>\n",
       "<text text-anchor=\"start\" x=\"21\" y=\"-407\" font-family=\"Linux libertine\" font-size=\"10.00\">depth:2</text>\n",
       "<polygon fill=\"none\" stroke=\"black\" points=\"60,-415 60,-436 104,-436 104,-415 60,-415\"/>\n",
       "<text text-anchor=\"start\" x=\"69.5\" y=\"-423\" font-family=\"Linux libertine\" font-size=\"10.00\">input:</text>\n",
       "<polygon fill=\"none\" stroke=\"black\" points=\"104,-415 104,-436 168,-436 168,-415 104,-415\"/>\n",
       "<text text-anchor=\"start\" x=\"109\" y=\"-423\" font-family=\"Linux libertine\" font-size=\"10.00\">(167988, 4) </text>\n",
       "<polygon fill=\"none\" stroke=\"black\" points=\"60,-394 60,-415 104,-415 104,-394 60,-394\"/>\n",
       "<text text-anchor=\"start\" x=\"65\" y=\"-402\" font-family=\"Linux libertine\" font-size=\"10.00\">output: </text>\n",
       "<polygon fill=\"none\" stroke=\"black\" points=\"104,-394 104,-415 168,-415 168,-394 104,-394\"/>\n",
       "<text text-anchor=\"start\" x=\"109\" y=\"-402\" font-family=\"Linux libertine\" font-size=\"10.00\">(167988, 4) </text>\n",
       "</g>\n",
       "<!-- 4&#45;&gt;5 -->\n",
       "<g id=\"edge5\" class=\"edge\">\n",
       "<title>4&#45;&gt;5</title>\n",
       "<path fill=\"none\" stroke=\"black\" d=\"M92,-480.95C92,-471.15 92,-458.02 92,-446.13\"/>\n",
       "<polygon fill=\"black\" stroke=\"black\" points=\"95.5,-446.12 92,-436.12 88.5,-446.12 95.5,-446.12\"/>\n",
       "</g>\n",
       "<!-- 6 -->\n",
       "<g id=\"node7\" class=\"node\">\n",
       "<title>6</title>\n",
       "<polygon fill=\"lightyellow\" stroke=\"none\" points=\"157.5,-358 26.5,-358 26.5,-326 157.5,-326 157.5,-358\"/>\n",
       "<polygon fill=\"none\" stroke=\"black\" points=\"27,-326 27,-358 97,-358 97,-326 27,-326\"/>\n",
       "<text text-anchor=\"start\" x=\"32\" y=\"-345\" font-family=\"Linux libertine\" font-size=\"10.00\">hidden&#45;tensor</text>\n",
       "<text text-anchor=\"start\" x=\"45\" y=\"-334\" font-family=\"Linux libertine\" font-size=\"10.00\">depth:1</text>\n",
       "<polygon fill=\"none\" stroke=\"black\" points=\"97,-326 97,-358 158,-358 158,-326 97,-326\"/>\n",
       "<text text-anchor=\"start\" x=\"102\" y=\"-339.5\" font-family=\"Linux libertine\" font-size=\"10.00\">(167988, 4)</text>\n",
       "</g>\n",
       "<!-- 5&#45;&gt;6 -->\n",
       "<g id=\"edge6\" class=\"edge\">\n",
       "<title>5&#45;&gt;6</title>\n",
       "<path fill=\"none\" stroke=\"black\" d=\"M92,-393.84C92,-385.89 92,-376.66 92,-368.26\"/>\n",
       "<polygon fill=\"black\" stroke=\"black\" points=\"95.5,-368.24 92,-358.24 88.5,-368.24 95.5,-368.24\"/>\n",
       "</g>\n",
       "<!-- 7 -->\n",
       "<g id=\"node8\" class=\"node\">\n",
       "<title>7</title>\n",
       "<polygon fill=\"aliceblue\" stroke=\"none\" points=\"168,-281 16,-281 16,-239 168,-239 168,-281\"/>\n",
       "<polygon fill=\"none\" stroke=\"black\" points=\"16,-239 16,-281 60,-281 60,-239 16,-239\"/>\n",
       "<text text-anchor=\"start\" x=\"29.5\" y=\"-263\" font-family=\"Linux libertine\" font-size=\"10.00\">relu</text>\n",
       "<text text-anchor=\"start\" x=\"21\" y=\"-252\" font-family=\"Linux libertine\" font-size=\"10.00\">depth:2</text>\n",
       "<polygon fill=\"none\" stroke=\"black\" points=\"60,-260 60,-281 104,-281 104,-260 60,-260\"/>\n",
       "<text text-anchor=\"start\" x=\"69.5\" y=\"-268\" font-family=\"Linux libertine\" font-size=\"10.00\">input:</text>\n",
       "<polygon fill=\"none\" stroke=\"black\" points=\"104,-260 104,-281 168,-281 168,-260 104,-260\"/>\n",
       "<text text-anchor=\"start\" x=\"109\" y=\"-268\" font-family=\"Linux libertine\" font-size=\"10.00\">(167988, 4) </text>\n",
       "<polygon fill=\"none\" stroke=\"black\" points=\"60,-239 60,-260 104,-260 104,-239 60,-239\"/>\n",
       "<text text-anchor=\"start\" x=\"65\" y=\"-247\" font-family=\"Linux libertine\" font-size=\"10.00\">output: </text>\n",
       "<polygon fill=\"none\" stroke=\"black\" points=\"104,-239 104,-260 168,-260 168,-239 104,-239\"/>\n",
       "<text text-anchor=\"start\" x=\"109\" y=\"-247\" font-family=\"Linux libertine\" font-size=\"10.00\">(167988, 4) </text>\n",
       "</g>\n",
       "<!-- 6&#45;&gt;7 -->\n",
       "<g id=\"edge7\" class=\"edge\">\n",
       "<title>6&#45;&gt;7</title>\n",
       "<path fill=\"none\" stroke=\"black\" d=\"M92,-325.95C92,-316.15 92,-303.02 92,-291.13\"/>\n",
       "<polygon fill=\"black\" stroke=\"black\" points=\"95.5,-291.12 92,-281.12 88.5,-291.12 95.5,-291.12\"/>\n",
       "</g>\n",
       "<!-- 8 -->\n",
       "<g id=\"node9\" class=\"node\">\n",
       "<title>8</title>\n",
       "<polygon fill=\"lightyellow\" stroke=\"none\" points=\"157.5,-203 26.5,-203 26.5,-171 157.5,-171 157.5,-203\"/>\n",
       "<polygon fill=\"none\" stroke=\"black\" points=\"27,-171 27,-203 97,-203 97,-171 27,-171\"/>\n",
       "<text text-anchor=\"start\" x=\"32\" y=\"-190\" font-family=\"Linux libertine\" font-size=\"10.00\">hidden&#45;tensor</text>\n",
       "<text text-anchor=\"start\" x=\"45\" y=\"-179\" font-family=\"Linux libertine\" font-size=\"10.00\">depth:1</text>\n",
       "<polygon fill=\"none\" stroke=\"black\" points=\"97,-171 97,-203 158,-203 158,-171 97,-171\"/>\n",
       "<text text-anchor=\"start\" x=\"102\" y=\"-184.5\" font-family=\"Linux libertine\" font-size=\"10.00\">(167988, 4)</text>\n",
       "</g>\n",
       "<!-- 7&#45;&gt;8 -->\n",
       "<g id=\"edge8\" class=\"edge\">\n",
       "<title>7&#45;&gt;8</title>\n",
       "<path fill=\"none\" stroke=\"black\" d=\"M92,-238.84C92,-230.89 92,-221.66 92,-213.26\"/>\n",
       "<polygon fill=\"black\" stroke=\"black\" points=\"95.5,-213.24 92,-203.24 88.5,-213.24 95.5,-213.24\"/>\n",
       "</g>\n",
       "<!-- 9 -->\n",
       "<g id=\"node10\" class=\"node\">\n",
       "<title>9</title>\n",
       "<polygon fill=\"aliceblue\" stroke=\"none\" points=\"168,-126 16,-126 16,-84 168,-84 168,-126\"/>\n",
       "<polygon fill=\"none\" stroke=\"black\" points=\"16,-84 16,-126 60,-126 60,-84 16,-84\"/>\n",
       "<text text-anchor=\"start\" x=\"25.5\" y=\"-108\" font-family=\"Linux libertine\" font-size=\"10.00\">linear</text>\n",
       "<text text-anchor=\"start\" x=\"21\" y=\"-97\" font-family=\"Linux libertine\" font-size=\"10.00\">depth:2</text>\n",
       "<polygon fill=\"none\" stroke=\"black\" points=\"60,-105 60,-126 104,-126 104,-105 60,-105\"/>\n",
       "<text text-anchor=\"start\" x=\"69.5\" y=\"-113\" font-family=\"Linux libertine\" font-size=\"10.00\">input:</text>\n",
       "<polygon fill=\"none\" stroke=\"black\" points=\"104,-105 104,-126 168,-126 168,-105 104,-105\"/>\n",
       "<text text-anchor=\"start\" x=\"109\" y=\"-113\" font-family=\"Linux libertine\" font-size=\"10.00\">(167988, 4) </text>\n",
       "<polygon fill=\"none\" stroke=\"black\" points=\"60,-84 60,-105 104,-105 104,-84 60,-84\"/>\n",
       "<text text-anchor=\"start\" x=\"65\" y=\"-92\" font-family=\"Linux libertine\" font-size=\"10.00\">output: </text>\n",
       "<polygon fill=\"none\" stroke=\"black\" points=\"104,-84 104,-105 168,-105 168,-84 104,-84\"/>\n",
       "<text text-anchor=\"start\" x=\"109\" y=\"-92\" font-family=\"Linux libertine\" font-size=\"10.00\">(167988, 1) </text>\n",
       "</g>\n",
       "<!-- 8&#45;&gt;9 -->\n",
       "<g id=\"edge9\" class=\"edge\">\n",
       "<title>8&#45;&gt;9</title>\n",
       "<path fill=\"none\" stroke=\"black\" d=\"M92,-170.95C92,-161.15 92,-148.02 92,-136.13\"/>\n",
       "<polygon fill=\"black\" stroke=\"black\" points=\"95.5,-136.12 92,-126.12 88.5,-136.12 95.5,-136.12\"/>\n",
       "</g>\n",
       "<!-- 10 -->\n",
       "<g id=\"node11\" class=\"node\">\n",
       "<title>10</title>\n",
       "<polygon fill=\"lightyellow\" stroke=\"none\" points=\"156.5,-48 27.5,-48 27.5,-16 156.5,-16 156.5,-48\"/>\n",
       "<polygon fill=\"none\" stroke=\"black\" points=\"28,-16 28,-48 96,-48 96,-16 28,-16\"/>\n",
       "<text text-anchor=\"start\" x=\"33\" y=\"-35\" font-family=\"Linux libertine\" font-size=\"10.00\">output&#45;tensor</text>\n",
       "<text text-anchor=\"start\" x=\"45\" y=\"-24\" font-family=\"Linux libertine\" font-size=\"10.00\">depth:0</text>\n",
       "<polygon fill=\"none\" stroke=\"black\" points=\"96,-16 96,-48 157,-48 157,-16 96,-16\"/>\n",
       "<text text-anchor=\"start\" x=\"101\" y=\"-29.5\" font-family=\"Linux libertine\" font-size=\"10.00\">(167988, 1)</text>\n",
       "</g>\n",
       "<!-- 9&#45;&gt;10 -->\n",
       "<g id=\"edge10\" class=\"edge\">\n",
       "<title>9&#45;&gt;10</title>\n",
       "<path fill=\"none\" stroke=\"black\" d=\"M92,-83.84C92,-75.89 92,-66.66 92,-58.26\"/>\n",
       "<polygon fill=\"black\" stroke=\"black\" points=\"95.5,-58.24 92,-48.24 88.5,-58.24 95.5,-58.24\"/>\n",
       "</g>\n",
       "</g>\n",
       "</svg>\n"
      ],
      "text/plain": [
       "<graphviz.graphs.Digraph at 0x1cc04a2e680>"
      ]
     },
     "execution_count": 22,
     "metadata": {},
     "output_type": "execute_result"
    }
   ],
   "source": [
    "# Plot the model\n",
    "# https://stackoverflow.com/questions/52468956/how-do-i-visualize-a-net-in-pytorch\n",
    "model_graph = draw_graph(model=torch_lr_model, input_data=X_train, graph_name='torch_linear_model', \\\n",
    "                         expand_nested=True, save_graph=False,show_shapes=True, graph_dir='TB', \\\n",
    "                            roll=True, hide_inner_tensors=False, hide_module_functions=False)\n",
    "model_graph.visual_graph"
   ]
  },
  {
   "cell_type": "code",
   "execution_count": 23,
   "metadata": {},
   "outputs": [],
   "source": [
    "# Create a function to plot the regression line\n",
    "def plot_regression_line(model=torch_lr_model, epochs=0):\n",
    "    ''' Plots the regression line '''\n",
    "    x_line = torch.linspace(start=0., end=1., steps=len(X_train) )\n",
    "\n",
    "    # Set the model up for evaluation\n",
    "    model.eval()\n",
    "    with torch.no_grad():\n",
    "        y = model(x_line.reshape(-1, 1))\n",
    "    \n",
    "    # Setup the plot\n",
    "    plt.title(f'Model after {epochs} epochs')\n",
    "    plt.scatter(x=X_train, y=y_train, label='train data points')\n",
    "    plt.plot(x_line, y.clone().detach(), color='red', linestyle='--', label='regression line')\n",
    "    plt.legend(loc='best')\n",
    "    plt.show()"
   ]
  },
  {
   "cell_type": "code",
   "execution_count": 24,
   "metadata": {},
   "outputs": [
    {
     "data": {
      "image/png": "[encoded data removed]",
      "text/plain": [
       "<Figure size 640x480 with 1 Axes>"
      ]
     },
     "metadata": {},
     "output_type": "display_data"
    }
   ],
   "source": [
    "# Earlier, we wanted to know which line fits best.\n",
    "# Let's see what type of line we get without the model being trained\n",
    "\n",
    "# Plot the regression line\n",
    "plot_regression_line()"
   ]
  },
  {
   "cell_type": "code",
   "execution_count": 25,
   "metadata": {},
   "outputs": [],
   "source": [
    "# Define a function to evaluate the models\n",
    "def evaluate_model(model=torch_lr_model, data=X_train):\n",
    "   ''' Evaluate the model '''\n",
    "   model.eval()\n",
    "   with torch.no_grad():\n",
    "      return model(data)"
   ]
  },
  {
   "cell_type": "code",
   "execution_count": 26,
   "metadata": {},
   "outputs": [
    {
     "data": {
      "text/plain": [
       "tensor([[0.2837],\n",
       "        [0.2837],\n",
       "        [0.2837],\n",
       "        ...,\n",
       "        [0.2837],\n",
       "        [0.2837],\n",
       "        [0.2837]])"
      ]
     },
     "execution_count": 26,
     "metadata": {},
     "output_type": "execute_result"
    }
   ],
   "source": [
    "# Ohhh la la. What a terrible line?\n",
    "# Make a prediction on the x_train samples before training the model\n",
    "# We should not be expecting anything meaningful here.\n",
    "# Just wanted to show you could predicted on the untrained model\n",
    "# Evaluate the model\n",
    "# https://stackoverflow.com/questions/60018578/what-does-model-eval-do-in-pytorch\n",
    "\n",
    "# Make some predictions on the training data\n",
    "untrained_preds = evaluate_model()\n",
    "untrained_preds"
   ]
  },
  {
   "cell_type": "code",
   "execution_count": 27,
   "metadata": {},
   "outputs": [],
   "source": [
    "# Get the untrained model's r2 score\n",
    "from sklearn.metrics import r2_score"
   ]
  },
  {
   "cell_type": "code",
   "execution_count": 28,
   "metadata": {},
   "outputs": [
    {
     "data": {
      "text/plain": [
       "-0.0005821945972275255"
      ]
     },
     "execution_count": 28,
     "metadata": {},
     "output_type": "execute_result"
    }
   ],
   "source": [
    "# The r2 with a value of 1, means the model is perfect\n",
    "# r2 of 0 means the model is not doing better than average\n",
    "# r2 of less than 0 means the model is terrible\n",
    "# This score suggest this model is terrible. \n",
    "# Then again, we knew this from looking at the plot above\n",
    "r2_score(y_true=y_train, y_pred=untrained_preds)"
   ]
  },
  {
   "cell_type": "code",
   "execution_count": 29,
   "metadata": {},
   "outputs": [
    {
     "data": {
      "text/plain": [
       "(MSELoss(),\n",
       " Adam (\n",
       " Parameter Group 0\n",
       "     amsgrad: False\n",
       "     betas: (0.9, 0.999)\n",
       "     capturable: False\n",
       "     differentiable: False\n",
       "     eps: 1e-08\n",
       "     foreach: None\n",
       "     fused: None\n",
       "     lr: 1.0\n",
       "     maximize: False\n",
       "     weight_decay: 0\n",
       " ))"
      ]
     },
     "execution_count": 29,
     "metadata": {},
     "output_type": "execute_result"
    }
   ],
   "source": [
    "# Define the epochs variable\n",
    "EPOCHS = 50\n",
    "\n",
    "# Store the loss for both training and testing data\n",
    "training_loss = []\n",
    "validation_loss = []\n",
    "\n",
    "# Setup the MSE loss function\n",
    "lr_loss_fn = torch.nn.MSELoss(reduction='mean')\n",
    "\n",
    "# Setup the optimizer\n",
    "lr_optimizer = torch.optim.Adam(params=torch_lr_model.parameters(),   lr=1.)\n",
    "\n",
    "# Show the loss function and optimizer\n",
    "lr_loss_fn, lr_optimizer"
   ]
  },
  {
   "cell_type": "code",
   "execution_count": 30,
   "metadata": {},
   "outputs": [
    {
     "name": "stdout",
     "output_type": "stream",
     "text": [
      "Epoch: 0 \t Train Loss: 4653422.5 \t Validation Loss: 1473550.625\n",
      "Epoch: 10 \t Train Loss: 4647975.5 \t Validation Loss: 1471650.375\n",
      "Epoch: 20 \t Train Loss: 4587437.5 \t Validation Loss: 1454772.75\n",
      "Epoch: 30 \t Train Loss: 4286667.0 \t Validation Loss: 1373441.875\n",
      "Epoch: 40 \t Train Loss: 3500250.0 \t Validation Loss: 1177940.875\n"
     ]
    }
   ],
   "source": [
    "# With the above in place, train the model\n",
    "for epoch in range(EPOCHS):\n",
    "    # Zero out the gradients\n",
    "    lr_optimizer.zero_grad()\n",
    "\n",
    "    # Put the model in training mode\n",
    "    torch_lr_model.train()\n",
    "\n",
    "    # Make the predictions\n",
    "    y_preds = torch_lr_model(X_train)\n",
    "    \n",
    "    # Get the loss\n",
    "    train_loss = lr_loss_fn(y_preds, y_train)\n",
    "    training_loss.append(train_loss)\n",
    "\n",
    "    # Calculate the gradients\n",
    "    train_loss.backward()\n",
    "\n",
    "    # Upgrade the gradients\n",
    "    lr_optimizer.step()\n",
    "\n",
    "    # Evaluate the model at the same time\n",
    "    torch_lr_model.eval()\n",
    "    with torch.inference_mode():\n",
    "        val_preds = torch_lr_model(X_test)\n",
    "\n",
    "        # Calculate the loss on the validation data\n",
    "        val_loss = lr_loss_fn(val_preds, y_test)\n",
    "\n",
    "        # Add the test loss to the list\n",
    "        validation_loss.append(val_loss)\n",
    "\n",
    "    if epoch %10 == 0:\n",
    "        print(f'Epoch: {epoch} \\t Train Loss: {train_loss} \\t Validation Loss: {val_loss}')\n",
    "\n",
    "torch_lr_model.zero_grad()"
   ]
  },
  {
   "cell_type": "code",
   "execution_count": 31,
   "metadata": {},
   "outputs": [
    {
     "data": {
      "image/png": "[encoded data removed]",
      "text/plain": [
       "<Figure size 640x480 with 1 Axes>"
      ]
     },
     "metadata": {},
     "output_type": "display_data"
    }
   ],
   "source": [
    "# How did we do after 50 epochs\n",
    "# Plot the regression line\n",
    "plot_regression_line()"
   ]
  },
  {
   "cell_type": "code",
   "execution_count": 32,
   "metadata": {},
   "outputs": [],
   "source": [
    "# Above the line shows improvement. \n",
    "# That suggest we are heading in the right direction.\n",
    "# More epochs?\n",
    "\n",
    "# Get some predictions on the train data\n",
    "epochs_50_preds = evaluate_model()"
   ]
  },
  {
   "cell_type": "code",
   "execution_count": 33,
   "metadata": {},
   "outputs": [
    {
     "data": {
      "text/plain": [
       "0.5397006361585593"
      ]
     },
     "execution_count": 33,
     "metadata": {},
     "output_type": "execute_result"
    }
   ],
   "source": [
    "# Get the model r2 on the training data\n",
    "# Below shows good improvement\n",
    "r2_score(y_true=y_train, y_pred=epochs_50_preds)"
   ]
  },
  {
   "cell_type": "code",
   "execution_count": 34,
   "metadata": {},
   "outputs": [],
   "source": [
    "# Define a function to reset the model parameters after training\n",
    "# Basically we want to restart training from scratch, using the original initial parameters\n",
    "def reset_model_parameters(model=torch_lr_model):\n",
    "    ''' This function reset the model parameters \n",
    "    https://stackoverflow.com/questions/63627997/reset-parameters-of-a-neural-network-in-pytorch\n",
    "    https://discuss.pytorch.org/t/reset-the-parameters-of-a-model/29839/3\n",
    "    '''\n",
    "    for layer in model.children():\n",
    "        if hasattr(layer, 'reset_parameters'):\n",
    "            print(f'Resetting layer: {layer}')\n",
    "            layer.reset_parameters()\n",
    "        else:\n",
    "            print(f'Unable to reset: {layer}')"
   ]
  },
  {
   "cell_type": "code",
   "execution_count": 35,
   "metadata": {},
   "outputs": [
    {
     "name": "stdout",
     "output_type": "stream",
     "text": [
      "Resetting layer: Linear(in_features=1, out_features=4, bias=True)\n",
      "Unable to reset: ReLU()\n",
      "Resetting layer: Linear(in_features=4, out_features=4, bias=True)\n",
      "Unable to reset: ReLU()\n",
      "Resetting layer: Linear(in_features=4, out_features=1, bias=True)\n"
     ]
    }
   ],
   "source": [
    "# Set the manual seed\n",
    "torch.manual_seed(seed=10)\n",
    "\n",
    "# Call the function to reset the model parameters\n",
    "reset_model_parameters()"
   ]
  },
  {
   "cell_type": "code",
   "execution_count": 36,
   "metadata": {},
   "outputs": [
    {
     "data": {
      "text/plain": [
       "OrderedDict([('0.weight',\n",
       "              tensor([[-0.0838],\n",
       "                      [-0.0343],\n",
       "                      [-0.3750],\n",
       "                      [ 0.2300]])),\n",
       "             ('0.bias', tensor([-0.5721, -0.1763,  0.3876,  0.9386])),\n",
       "             ('2.weight',\n",
       "              tensor([[ 0.1178, -0.1696,  0.0479, -0.0560],\n",
       "                      [ 0.2041,  0.0573,  0.1959,  0.4849],\n",
       "                      [-0.2076, -0.0177,  0.1150, -0.0033],\n",
       "                      [-0.0479, -0.4425, -0.4313, -0.4499]])),\n",
       "             ('2.bias', tensor([-0.4892, -0.4657, -0.3788, -0.4510])),\n",
       "             ('4.weight', tensor([[-0.4690,  0.2192,  0.3067,  0.3379]])),\n",
       "             ('4.bias', tensor([0.2694]))])"
      ]
     },
     "execution_count": 36,
     "metadata": {},
     "output_type": "execute_result"
    }
   ],
   "source": [
    "# The weights have been reset to the original\n",
    "# We can compare this with above\n",
    "torch_lr_model.state_dict()"
   ]
  },
  {
   "cell_type": "code",
   "execution_count": 37,
   "metadata": {},
   "outputs": [],
   "source": [
    "# Leverage TQDM progress bar\n",
    "from tqdm import tqdm"
   ]
  },
  {
   "cell_type": "code",
   "execution_count": 38,
   "metadata": {},
   "outputs": [
    {
     "name": "stderr",
     "output_type": "stream",
     "text": [
      "  0%|          | 0/300 [00:00<?, ?it/s]"
     ]
    },
    {
     "name": "stdout",
     "output_type": "stream",
     "text": [
      "Epoch: 0 \t Train Loss: 4653422.5 \t Validation Loss: 1474011.375\n"
     ]
    },
    {
     "name": "stderr",
     "output_type": "stream",
     "text": [
      " 19%|█▉        | 57/300 [00:01<00:07, 31.40it/s]"
     ]
    },
    {
     "name": "stdout",
     "output_type": "stream",
     "text": [
      "Epoch: 50 \t Train Loss: 8414703.0 \t Validation Loss: 376461.9375\n"
     ]
    },
    {
     "name": "stderr",
     "output_type": "stream",
     "text": [
      " 35%|███▌      | 105/300 [00:03<00:06, 31.93it/s]"
     ]
    },
    {
     "name": "stdout",
     "output_type": "stream",
     "text": [
      "Epoch: 100 \t Train Loss: 2078084.5 \t Validation Loss: 728123.9375\n"
     ]
    },
    {
     "name": "stderr",
     "output_type": "stream",
     "text": [
      " 52%|█████▏    | 157/300 [00:04<00:04, 31.88it/s]"
     ]
    },
    {
     "name": "stdout",
     "output_type": "stream",
     "text": [
      "Epoch: 150 \t Train Loss: 1836941.0 \t Validation Loss: 589078.5\n"
     ]
    },
    {
     "name": "stderr",
     "output_type": "stream",
     "text": [
      " 68%|██████▊   | 205/300 [00:06<00:02, 32.05it/s]"
     ]
    },
    {
     "name": "stdout",
     "output_type": "stream",
     "text": [
      "Epoch: 200 \t Train Loss: 1652488.5 \t Validation Loss: 502892.21875\n"
     ]
    },
    {
     "name": "stderr",
     "output_type": "stream",
     "text": [
      " 84%|████████▍ | 253/300 [00:07<00:01, 30.80it/s]"
     ]
    },
    {
     "name": "stdout",
     "output_type": "stream",
     "text": [
      "Epoch: 250 \t Train Loss: 1480668.125 \t Validation Loss: 416732.34375\n"
     ]
    },
    {
     "name": "stderr",
     "output_type": "stream",
     "text": [
      "100%|██████████| 300/300 [00:09<00:00, 31.58it/s]\n"
     ]
    }
   ],
   "source": [
    "# We saw progress above in our regression line\n",
    "# Let's train again, this time for 300 epochs \n",
    "EPOCHS = 300\n",
    "\n",
    "# With the above in place, train the model\n",
    "for epoch in tqdm(range(EPOCHS)):\n",
    "    # Zero out the gradients\n",
    "    lr_optimizer.zero_grad()\n",
    "\n",
    "    # Put the model in training mode\n",
    "    torch_lr_model.train()\n",
    "\n",
    "    # Make the predictions\n",
    "    y_preds = torch_lr_model(X_train)\n",
    "    \n",
    "    # Get the loss\n",
    "    train_loss = lr_loss_fn(y_preds, y_train)\n",
    "    training_loss.append(train_loss)\n",
    "\n",
    "    # Calculate the gradients\n",
    "    train_loss.backward()\n",
    "\n",
    "    # Upgrade the gradients\n",
    "    lr_optimizer.step()\n",
    "\n",
    "    # Evaluate the model at the same time\n",
    "    torch_lr_model.eval()\n",
    "    with torch.inference_mode():\n",
    "        val_preds = torch_lr_model(X_test)\n",
    "\n",
    "        # Calculate the loss on the validation data\n",
    "        val_loss = lr_loss_fn(val_preds, y_test)\n",
    "\n",
    "        # Add the test loss to the list\n",
    "        validation_loss.append(val_loss)\n",
    "\n",
    "    if epoch %50 == 0:\n",
    "        print(f'Epoch: {epoch} \\t Train Loss: {train_loss} \\t Validation Loss: {val_loss}')\n",
    "\n",
    "torch_lr_model.zero_grad()"
   ]
  },
  {
   "cell_type": "code",
   "execution_count": 39,
   "metadata": {},
   "outputs": [
    {
     "data": {
      "image/png": "[encoded data removed]",
      "text/plain": [
       "<Figure size 640x480 with 1 Axes>"
      ]
     },
     "metadata": {},
     "output_type": "display_data"
    }
   ],
   "source": [
    "# How did we do after 200 epochs\n",
    "plot_regression_line(epochs=EPOCHS)"
   ]
  },
  {
   "cell_type": "code",
   "execution_count": 40,
   "metadata": {},
   "outputs": [],
   "source": [
    "# 300 epochs looks like we are in a reasonable position to generalize\n",
    "# Get some predictions\n",
    "epochs_300_preds = evaluate_model()"
   ]
  },
  {
   "cell_type": "code",
   "execution_count": 41,
   "metadata": {},
   "outputs": [
    {
     "data": {
      "text/plain": [
       "0.6806577884853824"
      ]
     },
     "execution_count": 41,
     "metadata": {},
     "output_type": "execute_result"
    }
   ],
   "source": [
    "# Get the model r2\n",
    "# Below shows not much improvement improvement\n",
    "r2_score(y_true=y_train, y_pred=epochs_300_preds)"
   ]
  },
  {
   "cell_type": "code",
   "execution_count": 42,
   "metadata": {},
   "outputs": [
    {
     "data": {
      "text/plain": [
       "0.7256186802687081"
      ]
     },
     "execution_count": 42,
     "metadata": {},
     "output_type": "execute_result"
    }
   ],
   "source": [
    "# How are we doing on the test data\n",
    "# Get some predictions\n",
    "epochs_300_test_preds = evaluate_model(data=X_test)\n",
    "\n",
    "# Get the model r2 on the test data\n",
    "r2_score(y_true=y_test, y_pred=epochs_300_test_preds)\n"
   ]
  },
  {
   "cell_type": "code",
   "execution_count": 43,
   "metadata": {},
   "outputs": [
    {
     "data": {
      "text/plain": [
       "<matplotlib.legend.Legend at 0x1cc04a704f0>"
      ]
     },
     "execution_count": 43,
     "metadata": {},
     "output_type": "execute_result"
    },
    {
     "data": {
      "image/png": "[encoded data removed]",
      "text/plain": [
       "<Figure size 640x480 with 1 Axes>"
      ]
     },
     "metadata": {},
     "output_type": "display_data"
    }
   ],
   "source": [
    "# Above does not look too bad\n",
    "# Additionally, the model seems to be doing better on the test data than the training data. Interesting\n",
    "# Plotting the training loss values\n",
    "plt.title(f'Training vs Validation Loss after {EPOCHS} epochs ')\n",
    "\n",
    "# Trying to plot on the \"training_loss\" by itself will not work\n",
    "# Matplotlib will more than likely throw an error\n",
    "# Hence we needed to do \"torch.tensor(training_loss).detach().numpy()\"\n",
    "plt.plot(torch.tensor(training_loss).detach().numpy(), lw=3, label='train_loss')\n",
    "plt.plot(torch.tensor(validation_loss).detach().numpy(), lw=3, label='val_loss')\n",
    "plt.xlabel('Epochs')\n",
    "plt.ylabel('MSE Loss')\n",
    "plt.legend()"
   ]
  },
  {
   "cell_type": "code",
   "execution_count": 44,
   "metadata": {},
   "outputs": [
    {
     "data": {
      "image/png": "[encoded data removed]",
      "text/plain": [
       "<Figure size 640x480 with 1 Axes>"
      ]
     },
     "metadata": {},
     "output_type": "display_data"
    }
   ],
   "source": [
    "# With the trained model. Plot the training data\n",
    "# Plotting the train predictions vs actual values, shows that the model does not seem to be doing too bad\n",
    "plt.plot(y_train, linestyle='', marker='o', c='b', markersize=5, label='Training')\n",
    "\n",
    "# Plot the predicted data\n",
    "plt.plot(epochs_300_preds, linestyle='', marker='*', c='r', label='Predictions')\n",
    "plt.legend()\n",
    "plt.show()"
   ]
  },
  {
   "cell_type": "code",
   "execution_count": 45,
   "metadata": {},
   "outputs": [
    {
     "data": {
      "text/plain": [
       "OrderedDict([('0.weight',\n",
       "              tensor([[-8.3831e-02],\n",
       "                      [-3.4287e-02],\n",
       "                      [ 8.6242e+01],\n",
       "                      [ 1.2509e+02]])),\n",
       "             ('0.bias', tensor([-0.5721, -0.1763, -7.0731, -0.2470])),\n",
       "             ('2.weight',\n",
       "              tensor([[ 1.1780e-01, -1.6963e-01,  4.7942e-02, -5.6036e-02],\n",
       "                      [ 2.0409e-01,  5.7251e-02, -7.1458e+00,  3.0455e+01],\n",
       "                      [-2.0763e-01, -1.7671e-02,  2.7729e+01,  8.4044e+01],\n",
       "                      [-4.7888e-02, -4.4248e-01, -4.3130e-01, -4.4993e-01]])),\n",
       "             ('2.bias', tensor([ -0.4892, -11.6295, -17.3018,  -0.4510])),\n",
       "             ('4.weight', tensor([[-0.4690, 17.2540, 42.1383,  0.3379]])),\n",
       "             ('4.bias', tensor([19.8392]))])"
      ]
     },
     "execution_count": 45,
     "metadata": {},
     "output_type": "execute_result"
    }
   ],
   "source": [
    "# Quite a few of the predictions seems to fall inline with the original values\n",
    "# However, see some predicted values that are definitely different from the original values\n",
    "# Looking at the learned parameters - weights and biases\n",
    "# Did you notice this and # \"list(torch_lr_model.eval().parameters())\" returns the same output?\n",
    "torch_lr_model.state_dict()"
   ]
  },
  {
   "cell_type": "code",
   "execution_count": 46,
   "metadata": {},
   "outputs": [
    {
     "data": {
      "text/plain": [
       "array([[1500.]], dtype=float32)"
      ]
     },
     "execution_count": 46,
     "metadata": {},
     "output_type": "execute_result"
    }
   ],
   "source": [
    "# Make a prediction on a single item. Think new sample.\n",
    "# Setup the sample\n",
    "new_sample = np.array([1500], dtype=np.float32, ndmin=2)\n",
    "new_sample"
   ]
  },
  {
   "cell_type": "code",
   "execution_count": 47,
   "metadata": {},
   "outputs": [
    {
     "data": {
      "text/plain": [
       "array([[0.00315105]], dtype=float32)"
      ]
     },
     "execution_count": 47,
     "metadata": {},
     "output_type": "execute_result"
    }
   ],
   "source": [
    "# Remember, all data on which prediction needs to be made,\n",
    "# has to go through the same preprocessing steps before making prediction\n",
    "# Scaling the data\n",
    "new_sample_scaled = min_max_scaler.transform(X=new_sample)\n",
    "new_sample_scaled\n"
   ]
  },
  {
   "cell_type": "code",
   "execution_count": 48,
   "metadata": {},
   "outputs": [
    {
     "data": {
      "text/plain": [
       "tensor([[0.0032]])"
      ]
     },
     "execution_count": 48,
     "metadata": {},
     "output_type": "execute_result"
    }
   ],
   "source": [
    "# Convert the data to a torch tensor\n",
    "new_sample = torch.tensor(new_sample_scaled)\n",
    "new_sample"
   ]
  },
  {
   "cell_type": "code",
   "execution_count": 49,
   "metadata": {},
   "outputs": [
    {
     "data": {
      "text/plain": [
       "tensor([[19.8392]])"
      ]
     },
     "execution_count": 49,
     "metadata": {},
     "output_type": "execute_result"
    }
   ],
   "source": [
    "# Make the prediction on the sample data\n",
    "evaluate_model(data=new_sample)"
   ]
  },
  {
   "cell_type": "code",
   "execution_count": 50,
   "metadata": {},
   "outputs": [
    {
     "data": {
      "text/plain": [
       "tensor([[19.8392],\n",
       "        [19.8392],\n",
       "        [19.8392],\n",
       "        ...,\n",
       "        [19.8392],\n",
       "        [19.8392],\n",
       "        [19.8392]])"
      ]
     },
     "execution_count": 50,
     "metadata": {},
     "output_type": "execute_result"
    }
   ],
   "source": [
    "# We did a prediction on a sample data point\n",
    "# How are we doing with the test data\n",
    "# Revisiting this as we looked at it during training already\n",
    "# Making predictions on the test data\n",
    "test_preds = evaluate_model(data=X_test)\n",
    "test_preds"
   ]
  },
  {
   "cell_type": "code",
   "execution_count": 51,
   "metadata": {},
   "outputs": [
    {
     "data": {
      "image/png": "[encoded data removed]",
      "text/plain": [
       "<Figure size 640x480 with 1 Axes>"
      ]
     },
     "metadata": {},
     "output_type": "display_data"
    }
   ],
   "source": [
    "# With the trained model. Plot the test data\n",
    "# Below seems to suggest the model is not doing too bad, when comparing the true y with the predicted y\n",
    "plt.plot(y_test, linestyle='', marker='o', c='b', markersize=10, label='True Test Values')\n",
    "\n",
    "# Plot the predicted data\n",
    "plt.plot(test_preds, linestyle='', marker='*', c='r', label='Test Predictions')\n",
    "plt.legend()\n",
    "plt.show()"
   ]
  },
  {
   "cell_type": "code",
   "execution_count": 52,
   "metadata": {},
   "outputs": [],
   "source": [
    "# Looks like we can save this model at this time\n",
    "# importing the the os library\n",
    "import os"
   ]
  },
  {
   "cell_type": "code",
   "execution_count": 53,
   "metadata": {},
   "outputs": [],
   "source": [
    "# Create the location to save the model\n",
    "PATH = './SAVED_MODELS/LR_PYTORCH/'\n",
    "MODELS_PATH = os.makedirs(name=PATH, exist_ok=True)"
   ]
  },
  {
   "cell_type": "code",
   "execution_count": 54,
   "metadata": {},
   "outputs": [],
   "source": [
    "# Save the model\n",
    "torch.save(obj=torch_lr_model, f=F'{PATH}/lr_torch_model_saved_dict.pth')"
   ]
  },
  {
   "cell_type": "code",
   "execution_count": 55,
   "metadata": {},
   "outputs": [
    {
     "data": {
      "text/plain": [
       "Sequential(\n",
       "  (0): Linear(in_features=1, out_features=4, bias=True)\n",
       "  (1): ReLU()\n",
       "  (2): Linear(in_features=4, out_features=4, bias=True)\n",
       "  (3): ReLU()\n",
       "  (4): Linear(in_features=4, out_features=1, bias=True)\n",
       ")"
      ]
     },
     "execution_count": 55,
     "metadata": {},
     "output_type": "execute_result"
    }
   ],
   "source": [
    "# Load the saved model\n",
    "loaded_lr_torch_model = torch.load(f=f'{PATH}lr_torch_model_saved_dict.pth')\n",
    "loaded_lr_torch_model\n"
   ]
  },
  {
   "cell_type": "code",
   "execution_count": 56,
   "metadata": {},
   "outputs": [
    {
     "data": {
      "text/plain": [
       "tensor([[19.8392]], grad_fn=<AddmmBackward0>)"
      ]
     },
     "execution_count": 56,
     "metadata": {},
     "output_type": "execute_result"
    }
   ],
   "source": [
    "# Make predictions on the loaded model\n",
    "loaded_lr_torch_model.eval()\n",
    "loaded_lr_torch_model(torch.tensor(new_sample_scaled, dtype=torch.float))"
   ]
  },
  {
   "cell_type": "code",
   "execution_count": null,
   "metadata": {},
   "outputs": [],
   "source": [
    "# Time to move on"
   ]
  }
 ],
 "metadata": {
  "kernelspec": {
   "display_name": "main-env",
   "language": "python",
   "name": "python3"
  },
  "language_info": {
   "codemirror_mode": {
    "name": "ipython",
    "version": 3
   },
   "file_extension": ".py",
   "mimetype": "text/x-python",
   "name": "python",
   "nbconvert_exporter": "python",
   "pygments_lexer": "ipython3",
   "version": "3.10.11"
  },
  "orig_nbformat": 4,
  "vscode": {
   "interpreter": {
    "hash": "dcb100998b7ef434a33dbfac35f576e40d01f04c34d9ff6f6aad819b8a88c169"
   }
  }
 },
 "nbformat": 4,
 "nbformat_minor": 2
}
