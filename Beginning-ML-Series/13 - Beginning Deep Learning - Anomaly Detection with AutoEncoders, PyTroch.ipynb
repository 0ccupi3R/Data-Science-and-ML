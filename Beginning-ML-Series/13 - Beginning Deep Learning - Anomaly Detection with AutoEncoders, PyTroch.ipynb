{
 "cells": [
  {
   "attachments": {},
   "cell_type": "markdown",
   "metadata": {},
   "source": [
    "Author: Nik Alleyne <br>\n",
    "Author Blog: https://www.securitynik.com <br>\n",
    "Author GitHub:github.com/securitynik <br>\n",
    "Author Books: [  <br>\n",
    "                \"https://www.amazon.ca/Learning-Practicing-Leveraging-Practical-Detection/dp/1731254458/\",  <br>\n",
    "                \"https://www.amazon.ca/Learning-Practicing-Mastering-Network-Forensics/dp/1775383024/\" <br>\n",
    "            ] <br>"
   ]
  },
  {
   "attachments": {},
   "cell_type": "markdown",
   "metadata": {},
   "source": [
    "## 13. Beginning Deep Learning - Anomaly Detection with AutoEncoders - PyTroch"
   ]
  },
  {
   "attachments": {},
   "cell_type": "markdown",
   "metadata": {},
   "source": [
    "This post is part of my beginning machine learning series.  <br>\n",
    "The series includes the following: <br>\n",
    "\n",
    "01 - Beginning Numpy <br>\n",
    "02 - Beginning Tensorflow  <br>\n",
    "03 - Beginning PyTorch <br>\n",
    "04 - Beginning Pandas <br>\n",
    "05 - Beginning Matplotlib <br>\n",
    "06 - Beginning Data Scaling <br>\n",
    "07 - Beginning Principal Component Analysis (PCA) <br>\n",
    "08 - Beginning Machine Learning Anomaly Detection - Isolation Forest and Local Outlier Factor <br>\n",
    "09 - Beginning Unsupervised Machine Learning - Clustering - K-means and DBSCAN <br>\n",
    "10 - Beginning Supervise Learning - Machine Learning - Logistic Regression, Decision Trees and Metrics <br>\n",
    "11 - Beginning Linear Regression - Machine Learning <br>\n",
    "12 - Beginning Deep Learning - Anomaly Detection with AutoEncoders, Tensorflow <br>\n",
    "13 - Beginning Deep Learning - Anomaly Detection with AutoEncoders, PyTroch <br>\n",
    "14 - Beginning Deep Learning, - Linear Regression, Tensorflow <br>\n",
    "15 - Beginning Deep Learning, - Linear Regression, PyTorch <br>\n",
    "16 - Beginning Deep Learning, - Classification, Tensorflow <br>\n",
    "17 - Beginning Deep Learning, - Classification, Pytorch <br>\n",
    "18 - Beginning Deep Learning, - Classification - regression - MIMO - Functional API Tensorflow <br> \n",
    "19 - Beginning Deep Learning, - Convolution Networks - Tensorflow <br>\n",
    "20 - Beginning Deep Learning, - Convolution Networks - PyTorch <br>\n",
    "21 - Beginning Regularization - Early Stopping, Dropout, L2 (Ridge), L1 (Lasso) <br>\n",
    "23 - Beginning Model TFServing <br>\n",
    "\n",
    "But conn.log is not the only file within Zeek. Let's build some models for DNS and HTTP logs. <br>\n",
    "I choose unsupervised, because there are no labels coming with these data. <br>\n",
    "\n",
    "24 - Continuing Anomaly Learning - Zeek DNS Log - Machine Learning <br>\n",
    "25 - Continuing Unsupervised Learning - Zeek HTTP Log - Machine Learning <br>\n",
    "\n",
    "This was a specific ask by someone in one of my class. <br>\n",
    "26 - Beginning - Reading Executables and Building a Neural Network to make predictions on suspicious vs suspicious  <br><br>\n",
    "\n",
    "With 26 notebooks in this series, it is quite possible there are things I could have or should have done differently.  <br>\n",
    "If you find any thing, you think fits those criteria, drop me a line. <br>"
   ]
  },
  {
   "cell_type": "code",
   "execution_count": 1,
   "metadata": {},
   "outputs": [],
   "source": [
    "# import some libraries\n",
    "import pandas as pd\n",
    "import numpy as np\n",
    "import matplotlib.pyplot as plt"
   ]
  },
  {
   "cell_type": "code",
   "execution_count": 2,
   "metadata": {},
   "outputs": [
    {
     "data": {
      "text/html": [
       "<div>\n",
       "<style scoped>\n",
       "    .dataframe tbody tr th:only-of-type {\n",
       "        vertical-align: middle;\n",
       "    }\n",
       "\n",
       "    .dataframe tbody tr th {\n",
       "        vertical-align: top;\n",
       "    }\n",
       "\n",
       "    .dataframe thead th {\n",
       "        text-align: right;\n",
       "    }\n",
       "</style>\n",
       "<table border=\"1\" class=\"dataframe\">\n",
       "  <thead>\n",
       "    <tr style=\"text-align: right;\">\n",
       "      <th></th>\n",
       "      <th>id.resp_p</th>\n",
       "      <th>duration</th>\n",
       "      <th>orig_bytes</th>\n",
       "      <th>resp_bytes</th>\n",
       "      <th>orig_pkts</th>\n",
       "      <th>orig_ip_bytes</th>\n",
       "      <th>resp_pkts</th>\n",
       "      <th>resp_ip_bytes</th>\n",
       "      <th>label</th>\n",
       "    </tr>\n",
       "  </thead>\n",
       "  <tbody>\n",
       "    <tr>\n",
       "      <th>1</th>\n",
       "      <td>48798</td>\n",
       "      <td>0.000000</td>\n",
       "      <td>0</td>\n",
       "      <td>0</td>\n",
       "      <td>0</td>\n",
       "      <td>0</td>\n",
       "      <td>0</td>\n",
       "      <td>0</td>\n",
       "      <td>0</td>\n",
       "    </tr>\n",
       "    <tr>\n",
       "      <th>2</th>\n",
       "      <td>48804</td>\n",
       "      <td>0.000000</td>\n",
       "      <td>0</td>\n",
       "      <td>0</td>\n",
       "      <td>0</td>\n",
       "      <td>0</td>\n",
       "      <td>0</td>\n",
       "      <td>0</td>\n",
       "      <td>0</td>\n",
       "    </tr>\n",
       "    <tr>\n",
       "      <th>4</th>\n",
       "      <td>27761</td>\n",
       "      <td>0.000000</td>\n",
       "      <td>0</td>\n",
       "      <td>0</td>\n",
       "      <td>0</td>\n",
       "      <td>0</td>\n",
       "      <td>0</td>\n",
       "      <td>0</td>\n",
       "      <td>0</td>\n",
       "    </tr>\n",
       "    <tr>\n",
       "      <th>5</th>\n",
       "      <td>8888</td>\n",
       "      <td>0.053276</td>\n",
       "      <td>208</td>\n",
       "      <td>976</td>\n",
       "      <td>6</td>\n",
       "      <td>528</td>\n",
       "      <td>6</td>\n",
       "      <td>1296</td>\n",
       "      <td>0</td>\n",
       "    </tr>\n",
       "    <tr>\n",
       "      <th>6</th>\n",
       "      <td>8888</td>\n",
       "      <td>0.383646</td>\n",
       "      <td>227</td>\n",
       "      <td>692369</td>\n",
       "      <td>202</td>\n",
       "      <td>10739</td>\n",
       "      <td>117</td>\n",
       "      <td>240893</td>\n",
       "      <td>0</td>\n",
       "    </tr>\n",
       "    <tr>\n",
       "      <th>...</th>\n",
       "      <td>...</td>\n",
       "      <td>...</td>\n",
       "      <td>...</td>\n",
       "      <td>...</td>\n",
       "      <td>...</td>\n",
       "      <td>...</td>\n",
       "      <td>...</td>\n",
       "      <td>...</td>\n",
       "      <td>...</td>\n",
       "    </tr>\n",
       "    <tr>\n",
       "      <th>4430183</th>\n",
       "      <td>9200</td>\n",
       "      <td>0.000051</td>\n",
       "      <td>0</td>\n",
       "      <td>0</td>\n",
       "      <td>1</td>\n",
       "      <td>52</td>\n",
       "      <td>1</td>\n",
       "      <td>40</td>\n",
       "      <td>0</td>\n",
       "    </tr>\n",
       "    <tr>\n",
       "      <th>4430184</th>\n",
       "      <td>9200</td>\n",
       "      <td>0.000023</td>\n",
       "      <td>0</td>\n",
       "      <td>0</td>\n",
       "      <td>0</td>\n",
       "      <td>0</td>\n",
       "      <td>1</td>\n",
       "      <td>40</td>\n",
       "      <td>0</td>\n",
       "    </tr>\n",
       "    <tr>\n",
       "      <th>4430185</th>\n",
       "      <td>9200</td>\n",
       "      <td>0.000005</td>\n",
       "      <td>0</td>\n",
       "      <td>0</td>\n",
       "      <td>0</td>\n",
       "      <td>0</td>\n",
       "      <td>1</td>\n",
       "      <td>40</td>\n",
       "      <td>0</td>\n",
       "    </tr>\n",
       "    <tr>\n",
       "      <th>4430186</th>\n",
       "      <td>9200</td>\n",
       "      <td>0.000005</td>\n",
       "      <td>0</td>\n",
       "      <td>0</td>\n",
       "      <td>0</td>\n",
       "      <td>0</td>\n",
       "      <td>1</td>\n",
       "      <td>40</td>\n",
       "      <td>0</td>\n",
       "    </tr>\n",
       "    <tr>\n",
       "      <th>4430187</th>\n",
       "      <td>9200</td>\n",
       "      <td>0.000005</td>\n",
       "      <td>0</td>\n",
       "      <td>0</td>\n",
       "      <td>0</td>\n",
       "      <td>0</td>\n",
       "      <td>1</td>\n",
       "      <td>40</td>\n",
       "      <td>0</td>\n",
       "    </tr>\n",
       "  </tbody>\n",
       "</table>\n",
       "<p>4236125 rows × 9 columns</p>\n",
       "</div>"
      ],
      "text/plain": [
       "         id.resp_p  duration  orig_bytes  resp_bytes  orig_pkts   \n",
       "1            48798  0.000000           0           0          0  \\\n",
       "2            48804  0.000000           0           0          0   \n",
       "4            27761  0.000000           0           0          0   \n",
       "5             8888  0.053276         208         976          6   \n",
       "6             8888  0.383646         227      692369        202   \n",
       "...            ...       ...         ...         ...        ...   \n",
       "4430183       9200  0.000051           0           0          1   \n",
       "4430184       9200  0.000023           0           0          0   \n",
       "4430185       9200  0.000005           0           0          0   \n",
       "4430186       9200  0.000005           0           0          0   \n",
       "4430187       9200  0.000005           0           0          0   \n",
       "\n",
       "         orig_ip_bytes  resp_pkts  resp_ip_bytes  label  \n",
       "1                    0          0              0      0  \n",
       "2                    0          0              0      0  \n",
       "4                    0          0              0      0  \n",
       "5                  528          6           1296      0  \n",
       "6                10739        117         240893      0  \n",
       "...                ...        ...            ...    ...  \n",
       "4430183             52          1             40      0  \n",
       "4430184              0          1             40      0  \n",
       "4430185              0          1             40      0  \n",
       "4430186              0          1             40      0  \n",
       "4430187              0          1             40      0  \n",
       "\n",
       "[4236125 rows x 9 columns]"
      ]
     },
     "execution_count": 2,
     "metadata": {},
     "output_type": "execute_result"
    }
   ],
   "source": [
    "# In the notebooks on Pandas, Matplotlib and Scaling\n",
    "# we loaded our dataset such as\n",
    "df_conn = pd.read_csv(r'df_conn_with_labels.csv', index_col=0)\n",
    "df_conn"
   ]
  },
  {
   "attachments": {},
   "cell_type": "markdown",
   "metadata": {},
   "source": [
    "This file represents Zeek (formerly Bro) connection log - conn.log`. <br>\n",
    "Zeek is a framework used for Network Security Monitoring.  <br>\n",
    "This entire series is based on using Zeek's data.  <br>\n",
    "The majority of the notebooks use the conn.log <br>\n",
    "You can learn more about Zeek here:\n",
    "   \n",
    "    https://zeek.org/\n",
    "\n",
    "Alternatively, come hang out with us in the:\n",
    "SANS SEC595: Applied Data Science and Machine Learning for Cybersecurity Professionals\n",
    "\n",
    "        https://www.sans.org/cyber-security-courses/applied-data-science-machine-learning/ OR\n",
    "\n",
    "SEC503 SEC503: Network Monitoring and Threat Detection In-Depth\n",
    "\n",
    "        https://www.sans.org/cyber-security-courses/network-monitoring-threat-detection/\n",
    "\n",
    "\n",
    "Here are also some blog posts on using Zeek for security monitoring\n",
    "Installing Zeek: \n",
    "\n",
    "        https://www.securitynik.com/2020/06/installing-zeek-314-on-ubuntu-2004.html\n",
    "\n",
    "Detecting PowerShell Empire Usage: \n",
    "\n",
    "        https://www.securitynik.com/2022/02/powershell-empire-detection-with-zeek.html\n",
    "\n",
    "Detecting Log4J Vulnerability Exploitation: \n",
    "\n",
    "        https://www.securitynik.com/2021/12/continuing-log4shell-zeek-detection.html"
   ]
  },
  {
   "cell_type": "code",
   "execution_count": 3,
   "metadata": {},
   "outputs": [
    {
     "data": {
      "text/html": [
       "<div>\n",
       "<style scoped>\n",
       "    .dataframe tbody tr th:only-of-type {\n",
       "        vertical-align: middle;\n",
       "    }\n",
       "\n",
       "    .dataframe tbody tr th {\n",
       "        vertical-align: top;\n",
       "    }\n",
       "\n",
       "    .dataframe thead th {\n",
       "        text-align: right;\n",
       "    }\n",
       "</style>\n",
       "<table border=\"1\" class=\"dataframe\">\n",
       "  <thead>\n",
       "    <tr style=\"text-align: right;\">\n",
       "      <th></th>\n",
       "      <th>duration</th>\n",
       "      <th>orig_bytes</th>\n",
       "      <th>resp_bytes</th>\n",
       "      <th>orig_pkts</th>\n",
       "      <th>orig_ip_bytes</th>\n",
       "      <th>resp_pkts</th>\n",
       "      <th>resp_ip_bytes</th>\n",
       "      <th>label</th>\n",
       "    </tr>\n",
       "  </thead>\n",
       "  <tbody>\n",
       "    <tr>\n",
       "      <th>1</th>\n",
       "      <td>0.000000</td>\n",
       "      <td>0</td>\n",
       "      <td>0</td>\n",
       "      <td>0</td>\n",
       "      <td>0</td>\n",
       "      <td>0</td>\n",
       "      <td>0</td>\n",
       "      <td>0</td>\n",
       "    </tr>\n",
       "    <tr>\n",
       "      <th>2</th>\n",
       "      <td>0.000000</td>\n",
       "      <td>0</td>\n",
       "      <td>0</td>\n",
       "      <td>0</td>\n",
       "      <td>0</td>\n",
       "      <td>0</td>\n",
       "      <td>0</td>\n",
       "      <td>0</td>\n",
       "    </tr>\n",
       "    <tr>\n",
       "      <th>4</th>\n",
       "      <td>0.000000</td>\n",
       "      <td>0</td>\n",
       "      <td>0</td>\n",
       "      <td>0</td>\n",
       "      <td>0</td>\n",
       "      <td>0</td>\n",
       "      <td>0</td>\n",
       "      <td>0</td>\n",
       "    </tr>\n",
       "    <tr>\n",
       "      <th>5</th>\n",
       "      <td>0.053276</td>\n",
       "      <td>208</td>\n",
       "      <td>976</td>\n",
       "      <td>6</td>\n",
       "      <td>528</td>\n",
       "      <td>6</td>\n",
       "      <td>1296</td>\n",
       "      <td>0</td>\n",
       "    </tr>\n",
       "    <tr>\n",
       "      <th>6</th>\n",
       "      <td>0.383646</td>\n",
       "      <td>227</td>\n",
       "      <td>692369</td>\n",
       "      <td>202</td>\n",
       "      <td>10739</td>\n",
       "      <td>117</td>\n",
       "      <td>240893</td>\n",
       "      <td>0</td>\n",
       "    </tr>\n",
       "    <tr>\n",
       "      <th>...</th>\n",
       "      <td>...</td>\n",
       "      <td>...</td>\n",
       "      <td>...</td>\n",
       "      <td>...</td>\n",
       "      <td>...</td>\n",
       "      <td>...</td>\n",
       "      <td>...</td>\n",
       "      <td>...</td>\n",
       "    </tr>\n",
       "    <tr>\n",
       "      <th>4430183</th>\n",
       "      <td>0.000051</td>\n",
       "      <td>0</td>\n",
       "      <td>0</td>\n",
       "      <td>1</td>\n",
       "      <td>52</td>\n",
       "      <td>1</td>\n",
       "      <td>40</td>\n",
       "      <td>0</td>\n",
       "    </tr>\n",
       "    <tr>\n",
       "      <th>4430184</th>\n",
       "      <td>0.000023</td>\n",
       "      <td>0</td>\n",
       "      <td>0</td>\n",
       "      <td>0</td>\n",
       "      <td>0</td>\n",
       "      <td>1</td>\n",
       "      <td>40</td>\n",
       "      <td>0</td>\n",
       "    </tr>\n",
       "    <tr>\n",
       "      <th>4430185</th>\n",
       "      <td>0.000005</td>\n",
       "      <td>0</td>\n",
       "      <td>0</td>\n",
       "      <td>0</td>\n",
       "      <td>0</td>\n",
       "      <td>1</td>\n",
       "      <td>40</td>\n",
       "      <td>0</td>\n",
       "    </tr>\n",
       "    <tr>\n",
       "      <th>4430186</th>\n",
       "      <td>0.000005</td>\n",
       "      <td>0</td>\n",
       "      <td>0</td>\n",
       "      <td>0</td>\n",
       "      <td>0</td>\n",
       "      <td>1</td>\n",
       "      <td>40</td>\n",
       "      <td>0</td>\n",
       "    </tr>\n",
       "    <tr>\n",
       "      <th>4430187</th>\n",
       "      <td>0.000005</td>\n",
       "      <td>0</td>\n",
       "      <td>0</td>\n",
       "      <td>0</td>\n",
       "      <td>0</td>\n",
       "      <td>1</td>\n",
       "      <td>40</td>\n",
       "      <td>0</td>\n",
       "    </tr>\n",
       "  </tbody>\n",
       "</table>\n",
       "<p>4236125 rows × 8 columns</p>\n",
       "</div>"
      ],
      "text/plain": [
       "         duration  orig_bytes  resp_bytes  orig_pkts  orig_ip_bytes   \n",
       "1        0.000000           0           0          0              0  \\\n",
       "2        0.000000           0           0          0              0   \n",
       "4        0.000000           0           0          0              0   \n",
       "5        0.053276         208         976          6            528   \n",
       "6        0.383646         227      692369        202          10739   \n",
       "...           ...         ...         ...        ...            ...   \n",
       "4430183  0.000051           0           0          1             52   \n",
       "4430184  0.000023           0           0          0              0   \n",
       "4430185  0.000005           0           0          0              0   \n",
       "4430186  0.000005           0           0          0              0   \n",
       "4430187  0.000005           0           0          0              0   \n",
       "\n",
       "         resp_pkts  resp_ip_bytes  label  \n",
       "1                0              0      0  \n",
       "2                0              0      0  \n",
       "4                0              0      0  \n",
       "5                6           1296      0  \n",
       "6              117         240893      0  \n",
       "...            ...            ...    ...  \n",
       "4430183          1             40      0  \n",
       "4430184          1             40      0  \n",
       "4430185          1             40      0  \n",
       "4430186          1             40      0  \n",
       "4430187          1             40      0  \n",
       "\n",
       "[4236125 rows x 8 columns]"
      ]
     },
     "execution_count": 3,
     "metadata": {},
     "output_type": "execute_result"
    }
   ],
   "source": [
    "# Drop the port column\n",
    "df_conn = df_conn.drop(columns=['id.resp_p'], inplace=False)\n",
    "df_conn"
   ]
  },
  {
   "cell_type": "code",
   "execution_count": 4,
   "metadata": {},
   "outputs": [
    {
     "data": {
      "text/html": [
       "<div>\n",
       "<style scoped>\n",
       "    .dataframe tbody tr th:only-of-type {\n",
       "        vertical-align: middle;\n",
       "    }\n",
       "\n",
       "    .dataframe tbody tr th {\n",
       "        vertical-align: top;\n",
       "    }\n",
       "\n",
       "    .dataframe thead th {\n",
       "        text-align: right;\n",
       "    }\n",
       "</style>\n",
       "<table border=\"1\" class=\"dataframe\">\n",
       "  <thead>\n",
       "    <tr style=\"text-align: right;\">\n",
       "      <th></th>\n",
       "      <th>duration</th>\n",
       "      <th>orig_bytes</th>\n",
       "      <th>resp_bytes</th>\n",
       "      <th>orig_pkts</th>\n",
       "      <th>orig_ip_bytes</th>\n",
       "      <th>resp_pkts</th>\n",
       "      <th>resp_ip_bytes</th>\n",
       "      <th>label</th>\n",
       "    </tr>\n",
       "  </thead>\n",
       "  <tbody>\n",
       "    <tr>\n",
       "      <th>5</th>\n",
       "      <td>0.053276</td>\n",
       "      <td>208</td>\n",
       "      <td>976</td>\n",
       "      <td>6</td>\n",
       "      <td>528</td>\n",
       "      <td>6</td>\n",
       "      <td>1296</td>\n",
       "      <td>0</td>\n",
       "    </tr>\n",
       "    <tr>\n",
       "      <th>6</th>\n",
       "      <td>0.383646</td>\n",
       "      <td>227</td>\n",
       "      <td>692369</td>\n",
       "      <td>202</td>\n",
       "      <td>10739</td>\n",
       "      <td>117</td>\n",
       "      <td>240893</td>\n",
       "      <td>0</td>\n",
       "    </tr>\n",
       "    <tr>\n",
       "      <th>7</th>\n",
       "      <td>0.054294</td>\n",
       "      <td>208</td>\n",
       "      <td>977</td>\n",
       "      <td>6</td>\n",
       "      <td>528</td>\n",
       "      <td>6</td>\n",
       "      <td>1297</td>\n",
       "      <td>0</td>\n",
       "    </tr>\n",
       "    <tr>\n",
       "      <th>8</th>\n",
       "      <td>0.424980</td>\n",
       "      <td>227</td>\n",
       "      <td>791633</td>\n",
       "      <td>176</td>\n",
       "      <td>9387</td>\n",
       "      <td>174</td>\n",
       "      <td>367737</td>\n",
       "      <td>0</td>\n",
       "    </tr>\n",
       "    <tr>\n",
       "      <th>9</th>\n",
       "      <td>0.272567</td>\n",
       "      <td>227</td>\n",
       "      <td>406607</td>\n",
       "      <td>171</td>\n",
       "      <td>9127</td>\n",
       "      <td>71</td>\n",
       "      <td>169939</td>\n",
       "      <td>0</td>\n",
       "    </tr>\n",
       "    <tr>\n",
       "      <th>...</th>\n",
       "      <td>...</td>\n",
       "      <td>...</td>\n",
       "      <td>...</td>\n",
       "      <td>...</td>\n",
       "      <td>...</td>\n",
       "      <td>...</td>\n",
       "      <td>...</td>\n",
       "      <td>...</td>\n",
       "    </tr>\n",
       "    <tr>\n",
       "      <th>4430183</th>\n",
       "      <td>0.000051</td>\n",
       "      <td>0</td>\n",
       "      <td>0</td>\n",
       "      <td>1</td>\n",
       "      <td>52</td>\n",
       "      <td>1</td>\n",
       "      <td>40</td>\n",
       "      <td>0</td>\n",
       "    </tr>\n",
       "    <tr>\n",
       "      <th>4430184</th>\n",
       "      <td>0.000023</td>\n",
       "      <td>0</td>\n",
       "      <td>0</td>\n",
       "      <td>0</td>\n",
       "      <td>0</td>\n",
       "      <td>1</td>\n",
       "      <td>40</td>\n",
       "      <td>0</td>\n",
       "    </tr>\n",
       "    <tr>\n",
       "      <th>4430185</th>\n",
       "      <td>0.000005</td>\n",
       "      <td>0</td>\n",
       "      <td>0</td>\n",
       "      <td>0</td>\n",
       "      <td>0</td>\n",
       "      <td>1</td>\n",
       "      <td>40</td>\n",
       "      <td>0</td>\n",
       "    </tr>\n",
       "    <tr>\n",
       "      <th>4430186</th>\n",
       "      <td>0.000005</td>\n",
       "      <td>0</td>\n",
       "      <td>0</td>\n",
       "      <td>0</td>\n",
       "      <td>0</td>\n",
       "      <td>1</td>\n",
       "      <td>40</td>\n",
       "      <td>0</td>\n",
       "    </tr>\n",
       "    <tr>\n",
       "      <th>4430187</th>\n",
       "      <td>0.000005</td>\n",
       "      <td>0</td>\n",
       "      <td>0</td>\n",
       "      <td>0</td>\n",
       "      <td>0</td>\n",
       "      <td>1</td>\n",
       "      <td>40</td>\n",
       "      <td>0</td>\n",
       "    </tr>\n",
       "  </tbody>\n",
       "</table>\n",
       "<p>207608 rows × 8 columns</p>\n",
       "</div>"
      ],
      "text/plain": [
       "         duration  orig_bytes  resp_bytes  orig_pkts  orig_ip_bytes   \n",
       "5        0.053276         208         976          6            528  \\\n",
       "6        0.383646         227      692369        202          10739   \n",
       "7        0.054294         208         977          6            528   \n",
       "8        0.424980         227      791633        176           9387   \n",
       "9        0.272567         227      406607        171           9127   \n",
       "...           ...         ...         ...        ...            ...   \n",
       "4430183  0.000051           0           0          1             52   \n",
       "4430184  0.000023           0           0          0              0   \n",
       "4430185  0.000005           0           0          0              0   \n",
       "4430186  0.000005           0           0          0              0   \n",
       "4430187  0.000005           0           0          0              0   \n",
       "\n",
       "         resp_pkts  resp_ip_bytes  label  \n",
       "5                6           1296      0  \n",
       "6              117         240893      0  \n",
       "7                6           1297      0  \n",
       "8              174         367737      0  \n",
       "9               71         169939      0  \n",
       "...            ...            ...    ...  \n",
       "4430183          1             40      0  \n",
       "4430184          1             40      0  \n",
       "4430185          1             40      0  \n",
       "4430186          1             40      0  \n",
       "4430187          1             40      0  \n",
       "\n",
       "[207608 rows x 8 columns]"
      ]
     },
     "execution_count": 4,
     "metadata": {},
     "output_type": "execute_result"
    }
   ],
   "source": [
    "# Looking at above, we see a number of records with 0s. \n",
    "# These will add no value to our learning process\n",
    "# I know you might be saying, why didn't we fix these earlier. \n",
    "# Good question, we are learning (pun intended) as we go along\n",
    "# Besides, you learn more about your data as you work with it\n",
    "# Or as it is said, if you interrogate the data long enough, it will confess\n",
    "#   https://quoteinvestigator.com/2021/01/18/confess/\n",
    "# Let's find all those records and drop them\n",
    "# Reference: https://stackoverflow.com/questions/13851535/how-to-delete-rows-from-a-pandas-dataframe-based-on-a-conditional-expression\n",
    "df_conn = df_conn.drop(df_conn[(df_conn.duration == 0 ) & (df_conn.orig_bytes == 0 ) \n",
    "                               & (df_conn.resp_bytes == 0 ) & (df_conn.orig_pkts == 0 )  \n",
    "                               & (df_conn.orig_ip_bytes == 0 ) & (df_conn.resp_pkts == 0 ) \n",
    "                               & (df_conn.resp_ip_bytes == 0 )].index)\n",
    "df_conn"
   ]
  },
  {
   "cell_type": "code",
   "execution_count": 5,
   "metadata": {},
   "outputs": [],
   "source": [
    "# Interesting, after removing those records where the rows had all 0s, our dataset is now 207,608 records\n",
    "# Keep in mind the original normal dataset was over 4.4 million records.\n",
    "# This is a good reduction of useless records"
   ]
  },
  {
   "cell_type": "code",
   "execution_count": 6,
   "metadata": {},
   "outputs": [
    {
     "data": {
      "text/html": [
       "<div>\n",
       "<style scoped>\n",
       "    .dataframe tbody tr th:only-of-type {\n",
       "        vertical-align: middle;\n",
       "    }\n",
       "\n",
       "    .dataframe tbody tr th {\n",
       "        vertical-align: top;\n",
       "    }\n",
       "\n",
       "    .dataframe thead th {\n",
       "        text-align: right;\n",
       "    }\n",
       "</style>\n",
       "<table border=\"1\" class=\"dataframe\">\n",
       "  <thead>\n",
       "    <tr style=\"text-align: right;\">\n",
       "      <th></th>\n",
       "      <th>duration</th>\n",
       "      <th>orig_bytes</th>\n",
       "      <th>resp_bytes</th>\n",
       "      <th>orig_pkts</th>\n",
       "      <th>orig_ip_bytes</th>\n",
       "      <th>resp_pkts</th>\n",
       "      <th>resp_ip_bytes</th>\n",
       "    </tr>\n",
       "  </thead>\n",
       "  <tbody>\n",
       "    <tr>\n",
       "      <th>5</th>\n",
       "      <td>0.053276</td>\n",
       "      <td>208</td>\n",
       "      <td>976</td>\n",
       "      <td>6</td>\n",
       "      <td>528</td>\n",
       "      <td>6</td>\n",
       "      <td>1296</td>\n",
       "    </tr>\n",
       "    <tr>\n",
       "      <th>6</th>\n",
       "      <td>0.383646</td>\n",
       "      <td>227</td>\n",
       "      <td>692369</td>\n",
       "      <td>202</td>\n",
       "      <td>10739</td>\n",
       "      <td>117</td>\n",
       "      <td>240893</td>\n",
       "    </tr>\n",
       "    <tr>\n",
       "      <th>7</th>\n",
       "      <td>0.054294</td>\n",
       "      <td>208</td>\n",
       "      <td>977</td>\n",
       "      <td>6</td>\n",
       "      <td>528</td>\n",
       "      <td>6</td>\n",
       "      <td>1297</td>\n",
       "    </tr>\n",
       "    <tr>\n",
       "      <th>8</th>\n",
       "      <td>0.424980</td>\n",
       "      <td>227</td>\n",
       "      <td>791633</td>\n",
       "      <td>176</td>\n",
       "      <td>9387</td>\n",
       "      <td>174</td>\n",
       "      <td>367737</td>\n",
       "    </tr>\n",
       "    <tr>\n",
       "      <th>9</th>\n",
       "      <td>0.272567</td>\n",
       "      <td>227</td>\n",
       "      <td>406607</td>\n",
       "      <td>171</td>\n",
       "      <td>9127</td>\n",
       "      <td>71</td>\n",
       "      <td>169939</td>\n",
       "    </tr>\n",
       "    <tr>\n",
       "      <th>...</th>\n",
       "      <td>...</td>\n",
       "      <td>...</td>\n",
       "      <td>...</td>\n",
       "      <td>...</td>\n",
       "      <td>...</td>\n",
       "      <td>...</td>\n",
       "      <td>...</td>\n",
       "    </tr>\n",
       "    <tr>\n",
       "      <th>4430183</th>\n",
       "      <td>0.000051</td>\n",
       "      <td>0</td>\n",
       "      <td>0</td>\n",
       "      <td>1</td>\n",
       "      <td>52</td>\n",
       "      <td>1</td>\n",
       "      <td>40</td>\n",
       "    </tr>\n",
       "    <tr>\n",
       "      <th>4430184</th>\n",
       "      <td>0.000023</td>\n",
       "      <td>0</td>\n",
       "      <td>0</td>\n",
       "      <td>0</td>\n",
       "      <td>0</td>\n",
       "      <td>1</td>\n",
       "      <td>40</td>\n",
       "    </tr>\n",
       "    <tr>\n",
       "      <th>4430185</th>\n",
       "      <td>0.000005</td>\n",
       "      <td>0</td>\n",
       "      <td>0</td>\n",
       "      <td>0</td>\n",
       "      <td>0</td>\n",
       "      <td>1</td>\n",
       "      <td>40</td>\n",
       "    </tr>\n",
       "    <tr>\n",
       "      <th>4430186</th>\n",
       "      <td>0.000005</td>\n",
       "      <td>0</td>\n",
       "      <td>0</td>\n",
       "      <td>0</td>\n",
       "      <td>0</td>\n",
       "      <td>1</td>\n",
       "      <td>40</td>\n",
       "    </tr>\n",
       "    <tr>\n",
       "      <th>4430187</th>\n",
       "      <td>0.000005</td>\n",
       "      <td>0</td>\n",
       "      <td>0</td>\n",
       "      <td>0</td>\n",
       "      <td>0</td>\n",
       "      <td>1</td>\n",
       "      <td>40</td>\n",
       "    </tr>\n",
       "  </tbody>\n",
       "</table>\n",
       "<p>207541 rows × 7 columns</p>\n",
       "</div>"
      ],
      "text/plain": [
       "         duration  orig_bytes  resp_bytes  orig_pkts  orig_ip_bytes   \n",
       "5        0.053276         208         976          6            528  \\\n",
       "6        0.383646         227      692369        202          10739   \n",
       "7        0.054294         208         977          6            528   \n",
       "8        0.424980         227      791633        176           9387   \n",
       "9        0.272567         227      406607        171           9127   \n",
       "...           ...         ...         ...        ...            ...   \n",
       "4430183  0.000051           0           0          1             52   \n",
       "4430184  0.000023           0           0          0              0   \n",
       "4430185  0.000005           0           0          0              0   \n",
       "4430186  0.000005           0           0          0              0   \n",
       "4430187  0.000005           0           0          0              0   \n",
       "\n",
       "         resp_pkts  resp_ip_bytes  \n",
       "5                6           1296  \n",
       "6              117         240893  \n",
       "7                6           1297  \n",
       "8              174         367737  \n",
       "9               71         169939  \n",
       "...            ...            ...  \n",
       "4430183          1             40  \n",
       "4430184          1             40  \n",
       "4430185          1             40  \n",
       "4430186          1             40  \n",
       "4430187          1             40  \n",
       "\n",
       "[207541 rows x 7 columns]"
      ]
     },
     "execution_count": 6,
     "metadata": {},
     "output_type": "execute_result"
    }
   ],
   "source": [
    "# As always analyze our data before looking into any Machine or in this case Deep Learning algorithms\n",
    "# Extract all the records where the labels are 0 and mark those as normal\n",
    "# These will be used to train our autoencoder\n",
    "df_normal = df_conn[df_conn.label == 0]\n",
    "df_normal_labels = df_conn[df_conn.label == 0].values[:, -1]\n",
    "df_normal = df_normal.drop(columns=['label'], inplace=False)\n",
    "df_normal"
   ]
  },
  {
   "cell_type": "code",
   "execution_count": 7,
   "metadata": {},
   "outputs": [
    {
     "data": {
      "image/png": "[encoded data removed]",
      "text/plain": [
       "<Figure size 640x480 with 1 Axes>"
      ]
     },
     "metadata": {},
     "output_type": "display_data"
    }
   ],
   "source": [
    "# Plotting two of the normal sample data points, to see what the data looks like\n",
    "plt.title('Comparrison of two normal samples')\n",
    "plt.plot(df_normal.values[0, : ], label='normal-0', c='black', lw=3)\n",
    "plt.plot(df_normal.values[1, : ], label='normal-1', c='b', lw=3)\n",
    "plt.fill_between(x=np.arange(start=0,stop=7, step=1), y1=df_normal.values[0, : ], y2=df_normal.values[1, : ] )\n",
    "plt.xlabel(xlabel='Features')\n",
    "plt.xticks(np.arange(start=0, stop=7, step=1), ['duration', 'orig_bytes', 'resp_bytes', \\\n",
    "                                                'orig_pkts', 'orig_ip_bytes', 'resp_pkts', 'resp_ip_bytes'], rotation=45)\n",
    "plt.ylabel(ylabel='Feature Values')\n",
    "plt.legend(loc='best')\n",
    "plt.show()"
   ]
  },
  {
   "cell_type": "code",
   "execution_count": 8,
   "metadata": {},
   "outputs": [
    {
     "data": {
      "text/html": [
       "<div>\n",
       "<style scoped>\n",
       "    .dataframe tbody tr th:only-of-type {\n",
       "        vertical-align: middle;\n",
       "    }\n",
       "\n",
       "    .dataframe tbody tr th {\n",
       "        vertical-align: top;\n",
       "    }\n",
       "\n",
       "    .dataframe thead th {\n",
       "        text-align: right;\n",
       "    }\n",
       "</style>\n",
       "<table border=\"1\" class=\"dataframe\">\n",
       "  <thead>\n",
       "    <tr style=\"text-align: right;\">\n",
       "      <th></th>\n",
       "      <th>duration</th>\n",
       "      <th>orig_bytes</th>\n",
       "      <th>resp_bytes</th>\n",
       "      <th>orig_pkts</th>\n",
       "      <th>orig_ip_bytes</th>\n",
       "      <th>resp_pkts</th>\n",
       "      <th>resp_ip_bytes</th>\n",
       "    </tr>\n",
       "  </thead>\n",
       "  <tbody>\n",
       "    <tr>\n",
       "      <th>5982</th>\n",
       "      <td>5.932275</td>\n",
       "      <td>15759454</td>\n",
       "      <td>645</td>\n",
       "      <td>7798</td>\n",
       "      <td>11593818</td>\n",
       "      <td>10588</td>\n",
       "      <td>428317</td>\n",
       "    </tr>\n",
       "    <tr>\n",
       "      <th>51574</th>\n",
       "      <td>107.685110</td>\n",
       "      <td>1567276</td>\n",
       "      <td>0</td>\n",
       "      <td>14</td>\n",
       "      <td>133416</td>\n",
       "      <td>0</td>\n",
       "      <td>0</td>\n",
       "    </tr>\n",
       "    <tr>\n",
       "      <th>55611</th>\n",
       "      <td>217.387880</td>\n",
       "      <td>3213967</td>\n",
       "      <td>0</td>\n",
       "      <td>6</td>\n",
       "      <td>58430</td>\n",
       "      <td>0</td>\n",
       "      <td>0</td>\n",
       "    </tr>\n",
       "    <tr>\n",
       "      <th>115226</th>\n",
       "      <td>130.989500</td>\n",
       "      <td>2480118</td>\n",
       "      <td>362609</td>\n",
       "      <td>50</td>\n",
       "      <td>1595225</td>\n",
       "      <td>10</td>\n",
       "      <td>197593</td>\n",
       "    </tr>\n",
       "    <tr>\n",
       "      <th>115972</th>\n",
       "      <td>141.094380</td>\n",
       "      <td>3561386</td>\n",
       "      <td>1107090</td>\n",
       "      <td>60</td>\n",
       "      <td>3026679</td>\n",
       "      <td>33</td>\n",
       "      <td>982584</td>\n",
       "    </tr>\n",
       "    <tr>\n",
       "      <th>...</th>\n",
       "      <td>...</td>\n",
       "      <td>...</td>\n",
       "      <td>...</td>\n",
       "      <td>...</td>\n",
       "      <td>...</td>\n",
       "      <td>...</td>\n",
       "      <td>...</td>\n",
       "    </tr>\n",
       "    <tr>\n",
       "      <th>4032886</th>\n",
       "      <td>264.840360</td>\n",
       "      <td>1207114</td>\n",
       "      <td>451720</td>\n",
       "      <td>1</td>\n",
       "      <td>52</td>\n",
       "      <td>11</td>\n",
       "      <td>373114</td>\n",
       "    </tr>\n",
       "    <tr>\n",
       "      <th>4052768</th>\n",
       "      <td>7110.420400</td>\n",
       "      <td>1124942</td>\n",
       "      <td>16527</td>\n",
       "      <td>1873</td>\n",
       "      <td>1251154</td>\n",
       "      <td>1695</td>\n",
       "      <td>112731</td>\n",
       "    </tr>\n",
       "    <tr>\n",
       "      <th>4070183</th>\n",
       "      <td>1079.268100</td>\n",
       "      <td>1767062</td>\n",
       "      <td>0</td>\n",
       "      <td>52</td>\n",
       "      <td>1586878</td>\n",
       "      <td>0</td>\n",
       "      <td>0</td>\n",
       "    </tr>\n",
       "    <tr>\n",
       "      <th>4192109</th>\n",
       "      <td>213.562450</td>\n",
       "      <td>1107362</td>\n",
       "      <td>186663</td>\n",
       "      <td>1</td>\n",
       "      <td>52</td>\n",
       "      <td>5</td>\n",
       "      <td>159831</td>\n",
       "    </tr>\n",
       "    <tr>\n",
       "      <th>4216218</th>\n",
       "      <td>362.553440</td>\n",
       "      <td>2386130</td>\n",
       "      <td>341008</td>\n",
       "      <td>1061</td>\n",
       "      <td>1124021</td>\n",
       "      <td>1097</td>\n",
       "      <td>291878</td>\n",
       "    </tr>\n",
       "  </tbody>\n",
       "</table>\n",
       "<p>67 rows × 7 columns</p>\n",
       "</div>"
      ],
      "text/plain": [
       "            duration  orig_bytes  resp_bytes  orig_pkts  orig_ip_bytes   \n",
       "5982        5.932275    15759454         645       7798       11593818  \\\n",
       "51574     107.685110     1567276           0         14         133416   \n",
       "55611     217.387880     3213967           0          6          58430   \n",
       "115226    130.989500     2480118      362609         50        1595225   \n",
       "115972    141.094380     3561386     1107090         60        3026679   \n",
       "...              ...         ...         ...        ...            ...   \n",
       "4032886   264.840360     1207114      451720          1             52   \n",
       "4052768  7110.420400     1124942       16527       1873        1251154   \n",
       "4070183  1079.268100     1767062           0         52        1586878   \n",
       "4192109   213.562450     1107362      186663          1             52   \n",
       "4216218   362.553440     2386130      341008       1061        1124021   \n",
       "\n",
       "         resp_pkts  resp_ip_bytes  \n",
       "5982         10588         428317  \n",
       "51574            0              0  \n",
       "55611            0              0  \n",
       "115226          10         197593  \n",
       "115972          33         982584  \n",
       "...            ...            ...  \n",
       "4032886         11         373114  \n",
       "4052768       1695         112731  \n",
       "4070183          0              0  \n",
       "4192109          5         159831  \n",
       "4216218       1097         291878  \n",
       "\n",
       "[67 rows x 7 columns]"
      ]
     },
     "execution_count": 8,
     "metadata": {},
     "output_type": "execute_result"
    }
   ],
   "source": [
    "# With an understanding of what the first two normal data points looks like\n",
    "# Extract all the records where the labels are 1 and mark those as suspicious\n",
    "# These will be used to understand our autoencoder performance against suspicious traffic\n",
    "# The expectation is the autonencoder will have a higher reconstruction error for those suspicious records\n",
    "df_suspicious = df_conn[df_conn.label == 1 ]\n",
    "df_suspicious = df_suspicious.drop(columns=['label'], inplace=False)\n",
    "df_suspicious"
   ]
  },
  {
   "cell_type": "code",
   "execution_count": 9,
   "metadata": {},
   "outputs": [
    {
     "data": {
      "image/png": "[encoded data removed]",
      "text/plain": [
       "<Figure size 640x480 with 1 Axes>"
      ]
     },
     "metadata": {},
     "output_type": "display_data"
    }
   ],
   "source": [
    "# The graph below shows this dataset is highly imbalanced.\n",
    "# There is a significant disparity in the number of records\n",
    "# As a result, using measures like accuracy is more than likely not the best approach, \n",
    "# to understand how well our eventual model has \"learned\"\n",
    "# via the training data\n",
    "plt.title('Bar graph showing highly imbalanced dataset')\n",
    "plt.bar(x=['normal', 'suspicious'], height=[df_normal.shape[0], df_suspicious.shape[0]])\n",
    "plt.ylabel(ylabel='Number of Records')\n",
    "plt.xlabel(xlabel='Normal vs Suspicious')\n",
    "plt.xticks(rotation=45)\n",
    "plt.show()\n"
   ]
  },
  {
   "cell_type": "code",
   "execution_count": 10,
   "metadata": {},
   "outputs": [
    {
     "data": {
      "text/plain": [
       "<matplotlib.legend.Legend at 0x191efa347c0>"
      ]
     },
     "execution_count": 10,
     "metadata": {},
     "output_type": "execute_result"
    },
    {
     "data": {
      "image/png": "[encoded data removed]",
      "text/plain": [
       "<Figure size 640x480 with 1 Axes>"
      ]
     },
     "metadata": {},
     "output_type": "display_data"
    }
   ],
   "source": [
    "# Plotting a normal vs a suspicious sample\n",
    "plt.title('Comparrison of a normal vs suspicious sample')\n",
    "plt.plot(df_normal.values[0, : ], label='normal-0', c='black', lw=3)\n",
    "plt.plot(df_suspicious.values[0, : ], label='suspicious-0', c='r', lw=3)\n",
    "plt.fill_between(x=np.arange(start=0,stop=7, step=1), y1=df_normal.values[0, : ], \n",
    "                 y2=df_suspicious.values[0, : ], color='lightcoral')\n",
    "plt.xlabel(xlabel='Features')\n",
    "plt.xticks(np.arange(start=0, stop=7, step=1), ['duration', 'orig_bytes', 'resp_bytes', \\\n",
    "                                                'orig_pkts', 'orig_ip_bytes', 'resp_pkts', 'resp_ip_bytes'], rotation=45)\n",
    "plt.ylabel(ylabel='Feature Values')\n",
    "plt.legend(loc='best')"
   ]
  },
  {
   "cell_type": "code",
   "execution_count": 11,
   "metadata": {},
   "outputs": [
    {
     "data": {
      "image/png": "[encoded data removed]",
      "text/plain": [
       "<Figure size 1000x500 with 2 Axes>"
      ]
     },
     "metadata": {},
     "output_type": "display_data"
    }
   ],
   "source": [
    "# What do we conclude from the normal vs suspicious activity?\n",
    "# Duration, orig_bytes, orig_pkts, orig_ip_bytes all seems to be higher for the suspicious sample\n",
    "# Comparing a histogram of the data\n",
    "fig, ax = plt.subplots(nrows=1, ncols=2, figsize=(10,5), sharex=True, sharey=False)\n",
    "\n",
    "plt.suptitle('Histograms of Normal vs Suspicious Traffic')\n",
    "ax[0].set_title('Normal Traffic Before Reconstruction')\n",
    "ax[0].hist(df_normal, bins=[0, 1e2, 1e4, 1e6, 1e8])\n",
    "ax[0].set_ylabel(ylabel='number of records')\n",
    "ax[0].set_xlabel(xlabel='range of values in custom bins')\n",
    "\n",
    "ax[1].set_title('Suspicious Traffic Before Reconstruction')\n",
    "ax[1].hist(df_suspicious, bins=[0, 1e2, 1e4, 1e6, 1e8])\n",
    "ax[1].set_ylabel(ylabel='number of records')\n",
    "ax[1].set_xlabel(xlabel='range of values in custom bins')\n",
    "plt.show()\n"
   ]
  },
  {
   "cell_type": "code",
   "execution_count": 12,
   "metadata": {},
   "outputs": [
    {
     "data": {
      "text/html": [
       "<div>\n",
       "<style scoped>\n",
       "    .dataframe tbody tr th:only-of-type {\n",
       "        vertical-align: middle;\n",
       "    }\n",
       "\n",
       "    .dataframe tbody tr th {\n",
       "        vertical-align: top;\n",
       "    }\n",
       "\n",
       "    .dataframe thead th {\n",
       "        text-align: right;\n",
       "    }\n",
       "</style>\n",
       "<table border=\"1\" class=\"dataframe\">\n",
       "  <thead>\n",
       "    <tr style=\"text-align: right;\">\n",
       "      <th></th>\n",
       "      <th>duration</th>\n",
       "      <th>orig_bytes</th>\n",
       "      <th>resp_bytes</th>\n",
       "      <th>orig_pkts</th>\n",
       "      <th>orig_ip_bytes</th>\n",
       "      <th>resp_pkts</th>\n",
       "      <th>resp_ip_bytes</th>\n",
       "    </tr>\n",
       "  </thead>\n",
       "  <tbody>\n",
       "    <tr>\n",
       "      <th>count</th>\n",
       "      <td>207541.00</td>\n",
       "      <td>207541.00</td>\n",
       "      <td>207541.00</td>\n",
       "      <td>207541.00</td>\n",
       "      <td>207541.00</td>\n",
       "      <td>207541.00</td>\n",
       "      <td>207541.00</td>\n",
       "    </tr>\n",
       "    <tr>\n",
       "      <th>mean</th>\n",
       "      <td>16.95</td>\n",
       "      <td>7808.70</td>\n",
       "      <td>297803.78</td>\n",
       "      <td>34.43</td>\n",
       "      <td>3785.39</td>\n",
       "      <td>48.06</td>\n",
       "      <td>75245.35</td>\n",
       "    </tr>\n",
       "    <tr>\n",
       "      <th>std</th>\n",
       "      <td>185.87</td>\n",
       "      <td>1736337.54</td>\n",
       "      <td>15063355.55</td>\n",
       "      <td>827.46</td>\n",
       "      <td>496005.80</td>\n",
       "      <td>1862.29</td>\n",
       "      <td>2314347.77</td>\n",
       "    </tr>\n",
       "    <tr>\n",
       "      <th>min</th>\n",
       "      <td>0.00</td>\n",
       "      <td>0.00</td>\n",
       "      <td>0.00</td>\n",
       "      <td>0.00</td>\n",
       "      <td>0.00</td>\n",
       "      <td>0.00</td>\n",
       "      <td>0.00</td>\n",
       "    </tr>\n",
       "    <tr>\n",
       "      <th>25%</th>\n",
       "      <td>0.00</td>\n",
       "      <td>0.00</td>\n",
       "      <td>0.00</td>\n",
       "      <td>1.00</td>\n",
       "      <td>52.00</td>\n",
       "      <td>1.00</td>\n",
       "      <td>40.00</td>\n",
       "    </tr>\n",
       "    <tr>\n",
       "      <th>50%</th>\n",
       "      <td>0.00</td>\n",
       "      <td>0.00</td>\n",
       "      <td>0.00</td>\n",
       "      <td>1.00</td>\n",
       "      <td>63.00</td>\n",
       "      <td>1.00</td>\n",
       "      <td>40.00</td>\n",
       "    </tr>\n",
       "    <tr>\n",
       "      <th>75%</th>\n",
       "      <td>0.09</td>\n",
       "      <td>217.00</td>\n",
       "      <td>154.00</td>\n",
       "      <td>6.00</td>\n",
       "      <td>617.00</td>\n",
       "      <td>3.00</td>\n",
       "      <td>201.00</td>\n",
       "    </tr>\n",
       "    <tr>\n",
       "      <th>max</th>\n",
       "      <td>33306.40</td>\n",
       "      <td>576842469.00</td>\n",
       "      <td>2098063527.00</td>\n",
       "      <td>274670.00</td>\n",
       "      <td>225262843.00</td>\n",
       "      <td>571383.00</td>\n",
       "      <td>578874775.00</td>\n",
       "    </tr>\n",
       "  </tbody>\n",
       "</table>\n",
       "</div>"
      ],
      "text/plain": [
       "       duration   orig_bytes    resp_bytes  orig_pkts  orig_ip_bytes   \n",
       "count 207541.00    207541.00     207541.00  207541.00      207541.00  \\\n",
       "mean      16.95      7808.70     297803.78      34.43        3785.39   \n",
       "std      185.87   1736337.54   15063355.55     827.46      496005.80   \n",
       "min        0.00         0.00          0.00       0.00           0.00   \n",
       "25%        0.00         0.00          0.00       1.00          52.00   \n",
       "50%        0.00         0.00          0.00       1.00          63.00   \n",
       "75%        0.09       217.00        154.00       6.00         617.00   \n",
       "max    33306.40 576842469.00 2098063527.00  274670.00   225262843.00   \n",
       "\n",
       "       resp_pkts  resp_ip_bytes  \n",
       "count  207541.00      207541.00  \n",
       "mean       48.06       75245.35  \n",
       "std      1862.29     2314347.77  \n",
       "min         0.00           0.00  \n",
       "25%         1.00          40.00  \n",
       "50%         1.00          40.00  \n",
       "75%         3.00         201.00  \n",
       "max    571383.00   578874775.00  "
      ]
     },
     "execution_count": 12,
     "metadata": {},
     "output_type": "execute_result"
    }
   ],
   "source": [
    "# Definitely, there is a visible difference between the normal and suspicious traffic histogram\n",
    "# Let's get some descriptive statistics on the two datasets\n",
    "# Starting with the normal traffic\n",
    "pd.options.display.float_format = '{:.2f}'.format\n",
    "df_normal.describe()"
   ]
  },
  {
   "cell_type": "code",
   "execution_count": 13,
   "metadata": {},
   "outputs": [
    {
     "data": {
      "text/html": [
       "<div>\n",
       "<style scoped>\n",
       "    .dataframe tbody tr th:only-of-type {\n",
       "        vertical-align: middle;\n",
       "    }\n",
       "\n",
       "    .dataframe tbody tr th {\n",
       "        vertical-align: top;\n",
       "    }\n",
       "\n",
       "    .dataframe thead th {\n",
       "        text-align: right;\n",
       "    }\n",
       "</style>\n",
       "<table border=\"1\" class=\"dataframe\">\n",
       "  <thead>\n",
       "    <tr style=\"text-align: right;\">\n",
       "      <th></th>\n",
       "      <th>duration</th>\n",
       "      <th>orig_bytes</th>\n",
       "      <th>resp_bytes</th>\n",
       "      <th>orig_pkts</th>\n",
       "      <th>orig_ip_bytes</th>\n",
       "      <th>resp_pkts</th>\n",
       "      <th>resp_ip_bytes</th>\n",
       "    </tr>\n",
       "  </thead>\n",
       "  <tbody>\n",
       "    <tr>\n",
       "      <th>count</th>\n",
       "      <td>67.00</td>\n",
       "      <td>67.00</td>\n",
       "      <td>67.00</td>\n",
       "      <td>67.00</td>\n",
       "      <td>67.00</td>\n",
       "      <td>67.00</td>\n",
       "      <td>67.00</td>\n",
       "    </tr>\n",
       "    <tr>\n",
       "      <th>mean</th>\n",
       "      <td>1712.73</td>\n",
       "      <td>38853235.15</td>\n",
       "      <td>3773473.87</td>\n",
       "      <td>12227.63</td>\n",
       "      <td>9673253.01</td>\n",
       "      <td>10958.85</td>\n",
       "      <td>4018232.07</td>\n",
       "    </tr>\n",
       "    <tr>\n",
       "      <th>std</th>\n",
       "      <td>2294.16</td>\n",
       "      <td>233948577.17</td>\n",
       "      <td>18684552.16</td>\n",
       "      <td>58719.48</td>\n",
       "      <td>51883222.08</td>\n",
       "      <td>41803.18</td>\n",
       "      <td>19493395.37</td>\n",
       "    </tr>\n",
       "    <tr>\n",
       "      <th>min</th>\n",
       "      <td>0.31</td>\n",
       "      <td>1015672.00</td>\n",
       "      <td>0.00</td>\n",
       "      <td>1.00</td>\n",
       "      <td>52.00</td>\n",
       "      <td>0.00</td>\n",
       "      <td>0.00</td>\n",
       "    </tr>\n",
       "    <tr>\n",
       "      <th>25%</th>\n",
       "      <td>213.66</td>\n",
       "      <td>1525013.50</td>\n",
       "      <td>0.00</td>\n",
       "      <td>58.00</td>\n",
       "      <td>653074.00</td>\n",
       "      <td>0.00</td>\n",
       "      <td>0.00</td>\n",
       "    </tr>\n",
       "    <tr>\n",
       "      <th>50%</th>\n",
       "      <td>1032.38</td>\n",
       "      <td>2412002.00</td>\n",
       "      <td>31183.00</td>\n",
       "      <td>381.00</td>\n",
       "      <td>1705839.00</td>\n",
       "      <td>816.00</td>\n",
       "      <td>140614.00</td>\n",
       "    </tr>\n",
       "    <tr>\n",
       "      <th>75%</th>\n",
       "      <td>3214.22</td>\n",
       "      <td>4190262.50</td>\n",
       "      <td>407164.50</td>\n",
       "      <td>4370.50</td>\n",
       "      <td>3203131.50</td>\n",
       "      <td>5137.00</td>\n",
       "      <td>593585.00</td>\n",
       "    </tr>\n",
       "    <tr>\n",
       "      <th>max</th>\n",
       "      <td>15758.69</td>\n",
       "      <td>1882412858.00</td>\n",
       "      <td>146981213.00</td>\n",
       "      <td>476032.00</td>\n",
       "      <td>423975367.00</td>\n",
       "      <td>332692.00</td>\n",
       "      <td>153474622.00</td>\n",
       "    </tr>\n",
       "  </tbody>\n",
       "</table>\n",
       "</div>"
      ],
      "text/plain": [
       "       duration    orig_bytes   resp_bytes  orig_pkts  orig_ip_bytes   \n",
       "count     67.00         67.00        67.00      67.00          67.00  \\\n",
       "mean    1712.73   38853235.15   3773473.87   12227.63     9673253.01   \n",
       "std     2294.16  233948577.17  18684552.16   58719.48    51883222.08   \n",
       "min        0.31    1015672.00         0.00       1.00          52.00   \n",
       "25%      213.66    1525013.50         0.00      58.00      653074.00   \n",
       "50%     1032.38    2412002.00     31183.00     381.00     1705839.00   \n",
       "75%     3214.22    4190262.50    407164.50    4370.50     3203131.50   \n",
       "max    15758.69 1882412858.00 146981213.00  476032.00   423975367.00   \n",
       "\n",
       "       resp_pkts  resp_ip_bytes  \n",
       "count      67.00          67.00  \n",
       "mean    10958.85     4018232.07  \n",
       "std     41803.18    19493395.37  \n",
       "min         0.00           0.00  \n",
       "25%         0.00           0.00  \n",
       "50%       816.00      140614.00  \n",
       "75%      5137.00      593585.00  \n",
       "max    332692.00   153474622.00  "
      ]
     },
     "execution_count": 13,
     "metadata": {},
     "output_type": "execute_result"
    }
   ],
   "source": [
    "# Getting the statistics from the perspective of the suspicious data\n",
    "df_suspicious.describe()"
   ]
  },
  {
   "cell_type": "code",
   "execution_count": 14,
   "metadata": {},
   "outputs": [],
   "source": [
    "# We can see that generally, the values in the suspicious records have larger values\n",
    "# With a statistical understanding of the normal and suspicious datasets, time to build the model\n",
    "# Scaling the data first\n",
    "# import the scaler library\n",
    "# https://scikit-learn.org/stable/modules/generated/sklearn.preprocessing.MinMaxScaler.html\n",
    "from sklearn.preprocessing import MinMaxScaler"
   ]
  },
  {
   "cell_type": "code",
   "execution_count": 15,
   "metadata": {},
   "outputs": [
    {
     "data": {
      "text/plain": [
       "array([[1.59957245e-06, 3.60583714e-07, 4.65190871e-07, ...,\n",
       "        2.34392851e-06, 1.05008374e-05, 2.23882618e-06],\n",
       "       [1.15186871e-05, 3.93521650e-07, 3.30003830e-04, ...,\n",
       "        4.76731975e-05, 2.04766330e-04, 4.16140088e-04],\n",
       "       [1.63013715e-06, 3.60583714e-07, 4.65667501e-07, ...,\n",
       "        2.34392851e-06, 1.05008374e-05, 2.24055367e-06],\n",
       "       ...,\n",
       "       [1.50121298e-10, 0.00000000e+00, 0.00000000e+00, ...,\n",
       "        0.00000000e+00, 1.75013957e-06, 6.90995734e-08],\n",
       "       [1.50121298e-10, 0.00000000e+00, 0.00000000e+00, ...,\n",
       "        0.00000000e+00, 1.75013957e-06, 6.90995734e-08],\n",
       "       [1.50121298e-10, 0.00000000e+00, 0.00000000e+00, ...,\n",
       "        0.00000000e+00, 1.75013957e-06, 6.90995734e-08]])"
      ]
     },
     "execution_count": 15,
     "metadata": {},
     "output_type": "execute_result"
    }
   ],
   "source": [
    "# Setup the scaler\n",
    "min_max_scaler = MinMaxScaler(feature_range=(0,1))\n",
    "\n",
    "# Fit on the normal data\n",
    "min_max_scaler.fit(df_normal.values)\n",
    "\n",
    "# Transform the normal data\n",
    "df_normal = min_max_scaler.transform(df_normal.values)\n",
    "df_normal"
   ]
  },
  {
   "cell_type": "code",
   "execution_count": 16,
   "metadata": {},
   "outputs": [
    {
     "data": {
      "text/plain": [
       "numpy.ndarray"
      ]
     },
     "execution_count": 16,
     "metadata": {},
     "output_type": "execute_result"
    }
   ],
   "source": [
    "# To get this data ready for PyTorch, it has to be a torch tensor\n",
    "# Currently it is a numpy ndarray\n",
    "type(df_normal)"
   ]
  },
  {
   "cell_type": "code",
   "execution_count": 17,
   "metadata": {},
   "outputs": [],
   "source": [
    "# Import the torch library\n",
    "import torch"
   ]
  },
  {
   "cell_type": "code",
   "execution_count": 18,
   "metadata": {},
   "outputs": [
    {
     "data": {
      "text/plain": [
       "(tensor([[1.5996e-06, 3.6058e-07, 4.6519e-07,  ..., 2.3439e-06, 1.0501e-05,\n",
       "          2.2388e-06],\n",
       "         [1.1519e-05, 3.9352e-07, 3.3000e-04,  ..., 4.7673e-05, 2.0477e-04,\n",
       "          4.1614e-04],\n",
       "         [1.6301e-06, 3.6058e-07, 4.6567e-07,  ..., 2.3439e-06, 1.0501e-05,\n",
       "          2.2406e-06],\n",
       "         ...,\n",
       "         [1.5012e-10, 0.0000e+00, 0.0000e+00,  ..., 0.0000e+00, 1.7501e-06,\n",
       "          6.9100e-08],\n",
       "         [1.5012e-10, 0.0000e+00, 0.0000e+00,  ..., 0.0000e+00, 1.7501e-06,\n",
       "          6.9100e-08],\n",
       "         [1.5012e-10, 0.0000e+00, 0.0000e+00,  ..., 0.0000e+00, 1.7501e-06,\n",
       "          6.9100e-08]]),\n",
       " torch.Tensor)"
      ]
     },
     "execution_count": 18,
     "metadata": {},
     "output_type": "execute_result"
    }
   ],
   "source": [
    "# Convert the df_normal dataset to a torch tensor\n",
    "df_normal = torch.tensor(df_normal, dtype=torch.float32)\n",
    "\n",
    "# Get a view of the data as well as its type and we see below its torch.Tensor\n",
    "df_normal, type(df_normal)"
   ]
  },
  {
   "cell_type": "code",
   "execution_count": 19,
   "metadata": {},
   "outputs": [
    {
     "data": {
      "text/plain": [
       "array([[1.78112165e-04, 2.73202041e-02, 3.07426344e-07, 2.83904322e-02,\n",
       "        5.14679556e-02, 1.85304778e-02, 7.39913049e-04],\n",
       "       [3.23316570e-03, 2.71699135e-03, 0.00000000e+00, 5.09702552e-05,\n",
       "        5.92268118e-04, 0.00000000e+00, 0.00000000e+00],\n",
       "       [6.52691014e-03, 5.57165461e-03, 0.00000000e+00, 2.18443951e-05,\n",
       "        2.59385877e-04, 0.00000000e+00, 0.00000000e+00],\n",
       "       [3.93286275e-03, 4.29947192e-03, 1.72830324e-04, 1.82036626e-04,\n",
       "        7.08161621e-03, 1.75013957e-05, 3.41339800e-04],\n",
       "       [4.23625429e-03, 6.17393169e-03, 5.27672297e-04, 2.18443951e-04,\n",
       "        1.34362106e-02, 5.77546059e-05, 1.69740338e-03],\n",
       "       [4.48919457e-04, 7.21331598e-03, 9.72992464e-05, 3.71354717e-04,\n",
       "        1.78264242e-02, 1.05008374e-05, 3.05091891e-04],\n",
       "       [2.88119130e-04, 2.07399431e-03, 4.51082623e-06, 9.32027524e-04,\n",
       "        1.41751740e-03, 7.68311273e-04, 5.58393653e-05],\n",
       "       [8.94245460e-02, 7.89351035e-03, 0.00000000e+00, 5.06061820e-04,\n",
       "        1.84666630e-02, 0.00000000e+00, 0.00000000e+00],\n",
       "       [4.73155580e-02, 4.20256852e-03, 0.00000000e+00, 2.69414206e-04,\n",
       "        9.83117309e-03, 0.00000000e+00, 0.00000000e+00],\n",
       "       [4.08225146e-02, 3.58512958e-03, 0.00000000e+00, 2.29366148e-04,\n",
       "        8.36978249e-03, 0.00000000e+00, 0.00000000e+00],\n",
       "       [2.85138442e-02, 2.55491071e-03, 0.00000000e+00, 1.63832963e-04,\n",
       "        5.97841607e-03, 0.00000000e+00, 0.00000000e+00],\n",
       "       [5.22763883e-03, 1.40686798e-02, 3.41743704e-07, 5.80696836e-03,\n",
       "        1.11020396e-02, 4.96864625e-03, 3.00349933e-04],\n",
       "       [3.13000084e-03, 7.10648439e-03, 3.41743704e-07, 5.12615138e-03,\n",
       "        1.06097214e-02, 3.46177608e-03, 2.42909185e-04],\n",
       "       [6.68815573e-03, 1.29194562e-02, 3.41743704e-07, 2.64681254e-03,\n",
       "        5.41271691e-03, 4.41210187e-03, 2.43176946e-04],\n",
       "       [2.06993731e-03, 2.99811316e-03, 3.41743704e-07, 7.17224306e-04,\n",
       "        1.33003737e-03, 1.13234030e-03, 5.94135407e-05],\n",
       "       [3.63028487e-02, 3.24018619e-03, 0.00000000e+00, 2.07521753e-04,\n",
       "        7.57266035e-03, 0.00000000e+00, 0.00000000e+00],\n",
       "       [3.09965472e-02, 1.82040861e-03, 3.13288893e-06, 1.24513052e-03,\n",
       "        1.67986426e-03, 1.15159184e-03, 7.34511190e-05],\n",
       "       [6.27419445e-03, 2.46208571e-02, 3.41743704e-07, 5.68682419e-03,\n",
       "        1.01176429e-02, 9.72027519e-03, 5.28941687e-04],\n",
       "       [6.41790857e-03, 3.16426771e-03, 0.00000000e+00, 7.28146503e-06,\n",
       "        2.76743378e-05, 0.00000000e+00, 0.00000000e+00],\n",
       "       [3.63036473e-02, 3.18758777e-03, 0.00000000e+00, 2.03881021e-04,\n",
       "        7.44681181e-03, 0.00000000e+00, 0.00000000e+00],\n",
       "       [2.98267855e-02, 2.66625653e-03, 0.00000000e+00, 1.71114428e-04,\n",
       "        6.24412345e-03, 0.00000000e+00, 0.00000000e+00],\n",
       "       [2.20431980e-02, 1.98606043e-03, 0.00000000e+00, 1.27425638e-04,\n",
       "        4.64987916e-03, 0.00000000e+00, 0.00000000e+00],\n",
       "       [2.39895185e-02, 2.04413694e-03, 0.00000000e+00, 1.31066371e-04,\n",
       "        4.78273285e-03, 0.00000000e+00, 0.00000000e+00],\n",
       "       [6.09220090e-02, 5.40951502e-03, 0.00000000e+00, 3.45869589e-04,\n",
       "        1.26211006e-02, 0.00000000e+00, 0.00000000e+00],\n",
       "       [6.48070941e-02, 5.75155294e-03, 0.00000000e+00, 3.67713984e-04,\n",
       "        1.34182227e-02, 0.00000000e+00, 0.00000000e+00],\n",
       "       [1.08252066e-01, 3.18062920e-03, 5.83789282e-04, 1.49852550e-02,\n",
       "        9.35817009e-03, 8.26065879e-03, 2.12887321e-03],\n",
       "       [1.08212043e-01, 7.07491771e-03, 1.04228970e-04, 3.53151054e-02,\n",
       "        2.05249696e-02, 2.03261210e-02, 1.23408901e-03],\n",
       "       [4.45266766e-02, 6.70322611e-02, 3.23105517e-03, 1.98165071e-02,\n",
       "        2.97076957e-02, 2.58005576e-02, 8.03721496e-03],\n",
       "       [2.12299528e-03, 2.62119570e-03, 3.53678519e-05, 1.73298868e-03,\n",
       "        1.42930807e-03, 1.50862031e-03, 2.06471253e-04],\n",
       "       [9.71136628e-03, 8.95420601e-02, 2.00687241e-02, 1.98824043e-01,\n",
       "        2.36083192e-01, 9.26173862e-02, 7.52964542e-02],\n",
       "       [2.39822458e-02, 2.16273605e-03, 0.00000000e+00, 1.38347836e-04,\n",
       "        5.04844023e-03, 0.00000000e+00, 0.00000000e+00],\n",
       "       [1.08076526e-01, 5.07680893e-03, 7.46011729e-05, 2.42363564e-02,\n",
       "        1.44894203e-02, 1.42566370e-02, 8.54010265e-04],\n",
       "       [2.94652860e-03, 2.34717461e-03, 3.05062259e-05, 1.86041432e-03,\n",
       "        1.63099691e-03, 1.47886794e-03, 1.81277548e-04],\n",
       "       [4.77810961e-03, 2.12686490e-03, 3.92166390e-05, 1.38711909e-03,\n",
       "        8.78813378e-04, 1.42811389e-03, 2.18836621e-04],\n",
       "       [7.91359799e-03, 3.34192627e-03, 6.65632848e-05, 2.37375760e-03,\n",
       "        1.50539696e-03, 2.25943019e-03, 3.57063408e-04],\n",
       "       [4.86153052e-02, 4.33024289e-03, 0.00000000e+00, 2.76695671e-04,\n",
       "        1.00968805e-02, 0.00000000e+00, 0.00000000e+00],\n",
       "       [7.01183646e-03, 3.55991993e-03, 5.62680770e-05, 1.84221065e-03,\n",
       "        1.07246271e-03, 2.26818089e-03, 3.26823707e-04],\n",
       "       [8.04935988e-03, 4.01347010e-03, 6.09271351e-05, 1.79852186e-03,\n",
       "        1.01592432e-03, 2.40819205e-03, 3.49211969e-04],\n",
       "       [4.42696389e-03, 2.79252497e-03, 4.06703605e-05, 1.50362253e-03,\n",
       "        9.78261648e-04, 1.67663371e-03, 2.36403460e-04],\n",
       "       [3.76035056e-02, 3.35015035e-03, 0.00000000e+00, 2.14803218e-04,\n",
       "        7.83836773e-03, 0.00000000e+00, 0.00000000e+00],\n",
       "       [1.11318690e-01, 2.01918212e-03, 4.55458563e-04, 3.25117414e-03,\n",
       "        1.29175765e-03, 2.71796676e-03, 1.08948606e-03],\n",
       "       [1.11528235e-01, 2.25019112e-02, 2.34526121e-03, 2.23249718e-02,\n",
       "        8.35887524e-03, 2.51512558e-02, 7.04550997e-03],\n",
       "       [4.57148896e-03, 4.43482014e-02, 9.83565356e-03, 1.03076419e-01,\n",
       "        1.17083944e-01, 4.30884363e-02, 3.68390314e-02],\n",
       "       [5.05669421e-02, 4.48691305e-03, 0.00000000e+00, 2.87617869e-04,\n",
       "        1.04954415e-02, 0.00000000e+00, 0.00000000e+00],\n",
       "       [4.73143090e-01, 5.72324885e-03, 1.89055286e-05, 1.83165253e-02,\n",
       "        1.64475017e-02, 7.17382211e-03, 4.69528146e-04],\n",
       "       [6.73993016e-02, 5.96727908e-03, 0.00000000e+00, 3.82276914e-04,\n",
       "        1.39496375e-02, 0.00000000e+00, 0.00000000e+00],\n",
       "       [1.94554290e-02, 1.76074415e-03, 0.00000000e+00, 1.12862708e-04,\n",
       "        4.11846440e-03, 0.00000000e+00, 0.00000000e+00],\n",
       "       [9.18784378e-06, 3.26330490e+00, 1.48627530e-05, 3.64073252e-05,\n",
       "        4.68341776e-06, 5.42543268e-05, 4.84578033e-05],\n",
       "       [2.78926050e-02, 2.50876119e-03, 0.00000000e+00, 1.60192231e-04,\n",
       "        5.84556238e-03, 0.00000000e+00, 0.00000000e+00],\n",
       "       [9.65199781e-02, 7.01965789e-01, 7.00556542e-02, 1.73310518e+00,\n",
       "        1.88213627e+00, 5.82257435e-01, 2.65125773e-01],\n",
       "       [9.76676915e-02, 4.03563213e-03, 2.64247480e-04, 4.91498890e-03,\n",
       "        4.67708294e-03, 4.52236066e-03, 9.67753345e-04],\n",
       "       [9.65044136e-02, 9.83510803e-03, 2.55050809e-03, 1.47242145e-01,\n",
       "        3.23722231e-02, 7.71986566e-02, 1.22875643e-02],\n",
       "       [9.65044556e-02, 9.86340172e-03, 2.55751932e-03, 1.47030983e-01,\n",
       "        3.24400416e-02, 7.72441602e-02, 1.23143231e-02],\n",
       "       [9.65786155e-02, 1.94518098e-03, 4.41759741e-04, 4.83125205e-02,\n",
       "        7.32069248e-03, 3.43132365e-02, 2.94959303e-03],\n",
       "       [9.65044496e-02, 9.85493147e-03, 2.55735154e-03, 1.47420541e-01,\n",
       "        3.24366900e-02, 7.73596694e-02, 1.23182548e-02],\n",
       "       [9.65044946e-02, 9.86195765e-03, 2.55837010e-03, 1.46488513e-01,\n",
       "        3.24037551e-02, 7.73264168e-02, 1.23185813e-02],\n",
       "       [1.08067519e-01, 7.78147976e-03, 8.58081739e-05, 3.05202607e-02,\n",
       "        2.10062385e-02, 1.81822000e-02, 1.04189892e-03],\n",
       "       [4.66705738e-02, 4.18138769e-03, 0.00000000e+00, 2.65773474e-04,\n",
       "        9.69831940e-03, 0.00000000e+00, 0.00000000e+00],\n",
       "       [1.08330771e-01, 4.29546910e-03, 6.88221773e-04, 1.68383879e-02,\n",
       "        1.17954429e-02, 1.01735613e-02, 2.26565409e-03],\n",
       "       [7.32297276e-02, 6.49481306e-03, 0.00000000e+00, 4.15043507e-04,\n",
       "        1.51453207e-02, 0.00000000e+00, 0.00000000e+00],\n",
       "       [1.08952643e-01, 2.43049199e-03, 3.15176348e-04, 1.14355408e-02,\n",
       "        7.28701182e-03, 7.33308481e-03, 1.35284700e-03],\n",
       "       [1.00157853e-01, 7.31495725e-03, 8.40818201e-05, 2.94244002e-02,\n",
       "        1.98138270e-02, 1.74961453e-02, 1.00892460e-03],\n",
       "       [7.95163572e-03, 2.09262332e-03, 2.15303300e-04, 3.64073252e-06,\n",
       "        2.30841444e-07, 1.92515353e-05, 6.44550456e-04],\n",
       "       [2.13485108e-01, 1.95017195e-03, 7.87726386e-06, 6.81909200e-03,\n",
       "        5.55419608e-03, 2.96648658e-03, 1.94741600e-04],\n",
       "       [3.24042256e-02, 3.06333548e-03, 0.00000000e+00, 1.89318091e-04,\n",
       "        7.04456172e-03, 0.00000000e+00, 0.00000000e+00],\n",
       "       [6.41205444e-03, 1.91969569e-03, 8.89691840e-05, 3.64073252e-06,\n",
       "        2.30841444e-07, 8.75069787e-06, 2.76106348e-04],\n",
       "       [1.08853986e-02, 4.13653663e-03, 1.62534640e-04, 3.86281720e-03,\n",
       "        4.98981983e-03, 1.91990311e-03, 5.04216132e-04]])"
      ]
     },
     "execution_count": 19,
     "metadata": {},
     "output_type": "execute_result"
    }
   ],
   "source": [
    "# Transform the suspicious data\n",
    "# Remember, we fitted on the train normal values\n",
    "# but we transform both the normal and suspicious values\n",
    "#   06 - Beginning Data Scaling\n",
    "df_suspicious = min_max_scaler.transform(df_suspicious.values)\n",
    "df_suspicious"
   ]
  },
  {
   "cell_type": "code",
   "execution_count": 20,
   "metadata": {},
   "outputs": [
    {
     "data": {
      "text/plain": [
       "(tensor([[1.7811e-04, 2.7320e-02, 3.0743e-07, 2.8390e-02, 5.1468e-02, 1.8530e-02,\n",
       "          7.3991e-04],\n",
       "         [3.2332e-03, 2.7170e-03, 0.0000e+00, 5.0970e-05, 5.9227e-04, 0.0000e+00,\n",
       "          0.0000e+00],\n",
       "         [6.5269e-03, 5.5717e-03, 0.0000e+00, 2.1844e-05, 2.5939e-04, 0.0000e+00,\n",
       "          0.0000e+00],\n",
       "         [3.9329e-03, 4.2995e-03, 1.7283e-04, 1.8204e-04, 7.0816e-03, 1.7501e-05,\n",
       "          3.4134e-04],\n",
       "         [4.2363e-03, 6.1739e-03, 5.2767e-04, 2.1844e-04, 1.3436e-02, 5.7755e-05,\n",
       "          1.6974e-03],\n",
       "         [4.4892e-04, 7.2133e-03, 9.7299e-05, 3.7135e-04, 1.7826e-02, 1.0501e-05,\n",
       "          3.0509e-04],\n",
       "         [2.8812e-04, 2.0740e-03, 4.5108e-06, 9.3203e-04, 1.4175e-03, 7.6831e-04,\n",
       "          5.5839e-05],\n",
       "         [8.9425e-02, 7.8935e-03, 0.0000e+00, 5.0606e-04, 1.8467e-02, 0.0000e+00,\n",
       "          0.0000e+00],\n",
       "         [4.7316e-02, 4.2026e-03, 0.0000e+00, 2.6941e-04, 9.8312e-03, 0.0000e+00,\n",
       "          0.0000e+00],\n",
       "         [4.0823e-02, 3.5851e-03, 0.0000e+00, 2.2937e-04, 8.3698e-03, 0.0000e+00,\n",
       "          0.0000e+00],\n",
       "         [2.8514e-02, 2.5549e-03, 0.0000e+00, 1.6383e-04, 5.9784e-03, 0.0000e+00,\n",
       "          0.0000e+00],\n",
       "         [5.2276e-03, 1.4069e-02, 3.4174e-07, 5.8070e-03, 1.1102e-02, 4.9686e-03,\n",
       "          3.0035e-04],\n",
       "         [3.1300e-03, 7.1065e-03, 3.4174e-07, 5.1262e-03, 1.0610e-02, 3.4618e-03,\n",
       "          2.4291e-04],\n",
       "         [6.6882e-03, 1.2919e-02, 3.4174e-07, 2.6468e-03, 5.4127e-03, 4.4121e-03,\n",
       "          2.4318e-04],\n",
       "         [2.0699e-03, 2.9981e-03, 3.4174e-07, 7.1722e-04, 1.3300e-03, 1.1323e-03,\n",
       "          5.9414e-05],\n",
       "         [3.6303e-02, 3.2402e-03, 0.0000e+00, 2.0752e-04, 7.5727e-03, 0.0000e+00,\n",
       "          0.0000e+00],\n",
       "         [3.0997e-02, 1.8204e-03, 3.1329e-06, 1.2451e-03, 1.6799e-03, 1.1516e-03,\n",
       "          7.3451e-05],\n",
       "         [6.2742e-03, 2.4621e-02, 3.4174e-07, 5.6868e-03, 1.0118e-02, 9.7203e-03,\n",
       "          5.2894e-04],\n",
       "         [6.4179e-03, 3.1643e-03, 0.0000e+00, 7.2815e-06, 2.7674e-05, 0.0000e+00,\n",
       "          0.0000e+00],\n",
       "         [3.6304e-02, 3.1876e-03, 0.0000e+00, 2.0388e-04, 7.4468e-03, 0.0000e+00,\n",
       "          0.0000e+00],\n",
       "         [2.9827e-02, 2.6663e-03, 0.0000e+00, 1.7111e-04, 6.2441e-03, 0.0000e+00,\n",
       "          0.0000e+00],\n",
       "         [2.2043e-02, 1.9861e-03, 0.0000e+00, 1.2743e-04, 4.6499e-03, 0.0000e+00,\n",
       "          0.0000e+00],\n",
       "         [2.3990e-02, 2.0441e-03, 0.0000e+00, 1.3107e-04, 4.7827e-03, 0.0000e+00,\n",
       "          0.0000e+00],\n",
       "         [6.0922e-02, 5.4095e-03, 0.0000e+00, 3.4587e-04, 1.2621e-02, 0.0000e+00,\n",
       "          0.0000e+00],\n",
       "         [6.4807e-02, 5.7516e-03, 0.0000e+00, 3.6771e-04, 1.3418e-02, 0.0000e+00,\n",
       "          0.0000e+00],\n",
       "         [1.0825e-01, 3.1806e-03, 5.8379e-04, 1.4985e-02, 9.3582e-03, 8.2607e-03,\n",
       "          2.1289e-03],\n",
       "         [1.0821e-01, 7.0749e-03, 1.0423e-04, 3.5315e-02, 2.0525e-02, 2.0326e-02,\n",
       "          1.2341e-03],\n",
       "         [4.4527e-02, 6.7032e-02, 3.2311e-03, 1.9817e-02, 2.9708e-02, 2.5801e-02,\n",
       "          8.0372e-03],\n",
       "         [2.1230e-03, 2.6212e-03, 3.5368e-05, 1.7330e-03, 1.4293e-03, 1.5086e-03,\n",
       "          2.0647e-04],\n",
       "         [9.7114e-03, 8.9542e-02, 2.0069e-02, 1.9882e-01, 2.3608e-01, 9.2617e-02,\n",
       "          7.5296e-02],\n",
       "         [2.3982e-02, 2.1627e-03, 0.0000e+00, 1.3835e-04, 5.0484e-03, 0.0000e+00,\n",
       "          0.0000e+00],\n",
       "         [1.0808e-01, 5.0768e-03, 7.4601e-05, 2.4236e-02, 1.4489e-02, 1.4257e-02,\n",
       "          8.5401e-04],\n",
       "         [2.9465e-03, 2.3472e-03, 3.0506e-05, 1.8604e-03, 1.6310e-03, 1.4789e-03,\n",
       "          1.8128e-04],\n",
       "         [4.7781e-03, 2.1269e-03, 3.9217e-05, 1.3871e-03, 8.7881e-04, 1.4281e-03,\n",
       "          2.1884e-04],\n",
       "         [7.9136e-03, 3.3419e-03, 6.6563e-05, 2.3738e-03, 1.5054e-03, 2.2594e-03,\n",
       "          3.5706e-04],\n",
       "         [4.8615e-02, 4.3302e-03, 0.0000e+00, 2.7670e-04, 1.0097e-02, 0.0000e+00,\n",
       "          0.0000e+00],\n",
       "         [7.0118e-03, 3.5599e-03, 5.6268e-05, 1.8422e-03, 1.0725e-03, 2.2682e-03,\n",
       "          3.2682e-04],\n",
       "         [8.0494e-03, 4.0135e-03, 6.0927e-05, 1.7985e-03, 1.0159e-03, 2.4082e-03,\n",
       "          3.4921e-04],\n",
       "         [4.4270e-03, 2.7925e-03, 4.0670e-05, 1.5036e-03, 9.7826e-04, 1.6766e-03,\n",
       "          2.3640e-04],\n",
       "         [3.7604e-02, 3.3502e-03, 0.0000e+00, 2.1480e-04, 7.8384e-03, 0.0000e+00,\n",
       "          0.0000e+00],\n",
       "         [1.1132e-01, 2.0192e-03, 4.5546e-04, 3.2512e-03, 1.2918e-03, 2.7180e-03,\n",
       "          1.0895e-03],\n",
       "         [1.1153e-01, 2.2502e-02, 2.3453e-03, 2.2325e-02, 8.3589e-03, 2.5151e-02,\n",
       "          7.0455e-03],\n",
       "         [4.5715e-03, 4.4348e-02, 9.8357e-03, 1.0308e-01, 1.1708e-01, 4.3088e-02,\n",
       "          3.6839e-02],\n",
       "         [5.0567e-02, 4.4869e-03, 0.0000e+00, 2.8762e-04, 1.0495e-02, 0.0000e+00,\n",
       "          0.0000e+00],\n",
       "         [4.7314e-01, 5.7232e-03, 1.8906e-05, 1.8317e-02, 1.6448e-02, 7.1738e-03,\n",
       "          4.6953e-04],\n",
       "         [6.7399e-02, 5.9673e-03, 0.0000e+00, 3.8228e-04, 1.3950e-02, 0.0000e+00,\n",
       "          0.0000e+00],\n",
       "         [1.9455e-02, 1.7607e-03, 0.0000e+00, 1.1286e-04, 4.1185e-03, 0.0000e+00,\n",
       "          0.0000e+00],\n",
       "         [9.1878e-06, 3.2633e+00, 1.4863e-05, 3.6407e-05, 4.6834e-06, 5.4254e-05,\n",
       "          4.8458e-05],\n",
       "         [2.7893e-02, 2.5088e-03, 0.0000e+00, 1.6019e-04, 5.8456e-03, 0.0000e+00,\n",
       "          0.0000e+00],\n",
       "         [9.6520e-02, 7.0197e-01, 7.0056e-02, 1.7331e+00, 1.8821e+00, 5.8226e-01,\n",
       "          2.6513e-01],\n",
       "         [9.7668e-02, 4.0356e-03, 2.6425e-04, 4.9150e-03, 4.6771e-03, 4.5224e-03,\n",
       "          9.6775e-04],\n",
       "         [9.6504e-02, 9.8351e-03, 2.5505e-03, 1.4724e-01, 3.2372e-02, 7.7199e-02,\n",
       "          1.2288e-02],\n",
       "         [9.6504e-02, 9.8634e-03, 2.5575e-03, 1.4703e-01, 3.2440e-02, 7.7244e-02,\n",
       "          1.2314e-02],\n",
       "         [9.6579e-02, 1.9452e-03, 4.4176e-04, 4.8313e-02, 7.3207e-03, 3.4313e-02,\n",
       "          2.9496e-03],\n",
       "         [9.6504e-02, 9.8549e-03, 2.5574e-03, 1.4742e-01, 3.2437e-02, 7.7360e-02,\n",
       "          1.2318e-02],\n",
       "         [9.6504e-02, 9.8620e-03, 2.5584e-03, 1.4649e-01, 3.2404e-02, 7.7326e-02,\n",
       "          1.2319e-02],\n",
       "         [1.0807e-01, 7.7815e-03, 8.5808e-05, 3.0520e-02, 2.1006e-02, 1.8182e-02,\n",
       "          1.0419e-03],\n",
       "         [4.6671e-02, 4.1814e-03, 0.0000e+00, 2.6577e-04, 9.6983e-03, 0.0000e+00,\n",
       "          0.0000e+00],\n",
       "         [1.0833e-01, 4.2955e-03, 6.8822e-04, 1.6838e-02, 1.1795e-02, 1.0174e-02,\n",
       "          2.2657e-03],\n",
       "         [7.3230e-02, 6.4948e-03, 0.0000e+00, 4.1504e-04, 1.5145e-02, 0.0000e+00,\n",
       "          0.0000e+00],\n",
       "         [1.0895e-01, 2.4305e-03, 3.1518e-04, 1.1436e-02, 7.2870e-03, 7.3331e-03,\n",
       "          1.3528e-03],\n",
       "         [1.0016e-01, 7.3150e-03, 8.4082e-05, 2.9424e-02, 1.9814e-02, 1.7496e-02,\n",
       "          1.0089e-03],\n",
       "         [7.9516e-03, 2.0926e-03, 2.1530e-04, 3.6407e-06, 2.3084e-07, 1.9252e-05,\n",
       "          6.4455e-04],\n",
       "         [2.1349e-01, 1.9502e-03, 7.8773e-06, 6.8191e-03, 5.5542e-03, 2.9665e-03,\n",
       "          1.9474e-04],\n",
       "         [3.2404e-02, 3.0633e-03, 0.0000e+00, 1.8932e-04, 7.0446e-03, 0.0000e+00,\n",
       "          0.0000e+00],\n",
       "         [6.4121e-03, 1.9197e-03, 8.8969e-05, 3.6407e-06, 2.3084e-07, 8.7507e-06,\n",
       "          2.7611e-04],\n",
       "         [1.0885e-02, 4.1365e-03, 1.6253e-04, 3.8628e-03, 4.9898e-03, 1.9199e-03,\n",
       "          5.0422e-04]]),\n",
       " torch.Tensor)"
      ]
     },
     "execution_count": 20,
     "metadata": {},
     "output_type": "execute_result"
    }
   ],
   "source": [
    "# Converting the suspicious data to a torch tensor also\n",
    "df_suspicious = torch.tensor(df_suspicious, dtype=torch.float32)\n",
    "df_suspicious, type(df_suspicious)"
   ]
  },
  {
   "attachments": {},
   "cell_type": "markdown",
   "metadata": {},
   "source": [
    "In this notebook, I'm using model subclassing as in another notebook, I<br>\n",
    "use the Sequential model, while in another the Functional model <br>\n",
    "&emsp;&emsp; - 15 - Beginning Deep Learning, - Linear Regression, PyTorch <br>\n",
    "&emsp;&emsp; - 17 - Beginning Deep Learning, - Classification, Pytorch <br>\n",
    "&emsp;&emsp; - 20 - Beginning Deep Learning, - Convolution Networks, PyTorch <br>\n"
   ]
  },
  {
   "cell_type": "code",
   "execution_count": null,
   "metadata": {},
   "outputs": [],
   "source": []
  },
  {
   "cell_type": "code",
   "execution_count": 21,
   "metadata": {},
   "outputs": [],
   "source": [
    "# Setup the class by subclassing\n",
    "# \n",
    "class AnomalyDetection(torch.nn.Module):\n",
    "    ''' Using model subclassing to build the autoencoder'''\n",
    "    def __init__(self):\n",
    "        ''' Setups the constructor '''\n",
    "        super(AnomalyDetection, self).__init__()\n",
    "        \n",
    "        # Setup the encoder\n",
    "        # This compresses the input into it's latent representation\n",
    "        self.encoder =  torch.nn.Sequential( \n",
    "                        # Initializer the bias and weights to 0\n",
    "                        # This is just to aid with predictability of this notebook output\n",
    "                        torch.nn.Linear(in_features=7, out_features=4, bias=True),\n",
    "\n",
    "                        # Apply the activation funtion\n",
    "                        torch.nn.ReLU(),\n",
    "                        torch.nn.Linear(in_features=4, out_features=2)\n",
    "                        )\n",
    "                  \n",
    "        # Setup the decoder\n",
    "        # This takes the two units in the latent space and reconstructs the data into the output layer\n",
    "        # Keep in mind the output is a lossy reconstruction of the original input\n",
    "        # https://www.adobe.com/uk/creativecloud/photography/discover/lossy-vs-lossless.html\n",
    "        # Lossy meaning we should not expect the input to be an exact match of the output\n",
    "        self.decoder = torch.nn.Sequential(\n",
    "                        torch.nn.Linear(in_features=2, out_features=4),\n",
    "                        torch.nn.ReLU(),\n",
    "                        torch.nn.Linear(in_features=4, out_features=7),\n",
    "                        \n",
    "                        # Remember, our data was scaled between 0 and 1\n",
    "                        # To get our output between 0 and 1, we need Sigmoid Activation function\n",
    "                        # See\n",
    "                        #   10. Beginning Supervise Learning - Machine Learning - Logistic Regression, Decision Trees and Metrics\n",
    "                        torch.nn.Sigmoid()\n",
    "                )\n",
    "\n",
    "\n",
    "    def forward(self, x):\n",
    "        ''' Encode and decode the data '''\n",
    "        encoded_data = self.encoder(x)\n",
    "        decoded_data = self.decoder(encoded_data)\n",
    "        return decoded_data"
   ]
  },
  {
   "cell_type": "code",
   "execution_count": 22,
   "metadata": {},
   "outputs": [
    {
     "data": {
      "text/plain": [
       "AnomalyDetection(\n",
       "  (encoder): Sequential(\n",
       "    (0): Linear(in_features=7, out_features=4, bias=True)\n",
       "    (1): ReLU()\n",
       "    (2): Linear(in_features=4, out_features=2, bias=True)\n",
       "  )\n",
       "  (decoder): Sequential(\n",
       "    (0): Linear(in_features=2, out_features=4, bias=True)\n",
       "    (1): ReLU()\n",
       "    (2): Linear(in_features=4, out_features=7, bias=True)\n",
       "    (3): Sigmoid()\n",
       "  )\n",
       ")"
      ]
     },
     "execution_count": 22,
     "metadata": {},
     "output_type": "execute_result"
    }
   ],
   "source": [
    "# Instantiate the class\n",
    "autoencoder = AnomalyDetection()\n",
    "\n",
    "# Get a view of our model\n",
    "autoencoder"
   ]
  },
  {
   "cell_type": "code",
   "execution_count": 23,
   "metadata": {},
   "outputs": [],
   "source": [
    "# Prepare to get the model summary via a different view\n",
    "# https://pypi.org/project/torch-summary/\n",
    "from torchinfo import summary"
   ]
  },
  {
   "cell_type": "code",
   "execution_count": 24,
   "metadata": {},
   "outputs": [
    {
     "data": {
      "text/plain": [
       "=================================================================\n",
       "Layer (type:depth-idx)                   Param #\n",
       "=================================================================\n",
       "AnomalyDetection                         --\n",
       "├─Sequential: 1-1                        --\n",
       "│    └─Linear: 2-1                       32\n",
       "│    └─ReLU: 2-2                         --\n",
       "│    └─Linear: 2-3                       10\n",
       "├─Sequential: 1-2                        --\n",
       "│    └─Linear: 2-4                       12\n",
       "│    └─ReLU: 2-5                         --\n",
       "│    └─Linear: 2-6                       35\n",
       "│    └─Sigmoid: 2-7                      --\n",
       "=================================================================\n",
       "Total params: 89\n",
       "Trainable params: 89\n",
       "Non-trainable params: 0\n",
       "================================================================="
      ]
     },
     "execution_count": 24,
     "metadata": {},
     "output_type": "execute_result"
    }
   ],
   "source": [
    "# Get the summary of the model using torchinfo summary\n",
    "summary(model=autoencoder, depth=5)"
   ]
  },
  {
   "cell_type": "code",
   "execution_count": 25,
   "metadata": {},
   "outputs": [],
   "source": [
    "# Prepare to visualize the model\n",
    "# https://github.com/mert-kurttutan/torchview\n",
    "from torchview import draw_graph"
   ]
  },
  {
   "cell_type": "code",
   "execution_count": 26,
   "metadata": {},
   "outputs": [
    {
     "name": "stderr",
     "output_type": "stream",
     "text": [
      "\n",
      "(dot.exe:19516): Pango-WARNING **: couldn't load font \"Linux libertine Not-Rotated 10\", falling back to \"Sans Not-Rotated 10\", expect ugly output.\n"
     ]
    },
    {
     "data": {
      "image/svg+xml": [
       "<?xml version=\"1.0\" encoding=\"UTF-8\" standalone=\"no\"?>\n",
       "<!DOCTYPE svg PUBLIC \"-//W3C//DTD SVG 1.1//EN\"\n",
       " \"http://www.w3.org/Graphics/SVG/1.1/DTD/svg11.dtd\">\n",
       "<!-- Generated by graphviz version 6.0.2 (20221011.1828)\n",
       " -->\n",
       "<!-- Title: torch_autoencoder Pages: 1 -->\n",
       "<svg width=\"208pt\" height=\"1207pt\"\n",
       " viewBox=\"0.00 0.00 208.00 1207.00\" xmlns=\"http://www.w3.org/2000/svg\" xmlns:xlink=\"http://www.w3.org/1999/xlink\">\n",
       "<g id=\"graph0\" class=\"graph\" transform=\"scale(1 1) rotate(0) translate(4 1203)\">\n",
       "<title>torch_autoencoder</title>\n",
       "<polygon fill=\"white\" stroke=\"none\" points=\"-4,4 -4,-1203 204,-1203 204,4 -4,4\"/>\n",
       "<g id=\"clust1\" class=\"cluster\">\n",
       "<title>cluster_2</title>\n",
       "<polygon fill=\"none\" stroke=\"black\" stroke-dasharray=\"5,2\" points=\"8,-665 8,-1159 192,-1159 192,-665 8,-665\"/>\n",
       "<text text-anchor=\"middle\" x=\"39.5\" y=\"-1145.4\" font-family=\"Times New Roman,serif\" font-size=\"12.00\">Sequential</text>\n",
       "</g>\n",
       "<g id=\"clust2\" class=\"cluster\">\n",
       "<title>cluster_3</title>\n",
       "<polygon fill=\"none\" stroke=\"black\" stroke-dasharray=\"5,2\" points=\"16,-983 16,-1130 184,-1130 184,-983 16,-983\"/>\n",
       "<text text-anchor=\"middle\" x=\"38.5\" y=\"-1116.4\" font-family=\"Times New Roman,serif\" font-size=\"12.00\">Linear</text>\n",
       "</g>\n",
       "<g id=\"clust3\" class=\"cluster\">\n",
       "<title>cluster_4</title>\n",
       "<polygon fill=\"none\" stroke=\"black\" stroke-dasharray=\"5,2\" points=\"16,-828 16,-975 184,-975 184,-828 16,-828\"/>\n",
       "<text text-anchor=\"middle\" x=\"38\" y=\"-961.4\" font-family=\"Times New Roman,serif\" font-size=\"12.00\">ReLU</text>\n",
       "</g>\n",
       "<g id=\"clust4\" class=\"cluster\">\n",
       "<title>cluster_5</title>\n",
       "<polygon fill=\"none\" stroke=\"black\" stroke-dasharray=\"5,2\" points=\"16,-673 16,-820 184,-820 184,-673 16,-673\"/>\n",
       "<text text-anchor=\"middle\" x=\"38.5\" y=\"-806.4\" font-family=\"Times New Roman,serif\" font-size=\"12.00\">Linear</text>\n",
       "</g>\n",
       "<g id=\"clust5\" class=\"cluster\">\n",
       "<title>cluster_6</title>\n",
       "<polygon fill=\"none\" stroke=\"black\" stroke-dasharray=\"5,2\" points=\"8,-8 8,-657 192,-657 192,-8 8,-8\"/>\n",
       "<text text-anchor=\"middle\" x=\"39.5\" y=\"-643.4\" font-family=\"Times New Roman,serif\" font-size=\"12.00\">Sequential</text>\n",
       "</g>\n",
       "<g id=\"clust7\" class=\"cluster\">\n",
       "<title>cluster_8</title>\n",
       "<polygon fill=\"none\" stroke=\"black\" stroke-dasharray=\"5,2\" points=\"16,-326 16,-473 184,-473 184,-326 16,-326\"/>\n",
       "<text text-anchor=\"middle\" x=\"38\" y=\"-459.4\" font-family=\"Times New Roman,serif\" font-size=\"12.00\">ReLU</text>\n",
       "</g>\n",
       "<g id=\"clust6\" class=\"cluster\">\n",
       "<title>cluster_7</title>\n",
       "<polygon fill=\"none\" stroke=\"black\" stroke-dasharray=\"5,2\" points=\"16,-481 16,-628 184,-628 184,-481 16,-481\"/>\n",
       "<text text-anchor=\"middle\" x=\"38.5\" y=\"-614.4\" font-family=\"Times New Roman,serif\" font-size=\"12.00\">Linear</text>\n",
       "</g>\n",
       "<g id=\"clust9\" class=\"cluster\">\n",
       "<title>cluster_10</title>\n",
       "<polygon fill=\"none\" stroke=\"black\" stroke-dasharray=\"5,2\" points=\"16,-16 16,-163 184,-163 184,-16 16,-16\"/>\n",
       "<text text-anchor=\"middle\" x=\"42.5\" y=\"-149.4\" font-family=\"Times New Roman,serif\" font-size=\"12.00\">Sigmoid</text>\n",
       "</g>\n",
       "<g id=\"clust8\" class=\"cluster\">\n",
       "<title>cluster_9</title>\n",
       "<polygon fill=\"none\" stroke=\"black\" stroke-dasharray=\"5,2\" points=\"16,-171 16,-318 184,-318 184,-171 16,-171\"/>\n",
       "<text text-anchor=\"middle\" x=\"38.5\" y=\"-304.4\" font-family=\"Times New Roman,serif\" font-size=\"12.00\">Linear</text>\n",
       "</g>\n",
       "<!-- 0 -->\n",
       "<g id=\"node1\" class=\"node\">\n",
       "<title>0</title>\n",
       "<polygon fill=\"lightyellow\" stroke=\"none\" points=\"161.5,-1199 38.5,-1199 38.5,-1167 161.5,-1167 161.5,-1199\"/>\n",
       "<polygon fill=\"none\" stroke=\"black\" points=\"39,-1167 39,-1199 101,-1199 101,-1167 39,-1167\"/>\n",
       "<text text-anchor=\"start\" x=\"44\" y=\"-1186\" font-family=\"Linux libertine\" font-size=\"10.00\">input&#45;tensor</text>\n",
       "<text text-anchor=\"start\" x=\"53\" y=\"-1175\" font-family=\"Linux libertine\" font-size=\"10.00\">depth:0</text>\n",
       "<polygon fill=\"none\" stroke=\"black\" points=\"101,-1167 101,-1199 162,-1199 162,-1167 101,-1167\"/>\n",
       "<text text-anchor=\"start\" x=\"106\" y=\"-1180.5\" font-family=\"Linux libertine\" font-size=\"10.00\">(207541, 7)</text>\n",
       "</g>\n",
       "<!-- 1 -->\n",
       "<g id=\"node2\" class=\"node\">\n",
       "<title>1</title>\n",
       "<polygon fill=\"aliceblue\" stroke=\"none\" points=\"176,-1101 24,-1101 24,-1059 176,-1059 176,-1101\"/>\n",
       "<polygon fill=\"none\" stroke=\"black\" points=\"24,-1059 24,-1101 68,-1101 68,-1059 24,-1059\"/>\n",
       "<text text-anchor=\"start\" x=\"33.5\" y=\"-1083\" font-family=\"Linux libertine\" font-size=\"10.00\">linear</text>\n",
       "<text text-anchor=\"start\" x=\"29\" y=\"-1072\" font-family=\"Linux libertine\" font-size=\"10.00\">depth:3</text>\n",
       "<polygon fill=\"none\" stroke=\"black\" points=\"68,-1080 68,-1101 112,-1101 112,-1080 68,-1080\"/>\n",
       "<text text-anchor=\"start\" x=\"77.5\" y=\"-1088\" font-family=\"Linux libertine\" font-size=\"10.00\">input:</text>\n",
       "<polygon fill=\"none\" stroke=\"black\" points=\"112,-1080 112,-1101 176,-1101 176,-1080 112,-1080\"/>\n",
       "<text text-anchor=\"start\" x=\"117\" y=\"-1088\" font-family=\"Linux libertine\" font-size=\"10.00\">(207541, 7) </text>\n",
       "<polygon fill=\"none\" stroke=\"black\" points=\"68,-1059 68,-1080 112,-1080 112,-1059 68,-1059\"/>\n",
       "<text text-anchor=\"start\" x=\"73\" y=\"-1067\" font-family=\"Linux libertine\" font-size=\"10.00\">output: </text>\n",
       "<polygon fill=\"none\" stroke=\"black\" points=\"112,-1059 112,-1080 176,-1080 176,-1059 112,-1059\"/>\n",
       "<text text-anchor=\"start\" x=\"117\" y=\"-1067\" font-family=\"Linux libertine\" font-size=\"10.00\">(207541, 4) </text>\n",
       "</g>\n",
       "<!-- 0&#45;&gt;1 -->\n",
       "<g id=\"edge1\" class=\"edge\">\n",
       "<title>0&#45;&gt;1</title>\n",
       "<path fill=\"none\" stroke=\"black\" d=\"M100,-1166.66C100,-1151.99 100,-1129.46 100,-1111.19\"/>\n",
       "<polygon fill=\"black\" stroke=\"black\" points=\"103.5,-1111.02 100,-1101.02 96.5,-1111.02 103.5,-1111.02\"/>\n",
       "</g>\n",
       "<!-- 2 -->\n",
       "<g id=\"node3\" class=\"node\">\n",
       "<title>2</title>\n",
       "<polygon fill=\"lightyellow\" stroke=\"none\" points=\"165.5,-1023 34.5,-1023 34.5,-991 165.5,-991 165.5,-1023\"/>\n",
       "<polygon fill=\"none\" stroke=\"black\" points=\"35,-991 35,-1023 105,-1023 105,-991 35,-991\"/>\n",
       "<text text-anchor=\"start\" x=\"40\" y=\"-1010\" font-family=\"Linux libertine\" font-size=\"10.00\">hidden&#45;tensor</text>\n",
       "<text text-anchor=\"start\" x=\"53\" y=\"-999\" font-family=\"Linux libertine\" font-size=\"10.00\">depth:2</text>\n",
       "<polygon fill=\"none\" stroke=\"black\" points=\"105,-991 105,-1023 166,-1023 166,-991 105,-991\"/>\n",
       "<text text-anchor=\"start\" x=\"110\" y=\"-1004.5\" font-family=\"Linux libertine\" font-size=\"10.00\">(207541, 4)</text>\n",
       "</g>\n",
       "<!-- 1&#45;&gt;2 -->\n",
       "<g id=\"edge2\" class=\"edge\">\n",
       "<title>1&#45;&gt;2</title>\n",
       "<path fill=\"none\" stroke=\"black\" d=\"M100,-1058.84C100,-1050.89 100,-1041.66 100,-1033.26\"/>\n",
       "<polygon fill=\"black\" stroke=\"black\" points=\"103.5,-1033.24 100,-1023.24 96.5,-1033.24 103.5,-1033.24\"/>\n",
       "</g>\n",
       "<!-- 3 -->\n",
       "<g id=\"node4\" class=\"node\">\n",
       "<title>3</title>\n",
       "<polygon fill=\"aliceblue\" stroke=\"none\" points=\"176,-946 24,-946 24,-904 176,-904 176,-946\"/>\n",
       "<polygon fill=\"none\" stroke=\"black\" points=\"24,-904 24,-946 68,-946 68,-904 24,-904\"/>\n",
       "<text text-anchor=\"start\" x=\"37.5\" y=\"-928\" font-family=\"Linux libertine\" font-size=\"10.00\">relu</text>\n",
       "<text text-anchor=\"start\" x=\"29\" y=\"-917\" font-family=\"Linux libertine\" font-size=\"10.00\">depth:3</text>\n",
       "<polygon fill=\"none\" stroke=\"black\" points=\"68,-925 68,-946 112,-946 112,-925 68,-925\"/>\n",
       "<text text-anchor=\"start\" x=\"77.5\" y=\"-933\" font-family=\"Linux libertine\" font-size=\"10.00\">input:</text>\n",
       "<polygon fill=\"none\" stroke=\"black\" points=\"112,-925 112,-946 176,-946 176,-925 112,-925\"/>\n",
       "<text text-anchor=\"start\" x=\"117\" y=\"-933\" font-family=\"Linux libertine\" font-size=\"10.00\">(207541, 4) </text>\n",
       "<polygon fill=\"none\" stroke=\"black\" points=\"68,-904 68,-925 112,-925 112,-904 68,-904\"/>\n",
       "<text text-anchor=\"start\" x=\"73\" y=\"-912\" font-family=\"Linux libertine\" font-size=\"10.00\">output: </text>\n",
       "<polygon fill=\"none\" stroke=\"black\" points=\"112,-904 112,-925 176,-925 176,-904 112,-904\"/>\n",
       "<text text-anchor=\"start\" x=\"117\" y=\"-912\" font-family=\"Linux libertine\" font-size=\"10.00\">(207541, 4) </text>\n",
       "</g>\n",
       "<!-- 2&#45;&gt;3 -->\n",
       "<g id=\"edge3\" class=\"edge\">\n",
       "<title>2&#45;&gt;3</title>\n",
       "<path fill=\"none\" stroke=\"black\" d=\"M100,-990.95C100,-981.15 100,-968.02 100,-956.13\"/>\n",
       "<polygon fill=\"black\" stroke=\"black\" points=\"103.5,-956.12 100,-946.12 96.5,-956.12 103.5,-956.12\"/>\n",
       "</g>\n",
       "<!-- 4 -->\n",
       "<g id=\"node5\" class=\"node\">\n",
       "<title>4</title>\n",
       "<polygon fill=\"lightyellow\" stroke=\"none\" points=\"165.5,-868 34.5,-868 34.5,-836 165.5,-836 165.5,-868\"/>\n",
       "<polygon fill=\"none\" stroke=\"black\" points=\"35,-836 35,-868 105,-868 105,-836 35,-836\"/>\n",
       "<text text-anchor=\"start\" x=\"40\" y=\"-855\" font-family=\"Linux libertine\" font-size=\"10.00\">hidden&#45;tensor</text>\n",
       "<text text-anchor=\"start\" x=\"53\" y=\"-844\" font-family=\"Linux libertine\" font-size=\"10.00\">depth:2</text>\n",
       "<polygon fill=\"none\" stroke=\"black\" points=\"105,-836 105,-868 166,-868 166,-836 105,-836\"/>\n",
       "<text text-anchor=\"start\" x=\"110\" y=\"-849.5\" font-family=\"Linux libertine\" font-size=\"10.00\">(207541, 4)</text>\n",
       "</g>\n",
       "<!-- 3&#45;&gt;4 -->\n",
       "<g id=\"edge4\" class=\"edge\">\n",
       "<title>3&#45;&gt;4</title>\n",
       "<path fill=\"none\" stroke=\"black\" d=\"M100,-903.84C100,-895.89 100,-886.66 100,-878.26\"/>\n",
       "<polygon fill=\"black\" stroke=\"black\" points=\"103.5,-878.24 100,-868.24 96.5,-878.24 103.5,-878.24\"/>\n",
       "</g>\n",
       "<!-- 5 -->\n",
       "<g id=\"node6\" class=\"node\">\n",
       "<title>5</title>\n",
       "<polygon fill=\"aliceblue\" stroke=\"none\" points=\"176,-791 24,-791 24,-749 176,-749 176,-791\"/>\n",
       "<polygon fill=\"none\" stroke=\"black\" points=\"24,-749 24,-791 68,-791 68,-749 24,-749\"/>\n",
       "<text text-anchor=\"start\" x=\"33.5\" y=\"-773\" font-family=\"Linux libertine\" font-size=\"10.00\">linear</text>\n",
       "<text text-anchor=\"start\" x=\"29\" y=\"-762\" font-family=\"Linux libertine\" font-size=\"10.00\">depth:3</text>\n",
       "<polygon fill=\"none\" stroke=\"black\" points=\"68,-770 68,-791 112,-791 112,-770 68,-770\"/>\n",
       "<text text-anchor=\"start\" x=\"77.5\" y=\"-778\" font-family=\"Linux libertine\" font-size=\"10.00\">input:</text>\n",
       "<polygon fill=\"none\" stroke=\"black\" points=\"112,-770 112,-791 176,-791 176,-770 112,-770\"/>\n",
       "<text text-anchor=\"start\" x=\"117\" y=\"-778\" font-family=\"Linux libertine\" font-size=\"10.00\">(207541, 4) </text>\n",
       "<polygon fill=\"none\" stroke=\"black\" points=\"68,-749 68,-770 112,-770 112,-749 68,-749\"/>\n",
       "<text text-anchor=\"start\" x=\"73\" y=\"-757\" font-family=\"Linux libertine\" font-size=\"10.00\">output: </text>\n",
       "<polygon fill=\"none\" stroke=\"black\" points=\"112,-749 112,-770 176,-770 176,-749 112,-749\"/>\n",
       "<text text-anchor=\"start\" x=\"117\" y=\"-757\" font-family=\"Linux libertine\" font-size=\"10.00\">(207541, 2) </text>\n",
       "</g>\n",
       "<!-- 4&#45;&gt;5 -->\n",
       "<g id=\"edge5\" class=\"edge\">\n",
       "<title>4&#45;&gt;5</title>\n",
       "<path fill=\"none\" stroke=\"black\" d=\"M100,-835.95C100,-826.15 100,-813.02 100,-801.13\"/>\n",
       "<polygon fill=\"black\" stroke=\"black\" points=\"103.5,-801.12 100,-791.12 96.5,-801.12 103.5,-801.12\"/>\n",
       "</g>\n",
       "<!-- 6 -->\n",
       "<g id=\"node7\" class=\"node\">\n",
       "<title>6</title>\n",
       "<polygon fill=\"lightyellow\" stroke=\"none\" points=\"165.5,-713 34.5,-713 34.5,-681 165.5,-681 165.5,-713\"/>\n",
       "<polygon fill=\"none\" stroke=\"black\" points=\"35,-681 35,-713 105,-713 105,-681 35,-681\"/>\n",
       "<text text-anchor=\"start\" x=\"40\" y=\"-700\" font-family=\"Linux libertine\" font-size=\"10.00\">hidden&#45;tensor</text>\n",
       "<text text-anchor=\"start\" x=\"53\" y=\"-689\" font-family=\"Linux libertine\" font-size=\"10.00\">depth:1</text>\n",
       "<polygon fill=\"none\" stroke=\"black\" points=\"105,-681 105,-713 166,-713 166,-681 105,-681\"/>\n",
       "<text text-anchor=\"start\" x=\"110\" y=\"-694.5\" font-family=\"Linux libertine\" font-size=\"10.00\">(207541, 2)</text>\n",
       "</g>\n",
       "<!-- 5&#45;&gt;6 -->\n",
       "<g id=\"edge6\" class=\"edge\">\n",
       "<title>5&#45;&gt;6</title>\n",
       "<path fill=\"none\" stroke=\"black\" d=\"M100,-748.84C100,-740.89 100,-731.66 100,-723.26\"/>\n",
       "<polygon fill=\"black\" stroke=\"black\" points=\"103.5,-723.24 100,-713.24 96.5,-723.24 103.5,-723.24\"/>\n",
       "</g>\n",
       "<!-- 7 -->\n",
       "<g id=\"node8\" class=\"node\">\n",
       "<title>7</title>\n",
       "<polygon fill=\"aliceblue\" stroke=\"none\" points=\"176,-599 24,-599 24,-557 176,-557 176,-599\"/>\n",
       "<polygon fill=\"none\" stroke=\"black\" points=\"24,-557 24,-599 68,-599 68,-557 24,-557\"/>\n",
       "<text text-anchor=\"start\" x=\"33.5\" y=\"-581\" font-family=\"Linux libertine\" font-size=\"10.00\">linear</text>\n",
       "<text text-anchor=\"start\" x=\"29\" y=\"-570\" font-family=\"Linux libertine\" font-size=\"10.00\">depth:3</text>\n",
       "<polygon fill=\"none\" stroke=\"black\" points=\"68,-578 68,-599 112,-599 112,-578 68,-578\"/>\n",
       "<text text-anchor=\"start\" x=\"77.5\" y=\"-586\" font-family=\"Linux libertine\" font-size=\"10.00\">input:</text>\n",
       "<polygon fill=\"none\" stroke=\"black\" points=\"112,-578 112,-599 176,-599 176,-578 112,-578\"/>\n",
       "<text text-anchor=\"start\" x=\"117\" y=\"-586\" font-family=\"Linux libertine\" font-size=\"10.00\">(207541, 2) </text>\n",
       "<polygon fill=\"none\" stroke=\"black\" points=\"68,-557 68,-578 112,-578 112,-557 68,-557\"/>\n",
       "<text text-anchor=\"start\" x=\"73\" y=\"-565\" font-family=\"Linux libertine\" font-size=\"10.00\">output: </text>\n",
       "<polygon fill=\"none\" stroke=\"black\" points=\"112,-557 112,-578 176,-578 176,-557 112,-557\"/>\n",
       "<text text-anchor=\"start\" x=\"117\" y=\"-565\" font-family=\"Linux libertine\" font-size=\"10.00\">(207541, 4) </text>\n",
       "</g>\n",
       "<!-- 6&#45;&gt;7 -->\n",
       "<g id=\"edge7\" class=\"edge\">\n",
       "<title>6&#45;&gt;7</title>\n",
       "<path fill=\"none\" stroke=\"black\" d=\"M100,-680.7C100,-662.63 100,-632.12 100,-609.23\"/>\n",
       "<polygon fill=\"black\" stroke=\"black\" points=\"103.5,-609 100,-599 96.5,-609 103.5,-609\"/>\n",
       "</g>\n",
       "<!-- 8 -->\n",
       "<g id=\"node9\" class=\"node\">\n",
       "<title>8</title>\n",
       "<polygon fill=\"lightyellow\" stroke=\"none\" points=\"165.5,-521 34.5,-521 34.5,-489 165.5,-489 165.5,-521\"/>\n",
       "<polygon fill=\"none\" stroke=\"black\" points=\"35,-489 35,-521 105,-521 105,-489 35,-489\"/>\n",
       "<text text-anchor=\"start\" x=\"40\" y=\"-508\" font-family=\"Linux libertine\" font-size=\"10.00\">hidden&#45;tensor</text>\n",
       "<text text-anchor=\"start\" x=\"53\" y=\"-497\" font-family=\"Linux libertine\" font-size=\"10.00\">depth:2</text>\n",
       "<polygon fill=\"none\" stroke=\"black\" points=\"105,-489 105,-521 166,-521 166,-489 105,-489\"/>\n",
       "<text text-anchor=\"start\" x=\"110\" y=\"-502.5\" font-family=\"Linux libertine\" font-size=\"10.00\">(207541, 4)</text>\n",
       "</g>\n",
       "<!-- 7&#45;&gt;8 -->\n",
       "<g id=\"edge8\" class=\"edge\">\n",
       "<title>7&#45;&gt;8</title>\n",
       "<path fill=\"none\" stroke=\"black\" d=\"M100,-556.84C100,-548.89 100,-539.66 100,-531.26\"/>\n",
       "<polygon fill=\"black\" stroke=\"black\" points=\"103.5,-531.24 100,-521.24 96.5,-531.24 103.5,-531.24\"/>\n",
       "</g>\n",
       "<!-- 9 -->\n",
       "<g id=\"node10\" class=\"node\">\n",
       "<title>9</title>\n",
       "<polygon fill=\"aliceblue\" stroke=\"none\" points=\"176,-444 24,-444 24,-402 176,-402 176,-444\"/>\n",
       "<polygon fill=\"none\" stroke=\"black\" points=\"24,-402 24,-444 68,-444 68,-402 24,-402\"/>\n",
       "<text text-anchor=\"start\" x=\"37.5\" y=\"-426\" font-family=\"Linux libertine\" font-size=\"10.00\">relu</text>\n",
       "<text text-anchor=\"start\" x=\"29\" y=\"-415\" font-family=\"Linux libertine\" font-size=\"10.00\">depth:3</text>\n",
       "<polygon fill=\"none\" stroke=\"black\" points=\"68,-423 68,-444 112,-444 112,-423 68,-423\"/>\n",
       "<text text-anchor=\"start\" x=\"77.5\" y=\"-431\" font-family=\"Linux libertine\" font-size=\"10.00\">input:</text>\n",
       "<polygon fill=\"none\" stroke=\"black\" points=\"112,-423 112,-444 176,-444 176,-423 112,-423\"/>\n",
       "<text text-anchor=\"start\" x=\"117\" y=\"-431\" font-family=\"Linux libertine\" font-size=\"10.00\">(207541, 4) </text>\n",
       "<polygon fill=\"none\" stroke=\"black\" points=\"68,-402 68,-423 112,-423 112,-402 68,-402\"/>\n",
       "<text text-anchor=\"start\" x=\"73\" y=\"-410\" font-family=\"Linux libertine\" font-size=\"10.00\">output: </text>\n",
       "<polygon fill=\"none\" stroke=\"black\" points=\"112,-402 112,-423 176,-423 176,-402 112,-402\"/>\n",
       "<text text-anchor=\"start\" x=\"117\" y=\"-410\" font-family=\"Linux libertine\" font-size=\"10.00\">(207541, 4) </text>\n",
       "</g>\n",
       "<!-- 8&#45;&gt;9 -->\n",
       "<g id=\"edge9\" class=\"edge\">\n",
       "<title>8&#45;&gt;9</title>\n",
       "<path fill=\"none\" stroke=\"black\" d=\"M100,-488.95C100,-479.15 100,-466.02 100,-454.13\"/>\n",
       "<polygon fill=\"black\" stroke=\"black\" points=\"103.5,-454.12 100,-444.12 96.5,-454.12 103.5,-454.12\"/>\n",
       "</g>\n",
       "<!-- 10 -->\n",
       "<g id=\"node11\" class=\"node\">\n",
       "<title>10</title>\n",
       "<polygon fill=\"lightyellow\" stroke=\"none\" points=\"165.5,-366 34.5,-366 34.5,-334 165.5,-334 165.5,-366\"/>\n",
       "<polygon fill=\"none\" stroke=\"black\" points=\"35,-334 35,-366 105,-366 105,-334 35,-334\"/>\n",
       "<text text-anchor=\"start\" x=\"40\" y=\"-353\" font-family=\"Linux libertine\" font-size=\"10.00\">hidden&#45;tensor</text>\n",
       "<text text-anchor=\"start\" x=\"53\" y=\"-342\" font-family=\"Linux libertine\" font-size=\"10.00\">depth:2</text>\n",
       "<polygon fill=\"none\" stroke=\"black\" points=\"105,-334 105,-366 166,-366 166,-334 105,-334\"/>\n",
       "<text text-anchor=\"start\" x=\"110\" y=\"-347.5\" font-family=\"Linux libertine\" font-size=\"10.00\">(207541, 4)</text>\n",
       "</g>\n",
       "<!-- 9&#45;&gt;10 -->\n",
       "<g id=\"edge10\" class=\"edge\">\n",
       "<title>9&#45;&gt;10</title>\n",
       "<path fill=\"none\" stroke=\"black\" d=\"M100,-401.84C100,-393.89 100,-384.66 100,-376.26\"/>\n",
       "<polygon fill=\"black\" stroke=\"black\" points=\"103.5,-376.24 100,-366.24 96.5,-376.24 103.5,-376.24\"/>\n",
       "</g>\n",
       "<!-- 11 -->\n",
       "<g id=\"node12\" class=\"node\">\n",
       "<title>11</title>\n",
       "<polygon fill=\"aliceblue\" stroke=\"none\" points=\"176,-289 24,-289 24,-247 176,-247 176,-289\"/>\n",
       "<polygon fill=\"none\" stroke=\"black\" points=\"24,-247 24,-289 68,-289 68,-247 24,-247\"/>\n",
       "<text text-anchor=\"start\" x=\"33.5\" y=\"-271\" font-family=\"Linux libertine\" font-size=\"10.00\">linear</text>\n",
       "<text text-anchor=\"start\" x=\"29\" y=\"-260\" font-family=\"Linux libertine\" font-size=\"10.00\">depth:3</text>\n",
       "<polygon fill=\"none\" stroke=\"black\" points=\"68,-268 68,-289 112,-289 112,-268 68,-268\"/>\n",
       "<text text-anchor=\"start\" x=\"77.5\" y=\"-276\" font-family=\"Linux libertine\" font-size=\"10.00\">input:</text>\n",
       "<polygon fill=\"none\" stroke=\"black\" points=\"112,-268 112,-289 176,-289 176,-268 112,-268\"/>\n",
       "<text text-anchor=\"start\" x=\"117\" y=\"-276\" font-family=\"Linux libertine\" font-size=\"10.00\">(207541, 4) </text>\n",
       "<polygon fill=\"none\" stroke=\"black\" points=\"68,-247 68,-268 112,-268 112,-247 68,-247\"/>\n",
       "<text text-anchor=\"start\" x=\"73\" y=\"-255\" font-family=\"Linux libertine\" font-size=\"10.00\">output: </text>\n",
       "<polygon fill=\"none\" stroke=\"black\" points=\"112,-247 112,-268 176,-268 176,-247 112,-247\"/>\n",
       "<text text-anchor=\"start\" x=\"117\" y=\"-255\" font-family=\"Linux libertine\" font-size=\"10.00\">(207541, 7) </text>\n",
       "</g>\n",
       "<!-- 10&#45;&gt;11 -->\n",
       "<g id=\"edge11\" class=\"edge\">\n",
       "<title>10&#45;&gt;11</title>\n",
       "<path fill=\"none\" stroke=\"black\" d=\"M100,-333.95C100,-324.15 100,-311.02 100,-299.13\"/>\n",
       "<polygon fill=\"black\" stroke=\"black\" points=\"103.5,-299.12 100,-289.12 96.5,-299.12 103.5,-299.12\"/>\n",
       "</g>\n",
       "<!-- 12 -->\n",
       "<g id=\"node13\" class=\"node\">\n",
       "<title>12</title>\n",
       "<polygon fill=\"lightyellow\" stroke=\"none\" points=\"165.5,-211 34.5,-211 34.5,-179 165.5,-179 165.5,-211\"/>\n",
       "<polygon fill=\"none\" stroke=\"black\" points=\"35,-179 35,-211 105,-211 105,-179 35,-179\"/>\n",
       "<text text-anchor=\"start\" x=\"40\" y=\"-198\" font-family=\"Linux libertine\" font-size=\"10.00\">hidden&#45;tensor</text>\n",
       "<text text-anchor=\"start\" x=\"53\" y=\"-187\" font-family=\"Linux libertine\" font-size=\"10.00\">depth:2</text>\n",
       "<polygon fill=\"none\" stroke=\"black\" points=\"105,-179 105,-211 166,-211 166,-179 105,-179\"/>\n",
       "<text text-anchor=\"start\" x=\"110\" y=\"-192.5\" font-family=\"Linux libertine\" font-size=\"10.00\">(207541, 7)</text>\n",
       "</g>\n",
       "<!-- 11&#45;&gt;12 -->\n",
       "<g id=\"edge12\" class=\"edge\">\n",
       "<title>11&#45;&gt;12</title>\n",
       "<path fill=\"none\" stroke=\"black\" d=\"M100,-246.84C100,-238.89 100,-229.66 100,-221.26\"/>\n",
       "<polygon fill=\"black\" stroke=\"black\" points=\"103.5,-221.24 100,-211.24 96.5,-221.24 103.5,-221.24\"/>\n",
       "</g>\n",
       "<!-- 13 -->\n",
       "<g id=\"node14\" class=\"node\">\n",
       "<title>13</title>\n",
       "<polygon fill=\"aliceblue\" stroke=\"none\" points=\"176,-134 24,-134 24,-92 176,-92 176,-134\"/>\n",
       "<polygon fill=\"none\" stroke=\"black\" points=\"24,-92 24,-134 68,-134 68,-92 24,-92\"/>\n",
       "<text text-anchor=\"start\" x=\"29\" y=\"-116\" font-family=\"Linux libertine\" font-size=\"10.00\">sigmoid</text>\n",
       "<text text-anchor=\"start\" x=\"29\" y=\"-105\" font-family=\"Linux libertine\" font-size=\"10.00\">depth:3</text>\n",
       "<polygon fill=\"none\" stroke=\"black\" points=\"68,-113 68,-134 112,-134 112,-113 68,-113\"/>\n",
       "<text text-anchor=\"start\" x=\"77.5\" y=\"-121\" font-family=\"Linux libertine\" font-size=\"10.00\">input:</text>\n",
       "<polygon fill=\"none\" stroke=\"black\" points=\"112,-113 112,-134 176,-134 176,-113 112,-113\"/>\n",
       "<text text-anchor=\"start\" x=\"117\" y=\"-121\" font-family=\"Linux libertine\" font-size=\"10.00\">(207541, 7) </text>\n",
       "<polygon fill=\"none\" stroke=\"black\" points=\"68,-92 68,-113 112,-113 112,-92 68,-92\"/>\n",
       "<text text-anchor=\"start\" x=\"73\" y=\"-100\" font-family=\"Linux libertine\" font-size=\"10.00\">output: </text>\n",
       "<polygon fill=\"none\" stroke=\"black\" points=\"112,-92 112,-113 176,-113 176,-92 112,-92\"/>\n",
       "<text text-anchor=\"start\" x=\"117\" y=\"-100\" font-family=\"Linux libertine\" font-size=\"10.00\">(207541, 7) </text>\n",
       "</g>\n",
       "<!-- 12&#45;&gt;13 -->\n",
       "<g id=\"edge13\" class=\"edge\">\n",
       "<title>12&#45;&gt;13</title>\n",
       "<path fill=\"none\" stroke=\"black\" d=\"M100,-178.95C100,-169.15 100,-156.02 100,-144.13\"/>\n",
       "<polygon fill=\"black\" stroke=\"black\" points=\"103.5,-144.12 100,-134.12 96.5,-144.12 103.5,-144.12\"/>\n",
       "</g>\n",
       "<!-- 14 -->\n",
       "<g id=\"node15\" class=\"node\">\n",
       "<title>14</title>\n",
       "<polygon fill=\"lightyellow\" stroke=\"none\" points=\"164.5,-56 35.5,-56 35.5,-24 164.5,-24 164.5,-56\"/>\n",
       "<polygon fill=\"none\" stroke=\"black\" points=\"36,-24 36,-56 104,-56 104,-24 36,-24\"/>\n",
       "<text text-anchor=\"start\" x=\"41\" y=\"-43\" font-family=\"Linux libertine\" font-size=\"10.00\">output&#45;tensor</text>\n",
       "<text text-anchor=\"start\" x=\"53\" y=\"-32\" font-family=\"Linux libertine\" font-size=\"10.00\">depth:0</text>\n",
       "<polygon fill=\"none\" stroke=\"black\" points=\"104,-24 104,-56 165,-56 165,-24 104,-24\"/>\n",
       "<text text-anchor=\"start\" x=\"109\" y=\"-37.5\" font-family=\"Linux libertine\" font-size=\"10.00\">(207541, 7)</text>\n",
       "</g>\n",
       "<!-- 13&#45;&gt;14 -->\n",
       "<g id=\"edge14\" class=\"edge\">\n",
       "<title>13&#45;&gt;14</title>\n",
       "<path fill=\"none\" stroke=\"black\" d=\"M100,-91.84C100,-83.89 100,-74.66 100,-66.26\"/>\n",
       "<polygon fill=\"black\" stroke=\"black\" points=\"103.5,-66.24 100,-56.24 96.5,-66.24 103.5,-66.24\"/>\n",
       "</g>\n",
       "</g>\n",
       "</svg>\n"
      ],
      "text/plain": [
       "<graphviz.graphs.Digraph at 0x191e9d02fe0>"
      ]
     },
     "execution_count": 26,
     "metadata": {},
     "output_type": "execute_result"
    }
   ],
   "source": [
    "# Plot the model\n",
    "# https://stackoverflow.com/questions/52468956/how-do-i-visualize-a-net-in-pytorch\n",
    "model_graph = draw_graph(model=autoencoder, input_data=df_normal, graph_name='torch_autoencoder', \\\n",
    "                         expand_nested=True, save_graph=False,show_shapes=True, graph_dir='TB', \\\n",
    "                            roll=True, hide_inner_tensors=False, hide_module_functions=False)\n",
    "model_graph.visual_graph"
   ]
  },
  {
   "cell_type": "code",
   "execution_count": 27,
   "metadata": {},
   "outputs": [
    {
     "data": {
      "text/plain": [
       "OrderedDict([('encoder.0.weight',\n",
       "              tensor([[-0.0014, -0.1363, -0.1004, -0.3377,  0.2486,  0.1157,  0.0314],\n",
       "                      [ 0.2840, -0.1487, -0.2395,  0.0627,  0.0953,  0.1672,  0.0525],\n",
       "                      [ 0.0292, -0.2478,  0.1350,  0.0882,  0.2794, -0.0681, -0.3362],\n",
       "                      [-0.1962, -0.0873,  0.3333,  0.2471, -0.3320, -0.2212, -0.1602]])),\n",
       "             ('encoder.0.bias', tensor([-0.2164, -0.3717, -0.2159, -0.2907])),\n",
       "             ('encoder.2.weight',\n",
       "              tensor([[ 0.3254,  0.3865,  0.1229, -0.0371],\n",
       "                      [ 0.1801,  0.4485, -0.0020, -0.2743]])),\n",
       "             ('encoder.2.bias', tensor([-0.1732,  0.0544])),\n",
       "             ('decoder.0.weight',\n",
       "              tensor([[ 0.2567,  0.3076],\n",
       "                      [-0.2819, -0.5945],\n",
       "                      [ 0.1979,  0.4160],\n",
       "                      [-0.3773, -0.6499]])),\n",
       "             ('decoder.0.bias', tensor([ 0.3554, -0.3273, -0.2440,  0.1109])),\n",
       "             ('decoder.2.weight',\n",
       "              tensor([[ 0.4584, -0.3803,  0.1213,  0.1277],\n",
       "                      [-0.3700, -0.4147, -0.1987, -0.3009],\n",
       "                      [-0.4981, -0.4791, -0.3618,  0.2131],\n",
       "                      [-0.1186,  0.3707, -0.0068,  0.1122],\n",
       "                      [ 0.4606,  0.1874,  0.4294,  0.2196],\n",
       "                      [-0.1325,  0.2445, -0.4731, -0.1488],\n",
       "                      [ 0.2887, -0.3350, -0.4625,  0.1150]])),\n",
       "             ('decoder.2.bias',\n",
       "              tensor([-0.1803,  0.0579,  0.0814,  0.4311,  0.0467,  0.2530, -0.4955]))])"
      ]
     },
     "execution_count": 27,
     "metadata": {},
     "output_type": "execute_result"
    }
   ],
   "source": [
    "# Get the autoencoder state dictionary\n",
    "# This gives the parameters, i.e. weights and bias at each layer\n",
    "autoencoder.state_dict()"
   ]
  },
  {
   "cell_type": "code",
   "execution_count": 28,
   "metadata": {},
   "outputs": [
    {
     "data": {
      "text/plain": [
       "(tensor([[-0.0014, -0.1363, -0.1004, -0.3377,  0.2486,  0.1157,  0.0314],\n",
       "         [ 0.2840, -0.1487, -0.2395,  0.0627,  0.0953,  0.1672,  0.0525],\n",
       "         [ 0.0292, -0.2478,  0.1350,  0.0882,  0.2794, -0.0681, -0.3362],\n",
       "         [-0.1962, -0.0873,  0.3333,  0.2471, -0.3320, -0.2212, -0.1602]]),\n",
       " torch.Size([4, 7]))"
      ]
     },
     "execution_count": 28,
     "metadata": {},
     "output_type": "execute_result"
    }
   ],
   "source": [
    "# If we wanted to get one specific layer, in this case, the weight and shape of our first layer\n",
    "autoencoder.state_dict()['encoder.0.weight'], autoencoder.state_dict()['encoder.0.weight'].shape"
   ]
  },
  {
   "cell_type": "code",
   "execution_count": 29,
   "metadata": {},
   "outputs": [
    {
     "data": {
      "text/plain": [
       "(tensor([-0.2164, -0.3717, -0.2159, -0.2907]), torch.Size([4, 7]))"
      ]
     },
     "execution_count": 29,
     "metadata": {},
     "output_type": "execute_result"
    }
   ],
   "source": [
    "# Similarly, we can get the bias via\n",
    "autoencoder.state_dict()['encoder.0.bias'], autoencoder.state_dict()['encoder.0.weight'].shape"
   ]
  },
  {
   "cell_type": "code",
   "execution_count": 30,
   "metadata": {},
   "outputs": [
    {
     "data": {
      "text/plain": [
       "L1Loss()"
      ]
     },
     "execution_count": 30,
     "metadata": {},
     "output_type": "execute_result"
    }
   ],
   "source": [
    "# Define the objective function \n",
    "# As in the tensorflow autoencoder notebook\n",
    "#   12. Beginning Basic Deep Learning - Anomaly Detection with AutoEncoders, Tensorflow\n",
    "# I will use Mean Absolute Error (MAE)\n",
    "#   https://pytorch.org/docs/stable/generated/torch.nn.L1Loss.html\n",
    "mae_loss_fn = torch.nn.L1Loss(reduction='mean')\n",
    "mae_loss_fn"
   ]
  },
  {
   "cell_type": "code",
   "execution_count": 31,
   "metadata": {},
   "outputs": [
    {
     "data": {
      "text/plain": [
       "Adam (\n",
       "Parameter Group 0\n",
       "    amsgrad: False\n",
       "    betas: (0.9, 0.999)\n",
       "    capturable: False\n",
       "    differentiable: False\n",
       "    eps: 1e-08\n",
       "    foreach: None\n",
       "    fused: None\n",
       "    lr: 0.01\n",
       "    maximize: False\n",
       "    weight_decay: 0\n",
       ")"
      ]
     },
     "execution_count": 31,
     "metadata": {},
     "output_type": "execute_result"
    }
   ],
   "source": [
    "# Define an optimizer\n",
    "#   https://pytorch.org/docs/stable/optim.html\n",
    "# Reusing the Adam optimizer with the same learning rate as was done in the tensorflow autoencoder notebook\n",
    "#   12. Beginning Basic Deep Learning - Anomaly Detection with AutoEncoders, Tensorflow\n",
    "optimizer = torch.optim.Adam(params=autoencoder.parameters(), lr=0.01)\n",
    "optimizer"
   ]
  },
  {
   "cell_type": "code",
   "execution_count": 32,
   "metadata": {},
   "outputs": [
    {
     "name": "stdout",
     "output_type": "stream",
     "text": [
      "Epoch: 0 : Loss: 0.5094569325447083\n",
      "Epoch: 10 : Loss: 0.4729147255420685\n",
      "Epoch: 20 : Loss: 0.428600937128067\n",
      "Epoch: 30 : Loss: 0.37137508392333984\n",
      "Epoch: 40 : Loss: 0.29655909538269043\n",
      "Epoch: 50 : Loss: 0.1994057148694992\n",
      "Epoch: 60 : Loss: 0.10585106164216995\n",
      "Epoch: 70 : Loss: 0.044996477663517\n",
      "Epoch: 80 : Loss: 0.0173978079110384\n",
      "Epoch: 90 : Loss: 0.007569702807813883\n",
      "Epoch: 100 : Loss: 0.00411306694149971\n",
      "Epoch: 110 : Loss: 0.0027139722369611263\n",
      "Epoch: 120 : Loss: 0.002030372153967619\n",
      "Epoch: 130 : Loss: 0.0016359413275495172\n",
      "Epoch: 140 : Loss: 0.001376876956783235\n",
      "Epoch: 150 : Loss: 0.0011904549319297075\n",
      "Epoch: 160 : Loss: 0.001048307865858078\n",
      "Epoch: 170 : Loss: 0.0009360666153952479\n",
      "Epoch: 180 : Loss: 0.0008450598688796163\n",
      "Epoch: 190 : Loss: 0.0007696144166402519\n",
      "Epoch: 200 : Loss: 0.0007061254582367837\n",
      "Epoch: 210 : Loss: 0.0006520535098388791\n",
      "Epoch: 220 : Loss: 0.0006055600242689252\n",
      "Epoch: 230 : Loss: 0.0005652551772072911\n",
      "Epoch: 240 : Loss: 0.000530094257555902\n",
      "Epoch: 250 : Loss: 0.000499208748806268\n",
      "Epoch: 260 : Loss: 0.0004719183489214629\n",
      "Epoch: 270 : Loss: 0.00044767209328711033\n",
      "Epoch: 280 : Loss: 0.0004260197456460446\n",
      "Epoch: 290 : Loss: 0.00040660289232619107\n"
     ]
    }
   ],
   "source": [
    "# Time to train the model\n",
    "# Define the number of epochs\n",
    "#   https://pytorch.org/tutorials/beginner/introyt/trainingyt.html\n",
    "\n",
    "EPOCHS = 300\n",
    "TRAINNG_LOSS = []\n",
    "\n",
    "# Setup the training loop\n",
    "for epoch in range(EPOCHS):\n",
    "    # Turn on gradient tracking \n",
    "    autoencoder.train(True)\n",
    "\n",
    "    # Zero out the gradients\n",
    "    optimizer.zero_grad()\n",
    "\n",
    "    # make predictions\n",
    "    y_pred = autoencoder(df_normal)\n",
    "    # print(y_pred)\n",
    "\n",
    "    # With the predictions in place calculate the loss\n",
    "    loss = mae_loss_fn(y_pred, df_normal)\n",
    "    TRAINNG_LOSS.append(loss.mean())\n",
    "\n",
    "    # Calculate the gradients\n",
    "    loss.backward()\n",
    "\n",
    "    # Adjust the learned weights\n",
    "    optimizer.step()\n",
    "\n",
    "    if epoch %10 == 0: \n",
    "        print(f'Epoch: {epoch} : Loss: {loss}')"
   ]
  },
  {
   "cell_type": "code",
   "execution_count": 33,
   "metadata": {},
   "outputs": [
    {
     "data": {
      "text/plain": [
       "[Parameter containing:\n",
       " tensor([[-0.0014, -0.1363, -0.1004, -0.3377,  0.2486,  0.1157,  0.0314],\n",
       "         [ 0.2840, -0.1487, -0.2395,  0.0627,  0.0953,  0.1672,  0.0525],\n",
       "         [ 0.0292, -0.2478,  0.1350,  0.0882,  0.2794, -0.0681, -0.3362],\n",
       "         [-0.1976,  0.1418,  0.2132,  0.2469, -0.3320, -0.2213, -0.1602]],\n",
       "        requires_grad=True),\n",
       " Parameter containing:\n",
       " tensor([-0.2164, -0.3717, -0.2159, -0.4705], requires_grad=True),\n",
       " Parameter containing:\n",
       " tensor([[ 0.3254,  0.3865,  0.1229, -0.0180],\n",
       "         [ 0.1801,  0.4485, -0.0020, -0.2281]], requires_grad=True),\n",
       " Parameter containing:\n",
       " tensor([1.1712, 1.2629], requires_grad=True),\n",
       " Parameter containing:\n",
       " tensor([[ 1.1317,  1.4114],\n",
       "         [-0.2819, -0.5945],\n",
       "         [ 1.2616,  1.3800],\n",
       "         [-0.2687, -0.7604]], requires_grad=True),\n",
       " Parameter containing:\n",
       " tensor([ 1.2607, -0.3273,  0.5508,  0.0013], requires_grad=True),\n",
       " Parameter containing:\n",
       " tensor([[-0.6961, -0.3803, -0.9264, -0.0068],\n",
       "         [-1.2101, -0.4147, -0.9696, -0.4354],\n",
       "         [-1.2863, -0.4791, -1.0537,  0.0786],\n",
       "         [-1.1001,  0.3707, -0.8784, -0.0226],\n",
       "         [-0.8165,  0.1874, -0.7242,  0.0849],\n",
       "         [-1.0095,  0.2445, -1.2125, -0.2834],\n",
       "         [-0.6418, -0.3350, -1.3004, -0.0193]], requires_grad=True),\n",
       " Parameter containing:\n",
       " tensor([-0.9665, -0.5447, -0.4956, -0.2686, -0.8189, -0.3899, -1.1517],\n",
       "        requires_grad=True)]"
      ]
     },
     "execution_count": 33,
     "metadata": {},
     "output_type": "execute_result"
    }
   ],
   "source": [
    "# What does the learned parameters look like?\n",
    "# Let's get those\n",
    "list(autoencoder.eval().parameters())"
   ]
  },
  {
   "cell_type": "code",
   "execution_count": 34,
   "metadata": {},
   "outputs": [
    {
     "data": {
      "image/png": "[encoded data removed]",
      "text/plain": [
       "<Figure size 640x480 with 1 Axes>"
      ]
     },
     "metadata": {},
     "output_type": "display_data"
    }
   ],
   "source": [
    "# plot the training & validation loss and accuracy\n",
    "#   05 - Beginning Matplotlib\n",
    "# https://matplotlib.org/stable/api/_as_gen/matplotlib.pyplot.legend.html\n",
    "# We can see from below the loss has decreased while the accuracy has increased.\n",
    "# More importantly, the graphs confirm that 4 epochs is probably enough \n",
    "# for this algorithm, based on the learning rate we choose\n",
    "plt.title('Loss and Accuracy')\n",
    "plt.plot(range(len(TRAINNG_LOSS)), torch.tensor(TRAINNG_LOSS).detach().numpy() )\n",
    "plt.legend(labels=['Train loss', 'Validation loss'])\n",
    "plt.xlabel('Epochs')\n",
    "plt.ylabel('Loss')\n",
    "\n",
    "plt.show()"
   ]
  },
  {
   "cell_type": "code",
   "execution_count": 35,
   "metadata": {},
   "outputs": [
    {
     "data": {
      "text/plain": [
       "tensor([[1.1712, 1.2629],\n",
       "        [1.1712, 1.2629],\n",
       "        [1.1712, 1.2629],\n",
       "        ...,\n",
       "        [1.1712, 1.2629],\n",
       "        [1.1712, 1.2629],\n",
       "        [1.1712, 1.2629]])"
      ]
     },
     "execution_count": 35,
     "metadata": {},
     "output_type": "execute_result"
    }
   ],
   "source": [
    "# The encoded data is now down from its original 7 features to  2. \n",
    "# This represents the bottleneck/latent space. Also represented by \"z\"\n",
    "# Also called the latent space\n",
    "with torch.inference_mode():\n",
    "    normal_encoded_data = autoencoder.encoder(df_normal)\n",
    "normal_encoded_data"
   ]
  },
  {
   "cell_type": "code",
   "execution_count": 36,
   "metadata": {},
   "outputs": [
    {
     "data": {
      "text/plain": [
       "(torch.Size([207541, 2]), torch.Size([207541, 7]))"
      ]
     },
     "execution_count": 36,
     "metadata": {},
     "output_type": "execute_result"
    }
   ],
   "source": [
    "# Get the shape of this latent space\n",
    "# We see we have the same number of samples as the training data but now 2 dimensions rather than the original 7\n",
    "normal_encoded_data.shape, df_normal.shape"
   ]
  },
  {
   "attachments": {},
   "cell_type": "markdown",
   "metadata": {},
   "source": [
    "In the notebook on PCA - <br>\n",
    "&emsp;&emsp;  07 - Beginning Principal Component Analysis (PCA) <br>\n",
    "We did dimensionality reduction. Think of above as the same, as we moved from 7 dimensions to 2, <br>\n",
    "the main difference is in this autoencoder approach, we are using non-linear transformation.  <br>\n",
    "Normal linear equation is f(x) = wx+b  <br>\n",
    "\n",
    "Our non-linear transformation is f(x) = relu(wx+b) <br>\n",
    "By applying the activation function (relu in this case) to wx+b, the result is made non-linear"
   ]
  },
  {
   "cell_type": "code",
   "execution_count": 37,
   "metadata": {},
   "outputs": [
    {
     "data": {
      "text/plain": [
       "tensor([[5.5208e-04, 7.5782e-05, 4.1552e-05,  ..., 8.1084e-04, 8.5016e-05,\n",
       "         1.4195e-04],\n",
       "        [5.5208e-04, 7.5782e-05, 4.1552e-05,  ..., 8.1084e-04, 8.5016e-05,\n",
       "         1.4195e-04],\n",
       "        [5.5208e-04, 7.5782e-05, 4.1552e-05,  ..., 8.1084e-04, 8.5016e-05,\n",
       "         1.4195e-04],\n",
       "        ...,\n",
       "        [5.5208e-04, 7.5782e-05, 4.1552e-05,  ..., 8.1084e-04, 8.5016e-05,\n",
       "         1.4195e-04],\n",
       "        [5.5208e-04, 7.5782e-05, 4.1552e-05,  ..., 8.1084e-04, 8.5016e-05,\n",
       "         1.4195e-04],\n",
       "        [5.5208e-04, 7.5782e-05, 4.1552e-05,  ..., 8.1084e-04, 8.5016e-05,\n",
       "         1.4195e-04]])"
      ]
     },
     "execution_count": 37,
     "metadata": {},
     "output_type": "execute_result"
    }
   ],
   "source": [
    "# Reconstructing the data from the encoded data\n",
    "np.set_printoptions(suppress=True)\n",
    "\n",
    "with torch.inference_mode():\n",
    "    normal_decoded_data = autoencoder.decoder(normal_encoded_data)\n",
    "normal_decoded_data"
   ]
  },
  {
   "cell_type": "code",
   "execution_count": 38,
   "metadata": {},
   "outputs": [
    {
     "data": {
      "text/plain": [
       "(torch.Size([207541, 7]), torch.Size([207541, 7]))"
      ]
     },
     "execution_count": 38,
     "metadata": {},
     "output_type": "execute_result"
    }
   ],
   "source": [
    "# Get the shape of the decoded data\n",
    "# We can see, we now have the same number of records and dimensions from the decoded data\n",
    "normal_decoded_data.shape, df_normal.shape"
   ]
  },
  {
   "cell_type": "code",
   "execution_count": 39,
   "metadata": {},
   "outputs": [
    {
     "data": {
      "image/png": "[encoded data removed]",
      "text/plain": [
       "<Figure size 640x480 with 1 Axes>"
      ]
     },
     "metadata": {},
     "output_type": "display_data"
    }
   ],
   "source": [
    "# Getting the reconstructing error by comparing the normal data with reconstructed normal data\n",
    "plt.title('Normal vs Reconstructed Normal Data')\n",
    "plt.plot(df_normal[0, : ], 'r', normal_decoded_data[0, : ], 'k')\n",
    "plt.fill_between(np.arange(start=0, stop=7, step=1), df_normal[0, : ],normal_decoded_data[0, : ])\n",
    "plt.xlabel('Features')\n",
    "plt.xticks(np.arange(start=0, stop=7, step=1), ['duration', 'orig_bytes', 'resp_bytes', \n",
    "                                                'orig_pkts', 'orig_ip_bytes', 'resp_pkts', 'resp_ip_bytes'], rotation=45)\n",
    "plt.ylabel(ylabel='Feature Values')\n",
    "plt.legend(labels=['original', 'reconstructed', 'Reconstruction Error'])\n",
    "plt.show()"
   ]
  },
  {
   "cell_type": "code",
   "execution_count": 40,
   "metadata": {},
   "outputs": [
    {
     "data": {
      "text/plain": [
       "tensor([[1.1712, 1.2629],\n",
       "        [1.1712, 1.2629],\n",
       "        [1.1712, 1.2629],\n",
       "        [1.1712, 1.2629],\n",
       "        [1.1712, 1.2629],\n",
       "        [1.1712, 1.2629],\n",
       "        [1.1712, 1.2629],\n",
       "        [1.1712, 1.2629],\n",
       "        [1.1712, 1.2629],\n",
       "        [1.1712, 1.2629],\n",
       "        [1.1712, 1.2629],\n",
       "        [1.1712, 1.2629],\n",
       "        [1.1712, 1.2629],\n",
       "        [1.1712, 1.2629],\n",
       "        [1.1712, 1.2629],\n",
       "        [1.1712, 1.2629],\n",
       "        [1.1712, 1.2629],\n",
       "        [1.1712, 1.2629],\n",
       "        [1.1712, 1.2629],\n",
       "        [1.1712, 1.2629],\n",
       "        [1.1712, 1.2629],\n",
       "        [1.1712, 1.2629],\n",
       "        [1.1712, 1.2629],\n",
       "        [1.1712, 1.2629],\n",
       "        [1.1712, 1.2629],\n",
       "        [1.1712, 1.2629],\n",
       "        [1.1712, 1.2629],\n",
       "        [1.1712, 1.2629],\n",
       "        [1.1712, 1.2629],\n",
       "        [1.1712, 1.2629],\n",
       "        [1.1712, 1.2629],\n",
       "        [1.1712, 1.2629],\n",
       "        [1.1712, 1.2629],\n",
       "        [1.1712, 1.2629],\n",
       "        [1.1712, 1.2629],\n",
       "        [1.1712, 1.2629],\n",
       "        [1.1712, 1.2629],\n",
       "        [1.1712, 1.2629],\n",
       "        [1.1712, 1.2629],\n",
       "        [1.1712, 1.2629],\n",
       "        [1.1712, 1.2629],\n",
       "        [1.1712, 1.2629],\n",
       "        [1.1712, 1.2629],\n",
       "        [1.1712, 1.2629],\n",
       "        [1.1712, 1.2629],\n",
       "        [1.1712, 1.2629],\n",
       "        [1.1712, 1.2629],\n",
       "        [1.1712, 1.2629],\n",
       "        [1.1712, 1.2629],\n",
       "        [1.1924, 1.2626],\n",
       "        [1.1712, 1.2629],\n",
       "        [1.1712, 1.2629],\n",
       "        [1.1712, 1.2629],\n",
       "        [1.1712, 1.2629],\n",
       "        [1.1712, 1.2629],\n",
       "        [1.1712, 1.2629],\n",
       "        [1.1712, 1.2629],\n",
       "        [1.1712, 1.2629],\n",
       "        [1.1712, 1.2629],\n",
       "        [1.1712, 1.2629],\n",
       "        [1.1712, 1.2629],\n",
       "        [1.1712, 1.2629],\n",
       "        [1.1712, 1.2629],\n",
       "        [1.1712, 1.2629],\n",
       "        [1.1712, 1.2629],\n",
       "        [1.1712, 1.2629],\n",
       "        [1.1712, 1.2629]])"
      ]
     },
     "execution_count": 40,
     "metadata": {},
     "output_type": "execute_result"
    }
   ],
   "source": [
    "# Encode the suspicious data\n",
    "with torch.inference_mode():\n",
    "    suspicious_encoded_data = autoencoder.encoder(df_suspicious)\n",
    "\n",
    "# Get a view of the latent space\n",
    "suspicious_encoded_data"
   ]
  },
  {
   "cell_type": "code",
   "execution_count": 41,
   "metadata": {},
   "outputs": [
    {
     "data": {
      "text/plain": [
       "tensor([[5.5208e-04, 7.5782e-05, 4.1552e-05, 2.2772e-04, 8.1084e-04, 8.5016e-05,\n",
       "         1.4195e-04],\n",
       "        [5.5208e-04, 7.5782e-05, 4.1552e-05, 2.2772e-04, 8.1084e-04, 8.5016e-05,\n",
       "         1.4195e-04],\n",
       "        [5.5208e-04, 7.5782e-05, 4.1552e-05, 2.2772e-04, 8.1084e-04, 8.5016e-05,\n",
       "         1.4195e-04],\n",
       "        [5.5208e-04, 7.5782e-05, 4.1552e-05, 2.2772e-04, 8.1084e-04, 8.5016e-05,\n",
       "         1.4195e-04],\n",
       "        [5.5208e-04, 7.5782e-05, 4.1552e-05, 2.2772e-04, 8.1084e-04, 8.5016e-05,\n",
       "         1.4195e-04],\n",
       "        [5.5208e-04, 7.5782e-05, 4.1552e-05, 2.2772e-04, 8.1084e-04, 8.5016e-05,\n",
       "         1.4195e-04],\n",
       "        [5.5208e-04, 7.5782e-05, 4.1552e-05, 2.2772e-04, 8.1084e-04, 8.5016e-05,\n",
       "         1.4195e-04],\n",
       "        [5.5208e-04, 7.5782e-05, 4.1552e-05, 2.2772e-04, 8.1084e-04, 8.5016e-05,\n",
       "         1.4195e-04],\n",
       "        [5.5208e-04, 7.5782e-05, 4.1552e-05, 2.2772e-04, 8.1084e-04, 8.5016e-05,\n",
       "         1.4195e-04],\n",
       "        [5.5208e-04, 7.5782e-05, 4.1552e-05, 2.2772e-04, 8.1084e-04, 8.5016e-05,\n",
       "         1.4195e-04],\n",
       "        [5.5208e-04, 7.5782e-05, 4.1552e-05, 2.2772e-04, 8.1084e-04, 8.5016e-05,\n",
       "         1.4195e-04],\n",
       "        [5.5208e-04, 7.5782e-05, 4.1552e-05, 2.2772e-04, 8.1084e-04, 8.5016e-05,\n",
       "         1.4195e-04],\n",
       "        [5.5208e-04, 7.5782e-05, 4.1552e-05, 2.2772e-04, 8.1084e-04, 8.5016e-05,\n",
       "         1.4195e-04],\n",
       "        [5.5208e-04, 7.5782e-05, 4.1552e-05, 2.2772e-04, 8.1084e-04, 8.5016e-05,\n",
       "         1.4195e-04],\n",
       "        [5.5208e-04, 7.5782e-05, 4.1552e-05, 2.2772e-04, 8.1084e-04, 8.5016e-05,\n",
       "         1.4195e-04],\n",
       "        [5.5208e-04, 7.5782e-05, 4.1552e-05, 2.2772e-04, 8.1084e-04, 8.5016e-05,\n",
       "         1.4195e-04],\n",
       "        [5.5208e-04, 7.5782e-05, 4.1552e-05, 2.2772e-04, 8.1084e-04, 8.5016e-05,\n",
       "         1.4195e-04],\n",
       "        [5.5208e-04, 7.5782e-05, 4.1552e-05, 2.2772e-04, 8.1084e-04, 8.5016e-05,\n",
       "         1.4195e-04],\n",
       "        [5.5208e-04, 7.5782e-05, 4.1552e-05, 2.2772e-04, 8.1084e-04, 8.5016e-05,\n",
       "         1.4195e-04],\n",
       "        [5.5208e-04, 7.5782e-05, 4.1552e-05, 2.2772e-04, 8.1084e-04, 8.5016e-05,\n",
       "         1.4195e-04],\n",
       "        [5.5208e-04, 7.5782e-05, 4.1552e-05, 2.2772e-04, 8.1084e-04, 8.5016e-05,\n",
       "         1.4195e-04],\n",
       "        [5.5208e-04, 7.5782e-05, 4.1552e-05, 2.2772e-04, 8.1084e-04, 8.5016e-05,\n",
       "         1.4195e-04],\n",
       "        [5.5208e-04, 7.5782e-05, 4.1552e-05, 2.2772e-04, 8.1084e-04, 8.5016e-05,\n",
       "         1.4195e-04],\n",
       "        [5.5208e-04, 7.5782e-05, 4.1552e-05, 2.2772e-04, 8.1084e-04, 8.5016e-05,\n",
       "         1.4195e-04],\n",
       "        [5.5208e-04, 7.5782e-05, 4.1552e-05, 2.2772e-04, 8.1084e-04, 8.5016e-05,\n",
       "         1.4195e-04],\n",
       "        [5.5208e-04, 7.5782e-05, 4.1552e-05, 2.2772e-04, 8.1084e-04, 8.5016e-05,\n",
       "         1.4195e-04],\n",
       "        [5.5208e-04, 7.5782e-05, 4.1552e-05, 2.2772e-04, 8.1084e-04, 8.5016e-05,\n",
       "         1.4195e-04],\n",
       "        [5.5208e-04, 7.5782e-05, 4.1552e-05, 2.2772e-04, 8.1084e-04, 8.5016e-05,\n",
       "         1.4195e-04],\n",
       "        [5.5208e-04, 7.5782e-05, 4.1552e-05, 2.2772e-04, 8.1084e-04, 8.5016e-05,\n",
       "         1.4195e-04],\n",
       "        [5.5208e-04, 7.5782e-05, 4.1552e-05, 2.2772e-04, 8.1084e-04, 8.5016e-05,\n",
       "         1.4195e-04],\n",
       "        [5.5208e-04, 7.5782e-05, 4.1552e-05, 2.2772e-04, 8.1084e-04, 8.5016e-05,\n",
       "         1.4195e-04],\n",
       "        [5.5208e-04, 7.5782e-05, 4.1552e-05, 2.2772e-04, 8.1084e-04, 8.5016e-05,\n",
       "         1.4195e-04],\n",
       "        [5.5208e-04, 7.5782e-05, 4.1552e-05, 2.2772e-04, 8.1084e-04, 8.5016e-05,\n",
       "         1.4195e-04],\n",
       "        [5.5208e-04, 7.5782e-05, 4.1552e-05, 2.2772e-04, 8.1084e-04, 8.5016e-05,\n",
       "         1.4195e-04],\n",
       "        [5.5208e-04, 7.5782e-05, 4.1552e-05, 2.2772e-04, 8.1084e-04, 8.5016e-05,\n",
       "         1.4195e-04],\n",
       "        [5.5208e-04, 7.5782e-05, 4.1552e-05, 2.2772e-04, 8.1084e-04, 8.5016e-05,\n",
       "         1.4195e-04],\n",
       "        [5.5208e-04, 7.5782e-05, 4.1552e-05, 2.2772e-04, 8.1084e-04, 8.5016e-05,\n",
       "         1.4195e-04],\n",
       "        [5.5208e-04, 7.5782e-05, 4.1552e-05, 2.2772e-04, 8.1084e-04, 8.5016e-05,\n",
       "         1.4195e-04],\n",
       "        [5.5208e-04, 7.5782e-05, 4.1552e-05, 2.2772e-04, 8.1084e-04, 8.5016e-05,\n",
       "         1.4195e-04],\n",
       "        [5.5208e-04, 7.5782e-05, 4.1552e-05, 2.2772e-04, 8.1084e-04, 8.5016e-05,\n",
       "         1.4195e-04],\n",
       "        [5.5208e-04, 7.5782e-05, 4.1552e-05, 2.2772e-04, 8.1084e-04, 8.5016e-05,\n",
       "         1.4195e-04],\n",
       "        [5.5208e-04, 7.5782e-05, 4.1552e-05, 2.2772e-04, 8.1084e-04, 8.5016e-05,\n",
       "         1.4195e-04],\n",
       "        [5.5208e-04, 7.5782e-05, 4.1552e-05, 2.2772e-04, 8.1084e-04, 8.5016e-05,\n",
       "         1.4195e-04],\n",
       "        [5.5208e-04, 7.5782e-05, 4.1552e-05, 2.2772e-04, 8.1084e-04, 8.5016e-05,\n",
       "         1.4195e-04],\n",
       "        [5.5208e-04, 7.5782e-05, 4.1552e-05, 2.2772e-04, 8.1084e-04, 8.5016e-05,\n",
       "         1.4195e-04],\n",
       "        [5.5208e-04, 7.5782e-05, 4.1552e-05, 2.2772e-04, 8.1084e-04, 8.5016e-05,\n",
       "         1.4195e-04],\n",
       "        [5.5208e-04, 7.5782e-05, 4.1552e-05, 2.2772e-04, 8.1084e-04, 8.5016e-05,\n",
       "         1.4195e-04],\n",
       "        [5.5208e-04, 7.5782e-05, 4.1552e-05, 2.2772e-04, 8.1084e-04, 8.5016e-05,\n",
       "         1.4195e-04],\n",
       "        [5.5208e-04, 7.5782e-05, 4.1552e-05, 2.2772e-04, 8.1084e-04, 8.5016e-05,\n",
       "         1.4195e-04],\n",
       "        [5.3008e-04, 7.1805e-05, 3.9214e-05, 2.1685e-04, 7.8047e-04, 8.0421e-05,\n",
       "         1.3513e-04],\n",
       "        [5.5208e-04, 7.5782e-05, 4.1552e-05, 2.2772e-04, 8.1084e-04, 8.5016e-05,\n",
       "         1.4195e-04],\n",
       "        [5.5208e-04, 7.5782e-05, 4.1552e-05, 2.2772e-04, 8.1084e-04, 8.5016e-05,\n",
       "         1.4195e-04],\n",
       "        [5.5208e-04, 7.5782e-05, 4.1552e-05, 2.2772e-04, 8.1084e-04, 8.5016e-05,\n",
       "         1.4195e-04],\n",
       "        [5.5208e-04, 7.5782e-05, 4.1552e-05, 2.2772e-04, 8.1084e-04, 8.5016e-05,\n",
       "         1.4195e-04],\n",
       "        [5.5208e-04, 7.5782e-05, 4.1552e-05, 2.2772e-04, 8.1084e-04, 8.5016e-05,\n",
       "         1.4195e-04],\n",
       "        [5.5208e-04, 7.5782e-05, 4.1552e-05, 2.2772e-04, 8.1084e-04, 8.5016e-05,\n",
       "         1.4195e-04],\n",
       "        [5.5208e-04, 7.5782e-05, 4.1552e-05, 2.2772e-04, 8.1084e-04, 8.5016e-05,\n",
       "         1.4195e-04],\n",
       "        [5.5208e-04, 7.5782e-05, 4.1552e-05, 2.2772e-04, 8.1084e-04, 8.5016e-05,\n",
       "         1.4195e-04],\n",
       "        [5.5208e-04, 7.5782e-05, 4.1552e-05, 2.2772e-04, 8.1084e-04, 8.5016e-05,\n",
       "         1.4195e-04],\n",
       "        [5.5208e-04, 7.5782e-05, 4.1552e-05, 2.2772e-04, 8.1084e-04, 8.5016e-05,\n",
       "         1.4195e-04],\n",
       "        [5.5208e-04, 7.5782e-05, 4.1552e-05, 2.2772e-04, 8.1084e-04, 8.5016e-05,\n",
       "         1.4195e-04],\n",
       "        [5.5208e-04, 7.5782e-05, 4.1552e-05, 2.2772e-04, 8.1084e-04, 8.5016e-05,\n",
       "         1.4195e-04],\n",
       "        [5.5208e-04, 7.5782e-05, 4.1552e-05, 2.2772e-04, 8.1084e-04, 8.5016e-05,\n",
       "         1.4195e-04],\n",
       "        [5.5208e-04, 7.5782e-05, 4.1552e-05, 2.2772e-04, 8.1084e-04, 8.5016e-05,\n",
       "         1.4195e-04],\n",
       "        [5.5208e-04, 7.5782e-05, 4.1552e-05, 2.2772e-04, 8.1084e-04, 8.5016e-05,\n",
       "         1.4195e-04],\n",
       "        [5.5208e-04, 7.5782e-05, 4.1552e-05, 2.2772e-04, 8.1084e-04, 8.5016e-05,\n",
       "         1.4195e-04],\n",
       "        [5.5208e-04, 7.5782e-05, 4.1552e-05, 2.2772e-04, 8.1084e-04, 8.5016e-05,\n",
       "         1.4195e-04]])"
      ]
     },
     "execution_count": 41,
     "metadata": {},
     "output_type": "execute_result"
    }
   ],
   "source": [
    "# Decode the encoded suspicious data \n",
    "np.set_printoptions(suppress=True)\n",
    "with torch.inference_mode():\n",
    "    suspicious_decoded_data = autoencoder.decoder(suspicious_encoded_data)\n",
    "suspicious_decoded_data"
   ]
  },
  {
   "cell_type": "code",
   "execution_count": 42,
   "metadata": {},
   "outputs": [
    {
     "data": {
      "image/png": "[encoded data removed]",
      "text/plain": [
       "<Figure size 640x480 with 1 Axes>"
      ]
     },
     "metadata": {},
     "output_type": "display_data"
    }
   ],
   "source": [
    "# Plot the reconstructing error of the normal decoded data with reconstructed suspicious data\n",
    "plt.title('Normal vs Suspicious Data')\n",
    "plt.plot(normal_decoded_data[5, : ], 'r', lw=5)\n",
    "plt.plot(suspicious_decoded_data[5, : ], 'k', lw=2)\n",
    "plt.fill_between(np.arange(start=0, stop=7, step=1), normal_decoded_data[0, : ], suspicious_decoded_data[0, : ])\n",
    "plt.ylabel('Values')\n",
    "plt.xlabel('Features')\n",
    "plt.xticks(np.arange(start=0, stop=7, step=1), ['duration', 'orig_bytes', \n",
    "                                                'resp_bytes', 'orig_pkts', 'orig_ip_bytes', \n",
    "                                                'resp_pkts', 'resp_ip_bytes'], rotation=45)\n",
    "plt.legend(labels=['normal', 'suspicious', 'Reconstruction Error'])\n",
    "plt.show()"
   ]
  },
  {
   "cell_type": "code",
   "execution_count": 43,
   "metadata": {},
   "outputs": [
    {
     "data": {
      "text/plain": [
       "tensor([[5.9923e-24, 1.7863e-31, 1.0557e-33,  ..., 1.1512e-22, 4.2442e-32,\n",
       "         1.3153e-28],\n",
       "        [0.0000e+00, 0.0000e+00, 0.0000e+00,  ..., 1.0000e+00, 0.0000e+00,\n",
       "         0.0000e+00],\n",
       "        [6.4400e-24, 1.9665e-31, 1.1704e-33,  ..., 1.2322e-22, 4.6837e-32,\n",
       "         1.4345e-28],\n",
       "        ...,\n",
       "        [5.7735e-06, 1.7055e-07, 5.9636e-08,  ..., 1.0863e-05, 1.6580e-07,\n",
       "         5.9133e-07],\n",
       "        [5.7735e-06, 1.7055e-07, 5.9636e-08,  ..., 1.0863e-05, 1.6580e-07,\n",
       "         5.9133e-07],\n",
       "        [5.7735e-06, 1.7055e-07, 5.9636e-08,  ..., 1.0863e-05, 1.6580e-07,\n",
       "         5.9133e-07]])"
      ]
     },
     "execution_count": 43,
     "metadata": {},
     "output_type": "execute_result"
    }
   ],
   "source": [
    "# Looking at the entire dataset to see what the errors look like\n",
    "# Note I'm excluding the labels\n",
    "# First store the predictions\n",
    "df_conn_as_tensor = torch.tensor(df_conn.drop(columns=['label'], inplace=False).values, dtype=torch.float)\n",
    "with torch.inference_mode():\n",
    "    predictions = autoencoder(df_conn_as_tensor)\n",
    "predictions"
   ]
  },
  {
   "cell_type": "code",
   "execution_count": 44,
   "metadata": {},
   "outputs": [
    {
     "data": {
      "text/plain": [
       "L1Loss()"
      ]
     },
     "execution_count": 44,
     "metadata": {},
     "output_type": "execute_result"
    }
   ],
   "source": [
    "# Redefine the loss function, this time using reduction = \"none\"\n",
    "# This is because I don't want to find the loss on the entire dataset\n",
    "# But instead on each sample\n",
    "mae_loss_fn = torch.nn.L1Loss(reduction='none')\n",
    "mae_loss_fn"
   ]
  },
  {
   "cell_type": "code",
   "execution_count": 45,
   "metadata": {},
   "outputs": [
    {
     "data": {
      "text/plain": [
       "tensor([4.3144e+02, 1.3494e+05, 4.3172e+02,  ..., 5.8571e+00, 5.8571e+00,\n",
       "        5.8571e+00])"
      ]
     },
     "execution_count": 45,
     "metadata": {},
     "output_type": "execute_result"
    }
   ],
   "source": [
    "# Getting the MAE Error of the entire dataset but for each sample across dimension = 1\n",
    "# Get the mean across dimension 1\n",
    "errors_mae = torch.mean(mae_loss_fn(predictions, df_conn_as_tensor), dim=1)\n",
    "errors_mae"
   ]
  },
  {
   "cell_type": "code",
   "execution_count": 46,
   "metadata": {},
   "outputs": [
    {
     "data": {
      "text/html": [
       "<div>\n",
       "<style scoped>\n",
       "    .dataframe tbody tr th:only-of-type {\n",
       "        vertical-align: middle;\n",
       "    }\n",
       "\n",
       "    .dataframe tbody tr th {\n",
       "        vertical-align: top;\n",
       "    }\n",
       "\n",
       "    .dataframe thead th {\n",
       "        text-align: right;\n",
       "    }\n",
       "</style>\n",
       "<table border=\"1\" class=\"dataframe\">\n",
       "  <thead>\n",
       "    <tr style=\"text-align: right;\">\n",
       "      <th></th>\n",
       "      <th>errors_mae</th>\n",
       "      <th>label</th>\n",
       "    </tr>\n",
       "  </thead>\n",
       "  <tbody>\n",
       "    <tr>\n",
       "      <th>5</th>\n",
       "      <td>431.44</td>\n",
       "      <td>0</td>\n",
       "    </tr>\n",
       "    <tr>\n",
       "      <th>6</th>\n",
       "      <td>134935.05</td>\n",
       "      <td>0</td>\n",
       "    </tr>\n",
       "    <tr>\n",
       "      <th>7</th>\n",
       "      <td>431.72</td>\n",
       "      <td>0</td>\n",
       "    </tr>\n",
       "    <tr>\n",
       "      <th>8</th>\n",
       "      <td>167047.50</td>\n",
       "      <td>0</td>\n",
       "    </tr>\n",
       "    <tr>\n",
       "      <th>9</th>\n",
       "      <td>83734.32</td>\n",
       "      <td>0</td>\n",
       "    </tr>\n",
       "    <tr>\n",
       "      <th>...</th>\n",
       "      <td>...</td>\n",
       "      <td>...</td>\n",
       "    </tr>\n",
       "    <tr>\n",
       "      <th>4430183</th>\n",
       "      <td>13.43</td>\n",
       "      <td>0</td>\n",
       "    </tr>\n",
       "    <tr>\n",
       "      <th>4430184</th>\n",
       "      <td>5.86</td>\n",
       "      <td>0</td>\n",
       "    </tr>\n",
       "    <tr>\n",
       "      <th>4430185</th>\n",
       "      <td>5.86</td>\n",
       "      <td>0</td>\n",
       "    </tr>\n",
       "    <tr>\n",
       "      <th>4430186</th>\n",
       "      <td>5.86</td>\n",
       "      <td>0</td>\n",
       "    </tr>\n",
       "    <tr>\n",
       "      <th>4430187</th>\n",
       "      <td>5.86</td>\n",
       "      <td>0</td>\n",
       "    </tr>\n",
       "  </tbody>\n",
       "</table>\n",
       "<p>207608 rows × 2 columns</p>\n",
       "</div>"
      ],
      "text/plain": [
       "         errors_mae  label\n",
       "5            431.44      0\n",
       "6         134935.05      0\n",
       "7            431.72      0\n",
       "8         167047.50      0\n",
       "9          83734.32      0\n",
       "...             ...    ...\n",
       "4430183       13.43      0\n",
       "4430184        5.86      0\n",
       "4430185        5.86      0\n",
       "4430186        5.86      0\n",
       "4430187        5.86      0\n",
       "\n",
       "[207608 rows x 2 columns]"
      ]
     },
     "execution_count": 46,
     "metadata": {},
     "output_type": "execute_result"
    }
   ],
   "source": [
    "# Turn off scientific notation for the dataframe\n",
    "pd.set_option.float_format = '{:.2f}'.format\n",
    "\n",
    "# Let's now create a dataframe consisting of the reconstruction error and the labels\n",
    "# The idea is to see how the errors look for anomalies vs normal data\n",
    "df_errors = pd.DataFrame({'errors_mae':errors_mae, 'label': df_conn.label})\n",
    "df_errors"
   ]
  },
  {
   "cell_type": "code",
   "execution_count": 47,
   "metadata": {},
   "outputs": [
    {
     "data": {
      "text/html": [
       "<div>\n",
       "<style scoped>\n",
       "    .dataframe tbody tr th:only-of-type {\n",
       "        vertical-align: middle;\n",
       "    }\n",
       "\n",
       "    .dataframe tbody tr th {\n",
       "        vertical-align: top;\n",
       "    }\n",
       "\n",
       "    .dataframe thead th {\n",
       "        text-align: right;\n",
       "    }\n",
       "</style>\n",
       "<table border=\"1\" class=\"dataframe\">\n",
       "  <thead>\n",
       "    <tr style=\"text-align: right;\">\n",
       "      <th></th>\n",
       "      <th>errors_mae</th>\n",
       "      <th>label</th>\n",
       "    </tr>\n",
       "  </thead>\n",
       "  <tbody>\n",
       "    <tr>\n",
       "      <th>5</th>\n",
       "      <td>431.44</td>\n",
       "      <td>0</td>\n",
       "    </tr>\n",
       "    <tr>\n",
       "      <th>6</th>\n",
       "      <td>134935.05</td>\n",
       "      <td>0</td>\n",
       "    </tr>\n",
       "    <tr>\n",
       "      <th>7</th>\n",
       "      <td>431.72</td>\n",
       "      <td>0</td>\n",
       "    </tr>\n",
       "    <tr>\n",
       "      <th>8</th>\n",
       "      <td>167047.50</td>\n",
       "      <td>0</td>\n",
       "    </tr>\n",
       "    <tr>\n",
       "      <th>9</th>\n",
       "      <td>83734.32</td>\n",
       "      <td>0</td>\n",
       "    </tr>\n",
       "    <tr>\n",
       "      <th>...</th>\n",
       "      <td>...</td>\n",
       "      <td>...</td>\n",
       "    </tr>\n",
       "    <tr>\n",
       "      <th>4430183</th>\n",
       "      <td>13.43</td>\n",
       "      <td>0</td>\n",
       "    </tr>\n",
       "    <tr>\n",
       "      <th>4430184</th>\n",
       "      <td>5.86</td>\n",
       "      <td>0</td>\n",
       "    </tr>\n",
       "    <tr>\n",
       "      <th>4430185</th>\n",
       "      <td>5.86</td>\n",
       "      <td>0</td>\n",
       "    </tr>\n",
       "    <tr>\n",
       "      <th>4430186</th>\n",
       "      <td>5.86</td>\n",
       "      <td>0</td>\n",
       "    </tr>\n",
       "    <tr>\n",
       "      <th>4430187</th>\n",
       "      <td>5.86</td>\n",
       "      <td>0</td>\n",
       "    </tr>\n",
       "  </tbody>\n",
       "</table>\n",
       "<p>207541 rows × 2 columns</p>\n",
       "</div>"
      ],
      "text/plain": [
       "         errors_mae  label\n",
       "5            431.44      0\n",
       "6         134935.05      0\n",
       "7            431.72      0\n",
       "8         167047.50      0\n",
       "9          83734.32      0\n",
       "...             ...    ...\n",
       "4430183       13.43      0\n",
       "4430184        5.86      0\n",
       "4430185        5.86      0\n",
       "4430186        5.86      0\n",
       "4430187        5.86      0\n",
       "\n",
       "[207541 rows x 2 columns]"
      ]
     },
     "execution_count": 47,
     "metadata": {},
     "output_type": "execute_result"
    }
   ],
   "source": [
    "# Create a new dataframe of the reconstruction error of the normal samples\n",
    "df_normal_reconstructed = df_errors[df_errors.label == 0]\n",
    "df_normal_reconstructed"
   ]
  },
  {
   "cell_type": "code",
   "execution_count": 48,
   "metadata": {},
   "outputs": [
    {
     "data": {
      "text/html": [
       "<div>\n",
       "<style scoped>\n",
       "    .dataframe tbody tr th:only-of-type {\n",
       "        vertical-align: middle;\n",
       "    }\n",
       "\n",
       "    .dataframe tbody tr th {\n",
       "        vertical-align: top;\n",
       "    }\n",
       "\n",
       "    .dataframe thead th {\n",
       "        text-align: right;\n",
       "    }\n",
       "</style>\n",
       "<table border=\"1\" class=\"dataframe\">\n",
       "  <thead>\n",
       "    <tr style=\"text-align: right;\">\n",
       "      <th></th>\n",
       "      <th>errors_mae</th>\n",
       "      <th>label</th>\n",
       "    </tr>\n",
       "  </thead>\n",
       "  <tbody>\n",
       "    <tr>\n",
       "      <th>5982</th>\n",
       "      <td>3971518.00</td>\n",
       "      <td>1</td>\n",
       "    </tr>\n",
       "    <tr>\n",
       "      <th>51574</th>\n",
       "      <td>242973.11</td>\n",
       "      <td>1</td>\n",
       "    </tr>\n",
       "    <tr>\n",
       "      <th>55611</th>\n",
       "      <td>467516.94</td>\n",
       "      <td>1</td>\n",
       "    </tr>\n",
       "    <tr>\n",
       "      <th>115226</th>\n",
       "      <td>662248.00</td>\n",
       "      <td>1</td>\n",
       "    </tr>\n",
       "    <tr>\n",
       "      <th>115972</th>\n",
       "      <td>1239710.38</td>\n",
       "      <td>1</td>\n",
       "    </tr>\n",
       "    <tr>\n",
       "      <th>...</th>\n",
       "      <td>...</td>\n",
       "      <td>...</td>\n",
       "    </tr>\n",
       "    <tr>\n",
       "      <th>4032886</th>\n",
       "      <td>290324.97</td>\n",
       "      <td>1</td>\n",
       "    </tr>\n",
       "    <tr>\n",
       "      <th>4052768</th>\n",
       "      <td>359433.22</td>\n",
       "      <td>1</td>\n",
       "    </tr>\n",
       "    <tr>\n",
       "      <th>4070183</th>\n",
       "      <td>479295.91</td>\n",
       "      <td>1</td>\n",
       "    </tr>\n",
       "    <tr>\n",
       "      <th>4192109</th>\n",
       "      <td>207732.22</td>\n",
       "      <td>1</td>\n",
       "    </tr>\n",
       "    <tr>\n",
       "      <th>4216218</th>\n",
       "      <td>592222.50</td>\n",
       "      <td>1</td>\n",
       "    </tr>\n",
       "  </tbody>\n",
       "</table>\n",
       "<p>67 rows × 2 columns</p>\n",
       "</div>"
      ],
      "text/plain": [
       "         errors_mae  label\n",
       "5982     3971518.00      1\n",
       "51574     242973.11      1\n",
       "55611     467516.94      1\n",
       "115226    662248.00      1\n",
       "115972   1239710.38      1\n",
       "...             ...    ...\n",
       "4032886   290324.97      1\n",
       "4052768   359433.22      1\n",
       "4070183   479295.91      1\n",
       "4192109   207732.22      1\n",
       "4216218   592222.50      1\n",
       "\n",
       "[67 rows x 2 columns]"
      ]
     },
     "execution_count": 48,
     "metadata": {},
     "output_type": "execute_result"
    }
   ],
   "source": [
    "# Create a new dataframe of the reconstruction error of the suspicious samples\n",
    "df_suspicious_reconstructed = df_errors[df_errors.label == 1]\n",
    "df_suspicious_reconstructed"
   ]
  },
  {
   "cell_type": "code",
   "execution_count": 49,
   "metadata": {},
   "outputs": [
    {
     "data": {
      "text/html": [
       "<div>\n",
       "<style scoped>\n",
       "    .dataframe tbody tr th:only-of-type {\n",
       "        vertical-align: middle;\n",
       "    }\n",
       "\n",
       "    .dataframe tbody tr th {\n",
       "        vertical-align: top;\n",
       "    }\n",
       "\n",
       "    .dataframe thead th {\n",
       "        text-align: right;\n",
       "    }\n",
       "</style>\n",
       "<table border=\"1\" class=\"dataframe\">\n",
       "  <thead>\n",
       "    <tr style=\"text-align: right;\">\n",
       "      <th></th>\n",
       "      <th>errors_mae</th>\n",
       "      <th>label</th>\n",
       "    </tr>\n",
       "  </thead>\n",
       "  <tbody>\n",
       "    <tr>\n",
       "      <th>count</th>\n",
       "      <td>67.00</td>\n",
       "      <td>67.00</td>\n",
       "    </tr>\n",
       "    <tr>\n",
       "      <th>mean</th>\n",
       "      <td>8049012.50</td>\n",
       "      <td>1.00</td>\n",
       "    </tr>\n",
       "    <tr>\n",
       "      <th>std</th>\n",
       "      <td>37969652.00</td>\n",
       "      <td>0.00</td>\n",
       "    </tr>\n",
       "    <tr>\n",
       "      <th>min</th>\n",
       "      <td>207732.22</td>\n",
       "      <td>1.00</td>\n",
       "    </tr>\n",
       "    <tr>\n",
       "      <th>25%</th>\n",
       "      <td>372843.22</td>\n",
       "      <td>1.00</td>\n",
       "    </tr>\n",
       "    <tr>\n",
       "      <th>50%</th>\n",
       "      <td>662248.00</td>\n",
       "      <td>1.00</td>\n",
       "    </tr>\n",
       "    <tr>\n",
       "      <th>75%</th>\n",
       "      <td>1252358.06</td>\n",
       "      <td>1.00</td>\n",
       "    </tr>\n",
       "    <tr>\n",
       "      <th>max</th>\n",
       "      <td>268924736.00</td>\n",
       "      <td>1.00</td>\n",
       "    </tr>\n",
       "  </tbody>\n",
       "</table>\n",
       "</div>"
      ],
      "text/plain": [
       "        errors_mae  label\n",
       "count        67.00  67.00\n",
       "mean    8049012.50   1.00\n",
       "std    37969652.00   0.00\n",
       "min      207732.22   1.00\n",
       "25%      372843.22   1.00\n",
       "50%      662248.00   1.00\n",
       "75%     1252358.06   1.00\n",
       "max   268924736.00   1.00"
      ]
     },
     "execution_count": 49,
     "metadata": {},
     "output_type": "execute_result"
    }
   ],
   "source": [
    "# Describe the suspicious data\n",
    "df_suspicious_reconstructed.describe()"
   ]
  },
  {
   "cell_type": "code",
   "execution_count": 50,
   "metadata": {},
   "outputs": [
    {
     "data": {
      "text/html": [
       "<div>\n",
       "<style scoped>\n",
       "    .dataframe tbody tr th:only-of-type {\n",
       "        vertical-align: middle;\n",
       "    }\n",
       "\n",
       "    .dataframe tbody tr th {\n",
       "        vertical-align: top;\n",
       "    }\n",
       "\n",
       "    .dataframe thead th {\n",
       "        text-align: right;\n",
       "    }\n",
       "</style>\n",
       "<table border=\"1\" class=\"dataframe\">\n",
       "  <thead>\n",
       "    <tr style=\"text-align: right;\">\n",
       "      <th></th>\n",
       "      <th>errors_mae</th>\n",
       "      <th>label</th>\n",
       "    </tr>\n",
       "  </thead>\n",
       "  <tbody>\n",
       "    <tr>\n",
       "      <th>count</th>\n",
       "      <td>207541.00</td>\n",
       "      <td>207541.00</td>\n",
       "    </tr>\n",
       "    <tr>\n",
       "      <th>mean</th>\n",
       "      <td>54963.20</td>\n",
       "      <td>0.00</td>\n",
       "    </tr>\n",
       "    <tr>\n",
       "      <th>std</th>\n",
       "      <td>2345637.25</td>\n",
       "      <td>0.00</td>\n",
       "    </tr>\n",
       "    <tr>\n",
       "      <th>min</th>\n",
       "      <td>4.14</td>\n",
       "      <td>0.00</td>\n",
       "    </tr>\n",
       "    <tr>\n",
       "      <th>25%</th>\n",
       "      <td>13.43</td>\n",
       "      <td>0.00</td>\n",
       "    </tr>\n",
       "    <tr>\n",
       "      <th>50%</th>\n",
       "      <td>23.15</td>\n",
       "      <td>0.00</td>\n",
       "    </tr>\n",
       "    <tr>\n",
       "      <th>75%</th>\n",
       "      <td>217.58</td>\n",
       "      <td>0.00</td>\n",
       "    </tr>\n",
       "    <tr>\n",
       "      <th>max</th>\n",
       "      <td>334820192.00</td>\n",
       "      <td>0.00</td>\n",
       "    </tr>\n",
       "  </tbody>\n",
       "</table>\n",
       "</div>"
      ],
      "text/plain": [
       "        errors_mae     label\n",
       "count    207541.00 207541.00\n",
       "mean      54963.20      0.00\n",
       "std     2345637.25      0.00\n",
       "min           4.14      0.00\n",
       "25%          13.43      0.00\n",
       "50%          23.15      0.00\n",
       "75%         217.58      0.00\n",
       "max   334820192.00      0.00"
      ]
     },
     "execution_count": 50,
     "metadata": {},
     "output_type": "execute_result"
    }
   ],
   "source": [
    "# Get the statistics on the normal reconstructed data\n",
    "df_normal_reconstructed.describe()"
   ]
  },
  {
   "cell_type": "code",
   "execution_count": 51,
   "metadata": {},
   "outputs": [],
   "source": [
    "# We can see clearly from above, the reconstruction errors for the suspicious traffic is \n",
    "# significantly higher when compared to the normal traffic"
   ]
  },
  {
   "cell_type": "code",
   "execution_count": 52,
   "metadata": {},
   "outputs": [
    {
     "data": {
      "text/plain": [
       "(array([47], dtype=int64), array([0], dtype=int64))"
      ]
     },
     "execution_count": 52,
     "metadata": {},
     "output_type": "execute_result"
    }
   ],
   "source": [
    "# Find the index location of that record where the highest value exists in the suspicious dataframe\n",
    "np.where(df_suspicious_reconstructed.values == df_suspicious_reconstructed.values.max())"
   ]
  },
  {
   "cell_type": "code",
   "execution_count": 53,
   "metadata": {},
   "outputs": [
    {
     "data": {
      "text/plain": [
       "tensor([9.1878e-06, 3.2633e+00, 1.4863e-05, 3.6407e-05, 4.6834e-06, 5.4254e-05,\n",
       "        4.8458e-05])"
      ]
     },
     "execution_count": 53,
     "metadata": {},
     "output_type": "execute_result"
    }
   ],
   "source": [
    "# Get the value of the record at that index position\n",
    "df_suspicious[47]"
   ]
  },
  {
   "cell_type": "code",
   "execution_count": 54,
   "metadata": {},
   "outputs": [
    {
     "data": {
      "text/plain": [
       "array([[3.06013998e-01, 1.88241288e+09, 3.11830005e+04, 9.99999966e+00,\n",
       "        1.05500004e+03, 3.10000004e+01, 2.80510009e+04]])"
      ]
     },
     "execution_count": 54,
     "metadata": {},
     "output_type": "execute_result"
    }
   ],
   "source": [
    "# Keep in mind though, abov represents the previous scaled data\n",
    "# Inverting the scaling process\n",
    "min_max_scaler.inverse_transform(df_suspicious[47].reshape(1, -1))"
   ]
  },
  {
   "cell_type": "code",
   "execution_count": 55,
   "metadata": {},
   "outputs": [
    {
     "data": {
      "image/png": "[encoded data removed]",
      "text/plain": [
       "<Figure size 1000x500 with 2 Axes>"
      ]
     },
     "metadata": {},
     "output_type": "display_data"
    }
   ],
   "source": [
    "# Plot histograms of the normal and suspicious reconstruction error\n",
    "fig, ax = plt.subplots(ncols=2, nrows=1, figsize=(10,5))\n",
    "\n",
    "plt.suptitle('Reconstruction error of \\n normal vs suspicious samples on the full dataset')\n",
    "ax[0].hist(df_normal_reconstructed, bins=10)\n",
    "ax[0].set_title('Normal Reconstruction Error')\n",
    "ax[0].set_xlabel('Range of Values')\n",
    "ax[0].set_ylabel('Number of items in the bin')\n",
    "\n",
    "ax[1].hist(df_suspicious_reconstructed, bins=10)\n",
    "ax[1].set_title('Suspicious Reconstruction Error')\n",
    "ax[1].set_xlabel('Range of Values')\n",
    "ax[1].set_ylabel('Number of items in the bin')\n",
    "plt.tight_layout()\n",
    "\n",
    "plt.show()"
   ]
  },
  {
   "cell_type": "code",
   "execution_count": 56,
   "metadata": {},
   "outputs": [
    {
     "data": {
      "text/plain": [
       "2400600.5"
      ]
     },
     "execution_count": 56,
     "metadata": {},
     "output_type": "execute_result"
    }
   ],
   "source": [
    "# Defining a reconstruction error threshold that can help us discriminate between normal and suspicious activity\n",
    "# Keep in mind, your domain knowledge comes heavily into play here.\n",
    "# Set the threshold too low and you get a number of false positives\n",
    "# Set the threshold too high and you get false negatives\n",
    "# This is a game of give and take. \n",
    "# What are you willing to give and what are you willing to take?\n",
    "# My recommendation,be ready to accept false positives rather than false negatives\n",
    "# Mine is set to one standard deviation above the mean\n",
    "threshold = df_normal_reconstructed.errors_mae.mean() + df_normal_reconstructed.errors_mae.std()\n",
    "threshold"
   ]
  },
  {
   "cell_type": "code",
   "execution_count": 57,
   "metadata": {},
   "outputs": [
    {
     "data": {
      "text/plain": [
       "tensor([True, True, True,  ..., True, True, True])"
      ]
     },
     "execution_count": 57,
     "metadata": {},
     "output_type": "execute_result"
    }
   ],
   "source": [
    "# We've done a lot so far. But how is the model performing\n",
    "\n",
    "# Get the reconstruction error of the entire dataset\n",
    "with torch.inference_mode():\n",
    "    reconstruction_error = autoencoder(df_conn_as_tensor)\n",
    "\n",
    "# Get the loss\n",
    "reconstruction_loss = torch.mean(mae_loss_fn(df_conn_as_tensor, reconstruction_error ), dim=1)\n",
    "#reconstruction_loss\n",
    "\n",
    "# Calculate if the values in our reconstruction loss is less than our threshold\n",
    "# https://pytorch.org/docs/stable/generated/torch.less.html\n",
    "loss_less_threshold = torch.less(input=reconstruction_loss, other=threshold)\n",
    "loss_less_threshold"
   ]
  },
  {
   "cell_type": "code",
   "execution_count": 58,
   "metadata": {},
   "outputs": [
    {
     "data": {
      "text/plain": [
       "(torch.Size([207608, 7]),\n",
       " (207541,),\n",
       " tensor([True, True, True,  ..., True, True, True]))"
      ]
     },
     "execution_count": 58,
     "metadata": {},
     "output_type": "execute_result"
    }
   ],
   "source": [
    "# Get the shape of the two arrays\n",
    "df_conn_as_tensor.shape, df_normal_labels.shape, loss_less_threshold"
   ]
  },
  {
   "cell_type": "code",
   "execution_count": 59,
   "metadata": {},
   "outputs": [
    {
     "data": {
      "text/plain": [
       "(array([0, 1]), array([   115, 207493], dtype=int64))"
      ]
     },
     "execution_count": 59,
     "metadata": {},
     "output_type": "execute_result"
    }
   ],
   "source": [
    "# Get a count of the values\n",
    "np.unique(loss_less_threshold.numpy().astype('int'), return_counts=True)"
   ]
  },
  {
   "cell_type": "code",
   "execution_count": 60,
   "metadata": {},
   "outputs": [],
   "source": [
    "# How did our model do for training\n",
    "# import some metrics\n",
    "from sklearn.metrics import accuracy_score, precision_score, confusion_matrix, \\\n",
    "    precision_recall_curve, auc, classification_report, roc_curve"
   ]
  },
  {
   "cell_type": "code",
   "execution_count": 61,
   "metadata": {},
   "outputs": [
    {
     "data": {
      "text/plain": [
       "0.0007706832106662557"
      ]
     },
     "execution_count": 61,
     "metadata": {},
     "output_type": "execute_result"
    }
   ],
   "source": [
    "# Get the accuracy score. \n",
    "# Keep in mind, the problem we are solving here is not a classification problem\n",
    "# note these values are terrible. However, this is of little concern to me at this time\n",
    "# Why? Because this is for learning purpose, not prediction\n",
    "# Besides, \"All models are wrong, some are useful\"\n",
    "# https://en.wikipedia.org/wiki/All_models_are_wrong\n",
    "# Maybe along the way we will find an algorithm that allows us to build a useful model\n",
    "accuracy_score(y_true=df_errors.label, y_pred=loss_less_threshold)"
   ]
  },
  {
   "cell_type": "code",
   "execution_count": 62,
   "metadata": {},
   "outputs": [
    {
     "data": {
      "text/plain": [
       "0.9827176748460491"
      ]
     },
     "execution_count": 62,
     "metadata": {},
     "output_type": "execute_result"
    }
   ],
   "source": [
    "# Get the True and false positive rate along with the threshold\n",
    "# https://venelinvalkov.medium.com/credit-card-fraud-detection-using-autoencoders-in-keras-tensorflow-for-hackers-part-vii-20e0c85301bd\n",
    "false_positive_rate, true_positive_rate, thresholds =  roc_curve(y_true=df_errors.label, \n",
    "                                                                 y_score=df_errors.errors_mae)\n",
    "\n",
    "# Get the Area Under the Curve (AUC) Score\n",
    "auc(false_positive_rate, true_positive_rate)"
   ]
  },
  {
   "cell_type": "code",
   "execution_count": 63,
   "metadata": {},
   "outputs": [
    {
     "data": {
      "image/png": "[encoded data removed]",
      "text/plain": [
       "<Figure size 640x480 with 1 Axes>"
      ]
     },
     "metadata": {},
     "output_type": "display_data"
    }
   ],
   "source": [
    "# Plot the Receiver Operating Characteristics (ROC) Curve\n",
    "# Ths shows the true vs false positive rate across different thresholds values\n",
    "# This curve does look good as it is further to the top left. \n",
    "# This is actually the type of ROC curve you want to see\n",
    "# Keep in mind this is \"mostly\" used with binary classification. \n",
    "# This is not a binary classification problem but the ROC is being used to understand our model, not to \"classify\" the data\n",
    "# https://www.displayr.com/what-is-a-roc-curve-how-to-interpret-it/\n",
    "plt.title('Receiver Operating Characteristics (ROC) Curve')\n",
    "plt.plot(false_positive_rate, true_positive_rate, lw=3, label=f'AUC {round(auc(false_positive_rate, true_positive_rate), 2)}', \n",
    "         c='g')\n",
    "plt.plot([0,1], ls='--', c='r')\n",
    "plt.ylabel('True Positive Rate (sensitivity)')\n",
    "plt.xlabel('False Positive Rate (specificity)')\n",
    "plt.legend(loc='best')\n",
    "plt.show()"
   ]
  },
  {
   "cell_type": "code",
   "execution_count": 64,
   "metadata": {},
   "outputs": [
    {
     "data": {
      "text/plain": [
       "<matplotlib.legend.Legend at 0x19200a03640>"
      ]
     },
     "execution_count": 64,
     "metadata": {},
     "output_type": "execute_result"
    },
    {
     "data": {
      "image/png": "[encoded data removed]",
      "text/plain": [
       "<Figure size 640x480 with 1 Axes>"
      ]
     },
     "metadata": {},
     "output_type": "display_data"
    }
   ],
   "source": [
    "# Plot a precision recall curve\n",
    "precison, recall, thresh = precision_recall_curve(df_errors.label, df_errors.errors_mae)\n",
    "plt.title('Plot of Precision vs Recall')\n",
    "plt.plot(recall, precison, 'b', lw=3, label='precision recall')\n",
    "plt.xlabel('recall')\n",
    "plt.ylabel('precision')\n",
    "plt.legend()"
   ]
  },
  {
   "cell_type": "code",
   "execution_count": 65,
   "metadata": {},
   "outputs": [
    {
     "data": {
      "text/plain": [
       "Text(0, 0.5, 'Precision')"
      ]
     },
     "execution_count": 65,
     "metadata": {},
     "output_type": "execute_result"
    },
    {
     "data": {
      "image/png": "[encoded data removed]",
      "text/plain": [
       "<Figure size 640x480 with 1 Axes>"
      ]
     },
     "metadata": {},
     "output_type": "display_data"
    }
   ],
   "source": [
    "# Plot the precision vs thresholds\n",
    "# Looks like once the reconstruction error goes to over \n",
    "plt.title('Precision vs Threshold')\n",
    "plt.plot(thresh, precison[1:], lw=3, label='precision vs threshold')\n",
    "plt.xlabel('Threshold - Reconstruction Error')\n",
    "plt.ylabel('Precision')"
   ]
  },
  {
   "cell_type": "code",
   "execution_count": 66,
   "metadata": {},
   "outputs": [
    {
     "data": {
      "text/html": [
       "<div>\n",
       "<style scoped>\n",
       "    .dataframe tbody tr th:only-of-type {\n",
       "        vertical-align: middle;\n",
       "    }\n",
       "\n",
       "    .dataframe tbody tr th {\n",
       "        vertical-align: top;\n",
       "    }\n",
       "\n",
       "    .dataframe thead th {\n",
       "        text-align: right;\n",
       "    }\n",
       "</style>\n",
       "<table border=\"1\" class=\"dataframe\">\n",
       "  <thead>\n",
       "    <tr style=\"text-align: right;\">\n",
       "      <th></th>\n",
       "      <th>errors_mae</th>\n",
       "      <th>label</th>\n",
       "    </tr>\n",
       "  </thead>\n",
       "  <tbody>\n",
       "    <tr>\n",
       "      <th>3593245</th>\n",
       "      <td>300095040.00</td>\n",
       "      <td>0</td>\n",
       "    </tr>\n",
       "    <tr>\n",
       "      <th>3593400</th>\n",
       "      <td>334820192.00</td>\n",
       "      <td>0</td>\n",
       "    </tr>\n",
       "  </tbody>\n",
       "</table>\n",
       "</div>"
      ],
      "text/plain": [
       "          errors_mae  label\n",
       "3593245 300095040.00      0\n",
       "3593400 334820192.00      0"
      ]
     },
     "execution_count": 66,
     "metadata": {},
     "output_type": "execute_result"
    }
   ],
   "source": [
    "# As the reconstruction error goes over 3e8, then is when the precision is the highest\n",
    "# Finding those records where the reconstruction error is greater than 3e8 or 300000000.0\n",
    "df_errors[df_errors.errors_mae > 3e8]"
   ]
  },
  {
   "cell_type": "code",
   "execution_count": 67,
   "metadata": {},
   "outputs": [
    {
     "data": {
      "text/plain": [
       "Text(0, 0.5, 'Recall')"
      ]
     },
     "execution_count": 67,
     "metadata": {},
     "output_type": "execute_result"
    },
    {
     "data": {
      "image/png": "[encoded data removed]",
      "text/plain": [
       "<Figure size 640x480 with 1 Axes>"
      ]
     },
     "metadata": {},
     "output_type": "display_data"
    }
   ],
   "source": [
    "# only two records :-(\n",
    "\n",
    "# Plot the recall vs thresholds\n",
    "# Looks like once the reconstruction error goes to over \n",
    "plt.title('Recall vs Threshold')\n",
    "plt.plot(thresh, recall[1:], lw=3, label='Recall vs threshold')\n",
    "plt.xlabel('Threshold - Reconstruction Error')\n",
    "plt.ylabel('Recall')"
   ]
  },
  {
   "cell_type": "code",
   "execution_count": 68,
   "metadata": {},
   "outputs": [],
   "source": [
    "# As the threshold increases, the recall becomes lower. \n",
    "# This is obviously the opposite of what was seen above with the precision vs threshold"
   ]
  },
  {
   "cell_type": "code",
   "execution_count": 69,
   "metadata": {},
   "outputs": [
    {
     "data": {
      "text/plain": [
       "0.0002698886227487192"
      ]
     },
     "execution_count": 69,
     "metadata": {},
     "output_type": "execute_result"
    }
   ],
   "source": [
    "# Get the precision\n",
    "precision_score(y_true=df_errors.label, y_pred=loss_less_threshold)"
   ]
  },
  {
   "cell_type": "code",
   "execution_count": 70,
   "metadata": {},
   "outputs": [],
   "source": [
    "# import seaborn\n",
    "# https://seaborn.pydata.org/generated/seaborn.heatmap.html\n",
    "import seaborn as sns"
   ]
  },
  {
   "cell_type": "code",
   "execution_count": 71,
   "metadata": {},
   "outputs": [
    {
     "data": {
      "image/png": "[encoded data removed]",
      "text/plain": [
       "<Figure size 640x480 with 2 Axes>"
      ]
     },
     "metadata": {},
     "output_type": "display_data"
    }
   ],
   "source": [
    "# Looking at the confusion matrix, clearly this model has way too much false positives\n",
    "# Maybe we can do a better job at setting a different threshold\n",
    "# However, as said above, we are here for learning purposes\n",
    "# Most importantly, we are not attempting to solve a classification problem\n",
    "# This is being used for anomaly detection\n",
    "# Thus the confusion matrix is just to give us insights into what our threshold looks like at present\n",
    "sns.heatmap(confusion_matrix(y_true=df_errors.label, y_pred=loss_less_threshold), annot=True, fmt='d')\n",
    "plt.title('Confusion Matrix')\n",
    "plt.xlabel('Predicted')\n",
    "plt.ylabel('Actual')\n",
    "plt.show()"
   ]
  },
  {
   "cell_type": "code",
   "execution_count": 72,
   "metadata": {},
   "outputs": [
    {
     "name": "stdout",
     "output_type": "stream",
     "text": [
      "              precision    recall  f1-score   support\n",
      "\n",
      "           0       0.90      0.00      0.00    207541\n",
      "           1       0.00      0.84      0.00        67\n",
      "\n",
      "    accuracy                           0.00    207608\n",
      "   macro avg       0.45      0.42      0.00    207608\n",
      "weighted avg       0.90      0.00      0.00    207608\n",
      "\n"
     ]
    }
   ],
   "source": [
    "# Imagine working in a SOC and you have to deal with all these false positives. \n",
    "# My gosh, this would make our job so much harder\n",
    "\n",
    "# If you wish to understand these metrics more, see\n",
    "#   10. Beginning Supervise Learning - Machine Learning - Logistic Regression, Decision Trees and Metrics\n",
    "\n",
    "# Thankfully this is not a classification problem we are trying to solve. \n",
    "# if it was, these outputs are really ... well want for a better word ... terrible\n",
    "print(classification_report(y_true=df_errors.label, y_pred=loss_less_threshold))"
   ]
  },
  {
   "cell_type": "code",
   "execution_count": 73,
   "metadata": {},
   "outputs": [
    {
     "data": {
      "text/plain": [
       "tensor([[1.4100e+02, 3.5614e+08, 1.1037e+07, 6.0000e+01, 3.0267e+06, 3.3000e+01,\n",
       "         9.8258e+05]], dtype=torch.float64)"
      ]
     },
     "execution_count": 73,
     "metadata": {},
     "output_type": "execute_result"
    }
   ],
   "source": [
    "# With the threshold define, let's say a record comes in with the following values\n",
    "# Let's define a sample with the features values: \n",
    "# duration\torig_bytes\tresp_bytes\torig_pkts\torig_ip_bytes\tresp_pkts\tresp_ip_bytes\n",
    "new_sample = torch.tensor([[141., 356138566,\t11037090, 60, 3026679, 33, 982584]], dtype=float)\n",
    "new_sample"
   ]
  },
  {
   "cell_type": "code",
   "execution_count": 74,
   "metadata": {},
   "outputs": [
    {
     "data": {
      "text/plain": [
       "tensor([53026450.4283], dtype=torch.float64)"
      ]
     },
     "execution_count": 74,
     "metadata": {},
     "output_type": "execute_result"
    }
   ],
   "source": [
    "# Make a prediction on the sample\n",
    "# Remember, we need to pass the data through the similar process we did for training\n",
    "# Hence, this data is being transformed\n",
    "with torch.inference_mode():\n",
    "    new_sample_pred = autoencoder(torch.tensor(min_max_scaler.transform(new_sample), dtype=torch.float))\n",
    "\n",
    "#new_sample_pred\n",
    "new_sample_loss = mae_loss_fn(torch.mean(new_sample_pred, dim=1), torch.mean(new_sample, dim=1))\n",
    "new_sample_loss"
   ]
  },
  {
   "cell_type": "code",
   "execution_count": 75,
   "metadata": {},
   "outputs": [],
   "source": [
    "# Import datetime library\n",
    "from datetime import datetime"
   ]
  },
  {
   "cell_type": "code",
   "execution_count": 76,
   "metadata": {},
   "outputs": [
    {
     "data": {
      "text/plain": [
       "'2023-05-24 18:45:47.383797 - [!] ALERT ** SUSPICIOUS ACTIVITY ** Zeek conn.log entry Threshold Exceeded'"
      ]
     },
     "execution_count": 76,
     "metadata": {},
     "output_type": "execute_result"
    }
   ],
   "source": [
    "# Write some code to trigger an alert when a sample's reconstruction error passes our threshold\n",
    "f'{datetime.now()} - [!] ALERT ** SUSPICIOUS ACTIVITY ** Zeek conn.log entry Threshold Exceeded' \\\n",
    "    if new_sample_loss > threshold  else \"[**] Normal Traffic\""
   ]
  },
  {
   "cell_type": "code",
   "execution_count": 77,
   "metadata": {},
   "outputs": [],
   "source": [
    "# Import the os library\n",
    "import os"
   ]
  },
  {
   "cell_type": "code",
   "execution_count": 78,
   "metadata": {},
   "outputs": [],
   "source": [
    "# As always, before, we go, let's save the model\n",
    "# With the machine learning models, joblib was used\n",
    "# In this case, I leverage Keras built in utilities for saving models\n",
    "#   https://pytorch.org/tutorials/beginner/saving_loading_models.html\n",
    "PATH = './SAVED_MODELS/PYTORCH_AUTOENCODER/'\n",
    "MODELS_PATH = os.makedirs(name=PATH, exist_ok=True)\n",
    "\n",
    "torch.save(autoencoder.state_dict(), f'{PATH}/pytorch_autoencoder.pt')"
   ]
  },
  {
   "cell_type": "code",
   "execution_count": 79,
   "metadata": {},
   "outputs": [
    {
     "data": {
      "text/plain": [
       "<All keys matched successfully>"
      ]
     },
     "execution_count": 79,
     "metadata": {},
     "output_type": "execute_result"
    }
   ],
   "source": [
    "# With the model saved, time to load it\n",
    "loaded_torch_autoencoder = AnomalyDetection()\n",
    "loaded_torch_autoencoder.load_state_dict(torch.load(f'{PATH}/pytorch_autoencoder.pt'))"
   ]
  },
  {
   "cell_type": "code",
   "execution_count": 80,
   "metadata": {},
   "outputs": [
    {
     "data": {
      "text/plain": [
       "AnomalyDetection(\n",
       "  (encoder): Sequential(\n",
       "    (0): Linear(in_features=7, out_features=4, bias=True)\n",
       "    (1): ReLU()\n",
       "    (2): Linear(in_features=4, out_features=2, bias=True)\n",
       "  )\n",
       "  (decoder): Sequential(\n",
       "    (0): Linear(in_features=2, out_features=4, bias=True)\n",
       "    (1): ReLU()\n",
       "    (2): Linear(in_features=4, out_features=7, bias=True)\n",
       "    (3): Sigmoid()\n",
       "  )\n",
       ")"
      ]
     },
     "execution_count": 80,
     "metadata": {},
     "output_type": "execute_result"
    }
   ],
   "source": [
    "# With the keys loaded successfully, place the model in eval model\n",
    "loaded_torch_autoencoder.eval()"
   ]
  },
  {
   "cell_type": "code",
   "execution_count": 81,
   "metadata": {},
   "outputs": [
    {
     "data": {
      "text/plain": [
       "'2023-05-24 18:45:47.823114 - [!] ALERT ** SUSPICIOUS ACTIVITY ** Zeek conn.log entry Threshold Exceeded'"
      ]
     },
     "execution_count": 81,
     "metadata": {},
     "output_type": "execute_result"
    }
   ],
   "source": [
    "# Make a prediction with the loaded model\n",
    "loaded_prediction_mae = torch.mean(mae_loss_fn(new_sample, \\\n",
    "                                               loaded_torch_autoencoder(torch.tensor(min_max_scaler.transform(new_sample), \\\n",
    "                                                                                     dtype=torch.float))), dim=1)\n",
    "loaded_prediction_mae\n",
    "\n",
    "\n",
    "# Print the information as a log\n",
    "f'{datetime.now()} - [!] ALERT ** SUSPICIOUS ACTIVITY ** Zeek conn.log entry Threshold Exceeded' \\\n",
    "    if loaded_prediction_mae > threshold  else \"[**] Normal Traffic\""
   ]
  },
  {
   "cell_type": "code",
   "execution_count": null,
   "metadata": {},
   "outputs": [],
   "source": [
    "# Moving on!"
   ]
  },
  {
   "attachments": {},
   "cell_type": "markdown",
   "metadata": {},
   "source": [
    "Additional References and good reads: <br>\n",
    "https://www.tensorflow.org/tutorials/generative/autoencoder <br>\n",
    "https://www.youtube.com/watch?v=2K3ScZp1dXQ <br>\n",
    "https://ieeexplore.ieee.org/stamp/stamp.jsp?tp=&arnumber=9684419 <br>\n",
    "https://www.mdpi.com/1424-8220/21/13/4294 <br>\n",
    "https://ieeexplore.ieee.org/document/9647639 <br>\n",
    "https://www.deeplearningbook.org/contents/autoencoders.html <br>\n",
    "https://web.stanford.edu/class/cs294a/sparseAutoencoder.pdf <br>\n",
    "https://www.youtube.com/watch?v=vfnxKO2rMq4 <br>\n",
    "https://www.youtube.com/watch?v=wqhZaWR-J94 <br>\n",
    "https://www.youtube.com/watch?v=q222maQaPYo <br>\n",
    "\n",
    "\n",
    "https://learnopencv.com/autoencoder-in-tensorflow-2-beginners-guide/ <br>\n",
    "https://anomagram.fastforwardlabs.com/#/ <br>\n",
    "https://www.mdpi.com/1424-8220/21/19/6679 <br>\n",
    "https://aws.amazon.com/blogs/machine-learning/deploying-variational-autoencoders-for-anomaly-detection-with-tensorflow-serving-on-amazon-sagemaker/ <br>\n",
    "https://learnopencv.com/autoencoder-in-tensorflow-2-beginners-guide/ <br>\n",
    "https://citeseerx.ist.psu.edu/viewdoc/download?doi=10.1.1.459.3788&rep=rep1&type=pdf <br>\n",
    "https://www.youtube.com/watch?v=FzS3tMl4Nsc <br>\n",
    "https://www.youtube.com/watch?v=xTU79Zs4XKY <br>"
   ]
  }
 ],
 "metadata": {
  "kernelspec": {
   "display_name": "main-env",
   "language": "python",
   "name": "python3"
  },
  "language_info": {
   "codemirror_mode": {
    "name": "ipython",
    "version": 3
   },
   "file_extension": ".py",
   "mimetype": "text/x-python",
   "name": "python",
   "nbconvert_exporter": "python",
   "pygments_lexer": "ipython3",
   "version": "3.10.11"
  },
  "orig_nbformat": 4,
  "vscode": {
   "interpreter": {
    "hash": "dcb100998b7ef434a33dbfac35f576e40d01f04c34d9ff6f6aad819b8a88c169"
   }
  }
 },
 "nbformat": 4,
 "nbformat_minor": 2
}
